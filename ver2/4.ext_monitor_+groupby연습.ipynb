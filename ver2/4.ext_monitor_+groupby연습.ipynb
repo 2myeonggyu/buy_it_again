{
 "cells": [
  {
   "cell_type": "code",
   "execution_count": 12,
   "metadata": {},
   "outputs": [],
   "source": [
    "import pandas as pd\n",
    "import numpy as np\n",
    "import matplotlib.pyplot as plt\n",
    "import random\n",
    "import scipy.stats as stats"
   ]
  },
  {
   "cell_type": "code",
   "execution_count": 13,
   "metadata": {},
   "outputs": [
    {
     "data": {
      "text/plain": [
       "'/Users/we/Downloads/업무/buy it again_분석 /ver2'"
      ]
     },
     "execution_count": 13,
     "metadata": {},
     "output_type": "execute_result"
    }
   ],
   "source": [
    "import os\n",
    "os.getcwd()"
   ]
  },
  {
   "cell_type": "code",
   "execution_count": 14,
   "metadata": {},
   "outputs": [],
   "source": [
    "ext_monitor = pd.read_csv('../ext_monitor.csv')"
   ]
  },
  {
   "cell_type": "code",
   "execution_count": 15,
   "metadata": {},
   "outputs": [
    {
     "data": {
      "text/plain": [
       "(1583, 7)"
      ]
     },
     "execution_count": 15,
     "metadata": {},
     "output_type": "execute_result"
    }
   ],
   "source": [
    "ext_monitor.shape"
   ]
  },
  {
   "cell_type": "code",
   "execution_count": 16,
   "metadata": {
    "scrolled": true
   },
   "outputs": [
    {
     "data": {
      "text/html": [
       "<div>\n",
       "<style scoped>\n",
       "    .dataframe tbody tr th:only-of-type {\n",
       "        vertical-align: middle;\n",
       "    }\n",
       "\n",
       "    .dataframe tbody tr th {\n",
       "        vertical-align: top;\n",
       "    }\n",
       "\n",
       "    .dataframe thead th {\n",
       "        text-align: right;\n",
       "    }\n",
       "</style>\n",
       "<table border=\"1\" class=\"dataframe\">\n",
       "  <thead>\n",
       "    <tr style=\"text-align: right;\">\n",
       "      <th></th>\n",
       "      <th>Unnamed: 0</th>\n",
       "      <th>biz_dt</th>\n",
       "      <th>mid</th>\n",
       "      <th>price</th>\n",
       "      <th>prodNo</th>\n",
       "      <th>dcateCd</th>\n",
       "      <th>dcateNm</th>\n",
       "    </tr>\n",
       "  </thead>\n",
       "  <tbody>\n",
       "    <tr>\n",
       "      <th>0</th>\n",
       "      <td>463</td>\n",
       "      <td>2018-07-30 18:24:35</td>\n",
       "      <td>24186071</td>\n",
       "      <td>96900</td>\n",
       "      <td>101376413</td>\n",
       "      <td>4104294</td>\n",
       "      <td>이외 브랜드</td>\n",
       "    </tr>\n",
       "    <tr>\n",
       "      <th>1</th>\n",
       "      <td>171</td>\n",
       "      <td>2018-08-01 00:05:39</td>\n",
       "      <td>6973887</td>\n",
       "      <td>209000</td>\n",
       "      <td>100639808</td>\n",
       "      <td>4104294</td>\n",
       "      <td>이외 브랜드</td>\n",
       "    </tr>\n",
       "    <tr>\n",
       "      <th>2</th>\n",
       "      <td>172</td>\n",
       "      <td>2018-08-01 00:06:44</td>\n",
       "      <td>16412994</td>\n",
       "      <td>209000</td>\n",
       "      <td>100639808</td>\n",
       "      <td>4104294</td>\n",
       "      <td>이외 브랜드</td>\n",
       "    </tr>\n",
       "    <tr>\n",
       "      <th>3</th>\n",
       "      <td>707</td>\n",
       "      <td>2018-08-01 01:37:21</td>\n",
       "      <td>21777114</td>\n",
       "      <td>269000</td>\n",
       "      <td>100515472</td>\n",
       "      <td>4104294</td>\n",
       "      <td>이외 브랜드</td>\n",
       "    </tr>\n",
       "    <tr>\n",
       "      <th>4</th>\n",
       "      <td>295</td>\n",
       "      <td>2018-08-01 09:34:35</td>\n",
       "      <td>5003017</td>\n",
       "      <td>204000</td>\n",
       "      <td>100342481</td>\n",
       "      <td>4104294</td>\n",
       "      <td>이외 브랜드</td>\n",
       "    </tr>\n",
       "  </tbody>\n",
       "</table>\n",
       "</div>"
      ],
      "text/plain": [
       "   Unnamed: 0               biz_dt       mid   price     prodNo  dcateCd  \\\n",
       "0         463  2018-07-30 18:24:35  24186071   96900  101376413  4104294   \n",
       "1         171  2018-08-01 00:05:39   6973887  209000  100639808  4104294   \n",
       "2         172  2018-08-01 00:06:44  16412994  209000  100639808  4104294   \n",
       "3         707  2018-08-01 01:37:21  21777114  269000  100515472  4104294   \n",
       "4         295  2018-08-01 09:34:35   5003017  204000  100342481  4104294   \n",
       "\n",
       "  dcateNm  \n",
       "0  이외 브랜드  \n",
       "1  이외 브랜드  \n",
       "2  이외 브랜드  \n",
       "3  이외 브랜드  \n",
       "4  이외 브랜드  "
      ]
     },
     "execution_count": 16,
     "metadata": {},
     "output_type": "execute_result"
    }
   ],
   "source": [
    "ext_monitor.head()"
   ]
  },
  {
   "cell_type": "code",
   "execution_count": 17,
   "metadata": {},
   "outputs": [
    {
     "data": {
      "text/plain": [
       "244099.21604548325"
      ]
     },
     "execution_count": 17,
     "metadata": {},
     "output_type": "execute_result"
    }
   ],
   "source": [
    "ext_monitor.price.mean()"
   ]
  },
  {
   "cell_type": "code",
   "execution_count": 18,
   "metadata": {},
   "outputs": [
    {
     "data": {
      "text/plain": [
       "(1583,)"
      ]
     },
     "execution_count": 18,
     "metadata": {},
     "output_type": "execute_result"
    }
   ],
   "source": [
    "ext_monitor.mid.shape  # 거래 건수"
   ]
  },
  {
   "cell_type": "code",
   "execution_count": 19,
   "metadata": {},
   "outputs": [
    {
     "data": {
      "text/plain": [
       "1423"
      ]
     },
     "execution_count": 19,
     "metadata": {},
     "output_type": "execute_result"
    }
   ],
   "source": [
    "ext_monitor.mid.nunique()"
   ]
  },
  {
   "cell_type": "code",
   "execution_count": 20,
   "metadata": {
    "scrolled": true
   },
   "outputs": [
    {
     "data": {
      "text/plain": [
       "0       False\n",
       "1       False\n",
       "2       False\n",
       "3       False\n",
       "4       False\n",
       "5       False\n",
       "6       False\n",
       "7        True\n",
       "8       False\n",
       "9       False\n",
       "10      False\n",
       "11      False\n",
       "12      False\n",
       "13      False\n",
       "14      False\n",
       "15      False\n",
       "16       True\n",
       "17      False\n",
       "18      False\n",
       "19      False\n",
       "20      False\n",
       "21      False\n",
       "22      False\n",
       "23      False\n",
       "24      False\n",
       "25      False\n",
       "26      False\n",
       "27      False\n",
       "28      False\n",
       "29      False\n",
       "        ...  \n",
       "1553    False\n",
       "1554    False\n",
       "1555    False\n",
       "1556    False\n",
       "1557    False\n",
       "1558    False\n",
       "1559    False\n",
       "1560    False\n",
       "1561    False\n",
       "1562    False\n",
       "1563    False\n",
       "1564    False\n",
       "1565    False\n",
       "1566    False\n",
       "1567     True\n",
       "1568    False\n",
       "1569    False\n",
       "1570    False\n",
       "1571    False\n",
       "1572    False\n",
       "1573    False\n",
       "1574    False\n",
       "1575    False\n",
       "1576    False\n",
       "1577    False\n",
       "1578    False\n",
       "1579    False\n",
       "1580     True\n",
       "1581    False\n",
       "1582    False\n",
       "Name: mid, Length: 1583, dtype: bool"
      ]
     },
     "execution_count": 20,
     "metadata": {},
     "output_type": "execute_result"
    }
   ],
   "source": [
    "ext_monitor.mid.duplicated()"
   ]
  },
  {
   "cell_type": "code",
   "execution_count": 21,
   "metadata": {},
   "outputs": [
    {
     "data": {
      "text/plain": [
       "0     24186071\n",
       "1      6973887\n",
       "2     16412994\n",
       "3     21777114\n",
       "4      5003017\n",
       "5     20962442\n",
       "6      3818011\n",
       "7      3818011\n",
       "8      4362790\n",
       "9     21280380\n",
       "10     9661634\n",
       "11    25098892\n",
       "12    25356830\n",
       "13    22051024\n",
       "14     3918051\n",
       "15     4400719\n",
       "16     4400719\n",
       "17    21550749\n",
       "18    22384158\n",
       "19     9971663\n",
       "20     2158320\n",
       "21     9369025\n",
       "22    20813781\n",
       "23    19993361\n",
       "24    24707920\n",
       "25     5176775\n",
       "26     3520669\n",
       "27     2481283\n",
       "28    15874208\n",
       "29     9337511\n",
       "Name: mid, dtype: int64"
      ]
     },
     "execution_count": 21,
     "metadata": {},
     "output_type": "execute_result"
    }
   ],
   "source": [
    "ext_monitor.mid[:30] # 15,16처럼 반복 구매를 집계하기위한 RCP"
   ]
  },
  {
   "cell_type": "code",
   "execution_count": 22,
   "metadata": {},
   "outputs": [
    {
     "data": {
      "text/plain": [
       "1423"
      ]
     },
     "execution_count": 22,
     "metadata": {},
     "output_type": "execute_result"
    }
   ],
   "source": [
    "ext_monitor.mid.drop_duplicates().shape[0] # distinct user"
   ]
  },
  {
   "cell_type": "code",
   "execution_count": 23,
   "metadata": {},
   "outputs": [
    {
     "data": {
      "text/plain": [
       "128"
      ]
     },
     "execution_count": 23,
     "metadata": {},
     "output_type": "execute_result"
    }
   ],
   "source": [
    "ext_monitor.mid[ext_monitor.mid.duplicated()].nunique()  # 2번이상 구매한 user는 330명"
   ]
  },
  {
   "cell_type": "code",
   "execution_count": 24,
   "metadata": {},
   "outputs": [
    {
     "data": {
      "text/plain": [
       "0.08995080815179199"
      ]
     },
     "execution_count": 24,
     "metadata": {},
     "output_type": "execute_result"
    }
   ],
   "source": [
    "ext_monitor.mid[ext_monitor.mid.duplicated()].nunique() / ext_monitor.mid.nunique()"
   ]
  },
  {
   "cell_type": "markdown",
   "metadata": {},
   "source": [
    "---"
   ]
  },
  {
   "cell_type": "code",
   "execution_count": 25,
   "metadata": {},
   "outputs": [
    {
     "name": "stdout",
     "output_type": "stream",
     "text": [
      "<class 'pandas.core.frame.DataFrame'>\n",
      "RangeIndex: 1583 entries, 0 to 1582\n",
      "Data columns (total 7 columns):\n",
      "Unnamed: 0    1583 non-null int64\n",
      "biz_dt        1583 non-null object\n",
      "mid           1583 non-null int64\n",
      "price         1583 non-null int64\n",
      "prodNo        1583 non-null int64\n",
      "dcateCd       1583 non-null int64\n",
      "dcateNm       1583 non-null object\n",
      "dtypes: int64(5), object(2)\n",
      "memory usage: 86.6+ KB\n"
     ]
    }
   ],
   "source": [
    "ext_monitor.info()"
   ]
  },
  {
   "cell_type": "code",
   "execution_count": 26,
   "metadata": {},
   "outputs": [],
   "source": [
    "# 날짜 형 변환\n",
    "ext_monitor.biz_dt = pd.to_datetime(ext_monitor.biz_dt)"
   ]
  },
  {
   "cell_type": "code",
   "execution_count": 27,
   "metadata": {},
   "outputs": [
    {
     "name": "stdout",
     "output_type": "stream",
     "text": [
      "<class 'pandas.core.frame.DataFrame'>\n",
      "RangeIndex: 1583 entries, 0 to 1582\n",
      "Data columns (total 7 columns):\n",
      "Unnamed: 0    1583 non-null int64\n",
      "biz_dt        1583 non-null datetime64[ns]\n",
      "mid           1583 non-null int64\n",
      "price         1583 non-null int64\n",
      "prodNo        1583 non-null int64\n",
      "dcateCd       1583 non-null int64\n",
      "dcateNm       1583 non-null object\n",
      "dtypes: datetime64[ns](1), int64(5), object(1)\n",
      "memory usage: 86.6+ KB\n"
     ]
    }
   ],
   "source": [
    "ext_monitor.info()"
   ]
  },
  {
   "cell_type": "markdown",
   "metadata": {},
   "source": [
    "----"
   ]
  },
  {
   "cell_type": "markdown",
   "metadata": {},
   "source": [
    "## # Step1. ext_monitor 데이터 이용 (8월~10월. 3달)"
   ]
  },
  {
   "cell_type": "code",
   "execution_count": 28,
   "metadata": {},
   "outputs": [
    {
     "data": {
      "text/plain": [
       "(0   2018-07-30 18:24:35\n",
       " Name: biz_dt, dtype: datetime64[ns], 1582   2018-10-31 23:24:50\n",
       " Name: biz_dt, dtype: datetime64[ns])"
      ]
     },
     "execution_count": 28,
     "metadata": {},
     "output_type": "execute_result"
    }
   ],
   "source": [
    "ext_monitor[0:1].biz_dt , ext_monitor[-1:].biz_dt"
   ]
  },
  {
   "cell_type": "markdown",
   "metadata": {},
   "source": [
    "---"
   ]
  },
  {
   "cell_type": "markdown",
   "metadata": {},
   "source": [
    "- #### (1) 전체 유저의 구매주기 파악"
   ]
  },
  {
   "cell_type": "code",
   "execution_count": 100,
   "metadata": {},
   "outputs": [],
   "source": [
    "groups = ext_monitor.groupby('mid')"
   ]
  },
  {
   "cell_type": "code",
   "execution_count": 101,
   "metadata": {},
   "outputs": [],
   "source": [
    "def day_diff(data):\n",
    "    c = data.dt.date.diff()\n",
    "    #c = c.values #이거?\n",
    "    return pd.Series(c.values)"
   ]
  },
  {
   "cell_type": "code",
   "execution_count": 167,
   "metadata": {
    "scrolled": true
   },
   "outputs": [
    {
     "data": {
      "text/plain": [
       "mid        \n",
       "1009146   0                 NaT\n",
       "          1     1 days 00:00:00\n",
       "1013554   0                 NaN\n",
       "1018083   0                 NaN\n",
       "1021530   0                 NaN\n",
       "1033964   0                 NaN\n",
       "1037700   0                 NaN\n",
       "1041642   0                 NaN\n",
       "1054369   0                 NaN\n",
       "1062532   0                 NaN\n",
       "1072788   0                 NaN\n",
       "1073627   0                 NaN\n",
       "1088417   0                 NaN\n",
       "1096412   0                 NaN\n",
       "1115061   0                 NaN\n",
       "1131003   0                 NaN\n",
       "1143939   0                 NaN\n",
       "1144764   0                 NaN\n",
       "1153970   0                 NaN\n",
       "1167947   0                 NaT\n",
       "          1    15 days 00:00:00\n",
       "          2    20 days 00:00:00\n",
       "          3     7 days 00:00:00\n",
       "          4    15 days 00:00:00\n",
       "          5     4 days 00:00:00\n",
       "          6     0 days 00:00:00\n",
       "1180097   0                 NaN\n",
       "1181649   0                 NaN\n",
       "1184814   0                 NaN\n",
       "1187798   0                 NaN\n",
       "                     ...       \n",
       "25956180  0                 NaT\n",
       "          1     0 days 00:00:00\n",
       "25961215  0                 NaN\n",
       "25964182  0                 NaN\n",
       "25966010  0                 NaN\n",
       "25967219  0                 NaN\n",
       "25970961  0                 NaN\n",
       "25974243  0                 NaN\n",
       "25978987  0                 NaN\n",
       "25988013  0                 NaN\n",
       "25990201  0                 NaN\n",
       "26003159  0                 NaN\n",
       "26034726  0                 NaN\n",
       "26039992  0                 NaN\n",
       "26051689  0                 NaN\n",
       "26051940  0                 NaN\n",
       "26056047  0                 NaN\n",
       "26058081  0                 NaN\n",
       "26071823  0                 NaN\n",
       "26073430  0                 NaN\n",
       "26075382  0                 NaN\n",
       "26075460  0                 NaN\n",
       "26077986  0                 NaN\n",
       "26085672  0                 NaN\n",
       "26089235  0                 NaN\n",
       "26091804  0                 NaN\n",
       "26101863  0                 NaN\n",
       "26106918  0                 NaN\n",
       "26115848  0                 NaN\n",
       "26116449  0                 NaN\n",
       "Name: biz_dt, Length: 1583, dtype: object"
      ]
     },
     "execution_count": 167,
     "metadata": {},
     "output_type": "execute_result"
    }
   ],
   "source": [
    "groups['biz_dt'].apply(day_diff)"
   ]
  },
  {
   "cell_type": "code",
   "execution_count": 169,
   "metadata": {},
   "outputs": [
    {
     "data": {
      "text/plain": [
       "mid        \n",
       "1009146   0                 NaT\n",
       "          1     1 days 00:00:00\n",
       "1013554   0                 NaN\n",
       "1018083   0                 NaN\n",
       "1021530   0                 NaN\n",
       "1033964   0                 NaN\n",
       "1037700   0                 NaN\n",
       "1041642   0                 NaN\n",
       "1054369   0                 NaN\n",
       "1062532   0                 NaN\n",
       "1072788   0                 NaN\n",
       "1073627   0                 NaN\n",
       "1088417   0                 NaN\n",
       "1096412   0                 NaN\n",
       "1115061   0                 NaN\n",
       "1131003   0                 NaN\n",
       "1143939   0                 NaN\n",
       "1144764   0                 NaN\n",
       "1153970   0                 NaN\n",
       "1167947   0                 NaT\n",
       "          1    15 days 00:00:00\n",
       "          2    20 days 00:00:00\n",
       "          3     7 days 00:00:00\n",
       "          4    15 days 00:00:00\n",
       "          5     4 days 00:00:00\n",
       "          6     0 days 00:00:00\n",
       "1180097   0                 NaN\n",
       "1181649   0                 NaN\n",
       "1184814   0                 NaN\n",
       "1187798   0                 NaN\n",
       "                     ...       \n",
       "25956180  0                 NaT\n",
       "          1     0 days 00:00:00\n",
       "25961215  0                 NaN\n",
       "25964182  0                 NaN\n",
       "25966010  0                 NaN\n",
       "25967219  0                 NaN\n",
       "25970961  0                 NaN\n",
       "25974243  0                 NaN\n",
       "25978987  0                 NaN\n",
       "25988013  0                 NaN\n",
       "25990201  0                 NaN\n",
       "26003159  0                 NaN\n",
       "26034726  0                 NaN\n",
       "26039992  0                 NaN\n",
       "26051689  0                 NaN\n",
       "26051940  0                 NaN\n",
       "26056047  0                 NaN\n",
       "26058081  0                 NaN\n",
       "26071823  0                 NaN\n",
       "26073430  0                 NaN\n",
       "26075382  0                 NaN\n",
       "26075460  0                 NaN\n",
       "26077986  0                 NaN\n",
       "26085672  0                 NaN\n",
       "26089235  0                 NaN\n",
       "26091804  0                 NaN\n",
       "26101863  0                 NaN\n",
       "26106918  0                 NaN\n",
       "26115848  0                 NaN\n",
       "26116449  0                 NaN\n",
       "Name: biz_dt, Length: 1583, dtype: object"
      ]
     },
     "execution_count": 169,
     "metadata": {},
     "output_type": "execute_result"
    }
   ],
   "source": [
    "# 위의 결과와 똑같네!\n",
    "z = ext_monitor.biz_dt.groupby(ext_monitor.mid).apply(day_diff);z"
   ]
  },
  {
   "cell_type": "code",
   "execution_count": 103,
   "metadata": {},
   "outputs": [],
   "source": [
    "ext_monitor_diff = groups['biz_dt'].apply(day_diff)  # 저장"
   ]
  },
  {
   "cell_type": "code",
   "execution_count": 104,
   "metadata": {},
   "outputs": [],
   "source": [
    "ext_monitor_diff = pd.DataFrame(ext_monitor_diff)"
   ]
  },
  {
   "cell_type": "code",
   "execution_count": 105,
   "metadata": {},
   "outputs": [],
   "source": [
    "ext_monitor_diff.biz_dt = pd.to_timedelta(ext_monitor_diff.biz_dt)  # timedelta 로 저장"
   ]
  },
  {
   "cell_type": "code",
   "execution_count": 106,
   "metadata": {
    "scrolled": true
   },
   "outputs": [
    {
     "data": {
      "text/html": [
       "<div>\n",
       "<style scoped>\n",
       "    .dataframe tbody tr th:only-of-type {\n",
       "        vertical-align: middle;\n",
       "    }\n",
       "\n",
       "    .dataframe tbody tr th {\n",
       "        vertical-align: top;\n",
       "    }\n",
       "\n",
       "    .dataframe thead th {\n",
       "        text-align: right;\n",
       "    }\n",
       "</style>\n",
       "<table border=\"1\" class=\"dataframe\">\n",
       "  <thead>\n",
       "    <tr style=\"text-align: right;\">\n",
       "      <th></th>\n",
       "      <th></th>\n",
       "      <th>biz_dt</th>\n",
       "    </tr>\n",
       "    <tr>\n",
       "      <th>mid</th>\n",
       "      <th></th>\n",
       "      <th></th>\n",
       "    </tr>\n",
       "  </thead>\n",
       "  <tbody>\n",
       "    <tr>\n",
       "      <th rowspan=\"2\" valign=\"top\">1009146</th>\n",
       "      <th>0</th>\n",
       "      <td>NaT</td>\n",
       "    </tr>\n",
       "    <tr>\n",
       "      <th>1</th>\n",
       "      <td>1 days</td>\n",
       "    </tr>\n",
       "    <tr>\n",
       "      <th>1013554</th>\n",
       "      <th>0</th>\n",
       "      <td>NaT</td>\n",
       "    </tr>\n",
       "    <tr>\n",
       "      <th>1018083</th>\n",
       "      <th>0</th>\n",
       "      <td>NaT</td>\n",
       "    </tr>\n",
       "    <tr>\n",
       "      <th>1021530</th>\n",
       "      <th>0</th>\n",
       "      <td>NaT</td>\n",
       "    </tr>\n",
       "  </tbody>\n",
       "</table>\n",
       "</div>"
      ],
      "text/plain": [
       "          biz_dt\n",
       "mid             \n",
       "1009146 0    NaT\n",
       "        1 1 days\n",
       "1013554 0    NaT\n",
       "1018083 0    NaT\n",
       "1021530 0    NaT"
      ]
     },
     "execution_count": 106,
     "metadata": {},
     "output_type": "execute_result"
    }
   ],
   "source": [
    "ext_monitor_diff.head()"
   ]
  },
  {
   "cell_type": "code",
   "execution_count": 110,
   "metadata": {},
   "outputs": [
    {
     "data": {
      "text/html": [
       "<div>\n",
       "<style scoped>\n",
       "    .dataframe tbody tr th:only-of-type {\n",
       "        vertical-align: middle;\n",
       "    }\n",
       "\n",
       "    .dataframe tbody tr th {\n",
       "        vertical-align: top;\n",
       "    }\n",
       "\n",
       "    .dataframe thead th {\n",
       "        text-align: right;\n",
       "    }\n",
       "</style>\n",
       "<table border=\"1\" class=\"dataframe\">\n",
       "  <thead>\n",
       "    <tr style=\"text-align: right;\">\n",
       "      <th></th>\n",
       "      <th></th>\n",
       "      <th>biz_dt</th>\n",
       "    </tr>\n",
       "    <tr>\n",
       "      <th>mid</th>\n",
       "      <th></th>\n",
       "      <th></th>\n",
       "    </tr>\n",
       "  </thead>\n",
       "  <tbody>\n",
       "    <tr>\n",
       "      <th rowspan=\"2\" valign=\"top\">1009146</th>\n",
       "      <th>0</th>\n",
       "      <td>NaT</td>\n",
       "    </tr>\n",
       "    <tr>\n",
       "      <th>1</th>\n",
       "      <td>1 days</td>\n",
       "    </tr>\n",
       "    <tr>\n",
       "      <th>1013554</th>\n",
       "      <th>0</th>\n",
       "      <td>NaT</td>\n",
       "    </tr>\n",
       "    <tr>\n",
       "      <th>1018083</th>\n",
       "      <th>0</th>\n",
       "      <td>NaT</td>\n",
       "    </tr>\n",
       "    <tr>\n",
       "      <th>1021530</th>\n",
       "      <th>0</th>\n",
       "      <td>NaT</td>\n",
       "    </tr>\n",
       "    <tr>\n",
       "      <th>1033964</th>\n",
       "      <th>0</th>\n",
       "      <td>NaT</td>\n",
       "    </tr>\n",
       "    <tr>\n",
       "      <th>1037700</th>\n",
       "      <th>0</th>\n",
       "      <td>NaT</td>\n",
       "    </tr>\n",
       "    <tr>\n",
       "      <th>1041642</th>\n",
       "      <th>0</th>\n",
       "      <td>NaT</td>\n",
       "    </tr>\n",
       "    <tr>\n",
       "      <th>1054369</th>\n",
       "      <th>0</th>\n",
       "      <td>NaT</td>\n",
       "    </tr>\n",
       "    <tr>\n",
       "      <th>1062532</th>\n",
       "      <th>0</th>\n",
       "      <td>NaT</td>\n",
       "    </tr>\n",
       "    <tr>\n",
       "      <th>1072788</th>\n",
       "      <th>0</th>\n",
       "      <td>NaT</td>\n",
       "    </tr>\n",
       "    <tr>\n",
       "      <th>1073627</th>\n",
       "      <th>0</th>\n",
       "      <td>NaT</td>\n",
       "    </tr>\n",
       "    <tr>\n",
       "      <th>1088417</th>\n",
       "      <th>0</th>\n",
       "      <td>NaT</td>\n",
       "    </tr>\n",
       "    <tr>\n",
       "      <th>1096412</th>\n",
       "      <th>0</th>\n",
       "      <td>NaT</td>\n",
       "    </tr>\n",
       "    <tr>\n",
       "      <th>1115061</th>\n",
       "      <th>0</th>\n",
       "      <td>NaT</td>\n",
       "    </tr>\n",
       "    <tr>\n",
       "      <th>1131003</th>\n",
       "      <th>0</th>\n",
       "      <td>NaT</td>\n",
       "    </tr>\n",
       "    <tr>\n",
       "      <th>1143939</th>\n",
       "      <th>0</th>\n",
       "      <td>NaT</td>\n",
       "    </tr>\n",
       "    <tr>\n",
       "      <th>1144764</th>\n",
       "      <th>0</th>\n",
       "      <td>NaT</td>\n",
       "    </tr>\n",
       "    <tr>\n",
       "      <th>1153970</th>\n",
       "      <th>0</th>\n",
       "      <td>NaT</td>\n",
       "    </tr>\n",
       "    <tr>\n",
       "      <th rowspan=\"7\" valign=\"top\">1167947</th>\n",
       "      <th>0</th>\n",
       "      <td>NaT</td>\n",
       "    </tr>\n",
       "    <tr>\n",
       "      <th>1</th>\n",
       "      <td>15 days</td>\n",
       "    </tr>\n",
       "    <tr>\n",
       "      <th>2</th>\n",
       "      <td>20 days</td>\n",
       "    </tr>\n",
       "    <tr>\n",
       "      <th>3</th>\n",
       "      <td>7 days</td>\n",
       "    </tr>\n",
       "    <tr>\n",
       "      <th>4</th>\n",
       "      <td>15 days</td>\n",
       "    </tr>\n",
       "    <tr>\n",
       "      <th>5</th>\n",
       "      <td>4 days</td>\n",
       "    </tr>\n",
       "    <tr>\n",
       "      <th>6</th>\n",
       "      <td>0 days</td>\n",
       "    </tr>\n",
       "    <tr>\n",
       "      <th>1180097</th>\n",
       "      <th>0</th>\n",
       "      <td>NaT</td>\n",
       "    </tr>\n",
       "    <tr>\n",
       "      <th>1181649</th>\n",
       "      <th>0</th>\n",
       "      <td>NaT</td>\n",
       "    </tr>\n",
       "    <tr>\n",
       "      <th>1184814</th>\n",
       "      <th>0</th>\n",
       "      <td>NaT</td>\n",
       "    </tr>\n",
       "    <tr>\n",
       "      <th>1187798</th>\n",
       "      <th>0</th>\n",
       "      <td>NaT</td>\n",
       "    </tr>\n",
       "    <tr>\n",
       "      <th>...</th>\n",
       "      <th>...</th>\n",
       "      <td>...</td>\n",
       "    </tr>\n",
       "    <tr>\n",
       "      <th rowspan=\"2\" valign=\"top\">25956180</th>\n",
       "      <th>0</th>\n",
       "      <td>NaT</td>\n",
       "    </tr>\n",
       "    <tr>\n",
       "      <th>1</th>\n",
       "      <td>0 days</td>\n",
       "    </tr>\n",
       "    <tr>\n",
       "      <th>25961215</th>\n",
       "      <th>0</th>\n",
       "      <td>NaT</td>\n",
       "    </tr>\n",
       "    <tr>\n",
       "      <th>25964182</th>\n",
       "      <th>0</th>\n",
       "      <td>NaT</td>\n",
       "    </tr>\n",
       "    <tr>\n",
       "      <th>25966010</th>\n",
       "      <th>0</th>\n",
       "      <td>NaT</td>\n",
       "    </tr>\n",
       "    <tr>\n",
       "      <th>25967219</th>\n",
       "      <th>0</th>\n",
       "      <td>NaT</td>\n",
       "    </tr>\n",
       "    <tr>\n",
       "      <th>25970961</th>\n",
       "      <th>0</th>\n",
       "      <td>NaT</td>\n",
       "    </tr>\n",
       "    <tr>\n",
       "      <th>25974243</th>\n",
       "      <th>0</th>\n",
       "      <td>NaT</td>\n",
       "    </tr>\n",
       "    <tr>\n",
       "      <th>25978987</th>\n",
       "      <th>0</th>\n",
       "      <td>NaT</td>\n",
       "    </tr>\n",
       "    <tr>\n",
       "      <th>25988013</th>\n",
       "      <th>0</th>\n",
       "      <td>NaT</td>\n",
       "    </tr>\n",
       "    <tr>\n",
       "      <th>25990201</th>\n",
       "      <th>0</th>\n",
       "      <td>NaT</td>\n",
       "    </tr>\n",
       "    <tr>\n",
       "      <th>26003159</th>\n",
       "      <th>0</th>\n",
       "      <td>NaT</td>\n",
       "    </tr>\n",
       "    <tr>\n",
       "      <th>26034726</th>\n",
       "      <th>0</th>\n",
       "      <td>NaT</td>\n",
       "    </tr>\n",
       "    <tr>\n",
       "      <th>26039992</th>\n",
       "      <th>0</th>\n",
       "      <td>NaT</td>\n",
       "    </tr>\n",
       "    <tr>\n",
       "      <th>26051689</th>\n",
       "      <th>0</th>\n",
       "      <td>NaT</td>\n",
       "    </tr>\n",
       "    <tr>\n",
       "      <th>26051940</th>\n",
       "      <th>0</th>\n",
       "      <td>NaT</td>\n",
       "    </tr>\n",
       "    <tr>\n",
       "      <th>26056047</th>\n",
       "      <th>0</th>\n",
       "      <td>NaT</td>\n",
       "    </tr>\n",
       "    <tr>\n",
       "      <th>26058081</th>\n",
       "      <th>0</th>\n",
       "      <td>NaT</td>\n",
       "    </tr>\n",
       "    <tr>\n",
       "      <th>26071823</th>\n",
       "      <th>0</th>\n",
       "      <td>NaT</td>\n",
       "    </tr>\n",
       "    <tr>\n",
       "      <th>26073430</th>\n",
       "      <th>0</th>\n",
       "      <td>NaT</td>\n",
       "    </tr>\n",
       "    <tr>\n",
       "      <th>26075382</th>\n",
       "      <th>0</th>\n",
       "      <td>NaT</td>\n",
       "    </tr>\n",
       "    <tr>\n",
       "      <th>26075460</th>\n",
       "      <th>0</th>\n",
       "      <td>NaT</td>\n",
       "    </tr>\n",
       "    <tr>\n",
       "      <th>26077986</th>\n",
       "      <th>0</th>\n",
       "      <td>NaT</td>\n",
       "    </tr>\n",
       "    <tr>\n",
       "      <th>26085672</th>\n",
       "      <th>0</th>\n",
       "      <td>NaT</td>\n",
       "    </tr>\n",
       "    <tr>\n",
       "      <th>26089235</th>\n",
       "      <th>0</th>\n",
       "      <td>NaT</td>\n",
       "    </tr>\n",
       "    <tr>\n",
       "      <th>26091804</th>\n",
       "      <th>0</th>\n",
       "      <td>NaT</td>\n",
       "    </tr>\n",
       "    <tr>\n",
       "      <th>26101863</th>\n",
       "      <th>0</th>\n",
       "      <td>NaT</td>\n",
       "    </tr>\n",
       "    <tr>\n",
       "      <th>26106918</th>\n",
       "      <th>0</th>\n",
       "      <td>NaT</td>\n",
       "    </tr>\n",
       "    <tr>\n",
       "      <th>26115848</th>\n",
       "      <th>0</th>\n",
       "      <td>NaT</td>\n",
       "    </tr>\n",
       "    <tr>\n",
       "      <th>26116449</th>\n",
       "      <th>0</th>\n",
       "      <td>NaT</td>\n",
       "    </tr>\n",
       "  </tbody>\n",
       "</table>\n",
       "<p>1583 rows × 1 columns</p>\n",
       "</div>"
      ],
      "text/plain": [
       "            biz_dt\n",
       "mid               \n",
       "1009146  0     NaT\n",
       "         1  1 days\n",
       "1013554  0     NaT\n",
       "1018083  0     NaT\n",
       "1021530  0     NaT\n",
       "1033964  0     NaT\n",
       "1037700  0     NaT\n",
       "1041642  0     NaT\n",
       "1054369  0     NaT\n",
       "1062532  0     NaT\n",
       "1072788  0     NaT\n",
       "1073627  0     NaT\n",
       "1088417  0     NaT\n",
       "1096412  0     NaT\n",
       "1115061  0     NaT\n",
       "1131003  0     NaT\n",
       "1143939  0     NaT\n",
       "1144764  0     NaT\n",
       "1153970  0     NaT\n",
       "1167947  0     NaT\n",
       "         1 15 days\n",
       "         2 20 days\n",
       "         3  7 days\n",
       "         4 15 days\n",
       "         5  4 days\n",
       "         6  0 days\n",
       "1180097  0     NaT\n",
       "1181649  0     NaT\n",
       "1184814  0     NaT\n",
       "1187798  0     NaT\n",
       "...            ...\n",
       "25956180 0     NaT\n",
       "         1  0 days\n",
       "25961215 0     NaT\n",
       "25964182 0     NaT\n",
       "25966010 0     NaT\n",
       "25967219 0     NaT\n",
       "25970961 0     NaT\n",
       "25974243 0     NaT\n",
       "25978987 0     NaT\n",
       "25988013 0     NaT\n",
       "25990201 0     NaT\n",
       "26003159 0     NaT\n",
       "26034726 0     NaT\n",
       "26039992 0     NaT\n",
       "26051689 0     NaT\n",
       "26051940 0     NaT\n",
       "26056047 0     NaT\n",
       "26058081 0     NaT\n",
       "26071823 0     NaT\n",
       "26073430 0     NaT\n",
       "26075382 0     NaT\n",
       "26075460 0     NaT\n",
       "26077986 0     NaT\n",
       "26085672 0     NaT\n",
       "26089235 0     NaT\n",
       "26091804 0     NaT\n",
       "26101863 0     NaT\n",
       "26106918 0     NaT\n",
       "26115848 0     NaT\n",
       "26116449 0     NaT\n",
       "\n",
       "[1583 rows x 1 columns]"
      ]
     },
     "execution_count": 110,
     "metadata": {},
     "output_type": "execute_result"
    }
   ],
   "source": [
    "ext_monitor_diff"
   ]
  },
  {
   "cell_type": "code",
   "execution_count": 118,
   "metadata": {},
   "outputs": [],
   "source": [
    "k = ext_monitor_diff.unstack()"
   ]
  },
  {
   "cell_type": "code",
   "execution_count": 122,
   "metadata": {},
   "outputs": [
    {
     "data": {
      "text/html": [
       "<div>\n",
       "<style scoped>\n",
       "    .dataframe tbody tr th:only-of-type {\n",
       "        vertical-align: middle;\n",
       "    }\n",
       "\n",
       "    .dataframe tbody tr th {\n",
       "        vertical-align: top;\n",
       "    }\n",
       "\n",
       "    .dataframe thead tr th {\n",
       "        text-align: left;\n",
       "    }\n",
       "\n",
       "    .dataframe thead tr:last-of-type th {\n",
       "        text-align: right;\n",
       "    }\n",
       "</style>\n",
       "<table border=\"1\" class=\"dataframe\">\n",
       "  <thead>\n",
       "    <tr>\n",
       "      <th></th>\n",
       "      <th colspan=\"7\" halign=\"left\">biz_dt</th>\n",
       "    </tr>\n",
       "    <tr>\n",
       "      <th></th>\n",
       "      <th>0</th>\n",
       "      <th>1</th>\n",
       "      <th>2</th>\n",
       "      <th>3</th>\n",
       "      <th>4</th>\n",
       "      <th>5</th>\n",
       "      <th>6</th>\n",
       "    </tr>\n",
       "    <tr>\n",
       "      <th>mid</th>\n",
       "      <th></th>\n",
       "      <th></th>\n",
       "      <th></th>\n",
       "      <th></th>\n",
       "      <th></th>\n",
       "      <th></th>\n",
       "      <th></th>\n",
       "    </tr>\n",
       "  </thead>\n",
       "  <tbody>\n",
       "    <tr>\n",
       "      <th>1009146</th>\n",
       "      <td>NaT</td>\n",
       "      <td>1 days</td>\n",
       "      <td>NaT</td>\n",
       "      <td>NaT</td>\n",
       "      <td>NaT</td>\n",
       "      <td>NaT</td>\n",
       "      <td>NaT</td>\n",
       "    </tr>\n",
       "    <tr>\n",
       "      <th>1013554</th>\n",
       "      <td>NaT</td>\n",
       "      <td>NaT</td>\n",
       "      <td>NaT</td>\n",
       "      <td>NaT</td>\n",
       "      <td>NaT</td>\n",
       "      <td>NaT</td>\n",
       "      <td>NaT</td>\n",
       "    </tr>\n",
       "    <tr>\n",
       "      <th>1018083</th>\n",
       "      <td>NaT</td>\n",
       "      <td>NaT</td>\n",
       "      <td>NaT</td>\n",
       "      <td>NaT</td>\n",
       "      <td>NaT</td>\n",
       "      <td>NaT</td>\n",
       "      <td>NaT</td>\n",
       "    </tr>\n",
       "    <tr>\n",
       "      <th>1021530</th>\n",
       "      <td>NaT</td>\n",
       "      <td>NaT</td>\n",
       "      <td>NaT</td>\n",
       "      <td>NaT</td>\n",
       "      <td>NaT</td>\n",
       "      <td>NaT</td>\n",
       "      <td>NaT</td>\n",
       "    </tr>\n",
       "    <tr>\n",
       "      <th>1033964</th>\n",
       "      <td>NaT</td>\n",
       "      <td>NaT</td>\n",
       "      <td>NaT</td>\n",
       "      <td>NaT</td>\n",
       "      <td>NaT</td>\n",
       "      <td>NaT</td>\n",
       "      <td>NaT</td>\n",
       "    </tr>\n",
       "  </tbody>\n",
       "</table>\n",
       "</div>"
      ],
      "text/plain": [
       "        biz_dt                           \n",
       "             0      1   2   3   4   5   6\n",
       "mid                                      \n",
       "1009146    NaT 1 days NaT NaT NaT NaT NaT\n",
       "1013554    NaT    NaT NaT NaT NaT NaT NaT\n",
       "1018083    NaT    NaT NaT NaT NaT NaT NaT\n",
       "1021530    NaT    NaT NaT NaT NaT NaT NaT\n",
       "1033964    NaT    NaT NaT NaT NaT NaT NaT"
      ]
     },
     "execution_count": 122,
     "metadata": {},
     "output_type": "execute_result"
    }
   ],
   "source": [
    "k.head()"
   ]
  },
  {
   "cell_type": "code",
   "execution_count": 126,
   "metadata": {},
   "outputs": [
    {
     "data": {
      "text/plain": [
       "Int64Index([ 1009146,  1013554,  1018083,  1021530,  1033964,  1037700,\n",
       "             1041642,  1054369,  1062532,  1072788,\n",
       "            ...\n",
       "            26075382, 26075460, 26077986, 26085672, 26089235, 26091804,\n",
       "            26101863, 26106918, 26115848, 26116449],\n",
       "           dtype='int64', name='mid', length=1423)"
      ]
     },
     "execution_count": 126,
     "metadata": {},
     "output_type": "execute_result"
    }
   ],
   "source": [
    "k.index"
   ]
  },
  {
   "cell_type": "code",
   "execution_count": 133,
   "metadata": {},
   "outputs": [
    {
     "data": {
      "text/html": [
       "<div>\n",
       "<style scoped>\n",
       "    .dataframe tbody tr th:only-of-type {\n",
       "        vertical-align: middle;\n",
       "    }\n",
       "\n",
       "    .dataframe tbody tr th {\n",
       "        vertical-align: top;\n",
       "    }\n",
       "\n",
       "    .dataframe thead tr th {\n",
       "        text-align: left;\n",
       "    }\n",
       "\n",
       "    .dataframe thead tr:last-of-type th {\n",
       "        text-align: right;\n",
       "    }\n",
       "</style>\n",
       "<table border=\"1\" class=\"dataframe\">\n",
       "  <thead>\n",
       "    <tr>\n",
       "      <th></th>\n",
       "      <th colspan=\"7\" halign=\"left\">biz_dt</th>\n",
       "    </tr>\n",
       "    <tr>\n",
       "      <th></th>\n",
       "      <th>0</th>\n",
       "      <th>1</th>\n",
       "      <th>2</th>\n",
       "      <th>3</th>\n",
       "      <th>4</th>\n",
       "      <th>5</th>\n",
       "      <th>6</th>\n",
       "    </tr>\n",
       "    <tr>\n",
       "      <th>mid</th>\n",
       "      <th></th>\n",
       "      <th></th>\n",
       "      <th></th>\n",
       "      <th></th>\n",
       "      <th></th>\n",
       "      <th></th>\n",
       "      <th></th>\n",
       "    </tr>\n",
       "  </thead>\n",
       "  <tbody>\n",
       "    <tr>\n",
       "      <th>1009146</th>\n",
       "      <td>NaT</td>\n",
       "      <td>1 days</td>\n",
       "      <td>NaT</td>\n",
       "      <td>NaT</td>\n",
       "      <td>NaT</td>\n",
       "      <td>NaT</td>\n",
       "      <td>NaT</td>\n",
       "    </tr>\n",
       "  </tbody>\n",
       "</table>\n",
       "</div>"
      ],
      "text/plain": [
       "        biz_dt                           \n",
       "             0      1   2   3   4   5   6\n",
       "mid                                      \n",
       "1009146    NaT 1 days NaT NaT NaT NaT NaT"
      ]
     },
     "execution_count": 133,
     "metadata": {},
     "output_type": "execute_result"
    }
   ],
   "source": [
    "k[0:1]"
   ]
  },
  {
   "cell_type": "code",
   "execution_count": 136,
   "metadata": {},
   "outputs": [],
   "source": [
    "kk = k.to_dict()"
   ]
  },
  {
   "cell_type": "code",
   "execution_count": 142,
   "metadata": {},
   "outputs": [
    {
     "data": {
      "text/plain": [
       "dict_keys([('biz_dt', 0), ('biz_dt', 1), ('biz_dt', 2), ('biz_dt', 3), ('biz_dt', 4), ('biz_dt', 5), ('biz_dt', 6)])"
      ]
     },
     "execution_count": 142,
     "metadata": {},
     "output_type": "execute_result"
    }
   ],
   "source": [
    "kk.keys()"
   ]
  },
  {
   "cell_type": "code",
   "execution_count": 161,
   "metadata": {},
   "outputs": [
    {
     "data": {
      "text/plain": [
       "[Timedelta('1 days 00:00:00'),\n",
       " NaT,\n",
       " NaT,\n",
       " NaT,\n",
       " NaT,\n",
       " NaT,\n",
       " NaT,\n",
       " NaT,\n",
       " NaT,\n",
       " NaT,\n",
       " NaT,\n",
       " NaT,\n",
       " NaT,\n",
       " NaT,\n",
       " NaT,\n",
       " NaT,\n",
       " NaT,\n",
       " NaT,\n",
       " Timedelta('15 days 00:00:00'),\n",
       " NaT,\n",
       " NaT,\n",
       " NaT,\n",
       " NaT,\n",
       " NaT,\n",
       " NaT,\n",
       " NaT,\n",
       " NaT,\n",
       " NaT,\n",
       " NaT,\n",
       " NaT,\n",
       " NaT,\n",
       " NaT,\n",
       " Timedelta('0 days 00:00:00'),\n",
       " Timedelta('0 days 00:00:00'),\n",
       " NaT,\n",
       " NaT,\n",
       " NaT,\n",
       " NaT,\n",
       " NaT,\n",
       " NaT,\n",
       " NaT,\n",
       " NaT,\n",
       " NaT,\n",
       " NaT,\n",
       " NaT,\n",
       " NaT,\n",
       " Timedelta('0 days 00:00:00'),\n",
       " NaT,\n",
       " NaT,\n",
       " NaT,\n",
       " NaT,\n",
       " NaT,\n",
       " NaT,\n",
       " Timedelta('45 days 00:00:00'),\n",
       " NaT,\n",
       " NaT,\n",
       " NaT,\n",
       " NaT,\n",
       " NaT,\n",
       " NaT,\n",
       " NaT,\n",
       " NaT,\n",
       " NaT,\n",
       " NaT,\n",
       " NaT,\n",
       " NaT,\n",
       " Timedelta('1 days 00:00:00'),\n",
       " NaT,\n",
       " NaT,\n",
       " NaT,\n",
       " NaT,\n",
       " Timedelta('3 days 00:00:00'),\n",
       " NaT,\n",
       " NaT,\n",
       " NaT,\n",
       " Timedelta('0 days 00:00:00'),\n",
       " NaT,\n",
       " NaT,\n",
       " NaT,\n",
       " NaT,\n",
       " NaT,\n",
       " Timedelta('0 days 00:00:00'),\n",
       " NaT,\n",
       " Timedelta('3 days 00:00:00'),\n",
       " NaT,\n",
       " NaT,\n",
       " NaT,\n",
       " NaT,\n",
       " NaT,\n",
       " NaT,\n",
       " NaT,\n",
       " NaT,\n",
       " NaT,\n",
       " NaT,\n",
       " NaT,\n",
       " NaT,\n",
       " NaT,\n",
       " Timedelta('1 days 00:00:00'),\n",
       " NaT,\n",
       " NaT,\n",
       " NaT,\n",
       " NaT,\n",
       " NaT,\n",
       " NaT,\n",
       " NaT,\n",
       " NaT,\n",
       " NaT,\n",
       " NaT,\n",
       " NaT,\n",
       " Timedelta('7 days 00:00:00'),\n",
       " NaT,\n",
       " Timedelta('0 days 00:00:00'),\n",
       " NaT,\n",
       " Timedelta('0 days 00:00:00'),\n",
       " NaT,\n",
       " NaT,\n",
       " NaT,\n",
       " NaT,\n",
       " NaT,\n",
       " NaT,\n",
       " NaT,\n",
       " NaT,\n",
       " NaT,\n",
       " NaT,\n",
       " NaT,\n",
       " NaT,\n",
       " NaT,\n",
       " NaT,\n",
       " NaT,\n",
       " Timedelta('1 days 00:00:00'),\n",
       " NaT,\n",
       " NaT,\n",
       " NaT,\n",
       " NaT,\n",
       " NaT,\n",
       " NaT,\n",
       " NaT,\n",
       " NaT,\n",
       " NaT,\n",
       " NaT,\n",
       " NaT,\n",
       " NaT,\n",
       " NaT,\n",
       " NaT,\n",
       " Timedelta('0 days 00:00:00'),\n",
       " NaT,\n",
       " NaT,\n",
       " NaT,\n",
       " NaT,\n",
       " NaT,\n",
       " NaT,\n",
       " NaT,\n",
       " NaT,\n",
       " NaT,\n",
       " NaT,\n",
       " Timedelta('59 days 00:00:00'),\n",
       " NaT,\n",
       " NaT,\n",
       " NaT,\n",
       " NaT,\n",
       " NaT,\n",
       " NaT,\n",
       " NaT,\n",
       " NaT,\n",
       " NaT,\n",
       " NaT,\n",
       " NaT,\n",
       " NaT,\n",
       " NaT,\n",
       " NaT,\n",
       " NaT,\n",
       " NaT,\n",
       " NaT,\n",
       " Timedelta('1 days 00:00:00'),\n",
       " NaT,\n",
       " NaT,\n",
       " NaT,\n",
       " NaT,\n",
       " NaT,\n",
       " NaT,\n",
       " NaT,\n",
       " NaT,\n",
       " NaT,\n",
       " NaT,\n",
       " NaT,\n",
       " NaT,\n",
       " NaT,\n",
       " NaT,\n",
       " NaT,\n",
       " NaT,\n",
       " NaT,\n",
       " NaT,\n",
       " NaT,\n",
       " Timedelta('0 days 00:00:00'),\n",
       " NaT,\n",
       " NaT,\n",
       " NaT,\n",
       " NaT,\n",
       " NaT,\n",
       " NaT,\n",
       " NaT,\n",
       " NaT,\n",
       " NaT,\n",
       " NaT,\n",
       " NaT,\n",
       " NaT,\n",
       " NaT,\n",
       " NaT,\n",
       " NaT,\n",
       " NaT,\n",
       " NaT,\n",
       " NaT,\n",
       " NaT,\n",
       " NaT,\n",
       " NaT,\n",
       " NaT,\n",
       " NaT,\n",
       " NaT,\n",
       " NaT,\n",
       " NaT,\n",
       " NaT,\n",
       " NaT,\n",
       " NaT,\n",
       " NaT,\n",
       " NaT,\n",
       " NaT,\n",
       " NaT,\n",
       " NaT,\n",
       " NaT,\n",
       " NaT,\n",
       " NaT,\n",
       " NaT,\n",
       " NaT,\n",
       " NaT,\n",
       " NaT,\n",
       " NaT,\n",
       " NaT,\n",
       " NaT,\n",
       " NaT,\n",
       " NaT,\n",
       " NaT,\n",
       " NaT,\n",
       " NaT,\n",
       " NaT,\n",
       " NaT,\n",
       " NaT,\n",
       " NaT,\n",
       " Timedelta('2 days 00:00:00'),\n",
       " NaT,\n",
       " NaT,\n",
       " NaT,\n",
       " NaT,\n",
       " NaT,\n",
       " NaT,\n",
       " NaT,\n",
       " NaT,\n",
       " Timedelta('0 days 00:00:00'),\n",
       " NaT,\n",
       " NaT,\n",
       " NaT,\n",
       " NaT,\n",
       " NaT,\n",
       " NaT,\n",
       " NaT,\n",
       " NaT,\n",
       " NaT,\n",
       " NaT,\n",
       " Timedelta('0 days 00:00:00'),\n",
       " NaT,\n",
       " NaT,\n",
       " Timedelta('0 days 00:00:00'),\n",
       " NaT,\n",
       " Timedelta('0 days 00:00:00'),\n",
       " NaT,\n",
       " NaT,\n",
       " NaT,\n",
       " NaT,\n",
       " NaT,\n",
       " NaT,\n",
       " NaT,\n",
       " NaT,\n",
       " Timedelta('33 days 00:00:00'),\n",
       " NaT,\n",
       " NaT,\n",
       " NaT,\n",
       " NaT,\n",
       " Timedelta('1 days 00:00:00'),\n",
       " NaT,\n",
       " NaT,\n",
       " NaT,\n",
       " NaT,\n",
       " NaT,\n",
       " NaT,\n",
       " NaT,\n",
       " NaT,\n",
       " NaT,\n",
       " NaT,\n",
       " NaT,\n",
       " NaT,\n",
       " NaT,\n",
       " NaT,\n",
       " NaT,\n",
       " NaT,\n",
       " NaT,\n",
       " NaT,\n",
       " Timedelta('0 days 00:00:00'),\n",
       " NaT,\n",
       " NaT,\n",
       " NaT,\n",
       " NaT,\n",
       " NaT,\n",
       " NaT,\n",
       " NaT,\n",
       " NaT,\n",
       " NaT,\n",
       " NaT,\n",
       " NaT,\n",
       " NaT,\n",
       " NaT,\n",
       " NaT,\n",
       " NaT,\n",
       " NaT,\n",
       " NaT,\n",
       " NaT,\n",
       " NaT,\n",
       " Timedelta('3 days 00:00:00'),\n",
       " Timedelta('0 days 00:00:00'),\n",
       " NaT,\n",
       " NaT,\n",
       " NaT,\n",
       " NaT,\n",
       " NaT,\n",
       " NaT,\n",
       " NaT,\n",
       " NaT,\n",
       " NaT,\n",
       " NaT,\n",
       " NaT,\n",
       " NaT,\n",
       " Timedelta('0 days 00:00:00'),\n",
       " NaT,\n",
       " Timedelta('0 days 00:00:00'),\n",
       " NaT,\n",
       " NaT,\n",
       " NaT,\n",
       " NaT,\n",
       " NaT,\n",
       " NaT,\n",
       " NaT,\n",
       " NaT,\n",
       " NaT,\n",
       " NaT,\n",
       " NaT,\n",
       " NaT,\n",
       " NaT,\n",
       " NaT,\n",
       " NaT,\n",
       " Timedelta('0 days 00:00:00'),\n",
       " Timedelta('20 days 00:00:00'),\n",
       " NaT,\n",
       " Timedelta('0 days 00:00:00'),\n",
       " NaT,\n",
       " NaT,\n",
       " NaT,\n",
       " NaT,\n",
       " NaT,\n",
       " NaT,\n",
       " NaT,\n",
       " Timedelta('0 days 00:00:00'),\n",
       " NaT,\n",
       " NaT,\n",
       " NaT,\n",
       " NaT,\n",
       " NaT,\n",
       " NaT,\n",
       " NaT,\n",
       " NaT,\n",
       " NaT,\n",
       " NaT,\n",
       " NaT,\n",
       " NaT,\n",
       " NaT,\n",
       " NaT,\n",
       " NaT,\n",
       " NaT,\n",
       " NaT,\n",
       " NaT,\n",
       " NaT,\n",
       " NaT,\n",
       " NaT,\n",
       " NaT,\n",
       " NaT,\n",
       " NaT,\n",
       " NaT,\n",
       " NaT,\n",
       " NaT,\n",
       " NaT,\n",
       " NaT,\n",
       " NaT,\n",
       " NaT,\n",
       " NaT,\n",
       " NaT,\n",
       " NaT,\n",
       " NaT,\n",
       " NaT,\n",
       " NaT,\n",
       " NaT,\n",
       " NaT,\n",
       " NaT,\n",
       " NaT,\n",
       " NaT,\n",
       " NaT,\n",
       " NaT,\n",
       " NaT,\n",
       " NaT,\n",
       " NaT,\n",
       " NaT,\n",
       " NaT,\n",
       " NaT,\n",
       " NaT,\n",
       " NaT,\n",
       " NaT,\n",
       " NaT,\n",
       " NaT,\n",
       " NaT,\n",
       " NaT,\n",
       " NaT,\n",
       " NaT,\n",
       " Timedelta('0 days 00:00:00'),\n",
       " NaT,\n",
       " NaT,\n",
       " NaT,\n",
       " NaT,\n",
       " NaT,\n",
       " NaT,\n",
       " NaT,\n",
       " NaT,\n",
       " NaT,\n",
       " NaT,\n",
       " NaT,\n",
       " NaT,\n",
       " Timedelta('0 days 00:00:00'),\n",
       " NaT,\n",
       " NaT,\n",
       " NaT,\n",
       " NaT,\n",
       " NaT,\n",
       " NaT,\n",
       " NaT,\n",
       " NaT,\n",
       " NaT,\n",
       " NaT,\n",
       " NaT,\n",
       " NaT,\n",
       " NaT,\n",
       " NaT,\n",
       " NaT,\n",
       " Timedelta('0 days 00:00:00'),\n",
       " NaT,\n",
       " NaT,\n",
       " NaT,\n",
       " NaT,\n",
       " NaT,\n",
       " NaT,\n",
       " NaT,\n",
       " NaT,\n",
       " NaT,\n",
       " NaT,\n",
       " NaT,\n",
       " NaT,\n",
       " Timedelta('1 days 00:00:00'),\n",
       " NaT,\n",
       " NaT,\n",
       " NaT,\n",
       " NaT,\n",
       " NaT,\n",
       " NaT,\n",
       " NaT,\n",
       " NaT,\n",
       " NaT,\n",
       " Timedelta('4 days 00:00:00'),\n",
       " NaT,\n",
       " NaT,\n",
       " NaT,\n",
       " NaT,\n",
       " NaT,\n",
       " NaT,\n",
       " NaT,\n",
       " NaT,\n",
       " NaT,\n",
       " NaT,\n",
       " NaT,\n",
       " NaT,\n",
       " NaT,\n",
       " NaT,\n",
       " NaT,\n",
       " NaT,\n",
       " NaT,\n",
       " NaT,\n",
       " NaT,\n",
       " NaT,\n",
       " NaT,\n",
       " NaT,\n",
       " NaT,\n",
       " NaT,\n",
       " NaT,\n",
       " NaT,\n",
       " NaT,\n",
       " NaT,\n",
       " NaT,\n",
       " NaT,\n",
       " Timedelta('0 days 00:00:00'),\n",
       " NaT,\n",
       " Timedelta('0 days 00:00:00'),\n",
       " NaT,\n",
       " NaT,\n",
       " NaT,\n",
       " NaT,\n",
       " NaT,\n",
       " NaT,\n",
       " NaT,\n",
       " NaT,\n",
       " NaT,\n",
       " NaT,\n",
       " Timedelta('0 days 00:00:00'),\n",
       " NaT,\n",
       " Timedelta('20 days 00:00:00'),\n",
       " Timedelta('1 days 00:00:00'),\n",
       " NaT,\n",
       " NaT,\n",
       " NaT,\n",
       " NaT,\n",
       " Timedelta('0 days 00:00:00'),\n",
       " NaT,\n",
       " NaT,\n",
       " NaT,\n",
       " Timedelta('1 days 00:00:00'),\n",
       " NaT,\n",
       " NaT,\n",
       " NaT,\n",
       " NaT,\n",
       " NaT,\n",
       " Timedelta('1 days 00:00:00'),\n",
       " NaT,\n",
       " NaT,\n",
       " NaT,\n",
       " NaT,\n",
       " NaT,\n",
       " NaT,\n",
       " NaT,\n",
       " NaT,\n",
       " NaT,\n",
       " NaT,\n",
       " NaT,\n",
       " NaT,\n",
       " NaT,\n",
       " NaT,\n",
       " NaT,\n",
       " NaT,\n",
       " NaT,\n",
       " NaT,\n",
       " NaT,\n",
       " NaT,\n",
       " Timedelta('1 days 00:00:00'),\n",
       " Timedelta('20 days 00:00:00'),\n",
       " Timedelta('0 days 00:00:00'),\n",
       " NaT,\n",
       " NaT,\n",
       " NaT,\n",
       " NaT,\n",
       " NaT,\n",
       " NaT,\n",
       " NaT,\n",
       " NaT,\n",
       " NaT,\n",
       " Timedelta('0 days 00:00:00'),\n",
       " NaT,\n",
       " NaT,\n",
       " NaT,\n",
       " NaT,\n",
       " NaT,\n",
       " NaT,\n",
       " NaT,\n",
       " NaT,\n",
       " NaT,\n",
       " NaT,\n",
       " Timedelta('0 days 00:00:00'),\n",
       " NaT,\n",
       " NaT,\n",
       " NaT,\n",
       " NaT,\n",
       " NaT,\n",
       " NaT,\n",
       " NaT,\n",
       " NaT,\n",
       " NaT,\n",
       " NaT,\n",
       " NaT,\n",
       " Timedelta('0 days 00:00:00'),\n",
       " NaT,\n",
       " NaT,\n",
       " NaT,\n",
       " NaT,\n",
       " NaT,\n",
       " NaT,\n",
       " NaT,\n",
       " NaT,\n",
       " Timedelta('0 days 00:00:00'),\n",
       " NaT,\n",
       " NaT,\n",
       " Timedelta('1 days 00:00:00'),\n",
       " NaT,\n",
       " NaT,\n",
       " NaT,\n",
       " NaT,\n",
       " NaT,\n",
       " NaT,\n",
       " NaT,\n",
       " NaT,\n",
       " NaT,\n",
       " NaT,\n",
       " Timedelta('0 days 00:00:00'),\n",
       " NaT,\n",
       " NaT,\n",
       " NaT,\n",
       " NaT,\n",
       " NaT,\n",
       " NaT,\n",
       " NaT,\n",
       " NaT,\n",
       " NaT,\n",
       " NaT,\n",
       " NaT,\n",
       " NaT,\n",
       " NaT,\n",
       " Timedelta('8 days 00:00:00'),\n",
       " NaT,\n",
       " NaT,\n",
       " NaT,\n",
       " NaT,\n",
       " NaT,\n",
       " NaT,\n",
       " NaT,\n",
       " NaT,\n",
       " NaT,\n",
       " NaT,\n",
       " NaT,\n",
       " NaT,\n",
       " NaT,\n",
       " NaT,\n",
       " NaT,\n",
       " NaT,\n",
       " NaT,\n",
       " NaT,\n",
       " NaT,\n",
       " NaT,\n",
       " NaT,\n",
       " NaT,\n",
       " Timedelta('0 days 00:00:00'),\n",
       " NaT,\n",
       " NaT,\n",
       " NaT,\n",
       " NaT,\n",
       " NaT,\n",
       " NaT,\n",
       " NaT,\n",
       " NaT,\n",
       " NaT,\n",
       " Timedelta('0 days 00:00:00'),\n",
       " NaT,\n",
       " NaT,\n",
       " NaT,\n",
       " NaT,\n",
       " NaT,\n",
       " NaT,\n",
       " NaT,\n",
       " NaT,\n",
       " NaT,\n",
       " NaT,\n",
       " NaT,\n",
       " NaT,\n",
       " NaT,\n",
       " NaT,\n",
       " NaT,\n",
       " NaT,\n",
       " NaT,\n",
       " NaT,\n",
       " NaT,\n",
       " NaT,\n",
       " NaT,\n",
       " NaT,\n",
       " NaT,\n",
       " NaT,\n",
       " NaT,\n",
       " NaT,\n",
       " NaT,\n",
       " NaT,\n",
       " NaT,\n",
       " NaT,\n",
       " NaT,\n",
       " NaT,\n",
       " NaT,\n",
       " NaT,\n",
       " NaT,\n",
       " NaT,\n",
       " NaT,\n",
       " NaT,\n",
       " Timedelta('4 days 00:00:00'),\n",
       " NaT,\n",
       " NaT,\n",
       " NaT,\n",
       " NaT,\n",
       " NaT,\n",
       " NaT,\n",
       " NaT,\n",
       " NaT,\n",
       " NaT,\n",
       " NaT,\n",
       " NaT,\n",
       " NaT,\n",
       " NaT,\n",
       " NaT,\n",
       " NaT,\n",
       " NaT,\n",
       " NaT,\n",
       " NaT,\n",
       " NaT,\n",
       " NaT,\n",
       " NaT,\n",
       " NaT,\n",
       " Timedelta('0 days 00:00:00'),\n",
       " NaT,\n",
       " NaT,\n",
       " NaT,\n",
       " NaT,\n",
       " NaT,\n",
       " NaT,\n",
       " NaT,\n",
       " Timedelta('0 days 00:00:00'),\n",
       " NaT,\n",
       " NaT,\n",
       " NaT,\n",
       " NaT,\n",
       " NaT,\n",
       " NaT,\n",
       " NaT,\n",
       " NaT,\n",
       " NaT,\n",
       " NaT,\n",
       " NaT,\n",
       " Timedelta('0 days 00:00:00'),\n",
       " Timedelta('0 days 00:00:00'),\n",
       " NaT,\n",
       " NaT,\n",
       " NaT,\n",
       " NaT,\n",
       " NaT,\n",
       " NaT,\n",
       " NaT,\n",
       " NaT,\n",
       " NaT,\n",
       " NaT,\n",
       " Timedelta('0 days 00:00:00'),\n",
       " NaT,\n",
       " NaT,\n",
       " NaT,\n",
       " NaT,\n",
       " NaT,\n",
       " NaT,\n",
       " NaT,\n",
       " NaT,\n",
       " NaT,\n",
       " NaT,\n",
       " NaT,\n",
       " NaT,\n",
       " NaT,\n",
       " NaT,\n",
       " NaT,\n",
       " NaT,\n",
       " NaT,\n",
       " NaT,\n",
       " NaT,\n",
       " NaT,\n",
       " Timedelta('1 days 00:00:00'),\n",
       " NaT,\n",
       " NaT,\n",
       " NaT,\n",
       " NaT,\n",
       " NaT,\n",
       " Timedelta('0 days 00:00:00'),\n",
       " Timedelta('0 days 00:00:00'),\n",
       " NaT,\n",
       " NaT,\n",
       " NaT,\n",
       " Timedelta('83 days 00:00:00'),\n",
       " NaT,\n",
       " NaT,\n",
       " NaT,\n",
       " Timedelta('0 days 00:00:00'),\n",
       " NaT,\n",
       " NaT,\n",
       " NaT,\n",
       " NaT,\n",
       " NaT,\n",
       " Timedelta('1 days 00:00:00'),\n",
       " NaT,\n",
       " Timedelta('0 days 00:00:00'),\n",
       " NaT,\n",
       " Timedelta('73 days 00:00:00'),\n",
       " NaT,\n",
       " Timedelta('16 days 00:00:00'),\n",
       " NaT,\n",
       " NaT,\n",
       " NaT,\n",
       " NaT,\n",
       " NaT,\n",
       " NaT,\n",
       " NaT,\n",
       " NaT,\n",
       " NaT,\n",
       " NaT,\n",
       " NaT,\n",
       " NaT,\n",
       " NaT,\n",
       " NaT,\n",
       " NaT,\n",
       " NaT,\n",
       " NaT,\n",
       " NaT,\n",
       " NaT,\n",
       " NaT,\n",
       " Timedelta('0 days 00:00:00'),\n",
       " NaT,\n",
       " NaT,\n",
       " NaT,\n",
       " NaT,\n",
       " NaT,\n",
       " NaT,\n",
       " NaT,\n",
       " NaT,\n",
       " NaT,\n",
       " NaT,\n",
       " NaT,\n",
       " NaT,\n",
       " NaT,\n",
       " NaT,\n",
       " NaT,\n",
       " NaT,\n",
       " NaT,\n",
       " NaT,\n",
       " NaT,\n",
       " NaT,\n",
       " NaT,\n",
       " NaT,\n",
       " NaT,\n",
       " NaT,\n",
       " NaT,\n",
       " NaT,\n",
       " NaT,\n",
       " NaT,\n",
       " NaT,\n",
       " NaT,\n",
       " NaT,\n",
       " NaT,\n",
       " NaT,\n",
       " Timedelta('0 days 00:00:00'),\n",
       " NaT,\n",
       " Timedelta('0 days 00:00:00'),\n",
       " NaT,\n",
       " NaT,\n",
       " NaT,\n",
       " Timedelta('2 days 00:00:00'),\n",
       " NaT,\n",
       " NaT,\n",
       " NaT,\n",
       " Timedelta('20 days 00:00:00'),\n",
       " NaT,\n",
       " NaT,\n",
       " Timedelta('1 days 00:00:00'),\n",
       " NaT,\n",
       " NaT,\n",
       " Timedelta('4 days 00:00:00'),\n",
       " NaT,\n",
       " NaT,\n",
       " NaT,\n",
       " NaT,\n",
       " NaT,\n",
       " NaT,\n",
       " NaT,\n",
       " NaT,\n",
       " NaT,\n",
       " NaT,\n",
       " NaT,\n",
       " NaT,\n",
       " NaT,\n",
       " NaT,\n",
       " NaT,\n",
       " NaT,\n",
       " NaT,\n",
       " NaT,\n",
       " NaT,\n",
       " NaT,\n",
       " NaT,\n",
       " NaT,\n",
       " NaT,\n",
       " NaT,\n",
       " NaT,\n",
       " NaT,\n",
       " NaT,\n",
       " NaT,\n",
       " NaT,\n",
       " NaT,\n",
       " NaT,\n",
       " NaT,\n",
       " NaT,\n",
       " NaT,\n",
       " NaT,\n",
       " NaT,\n",
       " NaT,\n",
       " NaT,\n",
       " NaT,\n",
       " NaT,\n",
       " Timedelta('7 days 00:00:00'),\n",
       " Timedelta('0 days 00:00:00'),\n",
       " NaT,\n",
       " NaT,\n",
       " NaT,\n",
       " NaT,\n",
       " NaT,\n",
       " NaT,\n",
       " NaT,\n",
       " NaT,\n",
       " NaT,\n",
       " NaT,\n",
       " NaT,\n",
       " NaT,\n",
       " NaT,\n",
       " Timedelta('0 days 00:00:00'),\n",
       " NaT,\n",
       " NaT,\n",
       " NaT,\n",
       " NaT,\n",
       " NaT,\n",
       " Timedelta('0 days 00:00:00'),\n",
       " Timedelta('0 days 00:00:00'),\n",
       " Timedelta('0 days 00:00:00'),\n",
       " NaT,\n",
       " NaT,\n",
       " NaT,\n",
       " NaT,\n",
       " NaT,\n",
       " NaT,\n",
       " NaT,\n",
       " NaT,\n",
       " NaT,\n",
       " NaT,\n",
       " Timedelta('1 days 00:00:00'),\n",
       " NaT,\n",
       " Timedelta('0 days 00:00:00'),\n",
       " NaT,\n",
       " NaT,\n",
       " NaT,\n",
       " NaT,\n",
       " NaT,\n",
       " NaT,\n",
       " NaT,\n",
       " NaT,\n",
       " NaT,\n",
       " NaT,\n",
       " NaT,\n",
       " Timedelta('1 days 00:00:00'),\n",
       " NaT,\n",
       " NaT,\n",
       " NaT,\n",
       " NaT,\n",
       " NaT,\n",
       " NaT,\n",
       " NaT,\n",
       " NaT,\n",
       " NaT,\n",
       " NaT,\n",
       " NaT,\n",
       " NaT,\n",
       " NaT,\n",
       " NaT,\n",
       " NaT,\n",
       " NaT,\n",
       " NaT,\n",
       " NaT,\n",
       " NaT,\n",
       " NaT,\n",
       " NaT,\n",
       " NaT,\n",
       " NaT,\n",
       " NaT,\n",
       " NaT,\n",
       " NaT,\n",
       " Timedelta('0 days 00:00:00'),\n",
       " NaT,\n",
       " NaT,\n",
       " ...]"
      ]
     },
     "execution_count": 161,
     "metadata": {},
     "output_type": "execute_result"
    }
   ],
   "source": [
    "kkk = list(kk[('biz_dt', 1)].values());kkk"
   ]
  },
  {
   "cell_type": "code",
   "execution_count": null,
   "metadata": {},
   "outputs": [],
   "source": []
  },
  {
   "cell_type": "code",
   "execution_count": 163,
   "metadata": {
    "scrolled": true
   },
   "outputs": [
    {
     "ename": "TypeError",
     "evalue": "ufunc 'isnan' not supported for the input types, and the inputs could not be safely coerced to any supported types according to the casting rule ''safe''",
     "output_type": "error",
     "traceback": [
      "\u001b[0;31m---------------------------------------------------------------------------\u001b[0m",
      "\u001b[0;31mTypeError\u001b[0m                                 Traceback (most recent call last)",
      "\u001b[0;32m<ipython-input-163-ef6e3613f502>\u001b[0m in \u001b[0;36m<module>\u001b[0;34m()\u001b[0m\n\u001b[0;32m----> 1\u001b[0;31m \u001b[0;34m~\u001b[0m\u001b[0mnp\u001b[0m\u001b[0;34m.\u001b[0m\u001b[0misnan\u001b[0m\u001b[0;34m(\u001b[0m\u001b[0mkkk\u001b[0m\u001b[0;34m)\u001b[0m\u001b[0;34m\u001b[0m\u001b[0m\n\u001b[0m",
      "\u001b[0;31mTypeError\u001b[0m: ufunc 'isnan' not supported for the input types, and the inputs could not be safely coerced to any supported types according to the casting rule ''safe''"
     ]
    }
   ],
   "source": [
    "~np.isnan(kkk)"
   ]
  },
  {
   "cell_type": "code",
   "execution_count": null,
   "metadata": {},
   "outputs": [],
   "source": []
  },
  {
   "cell_type": "code",
   "execution_count": null,
   "metadata": {},
   "outputs": [],
   "source": []
  },
  {
   "cell_type": "code",
   "execution_count": null,
   "metadata": {},
   "outputs": [],
   "source": []
  },
  {
   "cell_type": "code",
   "execution_count": null,
   "metadata": {},
   "outputs": [],
   "source": []
  },
  {
   "cell_type": "code",
   "execution_count": null,
   "metadata": {},
   "outputs": [],
   "source": []
  },
  {
   "cell_type": "code",
   "execution_count": 113,
   "metadata": {},
   "outputs": [
    {
     "data": {
      "text/html": [
       "<div>\n",
       "<style scoped>\n",
       "    .dataframe tbody tr th:only-of-type {\n",
       "        vertical-align: middle;\n",
       "    }\n",
       "\n",
       "    .dataframe tbody tr th {\n",
       "        vertical-align: top;\n",
       "    }\n",
       "\n",
       "    .dataframe thead th {\n",
       "        text-align: right;\n",
       "    }\n",
       "</style>\n",
       "<table border=\"1\" class=\"dataframe\">\n",
       "  <thead>\n",
       "    <tr style=\"text-align: right;\">\n",
       "      <th></th>\n",
       "      <th></th>\n",
       "      <th>biz_dt</th>\n",
       "    </tr>\n",
       "    <tr>\n",
       "      <th>mid</th>\n",
       "      <th></th>\n",
       "      <th></th>\n",
       "    </tr>\n",
       "  </thead>\n",
       "  <tbody>\n",
       "    <tr>\n",
       "      <th rowspan=\"2\" valign=\"top\">1009146</th>\n",
       "      <th>0</th>\n",
       "      <td>NaT</td>\n",
       "    </tr>\n",
       "    <tr>\n",
       "      <th>1</th>\n",
       "      <td>1 days</td>\n",
       "    </tr>\n",
       "    <tr>\n",
       "      <th>1013554</th>\n",
       "      <th>0</th>\n",
       "      <td>NaT</td>\n",
       "    </tr>\n",
       "    <tr>\n",
       "      <th>1018083</th>\n",
       "      <th>0</th>\n",
       "      <td>NaT</td>\n",
       "    </tr>\n",
       "    <tr>\n",
       "      <th>1021530</th>\n",
       "      <th>0</th>\n",
       "      <td>NaT</td>\n",
       "    </tr>\n",
       "    <tr>\n",
       "      <th>1033964</th>\n",
       "      <th>0</th>\n",
       "      <td>NaT</td>\n",
       "    </tr>\n",
       "    <tr>\n",
       "      <th>1037700</th>\n",
       "      <th>0</th>\n",
       "      <td>NaT</td>\n",
       "    </tr>\n",
       "    <tr>\n",
       "      <th>1041642</th>\n",
       "      <th>0</th>\n",
       "      <td>NaT</td>\n",
       "    </tr>\n",
       "    <tr>\n",
       "      <th>1054369</th>\n",
       "      <th>0</th>\n",
       "      <td>NaT</td>\n",
       "    </tr>\n",
       "    <tr>\n",
       "      <th>1062532</th>\n",
       "      <th>0</th>\n",
       "      <td>NaT</td>\n",
       "    </tr>\n",
       "    <tr>\n",
       "      <th>1072788</th>\n",
       "      <th>0</th>\n",
       "      <td>NaT</td>\n",
       "    </tr>\n",
       "    <tr>\n",
       "      <th>1073627</th>\n",
       "      <th>0</th>\n",
       "      <td>NaT</td>\n",
       "    </tr>\n",
       "    <tr>\n",
       "      <th>1088417</th>\n",
       "      <th>0</th>\n",
       "      <td>NaT</td>\n",
       "    </tr>\n",
       "    <tr>\n",
       "      <th>1096412</th>\n",
       "      <th>0</th>\n",
       "      <td>NaT</td>\n",
       "    </tr>\n",
       "    <tr>\n",
       "      <th>1115061</th>\n",
       "      <th>0</th>\n",
       "      <td>NaT</td>\n",
       "    </tr>\n",
       "    <tr>\n",
       "      <th>1131003</th>\n",
       "      <th>0</th>\n",
       "      <td>NaT</td>\n",
       "    </tr>\n",
       "    <tr>\n",
       "      <th>1143939</th>\n",
       "      <th>0</th>\n",
       "      <td>NaT</td>\n",
       "    </tr>\n",
       "    <tr>\n",
       "      <th>1144764</th>\n",
       "      <th>0</th>\n",
       "      <td>NaT</td>\n",
       "    </tr>\n",
       "    <tr>\n",
       "      <th>1153970</th>\n",
       "      <th>0</th>\n",
       "      <td>NaT</td>\n",
       "    </tr>\n",
       "    <tr>\n",
       "      <th rowspan=\"7\" valign=\"top\">1167947</th>\n",
       "      <th>0</th>\n",
       "      <td>NaT</td>\n",
       "    </tr>\n",
       "    <tr>\n",
       "      <th>1</th>\n",
       "      <td>15 days</td>\n",
       "    </tr>\n",
       "    <tr>\n",
       "      <th>2</th>\n",
       "      <td>20 days</td>\n",
       "    </tr>\n",
       "    <tr>\n",
       "      <th>3</th>\n",
       "      <td>7 days</td>\n",
       "    </tr>\n",
       "    <tr>\n",
       "      <th>4</th>\n",
       "      <td>15 days</td>\n",
       "    </tr>\n",
       "    <tr>\n",
       "      <th>5</th>\n",
       "      <td>4 days</td>\n",
       "    </tr>\n",
       "    <tr>\n",
       "      <th>6</th>\n",
       "      <td>0 days</td>\n",
       "    </tr>\n",
       "    <tr>\n",
       "      <th>1180097</th>\n",
       "      <th>0</th>\n",
       "      <td>NaT</td>\n",
       "    </tr>\n",
       "    <tr>\n",
       "      <th>1181649</th>\n",
       "      <th>0</th>\n",
       "      <td>NaT</td>\n",
       "    </tr>\n",
       "    <tr>\n",
       "      <th>1184814</th>\n",
       "      <th>0</th>\n",
       "      <td>NaT</td>\n",
       "    </tr>\n",
       "    <tr>\n",
       "      <th>1187798</th>\n",
       "      <th>0</th>\n",
       "      <td>NaT</td>\n",
       "    </tr>\n",
       "    <tr>\n",
       "      <th>...</th>\n",
       "      <th>...</th>\n",
       "      <td>...</td>\n",
       "    </tr>\n",
       "    <tr>\n",
       "      <th rowspan=\"2\" valign=\"top\">25956180</th>\n",
       "      <th>0</th>\n",
       "      <td>NaT</td>\n",
       "    </tr>\n",
       "    <tr>\n",
       "      <th>1</th>\n",
       "      <td>0 days</td>\n",
       "    </tr>\n",
       "    <tr>\n",
       "      <th>25961215</th>\n",
       "      <th>0</th>\n",
       "      <td>NaT</td>\n",
       "    </tr>\n",
       "    <tr>\n",
       "      <th>25964182</th>\n",
       "      <th>0</th>\n",
       "      <td>NaT</td>\n",
       "    </tr>\n",
       "    <tr>\n",
       "      <th>25966010</th>\n",
       "      <th>0</th>\n",
       "      <td>NaT</td>\n",
       "    </tr>\n",
       "    <tr>\n",
       "      <th>25967219</th>\n",
       "      <th>0</th>\n",
       "      <td>NaT</td>\n",
       "    </tr>\n",
       "    <tr>\n",
       "      <th>25970961</th>\n",
       "      <th>0</th>\n",
       "      <td>NaT</td>\n",
       "    </tr>\n",
       "    <tr>\n",
       "      <th>25974243</th>\n",
       "      <th>0</th>\n",
       "      <td>NaT</td>\n",
       "    </tr>\n",
       "    <tr>\n",
       "      <th>25978987</th>\n",
       "      <th>0</th>\n",
       "      <td>NaT</td>\n",
       "    </tr>\n",
       "    <tr>\n",
       "      <th>25988013</th>\n",
       "      <th>0</th>\n",
       "      <td>NaT</td>\n",
       "    </tr>\n",
       "    <tr>\n",
       "      <th>25990201</th>\n",
       "      <th>0</th>\n",
       "      <td>NaT</td>\n",
       "    </tr>\n",
       "    <tr>\n",
       "      <th>26003159</th>\n",
       "      <th>0</th>\n",
       "      <td>NaT</td>\n",
       "    </tr>\n",
       "    <tr>\n",
       "      <th>26034726</th>\n",
       "      <th>0</th>\n",
       "      <td>NaT</td>\n",
       "    </tr>\n",
       "    <tr>\n",
       "      <th>26039992</th>\n",
       "      <th>0</th>\n",
       "      <td>NaT</td>\n",
       "    </tr>\n",
       "    <tr>\n",
       "      <th>26051689</th>\n",
       "      <th>0</th>\n",
       "      <td>NaT</td>\n",
       "    </tr>\n",
       "    <tr>\n",
       "      <th>26051940</th>\n",
       "      <th>0</th>\n",
       "      <td>NaT</td>\n",
       "    </tr>\n",
       "    <tr>\n",
       "      <th>26056047</th>\n",
       "      <th>0</th>\n",
       "      <td>NaT</td>\n",
       "    </tr>\n",
       "    <tr>\n",
       "      <th>26058081</th>\n",
       "      <th>0</th>\n",
       "      <td>NaT</td>\n",
       "    </tr>\n",
       "    <tr>\n",
       "      <th>26071823</th>\n",
       "      <th>0</th>\n",
       "      <td>NaT</td>\n",
       "    </tr>\n",
       "    <tr>\n",
       "      <th>26073430</th>\n",
       "      <th>0</th>\n",
       "      <td>NaT</td>\n",
       "    </tr>\n",
       "    <tr>\n",
       "      <th>26075382</th>\n",
       "      <th>0</th>\n",
       "      <td>NaT</td>\n",
       "    </tr>\n",
       "    <tr>\n",
       "      <th>26075460</th>\n",
       "      <th>0</th>\n",
       "      <td>NaT</td>\n",
       "    </tr>\n",
       "    <tr>\n",
       "      <th>26077986</th>\n",
       "      <th>0</th>\n",
       "      <td>NaT</td>\n",
       "    </tr>\n",
       "    <tr>\n",
       "      <th>26085672</th>\n",
       "      <th>0</th>\n",
       "      <td>NaT</td>\n",
       "    </tr>\n",
       "    <tr>\n",
       "      <th>26089235</th>\n",
       "      <th>0</th>\n",
       "      <td>NaT</td>\n",
       "    </tr>\n",
       "    <tr>\n",
       "      <th>26091804</th>\n",
       "      <th>0</th>\n",
       "      <td>NaT</td>\n",
       "    </tr>\n",
       "    <tr>\n",
       "      <th>26101863</th>\n",
       "      <th>0</th>\n",
       "      <td>NaT</td>\n",
       "    </tr>\n",
       "    <tr>\n",
       "      <th>26106918</th>\n",
       "      <th>0</th>\n",
       "      <td>NaT</td>\n",
       "    </tr>\n",
       "    <tr>\n",
       "      <th>26115848</th>\n",
       "      <th>0</th>\n",
       "      <td>NaT</td>\n",
       "    </tr>\n",
       "    <tr>\n",
       "      <th>26116449</th>\n",
       "      <th>0</th>\n",
       "      <td>NaT</td>\n",
       "    </tr>\n",
       "  </tbody>\n",
       "</table>\n",
       "<p>1583 rows × 1 columns</p>\n",
       "</div>"
      ],
      "text/plain": [
       "            biz_dt\n",
       "mid               \n",
       "1009146  0     NaT\n",
       "         1  1 days\n",
       "1013554  0     NaT\n",
       "1018083  0     NaT\n",
       "1021530  0     NaT\n",
       "1033964  0     NaT\n",
       "1037700  0     NaT\n",
       "1041642  0     NaT\n",
       "1054369  0     NaT\n",
       "1062532  0     NaT\n",
       "1072788  0     NaT\n",
       "1073627  0     NaT\n",
       "1088417  0     NaT\n",
       "1096412  0     NaT\n",
       "1115061  0     NaT\n",
       "1131003  0     NaT\n",
       "1143939  0     NaT\n",
       "1144764  0     NaT\n",
       "1153970  0     NaT\n",
       "1167947  0     NaT\n",
       "         1 15 days\n",
       "         2 20 days\n",
       "         3  7 days\n",
       "         4 15 days\n",
       "         5  4 days\n",
       "         6  0 days\n",
       "1180097  0     NaT\n",
       "1181649  0     NaT\n",
       "1184814  0     NaT\n",
       "1187798  0     NaT\n",
       "...            ...\n",
       "25956180 0     NaT\n",
       "         1  0 days\n",
       "25961215 0     NaT\n",
       "25964182 0     NaT\n",
       "25966010 0     NaT\n",
       "25967219 0     NaT\n",
       "25970961 0     NaT\n",
       "25974243 0     NaT\n",
       "25978987 0     NaT\n",
       "25988013 0     NaT\n",
       "25990201 0     NaT\n",
       "26003159 0     NaT\n",
       "26034726 0     NaT\n",
       "26039992 0     NaT\n",
       "26051689 0     NaT\n",
       "26051940 0     NaT\n",
       "26056047 0     NaT\n",
       "26058081 0     NaT\n",
       "26071823 0     NaT\n",
       "26073430 0     NaT\n",
       "26075382 0     NaT\n",
       "26075460 0     NaT\n",
       "26077986 0     NaT\n",
       "26085672 0     NaT\n",
       "26089235 0     NaT\n",
       "26091804 0     NaT\n",
       "26101863 0     NaT\n",
       "26106918 0     NaT\n",
       "26115848 0     NaT\n",
       "26116449 0     NaT\n",
       "\n",
       "[1583 rows x 1 columns]"
      ]
     },
     "execution_count": 113,
     "metadata": {},
     "output_type": "execute_result"
    }
   ],
   "source": [
    "pd.DataFrame(ext_monitor_diff)"
   ]
  },
  {
   "cell_type": "code",
   "execution_count": 93,
   "metadata": {},
   "outputs": [
    {
     "data": {
      "text/plain": [
       "(1583,)"
      ]
     },
     "execution_count": 93,
     "metadata": {},
     "output_type": "execute_result"
    }
   ],
   "source": [
    "ext_monitor_diff.shape"
   ]
  },
  {
   "cell_type": "code",
   "execution_count": 94,
   "metadata": {},
   "outputs": [],
   "source": [
    "#dropna\n",
    "ext_monitor_diff = ext_monitor_diff.dropna()"
   ]
  },
  {
   "cell_type": "code",
   "execution_count": 98,
   "metadata": {},
   "outputs": [
    {
     "data": {
      "text/plain": [
       "mid        \n",
       "1009146   1     1 days 00:00:00\n",
       "1167947   1    15 days 00:00:00\n",
       "          2    20 days 00:00:00\n",
       "          3     7 days 00:00:00\n",
       "          4    15 days 00:00:00\n",
       "          5     4 days 00:00:00\n",
       "          6     0 days 00:00:00\n",
       "1341244   1     0 days 00:00:00\n",
       "1345458   1     0 days 00:00:00\n",
       "1446641   1     0 days 00:00:00\n",
       "          2     0 days 00:00:00\n",
       "          3     0 days 00:00:00\n",
       "          4    29 days 00:00:00\n",
       "1508515   1    45 days 00:00:00\n",
       "1590770   1     1 days 00:00:00\n",
       "1712482   1     3 days 00:00:00\n",
       "1731961   1     0 days 00:00:00\n",
       "1799295   1     0 days 00:00:00\n",
       "1808032   1     3 days 00:00:00\n",
       "          2    10 days 00:00:00\n",
       "1887990   1     1 days 00:00:00\n",
       "2057474   1     7 days 00:00:00\n",
       "2078326   1     0 days 00:00:00\n",
       "2115361   1     0 days 00:00:00\n",
       "2269063   1     1 days 00:00:00\n",
       "2411590   1     0 days 00:00:00\n",
       "2557803   1    59 days 00:00:00\n",
       "2712720   1     1 days 00:00:00\n",
       "2866411   1     0 days 00:00:00\n",
       "3520669   1     2 days 00:00:00\n",
       "                     ...       \n",
       "22546211  1     0 days 00:00:00\n",
       "22756726  1     0 days 00:00:00\n",
       "22972975  1    57 days 00:00:00\n",
       "23160984  1     0 days 00:00:00\n",
       "23657489  1     1 days 00:00:00\n",
       "23681387  1     0 days 00:00:00\n",
       "          2     9 days 00:00:00\n",
       "          3     0 days 00:00:00\n",
       "24161648  1    26 days 00:00:00\n",
       "24269480  1    35 days 00:00:00\n",
       "24985488  1     0 days 00:00:00\n",
       "25016972  1     0 days 00:00:00\n",
       "          2     0 days 00:00:00\n",
       "25225527  1    13 days 00:00:00\n",
       "25233804  1    20 days 00:00:00\n",
       "25252192  1     6 days 00:00:00\n",
       "          2    23 days 00:00:00\n",
       "          3    41 days 00:00:00\n",
       "25315968  1     0 days 00:00:00\n",
       "          2     0 days 00:00:00\n",
       "          3     0 days 00:00:00\n",
       "          4     3 days 00:00:00\n",
       "25472643  1     4 days 00:00:00\n",
       "25633096  1     0 days 00:00:00\n",
       "25675820  1     1 days 00:00:00\n",
       "          2     0 days 00:00:00\n",
       "25796748  1     0 days 00:00:00\n",
       "          2     4 days 00:00:00\n",
       "          3     5 days 00:00:00\n",
       "25956180  1     0 days 00:00:00\n",
       "Name: biz_dt, Length: 160, dtype: object"
      ]
     },
     "execution_count": 98,
     "metadata": {},
     "output_type": "execute_result"
    }
   ],
   "source": [
    "ext_monitor_diff"
   ]
  },
  {
   "cell_type": "code",
   "execution_count": 99,
   "metadata": {},
   "outputs": [
    {
     "data": {
      "text/plain": [
       "mid        \n",
       "1009146   1     1 days 00:00:00\n",
       "1167947   1    15 days 00:00:00\n",
       "          2    20 days 00:00:00\n",
       "          3     7 days 00:00:00\n",
       "          4    15 days 00:00:00\n",
       "          5     4 days 00:00:00\n",
       "          6     0 days 00:00:00\n",
       "1341244   1     0 days 00:00:00\n",
       "1345458   1     0 days 00:00:00\n",
       "1446641   1     0 days 00:00:00\n",
       "          2     0 days 00:00:00\n",
       "          3     0 days 00:00:00\n",
       "          4    29 days 00:00:00\n",
       "1508515   1    45 days 00:00:00\n",
       "1590770   1     1 days 00:00:00\n",
       "1712482   1     3 days 00:00:00\n",
       "1731961   1     0 days 00:00:00\n",
       "1799295   1     0 days 00:00:00\n",
       "1808032   1     3 days 00:00:00\n",
       "          2    10 days 00:00:00\n",
       "1887990   1     1 days 00:00:00\n",
       "2057474   1     7 days 00:00:00\n",
       "2078326   1     0 days 00:00:00\n",
       "2115361   1     0 days 00:00:00\n",
       "2269063   1     1 days 00:00:00\n",
       "2411590   1     0 days 00:00:00\n",
       "2557803   1    59 days 00:00:00\n",
       "2712720   1     1 days 00:00:00\n",
       "2866411   1     0 days 00:00:00\n",
       "3520669   1     2 days 00:00:00\n",
       "                     ...       \n",
       "22546211  1     0 days 00:00:00\n",
       "22756726  1     0 days 00:00:00\n",
       "22972975  1    57 days 00:00:00\n",
       "23160984  1     0 days 00:00:00\n",
       "23657489  1     1 days 00:00:00\n",
       "23681387  1     0 days 00:00:00\n",
       "          2     9 days 00:00:00\n",
       "          3     0 days 00:00:00\n",
       "24161648  1    26 days 00:00:00\n",
       "24269480  1    35 days 00:00:00\n",
       "24985488  1     0 days 00:00:00\n",
       "25016972  1     0 days 00:00:00\n",
       "          2     0 days 00:00:00\n",
       "25225527  1    13 days 00:00:00\n",
       "25233804  1    20 days 00:00:00\n",
       "25252192  1     6 days 00:00:00\n",
       "          2    23 days 00:00:00\n",
       "          3    41 days 00:00:00\n",
       "25315968  1     0 days 00:00:00\n",
       "          2     0 days 00:00:00\n",
       "          3     0 days 00:00:00\n",
       "          4     3 days 00:00:00\n",
       "25472643  1     4 days 00:00:00\n",
       "25633096  1     0 days 00:00:00\n",
       "25675820  1     1 days 00:00:00\n",
       "          2     0 days 00:00:00\n",
       "25796748  1     0 days 00:00:00\n",
       "          2     4 days 00:00:00\n",
       "          3     5 days 00:00:00\n",
       "25956180  1     0 days 00:00:00\n",
       "Name: biz_dt, Length: 160, dtype: object"
      ]
     },
     "execution_count": 99,
     "metadata": {},
     "output_type": "execute_result"
    }
   ],
   "source": [
    "ext_monitor_diff"
   ]
  },
  {
   "cell_type": "code",
   "execution_count": 38,
   "metadata": {},
   "outputs": [],
   "source": [
    "ext_monitor_diff.to_csv('ext_monitor_diff.csv')"
   ]
  },
  {
   "cell_type": "code",
   "execution_count": 39,
   "metadata": {},
   "outputs": [],
   "source": [
    "# 동일일자 구매는 제거하고, 평균 구하기\n",
    "\n",
    "filter = pd.Timedelta('0')"
   ]
  },
  {
   "cell_type": "code",
   "execution_count": 40,
   "metadata": {},
   "outputs": [
    {
     "data": {
      "text/plain": [
       "biz_dt   13 days 00:37:53.684210\n",
       "dtype: timedelta64[ns]"
      ]
     },
     "execution_count": 40,
     "metadata": {},
     "output_type": "execute_result"
    }
   ],
   "source": [
    "ext_monitor_diff[ext_monitor_diff.biz_dt > filter].mean()  # 8일 정도네!"
   ]
  },
  {
   "cell_type": "code",
   "execution_count": 41,
   "metadata": {},
   "outputs": [
    {
     "data": {
      "text/plain": [
       "(160, 1)"
      ]
     },
     "execution_count": 41,
     "metadata": {},
     "output_type": "execute_result"
    }
   ],
   "source": [
    "ext_monitor_diff.shape"
   ]
  },
  {
   "cell_type": "code",
   "execution_count": 42,
   "metadata": {},
   "outputs": [
    {
     "data": {
      "text/plain": [
       "1.2571428571428573"
      ]
     },
     "execution_count": 42,
     "metadata": {},
     "output_type": "execute_result"
    }
   ],
   "source": [
    "8.8/7"
   ]
  },
  {
   "cell_type": "code",
   "execution_count": 43,
   "metadata": {},
   "outputs": [
    {
     "data": {
      "text/plain": [
       "1.8571428571428572"
      ]
     },
     "execution_count": 43,
     "metadata": {},
     "output_type": "execute_result"
    }
   ],
   "source": [
    "13/7"
   ]
  },
  {
   "cell_type": "markdown",
   "metadata": {},
   "source": [
    "### # groupby된, series데이터를 어떻게 하나의 열을 갖는 dataframe으로 관리할 수 있을까?"
   ]
  },
  {
   "cell_type": "code",
   "execution_count": 44,
   "metadata": {},
   "outputs": [
    {
     "data": {
      "text/plain": [
       "pandas.core.series.Series"
      ]
     },
     "execution_count": 44,
     "metadata": {},
     "output_type": "execute_result"
    }
   ],
   "source": [
    "type(ext_monitor_diff.biz_dt)  # series 데이터야"
   ]
  },
  {
   "cell_type": "markdown",
   "metadata": {},
   "source": [
    "---"
   ]
  },
  {
   "cell_type": "code",
   "execution_count": 45,
   "metadata": {},
   "outputs": [],
   "source": [
    "# 이게 해결책이 될 수 있다 : values를 빼왔는데, 이들의 type를 timedelta로 밝혀준거지! 그리고 저장하고!\n",
    "\n",
    "ext_monitor_diff_days = ext_monitor_diff.values.astype('timedelta64[D]')"
   ]
  },
  {
   "cell_type": "code",
   "execution_count": 46,
   "metadata": {},
   "outputs": [],
   "source": [
    "ext_monitor_diff_days = ext_monitor_diff_days/ np.timedelta64(1, 'D')"
   ]
  },
  {
   "cell_type": "code",
   "execution_count": 47,
   "metadata": {},
   "outputs": [
    {
     "data": {
      "text/html": [
       "<div>\n",
       "<style scoped>\n",
       "    .dataframe tbody tr th:only-of-type {\n",
       "        vertical-align: middle;\n",
       "    }\n",
       "\n",
       "    .dataframe tbody tr th {\n",
       "        vertical-align: top;\n",
       "    }\n",
       "\n",
       "    .dataframe thead th {\n",
       "        text-align: right;\n",
       "    }\n",
       "</style>\n",
       "<table border=\"1\" class=\"dataframe\">\n",
       "  <thead>\n",
       "    <tr style=\"text-align: right;\">\n",
       "      <th></th>\n",
       "      <th>time</th>\n",
       "    </tr>\n",
       "  </thead>\n",
       "  <tbody>\n",
       "    <tr>\n",
       "      <th>0</th>\n",
       "      <td>1.0</td>\n",
       "    </tr>\n",
       "    <tr>\n",
       "      <th>1</th>\n",
       "      <td>15.0</td>\n",
       "    </tr>\n",
       "    <tr>\n",
       "      <th>2</th>\n",
       "      <td>20.0</td>\n",
       "    </tr>\n",
       "    <tr>\n",
       "      <th>3</th>\n",
       "      <td>7.0</td>\n",
       "    </tr>\n",
       "    <tr>\n",
       "      <th>4</th>\n",
       "      <td>15.0</td>\n",
       "    </tr>\n",
       "  </tbody>\n",
       "</table>\n",
       "</div>"
      ],
      "text/plain": [
       "   time\n",
       "0   1.0\n",
       "1  15.0\n",
       "2  20.0\n",
       "3   7.0\n",
       "4  15.0"
      ]
     },
     "execution_count": 47,
     "metadata": {},
     "output_type": "execute_result"
    }
   ],
   "source": [
    "ext_monitor_diff_days_ = pd.DataFrame(ext_monitor_diff_days, columns = ['time']);ext_monitor_diff_days_.head()"
   ]
  },
  {
   "cell_type": "markdown",
   "metadata": {},
   "source": [
    "---"
   ]
  },
  {
   "cell_type": "code",
   "execution_count": 50,
   "metadata": {},
   "outputs": [
    {
     "data": {
      "text/plain": [
       "array([[<matplotlib.axes._subplots.AxesSubplot object at 0x1a165a9630>]],\n",
       "      dtype=object)"
      ]
     },
     "execution_count": 50,
     "metadata": {},
     "output_type": "execute_result"
    },
    {
     "data": {
      "image/png": "[encoded data removed]",
      "text/plain": [
       "<Figure size 432x288 with 1 Axes>"
      ]
     },
     "metadata": {
      "needs_background": "light"
     },
     "output_type": "display_data"
    }
   ],
   "source": [
    "ext_monitor_diff_days_.hist(bins=30)  "
   ]
  },
  {
   "cell_type": "code",
   "execution_count": 52,
   "metadata": {
    "scrolled": true
   },
   "outputs": [
    {
     "data": {
      "text/plain": [
       "array([[<matplotlib.axes._subplots.AxesSubplot object at 0x1a1659cf60>]],\n",
       "      dtype=object)"
      ]
     },
     "execution_count": 52,
     "metadata": {},
     "output_type": "execute_result"
    },
    {
     "data": {
      "image/png": "[encoded data removed]",
      "text/plain": [
       "<Figure size 432x288 with 1 Axes>"
      ]
     },
     "metadata": {
      "needs_background": "light"
     },
     "output_type": "display_data"
    }
   ],
   "source": [
    "# 0을 제외하고\n",
    "ext_monitor_diff_days_[ext_monitor_diff_days_.time != 0].hist(bins=30)"
   ]
  },
  {
   "cell_type": "code",
   "execution_count": 55,
   "metadata": {},
   "outputs": [
    {
     "data": {
      "text/plain": [
       "(84, 1)"
      ]
     },
     "execution_count": 55,
     "metadata": {},
     "output_type": "execute_result"
    }
   ],
   "source": [
    "ext_monitor_diff_days_[ext_monitor_diff_days_.time == 0].shape"
   ]
  },
  {
   "cell_type": "code",
   "execution_count": 53,
   "metadata": {},
   "outputs": [
    {
     "data": {
      "text/plain": [
       "76"
      ]
     },
     "execution_count": 53,
     "metadata": {},
     "output_type": "execute_result"
    }
   ],
   "source": [
    "np.array([ext_monitor_diff_days_.time != 0]).sum()"
   ]
  },
  {
   "cell_type": "markdown",
   "metadata": {},
   "source": [
    "---"
   ]
  },
  {
   "cell_type": "code",
   "execution_count": 48,
   "metadata": {},
   "outputs": [],
   "source": [
    "ext_monitor_diff_days_inver = 1/ext_monitor_diff_days_[ext_monitor_diff_days_!=0]  # 이렇게하면, ext_monitor_diff_days_!=0 가 dataframe으로 나와\n",
    "                                                # 이유는, ext_monitor_diff_days.time != 0 이런식으로 안해서.(series vs dataframe)\n",
    "\n",
    "    ext_monitor_diff_days_iver = ext_monitor_diff_days_inver.dropna()    "
   ]
  },
  {
   "cell_type": "code",
   "execution_count": 50,
   "metadata": {},
   "outputs": [],
   "source": [
    "ext_monitor_diff_days_inver7 = ext_monitor_diff_days_iver*7"
   ]
  },
  {
   "cell_type": "code",
   "execution_count": 53,
   "metadata": {
    "scrolled": true
   },
   "outputs": [
    {
     "data": {
      "text/plain": [
       "array([[<matplotlib.axes._subplots.AxesSubplot object at 0x116105240>]],\n",
       "      dtype=object)"
      ]
     },
     "execution_count": 53,
     "metadata": {},
     "output_type": "execute_result"
    },
    {
     "data": {
      "image/png": "[encoded data removed]",
      "text/plain": [
       "<Figure size 432x288 with 1 Axes>"
      ]
     },
     "metadata": {
      "needs_background": "light"
     },
     "output_type": "display_data"
    }
   ],
   "source": [
    "ext_monitor_diff_days_inver7.hist(bins=70)  # 구매주기가 짧으니깐 이렇게 나온다..."
   ]
  },
  {
   "cell_type": "code",
   "execution_count": 56,
   "metadata": {},
   "outputs": [
    {
     "data": {
      "text/plain": [
       "(0.9453224943509928, 0.24578493124550185)"
      ]
     },
     "execution_count": 56,
     "metadata": {},
     "output_type": "execute_result"
    }
   ],
   "source": [
    "#차장님이 주신 3개월치의 데이터에서는 alpha : 0.991580757, beta : 1.804783562\n",
    "\n",
    "alpha_, _,scale_ = stats.gamma.fit(ext_monitor_diff_days_inver7, floc=0);alpha_, 1/scale_ "
   ]
  },
  {
   "cell_type": "markdown",
   "metadata": {},
   "source": [
    "---"
   ]
  },
  {
   "cell_type": "markdown",
   "metadata": {},
   "source": [
    "---"
   ]
  },
  {
   "cell_type": "markdown",
   "metadata": {},
   "source": [
    "- (번외): 어느정도 기간의 거래데이터인가?"
   ]
  },
  {
   "cell_type": "code",
   "execution_count": 57,
   "metadata": {
    "scrolled": true
   },
   "outputs": [
    {
     "data": {
      "text/plain": [
       "1559   2018-10-31 23:47:51\n",
       "Name: biz_dt, dtype: datetime64[ns]"
      ]
     },
     "execution_count": 57,
     "metadata": {},
     "output_type": "execute_result"
    }
   ],
   "source": [
    "ext_monitor[-1:].biz_dt"
   ]
  },
  {
   "cell_type": "markdown",
   "metadata": {},
   "source": [
    "----"
   ]
  },
  {
   "cell_type": "markdown",
   "metadata": {},
   "source": [
    "---"
   ]
  },
  {
   "cell_type": "markdown",
   "metadata": {},
   "source": [
    "- #### (2) ver2의 '구매횟수' 관점"
   ]
  },
  {
   "cell_type": "code",
   "execution_count": null,
   "metadata": {},
   "outputs": [],
   "source": [
    "# 같은 일자는 '거래일=1'로 본다.\n",
    "'''\n",
    "def day(data):\n",
    "    c = data.dt.date.nunique()\n",
    "    return c\n",
    "'''"
   ]
  },
  {
   "cell_type": "code",
   "execution_count": 66,
   "metadata": {},
   "outputs": [],
   "source": [
    "# 같은 일자의 거래도, '모든' 거래로 본다.\n",
    "def day(data):\n",
    "    c = data.nunique()\n",
    "    return c\n"
   ]
  },
  {
   "cell_type": "code",
   "execution_count": 67,
   "metadata": {},
   "outputs": [],
   "source": [
    "ext_monitor_buy = groups['biz_dt'].apply(day)"
   ]
  },
  {
   "cell_type": "code",
   "execution_count": 68,
   "metadata": {
    "scrolled": true
   },
   "outputs": [
    {
     "data": {
      "text/plain": [
       "mid\n",
       "1000319    1\n",
       "1009758    1\n",
       "1015504    1\n",
       "1022764    1\n",
       "1032048    2\n",
       "1043076    1\n",
       "1048764    1\n",
       "1054000    1\n",
       "1054119    1\n",
       "1054955    1\n",
       "Name: biz_dt, dtype: int64"
      ]
     },
     "execution_count": 68,
     "metadata": {},
     "output_type": "execute_result"
    }
   ],
   "source": [
    "ext_monitor_buy[:10]"
   ]
  },
  {
   "cell_type": "markdown",
   "metadata": {},
   "source": [
    "---"
   ]
  },
  {
   "cell_type": "code",
   "execution_count": 69,
   "metadata": {},
   "outputs": [],
   "source": [
    "ext_monitor_buy = pd.DataFrame(ext_monitor_buy)"
   ]
  },
  {
   "cell_type": "code",
   "execution_count": 70,
   "metadata": {},
   "outputs": [
    {
     "data": {
      "text/plain": [
       "pandas.core.frame.DataFrame"
      ]
     },
     "execution_count": 70,
     "metadata": {},
     "output_type": "execute_result"
    }
   ],
   "source": [
    "type(ext_monitor_buy)"
   ]
  },
  {
   "cell_type": "code",
   "execution_count": 72,
   "metadata": {},
   "outputs": [
    {
     "data": {
      "text/plain": [
       "array([[<matplotlib.axes._subplots.AxesSubplot object at 0x1a1ab80198>]],\n",
       "      dtype=object)"
      ]
     },
     "execution_count": 72,
     "metadata": {},
     "output_type": "execute_result"
    },
    {
     "data": {
      "image/png": "[encoded data removed]",
      "text/plain": [
       "<Figure size 432x288 with 1 Axes>"
      ]
     },
     "metadata": {
      "needs_background": "light"
     },
     "output_type": "display_data"
    }
   ],
   "source": [
    "ext_monitor_buy.hist(bins=20)"
   ]
  },
  {
   "cell_type": "code",
   "execution_count": 82,
   "metadata": {},
   "outputs": [
    {
     "data": {
      "text/html": [
       "<div>\n",
       "<style scoped>\n",
       "    .dataframe tbody tr th:only-of-type {\n",
       "        vertical-align: middle;\n",
       "    }\n",
       "\n",
       "    .dataframe tbody tr th {\n",
       "        vertical-align: top;\n",
       "    }\n",
       "\n",
       "    .dataframe thead th {\n",
       "        text-align: right;\n",
       "    }\n",
       "</style>\n",
       "<table border=\"1\" class=\"dataframe\">\n",
       "  <thead>\n",
       "    <tr style=\"text-align: right;\">\n",
       "      <th></th>\n",
       "      <th>biz_dt</th>\n",
       "    </tr>\n",
       "    <tr>\n",
       "      <th>mid</th>\n",
       "      <th></th>\n",
       "    </tr>\n",
       "  </thead>\n",
       "  <tbody>\n",
       "    <tr>\n",
       "      <th>1550240</th>\n",
       "      <td>12</td>\n",
       "    </tr>\n",
       "    <tr>\n",
       "      <th>7067567</th>\n",
       "      <td>9</td>\n",
       "    </tr>\n",
       "    <tr>\n",
       "      <th>25327711</th>\n",
       "      <td>7</td>\n",
       "    </tr>\n",
       "    <tr>\n",
       "      <th>23157736</th>\n",
       "      <td>7</td>\n",
       "    </tr>\n",
       "    <tr>\n",
       "      <th>2056555</th>\n",
       "      <td>7</td>\n",
       "    </tr>\n",
       "  </tbody>\n",
       "</table>\n",
       "</div>"
      ],
      "text/plain": [
       "          biz_dt\n",
       "mid             \n",
       "1550240       12\n",
       "7067567        9\n",
       "25327711       7\n",
       "23157736       7\n",
       "2056555        7"
      ]
     },
     "execution_count": 82,
     "metadata": {},
     "output_type": "execute_result"
    }
   ],
   "source": [
    "ext_monitor_buy.sort_values(by=['biz_dt'],ascending=False).head()  # 최다 구매자가 12주에 12번 구매한사람이네"
   ]
  },
  {
   "cell_type": "code",
   "execution_count": 83,
   "metadata": {},
   "outputs": [
    {
     "data": {
      "text/html": [
       "<div>\n",
       "<style scoped>\n",
       "    .dataframe tbody tr th:only-of-type {\n",
       "        vertical-align: middle;\n",
       "    }\n",
       "\n",
       "    .dataframe tbody tr th {\n",
       "        vertical-align: top;\n",
       "    }\n",
       "\n",
       "    .dataframe thead th {\n",
       "        text-align: right;\n",
       "    }\n",
       "</style>\n",
       "<table border=\"1\" class=\"dataframe\">\n",
       "  <thead>\n",
       "    <tr style=\"text-align: right;\">\n",
       "      <th></th>\n",
       "      <th>Unnamed: 0</th>\n",
       "      <th>biz_dt</th>\n",
       "      <th>mid</th>\n",
       "      <th>price</th>\n",
       "      <th>prodNo</th>\n",
       "      <th>dcateCd</th>\n",
       "      <th>dcateNm</th>\n",
       "    </tr>\n",
       "  </thead>\n",
       "  <tbody>\n",
       "    <tr>\n",
       "      <th>27</th>\n",
       "      <td>449</td>\n",
       "      <td>2018-08-01 10:28:24</td>\n",
       "      <td>1550240</td>\n",
       "      <td>402000</td>\n",
       "      <td>102038755</td>\n",
       "      <td>4101182</td>\n",
       "      <td>Playstation</td>\n",
       "    </tr>\n",
       "    <tr>\n",
       "      <th>30</th>\n",
       "      <td>274</td>\n",
       "      <td>2018-08-01 10:30:29</td>\n",
       "      <td>1550240</td>\n",
       "      <td>515000</td>\n",
       "      <td>102042687</td>\n",
       "      <td>4101182</td>\n",
       "      <td>Playstation</td>\n",
       "    </tr>\n",
       "    <tr>\n",
       "      <th>124</th>\n",
       "      <td>830</td>\n",
       "      <td>2018-08-07 10:10:12</td>\n",
       "      <td>1550240</td>\n",
       "      <td>404000</td>\n",
       "      <td>102590529</td>\n",
       "      <td>4101182</td>\n",
       "      <td>Playstation</td>\n",
       "    </tr>\n",
       "    <tr>\n",
       "      <th>269</th>\n",
       "      <td>907</td>\n",
       "      <td>2018-08-17 13:59:07</td>\n",
       "      <td>1550240</td>\n",
       "      <td>404000</td>\n",
       "      <td>106329551</td>\n",
       "      <td>4101182</td>\n",
       "      <td>Playstation</td>\n",
       "    </tr>\n",
       "    <tr>\n",
       "      <th>271</th>\n",
       "      <td>887</td>\n",
       "      <td>2018-08-17 14:02:11</td>\n",
       "      <td>1550240</td>\n",
       "      <td>404000</td>\n",
       "      <td>106329551</td>\n",
       "      <td>4101182</td>\n",
       "      <td>Playstation</td>\n",
       "    </tr>\n",
       "    <tr>\n",
       "      <th>342</th>\n",
       "      <td>912</td>\n",
       "      <td>2018-08-22 16:11:59</td>\n",
       "      <td>1550240</td>\n",
       "      <td>404000</td>\n",
       "      <td>106329551</td>\n",
       "      <td>4101182</td>\n",
       "      <td>Playstation</td>\n",
       "    </tr>\n",
       "    <tr>\n",
       "      <th>451</th>\n",
       "      <td>510</td>\n",
       "      <td>2018-09-02 21:39:46</td>\n",
       "      <td>1550240</td>\n",
       "      <td>404000</td>\n",
       "      <td>109012990</td>\n",
       "      <td>4101182</td>\n",
       "      <td>Playstation</td>\n",
       "    </tr>\n",
       "    <tr>\n",
       "      <th>452</th>\n",
       "      <td>527</td>\n",
       "      <td>2018-09-02 21:47:12</td>\n",
       "      <td>1550240</td>\n",
       "      <td>404000</td>\n",
       "      <td>109012990</td>\n",
       "      <td>4101182</td>\n",
       "      <td>Playstation</td>\n",
       "    </tr>\n",
       "    <tr>\n",
       "      <th>676</th>\n",
       "      <td>529</td>\n",
       "      <td>2018-09-14 23:25:24</td>\n",
       "      <td>1550240</td>\n",
       "      <td>404000</td>\n",
       "      <td>109012990</td>\n",
       "      <td>4101182</td>\n",
       "      <td>Playstation</td>\n",
       "    </tr>\n",
       "    <tr>\n",
       "      <th>847</th>\n",
       "      <td>1033</td>\n",
       "      <td>2018-10-01 12:48:39</td>\n",
       "      <td>1550240</td>\n",
       "      <td>404000</td>\n",
       "      <td>109012990</td>\n",
       "      <td>4101182</td>\n",
       "      <td>Playstation</td>\n",
       "    </tr>\n",
       "    <tr>\n",
       "      <th>1457</th>\n",
       "      <td>980</td>\n",
       "      <td>2018-10-26 12:44:32</td>\n",
       "      <td>1550240</td>\n",
       "      <td>404000</td>\n",
       "      <td>109012990</td>\n",
       "      <td>4101182</td>\n",
       "      <td>Playstation</td>\n",
       "    </tr>\n",
       "    <tr>\n",
       "      <th>1461</th>\n",
       "      <td>1020</td>\n",
       "      <td>2018-10-26 12:51:41</td>\n",
       "      <td>1550240</td>\n",
       "      <td>404000</td>\n",
       "      <td>109012990</td>\n",
       "      <td>4101182</td>\n",
       "      <td>Playstation</td>\n",
       "    </tr>\n",
       "  </tbody>\n",
       "</table>\n",
       "</div>"
      ],
      "text/plain": [
       "      Unnamed: 0              biz_dt      mid   price     prodNo  dcateCd  \\\n",
       "27           449 2018-08-01 10:28:24  1550240  402000  102038755  4101182   \n",
       "30           274 2018-08-01 10:30:29  1550240  515000  102042687  4101182   \n",
       "124          830 2018-08-07 10:10:12  1550240  404000  102590529  4101182   \n",
       "269          907 2018-08-17 13:59:07  1550240  404000  106329551  4101182   \n",
       "271          887 2018-08-17 14:02:11  1550240  404000  106329551  4101182   \n",
       "342          912 2018-08-22 16:11:59  1550240  404000  106329551  4101182   \n",
       "451          510 2018-09-02 21:39:46  1550240  404000  109012990  4101182   \n",
       "452          527 2018-09-02 21:47:12  1550240  404000  109012990  4101182   \n",
       "676          529 2018-09-14 23:25:24  1550240  404000  109012990  4101182   \n",
       "847         1033 2018-10-01 12:48:39  1550240  404000  109012990  4101182   \n",
       "1457         980 2018-10-26 12:44:32  1550240  404000  109012990  4101182   \n",
       "1461        1020 2018-10-26 12:51:41  1550240  404000  109012990  4101182   \n",
       "\n",
       "          dcateNm  \n",
       "27    Playstation  \n",
       "30    Playstation  \n",
       "124   Playstation  \n",
       "269   Playstation  \n",
       "271   Playstation  \n",
       "342   Playstation  \n",
       "451   Playstation  \n",
       "452   Playstation  \n",
       "676   Playstation  \n",
       "847   Playstation  \n",
       "1457  Playstation  \n",
       "1461  Playstation  "
      ]
     },
     "execution_count": 83,
     "metadata": {},
     "output_type": "execute_result"
    }
   ],
   "source": [
    "#최다 구매자의 구매정보\n",
    "\n",
    "ext_monitor[ext_monitor.mid==1550240]"
   ]
  },
  {
   "cell_type": "code",
   "execution_count": 73,
   "metadata": {},
   "outputs": [],
   "source": [
    "ext_monitor_buy_ = ext_monitor_buy/12.0  # 12주의 데이터(3달)"
   ]
  },
  {
   "cell_type": "code",
   "execution_count": 75,
   "metadata": {},
   "outputs": [
    {
     "data": {
      "text/plain": [
       "array([[<matplotlib.axes._subplots.AxesSubplot object at 0x1a1ae7b198>]],\n",
       "      dtype=object)"
      ]
     },
     "execution_count": 75,
     "metadata": {},
     "output_type": "execute_result"
    },
    {
     "data": {
      "image/png": "[encoded data removed]",
      "text/plain": [
       "<Figure size 432x288 with 1 Axes>"
      ]
     },
     "metadata": {
      "needs_background": "light"
     },
     "output_type": "display_data"
    }
   ],
   "source": [
    "ext_monitor_buy_.hist(bins=20)"
   ]
  },
  {
   "cell_type": "code",
   "execution_count": 76,
   "metadata": {},
   "outputs": [],
   "source": [
    "import scipy.stats as stats"
   ]
  },
  {
   "cell_type": "code",
   "execution_count": 84,
   "metadata": {},
   "outputs": [
    {
     "data": {
      "text/plain": [
       "(6.149540825318489, 60.49818541664676)"
      ]
     },
     "execution_count": 84,
     "metadata": {},
     "output_type": "execute_result"
    }
   ],
   "source": [
    "alpha, _,scale = stats.gamma.fit(ext_monitor_buy_, floc=0);alpha,1/scale "
   ]
  },
  {
   "cell_type": "code",
   "execution_count": 85,
   "metadata": {},
   "outputs": [
    {
     "data": {
      "text/plain": [
       "0.10164835164835165"
      ]
     },
     "execution_count": 85,
     "metadata": {},
     "output_type": "execute_result"
    }
   ],
   "source": [
    "alpha*scale"
   ]
  },
  {
   "cell_type": "markdown",
   "metadata": {},
   "source": [
    "---"
   ]
  },
  {
   "cell_type": "markdown",
   "metadata": {},
   "source": [
    "## # Step2. Fittng"
   ]
  },
  {
   "cell_type": "markdown",
   "metadata": {},
   "source": [
    "실장님 '생수/탄산수' 주기 사용"
   ]
  },
  {
   "cell_type": "markdown",
   "metadata": {},
   "source": [
    "### # ver(2) 로 먼저"
   ]
  },
  {
   "cell_type": "code",
   "execution_count": 178,
   "metadata": {},
   "outputs": [
    {
     "data": {
      "text/plain": [
       "array([ 0,  5, 10])"
      ]
     },
     "execution_count": 178,
     "metadata": {},
     "output_type": "execute_result"
    }
   ],
   "source": [
    "time = np.arange(0,11,5);time"
   ]
  },
  {
   "cell_type": "markdown",
   "metadata": {},
   "source": [
    "* ####  (1)실장님 원래 주기 : 주기가 넘어갔을때"
   ]
  },
  {
   "cell_type": "code",
   "execution_count": 106,
   "metadata": {},
   "outputs": [],
   "source": [
    "# 실장님 원래 주기 : 주기가 넘어갔을때\n",
    "\n",
    "k, t_purch, tmean_u, t_ ,alpha, beta = 1, 0, 1.65667903525046 , 2.6 , 6.149540825318489, 60.4981854166467"
   ]
  },
  {
   "cell_type": "code",
   "execution_count": 107,
   "metadata": {},
   "outputs": [],
   "source": [
    "# 함수로 출력되는게 많게했어! & unit time을 1주일로 변경.\n",
    "\n",
    "def func_lamb(t_purch, tmean_u, t_ , alpha, beta, k):\n",
    "\n",
    "    if t_purch == 0:  # t_purch가 0이라는 소리는, k=1이라는 소리겠지! 그러니깐 앞의 값이 0이 되게끔 한거야.\n",
    "        lamb = (alpha/(2*abs(tmean_u-t_)+beta))\n",
    "        lamb_0 = (alpha/(2*abs(tmean_u)+beta))   # 최저값 : t=0\n",
    "        lamb_1 = (alpha/+beta)     # 최고값 : |tmean-t|=0\n",
    "    else:\n",
    "        lamb = (k/t_purch+(alpha/(2*abs(tmean_u-t_)+beta)))\n",
    "        lamb_0 = (k/t_purch+(alpha/(2*abs(tmean_u)+beta)))   # 최저값 : t=0  \n",
    "        lamb_1 = (k/t_purch+(alpha/+beta))     #최고값 : |tmean-t|=0\n",
    "    return lamb,lamb_0, lamb_1, t_, t_purch, tmean_u, k"
   ]
  },
  {
   "cell_type": "code",
   "execution_count": 108,
   "metadata": {},
   "outputs": [
    {
     "name": "stdout",
     "output_type": "stream",
     "text": [
      "0.09857430222892836 0.09637035071181248 0.10164835164835175\n"
     ]
    }
   ],
   "source": [
    "lamb, lamb_0, lamb_1, t_, t_purch, tmean_u, k = func_lamb(t_purch, tmean_u, t_ , alpha, beta, k)\n",
    "\n",
    "print(lamb, lamb_0, lamb_1)"
   ]
  },
  {
   "cell_type": "code",
   "execution_count": 109,
   "metadata": {
    "scrolled": false
   },
   "outputs": [
    {
     "name": "stdout",
     "output_type": "stream",
     "text": [
      "pred : 0.0938716372441255 , max : 0.0966528436384787 , min : 0.09187237193168829\n",
      "scaling : 0.4182150706168519\n"
     ]
    }
   ],
   "source": [
    "       \n",
    "if lamb < lamb_0: # 일자별, 이런 경우가 있을수도 있어 - 마지막 구매부터 너무 너무 멀어지면!\n",
    "    lamb_0 = lamb\n",
    "pred = (1-stats.poisson.pmf(mu = lamb, k=0))\n",
    "max =  (1-stats.poisson.pmf(mu = lamb_1, k=0))  # max\n",
    "min =  (1-stats.poisson.pmf(mu = lamb_0, k=0))  # min\n",
    "scal = (pred - min)/(max - min)\n",
    "\n",
    "print('pred : {}'.format(pred), ', max : {}'.format(max), ', min : {}'.format(min))\n",
    "print('scaling : {}'.format(scal))"
   ]
  },
  {
   "cell_type": "markdown",
   "metadata": {},
   "source": [
    ": 일단, lambda의 값이 작기때문에, lambda 범위가 너무 좁아!!"
   ]
  },
  {
   "cell_type": "markdown",
   "metadata": {},
   "source": [
    "---"
   ]
  },
  {
   "cell_type": "markdown",
   "metadata": {},
   "source": [
    "- #### (2)주기가 평균일때"
   ]
  },
  {
   "cell_type": "code",
   "execution_count": 110,
   "metadata": {},
   "outputs": [],
   "source": [
    "# 주기가 평균일때\n",
    "\n",
    "k, t_purch, tmean_u, t_ ,alpha, beta = 1, 0, 1.65667903525046 , 1.65667903525046 , 6.149540825318489, 60.4981854166467"
   ]
  },
  {
   "cell_type": "code",
   "execution_count": 111,
   "metadata": {},
   "outputs": [],
   "source": [
    "# 함수로 출력되는게 많게했어! & unit time을 1주일로 변경.\n",
    "\n",
    "def func_lamb(t_purch, tmean_u, t_ , alpha, beta, k):\n",
    "\n",
    "    if t_purch == 0:  # t_purch가 0이라는 소리는, k=1이라는 소리겠지! 그러니깐 앞의 값이 0이 되게끔 한거야.\n",
    "        lamb = (alpha/(2*abs(tmean_u-t_)+beta))\n",
    "        lamb_0 = (alpha/(2*abs(tmean_u)+beta))   # 최저값 : t=0\n",
    "        lamb_1 = (alpha/+beta)     # 최고값 : |tmean-t|=0\n",
    "    else:\n",
    "        lamb = (k/t_purch+(alpha/(2*abs(tmean_u-t_)+beta)))\n",
    "        lamb_0 = (k/t_purch+(alpha/(2*abs(tmean_u)+beta)))   # 최저값 : t=0  \n",
    "        lamb_1 = (k/t_purch+(alpha/+beta))     #최고값 : |tmean-t|=0\n",
    "    return lamb,lamb_0, lamb_1, t_, t_purch, tmean_u, k"
   ]
  },
  {
   "cell_type": "code",
   "execution_count": 112,
   "metadata": {},
   "outputs": [
    {
     "name": "stdout",
     "output_type": "stream",
     "text": [
      "0.10164835164835175 0.09637035071181248 0.10164835164835175\n"
     ]
    }
   ],
   "source": [
    "lamb, lamb_0, lamb_1, t_, t_purch, tmean_u, k = func_lamb(t_purch, tmean_u, t_ , alpha, beta, k)\n",
    "\n",
    "print(lamb, lamb_0, lamb_1)"
   ]
  },
  {
   "cell_type": "code",
   "execution_count": 113,
   "metadata": {
    "scrolled": false
   },
   "outputs": [
    {
     "name": "stdout",
     "output_type": "stream",
     "text": [
      "pred : 0.0966528436384787 , max : 0.0966528436384787 , min : 0.09187237193168829\n",
      "scaling : 1.0\n"
     ]
    }
   ],
   "source": [
    "       \n",
    "if lamb < lamb_0: # 일자별, 이런 경우가 있을수도 있어 - 마지막 구매부터 너무 너무 멀어지면!\n",
    "    lamb_0 = lamb\n",
    "pred = (1-stats.poisson.pmf(mu = lamb, k=0))\n",
    "max =  (1-stats.poisson.pmf(mu = lamb_1, k=0))  # max\n",
    "min =  (1-stats.poisson.pmf(mu = lamb_0, k=0))  # min\n",
    "scal = (pred - min)/(max - min)\n",
    "\n",
    "print('pred : {}'.format(pred), ', max : {}'.format(max), ', min : {}'.format(min))\n",
    "print('scaling : {}'.format(scal))"
   ]
  },
  {
   "cell_type": "markdown",
   "metadata": {},
   "source": [
    "---"
   ]
  },
  {
   "cell_type": "markdown",
   "metadata": {},
   "source": [
    "- #### (3)주기가 평균 - 1 주"
   ]
  },
  {
   "cell_type": "code",
   "execution_count": 114,
   "metadata": {},
   "outputs": [],
   "source": [
    "# 주기가 평균 - 1.5 주\n",
    "\n",
    "k, t_purch, tmean_u, t_ ,alpha, beta = 1, 0, 1.65667903525046 , 1.65667903525046-1 , 6.149540825318489, 60.4981854166467"
   ]
  },
  {
   "cell_type": "code",
   "execution_count": 115,
   "metadata": {},
   "outputs": [],
   "source": [
    "# 함수로 출력되는게 많게했어! & unit time을 1주일로 변경.\n",
    "\n",
    "def func_lamb(t_purch, tmean_u, t_ , alpha, beta, k):\n",
    "\n",
    "    if t_purch == 0:  # t_purch가 0이라는 소리는, k=1이라는 소리겠지! 그러니깐 앞의 값이 0이 되게끔 한거야.\n",
    "        lamb = (alpha/(2*abs(tmean_u-t_)+beta))\n",
    "        lamb_0 = (alpha/(2*abs(tmean_u)+beta))   # 최저값 : t=0\n",
    "        lamb_1 = (alpha/+beta)     # 최고값 : |tmean-t|=0\n",
    "    else:\n",
    "        lamb = (k/t_purch+(alpha/(2*abs(tmean_u-t_)+beta)))\n",
    "        lamb_0 = (k/t_purch+(alpha/(2*abs(tmean_u)+beta)))   # 최저값 : t=0  \n",
    "        lamb_1 = (k/t_purch+(alpha/+beta))     #최고값 : |tmean-t|=0\n",
    "    return lamb,lamb_0, lamb_1, t_, t_purch, tmean_u, k"
   ]
  },
  {
   "cell_type": "code",
   "execution_count": 116,
   "metadata": {},
   "outputs": [
    {
     "name": "stdout",
     "output_type": "stream",
     "text": [
      "0.09839550995476629 0.09637035071181248 0.10164835164835175\n"
     ]
    }
   ],
   "source": [
    "lamb, lamb_0, lamb_1, t_, t_purch, tmean_u, k = func_lamb(t_purch, tmean_u, t_ , alpha, beta, k)\n",
    "\n",
    "print(lamb, lamb_0, lamb_1)"
   ]
  },
  {
   "cell_type": "code",
   "execution_count": 117,
   "metadata": {
    "scrolled": true
   },
   "outputs": [
    {
     "name": "stdout",
     "output_type": "stream",
     "text": [
      "pred : 0.09370961400964595 , max : 0.0966528436384787 , min : 0.09187237193168829\n",
      "scaling : 0.38432234110871316\n"
     ]
    }
   ],
   "source": [
    "       \n",
    "if lamb < lamb_0: # 일자별, 이런 경우가 있을수도 있어 - 마지막 구매부터 너무 너무 멀어지면!\n",
    "    lamb_0 = lamb\n",
    "pred = (1-stats.poisson.pmf(mu = lamb, k=0))\n",
    "max =  (1-stats.poisson.pmf(mu = lamb_1, k=0))  # max\n",
    "min =  (1-stats.poisson.pmf(mu = lamb_0, k=0))  # min\n",
    "scal = (pred - min)/(max - min)\n",
    "\n",
    "print('pred : {}'.format(pred), ', max : {}'.format(max), ', min : {}'.format(min))\n",
    "print('scaling : {}'.format(scal))"
   ]
  },
  {
   "cell_type": "markdown",
   "metadata": {},
   "source": [
    "- #### (4)주기가 평균-0.5 주"
   ]
  },
  {
   "cell_type": "code",
   "execution_count": 118,
   "metadata": {},
   "outputs": [],
   "source": [
    "# 주기가 평균 - .5 주\n",
    "\n",
    "k, t_purch, tmean_u, t_ ,alpha, beta = 1, 0, 1.65667903525046 , 1.65667903525046-0.5 , 6.149540825318489, 60.4981854166467"
   ]
  },
  {
   "cell_type": "code",
   "execution_count": 119,
   "metadata": {},
   "outputs": [],
   "source": [
    "# 함수로 출력되는게 많게했어! & unit time을 1주일로 변경.\n",
    "\n",
    "def func_lamb(t_purch, tmean_u, t_ , alpha, beta, k):\n",
    "\n",
    "    if t_purch == 0:  # t_purch가 0이라는 소리는, k=1이라는 소리겠지! 그러니깐 앞의 값이 0이 되게끔 한거야.\n",
    "        lamb = (alpha/(2*abs(tmean_u-t_)+beta))\n",
    "        lamb_0 = (alpha/(2*abs(tmean_u)+beta))   # 최저값 : t=0\n",
    "        lamb_1 = (alpha/+beta)     # 최고값 : |tmean-t|=0\n",
    "    else:\n",
    "        lamb = (k/t_purch+(alpha/(2*abs(tmean_u-t_)+beta)))\n",
    "        lamb_0 = (k/t_purch+(alpha/(2*abs(tmean_u)+beta)))   # 최저값 : t=0  \n",
    "        lamb_1 = (k/t_purch+(alpha/+beta))     #최고값 : |tmean-t|=0\n",
    "    return lamb,lamb_0, lamb_1, t_, t_purch, tmean_u, k"
   ]
  },
  {
   "cell_type": "code",
   "execution_count": 120,
   "metadata": {},
   "outputs": [
    {
     "name": "stdout",
     "output_type": "stream",
     "text": [
      "0.09999548415381203 0.09637035071181248 0.10164835164835175\n"
     ]
    }
   ],
   "source": [
    "lamb, lamb_0, lamb_1, t_, t_purch, tmean_u, k = func_lamb(t_purch, tmean_u, t_ , alpha, beta, k)\n",
    "\n",
    "print(lamb, lamb_0, lamb_1)"
   ]
  },
  {
   "cell_type": "code",
   "execution_count": 121,
   "metadata": {
    "scrolled": false
   },
   "outputs": [
    {
     "name": "stdout",
     "output_type": "stream",
     "text": [
      "pred : 0.09515849584820935 , max : 0.0966528436384787 , min : 0.09187237193168829\n",
      "scaling : 0.6874057871429898\n"
     ]
    }
   ],
   "source": [
    "       \n",
    "if lamb < lamb_0: # 일자별, 이런 경우가 있을수도 있어 - 마지막 구매부터 너무 너무 멀어지면!\n",
    "    lamb_0 = lamb\n",
    "pred = (1-stats.poisson.pmf(mu = lamb, k=0))\n",
    "max =  (1-stats.poisson.pmf(mu = lamb_1, k=0))  # max\n",
    "min =  (1-stats.poisson.pmf(mu = lamb_0, k=0))  # min\n",
    "scal = (pred - min)/(max - min)\n",
    "\n",
    "print('pred : {}'.format(pred), ', max : {}'.format(max), ', min : {}'.format(min))\n",
    "print('scaling : {}'.format(scal))"
   ]
  },
  {
   "cell_type": "markdown",
   "metadata": {},
   "source": [
    "---"
   ]
  },
  {
   "cell_type": "markdown",
   "metadata": {},
   "source": [
    "### #ver(1)으로"
   ]
  },
  {
   "cell_type": "markdown",
   "metadata": {},
   "source": [
    "* ####  (1)실장님 원래 주기 : 주기가 넘어갔을때"
   ]
  },
  {
   "cell_type": "code",
   "execution_count": 134,
   "metadata": {},
   "outputs": [],
   "source": [
    "# 실장님 원래 주기 : 주기가 넘어갔을때\n",
    "\n",
    "k, t_purch, tmean_u, t_ ,alpha, beta = 1, 0, 1.6566 , 1.6566+0.9 , 0.787390881, 0.230086438"
   ]
  },
  {
   "cell_type": "code",
   "execution_count": 135,
   "metadata": {},
   "outputs": [],
   "source": [
    "# 함수로 출력되는게 많게했어! & unit time을 1주일로 변경.\n",
    "\n",
    "def func_lamb(t_purch, tmean_u, t_ , alpha, beta, k):\n",
    "\n",
    "    if t_purch == 0:  # t_purch가 0이라는 소리는, k=1이라는 소리겠지! 그러니깐 앞의 값이 0이 되게끔 한거야.\n",
    "        lamb = (alpha/(2*abs(tmean_u-t_)+beta))\n",
    "        lamb_0 = (alpha/(2*abs(tmean_u)+beta))   # 최저값 : t=0\n",
    "        lamb_1 = (alpha/+beta)     # 최고값 : |tmean-t|=0\n",
    "    else:\n",
    "        lamb = (k/t_purch+(alpha/(2*abs(tmean_u-t_)+beta)))\n",
    "        lamb_0 = (k/t_purch+(alpha/(2*abs(tmean_u)+beta)))   # 최저값 : t=0  \n",
    "        lamb_1 = (k/t_purch+(alpha/+beta))     #최고값 : |tmean-t|=0\n",
    "    return lamb,lamb_0, lamb_1, t_, t_purch, tmean_u, k"
   ]
  },
  {
   "cell_type": "code",
   "execution_count": 136,
   "metadata": {},
   "outputs": [
    {
     "name": "stdout",
     "output_type": "stream",
     "text": [
      "0.38786076605473097 0.2222204991827985 3.422152508615045\n"
     ]
    }
   ],
   "source": [
    "lamb, lamb_0, lamb_1, t_, t_purch, tmean_u, k = func_lamb(t_purch, tmean_u, t_ , alpha, beta, k)\n",
    "\n",
    "print(lamb, lamb_0, lamb_1)"
   ]
  },
  {
   "cell_type": "code",
   "execution_count": 137,
   "metadata": {
    "scrolled": false
   },
   "outputs": [
    {
     "name": "stdout",
     "output_type": "stream",
     "text": [
      "pred : 0.32149319213263694 , max : 0.9673579031301974 , min : 0.19926121737989\n",
      "scaling : 0.15913618300975466\n"
     ]
    }
   ],
   "source": [
    "       \n",
    "if lamb < lamb_0: # 일자별, 이런 경우가 있을수도 있어 - 마지막 구매부터 너무 너무 멀어지면!\n",
    "    lamb_0 = lamb\n",
    "pred = (1-stats.poisson.pmf(mu = lamb, k=0))\n",
    "max =  (1-stats.poisson.pmf(mu = lamb_1, k=0))  # max\n",
    "min =  (1-stats.poisson.pmf(mu = lamb_0, k=0))  # min\n",
    "scal = (pred - min)/(max - min)\n",
    "\n",
    "print('pred : {}'.format(pred), ', max : {}'.format(max), ', min : {}'.format(min))\n",
    "print('scaling : {}'.format(scal))"
   ]
  },
  {
   "cell_type": "markdown",
   "metadata": {},
   "source": [
    ": 일단, lambda의 값이 작기때문에, lambda 범위가 너무 좁아!!"
   ]
  },
  {
   "cell_type": "markdown",
   "metadata": {},
   "source": [
    "---"
   ]
  },
  {
   "cell_type": "markdown",
   "metadata": {},
   "source": [
    "- #### (2)주기가 평균일때"
   ]
  },
  {
   "cell_type": "code",
   "execution_count": 138,
   "metadata": {},
   "outputs": [],
   "source": [
    "# 주기가 평균일때\n",
    "\n",
    "k, t_purch, tmean_u, t_ ,alpha, beta = 1, 0, 1.6566 , 1.6566 , 0.787390881, 0.230086438"
   ]
  },
  {
   "cell_type": "code",
   "execution_count": 139,
   "metadata": {},
   "outputs": [],
   "source": [
    "# 함수로 출력되는게 많게했어! & unit time을 1주일로 변경.\n",
    "\n",
    "def func_lamb(t_purch, tmean_u, t_ , alpha, beta, k):\n",
    "\n",
    "    if t_purch == 0:  # t_purch가 0이라는 소리는, k=1이라는 소리겠지! 그러니깐 앞의 값이 0이 되게끔 한거야.\n",
    "        lamb = (alpha/(2*abs(tmean_u-t_)+beta))\n",
    "        lamb_0 = (alpha/(2*abs(tmean_u)+beta))   # 최저값 : t=0\n",
    "        lamb_1 = (alpha/+beta)     # 최고값 : |tmean-t|=0\n",
    "    else:\n",
    "        lamb = (k/t_purch+(alpha/(2*abs(tmean_u-t_)+beta)))\n",
    "        lamb_0 = (k/t_purch+(alpha/(2*abs(tmean_u)+beta)))   # 최저값 : t=0  \n",
    "        lamb_1 = (k/t_purch+(alpha/+beta))     #최고값 : |tmean-t|=0\n",
    "    return lamb,lamb_0, lamb_1, t_, t_purch, tmean_u, k"
   ]
  },
  {
   "cell_type": "code",
   "execution_count": 140,
   "metadata": {
    "scrolled": true
   },
   "outputs": [
    {
     "name": "stdout",
     "output_type": "stream",
     "text": [
      "3.422152508615045 0.2222204991827985 3.422152508615045\n"
     ]
    }
   ],
   "source": [
    "lamb, lamb_0, lamb_1, t_, t_purch, tmean_u, k = func_lamb(t_purch, tmean_u, t_ , alpha, beta, k)\n",
    "\n",
    "print(lamb, lamb_0, lamb_1)"
   ]
  },
  {
   "cell_type": "code",
   "execution_count": 141,
   "metadata": {
    "scrolled": false
   },
   "outputs": [
    {
     "name": "stdout",
     "output_type": "stream",
     "text": [
      "pred : 0.9673579031301974 , max : 0.9673579031301974 , min : 0.19926121737989\n",
      "scaling : 1.0\n"
     ]
    }
   ],
   "source": [
    "       \n",
    "if lamb < lamb_0: # 일자별, 이런 경우가 있을수도 있어 - 마지막 구매부터 너무 너무 멀어지면!\n",
    "    lamb_0 = lamb\n",
    "pred = (1-stats.poisson.pmf(mu = lamb, k=0))\n",
    "max =  (1-stats.poisson.pmf(mu = lamb_1, k=0))  # max\n",
    "min =  (1-stats.poisson.pmf(mu = lamb_0, k=0))  # min\n",
    "scal = (pred - min)/(max - min)\n",
    "\n",
    "print('pred : {}'.format(pred), ', max : {}'.format(max), ', min : {}'.format(min))\n",
    "print('scaling : {}'.format(scal))"
   ]
  },
  {
   "cell_type": "markdown",
   "metadata": {},
   "source": [
    "---"
   ]
  },
  {
   "cell_type": "markdown",
   "metadata": {},
   "source": [
    "- #### (3)주기가 '평균 - 1 주'"
   ]
  },
  {
   "cell_type": "code",
   "execution_count": 143,
   "metadata": {},
   "outputs": [],
   "source": [
    "# 주기가 평균 - 1 주\n",
    "\n",
    "k, t_purch, tmean_u, t_ ,alpha, beta = 1, 0, 1.6566 , 1.6566-1 , 0.787390881, 0.230086438"
   ]
  },
  {
   "cell_type": "code",
   "execution_count": 144,
   "metadata": {},
   "outputs": [],
   "source": [
    "# 함수로 출력되는게 많게했어! & unit time을 1주일로 변경.\n",
    "\n",
    "def func_lamb(t_purch, tmean_u, t_ , alpha, beta, k):\n",
    "\n",
    "    if t_purch == 0:  # t_purch가 0이라는 소리는, k=1이라는 소리겠지! 그러니깐 앞의 값이 0이 되게끔 한거야.\n",
    "        lamb = (alpha/(2*abs(tmean_u-t_)+beta))\n",
    "        lamb_0 = (alpha/(2*abs(tmean_u)+beta))   # 최저값 : t=0\n",
    "        lamb_1 = (alpha/+beta)     # 최고값 : |tmean-t|=0\n",
    "    else:\n",
    "        lamb = (k/t_purch+(alpha/(2*abs(tmean_u-t_)+beta)))\n",
    "        lamb_0 = (k/t_purch+(alpha/(2*abs(tmean_u)+beta)))   # 최저값 : t=0  \n",
    "        lamb_1 = (k/t_purch+(alpha/+beta))     #최고값 : |tmean-t|=0\n",
    "    return lamb,lamb_0, lamb_1, t_, t_purch, tmean_u, k"
   ]
  },
  {
   "cell_type": "code",
   "execution_count": 145,
   "metadata": {},
   "outputs": [
    {
     "name": "stdout",
     "output_type": "stream",
     "text": [
      "0.3530763954181762 0.2222204991827985 3.422152508615045\n"
     ]
    }
   ],
   "source": [
    "lamb, lamb_0, lamb_1, t_, t_purch, tmean_u, k = func_lamb(t_purch, tmean_u, t_ , alpha, beta, k)\n",
    "\n",
    "print(lamb, lamb_0, lamb_1)"
   ]
  },
  {
   "cell_type": "code",
   "execution_count": 146,
   "metadata": {
    "scrolled": false
   },
   "outputs": [
    {
     "name": "stdout",
     "output_type": "stream",
     "text": [
      "pred : 0.29747647825108825 , max : 0.9673579031301974 , min : 0.19926121737989\n",
      "scaling : 0.12786835654063222\n"
     ]
    }
   ],
   "source": [
    "       \n",
    "if lamb < lamb_0: # 일자별, 이런 경우가 있을수도 있어 - 마지막 구매부터 너무 너무 멀어지면!\n",
    "    lamb_0 = lamb\n",
    "pred = (1-stats.poisson.pmf(mu = lamb, k=0))\n",
    "max =  (1-stats.poisson.pmf(mu = lamb_1, k=0))  # max\n",
    "min =  (1-stats.poisson.pmf(mu = lamb_0, k=0))  # min\n",
    "scal = (pred - min)/(max - min)\n",
    "\n",
    "print('pred : {}'.format(pred), ', max : {}'.format(max), ', min : {}'.format(min))\n",
    "print('scaling : {}'.format(scal))"
   ]
  },
  {
   "cell_type": "markdown",
   "metadata": {},
   "source": [
    "---"
   ]
  },
  {
   "cell_type": "markdown",
   "metadata": {},
   "source": [
    "- #### (4)주기가 '평균 - 0.5 주'"
   ]
  },
  {
   "cell_type": "code",
   "execution_count": 147,
   "metadata": {},
   "outputs": [],
   "source": [
    "# 주기가 '평균 - 0.5 주'\n",
    "# mean :  5.12256603893284\n",
    "\n",
    "k, t_purch, tmean_u, t_ ,alpha, beta = 1, 0, 1.6566 , 1.6566-0.5 , 0.787390881, 0.230086438"
   ]
  },
  {
   "cell_type": "code",
   "execution_count": 148,
   "metadata": {},
   "outputs": [],
   "source": [
    "# 함수로 출력되는게 많게했어! & unit time을 1주일로 변경.\n",
    "\n",
    "def func_lamb(t_purch, tmean_u, t_ , alpha, beta, k):\n",
    "\n",
    "    if t_purch == 0:  # t_purch가 0이라는 소리는, k=1이라는 소리겠지! 그러니깐 앞의 값이 0이 되게끔 한거야.\n",
    "        lamb = (alpha/(2*abs(tmean_u-t_)+beta))\n",
    "        lamb_0 = (alpha/(2*abs(tmean_u)+beta))   # 최저값 : t=0\n",
    "        lamb_1 = (alpha/+beta)     # 최고값 : |tmean-t|=0\n",
    "    else:\n",
    "        lamb = (k/t_purch+(alpha/(2*abs(tmean_u-t_)+beta)))\n",
    "        lamb_0 = (k/t_purch+(alpha/(2*abs(tmean_u)+beta)))   # 최저값 : t=0  \n",
    "        lamb_1 = (k/t_purch+(alpha/+beta))     #최고값 : |tmean-t|=0\n",
    "    return lamb,lamb_0, lamb_1, t_, t_purch, tmean_u, k"
   ]
  },
  {
   "cell_type": "code",
   "execution_count": 149,
   "metadata": {},
   "outputs": [
    {
     "name": "stdout",
     "output_type": "stream",
     "text": [
      "0.6401102041903822 0.2222204991827985 3.422152508615045\n"
     ]
    }
   ],
   "source": [
    "lamb, lamb_0, lamb_1, t_, t_purch, tmean_u, k = func_lamb(t_purch, tmean_u, t_ , alpha, beta, k)\n",
    "\n",
    "print(lamb, lamb_0, lamb_1)"
   ]
  },
  {
   "cell_type": "code",
   "execution_count": 150,
   "metadata": {
    "scrolled": false
   },
   "outputs": [
    {
     "name": "stdout",
     "output_type": "stream",
     "text": [
      "pred : 0.4727656825897818 , max : 0.9673579031301974 , min : 0.19926121737989\n",
      "scaling : 0.3560807776988671\n"
     ]
    }
   ],
   "source": [
    "       \n",
    "if lamb < lamb_0: # 일자별, 이런 경우가 있을수도 있어 - 마지막 구매부터 너무 너무 멀어지면!\n",
    "    lamb_0 = lamb\n",
    "pred = (1-stats.poisson.pmf(mu = lamb, k=0))\n",
    "max =  (1-stats.poisson.pmf(mu = lamb_1, k=0))  # max\n",
    "min =  (1-stats.poisson.pmf(mu = lamb_0, k=0))  # min\n",
    "scal = (pred - min)/(max - min)\n",
    "\n",
    "print('pred : {}'.format(pred), ', max : {}'.format(max), ', min : {}'.format(min))\n",
    "print('scaling : {}'.format(scal))"
   ]
  },
  {
   "cell_type": "markdown",
   "metadata": {},
   "source": [
    ": 딱 주기에서 1주일 정도만 노출되도록 보인다!"
   ]
  },
  {
   "cell_type": "code",
   "execution_count": null,
   "metadata": {},
   "outputs": [],
   "source": []
  },
  {
   "cell_type": "markdown",
   "metadata": {},
   "source": [
    "## # Step2-1. 논문 수식"
   ]
  },
  {
   "cell_type": "markdown",
   "metadata": {},
   "source": [
    "#### ver1.\n",
    "- #### (1)실장님 원래 주기"
   ]
  },
  {
   "cell_type": "code",
   "execution_count": 151,
   "metadata": {},
   "outputs": [],
   "source": [
    "# 주기가 '평균 - 0.5 주'\n",
    "# mean :  5.12256603893284\n",
    "k, t_purch, tmean_u, t_ ,alpha, beta = 1, 0, 1.6566 , 1.6566+0.9 , 0.787390881, 0.230086438"
   ]
  },
  {
   "cell_type": "code",
   "execution_count": 152,
   "metadata": {},
   "outputs": [],
   "source": [
    "# 함수로 출력되는게 많게했어! & unit time을 1주일로 변경.\n",
    "\n",
    "def func_lamb(t_purch, tmean_u, t_ , alpha, beta, k):\n",
    "    \n",
    "    lamb = ((k+alpha)/(t_purch+2*abs(tmean_u-t_)+beta))\n",
    "    lamb_0 = ((k+alpha)/(t_purch+2*abs(tmean_u)+beta))   # 최저값 : t=0  \n",
    "    lamb_1 = ((k+alpha)/(t_purch+beta))     #최고값 : |tmean-t|=0\n",
    "    \n",
    "    return lamb,lamb_0, lamb_1, t_, t_purch, tmean_u, k"
   ]
  },
  {
   "cell_type": "code",
   "execution_count": 153,
   "metadata": {},
   "outputs": [
    {
     "name": "stdout",
     "output_type": "stream",
     "text": [
      "0.8804506288712028 0.5044443660639778 7.76834522076438\n"
     ]
    }
   ],
   "source": [
    "lamb, lamb_0, lamb_1, t_, t_purch, tmean_u, k = func_lamb(t_purch, tmean_u, t_ , alpha, beta, k)\n",
    "\n",
    "print(lamb, lamb_0, lamb_1)"
   ]
  },
  {
   "cell_type": "code",
   "execution_count": 154,
   "metadata": {
    "scrolled": false
   },
   "outputs": [
    {
     "name": "stdout",
     "output_type": "stream",
     "text": [
      "pred : 0.5854039593657971 , max : 0.9995770874850529 , min : 0.39615900321755915\n",
      "scaling : 0.31362161838084085\n"
     ]
    }
   ],
   "source": [
    "       \n",
    "if lamb < lamb_0: # 일자별, 이런 경우가 있을수도 있어 - 마지막 구매부터 너무 너무 멀어지면!\n",
    "    lamb_0 = lamb\n",
    "pred = (1-stats.poisson.pmf(mu = lamb, k=0))\n",
    "max =  (1-stats.poisson.pmf(mu = lamb_1, k=0))  # max\n",
    "min =  (1-stats.poisson.pmf(mu = lamb_0, k=0))  # min\n",
    "scal = (pred - min)/(max - min)\n",
    "\n",
    "print('pred : {}'.format(pred), ', max : {}'.format(max), ', min : {}'.format(min))\n",
    "print('scaling : {}'.format(scal))"
   ]
  },
  {
   "cell_type": "markdown",
   "metadata": {},
   "source": [
    "---"
   ]
  },
  {
   "cell_type": "markdown",
   "metadata": {},
   "source": [
    "- #### (2)주기가 평균일때"
   ]
  },
  {
   "cell_type": "code",
   "execution_count": 155,
   "metadata": {},
   "outputs": [],
   "source": [
    "# 주기가 평균일때\n",
    "\n",
    "k, t_purch, tmean_u, t_ ,alpha, beta = 1, 0, 1.6566 , 1.6566 , 0.787390881, 0.230086438"
   ]
  },
  {
   "cell_type": "code",
   "execution_count": 156,
   "metadata": {},
   "outputs": [],
   "source": [
    "# 함수로 출력되는게 많게했어! & unit time을 1주일로 변경.\n",
    "\n",
    "def func_lamb(t_purch, tmean_u, t_ , alpha, beta, k):\n",
    "    \n",
    "    lamb = ((k+alpha)/(t_purch+2*abs(tmean_u-t_)+beta))\n",
    "    lamb_0 = ((k+alpha)/(t_purch+2*abs(tmean_u)+beta))   # 최저값 : t=0  \n",
    "    lamb_1 = ((k+alpha)/(t_purch+beta))     #최고값 : |tmean-t|=0\n",
    "    \n",
    "    return lamb,lamb_0, lamb_1, t_, t_purch, tmean_u, k"
   ]
  },
  {
   "cell_type": "code",
   "execution_count": 157,
   "metadata": {},
   "outputs": [
    {
     "name": "stdout",
     "output_type": "stream",
     "text": [
      "7.76834522076438 0.5044443660639778 7.76834522076438\n"
     ]
    }
   ],
   "source": [
    "lamb, lamb_0, lamb_1, t_, t_purch, tmean_u, k = func_lamb(t_purch, tmean_u, t_ , alpha, beta, k)\n",
    "\n",
    "print(lamb, lamb_0, lamb_1)"
   ]
  },
  {
   "cell_type": "code",
   "execution_count": 158,
   "metadata": {
    "scrolled": true
   },
   "outputs": [
    {
     "name": "stdout",
     "output_type": "stream",
     "text": [
      "pred : 0.9995770874850529 , max : 0.9995770874850529 , min : 0.39615900321755915\n",
      "scaling : 1.0\n"
     ]
    }
   ],
   "source": [
    "       \n",
    "if lamb < lamb_0: # 일자별, 이런 경우가 있을수도 있어 - 마지막 구매부터 너무 너무 멀어지면!\n",
    "    lamb_0 = lamb\n",
    "pred = (1-stats.poisson.pmf(mu = lamb, k=0))\n",
    "max =  (1-stats.poisson.pmf(mu = lamb_1, k=0))  # max\n",
    "min =  (1-stats.poisson.pmf(mu = lamb_0, k=0))  # min\n",
    "scal = (pred - min)/(max - min)\n",
    "\n",
    "print('pred : {}'.format(pred), ', max : {}'.format(max), ', min : {}'.format(min))\n",
    "print('scaling : {}'.format(scal))"
   ]
  },
  {
   "cell_type": "markdown",
   "metadata": {},
   "source": [
    "- #### (3)주기가 '평균 - 1 주'"
   ]
  },
  {
   "cell_type": "code",
   "execution_count": 159,
   "metadata": {},
   "outputs": [],
   "source": [
    "# 주기가 평균 - 1 주\n",
    "\n",
    "k, t_purch, tmean_u, t_ ,alpha, beta = 1, 0, 1.6566 , 1.6566-1 , 0.787390881, 0.230086438"
   ]
  },
  {
   "cell_type": "code",
   "execution_count": 160,
   "metadata": {},
   "outputs": [],
   "source": [
    "# 함수로 출력되는게 많게했어! & unit time을 1주일로 변경.\n",
    "\n",
    "def func_lamb(t_purch, tmean_u, t_ , alpha, beta, k):\n",
    "    \n",
    "    lamb = ((k+alpha)/(t_purch+2*abs(tmean_u-t_)+beta))\n",
    "    lamb_0 = ((k+alpha)/(t_purch+2*abs(tmean_u)+beta))   # 최저값 : t=0  \n",
    "    lamb_1 = ((k+alpha)/(t_purch+beta))     #최고값 : |tmean-t|=0\n",
    "    \n",
    "    return lamb,lamb_0, lamb_1, t_, t_purch, tmean_u, k"
   ]
  },
  {
   "cell_type": "code",
   "execution_count": 161,
   "metadata": {},
   "outputs": [
    {
     "name": "stdout",
     "output_type": "stream",
     "text": [
      "0.8014895075560295 0.5044443660639778 7.76834522076438\n"
     ]
    }
   ],
   "source": [
    "lamb, lamb_0, lamb_1, t_, t_purch, tmean_u, k = func_lamb(t_purch, tmean_u, t_ , alpha, beta, k)\n",
    "\n",
    "print(lamb, lamb_0, lamb_1)"
   ]
  },
  {
   "cell_type": "code",
   "execution_count": 162,
   "metadata": {
    "scrolled": false
   },
   "outputs": [
    {
     "name": "stdout",
     "output_type": "stream",
     "text": [
      "pred : 0.5513398165693827 , max : 0.9995770874850529 , min : 0.39615900321755915\n",
      "scaling : 0.2571696430679599\n"
     ]
    }
   ],
   "source": [
    "       \n",
    "if lamb < lamb_0: # 일자별, 이런 경우가 있을수도 있어 - 마지막 구매부터 너무 너무 멀어지면!\n",
    "    lamb_0 = lamb\n",
    "pred = (1-stats.poisson.pmf(mu = lamb, k=0))\n",
    "max =  (1-stats.poisson.pmf(mu = lamb_1, k=0))  # max\n",
    "min =  (1-stats.poisson.pmf(mu = lamb_0, k=0))  # min\n",
    "scal = (pred - min)/(max - min)\n",
    "\n",
    "print('pred : {}'.format(pred), ', max : {}'.format(max), ', min : {}'.format(min))\n",
    "print('scaling : {}'.format(scal))"
   ]
  },
  {
   "cell_type": "markdown",
   "metadata": {},
   "source": [
    "- #### (4)주기가 '평균 - 0.5 주'"
   ]
  },
  {
   "cell_type": "code",
   "execution_count": 163,
   "metadata": {},
   "outputs": [],
   "source": [
    "# 주기가 '평균 - 0.5 주'\n",
    "# mean :  5.12256603893284\n",
    "k, t_purch, tmean_u, t_ ,alpha, beta = 1, 0, 1.6566 , 1.6566-0.5 , 0.787390881, 0.230086438"
   ]
  },
  {
   "cell_type": "code",
   "execution_count": 164,
   "metadata": {},
   "outputs": [],
   "source": [
    "# 함수로 출력되는게 많게했어! & unit time을 1주일로 변경.\n",
    "\n",
    "def func_lamb(t_purch, tmean_u, t_ , alpha, beta, k):\n",
    "    \n",
    "    lamb = ((k+alpha)/(t_purch+2*abs(tmean_u-t_)+beta))\n",
    "    lamb_0 = ((k+alpha)/(t_purch+2*abs(tmean_u)+beta))   # 최저값 : t=0  \n",
    "    lamb_1 = ((k+alpha)/(t_purch+beta))     #최고값 : |tmean-t|=0\n",
    "    \n",
    "    return lamb,lamb_0, lamb_1, t_, t_purch, tmean_u, k"
   ]
  },
  {
   "cell_type": "code",
   "execution_count": 165,
   "metadata": {},
   "outputs": [
    {
     "name": "stdout",
     "output_type": "stream",
     "text": [
      "1.4530612043053839 0.5044443660639778 7.76834522076438\n"
     ]
    }
   ],
   "source": [
    "lamb, lamb_0, lamb_1, t_, t_purch, tmean_u, k = func_lamb(t_purch, tmean_u, t_ , alpha, beta, k)\n",
    "\n",
    "print(lamb, lamb_0, lamb_1)"
   ]
  },
  {
   "cell_type": "code",
   "execution_count": 166,
   "metadata": {
    "scrolled": false
   },
   "outputs": [
    {
     "name": "stdout",
     "output_type": "stream",
     "text": [
      "pred : 0.7661466815268936 , max : 0.9995770874850529 , min : 0.39615900321755915\n",
      "scaling : 0.6131531154862104\n"
     ]
    }
   ],
   "source": [
    "       \n",
    "if lamb < lamb_0: # 일자별, 이런 경우가 있을수도 있어 - 마지막 구매부터 너무 너무 멀어지면!\n",
    "    lamb_0 = lamb\n",
    "pred = (1-stats.poisson.pmf(mu = lamb, k=0))\n",
    "max =  (1-stats.poisson.pmf(mu = lamb_1, k=0))  # max\n",
    "min =  (1-stats.poisson.pmf(mu = lamb_0, k=0))  # min\n",
    "scal = (pred - min)/(max - min)\n",
    "\n",
    "print('pred : {}'.format(pred), ', max : {}'.format(max), ', min : {}'.format(min))\n",
    "print('scaling : {}'.format(scal))"
   ]
  },
  {
   "cell_type": "markdown",
   "metadata": {},
   "source": [
    "---"
   ]
  },
  {
   "cell_type": "markdown",
   "metadata": {},
   "source": [
    "#### ver2.\n",
    "- #### (1)실장님 원래 주기"
   ]
  },
  {
   "cell_type": "code",
   "execution_count": 167,
   "metadata": {},
   "outputs": [],
   "source": [
    "\n",
    "k, t_purch, tmean_u, t_ ,alpha, beta = 1, 0, 1.6566 , 1.6566+0.9 , 6.149540825318489, 60.4981854166467"
   ]
  },
  {
   "cell_type": "code",
   "execution_count": 168,
   "metadata": {},
   "outputs": [],
   "source": [
    "# 함수로 출력되는게 많게했어! & unit time을 1주일로 변경.\n",
    "\n",
    "def func_lamb(t_purch, tmean_u, t_ , alpha, beta, k):\n",
    "    \n",
    "    lamb = ((k+alpha)/(t_purch+2*abs(tmean_u-t_)+beta))\n",
    "    lamb_0 = ((k+alpha)/(t_purch+2*abs(tmean_u)+beta))   # 최저값 : t=0  \n",
    "    lamb_1 = ((k+alpha)/(t_purch+beta))     #최고값 : |tmean-t|=0\n",
    "    \n",
    "    return lamb,lamb_0, lamb_1, t_, t_purch, tmean_u, k"
   ]
  },
  {
   "cell_type": "code",
   "execution_count": 169,
   "metadata": {},
   "outputs": [
    {
     "name": "stdout",
     "output_type": "stream",
     "text": [
      "0.11476322749214556 0.11204177402882971 0.11817777303699459\n"
     ]
    }
   ],
   "source": [
    "lamb, lamb_0, lamb_1, t_, t_purch, tmean_u, k = func_lamb(t_purch, tmean_u, t_ , alpha, beta, k)\n",
    "\n",
    "print(lamb, lamb_0, lamb_1)"
   ]
  },
  {
   "cell_type": "code",
   "execution_count": 170,
   "metadata": {
    "scrolled": false
   },
   "outputs": [
    {
     "name": "stdout",
     "output_type": "stream",
     "text": [
      "pred : 0.10842278010835027 , max : 0.11146191953961015 , min : 0.10599308955015674\n",
      "scaling : 0.44427977517662187\n"
     ]
    }
   ],
   "source": [
    "       \n",
    "if lamb < lamb_0: # 일자별, 이런 경우가 있을수도 있어 - 마지막 구매부터 너무 너무 멀어지면!\n",
    "    lamb_0 = lamb\n",
    "pred = (1-stats.poisson.pmf(mu = lamb, k=0))\n",
    "max =  (1-stats.poisson.pmf(mu = lamb_1, k=0))  # max\n",
    "min =  (1-stats.poisson.pmf(mu = lamb_0, k=0))  # min\n",
    "scal = (pred - min)/(max - min)\n",
    "\n",
    "print('pred : {}'.format(pred), ', max : {}'.format(max), ', min : {}'.format(min))\n",
    "print('scaling : {}'.format(scal))"
   ]
  },
  {
   "cell_type": "markdown",
   "metadata": {},
   "source": [
    "---"
   ]
  },
  {
   "cell_type": "markdown",
   "metadata": {},
   "source": [
    "- #### (2)주기가 평균일때"
   ]
  },
  {
   "cell_type": "code",
   "execution_count": 171,
   "metadata": {},
   "outputs": [],
   "source": [
    "# 주기가 평균일때\n",
    "\n",
    "k, t_purch, tmean_u, t_ ,alpha, beta = 1, 0, 1.6566 , 1.6566 , 6.149540825318489, 60.4981854166467"
   ]
  },
  {
   "cell_type": "code",
   "execution_count": 172,
   "metadata": {},
   "outputs": [],
   "source": [
    "# 함수로 출력되는게 많게했어! & unit time을 1주일로 변경.\n",
    "\n",
    "def func_lamb(t_purch, tmean_u, t_ , alpha, beta, k):\n",
    "    \n",
    "    lamb = ((k+alpha)/(t_purch+2*abs(tmean_u-t_)+beta))\n",
    "    lamb_0 = ((k+alpha)/(t_purch+2*abs(tmean_u)+beta))   # 최저값 : t=0  \n",
    "    lamb_1 = ((k+alpha)/(t_purch+beta))     #최고값 : |tmean-t|=0\n",
    "    \n",
    "    return lamb,lamb_0, lamb_1, t_, t_purch, tmean_u, k"
   ]
  },
  {
   "cell_type": "code",
   "execution_count": 173,
   "metadata": {},
   "outputs": [
    {
     "name": "stdout",
     "output_type": "stream",
     "text": [
      "0.11817777303699459 0.11204177402882971 0.11817777303699459\n"
     ]
    }
   ],
   "source": [
    "lamb, lamb_0, lamb_1, t_, t_purch, tmean_u, k = func_lamb(t_purch, tmean_u, t_ , alpha, beta, k)\n",
    "\n",
    "print(lamb, lamb_0, lamb_1)"
   ]
  },
  {
   "cell_type": "code",
   "execution_count": 174,
   "metadata": {
    "scrolled": true
   },
   "outputs": [
    {
     "name": "stdout",
     "output_type": "stream",
     "text": [
      "pred : 0.11146191953961015 , max : 0.11146191953961015 , min : 0.10599308955015674\n",
      "scaling : 1.0\n"
     ]
    }
   ],
   "source": [
    "       \n",
    "if lamb < lamb_0: # 일자별, 이런 경우가 있을수도 있어 - 마지막 구매부터 너무 너무 멀어지면!\n",
    "    lamb_0 = lamb\n",
    "pred = (1-stats.poisson.pmf(mu = lamb, k=0))\n",
    "max =  (1-stats.poisson.pmf(mu = lamb_1, k=0))  # max\n",
    "min =  (1-stats.poisson.pmf(mu = lamb_0, k=0))  # min\n",
    "scal = (pred - min)/(max - min)\n",
    "\n",
    "print('pred : {}'.format(pred), ', max : {}'.format(max), ', min : {}'.format(min))\n",
    "print('scaling : {}'.format(scal))"
   ]
  },
  {
   "cell_type": "markdown",
   "metadata": {},
   "source": [
    "- #### (3)주기가 '평균 - 1 주'"
   ]
  },
  {
   "cell_type": "code",
   "execution_count": 175,
   "metadata": {},
   "outputs": [],
   "source": [
    "# 주기가 평균 - 1 주\n",
    "\n",
    "k, t_purch, tmean_u, t_ ,alpha, beta = 1, 0, 1.6566 , 1.6566-1 , 6.149540825318489, 60.4981854166467"
   ]
  },
  {
   "cell_type": "code",
   "execution_count": 176,
   "metadata": {},
   "outputs": [],
   "source": [
    "# 함수로 출력되는게 많게했어! & unit time을 1주일로 변경.\n",
    "\n",
    "def func_lamb(t_purch, tmean_u, t_ , alpha, beta, k):\n",
    "    \n",
    "    lamb = ((k+alpha)/(t_purch+2*abs(tmean_u-t_)+beta))\n",
    "    lamb_0 = ((k+alpha)/(t_purch+2*abs(tmean_u)+beta))   # 최저값 : t=0  \n",
    "    lamb_1 = ((k+alpha)/(t_purch+beta))     #최고값 : |tmean-t|=0\n",
    "    \n",
    "    return lamb,lamb_0, lamb_1, t_, t_purch, tmean_u, k"
   ]
  },
  {
   "cell_type": "code",
   "execution_count": 177,
   "metadata": {},
   "outputs": [
    {
     "name": "stdout",
     "output_type": "stream",
     "text": [
      "0.11439597450159207 0.11204177402882971 0.11817777303699459\n"
     ]
    }
   ],
   "source": [
    "lamb, lamb_0, lamb_1, t_, t_purch, tmean_u, k = func_lamb(t_purch, tmean_u, t_ , alpha, beta, k)\n",
    "\n",
    "print(lamb, lamb_0, lamb_1)"
   ]
  },
  {
   "cell_type": "code",
   "execution_count": 178,
   "metadata": {
    "scrolled": false
   },
   "outputs": [
    {
     "name": "stdout",
     "output_type": "stream",
     "text": [
      "pred : 0.10809528557504322 , max : 0.11146191953961015 , min : 0.10599308955015674\n",
      "scaling : 0.3843959364142872\n"
     ]
    }
   ],
   "source": [
    "       \n",
    "if lamb < lamb_0: # 일자별, 이런 경우가 있을수도 있어 - 마지막 구매부터 너무 너무 멀어지면!\n",
    "    lamb_0 = lamb\n",
    "pred = (1-stats.poisson.pmf(mu = lamb, k=0))\n",
    "max =  (1-stats.poisson.pmf(mu = lamb_1, k=0))  # max\n",
    "min =  (1-stats.poisson.pmf(mu = lamb_0, k=0))  # min\n",
    "scal = (pred - min)/(max - min)\n",
    "\n",
    "print('pred : {}'.format(pred), ', max : {}'.format(max), ', min : {}'.format(min))\n",
    "print('scaling : {}'.format(scal))"
   ]
  },
  {
   "cell_type": "markdown",
   "metadata": {},
   "source": [
    "- #### (4)주기가 '평균 - 0.5 주'"
   ]
  },
  {
   "cell_type": "code",
   "execution_count": 179,
   "metadata": {},
   "outputs": [],
   "source": [
    "k, t_purch, tmean_u, t_ ,alpha, beta = 1, 0, 1.6566 , 1.6566-0.5 , 6.149540825318489, 60.4981854166467"
   ]
  },
  {
   "cell_type": "code",
   "execution_count": 180,
   "metadata": {},
   "outputs": [],
   "source": [
    "# 함수로 출력되는게 많게했어! & unit time을 1주일로 변경.\n",
    "\n",
    "def func_lamb(t_purch, tmean_u, t_ , alpha, beta, k):\n",
    "    \n",
    "    lamb = ((k+alpha)/(t_purch+2*abs(tmean_u-t_)+beta))\n",
    "    lamb_0 = ((k+alpha)/(t_purch+2*abs(tmean_u)+beta))   # 최저값 : t=0  \n",
    "    lamb_1 = ((k+alpha)/(t_purch+beta))     #최고값 : |tmean-t|=0\n",
    "    \n",
    "    return lamb,lamb_0, lamb_1, t_, t_purch, tmean_u, k"
   ]
  },
  {
   "cell_type": "code",
   "execution_count": 181,
   "metadata": {},
   "outputs": [
    {
     "name": "stdout",
     "output_type": "stream",
     "text": [
      "0.11625612653252707 0.11204177402882971 0.11817777303699459\n"
     ]
    }
   ],
   "source": [
    "lamb, lamb_0, lamb_1, t_, t_purch, tmean_u, k = func_lamb(t_purch, tmean_u, t_ , alpha, beta, k)\n",
    "\n",
    "print(lamb, lamb_0, lamb_1)"
   ]
  },
  {
   "cell_type": "code",
   "execution_count": 182,
   "metadata": {
    "scrolled": false
   },
   "outputs": [
    {
     "name": "stdout",
     "output_type": "stream",
     "text": [
      "pred : 0.10975282182832147 , max : 0.11146191953961015 , min : 0.10599308955015674\n",
      "scaling : 0.6874838467122465\n"
     ]
    }
   ],
   "source": [
    "       \n",
    "if lamb < lamb_0: # 일자별, 이런 경우가 있을수도 있어 - 마지막 구매부터 너무 너무 멀어지면!\n",
    "    lamb_0 = lamb\n",
    "pred = (1-stats.poisson.pmf(mu = lamb, k=0))\n",
    "max =  (1-stats.poisson.pmf(mu = lamb_1, k=0))  # max\n",
    "min =  (1-stats.poisson.pmf(mu = lamb_0, k=0))  # min\n",
    "scal = (pred - min)/(max - min)\n",
    "\n",
    "print('pred : {}'.format(pred), ', max : {}'.format(max), ', min : {}'.format(min))\n",
    "print('scaling : {}'.format(scal))"
   ]
  },
  {
   "cell_type": "code",
   "execution_count": null,
   "metadata": {},
   "outputs": [],
   "source": []
  },
  {
   "cell_type": "code",
   "execution_count": null,
   "metadata": {},
   "outputs": [],
   "source": []
  },
  {
   "cell_type": "markdown",
   "metadata": {},
   "source": [
    "## # Step3. k>3"
   ]
  },
  {
   "cell_type": "markdown",
   "metadata": {},
   "source": [
    "### # ver(2) 로 먼저"
   ]
  },
  {
   "cell_type": "code",
   "execution_count": 178,
   "metadata": {},
   "outputs": [
    {
     "data": {
      "text/plain": [
       "array([ 0,  5, 10])"
      ]
     },
     "execution_count": 178,
     "metadata": {},
     "output_type": "execute_result"
    }
   ],
   "source": [
    "time = np.arange(0,11,5);time"
   ]
  },
  {
   "cell_type": "markdown",
   "metadata": {},
   "source": [
    "* ####  (1)실장님 원래 주기 : 주기가 넘어갔을때"
   ]
  },
  {
   "cell_type": "code",
   "execution_count": 199,
   "metadata": {},
   "outputs": [],
   "source": [
    "\n",
    "k, t_purch, tmean_u, t_ ,alpha, beta = 6, 1.6566*5 , 1.6566 , 1.6566+0.9 , 6.149540825318489, 60.4981854166467"
   ]
  },
  {
   "cell_type": "code",
   "execution_count": 200,
   "metadata": {},
   "outputs": [],
   "source": [
    "# 함수로 출력되는게 많게했어! & unit time을 1주일로 변경.\n",
    "\n",
    "def func_lamb(t_purch, tmean_u, t_ , alpha, beta, k):\n",
    "\n",
    "    if t_purch == 0:  # t_purch가 0이라는 소리는, k=1이라는 소리겠지! 그러니깐 앞의 값이 0이 되게끔 한거야.\n",
    "        lamb = (alpha/(2*abs(tmean_u-t_)+beta))\n",
    "        lamb_0 = (alpha/(2*abs(tmean_u)+beta))   # 최저값 : t=0\n",
    "        lamb_1 = (alpha/+beta)     # 최고값 : |tmean-t|=0\n",
    "    else:\n",
    "        lamb = (k/t_purch+(alpha/(2*abs(tmean_u-t_)+beta)))\n",
    "        lamb_0 = (k/t_purch+(alpha/(2*abs(tmean_u)+beta)))   # 최저값 : t=0  \n",
    "        lamb_1 = (k/t_purch+(alpha/+beta))     #최고값 : |tmean-t|=0\n",
    "    return lamb,lamb_0, lamb_1, t_, t_purch, tmean_u, k"
   ]
  },
  {
   "cell_type": "code",
   "execution_count": 201,
   "metadata": {},
   "outputs": [
    {
     "name": "stdout",
     "output_type": "stream",
     "text": [
      "0.8230866219591315 0.8207458158030775 0.8260235780156099\n"
     ]
    }
   ],
   "source": [
    "lamb, lamb_0, lamb_1, t_, t_purch, tmean_u, k = func_lamb(t_purch, tmean_u, t_ , alpha, beta, k)\n",
    "\n",
    "print(lamb, lamb_0, lamb_1)"
   ]
  },
  {
   "cell_type": "code",
   "execution_count": 202,
   "metadata": {
    "scrolled": false
   },
   "outputs": [
    {
     "name": "stdout",
     "output_type": "stream",
     "text": [
      "pred : 0.5609256956192947 , max : 0.5622133457452969 , min : 0.5598967039194349\n",
      "scaling : 0.4441738417966009\n"
     ]
    }
   ],
   "source": [
    "       \n",
    "if lamb < lamb_0: # 일자별, 이런 경우가 있을수도 있어 - 마지막 구매부터 너무 너무 멀어지면!\n",
    "    lamb_0 = lamb\n",
    "pred = (1-stats.poisson.pmf(mu = lamb, k=0))\n",
    "max =  (1-stats.poisson.pmf(mu = lamb_1, k=0))  # max\n",
    "min =  (1-stats.poisson.pmf(mu = lamb_0, k=0))  # min\n",
    "scal = (pred - min)/(max - min)\n",
    "\n",
    "print('pred : {}'.format(pred), ', max : {}'.format(max), ', min : {}'.format(min))\n",
    "print('scaling : {}'.format(scal))"
   ]
  },
  {
   "cell_type": "markdown",
   "metadata": {},
   "source": [
    "---"
   ]
  },
  {
   "cell_type": "markdown",
   "metadata": {},
   "source": [
    "- #### (2)주기가 평균일때"
   ]
  },
  {
   "cell_type": "code",
   "execution_count": 203,
   "metadata": {},
   "outputs": [],
   "source": [
    "# 주기가 평균일때\n",
    "\n",
    "k, t_purch, tmean_u, t_ ,alpha, beta =  6, 1.6566*5 , 1.6566 , 1.6566 , 6.149540825318489, 60.4981854166467"
   ]
  },
  {
   "cell_type": "code",
   "execution_count": 204,
   "metadata": {},
   "outputs": [],
   "source": [
    "# 함수로 출력되는게 많게했어! & unit time을 1주일로 변경.\n",
    "\n",
    "def func_lamb(t_purch, tmean_u, t_ , alpha, beta, k):\n",
    "\n",
    "    if t_purch == 0:  # t_purch가 0이라는 소리는, k=1이라는 소리겠지! 그러니깐 앞의 값이 0이 되게끔 한거야.\n",
    "        lamb = (alpha/(2*abs(tmean_u-t_)+beta))\n",
    "        lamb_0 = (alpha/(2*abs(tmean_u)+beta))   # 최저값 : t=0\n",
    "        lamb_1 = (alpha/+beta)     # 최고값 : |tmean-t|=0\n",
    "    else:\n",
    "        lamb = (k/t_purch+(alpha/(2*abs(tmean_u-t_)+beta)))\n",
    "        lamb_0 = (k/t_purch+(alpha/(2*abs(tmean_u)+beta)))   # 최저값 : t=0  \n",
    "        lamb_1 = (k/t_purch+(alpha/+beta))     #최고값 : |tmean-t|=0\n",
    "    return lamb,lamb_0, lamb_1, t_, t_purch, tmean_u, k"
   ]
  },
  {
   "cell_type": "code",
   "execution_count": 205,
   "metadata": {},
   "outputs": [
    {
     "name": "stdout",
     "output_type": "stream",
     "text": [
      "0.8260235780156099 0.8207458158030775 0.8260235780156099\n"
     ]
    }
   ],
   "source": [
    "lamb, lamb_0, lamb_1, t_, t_purch, tmean_u, k = func_lamb(t_purch, tmean_u, t_ , alpha, beta, k)\n",
    "\n",
    "print(lamb, lamb_0, lamb_1)"
   ]
  },
  {
   "cell_type": "code",
   "execution_count": 206,
   "metadata": {
    "scrolled": false
   },
   "outputs": [
    {
     "name": "stdout",
     "output_type": "stream",
     "text": [
      "pred : 0.5622133457452969 , max : 0.5622133457452969 , min : 0.5598967039194349\n",
      "scaling : 1.0\n"
     ]
    }
   ],
   "source": [
    "       \n",
    "if lamb < lamb_0: # 일자별, 이런 경우가 있을수도 있어 - 마지막 구매부터 너무 너무 멀어지면!\n",
    "    lamb_0 = lamb\n",
    "pred = (1-stats.poisson.pmf(mu = lamb, k=0))\n",
    "max =  (1-stats.poisson.pmf(mu = lamb_1, k=0))  # max\n",
    "min =  (1-stats.poisson.pmf(mu = lamb_0, k=0))  # min\n",
    "scal = (pred - min)/(max - min)\n",
    "\n",
    "print('pred : {}'.format(pred), ', max : {}'.format(max), ', min : {}'.format(min))\n",
    "print('scaling : {}'.format(scal))"
   ]
  },
  {
   "cell_type": "markdown",
   "metadata": {},
   "source": [
    "---"
   ]
  },
  {
   "cell_type": "markdown",
   "metadata": {},
   "source": [
    "- #### (3)주기가 평균 - 1 주"
   ]
  },
  {
   "cell_type": "code",
   "execution_count": 207,
   "metadata": {},
   "outputs": [],
   "source": [
    "# 주기가 평균 - 1.5 주\n",
    "\n",
    "k, t_purch, tmean_u, t_ ,alpha, beta =  6, 1.6566*5 , 1.6566 , 1.6566-1 , 6.149540825318489, 60.4981854166467"
   ]
  },
  {
   "cell_type": "code",
   "execution_count": 208,
   "metadata": {},
   "outputs": [],
   "source": [
    "# 함수로 출력되는게 많게했어! & unit time을 1주일로 변경.\n",
    "\n",
    "def func_lamb(t_purch, tmean_u, t_ , alpha, beta, k):\n",
    "\n",
    "    if t_purch == 0:  # t_purch가 0이라는 소리는, k=1이라는 소리겠지! 그러니깐 앞의 값이 0이 되게끔 한거야.\n",
    "        lamb = (alpha/(2*abs(tmean_u-t_)+beta))\n",
    "        lamb_0 = (alpha/(2*abs(tmean_u)+beta))   # 최저값 : t=0\n",
    "        lamb_1 = (alpha/+beta)     # 최고값 : |tmean-t|=0\n",
    "    else:\n",
    "        lamb = (k/t_purch+(alpha/(2*abs(tmean_u-t_)+beta)))\n",
    "        lamb_0 = (k/t_purch+(alpha/(2*abs(tmean_u)+beta)))   # 최저값 : t=0  \n",
    "        lamb_1 = (k/t_purch+(alpha/+beta))     #최고값 : |tmean-t|=0\n",
    "    return lamb,lamb_0, lamb_1, t_, t_purch, tmean_u, k"
   ]
  },
  {
   "cell_type": "code",
   "execution_count": 209,
   "metadata": {},
   "outputs": [
    {
     "name": "stdout",
     "output_type": "stream",
     "text": [
      "0.8227707363220245 0.8207458158030775 0.8260235780156099\n"
     ]
    }
   ],
   "source": [
    "lamb, lamb_0, lamb_1, t_, t_purch, tmean_u, k = func_lamb(t_purch, tmean_u, t_ , alpha, beta, k)\n",
    "\n",
    "print(lamb, lamb_0, lamb_1)"
   ]
  },
  {
   "cell_type": "code",
   "execution_count": 210,
   "metadata": {
    "scrolled": true
   },
   "outputs": [
    {
     "name": "stdout",
     "output_type": "stream",
     "text": [
      "pred : 0.5607869764443743 , max : 0.5622133457452969 , min : 0.5598967039194349\n",
      "scaling : 0.3842944191893274\n"
     ]
    }
   ],
   "source": [
    "       \n",
    "if lamb < lamb_0: # 일자별, 이런 경우가 있을수도 있어 - 마지막 구매부터 너무 너무 멀어지면!\n",
    "    lamb_0 = lamb\n",
    "pred = (1-stats.poisson.pmf(mu = lamb, k=0))\n",
    "max =  (1-stats.poisson.pmf(mu = lamb_1, k=0))  # max\n",
    "min =  (1-stats.poisson.pmf(mu = lamb_0, k=0))  # min\n",
    "scal = (pred - min)/(max - min)\n",
    "\n",
    "print('pred : {}'.format(pred), ', max : {}'.format(max), ', min : {}'.format(min))\n",
    "print('scaling : {}'.format(scal))"
   ]
  },
  {
   "cell_type": "markdown",
   "metadata": {},
   "source": [
    "- #### (4)주기가 평균-0.5 주"
   ]
  },
  {
   "cell_type": "code",
   "execution_count": 211,
   "metadata": {},
   "outputs": [],
   "source": [
    "# 주기가 평균 - .5 주\n",
    "\n",
    "k, t_purch, tmean_u, t_ ,alpha, beta = 6, 1.6566*5 , 1.6566 , 1.6566-0.5 , 6.149540825318489, 60.4981854166467"
   ]
  },
  {
   "cell_type": "code",
   "execution_count": 212,
   "metadata": {},
   "outputs": [],
   "source": [
    "# 함수로 출력되는게 많게했어! & unit time을 1주일로 변경.\n",
    "\n",
    "def func_lamb(t_purch, tmean_u, t_ , alpha, beta, k):\n",
    "\n",
    "    if t_purch == 0:  # t_purch가 0이라는 소리는, k=1이라는 소리겠지! 그러니깐 앞의 값이 0이 되게끔 한거야.\n",
    "        lamb = (alpha/(2*abs(tmean_u-t_)+beta))\n",
    "        lamb_0 = (alpha/(2*abs(tmean_u)+beta))   # 최저값 : t=0\n",
    "        lamb_1 = (alpha/+beta)     # 최고값 : |tmean-t|=0\n",
    "    else:\n",
    "        lamb = (k/t_purch+(alpha/(2*abs(tmean_u-t_)+beta)))\n",
    "        lamb_0 = (k/t_purch+(alpha/(2*abs(tmean_u)+beta)))   # 최저값 : t=0  \n",
    "        lamb_1 = (k/t_purch+(alpha/+beta))     #최고값 : |tmean-t|=0\n",
    "    return lamb,lamb_0, lamb_1, t_, t_purch, tmean_u, k"
   ]
  },
  {
   "cell_type": "code",
   "execution_count": 213,
   "metadata": {},
   "outputs": [
    {
     "name": "stdout",
     "output_type": "stream",
     "text": [
      "0.8243707105210701 0.8207458158030775 0.8260235780156099\n"
     ]
    }
   ],
   "source": [
    "lamb, lamb_0, lamb_1, t_, t_purch, tmean_u, k = func_lamb(t_purch, tmean_u, t_ , alpha, beta, k)\n",
    "\n",
    "print(lamb, lamb_0, lamb_1)"
   ]
  },
  {
   "cell_type": "code",
   "execution_count": 214,
   "metadata": {
    "scrolled": false
   },
   "outputs": [
    {
     "name": "stdout",
     "output_type": "stream",
     "text": [
      "pred : 0.5614891440751109 , max : 0.5622133457452969 , min : 0.5598967039194349\n",
      "scaling : 0.687391610519427\n"
     ]
    }
   ],
   "source": [
    "       \n",
    "if lamb < lamb_0: # 일자별, 이런 경우가 있을수도 있어 - 마지막 구매부터 너무 너무 멀어지면!\n",
    "    lamb_0 = lamb\n",
    "pred = (1-stats.poisson.pmf(mu = lamb, k=0))\n",
    "max =  (1-stats.poisson.pmf(mu = lamb_1, k=0))  # max\n",
    "min =  (1-stats.poisson.pmf(mu = lamb_0, k=0))  # min\n",
    "scal = (pred - min)/(max - min)\n",
    "\n",
    "print('pred : {}'.format(pred), ', max : {}'.format(max), ', min : {}'.format(min))\n",
    "print('scaling : {}'.format(scal))"
   ]
  },
  {
   "cell_type": "markdown",
   "metadata": {},
   "source": [
    "---"
   ]
  },
  {
   "cell_type": "markdown",
   "metadata": {},
   "source": [
    "### #ver(1)으로"
   ]
  },
  {
   "cell_type": "markdown",
   "metadata": {},
   "source": [
    "* ####  (1)실장님 원래 주기 : 주기가 넘어갔을때"
   ]
  },
  {
   "cell_type": "code",
   "execution_count": 219,
   "metadata": {},
   "outputs": [],
   "source": [
    "# 실장님 원래 주기 : 주기가 넘어갔을때\n",
    "\n",
    "k, t_purch, tmean_u, t_ ,alpha, beta = 6, 1.6656*5 , 1.6566 , 1.6566+0.9 , 0.787390881, 0.230086438"
   ]
  },
  {
   "cell_type": "code",
   "execution_count": 220,
   "metadata": {},
   "outputs": [],
   "source": [
    "# 함수로 출력되는게 많게했어! & unit time을 1주일로 변경.\n",
    "\n",
    "def func_lamb(t_purch, tmean_u, t_ , alpha, beta, k):\n",
    "\n",
    "    if t_purch == 0:  # t_purch가 0이라는 소리는, k=1이라는 소리겠지! 그러니깐 앞의 값이 0이 되게끔 한거야.\n",
    "        lamb = (alpha/(2*abs(tmean_u-t_)+beta))\n",
    "        lamb_0 = (alpha/(2*abs(tmean_u)+beta))   # 최저값 : t=0\n",
    "        lamb_1 = (alpha/+beta)     # 최고값 : |tmean-t|=0\n",
    "    else:\n",
    "        lamb = (k/t_purch+(alpha/(2*abs(tmean_u-t_)+beta)))\n",
    "        lamb_0 = (k/t_purch+(alpha/(2*abs(tmean_u)+beta)))   # 최저값 : t=0  \n",
    "        lamb_1 = (k/t_purch+(alpha/+beta))     #최고값 : |tmean-t|=0\n",
    "    return lamb,lamb_0, lamb_1, t_, t_purch, tmean_u, k"
   ]
  },
  {
   "cell_type": "code",
   "execution_count": 221,
   "metadata": {},
   "outputs": [
    {
     "name": "stdout",
     "output_type": "stream",
     "text": [
      "1.1083218611555956 0.9426815942836632 4.142613603715909\n"
     ]
    }
   ],
   "source": [
    "lamb, lamb_0, lamb_1, t_, t_purch, tmean_u, k = func_lamb(t_purch, tmean_u, t_ , alpha, beta, k)\n",
    "\n",
    "print(lamb, lamb_0, lamb_1)"
   ]
  },
  {
   "cell_type": "code",
   "execution_count": 222,
   "metadata": {
    "scrolled": false
   },
   "outputs": [
    {
     "name": "stdout",
     "output_type": "stream",
     "text": [
      "pred : 0.6698875289272925 , max : 0.9841187101827994 , min : 0.6104182667741943\n",
      "scaling : 0.1591361830097546\n"
     ]
    }
   ],
   "source": [
    "       \n",
    "if lamb < lamb_0: # 일자별, 이런 경우가 있을수도 있어 - 마지막 구매부터 너무 너무 멀어지면!\n",
    "    lamb_0 = lamb\n",
    "pred = (1-stats.poisson.pmf(mu = lamb, k=0))\n",
    "max =  (1-stats.poisson.pmf(mu = lamb_1, k=0))  # max\n",
    "min =  (1-stats.poisson.pmf(mu = lamb_0, k=0))  # min\n",
    "scal = (pred - min)/(max - min)\n",
    "\n",
    "print('pred : {}'.format(pred), ', max : {}'.format(max), ', min : {}'.format(min))\n",
    "print('scaling : {}'.format(scal))"
   ]
  },
  {
   "cell_type": "markdown",
   "metadata": {},
   "source": [
    ": 일단, lambda의 값이 작기때문에, lambda 범위가 너무 좁아!!"
   ]
  },
  {
   "cell_type": "markdown",
   "metadata": {},
   "source": [
    "---"
   ]
  },
  {
   "cell_type": "markdown",
   "metadata": {},
   "source": [
    "- #### (2)주기가 평균일때"
   ]
  },
  {
   "cell_type": "code",
   "execution_count": 227,
   "metadata": {},
   "outputs": [],
   "source": [
    "# 주기가 평균일때\n",
    "\n",
    "k, t_purch, tmean_u, t_ ,alpha, beta = 6, 1.6656*5 , 1.6566 , 1.6566 , 0.787390881, 0.230086438"
   ]
  },
  {
   "cell_type": "code",
   "execution_count": 228,
   "metadata": {},
   "outputs": [],
   "source": [
    "# 함수로 출력되는게 많게했어! & unit time을 1주일로 변경.\n",
    "\n",
    "def func_lamb(t_purch, tmean_u, t_ , alpha, beta, k):\n",
    "\n",
    "    if t_purch == 0:  # t_purch가 0이라는 소리는, k=1이라는 소리겠지! 그러니깐 앞의 값이 0이 되게끔 한거야.\n",
    "        lamb = (alpha/(2*abs(tmean_u-t_)+beta))\n",
    "        lamb_0 = (alpha/(2*abs(tmean_u)+beta))   # 최저값 : t=0\n",
    "        lamb_1 = (alpha/+beta)     # 최고값 : |tmean-t|=0\n",
    "    else:\n",
    "        lamb = (k/t_purch+(alpha/(2*abs(tmean_u-t_)+beta)))\n",
    "        lamb_0 = (k/t_purch+(alpha/(2*abs(tmean_u)+beta)))   # 최저값 : t=0  \n",
    "        lamb_1 = (k/t_purch+(alpha/+beta))     #최고값 : |tmean-t|=0\n",
    "    return lamb,lamb_0, lamb_1, t_, t_purch, tmean_u, k"
   ]
  },
  {
   "cell_type": "code",
   "execution_count": 229,
   "metadata": {},
   "outputs": [
    {
     "name": "stdout",
     "output_type": "stream",
     "text": [
      "4.142613603715909 0.9426815942836632 4.142613603715909\n"
     ]
    }
   ],
   "source": [
    "lamb, lamb_0, lamb_1, t_, t_purch, tmean_u, k = func_lamb(t_purch, tmean_u, t_ , alpha, beta, k)\n",
    "\n",
    "print(lamb, lamb_0, lamb_1)"
   ]
  },
  {
   "cell_type": "code",
   "execution_count": 230,
   "metadata": {
    "scrolled": false
   },
   "outputs": [
    {
     "name": "stdout",
     "output_type": "stream",
     "text": [
      "pred : 0.9841187101827994 , max : 0.9841187101827994 , min : 0.6104182667741943\n",
      "scaling : 1.0\n"
     ]
    }
   ],
   "source": [
    "       \n",
    "if lamb < lamb_0: # 일자별, 이런 경우가 있을수도 있어 - 마지막 구매부터 너무 너무 멀어지면!\n",
    "    lamb_0 = lamb\n",
    "pred = (1-stats.poisson.pmf(mu = lamb, k=0))\n",
    "max =  (1-stats.poisson.pmf(mu = lamb_1, k=0))  # max\n",
    "min =  (1-stats.poisson.pmf(mu = lamb_0, k=0))  # min\n",
    "scal = (pred - min)/(max - min)\n",
    "\n",
    "print('pred : {}'.format(pred), ', max : {}'.format(max), ', min : {}'.format(min))\n",
    "print('scaling : {}'.format(scal))"
   ]
  },
  {
   "cell_type": "markdown",
   "metadata": {},
   "source": [
    "---"
   ]
  },
  {
   "cell_type": "markdown",
   "metadata": {},
   "source": [
    "- #### (3)주기가 '평균 - 1 주'"
   ]
  },
  {
   "cell_type": "code",
   "execution_count": 231,
   "metadata": {},
   "outputs": [],
   "source": [
    "# 주기가 평균 - 1 주\n",
    "\n",
    "k, t_purch, tmean_u, t_ ,alpha, beta = 6, 1.6656*5 , 1.6566 , 1.6566-1 , 0.787390881, 0.230086438"
   ]
  },
  {
   "cell_type": "code",
   "execution_count": 232,
   "metadata": {},
   "outputs": [],
   "source": [
    "# 함수로 출력되는게 많게했어! & unit time을 1주일로 변경.\n",
    "\n",
    "def func_lamb(t_purch, tmean_u, t_ , alpha, beta, k):\n",
    "\n",
    "    if t_purch == 0:  # t_purch가 0이라는 소리는, k=1이라는 소리겠지! 그러니깐 앞의 값이 0이 되게끔 한거야.\n",
    "        lamb = (alpha/(2*abs(tmean_u-t_)+beta))\n",
    "        lamb_0 = (alpha/(2*abs(tmean_u)+beta))   # 최저값 : t=0\n",
    "        lamb_1 = (alpha/+beta)     # 최고값 : |tmean-t|=0\n",
    "    else:\n",
    "        lamb = (k/t_purch+(alpha/(2*abs(tmean_u-t_)+beta)))\n",
    "        lamb_0 = (k/t_purch+(alpha/(2*abs(tmean_u)+beta)))   # 최저값 : t=0  \n",
    "        lamb_1 = (k/t_purch+(alpha/+beta))     #최고값 : |tmean-t|=0\n",
    "    return lamb,lamb_0, lamb_1, t_, t_purch, tmean_u, k"
   ]
  },
  {
   "cell_type": "code",
   "execution_count": 233,
   "metadata": {},
   "outputs": [
    {
     "name": "stdout",
     "output_type": "stream",
     "text": [
      "1.073537490519041 0.9426815942836632 4.142613603715909\n"
     ]
    }
   ],
   "source": [
    "lamb, lamb_0, lamb_1, t_, t_purch, tmean_u, k = func_lamb(t_purch, tmean_u, t_ , alpha, beta, k)\n",
    "\n",
    "print(lamb, lamb_0, lamb_1)"
   ]
  },
  {
   "cell_type": "code",
   "execution_count": 234,
   "metadata": {
    "scrolled": false
   },
   "outputs": [
    {
     "name": "stdout",
     "output_type": "stream",
     "text": [
      "pred : 0.6582027283113582 , max : 0.9841187101827994 , min : 0.6104182667741943\n",
      "scaling : 0.12786835654063222\n"
     ]
    }
   ],
   "source": [
    "       \n",
    "if lamb < lamb_0: # 일자별, 이런 경우가 있을수도 있어 - 마지막 구매부터 너무 너무 멀어지면!\n",
    "    lamb_0 = lamb\n",
    "pred = (1-stats.poisson.pmf(mu = lamb, k=0))\n",
    "max =  (1-stats.poisson.pmf(mu = lamb_1, k=0))  # max\n",
    "min =  (1-stats.poisson.pmf(mu = lamb_0, k=0))  # min\n",
    "scal = (pred - min)/(max - min)\n",
    "\n",
    "print('pred : {}'.format(pred), ', max : {}'.format(max), ', min : {}'.format(min))\n",
    "print('scaling : {}'.format(scal))"
   ]
  },
  {
   "cell_type": "markdown",
   "metadata": {},
   "source": [
    "---"
   ]
  },
  {
   "cell_type": "markdown",
   "metadata": {},
   "source": [
    "- #### (4)주기가 '평균 - 0.5 주'"
   ]
  },
  {
   "cell_type": "code",
   "execution_count": 235,
   "metadata": {},
   "outputs": [],
   "source": [
    "# 주기가 '평균 - 0.5 주'\n",
    "# mean :  5.12256603893284\n",
    "\n",
    "k, t_purch, tmean_u, t_ ,alpha, beta = 6, 1.6656*5 , 1.6566 , 1.6566-0.5 , 0.787390881, 0.230086438"
   ]
  },
  {
   "cell_type": "code",
   "execution_count": 236,
   "metadata": {},
   "outputs": [],
   "source": [
    "# 함수로 출력되는게 많게했어! & unit time을 1주일로 변경.\n",
    "\n",
    "def func_lamb(t_purch, tmean_u, t_ , alpha, beta, k):\n",
    "\n",
    "    if t_purch == 0:  # t_purch가 0이라는 소리는, k=1이라는 소리겠지! 그러니깐 앞의 값이 0이 되게끔 한거야.\n",
    "        lamb = (alpha/(2*abs(tmean_u-t_)+beta))\n",
    "        lamb_0 = (alpha/(2*abs(tmean_u)+beta))   # 최저값 : t=0\n",
    "        lamb_1 = (alpha/+beta)     # 최고값 : |tmean-t|=0\n",
    "    else:\n",
    "        lamb = (k/t_purch+(alpha/(2*abs(tmean_u-t_)+beta)))\n",
    "        lamb_0 = (k/t_purch+(alpha/(2*abs(tmean_u)+beta)))   # 최저값 : t=0  \n",
    "        lamb_1 = (k/t_purch+(alpha/+beta))     #최고값 : |tmean-t|=0\n",
    "    return lamb,lamb_0, lamb_1, t_, t_purch, tmean_u, k"
   ]
  },
  {
   "cell_type": "code",
   "execution_count": 237,
   "metadata": {},
   "outputs": [
    {
     "name": "stdout",
     "output_type": "stream",
     "text": [
      "1.3605712992912469 0.9426815942836632 4.142613603715909\n"
     ]
    }
   ],
   "source": [
    "lamb, lamb_0, lamb_1, t_, t_purch, tmean_u, k = func_lamb(t_purch, tmean_u, t_ , alpha, beta, k)\n",
    "\n",
    "print(lamb, lamb_0, lamb_1)"
   ]
  },
  {
   "cell_type": "code",
   "execution_count": 238,
   "metadata": {
    "scrolled": false
   },
   "outputs": [
    {
     "name": "stdout",
     "output_type": "stream",
     "text": [
      "pred : 0.7434858112895419 , max : 0.9841187101827994 , min : 0.6104182667741943\n",
      "scaling : 0.35608077769886726\n"
     ]
    }
   ],
   "source": [
    "       \n",
    "if lamb < lamb_0: # 일자별, 이런 경우가 있을수도 있어 - 마지막 구매부터 너무 너무 멀어지면!\n",
    "    lamb_0 = lamb\n",
    "pred = (1-stats.poisson.pmf(mu = lamb, k=0))\n",
    "max =  (1-stats.poisson.pmf(mu = lamb_1, k=0))  # max\n",
    "min =  (1-stats.poisson.pmf(mu = lamb_0, k=0))  # min\n",
    "scal = (pred - min)/(max - min)\n",
    "\n",
    "print('pred : {}'.format(pred), ', max : {}'.format(max), ', min : {}'.format(min))\n",
    "print('scaling : {}'.format(scal))"
   ]
  },
  {
   "cell_type": "markdown",
   "metadata": {},
   "source": [
    ": 딱 주기에서 1주일 정도만 노출되도록 보인다!"
   ]
  },
  {
   "cell_type": "code",
   "execution_count": null,
   "metadata": {},
   "outputs": [],
   "source": []
  },
  {
   "cell_type": "markdown",
   "metadata": {},
   "source": [
    "## # Step2-1. 논문 수식"
   ]
  },
  {
   "cell_type": "markdown",
   "metadata": {},
   "source": [
    "#### ver1.\n",
    "- #### (1)실장님 원래 주기"
   ]
  },
  {
   "cell_type": "code",
   "execution_count": 239,
   "metadata": {},
   "outputs": [],
   "source": [
    "# 주기가 '평균 - 0.5 주'\n",
    "# mean :  5.12256603893284\n",
    "\n",
    "k, t_purch, tmean_u, t_ ,alpha, beta = 6, 1.6656*5 , 1.6566 , 1.6566+0.9 , 0.787390881, 0.230086438"
   ]
  },
  {
   "cell_type": "code",
   "execution_count": 240,
   "metadata": {},
   "outputs": [],
   "source": [
    "# 함수로 출력되는게 많게했어! & unit time을 1주일로 변경.\n",
    "\n",
    "def func_lamb(t_purch, tmean_u, t_ , alpha, beta, k):\n",
    "    \n",
    "    lamb = ((k+alpha)/(t_purch+2*abs(tmean_u-t_)+beta))\n",
    "    lamb_0 = ((k+alpha)/(t_purch+2*abs(tmean_u)+beta))   # 최저값 : t=0  \n",
    "    lamb_1 = ((k+alpha)/(t_purch+beta))     #최고값 : |tmean-t|=0\n",
    "    \n",
    "    return lamb,lamb_0, lamb_1, t_, t_purch, tmean_u, k"
   ]
  },
  {
   "cell_type": "code",
   "execution_count": 241,
   "metadata": {},
   "outputs": [
    {
     "name": "stdout",
     "output_type": "stream",
     "text": [
      "0.6552745935870515 0.5717485561862575 0.7930967898223512\n"
     ]
    }
   ],
   "source": [
    "lamb, lamb_0, lamb_1, t_, t_purch, tmean_u, k = func_lamb(t_purch, tmean_u, t_ , alpha, beta, k)\n",
    "\n",
    "print(lamb, lamb_0, lamb_1)"
   ]
  },
  {
   "cell_type": "code",
   "execution_count": 242,
   "metadata": {
    "scrolled": false
   },
   "outputs": [
    {
     "name": "stdout",
     "output_type": "stream",
     "text": [
      "pred : 0.48070055329058425 , max : 0.547558492695165 , min : 0.4354625502759424\n",
      "scaling : 0.40356503579280584\n"
     ]
    }
   ],
   "source": [
    "       \n",
    "if lamb < lamb_0: # 일자별, 이런 경우가 있을수도 있어 - 마지막 구매부터 너무 너무 멀어지면!\n",
    "    lamb_0 = lamb\n",
    "pred = (1-stats.poisson.pmf(mu = lamb, k=0))\n",
    "max =  (1-stats.poisson.pmf(mu = lamb_1, k=0))  # max\n",
    "min =  (1-stats.poisson.pmf(mu = lamb_0, k=0))  # min\n",
    "scal = (pred - min)/(max - min)\n",
    "\n",
    "print('pred : {}'.format(pred), ', max : {}'.format(max), ', min : {}'.format(min))\n",
    "print('scaling : {}'.format(scal))"
   ]
  },
  {
   "cell_type": "markdown",
   "metadata": {},
   "source": [
    "---"
   ]
  },
  {
   "cell_type": "markdown",
   "metadata": {},
   "source": [
    "- #### (2)주기가 평균일때"
   ]
  },
  {
   "cell_type": "code",
   "execution_count": 243,
   "metadata": {},
   "outputs": [],
   "source": [
    "# 주기가 평균일때\n",
    "\n",
    "k, t_purch, tmean_u, t_ ,alpha, beta = 6, 1.6656*5 , 1.6566 , 1.6566 , 0.787390881, 0.230086438"
   ]
  },
  {
   "cell_type": "code",
   "execution_count": 244,
   "metadata": {},
   "outputs": [],
   "source": [
    "# 함수로 출력되는게 많게했어! & unit time을 1주일로 변경.\n",
    "\n",
    "def func_lamb(t_purch, tmean_u, t_ , alpha, beta, k):\n",
    "    \n",
    "    lamb = ((k+alpha)/(t_purch+2*abs(tmean_u-t_)+beta))\n",
    "    lamb_0 = ((k+alpha)/(t_purch+2*abs(tmean_u)+beta))   # 최저값 : t=0  \n",
    "    lamb_1 = ((k+alpha)/(t_purch+beta))     #최고값 : |tmean-t|=0\n",
    "    \n",
    "    return lamb,lamb_0, lamb_1, t_, t_purch, tmean_u, k"
   ]
  },
  {
   "cell_type": "code",
   "execution_count": 245,
   "metadata": {},
   "outputs": [
    {
     "name": "stdout",
     "output_type": "stream",
     "text": [
      "0.7930967898223512 0.5717485561862575 0.7930967898223512\n"
     ]
    }
   ],
   "source": [
    "lamb, lamb_0, lamb_1, t_, t_purch, tmean_u, k = func_lamb(t_purch, tmean_u, t_ , alpha, beta, k)\n",
    "\n",
    "print(lamb, lamb_0, lamb_1)"
   ]
  },
  {
   "cell_type": "code",
   "execution_count": 246,
   "metadata": {
    "scrolled": true
   },
   "outputs": [
    {
     "name": "stdout",
     "output_type": "stream",
     "text": [
      "pred : 0.547558492695165 , max : 0.547558492695165 , min : 0.4354625502759424\n",
      "scaling : 1.0\n"
     ]
    }
   ],
   "source": [
    "       \n",
    "if lamb < lamb_0: # 일자별, 이런 경우가 있을수도 있어 - 마지막 구매부터 너무 너무 멀어지면!\n",
    "    lamb_0 = lamb\n",
    "pred = (1-stats.poisson.pmf(mu = lamb, k=0))\n",
    "max =  (1-stats.poisson.pmf(mu = lamb_1, k=0))  # max\n",
    "min =  (1-stats.poisson.pmf(mu = lamb_0, k=0))  # min\n",
    "scal = (pred - min)/(max - min)\n",
    "\n",
    "print('pred : {}'.format(pred), ', max : {}'.format(max), ', min : {}'.format(min))\n",
    "print('scaling : {}'.format(scal))"
   ]
  },
  {
   "cell_type": "markdown",
   "metadata": {},
   "source": [
    "- #### (3)주기가 '평균 - 1 주'"
   ]
  },
  {
   "cell_type": "code",
   "execution_count": 247,
   "metadata": {},
   "outputs": [],
   "source": [
    "# 주기가 평균 - 1 주\n",
    "\n",
    "k, t_purch, tmean_u, t_ ,alpha, beta = 6, 1.6656*5 , 1.6566 , 1.6566-1 , 0.787390881, 0.230086438"
   ]
  },
  {
   "cell_type": "code",
   "execution_count": 248,
   "metadata": {},
   "outputs": [],
   "source": [
    "# 함수로 출력되는게 많게했어! & unit time을 1주일로 변경.\n",
    "\n",
    "def func_lamb(t_purch, tmean_u, t_ , alpha, beta, k):\n",
    "    \n",
    "    lamb = ((k+alpha)/(t_purch+2*abs(tmean_u-t_)+beta))\n",
    "    lamb_0 = ((k+alpha)/(t_purch+2*abs(tmean_u)+beta))   # 최저값 : t=0  \n",
    "    lamb_1 = ((k+alpha)/(t_purch+beta))     #최고값 : |tmean-t|=0\n",
    "    \n",
    "    return lamb,lamb_0, lamb_1, t_, t_purch, tmean_u, k"
   ]
  },
  {
   "cell_type": "code",
   "execution_count": 249,
   "metadata": {},
   "outputs": [
    {
     "name": "stdout",
     "output_type": "stream",
     "text": [
      "0.6428618406240026 0.5717485561862575 0.7930967898223512\n"
     ]
    }
   ],
   "source": [
    "lamb, lamb_0, lamb_1, t_, t_purch, tmean_u, k = func_lamb(t_purch, tmean_u, t_ , alpha, beta, k)\n",
    "\n",
    "print(lamb, lamb_0, lamb_1)"
   ]
  },
  {
   "cell_type": "code",
   "execution_count": 250,
   "metadata": {
    "scrolled": false
   },
   "outputs": [
    {
     "name": "stdout",
     "output_type": "stream",
     "text": [
      "pred : 0.4742144455979749 , max : 0.547558492695165 , min : 0.4354625502759424\n",
      "scaling : 0.34570292631205163\n"
     ]
    }
   ],
   "source": [
    "       \n",
    "if lamb < lamb_0: # 일자별, 이런 경우가 있을수도 있어 - 마지막 구매부터 너무 너무 멀어지면!\n",
    "    lamb_0 = lamb\n",
    "pred = (1-stats.poisson.pmf(mu = lamb, k=0))\n",
    "max =  (1-stats.poisson.pmf(mu = lamb_1, k=0))  # max\n",
    "min =  (1-stats.poisson.pmf(mu = lamb_0, k=0))  # min\n",
    "scal = (pred - min)/(max - min)\n",
    "\n",
    "print('pred : {}'.format(pred), ', max : {}'.format(max), ', min : {}'.format(min))\n",
    "print('scaling : {}'.format(scal))"
   ]
  },
  {
   "cell_type": "markdown",
   "metadata": {},
   "source": [
    "- #### (4)주기가 '평균 - 0.5 주'"
   ]
  },
  {
   "cell_type": "code",
   "execution_count": 251,
   "metadata": {},
   "outputs": [],
   "source": [
    "# 주기가 '평균 - 0.5 주'\n",
    "# mean :  5.12256603893284\n",
    "\n",
    "k, t_purch, tmean_u, t_ ,alpha, beta = 6, 1.6656*5 , 1.6566 , 1.6566-0.5 , 0.787390881, 0.230086438"
   ]
  },
  {
   "cell_type": "code",
   "execution_count": 252,
   "metadata": {},
   "outputs": [],
   "source": [
    "# 함수로 출력되는게 많게했어! & unit time을 1주일로 변경.\n",
    "\n",
    "def func_lamb(t_purch, tmean_u, t_ , alpha, beta, k):\n",
    "    \n",
    "    lamb = ((k+alpha)/(t_purch+2*abs(tmean_u-t_)+beta))\n",
    "    lamb_0 = ((k+alpha)/(t_purch+2*abs(tmean_u)+beta))   # 최저값 : t=0  \n",
    "    lamb_1 = ((k+alpha)/(t_purch+beta))     #최고값 : |tmean-t|=0\n",
    "    \n",
    "    return lamb,lamb_0, lamb_1, t_, t_purch, tmean_u, k"
   ]
  },
  {
   "cell_type": "code",
   "execution_count": 253,
   "metadata": {},
   "outputs": [
    {
     "name": "stdout",
     "output_type": "stream",
     "text": [
      "0.7101202657066826 0.5717485561862575 0.7930967898223512\n"
     ]
    }
   ],
   "source": [
    "lamb, lamb_0, lamb_1, t_, t_purch, tmean_u, k = func_lamb(t_purch, tmean_u, t_ , alpha, beta, k)\n",
    "\n",
    "print(lamb, lamb_0, lamb_1)"
   ]
  },
  {
   "cell_type": "code",
   "execution_count": 254,
   "metadata": {
    "scrolled": false
   },
   "outputs": [
    {
     "name": "stdout",
     "output_type": "stream",
     "text": [
      "pred : 0.50841492692049 , max : 0.547558492695165 , min : 0.4354625502759424\n",
      "scaling : 0.6508030091911465\n"
     ]
    }
   ],
   "source": [
    "       \n",
    "if lamb < lamb_0: # 일자별, 이런 경우가 있을수도 있어 - 마지막 구매부터 너무 너무 멀어지면!\n",
    "    lamb_0 = lamb\n",
    "pred = (1-stats.poisson.pmf(mu = lamb, k=0))\n",
    "max =  (1-stats.poisson.pmf(mu = lamb_1, k=0))  # max\n",
    "min =  (1-stats.poisson.pmf(mu = lamb_0, k=0))  # min\n",
    "scal = (pred - min)/(max - min)\n",
    "\n",
    "print('pred : {}'.format(pred), ', max : {}'.format(max), ', min : {}'.format(min))\n",
    "print('scaling : {}'.format(scal))"
   ]
  },
  {
   "cell_type": "markdown",
   "metadata": {},
   "source": [
    "---"
   ]
  },
  {
   "cell_type": "markdown",
   "metadata": {},
   "source": [
    "#### ver2.\n",
    "- #### (1)실장님 원래 주기"
   ]
  },
  {
   "cell_type": "code",
   "execution_count": 255,
   "metadata": {},
   "outputs": [],
   "source": [
    "# 주기가 '평균 - 0.5 주'\n",
    "# mean :  5.12256603893284\n",
    "\n",
    "k, t_purch, tmean_u, t_ ,alpha, beta = 6, 1.6566*5 , 1.6566 , 1.6566+0.9 , 6.149540825318489, 60.4981854166467"
   ]
  },
  {
   "cell_type": "code",
   "execution_count": 256,
   "metadata": {},
   "outputs": [],
   "source": [
    "# 함수로 출력되는게 많게했어! & unit time을 1주일로 변경.\n",
    "\n",
    "def func_lamb(t_purch, tmean_u, t_ , alpha, beta, k):\n",
    "    \n",
    "    lamb = ((k+alpha)/(t_purch+2*abs(tmean_u-t_)+beta))\n",
    "    lamb_0 = ((k+alpha)/(t_purch+2*abs(tmean_u)+beta))   # 최저값 : t=0  \n",
    "    lamb_1 = ((k+alpha)/(t_purch+beta))     #최고값 : |tmean-t|=0\n",
    "    \n",
    "    return lamb,lamb_0, lamb_1, t_, t_purch, tmean_u, k"
   ]
  },
  {
   "cell_type": "code",
   "execution_count": 257,
   "metadata": {},
   "outputs": [
    {
     "name": "stdout",
     "output_type": "stream",
     "text": [
      "0.17213568677826424 0.16852270471693545 0.1766404686357442\n"
     ]
    }
   ],
   "source": [
    "lamb, lamb_0, lamb_1, t_, t_purch, tmean_u, k = func_lamb(t_purch, tmean_u, t_ , alpha, beta, k)\n",
    "\n",
    "print(lamb, lamb_0, lamb_1)"
   ]
  },
  {
   "cell_type": "code",
   "execution_count": 258,
   "metadata": {
    "scrolled": false
   },
   "outputs": [
    {
     "name": "stdout",
     "output_type": "stream",
     "text": [
      "pred : 0.15813506452242554 , max : 0.1619189532147598 , min : 0.1550879202884483\n",
      "scaling : 0.44607371489022773\n"
     ]
    }
   ],
   "source": [
    "       \n",
    "if lamb < lamb_0: # 일자별, 이런 경우가 있을수도 있어 - 마지막 구매부터 너무 너무 멀어지면!\n",
    "    lamb_0 = lamb\n",
    "pred = (1-stats.poisson.pmf(mu = lamb, k=0))\n",
    "max =  (1-stats.poisson.pmf(mu = lamb_1, k=0))  # max\n",
    "min =  (1-stats.poisson.pmf(mu = lamb_0, k=0))  # min\n",
    "scal = (pred - min)/(max - min)\n",
    "\n",
    "print('pred : {}'.format(pred), ', max : {}'.format(max), ', min : {}'.format(min))\n",
    "print('scaling : {}'.format(scal))"
   ]
  },
  {
   "cell_type": "markdown",
   "metadata": {},
   "source": [
    "---"
   ]
  },
  {
   "cell_type": "markdown",
   "metadata": {},
   "source": [
    "- #### (2)주기가 평균일때"
   ]
  },
  {
   "cell_type": "code",
   "execution_count": 259,
   "metadata": {},
   "outputs": [],
   "source": [
    "# 주기가 평균일때\n",
    "\n",
    "k, t_purch, tmean_u, t_ ,alpha, beta = 6, 1.6566*5 , 1.6566 , 1.6566 , 6.149540825318489, 60.4981854166467"
   ]
  },
  {
   "cell_type": "code",
   "execution_count": 260,
   "metadata": {},
   "outputs": [],
   "source": [
    "# 함수로 출력되는게 많게했어! & unit time을 1주일로 변경.\n",
    "\n",
    "def func_lamb(t_purch, tmean_u, t_ , alpha, beta, k):\n",
    "    \n",
    "    lamb = ((k+alpha)/(t_purch+2*abs(tmean_u-t_)+beta))\n",
    "    lamb_0 = ((k+alpha)/(t_purch+2*abs(tmean_u)+beta))   # 최저값 : t=0  \n",
    "    lamb_1 = ((k+alpha)/(t_purch+beta))     #최고값 : |tmean-t|=0\n",
    "    \n",
    "    return lamb,lamb_0, lamb_1, t_, t_purch, tmean_u, k"
   ]
  },
  {
   "cell_type": "code",
   "execution_count": 261,
   "metadata": {},
   "outputs": [
    {
     "name": "stdout",
     "output_type": "stream",
     "text": [
      "0.1766404686357442 0.16852270471693545 0.1766404686357442\n"
     ]
    }
   ],
   "source": [
    "lamb, lamb_0, lamb_1, t_, t_purch, tmean_u, k = func_lamb(t_purch, tmean_u, t_ , alpha, beta, k)\n",
    "\n",
    "print(lamb, lamb_0, lamb_1)"
   ]
  },
  {
   "cell_type": "code",
   "execution_count": 262,
   "metadata": {
    "scrolled": true
   },
   "outputs": [
    {
     "name": "stdout",
     "output_type": "stream",
     "text": [
      "pred : 0.1619189532147598 , max : 0.1619189532147598 , min : 0.1550879202884483\n",
      "scaling : 1.0\n"
     ]
    }
   ],
   "source": [
    "       \n",
    "if lamb < lamb_0: # 일자별, 이런 경우가 있을수도 있어 - 마지막 구매부터 너무 너무 멀어지면!\n",
    "    lamb_0 = lamb\n",
    "pred = (1-stats.poisson.pmf(mu = lamb, k=0))\n",
    "max =  (1-stats.poisson.pmf(mu = lamb_1, k=0))  # max\n",
    "min =  (1-stats.poisson.pmf(mu = lamb_0, k=0))  # min\n",
    "scal = (pred - min)/(max - min)\n",
    "\n",
    "print('pred : {}'.format(pred), ', max : {}'.format(max), ', min : {}'.format(min))\n",
    "print('scaling : {}'.format(scal))"
   ]
  },
  {
   "cell_type": "markdown",
   "metadata": {},
   "source": [
    "- #### (3)주기가 '평균 - 1 주'"
   ]
  },
  {
   "cell_type": "code",
   "execution_count": 263,
   "metadata": {},
   "outputs": [],
   "source": [
    "# 주기가 평균 - 1 주\n",
    "\n",
    "k, t_purch, tmean_u, t_ ,alpha, beta = 6, 1.6566*5 , 1.6566 , 1.6566-1 , 6.149540825318489, 60.4981854166467"
   ]
  },
  {
   "cell_type": "code",
   "execution_count": 264,
   "metadata": {},
   "outputs": [],
   "source": [
    "# 함수로 출력되는게 많게했어! & unit time을 1주일로 변경.\n",
    "\n",
    "def func_lamb(t_purch, tmean_u, t_ , alpha, beta, k):\n",
    "    \n",
    "    lamb = ((k+alpha)/(t_purch+2*abs(tmean_u-t_)+beta))\n",
    "    lamb_0 = ((k+alpha)/(t_purch+2*abs(tmean_u)+beta))   # 최저값 : t=0  \n",
    "    lamb_1 = ((k+alpha)/(t_purch+beta))     #최고값 : |tmean-t|=0\n",
    "    \n",
    "    return lamb,lamb_0, lamb_1, t_, t_purch, tmean_u, k"
   ]
  },
  {
   "cell_type": "code",
   "execution_count": 265,
   "metadata": {},
   "outputs": [
    {
     "name": "stdout",
     "output_type": "stream",
     "text": [
      "0.17164929852193594 0.16852270471693545 0.1766404686357442\n"
     ]
    }
   ],
   "source": [
    "lamb, lamb_0, lamb_1, t_, t_purch, tmean_u, k = func_lamb(t_purch, tmean_u, t_ , alpha, beta, k)\n",
    "\n",
    "print(lamb, lamb_0, lamb_1)"
   ]
  },
  {
   "cell_type": "code",
   "execution_count": 266,
   "metadata": {
    "scrolled": false
   },
   "outputs": [
    {
     "name": "stdout",
     "output_type": "stream",
     "text": [
      "pred : 0.1577254917067653 , max : 0.1619189532147598 , min : 0.1550879202884483\n",
      "scaling : 0.3861160452261488\n"
     ]
    }
   ],
   "source": [
    "       \n",
    "if lamb < lamb_0: # 일자별, 이런 경우가 있을수도 있어 - 마지막 구매부터 너무 너무 멀어지면!\n",
    "    lamb_0 = lamb\n",
    "pred = (1-stats.poisson.pmf(mu = lamb, k=0))\n",
    "max =  (1-stats.poisson.pmf(mu = lamb_1, k=0))  # max\n",
    "min =  (1-stats.poisson.pmf(mu = lamb_0, k=0))  # min\n",
    "scal = (pred - min)/(max - min)\n",
    "\n",
    "print('pred : {}'.format(pred), ', max : {}'.format(max), ', min : {}'.format(min))\n",
    "print('scaling : {}'.format(scal))"
   ]
  },
  {
   "cell_type": "markdown",
   "metadata": {},
   "source": [
    "- #### (4)주기가 '평균 - 0.5 주'"
   ]
  },
  {
   "cell_type": "code",
   "execution_count": 267,
   "metadata": {},
   "outputs": [],
   "source": [
    "# 주기가 '평균 - 0.5 주'\n",
    "# mean :  5.12256603893284\n",
    "\n",
    "k, t_purch, tmean_u, t_ ,alpha, beta = 6, 1.6566*5 , 1.6566 , 1.6566-0.5 , 6.149540825318489, 60.4981854166467"
   ]
  },
  {
   "cell_type": "code",
   "execution_count": 268,
   "metadata": {},
   "outputs": [],
   "source": [
    "# 함수로 출력되는게 많게했어! & unit time을 1주일로 변경.\n",
    "\n",
    "def func_lamb(t_purch, tmean_u, t_ , alpha, beta, k):\n",
    "    \n",
    "    lamb = ((k+alpha)/(t_purch+2*abs(tmean_u-t_)+beta))\n",
    "    lamb_0 = ((k+alpha)/(t_purch+2*abs(tmean_u)+beta))   # 최저값 : t=0  \n",
    "    lamb_1 = ((k+alpha)/(t_purch+beta))     #최고값 : |tmean-t|=0\n",
    "    \n",
    "    return lamb,lamb_0, lamb_1, t_, t_purch, tmean_u, k"
   ]
  },
  {
   "cell_type": "code",
   "execution_count": 269,
   "metadata": {},
   "outputs": [
    {
     "name": "stdout",
     "output_type": "stream",
     "text": [
      "0.1741091205713474 0.16852270471693545 0.1766404686357442\n"
     ]
    }
   ],
   "source": [
    "lamb, lamb_0, lamb_1, t_, t_purch, tmean_u, k = func_lamb(t_purch, tmean_u, t_ , alpha, beta, k)\n",
    "\n",
    "print(lamb, lamb_0, lamb_1)"
   ]
  },
  {
   "cell_type": "code",
   "execution_count": 270,
   "metadata": {
    "scrolled": false
   },
   "outputs": [
    {
     "name": "stdout",
     "output_type": "stream",
     "text": [
      "pred : 0.1597947910164912 , max : 0.1619189532147598 , min : 0.1550879202884483\n",
      "scaling : 0.6890423130465599\n"
     ]
    }
   ],
   "source": [
    "       \n",
    "if lamb < lamb_0: # 일자별, 이런 경우가 있을수도 있어 - 마지막 구매부터 너무 너무 멀어지면!\n",
    "    lamb_0 = lamb\n",
    "pred = (1-stats.poisson.pmf(mu = lamb, k=0))\n",
    "max =  (1-stats.poisson.pmf(mu = lamb_1, k=0))  # max\n",
    "min =  (1-stats.poisson.pmf(mu = lamb_0, k=0))  # min\n",
    "scal = (pred - min)/(max - min)\n",
    "\n",
    "print('pred : {}'.format(pred), ', max : {}'.format(max), ', min : {}'.format(min))\n",
    "print('scaling : {}'.format(scal))"
   ]
  },
  {
   "cell_type": "code",
   "execution_count": null,
   "metadata": {},
   "outputs": [],
   "source": []
  }
 ],
 "metadata": {
  "kernelspec": {
   "display_name": "Python [default]",
   "language": "python",
   "name": "python3"
  },
  "language_info": {
   "codemirror_mode": {
    "name": "ipython",
    "version": 3
   },
   "file_extension": ".py",
   "mimetype": "text/x-python",
   "name": "python",
   "nbconvert_exporter": "python",
   "pygments_lexer": "ipython3",
   "version": "3.6.6"
  }
 },
 "nbformat": 4,
 "nbformat_minor": 2
}
