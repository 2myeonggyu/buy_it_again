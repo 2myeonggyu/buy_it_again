{
 "cells": [
  {
   "cell_type": "code",
   "execution_count": 1,
   "metadata": {},
   "outputs": [],
   "source": [
    "import pandas as pd\n",
    "import numpy as np\n",
    "import matplotlib.pyplot as plt\n",
    "import random\n"
   ]
  },
  {
   "cell_type": "code",
   "execution_count": 2,
   "metadata": {},
   "outputs": [
    {
     "data": {
      "text/plain": [
       "'/Users/we/Downloads/업무/buy it again_분석 /ver2'"
      ]
     },
     "execution_count": 2,
     "metadata": {},
     "output_type": "execute_result"
    }
   ],
   "source": [
    "import os\n",
    "os.getcwd()"
   ]
  },
  {
   "cell_type": "code",
   "execution_count": 3,
   "metadata": {},
   "outputs": [],
   "source": [
    "pencil = pd.read_csv('./pencil_new.csv')"
   ]
  },
  {
   "cell_type": "code",
   "execution_count": 4,
   "metadata": {},
   "outputs": [
    {
     "data": {
      "text/plain": [
       "(37954, 8)"
      ]
     },
     "execution_count": 4,
     "metadata": {},
     "output_type": "execute_result"
    }
   ],
   "source": [
    "pencil.shape"
   ]
  },
  {
   "cell_type": "code",
   "execution_count": 5,
   "metadata": {},
   "outputs": [
    {
     "data": {
      "text/html": [
       "<div>\n",
       "<style scoped>\n",
       "    .dataframe tbody tr th:only-of-type {\n",
       "        vertical-align: middle;\n",
       "    }\n",
       "\n",
       "    .dataframe tbody tr th {\n",
       "        vertical-align: top;\n",
       "    }\n",
       "\n",
       "    .dataframe thead th {\n",
       "        text-align: right;\n",
       "    }\n",
       "</style>\n",
       "<table border=\"1\" class=\"dataframe\">\n",
       "  <thead>\n",
       "    <tr style=\"text-align: right;\">\n",
       "      <th></th>\n",
       "      <th>Unnamed: 0</th>\n",
       "      <th>Unnamed: 0.1</th>\n",
       "      <th>biz_dt</th>\n",
       "      <th>m_id</th>\n",
       "      <th>order_price</th>\n",
       "      <th>prod_no</th>\n",
       "      <th>old_admin_category_id</th>\n",
       "      <th>serv_cd</th>\n",
       "    </tr>\n",
       "  </thead>\n",
       "  <tbody>\n",
       "    <tr>\n",
       "      <th>0</th>\n",
       "      <td>136</td>\n",
       "      <td>136</td>\n",
       "      <td>2018-01-01 00:00:36</td>\n",
       "      <td>2,808,784</td>\n",
       "      <td>12,000</td>\n",
       "      <td>2,927,455</td>\n",
       "      <td>237,020,702</td>\n",
       "      <td>1</td>\n",
       "    </tr>\n",
       "    <tr>\n",
       "      <th>1</th>\n",
       "      <td>213</td>\n",
       "      <td>213</td>\n",
       "      <td>2018-01-01 00:00:52</td>\n",
       "      <td>2,425,807</td>\n",
       "      <td>9,800</td>\n",
       "      <td>1,532,869</td>\n",
       "      <td>237,020,702</td>\n",
       "      <td>1</td>\n",
       "    </tr>\n",
       "    <tr>\n",
       "      <th>2</th>\n",
       "      <td>11069</td>\n",
       "      <td>11069</td>\n",
       "      <td>2018-01-01 00:12:13</td>\n",
       "      <td>5,654,816</td>\n",
       "      <td>13,000</td>\n",
       "      <td>2,546,286</td>\n",
       "      <td>237,020,702</td>\n",
       "      <td>1</td>\n",
       "    </tr>\n",
       "    <tr>\n",
       "      <th>3</th>\n",
       "      <td>14745</td>\n",
       "      <td>14745</td>\n",
       "      <td>2018-01-01 00:15:42</td>\n",
       "      <td>8,631,653</td>\n",
       "      <td>24,000</td>\n",
       "      <td>1,532,869</td>\n",
       "      <td>237,020,702</td>\n",
       "      <td>1</td>\n",
       "    </tr>\n",
       "    <tr>\n",
       "      <th>4</th>\n",
       "      <td>29170</td>\n",
       "      <td>29170</td>\n",
       "      <td>2018-01-01 00:28:41</td>\n",
       "      <td>15,865,147</td>\n",
       "      <td>7,000</td>\n",
       "      <td>2,696,145</td>\n",
       "      <td>237,020,702</td>\n",
       "      <td>1</td>\n",
       "    </tr>\n",
       "  </tbody>\n",
       "</table>\n",
       "</div>"
      ],
      "text/plain": [
       "   Unnamed: 0  Unnamed: 0.1               biz_dt        m_id order_price  \\\n",
       "0         136           136  2018-01-01 00:00:36   2,808,784      12,000   \n",
       "1         213           213  2018-01-01 00:00:52   2,425,807       9,800   \n",
       "2       11069         11069  2018-01-01 00:12:13   5,654,816      13,000   \n",
       "3       14745         14745  2018-01-01 00:15:42   8,631,653      24,000   \n",
       "4       29170         29170  2018-01-01 00:28:41  15,865,147       7,000   \n",
       "\n",
       "     prod_no old_admin_category_id  serv_cd  \n",
       "0  2,927,455           237,020,702        1  \n",
       "1  1,532,869           237,020,702        1  \n",
       "2  2,546,286           237,020,702        1  \n",
       "3  1,532,869           237,020,702        1  \n",
       "4  2,696,145           237,020,702        1  "
      ]
     },
     "execution_count": 5,
     "metadata": {},
     "output_type": "execute_result"
    }
   ],
   "source": [
    "pencil.head()"
   ]
  },
  {
   "cell_type": "code",
   "execution_count": 6,
   "metadata": {},
   "outputs": [
    {
     "data": {
      "text/plain": [
       "32648"
      ]
     },
     "execution_count": 6,
     "metadata": {},
     "output_type": "execute_result"
    }
   ],
   "source": [
    "pencil.m_id.nunique()"
   ]
  },
  {
   "cell_type": "code",
   "execution_count": 7,
   "metadata": {},
   "outputs": [
    {
     "data": {
      "text/plain": [
       "(37954,)"
      ]
     },
     "execution_count": 7,
     "metadata": {},
     "output_type": "execute_result"
    }
   ],
   "source": [
    "pencil.m_id.shape  # 거래 건수"
   ]
  },
  {
   "cell_type": "code",
   "execution_count": 8,
   "metadata": {},
   "outputs": [
    {
     "data": {
      "text/plain": [
       "0      2,808,784\n",
       "1      2,425,807\n",
       "2      5,654,816\n",
       "3      8,631,653\n",
       "4     15,865,147\n",
       "5     23,445,916\n",
       "6     20,465,162\n",
       "7      8,252,427\n",
       "8      6,452,055\n",
       "9      6,447,977\n",
       "10     9,508,337\n",
       "11     3,714,756\n",
       "12    19,452,055\n",
       "13    12,320,067\n",
       "14     6,165,285\n",
       "15     7,983,162\n",
       "16     7,983,162\n",
       "17    17,440,470\n",
       "18     3,164,601\n",
       "19     7,627,308\n",
       "20    23,263,170\n",
       "21     8,747,206\n",
       "22    11,126,782\n",
       "23     9,655,829\n",
       "24    13,031,869\n",
       "25    13,466,275\n",
       "26     1,907,066\n",
       "27     3,408,336\n",
       "28     5,931,923\n",
       "29    11,501,680\n",
       "Name: m_id, dtype: object"
      ]
     },
     "execution_count": 8,
     "metadata": {},
     "output_type": "execute_result"
    }
   ],
   "source": [
    "pencil.m_id[:30] # 15,16처럼 반복 구매를 집계하기위한 RCP"
   ]
  },
  {
   "cell_type": "code",
   "execution_count": 9,
   "metadata": {
    "scrolled": true
   },
   "outputs": [
    {
     "data": {
      "text/plain": [
       "0        False\n",
       "1        False\n",
       "2        False\n",
       "3        False\n",
       "4        False\n",
       "5        False\n",
       "6        False\n",
       "7        False\n",
       "8        False\n",
       "9        False\n",
       "10       False\n",
       "11       False\n",
       "12       False\n",
       "13       False\n",
       "14       False\n",
       "15       False\n",
       "16        True\n",
       "17       False\n",
       "18       False\n",
       "19       False\n",
       "20       False\n",
       "21       False\n",
       "22       False\n",
       "23       False\n",
       "24       False\n",
       "25       False\n",
       "26       False\n",
       "27       False\n",
       "28       False\n",
       "29       False\n",
       "         ...  \n",
       "37924     True\n",
       "37925     True\n",
       "37926    False\n",
       "37927    False\n",
       "37928    False\n",
       "37929     True\n",
       "37930    False\n",
       "37931    False\n",
       "37932    False\n",
       "37933    False\n",
       "37934     True\n",
       "37935    False\n",
       "37936    False\n",
       "37937    False\n",
       "37938     True\n",
       "37939     True\n",
       "37940    False\n",
       "37941    False\n",
       "37942    False\n",
       "37943    False\n",
       "37944     True\n",
       "37945    False\n",
       "37946    False\n",
       "37947    False\n",
       "37948    False\n",
       "37949    False\n",
       "37950     True\n",
       "37951    False\n",
       "37952    False\n",
       "37953    False\n",
       "Name: m_id, Length: 37954, dtype: bool"
      ]
     },
     "execution_count": 9,
     "metadata": {},
     "output_type": "execute_result"
    }
   ],
   "source": [
    "pencil.m_id.duplicated()"
   ]
  },
  {
   "cell_type": "code",
   "execution_count": 10,
   "metadata": {},
   "outputs": [
    {
     "data": {
      "text/plain": [
       "32648"
      ]
     },
     "execution_count": 10,
     "metadata": {},
     "output_type": "execute_result"
    }
   ],
   "source": [
    "pencil.m_id.drop_duplicates().shape[0] # distinct user"
   ]
  },
  {
   "cell_type": "code",
   "execution_count": 11,
   "metadata": {},
   "outputs": [
    {
     "data": {
      "text/plain": [
       "4036"
      ]
     },
     "execution_count": 11,
     "metadata": {},
     "output_type": "execute_result"
    }
   ],
   "source": [
    "pencil.m_id[pencil.m_id.duplicated()].nunique()  # 2번이상 구매한 user는 4036명"
   ]
  },
  {
   "cell_type": "code",
   "execution_count": 12,
   "metadata": {},
   "outputs": [
    {
     "data": {
      "text/plain": [
       "0.12362166135751042"
      ]
     },
     "execution_count": 12,
     "metadata": {},
     "output_type": "execute_result"
    }
   ],
   "source": [
    "pencil.m_id[pencil.m_id.duplicated()].nunique() / pencil.m_id.nunique()"
   ]
  },
  {
   "cell_type": "code",
   "execution_count": null,
   "metadata": {},
   "outputs": [],
   "source": []
  },
  {
   "cell_type": "code",
   "execution_count": null,
   "metadata": {},
   "outputs": [],
   "source": []
  },
  {
   "cell_type": "code",
   "execution_count": null,
   "metadata": {},
   "outputs": [],
   "source": []
  },
  {
   "cell_type": "code",
   "execution_count": null,
   "metadata": {},
   "outputs": [],
   "source": []
  },
  {
   "cell_type": "code",
   "execution_count": 5,
   "metadata": {},
   "outputs": [
    {
     "name": "stdout",
     "output_type": "stream",
     "text": [
      "<class 'pandas.core.frame.DataFrame'>\n",
      "RangeIndex: 1833273 entries, 0 to 1833272\n",
      "Data columns (total 8 columns):\n",
      "Unnamed: 0               int64\n",
      "Unnamed: 0.1             int64\n",
      "biz_dt                   object\n",
      "m_id                     object\n",
      "order_price              object\n",
      "prod_no                  object\n",
      "old_admin_category_id    object\n",
      "serv_cd                  int64\n",
      "dtypes: int64(3), object(5)\n",
      "memory usage: 111.9+ MB\n"
     ]
    }
   ],
   "source": [
    "pencil.info()"
   ]
  },
  {
   "cell_type": "code",
   "execution_count": 13,
   "metadata": {},
   "outputs": [],
   "source": [
    "# 날짜 형 변환\n",
    "pencil.biz_dt = pd.to_datetime(pencil.biz_dt)"
   ]
  },
  {
   "cell_type": "code",
   "execution_count": 14,
   "metadata": {},
   "outputs": [
    {
     "name": "stdout",
     "output_type": "stream",
     "text": [
      "<class 'pandas.core.frame.DataFrame'>\n",
      "RangeIndex: 37954 entries, 0 to 37953\n",
      "Data columns (total 8 columns):\n",
      "Unnamed: 0               37954 non-null int64\n",
      "Unnamed: 0.1             37954 non-null int64\n",
      "biz_dt                   37954 non-null datetime64[ns]\n",
      "m_id                     37954 non-null object\n",
      "order_price              37954 non-null object\n",
      "prod_no                  37954 non-null object\n",
      "old_admin_category_id    37954 non-null object\n",
      "serv_cd                  37954 non-null int64\n",
      "dtypes: datetime64[ns](1), int64(3), object(4)\n",
      "memory usage: 2.3+ MB\n"
     ]
    }
   ],
   "source": [
    "pencil.info()"
   ]
  },
  {
   "cell_type": "markdown",
   "metadata": {},
   "source": [
    "----"
   ]
  },
  {
   "cell_type": "markdown",
   "metadata": {},
   "source": [
    "## # Step1. 전체주기 - 1월~9월로 데이터 생성"
   ]
  },
  {
   "cell_type": "code",
   "execution_count": 15,
   "metadata": {},
   "outputs": [
    {
     "data": {
      "text/plain": [
       "(0   2018-01-01 00:00:36\n",
       " Name: biz_dt, dtype: datetime64[ns], 37953   2018-09-28 16:42:51\n",
       " Name: biz_dt, dtype: datetime64[ns])"
      ]
     },
     "execution_count": 15,
     "metadata": {},
     "output_type": "execute_result"
    }
   ],
   "source": [
    "pencil[0:1].biz_dt , pencil[-1:].biz_dt"
   ]
  },
  {
   "cell_type": "markdown",
   "metadata": {},
   "source": [
    "---"
   ]
  },
  {
   "cell_type": "markdown",
   "metadata": {},
   "source": [
    "- #### (1) 전체 유저의 구매주기 파악"
   ]
  },
  {
   "cell_type": "code",
   "execution_count": 16,
   "metadata": {},
   "outputs": [],
   "source": [
    "groups = pencil.groupby('m_id')"
   ]
  },
  {
   "cell_type": "code",
   "execution_count": 17,
   "metadata": {},
   "outputs": [],
   "source": [
    "def day_diff(data):\n",
    "    c = data.dt.date.diff()\n",
    "    #c = c.values #이거?\n",
    "    return pd.Series(c.values)"
   ]
  },
  {
   "cell_type": "code",
   "execution_count": 18,
   "metadata": {
    "scrolled": true
   },
   "outputs": [
    {
     "data": {
      "text/plain": [
       "m_id        \n",
       "1,000,007  0                  NaN\n",
       "1,000,599  0                  NaT\n",
       "           1     51 days 00:00:00\n",
       "           2      0 days 00:00:00\n",
       "           3     25 days 00:00:00\n",
       "           4      0 days 00:00:00\n",
       "           5     63 days 00:00:00\n",
       "1,000,979  0                  NaN\n",
       "1,001,080  0                  NaN\n",
       "1,002,283  0                  NaN\n",
       "1,002,301  0                  NaT\n",
       "           1      0 days 00:00:00\n",
       "1,002,666  0                  NaN\n",
       "1,002,913  0                  NaN\n",
       "1,002,968  0                  NaN\n",
       "1,003,610  0                  NaN\n",
       "1,004,480  0                  NaN\n",
       "1,004,693  0                  NaN\n",
       "1,004,907  0                  NaT\n",
       "           1      0 days 00:00:00\n",
       "           2    105 days 00:00:00\n",
       "           3      4 days 00:00:00\n",
       "1,005,008  0                  NaN\n",
       "1,005,562  0                  NaN\n",
       "1,005,994  0                  NaN\n",
       "1,006,251  0                  NaN\n",
       "1,006,536  0                  NaN\n",
       "1,006,710  0                  NaN\n",
       "1,006,971  0                  NaN\n",
       "1,007,237  0                  NaT\n",
       "                      ...        \n",
       "9,976,642  0                  NaN\n",
       "9,977,169  0                  NaN\n",
       "9,977,307  0                  NaN\n",
       "9,977,327  0                  NaN\n",
       "9,977,525  0                  NaN\n",
       "9,978,547  0                  NaN\n",
       "9,980,632  0                  NaN\n",
       "9,982,186  0                  NaT\n",
       "           1      0 days 00:00:00\n",
       "           2      7 days 00:00:00\n",
       "9,983,291  0                  NaN\n",
       "9,984,318  0                  NaN\n",
       "9,987,422  0                  NaN\n",
       "9,987,567  0                  NaN\n",
       "9,987,838  0                  NaN\n",
       "9,988,472  0                  NaN\n",
       "9,989,203  0                  NaN\n",
       "9,989,455  0                  NaN\n",
       "9,989,530  0                  NaN\n",
       "9,990,434  0                  NaN\n",
       "9,991,137  0                  NaN\n",
       "9,991,562  0                  NaN\n",
       "9,992,154  0                  NaN\n",
       "9,992,833  0                  NaT\n",
       "           1     84 days 00:00:00\n",
       "9,993,605  0                  NaN\n",
       "9,995,460  0                  NaN\n",
       "9,996,405  0                  NaN\n",
       "9,997,454  0                  NaN\n",
       "9,999,633  0                  NaN\n",
       "Name: biz_dt, Length: 37954, dtype: object"
      ]
     },
     "execution_count": 18,
     "metadata": {},
     "output_type": "execute_result"
    }
   ],
   "source": [
    "groups['biz_dt'].apply(day_diff)"
   ]
  },
  {
   "cell_type": "code",
   "execution_count": 19,
   "metadata": {},
   "outputs": [],
   "source": [
    "pencil_diff = groups['biz_dt'].apply(day_diff)  # 저장"
   ]
  },
  {
   "cell_type": "code",
   "execution_count": 20,
   "metadata": {},
   "outputs": [],
   "source": [
    "pencil_diff = pd.DataFrame(pencil_diff)"
   ]
  },
  {
   "cell_type": "code",
   "execution_count": 21,
   "metadata": {},
   "outputs": [],
   "source": [
    "pencil_diff.biz_dt = pd.to_timedelta(pencil_diff.biz_dt)  # timedelta 로 저장"
   ]
  },
  {
   "cell_type": "code",
   "execution_count": 23,
   "metadata": {
    "scrolled": true
   },
   "outputs": [
    {
     "data": {
      "text/html": [
       "<div>\n",
       "<style scoped>\n",
       "    .dataframe tbody tr th:only-of-type {\n",
       "        vertical-align: middle;\n",
       "    }\n",
       "\n",
       "    .dataframe tbody tr th {\n",
       "        vertical-align: top;\n",
       "    }\n",
       "\n",
       "    .dataframe thead th {\n",
       "        text-align: right;\n",
       "    }\n",
       "</style>\n",
       "<table border=\"1\" class=\"dataframe\">\n",
       "  <thead>\n",
       "    <tr style=\"text-align: right;\">\n",
       "      <th></th>\n",
       "      <th></th>\n",
       "      <th>biz_dt</th>\n",
       "    </tr>\n",
       "    <tr>\n",
       "      <th>m_id</th>\n",
       "      <th></th>\n",
       "      <th></th>\n",
       "    </tr>\n",
       "  </thead>\n",
       "  <tbody>\n",
       "    <tr>\n",
       "      <th>1,000,007</th>\n",
       "      <th>0</th>\n",
       "      <td>NaT</td>\n",
       "    </tr>\n",
       "    <tr>\n",
       "      <th rowspan=\"4\" valign=\"top\">1,000,599</th>\n",
       "      <th>0</th>\n",
       "      <td>NaT</td>\n",
       "    </tr>\n",
       "    <tr>\n",
       "      <th>1</th>\n",
       "      <td>51 days</td>\n",
       "    </tr>\n",
       "    <tr>\n",
       "      <th>2</th>\n",
       "      <td>0 days</td>\n",
       "    </tr>\n",
       "    <tr>\n",
       "      <th>3</th>\n",
       "      <td>25 days</td>\n",
       "    </tr>\n",
       "  </tbody>\n",
       "</table>\n",
       "</div>"
      ],
      "text/plain": [
       "             biz_dt\n",
       "m_id               \n",
       "1,000,007 0     NaT\n",
       "1,000,599 0     NaT\n",
       "          1 51 days\n",
       "          2  0 days\n",
       "          3 25 days"
      ]
     },
     "execution_count": 23,
     "metadata": {},
     "output_type": "execute_result"
    }
   ],
   "source": [
    "pencil_diff.head()"
   ]
  },
  {
   "cell_type": "code",
   "execution_count": 24,
   "metadata": {},
   "outputs": [],
   "source": [
    "#dropna\n",
    "pencil_diff = pencil_diff.dropna()"
   ]
  },
  {
   "cell_type": "code",
   "execution_count": 25,
   "metadata": {},
   "outputs": [],
   "source": [
    "# 동일일자 구매는 제거하고, 평균 구하기\n",
    "\n",
    "filter = pd.Timedelta('0')"
   ]
  },
  {
   "cell_type": "code",
   "execution_count": 26,
   "metadata": {},
   "outputs": [
    {
     "data": {
      "text/plain": [
       "biz_dt   53 days 23:34:24\n",
       "dtype: timedelta64[ns]"
      ]
     },
     "execution_count": 26,
     "metadata": {},
     "output_type": "execute_result"
    }
   ],
   "source": [
    "pencil_diff[pencil_diff.biz_dt > filter].mean()  # 40일 정도네!"
   ]
  },
  {
   "cell_type": "code",
   "execution_count": 27,
   "metadata": {},
   "outputs": [
    {
     "data": {
      "text/plain": [
       "(5306, 1)"
      ]
     },
     "execution_count": 27,
     "metadata": {},
     "output_type": "execute_result"
    }
   ],
   "source": [
    "pencil_diff.shape"
   ]
  },
  {
   "cell_type": "markdown",
   "metadata": {},
   "source": [
    "### # groupby된, series데이터를 어떻게 하나의 열을 갖는 dataframe으로 관리할 수 있을까?"
   ]
  },
  {
   "cell_type": "code",
   "execution_count": 28,
   "metadata": {},
   "outputs": [
    {
     "data": {
      "text/plain": [
       "pandas.core.series.Series"
      ]
     },
     "execution_count": 28,
     "metadata": {},
     "output_type": "execute_result"
    }
   ],
   "source": [
    "type(pencil_diff.biz_dt)  # series 데이터야"
   ]
  },
  {
   "cell_type": "markdown",
   "metadata": {},
   "source": [
    "---"
   ]
  },
  {
   "cell_type": "code",
   "execution_count": 29,
   "metadata": {},
   "outputs": [],
   "source": [
    "# 이게 해결책이 될 수 있다 : values를 빼왔는데, 이들의 type를 timedelta로 밝혀준거지! 그리고 저장하고!\n",
    "\n",
    "pencil_diff_days = pencil_diff.values.astype('timedelta64[D]')"
   ]
  },
  {
   "cell_type": "code",
   "execution_count": 30,
   "metadata": {},
   "outputs": [],
   "source": [
    "pencil_diff_days = pencil_diff_days/ np.timedelta64(1, 'D')"
   ]
  },
  {
   "cell_type": "code",
   "execution_count": 31,
   "metadata": {},
   "outputs": [
    {
     "data": {
      "text/html": [
       "<div>\n",
       "<style scoped>\n",
       "    .dataframe tbody tr th:only-of-type {\n",
       "        vertical-align: middle;\n",
       "    }\n",
       "\n",
       "    .dataframe tbody tr th {\n",
       "        vertical-align: top;\n",
       "    }\n",
       "\n",
       "    .dataframe thead th {\n",
       "        text-align: right;\n",
       "    }\n",
       "</style>\n",
       "<table border=\"1\" class=\"dataframe\">\n",
       "  <thead>\n",
       "    <tr style=\"text-align: right;\">\n",
       "      <th></th>\n",
       "      <th>time</th>\n",
       "    </tr>\n",
       "  </thead>\n",
       "  <tbody>\n",
       "    <tr>\n",
       "      <th>0</th>\n",
       "      <td>51.0</td>\n",
       "    </tr>\n",
       "    <tr>\n",
       "      <th>1</th>\n",
       "      <td>0.0</td>\n",
       "    </tr>\n",
       "    <tr>\n",
       "      <th>2</th>\n",
       "      <td>25.0</td>\n",
       "    </tr>\n",
       "    <tr>\n",
       "      <th>3</th>\n",
       "      <td>0.0</td>\n",
       "    </tr>\n",
       "    <tr>\n",
       "      <th>4</th>\n",
       "      <td>63.0</td>\n",
       "    </tr>\n",
       "  </tbody>\n",
       "</table>\n",
       "</div>"
      ],
      "text/plain": [
       "   time\n",
       "0  51.0\n",
       "1   0.0\n",
       "2  25.0\n",
       "3   0.0\n",
       "4  63.0"
      ]
     },
     "execution_count": 31,
     "metadata": {},
     "output_type": "execute_result"
    }
   ],
   "source": [
    "pencil_diff_days_ = pd.DataFrame(pencil_diff_days, columns = ['time']);pencil_diff_days_.head()"
   ]
  },
  {
   "cell_type": "markdown",
   "metadata": {},
   "source": [
    "---"
   ]
  },
  {
   "cell_type": "code",
   "execution_count": 60,
   "metadata": {},
   "outputs": [
    {
     "data": {
      "text/plain": [
       "0.0      2606\n",
       "1.0       253\n",
       "2.0       143\n",
       "3.0       111\n",
       "5.0        69\n",
       "4.0        67\n",
       "7.0        66\n",
       "6.0        45\n",
       "11.0       44\n",
       "9.0        44\n",
       "8.0        44\n",
       "13.0       40\n",
       "12.0       34\n",
       "16.0       30\n",
       "14.0       29\n",
       "23.0       29\n",
       "10.0       27\n",
       "15.0       27\n",
       "28.0       27\n",
       "29.0       24\n",
       "26.0       23\n",
       "22.0       23\n",
       "25.0       23\n",
       "27.0       22\n",
       "21.0       22\n",
       "24.0       21\n",
       "17.0       20\n",
       "20.0       20\n",
       "65.0       20\n",
       "19.0       20\n",
       "         ... \n",
       "215.0       2\n",
       "193.0       2\n",
       "196.0       2\n",
       "218.0       2\n",
       "171.0       2\n",
       "216.0       2\n",
       "234.0       1\n",
       "230.0       1\n",
       "242.0       1\n",
       "244.0       1\n",
       "212.0       1\n",
       "209.0       1\n",
       "217.0       1\n",
       "231.0       1\n",
       "237.0       1\n",
       "202.0       1\n",
       "250.0       1\n",
       "219.0       1\n",
       "228.0       1\n",
       "172.0       1\n",
       "204.0       1\n",
       "257.0       1\n",
       "260.0       1\n",
       "241.0       1\n",
       "208.0       1\n",
       "240.0       1\n",
       "236.0       1\n",
       "192.0       1\n",
       "176.0       1\n",
       "255.0       1\n",
       "Name: time, Length: 237, dtype: int64"
      ]
     },
     "execution_count": 60,
     "metadata": {},
     "output_type": "execute_result"
    }
   ],
   "source": [
    "pencil_diff_days_.time.value_counts()"
   ]
  },
  {
   "cell_type": "code",
   "execution_count": 63,
   "metadata": {},
   "outputs": [
    {
     "data": {
      "text/plain": [
       "(5306, 1)"
      ]
     },
     "execution_count": 63,
     "metadata": {},
     "output_type": "execute_result"
    }
   ],
   "source": [
    "pencil_diff_days_.shape"
   ]
  },
  {
   "cell_type": "code",
   "execution_count": 62,
   "metadata": {
    "scrolled": true
   },
   "outputs": [
    {
     "data": {
      "text/html": [
       "<div>\n",
       "<style scoped>\n",
       "    .dataframe tbody tr th:only-of-type {\n",
       "        vertical-align: middle;\n",
       "    }\n",
       "\n",
       "    .dataframe tbody tr th {\n",
       "        vertical-align: top;\n",
       "    }\n",
       "\n",
       "    .dataframe thead th {\n",
       "        text-align: right;\n",
       "    }\n",
       "</style>\n",
       "<table border=\"1\" class=\"dataframe\">\n",
       "  <thead>\n",
       "    <tr style=\"text-align: right;\">\n",
       "      <th></th>\n",
       "      <th>time</th>\n",
       "    </tr>\n",
       "  </thead>\n",
       "  <tbody>\n",
       "    <tr>\n",
       "      <th>0</th>\n",
       "      <td>51.0</td>\n",
       "    </tr>\n",
       "    <tr>\n",
       "      <th>2</th>\n",
       "      <td>25.0</td>\n",
       "    </tr>\n",
       "    <tr>\n",
       "      <th>4</th>\n",
       "      <td>63.0</td>\n",
       "    </tr>\n",
       "    <tr>\n",
       "      <th>7</th>\n",
       "      <td>105.0</td>\n",
       "    </tr>\n",
       "    <tr>\n",
       "      <th>8</th>\n",
       "      <td>4.0</td>\n",
       "    </tr>\n",
       "    <tr>\n",
       "      <th>10</th>\n",
       "      <td>1.0</td>\n",
       "    </tr>\n",
       "    <tr>\n",
       "      <th>11</th>\n",
       "      <td>5.0</td>\n",
       "    </tr>\n",
       "    <tr>\n",
       "      <th>15</th>\n",
       "      <td>29.0</td>\n",
       "    </tr>\n",
       "    <tr>\n",
       "      <th>17</th>\n",
       "      <td>108.0</td>\n",
       "    </tr>\n",
       "    <tr>\n",
       "      <th>21</th>\n",
       "      <td>9.0</td>\n",
       "    </tr>\n",
       "    <tr>\n",
       "      <th>23</th>\n",
       "      <td>1.0</td>\n",
       "    </tr>\n",
       "    <tr>\n",
       "      <th>27</th>\n",
       "      <td>1.0</td>\n",
       "    </tr>\n",
       "    <tr>\n",
       "      <th>29</th>\n",
       "      <td>4.0</td>\n",
       "    </tr>\n",
       "    <tr>\n",
       "      <th>30</th>\n",
       "      <td>145.0</td>\n",
       "    </tr>\n",
       "    <tr>\n",
       "      <th>31</th>\n",
       "      <td>3.0</td>\n",
       "    </tr>\n",
       "    <tr>\n",
       "      <th>33</th>\n",
       "      <td>183.0</td>\n",
       "    </tr>\n",
       "    <tr>\n",
       "      <th>34</th>\n",
       "      <td>118.0</td>\n",
       "    </tr>\n",
       "    <tr>\n",
       "      <th>35</th>\n",
       "      <td>203.0</td>\n",
       "    </tr>\n",
       "    <tr>\n",
       "      <th>36</th>\n",
       "      <td>2.0</td>\n",
       "    </tr>\n",
       "    <tr>\n",
       "      <th>40</th>\n",
       "      <td>21.0</td>\n",
       "    </tr>\n",
       "    <tr>\n",
       "      <th>41</th>\n",
       "      <td>70.0</td>\n",
       "    </tr>\n",
       "    <tr>\n",
       "      <th>43</th>\n",
       "      <td>41.0</td>\n",
       "    </tr>\n",
       "    <tr>\n",
       "      <th>46</th>\n",
       "      <td>6.0</td>\n",
       "    </tr>\n",
       "    <tr>\n",
       "      <th>47</th>\n",
       "      <td>1.0</td>\n",
       "    </tr>\n",
       "    <tr>\n",
       "      <th>48</th>\n",
       "      <td>11.0</td>\n",
       "    </tr>\n",
       "    <tr>\n",
       "      <th>50</th>\n",
       "      <td>40.0</td>\n",
       "    </tr>\n",
       "    <tr>\n",
       "      <th>51</th>\n",
       "      <td>35.0</td>\n",
       "    </tr>\n",
       "    <tr>\n",
       "      <th>54</th>\n",
       "      <td>74.0</td>\n",
       "    </tr>\n",
       "    <tr>\n",
       "      <th>56</th>\n",
       "      <td>46.0</td>\n",
       "    </tr>\n",
       "    <tr>\n",
       "      <th>58</th>\n",
       "      <td>124.0</td>\n",
       "    </tr>\n",
       "    <tr>\n",
       "      <th>...</th>\n",
       "      <td>...</td>\n",
       "    </tr>\n",
       "    <tr>\n",
       "      <th>5244</th>\n",
       "      <td>11.0</td>\n",
       "    </tr>\n",
       "    <tr>\n",
       "      <th>5248</th>\n",
       "      <td>6.0</td>\n",
       "    </tr>\n",
       "    <tr>\n",
       "      <th>5249</th>\n",
       "      <td>16.0</td>\n",
       "    </tr>\n",
       "    <tr>\n",
       "      <th>5250</th>\n",
       "      <td>28.0</td>\n",
       "    </tr>\n",
       "    <tr>\n",
       "      <th>5251</th>\n",
       "      <td>164.0</td>\n",
       "    </tr>\n",
       "    <tr>\n",
       "      <th>5252</th>\n",
       "      <td>5.0</td>\n",
       "    </tr>\n",
       "    <tr>\n",
       "      <th>5253</th>\n",
       "      <td>109.0</td>\n",
       "    </tr>\n",
       "    <tr>\n",
       "      <th>5256</th>\n",
       "      <td>108.0</td>\n",
       "    </tr>\n",
       "    <tr>\n",
       "      <th>5257</th>\n",
       "      <td>92.0</td>\n",
       "    </tr>\n",
       "    <tr>\n",
       "      <th>5258</th>\n",
       "      <td>35.0</td>\n",
       "    </tr>\n",
       "    <tr>\n",
       "      <th>5259</th>\n",
       "      <td>214.0</td>\n",
       "    </tr>\n",
       "    <tr>\n",
       "      <th>5262</th>\n",
       "      <td>177.0</td>\n",
       "    </tr>\n",
       "    <tr>\n",
       "      <th>5263</th>\n",
       "      <td>2.0</td>\n",
       "    </tr>\n",
       "    <tr>\n",
       "      <th>5270</th>\n",
       "      <td>6.0</td>\n",
       "    </tr>\n",
       "    <tr>\n",
       "      <th>5273</th>\n",
       "      <td>12.0</td>\n",
       "    </tr>\n",
       "    <tr>\n",
       "      <th>5275</th>\n",
       "      <td>17.0</td>\n",
       "    </tr>\n",
       "    <tr>\n",
       "      <th>5276</th>\n",
       "      <td>140.0</td>\n",
       "    </tr>\n",
       "    <tr>\n",
       "      <th>5278</th>\n",
       "      <td>49.0</td>\n",
       "    </tr>\n",
       "    <tr>\n",
       "      <th>5280</th>\n",
       "      <td>140.0</td>\n",
       "    </tr>\n",
       "    <tr>\n",
       "      <th>5281</th>\n",
       "      <td>162.0</td>\n",
       "    </tr>\n",
       "    <tr>\n",
       "      <th>5282</th>\n",
       "      <td>72.0</td>\n",
       "    </tr>\n",
       "    <tr>\n",
       "      <th>5288</th>\n",
       "      <td>14.0</td>\n",
       "    </tr>\n",
       "    <tr>\n",
       "      <th>5289</th>\n",
       "      <td>197.0</td>\n",
       "    </tr>\n",
       "    <tr>\n",
       "      <th>5292</th>\n",
       "      <td>51.0</td>\n",
       "    </tr>\n",
       "    <tr>\n",
       "      <th>5295</th>\n",
       "      <td>93.0</td>\n",
       "    </tr>\n",
       "    <tr>\n",
       "      <th>5297</th>\n",
       "      <td>1.0</td>\n",
       "    </tr>\n",
       "    <tr>\n",
       "      <th>5298</th>\n",
       "      <td>175.0</td>\n",
       "    </tr>\n",
       "    <tr>\n",
       "      <th>5301</th>\n",
       "      <td>33.0</td>\n",
       "    </tr>\n",
       "    <tr>\n",
       "      <th>5304</th>\n",
       "      <td>7.0</td>\n",
       "    </tr>\n",
       "    <tr>\n",
       "      <th>5305</th>\n",
       "      <td>84.0</td>\n",
       "    </tr>\n",
       "  </tbody>\n",
       "</table>\n",
       "<p>2700 rows × 1 columns</p>\n",
       "</div>"
      ],
      "text/plain": [
       "       time\n",
       "0      51.0\n",
       "2      25.0\n",
       "4      63.0\n",
       "7     105.0\n",
       "8       4.0\n",
       "10      1.0\n",
       "11      5.0\n",
       "15     29.0\n",
       "17    108.0\n",
       "21      9.0\n",
       "23      1.0\n",
       "27      1.0\n",
       "29      4.0\n",
       "30    145.0\n",
       "31      3.0\n",
       "33    183.0\n",
       "34    118.0\n",
       "35    203.0\n",
       "36      2.0\n",
       "40     21.0\n",
       "41     70.0\n",
       "43     41.0\n",
       "46      6.0\n",
       "47      1.0\n",
       "48     11.0\n",
       "50     40.0\n",
       "51     35.0\n",
       "54     74.0\n",
       "56     46.0\n",
       "58    124.0\n",
       "...     ...\n",
       "5244   11.0\n",
       "5248    6.0\n",
       "5249   16.0\n",
       "5250   28.0\n",
       "5251  164.0\n",
       "5252    5.0\n",
       "5253  109.0\n",
       "5256  108.0\n",
       "5257   92.0\n",
       "5258   35.0\n",
       "5259  214.0\n",
       "5262  177.0\n",
       "5263    2.0\n",
       "5270    6.0\n",
       "5273   12.0\n",
       "5275   17.0\n",
       "5276  140.0\n",
       "5278   49.0\n",
       "5280  140.0\n",
       "5281  162.0\n",
       "5282   72.0\n",
       "5288   14.0\n",
       "5289  197.0\n",
       "5292   51.0\n",
       "5295   93.0\n",
       "5297    1.0\n",
       "5298  175.0\n",
       "5301   33.0\n",
       "5304    7.0\n",
       "5305   84.0\n",
       "\n",
       "[2700 rows x 1 columns]"
      ]
     },
     "execution_count": 62,
     "metadata": {},
     "output_type": "execute_result"
    }
   ],
   "source": [
    "pencil_diff_days_[pencil_diff_days_.time != 0]"
   ]
  },
  {
   "cell_type": "code",
   "execution_count": 65,
   "metadata": {},
   "outputs": [
    {
     "data": {
      "text/plain": [
       "array([[<matplotlib.axes._subplots.AxesSubplot object at 0x11259f2e8>]],\n",
       "      dtype=object)"
      ]
     },
     "execution_count": 65,
     "metadata": {},
     "output_type": "execute_result"
    },
    {
     "data": {
      "image/png": "[encoded data removed]",
      "text/plain": [
       "<Figure size 432x288 with 1 Axes>"
      ]
     },
     "metadata": {
      "needs_background": "light"
     },
     "output_type": "display_data"
    }
   ],
   "source": [
    "# 0을 지운것\n",
    "\n",
    "pencil_diff_days_[pencil_diff_days_.time != 0].hist(bins=50)"
   ]
  },
  {
   "cell_type": "code",
   "execution_count": 68,
   "metadata": {},
   "outputs": [
    {
     "data": {
      "text/plain": [
       "253"
      ]
     },
     "execution_count": 68,
     "metadata": {},
     "output_type": "execute_result"
    }
   ],
   "source": [
    "np.array([pencil_diff_days_.time == 1]).sum()"
   ]
  },
  {
   "cell_type": "code",
   "execution_count": 32,
   "metadata": {},
   "outputs": [
    {
     "data": {
      "text/plain": [
       "array([[<matplotlib.axes._subplots.AxesSubplot object at 0x113edd860>]],\n",
       "      dtype=object)"
      ]
     },
     "execution_count": 32,
     "metadata": {},
     "output_type": "execute_result"
    },
    {
     "data": {
      "image/png": "[encoded data removed]",
      "text/plain": [
       "<Figure size 432x288 with 1 Axes>"
      ]
     },
     "metadata": {
      "needs_background": "light"
     },
     "output_type": "display_data"
    }
   ],
   "source": [
    "pencil_diff_days_.hist(bins=50)"
   ]
  },
  {
   "cell_type": "code",
   "execution_count": 33,
   "metadata": {},
   "outputs": [],
   "source": [
    "pencil_diff_days_inver = 1/pencil_diff_days_[pencil_diff_days_!=0]  # 이렇게하면, pencil_diff_days_!=0 가 dataframe으로 나와\n",
    "                                                # 이유는, pencil_diff_days.time != 0 이런식으로 안해서.(series vs dataframe)\n",
    "    "
   ]
  },
  {
   "cell_type": "code",
   "execution_count": 34,
   "metadata": {},
   "outputs": [],
   "source": [
    "pencil_diff_days_iver = pencil_diff_days_inver.dropna()"
   ]
  },
  {
   "cell_type": "code",
   "execution_count": 35,
   "metadata": {},
   "outputs": [],
   "source": [
    "pencil_diff_days_inver7 = pencil_diff_days_iver*7"
   ]
  },
  {
   "cell_type": "code",
   "execution_count": 36,
   "metadata": {
    "scrolled": true
   },
   "outputs": [
    {
     "data": {
      "text/plain": [
       "array([[<matplotlib.axes._subplots.AxesSubplot object at 0x1140781d0>]],\n",
       "      dtype=object)"
      ]
     },
     "execution_count": 36,
     "metadata": {},
     "output_type": "execute_result"
    },
    {
     "data": {
      "image/png": "[encoded data removed]",
      "text/plain": [
       "<Figure size 432x288 with 1 Axes>"
      ]
     },
     "metadata": {
      "needs_background": "light"
     },
     "output_type": "display_data"
    }
   ],
   "source": [
    "pencil_diff_days_inver7.hist(bins=70)"
   ]
  },
  {
   "cell_type": "code",
   "execution_count": 38,
   "metadata": {},
   "outputs": [],
   "source": [
    "import scipy.stats as stats"
   ]
  },
  {
   "cell_type": "code",
   "execution_count": 39,
   "metadata": {},
   "outputs": [
    {
     "data": {
      "text/plain": [
       "(0.4860513324726984, 0.4000396181898575)"
      ]
     },
     "execution_count": 39,
     "metadata": {},
     "output_type": "execute_result"
    }
   ],
   "source": [
    "#차장님이 주신 3개월치의 데이터에서는 alpha : 0.991580757, beta : 1.804783562\n",
    "\n",
    "alpha_, _,scale_ = stats.gamma.fit(pencil_diff_days_inver7, floc=0);alpha_, 1/scale_ "
   ]
  },
  {
   "cell_type": "markdown",
   "metadata": {},
   "source": [
    "---"
   ]
  },
  {
   "cell_type": "markdown",
   "metadata": {},
   "source": [
    "---"
   ]
  },
  {
   "cell_type": "markdown",
   "metadata": {},
   "source": [
    "- (번외): 어느정도 기간의 거래데이터인가?"
   ]
  },
  {
   "cell_type": "code",
   "execution_count": 129,
   "metadata": {
    "scrolled": true
   },
   "outputs": [
    {
     "data": {
      "text/plain": [
       "1833272   2018-09-28 17:00:07\n",
       "Name: biz_dt, dtype: datetime64[ns]"
      ]
     },
     "execution_count": 129,
     "metadata": {},
     "output_type": "execute_result"
    }
   ],
   "source": [
    "pencil[-1:].biz_dt"
   ]
  },
  {
   "cell_type": "markdown",
   "metadata": {},
   "source": [
    "----"
   ]
  },
  {
   "cell_type": "code",
   "execution_count": 130,
   "metadata": {},
   "outputs": [
    {
     "data": {
      "text/plain": [
       "0   2018-01-01 00:00:18\n",
       "Name: biz_dt, dtype: datetime64[ns]"
      ]
     },
     "execution_count": 130,
     "metadata": {},
     "output_type": "execute_result"
    }
   ],
   "source": [
    "pencil[:1].biz_dt"
   ]
  },
  {
   "cell_type": "code",
   "execution_count": 139,
   "metadata": {
    "scrolled": false
   },
   "outputs": [],
   "source": [
    "x = pd.DataFrame({'to':[pd.Timestamp('2018-09-28 17:00:07')], 'fr':[pd.Timestamp('2018-01-01 00:00:18')]})"
   ]
  },
  {
   "cell_type": "code",
   "execution_count": 140,
   "metadata": {},
   "outputs": [
    {
     "data": {
      "text/html": [
       "<div>\n",
       "<style scoped>\n",
       "    .dataframe tbody tr th:only-of-type {\n",
       "        vertical-align: middle;\n",
       "    }\n",
       "\n",
       "    .dataframe tbody tr th {\n",
       "        vertical-align: top;\n",
       "    }\n",
       "\n",
       "    .dataframe thead th {\n",
       "        text-align: right;\n",
       "    }\n",
       "</style>\n",
       "<table border=\"1\" class=\"dataframe\">\n",
       "  <thead>\n",
       "    <tr style=\"text-align: right;\">\n",
       "      <th></th>\n",
       "      <th>to</th>\n",
       "      <th>fr</th>\n",
       "    </tr>\n",
       "  </thead>\n",
       "  <tbody>\n",
       "    <tr>\n",
       "      <th>0</th>\n",
       "      <td>2018-09-28 17:00:07</td>\n",
       "      <td>2018-01-01 00:00:18</td>\n",
       "    </tr>\n",
       "  </tbody>\n",
       "</table>\n",
       "</div>"
      ],
      "text/plain": [
       "                   to                  fr\n",
       "0 2018-09-28 17:00:07 2018-01-01 00:00:18"
      ]
     },
     "execution_count": 140,
     "metadata": {},
     "output_type": "execute_result"
    }
   ],
   "source": [
    "x"
   ]
  },
  {
   "cell_type": "code",
   "execution_count": 137,
   "metadata": {},
   "outputs": [
    {
     "data": {
      "text/plain": [
       "0   2018-09-28 17:00:07\n",
       "Name: to, dtype: datetime64[ns]"
      ]
     },
     "execution_count": 137,
     "metadata": {},
     "output_type": "execute_result"
    }
   ],
   "source": [
    "x.to"
   ]
  },
  {
   "cell_type": "code",
   "execution_count": 141,
   "metadata": {},
   "outputs": [
    {
     "data": {
      "text/plain": [
       "0   2018-01-01 00:00:18\n",
       "Name: fr, dtype: datetime64[ns]"
      ]
     },
     "execution_count": 141,
     "metadata": {},
     "output_type": "execute_result"
    }
   ],
   "source": [
    "x.fr"
   ]
  },
  {
   "cell_type": "code",
   "execution_count": 142,
   "metadata": {
    "scrolled": true
   },
   "outputs": [
    {
     "data": {
      "text/plain": [
       "0   270 days 16:59:49\n",
       "dtype: timedelta64[ns]"
      ]
     },
     "execution_count": 142,
     "metadata": {},
     "output_type": "execute_result"
    }
   ],
   "source": [
    "x.to-x.fr"
   ]
  },
  {
   "cell_type": "code",
   "execution_count": 146,
   "metadata": {},
   "outputs": [
    {
     "data": {
      "text/plain": [
       "0    38.571429\n",
       "dtype: float64"
      ]
     },
     "execution_count": 146,
     "metadata": {},
     "output_type": "execute_result"
    }
   ],
   "source": [
    "(x.to-x.fr).astype('timedelta64[D]') / 7  # 약 38주!"
   ]
  },
  {
   "cell_type": "markdown",
   "metadata": {},
   "source": [
    "---"
   ]
  },
  {
   "cell_type": "markdown",
   "metadata": {},
   "source": [
    "- #### (2) ver2의 '구매횟수' 관점"
   ]
  },
  {
   "cell_type": "code",
   "execution_count": 40,
   "metadata": {},
   "outputs": [
    {
     "data": {
      "text/plain": [
       "'\\ndef day(data):\\n    c = data.dt.date.nunique()\\n    return c\\n'"
      ]
     },
     "execution_count": 40,
     "metadata": {},
     "output_type": "execute_result"
    }
   ],
   "source": [
    "# 같은 일자는 '거래일=1'로 본다.\n",
    "'''\n",
    "def day(data):\n",
    "    c = data.dt.date.nunique()\n",
    "    return c\n",
    "'''"
   ]
  },
  {
   "cell_type": "code",
   "execution_count": 41,
   "metadata": {},
   "outputs": [],
   "source": [
    "# 같은 일자의 거래도, '모든' 거래로 본다.\n",
    "def day(data):\n",
    "    c = data.nunique()\n",
    "    return c\n"
   ]
  },
  {
   "cell_type": "code",
   "execution_count": 42,
   "metadata": {},
   "outputs": [],
   "source": [
    "pencil_buy = groups['biz_dt'].apply(day)"
   ]
  },
  {
   "cell_type": "code",
   "execution_count": 43,
   "metadata": {
    "scrolled": true
   },
   "outputs": [
    {
     "data": {
      "text/plain": [
       "m_id\n",
       "1,000,007    1\n",
       "1,000,599    5\n",
       "1,000,979    1\n",
       "1,001,080    1\n",
       "1,002,283    1\n",
       "1,002,301    2\n",
       "1,002,666    1\n",
       "1,002,913    1\n",
       "1,002,968    1\n",
       "1,003,610    1\n",
       "Name: biz_dt, dtype: int64"
      ]
     },
     "execution_count": 43,
     "metadata": {},
     "output_type": "execute_result"
    }
   ],
   "source": [
    "pencil_buy[:10]"
   ]
  },
  {
   "cell_type": "code",
   "execution_count": null,
   "metadata": {},
   "outputs": [],
   "source": []
  },
  {
   "cell_type": "code",
   "execution_count": 44,
   "metadata": {},
   "outputs": [],
   "source": [
    "pencil_buy = pd.DataFrame(pencil_buy)"
   ]
  },
  {
   "cell_type": "code",
   "execution_count": 45,
   "metadata": {},
   "outputs": [
    {
     "data": {
      "text/plain": [
       "pandas.core.frame.DataFrame"
      ]
     },
     "execution_count": 45,
     "metadata": {},
     "output_type": "execute_result"
    }
   ],
   "source": [
    "type(pencil_buy)"
   ]
  },
  {
   "cell_type": "code",
   "execution_count": 50,
   "metadata": {},
   "outputs": [
    {
     "data": {
      "text/plain": [
       "array([[<matplotlib.axes._subplots.AxesSubplot object at 0x111e37b70>]],\n",
       "      dtype=object)"
      ]
     },
     "execution_count": 50,
     "metadata": {},
     "output_type": "execute_result"
    },
    {
     "data": {
      "image/png": "[encoded data removed]",
      "text/plain": [
       "<Figure size 432x288 with 1 Axes>"
      ]
     },
     "metadata": {
      "needs_background": "light"
     },
     "output_type": "display_data"
    }
   ],
   "source": [
    "pencil_buy.hist(bins=30)"
   ]
  },
  {
   "cell_type": "code",
   "execution_count": 51,
   "metadata": {},
   "outputs": [],
   "source": [
    "pencil_buy_ = pencil_buy/38.0"
   ]
  },
  {
   "cell_type": "code",
   "execution_count": 53,
   "metadata": {},
   "outputs": [
    {
     "data": {
      "text/plain": [
       "array([[<matplotlib.axes._subplots.AxesSubplot object at 0x10fbd3550>]],\n",
       "      dtype=object)"
      ]
     },
     "execution_count": 53,
     "metadata": {},
     "output_type": "execute_result"
    },
    {
     "data": {
      "image/png": "[encoded data removed]",
      "text/plain": [
       "<Figure size 432x288 with 1 Axes>"
      ]
     },
     "metadata": {
      "needs_background": "light"
     },
     "output_type": "display_data"
    }
   ],
   "source": [
    "pencil_buy_.hist(bins=30)"
   ]
  },
  {
   "cell_type": "code",
   "execution_count": 54,
   "metadata": {},
   "outputs": [],
   "source": [
    "import scipy.stats as stats"
   ]
  },
  {
   "cell_type": "code",
   "execution_count": 55,
   "metadata": {},
   "outputs": [
    {
     "data": {
      "text/plain": [
       "(11.756028280188252, 394.0243368656024)"
      ]
     },
     "execution_count": 55,
     "metadata": {},
     "output_type": "execute_result"
    }
   ],
   "source": [
    "alpha, _,scale = stats.gamma.fit(pencil_buy_, floc=0);alpha,1/scale "
   ]
  },
  {
   "cell_type": "code",
   "execution_count": 56,
   "metadata": {},
   "outputs": [
    {
     "data": {
      "text/plain": [
       "0.02983579231096609"
      ]
     },
     "execution_count": 56,
     "metadata": {},
     "output_type": "execute_result"
    }
   ],
   "source": [
    "alpha*scale"
   ]
  },
  {
   "cell_type": "markdown",
   "metadata": {},
   "source": [
    "---"
   ]
  },
  {
   "cell_type": "markdown",
   "metadata": {},
   "source": [
    "## # Step2. Fittng"
   ]
  },
  {
   "cell_type": "markdown",
   "metadata": {},
   "source": [
    "실장님 '생수/탄산수' 주기 사용"
   ]
  },
  {
   "cell_type": "markdown",
   "metadata": {},
   "source": [
    "### # ver(2) 로 먼저"
   ]
  },
  {
   "cell_type": "code",
   "execution_count": 178,
   "metadata": {},
   "outputs": [
    {
     "data": {
      "text/plain": [
       "array([ 0,  5, 10])"
      ]
     },
     "execution_count": 178,
     "metadata": {},
     "output_type": "execute_result"
    }
   ],
   "source": [
    "time = np.arange(0,11,5);time"
   ]
  },
  {
   "cell_type": "markdown",
   "metadata": {},
   "source": [
    "* ####  (1)실장님 원래 주기 : 주기가 넘어갔을때"
   ]
  },
  {
   "cell_type": "code",
   "execution_count": 179,
   "metadata": {},
   "outputs": [],
   "source": [
    "# 실장님 원래 주기 : 주기가 넘어갔을때\n",
    "\n",
    "k, t_purch, tmean_u, t_ ,alpha, beta = 1, 0, 5.122566039 , 13.14285714, 1.6348410016313837, 23.228302136357172"
   ]
  },
  {
   "cell_type": "code",
   "execution_count": 164,
   "metadata": {},
   "outputs": [],
   "source": [
    "# 함수로 출력되는게 많게했어! & unit time을 1주일로 변경.\n",
    "\n",
    "def func_lamb(t_purch, tmean_u, t_ , alpha, beta, k):\n",
    "\n",
    "    if t_purch == 0:  # t_purch가 0이라는 소리는, k=1이라는 소리겠지! 그러니깐 앞의 값이 0이 되게끔 한거야.\n",
    "        lamb = (alpha/(2*abs(tmean_u-t_)+beta))\n",
    "        lamb_0 = (alpha/(2*abs(tmean_u)+beta))   # 최저값 : t=0\n",
    "        lamb_1 = (alpha/+beta)     # 최고값 : |tmean-t|=0\n",
    "    else:\n",
    "        lamb = (k/t_purch+(alpha/(2*abs(tmean_u-t_)+beta)))\n",
    "        lamb_0 = (k/t_purch+(alpha/(2*abs(tmean_u)+beta)))   # 최저값 : t=0  \n",
    "        lamb_1 = (k/t_purch+(alpha/+beta))     #최고값 : |tmean-t|=0\n",
    "    return lamb,lamb_0, lamb_1, t_, t_purch, tmean_u, k"
   ]
  },
  {
   "cell_type": "code",
   "execution_count": 165,
   "metadata": {},
   "outputs": [
    {
     "name": "stdout",
     "output_type": "stream",
     "text": [
      "0.04163196966699914 0.048839954429598986 0.07038142486843729\n"
     ]
    }
   ],
   "source": [
    "lamb, lamb_0, lamb_1, t_, t_purch, tmean_u, k = func_lamb(t_purch, tmean_u, t_ , alpha, beta, k)\n",
    "\n",
    "print(lamb, lamb_0, lamb_1)"
   ]
  },
  {
   "cell_type": "code",
   "execution_count": 166,
   "metadata": {
    "scrolled": false
   },
   "outputs": [
    {
     "name": "stdout",
     "output_type": "stream",
     "text": [
      "pred : 0.04077726131720538 , max : 0.06796175046813868 , min : 0.04077726131720538\n",
      "scaling : 0.0\n"
     ]
    }
   ],
   "source": [
    "       \n",
    "if lamb < lamb_0: # 일자별, 이런 경우가 있을수도 있어 - 마지막 구매부터 너무 너무 멀어지면!\n",
    "    lamb_0 = lamb\n",
    "pred = (1-stats.poisson.pmf(mu = lamb, k=0))\n",
    "max =  (1-stats.poisson.pmf(mu = lamb_1, k=0))  # max\n",
    "min =  (1-stats.poisson.pmf(mu = lamb_0, k=0))  # min\n",
    "scal = (pred - min)/(max - min)\n",
    "\n",
    "print('pred : {}'.format(pred), ', max : {}'.format(max), ', min : {}'.format(min))\n",
    "print('scaling : {}'.format(scal))"
   ]
  },
  {
   "cell_type": "markdown",
   "metadata": {},
   "source": [
    ": 일단, lambda의 값이 작기때문에, lambda 범위가 너무 좁아!!"
   ]
  },
  {
   "cell_type": "markdown",
   "metadata": {},
   "source": [
    "---"
   ]
  },
  {
   "cell_type": "markdown",
   "metadata": {},
   "source": [
    "- #### (2)주기가 평균일때"
   ]
  },
  {
   "cell_type": "code",
   "execution_count": 325,
   "metadata": {},
   "outputs": [],
   "source": [
    "# 주기가 평균일때\n",
    "\n",
    "k, t_purch, tmean_u, t_ ,alpha, beta = 1, 0, 5.122566039 , 5.12256603893284, 1.6348410016313837, 23.228302136357172"
   ]
  },
  {
   "cell_type": "code",
   "execution_count": 326,
   "metadata": {},
   "outputs": [],
   "source": [
    "# 함수로 출력되는게 많게했어! & unit time을 1주일로 변경.\n",
    "\n",
    "def func_lamb(t_purch, tmean_u, t_ , alpha, beta, k):\n",
    "\n",
    "    if t_purch == 0:  # t_purch가 0이라는 소리는, k=1이라는 소리겠지! 그러니깐 앞의 값이 0이 되게끔 한거야.\n",
    "        lamb = (alpha/(2*abs(tmean_u-t_)+beta))\n",
    "        lamb_0 = (alpha/(2*abs(tmean_u)+beta))   # 최저값 : t=0\n",
    "        lamb_1 = (alpha/+beta)     # 최고값 : |tmean-t|=0\n",
    "    else:\n",
    "        lamb = (k/t_purch+(alpha/(2*abs(tmean_u-t_)+beta)))\n",
    "        lamb_0 = (k/t_purch+(alpha/(2*abs(tmean_u)+beta)))   # 최저값 : t=0  \n",
    "        lamb_1 = (k/t_purch+(alpha/+beta))     #최고값 : |tmean-t|=0\n",
    "    return lamb,lamb_0, lamb_1, t_, t_purch, tmean_u, k"
   ]
  },
  {
   "cell_type": "code",
   "execution_count": 327,
   "metadata": {},
   "outputs": [
    {
     "name": "stdout",
     "output_type": "stream",
     "text": [
      "0.0703814248680303 0.048839954429598986 0.07038142486843729\n"
     ]
    }
   ],
   "source": [
    "lamb, lamb_0, lamb_1, t_, t_purch, tmean_u, k = func_lamb(t_purch, tmean_u, t_ , alpha, beta, k)\n",
    "\n",
    "print(lamb, lamb_0, lamb_1)"
   ]
  },
  {
   "cell_type": "code",
   "execution_count": 328,
   "metadata": {
    "scrolled": false
   },
   "outputs": [
    {
     "name": "stdout",
     "output_type": "stream",
     "text": [
      "pred : 0.06796175046775943 , max : 0.06796175046813868 , min : 0.04766646573395483\n",
      "scaling : 0.9999999999813133\n"
     ]
    }
   ],
   "source": [
    "       \n",
    "if lamb < lamb_0: # 일자별, 이런 경우가 있을수도 있어 - 마지막 구매부터 너무 너무 멀어지면!\n",
    "    lamb_0 = lamb\n",
    "pred = (1-stats.poisson.pmf(mu = lamb, k=0))\n",
    "max =  (1-stats.poisson.pmf(mu = lamb_1, k=0))  # max\n",
    "min =  (1-stats.poisson.pmf(mu = lamb_0, k=0))  # min\n",
    "scal = (pred - min)/(max - min)\n",
    "\n",
    "print('pred : {}'.format(pred), ', max : {}'.format(max), ', min : {}'.format(min))\n",
    "print('scaling : {}'.format(scal))"
   ]
  },
  {
   "cell_type": "markdown",
   "metadata": {},
   "source": [
    "---"
   ]
  },
  {
   "cell_type": "markdown",
   "metadata": {},
   "source": [
    "- #### (3)주기가 평균 - 1 주"
   ]
  },
  {
   "cell_type": "code",
   "execution_count": 317,
   "metadata": {},
   "outputs": [],
   "source": [
    "# 주기가 평균 - 1.5 주\n",
    "\n",
    "k, t_purch, tmean_u, t_ ,alpha, beta = 1, 0, 5.122566039 ,  5.12256603893284-1, 1.6348410016313837, 23.228302136357172"
   ]
  },
  {
   "cell_type": "code",
   "execution_count": 318,
   "metadata": {},
   "outputs": [],
   "source": [
    "# 함수로 출력되는게 많게했어! & unit time을 1주일로 변경.\n",
    "\n",
    "def func_lamb(t_purch, tmean_u, t_ , alpha, beta, k):\n",
    "\n",
    "    if t_purch == 0:  # t_purch가 0이라는 소리는, k=1이라는 소리겠지! 그러니깐 앞의 값이 0이 되게끔 한거야.\n",
    "        lamb = (alpha/(2*abs(tmean_u-t_)+beta))\n",
    "        lamb_0 = (alpha/(2*abs(tmean_u)+beta))   # 최저값 : t=0\n",
    "        lamb_1 = (alpha/+beta)     # 최고값 : |tmean-t|=0\n",
    "    else:\n",
    "        lamb = (k/t_purch+(alpha/(2*abs(tmean_u-t_)+beta)))\n",
    "        lamb_0 = (k/t_purch+(alpha/(2*abs(tmean_u)+beta)))   # 최저값 : t=0  \n",
    "        lamb_1 = (k/t_purch+(alpha/+beta))     #최고값 : |tmean-t|=0\n",
    "    return lamb,lamb_0, lamb_1, t_, t_purch, tmean_u, k"
   ]
  },
  {
   "cell_type": "code",
   "execution_count": 319,
   "metadata": {},
   "outputs": [
    {
     "name": "stdout",
     "output_type": "stream",
     "text": [
      "0.06480186390611943 0.048839954429598986 0.07038142486843729\n"
     ]
    }
   ],
   "source": [
    "lamb, lamb_0, lamb_1, t_, t_purch, tmean_u, k = func_lamb(t_purch, tmean_u, t_ , alpha, beta, k)\n",
    "\n",
    "print(lamb, lamb_0, lamb_1)"
   ]
  },
  {
   "cell_type": "code",
   "execution_count": 320,
   "metadata": {
    "scrolled": true
   },
   "outputs": [
    {
     "name": "stdout",
     "output_type": "stream",
     "text": [
      "pred : 0.06274685134082969 , max : 0.06796175046813868 , min : 0.04766646573395483\n",
      "scaling : 0.7430487329637998\n"
     ]
    }
   ],
   "source": [
    "       \n",
    "if lamb < lamb_0: # 일자별, 이런 경우가 있을수도 있어 - 마지막 구매부터 너무 너무 멀어지면!\n",
    "    lamb_0 = lamb\n",
    "pred = (1-stats.poisson.pmf(mu = lamb, k=0))\n",
    "max =  (1-stats.poisson.pmf(mu = lamb_1, k=0))  # max\n",
    "min =  (1-stats.poisson.pmf(mu = lamb_0, k=0))  # min\n",
    "scal = (pred - min)/(max - min)\n",
    "\n",
    "print('pred : {}'.format(pred), ', max : {}'.format(max), ', min : {}'.format(min))\n",
    "print('scaling : {}'.format(scal))"
   ]
  },
  {
   "cell_type": "markdown",
   "metadata": {},
   "source": [
    "- #### (4)주기가 평균-0.5 주"
   ]
  },
  {
   "cell_type": "code",
   "execution_count": 321,
   "metadata": {},
   "outputs": [],
   "source": [
    "# 주기가 평균 - .5 주\n",
    "\n",
    "k, t_purch, tmean_u, t_ ,alpha, beta = 1, 0, 5.122566039 , 5.12256603893284-0.5, 1.6348410016313837, 23.228302136357172"
   ]
  },
  {
   "cell_type": "code",
   "execution_count": 322,
   "metadata": {},
   "outputs": [],
   "source": [
    "# 함수로 출력되는게 많게했어! & unit time을 1주일로 변경.\n",
    "\n",
    "def func_lamb(t_purch, tmean_u, t_ , alpha, beta, k):\n",
    "\n",
    "    if t_purch == 0:  # t_purch가 0이라는 소리는, k=1이라는 소리겠지! 그러니깐 앞의 값이 0이 되게끔 한거야.\n",
    "        lamb = (alpha/(2*abs(tmean_u-t_)+beta))\n",
    "        lamb_0 = (alpha/(2*abs(tmean_u)+beta))   # 최저값 : t=0\n",
    "        lamb_1 = (alpha/+beta)     # 최고값 : |tmean-t|=0\n",
    "    else:\n",
    "        lamb = (k/t_purch+(alpha/(2*abs(tmean_u-t_)+beta)))\n",
    "        lamb_0 = (k/t_purch+(alpha/(2*abs(tmean_u)+beta)))   # 최저값 : t=0  \n",
    "        lamb_1 = (k/t_purch+(alpha/+beta))     #최고값 : |tmean-t|=0\n",
    "    return lamb,lamb_0, lamb_1, t_, t_purch, tmean_u, k"
   ]
  },
  {
   "cell_type": "code",
   "execution_count": 323,
   "metadata": {},
   "outputs": [
    {
     "name": "stdout",
     "output_type": "stream",
     "text": [
      "0.06747649886572388 0.048839954429598986 0.07038142486843729\n"
     ]
    }
   ],
   "source": [
    "lamb, lamb_0, lamb_1, t_, t_purch, tmean_u, k = func_lamb(t_purch, tmean_u, t_ , alpha, beta, k)\n",
    "\n",
    "print(lamb, lamb_0, lamb_1)"
   ]
  },
  {
   "cell_type": "code",
   "execution_count": 324,
   "metadata": {
    "scrolled": false
   },
   "outputs": [
    {
     "name": "stdout",
     "output_type": "stream",
     "text": [
      "pred : 0.06525031196416997 , max : 0.06796175046813868 , min : 0.04766646573395483\n",
      "scaling : 0.8664005684334269\n"
     ]
    }
   ],
   "source": [
    "       \n",
    "if lamb < lamb_0: # 일자별, 이런 경우가 있을수도 있어 - 마지막 구매부터 너무 너무 멀어지면!\n",
    "    lamb_0 = lamb\n",
    "pred = (1-stats.poisson.pmf(mu = lamb, k=0))\n",
    "max =  (1-stats.poisson.pmf(mu = lamb_1, k=0))  # max\n",
    "min =  (1-stats.poisson.pmf(mu = lamb_0, k=0))  # min\n",
    "scal = (pred - min)/(max - min)\n",
    "\n",
    "print('pred : {}'.format(pred), ', max : {}'.format(max), ', min : {}'.format(min))\n",
    "print('scaling : {}'.format(scal))"
   ]
  },
  {
   "cell_type": "markdown",
   "metadata": {},
   "source": [
    "---"
   ]
  },
  {
   "cell_type": "markdown",
   "metadata": {},
   "source": [
    "### #ver(1)으로"
   ]
  },
  {
   "cell_type": "markdown",
   "metadata": {},
   "source": [
    "* ####  (1)실장님 원래 주기 : 주기가 넘어갔을때"
   ]
  },
  {
   "cell_type": "code",
   "execution_count": 188,
   "metadata": {},
   "outputs": [],
   "source": [
    "# 실장님 원래 주기 : 주기가 넘어갔을때\n",
    "\n",
    "k, t_purch, tmean_u, t_ ,alpha, beta = 1, 0, 5.122566039 , 13.14285714, 0.991580757, 1.804783562"
   ]
  },
  {
   "cell_type": "code",
   "execution_count": 189,
   "metadata": {},
   "outputs": [],
   "source": [
    "# 함수로 출력되는게 많게했어! & unit time을 1주일로 변경.\n",
    "\n",
    "def func_lamb(t_purch, tmean_u, t_ , alpha, beta, k):\n",
    "\n",
    "    if t_purch == 0:  # t_purch가 0이라는 소리는, k=1이라는 소리겠지! 그러니깐 앞의 값이 0이 되게끔 한거야.\n",
    "        lamb = (alpha/(2*abs(tmean_u-t_)+beta))\n",
    "        lamb_0 = (alpha/(2*abs(tmean_u)+beta))   # 최저값 : t=0\n",
    "        lamb_1 = (alpha/+beta)     # 최고값 : |tmean-t|=0\n",
    "    else:\n",
    "        lamb = (k/t_purch+(alpha/(2*abs(tmean_u-t_)+beta)))\n",
    "        lamb_0 = (k/t_purch+(alpha/(2*abs(tmean_u)+beta)))   # 최저값 : t=0  \n",
    "        lamb_1 = (k/t_purch+(alpha/+beta))     #최고값 : |tmean-t|=0\n",
    "    return lamb,lamb_0, lamb_1, t_, t_purch, tmean_u, k"
   ]
  },
  {
   "cell_type": "code",
   "execution_count": 190,
   "metadata": {},
   "outputs": [
    {
     "name": "stdout",
     "output_type": "stream",
     "text": [
      "0.055565168577286654 0.08228943559641387 0.54941810080604\n"
     ]
    }
   ],
   "source": [
    "lamb, lamb_0, lamb_1, t_, t_purch, tmean_u, k = func_lamb(t_purch, tmean_u, t_ , alpha, beta, k)\n",
    "\n",
    "print(lamb, lamb_0, lamb_1)"
   ]
  },
  {
   "cell_type": "code",
   "execution_count": 191,
   "metadata": {
    "scrolled": false
   },
   "outputs": [
    {
     "name": "stdout",
     "output_type": "stream",
     "text": [
      "pred : 0.054049624578457856 , max : 0.4227143652914207 , min : 0.054049624578457856\n",
      "scaling : 0.0\n"
     ]
    }
   ],
   "source": [
    "       \n",
    "if lamb < lamb_0: # 일자별, 이런 경우가 있을수도 있어 - 마지막 구매부터 너무 너무 멀어지면!\n",
    "    lamb_0 = lamb\n",
    "pred = (1-stats.poisson.pmf(mu = lamb, k=0))\n",
    "max =  (1-stats.poisson.pmf(mu = lamb_1, k=0))  # max\n",
    "min =  (1-stats.poisson.pmf(mu = lamb_0, k=0))  # min\n",
    "scal = (pred - min)/(max - min)\n",
    "\n",
    "print('pred : {}'.format(pred), ', max : {}'.format(max), ', min : {}'.format(min))\n",
    "print('scaling : {}'.format(scal))"
   ]
  },
  {
   "cell_type": "markdown",
   "metadata": {},
   "source": [
    ": 일단, lambda의 값이 작기때문에, lambda 범위가 너무 좁아!!"
   ]
  },
  {
   "cell_type": "markdown",
   "metadata": {},
   "source": [
    "---"
   ]
  },
  {
   "cell_type": "markdown",
   "metadata": {},
   "source": [
    "- #### (2)주기가 평균일때"
   ]
  },
  {
   "cell_type": "code",
   "execution_count": 313,
   "metadata": {},
   "outputs": [],
   "source": [
    "# 주기가 평균일때\n",
    "\n",
    "k, t_purch, tmean_u, t_ ,alpha, beta = 1, 0, 5.122566039 ,  5.12256603893284, 0.991580757, 1.804783562"
   ]
  },
  {
   "cell_type": "code",
   "execution_count": 314,
   "metadata": {},
   "outputs": [],
   "source": [
    "# 함수로 출력되는게 많게했어! & unit time을 1주일로 변경.\n",
    "\n",
    "def func_lamb(t_purch, tmean_u, t_ , alpha, beta, k):\n",
    "\n",
    "    if t_purch == 0:  # t_purch가 0이라는 소리는, k=1이라는 소리겠지! 그러니깐 앞의 값이 0이 되게끔 한거야.\n",
    "        lamb = (alpha/(2*abs(tmean_u-t_)+beta))\n",
    "        lamb_0 = (alpha/(2*abs(tmean_u)+beta))   # 최저값 : t=0\n",
    "        lamb_1 = (alpha/+beta)     # 최고값 : |tmean-t|=0\n",
    "    else:\n",
    "        lamb = (k/t_purch+(alpha/(2*abs(tmean_u-t_)+beta)))\n",
    "        lamb_0 = (k/t_purch+(alpha/(2*abs(tmean_u)+beta)))   # 최저값 : t=0  \n",
    "        lamb_1 = (k/t_purch+(alpha/+beta))     #최고값 : |tmean-t|=0\n",
    "    return lamb,lamb_0, lamb_1, t_, t_purch, tmean_u, k"
   ]
  },
  {
   "cell_type": "code",
   "execution_count": 315,
   "metadata": {},
   "outputs": [
    {
     "name": "stdout",
     "output_type": "stream",
     "text": [
      "0.5494181007651502 0.08228943559641387 0.54941810080604\n"
     ]
    }
   ],
   "source": [
    "lamb, lamb_0, lamb_1, t_, t_purch, tmean_u, k = func_lamb(t_purch, tmean_u, t_ , alpha, beta, k)\n",
    "\n",
    "print(lamb, lamb_0, lamb_1)"
   ]
  },
  {
   "cell_type": "code",
   "execution_count": 316,
   "metadata": {
    "scrolled": false
   },
   "outputs": [
    {
     "name": "stdout",
     "output_type": "stream",
     "text": [
      "pred : 0.4227143652678156 , max : 0.4227143652914207 , min : 0.07899465161735719\n",
      "scaling : 0.9999999999313245\n"
     ]
    }
   ],
   "source": [
    "       \n",
    "if lamb < lamb_0: # 일자별, 이런 경우가 있을수도 있어 - 마지막 구매부터 너무 너무 멀어지면!\n",
    "    lamb_0 = lamb\n",
    "pred = (1-stats.poisson.pmf(mu = lamb, k=0))\n",
    "max =  (1-stats.poisson.pmf(mu = lamb_1, k=0))  # max\n",
    "min =  (1-stats.poisson.pmf(mu = lamb_0, k=0))  # min\n",
    "scal = (pred - min)/(max - min)\n",
    "\n",
    "print('pred : {}'.format(pred), ', max : {}'.format(max), ', min : {}'.format(min))\n",
    "print('scaling : {}'.format(scal))"
   ]
  },
  {
   "cell_type": "markdown",
   "metadata": {},
   "source": [
    "---"
   ]
  },
  {
   "cell_type": "markdown",
   "metadata": {},
   "source": [
    "- #### (3)주기가 '평균 - 1 주'"
   ]
  },
  {
   "cell_type": "code",
   "execution_count": 208,
   "metadata": {},
   "outputs": [],
   "source": [
    "# 주기가 평균 - 1 주\n",
    "\n",
    "k, t_purch, tmean_u, t_ ,alpha, beta = 1, 0, 5.122566039 , 5.12256603893284-1, 0.991580757, 1.804783562"
   ]
  },
  {
   "cell_type": "code",
   "execution_count": 209,
   "metadata": {},
   "outputs": [],
   "source": [
    "# 함수로 출력되는게 많게했어! & unit time을 1주일로 변경.\n",
    "\n",
    "def func_lamb(t_purch, tmean_u, t_ , alpha, beta, k):\n",
    "\n",
    "    if t_purch == 0:  # t_purch가 0이라는 소리는, k=1이라는 소리겠지! 그러니깐 앞의 값이 0이 되게끔 한거야.\n",
    "        lamb = (alpha/(2*abs(tmean_u-t_)+beta))\n",
    "        lamb_0 = (alpha/(2*abs(tmean_u)+beta))   # 최저값 : t=0\n",
    "        lamb_1 = (alpha/+beta)     # 최고값 : |tmean-t|=0\n",
    "    else:\n",
    "        lamb = (k/t_purch+(alpha/(2*abs(tmean_u-t_)+beta)))\n",
    "        lamb_0 = (k/t_purch+(alpha/(2*abs(tmean_u)+beta)))   # 최저값 : t=0  \n",
    "        lamb_1 = (k/t_purch+(alpha/+beta))     #최고값 : |tmean-t|=0\n",
    "    return lamb,lamb_0, lamb_1, t_, t_purch, tmean_u, k"
   ]
  },
  {
   "cell_type": "code",
   "execution_count": 210,
   "metadata": {},
   "outputs": [
    {
     "name": "stdout",
     "output_type": "stream",
     "text": [
      "0.26061423489849345 0.08228943559641387 0.54941810080604\n"
     ]
    }
   ],
   "source": [
    "lamb, lamb_0, lamb_1, t_, t_purch, tmean_u, k = func_lamb(t_purch, tmean_u, t_ , alpha, beta, k)\n",
    "\n",
    "print(lamb, lamb_0, lamb_1)"
   ]
  },
  {
   "cell_type": "code",
   "execution_count": 211,
   "metadata": {
    "scrolled": false
   },
   "outputs": [
    {
     "name": "stdout",
     "output_type": "stream",
     "text": [
      "pred : 0.22942187556583904 , max : 0.4227143652914207 , min : 0.07899465161735719\n",
      "scaling : 0.43764502867917066\n"
     ]
    }
   ],
   "source": [
    "       \n",
    "if lamb < lamb_0: # 일자별, 이런 경우가 있을수도 있어 - 마지막 구매부터 너무 너무 멀어지면!\n",
    "    lamb_0 = lamb\n",
    "pred = (1-stats.poisson.pmf(mu = lamb, k=0))\n",
    "max =  (1-stats.poisson.pmf(mu = lamb_1, k=0))  # max\n",
    "min =  (1-stats.poisson.pmf(mu = lamb_0, k=0))  # min\n",
    "scal = (pred - min)/(max - min)\n",
    "\n",
    "print('pred : {}'.format(pred), ', max : {}'.format(max), ', min : {}'.format(min))\n",
    "print('scaling : {}'.format(scal))"
   ]
  },
  {
   "cell_type": "markdown",
   "metadata": {},
   "source": [
    "---"
   ]
  },
  {
   "cell_type": "markdown",
   "metadata": {},
   "source": [
    "- #### (4)주기가 '평균 - 0.5 주'"
   ]
  },
  {
   "cell_type": "code",
   "execution_count": 204,
   "metadata": {},
   "outputs": [],
   "source": [
    "# 주기가 '평균 - 0.5 주'\n",
    "# mean :  5.12256603893284\n",
    "k, t_purch, tmean_u, t_ ,alpha, beta = 1, 0, 5.122566039 , 5.12256603893284-0.5, 0.991580757, 1.804783562"
   ]
  },
  {
   "cell_type": "code",
   "execution_count": 205,
   "metadata": {},
   "outputs": [],
   "source": [
    "# 함수로 출력되는게 많게했어! & unit time을 1주일로 변경.\n",
    "\n",
    "def func_lamb(t_purch, tmean_u, t_ , alpha, beta, k):\n",
    "\n",
    "    if t_purch == 0:  # t_purch가 0이라는 소리는, k=1이라는 소리겠지! 그러니깐 앞의 값이 0이 되게끔 한거야.\n",
    "        lamb = (alpha/(2*abs(tmean_u-t_)+beta))\n",
    "        lamb_0 = (alpha/(2*abs(tmean_u)+beta))   # 최저값 : t=0\n",
    "        lamb_1 = (alpha/+beta)     # 최고값 : |tmean-t|=0\n",
    "    else:\n",
    "        lamb = (k/t_purch+(alpha/(2*abs(tmean_u-t_)+beta)))\n",
    "        lamb_0 = (k/t_purch+(alpha/(2*abs(tmean_u)+beta)))   # 최저값 : t=0  \n",
    "        lamb_1 = (k/t_purch+(alpha/+beta))     #최고값 : |tmean-t|=0\n",
    "    return lamb,lamb_0, lamb_1, t_, t_purch, tmean_u, k"
   ]
  },
  {
   "cell_type": "code",
   "execution_count": 206,
   "metadata": {},
   "outputs": [
    {
     "name": "stdout",
     "output_type": "stream",
     "text": [
      "0.35353200524515693 0.08228943559641387 0.54941810080604\n"
     ]
    }
   ],
   "source": [
    "lamb, lamb_0, lamb_1, t_, t_purch, tmean_u, k = func_lamb(t_purch, tmean_u, t_ , alpha, beta, k)\n",
    "\n",
    "print(lamb, lamb_0, lamb_1)"
   ]
  },
  {
   "cell_type": "code",
   "execution_count": 207,
   "metadata": {
    "scrolled": false
   },
   "outputs": [
    {
     "name": "stdout",
     "output_type": "stream",
     "text": [
      "pred : 0.2977964819673278 , max : 0.4227143652914207 , min : 0.07899465161735719\n",
      "scaling : 0.6365705010375172\n"
     ]
    }
   ],
   "source": [
    "       \n",
    "if lamb < lamb_0: # 일자별, 이런 경우가 있을수도 있어 - 마지막 구매부터 너무 너무 멀어지면!\n",
    "    lamb_0 = lamb\n",
    "pred = (1-stats.poisson.pmf(mu = lamb, k=0))\n",
    "max =  (1-stats.poisson.pmf(mu = lamb_1, k=0))  # max\n",
    "min =  (1-stats.poisson.pmf(mu = lamb_0, k=0))  # min\n",
    "scal = (pred - min)/(max - min)\n",
    "\n",
    "print('pred : {}'.format(pred), ', max : {}'.format(max), ', min : {}'.format(min))\n",
    "print('scaling : {}'.format(scal))"
   ]
  },
  {
   "cell_type": "markdown",
   "metadata": {},
   "source": [
    ": 딱 주기에서 1주일 정도만 노출되도록 보인다!"
   ]
  },
  {
   "cell_type": "code",
   "execution_count": null,
   "metadata": {},
   "outputs": [],
   "source": []
  },
  {
   "cell_type": "code",
   "execution_count": null,
   "metadata": {},
   "outputs": [],
   "source": []
  },
  {
   "cell_type": "code",
   "execution_count": null,
   "metadata": {},
   "outputs": [],
   "source": []
  },
  {
   "cell_type": "code",
   "execution_count": null,
   "metadata": {},
   "outputs": [],
   "source": []
  },
  {
   "cell_type": "markdown",
   "metadata": {},
   "source": [
    "## # Step2-1. 논문 수식"
   ]
  },
  {
   "cell_type": "markdown",
   "metadata": {},
   "source": [
    "#### ver1.\n",
    "- #### (1)실장님 원래 주기"
   ]
  },
  {
   "cell_type": "code",
   "execution_count": 281,
   "metadata": {},
   "outputs": [],
   "source": [
    "# 주기가 '평균 - 0.5 주'\n",
    "# mean :  5.12256603893284\n",
    "k, t_purch, tmean_u, t_ ,alpha, beta = 1, 0, 5.122566039 , 13.14285714, 0.991580757, 1.804783562"
   ]
  },
  {
   "cell_type": "code",
   "execution_count": 282,
   "metadata": {},
   "outputs": [],
   "source": [
    "# 함수로 출력되는게 많게했어! & unit time을 1주일로 변경.\n",
    "\n",
    "def func_lamb(t_purch, tmean_u, t_ , alpha, beta, k):\n",
    "    \n",
    "    lamb = ((k+alpha)/(t_purch+2*abs(tmean_u-t_)+beta))\n",
    "    lamb_0 = ((k+alpha)/(t_purch+2*abs(tmean_u)+beta))   # 최저값 : t=0  \n",
    "    lamb_1 = ((k+alpha)/(t_purch+beta))     #최고값 : |tmean-t|=0\n",
    "    \n",
    "    return lamb,lamb_0, lamb_1, t_, t_purch, tmean_u, k"
   ]
  },
  {
   "cell_type": "code",
   "execution_count": 283,
   "metadata": {},
   "outputs": [
    {
     "name": "stdout",
     "output_type": "stream",
     "text": [
      "0.11160212591538336 0.1652775684494336 1.103501161542605\n"
     ]
    }
   ],
   "source": [
    "lamb, lamb_0, lamb_1, t_, t_purch, tmean_u, k = func_lamb(t_purch, tmean_u, t_ , alpha, beta, k)\n",
    "\n",
    "print(lamb, lamb_0, lamb_1)"
   ]
  },
  {
   "cell_type": "code",
   "execution_count": 284,
   "metadata": {
    "scrolled": false
   },
   "outputs": [
    {
     "name": "stdout",
     "output_type": "stream",
     "text": [
      "pred : 0.10559995468440087 , max : 0.668292313928871 , min : 0.10559995468440087\n",
      "scaling : 0.0\n"
     ]
    }
   ],
   "source": [
    "       \n",
    "if lamb < lamb_0: # 일자별, 이런 경우가 있을수도 있어 - 마지막 구매부터 너무 너무 멀어지면!\n",
    "    lamb_0 = lamb\n",
    "pred = (1-stats.poisson.pmf(mu = lamb, k=0))\n",
    "max =  (1-stats.poisson.pmf(mu = lamb_1, k=0))  # max\n",
    "min =  (1-stats.poisson.pmf(mu = lamb_0, k=0))  # min\n",
    "scal = (pred - min)/(max - min)\n",
    "\n",
    "print('pred : {}'.format(pred), ', max : {}'.format(max), ', min : {}'.format(min))\n",
    "print('scaling : {}'.format(scal))"
   ]
  },
  {
   "cell_type": "markdown",
   "metadata": {},
   "source": [
    "---"
   ]
  },
  {
   "cell_type": "markdown",
   "metadata": {},
   "source": [
    "- #### (2)주기가 평균일때"
   ]
  },
  {
   "cell_type": "code",
   "execution_count": 289,
   "metadata": {},
   "outputs": [],
   "source": [
    "# 주기가 평균일때\n",
    "\n",
    "k, t_purch, tmean_u, t_ ,alpha, beta = 1, 0, 5.122566039 ,  5.12256603893284, 0.991580757, 1.804783562"
   ]
  },
  {
   "cell_type": "code",
   "execution_count": 290,
   "metadata": {},
   "outputs": [],
   "source": [
    "# 함수로 출력되는게 많게했어! & unit time을 1주일로 변경.\n",
    "\n",
    "def func_lamb(t_purch, tmean_u, t_ , alpha, beta, k):\n",
    "    \n",
    "    lamb = ((k+alpha)/(t_purch+2*abs(tmean_u-t_)+beta))\n",
    "    lamb_0 = ((k+alpha)/(t_purch+2*abs(tmean_u)+beta))   # 최저값 : t=0  \n",
    "    lamb_1 = ((k+alpha)/(t_purch+beta))     #최고값 : |tmean-t|=0\n",
    "    \n",
    "    return lamb,lamb_0, lamb_1, t_, t_purch, tmean_u, k"
   ]
  },
  {
   "cell_type": "code",
   "execution_count": 291,
   "metadata": {},
   "outputs": [
    {
     "name": "stdout",
     "output_type": "stream",
     "text": [
      "1.103501161460478 0.1652775684494336 1.103501161542605\n"
     ]
    }
   ],
   "source": [
    "lamb, lamb_0, lamb_1, t_, t_purch, tmean_u, k = func_lamb(t_purch, tmean_u, t_ , alpha, beta, k)\n",
    "\n",
    "print(lamb, lamb_0, lamb_1)"
   ]
  },
  {
   "cell_type": "code",
   "execution_count": 292,
   "metadata": {
    "scrolled": true
   },
   "outputs": [
    {
     "name": "stdout",
     "output_type": "stream",
     "text": [
      "pred : 0.6682923139016288 , max : 0.668292313928871 , min : 0.1523416117931694\n",
      "scaling : 0.9999999999472\n"
     ]
    }
   ],
   "source": [
    "       \n",
    "if lamb < lamb_0: # 일자별, 이런 경우가 있을수도 있어 - 마지막 구매부터 너무 너무 멀어지면!\n",
    "    lamb_0 = lamb\n",
    "pred = (1-stats.poisson.pmf(mu = lamb, k=0))\n",
    "max =  (1-stats.poisson.pmf(mu = lamb_1, k=0))  # max\n",
    "min =  (1-stats.poisson.pmf(mu = lamb_0, k=0))  # min\n",
    "scal = (pred - min)/(max - min)\n",
    "\n",
    "print('pred : {}'.format(pred), ', max : {}'.format(max), ', min : {}'.format(min))\n",
    "print('scaling : {}'.format(scal))"
   ]
  },
  {
   "cell_type": "markdown",
   "metadata": {},
   "source": [
    "- #### (3)주기가 '평균 - 1 주'"
   ]
  },
  {
   "cell_type": "code",
   "execution_count": 293,
   "metadata": {},
   "outputs": [],
   "source": [
    "# 주기가 평균 - 1 주\n",
    "\n",
    "k, t_purch, tmean_u, t_ ,alpha, beta = 1, 0, 5.122566039 , 5.12256603893284-1, 0.991580757, 1.804783562"
   ]
  },
  {
   "cell_type": "code",
   "execution_count": 294,
   "metadata": {},
   "outputs": [],
   "source": [
    "# 함수로 출력되는게 많게했어! & unit time을 1주일로 변경.\n",
    "\n",
    "def func_lamb(t_purch, tmean_u, t_ , alpha, beta, k):\n",
    "    \n",
    "    lamb = ((k+alpha)/(t_purch+2*abs(tmean_u-t_)+beta))\n",
    "    lamb_0 = ((k+alpha)/(t_purch+2*abs(tmean_u)+beta))   # 최저값 : t=0  \n",
    "    lamb_1 = ((k+alpha)/(t_purch+beta))     #최고값 : |tmean-t|=0\n",
    "    \n",
    "    return lamb,lamb_0, lamb_1, t_, t_purch, tmean_u, k"
   ]
  },
  {
   "cell_type": "code",
   "execution_count": 295,
   "metadata": {},
   "outputs": [
    {
     "name": "stdout",
     "output_type": "stream",
     "text": [
      "0.5234412745104505 0.1652775684494336 1.103501161542605\n"
     ]
    }
   ],
   "source": [
    "lamb, lamb_0, lamb_1, t_, t_purch, tmean_u, k = func_lamb(t_purch, tmean_u, t_ , alpha, beta, k)\n",
    "\n",
    "print(lamb, lamb_0, lamb_1)"
   ]
  },
  {
   "cell_type": "code",
   "execution_count": 296,
   "metadata": {
    "scrolled": false
   },
   "outputs": [
    {
     "name": "stdout",
     "output_type": "stream",
     "text": [
      "pred : 0.40752184420584336 , max : 0.668292313928871 , min : 0.1523416117931694\n",
      "scaling : 0.4945825858098325\n"
     ]
    }
   ],
   "source": [
    "       \n",
    "if lamb < lamb_0: # 일자별, 이런 경우가 있을수도 있어 - 마지막 구매부터 너무 너무 멀어지면!\n",
    "    lamb_0 = lamb\n",
    "pred = (1-stats.poisson.pmf(mu = lamb, k=0))\n",
    "max =  (1-stats.poisson.pmf(mu = lamb_1, k=0))  # max\n",
    "min =  (1-stats.poisson.pmf(mu = lamb_0, k=0))  # min\n",
    "scal = (pred - min)/(max - min)\n",
    "\n",
    "print('pred : {}'.format(pred), ', max : {}'.format(max), ', min : {}'.format(min))\n",
    "print('scaling : {}'.format(scal))"
   ]
  },
  {
   "cell_type": "markdown",
   "metadata": {},
   "source": [
    "- #### (4)주기가 '평균 - 0.5 주'"
   ]
  },
  {
   "cell_type": "code",
   "execution_count": 277,
   "metadata": {},
   "outputs": [],
   "source": [
    "# 주기가 '평균 - 0.5 주'\n",
    "# mean :  5.12256603893284\n",
    "k, t_purch, tmean_u, t_ ,alpha, beta = 1, 0, 5.122566039 , 5.12256603893284-0.5, 0.991580757, 1.804783562"
   ]
  },
  {
   "cell_type": "code",
   "execution_count": 278,
   "metadata": {},
   "outputs": [],
   "source": [
    "# 함수로 출력되는게 많게했어! & unit time을 1주일로 변경.\n",
    "\n",
    "def func_lamb(t_purch, tmean_u, t_ , alpha, beta, k):\n",
    "    \n",
    "    lamb = ((k+alpha)/(t_purch+2*abs(tmean_u-t_)+beta))\n",
    "    lamb_0 = ((k+alpha)/(t_purch+2*abs(tmean_u)+beta))   # 최저값 : t=0  \n",
    "    lamb_1 = ((k+alpha)/(t_purch+beta))     #최고값 : |tmean-t|=0\n",
    "    \n",
    "    return lamb,lamb_0, lamb_1, t_, t_purch, tmean_u, k"
   ]
  },
  {
   "cell_type": "code",
   "execution_count": 279,
   "metadata": {},
   "outputs": [
    {
     "name": "stdout",
     "output_type": "stream",
     "text": [
      "0.7100657547652244 0.1652775684494336 1.103501161542605\n"
     ]
    }
   ],
   "source": [
    "lamb, lamb_0, lamb_1, t_, t_purch, tmean_u, k = func_lamb(t_purch, tmean_u, t_ , alpha, beta, k)\n",
    "\n",
    "print(lamb, lamb_0, lamb_1)"
   ]
  },
  {
   "cell_type": "code",
   "execution_count": 280,
   "metadata": {
    "scrolled": false
   },
   "outputs": [
    {
     "name": "stdout",
     "output_type": "stream",
     "text": [
      "pred : 0.5083881294249778 , max : 0.668292313928871 , min : 0.1523416117931694\n",
      "scaling : 0.6900785601376381\n"
     ]
    }
   ],
   "source": [
    "       \n",
    "if lamb < lamb_0: # 일자별, 이런 경우가 있을수도 있어 - 마지막 구매부터 너무 너무 멀어지면!\n",
    "    lamb_0 = lamb\n",
    "pred = (1-stats.poisson.pmf(mu = lamb, k=0))\n",
    "max =  (1-stats.poisson.pmf(mu = lamb_1, k=0))  # max\n",
    "min =  (1-stats.poisson.pmf(mu = lamb_0, k=0))  # min\n",
    "scal = (pred - min)/(max - min)\n",
    "\n",
    "print('pred : {}'.format(pred), ', max : {}'.format(max), ', min : {}'.format(min))\n",
    "print('scaling : {}'.format(scal))"
   ]
  },
  {
   "cell_type": "markdown",
   "metadata": {},
   "source": [
    "---"
   ]
  },
  {
   "cell_type": "markdown",
   "metadata": {},
   "source": [
    "#### ver2.\n",
    "- #### (1)실장님 원래 주기"
   ]
  },
  {
   "cell_type": "code",
   "execution_count": 297,
   "metadata": {},
   "outputs": [],
   "source": [
    "# 주기가 '평균 - 0.5 주'\n",
    "# mean :  5.12256603893284\n",
    "k, t_purch, tmean_u, t_ ,alpha, beta = 1, 0, 5.122566039 , 13.14285714, 1.6348410016313837, 23.228302136357172"
   ]
  },
  {
   "cell_type": "code",
   "execution_count": 298,
   "metadata": {},
   "outputs": [],
   "source": [
    "# 함수로 출력되는게 많게했어! & unit time을 1주일로 변경.\n",
    "\n",
    "def func_lamb(t_purch, tmean_u, t_ , alpha, beta, k):\n",
    "    \n",
    "    lamb = ((k+alpha)/(t_purch+2*abs(tmean_u-t_)+beta))\n",
    "    lamb_0 = ((k+alpha)/(t_purch+2*abs(tmean_u)+beta))   # 최저값 : t=0  \n",
    "    lamb_1 = ((k+alpha)/(t_purch+beta))     #최고값 : |tmean-t|=0\n",
    "    \n",
    "    return lamb,lamb_0, lamb_1, t_, t_purch, tmean_u, k"
   ]
  },
  {
   "cell_type": "code",
   "execution_count": 299,
   "metadata": {},
   "outputs": [
    {
     "name": "stdout",
     "output_type": "stream",
     "text": [
      "0.0670974244882663 0.07871439138148746 0.11343235446844409\n"
     ]
    }
   ],
   "source": [
    "lamb, lamb_0, lamb_1, t_, t_purch, tmean_u, k = func_lamb(t_purch, tmean_u, t_ , alpha, beta, k)\n",
    "\n",
    "print(lamb, lamb_0, lamb_1)"
   ]
  },
  {
   "cell_type": "code",
   "execution_count": 300,
   "metadata": {
    "scrolled": false
   },
   "outputs": [
    {
     "name": "stdout",
     "output_type": "stream",
     "text": [
      "pred : 0.06489590513906984 , max : 0.10723541409640991 , min : 0.06489590513906984\n",
      "scaling : 0.0\n"
     ]
    }
   ],
   "source": [
    "       \n",
    "if lamb < lamb_0: # 일자별, 이런 경우가 있을수도 있어 - 마지막 구매부터 너무 너무 멀어지면!\n",
    "    lamb_0 = lamb\n",
    "pred = (1-stats.poisson.pmf(mu = lamb, k=0))\n",
    "max =  (1-stats.poisson.pmf(mu = lamb_1, k=0))  # max\n",
    "min =  (1-stats.poisson.pmf(mu = lamb_0, k=0))  # min\n",
    "scal = (pred - min)/(max - min)\n",
    "\n",
    "print('pred : {}'.format(pred), ', max : {}'.format(max), ', min : {}'.format(min))\n",
    "print('scaling : {}'.format(scal))"
   ]
  },
  {
   "cell_type": "markdown",
   "metadata": {},
   "source": [
    "---"
   ]
  },
  {
   "cell_type": "markdown",
   "metadata": {},
   "source": [
    "- #### (2)주기가 평균일때"
   ]
  },
  {
   "cell_type": "code",
   "execution_count": 301,
   "metadata": {},
   "outputs": [],
   "source": [
    "# 주기가 평균일때\n",
    "\n",
    "k, t_purch, tmean_u, t_ ,alpha, beta = 1, 0, 5.122566039 ,  5.12256603893284, 1.6348410016313837, 23.228302136357172"
   ]
  },
  {
   "cell_type": "code",
   "execution_count": 302,
   "metadata": {},
   "outputs": [],
   "source": [
    "# 함수로 출력되는게 많게했어! & unit time을 1주일로 변경.\n",
    "\n",
    "def func_lamb(t_purch, tmean_u, t_ , alpha, beta, k):\n",
    "    \n",
    "    lamb = ((k+alpha)/(t_purch+2*abs(tmean_u-t_)+beta))\n",
    "    lamb_0 = ((k+alpha)/(t_purch+2*abs(tmean_u)+beta))   # 최저값 : t=0  \n",
    "    lamb_1 = ((k+alpha)/(t_purch+beta))     #최고값 : |tmean-t|=0\n",
    "    \n",
    "    return lamb,lamb_0, lamb_1, t_, t_purch, tmean_u, k"
   ]
  },
  {
   "cell_type": "code",
   "execution_count": 303,
   "metadata": {},
   "outputs": [
    {
     "name": "stdout",
     "output_type": "stream",
     "text": [
      "0.11343235446778814 0.07871439138148746 0.11343235446844409\n"
     ]
    }
   ],
   "source": [
    "lamb, lamb_0, lamb_1, t_, t_purch, tmean_u, k = func_lamb(t_purch, tmean_u, t_ , alpha, beta, k)\n",
    "\n",
    "print(lamb, lamb_0, lamb_1)"
   ]
  },
  {
   "cell_type": "code",
   "execution_count": 304,
   "metadata": {
    "scrolled": true
   },
   "outputs": [
    {
     "name": "stdout",
     "output_type": "stream",
     "text": [
      "pred : 0.10723541409582427 , max : 0.10723541409640991 , min : 0.07569612409703064\n",
      "scaling : 0.9999999999814313\n"
     ]
    }
   ],
   "source": [
    "       \n",
    "if lamb < lamb_0: # 일자별, 이런 경우가 있을수도 있어 - 마지막 구매부터 너무 너무 멀어지면!\n",
    "    lamb_0 = lamb\n",
    "pred = (1-stats.poisson.pmf(mu = lamb, k=0))\n",
    "max =  (1-stats.poisson.pmf(mu = lamb_1, k=0))  # max\n",
    "min =  (1-stats.poisson.pmf(mu = lamb_0, k=0))  # min\n",
    "scal = (pred - min)/(max - min)\n",
    "\n",
    "print('pred : {}'.format(pred), ', max : {}'.format(max), ', min : {}'.format(min))\n",
    "print('scaling : {}'.format(scal))"
   ]
  },
  {
   "cell_type": "markdown",
   "metadata": {},
   "source": [
    "- #### (3)주기가 '평균 - 1 주'"
   ]
  },
  {
   "cell_type": "code",
   "execution_count": 305,
   "metadata": {},
   "outputs": [],
   "source": [
    "# 주기가 평균 - 1 주\n",
    "\n",
    "k, t_purch, tmean_u, t_ ,alpha, beta = 1, 0, 5.122566039 , 5.12256603893284-1, 1.6348410016313837, 23.228302136357172"
   ]
  },
  {
   "cell_type": "code",
   "execution_count": 306,
   "metadata": {},
   "outputs": [],
   "source": [
    "# 함수로 출력되는게 많게했어! & unit time을 1주일로 변경.\n",
    "\n",
    "def func_lamb(t_purch, tmean_u, t_ , alpha, beta, k):\n",
    "    \n",
    "    lamb = ((k+alpha)/(t_purch+2*abs(tmean_u-t_)+beta))\n",
    "    lamb_0 = ((k+alpha)/(t_purch+2*abs(tmean_u)+beta))   # 최저값 : t=0  \n",
    "    lamb_1 = ((k+alpha)/(t_purch+beta))     #최고값 : |tmean-t|=0\n",
    "    \n",
    "    return lamb,lamb_0, lamb_1, t_, t_purch, tmean_u, k"
   ]
  },
  {
   "cell_type": "code",
   "execution_count": 307,
   "metadata": {},
   "outputs": [
    {
     "name": "stdout",
     "output_type": "stream",
     "text": [
      "0.10443988609999308 0.07871439138148746 0.11343235446844409\n"
     ]
    }
   ],
   "source": [
    "lamb, lamb_0, lamb_1, t_, t_purch, tmean_u, k = func_lamb(t_purch, tmean_u, t_ , alpha, beta, k)\n",
    "\n",
    "print(lamb, lamb_0, lamb_1)"
   ]
  },
  {
   "cell_type": "code",
   "execution_count": 308,
   "metadata": {
    "scrolled": false
   },
   "outputs": [
    {
     "name": "stdout",
     "output_type": "stream",
     "text": [
      "pred : 0.09917105187942776 , max : 0.10723541409640991 , min : 0.07569612409703064\n",
      "scaling : 0.7443074267955664\n"
     ]
    }
   ],
   "source": [
    "       \n",
    "if lamb < lamb_0: # 일자별, 이런 경우가 있을수도 있어 - 마지막 구매부터 너무 너무 멀어지면!\n",
    "    lamb_0 = lamb\n",
    "pred = (1-stats.poisson.pmf(mu = lamb, k=0))\n",
    "max =  (1-stats.poisson.pmf(mu = lamb_1, k=0))  # max\n",
    "min =  (1-stats.poisson.pmf(mu = lamb_0, k=0))  # min\n",
    "scal = (pred - min)/(max - min)\n",
    "\n",
    "print('pred : {}'.format(pred), ', max : {}'.format(max), ', min : {}'.format(min))\n",
    "print('scaling : {}'.format(scal))"
   ]
  },
  {
   "cell_type": "markdown",
   "metadata": {},
   "source": [
    "- #### (4)주기가 '평균 - 0.5 주'"
   ]
  },
  {
   "cell_type": "code",
   "execution_count": 309,
   "metadata": {},
   "outputs": [],
   "source": [
    "# 주기가 '평균 - 0.5 주'\n",
    "# mean :  5.12256603893284\n",
    "k, t_purch, tmean_u, t_ ,alpha, beta = 1, 0, 5.122566039 , 5.12256603893284-0.5, 1.6348410016313837, 23.228302136357172"
   ]
  },
  {
   "cell_type": "code",
   "execution_count": 310,
   "metadata": {},
   "outputs": [],
   "source": [
    "# 함수로 출력되는게 많게했어! & unit time을 1주일로 변경.\n",
    "\n",
    "def func_lamb(t_purch, tmean_u, t_ , alpha, beta, k):\n",
    "    \n",
    "    lamb = ((k+alpha)/(t_purch+2*abs(tmean_u-t_)+beta))\n",
    "    lamb_0 = ((k+alpha)/(t_purch+2*abs(tmean_u)+beta))   # 최저값 : t=0  \n",
    "    lamb_1 = ((k+alpha)/(t_purch+beta))     #최고값 : |tmean-t|=0\n",
    "    \n",
    "    return lamb,lamb_0, lamb_1, t_, t_purch, tmean_u, k"
   ]
  },
  {
   "cell_type": "code",
   "execution_count": 311,
   "metadata": {},
   "outputs": [
    {
     "name": "stdout",
     "output_type": "stream",
     "text": [
      "0.10875054251791395 0.07871439138148746 0.11343235446844409\n"
     ]
    }
   ],
   "source": [
    "lamb, lamb_0, lamb_1, t_, t_purch, tmean_u, k = func_lamb(t_purch, tmean_u, t_ , alpha, beta, k)\n",
    "\n",
    "print(lamb, lamb_0, lamb_1)"
   ]
  },
  {
   "cell_type": "code",
   "execution_count": 312,
   "metadata": {
    "scrolled": false
   },
   "outputs": [
    {
     "name": "stdout",
     "output_type": "stream",
     "text": [
      "pred : 0.10304585848605086 , max : 0.10723541409640991 , min : 0.07569612409703064\n",
      "scaling : 0.8671639212410455\n"
     ]
    }
   ],
   "source": [
    "       \n",
    "if lamb < lamb_0: # 일자별, 이런 경우가 있을수도 있어 - 마지막 구매부터 너무 너무 멀어지면!\n",
    "    lamb_0 = lamb\n",
    "pred = (1-stats.poisson.pmf(mu = lamb, k=0))\n",
    "max =  (1-stats.poisson.pmf(mu = lamb_1, k=0))  # max\n",
    "min =  (1-stats.poisson.pmf(mu = lamb_0, k=0))  # min\n",
    "scal = (pred - min)/(max - min)\n",
    "\n",
    "print('pred : {}'.format(pred), ', max : {}'.format(max), ', min : {}'.format(min))\n",
    "print('scaling : {}'.format(scal))"
   ]
  },
  {
   "cell_type": "markdown",
   "metadata": {},
   "source": [
    ": 딱 주기에서 1주일 정도만 노출되도록 보인다!"
   ]
  },
  {
   "cell_type": "code",
   "execution_count": null,
   "metadata": {},
   "outputs": [],
   "source": []
  },
  {
   "cell_type": "code",
   "execution_count": null,
   "metadata": {},
   "outputs": [],
   "source": []
  },
  {
   "cell_type": "markdown",
   "metadata": {},
   "source": [
    "## # Step3. k>3"
   ]
  },
  {
   "cell_type": "markdown",
   "metadata": {},
   "source": [
    "### # ver(2) 로 먼저"
   ]
  },
  {
   "cell_type": "code",
   "execution_count": 178,
   "metadata": {},
   "outputs": [
    {
     "data": {
      "text/plain": [
       "array([ 0,  5, 10])"
      ]
     },
     "execution_count": 178,
     "metadata": {},
     "output_type": "execute_result"
    }
   ],
   "source": [
    "time = np.arange(0,11,5);time"
   ]
  },
  {
   "cell_type": "markdown",
   "metadata": {},
   "source": [
    "* ####  (1)실장님 원래 주기 : 주기가 넘어갔을때"
   ]
  },
  {
   "cell_type": "code",
   "execution_count": 329,
   "metadata": {},
   "outputs": [],
   "source": [
    "# 실장님 원래 주기 : 주기가 넘어갔을때\n",
    "\n",
    "k, t_purch, tmean_u, t_ ,alpha, beta = 5, 30.0 , 6.0 , 13.14285714, 1.6348410016313837, 23.228302136357172"
   ]
  },
  {
   "cell_type": "code",
   "execution_count": 330,
   "metadata": {},
   "outputs": [],
   "source": [
    "# 함수로 출력되는게 많게했어! & unit time을 1주일로 변경.\n",
    "\n",
    "def func_lamb(t_purch, tmean_u, t_ , alpha, beta, k):\n",
    "\n",
    "    if t_purch == 0:  # t_purch가 0이라는 소리는, k=1이라는 소리겠지! 그러니깐 앞의 값이 0이 되게끔 한거야.\n",
    "        lamb = (alpha/(2*abs(tmean_u-t_)+beta))\n",
    "        lamb_0 = (alpha/(2*abs(tmean_u)+beta))   # 최저값 : t=0\n",
    "        lamb_1 = (alpha/+beta)     # 최고값 : |tmean-t|=0\n",
    "    else:\n",
    "        lamb = (k/t_purch+(alpha/(2*abs(tmean_u-t_)+beta)))\n",
    "        lamb_0 = (k/t_purch+(alpha/(2*abs(tmean_u)+beta)))   # 최저값 : t=0  \n",
    "        lamb_1 = (k/t_purch+(alpha/+beta))     #최고값 : |tmean-t|=0\n",
    "    return lamb,lamb_0, lamb_1, t_, t_purch, tmean_u, k"
   ]
  },
  {
   "cell_type": "code",
   "execution_count": 331,
   "metadata": {},
   "outputs": [
    {
     "name": "stdout",
     "output_type": "stream",
     "text": [
      "0.21024613796312178 0.21307370028706232 0.23704809153510395\n"
     ]
    }
   ],
   "source": [
    "lamb, lamb_0, lamb_1, t_, t_purch, tmean_u, k = func_lamb(t_purch, tmean_u, t_ , alpha, beta, k)\n",
    "\n",
    "print(lamb, lamb_0, lamb_1)"
   ]
  },
  {
   "cell_type": "code",
   "execution_count": 332,
   "metadata": {
    "scrolled": false
   },
   "outputs": [
    {
     "name": "stdout",
     "output_type": "stream",
     "text": [
      "pred : 0.18961524503289284 , max : 0.2110466548722415 , min : 0.18961524503289284\n",
      "scaling : 0.0\n"
     ]
    }
   ],
   "source": [
    "       \n",
    "if lamb < lamb_0: # 일자별, 이런 경우가 있을수도 있어 - 마지막 구매부터 너무 너무 멀어지면!\n",
    "    lamb_0 = lamb\n",
    "pred = (1-stats.poisson.pmf(mu = lamb, k=0))\n",
    "max =  (1-stats.poisson.pmf(mu = lamb_1, k=0))  # max\n",
    "min =  (1-stats.poisson.pmf(mu = lamb_0, k=0))  # min\n",
    "scal = (pred - min)/(max - min)\n",
    "\n",
    "print('pred : {}'.format(pred), ', max : {}'.format(max), ', min : {}'.format(min))\n",
    "print('scaling : {}'.format(scal))"
   ]
  },
  {
   "cell_type": "markdown",
   "metadata": {},
   "source": [
    "---"
   ]
  },
  {
   "cell_type": "markdown",
   "metadata": {},
   "source": [
    "- #### (2)주기가 평균일때"
   ]
  },
  {
   "cell_type": "code",
   "execution_count": 333,
   "metadata": {},
   "outputs": [],
   "source": [
    "# 주기가 평균일때\n",
    "\n",
    "k, t_purch, tmean_u, t_ ,alpha, beta = 5, 30.0 , 6.0 , 6.0, 1.6348410016313837, 23.228302136357172"
   ]
  },
  {
   "cell_type": "code",
   "execution_count": 334,
   "metadata": {},
   "outputs": [],
   "source": [
    "# 함수로 출력되는게 많게했어! & unit time을 1주일로 변경.\n",
    "\n",
    "def func_lamb(t_purch, tmean_u, t_ , alpha, beta, k):\n",
    "\n",
    "    if t_purch == 0:  # t_purch가 0이라는 소리는, k=1이라는 소리겠지! 그러니깐 앞의 값이 0이 되게끔 한거야.\n",
    "        lamb = (alpha/(2*abs(tmean_u-t_)+beta))\n",
    "        lamb_0 = (alpha/(2*abs(tmean_u)+beta))   # 최저값 : t=0\n",
    "        lamb_1 = (alpha/+beta)     # 최고값 : |tmean-t|=0\n",
    "    else:\n",
    "        lamb = (k/t_purch+(alpha/(2*abs(tmean_u-t_)+beta)))\n",
    "        lamb_0 = (k/t_purch+(alpha/(2*abs(tmean_u)+beta)))   # 최저값 : t=0  \n",
    "        lamb_1 = (k/t_purch+(alpha/+beta))     #최고값 : |tmean-t|=0\n",
    "    return lamb,lamb_0, lamb_1, t_, t_purch, tmean_u, k"
   ]
  },
  {
   "cell_type": "code",
   "execution_count": 335,
   "metadata": {},
   "outputs": [
    {
     "name": "stdout",
     "output_type": "stream",
     "text": [
      "0.23704809153510395 0.21307370028706232 0.23704809153510395\n"
     ]
    }
   ],
   "source": [
    "lamb, lamb_0, lamb_1, t_, t_purch, tmean_u, k = func_lamb(t_purch, tmean_u, t_ , alpha, beta, k)\n",
    "\n",
    "print(lamb, lamb_0, lamb_1)"
   ]
  },
  {
   "cell_type": "code",
   "execution_count": 336,
   "metadata": {
    "scrolled": false
   },
   "outputs": [
    {
     "name": "stdout",
     "output_type": "stream",
     "text": [
      "pred : 0.2110466548722415 , max : 0.2110466548722415 , min : 0.19190342192802567\n",
      "scaling : 1.0\n"
     ]
    }
   ],
   "source": [
    "       \n",
    "if lamb < lamb_0: # 일자별, 이런 경우가 있을수도 있어 - 마지막 구매부터 너무 너무 멀어지면!\n",
    "    lamb_0 = lamb\n",
    "pred = (1-stats.poisson.pmf(mu = lamb, k=0))\n",
    "max =  (1-stats.poisson.pmf(mu = lamb_1, k=0))  # max\n",
    "min =  (1-stats.poisson.pmf(mu = lamb_0, k=0))  # min\n",
    "scal = (pred - min)/(max - min)\n",
    "\n",
    "print('pred : {}'.format(pred), ', max : {}'.format(max), ', min : {}'.format(min))\n",
    "print('scaling : {}'.format(scal))"
   ]
  },
  {
   "cell_type": "markdown",
   "metadata": {},
   "source": [
    "---"
   ]
  },
  {
   "cell_type": "markdown",
   "metadata": {},
   "source": [
    "- #### (3)주기가 평균 - 1 주"
   ]
  },
  {
   "cell_type": "code",
   "execution_count": 337,
   "metadata": {},
   "outputs": [],
   "source": [
    "# 주기가 평균 - 1.5 주\n",
    "\n",
    "k, t_purch, tmean_u, t_ ,alpha, beta = 5, 30.0 , 6.0 , 6.0-1 , 1.6348410016313837, 23.228302136357172"
   ]
  },
  {
   "cell_type": "code",
   "execution_count": 338,
   "metadata": {},
   "outputs": [],
   "source": [
    "# 함수로 출력되는게 많게했어! & unit time을 1주일로 변경.\n",
    "\n",
    "def func_lamb(t_purch, tmean_u, t_ , alpha, beta, k):\n",
    "\n",
    "    if t_purch == 0:  # t_purch가 0이라는 소리는, k=1이라는 소리겠지! 그러니깐 앞의 값이 0이 되게끔 한거야.\n",
    "        lamb = (alpha/(2*abs(tmean_u-t_)+beta))\n",
    "        lamb_0 = (alpha/(2*abs(tmean_u)+beta))   # 최저값 : t=0\n",
    "        lamb_1 = (alpha/+beta)     # 최고값 : |tmean-t|=0\n",
    "    else:\n",
    "        lamb = (k/t_purch+(alpha/(2*abs(tmean_u-t_)+beta)))\n",
    "        lamb_0 = (k/t_purch+(alpha/(2*abs(tmean_u)+beta)))   # 최저값 : t=0  \n",
    "        lamb_1 = (k/t_purch+(alpha/+beta))     #최고값 : |tmean-t|=0\n",
    "    return lamb,lamb_0, lamb_1, t_, t_purch, tmean_u, k"
   ]
  },
  {
   "cell_type": "code",
   "execution_count": 339,
   "metadata": {},
   "outputs": [
    {
     "name": "stdout",
     "output_type": "stream",
     "text": [
      "0.2314685305731311 0.21307370028706232 0.23704809153510395\n"
     ]
    }
   ],
   "source": [
    "lamb, lamb_0, lamb_1, t_, t_purch, tmean_u, k = func_lamb(t_purch, tmean_u, t_ , alpha, beta, k)\n",
    "\n",
    "print(lamb, lamb_0, lamb_1)"
   ]
  },
  {
   "cell_type": "code",
   "execution_count": 340,
   "metadata": {
    "scrolled": true
   },
   "outputs": [
    {
     "name": "stdout",
     "output_type": "stream",
     "text": [
      "pred : 0.20663233806410009 , max : 0.2110466548722415 , min : 0.19190342192802567\n",
      "scaling : 0.7694058876572772\n"
     ]
    }
   ],
   "source": [
    "       \n",
    "if lamb < lamb_0: # 일자별, 이런 경우가 있을수도 있어 - 마지막 구매부터 너무 너무 멀어지면!\n",
    "    lamb_0 = lamb\n",
    "pred = (1-stats.poisson.pmf(mu = lamb, k=0))\n",
    "max =  (1-stats.poisson.pmf(mu = lamb_1, k=0))  # max\n",
    "min =  (1-stats.poisson.pmf(mu = lamb_0, k=0))  # min\n",
    "scal = (pred - min)/(max - min)\n",
    "\n",
    "print('pred : {}'.format(pred), ', max : {}'.format(max), ', min : {}'.format(min))\n",
    "print('scaling : {}'.format(scal))"
   ]
  },
  {
   "cell_type": "markdown",
   "metadata": {},
   "source": [
    "- #### (4)주기가 평균-0.5 주"
   ]
  },
  {
   "cell_type": "code",
   "execution_count": 341,
   "metadata": {},
   "outputs": [],
   "source": [
    "# 주기가 평균 - .5 주\n",
    "\n",
    "k, t_purch, tmean_u, t_ ,alpha, beta = 5, 30.0 , 6.0 , 6.0-0.5 , 1.6348410016313837, 23.228302136357172"
   ]
  },
  {
   "cell_type": "code",
   "execution_count": 342,
   "metadata": {},
   "outputs": [],
   "source": [
    "# 함수로 출력되는게 많게했어! & unit time을 1주일로 변경.\n",
    "\n",
    "def func_lamb(t_purch, tmean_u, t_ , alpha, beta, k):\n",
    "\n",
    "    if t_purch == 0:  # t_purch가 0이라는 소리는, k=1이라는 소리겠지! 그러니깐 앞의 값이 0이 되게끔 한거야.\n",
    "        lamb = (alpha/(2*abs(tmean_u-t_)+beta))\n",
    "        lamb_0 = (alpha/(2*abs(tmean_u)+beta))   # 최저값 : t=0\n",
    "        lamb_1 = (alpha/+beta)     # 최고값 : |tmean-t|=0\n",
    "    else:\n",
    "        lamb = (k/t_purch+(alpha/(2*abs(tmean_u-t_)+beta)))\n",
    "        lamb_0 = (k/t_purch+(alpha/(2*abs(tmean_u)+beta)))   # 최저값 : t=0  \n",
    "        lamb_1 = (k/t_purch+(alpha/+beta))     #최고값 : |tmean-t|=0\n",
    "    return lamb,lamb_0, lamb_1, t_, t_purch, tmean_u, k"
   ]
  },
  {
   "cell_type": "code",
   "execution_count": 343,
   "metadata": {},
   "outputs": [
    {
     "name": "stdout",
     "output_type": "stream",
     "text": [
      "0.23414316553276462 0.21307370028706232 0.23704809153510395\n"
     ]
    }
   ],
   "source": [
    "lamb, lamb_0, lamb_1, t_, t_purch, tmean_u, k = func_lamb(t_purch, tmean_u, t_ , alpha, beta, k)\n",
    "\n",
    "print(lamb, lamb_0, lamb_1)"
   ]
  },
  {
   "cell_type": "code",
   "execution_count": 344,
   "metadata": {
    "scrolled": false
   },
   "outputs": [
    {
     "name": "stdout",
     "output_type": "stream",
     "text": [
      "pred : 0.20875147173076325 , max : 0.2110466548722415 , min : 0.19190342192802567\n",
      "scaling : 0.8801047269201335\n"
     ]
    }
   ],
   "source": [
    "       \n",
    "if lamb < lamb_0: # 일자별, 이런 경우가 있을수도 있어 - 마지막 구매부터 너무 너무 멀어지면!\n",
    "    lamb_0 = lamb\n",
    "pred = (1-stats.poisson.pmf(mu = lamb, k=0))\n",
    "max =  (1-stats.poisson.pmf(mu = lamb_1, k=0))  # max\n",
    "min =  (1-stats.poisson.pmf(mu = lamb_0, k=0))  # min\n",
    "scal = (pred - min)/(max - min)\n",
    "\n",
    "print('pred : {}'.format(pred), ', max : {}'.format(max), ', min : {}'.format(min))\n",
    "print('scaling : {}'.format(scal))"
   ]
  },
  {
   "cell_type": "markdown",
   "metadata": {},
   "source": [
    "---"
   ]
  },
  {
   "cell_type": "markdown",
   "metadata": {},
   "source": [
    "### #ver(1)으로"
   ]
  },
  {
   "cell_type": "markdown",
   "metadata": {},
   "source": [
    "* ####  (1)실장님 원래 주기 : 주기가 넘어갔을때"
   ]
  },
  {
   "cell_type": "code",
   "execution_count": 345,
   "metadata": {},
   "outputs": [],
   "source": [
    "# 실장님 원래 주기 : 주기가 넘어갔을때\n",
    "\n",
    "k, t_purch, tmean_u, t_ ,alpha, beta = 5, 30.0 , 6.0 , 13.14285714, 0.991580757, 1.804783562"
   ]
  },
  {
   "cell_type": "code",
   "execution_count": 346,
   "metadata": {},
   "outputs": [],
   "source": [
    "# 함수로 출력되는게 많게했어! & unit time을 1주일로 변경.\n",
    "\n",
    "def func_lamb(t_purch, tmean_u, t_ , alpha, beta, k):\n",
    "\n",
    "    if t_purch == 0:  # t_purch가 0이라는 소리는, k=1이라는 소리겠지! 그러니깐 앞의 값이 0이 되게끔 한거야.\n",
    "        lamb = (alpha/(2*abs(tmean_u-t_)+beta))\n",
    "        lamb_0 = (alpha/(2*abs(tmean_u)+beta))   # 최저값 : t=0\n",
    "        lamb_1 = (alpha/+beta)     # 최고값 : |tmean-t|=0\n",
    "    else:\n",
    "        lamb = (k/t_purch+(alpha/(2*abs(tmean_u-t_)+beta)))\n",
    "        lamb_0 = (k/t_purch+(alpha/(2*abs(tmean_u)+beta)))   # 최저값 : t=0  \n",
    "        lamb_1 = (k/t_purch+(alpha/+beta))     #최고값 : |tmean-t|=0\n",
    "    return lamb,lamb_0, lamb_1, t_, t_purch, tmean_u, k"
   ]
  },
  {
   "cell_type": "code",
   "execution_count": 347,
   "metadata": {},
   "outputs": [
    {
     "name": "stdout",
     "output_type": "stream",
     "text": [
      "0.22829190453915435 0.23849544634630565 0.7160847674727067\n"
     ]
    }
   ],
   "source": [
    "lamb, lamb_0, lamb_1, t_, t_purch, tmean_u, k = func_lamb(t_purch, tmean_u, t_ , alpha, beta, k)\n",
    "\n",
    "print(lamb, lamb_0, lamb_1)"
   ]
  },
  {
   "cell_type": "code",
   "execution_count": 348,
   "metadata": {
    "scrolled": false
   },
   "outputs": [
    {
     "name": "stdout",
     "output_type": "stream",
     "text": [
      "pred : 0.2041080985348417 , max : 0.5113382601773088 , min : 0.2041080985348417\n",
      "scaling : 0.0\n"
     ]
    }
   ],
   "source": [
    "       \n",
    "if lamb < lamb_0: # 일자별, 이런 경우가 있을수도 있어 - 마지막 구매부터 너무 너무 멀어지면!\n",
    "    lamb_0 = lamb\n",
    "pred = (1-stats.poisson.pmf(mu = lamb, k=0))\n",
    "max =  (1-stats.poisson.pmf(mu = lamb_1, k=0))  # max\n",
    "min =  (1-stats.poisson.pmf(mu = lamb_0, k=0))  # min\n",
    "scal = (pred - min)/(max - min)\n",
    "\n",
    "print('pred : {}'.format(pred), ', max : {}'.format(max), ', min : {}'.format(min))\n",
    "print('scaling : {}'.format(scal))"
   ]
  },
  {
   "cell_type": "markdown",
   "metadata": {},
   "source": [
    ": 일단, lambda의 값이 작기때문에, lambda 범위가 너무 좁아!!"
   ]
  },
  {
   "cell_type": "markdown",
   "metadata": {},
   "source": [
    "---"
   ]
  },
  {
   "cell_type": "markdown",
   "metadata": {},
   "source": [
    "- #### (2)주기가 평균일때"
   ]
  },
  {
   "cell_type": "code",
   "execution_count": 349,
   "metadata": {},
   "outputs": [],
   "source": [
    "# 주기가 평균일때\n",
    "\n",
    "k, t_purch, tmean_u, t_ ,alpha, beta = 5, 30.0 , 6.0 , 6.0, 0.991580757, 1.804783562"
   ]
  },
  {
   "cell_type": "code",
   "execution_count": 350,
   "metadata": {},
   "outputs": [],
   "source": [
    "# 함수로 출력되는게 많게했어! & unit time을 1주일로 변경.\n",
    "\n",
    "def func_lamb(t_purch, tmean_u, t_ , alpha, beta, k):\n",
    "\n",
    "    if t_purch == 0:  # t_purch가 0이라는 소리는, k=1이라는 소리겠지! 그러니깐 앞의 값이 0이 되게끔 한거야.\n",
    "        lamb = (alpha/(2*abs(tmean_u-t_)+beta))\n",
    "        lamb_0 = (alpha/(2*abs(tmean_u)+beta))   # 최저값 : t=0\n",
    "        lamb_1 = (alpha/+beta)     # 최고값 : |tmean-t|=0\n",
    "    else:\n",
    "        lamb = (k/t_purch+(alpha/(2*abs(tmean_u-t_)+beta)))\n",
    "        lamb_0 = (k/t_purch+(alpha/(2*abs(tmean_u)+beta)))   # 최저값 : t=0  \n",
    "        lamb_1 = (k/t_purch+(alpha/+beta))     #최고값 : |tmean-t|=0\n",
    "    return lamb,lamb_0, lamb_1, t_, t_purch, tmean_u, k"
   ]
  },
  {
   "cell_type": "code",
   "execution_count": 351,
   "metadata": {},
   "outputs": [
    {
     "name": "stdout",
     "output_type": "stream",
     "text": [
      "0.7160847674727067 0.23849544634630565 0.7160847674727067\n"
     ]
    }
   ],
   "source": [
    "lamb, lamb_0, lamb_1, t_, t_purch, tmean_u, k = func_lamb(t_purch, tmean_u, t_ , alpha, beta, k)\n",
    "\n",
    "print(lamb, lamb_0, lamb_1)"
   ]
  },
  {
   "cell_type": "code",
   "execution_count": 352,
   "metadata": {
    "scrolled": false
   },
   "outputs": [
    {
     "name": "stdout",
     "output_type": "stream",
     "text": [
      "pred : 0.5113382601773088 , max : 0.5113382601773088 , min : 0.21218772432674726\n",
      "scaling : 1.0\n"
     ]
    }
   ],
   "source": [
    "       \n",
    "if lamb < lamb_0: # 일자별, 이런 경우가 있을수도 있어 - 마지막 구매부터 너무 너무 멀어지면!\n",
    "    lamb_0 = lamb\n",
    "pred = (1-stats.poisson.pmf(mu = lamb, k=0))\n",
    "max =  (1-stats.poisson.pmf(mu = lamb_1, k=0))  # max\n",
    "min =  (1-stats.poisson.pmf(mu = lamb_0, k=0))  # min\n",
    "scal = (pred - min)/(max - min)\n",
    "\n",
    "print('pred : {}'.format(pred), ', max : {}'.format(max), ', min : {}'.format(min))\n",
    "print('scaling : {}'.format(scal))"
   ]
  },
  {
   "cell_type": "markdown",
   "metadata": {},
   "source": [
    "---"
   ]
  },
  {
   "cell_type": "markdown",
   "metadata": {},
   "source": [
    "- #### (3)주기가 '평균 - 1 주'"
   ]
  },
  {
   "cell_type": "code",
   "execution_count": 353,
   "metadata": {},
   "outputs": [],
   "source": [
    "# 주기가 평균 - 1 주\n",
    "\n",
    "k, t_purch, tmean_u, t_ ,alpha, beta = 5, 30.0 , 6.0 , 6.0-1 , 0.991580757, 1.804783562"
   ]
  },
  {
   "cell_type": "code",
   "execution_count": 354,
   "metadata": {},
   "outputs": [],
   "source": [
    "# 함수로 출력되는게 많게했어! & unit time을 1주일로 변경.\n",
    "\n",
    "def func_lamb(t_purch, tmean_u, t_ , alpha, beta, k):\n",
    "\n",
    "    if t_purch == 0:  # t_purch가 0이라는 소리는, k=1이라는 소리겠지! 그러니깐 앞의 값이 0이 되게끔 한거야.\n",
    "        lamb = (alpha/(2*abs(tmean_u-t_)+beta))\n",
    "        lamb_0 = (alpha/(2*abs(tmean_u)+beta))   # 최저값 : t=0\n",
    "        lamb_1 = (alpha/+beta)     # 최고값 : |tmean-t|=0\n",
    "    else:\n",
    "        lamb = (k/t_purch+(alpha/(2*abs(tmean_u-t_)+beta)))\n",
    "        lamb_0 = (k/t_purch+(alpha/(2*abs(tmean_u)+beta)))   # 최저값 : t=0  \n",
    "        lamb_1 = (k/t_purch+(alpha/+beta))     #최고값 : |tmean-t|=0\n",
    "    return lamb,lamb_0, lamb_1, t_, t_purch, tmean_u, k"
   ]
  },
  {
   "cell_type": "code",
   "execution_count": 355,
   "metadata": {},
   "outputs": [
    {
     "name": "stdout",
     "output_type": "stream",
     "text": [
      "0.4272809015743605 0.23849544634630565 0.7160847674727067\n"
     ]
    }
   ],
   "source": [
    "lamb, lamb_0, lamb_1, t_, t_purch, tmean_u, k = func_lamb(t_purch, tmean_u, t_ , alpha, beta, k)\n",
    "\n",
    "print(lamb, lamb_0, lamb_1)"
   ]
  },
  {
   "cell_type": "code",
   "execution_count": 356,
   "metadata": {
    "scrolled": false
   },
   "outputs": [
    {
     "name": "stdout",
     "output_type": "stream",
     "text": [
      "pred : 0.3477197000719985 , max : 0.5113382601773088 , min : 0.21218772432674726\n",
      "scaling : 0.45305610220586484\n"
     ]
    }
   ],
   "source": [
    "       \n",
    "if lamb < lamb_0: # 일자별, 이런 경우가 있을수도 있어 - 마지막 구매부터 너무 너무 멀어지면!\n",
    "    lamb_0 = lamb\n",
    "pred = (1-stats.poisson.pmf(mu = lamb, k=0))\n",
    "max =  (1-stats.poisson.pmf(mu = lamb_1, k=0))  # max\n",
    "min =  (1-stats.poisson.pmf(mu = lamb_0, k=0))  # min\n",
    "scal = (pred - min)/(max - min)\n",
    "\n",
    "print('pred : {}'.format(pred), ', max : {}'.format(max), ', min : {}'.format(min))\n",
    "print('scaling : {}'.format(scal))"
   ]
  },
  {
   "cell_type": "markdown",
   "metadata": {},
   "source": [
    "---"
   ]
  },
  {
   "cell_type": "markdown",
   "metadata": {},
   "source": [
    "- #### (4)주기가 '평균 - 0.5 주'"
   ]
  },
  {
   "cell_type": "code",
   "execution_count": 357,
   "metadata": {},
   "outputs": [],
   "source": [
    "# 주기가 '평균 - 0.5 주'\n",
    "# mean :  5.12256603893284\n",
    "\n",
    "k, t_purch, tmean_u, t_ ,alpha, beta = 5, 30.0 , 6.0 , 6.0-0.5 , 0.991580757, 1.804783562"
   ]
  },
  {
   "cell_type": "code",
   "execution_count": 358,
   "metadata": {},
   "outputs": [],
   "source": [
    "# 함수로 출력되는게 많게했어! & unit time을 1주일로 변경.\n",
    "\n",
    "def func_lamb(t_purch, tmean_u, t_ , alpha, beta, k):\n",
    "\n",
    "    if t_purch == 0:  # t_purch가 0이라는 소리는, k=1이라는 소리겠지! 그러니깐 앞의 값이 0이 되게끔 한거야.\n",
    "        lamb = (alpha/(2*abs(tmean_u-t_)+beta))\n",
    "        lamb_0 = (alpha/(2*abs(tmean_u)+beta))   # 최저값 : t=0\n",
    "        lamb_1 = (alpha/+beta)     # 최고값 : |tmean-t|=0\n",
    "    else:\n",
    "        lamb = (k/t_purch+(alpha/(2*abs(tmean_u-t_)+beta)))\n",
    "        lamb_0 = (k/t_purch+(alpha/(2*abs(tmean_u)+beta)))   # 최저값 : t=0  \n",
    "        lamb_1 = (k/t_purch+(alpha/+beta))     #최고값 : |tmean-t|=0\n",
    "    return lamb,lamb_0, lamb_1, t_, t_purch, tmean_u, k"
   ]
  },
  {
   "cell_type": "code",
   "execution_count": 359,
   "metadata": {},
   "outputs": [
    {
     "name": "stdout",
     "output_type": "stream",
     "text": [
      "0.520198671928754 0.23849544634630565 0.7160847674727067\n"
     ]
    }
   ],
   "source": [
    "lamb, lamb_0, lamb_1, t_, t_purch, tmean_u, k = func_lamb(t_purch, tmean_u, t_ , alpha, beta, k)\n",
    "\n",
    "print(lamb, lamb_0, lamb_1)"
   ]
  },
  {
   "cell_type": "code",
   "execution_count": 360,
   "metadata": {
    "scrolled": false
   },
   "outputs": [
    {
     "name": "stdout",
     "output_type": "stream",
     "text": [
      "pred : 0.4055975548415096 , max : 0.5113382601773088 , min : 0.21218772432674726\n",
      "scaling : 0.6465301155648902\n"
     ]
    }
   ],
   "source": [
    "       \n",
    "if lamb < lamb_0: # 일자별, 이런 경우가 있을수도 있어 - 마지막 구매부터 너무 너무 멀어지면!\n",
    "    lamb_0 = lamb\n",
    "pred = (1-stats.poisson.pmf(mu = lamb, k=0))\n",
    "max =  (1-stats.poisson.pmf(mu = lamb_1, k=0))  # max\n",
    "min =  (1-stats.poisson.pmf(mu = lamb_0, k=0))  # min\n",
    "scal = (pred - min)/(max - min)\n",
    "\n",
    "print('pred : {}'.format(pred), ', max : {}'.format(max), ', min : {}'.format(min))\n",
    "print('scaling : {}'.format(scal))"
   ]
  },
  {
   "cell_type": "markdown",
   "metadata": {},
   "source": [
    ": 딱 주기에서 1주일 정도만 노출되도록 보인다!"
   ]
  },
  {
   "cell_type": "code",
   "execution_count": null,
   "metadata": {},
   "outputs": [],
   "source": []
  },
  {
   "cell_type": "markdown",
   "metadata": {},
   "source": [
    "## # Step2-1. 논문 수식"
   ]
  },
  {
   "cell_type": "markdown",
   "metadata": {},
   "source": [
    "#### ver1.\n",
    "- #### (1)실장님 원래 주기"
   ]
  },
  {
   "cell_type": "code",
   "execution_count": 361,
   "metadata": {},
   "outputs": [],
   "source": [
    "# 주기가 '평균 - 0.5 주'\n",
    "# mean :  5.12256603893284\n",
    "\n",
    "k, t_purch, tmean_u, t_ ,alpha, beta = 5, 30.0 , 6.0 ,  13.14285714, 0.991580757, 1.804783562"
   ]
  },
  {
   "cell_type": "code",
   "execution_count": 362,
   "metadata": {},
   "outputs": [],
   "source": [
    "# 함수로 출력되는게 많게했어! & unit time을 1주일로 변경.\n",
    "\n",
    "def func_lamb(t_purch, tmean_u, t_ , alpha, beta, k):\n",
    "    \n",
    "    lamb = ((k+alpha)/(t_purch+2*abs(tmean_u-t_)+beta))\n",
    "    lamb_0 = ((k+alpha)/(t_purch+2*abs(tmean_u)+beta))   # 최저값 : t=0  \n",
    "    lamb_1 = ((k+alpha)/(t_purch+beta))     #최고값 : |tmean-t|=0\n",
    "    \n",
    "    return lamb,lamb_0, lamb_1, t_, t_purch, tmean_u, k"
   ]
  },
  {
   "cell_type": "code",
   "execution_count": 363,
   "metadata": {},
   "outputs": [
    {
     "name": "stdout",
     "output_type": "stream",
     "text": [
      "0.1299960086684108 0.13677914304769237 0.18838615094864766\n"
     ]
    }
   ],
   "source": [
    "lamb, lamb_0, lamb_1, t_, t_purch, tmean_u, k = func_lamb(t_purch, tmean_u, t_ , alpha, beta, k)\n",
    "\n",
    "print(lamb, lamb_0, lamb_1)"
   ]
  },
  {
   "cell_type": "code",
   "execution_count": 364,
   "metadata": {
    "scrolled": false
   },
   "outputs": [
    {
     "name": "stdout",
     "output_type": "stream",
     "text": [
      "pred : 0.12190106430241254 , max : 0.17170520135210376 , min : 0.12190106430241254\n",
      "scaling : 0.0\n"
     ]
    }
   ],
   "source": [
    "       \n",
    "if lamb < lamb_0: # 일자별, 이런 경우가 있을수도 있어 - 마지막 구매부터 너무 너무 멀어지면!\n",
    "    lamb_0 = lamb\n",
    "pred = (1-stats.poisson.pmf(mu = lamb, k=0))\n",
    "max =  (1-stats.poisson.pmf(mu = lamb_1, k=0))  # max\n",
    "min =  (1-stats.poisson.pmf(mu = lamb_0, k=0))  # min\n",
    "scal = (pred - min)/(max - min)\n",
    "\n",
    "print('pred : {}'.format(pred), ', max : {}'.format(max), ', min : {}'.format(min))\n",
    "print('scaling : {}'.format(scal))"
   ]
  },
  {
   "cell_type": "markdown",
   "metadata": {},
   "source": [
    "---"
   ]
  },
  {
   "cell_type": "markdown",
   "metadata": {},
   "source": [
    "- #### (2)주기가 평균일때"
   ]
  },
  {
   "cell_type": "code",
   "execution_count": 365,
   "metadata": {},
   "outputs": [],
   "source": [
    "# 주기가 평균일때\n",
    "\n",
    "k, t_purch, tmean_u, t_ ,alpha, beta = 5, 30.0 , 6.0 ,  6.0 , 0.991580757, 1.804783562"
   ]
  },
  {
   "cell_type": "code",
   "execution_count": 366,
   "metadata": {},
   "outputs": [],
   "source": [
    "# 함수로 출력되는게 많게했어! & unit time을 1주일로 변경.\n",
    "\n",
    "def func_lamb(t_purch, tmean_u, t_ , alpha, beta, k):\n",
    "    \n",
    "    lamb = ((k+alpha)/(t_purch+2*abs(tmean_u-t_)+beta))\n",
    "    lamb_0 = ((k+alpha)/(t_purch+2*abs(tmean_u)+beta))   # 최저값 : t=0  \n",
    "    lamb_1 = ((k+alpha)/(t_purch+beta))     #최고값 : |tmean-t|=0\n",
    "    \n",
    "    return lamb,lamb_0, lamb_1, t_, t_purch, tmean_u, k"
   ]
  },
  {
   "cell_type": "code",
   "execution_count": 367,
   "metadata": {},
   "outputs": [
    {
     "name": "stdout",
     "output_type": "stream",
     "text": [
      "0.18838615094864766 0.13677914304769237 0.18838615094864766\n"
     ]
    }
   ],
   "source": [
    "lamb, lamb_0, lamb_1, t_, t_purch, tmean_u, k = func_lamb(t_purch, tmean_u, t_ , alpha, beta, k)\n",
    "\n",
    "print(lamb, lamb_0, lamb_1)"
   ]
  },
  {
   "cell_type": "code",
   "execution_count": 368,
   "metadata": {
    "scrolled": true
   },
   "outputs": [
    {
     "name": "stdout",
     "output_type": "stream",
     "text": [
      "pred : 0.17170520135210376 , max : 0.17170520135210376 , min : 0.12783717191328658\n",
      "scaling : 1.0\n"
     ]
    }
   ],
   "source": [
    "       \n",
    "if lamb < lamb_0: # 일자별, 이런 경우가 있을수도 있어 - 마지막 구매부터 너무 너무 멀어지면!\n",
    "    lamb_0 = lamb\n",
    "pred = (1-stats.poisson.pmf(mu = lamb, k=0))\n",
    "max =  (1-stats.poisson.pmf(mu = lamb_1, k=0))  # max\n",
    "min =  (1-stats.poisson.pmf(mu = lamb_0, k=0))  # min\n",
    "scal = (pred - min)/(max - min)\n",
    "\n",
    "print('pred : {}'.format(pred), ', max : {}'.format(max), ', min : {}'.format(min))\n",
    "print('scaling : {}'.format(scal))"
   ]
  },
  {
   "cell_type": "markdown",
   "metadata": {},
   "source": [
    "- #### (3)주기가 '평균 - 1 주'"
   ]
  },
  {
   "cell_type": "code",
   "execution_count": 369,
   "metadata": {},
   "outputs": [],
   "source": [
    "# 주기가 평균 - 1 주\n",
    "\n",
    "k, t_purch, tmean_u, t_ ,alpha, beta = 5, 30.0 , 6.0 ,  6.0-1 , 0.991580757, 1.804783562"
   ]
  },
  {
   "cell_type": "code",
   "execution_count": 370,
   "metadata": {},
   "outputs": [],
   "source": [
    "# 함수로 출력되는게 많게했어! & unit time을 1주일로 변경.\n",
    "\n",
    "def func_lamb(t_purch, tmean_u, t_ , alpha, beta, k):\n",
    "    \n",
    "    lamb = ((k+alpha)/(t_purch+2*abs(tmean_u-t_)+beta))\n",
    "    lamb_0 = ((k+alpha)/(t_purch+2*abs(tmean_u)+beta))   # 최저값 : t=0  \n",
    "    lamb_1 = ((k+alpha)/(t_purch+beta))     #최고값 : |tmean-t|=0\n",
    "    \n",
    "    return lamb,lamb_0, lamb_1, t_, t_purch, tmean_u, k"
   ]
  },
  {
   "cell_type": "code",
   "execution_count": 371,
   "metadata": {},
   "outputs": [
    {
     "name": "stdout",
     "output_type": "stream",
     "text": [
      "0.17724061880210185 0.13677914304769237 0.18838615094864766\n"
     ]
    }
   ],
   "source": [
    "lamb, lamb_0, lamb_1, t_, t_purch, tmean_u, k = func_lamb(t_purch, tmean_u, t_ , alpha, beta, k)\n",
    "\n",
    "print(lamb, lamb_0, lamb_1)"
   ]
  },
  {
   "cell_type": "code",
   "execution_count": 372,
   "metadata": {
    "scrolled": false
   },
   "outputs": [
    {
     "name": "stdout",
     "output_type": "stream",
     "text": [
      "pred : 0.16242177679448933 , max : 0.17170520135210376 , min : 0.12783717191328658\n",
      "scaling : 0.7883783548891329\n"
     ]
    }
   ],
   "source": [
    "       \n",
    "if lamb < lamb_0: # 일자별, 이런 경우가 있을수도 있어 - 마지막 구매부터 너무 너무 멀어지면!\n",
    "    lamb_0 = lamb\n",
    "pred = (1-stats.poisson.pmf(mu = lamb, k=0))\n",
    "max =  (1-stats.poisson.pmf(mu = lamb_1, k=0))  # max\n",
    "min =  (1-stats.poisson.pmf(mu = lamb_0, k=0))  # min\n",
    "scal = (pred - min)/(max - min)\n",
    "\n",
    "print('pred : {}'.format(pred), ', max : {}'.format(max), ', min : {}'.format(min))\n",
    "print('scaling : {}'.format(scal))"
   ]
  },
  {
   "cell_type": "markdown",
   "metadata": {},
   "source": [
    "- #### (4)주기가 '평균 - 0.5 주'"
   ]
  },
  {
   "cell_type": "code",
   "execution_count": 385,
   "metadata": {},
   "outputs": [],
   "source": [
    "# 주기가 '평균 - 0.5 주'\n",
    "# mean :  5.12256603893284\n",
    "\n",
    "k, t_purch, tmean_u, t_ ,alpha, beta = 5, 30.0 , 6.0 ,  6-0.5 , 0.991580757, 1.804783562"
   ]
  },
  {
   "cell_type": "code",
   "execution_count": 386,
   "metadata": {},
   "outputs": [],
   "source": [
    "# 함수로 출력되는게 많게했어! & unit time을 1주일로 변경.\n",
    "\n",
    "def func_lamb(t_purch, tmean_u, t_ , alpha, beta, k):\n",
    "    \n",
    "    lamb = ((k+alpha)/(t_purch+2*abs(tmean_u-t_)+beta))\n",
    "    lamb_0 = ((k+alpha)/(t_purch+2*abs(tmean_u)+beta))   # 최저값 : t=0  \n",
    "    lamb_1 = ((k+alpha)/(t_purch+beta))     #최고값 : |tmean-t|=0\n",
    "    \n",
    "    return lamb,lamb_0, lamb_1, t_, t_purch, tmean_u, k"
   ]
  },
  {
   "cell_type": "code",
   "execution_count": 387,
   "metadata": {},
   "outputs": [
    {
     "name": "stdout",
     "output_type": "stream",
     "text": [
      "0.1826435082455613 0.13677914304769237 0.18838615094864766\n"
     ]
    }
   ],
   "source": [
    "lamb, lamb_0, lamb_1, t_, t_purch, tmean_u, k = func_lamb(t_purch, tmean_u, t_ , alpha, beta, k)\n",
    "\n",
    "print(lamb, lamb_0, lamb_1)"
   ]
  },
  {
   "cell_type": "code",
   "execution_count": 388,
   "metadata": {
    "scrolled": false
   },
   "outputs": [
    {
     "name": "stdout",
     "output_type": "stream",
     "text": [
      "pred : 0.1669349163589996 , max : 0.17170520135210376 , min : 0.12783717191328658\n",
      "scaling : 0.891258279568785\n"
     ]
    }
   ],
   "source": [
    "       \n",
    "if lamb < lamb_0: # 일자별, 이런 경우가 있을수도 있어 - 마지막 구매부터 너무 너무 멀어지면!\n",
    "    lamb_0 = lamb\n",
    "pred = (1-stats.poisson.pmf(mu = lamb, k=0))\n",
    "max =  (1-stats.poisson.pmf(mu = lamb_1, k=0))  # max\n",
    "min =  (1-stats.poisson.pmf(mu = lamb_0, k=0))  # min\n",
    "scal = (pred - min)/(max - min)\n",
    "\n",
    "print('pred : {}'.format(pred), ', max : {}'.format(max), ', min : {}'.format(min))\n",
    "print('scaling : {}'.format(scal))"
   ]
  },
  {
   "cell_type": "markdown",
   "metadata": {},
   "source": [
    "---"
   ]
  },
  {
   "cell_type": "markdown",
   "metadata": {},
   "source": [
    "#### ver2.\n",
    "- #### (1)실장님 원래 주기"
   ]
  },
  {
   "cell_type": "code",
   "execution_count": 389,
   "metadata": {},
   "outputs": [],
   "source": [
    "# 주기가 '평균 - 0.5 주'\n",
    "# mean :  5.12256603893284\n",
    "\n",
    "k, t_purch, tmean_u, t_ ,alpha, beta = 5, 30.0 , 6.0 , 13.14285714, 1.6348410016313837, 23.228302136357172"
   ]
  },
  {
   "cell_type": "code",
   "execution_count": 390,
   "metadata": {},
   "outputs": [],
   "source": [
    "# 함수로 출력되는게 많게했어! & unit time을 1주일로 변경.\n",
    "\n",
    "def func_lamb(t_purch, tmean_u, t_ , alpha, beta, k):\n",
    "    \n",
    "    lamb = ((k+alpha)/(t_purch+2*abs(tmean_u-t_)+beta))\n",
    "    lamb_0 = ((k+alpha)/(t_purch+2*abs(tmean_u)+beta))   # 최저값 : t=0  \n",
    "    lamb_1 = ((k+alpha)/(t_purch+beta))     #최고값 : |tmean-t|=0\n",
    "    \n",
    "    return lamb,lamb_0, lamb_1, t_, t_purch, tmean_u, k"
   ]
  },
  {
   "cell_type": "code",
   "execution_count": 391,
   "metadata": {},
   "outputs": [
    {
     "name": "stdout",
     "output_type": "stream",
     "text": [
      "0.09827353420531956 0.10171721146077836 0.12464874390760453\n"
     ]
    }
   ],
   "source": [
    "lamb, lamb_0, lamb_1, t_, t_purch, tmean_u, k = func_lamb(t_purch, tmean_u, t_ , alpha, beta, k)\n",
    "\n",
    "print(lamb, lamb_0, lamb_1)"
   ]
  },
  {
   "cell_type": "code",
   "execution_count": 392,
   "metadata": {
    "scrolled": false
   },
   "outputs": [
    {
     "name": "stdout",
     "output_type": "stream",
     "text": [
      "pred : 0.09359906181839228 , max : 0.11719306055387113 , min : 0.09359906181839228\n",
      "scaling : 0.0\n"
     ]
    }
   ],
   "source": [
    "       \n",
    "if lamb < lamb_0: # 일자별, 이런 경우가 있을수도 있어 - 마지막 구매부터 너무 너무 멀어지면!\n",
    "    lamb_0 = lamb\n",
    "pred = (1-stats.poisson.pmf(mu = lamb, k=0))\n",
    "max =  (1-stats.poisson.pmf(mu = lamb_1, k=0))  # max\n",
    "min =  (1-stats.poisson.pmf(mu = lamb_0, k=0))  # min\n",
    "scal = (pred - min)/(max - min)\n",
    "\n",
    "print('pred : {}'.format(pred), ', max : {}'.format(max), ', min : {}'.format(min))\n",
    "print('scaling : {}'.format(scal))"
   ]
  },
  {
   "cell_type": "markdown",
   "metadata": {},
   "source": [
    "---"
   ]
  },
  {
   "cell_type": "markdown",
   "metadata": {},
   "source": [
    "- #### (2)주기가 평균일때"
   ]
  },
  {
   "cell_type": "code",
   "execution_count": 393,
   "metadata": {},
   "outputs": [],
   "source": [
    "# 주기가 평균일때\n",
    "\n",
    "k, t_purch, tmean_u, t_ ,alpha, beta = 5, 30.0 , 6.0 , 6.0 , 1.6348410016313837, 23.228302136357172"
   ]
  },
  {
   "cell_type": "code",
   "execution_count": 394,
   "metadata": {},
   "outputs": [],
   "source": [
    "# 함수로 출력되는게 많게했어! & unit time을 1주일로 변경.\n",
    "\n",
    "def func_lamb(t_purch, tmean_u, t_ , alpha, beta, k):\n",
    "    \n",
    "    lamb = ((k+alpha)/(t_purch+2*abs(tmean_u-t_)+beta))\n",
    "    lamb_0 = ((k+alpha)/(t_purch+2*abs(tmean_u)+beta))   # 최저값 : t=0  \n",
    "    lamb_1 = ((k+alpha)/(t_purch+beta))     #최고값 : |tmean-t|=0\n",
    "    \n",
    "    return lamb,lamb_0, lamb_1, t_, t_purch, tmean_u, k"
   ]
  },
  {
   "cell_type": "code",
   "execution_count": 395,
   "metadata": {},
   "outputs": [
    {
     "name": "stdout",
     "output_type": "stream",
     "text": [
      "0.12464874390760453 0.10171721146077836 0.12464874390760453\n"
     ]
    }
   ],
   "source": [
    "lamb, lamb_0, lamb_1, t_, t_purch, tmean_u, k = func_lamb(t_purch, tmean_u, t_ , alpha, beta, k)\n",
    "\n",
    "print(lamb, lamb_0, lamb_1)"
   ]
  },
  {
   "cell_type": "code",
   "execution_count": 396,
   "metadata": {
    "scrolled": true
   },
   "outputs": [
    {
     "name": "stdout",
     "output_type": "stream",
     "text": [
      "pred : 0.11719306055387113 , max : 0.11719306055387113 , min : 0.09671504581258228\n",
      "scaling : 1.0\n"
     ]
    }
   ],
   "source": [
    "       \n",
    "if lamb < lamb_0: # 일자별, 이런 경우가 있을수도 있어 - 마지막 구매부터 너무 너무 멀어지면!\n",
    "    lamb_0 = lamb\n",
    "pred = (1-stats.poisson.pmf(mu = lamb, k=0))\n",
    "max =  (1-stats.poisson.pmf(mu = lamb_1, k=0))  # max\n",
    "min =  (1-stats.poisson.pmf(mu = lamb_0, k=0))  # min\n",
    "scal = (pred - min)/(max - min)\n",
    "\n",
    "print('pred : {}'.format(pred), ', max : {}'.format(max), ', min : {}'.format(min))\n",
    "print('scaling : {}'.format(scal))"
   ]
  },
  {
   "cell_type": "markdown",
   "metadata": {},
   "source": [
    "- #### (3)주기가 '평균 - 1 주'"
   ]
  },
  {
   "cell_type": "code",
   "execution_count": 397,
   "metadata": {},
   "outputs": [],
   "source": [
    "# 주기가 평균 - 1 주\n",
    "\n",
    "k, t_purch, tmean_u, t_ ,alpha, beta = 5, 30.0 , 6.0 , 6.0-1 , 1.6348410016313837, 23.228302136357172"
   ]
  },
  {
   "cell_type": "code",
   "execution_count": 398,
   "metadata": {},
   "outputs": [],
   "source": [
    "# 함수로 출력되는게 많게했어! & unit time을 1주일로 변경.\n",
    "\n",
    "def func_lamb(t_purch, tmean_u, t_ , alpha, beta, k):\n",
    "    \n",
    "    lamb = ((k+alpha)/(t_purch+2*abs(tmean_u-t_)+beta))\n",
    "    lamb_0 = ((k+alpha)/(t_purch+2*abs(tmean_u)+beta))   # 최저값 : t=0  \n",
    "    lamb_1 = ((k+alpha)/(t_purch+beta))     #최고값 : |tmean-t|=0\n",
    "    \n",
    "    return lamb,lamb_0, lamb_1, t_, t_purch, tmean_u, k"
   ]
  },
  {
   "cell_type": "code",
   "execution_count": 399,
   "metadata": {},
   "outputs": [
    {
     "name": "stdout",
     "output_type": "stream",
     "text": [
      "0.12013479945934499 0.10171721146077836 0.12464874390760453\n"
     ]
    }
   ],
   "source": [
    "lamb, lamb_0, lamb_1, t_, t_purch, tmean_u, k = func_lamb(t_purch, tmean_u, t_ , alpha, beta, k)\n",
    "\n",
    "print(lamb, lamb_0, lamb_1)"
   ]
  },
  {
   "cell_type": "code",
   "execution_count": 400,
   "metadata": {
    "scrolled": false
   },
   "outputs": [
    {
     "name": "stdout",
     "output_type": "stream",
     "text": [
      "pred : 0.11319911162048735 , max : 0.11719306055387113 , min : 0.09671504581258228\n",
      "scaling : 0.8049640561430511\n"
     ]
    }
   ],
   "source": [
    "       \n",
    "if lamb < lamb_0: # 일자별, 이런 경우가 있을수도 있어 - 마지막 구매부터 너무 너무 멀어지면!\n",
    "    lamb_0 = lamb\n",
    "pred = (1-stats.poisson.pmf(mu = lamb, k=0))\n",
    "max =  (1-stats.poisson.pmf(mu = lamb_1, k=0))  # max\n",
    "min =  (1-stats.poisson.pmf(mu = lamb_0, k=0))  # min\n",
    "scal = (pred - min)/(max - min)\n",
    "\n",
    "print('pred : {}'.format(pred), ', max : {}'.format(max), ', min : {}'.format(min))\n",
    "print('scaling : {}'.format(scal))"
   ]
  },
  {
   "cell_type": "markdown",
   "metadata": {},
   "source": [
    "- #### (4)주기가 '평균 - 0.5 주'"
   ]
  },
  {
   "cell_type": "code",
   "execution_count": 401,
   "metadata": {},
   "outputs": [],
   "source": [
    "# 주기가 '평균 - 0.5 주'\n",
    "# mean :  5.12256603893284\n",
    "\n",
    "k, t_purch, tmean_u, t_ ,alpha, beta = 5, 30.0 , 6.0 , 6.0-0.5 , 1.6348410016313837, 23.228302136357172"
   ]
  },
  {
   "cell_type": "code",
   "execution_count": 402,
   "metadata": {},
   "outputs": [],
   "source": [
    "# 함수로 출력되는게 많게했어! & unit time을 1주일로 변경.\n",
    "\n",
    "def func_lamb(t_purch, tmean_u, t_ , alpha, beta, k):\n",
    "    \n",
    "    lamb = ((k+alpha)/(t_purch+2*abs(tmean_u-t_)+beta))\n",
    "    lamb_0 = ((k+alpha)/(t_purch+2*abs(tmean_u)+beta))   # 최저값 : t=0  \n",
    "    lamb_1 = ((k+alpha)/(t_purch+beta))     #최고값 : |tmean-t|=0\n",
    "    \n",
    "    return lamb,lamb_0, lamb_1, t_, t_purch, tmean_u, k"
   ]
  },
  {
   "cell_type": "code",
   "execution_count": 403,
   "metadata": {},
   "outputs": [
    {
     "name": "stdout",
     "output_type": "stream",
     "text": [
      "0.12235015186254704 0.10171721146077836 0.12464874390760453\n"
     ]
    }
   ],
   "source": [
    "lamb, lamb_0, lamb_1, t_, t_purch, tmean_u, k = func_lamb(t_purch, tmean_u, t_ , alpha, beta, k)\n",
    "\n",
    "print(lamb, lamb_0, lamb_1)"
   ]
  },
  {
   "cell_type": "code",
   "execution_count": 404,
   "metadata": {
    "scrolled": false
   },
   "outputs": [
    {
     "name": "stdout",
     "output_type": "stream",
     "text": [
      "pred : 0.11516151359117233 , max : 0.11719306055387113 , min : 0.09671504581258228\n",
      "scaling : 0.9007937542596504\n"
     ]
    }
   ],
   "source": [
    "       \n",
    "if lamb < lamb_0: # 일자별, 이런 경우가 있을수도 있어 - 마지막 구매부터 너무 너무 멀어지면!\n",
    "    lamb_0 = lamb\n",
    "pred = (1-stats.poisson.pmf(mu = lamb, k=0))\n",
    "max =  (1-stats.poisson.pmf(mu = lamb_1, k=0))  # max\n",
    "min =  (1-stats.poisson.pmf(mu = lamb_0, k=0))  # min\n",
    "scal = (pred - min)/(max - min)\n",
    "\n",
    "print('pred : {}'.format(pred), ', max : {}'.format(max), ', min : {}'.format(min))\n",
    "print('scaling : {}'.format(scal))"
   ]
  },
  {
   "cell_type": "markdown",
   "metadata": {},
   "source": [
    ": 딱 주기에서 1주일 정도만 노출되도록 보인다!"
   ]
  },
  {
   "cell_type": "code",
   "execution_count": null,
   "metadata": {},
   "outputs": [],
   "source": []
  }
 ],
 "metadata": {
  "kernelspec": {
   "display_name": "Python [default]",
   "language": "python",
   "name": "python3"
  },
  "language_info": {
   "codemirror_mode": {
    "name": "ipython",
    "version": 3
   },
   "file_extension": ".py",
   "mimetype": "text/x-python",
   "name": "python",
   "nbconvert_exporter": "python",
   "pygments_lexer": "ipython3",
   "version": "3.6.6"
  }
 },
 "nbformat": 4,
 "nbformat_minor": 2
}
