{
 "cells": [
  {
   "cell_type": "markdown",
   "metadata": {},
   "source": [
    "### # Data 추출 - 실장님 데이터에서 ver1/ver2 비교해본다.\n",
    "1. water\n",
    "2. shampoo\n",
    "5. wettissue\n",
    "-------------\n",
    "rcp낮은것\n",
    "1. pencil\n",
    "2. ironingboard(주기도 짧다)"
   ]
  },
  {
   "cell_type": "code",
   "execution_count": 1,
   "metadata": {},
   "outputs": [],
   "source": [
    "import pandas as pd\n",
    "import numpy as np\n",
    "import matplotlib.pyplot as plt\n",
    "import random\n"
   ]
  },
  {
   "cell_type": "code",
   "execution_count": 2,
   "metadata": {},
   "outputs": [
    {
     "data": {
      "text/plain": [
       "'/Users/we/Downloads/업무/buy it again_분석 '"
      ]
     },
     "execution_count": 2,
     "metadata": {},
     "output_type": "execute_result"
    }
   ],
   "source": [
    "import os\n",
    "os.getcwd()"
   ]
  },
  {
   "cell_type": "markdown",
   "metadata": {},
   "source": [
    "./chunk/"
   ]
  },
  {
   "cell_type": "code",
   "execution_count": 3,
   "metadata": {
    "scrolled": false
   },
   "outputs": [],
   "source": [
    "chunk = {}\n",
    "for i in range(13):\n",
    "    chunk[i] = pd.read_csv('./chunk/chunk{}.csv'.format(i))\n"
   ]
  },
  {
   "cell_type": "code",
   "execution_count": 5,
   "metadata": {},
   "outputs": [
    {
     "data": {
      "text/plain": [
       "13"
      ]
     },
     "execution_count": 5,
     "metadata": {},
     "output_type": "execute_result"
    }
   ],
   "source": [
    "len(chunk)"
   ]
  },
  {
   "cell_type": "code",
   "execution_count": 6,
   "metadata": {
    "scrolled": true
   },
   "outputs": [
    {
     "data": {
      "text/html": [
       "<div>\n",
       "<style scoped>\n",
       "    .dataframe tbody tr th:only-of-type {\n",
       "        vertical-align: middle;\n",
       "    }\n",
       "\n",
       "    .dataframe tbody tr th {\n",
       "        vertical-align: top;\n",
       "    }\n",
       "\n",
       "    .dataframe thead th {\n",
       "        text-align: right;\n",
       "    }\n",
       "</style>\n",
       "<table border=\"1\" class=\"dataframe\">\n",
       "  <thead>\n",
       "    <tr style=\"text-align: right;\">\n",
       "      <th></th>\n",
       "      <th>Unnamed: 0</th>\n",
       "      <th>biz_dt</th>\n",
       "      <th>m_id</th>\n",
       "      <th>order_price</th>\n",
       "      <th>prod_no</th>\n",
       "      <th>old_admin_category_id</th>\n",
       "      <th>serv_cd</th>\n",
       "    </tr>\n",
       "  </thead>\n",
       "  <tbody>\n",
       "    <tr>\n",
       "      <th>3321035</th>\n",
       "      <td>123321035</td>\n",
       "      <td>2018-09-28 17:00:21</td>\n",
       "      <td>18,342,102</td>\n",
       "      <td>3,170</td>\n",
       "      <td>100,913,544</td>\n",
       "      <td>237,040,103</td>\n",
       "      <td>2</td>\n",
       "    </tr>\n",
       "    <tr>\n",
       "      <th>3321036</th>\n",
       "      <td>123321036</td>\n",
       "      <td>2018-09-28 17:00:21</td>\n",
       "      <td>18,342,102</td>\n",
       "      <td>3,800</td>\n",
       "      <td>100,913,555</td>\n",
       "      <td>237,040,103</td>\n",
       "      <td>2</td>\n",
       "    </tr>\n",
       "    <tr>\n",
       "      <th>3321037</th>\n",
       "      <td>123321037</td>\n",
       "      <td>2018-09-28 17:00:22</td>\n",
       "      <td>24,137,068</td>\n",
       "      <td>1,699,000</td>\n",
       "      <td>101,984,766</td>\n",
       "      <td>233,040,120</td>\n",
       "      <td>2</td>\n",
       "    </tr>\n",
       "    <tr>\n",
       "      <th>3321038</th>\n",
       "      <td>123321038</td>\n",
       "      <td>2018-09-28 17:00:25</td>\n",
       "      <td>5,357,454</td>\n",
       "      <td>25,000</td>\n",
       "      <td>110,485,856</td>\n",
       "      <td>240,010,305</td>\n",
       "      <td>2</td>\n",
       "    </tr>\n",
       "    <tr>\n",
       "      <th>3321039</th>\n",
       "      <td>123321039</td>\n",
       "      <td>2018-09-28 17:00:27</td>\n",
       "      <td>21,865,461</td>\n",
       "      <td>55,900</td>\n",
       "      <td>100,371,485</td>\n",
       "      <td>233,080,119</td>\n",
       "      <td>2</td>\n",
       "    </tr>\n",
       "  </tbody>\n",
       "</table>\n",
       "</div>"
      ],
      "text/plain": [
       "         Unnamed: 0               biz_dt        m_id order_price      prod_no  \\\n",
       "3321035   123321035  2018-09-28 17:00:21  18,342,102       3,170  100,913,544   \n",
       "3321036   123321036  2018-09-28 17:00:21  18,342,102       3,800  100,913,555   \n",
       "3321037   123321037  2018-09-28 17:00:22  24,137,068   1,699,000  101,984,766   \n",
       "3321038   123321038  2018-09-28 17:00:25   5,357,454      25,000  110,485,856   \n",
       "3321039   123321039  2018-09-28 17:00:27  21,865,461      55,900  100,371,485   \n",
       "\n",
       "        old_admin_category_id  serv_cd  \n",
       "3321035           237,040,103        2  \n",
       "3321036           237,040,103        2  \n",
       "3321037           233,040,120        2  \n",
       "3321038           240,010,305        2  \n",
       "3321039           233,080,119        2  "
      ]
     },
     "execution_count": 6,
     "metadata": {},
     "output_type": "execute_result"
    }
   ],
   "source": [
    "chunk[12].tail()"
   ]
  },
  {
   "cell_type": "markdown",
   "metadata": {},
   "source": [
    "---"
   ]
  },
  {
   "cell_type": "markdown",
   "metadata": {},
   "source": [
    "1. water 확인"
   ]
  },
  {
   "cell_type": "code",
   "execution_count": 4,
   "metadata": {},
   "outputs": [
    {
     "name": "stdout",
     "output_type": "stream",
     "text": [
      "129414\n",
      "129324\n",
      "142252\n",
      "142318\n",
      "128361\n",
      "143306\n",
      "150075\n",
      "150215\n",
      "159662\n",
      "192799\n",
      "169850\n",
      "150324\n",
      "45373\n"
     ]
    }
   ],
   "source": [
    "for i in range(13):\n",
    "    print(chunk[i][chunk[i].old_admin_category_id == '240,040,102'].shape[0])"
   ]
  },
  {
   "cell_type": "code",
   "execution_count": 5,
   "metadata": {},
   "outputs": [
    {
     "data": {
      "text/plain": [
       "1833273"
      ]
     },
     "execution_count": 5,
     "metadata": {},
     "output_type": "execute_result"
    }
   ],
   "source": [
    "np.array([129414,\n",
    "129324,\n",
    "142252,\n",
    "142318,\n",
    "128361,\n",
    "143306,\n",
    "150075,\n",
    "150215,\n",
    "159662,\n",
    "192799,\n",
    "169850,\n",
    "150324,\n",
    "45373]).sum()"
   ]
  },
  {
   "cell_type": "code",
   "execution_count": 7,
   "metadata": {},
   "outputs": [],
   "source": [
    "water = pd.DataFrame()"
   ]
  },
  {
   "cell_type": "code",
   "execution_count": 8,
   "metadata": {},
   "outputs": [],
   "source": [
    "for i in range(13):\n",
    "    water = pd.concat([water, chunk[i][chunk[i].old_admin_category_id == '240,040,102']])"
   ]
  },
  {
   "cell_type": "code",
   "execution_count": 9,
   "metadata": {},
   "outputs": [
    {
     "data": {
      "text/plain": [
       "(1833273, 7)"
      ]
     },
     "execution_count": 9,
     "metadata": {},
     "output_type": "execute_result"
    }
   ],
   "source": [
    "water.shape"
   ]
  },
  {
   "cell_type": "code",
   "execution_count": 10,
   "metadata": {},
   "outputs": [],
   "source": [
    "water.to_csv('water_new.csv')"
   ]
  },
  {
   "cell_type": "markdown",
   "metadata": {},
   "source": [
    "---"
   ]
  },
  {
   "cell_type": "markdown",
   "metadata": {},
   "source": [
    "2. shampoo 확인"
   ]
  },
  {
   "cell_type": "code",
   "execution_count": 11,
   "metadata": {},
   "outputs": [
    {
     "name": "stdout",
     "output_type": "stream",
     "text": [
      "112233\n",
      "119708\n",
      "105673\n",
      "89122\n",
      "97633\n",
      "111371\n",
      "94666\n",
      "101107\n",
      "81814\n",
      "88810\n",
      "112461\n",
      "99877\n",
      "30298\n"
     ]
    }
   ],
   "source": [
    "for i in range(13):\n",
    "    print(chunk[i][chunk[i].old_admin_category_id == '237,030,401'].shape[0])"
   ]
  },
  {
   "cell_type": "code",
   "execution_count": 12,
   "metadata": {},
   "outputs": [
    {
     "data": {
      "text/plain": [
       "1244773"
      ]
     },
     "execution_count": 12,
     "metadata": {},
     "output_type": "execute_result"
    }
   ],
   "source": [
    "np.array([112233,\n",
    "119708,\n",
    "105673,\n",
    "89122,\n",
    "97633,\n",
    "111371,\n",
    "94666,\n",
    "101107,\n",
    "81814,\n",
    "88810,\n",
    "112461,\n",
    "99877,\n",
    "30298]).sum()"
   ]
  },
  {
   "cell_type": "code",
   "execution_count": 13,
   "metadata": {},
   "outputs": [],
   "source": [
    "shampoo = pd.DataFrame()"
   ]
  },
  {
   "cell_type": "code",
   "execution_count": 14,
   "metadata": {},
   "outputs": [],
   "source": [
    "for i in range(13):\n",
    "    shampoo = pd.concat([shampoo, chunk[i][chunk[i].old_admin_category_id == '237,030,401']])"
   ]
  },
  {
   "cell_type": "code",
   "execution_count": 15,
   "metadata": {},
   "outputs": [
    {
     "data": {
      "text/plain": [
       "(1244773, 7)"
      ]
     },
     "execution_count": 15,
     "metadata": {},
     "output_type": "execute_result"
    }
   ],
   "source": [
    "shampoo.shape"
   ]
  },
  {
   "cell_type": "code",
   "execution_count": 16,
   "metadata": {},
   "outputs": [],
   "source": [
    "shampoo.to_csv('shampoo_new.csv')"
   ]
  },
  {
   "cell_type": "markdown",
   "metadata": {},
   "source": [
    "---"
   ]
  },
  {
   "cell_type": "markdown",
   "metadata": {},
   "source": [
    "3. 연필/지우개/필통 확인"
   ]
  },
  {
   "cell_type": "code",
   "execution_count": 20,
   "metadata": {},
   "outputs": [
    {
     "name": "stdout",
     "output_type": "stream",
     "text": [
      "3091\n",
      "5289\n",
      "8555\n",
      "2363\n",
      "2623\n",
      "2386\n",
      "2075\n",
      "2477\n",
      "2040\n",
      "1685\n",
      "1861\n",
      "2836\n",
      "673\n"
     ]
    }
   ],
   "source": [
    "for i in range(13):\n",
    "    print(chunk[i][chunk[i].old_admin_category_id == '237,020,702'].shape[0])"
   ]
  },
  {
   "cell_type": "code",
   "execution_count": 21,
   "metadata": {},
   "outputs": [
    {
     "data": {
      "text/plain": [
       "37954"
      ]
     },
     "execution_count": 21,
     "metadata": {},
     "output_type": "execute_result"
    }
   ],
   "source": [
    "np.array([3091,\n",
    "5289,\n",
    "8555,\n",
    "2363,\n",
    "2623,\n",
    "2386,\n",
    "2075,\n",
    "2477,\n",
    "2040,\n",
    "1685,\n",
    "1861,\n",
    "2836,\n",
    "673]).sum()"
   ]
  },
  {
   "cell_type": "code",
   "execution_count": 22,
   "metadata": {},
   "outputs": [],
   "source": [
    "pencil = pd.DataFrame()"
   ]
  },
  {
   "cell_type": "code",
   "execution_count": 23,
   "metadata": {},
   "outputs": [],
   "source": [
    "for i in range(13):\n",
    "    pencil = pd.concat([pencil, chunk[i][chunk[i].old_admin_category_id == '237,020,702']])"
   ]
  },
  {
   "cell_type": "code",
   "execution_count": 24,
   "metadata": {},
   "outputs": [
    {
     "data": {
      "text/plain": [
       "(37954, 7)"
      ]
     },
     "execution_count": 24,
     "metadata": {},
     "output_type": "execute_result"
    }
   ],
   "source": [
    "pencil.shape"
   ]
  },
  {
   "cell_type": "code",
   "execution_count": 25,
   "metadata": {},
   "outputs": [],
   "source": [
    "pencil.to_csv('pencil_new.csv')"
   ]
  },
  {
   "cell_type": "markdown",
   "metadata": {},
   "source": [
    "---"
   ]
  },
  {
   "cell_type": "markdown",
   "metadata": {},
   "source": [
    "4. 다리미판 확인"
   ]
  },
  {
   "cell_type": "code",
   "execution_count": 26,
   "metadata": {},
   "outputs": [
    {
     "name": "stdout",
     "output_type": "stream",
     "text": [
      "485\n",
      "456\n",
      "846\n",
      "1327\n",
      "1033\n",
      "1058\n",
      "1326\n",
      "1173\n",
      "1095\n",
      "847\n",
      "1030\n",
      "890\n",
      "471\n"
     ]
    }
   ],
   "source": [
    "for i in range(13):\n",
    "    print(chunk[i][chunk[i].old_admin_category_id == '237,040,501'].shape[0])"
   ]
  },
  {
   "cell_type": "code",
   "execution_count": 27,
   "metadata": {},
   "outputs": [
    {
     "data": {
      "text/plain": [
       "12037"
      ]
     },
     "execution_count": 27,
     "metadata": {},
     "output_type": "execute_result"
    }
   ],
   "source": [
    "np.array([485,\n",
    "456,\n",
    "846,\n",
    "1327,\n",
    "1033,\n",
    "1058,\n",
    "1326,\n",
    "1173,\n",
    "1095,\n",
    "847,\n",
    "1030,\n",
    "890,\n",
    "471]).sum()"
   ]
  },
  {
   "cell_type": "code",
   "execution_count": 28,
   "metadata": {},
   "outputs": [],
   "source": [
    "ironingboard = pd.DataFrame()"
   ]
  },
  {
   "cell_type": "code",
   "execution_count": 29,
   "metadata": {},
   "outputs": [],
   "source": [
    "for i in range(13):\n",
    "    ironingboard = pd.concat([ironingboard, chunk[i][chunk[i].old_admin_category_id == '237,040,501']])"
   ]
  },
  {
   "cell_type": "code",
   "execution_count": 30,
   "metadata": {},
   "outputs": [
    {
     "data": {
      "text/plain": [
       "(12037, 7)"
      ]
     },
     "execution_count": 30,
     "metadata": {},
     "output_type": "execute_result"
    }
   ],
   "source": [
    "ironingboard.shape"
   ]
  },
  {
   "cell_type": "code",
   "execution_count": 31,
   "metadata": {},
   "outputs": [],
   "source": [
    "ironingboard.to_csv('ironingboard_new.csv')"
   ]
  },
  {
   "cell_type": "markdown",
   "metadata": {},
   "source": [
    "---"
   ]
  },
  {
   "cell_type": "markdown",
   "metadata": {},
   "source": [
    "5. 물티슈 기타"
   ]
  },
  {
   "cell_type": "code",
   "execution_count": 32,
   "metadata": {},
   "outputs": [
    {
     "name": "stdout",
     "output_type": "stream",
     "text": [
      "139774\n",
      "134411\n",
      "145519\n",
      "125992\n",
      "130449\n",
      "138304\n",
      "120911\n",
      "125609\n",
      "112491\n",
      "102534\n",
      "132657\n",
      "121551\n",
      "35391\n"
     ]
    }
   ],
   "source": [
    "for i in range(13):\n",
    "    print(chunk[i][chunk[i].old_admin_category_id == '241,020,104'].shape[0])"
   ]
  },
  {
   "cell_type": "code",
   "execution_count": 33,
   "metadata": {},
   "outputs": [
    {
     "data": {
      "text/plain": [
       "1565593"
      ]
     },
     "execution_count": 33,
     "metadata": {},
     "output_type": "execute_result"
    }
   ],
   "source": [
    "np.array([139774,\n",
    "134411,\n",
    "145519,\n",
    "125992,\n",
    "130449,\n",
    "138304,\n",
    "120911,\n",
    "125609,\n",
    "112491,\n",
    "102534,\n",
    "132657,\n",
    "121551,\n",
    "35391]).sum()"
   ]
  },
  {
   "cell_type": "code",
   "execution_count": 34,
   "metadata": {},
   "outputs": [],
   "source": [
    "wettissue = pd.DataFrame()"
   ]
  },
  {
   "cell_type": "code",
   "execution_count": 35,
   "metadata": {},
   "outputs": [],
   "source": [
    "for i in range(13):\n",
    "    wettissue = pd.concat([wettissue, chunk[i][chunk[i].old_admin_category_id == '241,020,104']])"
   ]
  },
  {
   "cell_type": "code",
   "execution_count": 36,
   "metadata": {},
   "outputs": [
    {
     "data": {
      "text/plain": [
       "(1565593, 7)"
      ]
     },
     "execution_count": 36,
     "metadata": {},
     "output_type": "execute_result"
    }
   ],
   "source": [
    "wettissue.shape"
   ]
  },
  {
   "cell_type": "code",
   "execution_count": 37,
   "metadata": {},
   "outputs": [],
   "source": [
    "wettissue.to_csv('wettissue_new.csv')"
   ]
  },
  {
   "cell_type": "markdown",
   "metadata": {},
   "source": [
    "---"
   ]
  }
 ],
 "metadata": {
  "kernelspec": {
   "display_name": "Python [default]",
   "language": "python",
   "name": "python3"
  },
  "language_info": {
   "codemirror_mode": {
    "name": "ipython",
    "version": 3
   },
   "file_extension": ".py",
   "mimetype": "text/x-python",
   "name": "python",
   "nbconvert_exporter": "python",
   "pygments_lexer": "ipython3",
   "version": "3.6.6"
  }
 },
 "nbformat": 4,
 "nbformat_minor": 2
}
