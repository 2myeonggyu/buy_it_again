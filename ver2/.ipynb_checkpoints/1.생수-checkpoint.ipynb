{
 "cells": [
  {
   "cell_type": "code",
   "execution_count": 1,
   "metadata": {},
   "outputs": [],
   "source": [
    "import pandas as pd\n",
    "import numpy as np\n",
    "import matplotlib.pyplot as plt\n",
    "import random\n"
   ]
  },
  {
   "cell_type": "code",
   "execution_count": 2,
   "metadata": {},
   "outputs": [
    {
     "data": {
      "text/plain": [
       "'/Users/we/Downloads/업무/buy it again_분석 /ver2'"
      ]
     },
     "execution_count": 2,
     "metadata": {},
     "output_type": "execute_result"
    }
   ],
   "source": [
    "import os\n",
    "os.getcwd()"
   ]
  },
  {
   "cell_type": "code",
   "execution_count": 3,
   "metadata": {},
   "outputs": [],
   "source": [
    "water = pd.read_csv('./water_new.csv')"
   ]
  },
  {
   "cell_type": "code",
   "execution_count": 4,
   "metadata": {},
   "outputs": [
    {
     "data": {
      "text/html": [
       "<div>\n",
       "<style scoped>\n",
       "    .dataframe tbody tr th:only-of-type {\n",
       "        vertical-align: middle;\n",
       "    }\n",
       "\n",
       "    .dataframe tbody tr th {\n",
       "        vertical-align: top;\n",
       "    }\n",
       "\n",
       "    .dataframe thead th {\n",
       "        text-align: right;\n",
       "    }\n",
       "</style>\n",
       "<table border=\"1\" class=\"dataframe\">\n",
       "  <thead>\n",
       "    <tr style=\"text-align: right;\">\n",
       "      <th></th>\n",
       "      <th>Unnamed: 0</th>\n",
       "      <th>Unnamed: 0.1</th>\n",
       "      <th>biz_dt</th>\n",
       "      <th>m_id</th>\n",
       "      <th>order_price</th>\n",
       "      <th>prod_no</th>\n",
       "      <th>old_admin_category_id</th>\n",
       "      <th>serv_cd</th>\n",
       "    </tr>\n",
       "  </thead>\n",
       "  <tbody>\n",
       "    <tr>\n",
       "      <th>0</th>\n",
       "      <td>76</td>\n",
       "      <td>76</td>\n",
       "      <td>2018-01-01 00:00:18</td>\n",
       "      <td>2,363,189</td>\n",
       "      <td>8,900</td>\n",
       "      <td>1,286,468</td>\n",
       "      <td>240,040,102</td>\n",
       "      <td>1</td>\n",
       "    </tr>\n",
       "    <tr>\n",
       "      <th>1</th>\n",
       "      <td>114</td>\n",
       "      <td>114</td>\n",
       "      <td>2018-01-01 00:00:29</td>\n",
       "      <td>5,093,799</td>\n",
       "      <td>8,900</td>\n",
       "      <td>1,700,020</td>\n",
       "      <td>240,040,102</td>\n",
       "      <td>1</td>\n",
       "    </tr>\n",
       "    <tr>\n",
       "      <th>2</th>\n",
       "      <td>225</td>\n",
       "      <td>225</td>\n",
       "      <td>2018-01-01 00:00:54</td>\n",
       "      <td>23,526,491</td>\n",
       "      <td>35,000</td>\n",
       "      <td>1,524,740</td>\n",
       "      <td>240,040,102</td>\n",
       "      <td>1</td>\n",
       "    </tr>\n",
       "    <tr>\n",
       "      <th>3</th>\n",
       "      <td>256</td>\n",
       "      <td>256</td>\n",
       "      <td>2018-01-01 00:01:01</td>\n",
       "      <td>1,721,092</td>\n",
       "      <td>10,900</td>\n",
       "      <td>1,272,131</td>\n",
       "      <td>240,040,102</td>\n",
       "      <td>1</td>\n",
       "    </tr>\n",
       "    <tr>\n",
       "      <th>4</th>\n",
       "      <td>278</td>\n",
       "      <td>278</td>\n",
       "      <td>2018-01-01 00:01:08</td>\n",
       "      <td>7,469,033</td>\n",
       "      <td>11,900</td>\n",
       "      <td>2,178,079</td>\n",
       "      <td>240,040,102</td>\n",
       "      <td>1</td>\n",
       "    </tr>\n",
       "  </tbody>\n",
       "</table>\n",
       "</div>"
      ],
      "text/plain": [
       "   Unnamed: 0  Unnamed: 0.1               biz_dt        m_id order_price  \\\n",
       "0          76            76  2018-01-01 00:00:18   2,363,189       8,900   \n",
       "1         114           114  2018-01-01 00:00:29   5,093,799       8,900   \n",
       "2         225           225  2018-01-01 00:00:54  23,526,491      35,000   \n",
       "3         256           256  2018-01-01 00:01:01   1,721,092      10,900   \n",
       "4         278           278  2018-01-01 00:01:08   7,469,033      11,900   \n",
       "\n",
       "     prod_no old_admin_category_id  serv_cd  \n",
       "0  1,286,468           240,040,102        1  \n",
       "1  1,700,020           240,040,102        1  \n",
       "2  1,524,740           240,040,102        1  \n",
       "3  1,272,131           240,040,102        1  \n",
       "4  2,178,079           240,040,102        1  "
      ]
     },
     "execution_count": 4,
     "metadata": {},
     "output_type": "execute_result"
    }
   ],
   "source": [
    "water.head()"
   ]
  },
  {
   "cell_type": "code",
   "execution_count": 5,
   "metadata": {},
   "outputs": [
    {
     "name": "stdout",
     "output_type": "stream",
     "text": [
      "<class 'pandas.core.frame.DataFrame'>\n",
      "RangeIndex: 1833273 entries, 0 to 1833272\n",
      "Data columns (total 8 columns):\n",
      "Unnamed: 0               int64\n",
      "Unnamed: 0.1             int64\n",
      "biz_dt                   object\n",
      "m_id                     object\n",
      "order_price              object\n",
      "prod_no                  object\n",
      "old_admin_category_id    object\n",
      "serv_cd                  int64\n",
      "dtypes: int64(3), object(5)\n",
      "memory usage: 111.9+ MB\n"
     ]
    }
   ],
   "source": [
    "water.info()"
   ]
  },
  {
   "cell_type": "code",
   "execution_count": 6,
   "metadata": {},
   "outputs": [],
   "source": [
    "# 날짜 형 변환\n",
    "water.biz_dt = pd.to_datetime(water.biz_dt)"
   ]
  },
  {
   "cell_type": "code",
   "execution_count": 7,
   "metadata": {},
   "outputs": [
    {
     "name": "stdout",
     "output_type": "stream",
     "text": [
      "<class 'pandas.core.frame.DataFrame'>\n",
      "RangeIndex: 1833273 entries, 0 to 1833272\n",
      "Data columns (total 8 columns):\n",
      "Unnamed: 0               int64\n",
      "Unnamed: 0.1             int64\n",
      "biz_dt                   datetime64[ns]\n",
      "m_id                     object\n",
      "order_price              object\n",
      "prod_no                  object\n",
      "old_admin_category_id    object\n",
      "serv_cd                  int64\n",
      "dtypes: datetime64[ns](1), int64(3), object(4)\n",
      "memory usage: 111.9+ MB\n"
     ]
    }
   ],
   "source": [
    "water.info()"
   ]
  },
  {
   "cell_type": "markdown",
   "metadata": {},
   "source": [
    "---"
   ]
  },
  {
   "cell_type": "markdown",
   "metadata": {},
   "source": [
    "## # RCP"
   ]
  },
  {
   "cell_type": "code",
   "execution_count": 8,
   "metadata": {},
   "outputs": [
    {
     "data": {
      "text/plain": [
       "672673"
      ]
     },
     "execution_count": 8,
     "metadata": {},
     "output_type": "execute_result"
    }
   ],
   "source": [
    "water.m_id.drop_duplicates().shape[0] # distinct user"
   ]
  },
  {
   "cell_type": "code",
   "execution_count": 9,
   "metadata": {},
   "outputs": [
    {
     "data": {
      "text/plain": [
       "350302"
      ]
     },
     "execution_count": 9,
     "metadata": {},
     "output_type": "execute_result"
    }
   ],
   "source": [
    "water.m_id[water.m_id.duplicated()].nunique()  # 2번이상 구매한 user는 330명"
   ]
  },
  {
   "cell_type": "code",
   "execution_count": 10,
   "metadata": {},
   "outputs": [
    {
     "data": {
      "text/plain": [
       "0.5207612019510223"
      ]
     },
     "execution_count": 10,
     "metadata": {},
     "output_type": "execute_result"
    }
   ],
   "source": [
    "water.m_id[water.m_id.duplicated()].nunique() / water.m_id.nunique()"
   ]
  },
  {
   "cell_type": "markdown",
   "metadata": {},
   "source": [
    "----"
   ]
  },
  {
   "cell_type": "markdown",
   "metadata": {},
   "source": [
    "## # Step1. 전체주기 - 1월~9월로 데이터 생성"
   ]
  },
  {
   "cell_type": "code",
   "execution_count": 18,
   "metadata": {},
   "outputs": [
    {
     "data": {
      "text/plain": [
       "(0   2018-01-01 00:00:18\n",
       " Name: biz_dt, dtype: datetime64[ns], 1833272   2018-09-28 17:00:07\n",
       " Name: biz_dt, dtype: datetime64[ns])"
      ]
     },
     "execution_count": 18,
     "metadata": {},
     "output_type": "execute_result"
    }
   ],
   "source": [
    "water[0:1].biz_dt , water[-1:].biz_dt"
   ]
  },
  {
   "cell_type": "markdown",
   "metadata": {},
   "source": [
    "---"
   ]
  },
  {
   "cell_type": "markdown",
   "metadata": {},
   "source": [
    "- #### (1) 전체 유저의 구매주기 파악"
   ]
  },
  {
   "cell_type": "code",
   "execution_count": 9,
   "metadata": {},
   "outputs": [],
   "source": [
    "groups = water.groupby('m_id')"
   ]
  },
  {
   "cell_type": "code",
   "execution_count": 10,
   "metadata": {},
   "outputs": [],
   "source": [
    "def day_diff(data):\n",
    "    c = data.dt.date.diff()\n",
    "    #c = c.values #이거?\n",
    "    return pd.Series(c.values)"
   ]
  },
  {
   "cell_type": "code",
   "execution_count": 11,
   "metadata": {
    "scrolled": true
   },
   "outputs": [
    {
     "data": {
      "text/plain": [
       "m_id         \n",
       "1,000,006  0                   NaT\n",
       "           1      35 days 00:00:00\n",
       "           2      15 days 00:00:00\n",
       "           3      49 days 00:00:00\n",
       "           4      44 days 00:00:00\n",
       "           5       0 days 00:00:00\n",
       "           6      18 days 00:00:00\n",
       "           7       0 days 00:00:00\n",
       "           8      18 days 00:00:00\n",
       "           9       0 days 00:00:00\n",
       "           10     19 days 00:00:00\n",
       "           11     16 days 00:00:00\n",
       "1,000,007  0                   NaT\n",
       "           1      83 days 00:00:00\n",
       "           2      49 days 00:00:00\n",
       "1,000,008  0                   NaN\n",
       "1,000,011  0                   NaT\n",
       "           1     118 days 00:00:00\n",
       "1,000,020  0                   NaT\n",
       "           1       0 days 00:00:00\n",
       "           2      31 days 00:00:00\n",
       "1,000,028  0                   NaT\n",
       "           1      28 days 00:00:00\n",
       "           2      15 days 00:00:00\n",
       "           3      20 days 00:00:00\n",
       "           4       1 days 00:00:00\n",
       "           5      10 days 00:00:00\n",
       "           6      21 days 00:00:00\n",
       "           7      25 days 00:00:00\n",
       "           8      16 days 00:00:00\n",
       "                       ...        \n",
       "9,999,527  1     110 days 00:00:00\n",
       "9,999,532  0                   NaT\n",
       "           1       0 days 00:00:00\n",
       "           2      99 days 00:00:00\n",
       "           3      26 days 00:00:00\n",
       "           4       0 days 00:00:00\n",
       "           5       0 days 00:00:00\n",
       "9,999,537  0                   NaN\n",
       "9,999,540  0                   NaN\n",
       "9,999,608  0                   NaN\n",
       "9,999,631  0                   NaN\n",
       "9,999,704  0                   NaT\n",
       "           1      34 days 00:00:00\n",
       "           2      49 days 00:00:00\n",
       "           3      60 days 00:00:00\n",
       "           4      74 days 00:00:00\n",
       "9,999,762  0                   NaN\n",
       "9,999,779  0                   NaN\n",
       "9,999,804  0                   NaN\n",
       "9,999,828  0                   NaN\n",
       "9,999,931  0                   NaN\n",
       "9,999,963  0                   NaT\n",
       "           1       0 days 00:00:00\n",
       "           2     115 days 00:00:00\n",
       "           3       0 days 00:00:00\n",
       "           4      97 days 00:00:00\n",
       "9,999,989  0                   NaN\n",
       "9,999,996  0                   NaT\n",
       "           1      41 days 00:00:00\n",
       "           2     104 days 00:00:00\n",
       "Name: biz_dt, Length: 1833273, dtype: object"
      ]
     },
     "execution_count": 11,
     "metadata": {},
     "output_type": "execute_result"
    }
   ],
   "source": [
    "groups['biz_dt'].apply(day_diff)"
   ]
  },
  {
   "cell_type": "code",
   "execution_count": 12,
   "metadata": {},
   "outputs": [],
   "source": [
    "water_diff = groups['biz_dt'].apply(day_diff)  # 저장"
   ]
  },
  {
   "cell_type": "code",
   "execution_count": 19,
   "metadata": {},
   "outputs": [],
   "source": [
    "water_diff = pd.DataFrame(water_diff)"
   ]
  },
  {
   "cell_type": "code",
   "execution_count": 20,
   "metadata": {},
   "outputs": [],
   "source": [
    "water_diff.biz_dt = pd.to_timedelta(water_diff.biz_dt)  # timedelta 로 저장"
   ]
  },
  {
   "cell_type": "code",
   "execution_count": 22,
   "metadata": {
    "scrolled": true
   },
   "outputs": [
    {
     "data": {
      "text/html": [
       "<div>\n",
       "<style scoped>\n",
       "    .dataframe tbody tr th:only-of-type {\n",
       "        vertical-align: middle;\n",
       "    }\n",
       "\n",
       "    .dataframe tbody tr th {\n",
       "        vertical-align: top;\n",
       "    }\n",
       "\n",
       "    .dataframe thead th {\n",
       "        text-align: right;\n",
       "    }\n",
       "</style>\n",
       "<table border=\"1\" class=\"dataframe\">\n",
       "  <thead>\n",
       "    <tr style=\"text-align: right;\">\n",
       "      <th></th>\n",
       "      <th></th>\n",
       "      <th>biz_dt</th>\n",
       "    </tr>\n",
       "    <tr>\n",
       "      <th>m_id</th>\n",
       "      <th></th>\n",
       "      <th></th>\n",
       "    </tr>\n",
       "  </thead>\n",
       "  <tbody>\n",
       "    <tr>\n",
       "      <th rowspan=\"5\" valign=\"top\">1,000,006</th>\n",
       "      <th>0</th>\n",
       "      <td>NaT</td>\n",
       "    </tr>\n",
       "    <tr>\n",
       "      <th>1</th>\n",
       "      <td>35 days</td>\n",
       "    </tr>\n",
       "    <tr>\n",
       "      <th>2</th>\n",
       "      <td>15 days</td>\n",
       "    </tr>\n",
       "    <tr>\n",
       "      <th>3</th>\n",
       "      <td>49 days</td>\n",
       "    </tr>\n",
       "    <tr>\n",
       "      <th>4</th>\n",
       "      <td>44 days</td>\n",
       "    </tr>\n",
       "  </tbody>\n",
       "</table>\n",
       "</div>"
      ],
      "text/plain": [
       "             biz_dt\n",
       "m_id               \n",
       "1,000,006 0     NaT\n",
       "          1 35 days\n",
       "          2 15 days\n",
       "          3 49 days\n",
       "          4 44 days"
      ]
     },
     "execution_count": 22,
     "metadata": {},
     "output_type": "execute_result"
    }
   ],
   "source": [
    "water_diff.head()"
   ]
  },
  {
   "cell_type": "code",
   "execution_count": 24,
   "metadata": {},
   "outputs": [],
   "source": [
    "#dropna\n",
    "water_diff = water_diff.dropna()"
   ]
  },
  {
   "cell_type": "code",
   "execution_count": 26,
   "metadata": {},
   "outputs": [],
   "source": [
    "# 동일일자 구매는 제거하고, 평균 구하기\n",
    "\n",
    "filter = pd.Timedelta('0')"
   ]
  },
  {
   "cell_type": "code",
   "execution_count": 28,
   "metadata": {},
   "outputs": [
    {
     "data": {
      "text/plain": [
       "biz_dt   40 days 18:54:16.951894\n",
       "dtype: timedelta64[ns]"
      ]
     },
     "execution_count": 28,
     "metadata": {},
     "output_type": "execute_result"
    }
   ],
   "source": [
    "water_diff[water_diff.biz_dt > filter].mean()  # 40일 정도네!"
   ]
  },
  {
   "cell_type": "code",
   "execution_count": 218,
   "metadata": {},
   "outputs": [
    {
     "data": {
      "text/plain": [
       "(1160600, 1)"
      ]
     },
     "execution_count": 218,
     "metadata": {},
     "output_type": "execute_result"
    }
   ],
   "source": [
    "water_diff.shape"
   ]
  },
  {
   "cell_type": "markdown",
   "metadata": {},
   "source": [
    "### # groupby된, series데이터를 어떻게 하나의 열을 갖는 dataframe으로 관리할 수 있을까?"
   ]
  },
  {
   "cell_type": "code",
   "execution_count": 220,
   "metadata": {},
   "outputs": [
    {
     "data": {
      "text/plain": [
       "pandas.core.series.Series"
      ]
     },
     "execution_count": 220,
     "metadata": {},
     "output_type": "execute_result"
    }
   ],
   "source": [
    "type(water_diff.biz_dt)  # series 데이터야"
   ]
  },
  {
   "cell_type": "markdown",
   "metadata": {},
   "source": [
    "---"
   ]
  },
  {
   "cell_type": "code",
   "execution_count": 231,
   "metadata": {},
   "outputs": [],
   "source": [
    "# 이게 해결책이 될 수 있다 : values를 빼왔는데, 이들의 type를 timedelta로 밝혀준거지! 그리고 저장하고!\n",
    "\n",
    "water_diff_days = water_diff.values.astype('timedelta64[D]')"
   ]
  },
  {
   "cell_type": "code",
   "execution_count": 235,
   "metadata": {},
   "outputs": [],
   "source": [
    "water_diff_days = water_diff_days/ np.timedelta64(1, 'D')"
   ]
  },
  {
   "cell_type": "code",
   "execution_count": 239,
   "metadata": {},
   "outputs": [
    {
     "data": {
      "text/html": [
       "<div>\n",
       "<style scoped>\n",
       "    .dataframe tbody tr th:only-of-type {\n",
       "        vertical-align: middle;\n",
       "    }\n",
       "\n",
       "    .dataframe tbody tr th {\n",
       "        vertical-align: top;\n",
       "    }\n",
       "\n",
       "    .dataframe thead th {\n",
       "        text-align: right;\n",
       "    }\n",
       "</style>\n",
       "<table border=\"1\" class=\"dataframe\">\n",
       "  <thead>\n",
       "    <tr style=\"text-align: right;\">\n",
       "      <th></th>\n",
       "      <th>time</th>\n",
       "    </tr>\n",
       "  </thead>\n",
       "  <tbody>\n",
       "    <tr>\n",
       "      <th>0</th>\n",
       "      <td>35.0</td>\n",
       "    </tr>\n",
       "    <tr>\n",
       "      <th>1</th>\n",
       "      <td>15.0</td>\n",
       "    </tr>\n",
       "    <tr>\n",
       "      <th>2</th>\n",
       "      <td>49.0</td>\n",
       "    </tr>\n",
       "    <tr>\n",
       "      <th>3</th>\n",
       "      <td>44.0</td>\n",
       "    </tr>\n",
       "    <tr>\n",
       "      <th>4</th>\n",
       "      <td>0.0</td>\n",
       "    </tr>\n",
       "  </tbody>\n",
       "</table>\n",
       "</div>"
      ],
      "text/plain": [
       "   time\n",
       "0  35.0\n",
       "1  15.0\n",
       "2  49.0\n",
       "3  44.0\n",
       "4   0.0"
      ]
     },
     "execution_count": 239,
     "metadata": {},
     "output_type": "execute_result"
    }
   ],
   "source": [
    "water_diff_days_ = pd.DataFrame(water_diff_days, columns = ['time']);water_diff_days_.head()"
   ]
  },
  {
   "cell_type": "markdown",
   "metadata": {},
   "source": [
    "---"
   ]
  },
  {
   "cell_type": "code",
   "execution_count": 242,
   "metadata": {},
   "outputs": [
    {
     "data": {
      "text/plain": [
       "array([[<matplotlib.axes._subplots.AxesSubplot object at 0x1976109e8>]],\n",
       "      dtype=object)"
      ]
     },
     "execution_count": 242,
     "metadata": {},
     "output_type": "execute_result"
    },
    {
     "data": {
      "image/png": "[encoded data removed]",
      "text/plain": [
       "<Figure size 432x288 with 1 Axes>"
      ]
     },
     "metadata": {
      "needs_background": "light"
     },
     "output_type": "display_data"
    }
   ],
   "source": [
    "water_diff_days_.hist(bins=50)"
   ]
  },
  {
   "cell_type": "code",
   "execution_count": 251,
   "metadata": {},
   "outputs": [],
   "source": [
    "water_diff_days_inver = 1/water_diff_days_[water_diff_days_!=0]  # 이렇게하면, water_diff_days_!=0 가 dataframe으로 나와\n",
    "                                                # 이유는, water_diff_days.time != 0 이런식으로 안해서.(series vs dataframe)\n",
    "    "
   ]
  },
  {
   "cell_type": "code",
   "execution_count": 255,
   "metadata": {},
   "outputs": [],
   "source": [
    "water_diff_days_iver = water_diff_days_inver.dropna()"
   ]
  },
  {
   "cell_type": "code",
   "execution_count": 261,
   "metadata": {},
   "outputs": [],
   "source": [
    "water_diff_days_inver7 = water_diff_days_iver*7"
   ]
  },
  {
   "cell_type": "code",
   "execution_count": 264,
   "metadata": {
    "scrolled": true
   },
   "outputs": [
    {
     "data": {
      "text/plain": [
       "array([[<matplotlib.axes._subplots.AxesSubplot object at 0x179adecc0>]],\n",
       "      dtype=object)"
      ]
     },
     "execution_count": 264,
     "metadata": {},
     "output_type": "execute_result"
    },
    {
     "data": {
      "image/png": "[encoded data removed]",
      "text/plain": [
       "<Figure size 432x288 with 1 Axes>"
      ]
     },
     "metadata": {
      "needs_background": "light"
     },
     "output_type": "display_data"
    }
   ],
   "source": [
    "water_diff_days_inver7.hist(bins=70)"
   ]
  },
  {
   "cell_type": "code",
   "execution_count": 276,
   "metadata": {},
   "outputs": [
    {
     "data": {
      "text/plain": [
       "(0.9286064293931081, 2.0009016546621714)"
      ]
     },
     "execution_count": 276,
     "metadata": {},
     "output_type": "execute_result"
    }
   ],
   "source": [
    "#차장님이 주신 3개월치의 데이터에서는 alpha : 0.991580757, beta : 1.804783562\n",
    "\n",
    "alpha_, _,scale_ = stats.gamma.fit(water_diff_days_inver7, floc=0);alpha_, 1/scale_ "
   ]
  },
  {
   "cell_type": "markdown",
   "metadata": {},
   "source": [
    "---"
   ]
  },
  {
   "cell_type": "markdown",
   "metadata": {},
   "source": [
    "---"
   ]
  },
  {
   "cell_type": "markdown",
   "metadata": {},
   "source": [
    "- (번외): 어느정도 기간의 거래데이터인가?"
   ]
  },
  {
   "cell_type": "code",
   "execution_count": 129,
   "metadata": {
    "scrolled": true
   },
   "outputs": [
    {
     "data": {
      "text/plain": [
       "1833272   2018-09-28 17:00:07\n",
       "Name: biz_dt, dtype: datetime64[ns]"
      ]
     },
     "execution_count": 129,
     "metadata": {},
     "output_type": "execute_result"
    }
   ],
   "source": [
    "water[-1:].biz_dt"
   ]
  },
  {
   "cell_type": "markdown",
   "metadata": {},
   "source": [
    "----"
   ]
  },
  {
   "cell_type": "code",
   "execution_count": 130,
   "metadata": {},
   "outputs": [
    {
     "data": {
      "text/plain": [
       "0   2018-01-01 00:00:18\n",
       "Name: biz_dt, dtype: datetime64[ns]"
      ]
     },
     "execution_count": 130,
     "metadata": {},
     "output_type": "execute_result"
    }
   ],
   "source": [
    "water[:1].biz_dt"
   ]
  },
  {
   "cell_type": "code",
   "execution_count": 139,
   "metadata": {
    "scrolled": false
   },
   "outputs": [],
   "source": [
    "x = pd.DataFrame({'to':[pd.Timestamp('2018-09-28 17:00:07')], 'fr':[pd.Timestamp('2018-01-01 00:00:18')]})"
   ]
  },
  {
   "cell_type": "code",
   "execution_count": 140,
   "metadata": {},
   "outputs": [
    {
     "data": {
      "text/html": [
       "<div>\n",
       "<style scoped>\n",
       "    .dataframe tbody tr th:only-of-type {\n",
       "        vertical-align: middle;\n",
       "    }\n",
       "\n",
       "    .dataframe tbody tr th {\n",
       "        vertical-align: top;\n",
       "    }\n",
       "\n",
       "    .dataframe thead th {\n",
       "        text-align: right;\n",
       "    }\n",
       "</style>\n",
       "<table border=\"1\" class=\"dataframe\">\n",
       "  <thead>\n",
       "    <tr style=\"text-align: right;\">\n",
       "      <th></th>\n",
       "      <th>to</th>\n",
       "      <th>fr</th>\n",
       "    </tr>\n",
       "  </thead>\n",
       "  <tbody>\n",
       "    <tr>\n",
       "      <th>0</th>\n",
       "      <td>2018-09-28 17:00:07</td>\n",
       "      <td>2018-01-01 00:00:18</td>\n",
       "    </tr>\n",
       "  </tbody>\n",
       "</table>\n",
       "</div>"
      ],
      "text/plain": [
       "                   to                  fr\n",
       "0 2018-09-28 17:00:07 2018-01-01 00:00:18"
      ]
     },
     "execution_count": 140,
     "metadata": {},
     "output_type": "execute_result"
    }
   ],
   "source": [
    "x"
   ]
  },
  {
   "cell_type": "code",
   "execution_count": 137,
   "metadata": {},
   "outputs": [
    {
     "data": {
      "text/plain": [
       "0   2018-09-28 17:00:07\n",
       "Name: to, dtype: datetime64[ns]"
      ]
     },
     "execution_count": 137,
     "metadata": {},
     "output_type": "execute_result"
    }
   ],
   "source": [
    "x.to"
   ]
  },
  {
   "cell_type": "code",
   "execution_count": 141,
   "metadata": {},
   "outputs": [
    {
     "data": {
      "text/plain": [
       "0   2018-01-01 00:00:18\n",
       "Name: fr, dtype: datetime64[ns]"
      ]
     },
     "execution_count": 141,
     "metadata": {},
     "output_type": "execute_result"
    }
   ],
   "source": [
    "x.fr"
   ]
  },
  {
   "cell_type": "code",
   "execution_count": 142,
   "metadata": {
    "scrolled": true
   },
   "outputs": [
    {
     "data": {
      "text/plain": [
       "0   270 days 16:59:49\n",
       "dtype: timedelta64[ns]"
      ]
     },
     "execution_count": 142,
     "metadata": {},
     "output_type": "execute_result"
    }
   ],
   "source": [
    "x.to-x.fr"
   ]
  },
  {
   "cell_type": "code",
   "execution_count": 146,
   "metadata": {},
   "outputs": [
    {
     "data": {
      "text/plain": [
       "0    38.571429\n",
       "dtype: float64"
      ]
     },
     "execution_count": 146,
     "metadata": {},
     "output_type": "execute_result"
    }
   ],
   "source": [
    "(x.to-x.fr).astype('timedelta64[D]') / 7  # 약 38주!"
   ]
  },
  {
   "cell_type": "markdown",
   "metadata": {},
   "source": [
    "---"
   ]
  },
  {
   "cell_type": "markdown",
   "metadata": {},
   "source": [
    "- #### (2) ver2의 '구매횟수' 관점"
   ]
  },
  {
   "cell_type": "code",
   "execution_count": null,
   "metadata": {},
   "outputs": [],
   "source": [
    "# 같은 일자는 '거래일=1'로 본다.\n",
    "'''\n",
    "def day(data):\n",
    "    c = data.dt.date.nunique()\n",
    "    return c\n",
    "'''"
   ]
  },
  {
   "cell_type": "code",
   "execution_count": 37,
   "metadata": {},
   "outputs": [],
   "source": [
    "# 같은 일자의 거래도, '모든' 거래로 본다.\n",
    "def day(data):\n",
    "    c = data.nunique()\n",
    "    return c\n"
   ]
  },
  {
   "cell_type": "code",
   "execution_count": 38,
   "metadata": {},
   "outputs": [],
   "source": [
    "water_buy = groups['biz_dt'].apply(day)"
   ]
  },
  {
   "cell_type": "code",
   "execution_count": 40,
   "metadata": {
    "scrolled": true
   },
   "outputs": [
    {
     "data": {
      "text/plain": [
       "m_id\n",
       "1,000,006     9\n",
       "1,000,007     3\n",
       "1,000,008     1\n",
       "1,000,011     2\n",
       "1,000,020     3\n",
       "1,000,028    14\n",
       "1,000,034     2\n",
       "1,000,040     2\n",
       "1,000,041     3\n",
       "1,000,068     1\n",
       "Name: biz_dt, dtype: int64"
      ]
     },
     "execution_count": 40,
     "metadata": {},
     "output_type": "execute_result"
    }
   ],
   "source": [
    "water_buy[:10]"
   ]
  },
  {
   "cell_type": "code",
   "execution_count": null,
   "metadata": {},
   "outputs": [],
   "source": []
  },
  {
   "cell_type": "code",
   "execution_count": null,
   "metadata": {},
   "outputs": [],
   "source": [
    "water_buy = pd.DataFrame(water_buy)"
   ]
  },
  {
   "cell_type": "code",
   "execution_count": 152,
   "metadata": {},
   "outputs": [
    {
     "data": {
      "text/plain": [
       "pandas.core.series.Series"
      ]
     },
     "execution_count": 152,
     "metadata": {},
     "output_type": "execute_result"
    }
   ],
   "source": [
    "type(water_buy)"
   ]
  },
  {
   "cell_type": "code",
   "execution_count": 151,
   "metadata": {},
   "outputs": [
    {
     "data": {
      "text/plain": [
       "<matplotlib.axes._subplots.AxesSubplot at 0x19a373400>"
      ]
     },
     "execution_count": 151,
     "metadata": {},
     "output_type": "execute_result"
    },
    {
     "data": {
      "image/png": "[encoded data removed]",
      "text/plain": [
       "<Figure size 432x288 with 1 Axes>"
      ]
     },
     "metadata": {
      "needs_background": "light"
     },
     "output_type": "display_data"
    }
   ],
   "source": [
    "water_buy.hist(bins=200)"
   ]
  },
  {
   "cell_type": "code",
   "execution_count": 153,
   "metadata": {},
   "outputs": [],
   "source": [
    "water_buy_ = water_buy/38.0"
   ]
  },
  {
   "cell_type": "code",
   "execution_count": 156,
   "metadata": {},
   "outputs": [
    {
     "data": {
      "text/plain": [
       "<matplotlib.axes._subplots.AxesSubplot at 0x189e70780>"
      ]
     },
     "execution_count": 156,
     "metadata": {},
     "output_type": "execute_result"
    },
    {
     "data": {
      "image/png": "[encoded data removed]",
      "text/plain": [
       "<Figure size 432x288 with 1 Axes>"
      ]
     },
     "metadata": {
      "needs_background": "light"
     },
     "output_type": "display_data"
    }
   ],
   "source": [
    "water_buy_.hist(bins=200)"
   ]
  },
  {
   "cell_type": "code",
   "execution_count": 157,
   "metadata": {},
   "outputs": [],
   "source": [
    "import scipy.stats as stats"
   ]
  },
  {
   "cell_type": "code",
   "execution_count": 160,
   "metadata": {},
   "outputs": [
    {
     "data": {
      "text/plain": [
       "(1.6348410016313837, 23.228302136357172)"
      ]
     },
     "execution_count": 160,
     "metadata": {},
     "output_type": "execute_result"
    }
   ],
   "source": [
    "alpha, _,scale = stats.gamma.fit(water_buy_, floc=0);alpha,1/scale "
   ]
  },
  {
   "cell_type": "code",
   "execution_count": 161,
   "metadata": {},
   "outputs": [
    {
     "data": {
      "text/plain": [
       "0.07038142486843729"
      ]
     },
     "execution_count": 161,
     "metadata": {},
     "output_type": "execute_result"
    }
   ],
   "source": [
    "alpha*scale"
   ]
  },
  {
   "cell_type": "markdown",
   "metadata": {},
   "source": [
    "---"
   ]
  },
  {
   "cell_type": "markdown",
   "metadata": {},
   "source": [
    "## # Step2. Fittng"
   ]
  },
  {
   "cell_type": "markdown",
   "metadata": {},
   "source": [
    "실장님 '생수/탄산수' 주기 사용"
   ]
  },
  {
   "cell_type": "markdown",
   "metadata": {},
   "source": [
    "### # ver(2) 로 먼저"
   ]
  },
  {
   "cell_type": "code",
   "execution_count": 178,
   "metadata": {},
   "outputs": [
    {
     "data": {
      "text/plain": [
       "array([ 0,  5, 10])"
      ]
     },
     "execution_count": 178,
     "metadata": {},
     "output_type": "execute_result"
    }
   ],
   "source": [
    "time = np.arange(0,11,5);time"
   ]
  },
  {
   "cell_type": "markdown",
   "metadata": {},
   "source": [
    "* ####  (1)실장님 원래 주기 : 주기가 넘어갔을때"
   ]
  },
  {
   "cell_type": "code",
   "execution_count": 179,
   "metadata": {},
   "outputs": [],
   "source": [
    "# 실장님 원래 주기 : 주기가 넘어갔을때\n",
    "\n",
    "k, t_purch, tmean_u, t_ ,alpha, beta = 1, 0, 5.122566039 , 13.14285714, 1.6348410016313837, 23.228302136357172"
   ]
  },
  {
   "cell_type": "code",
   "execution_count": 164,
   "metadata": {},
   "outputs": [],
   "source": [
    "# 함수로 출력되는게 많게했어! & unit time을 1주일로 변경.\n",
    "\n",
    "def func_lamb(t_purch, tmean_u, t_ , alpha, beta, k):\n",
    "\n",
    "    if t_purch == 0:  # t_purch가 0이라는 소리는, k=1이라는 소리겠지! 그러니깐 앞의 값이 0이 되게끔 한거야.\n",
    "        lamb = (alpha/(2*abs(tmean_u-t_)+beta))\n",
    "        lamb_0 = (alpha/(2*abs(tmean_u)+beta))   # 최저값 : t=0\n",
    "        lamb_1 = (alpha/+beta)     # 최고값 : |tmean-t|=0\n",
    "    else:\n",
    "        lamb = (k/t_purch+(alpha/(2*abs(tmean_u-t_)+beta)))\n",
    "        lamb_0 = (k/t_purch+(alpha/(2*abs(tmean_u)+beta)))   # 최저값 : t=0  \n",
    "        lamb_1 = (k/t_purch+(alpha/+beta))     #최고값 : |tmean-t|=0\n",
    "    return lamb,lamb_0, lamb_1, t_, t_purch, tmean_u, k"
   ]
  },
  {
   "cell_type": "code",
   "execution_count": 165,
   "metadata": {},
   "outputs": [
    {
     "name": "stdout",
     "output_type": "stream",
     "text": [
      "0.04163196966699914 0.048839954429598986 0.07038142486843729\n"
     ]
    }
   ],
   "source": [
    "lamb, lamb_0, lamb_1, t_, t_purch, tmean_u, k = func_lamb(t_purch, tmean_u, t_ , alpha, beta, k)\n",
    "\n",
    "print(lamb, lamb_0, lamb_1)"
   ]
  },
  {
   "cell_type": "code",
   "execution_count": 166,
   "metadata": {
    "scrolled": false
   },
   "outputs": [
    {
     "name": "stdout",
     "output_type": "stream",
     "text": [
      "pred : 0.04077726131720538 , max : 0.06796175046813868 , min : 0.04077726131720538\n",
      "scaling : 0.0\n"
     ]
    }
   ],
   "source": [
    "       \n",
    "if lamb < lamb_0: # 일자별, 이런 경우가 있을수도 있어 - 마지막 구매부터 너무 너무 멀어지면!\n",
    "    lamb_0 = lamb\n",
    "pred = (1-stats.poisson.pmf(mu = lamb, k=0))\n",
    "max =  (1-stats.poisson.pmf(mu = lamb_1, k=0))  # max\n",
    "min =  (1-stats.poisson.pmf(mu = lamb_0, k=0))  # min\n",
    "scal = (pred - min)/(max - min)\n",
    "\n",
    "print('pred : {}'.format(pred), ', max : {}'.format(max), ', min : {}'.format(min))\n",
    "print('scaling : {}'.format(scal))"
   ]
  },
  {
   "cell_type": "markdown",
   "metadata": {},
   "source": [
    ": 일단, lambda의 값이 작기때문에, lambda 범위가 너무 좁아!!"
   ]
  },
  {
   "cell_type": "markdown",
   "metadata": {},
   "source": [
    "---"
   ]
  },
  {
   "cell_type": "markdown",
   "metadata": {},
   "source": [
    "- #### (2)주기가 평균일때"
   ]
  },
  {
   "cell_type": "code",
   "execution_count": 325,
   "metadata": {},
   "outputs": [],
   "source": [
    "# 주기가 평균일때\n",
    "\n",
    "k, t_purch, tmean_u, t_ ,alpha, beta = 1, 0, 5.122566039 , 5.12256603893284, 1.6348410016313837, 23.228302136357172"
   ]
  },
  {
   "cell_type": "code",
   "execution_count": 326,
   "metadata": {},
   "outputs": [],
   "source": [
    "# 함수로 출력되는게 많게했어! & unit time을 1주일로 변경.\n",
    "\n",
    "def func_lamb(t_purch, tmean_u, t_ , alpha, beta, k):\n",
    "\n",
    "    if t_purch == 0:  # t_purch가 0이라는 소리는, k=1이라는 소리겠지! 그러니깐 앞의 값이 0이 되게끔 한거야.\n",
    "        lamb = (alpha/(2*abs(tmean_u-t_)+beta))\n",
    "        lamb_0 = (alpha/(2*abs(tmean_u)+beta))   # 최저값 : t=0\n",
    "        lamb_1 = (alpha/+beta)     # 최고값 : |tmean-t|=0\n",
    "    else:\n",
    "        lamb = (k/t_purch+(alpha/(2*abs(tmean_u-t_)+beta)))\n",
    "        lamb_0 = (k/t_purch+(alpha/(2*abs(tmean_u)+beta)))   # 최저값 : t=0  \n",
    "        lamb_1 = (k/t_purch+(alpha/+beta))     #최고값 : |tmean-t|=0\n",
    "    return lamb,lamb_0, lamb_1, t_, t_purch, tmean_u, k"
   ]
  },
  {
   "cell_type": "code",
   "execution_count": 327,
   "metadata": {},
   "outputs": [
    {
     "name": "stdout",
     "output_type": "stream",
     "text": [
      "0.0703814248680303 0.048839954429598986 0.07038142486843729\n"
     ]
    }
   ],
   "source": [
    "lamb, lamb_0, lamb_1, t_, t_purch, tmean_u, k = func_lamb(t_purch, tmean_u, t_ , alpha, beta, k)\n",
    "\n",
    "print(lamb, lamb_0, lamb_1)"
   ]
  },
  {
   "cell_type": "code",
   "execution_count": 328,
   "metadata": {
    "scrolled": false
   },
   "outputs": [
    {
     "name": "stdout",
     "output_type": "stream",
     "text": [
      "pred : 0.06796175046775943 , max : 0.06796175046813868 , min : 0.04766646573395483\n",
      "scaling : 0.9999999999813133\n"
     ]
    }
   ],
   "source": [
    "       \n",
    "if lamb < lamb_0: # 일자별, 이런 경우가 있을수도 있어 - 마지막 구매부터 너무 너무 멀어지면!\n",
    "    lamb_0 = lamb\n",
    "pred = (1-stats.poisson.pmf(mu = lamb, k=0))\n",
    "max =  (1-stats.poisson.pmf(mu = lamb_1, k=0))  # max\n",
    "min =  (1-stats.poisson.pmf(mu = lamb_0, k=0))  # min\n",
    "scal = (pred - min)/(max - min)\n",
    "\n",
    "print('pred : {}'.format(pred), ', max : {}'.format(max), ', min : {}'.format(min))\n",
    "print('scaling : {}'.format(scal))"
   ]
  },
  {
   "cell_type": "markdown",
   "metadata": {},
   "source": [
    "---"
   ]
  },
  {
   "cell_type": "markdown",
   "metadata": {},
   "source": [
    "- #### (3)주기가 평균 - 1 주"
   ]
  },
  {
   "cell_type": "code",
   "execution_count": 317,
   "metadata": {},
   "outputs": [],
   "source": [
    "# 주기가 평균 - 1.5 주\n",
    "\n",
    "k, t_purch, tmean_u, t_ ,alpha, beta = 1, 0, 5.122566039 ,  5.12256603893284-1, 1.6348410016313837, 23.228302136357172"
   ]
  },
  {
   "cell_type": "code",
   "execution_count": 318,
   "metadata": {},
   "outputs": [],
   "source": [
    "# 함수로 출력되는게 많게했어! & unit time을 1주일로 변경.\n",
    "\n",
    "def func_lamb(t_purch, tmean_u, t_ , alpha, beta, k):\n",
    "\n",
    "    if t_purch == 0:  # t_purch가 0이라는 소리는, k=1이라는 소리겠지! 그러니깐 앞의 값이 0이 되게끔 한거야.\n",
    "        lamb = (alpha/(2*abs(tmean_u-t_)+beta))\n",
    "        lamb_0 = (alpha/(2*abs(tmean_u)+beta))   # 최저값 : t=0\n",
    "        lamb_1 = (alpha/+beta)     # 최고값 : |tmean-t|=0\n",
    "    else:\n",
    "        lamb = (k/t_purch+(alpha/(2*abs(tmean_u-t_)+beta)))\n",
    "        lamb_0 = (k/t_purch+(alpha/(2*abs(tmean_u)+beta)))   # 최저값 : t=0  \n",
    "        lamb_1 = (k/t_purch+(alpha/+beta))     #최고값 : |tmean-t|=0\n",
    "    return lamb,lamb_0, lamb_1, t_, t_purch, tmean_u, k"
   ]
  },
  {
   "cell_type": "code",
   "execution_count": 319,
   "metadata": {},
   "outputs": [
    {
     "name": "stdout",
     "output_type": "stream",
     "text": [
      "0.06480186390611943 0.048839954429598986 0.07038142486843729\n"
     ]
    }
   ],
   "source": [
    "lamb, lamb_0, lamb_1, t_, t_purch, tmean_u, k = func_lamb(t_purch, tmean_u, t_ , alpha, beta, k)\n",
    "\n",
    "print(lamb, lamb_0, lamb_1)"
   ]
  },
  {
   "cell_type": "code",
   "execution_count": 320,
   "metadata": {
    "scrolled": true
   },
   "outputs": [
    {
     "name": "stdout",
     "output_type": "stream",
     "text": [
      "pred : 0.06274685134082969 , max : 0.06796175046813868 , min : 0.04766646573395483\n",
      "scaling : 0.7430487329637998\n"
     ]
    }
   ],
   "source": [
    "       \n",
    "if lamb < lamb_0: # 일자별, 이런 경우가 있을수도 있어 - 마지막 구매부터 너무 너무 멀어지면!\n",
    "    lamb_0 = lamb\n",
    "pred = (1-stats.poisson.pmf(mu = lamb, k=0))\n",
    "max =  (1-stats.poisson.pmf(mu = lamb_1, k=0))  # max\n",
    "min =  (1-stats.poisson.pmf(mu = lamb_0, k=0))  # min\n",
    "scal = (pred - min)/(max - min)\n",
    "\n",
    "print('pred : {}'.format(pred), ', max : {}'.format(max), ', min : {}'.format(min))\n",
    "print('scaling : {}'.format(scal))"
   ]
  },
  {
   "cell_type": "markdown",
   "metadata": {},
   "source": [
    "- #### (4)주기가 평균-0.5 주"
   ]
  },
  {
   "cell_type": "code",
   "execution_count": 321,
   "metadata": {},
   "outputs": [],
   "source": [
    "# 주기가 평균 - .5 주\n",
    "\n",
    "k, t_purch, tmean_u, t_ ,alpha, beta = 1, 0, 5.122566039 , 5.12256603893284-0.5, 1.6348410016313837, 23.228302136357172"
   ]
  },
  {
   "cell_type": "code",
   "execution_count": 322,
   "metadata": {},
   "outputs": [],
   "source": [
    "# 함수로 출력되는게 많게했어! & unit time을 1주일로 변경.\n",
    "\n",
    "def func_lamb(t_purch, tmean_u, t_ , alpha, beta, k):\n",
    "\n",
    "    if t_purch == 0:  # t_purch가 0이라는 소리는, k=1이라는 소리겠지! 그러니깐 앞의 값이 0이 되게끔 한거야.\n",
    "        lamb = (alpha/(2*abs(tmean_u-t_)+beta))\n",
    "        lamb_0 = (alpha/(2*abs(tmean_u)+beta))   # 최저값 : t=0\n",
    "        lamb_1 = (alpha/+beta)     # 최고값 : |tmean-t|=0\n",
    "    else:\n",
    "        lamb = (k/t_purch+(alpha/(2*abs(tmean_u-t_)+beta)))\n",
    "        lamb_0 = (k/t_purch+(alpha/(2*abs(tmean_u)+beta)))   # 최저값 : t=0  \n",
    "        lamb_1 = (k/t_purch+(alpha/+beta))     #최고값 : |tmean-t|=0\n",
    "    return lamb,lamb_0, lamb_1, t_, t_purch, tmean_u, k"
   ]
  },
  {
   "cell_type": "code",
   "execution_count": 323,
   "metadata": {},
   "outputs": [
    {
     "name": "stdout",
     "output_type": "stream",
     "text": [
      "0.06747649886572388 0.048839954429598986 0.07038142486843729\n"
     ]
    }
   ],
   "source": [
    "lamb, lamb_0, lamb_1, t_, t_purch, tmean_u, k = func_lamb(t_purch, tmean_u, t_ , alpha, beta, k)\n",
    "\n",
    "print(lamb, lamb_0, lamb_1)"
   ]
  },
  {
   "cell_type": "code",
   "execution_count": 324,
   "metadata": {
    "scrolled": false
   },
   "outputs": [
    {
     "name": "stdout",
     "output_type": "stream",
     "text": [
      "pred : 0.06525031196416997 , max : 0.06796175046813868 , min : 0.04766646573395483\n",
      "scaling : 0.8664005684334269\n"
     ]
    }
   ],
   "source": [
    "       \n",
    "if lamb < lamb_0: # 일자별, 이런 경우가 있을수도 있어 - 마지막 구매부터 너무 너무 멀어지면!\n",
    "    lamb_0 = lamb\n",
    "pred = (1-stats.poisson.pmf(mu = lamb, k=0))\n",
    "max =  (1-stats.poisson.pmf(mu = lamb_1, k=0))  # max\n",
    "min =  (1-stats.poisson.pmf(mu = lamb_0, k=0))  # min\n",
    "scal = (pred - min)/(max - min)\n",
    "\n",
    "print('pred : {}'.format(pred), ', max : {}'.format(max), ', min : {}'.format(min))\n",
    "print('scaling : {}'.format(scal))"
   ]
  },
  {
   "cell_type": "markdown",
   "metadata": {},
   "source": [
    "---"
   ]
  },
  {
   "cell_type": "markdown",
   "metadata": {},
   "source": [
    "### #ver(1)으로"
   ]
  },
  {
   "cell_type": "markdown",
   "metadata": {},
   "source": [
    "* ####  (1)실장님 원래 주기 : 주기가 넘어갔을때"
   ]
  },
  {
   "cell_type": "code",
   "execution_count": 188,
   "metadata": {},
   "outputs": [],
   "source": [
    "# 실장님 원래 주기 : 주기가 넘어갔을때\n",
    "\n",
    "k, t_purch, tmean_u, t_ ,alpha, beta = 1, 0, 5.122566039 , 13.14285714, 0.991580757, 1.804783562"
   ]
  },
  {
   "cell_type": "code",
   "execution_count": 189,
   "metadata": {},
   "outputs": [],
   "source": [
    "# 함수로 출력되는게 많게했어! & unit time을 1주일로 변경.\n",
    "\n",
    "def func_lamb(t_purch, tmean_u, t_ , alpha, beta, k):\n",
    "\n",
    "    if t_purch == 0:  # t_purch가 0이라는 소리는, k=1이라는 소리겠지! 그러니깐 앞의 값이 0이 되게끔 한거야.\n",
    "        lamb = (alpha/(2*abs(tmean_u-t_)+beta))\n",
    "        lamb_0 = (alpha/(2*abs(tmean_u)+beta))   # 최저값 : t=0\n",
    "        lamb_1 = (alpha/+beta)     # 최고값 : |tmean-t|=0\n",
    "    else:\n",
    "        lamb = (k/t_purch+(alpha/(2*abs(tmean_u-t_)+beta)))\n",
    "        lamb_0 = (k/t_purch+(alpha/(2*abs(tmean_u)+beta)))   # 최저값 : t=0  \n",
    "        lamb_1 = (k/t_purch+(alpha/+beta))     #최고값 : |tmean-t|=0\n",
    "    return lamb,lamb_0, lamb_1, t_, t_purch, tmean_u, k"
   ]
  },
  {
   "cell_type": "code",
   "execution_count": 190,
   "metadata": {},
   "outputs": [
    {
     "name": "stdout",
     "output_type": "stream",
     "text": [
      "0.055565168577286654 0.08228943559641387 0.54941810080604\n"
     ]
    }
   ],
   "source": [
    "lamb, lamb_0, lamb_1, t_, t_purch, tmean_u, k = func_lamb(t_purch, tmean_u, t_ , alpha, beta, k)\n",
    "\n",
    "print(lamb, lamb_0, lamb_1)"
   ]
  },
  {
   "cell_type": "code",
   "execution_count": 191,
   "metadata": {
    "scrolled": false
   },
   "outputs": [
    {
     "name": "stdout",
     "output_type": "stream",
     "text": [
      "pred : 0.054049624578457856 , max : 0.4227143652914207 , min : 0.054049624578457856\n",
      "scaling : 0.0\n"
     ]
    }
   ],
   "source": [
    "       \n",
    "if lamb < lamb_0: # 일자별, 이런 경우가 있을수도 있어 - 마지막 구매부터 너무 너무 멀어지면!\n",
    "    lamb_0 = lamb\n",
    "pred = (1-stats.poisson.pmf(mu = lamb, k=0))\n",
    "max =  (1-stats.poisson.pmf(mu = lamb_1, k=0))  # max\n",
    "min =  (1-stats.poisson.pmf(mu = lamb_0, k=0))  # min\n",
    "scal = (pred - min)/(max - min)\n",
    "\n",
    "print('pred : {}'.format(pred), ', max : {}'.format(max), ', min : {}'.format(min))\n",
    "print('scaling : {}'.format(scal))"
   ]
  },
  {
   "cell_type": "markdown",
   "metadata": {},
   "source": [
    ": 일단, lambda의 값이 작기때문에, lambda 범위가 너무 좁아!!"
   ]
  },
  {
   "cell_type": "markdown",
   "metadata": {},
   "source": [
    "---"
   ]
  },
  {
   "cell_type": "markdown",
   "metadata": {},
   "source": [
    "- #### (2)주기가 평균일때"
   ]
  },
  {
   "cell_type": "code",
   "execution_count": 313,
   "metadata": {},
   "outputs": [],
   "source": [
    "# 주기가 평균일때\n",
    "\n",
    "k, t_purch, tmean_u, t_ ,alpha, beta = 1, 0, 5.122566039 ,  5.12256603893284, 0.991580757, 1.804783562"
   ]
  },
  {
   "cell_type": "code",
   "execution_count": 314,
   "metadata": {},
   "outputs": [],
   "source": [
    "# 함수로 출력되는게 많게했어! & unit time을 1주일로 변경.\n",
    "\n",
    "def func_lamb(t_purch, tmean_u, t_ , alpha, beta, k):\n",
    "\n",
    "    if t_purch == 0:  # t_purch가 0이라는 소리는, k=1이라는 소리겠지! 그러니깐 앞의 값이 0이 되게끔 한거야.\n",
    "        lamb = (alpha/(2*abs(tmean_u-t_)+beta))\n",
    "        lamb_0 = (alpha/(2*abs(tmean_u)+beta))   # 최저값 : t=0\n",
    "        lamb_1 = (alpha/+beta)     # 최고값 : |tmean-t|=0\n",
    "    else:\n",
    "        lamb = (k/t_purch+(alpha/(2*abs(tmean_u-t_)+beta)))\n",
    "        lamb_0 = (k/t_purch+(alpha/(2*abs(tmean_u)+beta)))   # 최저값 : t=0  \n",
    "        lamb_1 = (k/t_purch+(alpha/+beta))     #최고값 : |tmean-t|=0\n",
    "    return lamb,lamb_0, lamb_1, t_, t_purch, tmean_u, k"
   ]
  },
  {
   "cell_type": "code",
   "execution_count": 315,
   "metadata": {},
   "outputs": [
    {
     "name": "stdout",
     "output_type": "stream",
     "text": [
      "0.5494181007651502 0.08228943559641387 0.54941810080604\n"
     ]
    }
   ],
   "source": [
    "lamb, lamb_0, lamb_1, t_, t_purch, tmean_u, k = func_lamb(t_purch, tmean_u, t_ , alpha, beta, k)\n",
    "\n",
    "print(lamb, lamb_0, lamb_1)"
   ]
  },
  {
   "cell_type": "code",
   "execution_count": 316,
   "metadata": {
    "scrolled": false
   },
   "outputs": [
    {
     "name": "stdout",
     "output_type": "stream",
     "text": [
      "pred : 0.4227143652678156 , max : 0.4227143652914207 , min : 0.07899465161735719\n",
      "scaling : 0.9999999999313245\n"
     ]
    }
   ],
   "source": [
    "       \n",
    "if lamb < lamb_0: # 일자별, 이런 경우가 있을수도 있어 - 마지막 구매부터 너무 너무 멀어지면!\n",
    "    lamb_0 = lamb\n",
    "pred = (1-stats.poisson.pmf(mu = lamb, k=0))\n",
    "max =  (1-stats.poisson.pmf(mu = lamb_1, k=0))  # max\n",
    "min =  (1-stats.poisson.pmf(mu = lamb_0, k=0))  # min\n",
    "scal = (pred - min)/(max - min)\n",
    "\n",
    "print('pred : {}'.format(pred), ', max : {}'.format(max), ', min : {}'.format(min))\n",
    "print('scaling : {}'.format(scal))"
   ]
  },
  {
   "cell_type": "markdown",
   "metadata": {},
   "source": [
    "---"
   ]
  },
  {
   "cell_type": "markdown",
   "metadata": {},
   "source": [
    "- #### (3)주기가 '평균 - 1 주'"
   ]
  },
  {
   "cell_type": "code",
   "execution_count": 208,
   "metadata": {},
   "outputs": [],
   "source": [
    "# 주기가 평균 - 1 주\n",
    "\n",
    "k, t_purch, tmean_u, t_ ,alpha, beta = 1, 0, 5.122566039 , 5.12256603893284-1, 0.991580757, 1.804783562"
   ]
  },
  {
   "cell_type": "code",
   "execution_count": 209,
   "metadata": {},
   "outputs": [],
   "source": [
    "# 함수로 출력되는게 많게했어! & unit time을 1주일로 변경.\n",
    "\n",
    "def func_lamb(t_purch, tmean_u, t_ , alpha, beta, k):\n",
    "\n",
    "    if t_purch == 0:  # t_purch가 0이라는 소리는, k=1이라는 소리겠지! 그러니깐 앞의 값이 0이 되게끔 한거야.\n",
    "        lamb = (alpha/(2*abs(tmean_u-t_)+beta))\n",
    "        lamb_0 = (alpha/(2*abs(tmean_u)+beta))   # 최저값 : t=0\n",
    "        lamb_1 = (alpha/+beta)     # 최고값 : |tmean-t|=0\n",
    "    else:\n",
    "        lamb = (k/t_purch+(alpha/(2*abs(tmean_u-t_)+beta)))\n",
    "        lamb_0 = (k/t_purch+(alpha/(2*abs(tmean_u)+beta)))   # 최저값 : t=0  \n",
    "        lamb_1 = (k/t_purch+(alpha/+beta))     #최고값 : |tmean-t|=0\n",
    "    return lamb,lamb_0, lamb_1, t_, t_purch, tmean_u, k"
   ]
  },
  {
   "cell_type": "code",
   "execution_count": 210,
   "metadata": {},
   "outputs": [
    {
     "name": "stdout",
     "output_type": "stream",
     "text": [
      "0.26061423489849345 0.08228943559641387 0.54941810080604\n"
     ]
    }
   ],
   "source": [
    "lamb, lamb_0, lamb_1, t_, t_purch, tmean_u, k = func_lamb(t_purch, tmean_u, t_ , alpha, beta, k)\n",
    "\n",
    "print(lamb, lamb_0, lamb_1)"
   ]
  },
  {
   "cell_type": "code",
   "execution_count": 211,
   "metadata": {
    "scrolled": false
   },
   "outputs": [
    {
     "name": "stdout",
     "output_type": "stream",
     "text": [
      "pred : 0.22942187556583904 , max : 0.4227143652914207 , min : 0.07899465161735719\n",
      "scaling : 0.43764502867917066\n"
     ]
    }
   ],
   "source": [
    "       \n",
    "if lamb < lamb_0: # 일자별, 이런 경우가 있을수도 있어 - 마지막 구매부터 너무 너무 멀어지면!\n",
    "    lamb_0 = lamb\n",
    "pred = (1-stats.poisson.pmf(mu = lamb, k=0))\n",
    "max =  (1-stats.poisson.pmf(mu = lamb_1, k=0))  # max\n",
    "min =  (1-stats.poisson.pmf(mu = lamb_0, k=0))  # min\n",
    "scal = (pred - min)/(max - min)\n",
    "\n",
    "print('pred : {}'.format(pred), ', max : {}'.format(max), ', min : {}'.format(min))\n",
    "print('scaling : {}'.format(scal))"
   ]
  },
  {
   "cell_type": "markdown",
   "metadata": {},
   "source": [
    "---"
   ]
  },
  {
   "cell_type": "markdown",
   "metadata": {},
   "source": [
    "- #### (4)주기가 '평균 - 0.5 주'"
   ]
  },
  {
   "cell_type": "code",
   "execution_count": 204,
   "metadata": {},
   "outputs": [],
   "source": [
    "# 주기가 '평균 - 0.5 주'\n",
    "# mean :  5.12256603893284\n",
    "k, t_purch, tmean_u, t_ ,alpha, beta = 1, 0, 5.122566039 , 5.12256603893284-0.5, 0.991580757, 1.804783562"
   ]
  },
  {
   "cell_type": "code",
   "execution_count": 205,
   "metadata": {},
   "outputs": [],
   "source": [
    "# 함수로 출력되는게 많게했어! & unit time을 1주일로 변경.\n",
    "\n",
    "def func_lamb(t_purch, tmean_u, t_ , alpha, beta, k):\n",
    "\n",
    "    if t_purch == 0:  # t_purch가 0이라는 소리는, k=1이라는 소리겠지! 그러니깐 앞의 값이 0이 되게끔 한거야.\n",
    "        lamb = (alpha/(2*abs(tmean_u-t_)+beta))\n",
    "        lamb_0 = (alpha/(2*abs(tmean_u)+beta))   # 최저값 : t=0\n",
    "        lamb_1 = (alpha/+beta)     # 최고값 : |tmean-t|=0\n",
    "    else:\n",
    "        lamb = (k/t_purch+(alpha/(2*abs(tmean_u-t_)+beta)))\n",
    "        lamb_0 = (k/t_purch+(alpha/(2*abs(tmean_u)+beta)))   # 최저값 : t=0  \n",
    "        lamb_1 = (k/t_purch+(alpha/+beta))     #최고값 : |tmean-t|=0\n",
    "    return lamb,lamb_0, lamb_1, t_, t_purch, tmean_u, k"
   ]
  },
  {
   "cell_type": "code",
   "execution_count": 206,
   "metadata": {},
   "outputs": [
    {
     "name": "stdout",
     "output_type": "stream",
     "text": [
      "0.35353200524515693 0.08228943559641387 0.54941810080604\n"
     ]
    }
   ],
   "source": [
    "lamb, lamb_0, lamb_1, t_, t_purch, tmean_u, k = func_lamb(t_purch, tmean_u, t_ , alpha, beta, k)\n",
    "\n",
    "print(lamb, lamb_0, lamb_1)"
   ]
  },
  {
   "cell_type": "code",
   "execution_count": 207,
   "metadata": {
    "scrolled": false
   },
   "outputs": [
    {
     "name": "stdout",
     "output_type": "stream",
     "text": [
      "pred : 0.2977964819673278 , max : 0.4227143652914207 , min : 0.07899465161735719\n",
      "scaling : 0.6365705010375172\n"
     ]
    }
   ],
   "source": [
    "       \n",
    "if lamb < lamb_0: # 일자별, 이런 경우가 있을수도 있어 - 마지막 구매부터 너무 너무 멀어지면!\n",
    "    lamb_0 = lamb\n",
    "pred = (1-stats.poisson.pmf(mu = lamb, k=0))\n",
    "max =  (1-stats.poisson.pmf(mu = lamb_1, k=0))  # max\n",
    "min =  (1-stats.poisson.pmf(mu = lamb_0, k=0))  # min\n",
    "scal = (pred - min)/(max - min)\n",
    "\n",
    "print('pred : {}'.format(pred), ', max : {}'.format(max), ', min : {}'.format(min))\n",
    "print('scaling : {}'.format(scal))"
   ]
  },
  {
   "cell_type": "markdown",
   "metadata": {},
   "source": [
    ": 딱 주기에서 1주일 정도만 노출되도록 보인다!"
   ]
  },
  {
   "cell_type": "code",
   "execution_count": null,
   "metadata": {},
   "outputs": [],
   "source": []
  },
  {
   "cell_type": "code",
   "execution_count": null,
   "metadata": {},
   "outputs": [],
   "source": []
  },
  {
   "cell_type": "code",
   "execution_count": null,
   "metadata": {},
   "outputs": [],
   "source": []
  },
  {
   "cell_type": "code",
   "execution_count": null,
   "metadata": {},
   "outputs": [],
   "source": []
  },
  {
   "cell_type": "markdown",
   "metadata": {},
   "source": [
    "## # Step2-1. 논문 수식"
   ]
  },
  {
   "cell_type": "markdown",
   "metadata": {},
   "source": [
    "#### ver1.\n",
    "- #### (1)실장님 원래 주기"
   ]
  },
  {
   "cell_type": "code",
   "execution_count": 281,
   "metadata": {},
   "outputs": [],
   "source": [
    "# 주기가 '평균 - 0.5 주'\n",
    "# mean :  5.12256603893284\n",
    "k, t_purch, tmean_u, t_ ,alpha, beta = 1, 0, 5.122566039 , 13.14285714, 0.991580757, 1.804783562"
   ]
  },
  {
   "cell_type": "code",
   "execution_count": 282,
   "metadata": {},
   "outputs": [],
   "source": [
    "# 함수로 출력되는게 많게했어! & unit time을 1주일로 변경.\n",
    "\n",
    "def func_lamb(t_purch, tmean_u, t_ , alpha, beta, k):\n",
    "    \n",
    "    lamb = ((k+alpha)/(t_purch+2*abs(tmean_u-t_)+beta))\n",
    "    lamb_0 = ((k+alpha)/(t_purch+2*abs(tmean_u)+beta))   # 최저값 : t=0  \n",
    "    lamb_1 = ((k+alpha)/(t_purch+beta))     #최고값 : |tmean-t|=0\n",
    "    \n",
    "    return lamb,lamb_0, lamb_1, t_, t_purch, tmean_u, k"
   ]
  },
  {
   "cell_type": "code",
   "execution_count": 283,
   "metadata": {},
   "outputs": [
    {
     "name": "stdout",
     "output_type": "stream",
     "text": [
      "0.11160212591538336 0.1652775684494336 1.103501161542605\n"
     ]
    }
   ],
   "source": [
    "lamb, lamb_0, lamb_1, t_, t_purch, tmean_u, k = func_lamb(t_purch, tmean_u, t_ , alpha, beta, k)\n",
    "\n",
    "print(lamb, lamb_0, lamb_1)"
   ]
  },
  {
   "cell_type": "code",
   "execution_count": 284,
   "metadata": {
    "scrolled": false
   },
   "outputs": [
    {
     "name": "stdout",
     "output_type": "stream",
     "text": [
      "pred : 0.10559995468440087 , max : 0.668292313928871 , min : 0.10559995468440087\n",
      "scaling : 0.0\n"
     ]
    }
   ],
   "source": [
    "       \n",
    "if lamb < lamb_0: # 일자별, 이런 경우가 있을수도 있어 - 마지막 구매부터 너무 너무 멀어지면!\n",
    "    lamb_0 = lamb\n",
    "pred = (1-stats.poisson.pmf(mu = lamb, k=0))\n",
    "max =  (1-stats.poisson.pmf(mu = lamb_1, k=0))  # max\n",
    "min =  (1-stats.poisson.pmf(mu = lamb_0, k=0))  # min\n",
    "scal = (pred - min)/(max - min)\n",
    "\n",
    "print('pred : {}'.format(pred), ', max : {}'.format(max), ', min : {}'.format(min))\n",
    "print('scaling : {}'.format(scal))"
   ]
  },
  {
   "cell_type": "markdown",
   "metadata": {},
   "source": [
    "---"
   ]
  },
  {
   "cell_type": "markdown",
   "metadata": {},
   "source": [
    "- #### (2)주기가 평균일때"
   ]
  },
  {
   "cell_type": "code",
   "execution_count": 289,
   "metadata": {},
   "outputs": [],
   "source": [
    "# 주기가 평균일때\n",
    "\n",
    "k, t_purch, tmean_u, t_ ,alpha, beta = 1, 0, 5.122566039 ,  5.12256603893284, 0.991580757, 1.804783562"
   ]
  },
  {
   "cell_type": "code",
   "execution_count": 290,
   "metadata": {},
   "outputs": [],
   "source": [
    "# 함수로 출력되는게 많게했어! & unit time을 1주일로 변경.\n",
    "\n",
    "def func_lamb(t_purch, tmean_u, t_ , alpha, beta, k):\n",
    "    \n",
    "    lamb = ((k+alpha)/(t_purch+2*abs(tmean_u-t_)+beta))\n",
    "    lamb_0 = ((k+alpha)/(t_purch+2*abs(tmean_u)+beta))   # 최저값 : t=0  \n",
    "    lamb_1 = ((k+alpha)/(t_purch+beta))     #최고값 : |tmean-t|=0\n",
    "    \n",
    "    return lamb,lamb_0, lamb_1, t_, t_purch, tmean_u, k"
   ]
  },
  {
   "cell_type": "code",
   "execution_count": 291,
   "metadata": {},
   "outputs": [
    {
     "name": "stdout",
     "output_type": "stream",
     "text": [
      "1.103501161460478 0.1652775684494336 1.103501161542605\n"
     ]
    }
   ],
   "source": [
    "lamb, lamb_0, lamb_1, t_, t_purch, tmean_u, k = func_lamb(t_purch, tmean_u, t_ , alpha, beta, k)\n",
    "\n",
    "print(lamb, lamb_0, lamb_1)"
   ]
  },
  {
   "cell_type": "code",
   "execution_count": 292,
   "metadata": {
    "scrolled": true
   },
   "outputs": [
    {
     "name": "stdout",
     "output_type": "stream",
     "text": [
      "pred : 0.6682923139016288 , max : 0.668292313928871 , min : 0.1523416117931694\n",
      "scaling : 0.9999999999472\n"
     ]
    }
   ],
   "source": [
    "       \n",
    "if lamb < lamb_0: # 일자별, 이런 경우가 있을수도 있어 - 마지막 구매부터 너무 너무 멀어지면!\n",
    "    lamb_0 = lamb\n",
    "pred = (1-stats.poisson.pmf(mu = lamb, k=0))\n",
    "max =  (1-stats.poisson.pmf(mu = lamb_1, k=0))  # max\n",
    "min =  (1-stats.poisson.pmf(mu = lamb_0, k=0))  # min\n",
    "scal = (pred - min)/(max - min)\n",
    "\n",
    "print('pred : {}'.format(pred), ', max : {}'.format(max), ', min : {}'.format(min))\n",
    "print('scaling : {}'.format(scal))"
   ]
  },
  {
   "cell_type": "markdown",
   "metadata": {},
   "source": [
    "- #### (3)주기가 '평균 - 1 주'"
   ]
  },
  {
   "cell_type": "code",
   "execution_count": 293,
   "metadata": {},
   "outputs": [],
   "source": [
    "# 주기가 평균 - 1 주\n",
    "\n",
    "k, t_purch, tmean_u, t_ ,alpha, beta = 1, 0, 5.122566039 , 5.12256603893284-1, 0.991580757, 1.804783562"
   ]
  },
  {
   "cell_type": "code",
   "execution_count": 294,
   "metadata": {},
   "outputs": [],
   "source": [
    "# 함수로 출력되는게 많게했어! & unit time을 1주일로 변경.\n",
    "\n",
    "def func_lamb(t_purch, tmean_u, t_ , alpha, beta, k):\n",
    "    \n",
    "    lamb = ((k+alpha)/(t_purch+2*abs(tmean_u-t_)+beta))\n",
    "    lamb_0 = ((k+alpha)/(t_purch+2*abs(tmean_u)+beta))   # 최저값 : t=0  \n",
    "    lamb_1 = ((k+alpha)/(t_purch+beta))     #최고값 : |tmean-t|=0\n",
    "    \n",
    "    return lamb,lamb_0, lamb_1, t_, t_purch, tmean_u, k"
   ]
  },
  {
   "cell_type": "code",
   "execution_count": 295,
   "metadata": {},
   "outputs": [
    {
     "name": "stdout",
     "output_type": "stream",
     "text": [
      "0.5234412745104505 0.1652775684494336 1.103501161542605\n"
     ]
    }
   ],
   "source": [
    "lamb, lamb_0, lamb_1, t_, t_purch, tmean_u, k = func_lamb(t_purch, tmean_u, t_ , alpha, beta, k)\n",
    "\n",
    "print(lamb, lamb_0, lamb_1)"
   ]
  },
  {
   "cell_type": "code",
   "execution_count": 296,
   "metadata": {
    "scrolled": false
   },
   "outputs": [
    {
     "name": "stdout",
     "output_type": "stream",
     "text": [
      "pred : 0.40752184420584336 , max : 0.668292313928871 , min : 0.1523416117931694\n",
      "scaling : 0.4945825858098325\n"
     ]
    }
   ],
   "source": [
    "       \n",
    "if lamb < lamb_0: # 일자별, 이런 경우가 있을수도 있어 - 마지막 구매부터 너무 너무 멀어지면!\n",
    "    lamb_0 = lamb\n",
    "pred = (1-stats.poisson.pmf(mu = lamb, k=0))\n",
    "max =  (1-stats.poisson.pmf(mu = lamb_1, k=0))  # max\n",
    "min =  (1-stats.poisson.pmf(mu = lamb_0, k=0))  # min\n",
    "scal = (pred - min)/(max - min)\n",
    "\n",
    "print('pred : {}'.format(pred), ', max : {}'.format(max), ', min : {}'.format(min))\n",
    "print('scaling : {}'.format(scal))"
   ]
  },
  {
   "cell_type": "markdown",
   "metadata": {},
   "source": [
    "- #### (4)주기가 '평균 - 0.5 주'"
   ]
  },
  {
   "cell_type": "code",
   "execution_count": 277,
   "metadata": {},
   "outputs": [],
   "source": [
    "# 주기가 '평균 - 0.5 주'\n",
    "# mean :  5.12256603893284\n",
    "k, t_purch, tmean_u, t_ ,alpha, beta = 1, 0, 5.122566039 , 5.12256603893284-0.5, 0.991580757, 1.804783562"
   ]
  },
  {
   "cell_type": "code",
   "execution_count": 278,
   "metadata": {},
   "outputs": [],
   "source": [
    "# 함수로 출력되는게 많게했어! & unit time을 1주일로 변경.\n",
    "\n",
    "def func_lamb(t_purch, tmean_u, t_ , alpha, beta, k):\n",
    "    \n",
    "    lamb = ((k+alpha)/(t_purch+2*abs(tmean_u-t_)+beta))\n",
    "    lamb_0 = ((k+alpha)/(t_purch+2*abs(tmean_u)+beta))   # 최저값 : t=0  \n",
    "    lamb_1 = ((k+alpha)/(t_purch+beta))     #최고값 : |tmean-t|=0\n",
    "    \n",
    "    return lamb,lamb_0, lamb_1, t_, t_purch, tmean_u, k"
   ]
  },
  {
   "cell_type": "code",
   "execution_count": 279,
   "metadata": {},
   "outputs": [
    {
     "name": "stdout",
     "output_type": "stream",
     "text": [
      "0.7100657547652244 0.1652775684494336 1.103501161542605\n"
     ]
    }
   ],
   "source": [
    "lamb, lamb_0, lamb_1, t_, t_purch, tmean_u, k = func_lamb(t_purch, tmean_u, t_ , alpha, beta, k)\n",
    "\n",
    "print(lamb, lamb_0, lamb_1)"
   ]
  },
  {
   "cell_type": "code",
   "execution_count": 280,
   "metadata": {
    "scrolled": false
   },
   "outputs": [
    {
     "name": "stdout",
     "output_type": "stream",
     "text": [
      "pred : 0.5083881294249778 , max : 0.668292313928871 , min : 0.1523416117931694\n",
      "scaling : 0.6900785601376381\n"
     ]
    }
   ],
   "source": [
    "       \n",
    "if lamb < lamb_0: # 일자별, 이런 경우가 있을수도 있어 - 마지막 구매부터 너무 너무 멀어지면!\n",
    "    lamb_0 = lamb\n",
    "pred = (1-stats.poisson.pmf(mu = lamb, k=0))\n",
    "max =  (1-stats.poisson.pmf(mu = lamb_1, k=0))  # max\n",
    "min =  (1-stats.poisson.pmf(mu = lamb_0, k=0))  # min\n",
    "scal = (pred - min)/(max - min)\n",
    "\n",
    "print('pred : {}'.format(pred), ', max : {}'.format(max), ', min : {}'.format(min))\n",
    "print('scaling : {}'.format(scal))"
   ]
  },
  {
   "cell_type": "markdown",
   "metadata": {},
   "source": [
    "---"
   ]
  },
  {
   "cell_type": "markdown",
   "metadata": {},
   "source": [
    "#### ver2.\n",
    "- #### (1)실장님 원래 주기"
   ]
  },
  {
   "cell_type": "code",
   "execution_count": 297,
   "metadata": {},
   "outputs": [],
   "source": [
    "# 주기가 '평균 - 0.5 주'\n",
    "# mean :  5.12256603893284\n",
    "k, t_purch, tmean_u, t_ ,alpha, beta = 1, 0, 5.122566039 , 13.14285714, 1.6348410016313837, 23.228302136357172"
   ]
  },
  {
   "cell_type": "code",
   "execution_count": 298,
   "metadata": {},
   "outputs": [],
   "source": [
    "# 함수로 출력되는게 많게했어! & unit time을 1주일로 변경.\n",
    "\n",
    "def func_lamb(t_purch, tmean_u, t_ , alpha, beta, k):\n",
    "    \n",
    "    lamb = ((k+alpha)/(t_purch+2*abs(tmean_u-t_)+beta))\n",
    "    lamb_0 = ((k+alpha)/(t_purch+2*abs(tmean_u)+beta))   # 최저값 : t=0  \n",
    "    lamb_1 = ((k+alpha)/(t_purch+beta))     #최고값 : |tmean-t|=0\n",
    "    \n",
    "    return lamb,lamb_0, lamb_1, t_, t_purch, tmean_u, k"
   ]
  },
  {
   "cell_type": "code",
   "execution_count": 299,
   "metadata": {},
   "outputs": [
    {
     "name": "stdout",
     "output_type": "stream",
     "text": [
      "0.0670974244882663 0.07871439138148746 0.11343235446844409\n"
     ]
    }
   ],
   "source": [
    "lamb, lamb_0, lamb_1, t_, t_purch, tmean_u, k = func_lamb(t_purch, tmean_u, t_ , alpha, beta, k)\n",
    "\n",
    "print(lamb, lamb_0, lamb_1)"
   ]
  },
  {
   "cell_type": "code",
   "execution_count": 300,
   "metadata": {
    "scrolled": false
   },
   "outputs": [
    {
     "name": "stdout",
     "output_type": "stream",
     "text": [
      "pred : 0.06489590513906984 , max : 0.10723541409640991 , min : 0.06489590513906984\n",
      "scaling : 0.0\n"
     ]
    }
   ],
   "source": [
    "       \n",
    "if lamb < lamb_0: # 일자별, 이런 경우가 있을수도 있어 - 마지막 구매부터 너무 너무 멀어지면!\n",
    "    lamb_0 = lamb\n",
    "pred = (1-stats.poisson.pmf(mu = lamb, k=0))\n",
    "max =  (1-stats.poisson.pmf(mu = lamb_1, k=0))  # max\n",
    "min =  (1-stats.poisson.pmf(mu = lamb_0, k=0))  # min\n",
    "scal = (pred - min)/(max - min)\n",
    "\n",
    "print('pred : {}'.format(pred), ', max : {}'.format(max), ', min : {}'.format(min))\n",
    "print('scaling : {}'.format(scal))"
   ]
  },
  {
   "cell_type": "markdown",
   "metadata": {},
   "source": [
    "---"
   ]
  },
  {
   "cell_type": "markdown",
   "metadata": {},
   "source": [
    "- #### (2)주기가 평균일때"
   ]
  },
  {
   "cell_type": "code",
   "execution_count": 301,
   "metadata": {},
   "outputs": [],
   "source": [
    "# 주기가 평균일때\n",
    "\n",
    "k, t_purch, tmean_u, t_ ,alpha, beta = 1, 0, 5.122566039 ,  5.12256603893284, 1.6348410016313837, 23.228302136357172"
   ]
  },
  {
   "cell_type": "code",
   "execution_count": 302,
   "metadata": {},
   "outputs": [],
   "source": [
    "# 함수로 출력되는게 많게했어! & unit time을 1주일로 변경.\n",
    "\n",
    "def func_lamb(t_purch, tmean_u, t_ , alpha, beta, k):\n",
    "    \n",
    "    lamb = ((k+alpha)/(t_purch+2*abs(tmean_u-t_)+beta))\n",
    "    lamb_0 = ((k+alpha)/(t_purch+2*abs(tmean_u)+beta))   # 최저값 : t=0  \n",
    "    lamb_1 = ((k+alpha)/(t_purch+beta))     #최고값 : |tmean-t|=0\n",
    "    \n",
    "    return lamb,lamb_0, lamb_1, t_, t_purch, tmean_u, k"
   ]
  },
  {
   "cell_type": "code",
   "execution_count": 303,
   "metadata": {},
   "outputs": [
    {
     "name": "stdout",
     "output_type": "stream",
     "text": [
      "0.11343235446778814 0.07871439138148746 0.11343235446844409\n"
     ]
    }
   ],
   "source": [
    "lamb, lamb_0, lamb_1, t_, t_purch, tmean_u, k = func_lamb(t_purch, tmean_u, t_ , alpha, beta, k)\n",
    "\n",
    "print(lamb, lamb_0, lamb_1)"
   ]
  },
  {
   "cell_type": "code",
   "execution_count": 304,
   "metadata": {
    "scrolled": true
   },
   "outputs": [
    {
     "name": "stdout",
     "output_type": "stream",
     "text": [
      "pred : 0.10723541409582427 , max : 0.10723541409640991 , min : 0.07569612409703064\n",
      "scaling : 0.9999999999814313\n"
     ]
    }
   ],
   "source": [
    "       \n",
    "if lamb < lamb_0: # 일자별, 이런 경우가 있을수도 있어 - 마지막 구매부터 너무 너무 멀어지면!\n",
    "    lamb_0 = lamb\n",
    "pred = (1-stats.poisson.pmf(mu = lamb, k=0))\n",
    "max =  (1-stats.poisson.pmf(mu = lamb_1, k=0))  # max\n",
    "min =  (1-stats.poisson.pmf(mu = lamb_0, k=0))  # min\n",
    "scal = (pred - min)/(max - min)\n",
    "\n",
    "print('pred : {}'.format(pred), ', max : {}'.format(max), ', min : {}'.format(min))\n",
    "print('scaling : {}'.format(scal))"
   ]
  },
  {
   "cell_type": "markdown",
   "metadata": {},
   "source": [
    "- #### (3)주기가 '평균 - 1 주'"
   ]
  },
  {
   "cell_type": "code",
   "execution_count": 305,
   "metadata": {},
   "outputs": [],
   "source": [
    "# 주기가 평균 - 1 주\n",
    "\n",
    "k, t_purch, tmean_u, t_ ,alpha, beta = 1, 0, 5.122566039 , 5.12256603893284-1, 1.6348410016313837, 23.228302136357172"
   ]
  },
  {
   "cell_type": "code",
   "execution_count": 306,
   "metadata": {},
   "outputs": [],
   "source": [
    "# 함수로 출력되는게 많게했어! & unit time을 1주일로 변경.\n",
    "\n",
    "def func_lamb(t_purch, tmean_u, t_ , alpha, beta, k):\n",
    "    \n",
    "    lamb = ((k+alpha)/(t_purch+2*abs(tmean_u-t_)+beta))\n",
    "    lamb_0 = ((k+alpha)/(t_purch+2*abs(tmean_u)+beta))   # 최저값 : t=0  \n",
    "    lamb_1 = ((k+alpha)/(t_purch+beta))     #최고값 : |tmean-t|=0\n",
    "    \n",
    "    return lamb,lamb_0, lamb_1, t_, t_purch, tmean_u, k"
   ]
  },
  {
   "cell_type": "code",
   "execution_count": 307,
   "metadata": {},
   "outputs": [
    {
     "name": "stdout",
     "output_type": "stream",
     "text": [
      "0.10443988609999308 0.07871439138148746 0.11343235446844409\n"
     ]
    }
   ],
   "source": [
    "lamb, lamb_0, lamb_1, t_, t_purch, tmean_u, k = func_lamb(t_purch, tmean_u, t_ , alpha, beta, k)\n",
    "\n",
    "print(lamb, lamb_0, lamb_1)"
   ]
  },
  {
   "cell_type": "code",
   "execution_count": 308,
   "metadata": {
    "scrolled": false
   },
   "outputs": [
    {
     "name": "stdout",
     "output_type": "stream",
     "text": [
      "pred : 0.09917105187942776 , max : 0.10723541409640991 , min : 0.07569612409703064\n",
      "scaling : 0.7443074267955664\n"
     ]
    }
   ],
   "source": [
    "       \n",
    "if lamb < lamb_0: # 일자별, 이런 경우가 있을수도 있어 - 마지막 구매부터 너무 너무 멀어지면!\n",
    "    lamb_0 = lamb\n",
    "pred = (1-stats.poisson.pmf(mu = lamb, k=0))\n",
    "max =  (1-stats.poisson.pmf(mu = lamb_1, k=0))  # max\n",
    "min =  (1-stats.poisson.pmf(mu = lamb_0, k=0))  # min\n",
    "scal = (pred - min)/(max - min)\n",
    "\n",
    "print('pred : {}'.format(pred), ', max : {}'.format(max), ', min : {}'.format(min))\n",
    "print('scaling : {}'.format(scal))"
   ]
  },
  {
   "cell_type": "markdown",
   "metadata": {},
   "source": [
    "- #### (4)주기가 '평균 - 0.5 주'"
   ]
  },
  {
   "cell_type": "code",
   "execution_count": 309,
   "metadata": {},
   "outputs": [],
   "source": [
    "# 주기가 '평균 - 0.5 주'\n",
    "# mean :  5.12256603893284\n",
    "k, t_purch, tmean_u, t_ ,alpha, beta = 1, 0, 5.122566039 , 5.12256603893284-0.5, 1.6348410016313837, 23.228302136357172"
   ]
  },
  {
   "cell_type": "code",
   "execution_count": 310,
   "metadata": {},
   "outputs": [],
   "source": [
    "# 함수로 출력되는게 많게했어! & unit time을 1주일로 변경.\n",
    "\n",
    "def func_lamb(t_purch, tmean_u, t_ , alpha, beta, k):\n",
    "    \n",
    "    lamb = ((k+alpha)/(t_purch+2*abs(tmean_u-t_)+beta))\n",
    "    lamb_0 = ((k+alpha)/(t_purch+2*abs(tmean_u)+beta))   # 최저값 : t=0  \n",
    "    lamb_1 = ((k+alpha)/(t_purch+beta))     #최고값 : |tmean-t|=0\n",
    "    \n",
    "    return lamb,lamb_0, lamb_1, t_, t_purch, tmean_u, k"
   ]
  },
  {
   "cell_type": "code",
   "execution_count": 311,
   "metadata": {},
   "outputs": [
    {
     "name": "stdout",
     "output_type": "stream",
     "text": [
      "0.10875054251791395 0.07871439138148746 0.11343235446844409\n"
     ]
    }
   ],
   "source": [
    "lamb, lamb_0, lamb_1, t_, t_purch, tmean_u, k = func_lamb(t_purch, tmean_u, t_ , alpha, beta, k)\n",
    "\n",
    "print(lamb, lamb_0, lamb_1)"
   ]
  },
  {
   "cell_type": "code",
   "execution_count": 312,
   "metadata": {
    "scrolled": false
   },
   "outputs": [
    {
     "name": "stdout",
     "output_type": "stream",
     "text": [
      "pred : 0.10304585848605086 , max : 0.10723541409640991 , min : 0.07569612409703064\n",
      "scaling : 0.8671639212410455\n"
     ]
    }
   ],
   "source": [
    "       \n",
    "if lamb < lamb_0: # 일자별, 이런 경우가 있을수도 있어 - 마지막 구매부터 너무 너무 멀어지면!\n",
    "    lamb_0 = lamb\n",
    "pred = (1-stats.poisson.pmf(mu = lamb, k=0))\n",
    "max =  (1-stats.poisson.pmf(mu = lamb_1, k=0))  # max\n",
    "min =  (1-stats.poisson.pmf(mu = lamb_0, k=0))  # min\n",
    "scal = (pred - min)/(max - min)\n",
    "\n",
    "print('pred : {}'.format(pred), ', max : {}'.format(max), ', min : {}'.format(min))\n",
    "print('scaling : {}'.format(scal))"
   ]
  },
  {
   "cell_type": "markdown",
   "metadata": {},
   "source": [
    ": 딱 주기에서 1주일 정도만 노출되도록 보인다!"
   ]
  },
  {
   "cell_type": "code",
   "execution_count": null,
   "metadata": {},
   "outputs": [],
   "source": []
  },
  {
   "cell_type": "code",
   "execution_count": null,
   "metadata": {},
   "outputs": [],
   "source": []
  },
  {
   "cell_type": "markdown",
   "metadata": {},
   "source": [
    "## # Step3. k>3"
   ]
  },
  {
   "cell_type": "markdown",
   "metadata": {},
   "source": [
    "### # ver(2) 로 먼저"
   ]
  },
  {
   "cell_type": "code",
   "execution_count": 178,
   "metadata": {},
   "outputs": [
    {
     "data": {
      "text/plain": [
       "array([ 0,  5, 10])"
      ]
     },
     "execution_count": 178,
     "metadata": {},
     "output_type": "execute_result"
    }
   ],
   "source": [
    "time = np.arange(0,11,5);time"
   ]
  },
  {
   "cell_type": "markdown",
   "metadata": {},
   "source": [
    "* ####  (1)실장님 원래 주기 : 주기가 넘어갔을때"
   ]
  },
  {
   "cell_type": "code",
   "execution_count": 405,
   "metadata": {},
   "outputs": [],
   "source": [
    "# 실장님 원래 주기 : 주기가 넘어갔을때\n",
    "\n",
    "k, t_purch, tmean_u, t_ ,alpha, beta = 6, 30.0 , 6.0 , 13.14285714, 1.6348410016313837, 23.228302136357172"
   ]
  },
  {
   "cell_type": "code",
   "execution_count": 406,
   "metadata": {},
   "outputs": [],
   "source": [
    "# 함수로 출력되는게 많게했어! & unit time을 1주일로 변경.\n",
    "\n",
    "def func_lamb(t_purch, tmean_u, t_ , alpha, beta, k):\n",
    "\n",
    "    if t_purch == 0:  # t_purch가 0이라는 소리는, k=1이라는 소리겠지! 그러니깐 앞의 값이 0이 되게끔 한거야.\n",
    "        lamb = (alpha/(2*abs(tmean_u-t_)+beta))\n",
    "        lamb_0 = (alpha/(2*abs(tmean_u)+beta))   # 최저값 : t=0\n",
    "        lamb_1 = (alpha/+beta)     # 최고값 : |tmean-t|=0\n",
    "    else:\n",
    "        lamb = (k/t_purch+(alpha/(2*abs(tmean_u-t_)+beta)))\n",
    "        lamb_0 = (k/t_purch+(alpha/(2*abs(tmean_u)+beta)))   # 최저값 : t=0  \n",
    "        lamb_1 = (k/t_purch+(alpha/+beta))     #최고값 : |tmean-t|=0\n",
    "    return lamb,lamb_0, lamb_1, t_, t_purch, tmean_u, k"
   ]
  },
  {
   "cell_type": "code",
   "execution_count": 407,
   "metadata": {},
   "outputs": [
    {
     "name": "stdout",
     "output_type": "stream",
     "text": [
      "0.24357947129645513 0.24640703362039568 0.2703814248684373\n"
     ]
    }
   ],
   "source": [
    "lamb, lamb_0, lamb_1, t_, t_purch, tmean_u, k = func_lamb(t_purch, tmean_u, t_ , alpha, beta, k)\n",
    "\n",
    "print(lamb, lamb_0, lamb_1)"
   ]
  },
  {
   "cell_type": "code",
   "execution_count": 408,
   "metadata": {
    "scrolled": false
   },
   "outputs": [
    {
     "name": "stdout",
     "output_type": "stream",
     "text": [
      "pred : 0.21618281741064882 , max : 0.2369116220632953 , min : 0.21618281741064882\n",
      "scaling : 0.0\n"
     ]
    }
   ],
   "source": [
    "       \n",
    "if lamb < lamb_0: # 일자별, 이런 경우가 있을수도 있어 - 마지막 구매부터 너무 너무 멀어지면!\n",
    "    lamb_0 = lamb\n",
    "pred = (1-stats.poisson.pmf(mu = lamb, k=0))\n",
    "max =  (1-stats.poisson.pmf(mu = lamb_1, k=0))  # max\n",
    "min =  (1-stats.poisson.pmf(mu = lamb_0, k=0))  # min\n",
    "scal = (pred - min)/(max - min)\n",
    "\n",
    "print('pred : {}'.format(pred), ', max : {}'.format(max), ', min : {}'.format(min))\n",
    "print('scaling : {}'.format(scal))"
   ]
  },
  {
   "cell_type": "markdown",
   "metadata": {},
   "source": [
    "---"
   ]
  },
  {
   "cell_type": "markdown",
   "metadata": {},
   "source": [
    "- #### (2)주기가 평균일때"
   ]
  },
  {
   "cell_type": "code",
   "execution_count": 409,
   "metadata": {},
   "outputs": [],
   "source": [
    "# 주기가 평균일때\n",
    "\n",
    "k, t_purch, tmean_u, t_ ,alpha, beta = 6, 30.0 , 6.0 , 6.0, 1.6348410016313837, 23.228302136357172"
   ]
  },
  {
   "cell_type": "code",
   "execution_count": 410,
   "metadata": {},
   "outputs": [],
   "source": [
    "# 함수로 출력되는게 많게했어! & unit time을 1주일로 변경.\n",
    "\n",
    "def func_lamb(t_purch, tmean_u, t_ , alpha, beta, k):\n",
    "\n",
    "    if t_purch == 0:  # t_purch가 0이라는 소리는, k=1이라는 소리겠지! 그러니깐 앞의 값이 0이 되게끔 한거야.\n",
    "        lamb = (alpha/(2*abs(tmean_u-t_)+beta))\n",
    "        lamb_0 = (alpha/(2*abs(tmean_u)+beta))   # 최저값 : t=0\n",
    "        lamb_1 = (alpha/+beta)     # 최고값 : |tmean-t|=0\n",
    "    else:\n",
    "        lamb = (k/t_purch+(alpha/(2*abs(tmean_u-t_)+beta)))\n",
    "        lamb_0 = (k/t_purch+(alpha/(2*abs(tmean_u)+beta)))   # 최저값 : t=0  \n",
    "        lamb_1 = (k/t_purch+(alpha/+beta))     #최고값 : |tmean-t|=0\n",
    "    return lamb,lamb_0, lamb_1, t_, t_purch, tmean_u, k"
   ]
  },
  {
   "cell_type": "code",
   "execution_count": 411,
   "metadata": {},
   "outputs": [
    {
     "name": "stdout",
     "output_type": "stream",
     "text": [
      "0.2703814248684373 0.24640703362039568 0.2703814248684373\n"
     ]
    }
   ],
   "source": [
    "lamb, lamb_0, lamb_1, t_, t_purch, tmean_u, k = func_lamb(t_purch, tmean_u, t_ , alpha, beta, k)\n",
    "\n",
    "print(lamb, lamb_0, lamb_1)"
   ]
  },
  {
   "cell_type": "code",
   "execution_count": 412,
   "metadata": {
    "scrolled": false
   },
   "outputs": [
    {
     "name": "stdout",
     "output_type": "stream",
     "text": [
      "pred : 0.2369116220632953 , max : 0.2369116220632953 , min : 0.21839597894437213\n",
      "scaling : 1.0\n"
     ]
    }
   ],
   "source": [
    "       \n",
    "if lamb < lamb_0: # 일자별, 이런 경우가 있을수도 있어 - 마지막 구매부터 너무 너무 멀어지면!\n",
    "    lamb_0 = lamb\n",
    "pred = (1-stats.poisson.pmf(mu = lamb, k=0))\n",
    "max =  (1-stats.poisson.pmf(mu = lamb_1, k=0))  # max\n",
    "min =  (1-stats.poisson.pmf(mu = lamb_0, k=0))  # min\n",
    "scal = (pred - min)/(max - min)\n",
    "\n",
    "print('pred : {}'.format(pred), ', max : {}'.format(max), ', min : {}'.format(min))\n",
    "print('scaling : {}'.format(scal))"
   ]
  },
  {
   "cell_type": "markdown",
   "metadata": {},
   "source": [
    "---"
   ]
  },
  {
   "cell_type": "markdown",
   "metadata": {},
   "source": [
    "- #### (3)주기가 평균 - 1 주"
   ]
  },
  {
   "cell_type": "code",
   "execution_count": 413,
   "metadata": {},
   "outputs": [],
   "source": [
    "# 주기가 평균 - 1.5 주\n",
    "\n",
    "k, t_purch, tmean_u, t_ ,alpha, beta = 6, 30.0 , 6.0 , 6.0-1 , 1.6348410016313837, 23.228302136357172"
   ]
  },
  {
   "cell_type": "code",
   "execution_count": 414,
   "metadata": {},
   "outputs": [],
   "source": [
    "# 함수로 출력되는게 많게했어! & unit time을 1주일로 변경.\n",
    "\n",
    "def func_lamb(t_purch, tmean_u, t_ , alpha, beta, k):\n",
    "\n",
    "    if t_purch == 0:  # t_purch가 0이라는 소리는, k=1이라는 소리겠지! 그러니깐 앞의 값이 0이 되게끔 한거야.\n",
    "        lamb = (alpha/(2*abs(tmean_u-t_)+beta))\n",
    "        lamb_0 = (alpha/(2*abs(tmean_u)+beta))   # 최저값 : t=0\n",
    "        lamb_1 = (alpha/+beta)     # 최고값 : |tmean-t|=0\n",
    "    else:\n",
    "        lamb = (k/t_purch+(alpha/(2*abs(tmean_u-t_)+beta)))\n",
    "        lamb_0 = (k/t_purch+(alpha/(2*abs(tmean_u)+beta)))   # 최저값 : t=0  \n",
    "        lamb_1 = (k/t_purch+(alpha/+beta))     #최고값 : |tmean-t|=0\n",
    "    return lamb,lamb_0, lamb_1, t_, t_purch, tmean_u, k"
   ]
  },
  {
   "cell_type": "code",
   "execution_count": 415,
   "metadata": {},
   "outputs": [
    {
     "name": "stdout",
     "output_type": "stream",
     "text": [
      "0.26480186390646443 0.24640703362039568 0.2703814248684373\n"
     ]
    }
   ],
   "source": [
    "lamb, lamb_0, lamb_1, t_, t_purch, tmean_u, k = func_lamb(t_purch, tmean_u, t_ , alpha, beta, k)\n",
    "\n",
    "print(lamb, lamb_0, lamb_1)"
   ]
  },
  {
   "cell_type": "code",
   "execution_count": 416,
   "metadata": {
    "scrolled": true
   },
   "outputs": [
    {
     "name": "stdout",
     "output_type": "stream",
     "text": [
      "pred : 0.23264202377383247 , max : 0.2369116220632953 , min : 0.21839597894437213\n",
      "scaling : 0.769405887657272\n"
     ]
    }
   ],
   "source": [
    "       \n",
    "if lamb < lamb_0: # 일자별, 이런 경우가 있을수도 있어 - 마지막 구매부터 너무 너무 멀어지면!\n",
    "    lamb_0 = lamb\n",
    "pred = (1-stats.poisson.pmf(mu = lamb, k=0))\n",
    "max =  (1-stats.poisson.pmf(mu = lamb_1, k=0))  # max\n",
    "min =  (1-stats.poisson.pmf(mu = lamb_0, k=0))  # min\n",
    "scal = (pred - min)/(max - min)\n",
    "\n",
    "print('pred : {}'.format(pred), ', max : {}'.format(max), ', min : {}'.format(min))\n",
    "print('scaling : {}'.format(scal))"
   ]
  },
  {
   "cell_type": "markdown",
   "metadata": {},
   "source": [
    "- #### (4)주기가 평균-0.5 주"
   ]
  },
  {
   "cell_type": "code",
   "execution_count": 417,
   "metadata": {},
   "outputs": [],
   "source": [
    "# 주기가 평균 - .5 주\n",
    "\n",
    "k, t_purch, tmean_u, t_ ,alpha, beta = 6, 30.0 , 6.0 , 6.0-0.5 , 1.6348410016313837, 23.228302136357172"
   ]
  },
  {
   "cell_type": "code",
   "execution_count": 418,
   "metadata": {},
   "outputs": [],
   "source": [
    "# 함수로 출력되는게 많게했어! & unit time을 1주일로 변경.\n",
    "\n",
    "def func_lamb(t_purch, tmean_u, t_ , alpha, beta, k):\n",
    "\n",
    "    if t_purch == 0:  # t_purch가 0이라는 소리는, k=1이라는 소리겠지! 그러니깐 앞의 값이 0이 되게끔 한거야.\n",
    "        lamb = (alpha/(2*abs(tmean_u-t_)+beta))\n",
    "        lamb_0 = (alpha/(2*abs(tmean_u)+beta))   # 최저값 : t=0\n",
    "        lamb_1 = (alpha/+beta)     # 최고값 : |tmean-t|=0\n",
    "    else:\n",
    "        lamb = (k/t_purch+(alpha/(2*abs(tmean_u-t_)+beta)))\n",
    "        lamb_0 = (k/t_purch+(alpha/(2*abs(tmean_u)+beta)))   # 최저값 : t=0  \n",
    "        lamb_1 = (k/t_purch+(alpha/+beta))     #최고값 : |tmean-t|=0\n",
    "    return lamb,lamb_0, lamb_1, t_, t_purch, tmean_u, k"
   ]
  },
  {
   "cell_type": "code",
   "execution_count": 419,
   "metadata": {},
   "outputs": [
    {
     "name": "stdout",
     "output_type": "stream",
     "text": [
      "0.267476498866098 0.24640703362039568 0.2703814248684373\n"
     ]
    }
   ],
   "source": [
    "lamb, lamb_0, lamb_1, t_, t_purch, tmean_u, k = func_lamb(t_purch, tmean_u, t_ , alpha, beta, k)\n",
    "\n",
    "print(lamb, lamb_0, lamb_1)"
   ]
  },
  {
   "cell_type": "code",
   "execution_count": 420,
   "metadata": {
    "scrolled": false
   },
   "outputs": [
    {
     "name": "stdout",
     "output_type": "stream",
     "text": [
      "pred : 0.2346916839753026 , max : 0.2369116220632953 , min : 0.21839597894437213\n",
      "scaling : 0.8801047269201305\n"
     ]
    }
   ],
   "source": [
    "       \n",
    "if lamb < lamb_0: # 일자별, 이런 경우가 있을수도 있어 - 마지막 구매부터 너무 너무 멀어지면!\n",
    "    lamb_0 = lamb\n",
    "pred = (1-stats.poisson.pmf(mu = lamb, k=0))\n",
    "max =  (1-stats.poisson.pmf(mu = lamb_1, k=0))  # max\n",
    "min =  (1-stats.poisson.pmf(mu = lamb_0, k=0))  # min\n",
    "scal = (pred - min)/(max - min)\n",
    "\n",
    "print('pred : {}'.format(pred), ', max : {}'.format(max), ', min : {}'.format(min))\n",
    "print('scaling : {}'.format(scal))"
   ]
  },
  {
   "cell_type": "markdown",
   "metadata": {},
   "source": [
    "---"
   ]
  },
  {
   "cell_type": "markdown",
   "metadata": {},
   "source": [
    "### #ver(1)으로"
   ]
  },
  {
   "cell_type": "markdown",
   "metadata": {},
   "source": [
    "* ####  (1)실장님 원래 주기 : 주기가 넘어갔을때"
   ]
  },
  {
   "cell_type": "code",
   "execution_count": 421,
   "metadata": {},
   "outputs": [],
   "source": [
    "# 실장님 원래 주기 : 주기가 넘어갔을때\n",
    "\n",
    "k, t_purch, tmean_u, t_ ,alpha, beta = 6, 30.0 , 6.0 , 13.14285714, 0.991580757, 1.804783562"
   ]
  },
  {
   "cell_type": "code",
   "execution_count": 422,
   "metadata": {},
   "outputs": [],
   "source": [
    "# 함수로 출력되는게 많게했어! & unit time을 1주일로 변경.\n",
    "\n",
    "def func_lamb(t_purch, tmean_u, t_ , alpha, beta, k):\n",
    "\n",
    "    if t_purch == 0:  # t_purch가 0이라는 소리는, k=1이라는 소리겠지! 그러니깐 앞의 값이 0이 되게끔 한거야.\n",
    "        lamb = (alpha/(2*abs(tmean_u-t_)+beta))\n",
    "        lamb_0 = (alpha/(2*abs(tmean_u)+beta))   # 최저값 : t=0\n",
    "        lamb_1 = (alpha/+beta)     # 최고값 : |tmean-t|=0\n",
    "    else:\n",
    "        lamb = (k/t_purch+(alpha/(2*abs(tmean_u-t_)+beta)))\n",
    "        lamb_0 = (k/t_purch+(alpha/(2*abs(tmean_u)+beta)))   # 최저값 : t=0  \n",
    "        lamb_1 = (k/t_purch+(alpha/+beta))     #최고값 : |tmean-t|=0\n",
    "    return lamb,lamb_0, lamb_1, t_, t_purch, tmean_u, k"
   ]
  },
  {
   "cell_type": "code",
   "execution_count": 423,
   "metadata": {},
   "outputs": [
    {
     "name": "stdout",
     "output_type": "stream",
     "text": [
      "0.2616252378724877 0.27182877967963903 0.7494181008060401\n"
     ]
    }
   ],
   "source": [
    "lamb, lamb_0, lamb_1, t_, t_purch, tmean_u, k = func_lamb(t_purch, tmean_u, t_ , alpha, beta, k)\n",
    "\n",
    "print(lamb, lamb_0, lamb_1)"
   ]
  },
  {
   "cell_type": "code",
   "execution_count": 424,
   "metadata": {
    "scrolled": false
   },
   "outputs": [
    {
     "name": "stdout",
     "output_type": "stream",
     "text": [
      "pred : 0.23020053865966073 , max : 0.5273584975539441 , min : 0.23020053865966073\n",
      "scaling : 0.0\n"
     ]
    }
   ],
   "source": [
    "       \n",
    "if lamb < lamb_0: # 일자별, 이런 경우가 있을수도 있어 - 마지막 구매부터 너무 너무 멀어지면!\n",
    "    lamb_0 = lamb\n",
    "pred = (1-stats.poisson.pmf(mu = lamb, k=0))\n",
    "max =  (1-stats.poisson.pmf(mu = lamb_1, k=0))  # max\n",
    "min =  (1-stats.poisson.pmf(mu = lamb_0, k=0))  # min\n",
    "scal = (pred - min)/(max - min)\n",
    "\n",
    "print('pred : {}'.format(pred), ', max : {}'.format(max), ', min : {}'.format(min))\n",
    "print('scaling : {}'.format(scal))"
   ]
  },
  {
   "cell_type": "markdown",
   "metadata": {},
   "source": [
    ": 일단, lambda의 값이 작기때문에, lambda 범위가 너무 좁아!!"
   ]
  },
  {
   "cell_type": "markdown",
   "metadata": {},
   "source": [
    "---"
   ]
  },
  {
   "cell_type": "markdown",
   "metadata": {},
   "source": [
    "- #### (2)주기가 평균일때"
   ]
  },
  {
   "cell_type": "code",
   "execution_count": 425,
   "metadata": {},
   "outputs": [],
   "source": [
    "# 주기가 평균일때\n",
    "\n",
    "k, t_purch, tmean_u, t_ ,alpha, beta = 6, 30.0 , 6.0 , 6.0, 0.991580757, 1.804783562"
   ]
  },
  {
   "cell_type": "code",
   "execution_count": 426,
   "metadata": {},
   "outputs": [],
   "source": [
    "# 함수로 출력되는게 많게했어! & unit time을 1주일로 변경.\n",
    "\n",
    "def func_lamb(t_purch, tmean_u, t_ , alpha, beta, k):\n",
    "\n",
    "    if t_purch == 0:  # t_purch가 0이라는 소리는, k=1이라는 소리겠지! 그러니깐 앞의 값이 0이 되게끔 한거야.\n",
    "        lamb = (alpha/(2*abs(tmean_u-t_)+beta))\n",
    "        lamb_0 = (alpha/(2*abs(tmean_u)+beta))   # 최저값 : t=0\n",
    "        lamb_1 = (alpha/+beta)     # 최고값 : |tmean-t|=0\n",
    "    else:\n",
    "        lamb = (k/t_purch+(alpha/(2*abs(tmean_u-t_)+beta)))\n",
    "        lamb_0 = (k/t_purch+(alpha/(2*abs(tmean_u)+beta)))   # 최저값 : t=0  \n",
    "        lamb_1 = (k/t_purch+(alpha/+beta))     #최고값 : |tmean-t|=0\n",
    "    return lamb,lamb_0, lamb_1, t_, t_purch, tmean_u, k"
   ]
  },
  {
   "cell_type": "code",
   "execution_count": 427,
   "metadata": {},
   "outputs": [
    {
     "name": "stdout",
     "output_type": "stream",
     "text": [
      "0.7494181008060401 0.27182877967963903 0.7494181008060401\n"
     ]
    }
   ],
   "source": [
    "lamb, lamb_0, lamb_1, t_, t_purch, tmean_u, k = func_lamb(t_purch, tmean_u, t_ , alpha, beta, k)\n",
    "\n",
    "print(lamb, lamb_0, lamb_1)"
   ]
  },
  {
   "cell_type": "code",
   "execution_count": 428,
   "metadata": {
    "scrolled": false
   },
   "outputs": [
    {
     "name": "stdout",
     "output_type": "stream",
     "text": [
      "pred : 0.5273584975539441 , max : 0.5273584975539441 , min : 0.23801528281146145\n",
      "scaling : 1.0\n"
     ]
    }
   ],
   "source": [
    "       \n",
    "if lamb < lamb_0: # 일자별, 이런 경우가 있을수도 있어 - 마지막 구매부터 너무 너무 멀어지면!\n",
    "    lamb_0 = lamb\n",
    "pred = (1-stats.poisson.pmf(mu = lamb, k=0))\n",
    "max =  (1-stats.poisson.pmf(mu = lamb_1, k=0))  # max\n",
    "min =  (1-stats.poisson.pmf(mu = lamb_0, k=0))  # min\n",
    "scal = (pred - min)/(max - min)\n",
    "\n",
    "print('pred : {}'.format(pred), ', max : {}'.format(max), ', min : {}'.format(min))\n",
    "print('scaling : {}'.format(scal))"
   ]
  },
  {
   "cell_type": "markdown",
   "metadata": {},
   "source": [
    "---"
   ]
  },
  {
   "cell_type": "markdown",
   "metadata": {},
   "source": [
    "- #### (3)주기가 '평균 - 1 주'"
   ]
  },
  {
   "cell_type": "code",
   "execution_count": 434,
   "metadata": {},
   "outputs": [],
   "source": [
    "# 주기가 평균 - 1 주\n",
    "\n",
    "k, t_purch, tmean_u, t_ ,alpha, beta = 6, 30.0 , 6.0 , 6.0-1 , 0.991580757, 1.804783562"
   ]
  },
  {
   "cell_type": "code",
   "execution_count": 435,
   "metadata": {},
   "outputs": [],
   "source": [
    "# 함수로 출력되는게 많게했어! & unit time을 1주일로 변경.\n",
    "\n",
    "def func_lamb(t_purch, tmean_u, t_ , alpha, beta, k):\n",
    "\n",
    "    if t_purch == 0:  # t_purch가 0이라는 소리는, k=1이라는 소리겠지! 그러니깐 앞의 값이 0이 되게끔 한거야.\n",
    "        lamb = (alpha/(2*abs(tmean_u-t_)+beta))\n",
    "        lamb_0 = (alpha/(2*abs(tmean_u)+beta))   # 최저값 : t=0\n",
    "        lamb_1 = (alpha/+beta)     # 최고값 : |tmean-t|=0\n",
    "    else:\n",
    "        lamb = (k/t_purch+(alpha/(2*abs(tmean_u-t_)+beta)))\n",
    "        lamb_0 = (k/t_purch+(alpha/(2*abs(tmean_u)+beta)))   # 최저값 : t=0  \n",
    "        lamb_1 = (k/t_purch+(alpha/+beta))     #최고값 : |tmean-t|=0\n",
    "    return lamb,lamb_0, lamb_1, t_, t_purch, tmean_u, k"
   ]
  },
  {
   "cell_type": "code",
   "execution_count": 436,
   "metadata": {},
   "outputs": [
    {
     "name": "stdout",
     "output_type": "stream",
     "text": [
      "0.4606142349076938 0.27182877967963903 0.7494181008060401\n"
     ]
    }
   ],
   "source": [
    "lamb, lamb_0, lamb_1, t_, t_purch, tmean_u, k = func_lamb(t_purch, tmean_u, t_ , alpha, beta, k)\n",
    "\n",
    "print(lamb, lamb_0, lamb_1)"
   ]
  },
  {
   "cell_type": "code",
   "execution_count": 437,
   "metadata": {
    "scrolled": false
   },
   "outputs": [
    {
     "name": "stdout",
     "output_type": "stream",
     "text": [
      "pred : 0.36910399188240506 , max : 0.5273584975539441 , min : 0.23801528281146145\n",
      "scaling : 0.4530561022058644\n"
     ]
    }
   ],
   "source": [
    "       \n",
    "if lamb < lamb_0: # 일자별, 이런 경우가 있을수도 있어 - 마지막 구매부터 너무 너무 멀어지면!\n",
    "    lamb_0 = lamb\n",
    "pred = (1-stats.poisson.pmf(mu = lamb, k=0))\n",
    "max =  (1-stats.poisson.pmf(mu = lamb_1, k=0))  # max\n",
    "min =  (1-stats.poisson.pmf(mu = lamb_0, k=0))  # min\n",
    "scal = (pred - min)/(max - min)\n",
    "\n",
    "print('pred : {}'.format(pred), ', max : {}'.format(max), ', min : {}'.format(min))\n",
    "print('scaling : {}'.format(scal))"
   ]
  },
  {
   "cell_type": "markdown",
   "metadata": {},
   "source": [
    "---"
   ]
  },
  {
   "cell_type": "markdown",
   "metadata": {},
   "source": [
    "- #### (4)주기가 '평균 - 0.5 주'"
   ]
  },
  {
   "cell_type": "code",
   "execution_count": 438,
   "metadata": {},
   "outputs": [],
   "source": [
    "# 주기가 '평균 - 0.5 주'\n",
    "# mean :  5.12256603893284\n",
    "\n",
    "k, t_purch, tmean_u, t_ ,alpha, beta = 6, 30.0 , 6.0 , 6.0-0.5 , 0.991580757, 1.804783562"
   ]
  },
  {
   "cell_type": "code",
   "execution_count": 439,
   "metadata": {},
   "outputs": [],
   "source": [
    "# 함수로 출력되는게 많게했어! & unit time을 1주일로 변경.\n",
    "\n",
    "def func_lamb(t_purch, tmean_u, t_ , alpha, beta, k):\n",
    "\n",
    "    if t_purch == 0:  # t_purch가 0이라는 소리는, k=1이라는 소리겠지! 그러니깐 앞의 값이 0이 되게끔 한거야.\n",
    "        lamb = (alpha/(2*abs(tmean_u-t_)+beta))\n",
    "        lamb_0 = (alpha/(2*abs(tmean_u)+beta))   # 최저값 : t=0\n",
    "        lamb_1 = (alpha/+beta)     # 최고값 : |tmean-t|=0\n",
    "    else:\n",
    "        lamb = (k/t_purch+(alpha/(2*abs(tmean_u-t_)+beta)))\n",
    "        lamb_0 = (k/t_purch+(alpha/(2*abs(tmean_u)+beta)))   # 최저값 : t=0  \n",
    "        lamb_1 = (k/t_purch+(alpha/+beta))     #최고값 : |tmean-t|=0\n",
    "    return lamb,lamb_0, lamb_1, t_, t_purch, tmean_u, k"
   ]
  },
  {
   "cell_type": "code",
   "execution_count": 440,
   "metadata": {},
   "outputs": [
    {
     "name": "stdout",
     "output_type": "stream",
     "text": [
      "0.5535320052620873 0.27182877967963903 0.7494181008060401\n"
     ]
    }
   ],
   "source": [
    "lamb, lamb_0, lamb_1, t_, t_purch, tmean_u, k = func_lamb(t_purch, tmean_u, t_ , alpha, beta, k)\n",
    "\n",
    "print(lamb, lamb_0, lamb_1)"
   ]
  },
  {
   "cell_type": "code",
   "execution_count": 441,
   "metadata": {
    "scrolled": false
   },
   "outputs": [
    {
     "name": "stdout",
     "output_type": "stream",
     "text": [
      "pred : 0.42508438487683553 , max : 0.5273584975539441 , min : 0.23801528281146145\n",
      "scaling : 0.6465301155648898\n"
     ]
    }
   ],
   "source": [
    "       \n",
    "if lamb < lamb_0: # 일자별, 이런 경우가 있을수도 있어 - 마지막 구매부터 너무 너무 멀어지면!\n",
    "    lamb_0 = lamb\n",
    "pred = (1-stats.poisson.pmf(mu = lamb, k=0))\n",
    "max =  (1-stats.poisson.pmf(mu = lamb_1, k=0))  # max\n",
    "min =  (1-stats.poisson.pmf(mu = lamb_0, k=0))  # min\n",
    "scal = (pred - min)/(max - min)\n",
    "\n",
    "print('pred : {}'.format(pred), ', max : {}'.format(max), ', min : {}'.format(min))\n",
    "print('scaling : {}'.format(scal))"
   ]
  },
  {
   "cell_type": "markdown",
   "metadata": {},
   "source": [
    ": 딱 주기에서 1주일 정도만 노출되도록 보인다!"
   ]
  },
  {
   "cell_type": "code",
   "execution_count": null,
   "metadata": {},
   "outputs": [],
   "source": []
  },
  {
   "cell_type": "markdown",
   "metadata": {},
   "source": [
    "## # Step2-1. 논문 수식"
   ]
  },
  {
   "cell_type": "markdown",
   "metadata": {},
   "source": [
    "#### ver1.\n",
    "- #### (1)실장님 원래 주기"
   ]
  },
  {
   "cell_type": "code",
   "execution_count": 442,
   "metadata": {},
   "outputs": [],
   "source": [
    "# 주기가 '평균 - 0.5 주'\n",
    "# mean :  5.12256603893284\n",
    "\n",
    "k, t_purch, tmean_u, t_ ,alpha, beta = 6, 30.0 , 6.0 ,  13.14285714, 0.991580757, 1.804783562"
   ]
  },
  {
   "cell_type": "code",
   "execution_count": 443,
   "metadata": {},
   "outputs": [],
   "source": [
    "# 함수로 출력되는게 많게했어! & unit time을 1주일로 변경.\n",
    "\n",
    "def func_lamb(t_purch, tmean_u, t_ , alpha, beta, k):\n",
    "    \n",
    "    lamb = ((k+alpha)/(t_purch+2*abs(tmean_u-t_)+beta))\n",
    "    lamb_0 = ((k+alpha)/(t_purch+2*abs(tmean_u)+beta))   # 최저값 : t=0  \n",
    "    lamb_1 = ((k+alpha)/(t_purch+beta))     #최고값 : |tmean-t|=0\n",
    "    \n",
    "    return lamb,lamb_0, lamb_1, t_, t_purch, tmean_u, k"
   ]
  },
  {
   "cell_type": "code",
   "execution_count": 444,
   "metadata": {},
   "outputs": [
    {
     "name": "stdout",
     "output_type": "stream",
     "text": [
      "0.15169245472173915 0.15960770008381217 0.21982796214823053\n"
     ]
    }
   ],
   "source": [
    "lamb, lamb_0, lamb_1, t_, t_purch, tmean_u, k = func_lamb(t_purch, tmean_u, t_ , alpha, beta, k)\n",
    "\n",
    "print(lamb, lamb_0, lamb_1)"
   ]
  },
  {
   "cell_type": "code",
   "execution_count": 445,
   "metadata": {
    "scrolled": false
   },
   "outputs": [
    {
     "name": "stdout",
     "output_type": "stream",
     "text": [
      "pred : 0.1407475008415724 , max : 0.19734312655075092 , min : 0.1407475008415724\n",
      "scaling : 0.0\n"
     ]
    }
   ],
   "source": [
    "       \n",
    "if lamb < lamb_0: # 일자별, 이런 경우가 있을수도 있어 - 마지막 구매부터 너무 너무 멀어지면!\n",
    "    lamb_0 = lamb\n",
    "pred = (1-stats.poisson.pmf(mu = lamb, k=0))\n",
    "max =  (1-stats.poisson.pmf(mu = lamb_1, k=0))  # max\n",
    "min =  (1-stats.poisson.pmf(mu = lamb_0, k=0))  # min\n",
    "scal = (pred - min)/(max - min)\n",
    "\n",
    "print('pred : {}'.format(pred), ', max : {}'.format(max), ', min : {}'.format(min))\n",
    "print('scaling : {}'.format(scal))"
   ]
  },
  {
   "cell_type": "markdown",
   "metadata": {},
   "source": [
    "---"
   ]
  },
  {
   "cell_type": "markdown",
   "metadata": {},
   "source": [
    "- #### (2)주기가 평균일때"
   ]
  },
  {
   "cell_type": "code",
   "execution_count": 446,
   "metadata": {},
   "outputs": [],
   "source": [
    "# 주기가 평균일때\n",
    "\n",
    "k, t_purch, tmean_u, t_ ,alpha, beta = 6, 30.0 , 6.0 ,  6.0 , 0.991580757, 1.804783562"
   ]
  },
  {
   "cell_type": "code",
   "execution_count": 447,
   "metadata": {},
   "outputs": [],
   "source": [
    "# 함수로 출력되는게 많게했어! & unit time을 1주일로 변경.\n",
    "\n",
    "def func_lamb(t_purch, tmean_u, t_ , alpha, beta, k):\n",
    "    \n",
    "    lamb = ((k+alpha)/(t_purch+2*abs(tmean_u-t_)+beta))\n",
    "    lamb_0 = ((k+alpha)/(t_purch+2*abs(tmean_u)+beta))   # 최저값 : t=0  \n",
    "    lamb_1 = ((k+alpha)/(t_purch+beta))     #최고값 : |tmean-t|=0\n",
    "    \n",
    "    return lamb,lamb_0, lamb_1, t_, t_purch, tmean_u, k"
   ]
  },
  {
   "cell_type": "code",
   "execution_count": 448,
   "metadata": {},
   "outputs": [
    {
     "name": "stdout",
     "output_type": "stream",
     "text": [
      "0.21982796214823053 0.15960770008381217 0.21982796214823053\n"
     ]
    }
   ],
   "source": [
    "lamb, lamb_0, lamb_1, t_, t_purch, tmean_u, k = func_lamb(t_purch, tmean_u, t_ , alpha, beta, k)\n",
    "\n",
    "print(lamb, lamb_0, lamb_1)"
   ]
  },
  {
   "cell_type": "code",
   "execution_count": 449,
   "metadata": {
    "scrolled": true
   },
   "outputs": [
    {
     "name": "stdout",
     "output_type": "stream",
     "text": [
      "pred : 0.19734312655075092 , max : 0.19734312655075092 , min : 0.1475218495160877\n",
      "scaling : 1.0\n"
     ]
    }
   ],
   "source": [
    "       \n",
    "if lamb < lamb_0: # 일자별, 이런 경우가 있을수도 있어 - 마지막 구매부터 너무 너무 멀어지면!\n",
    "    lamb_0 = lamb\n",
    "pred = (1-stats.poisson.pmf(mu = lamb, k=0))\n",
    "max =  (1-stats.poisson.pmf(mu = lamb_1, k=0))  # max\n",
    "min =  (1-stats.poisson.pmf(mu = lamb_0, k=0))  # min\n",
    "scal = (pred - min)/(max - min)\n",
    "\n",
    "print('pred : {}'.format(pred), ', max : {}'.format(max), ', min : {}'.format(min))\n",
    "print('scaling : {}'.format(scal))"
   ]
  },
  {
   "cell_type": "markdown",
   "metadata": {},
   "source": [
    "- #### (3)주기가 '평균 - 1 주'"
   ]
  },
  {
   "cell_type": "code",
   "execution_count": 474,
   "metadata": {},
   "outputs": [],
   "source": [
    "# 주기가 평균 - 1 주\n",
    "\n",
    "k, t_purch, tmean_u, t_ ,alpha, beta = 6, 30.0 , 6.0 ,  6.0-1 , 0.991580757, 1.804783562"
   ]
  },
  {
   "cell_type": "code",
   "execution_count": 475,
   "metadata": {},
   "outputs": [],
   "source": [
    "# 함수로 출력되는게 많게했어! & unit time을 1주일로 변경.\n",
    "\n",
    "def func_lamb(t_purch, tmean_u, t_ , alpha, beta, k):\n",
    "    \n",
    "    lamb = ((k+alpha)/(t_purch+2*abs(tmean_u-t_)+beta))\n",
    "    lamb_0 = ((k+alpha)/(t_purch+2*abs(tmean_u)+beta))   # 최저값 : t=0  \n",
    "    lamb_1 = ((k+alpha)/(t_purch+beta))     #최고값 : |tmean-t|=0\n",
    "    \n",
    "    return lamb,lamb_0, lamb_1, t_, t_purch, tmean_u, k"
   ]
  },
  {
   "cell_type": "code",
   "execution_count": 476,
   "metadata": {},
   "outputs": [
    {
     "name": "stdout",
     "output_type": "stream",
     "text": [
      "0.2068222310661159 0.15960770008381217 0.21982796214823053\n"
     ]
    }
   ],
   "source": [
    "lamb, lamb_0, lamb_1, t_, t_purch, tmean_u, k = func_lamb(t_purch, tmean_u, t_ , alpha, beta, k)\n",
    "\n",
    "print(lamb, lamb_0, lamb_1)"
   ]
  },
  {
   "cell_type": "code",
   "execution_count": 477,
   "metadata": {
    "scrolled": false
   },
   "outputs": [
    {
     "name": "stdout",
     "output_type": "stream",
     "text": [
      "pred : 0.1868358075288229 , max : 0.19734312655075092 , min : 0.1475218495160877\n",
      "scaling : 0.7890997652545608\n"
     ]
    }
   ],
   "source": [
    "       \n",
    "if lamb < lamb_0: # 일자별, 이런 경우가 있을수도 있어 - 마지막 구매부터 너무 너무 멀어지면!\n",
    "    lamb_0 = lamb\n",
    "pred = (1-stats.poisson.pmf(mu = lamb, k=0))\n",
    "max =  (1-stats.poisson.pmf(mu = lamb_1, k=0))  # max\n",
    "min =  (1-stats.poisson.pmf(mu = lamb_0, k=0))  # min\n",
    "scal = (pred - min)/(max - min)\n",
    "\n",
    "print('pred : {}'.format(pred), ', max : {}'.format(max), ', min : {}'.format(min))\n",
    "print('scaling : {}'.format(scal))"
   ]
  },
  {
   "cell_type": "markdown",
   "metadata": {},
   "source": [
    "- #### (4)주기가 '평균 - 0.5 주'"
   ]
  },
  {
   "cell_type": "code",
   "execution_count": 478,
   "metadata": {},
   "outputs": [],
   "source": [
    "# 주기가 '평균 - 0.5 주'\n",
    "# mean :  5.12256603893284\n",
    "\n",
    "k, t_purch, tmean_u, t_ ,alpha, beta = 6, 30.0 , 6.0 ,  6-0.5 , 0.991580757, 1.804783562"
   ]
  },
  {
   "cell_type": "code",
   "execution_count": 479,
   "metadata": {},
   "outputs": [],
   "source": [
    "# 함수로 출력되는게 많게했어! & unit time을 1주일로 변경.\n",
    "\n",
    "def func_lamb(t_purch, tmean_u, t_ , alpha, beta, k):\n",
    "    \n",
    "    lamb = ((k+alpha)/(t_purch+2*abs(tmean_u-t_)+beta))\n",
    "    lamb_0 = ((k+alpha)/(t_purch+2*abs(tmean_u)+beta))   # 최저값 : t=0  \n",
    "    lamb_1 = ((k+alpha)/(t_purch+beta))     #최고값 : |tmean-t|=0\n",
    "    \n",
    "    return lamb,lamb_0, lamb_1, t_, t_purch, tmean_u, k"
   ]
  },
  {
   "cell_type": "code",
   "execution_count": 480,
   "metadata": {},
   "outputs": [
    {
     "name": "stdout",
     "output_type": "stream",
     "text": [
      "0.2131268674212142 0.15960770008381217 0.21982796214823053\n"
     ]
    }
   ],
   "source": [
    "lamb, lamb_0, lamb_1, t_, t_purch, tmean_u, k = func_lamb(t_purch, tmean_u, t_ , alpha, beta, k)\n",
    "\n",
    "print(lamb, lamb_0, lamb_1)"
   ]
  },
  {
   "cell_type": "code",
   "execution_count": 481,
   "metadata": {
    "scrolled": false
   },
   "outputs": [
    {
     "name": "stdout",
     "output_type": "stream",
     "text": [
      "pred : 0.19194638496507876 , max : 0.19734312655075092 , min : 0.1475218495160877\n",
      "scaling : 0.8916779756183815\n"
     ]
    }
   ],
   "source": [
    "       \n",
    "if lamb < lamb_0: # 일자별, 이런 경우가 있을수도 있어 - 마지막 구매부터 너무 너무 멀어지면!\n",
    "    lamb_0 = lamb\n",
    "pred = (1-stats.poisson.pmf(mu = lamb, k=0))\n",
    "max =  (1-stats.poisson.pmf(mu = lamb_1, k=0))  # max\n",
    "min =  (1-stats.poisson.pmf(mu = lamb_0, k=0))  # min\n",
    "scal = (pred - min)/(max - min)\n",
    "\n",
    "print('pred : {}'.format(pred), ', max : {}'.format(max), ', min : {}'.format(min))\n",
    "print('scaling : {}'.format(scal))"
   ]
  },
  {
   "cell_type": "markdown",
   "metadata": {},
   "source": [
    "---"
   ]
  },
  {
   "cell_type": "markdown",
   "metadata": {},
   "source": [
    "#### ver2.\n",
    "- #### (1)실장님 원래 주기"
   ]
  },
  {
   "cell_type": "code",
   "execution_count": 458,
   "metadata": {},
   "outputs": [],
   "source": [
    "# 주기가 '평균 - 0.5 주'\n",
    "# mean :  5.12256603893284\n",
    "\n",
    "k, t_purch, tmean_u, t_ ,alpha, beta = 6, 30.0 , 6.0 , 13.14285714, 1.6348410016313837, 23.228302136357172"
   ]
  },
  {
   "cell_type": "code",
   "execution_count": 459,
   "metadata": {},
   "outputs": [],
   "source": [
    "# 함수로 출력되는게 많게했어! & unit time을 1주일로 변경.\n",
    "\n",
    "def func_lamb(t_purch, tmean_u, t_ , alpha, beta, k):\n",
    "    \n",
    "    lamb = ((k+alpha)/(t_purch+2*abs(tmean_u-t_)+beta))\n",
    "    lamb_0 = ((k+alpha)/(t_purch+2*abs(tmean_u)+beta))   # 최저값 : t=0  \n",
    "    lamb_1 = ((k+alpha)/(t_purch+beta))     #최고값 : |tmean-t|=0\n",
    "    \n",
    "    return lamb,lamb_0, lamb_1, t_, t_purch, tmean_u, k"
   ]
  },
  {
   "cell_type": "code",
   "execution_count": 460,
   "metadata": {},
   "outputs": [
    {
     "name": "stdout",
     "output_type": "stream",
     "text": [
      "0.11308527335342514 0.11704797996536921 0.14343574179903187\n"
     ]
    }
   ],
   "source": [
    "lamb, lamb_0, lamb_1, t_, t_purch, tmean_u, k = func_lamb(t_purch, tmean_u, t_ , alpha, beta, k)\n",
    "\n",
    "print(lamb, lamb_0, lamb_1)"
   ]
  },
  {
   "cell_type": "code",
   "execution_count": 461,
   "metadata": {
    "scrolled": false
   },
   "outputs": [
    {
     "name": "stdout",
     "output_type": "stream",
     "text": [
      "pred : 0.10692549858868627 , max : 0.13362352980806602 , min : 0.10692549858868627\n",
      "scaling : 0.0\n"
     ]
    }
   ],
   "source": [
    "       \n",
    "if lamb < lamb_0: # 일자별, 이런 경우가 있을수도 있어 - 마지막 구매부터 너무 너무 멀어지면!\n",
    "    lamb_0 = lamb\n",
    "pred = (1-stats.poisson.pmf(mu = lamb, k=0))\n",
    "max =  (1-stats.poisson.pmf(mu = lamb_1, k=0))  # max\n",
    "min =  (1-stats.poisson.pmf(mu = lamb_0, k=0))  # min\n",
    "scal = (pred - min)/(max - min)\n",
    "\n",
    "print('pred : {}'.format(pred), ', max : {}'.format(max), ', min : {}'.format(min))\n",
    "print('scaling : {}'.format(scal))"
   ]
  },
  {
   "cell_type": "markdown",
   "metadata": {},
   "source": [
    "---"
   ]
  },
  {
   "cell_type": "markdown",
   "metadata": {},
   "source": [
    "- #### (2)주기가 평균일때"
   ]
  },
  {
   "cell_type": "code",
   "execution_count": 462,
   "metadata": {},
   "outputs": [],
   "source": [
    "# 주기가 평균일때\n",
    "\n",
    "k, t_purch, tmean_u, t_ ,alpha, beta = 6, 30.0 , 6.0 , 6.0 , 1.6348410016313837, 23.228302136357172"
   ]
  },
  {
   "cell_type": "code",
   "execution_count": 463,
   "metadata": {},
   "outputs": [],
   "source": [
    "# 함수로 출력되는게 많게했어! & unit time을 1주일로 변경.\n",
    "\n",
    "def func_lamb(t_purch, tmean_u, t_ , alpha, beta, k):\n",
    "    \n",
    "    lamb = ((k+alpha)/(t_purch+2*abs(tmean_u-t_)+beta))\n",
    "    lamb_0 = ((k+alpha)/(t_purch+2*abs(tmean_u)+beta))   # 최저값 : t=0  \n",
    "    lamb_1 = ((k+alpha)/(t_purch+beta))     #최고값 : |tmean-t|=0\n",
    "    \n",
    "    return lamb,lamb_0, lamb_1, t_, t_purch, tmean_u, k"
   ]
  },
  {
   "cell_type": "code",
   "execution_count": 464,
   "metadata": {},
   "outputs": [
    {
     "name": "stdout",
     "output_type": "stream",
     "text": [
      "0.14343574179903187 0.11704797996536921 0.14343574179903187\n"
     ]
    }
   ],
   "source": [
    "lamb, lamb_0, lamb_1, t_, t_purch, tmean_u, k = func_lamb(t_purch, tmean_u, t_ , alpha, beta, k)\n",
    "\n",
    "print(lamb, lamb_0, lamb_1)"
   ]
  },
  {
   "cell_type": "code",
   "execution_count": 465,
   "metadata": {
    "scrolled": true
   },
   "outputs": [
    {
     "name": "stdout",
     "output_type": "stream",
     "text": [
      "pred : 0.13362352980806602 , max : 0.13362352980806602 , min : 0.11045748807941913\n",
      "scaling : 1.0\n"
     ]
    }
   ],
   "source": [
    "       \n",
    "if lamb < lamb_0: # 일자별, 이런 경우가 있을수도 있어 - 마지막 구매부터 너무 너무 멀어지면!\n",
    "    lamb_0 = lamb\n",
    "pred = (1-stats.poisson.pmf(mu = lamb, k=0))\n",
    "max =  (1-stats.poisson.pmf(mu = lamb_1, k=0))  # max\n",
    "min =  (1-stats.poisson.pmf(mu = lamb_0, k=0))  # min\n",
    "scal = (pred - min)/(max - min)\n",
    "\n",
    "print('pred : {}'.format(pred), ', max : {}'.format(max), ', min : {}'.format(min))\n",
    "print('scaling : {}'.format(scal))"
   ]
  },
  {
   "cell_type": "markdown",
   "metadata": {},
   "source": [
    "- #### (3)주기가 '평균 - 1 주'"
   ]
  },
  {
   "cell_type": "code",
   "execution_count": 466,
   "metadata": {},
   "outputs": [],
   "source": [
    "# 주기가 평균 - 1 주\n",
    "\n",
    "k, t_purch, tmean_u, t_ ,alpha, beta = 6, 30.0 , 6.0 , 6.0-1 , 1.6348410016313837, 23.228302136357172"
   ]
  },
  {
   "cell_type": "code",
   "execution_count": 467,
   "metadata": {},
   "outputs": [],
   "source": [
    "# 함수로 출력되는게 많게했어! & unit time을 1주일로 변경.\n",
    "\n",
    "def func_lamb(t_purch, tmean_u, t_ , alpha, beta, k):\n",
    "    \n",
    "    lamb = ((k+alpha)/(t_purch+2*abs(tmean_u-t_)+beta))\n",
    "    lamb_0 = ((k+alpha)/(t_purch+2*abs(tmean_u)+beta))   # 최저값 : t=0  \n",
    "    lamb_1 = ((k+alpha)/(t_purch+beta))     #최고값 : |tmean-t|=0\n",
    "    \n",
    "    return lamb,lamb_0, lamb_1, t_, t_purch, tmean_u, k"
   ]
  },
  {
   "cell_type": "code",
   "execution_count": 468,
   "metadata": {},
   "outputs": [
    {
     "name": "stdout",
     "output_type": "stream",
     "text": [
      "0.13824145784495004 0.11704797996536921 0.14343574179903187\n"
     ]
    }
   ],
   "source": [
    "lamb, lamb_0, lamb_1, t_, t_purch, tmean_u, k = func_lamb(t_purch, tmean_u, t_ , alpha, beta, k)\n",
    "\n",
    "print(lamb, lamb_0, lamb_1)"
   ]
  },
  {
   "cell_type": "code",
   "execution_count": 469,
   "metadata": {
    "scrolled": false
   },
   "outputs": [
    {
     "name": "stdout",
     "output_type": "stream",
     "text": [
      "pred : 0.12911161647574265 , max : 0.13362352980806602 , min : 0.11045748807941913\n",
      "scaling : 0.8052358972165718\n"
     ]
    }
   ],
   "source": [
    "       \n",
    "if lamb < lamb_0: # 일자별, 이런 경우가 있을수도 있어 - 마지막 구매부터 너무 너무 멀어지면!\n",
    "    lamb_0 = lamb\n",
    "pred = (1-stats.poisson.pmf(mu = lamb, k=0))\n",
    "max =  (1-stats.poisson.pmf(mu = lamb_1, k=0))  # max\n",
    "min =  (1-stats.poisson.pmf(mu = lamb_0, k=0))  # min\n",
    "scal = (pred - min)/(max - min)\n",
    "\n",
    "print('pred : {}'.format(pred), ', max : {}'.format(max), ', min : {}'.format(min))\n",
    "print('scaling : {}'.format(scal))"
   ]
  },
  {
   "cell_type": "markdown",
   "metadata": {},
   "source": [
    "- #### (4)주기가 '평균 - 0.5 주'"
   ]
  },
  {
   "cell_type": "code",
   "execution_count": 470,
   "metadata": {},
   "outputs": [],
   "source": [
    "# 주기가 '평균 - 0.5 주'\n",
    "# mean :  5.12256603893284\n",
    "\n",
    "k, t_purch, tmean_u, t_ ,alpha, beta = 6, 30.0 , 6.0 , 6.0-0.5 , 1.6348410016313837, 23.228302136357172"
   ]
  },
  {
   "cell_type": "code",
   "execution_count": 471,
   "metadata": {},
   "outputs": [],
   "source": [
    "# 함수로 출력되는게 많게했어! & unit time을 1주일로 변경.\n",
    "\n",
    "def func_lamb(t_purch, tmean_u, t_ , alpha, beta, k):\n",
    "    \n",
    "    lamb = ((k+alpha)/(t_purch+2*abs(tmean_u-t_)+beta))\n",
    "    lamb_0 = ((k+alpha)/(t_purch+2*abs(tmean_u)+beta))   # 최저값 : t=0  \n",
    "    lamb_1 = ((k+alpha)/(t_purch+beta))     #최고값 : |tmean-t|=0\n",
    "    \n",
    "    return lamb,lamb_0, lamb_1, t_, t_purch, tmean_u, k"
   ]
  },
  {
   "cell_type": "code",
   "execution_count": 472,
   "metadata": {},
   "outputs": [
    {
     "name": "stdout",
     "output_type": "stream",
     "text": [
      "0.14079070708195068 0.11704797996536921 0.14343574179903187\n"
     ]
    }
   ],
   "source": [
    "lamb, lamb_0, lamb_1, t_, t_purch, tmean_u, k = func_lamb(t_purch, tmean_u, t_ , alpha, beta, k)\n",
    "\n",
    "print(lamb, lamb_0, lamb_1)"
   ]
  },
  {
   "cell_type": "code",
   "execution_count": 473,
   "metadata": {
    "scrolled": false
   },
   "outputs": [
    {
     "name": "stdout",
     "output_type": "stream",
     "text": [
      "pred : 0.13132890061721825 , max : 0.13362352980806602 , min : 0.11045748807941913\n",
      "scaling : 0.9009485859636409\n"
     ]
    }
   ],
   "source": [
    "       \n",
    "if lamb < lamb_0: # 일자별, 이런 경우가 있을수도 있어 - 마지막 구매부터 너무 너무 멀어지면!\n",
    "    lamb_0 = lamb\n",
    "pred = (1-stats.poisson.pmf(mu = lamb, k=0))\n",
    "max =  (1-stats.poisson.pmf(mu = lamb_1, k=0))  # max\n",
    "min =  (1-stats.poisson.pmf(mu = lamb_0, k=0))  # min\n",
    "scal = (pred - min)/(max - min)\n",
    "\n",
    "print('pred : {}'.format(pred), ', max : {}'.format(max), ', min : {}'.format(min))\n",
    "print('scaling : {}'.format(scal))"
   ]
  },
  {
   "cell_type": "markdown",
   "metadata": {},
   "source": [
    ": 딱 주기에서 1주일 정도만 노출되도록 보인다!"
   ]
  },
  {
   "cell_type": "code",
   "execution_count": null,
   "metadata": {},
   "outputs": [],
   "source": []
  }
 ],
 "metadata": {
  "kernelspec": {
   "display_name": "Python [default]",
   "language": "python",
   "name": "python3"
  },
  "language_info": {
   "codemirror_mode": {
    "name": "ipython",
    "version": 3
   },
   "file_extension": ".py",
   "mimetype": "text/x-python",
   "name": "python",
   "nbconvert_exporter": "python",
   "pygments_lexer": "ipython3",
   "version": "3.6.6"
  }
 },
 "nbformat": 4,
 "nbformat_minor": 2
}
