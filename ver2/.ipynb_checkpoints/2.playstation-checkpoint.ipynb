{
 "cells": [
  {
   "cell_type": "code",
   "execution_count": 1,
   "metadata": {},
   "outputs": [],
   "source": [
    "import pandas as pd\n",
    "import numpy as np\n",
    "import matplotlib.pyplot as plt\n",
    "import random\n",
    "import scipy.stats as stats"
   ]
  },
  {
   "cell_type": "code",
   "execution_count": 2,
   "metadata": {},
   "outputs": [
    {
     "data": {
      "text/plain": [
       "'/Users/we/Downloads/업무/buy it again_분석 /ver2'"
      ]
     },
     "execution_count": 2,
     "metadata": {},
     "output_type": "execute_result"
    }
   ],
   "source": [
    "import os\n",
    "os.getcwd()"
   ]
  },
  {
   "cell_type": "code",
   "execution_count": 3,
   "metadata": {},
   "outputs": [],
   "source": [
    "playstation = pd.read_csv('../playstation.csv')"
   ]
  },
  {
   "cell_type": "code",
   "execution_count": 4,
   "metadata": {},
   "outputs": [
    {
     "data": {
      "text/plain": [
       "(1560, 7)"
      ]
     },
     "execution_count": 4,
     "metadata": {},
     "output_type": "execute_result"
    }
   ],
   "source": [
    "playstation.shape"
   ]
  },
  {
   "cell_type": "code",
   "execution_count": 5,
   "metadata": {
    "scrolled": true
   },
   "outputs": [
    {
     "data": {
      "text/html": [
       "<div>\n",
       "<style scoped>\n",
       "    .dataframe tbody tr th:only-of-type {\n",
       "        vertical-align: middle;\n",
       "    }\n",
       "\n",
       "    .dataframe tbody tr th {\n",
       "        vertical-align: top;\n",
       "    }\n",
       "\n",
       "    .dataframe thead th {\n",
       "        text-align: right;\n",
       "    }\n",
       "</style>\n",
       "<table border=\"1\" class=\"dataframe\">\n",
       "  <thead>\n",
       "    <tr style=\"text-align: right;\">\n",
       "      <th></th>\n",
       "      <th>Unnamed: 0</th>\n",
       "      <th>biz_dt</th>\n",
       "      <th>mid</th>\n",
       "      <th>price</th>\n",
       "      <th>prodNo</th>\n",
       "      <th>dcateCd</th>\n",
       "      <th>dcateNm</th>\n",
       "    </tr>\n",
       "  </thead>\n",
       "  <tbody>\n",
       "    <tr>\n",
       "      <th>0</th>\n",
       "      <td>266</td>\n",
       "      <td>2018-08-01 00:20:11</td>\n",
       "      <td>11093786</td>\n",
       "      <td>515000</td>\n",
       "      <td>102042687</td>\n",
       "      <td>4101182</td>\n",
       "      <td>Playstation</td>\n",
       "    </tr>\n",
       "    <tr>\n",
       "      <th>1</th>\n",
       "      <td>444</td>\n",
       "      <td>2018-08-01 02:29:10</td>\n",
       "      <td>21044338</td>\n",
       "      <td>402000</td>\n",
       "      <td>102038755</td>\n",
       "      <td>4101182</td>\n",
       "      <td>Playstation</td>\n",
       "    </tr>\n",
       "    <tr>\n",
       "      <th>2</th>\n",
       "      <td>215</td>\n",
       "      <td>2018-08-01 02:49:15</td>\n",
       "      <td>8813552</td>\n",
       "      <td>515000</td>\n",
       "      <td>102042687</td>\n",
       "      <td>4101182</td>\n",
       "      <td>Playstation</td>\n",
       "    </tr>\n",
       "    <tr>\n",
       "      <th>3</th>\n",
       "      <td>245</td>\n",
       "      <td>2018-08-01 08:54:17</td>\n",
       "      <td>16342278</td>\n",
       "      <td>515000</td>\n",
       "      <td>102042687</td>\n",
       "      <td>4101182</td>\n",
       "      <td>Playstation</td>\n",
       "    </tr>\n",
       "    <tr>\n",
       "      <th>4</th>\n",
       "      <td>235</td>\n",
       "      <td>2018-08-01 09:35:45</td>\n",
       "      <td>1081964</td>\n",
       "      <td>515000</td>\n",
       "      <td>102042687</td>\n",
       "      <td>4101182</td>\n",
       "      <td>Playstation</td>\n",
       "    </tr>\n",
       "  </tbody>\n",
       "</table>\n",
       "</div>"
      ],
      "text/plain": [
       "   Unnamed: 0               biz_dt       mid   price     prodNo  dcateCd  \\\n",
       "0         266  2018-08-01 00:20:11  11093786  515000  102042687  4101182   \n",
       "1         444  2018-08-01 02:29:10  21044338  402000  102038755  4101182   \n",
       "2         215  2018-08-01 02:49:15   8813552  515000  102042687  4101182   \n",
       "3         245  2018-08-01 08:54:17  16342278  515000  102042687  4101182   \n",
       "4         235  2018-08-01 09:35:45   1081964  515000  102042687  4101182   \n",
       "\n",
       "       dcateNm  \n",
       "0  Playstation  \n",
       "1  Playstation  \n",
       "2  Playstation  \n",
       "3  Playstation  \n",
       "4  Playstation  "
      ]
     },
     "execution_count": 5,
     "metadata": {},
     "output_type": "execute_result"
    }
   ],
   "source": [
    "playstation.head()"
   ]
  },
  {
   "cell_type": "code",
   "execution_count": 6,
   "metadata": {},
   "outputs": [
    {
     "data": {
      "text/html": [
       "<div>\n",
       "<style scoped>\n",
       "    .dataframe tbody tr th:only-of-type {\n",
       "        vertical-align: middle;\n",
       "    }\n",
       "\n",
       "    .dataframe tbody tr th {\n",
       "        vertical-align: top;\n",
       "    }\n",
       "\n",
       "    .dataframe thead th {\n",
       "        text-align: right;\n",
       "    }\n",
       "</style>\n",
       "<table border=\"1\" class=\"dataframe\">\n",
       "  <thead>\n",
       "    <tr style=\"text-align: right;\">\n",
       "      <th></th>\n",
       "      <th>biz_dt</th>\n",
       "      <th>mid</th>\n",
       "      <th>price</th>\n",
       "      <th>prodNo</th>\n",
       "      <th>dcateCd</th>\n",
       "      <th>dcateNm</th>\n",
       "    </tr>\n",
       "  </thead>\n",
       "  <tbody>\n",
       "    <tr>\n",
       "      <th>0</th>\n",
       "      <td>2018-08-01 00:20:11</td>\n",
       "      <td>11093786</td>\n",
       "      <td>515000</td>\n",
       "      <td>102042687</td>\n",
       "      <td>4101182</td>\n",
       "      <td>Playstation</td>\n",
       "    </tr>\n",
       "    <tr>\n",
       "      <th>1</th>\n",
       "      <td>2018-08-01 02:29:10</td>\n",
       "      <td>21044338</td>\n",
       "      <td>402000</td>\n",
       "      <td>102038755</td>\n",
       "      <td>4101182</td>\n",
       "      <td>Playstation</td>\n",
       "    </tr>\n",
       "    <tr>\n",
       "      <th>2</th>\n",
       "      <td>2018-08-01 02:49:15</td>\n",
       "      <td>8813552</td>\n",
       "      <td>515000</td>\n",
       "      <td>102042687</td>\n",
       "      <td>4101182</td>\n",
       "      <td>Playstation</td>\n",
       "    </tr>\n",
       "    <tr>\n",
       "      <th>3</th>\n",
       "      <td>2018-08-01 08:54:17</td>\n",
       "      <td>16342278</td>\n",
       "      <td>515000</td>\n",
       "      <td>102042687</td>\n",
       "      <td>4101182</td>\n",
       "      <td>Playstation</td>\n",
       "    </tr>\n",
       "    <tr>\n",
       "      <th>4</th>\n",
       "      <td>2018-08-01 09:35:45</td>\n",
       "      <td>1081964</td>\n",
       "      <td>515000</td>\n",
       "      <td>102042687</td>\n",
       "      <td>4101182</td>\n",
       "      <td>Playstation</td>\n",
       "    </tr>\n",
       "  </tbody>\n",
       "</table>\n",
       "</div>"
      ],
      "text/plain": [
       "                biz_dt       mid   price     prodNo  dcateCd      dcateNm\n",
       "0  2018-08-01 00:20:11  11093786  515000  102042687  4101182  Playstation\n",
       "1  2018-08-01 02:29:10  21044338  402000  102038755  4101182  Playstation\n",
       "2  2018-08-01 02:49:15   8813552  515000  102042687  4101182  Playstation\n",
       "3  2018-08-01 08:54:17  16342278  515000  102042687  4101182  Playstation\n",
       "4  2018-08-01 09:35:45   1081964  515000  102042687  4101182  Playstation"
      ]
     },
     "execution_count": 6,
     "metadata": {},
     "output_type": "execute_result"
    }
   ],
   "source": [
    "playstation = playstation.iloc[:,1:]; playstation.head()"
   ]
  },
  {
   "cell_type": "code",
   "execution_count": 7,
   "metadata": {},
   "outputs": [
    {
     "data": {
      "text/plain": [
       "0"
      ]
     },
     "execution_count": 7,
     "metadata": {},
     "output_type": "execute_result"
    }
   ],
   "source": [
    "sum(playstation.duplicated())  # 중복은 없다..!"
   ]
  },
  {
   "cell_type": "code",
   "execution_count": 8,
   "metadata": {},
   "outputs": [
    {
     "data": {
      "text/html": [
       "<div>\n",
       "<style scoped>\n",
       "    .dataframe tbody tr th:only-of-type {\n",
       "        vertical-align: middle;\n",
       "    }\n",
       "\n",
       "    .dataframe tbody tr th {\n",
       "        vertical-align: top;\n",
       "    }\n",
       "\n",
       "    .dataframe thead th {\n",
       "        text-align: right;\n",
       "    }\n",
       "</style>\n",
       "<table border=\"1\" class=\"dataframe\">\n",
       "  <thead>\n",
       "    <tr style=\"text-align: right;\">\n",
       "      <th></th>\n",
       "      <th>biz_dt</th>\n",
       "      <th>mid</th>\n",
       "      <th>price</th>\n",
       "      <th>prodNo</th>\n",
       "      <th>dcateCd</th>\n",
       "      <th>dcateNm</th>\n",
       "    </tr>\n",
       "  </thead>\n",
       "  <tbody>\n",
       "    <tr>\n",
       "      <th>906</th>\n",
       "      <td>2018-10-03 15:11:26</td>\n",
       "      <td>1379714</td>\n",
       "      <td>404000</td>\n",
       "      <td>109012990</td>\n",
       "      <td>4101182</td>\n",
       "      <td>Playstation</td>\n",
       "    </tr>\n",
       "    <tr>\n",
       "      <th>907</th>\n",
       "      <td>2018-10-03 15:26:28</td>\n",
       "      <td>1379714</td>\n",
       "      <td>404000</td>\n",
       "      <td>109012990</td>\n",
       "      <td>4101182</td>\n",
       "      <td>Playstation</td>\n",
       "    </tr>\n",
       "  </tbody>\n",
       "</table>\n",
       "</div>"
      ],
      "text/plain": [
       "                  biz_dt      mid   price     prodNo  dcateCd      dcateNm\n",
       "906  2018-10-03 15:11:26  1379714  404000  109012990  4101182  Playstation\n",
       "907  2018-10-03 15:26:28  1379714  404000  109012990  4101182  Playstation"
      ]
     },
     "execution_count": 8,
     "metadata": {},
     "output_type": "execute_result"
    }
   ],
   "source": [
    "playstation[playstation.mid == 1379714]"
   ]
  },
  {
   "cell_type": "code",
   "execution_count": 9,
   "metadata": {},
   "outputs": [
    {
     "data": {
      "text/html": [
       "<div>\n",
       "<style scoped>\n",
       "    .dataframe tbody tr th:only-of-type {\n",
       "        vertical-align: middle;\n",
       "    }\n",
       "\n",
       "    .dataframe tbody tr th {\n",
       "        vertical-align: top;\n",
       "    }\n",
       "\n",
       "    .dataframe thead th {\n",
       "        text-align: right;\n",
       "    }\n",
       "</style>\n",
       "<table border=\"1\" class=\"dataframe\">\n",
       "  <thead>\n",
       "    <tr style=\"text-align: right;\">\n",
       "      <th></th>\n",
       "      <th>biz_dt</th>\n",
       "      <th>mid</th>\n",
       "      <th>price</th>\n",
       "      <th>prodNo</th>\n",
       "      <th>dcateCd</th>\n",
       "      <th>dcateNm</th>\n",
       "    </tr>\n",
       "  </thead>\n",
       "  <tbody>\n",
       "    <tr>\n",
       "      <th>372</th>\n",
       "      <td>2018-08-27 21:39:44</td>\n",
       "      <td>25587317</td>\n",
       "      <td>140000</td>\n",
       "      <td>101115768</td>\n",
       "      <td>4101182</td>\n",
       "      <td>Playstation</td>\n",
       "    </tr>\n",
       "    <tr>\n",
       "      <th>1544</th>\n",
       "      <td>2018-10-30 20:15:51</td>\n",
       "      <td>10063357</td>\n",
       "      <td>140000</td>\n",
       "      <td>101013086</td>\n",
       "      <td>4101182</td>\n",
       "      <td>Playstation</td>\n",
       "    </tr>\n",
       "    <tr>\n",
       "      <th>95</th>\n",
       "      <td>2018-08-03 16:54:21</td>\n",
       "      <td>6374066</td>\n",
       "      <td>363000</td>\n",
       "      <td>101576275</td>\n",
       "      <td>4101182</td>\n",
       "      <td>Playstation</td>\n",
       "    </tr>\n",
       "    <tr>\n",
       "      <th>224</th>\n",
       "      <td>2018-08-12 17:05:43</td>\n",
       "      <td>4980440</td>\n",
       "      <td>363000</td>\n",
       "      <td>104382645</td>\n",
       "      <td>4101182</td>\n",
       "      <td>Playstation</td>\n",
       "    </tr>\n",
       "    <tr>\n",
       "      <th>385</th>\n",
       "      <td>2018-08-29 18:47:51</td>\n",
       "      <td>9536869</td>\n",
       "      <td>363000</td>\n",
       "      <td>101576275</td>\n",
       "      <td>4101182</td>\n",
       "      <td>Playstation</td>\n",
       "    </tr>\n",
       "    <tr>\n",
       "      <th>109</th>\n",
       "      <td>2018-08-06 13:54:17</td>\n",
       "      <td>25424064</td>\n",
       "      <td>363000</td>\n",
       "      <td>102052939</td>\n",
       "      <td>4101182</td>\n",
       "      <td>Playstation</td>\n",
       "    </tr>\n",
       "    <tr>\n",
       "      <th>108</th>\n",
       "      <td>2018-08-05 21:20:38</td>\n",
       "      <td>14311541</td>\n",
       "      <td>363000</td>\n",
       "      <td>102052939</td>\n",
       "      <td>4101182</td>\n",
       "      <td>Playstation</td>\n",
       "    </tr>\n",
       "    <tr>\n",
       "      <th>104</th>\n",
       "      <td>2018-08-04 13:05:56</td>\n",
       "      <td>5080048</td>\n",
       "      <td>363000</td>\n",
       "      <td>102052939</td>\n",
       "      <td>4101182</td>\n",
       "      <td>Playstation</td>\n",
       "    </tr>\n",
       "    <tr>\n",
       "      <th>99</th>\n",
       "      <td>2018-08-03 19:53:26</td>\n",
       "      <td>2392401</td>\n",
       "      <td>363000</td>\n",
       "      <td>102052939</td>\n",
       "      <td>4101182</td>\n",
       "      <td>Playstation</td>\n",
       "    </tr>\n",
       "    <tr>\n",
       "      <th>98</th>\n",
       "      <td>2018-08-03 18:51:39</td>\n",
       "      <td>6339443</td>\n",
       "      <td>363000</td>\n",
       "      <td>102052939</td>\n",
       "      <td>4101182</td>\n",
       "      <td>Playstation</td>\n",
       "    </tr>\n",
       "    <tr>\n",
       "      <th>96</th>\n",
       "      <td>2018-08-03 17:16:43</td>\n",
       "      <td>3251377</td>\n",
       "      <td>363000</td>\n",
       "      <td>102052939</td>\n",
       "      <td>4101182</td>\n",
       "      <td>Playstation</td>\n",
       "    </tr>\n",
       "    <tr>\n",
       "      <th>93</th>\n",
       "      <td>2018-08-03 16:10:54</td>\n",
       "      <td>4657666</td>\n",
       "      <td>363000</td>\n",
       "      <td>101576275</td>\n",
       "      <td>4101182</td>\n",
       "      <td>Playstation</td>\n",
       "    </tr>\n",
       "    <tr>\n",
       "      <th>91</th>\n",
       "      <td>2018-08-03 02:19:33</td>\n",
       "      <td>6744309</td>\n",
       "      <td>363000</td>\n",
       "      <td>102052939</td>\n",
       "      <td>4101182</td>\n",
       "      <td>Playstation</td>\n",
       "    </tr>\n",
       "    <tr>\n",
       "      <th>90</th>\n",
       "      <td>2018-08-03 01:43:42</td>\n",
       "      <td>11745152</td>\n",
       "      <td>363000</td>\n",
       "      <td>102052939</td>\n",
       "      <td>4101182</td>\n",
       "      <td>Playstation</td>\n",
       "    </tr>\n",
       "    <tr>\n",
       "      <th>89</th>\n",
       "      <td>2018-08-03 00:30:11</td>\n",
       "      <td>4608624</td>\n",
       "      <td>363000</td>\n",
       "      <td>101576275</td>\n",
       "      <td>4101182</td>\n",
       "      <td>Playstation</td>\n",
       "    </tr>\n",
       "    <tr>\n",
       "      <th>251</th>\n",
       "      <td>2018-08-16 05:38:55</td>\n",
       "      <td>5711943</td>\n",
       "      <td>363000</td>\n",
       "      <td>101576275</td>\n",
       "      <td>4101182</td>\n",
       "      <td>Playstation</td>\n",
       "    </tr>\n",
       "    <tr>\n",
       "      <th>84</th>\n",
       "      <td>2018-08-02 20:51:10</td>\n",
       "      <td>7807366</td>\n",
       "      <td>363000</td>\n",
       "      <td>102052939</td>\n",
       "      <td>4101182</td>\n",
       "      <td>Playstation</td>\n",
       "    </tr>\n",
       "    <tr>\n",
       "      <th>82</th>\n",
       "      <td>2018-08-02 19:44:14</td>\n",
       "      <td>12300689</td>\n",
       "      <td>363000</td>\n",
       "      <td>101576275</td>\n",
       "      <td>4101182</td>\n",
       "      <td>Playstation</td>\n",
       "    </tr>\n",
       "    <tr>\n",
       "      <th>78</th>\n",
       "      <td>2018-08-02 14:46:43</td>\n",
       "      <td>7807366</td>\n",
       "      <td>363000</td>\n",
       "      <td>102052939</td>\n",
       "      <td>4101182</td>\n",
       "      <td>Playstation</td>\n",
       "    </tr>\n",
       "    <tr>\n",
       "      <th>368</th>\n",
       "      <td>2018-08-27 16:01:52</td>\n",
       "      <td>3824037</td>\n",
       "      <td>363000</td>\n",
       "      <td>100163384</td>\n",
       "      <td>4101182</td>\n",
       "      <td>Playstation</td>\n",
       "    </tr>\n",
       "    <tr>\n",
       "      <th>66</th>\n",
       "      <td>2018-08-01 22:18:27</td>\n",
       "      <td>7807366</td>\n",
       "      <td>363000</td>\n",
       "      <td>102052939</td>\n",
       "      <td>4101182</td>\n",
       "      <td>Playstation</td>\n",
       "    </tr>\n",
       "    <tr>\n",
       "      <th>359</th>\n",
       "      <td>2018-08-25 17:40:22</td>\n",
       "      <td>6889753</td>\n",
       "      <td>363000</td>\n",
       "      <td>101576275</td>\n",
       "      <td>4101182</td>\n",
       "      <td>Playstation</td>\n",
       "    </tr>\n",
       "    <tr>\n",
       "      <th>358</th>\n",
       "      <td>2018-08-24 21:42:22</td>\n",
       "      <td>2609952</td>\n",
       "      <td>363000</td>\n",
       "      <td>101576275</td>\n",
       "      <td>4101182</td>\n",
       "      <td>Playstation</td>\n",
       "    </tr>\n",
       "    <tr>\n",
       "      <th>502</th>\n",
       "      <td>2018-09-04 14:52:41</td>\n",
       "      <td>4073246</td>\n",
       "      <td>363000</td>\n",
       "      <td>102052939</td>\n",
       "      <td>4101182</td>\n",
       "      <td>Playstation</td>\n",
       "    </tr>\n",
       "    <tr>\n",
       "      <th>490</th>\n",
       "      <td>2018-09-04 09:58:26</td>\n",
       "      <td>8875752</td>\n",
       "      <td>363000</td>\n",
       "      <td>102052939</td>\n",
       "      <td>4101182</td>\n",
       "      <td>Playstation</td>\n",
       "    </tr>\n",
       "    <tr>\n",
       "      <th>487</th>\n",
       "      <td>2018-09-04 08:56:40</td>\n",
       "      <td>6689937</td>\n",
       "      <td>363000</td>\n",
       "      <td>102052939</td>\n",
       "      <td>4101182</td>\n",
       "      <td>Playstation</td>\n",
       "    </tr>\n",
       "    <tr>\n",
       "      <th>219</th>\n",
       "      <td>2018-08-11 21:34:48</td>\n",
       "      <td>7933881</td>\n",
       "      <td>363000</td>\n",
       "      <td>101576275</td>\n",
       "      <td>4101182</td>\n",
       "      <td>Playstation</td>\n",
       "    </tr>\n",
       "    <tr>\n",
       "      <th>436</th>\n",
       "      <td>2018-09-02 01:03:57</td>\n",
       "      <td>1771824</td>\n",
       "      <td>363000</td>\n",
       "      <td>101576275</td>\n",
       "      <td>4101182</td>\n",
       "      <td>Playstation</td>\n",
       "    </tr>\n",
       "    <tr>\n",
       "      <th>184</th>\n",
       "      <td>2018-08-09 12:23:47</td>\n",
       "      <td>21207591</td>\n",
       "      <td>363000</td>\n",
       "      <td>102052939</td>\n",
       "      <td>4101182</td>\n",
       "      <td>Playstation</td>\n",
       "    </tr>\n",
       "    <tr>\n",
       "      <th>193</th>\n",
       "      <td>2018-08-09 18:24:06</td>\n",
       "      <td>7056690</td>\n",
       "      <td>363000</td>\n",
       "      <td>102052939</td>\n",
       "      <td>4101182</td>\n",
       "      <td>Playstation</td>\n",
       "    </tr>\n",
       "    <tr>\n",
       "      <th>...</th>\n",
       "      <td>...</td>\n",
       "      <td>...</td>\n",
       "      <td>...</td>\n",
       "      <td>...</td>\n",
       "      <td>...</td>\n",
       "      <td>...</td>\n",
       "    </tr>\n",
       "    <tr>\n",
       "      <th>1485</th>\n",
       "      <td>2018-10-26 17:40:35</td>\n",
       "      <td>5785081</td>\n",
       "      <td>578000</td>\n",
       "      <td>122666139</td>\n",
       "      <td>4101182</td>\n",
       "      <td>Playstation</td>\n",
       "    </tr>\n",
       "    <tr>\n",
       "      <th>1484</th>\n",
       "      <td>2018-10-26 17:39:57</td>\n",
       "      <td>24111370</td>\n",
       "      <td>578000</td>\n",
       "      <td>122666139</td>\n",
       "      <td>4101182</td>\n",
       "      <td>Playstation</td>\n",
       "    </tr>\n",
       "    <tr>\n",
       "      <th>1483</th>\n",
       "      <td>2018-10-26 17:36:17</td>\n",
       "      <td>5785081</td>\n",
       "      <td>578000</td>\n",
       "      <td>122666139</td>\n",
       "      <td>4101182</td>\n",
       "      <td>Playstation</td>\n",
       "    </tr>\n",
       "    <tr>\n",
       "      <th>1482</th>\n",
       "      <td>2018-10-26 17:27:23</td>\n",
       "      <td>1000319</td>\n",
       "      <td>578000</td>\n",
       "      <td>122666139</td>\n",
       "      <td>4101182</td>\n",
       "      <td>Playstation</td>\n",
       "    </tr>\n",
       "    <tr>\n",
       "      <th>1481</th>\n",
       "      <td>2018-10-26 17:20:16</td>\n",
       "      <td>3448823</td>\n",
       "      <td>578000</td>\n",
       "      <td>122666139</td>\n",
       "      <td>4101182</td>\n",
       "      <td>Playstation</td>\n",
       "    </tr>\n",
       "    <tr>\n",
       "      <th>1480</th>\n",
       "      <td>2018-10-26 17:10:18</td>\n",
       "      <td>3428409</td>\n",
       "      <td>578000</td>\n",
       "      <td>122666139</td>\n",
       "      <td>4101182</td>\n",
       "      <td>Playstation</td>\n",
       "    </tr>\n",
       "    <tr>\n",
       "      <th>1420</th>\n",
       "      <td>2018-10-25 22:39:51</td>\n",
       "      <td>3063768</td>\n",
       "      <td>578000</td>\n",
       "      <td>122666139</td>\n",
       "      <td>4101182</td>\n",
       "      <td>Playstation</td>\n",
       "    </tr>\n",
       "    <tr>\n",
       "      <th>1492</th>\n",
       "      <td>2018-10-26 19:54:50</td>\n",
       "      <td>26091264</td>\n",
       "      <td>578000</td>\n",
       "      <td>122666139</td>\n",
       "      <td>4101182</td>\n",
       "      <td>Playstation</td>\n",
       "    </tr>\n",
       "    <tr>\n",
       "      <th>1479</th>\n",
       "      <td>2018-10-26 17:02:39</td>\n",
       "      <td>16020901</td>\n",
       "      <td>578000</td>\n",
       "      <td>122666139</td>\n",
       "      <td>4101182</td>\n",
       "      <td>Playstation</td>\n",
       "    </tr>\n",
       "    <tr>\n",
       "      <th>1487</th>\n",
       "      <td>2018-10-26 18:00:39</td>\n",
       "      <td>18315485</td>\n",
       "      <td>578000</td>\n",
       "      <td>122666139</td>\n",
       "      <td>4101182</td>\n",
       "      <td>Playstation</td>\n",
       "    </tr>\n",
       "    <tr>\n",
       "      <th>1493</th>\n",
       "      <td>2018-10-26 20:02:02</td>\n",
       "      <td>2181643</td>\n",
       "      <td>578000</td>\n",
       "      <td>122666139</td>\n",
       "      <td>4101182</td>\n",
       "      <td>Playstation</td>\n",
       "    </tr>\n",
       "    <tr>\n",
       "      <th>1476</th>\n",
       "      <td>2018-10-26 16:27:19</td>\n",
       "      <td>4853296</td>\n",
       "      <td>578000</td>\n",
       "      <td>122666139</td>\n",
       "      <td>4101182</td>\n",
       "      <td>Playstation</td>\n",
       "    </tr>\n",
       "    <tr>\n",
       "      <th>1475</th>\n",
       "      <td>2018-10-26 16:16:54</td>\n",
       "      <td>1858268</td>\n",
       "      <td>578000</td>\n",
       "      <td>122666139</td>\n",
       "      <td>4101182</td>\n",
       "      <td>Playstation</td>\n",
       "    </tr>\n",
       "    <tr>\n",
       "      <th>1494</th>\n",
       "      <td>2018-10-26 20:09:18</td>\n",
       "      <td>9729828</td>\n",
       "      <td>578000</td>\n",
       "      <td>122666139</td>\n",
       "      <td>4101182</td>\n",
       "      <td>Playstation</td>\n",
       "    </tr>\n",
       "    <tr>\n",
       "      <th>1474</th>\n",
       "      <td>2018-10-26 16:00:31</td>\n",
       "      <td>1195715</td>\n",
       "      <td>578000</td>\n",
       "      <td>122666139</td>\n",
       "      <td>4101182</td>\n",
       "      <td>Playstation</td>\n",
       "    </tr>\n",
       "    <tr>\n",
       "      <th>1473</th>\n",
       "      <td>2018-10-26 15:51:27</td>\n",
       "      <td>19106084</td>\n",
       "      <td>578000</td>\n",
       "      <td>122666139</td>\n",
       "      <td>4101182</td>\n",
       "      <td>Playstation</td>\n",
       "    </tr>\n",
       "    <tr>\n",
       "      <th>1472</th>\n",
       "      <td>2018-10-26 15:32:54</td>\n",
       "      <td>13682894</td>\n",
       "      <td>578000</td>\n",
       "      <td>122666139</td>\n",
       "      <td>4101182</td>\n",
       "      <td>Playstation</td>\n",
       "    </tr>\n",
       "    <tr>\n",
       "      <th>1471</th>\n",
       "      <td>2018-10-26 15:16:52</td>\n",
       "      <td>2764077</td>\n",
       "      <td>578000</td>\n",
       "      <td>122666139</td>\n",
       "      <td>4101182</td>\n",
       "      <td>Playstation</td>\n",
       "    </tr>\n",
       "    <tr>\n",
       "      <th>1470</th>\n",
       "      <td>2018-10-26 14:58:37</td>\n",
       "      <td>25544516</td>\n",
       "      <td>578000</td>\n",
       "      <td>122666139</td>\n",
       "      <td>4101182</td>\n",
       "      <td>Playstation</td>\n",
       "    </tr>\n",
       "    <tr>\n",
       "      <th>1468</th>\n",
       "      <td>2018-10-26 14:38:07</td>\n",
       "      <td>4462763</td>\n",
       "      <td>578000</td>\n",
       "      <td>122666139</td>\n",
       "      <td>4101182</td>\n",
       "      <td>Playstation</td>\n",
       "    </tr>\n",
       "    <tr>\n",
       "      <th>1478</th>\n",
       "      <td>2018-10-26 16:34:40</td>\n",
       "      <td>26087399</td>\n",
       "      <td>578000</td>\n",
       "      <td>122666139</td>\n",
       "      <td>4101182</td>\n",
       "      <td>Playstation</td>\n",
       "    </tr>\n",
       "    <tr>\n",
       "      <th>1489</th>\n",
       "      <td>2018-10-26 18:32:38</td>\n",
       "      <td>8946399</td>\n",
       "      <td>578000</td>\n",
       "      <td>122666139</td>\n",
       "      <td>4101182</td>\n",
       "      <td>Playstation</td>\n",
       "    </tr>\n",
       "    <tr>\n",
       "      <th>609</th>\n",
       "      <td>2018-09-11 13:04:16</td>\n",
       "      <td>2298100</td>\n",
       "      <td>607000</td>\n",
       "      <td>100824063</td>\n",
       "      <td>4101182</td>\n",
       "      <td>Playstation</td>\n",
       "    </tr>\n",
       "    <tr>\n",
       "      <th>749</th>\n",
       "      <td>2018-09-21 09:38:11</td>\n",
       "      <td>25754823</td>\n",
       "      <td>615000</td>\n",
       "      <td>115717785</td>\n",
       "      <td>4101182</td>\n",
       "      <td>Playstation</td>\n",
       "    </tr>\n",
       "    <tr>\n",
       "      <th>748</th>\n",
       "      <td>2018-09-20 23:20:05</td>\n",
       "      <td>25754144</td>\n",
       "      <td>615000</td>\n",
       "      <td>115717785</td>\n",
       "      <td>4101182</td>\n",
       "      <td>Playstation</td>\n",
       "    </tr>\n",
       "    <tr>\n",
       "      <th>897</th>\n",
       "      <td>2018-10-03 03:42:28</td>\n",
       "      <td>13756275</td>\n",
       "      <td>615000</td>\n",
       "      <td>115717785</td>\n",
       "      <td>4101182</td>\n",
       "      <td>Playstation</td>\n",
       "    </tr>\n",
       "    <tr>\n",
       "      <th>872</th>\n",
       "      <td>2018-10-02 12:09:43</td>\n",
       "      <td>16503061</td>\n",
       "      <td>615000</td>\n",
       "      <td>115717785</td>\n",
       "      <td>4101182</td>\n",
       "      <td>Playstation</td>\n",
       "    </tr>\n",
       "    <tr>\n",
       "      <th>1558</th>\n",
       "      <td>2018-10-31 23:27:30</td>\n",
       "      <td>13672363</td>\n",
       "      <td>924000</td>\n",
       "      <td>122994862</td>\n",
       "      <td>4101182</td>\n",
       "      <td>Playstation</td>\n",
       "    </tr>\n",
       "    <tr>\n",
       "      <th>1540</th>\n",
       "      <td>2018-10-30 11:28:16</td>\n",
       "      <td>8204951</td>\n",
       "      <td>924000</td>\n",
       "      <td>122994862</td>\n",
       "      <td>4101182</td>\n",
       "      <td>Playstation</td>\n",
       "    </tr>\n",
       "    <tr>\n",
       "      <th>1543</th>\n",
       "      <td>2018-10-30 13:51:52</td>\n",
       "      <td>26115698</td>\n",
       "      <td>924000</td>\n",
       "      <td>122994862</td>\n",
       "      <td>4101182</td>\n",
       "      <td>Playstation</td>\n",
       "    </tr>\n",
       "  </tbody>\n",
       "</table>\n",
       "<p>1560 rows × 6 columns</p>\n",
       "</div>"
      ],
      "text/plain": [
       "                   biz_dt       mid   price     prodNo  dcateCd      dcateNm\n",
       "372   2018-08-27 21:39:44  25587317  140000  101115768  4101182  Playstation\n",
       "1544  2018-10-30 20:15:51  10063357  140000  101013086  4101182  Playstation\n",
       "95    2018-08-03 16:54:21   6374066  363000  101576275  4101182  Playstation\n",
       "224   2018-08-12 17:05:43   4980440  363000  104382645  4101182  Playstation\n",
       "385   2018-08-29 18:47:51   9536869  363000  101576275  4101182  Playstation\n",
       "109   2018-08-06 13:54:17  25424064  363000  102052939  4101182  Playstation\n",
       "108   2018-08-05 21:20:38  14311541  363000  102052939  4101182  Playstation\n",
       "104   2018-08-04 13:05:56   5080048  363000  102052939  4101182  Playstation\n",
       "99    2018-08-03 19:53:26   2392401  363000  102052939  4101182  Playstation\n",
       "98    2018-08-03 18:51:39   6339443  363000  102052939  4101182  Playstation\n",
       "96    2018-08-03 17:16:43   3251377  363000  102052939  4101182  Playstation\n",
       "93    2018-08-03 16:10:54   4657666  363000  101576275  4101182  Playstation\n",
       "91    2018-08-03 02:19:33   6744309  363000  102052939  4101182  Playstation\n",
       "90    2018-08-03 01:43:42  11745152  363000  102052939  4101182  Playstation\n",
       "89    2018-08-03 00:30:11   4608624  363000  101576275  4101182  Playstation\n",
       "251   2018-08-16 05:38:55   5711943  363000  101576275  4101182  Playstation\n",
       "84    2018-08-02 20:51:10   7807366  363000  102052939  4101182  Playstation\n",
       "82    2018-08-02 19:44:14  12300689  363000  101576275  4101182  Playstation\n",
       "78    2018-08-02 14:46:43   7807366  363000  102052939  4101182  Playstation\n",
       "368   2018-08-27 16:01:52   3824037  363000  100163384  4101182  Playstation\n",
       "66    2018-08-01 22:18:27   7807366  363000  102052939  4101182  Playstation\n",
       "359   2018-08-25 17:40:22   6889753  363000  101576275  4101182  Playstation\n",
       "358   2018-08-24 21:42:22   2609952  363000  101576275  4101182  Playstation\n",
       "502   2018-09-04 14:52:41   4073246  363000  102052939  4101182  Playstation\n",
       "490   2018-09-04 09:58:26   8875752  363000  102052939  4101182  Playstation\n",
       "487   2018-09-04 08:56:40   6689937  363000  102052939  4101182  Playstation\n",
       "219   2018-08-11 21:34:48   7933881  363000  101576275  4101182  Playstation\n",
       "436   2018-09-02 01:03:57   1771824  363000  101576275  4101182  Playstation\n",
       "184   2018-08-09 12:23:47  21207591  363000  102052939  4101182  Playstation\n",
       "193   2018-08-09 18:24:06   7056690  363000  102052939  4101182  Playstation\n",
       "...                   ...       ...     ...        ...      ...          ...\n",
       "1485  2018-10-26 17:40:35   5785081  578000  122666139  4101182  Playstation\n",
       "1484  2018-10-26 17:39:57  24111370  578000  122666139  4101182  Playstation\n",
       "1483  2018-10-26 17:36:17   5785081  578000  122666139  4101182  Playstation\n",
       "1482  2018-10-26 17:27:23   1000319  578000  122666139  4101182  Playstation\n",
       "1481  2018-10-26 17:20:16   3448823  578000  122666139  4101182  Playstation\n",
       "1480  2018-10-26 17:10:18   3428409  578000  122666139  4101182  Playstation\n",
       "1420  2018-10-25 22:39:51   3063768  578000  122666139  4101182  Playstation\n",
       "1492  2018-10-26 19:54:50  26091264  578000  122666139  4101182  Playstation\n",
       "1479  2018-10-26 17:02:39  16020901  578000  122666139  4101182  Playstation\n",
       "1487  2018-10-26 18:00:39  18315485  578000  122666139  4101182  Playstation\n",
       "1493  2018-10-26 20:02:02   2181643  578000  122666139  4101182  Playstation\n",
       "1476  2018-10-26 16:27:19   4853296  578000  122666139  4101182  Playstation\n",
       "1475  2018-10-26 16:16:54   1858268  578000  122666139  4101182  Playstation\n",
       "1494  2018-10-26 20:09:18   9729828  578000  122666139  4101182  Playstation\n",
       "1474  2018-10-26 16:00:31   1195715  578000  122666139  4101182  Playstation\n",
       "1473  2018-10-26 15:51:27  19106084  578000  122666139  4101182  Playstation\n",
       "1472  2018-10-26 15:32:54  13682894  578000  122666139  4101182  Playstation\n",
       "1471  2018-10-26 15:16:52   2764077  578000  122666139  4101182  Playstation\n",
       "1470  2018-10-26 14:58:37  25544516  578000  122666139  4101182  Playstation\n",
       "1468  2018-10-26 14:38:07   4462763  578000  122666139  4101182  Playstation\n",
       "1478  2018-10-26 16:34:40  26087399  578000  122666139  4101182  Playstation\n",
       "1489  2018-10-26 18:32:38   8946399  578000  122666139  4101182  Playstation\n",
       "609   2018-09-11 13:04:16   2298100  607000  100824063  4101182  Playstation\n",
       "749   2018-09-21 09:38:11  25754823  615000  115717785  4101182  Playstation\n",
       "748   2018-09-20 23:20:05  25754144  615000  115717785  4101182  Playstation\n",
       "897   2018-10-03 03:42:28  13756275  615000  115717785  4101182  Playstation\n",
       "872   2018-10-02 12:09:43  16503061  615000  115717785  4101182  Playstation\n",
       "1558  2018-10-31 23:27:30  13672363  924000  122994862  4101182  Playstation\n",
       "1540  2018-10-30 11:28:16   8204951  924000  122994862  4101182  Playstation\n",
       "1543  2018-10-30 13:51:52  26115698  924000  122994862  4101182  Playstation\n",
       "\n",
       "[1560 rows x 6 columns]"
      ]
     },
     "execution_count": 9,
     "metadata": {},
     "output_type": "execute_result"
    }
   ],
   "source": [
    "playstation.sort_values(by=['price'])"
   ]
  },
  {
   "cell_type": "code",
   "execution_count": 11,
   "metadata": {},
   "outputs": [
    {
     "data": {
      "text/plain": [
       "481127.5641025641"
      ]
     },
     "execution_count": 11,
     "metadata": {},
     "output_type": "execute_result"
    }
   ],
   "source": [
    "playstation.price.mean()"
   ]
  },
  {
   "cell_type": "code",
   "execution_count": null,
   "metadata": {},
   "outputs": [],
   "source": []
  },
  {
   "cell_type": "code",
   "execution_count": null,
   "metadata": {},
   "outputs": [],
   "source": []
  },
  {
   "cell_type": "code",
   "execution_count": 12,
   "metadata": {},
   "outputs": [
    {
     "data": {
      "text/plain": [
       "(1560,)"
      ]
     },
     "execution_count": 12,
     "metadata": {},
     "output_type": "execute_result"
    }
   ],
   "source": [
    "playstation.mid.shape  # 거래 건수"
   ]
  },
  {
   "cell_type": "code",
   "execution_count": 13,
   "metadata": {},
   "outputs": [
    {
     "data": {
      "text/plain": [
       "1274"
      ]
     },
     "execution_count": 13,
     "metadata": {},
     "output_type": "execute_result"
    }
   ],
   "source": [
    "playstation.mid.nunique()"
   ]
  },
  {
   "cell_type": "code",
   "execution_count": 14,
   "metadata": {
    "scrolled": true
   },
   "outputs": [
    {
     "data": {
      "text/plain": [
       "0       False\n",
       "1       False\n",
       "2       False\n",
       "3       False\n",
       "4       False\n",
       "5       False\n",
       "6       False\n",
       "7       False\n",
       "8        True\n",
       "9       False\n",
       "10      False\n",
       "11      False\n",
       "12      False\n",
       "13       True\n",
       "14      False\n",
       "15      False\n",
       "16      False\n",
       "17      False\n",
       "18      False\n",
       "19       True\n",
       "20      False\n",
       "21      False\n",
       "22      False\n",
       "23      False\n",
       "24       True\n",
       "25       True\n",
       "26      False\n",
       "27      False\n",
       "28       True\n",
       "29      False\n",
       "        ...  \n",
       "1530     True\n",
       "1531    False\n",
       "1532    False\n",
       "1533    False\n",
       "1534    False\n",
       "1535    False\n",
       "1536    False\n",
       "1537    False\n",
       "1538    False\n",
       "1539    False\n",
       "1540    False\n",
       "1541    False\n",
       "1542    False\n",
       "1543    False\n",
       "1544    False\n",
       "1545    False\n",
       "1546    False\n",
       "1547    False\n",
       "1548    False\n",
       "1549    False\n",
       "1550    False\n",
       "1551    False\n",
       "1552    False\n",
       "1553    False\n",
       "1554    False\n",
       "1555    False\n",
       "1556    False\n",
       "1557    False\n",
       "1558    False\n",
       "1559    False\n",
       "Name: mid, Length: 1560, dtype: bool"
      ]
     },
     "execution_count": 14,
     "metadata": {},
     "output_type": "execute_result"
    }
   ],
   "source": [
    "playstation.mid.duplicated()"
   ]
  },
  {
   "cell_type": "code",
   "execution_count": 15,
   "metadata": {},
   "outputs": [
    {
     "data": {
      "text/plain": [
       "0     11093786\n",
       "1     21044338\n",
       "2      8813552\n",
       "3     16342278\n",
       "4      1081964\n",
       "5      5033833\n",
       "6     16396223\n",
       "7      1094512\n",
       "8     16396223\n",
       "9      1521668\n",
       "10     3628266\n",
       "11     1132757\n",
       "12    14756679\n",
       "13     1521668\n",
       "14     9472720\n",
       "15    22900822\n",
       "16     7586824\n",
       "17     9219290\n",
       "18     4603564\n",
       "19    22900822\n",
       "20    25282321\n",
       "21    17344593\n",
       "22     4100605\n",
       "23    17939659\n",
       "24    22900822\n",
       "25    22900822\n",
       "26     7454404\n",
       "27     1550240\n",
       "28    16396223\n",
       "29     7858553\n",
       "Name: mid, dtype: int64"
      ]
     },
     "execution_count": 15,
     "metadata": {},
     "output_type": "execute_result"
    }
   ],
   "source": [
    "playstation.mid[:30] # 15,16처럼 반복 구매를 집계하기위한 RCP"
   ]
  },
  {
   "cell_type": "code",
   "execution_count": 16,
   "metadata": {},
   "outputs": [
    {
     "data": {
      "text/plain": [
       "1274"
      ]
     },
     "execution_count": 16,
     "metadata": {},
     "output_type": "execute_result"
    }
   ],
   "source": [
    "playstation.mid.drop_duplicates().shape[0] # distinct user"
   ]
  },
  {
   "cell_type": "code",
   "execution_count": 17,
   "metadata": {},
   "outputs": [
    {
     "data": {
      "text/plain": [
       "166"
      ]
     },
     "execution_count": 17,
     "metadata": {},
     "output_type": "execute_result"
    }
   ],
   "source": [
    "playstation.mid[playstation.mid.duplicated()].nunique()  # 2번이상 구매한 user는 330명"
   ]
  },
  {
   "cell_type": "code",
   "execution_count": 18,
   "metadata": {},
   "outputs": [
    {
     "data": {
      "text/plain": [
       "0.130298273155416"
      ]
     },
     "execution_count": 18,
     "metadata": {},
     "output_type": "execute_result"
    }
   ],
   "source": [
    "playstation.mid[playstation.mid.duplicated()].nunique() / playstation.mid.nunique()"
   ]
  },
  {
   "cell_type": "markdown",
   "metadata": {},
   "source": [
    "---"
   ]
  },
  {
   "cell_type": "code",
   "execution_count": 19,
   "metadata": {},
   "outputs": [
    {
     "name": "stdout",
     "output_type": "stream",
     "text": [
      "<class 'pandas.core.frame.DataFrame'>\n",
      "RangeIndex: 1560 entries, 0 to 1559\n",
      "Data columns (total 6 columns):\n",
      "biz_dt     1560 non-null object\n",
      "mid        1560 non-null int64\n",
      "price      1560 non-null int64\n",
      "prodNo     1560 non-null int64\n",
      "dcateCd    1560 non-null int64\n",
      "dcateNm    1560 non-null object\n",
      "dtypes: int64(4), object(2)\n",
      "memory usage: 73.2+ KB\n"
     ]
    }
   ],
   "source": [
    "playstation.info()"
   ]
  },
  {
   "cell_type": "code",
   "execution_count": 20,
   "metadata": {},
   "outputs": [],
   "source": [
    "# 날짜 형 변환\n",
    "playstation.biz_dt = pd.to_datetime(playstation.biz_dt)"
   ]
  },
  {
   "cell_type": "code",
   "execution_count": 21,
   "metadata": {},
   "outputs": [
    {
     "name": "stdout",
     "output_type": "stream",
     "text": [
      "<class 'pandas.core.frame.DataFrame'>\n",
      "RangeIndex: 1560 entries, 0 to 1559\n",
      "Data columns (total 6 columns):\n",
      "biz_dt     1560 non-null datetime64[ns]\n",
      "mid        1560 non-null int64\n",
      "price      1560 non-null int64\n",
      "prodNo     1560 non-null int64\n",
      "dcateCd    1560 non-null int64\n",
      "dcateNm    1560 non-null object\n",
      "dtypes: datetime64[ns](1), int64(4), object(1)\n",
      "memory usage: 73.2+ KB\n"
     ]
    }
   ],
   "source": [
    "playstation.info()"
   ]
  },
  {
   "cell_type": "markdown",
   "metadata": {},
   "source": [
    "----"
   ]
  },
  {
   "cell_type": "markdown",
   "metadata": {},
   "source": [
    "## # Step1. playstation 데이터 이용 (8월~10월. 3달)"
   ]
  },
  {
   "cell_type": "code",
   "execution_count": 22,
   "metadata": {},
   "outputs": [
    {
     "data": {
      "text/plain": [
       "(0   2018-08-01 00:20:11\n",
       " Name: biz_dt, dtype: datetime64[ns], 1559   2018-10-31 23:47:51\n",
       " Name: biz_dt, dtype: datetime64[ns])"
      ]
     },
     "execution_count": 22,
     "metadata": {},
     "output_type": "execute_result"
    }
   ],
   "source": [
    "playstation[0:1].biz_dt , playstation[-1:].biz_dt"
   ]
  },
  {
   "cell_type": "markdown",
   "metadata": {},
   "source": [
    "---"
   ]
  },
  {
   "cell_type": "markdown",
   "metadata": {},
   "source": [
    "- #### (1) 전체 유저의 구매주기 파악"
   ]
  },
  {
   "cell_type": "code",
   "execution_count": 23,
   "metadata": {},
   "outputs": [],
   "source": [
    "groups = playstation.groupby('mid')"
   ]
  },
  {
   "cell_type": "code",
   "execution_count": 24,
   "metadata": {},
   "outputs": [],
   "source": [
    "def day_diff(data):\n",
    "    c = data.dt.date.diff()\n",
    "    #c = c.values #이거?\n",
    "    return pd.Series(c.values)"
   ]
  },
  {
   "cell_type": "code",
   "execution_count": 25,
   "metadata": {
    "scrolled": true
   },
   "outputs": [
    {
     "data": {
      "text/plain": [
       "mid        \n",
       "1000319   0                NaN\n",
       "1009758   0                NaN\n",
       "1015504   0                NaN\n",
       "1022764   0                NaN\n",
       "1032048   0                NaT\n",
       "          1    2 days 00:00:00\n",
       "1043076   0                NaN\n",
       "1048764   0                NaN\n",
       "1054000   0                NaN\n",
       "1054119   0                NaN\n",
       "1054955   0                NaN\n",
       "1055159   0                NaN\n",
       "1064570   0                NaN\n",
       "1068365   0                NaN\n",
       "1069312   0                NaN\n",
       "1081964   0                NaN\n",
       "1092930   0                NaN\n",
       "1094512   0                NaN\n",
       "1107631   0                NaN\n",
       "1117793   0                NaN\n",
       "1130967   0                NaN\n",
       "1132757   0                NaN\n",
       "1134501   0                NaN\n",
       "1157112   0                NaN\n",
       "1170087   0                NaN\n",
       "1175434   0                NaN\n",
       "1185194   0                NaN\n",
       "1195715   0                NaN\n",
       "1203531   0                NaN\n",
       "1203532   0                NaN\n",
       "                    ...       \n",
       "25927681  2    5 days 00:00:00\n",
       "25937808  0                NaN\n",
       "25942151  0                NaT\n",
       "          1    0 days 00:00:00\n",
       "          2    1 days 00:00:00\n",
       "25942155  0                NaN\n",
       "25947094  0                NaN\n",
       "25947767  0                NaN\n",
       "25951761  0                NaT\n",
       "          1    0 days 00:00:00\n",
       "          2    1 days 00:00:00\n",
       "          3    1 days 00:00:00\n",
       "25953996  0                NaN\n",
       "25969346  0                NaN\n",
       "25973359  0                NaN\n",
       "25974448  0                NaN\n",
       "26085729  0                NaN\n",
       "26085733  0                NaN\n",
       "26087148  0                NaN\n",
       "26087399  0                NaN\n",
       "26087405  0                NaN\n",
       "26091264  0                NaN\n",
       "26091486  0                NaN\n",
       "26091762  0                NaN\n",
       "26093120  0                NaN\n",
       "26108865  0                NaN\n",
       "26112356  0                NaN\n",
       "26113023  0                NaN\n",
       "26115698  0                NaN\n",
       "26119333  0                NaN\n",
       "Name: biz_dt, Length: 1560, dtype: object"
      ]
     },
     "execution_count": 25,
     "metadata": {},
     "output_type": "execute_result"
    }
   ],
   "source": [
    "groups['biz_dt'].apply(day_diff)"
   ]
  },
  {
   "cell_type": "code",
   "execution_count": 26,
   "metadata": {},
   "outputs": [],
   "source": [
    "playstation_diff = groups['biz_dt'].apply(day_diff)  # 저장"
   ]
  },
  {
   "cell_type": "code",
   "execution_count": 27,
   "metadata": {},
   "outputs": [],
   "source": [
    "playstation_diff = pd.DataFrame(playstation_diff)"
   ]
  },
  {
   "cell_type": "code",
   "execution_count": 28,
   "metadata": {},
   "outputs": [],
   "source": [
    "playstation_diff.biz_dt = pd.to_timedelta(playstation_diff.biz_dt)  # timedelta 로 저장"
   ]
  },
  {
   "cell_type": "code",
   "execution_count": 29,
   "metadata": {
    "scrolled": true
   },
   "outputs": [
    {
     "data": {
      "text/html": [
       "<div>\n",
       "<style scoped>\n",
       "    .dataframe tbody tr th:only-of-type {\n",
       "        vertical-align: middle;\n",
       "    }\n",
       "\n",
       "    .dataframe tbody tr th {\n",
       "        vertical-align: top;\n",
       "    }\n",
       "\n",
       "    .dataframe thead th {\n",
       "        text-align: right;\n",
       "    }\n",
       "</style>\n",
       "<table border=\"1\" class=\"dataframe\">\n",
       "  <thead>\n",
       "    <tr style=\"text-align: right;\">\n",
       "      <th></th>\n",
       "      <th></th>\n",
       "      <th>biz_dt</th>\n",
       "    </tr>\n",
       "    <tr>\n",
       "      <th>mid</th>\n",
       "      <th></th>\n",
       "      <th></th>\n",
       "    </tr>\n",
       "  </thead>\n",
       "  <tbody>\n",
       "    <tr>\n",
       "      <th>1000319</th>\n",
       "      <th>0</th>\n",
       "      <td>NaT</td>\n",
       "    </tr>\n",
       "    <tr>\n",
       "      <th>1009758</th>\n",
       "      <th>0</th>\n",
       "      <td>NaT</td>\n",
       "    </tr>\n",
       "    <tr>\n",
       "      <th>1015504</th>\n",
       "      <th>0</th>\n",
       "      <td>NaT</td>\n",
       "    </tr>\n",
       "    <tr>\n",
       "      <th>1022764</th>\n",
       "      <th>0</th>\n",
       "      <td>NaT</td>\n",
       "    </tr>\n",
       "    <tr>\n",
       "      <th>1032048</th>\n",
       "      <th>0</th>\n",
       "      <td>NaT</td>\n",
       "    </tr>\n",
       "  </tbody>\n",
       "</table>\n",
       "</div>"
      ],
      "text/plain": [
       "          biz_dt\n",
       "mid             \n",
       "1000319 0    NaT\n",
       "1009758 0    NaT\n",
       "1015504 0    NaT\n",
       "1022764 0    NaT\n",
       "1032048 0    NaT"
      ]
     },
     "execution_count": 29,
     "metadata": {},
     "output_type": "execute_result"
    }
   ],
   "source": [
    "playstation_diff.head()"
   ]
  },
  {
   "cell_type": "code",
   "execution_count": 30,
   "metadata": {},
   "outputs": [],
   "source": [
    "#dropna\n",
    "playstation_diff = playstation_diff.dropna()"
   ]
  },
  {
   "cell_type": "code",
   "execution_count": 38,
   "metadata": {},
   "outputs": [],
   "source": [
    "# 동일일자 구매는 제거하고, 평균 구하기\n",
    "\n",
    "filter = pd.Timedelta('0')"
   ]
  },
  {
   "cell_type": "code",
   "execution_count": 40,
   "metadata": {},
   "outputs": [
    {
     "data": {
      "text/plain": [
       "biz_dt   8 days 22:15:16.363636\n",
       "dtype: timedelta64[ns]"
      ]
     },
     "execution_count": 40,
     "metadata": {},
     "output_type": "execute_result"
    }
   ],
   "source": [
    "playstation_diff[playstation_diff.biz_dt > filter].mean()  # 8일 정도네!"
   ]
  },
  {
   "cell_type": "code",
   "execution_count": 41,
   "metadata": {},
   "outputs": [
    {
     "data": {
      "text/plain": [
       "(286, 1)"
      ]
     },
     "execution_count": 41,
     "metadata": {},
     "output_type": "execute_result"
    }
   ],
   "source": [
    "playstation_diff.shape"
   ]
  },
  {
   "cell_type": "code",
   "execution_count": 1,
   "metadata": {},
   "outputs": [
    {
     "data": {
      "text/plain": [
       "1.2571428571428573"
      ]
     },
     "execution_count": 1,
     "metadata": {},
     "output_type": "execute_result"
    }
   ],
   "source": [
    "8.8/7"
   ]
  },
  {
   "cell_type": "markdown",
   "metadata": {},
   "source": [
    "### # groupby된, series데이터를 어떻게 하나의 열을 갖는 dataframe으로 관리할 수 있을까?"
   ]
  },
  {
   "cell_type": "code",
   "execution_count": 42,
   "metadata": {},
   "outputs": [
    {
     "data": {
      "text/plain": [
       "pandas.core.series.Series"
      ]
     },
     "execution_count": 42,
     "metadata": {},
     "output_type": "execute_result"
    }
   ],
   "source": [
    "type(playstation_diff.biz_dt)  # series 데이터야"
   ]
  },
  {
   "cell_type": "markdown",
   "metadata": {},
   "source": [
    "---"
   ]
  },
  {
   "cell_type": "code",
   "execution_count": 31,
   "metadata": {},
   "outputs": [
    {
     "data": {
      "text/html": [
       "<div>\n",
       "<style scoped>\n",
       "    .dataframe tbody tr th:only-of-type {\n",
       "        vertical-align: middle;\n",
       "    }\n",
       "\n",
       "    .dataframe tbody tr th {\n",
       "        vertical-align: top;\n",
       "    }\n",
       "\n",
       "    .dataframe thead th {\n",
       "        text-align: right;\n",
       "    }\n",
       "</style>\n",
       "<table border=\"1\" class=\"dataframe\">\n",
       "  <thead>\n",
       "    <tr style=\"text-align: right;\">\n",
       "      <th></th>\n",
       "      <th></th>\n",
       "      <th>biz_dt</th>\n",
       "    </tr>\n",
       "    <tr>\n",
       "      <th>mid</th>\n",
       "      <th></th>\n",
       "      <th></th>\n",
       "    </tr>\n",
       "  </thead>\n",
       "  <tbody>\n",
       "    <tr>\n",
       "      <th>1032048</th>\n",
       "      <th>1</th>\n",
       "      <td>2 days</td>\n",
       "    </tr>\n",
       "    <tr>\n",
       "      <th>1373629</th>\n",
       "      <th>1</th>\n",
       "      <td>6 days</td>\n",
       "    </tr>\n",
       "    <tr>\n",
       "      <th>1379714</th>\n",
       "      <th>1</th>\n",
       "      <td>0 days</td>\n",
       "    </tr>\n",
       "    <tr>\n",
       "      <th rowspan=\"2\" valign=\"top\">1423220</th>\n",
       "      <th>1</th>\n",
       "      <td>1 days</td>\n",
       "    </tr>\n",
       "    <tr>\n",
       "      <th>2</th>\n",
       "      <td>0 days</td>\n",
       "    </tr>\n",
       "    <tr>\n",
       "      <th>1447835</th>\n",
       "      <th>1</th>\n",
       "      <td>0 days</td>\n",
       "    </tr>\n",
       "    <tr>\n",
       "      <th>1499901</th>\n",
       "      <th>1</th>\n",
       "      <td>21 days</td>\n",
       "    </tr>\n",
       "    <tr>\n",
       "      <th rowspan=\"2\" valign=\"top\">1502656</th>\n",
       "      <th>1</th>\n",
       "      <td>20 days</td>\n",
       "    </tr>\n",
       "    <tr>\n",
       "      <th>2</th>\n",
       "      <td>1 days</td>\n",
       "    </tr>\n",
       "    <tr>\n",
       "      <th rowspan=\"2\" valign=\"top\">1514206</th>\n",
       "      <th>1</th>\n",
       "      <td>20 days</td>\n",
       "    </tr>\n",
       "    <tr>\n",
       "      <th>2</th>\n",
       "      <td>1 days</td>\n",
       "    </tr>\n",
       "    <tr>\n",
       "      <th rowspan=\"2\" valign=\"top\">1521668</th>\n",
       "      <th>1</th>\n",
       "      <td>0 days</td>\n",
       "    </tr>\n",
       "    <tr>\n",
       "      <th>2</th>\n",
       "      <td>0 days</td>\n",
       "    </tr>\n",
       "    <tr>\n",
       "      <th rowspan=\"11\" valign=\"top\">1550240</th>\n",
       "      <th>1</th>\n",
       "      <td>0 days</td>\n",
       "    </tr>\n",
       "    <tr>\n",
       "      <th>2</th>\n",
       "      <td>6 days</td>\n",
       "    </tr>\n",
       "    <tr>\n",
       "      <th>3</th>\n",
       "      <td>10 days</td>\n",
       "    </tr>\n",
       "    <tr>\n",
       "      <th>4</th>\n",
       "      <td>0 days</td>\n",
       "    </tr>\n",
       "    <tr>\n",
       "      <th>5</th>\n",
       "      <td>5 days</td>\n",
       "    </tr>\n",
       "    <tr>\n",
       "      <th>6</th>\n",
       "      <td>11 days</td>\n",
       "    </tr>\n",
       "    <tr>\n",
       "      <th>7</th>\n",
       "      <td>0 days</td>\n",
       "    </tr>\n",
       "    <tr>\n",
       "      <th>8</th>\n",
       "      <td>12 days</td>\n",
       "    </tr>\n",
       "    <tr>\n",
       "      <th>9</th>\n",
       "      <td>17 days</td>\n",
       "    </tr>\n",
       "    <tr>\n",
       "      <th>10</th>\n",
       "      <td>25 days</td>\n",
       "    </tr>\n",
       "    <tr>\n",
       "      <th>11</th>\n",
       "      <td>0 days</td>\n",
       "    </tr>\n",
       "    <tr>\n",
       "      <th>1568639</th>\n",
       "      <th>1</th>\n",
       "      <td>2 days</td>\n",
       "    </tr>\n",
       "    <tr>\n",
       "      <th>1590740</th>\n",
       "      <th>1</th>\n",
       "      <td>0 days</td>\n",
       "    </tr>\n",
       "    <tr>\n",
       "      <th>1607507</th>\n",
       "      <th>1</th>\n",
       "      <td>0 days</td>\n",
       "    </tr>\n",
       "    <tr>\n",
       "      <th rowspan=\"3\" valign=\"top\">1624537</th>\n",
       "      <th>1</th>\n",
       "      <td>27 days</td>\n",
       "    </tr>\n",
       "    <tr>\n",
       "      <th>2</th>\n",
       "      <td>30 days</td>\n",
       "    </tr>\n",
       "    <tr>\n",
       "      <th>3</th>\n",
       "      <td>2 days</td>\n",
       "    </tr>\n",
       "    <tr>\n",
       "      <th>...</th>\n",
       "      <th>...</th>\n",
       "      <td>...</td>\n",
       "    </tr>\n",
       "    <tr>\n",
       "      <th>25413575</th>\n",
       "      <th>3</th>\n",
       "      <td>0 days</td>\n",
       "    </tr>\n",
       "    <tr>\n",
       "      <th>25437672</th>\n",
       "      <th>1</th>\n",
       "      <td>0 days</td>\n",
       "    </tr>\n",
       "    <tr>\n",
       "      <th>25484646</th>\n",
       "      <th>1</th>\n",
       "      <td>1 days</td>\n",
       "    </tr>\n",
       "    <tr>\n",
       "      <th>25617374</th>\n",
       "      <th>1</th>\n",
       "      <td>1 days</td>\n",
       "    </tr>\n",
       "    <tr>\n",
       "      <th>25623531</th>\n",
       "      <th>1</th>\n",
       "      <td>1 days</td>\n",
       "    </tr>\n",
       "    <tr>\n",
       "      <th>25630819</th>\n",
       "      <th>1</th>\n",
       "      <td>1 days</td>\n",
       "    </tr>\n",
       "    <tr>\n",
       "      <th>25631901</th>\n",
       "      <th>1</th>\n",
       "      <td>1 days</td>\n",
       "    </tr>\n",
       "    <tr>\n",
       "      <th>25631923</th>\n",
       "      <th>1</th>\n",
       "      <td>1 days</td>\n",
       "    </tr>\n",
       "    <tr>\n",
       "      <th>25631933</th>\n",
       "      <th>1</th>\n",
       "      <td>1 days</td>\n",
       "    </tr>\n",
       "    <tr>\n",
       "      <th>25631945</th>\n",
       "      <th>1</th>\n",
       "      <td>1 days</td>\n",
       "    </tr>\n",
       "    <tr>\n",
       "      <th>25631955</th>\n",
       "      <th>1</th>\n",
       "      <td>1 days</td>\n",
       "    </tr>\n",
       "    <tr>\n",
       "      <th>25631967</th>\n",
       "      <th>1</th>\n",
       "      <td>1 days</td>\n",
       "    </tr>\n",
       "    <tr>\n",
       "      <th>25631975</th>\n",
       "      <th>1</th>\n",
       "      <td>1 days</td>\n",
       "    </tr>\n",
       "    <tr>\n",
       "      <th>25631981</th>\n",
       "      <th>1</th>\n",
       "      <td>1 days</td>\n",
       "    </tr>\n",
       "    <tr>\n",
       "      <th>25639271</th>\n",
       "      <th>1</th>\n",
       "      <td>0 days</td>\n",
       "    </tr>\n",
       "    <tr>\n",
       "      <th>25660980</th>\n",
       "      <th>1</th>\n",
       "      <td>0 days</td>\n",
       "    </tr>\n",
       "    <tr>\n",
       "      <th>25703323</th>\n",
       "      <th>1</th>\n",
       "      <td>0 days</td>\n",
       "    </tr>\n",
       "    <tr>\n",
       "      <th>25743466</th>\n",
       "      <th>1</th>\n",
       "      <td>5 days</td>\n",
       "    </tr>\n",
       "    <tr>\n",
       "      <th>25829980</th>\n",
       "      <th>1</th>\n",
       "      <td>2 days</td>\n",
       "    </tr>\n",
       "    <tr>\n",
       "      <th>25845230</th>\n",
       "      <th>1</th>\n",
       "      <td>0 days</td>\n",
       "    </tr>\n",
       "    <tr>\n",
       "      <th>25845424</th>\n",
       "      <th>1</th>\n",
       "      <td>0 days</td>\n",
       "    </tr>\n",
       "    <tr>\n",
       "      <th>25907340</th>\n",
       "      <th>1</th>\n",
       "      <td>13 days</td>\n",
       "    </tr>\n",
       "    <tr>\n",
       "      <th>25911028</th>\n",
       "      <th>1</th>\n",
       "      <td>1 days</td>\n",
       "    </tr>\n",
       "    <tr>\n",
       "      <th rowspan=\"2\" valign=\"top\">25927681</th>\n",
       "      <th>1</th>\n",
       "      <td>1 days</td>\n",
       "    </tr>\n",
       "    <tr>\n",
       "      <th>2</th>\n",
       "      <td>5 days</td>\n",
       "    </tr>\n",
       "    <tr>\n",
       "      <th rowspan=\"2\" valign=\"top\">25942151</th>\n",
       "      <th>1</th>\n",
       "      <td>0 days</td>\n",
       "    </tr>\n",
       "    <tr>\n",
       "      <th>2</th>\n",
       "      <td>1 days</td>\n",
       "    </tr>\n",
       "    <tr>\n",
       "      <th rowspan=\"3\" valign=\"top\">25951761</th>\n",
       "      <th>1</th>\n",
       "      <td>0 days</td>\n",
       "    </tr>\n",
       "    <tr>\n",
       "      <th>2</th>\n",
       "      <td>1 days</td>\n",
       "    </tr>\n",
       "    <tr>\n",
       "      <th>3</th>\n",
       "      <td>1 days</td>\n",
       "    </tr>\n",
       "  </tbody>\n",
       "</table>\n",
       "<p>286 rows × 1 columns</p>\n",
       "</div>"
      ],
      "text/plain": [
       "             biz_dt\n",
       "mid                \n",
       "1032048  1   2 days\n",
       "1373629  1   6 days\n",
       "1379714  1   0 days\n",
       "1423220  1   1 days\n",
       "         2   0 days\n",
       "1447835  1   0 days\n",
       "1499901  1  21 days\n",
       "1502656  1  20 days\n",
       "         2   1 days\n",
       "1514206  1  20 days\n",
       "         2   1 days\n",
       "1521668  1   0 days\n",
       "         2   0 days\n",
       "1550240  1   0 days\n",
       "         2   6 days\n",
       "         3  10 days\n",
       "         4   0 days\n",
       "         5   5 days\n",
       "         6  11 days\n",
       "         7   0 days\n",
       "         8  12 days\n",
       "         9  17 days\n",
       "         10 25 days\n",
       "         11  0 days\n",
       "1568639  1   2 days\n",
       "1590740  1   0 days\n",
       "1607507  1   0 days\n",
       "1624537  1  27 days\n",
       "         2  30 days\n",
       "         3   2 days\n",
       "...             ...\n",
       "25413575 3   0 days\n",
       "25437672 1   0 days\n",
       "25484646 1   1 days\n",
       "25617374 1   1 days\n",
       "25623531 1   1 days\n",
       "25630819 1   1 days\n",
       "25631901 1   1 days\n",
       "25631923 1   1 days\n",
       "25631933 1   1 days\n",
       "25631945 1   1 days\n",
       "25631955 1   1 days\n",
       "25631967 1   1 days\n",
       "25631975 1   1 days\n",
       "25631981 1   1 days\n",
       "25639271 1   0 days\n",
       "25660980 1   0 days\n",
       "25703323 1   0 days\n",
       "25743466 1   5 days\n",
       "25829980 1   2 days\n",
       "25845230 1   0 days\n",
       "25845424 1   0 days\n",
       "25907340 1  13 days\n",
       "25911028 1   1 days\n",
       "25927681 1   1 days\n",
       "         2   5 days\n",
       "25942151 1   0 days\n",
       "         2   1 days\n",
       "25951761 1   0 days\n",
       "         2   1 days\n",
       "         3   1 days\n",
       "\n",
       "[286 rows x 1 columns]"
      ]
     },
     "execution_count": 31,
     "metadata": {},
     "output_type": "execute_result"
    }
   ],
   "source": [
    "playstation_diff"
   ]
  },
  {
   "cell_type": "code",
   "execution_count": 33,
   "metadata": {},
   "outputs": [],
   "source": [
    "# 이게 해결책이 될 수 있다 : values를 빼왔는데, 이들의 type를 timedelta로 밝혀준거지! 그리고 저장하고!\n",
    "\n",
    "playstation_diff_days = playstation_diff.values.astype('timedelta64[D]')"
   ]
  },
  {
   "cell_type": "code",
   "execution_count": 34,
   "metadata": {},
   "outputs": [],
   "source": [
    "playstation_diff_days = playstation_diff_days/ np.timedelta64(1, 'D')"
   ]
  },
  {
   "cell_type": "code",
   "execution_count": 35,
   "metadata": {},
   "outputs": [
    {
     "data": {
      "text/html": [
       "<div>\n",
       "<style scoped>\n",
       "    .dataframe tbody tr th:only-of-type {\n",
       "        vertical-align: middle;\n",
       "    }\n",
       "\n",
       "    .dataframe tbody tr th {\n",
       "        vertical-align: top;\n",
       "    }\n",
       "\n",
       "    .dataframe thead th {\n",
       "        text-align: right;\n",
       "    }\n",
       "</style>\n",
       "<table border=\"1\" class=\"dataframe\">\n",
       "  <thead>\n",
       "    <tr style=\"text-align: right;\">\n",
       "      <th></th>\n",
       "      <th>time</th>\n",
       "    </tr>\n",
       "  </thead>\n",
       "  <tbody>\n",
       "    <tr>\n",
       "      <th>0</th>\n",
       "      <td>2.0</td>\n",
       "    </tr>\n",
       "    <tr>\n",
       "      <th>1</th>\n",
       "      <td>6.0</td>\n",
       "    </tr>\n",
       "    <tr>\n",
       "      <th>2</th>\n",
       "      <td>0.0</td>\n",
       "    </tr>\n",
       "    <tr>\n",
       "      <th>3</th>\n",
       "      <td>1.0</td>\n",
       "    </tr>\n",
       "    <tr>\n",
       "      <th>4</th>\n",
       "      <td>0.0</td>\n",
       "    </tr>\n",
       "  </tbody>\n",
       "</table>\n",
       "</div>"
      ],
      "text/plain": [
       "   time\n",
       "0   2.0\n",
       "1   6.0\n",
       "2   0.0\n",
       "3   1.0\n",
       "4   0.0"
      ]
     },
     "execution_count": 35,
     "metadata": {},
     "output_type": "execute_result"
    }
   ],
   "source": [
    "playstation_diff_days_ = pd.DataFrame(playstation_diff_days, columns = ['time']);playstation_diff_days_.head()"
   ]
  },
  {
   "cell_type": "code",
   "execution_count": 29,
   "metadata": {},
   "outputs": [],
   "source": [
    "playstation_diff_days_.to_csv('playstation_diff_days.csv')"
   ]
  },
  {
   "cell_type": "markdown",
   "metadata": {},
   "source": [
    "---"
   ]
  },
  {
   "cell_type": "code",
   "execution_count": 38,
   "metadata": {},
   "outputs": [
    {
     "data": {
      "text/plain": [
       "array([[<matplotlib.axes._subplots.AxesSubplot object at 0x115b8eba8>]],\n",
       "      dtype=object)"
      ]
     },
     "execution_count": 38,
     "metadata": {},
     "output_type": "execute_result"
    },
    {
     "data": {
      "image/png": "[encoded data removed]",
      "text/plain": [
       "<Figure size 432x288 with 1 Axes>"
      ]
     },
     "metadata": {
      "needs_background": "light"
     },
     "output_type": "display_data"
    }
   ],
   "source": [
    "playstation_diff_days_.hist(bins=30)  "
   ]
  },
  {
   "cell_type": "code",
   "execution_count": 48,
   "metadata": {},
   "outputs": [],
   "source": [
    "playstation_diff_days_inver = 1/playstation_diff_days_[playstation_diff_days_!=0]  # 이렇게하면, playstation_diff_days_!=0 가 dataframe으로 나와\n",
    "                                                # 이유는, playstation_diff_days.time != 0 이런식으로 안해서.(series vs dataframe)\n",
    "\n",
    "    playstation_diff_days_iver = playstation_diff_days_inver.dropna()    "
   ]
  },
  {
   "cell_type": "code",
   "execution_count": 50,
   "metadata": {},
   "outputs": [],
   "source": [
    "playstation_diff_days_inver7 = playstation_diff_days_iver*7"
   ]
  },
  {
   "cell_type": "code",
   "execution_count": 53,
   "metadata": {
    "scrolled": true
   },
   "outputs": [
    {
     "data": {
      "text/plain": [
       "array([[<matplotlib.axes._subplots.AxesSubplot object at 0x116105240>]],\n",
       "      dtype=object)"
      ]
     },
     "execution_count": 53,
     "metadata": {},
     "output_type": "execute_result"
    },
    {
     "data": {
      "image/png": "[encoded data removed]",
      "text/plain": [
       "<Figure size 432x288 with 1 Axes>"
      ]
     },
     "metadata": {
      "needs_background": "light"
     },
     "output_type": "display_data"
    }
   ],
   "source": [
    "playstation_diff_days_inver7.hist(bins=70)  # 구매주기가 짧으니깐 이렇게 나온다..."
   ]
  },
  {
   "cell_type": "code",
   "execution_count": 56,
   "metadata": {},
   "outputs": [
    {
     "data": {
      "text/plain": [
       "(0.9453224943509928, 0.24578493124550185)"
      ]
     },
     "execution_count": 56,
     "metadata": {},
     "output_type": "execute_result"
    }
   ],
   "source": [
    "#차장님이 주신 3개월치의 데이터에서는 alpha : 0.991580757, beta : 1.804783562\n",
    "\n",
    "alpha_, _,scale_ = stats.gamma.fit(playstation_diff_days_inver7, floc=0);alpha_, 1/scale_ "
   ]
  },
  {
   "cell_type": "markdown",
   "metadata": {},
   "source": [
    "---"
   ]
  },
  {
   "cell_type": "markdown",
   "metadata": {},
   "source": [
    "---"
   ]
  },
  {
   "cell_type": "markdown",
   "metadata": {},
   "source": [
    "- (번외): 어느정도 기간의 거래데이터인가?"
   ]
  },
  {
   "cell_type": "code",
   "execution_count": 57,
   "metadata": {
    "scrolled": true
   },
   "outputs": [
    {
     "data": {
      "text/plain": [
       "1559   2018-10-31 23:47:51\n",
       "Name: biz_dt, dtype: datetime64[ns]"
      ]
     },
     "execution_count": 57,
     "metadata": {},
     "output_type": "execute_result"
    }
   ],
   "source": [
    "playstation[-1:].biz_dt"
   ]
  },
  {
   "cell_type": "markdown",
   "metadata": {},
   "source": [
    "----"
   ]
  },
  {
   "cell_type": "markdown",
   "metadata": {},
   "source": [
    "---"
   ]
  },
  {
   "cell_type": "markdown",
   "metadata": {},
   "source": [
    "- #### (2) ver2의 '구매횟수' 관점"
   ]
  },
  {
   "cell_type": "code",
   "execution_count": null,
   "metadata": {},
   "outputs": [],
   "source": [
    "# 같은 일자는 '거래일=1'로 본다.\n",
    "'''\n",
    "def day(data):\n",
    "    c = data.dt.date.nunique()\n",
    "    return c\n",
    "'''"
   ]
  },
  {
   "cell_type": "code",
   "execution_count": 66,
   "metadata": {},
   "outputs": [],
   "source": [
    "# 같은 일자의 거래도, '모든' 거래로 본다.\n",
    "def day(data):\n",
    "    c = data.nunique()\n",
    "    return c\n"
   ]
  },
  {
   "cell_type": "code",
   "execution_count": 67,
   "metadata": {},
   "outputs": [],
   "source": [
    "playstation_buy = groups['biz_dt'].apply(day)"
   ]
  },
  {
   "cell_type": "code",
   "execution_count": 68,
   "metadata": {
    "scrolled": true
   },
   "outputs": [
    {
     "data": {
      "text/plain": [
       "mid\n",
       "1000319    1\n",
       "1009758    1\n",
       "1015504    1\n",
       "1022764    1\n",
       "1032048    2\n",
       "1043076    1\n",
       "1048764    1\n",
       "1054000    1\n",
       "1054119    1\n",
       "1054955    1\n",
       "Name: biz_dt, dtype: int64"
      ]
     },
     "execution_count": 68,
     "metadata": {},
     "output_type": "execute_result"
    }
   ],
   "source": [
    "playstation_buy[:10]"
   ]
  },
  {
   "cell_type": "markdown",
   "metadata": {},
   "source": [
    "---"
   ]
  },
  {
   "cell_type": "code",
   "execution_count": 69,
   "metadata": {},
   "outputs": [],
   "source": [
    "playstation_buy = pd.DataFrame(playstation_buy)"
   ]
  },
  {
   "cell_type": "code",
   "execution_count": 70,
   "metadata": {},
   "outputs": [
    {
     "data": {
      "text/plain": [
       "pandas.core.frame.DataFrame"
      ]
     },
     "execution_count": 70,
     "metadata": {},
     "output_type": "execute_result"
    }
   ],
   "source": [
    "type(playstation_buy)"
   ]
  },
  {
   "cell_type": "code",
   "execution_count": 72,
   "metadata": {},
   "outputs": [
    {
     "data": {
      "text/plain": [
       "array([[<matplotlib.axes._subplots.AxesSubplot object at 0x1a1ab80198>]],\n",
       "      dtype=object)"
      ]
     },
     "execution_count": 72,
     "metadata": {},
     "output_type": "execute_result"
    },
    {
     "data": {
      "image/png": "[encoded data removed]",
      "text/plain": [
       "<Figure size 432x288 with 1 Axes>"
      ]
     },
     "metadata": {
      "needs_background": "light"
     },
     "output_type": "display_data"
    }
   ],
   "source": [
    "playstation_buy.hist(bins=20)"
   ]
  },
  {
   "cell_type": "code",
   "execution_count": 82,
   "metadata": {},
   "outputs": [
    {
     "data": {
      "text/html": [
       "<div>\n",
       "<style scoped>\n",
       "    .dataframe tbody tr th:only-of-type {\n",
       "        vertical-align: middle;\n",
       "    }\n",
       "\n",
       "    .dataframe tbody tr th {\n",
       "        vertical-align: top;\n",
       "    }\n",
       "\n",
       "    .dataframe thead th {\n",
       "        text-align: right;\n",
       "    }\n",
       "</style>\n",
       "<table border=\"1\" class=\"dataframe\">\n",
       "  <thead>\n",
       "    <tr style=\"text-align: right;\">\n",
       "      <th></th>\n",
       "      <th>biz_dt</th>\n",
       "    </tr>\n",
       "    <tr>\n",
       "      <th>mid</th>\n",
       "      <th></th>\n",
       "    </tr>\n",
       "  </thead>\n",
       "  <tbody>\n",
       "    <tr>\n",
       "      <th>1550240</th>\n",
       "      <td>12</td>\n",
       "    </tr>\n",
       "    <tr>\n",
       "      <th>7067567</th>\n",
       "      <td>9</td>\n",
       "    </tr>\n",
       "    <tr>\n",
       "      <th>25327711</th>\n",
       "      <td>7</td>\n",
       "    </tr>\n",
       "    <tr>\n",
       "      <th>23157736</th>\n",
       "      <td>7</td>\n",
       "    </tr>\n",
       "    <tr>\n",
       "      <th>2056555</th>\n",
       "      <td>7</td>\n",
       "    </tr>\n",
       "  </tbody>\n",
       "</table>\n",
       "</div>"
      ],
      "text/plain": [
       "          biz_dt\n",
       "mid             \n",
       "1550240       12\n",
       "7067567        9\n",
       "25327711       7\n",
       "23157736       7\n",
       "2056555        7"
      ]
     },
     "execution_count": 82,
     "metadata": {},
     "output_type": "execute_result"
    }
   ],
   "source": [
    "playstation_buy.sort_values(by=['biz_dt'],ascending=False).head()  # 최다 구매자가 12주에 12번 구매한사람이네"
   ]
  },
  {
   "cell_type": "code",
   "execution_count": 83,
   "metadata": {},
   "outputs": [
    {
     "data": {
      "text/html": [
       "<div>\n",
       "<style scoped>\n",
       "    .dataframe tbody tr th:only-of-type {\n",
       "        vertical-align: middle;\n",
       "    }\n",
       "\n",
       "    .dataframe tbody tr th {\n",
       "        vertical-align: top;\n",
       "    }\n",
       "\n",
       "    .dataframe thead th {\n",
       "        text-align: right;\n",
       "    }\n",
       "</style>\n",
       "<table border=\"1\" class=\"dataframe\">\n",
       "  <thead>\n",
       "    <tr style=\"text-align: right;\">\n",
       "      <th></th>\n",
       "      <th>Unnamed: 0</th>\n",
       "      <th>biz_dt</th>\n",
       "      <th>mid</th>\n",
       "      <th>price</th>\n",
       "      <th>prodNo</th>\n",
       "      <th>dcateCd</th>\n",
       "      <th>dcateNm</th>\n",
       "    </tr>\n",
       "  </thead>\n",
       "  <tbody>\n",
       "    <tr>\n",
       "      <th>27</th>\n",
       "      <td>449</td>\n",
       "      <td>2018-08-01 10:28:24</td>\n",
       "      <td>1550240</td>\n",
       "      <td>402000</td>\n",
       "      <td>102038755</td>\n",
       "      <td>4101182</td>\n",
       "      <td>Playstation</td>\n",
       "    </tr>\n",
       "    <tr>\n",
       "      <th>30</th>\n",
       "      <td>274</td>\n",
       "      <td>2018-08-01 10:30:29</td>\n",
       "      <td>1550240</td>\n",
       "      <td>515000</td>\n",
       "      <td>102042687</td>\n",
       "      <td>4101182</td>\n",
       "      <td>Playstation</td>\n",
       "    </tr>\n",
       "    <tr>\n",
       "      <th>124</th>\n",
       "      <td>830</td>\n",
       "      <td>2018-08-07 10:10:12</td>\n",
       "      <td>1550240</td>\n",
       "      <td>404000</td>\n",
       "      <td>102590529</td>\n",
       "      <td>4101182</td>\n",
       "      <td>Playstation</td>\n",
       "    </tr>\n",
       "    <tr>\n",
       "      <th>269</th>\n",
       "      <td>907</td>\n",
       "      <td>2018-08-17 13:59:07</td>\n",
       "      <td>1550240</td>\n",
       "      <td>404000</td>\n",
       "      <td>106329551</td>\n",
       "      <td>4101182</td>\n",
       "      <td>Playstation</td>\n",
       "    </tr>\n",
       "    <tr>\n",
       "      <th>271</th>\n",
       "      <td>887</td>\n",
       "      <td>2018-08-17 14:02:11</td>\n",
       "      <td>1550240</td>\n",
       "      <td>404000</td>\n",
       "      <td>106329551</td>\n",
       "      <td>4101182</td>\n",
       "      <td>Playstation</td>\n",
       "    </tr>\n",
       "    <tr>\n",
       "      <th>342</th>\n",
       "      <td>912</td>\n",
       "      <td>2018-08-22 16:11:59</td>\n",
       "      <td>1550240</td>\n",
       "      <td>404000</td>\n",
       "      <td>106329551</td>\n",
       "      <td>4101182</td>\n",
       "      <td>Playstation</td>\n",
       "    </tr>\n",
       "    <tr>\n",
       "      <th>451</th>\n",
       "      <td>510</td>\n",
       "      <td>2018-09-02 21:39:46</td>\n",
       "      <td>1550240</td>\n",
       "      <td>404000</td>\n",
       "      <td>109012990</td>\n",
       "      <td>4101182</td>\n",
       "      <td>Playstation</td>\n",
       "    </tr>\n",
       "    <tr>\n",
       "      <th>452</th>\n",
       "      <td>527</td>\n",
       "      <td>2018-09-02 21:47:12</td>\n",
       "      <td>1550240</td>\n",
       "      <td>404000</td>\n",
       "      <td>109012990</td>\n",
       "      <td>4101182</td>\n",
       "      <td>Playstation</td>\n",
       "    </tr>\n",
       "    <tr>\n",
       "      <th>676</th>\n",
       "      <td>529</td>\n",
       "      <td>2018-09-14 23:25:24</td>\n",
       "      <td>1550240</td>\n",
       "      <td>404000</td>\n",
       "      <td>109012990</td>\n",
       "      <td>4101182</td>\n",
       "      <td>Playstation</td>\n",
       "    </tr>\n",
       "    <tr>\n",
       "      <th>847</th>\n",
       "      <td>1033</td>\n",
       "      <td>2018-10-01 12:48:39</td>\n",
       "      <td>1550240</td>\n",
       "      <td>404000</td>\n",
       "      <td>109012990</td>\n",
       "      <td>4101182</td>\n",
       "      <td>Playstation</td>\n",
       "    </tr>\n",
       "    <tr>\n",
       "      <th>1457</th>\n",
       "      <td>980</td>\n",
       "      <td>2018-10-26 12:44:32</td>\n",
       "      <td>1550240</td>\n",
       "      <td>404000</td>\n",
       "      <td>109012990</td>\n",
       "      <td>4101182</td>\n",
       "      <td>Playstation</td>\n",
       "    </tr>\n",
       "    <tr>\n",
       "      <th>1461</th>\n",
       "      <td>1020</td>\n",
       "      <td>2018-10-26 12:51:41</td>\n",
       "      <td>1550240</td>\n",
       "      <td>404000</td>\n",
       "      <td>109012990</td>\n",
       "      <td>4101182</td>\n",
       "      <td>Playstation</td>\n",
       "    </tr>\n",
       "  </tbody>\n",
       "</table>\n",
       "</div>"
      ],
      "text/plain": [
       "      Unnamed: 0              biz_dt      mid   price     prodNo  dcateCd  \\\n",
       "27           449 2018-08-01 10:28:24  1550240  402000  102038755  4101182   \n",
       "30           274 2018-08-01 10:30:29  1550240  515000  102042687  4101182   \n",
       "124          830 2018-08-07 10:10:12  1550240  404000  102590529  4101182   \n",
       "269          907 2018-08-17 13:59:07  1550240  404000  106329551  4101182   \n",
       "271          887 2018-08-17 14:02:11  1550240  404000  106329551  4101182   \n",
       "342          912 2018-08-22 16:11:59  1550240  404000  106329551  4101182   \n",
       "451          510 2018-09-02 21:39:46  1550240  404000  109012990  4101182   \n",
       "452          527 2018-09-02 21:47:12  1550240  404000  109012990  4101182   \n",
       "676          529 2018-09-14 23:25:24  1550240  404000  109012990  4101182   \n",
       "847         1033 2018-10-01 12:48:39  1550240  404000  109012990  4101182   \n",
       "1457         980 2018-10-26 12:44:32  1550240  404000  109012990  4101182   \n",
       "1461        1020 2018-10-26 12:51:41  1550240  404000  109012990  4101182   \n",
       "\n",
       "          dcateNm  \n",
       "27    Playstation  \n",
       "30    Playstation  \n",
       "124   Playstation  \n",
       "269   Playstation  \n",
       "271   Playstation  \n",
       "342   Playstation  \n",
       "451   Playstation  \n",
       "452   Playstation  \n",
       "676   Playstation  \n",
       "847   Playstation  \n",
       "1457  Playstation  \n",
       "1461  Playstation  "
      ]
     },
     "execution_count": 83,
     "metadata": {},
     "output_type": "execute_result"
    }
   ],
   "source": [
    "#최다 구매자의 구매정보\n",
    "\n",
    "playstation[playstation.mid==1550240]"
   ]
  },
  {
   "cell_type": "code",
   "execution_count": 73,
   "metadata": {},
   "outputs": [],
   "source": [
    "playstation_buy_ = playstation_buy/12.0  # 12주의 데이터(3달)"
   ]
  },
  {
   "cell_type": "code",
   "execution_count": 75,
   "metadata": {},
   "outputs": [
    {
     "data": {
      "text/plain": [
       "array([[<matplotlib.axes._subplots.AxesSubplot object at 0x1a1ae7b198>]],\n",
       "      dtype=object)"
      ]
     },
     "execution_count": 75,
     "metadata": {},
     "output_type": "execute_result"
    },
    {
     "data": {
      "image/png": "[encoded data removed]",
      "text/plain": [
       "<Figure size 432x288 with 1 Axes>"
      ]
     },
     "metadata": {
      "needs_background": "light"
     },
     "output_type": "display_data"
    }
   ],
   "source": [
    "playstation_buy_.hist(bins=20)"
   ]
  },
  {
   "cell_type": "code",
   "execution_count": 76,
   "metadata": {},
   "outputs": [],
   "source": [
    "import scipy.stats as stats"
   ]
  },
  {
   "cell_type": "code",
   "execution_count": 84,
   "metadata": {},
   "outputs": [
    {
     "data": {
      "text/plain": [
       "(6.149540825318489, 60.49818541664676)"
      ]
     },
     "execution_count": 84,
     "metadata": {},
     "output_type": "execute_result"
    }
   ],
   "source": [
    "alpha, _,scale = stats.gamma.fit(playstation_buy_, floc=0);alpha,1/scale "
   ]
  },
  {
   "cell_type": "code",
   "execution_count": 85,
   "metadata": {},
   "outputs": [
    {
     "data": {
      "text/plain": [
       "0.10164835164835165"
      ]
     },
     "execution_count": 85,
     "metadata": {},
     "output_type": "execute_result"
    }
   ],
   "source": [
    "alpha*scale"
   ]
  },
  {
   "cell_type": "markdown",
   "metadata": {},
   "source": [
    "---"
   ]
  },
  {
   "cell_type": "markdown",
   "metadata": {},
   "source": [
    "## # Step2. Fittng"
   ]
  },
  {
   "cell_type": "markdown",
   "metadata": {},
   "source": [
    "실장님 '생수/탄산수' 주기 사용"
   ]
  },
  {
   "cell_type": "markdown",
   "metadata": {},
   "source": [
    "### # ver(2) 로 먼저"
   ]
  },
  {
   "cell_type": "code",
   "execution_count": 178,
   "metadata": {},
   "outputs": [
    {
     "data": {
      "text/plain": [
       "array([ 0,  5, 10])"
      ]
     },
     "execution_count": 178,
     "metadata": {},
     "output_type": "execute_result"
    }
   ],
   "source": [
    "time = np.arange(0,11,5);time"
   ]
  },
  {
   "cell_type": "markdown",
   "metadata": {},
   "source": [
    "* ####  (1)실장님 원래 주기 : 주기가 넘어갔을때"
   ]
  },
  {
   "cell_type": "code",
   "execution_count": 106,
   "metadata": {},
   "outputs": [],
   "source": [
    "# 실장님 원래 주기 : 주기가 넘어갔을때\n",
    "\n",
    "k, t_purch, tmean_u, t_ ,alpha, beta = 1, 0, 1.65667903525046 , 2.6 , 6.149540825318489, 60.4981854166467"
   ]
  },
  {
   "cell_type": "code",
   "execution_count": 107,
   "metadata": {},
   "outputs": [],
   "source": [
    "# 함수로 출력되는게 많게했어! & unit time을 1주일로 변경.\n",
    "\n",
    "def func_lamb(t_purch, tmean_u, t_ , alpha, beta, k):\n",
    "\n",
    "    if t_purch == 0:  # t_purch가 0이라는 소리는, k=1이라는 소리겠지! 그러니깐 앞의 값이 0이 되게끔 한거야.\n",
    "        lamb = (alpha/(2*abs(tmean_u-t_)+beta))\n",
    "        lamb_0 = (alpha/(2*abs(tmean_u)+beta))   # 최저값 : t=0\n",
    "        lamb_1 = (alpha/+beta)     # 최고값 : |tmean-t|=0\n",
    "    else:\n",
    "        lamb = (k/t_purch+(alpha/(2*abs(tmean_u-t_)+beta)))\n",
    "        lamb_0 = (k/t_purch+(alpha/(2*abs(tmean_u)+beta)))   # 최저값 : t=0  \n",
    "        lamb_1 = (k/t_purch+(alpha/+beta))     #최고값 : |tmean-t|=0\n",
    "    return lamb,lamb_0, lamb_1, t_, t_purch, tmean_u, k"
   ]
  },
  {
   "cell_type": "code",
   "execution_count": 108,
   "metadata": {},
   "outputs": [
    {
     "name": "stdout",
     "output_type": "stream",
     "text": [
      "0.09857430222892836 0.09637035071181248 0.10164835164835175\n"
     ]
    }
   ],
   "source": [
    "lamb, lamb_0, lamb_1, t_, t_purch, tmean_u, k = func_lamb(t_purch, tmean_u, t_ , alpha, beta, k)\n",
    "\n",
    "print(lamb, lamb_0, lamb_1)"
   ]
  },
  {
   "cell_type": "code",
   "execution_count": 109,
   "metadata": {
    "scrolled": false
   },
   "outputs": [
    {
     "name": "stdout",
     "output_type": "stream",
     "text": [
      "pred : 0.0938716372441255 , max : 0.0966528436384787 , min : 0.09187237193168829\n",
      "scaling : 0.4182150706168519\n"
     ]
    }
   ],
   "source": [
    "       \n",
    "if lamb < lamb_0: # 일자별, 이런 경우가 있을수도 있어 - 마지막 구매부터 너무 너무 멀어지면!\n",
    "    lamb_0 = lamb\n",
    "pred = (1-stats.poisson.pmf(mu = lamb, k=0))\n",
    "max =  (1-stats.poisson.pmf(mu = lamb_1, k=0))  # max\n",
    "min =  (1-stats.poisson.pmf(mu = lamb_0, k=0))  # min\n",
    "scal = (pred - min)/(max - min)\n",
    "\n",
    "print('pred : {}'.format(pred), ', max : {}'.format(max), ', min : {}'.format(min))\n",
    "print('scaling : {}'.format(scal))"
   ]
  },
  {
   "cell_type": "markdown",
   "metadata": {},
   "source": [
    ": 일단, lambda의 값이 작기때문에, lambda 범위가 너무 좁아!!"
   ]
  },
  {
   "cell_type": "markdown",
   "metadata": {},
   "source": [
    "---"
   ]
  },
  {
   "cell_type": "markdown",
   "metadata": {},
   "source": [
    "- #### (2)주기가 평균일때"
   ]
  },
  {
   "cell_type": "code",
   "execution_count": 110,
   "metadata": {},
   "outputs": [],
   "source": [
    "# 주기가 평균일때\n",
    "\n",
    "k, t_purch, tmean_u, t_ ,alpha, beta = 1, 0, 1.65667903525046 , 1.65667903525046 , 6.149540825318489, 60.4981854166467"
   ]
  },
  {
   "cell_type": "code",
   "execution_count": 111,
   "metadata": {},
   "outputs": [],
   "source": [
    "# 함수로 출력되는게 많게했어! & unit time을 1주일로 변경.\n",
    "\n",
    "def func_lamb(t_purch, tmean_u, t_ , alpha, beta, k):\n",
    "\n",
    "    if t_purch == 0:  # t_purch가 0이라는 소리는, k=1이라는 소리겠지! 그러니깐 앞의 값이 0이 되게끔 한거야.\n",
    "        lamb = (alpha/(2*abs(tmean_u-t_)+beta))\n",
    "        lamb_0 = (alpha/(2*abs(tmean_u)+beta))   # 최저값 : t=0\n",
    "        lamb_1 = (alpha/+beta)     # 최고값 : |tmean-t|=0\n",
    "    else:\n",
    "        lamb = (k/t_purch+(alpha/(2*abs(tmean_u-t_)+beta)))\n",
    "        lamb_0 = (k/t_purch+(alpha/(2*abs(tmean_u)+beta)))   # 최저값 : t=0  \n",
    "        lamb_1 = (k/t_purch+(alpha/+beta))     #최고값 : |tmean-t|=0\n",
    "    return lamb,lamb_0, lamb_1, t_, t_purch, tmean_u, k"
   ]
  },
  {
   "cell_type": "code",
   "execution_count": 112,
   "metadata": {},
   "outputs": [
    {
     "name": "stdout",
     "output_type": "stream",
     "text": [
      "0.10164835164835175 0.09637035071181248 0.10164835164835175\n"
     ]
    }
   ],
   "source": [
    "lamb, lamb_0, lamb_1, t_, t_purch, tmean_u, k = func_lamb(t_purch, tmean_u, t_ , alpha, beta, k)\n",
    "\n",
    "print(lamb, lamb_0, lamb_1)"
   ]
  },
  {
   "cell_type": "code",
   "execution_count": 113,
   "metadata": {
    "scrolled": false
   },
   "outputs": [
    {
     "name": "stdout",
     "output_type": "stream",
     "text": [
      "pred : 0.0966528436384787 , max : 0.0966528436384787 , min : 0.09187237193168829\n",
      "scaling : 1.0\n"
     ]
    }
   ],
   "source": [
    "       \n",
    "if lamb < lamb_0: # 일자별, 이런 경우가 있을수도 있어 - 마지막 구매부터 너무 너무 멀어지면!\n",
    "    lamb_0 = lamb\n",
    "pred = (1-stats.poisson.pmf(mu = lamb, k=0))\n",
    "max =  (1-stats.poisson.pmf(mu = lamb_1, k=0))  # max\n",
    "min =  (1-stats.poisson.pmf(mu = lamb_0, k=0))  # min\n",
    "scal = (pred - min)/(max - min)\n",
    "\n",
    "print('pred : {}'.format(pred), ', max : {}'.format(max), ', min : {}'.format(min))\n",
    "print('scaling : {}'.format(scal))"
   ]
  },
  {
   "cell_type": "markdown",
   "metadata": {},
   "source": [
    "---"
   ]
  },
  {
   "cell_type": "markdown",
   "metadata": {},
   "source": [
    "- #### (3)주기가 평균 - 1 주"
   ]
  },
  {
   "cell_type": "code",
   "execution_count": 114,
   "metadata": {},
   "outputs": [],
   "source": [
    "# 주기가 평균 - 1.5 주\n",
    "\n",
    "k, t_purch, tmean_u, t_ ,alpha, beta = 1, 0, 1.65667903525046 , 1.65667903525046-1 , 6.149540825318489, 60.4981854166467"
   ]
  },
  {
   "cell_type": "code",
   "execution_count": 115,
   "metadata": {},
   "outputs": [],
   "source": [
    "# 함수로 출력되는게 많게했어! & unit time을 1주일로 변경.\n",
    "\n",
    "def func_lamb(t_purch, tmean_u, t_ , alpha, beta, k):\n",
    "\n",
    "    if t_purch == 0:  # t_purch가 0이라는 소리는, k=1이라는 소리겠지! 그러니깐 앞의 값이 0이 되게끔 한거야.\n",
    "        lamb = (alpha/(2*abs(tmean_u-t_)+beta))\n",
    "        lamb_0 = (alpha/(2*abs(tmean_u)+beta))   # 최저값 : t=0\n",
    "        lamb_1 = (alpha/+beta)     # 최고값 : |tmean-t|=0\n",
    "    else:\n",
    "        lamb = (k/t_purch+(alpha/(2*abs(tmean_u-t_)+beta)))\n",
    "        lamb_0 = (k/t_purch+(alpha/(2*abs(tmean_u)+beta)))   # 최저값 : t=0  \n",
    "        lamb_1 = (k/t_purch+(alpha/+beta))     #최고값 : |tmean-t|=0\n",
    "    return lamb,lamb_0, lamb_1, t_, t_purch, tmean_u, k"
   ]
  },
  {
   "cell_type": "code",
   "execution_count": 116,
   "metadata": {},
   "outputs": [
    {
     "name": "stdout",
     "output_type": "stream",
     "text": [
      "0.09839550995476629 0.09637035071181248 0.10164835164835175\n"
     ]
    }
   ],
   "source": [
    "lamb, lamb_0, lamb_1, t_, t_purch, tmean_u, k = func_lamb(t_purch, tmean_u, t_ , alpha, beta, k)\n",
    "\n",
    "print(lamb, lamb_0, lamb_1)"
   ]
  },
  {
   "cell_type": "code",
   "execution_count": 117,
   "metadata": {
    "scrolled": true
   },
   "outputs": [
    {
     "name": "stdout",
     "output_type": "stream",
     "text": [
      "pred : 0.09370961400964595 , max : 0.0966528436384787 , min : 0.09187237193168829\n",
      "scaling : 0.38432234110871316\n"
     ]
    }
   ],
   "source": [
    "       \n",
    "if lamb < lamb_0: # 일자별, 이런 경우가 있을수도 있어 - 마지막 구매부터 너무 너무 멀어지면!\n",
    "    lamb_0 = lamb\n",
    "pred = (1-stats.poisson.pmf(mu = lamb, k=0))\n",
    "max =  (1-stats.poisson.pmf(mu = lamb_1, k=0))  # max\n",
    "min =  (1-stats.poisson.pmf(mu = lamb_0, k=0))  # min\n",
    "scal = (pred - min)/(max - min)\n",
    "\n",
    "print('pred : {}'.format(pred), ', max : {}'.format(max), ', min : {}'.format(min))\n",
    "print('scaling : {}'.format(scal))"
   ]
  },
  {
   "cell_type": "markdown",
   "metadata": {},
   "source": [
    "- #### (4)주기가 평균-0.5 주"
   ]
  },
  {
   "cell_type": "code",
   "execution_count": 118,
   "metadata": {},
   "outputs": [],
   "source": [
    "# 주기가 평균 - .5 주\n",
    "\n",
    "k, t_purch, tmean_u, t_ ,alpha, beta = 1, 0, 1.65667903525046 , 1.65667903525046-0.5 , 6.149540825318489, 60.4981854166467"
   ]
  },
  {
   "cell_type": "code",
   "execution_count": 119,
   "metadata": {},
   "outputs": [],
   "source": [
    "# 함수로 출력되는게 많게했어! & unit time을 1주일로 변경.\n",
    "\n",
    "def func_lamb(t_purch, tmean_u, t_ , alpha, beta, k):\n",
    "\n",
    "    if t_purch == 0:  # t_purch가 0이라는 소리는, k=1이라는 소리겠지! 그러니깐 앞의 값이 0이 되게끔 한거야.\n",
    "        lamb = (alpha/(2*abs(tmean_u-t_)+beta))\n",
    "        lamb_0 = (alpha/(2*abs(tmean_u)+beta))   # 최저값 : t=0\n",
    "        lamb_1 = (alpha/+beta)     # 최고값 : |tmean-t|=0\n",
    "    else:\n",
    "        lamb = (k/t_purch+(alpha/(2*abs(tmean_u-t_)+beta)))\n",
    "        lamb_0 = (k/t_purch+(alpha/(2*abs(tmean_u)+beta)))   # 최저값 : t=0  \n",
    "        lamb_1 = (k/t_purch+(alpha/+beta))     #최고값 : |tmean-t|=0\n",
    "    return lamb,lamb_0, lamb_1, t_, t_purch, tmean_u, k"
   ]
  },
  {
   "cell_type": "code",
   "execution_count": 120,
   "metadata": {},
   "outputs": [
    {
     "name": "stdout",
     "output_type": "stream",
     "text": [
      "0.09999548415381203 0.09637035071181248 0.10164835164835175\n"
     ]
    }
   ],
   "source": [
    "lamb, lamb_0, lamb_1, t_, t_purch, tmean_u, k = func_lamb(t_purch, tmean_u, t_ , alpha, beta, k)\n",
    "\n",
    "print(lamb, lamb_0, lamb_1)"
   ]
  },
  {
   "cell_type": "code",
   "execution_count": 121,
   "metadata": {
    "scrolled": false
   },
   "outputs": [
    {
     "name": "stdout",
     "output_type": "stream",
     "text": [
      "pred : 0.09515849584820935 , max : 0.0966528436384787 , min : 0.09187237193168829\n",
      "scaling : 0.6874057871429898\n"
     ]
    }
   ],
   "source": [
    "       \n",
    "if lamb < lamb_0: # 일자별, 이런 경우가 있을수도 있어 - 마지막 구매부터 너무 너무 멀어지면!\n",
    "    lamb_0 = lamb\n",
    "pred = (1-stats.poisson.pmf(mu = lamb, k=0))\n",
    "max =  (1-stats.poisson.pmf(mu = lamb_1, k=0))  # max\n",
    "min =  (1-stats.poisson.pmf(mu = lamb_0, k=0))  # min\n",
    "scal = (pred - min)/(max - min)\n",
    "\n",
    "print('pred : {}'.format(pred), ', max : {}'.format(max), ', min : {}'.format(min))\n",
    "print('scaling : {}'.format(scal))"
   ]
  },
  {
   "cell_type": "markdown",
   "metadata": {},
   "source": [
    "---"
   ]
  },
  {
   "cell_type": "markdown",
   "metadata": {},
   "source": [
    "### #ver(1)으로"
   ]
  },
  {
   "cell_type": "markdown",
   "metadata": {},
   "source": [
    "* ####  (1)실장님 원래 주기 : 주기가 넘어갔을때"
   ]
  },
  {
   "cell_type": "code",
   "execution_count": 134,
   "metadata": {},
   "outputs": [],
   "source": [
    "# 실장님 원래 주기 : 주기가 넘어갔을때\n",
    "\n",
    "k, t_purch, tmean_u, t_ ,alpha, beta = 1, 0, 1.6566 , 1.6566+0.9 , 0.787390881, 0.230086438"
   ]
  },
  {
   "cell_type": "code",
   "execution_count": 135,
   "metadata": {},
   "outputs": [],
   "source": [
    "# 함수로 출력되는게 많게했어! & unit time을 1주일로 변경.\n",
    "\n",
    "def func_lamb(t_purch, tmean_u, t_ , alpha, beta, k):\n",
    "\n",
    "    if t_purch == 0:  # t_purch가 0이라는 소리는, k=1이라는 소리겠지! 그러니깐 앞의 값이 0이 되게끔 한거야.\n",
    "        lamb = (alpha/(2*abs(tmean_u-t_)+beta))\n",
    "        lamb_0 = (alpha/(2*abs(tmean_u)+beta))   # 최저값 : t=0\n",
    "        lamb_1 = (alpha/+beta)     # 최고값 : |tmean-t|=0\n",
    "    else:\n",
    "        lamb = (k/t_purch+(alpha/(2*abs(tmean_u-t_)+beta)))\n",
    "        lamb_0 = (k/t_purch+(alpha/(2*abs(tmean_u)+beta)))   # 최저값 : t=0  \n",
    "        lamb_1 = (k/t_purch+(alpha/+beta))     #최고값 : |tmean-t|=0\n",
    "    return lamb,lamb_0, lamb_1, t_, t_purch, tmean_u, k"
   ]
  },
  {
   "cell_type": "code",
   "execution_count": 136,
   "metadata": {},
   "outputs": [
    {
     "name": "stdout",
     "output_type": "stream",
     "text": [
      "0.38786076605473097 0.2222204991827985 3.422152508615045\n"
     ]
    }
   ],
   "source": [
    "lamb, lamb_0, lamb_1, t_, t_purch, tmean_u, k = func_lamb(t_purch, tmean_u, t_ , alpha, beta, k)\n",
    "\n",
    "print(lamb, lamb_0, lamb_1)"
   ]
  },
  {
   "cell_type": "code",
   "execution_count": 137,
   "metadata": {
    "scrolled": false
   },
   "outputs": [
    {
     "name": "stdout",
     "output_type": "stream",
     "text": [
      "pred : 0.32149319213263694 , max : 0.9673579031301974 , min : 0.19926121737989\n",
      "scaling : 0.15913618300975466\n"
     ]
    }
   ],
   "source": [
    "       \n",
    "if lamb < lamb_0: # 일자별, 이런 경우가 있을수도 있어 - 마지막 구매부터 너무 너무 멀어지면!\n",
    "    lamb_0 = lamb\n",
    "pred = (1-stats.poisson.pmf(mu = lamb, k=0))\n",
    "max =  (1-stats.poisson.pmf(mu = lamb_1, k=0))  # max\n",
    "min =  (1-stats.poisson.pmf(mu = lamb_0, k=0))  # min\n",
    "scal = (pred - min)/(max - min)\n",
    "\n",
    "print('pred : {}'.format(pred), ', max : {}'.format(max), ', min : {}'.format(min))\n",
    "print('scaling : {}'.format(scal))"
   ]
  },
  {
   "cell_type": "markdown",
   "metadata": {},
   "source": [
    ": 일단, lambda의 값이 작기때문에, lambda 범위가 너무 좁아!!"
   ]
  },
  {
   "cell_type": "markdown",
   "metadata": {},
   "source": [
    "---"
   ]
  },
  {
   "cell_type": "markdown",
   "metadata": {},
   "source": [
    "- #### (2)주기가 평균일때"
   ]
  },
  {
   "cell_type": "code",
   "execution_count": 138,
   "metadata": {},
   "outputs": [],
   "source": [
    "# 주기가 평균일때\n",
    "\n",
    "k, t_purch, tmean_u, t_ ,alpha, beta = 1, 0, 1.6566 , 1.6566 , 0.787390881, 0.230086438"
   ]
  },
  {
   "cell_type": "code",
   "execution_count": 139,
   "metadata": {},
   "outputs": [],
   "source": [
    "# 함수로 출력되는게 많게했어! & unit time을 1주일로 변경.\n",
    "\n",
    "def func_lamb(t_purch, tmean_u, t_ , alpha, beta, k):\n",
    "\n",
    "    if t_purch == 0:  # t_purch가 0이라는 소리는, k=1이라는 소리겠지! 그러니깐 앞의 값이 0이 되게끔 한거야.\n",
    "        lamb = (alpha/(2*abs(tmean_u-t_)+beta))\n",
    "        lamb_0 = (alpha/(2*abs(tmean_u)+beta))   # 최저값 : t=0\n",
    "        lamb_1 = (alpha/+beta)     # 최고값 : |tmean-t|=0\n",
    "    else:\n",
    "        lamb = (k/t_purch+(alpha/(2*abs(tmean_u-t_)+beta)))\n",
    "        lamb_0 = (k/t_purch+(alpha/(2*abs(tmean_u)+beta)))   # 최저값 : t=0  \n",
    "        lamb_1 = (k/t_purch+(alpha/+beta))     #최고값 : |tmean-t|=0\n",
    "    return lamb,lamb_0, lamb_1, t_, t_purch, tmean_u, k"
   ]
  },
  {
   "cell_type": "code",
   "execution_count": 140,
   "metadata": {
    "scrolled": true
   },
   "outputs": [
    {
     "name": "stdout",
     "output_type": "stream",
     "text": [
      "3.422152508615045 0.2222204991827985 3.422152508615045\n"
     ]
    }
   ],
   "source": [
    "lamb, lamb_0, lamb_1, t_, t_purch, tmean_u, k = func_lamb(t_purch, tmean_u, t_ , alpha, beta, k)\n",
    "\n",
    "print(lamb, lamb_0, lamb_1)"
   ]
  },
  {
   "cell_type": "code",
   "execution_count": 141,
   "metadata": {
    "scrolled": false
   },
   "outputs": [
    {
     "name": "stdout",
     "output_type": "stream",
     "text": [
      "pred : 0.9673579031301974 , max : 0.9673579031301974 , min : 0.19926121737989\n",
      "scaling : 1.0\n"
     ]
    }
   ],
   "source": [
    "       \n",
    "if lamb < lamb_0: # 일자별, 이런 경우가 있을수도 있어 - 마지막 구매부터 너무 너무 멀어지면!\n",
    "    lamb_0 = lamb\n",
    "pred = (1-stats.poisson.pmf(mu = lamb, k=0))\n",
    "max =  (1-stats.poisson.pmf(mu = lamb_1, k=0))  # max\n",
    "min =  (1-stats.poisson.pmf(mu = lamb_0, k=0))  # min\n",
    "scal = (pred - min)/(max - min)\n",
    "\n",
    "print('pred : {}'.format(pred), ', max : {}'.format(max), ', min : {}'.format(min))\n",
    "print('scaling : {}'.format(scal))"
   ]
  },
  {
   "cell_type": "markdown",
   "metadata": {},
   "source": [
    "---"
   ]
  },
  {
   "cell_type": "markdown",
   "metadata": {},
   "source": [
    "- #### (3)주기가 '평균 - 1 주'"
   ]
  },
  {
   "cell_type": "code",
   "execution_count": 143,
   "metadata": {},
   "outputs": [],
   "source": [
    "# 주기가 평균 - 1 주\n",
    "\n",
    "k, t_purch, tmean_u, t_ ,alpha, beta = 1, 0, 1.6566 , 1.6566-1 , 0.787390881, 0.230086438"
   ]
  },
  {
   "cell_type": "code",
   "execution_count": 144,
   "metadata": {},
   "outputs": [],
   "source": [
    "# 함수로 출력되는게 많게했어! & unit time을 1주일로 변경.\n",
    "\n",
    "def func_lamb(t_purch, tmean_u, t_ , alpha, beta, k):\n",
    "\n",
    "    if t_purch == 0:  # t_purch가 0이라는 소리는, k=1이라는 소리겠지! 그러니깐 앞의 값이 0이 되게끔 한거야.\n",
    "        lamb = (alpha/(2*abs(tmean_u-t_)+beta))\n",
    "        lamb_0 = (alpha/(2*abs(tmean_u)+beta))   # 최저값 : t=0\n",
    "        lamb_1 = (alpha/+beta)     # 최고값 : |tmean-t|=0\n",
    "    else:\n",
    "        lamb = (k/t_purch+(alpha/(2*abs(tmean_u-t_)+beta)))\n",
    "        lamb_0 = (k/t_purch+(alpha/(2*abs(tmean_u)+beta)))   # 최저값 : t=0  \n",
    "        lamb_1 = (k/t_purch+(alpha/+beta))     #최고값 : |tmean-t|=0\n",
    "    return lamb,lamb_0, lamb_1, t_, t_purch, tmean_u, k"
   ]
  },
  {
   "cell_type": "code",
   "execution_count": 145,
   "metadata": {},
   "outputs": [
    {
     "name": "stdout",
     "output_type": "stream",
     "text": [
      "0.3530763954181762 0.2222204991827985 3.422152508615045\n"
     ]
    }
   ],
   "source": [
    "lamb, lamb_0, lamb_1, t_, t_purch, tmean_u, k = func_lamb(t_purch, tmean_u, t_ , alpha, beta, k)\n",
    "\n",
    "print(lamb, lamb_0, lamb_1)"
   ]
  },
  {
   "cell_type": "code",
   "execution_count": 146,
   "metadata": {
    "scrolled": false
   },
   "outputs": [
    {
     "name": "stdout",
     "output_type": "stream",
     "text": [
      "pred : 0.29747647825108825 , max : 0.9673579031301974 , min : 0.19926121737989\n",
      "scaling : 0.12786835654063222\n"
     ]
    }
   ],
   "source": [
    "       \n",
    "if lamb < lamb_0: # 일자별, 이런 경우가 있을수도 있어 - 마지막 구매부터 너무 너무 멀어지면!\n",
    "    lamb_0 = lamb\n",
    "pred = (1-stats.poisson.pmf(mu = lamb, k=0))\n",
    "max =  (1-stats.poisson.pmf(mu = lamb_1, k=0))  # max\n",
    "min =  (1-stats.poisson.pmf(mu = lamb_0, k=0))  # min\n",
    "scal = (pred - min)/(max - min)\n",
    "\n",
    "print('pred : {}'.format(pred), ', max : {}'.format(max), ', min : {}'.format(min))\n",
    "print('scaling : {}'.format(scal))"
   ]
  },
  {
   "cell_type": "markdown",
   "metadata": {},
   "source": [
    "---"
   ]
  },
  {
   "cell_type": "markdown",
   "metadata": {},
   "source": [
    "- #### (4)주기가 '평균 - 0.5 주'"
   ]
  },
  {
   "cell_type": "code",
   "execution_count": 147,
   "metadata": {},
   "outputs": [],
   "source": [
    "# 주기가 '평균 - 0.5 주'\n",
    "# mean :  5.12256603893284\n",
    "\n",
    "k, t_purch, tmean_u, t_ ,alpha, beta = 1, 0, 1.6566 , 1.6566-0.5 , 0.787390881, 0.230086438"
   ]
  },
  {
   "cell_type": "code",
   "execution_count": 148,
   "metadata": {},
   "outputs": [],
   "source": [
    "# 함수로 출력되는게 많게했어! & unit time을 1주일로 변경.\n",
    "\n",
    "def func_lamb(t_purch, tmean_u, t_ , alpha, beta, k):\n",
    "\n",
    "    if t_purch == 0:  # t_purch가 0이라는 소리는, k=1이라는 소리겠지! 그러니깐 앞의 값이 0이 되게끔 한거야.\n",
    "        lamb = (alpha/(2*abs(tmean_u-t_)+beta))\n",
    "        lamb_0 = (alpha/(2*abs(tmean_u)+beta))   # 최저값 : t=0\n",
    "        lamb_1 = (alpha/+beta)     # 최고값 : |tmean-t|=0\n",
    "    else:\n",
    "        lamb = (k/t_purch+(alpha/(2*abs(tmean_u-t_)+beta)))\n",
    "        lamb_0 = (k/t_purch+(alpha/(2*abs(tmean_u)+beta)))   # 최저값 : t=0  \n",
    "        lamb_1 = (k/t_purch+(alpha/+beta))     #최고값 : |tmean-t|=0\n",
    "    return lamb,lamb_0, lamb_1, t_, t_purch, tmean_u, k"
   ]
  },
  {
   "cell_type": "code",
   "execution_count": 149,
   "metadata": {},
   "outputs": [
    {
     "name": "stdout",
     "output_type": "stream",
     "text": [
      "0.6401102041903822 0.2222204991827985 3.422152508615045\n"
     ]
    }
   ],
   "source": [
    "lamb, lamb_0, lamb_1, t_, t_purch, tmean_u, k = func_lamb(t_purch, tmean_u, t_ , alpha, beta, k)\n",
    "\n",
    "print(lamb, lamb_0, lamb_1)"
   ]
  },
  {
   "cell_type": "code",
   "execution_count": 150,
   "metadata": {
    "scrolled": false
   },
   "outputs": [
    {
     "name": "stdout",
     "output_type": "stream",
     "text": [
      "pred : 0.4727656825897818 , max : 0.9673579031301974 , min : 0.19926121737989\n",
      "scaling : 0.3560807776988671\n"
     ]
    }
   ],
   "source": [
    "       \n",
    "if lamb < lamb_0: # 일자별, 이런 경우가 있을수도 있어 - 마지막 구매부터 너무 너무 멀어지면!\n",
    "    lamb_0 = lamb\n",
    "pred = (1-stats.poisson.pmf(mu = lamb, k=0))\n",
    "max =  (1-stats.poisson.pmf(mu = lamb_1, k=0))  # max\n",
    "min =  (1-stats.poisson.pmf(mu = lamb_0, k=0))  # min\n",
    "scal = (pred - min)/(max - min)\n",
    "\n",
    "print('pred : {}'.format(pred), ', max : {}'.format(max), ', min : {}'.format(min))\n",
    "print('scaling : {}'.format(scal))"
   ]
  },
  {
   "cell_type": "markdown",
   "metadata": {},
   "source": [
    ": 딱 주기에서 1주일 정도만 노출되도록 보인다!"
   ]
  },
  {
   "cell_type": "code",
   "execution_count": null,
   "metadata": {},
   "outputs": [],
   "source": []
  },
  {
   "cell_type": "markdown",
   "metadata": {},
   "source": [
    "## # Step2-1. 논문 수식"
   ]
  },
  {
   "cell_type": "markdown",
   "metadata": {},
   "source": [
    "#### ver1.\n",
    "- #### (1)실장님 원래 주기"
   ]
  },
  {
   "cell_type": "code",
   "execution_count": 151,
   "metadata": {},
   "outputs": [],
   "source": [
    "# 주기가 '평균 - 0.5 주'\n",
    "# mean :  5.12256603893284\n",
    "k, t_purch, tmean_u, t_ ,alpha, beta = 1, 0, 1.6566 , 1.6566+0.9 , 0.787390881, 0.230086438"
   ]
  },
  {
   "cell_type": "code",
   "execution_count": 152,
   "metadata": {},
   "outputs": [],
   "source": [
    "# 함수로 출력되는게 많게했어! & unit time을 1주일로 변경.\n",
    "\n",
    "def func_lamb(t_purch, tmean_u, t_ , alpha, beta, k):\n",
    "    \n",
    "    lamb = ((k+alpha)/(t_purch+2*abs(tmean_u-t_)+beta))\n",
    "    lamb_0 = ((k+alpha)/(t_purch+2*abs(tmean_u)+beta))   # 최저값 : t=0  \n",
    "    lamb_1 = ((k+alpha)/(t_purch+beta))     #최고값 : |tmean-t|=0\n",
    "    \n",
    "    return lamb,lamb_0, lamb_1, t_, t_purch, tmean_u, k"
   ]
  },
  {
   "cell_type": "code",
   "execution_count": 153,
   "metadata": {},
   "outputs": [
    {
     "name": "stdout",
     "output_type": "stream",
     "text": [
      "0.8804506288712028 0.5044443660639778 7.76834522076438\n"
     ]
    }
   ],
   "source": [
    "lamb, lamb_0, lamb_1, t_, t_purch, tmean_u, k = func_lamb(t_purch, tmean_u, t_ , alpha, beta, k)\n",
    "\n",
    "print(lamb, lamb_0, lamb_1)"
   ]
  },
  {
   "cell_type": "code",
   "execution_count": 154,
   "metadata": {
    "scrolled": false
   },
   "outputs": [
    {
     "name": "stdout",
     "output_type": "stream",
     "text": [
      "pred : 0.5854039593657971 , max : 0.9995770874850529 , min : 0.39615900321755915\n",
      "scaling : 0.31362161838084085\n"
     ]
    }
   ],
   "source": [
    "       \n",
    "if lamb < lamb_0: # 일자별, 이런 경우가 있을수도 있어 - 마지막 구매부터 너무 너무 멀어지면!\n",
    "    lamb_0 = lamb\n",
    "pred = (1-stats.poisson.pmf(mu = lamb, k=0))\n",
    "max =  (1-stats.poisson.pmf(mu = lamb_1, k=0))  # max\n",
    "min =  (1-stats.poisson.pmf(mu = lamb_0, k=0))  # min\n",
    "scal = (pred - min)/(max - min)\n",
    "\n",
    "print('pred : {}'.format(pred), ', max : {}'.format(max), ', min : {}'.format(min))\n",
    "print('scaling : {}'.format(scal))"
   ]
  },
  {
   "cell_type": "markdown",
   "metadata": {},
   "source": [
    "---"
   ]
  },
  {
   "cell_type": "markdown",
   "metadata": {},
   "source": [
    "- #### (2)주기가 평균일때"
   ]
  },
  {
   "cell_type": "code",
   "execution_count": 155,
   "metadata": {},
   "outputs": [],
   "source": [
    "# 주기가 평균일때\n",
    "\n",
    "k, t_purch, tmean_u, t_ ,alpha, beta = 1, 0, 1.6566 , 1.6566 , 0.787390881, 0.230086438"
   ]
  },
  {
   "cell_type": "code",
   "execution_count": 156,
   "metadata": {},
   "outputs": [],
   "source": [
    "# 함수로 출력되는게 많게했어! & unit time을 1주일로 변경.\n",
    "\n",
    "def func_lamb(t_purch, tmean_u, t_ , alpha, beta, k):\n",
    "    \n",
    "    lamb = ((k+alpha)/(t_purch+2*abs(tmean_u-t_)+beta))\n",
    "    lamb_0 = ((k+alpha)/(t_purch+2*abs(tmean_u)+beta))   # 최저값 : t=0  \n",
    "    lamb_1 = ((k+alpha)/(t_purch+beta))     #최고값 : |tmean-t|=0\n",
    "    \n",
    "    return lamb,lamb_0, lamb_1, t_, t_purch, tmean_u, k"
   ]
  },
  {
   "cell_type": "code",
   "execution_count": 157,
   "metadata": {},
   "outputs": [
    {
     "name": "stdout",
     "output_type": "stream",
     "text": [
      "7.76834522076438 0.5044443660639778 7.76834522076438\n"
     ]
    }
   ],
   "source": [
    "lamb, lamb_0, lamb_1, t_, t_purch, tmean_u, k = func_lamb(t_purch, tmean_u, t_ , alpha, beta, k)\n",
    "\n",
    "print(lamb, lamb_0, lamb_1)"
   ]
  },
  {
   "cell_type": "code",
   "execution_count": 158,
   "metadata": {
    "scrolled": true
   },
   "outputs": [
    {
     "name": "stdout",
     "output_type": "stream",
     "text": [
      "pred : 0.9995770874850529 , max : 0.9995770874850529 , min : 0.39615900321755915\n",
      "scaling : 1.0\n"
     ]
    }
   ],
   "source": [
    "       \n",
    "if lamb < lamb_0: # 일자별, 이런 경우가 있을수도 있어 - 마지막 구매부터 너무 너무 멀어지면!\n",
    "    lamb_0 = lamb\n",
    "pred = (1-stats.poisson.pmf(mu = lamb, k=0))\n",
    "max =  (1-stats.poisson.pmf(mu = lamb_1, k=0))  # max\n",
    "min =  (1-stats.poisson.pmf(mu = lamb_0, k=0))  # min\n",
    "scal = (pred - min)/(max - min)\n",
    "\n",
    "print('pred : {}'.format(pred), ', max : {}'.format(max), ', min : {}'.format(min))\n",
    "print('scaling : {}'.format(scal))"
   ]
  },
  {
   "cell_type": "markdown",
   "metadata": {},
   "source": [
    "- #### (3)주기가 '평균 - 1 주'"
   ]
  },
  {
   "cell_type": "code",
   "execution_count": 159,
   "metadata": {},
   "outputs": [],
   "source": [
    "# 주기가 평균 - 1 주\n",
    "\n",
    "k, t_purch, tmean_u, t_ ,alpha, beta = 1, 0, 1.6566 , 1.6566-1 , 0.787390881, 0.230086438"
   ]
  },
  {
   "cell_type": "code",
   "execution_count": 160,
   "metadata": {},
   "outputs": [],
   "source": [
    "# 함수로 출력되는게 많게했어! & unit time을 1주일로 변경.\n",
    "\n",
    "def func_lamb(t_purch, tmean_u, t_ , alpha, beta, k):\n",
    "    \n",
    "    lamb = ((k+alpha)/(t_purch+2*abs(tmean_u-t_)+beta))\n",
    "    lamb_0 = ((k+alpha)/(t_purch+2*abs(tmean_u)+beta))   # 최저값 : t=0  \n",
    "    lamb_1 = ((k+alpha)/(t_purch+beta))     #최고값 : |tmean-t|=0\n",
    "    \n",
    "    return lamb,lamb_0, lamb_1, t_, t_purch, tmean_u, k"
   ]
  },
  {
   "cell_type": "code",
   "execution_count": 161,
   "metadata": {},
   "outputs": [
    {
     "name": "stdout",
     "output_type": "stream",
     "text": [
      "0.8014895075560295 0.5044443660639778 7.76834522076438\n"
     ]
    }
   ],
   "source": [
    "lamb, lamb_0, lamb_1, t_, t_purch, tmean_u, k = func_lamb(t_purch, tmean_u, t_ , alpha, beta, k)\n",
    "\n",
    "print(lamb, lamb_0, lamb_1)"
   ]
  },
  {
   "cell_type": "code",
   "execution_count": 162,
   "metadata": {
    "scrolled": false
   },
   "outputs": [
    {
     "name": "stdout",
     "output_type": "stream",
     "text": [
      "pred : 0.5513398165693827 , max : 0.9995770874850529 , min : 0.39615900321755915\n",
      "scaling : 0.2571696430679599\n"
     ]
    }
   ],
   "source": [
    "       \n",
    "if lamb < lamb_0: # 일자별, 이런 경우가 있을수도 있어 - 마지막 구매부터 너무 너무 멀어지면!\n",
    "    lamb_0 = lamb\n",
    "pred = (1-stats.poisson.pmf(mu = lamb, k=0))\n",
    "max =  (1-stats.poisson.pmf(mu = lamb_1, k=0))  # max\n",
    "min =  (1-stats.poisson.pmf(mu = lamb_0, k=0))  # min\n",
    "scal = (pred - min)/(max - min)\n",
    "\n",
    "print('pred : {}'.format(pred), ', max : {}'.format(max), ', min : {}'.format(min))\n",
    "print('scaling : {}'.format(scal))"
   ]
  },
  {
   "cell_type": "markdown",
   "metadata": {},
   "source": [
    "- #### (4)주기가 '평균 - 0.5 주'"
   ]
  },
  {
   "cell_type": "code",
   "execution_count": 163,
   "metadata": {},
   "outputs": [],
   "source": [
    "# 주기가 '평균 - 0.5 주'\n",
    "# mean :  5.12256603893284\n",
    "k, t_purch, tmean_u, t_ ,alpha, beta = 1, 0, 1.6566 , 1.6566-0.5 , 0.787390881, 0.230086438"
   ]
  },
  {
   "cell_type": "code",
   "execution_count": 164,
   "metadata": {},
   "outputs": [],
   "source": [
    "# 함수로 출력되는게 많게했어! & unit time을 1주일로 변경.\n",
    "\n",
    "def func_lamb(t_purch, tmean_u, t_ , alpha, beta, k):\n",
    "    \n",
    "    lamb = ((k+alpha)/(t_purch+2*abs(tmean_u-t_)+beta))\n",
    "    lamb_0 = ((k+alpha)/(t_purch+2*abs(tmean_u)+beta))   # 최저값 : t=0  \n",
    "    lamb_1 = ((k+alpha)/(t_purch+beta))     #최고값 : |tmean-t|=0\n",
    "    \n",
    "    return lamb,lamb_0, lamb_1, t_, t_purch, tmean_u, k"
   ]
  },
  {
   "cell_type": "code",
   "execution_count": 165,
   "metadata": {},
   "outputs": [
    {
     "name": "stdout",
     "output_type": "stream",
     "text": [
      "1.4530612043053839 0.5044443660639778 7.76834522076438\n"
     ]
    }
   ],
   "source": [
    "lamb, lamb_0, lamb_1, t_, t_purch, tmean_u, k = func_lamb(t_purch, tmean_u, t_ , alpha, beta, k)\n",
    "\n",
    "print(lamb, lamb_0, lamb_1)"
   ]
  },
  {
   "cell_type": "code",
   "execution_count": 166,
   "metadata": {
    "scrolled": false
   },
   "outputs": [
    {
     "name": "stdout",
     "output_type": "stream",
     "text": [
      "pred : 0.7661466815268936 , max : 0.9995770874850529 , min : 0.39615900321755915\n",
      "scaling : 0.6131531154862104\n"
     ]
    }
   ],
   "source": [
    "       \n",
    "if lamb < lamb_0: # 일자별, 이런 경우가 있을수도 있어 - 마지막 구매부터 너무 너무 멀어지면!\n",
    "    lamb_0 = lamb\n",
    "pred = (1-stats.poisson.pmf(mu = lamb, k=0))\n",
    "max =  (1-stats.poisson.pmf(mu = lamb_1, k=0))  # max\n",
    "min =  (1-stats.poisson.pmf(mu = lamb_0, k=0))  # min\n",
    "scal = (pred - min)/(max - min)\n",
    "\n",
    "print('pred : {}'.format(pred), ', max : {}'.format(max), ', min : {}'.format(min))\n",
    "print('scaling : {}'.format(scal))"
   ]
  },
  {
   "cell_type": "markdown",
   "metadata": {},
   "source": [
    "---"
   ]
  },
  {
   "cell_type": "markdown",
   "metadata": {},
   "source": [
    "#### ver2.\n",
    "- #### (1)실장님 원래 주기"
   ]
  },
  {
   "cell_type": "code",
   "execution_count": 167,
   "metadata": {},
   "outputs": [],
   "source": [
    "\n",
    "k, t_purch, tmean_u, t_ ,alpha, beta = 1, 0, 1.6566 , 1.6566+0.9 , 6.149540825318489, 60.4981854166467"
   ]
  },
  {
   "cell_type": "code",
   "execution_count": 168,
   "metadata": {},
   "outputs": [],
   "source": [
    "# 함수로 출력되는게 많게했어! & unit time을 1주일로 변경.\n",
    "\n",
    "def func_lamb(t_purch, tmean_u, t_ , alpha, beta, k):\n",
    "    \n",
    "    lamb = ((k+alpha)/(t_purch+2*abs(tmean_u-t_)+beta))\n",
    "    lamb_0 = ((k+alpha)/(t_purch+2*abs(tmean_u)+beta))   # 최저값 : t=0  \n",
    "    lamb_1 = ((k+alpha)/(t_purch+beta))     #최고값 : |tmean-t|=0\n",
    "    \n",
    "    return lamb,lamb_0, lamb_1, t_, t_purch, tmean_u, k"
   ]
  },
  {
   "cell_type": "code",
   "execution_count": 169,
   "metadata": {},
   "outputs": [
    {
     "name": "stdout",
     "output_type": "stream",
     "text": [
      "0.11476322749214556 0.11204177402882971 0.11817777303699459\n"
     ]
    }
   ],
   "source": [
    "lamb, lamb_0, lamb_1, t_, t_purch, tmean_u, k = func_lamb(t_purch, tmean_u, t_ , alpha, beta, k)\n",
    "\n",
    "print(lamb, lamb_0, lamb_1)"
   ]
  },
  {
   "cell_type": "code",
   "execution_count": 170,
   "metadata": {
    "scrolled": false
   },
   "outputs": [
    {
     "name": "stdout",
     "output_type": "stream",
     "text": [
      "pred : 0.10842278010835027 , max : 0.11146191953961015 , min : 0.10599308955015674\n",
      "scaling : 0.44427977517662187\n"
     ]
    }
   ],
   "source": [
    "       \n",
    "if lamb < lamb_0: # 일자별, 이런 경우가 있을수도 있어 - 마지막 구매부터 너무 너무 멀어지면!\n",
    "    lamb_0 = lamb\n",
    "pred = (1-stats.poisson.pmf(mu = lamb, k=0))\n",
    "max =  (1-stats.poisson.pmf(mu = lamb_1, k=0))  # max\n",
    "min =  (1-stats.poisson.pmf(mu = lamb_0, k=0))  # min\n",
    "scal = (pred - min)/(max - min)\n",
    "\n",
    "print('pred : {}'.format(pred), ', max : {}'.format(max), ', min : {}'.format(min))\n",
    "print('scaling : {}'.format(scal))"
   ]
  },
  {
   "cell_type": "markdown",
   "metadata": {},
   "source": [
    "---"
   ]
  },
  {
   "cell_type": "markdown",
   "metadata": {},
   "source": [
    "- #### (2)주기가 평균일때"
   ]
  },
  {
   "cell_type": "code",
   "execution_count": 171,
   "metadata": {},
   "outputs": [],
   "source": [
    "# 주기가 평균일때\n",
    "\n",
    "k, t_purch, tmean_u, t_ ,alpha, beta = 1, 0, 1.6566 , 1.6566 , 6.149540825318489, 60.4981854166467"
   ]
  },
  {
   "cell_type": "code",
   "execution_count": 172,
   "metadata": {},
   "outputs": [],
   "source": [
    "# 함수로 출력되는게 많게했어! & unit time을 1주일로 변경.\n",
    "\n",
    "def func_lamb(t_purch, tmean_u, t_ , alpha, beta, k):\n",
    "    \n",
    "    lamb = ((k+alpha)/(t_purch+2*abs(tmean_u-t_)+beta))\n",
    "    lamb_0 = ((k+alpha)/(t_purch+2*abs(tmean_u)+beta))   # 최저값 : t=0  \n",
    "    lamb_1 = ((k+alpha)/(t_purch+beta))     #최고값 : |tmean-t|=0\n",
    "    \n",
    "    return lamb,lamb_0, lamb_1, t_, t_purch, tmean_u, k"
   ]
  },
  {
   "cell_type": "code",
   "execution_count": 173,
   "metadata": {},
   "outputs": [
    {
     "name": "stdout",
     "output_type": "stream",
     "text": [
      "0.11817777303699459 0.11204177402882971 0.11817777303699459\n"
     ]
    }
   ],
   "source": [
    "lamb, lamb_0, lamb_1, t_, t_purch, tmean_u, k = func_lamb(t_purch, tmean_u, t_ , alpha, beta, k)\n",
    "\n",
    "print(lamb, lamb_0, lamb_1)"
   ]
  },
  {
   "cell_type": "code",
   "execution_count": 174,
   "metadata": {
    "scrolled": true
   },
   "outputs": [
    {
     "name": "stdout",
     "output_type": "stream",
     "text": [
      "pred : 0.11146191953961015 , max : 0.11146191953961015 , min : 0.10599308955015674\n",
      "scaling : 1.0\n"
     ]
    }
   ],
   "source": [
    "       \n",
    "if lamb < lamb_0: # 일자별, 이런 경우가 있을수도 있어 - 마지막 구매부터 너무 너무 멀어지면!\n",
    "    lamb_0 = lamb\n",
    "pred = (1-stats.poisson.pmf(mu = lamb, k=0))\n",
    "max =  (1-stats.poisson.pmf(mu = lamb_1, k=0))  # max\n",
    "min =  (1-stats.poisson.pmf(mu = lamb_0, k=0))  # min\n",
    "scal = (pred - min)/(max - min)\n",
    "\n",
    "print('pred : {}'.format(pred), ', max : {}'.format(max), ', min : {}'.format(min))\n",
    "print('scaling : {}'.format(scal))"
   ]
  },
  {
   "cell_type": "markdown",
   "metadata": {},
   "source": [
    "- #### (3)주기가 '평균 - 1 주'"
   ]
  },
  {
   "cell_type": "code",
   "execution_count": 175,
   "metadata": {},
   "outputs": [],
   "source": [
    "# 주기가 평균 - 1 주\n",
    "\n",
    "k, t_purch, tmean_u, t_ ,alpha, beta = 1, 0, 1.6566 , 1.6566-1 , 6.149540825318489, 60.4981854166467"
   ]
  },
  {
   "cell_type": "code",
   "execution_count": 176,
   "metadata": {},
   "outputs": [],
   "source": [
    "# 함수로 출력되는게 많게했어! & unit time을 1주일로 변경.\n",
    "\n",
    "def func_lamb(t_purch, tmean_u, t_ , alpha, beta, k):\n",
    "    \n",
    "    lamb = ((k+alpha)/(t_purch+2*abs(tmean_u-t_)+beta))\n",
    "    lamb_0 = ((k+alpha)/(t_purch+2*abs(tmean_u)+beta))   # 최저값 : t=0  \n",
    "    lamb_1 = ((k+alpha)/(t_purch+beta))     #최고값 : |tmean-t|=0\n",
    "    \n",
    "    return lamb,lamb_0, lamb_1, t_, t_purch, tmean_u, k"
   ]
  },
  {
   "cell_type": "code",
   "execution_count": 177,
   "metadata": {},
   "outputs": [
    {
     "name": "stdout",
     "output_type": "stream",
     "text": [
      "0.11439597450159207 0.11204177402882971 0.11817777303699459\n"
     ]
    }
   ],
   "source": [
    "lamb, lamb_0, lamb_1, t_, t_purch, tmean_u, k = func_lamb(t_purch, tmean_u, t_ , alpha, beta, k)\n",
    "\n",
    "print(lamb, lamb_0, lamb_1)"
   ]
  },
  {
   "cell_type": "code",
   "execution_count": 178,
   "metadata": {
    "scrolled": false
   },
   "outputs": [
    {
     "name": "stdout",
     "output_type": "stream",
     "text": [
      "pred : 0.10809528557504322 , max : 0.11146191953961015 , min : 0.10599308955015674\n",
      "scaling : 0.3843959364142872\n"
     ]
    }
   ],
   "source": [
    "       \n",
    "if lamb < lamb_0: # 일자별, 이런 경우가 있을수도 있어 - 마지막 구매부터 너무 너무 멀어지면!\n",
    "    lamb_0 = lamb\n",
    "pred = (1-stats.poisson.pmf(mu = lamb, k=0))\n",
    "max =  (1-stats.poisson.pmf(mu = lamb_1, k=0))  # max\n",
    "min =  (1-stats.poisson.pmf(mu = lamb_0, k=0))  # min\n",
    "scal = (pred - min)/(max - min)\n",
    "\n",
    "print('pred : {}'.format(pred), ', max : {}'.format(max), ', min : {}'.format(min))\n",
    "print('scaling : {}'.format(scal))"
   ]
  },
  {
   "cell_type": "markdown",
   "metadata": {},
   "source": [
    "- #### (4)주기가 '평균 - 0.5 주'"
   ]
  },
  {
   "cell_type": "code",
   "execution_count": 179,
   "metadata": {},
   "outputs": [],
   "source": [
    "k, t_purch, tmean_u, t_ ,alpha, beta = 1, 0, 1.6566 , 1.6566-0.5 , 6.149540825318489, 60.4981854166467"
   ]
  },
  {
   "cell_type": "code",
   "execution_count": 180,
   "metadata": {},
   "outputs": [],
   "source": [
    "# 함수로 출력되는게 많게했어! & unit time을 1주일로 변경.\n",
    "\n",
    "def func_lamb(t_purch, tmean_u, t_ , alpha, beta, k):\n",
    "    \n",
    "    lamb = ((k+alpha)/(t_purch+2*abs(tmean_u-t_)+beta))\n",
    "    lamb_0 = ((k+alpha)/(t_purch+2*abs(tmean_u)+beta))   # 최저값 : t=0  \n",
    "    lamb_1 = ((k+alpha)/(t_purch+beta))     #최고값 : |tmean-t|=0\n",
    "    \n",
    "    return lamb,lamb_0, lamb_1, t_, t_purch, tmean_u, k"
   ]
  },
  {
   "cell_type": "code",
   "execution_count": 181,
   "metadata": {},
   "outputs": [
    {
     "name": "stdout",
     "output_type": "stream",
     "text": [
      "0.11625612653252707 0.11204177402882971 0.11817777303699459\n"
     ]
    }
   ],
   "source": [
    "lamb, lamb_0, lamb_1, t_, t_purch, tmean_u, k = func_lamb(t_purch, tmean_u, t_ , alpha, beta, k)\n",
    "\n",
    "print(lamb, lamb_0, lamb_1)"
   ]
  },
  {
   "cell_type": "code",
   "execution_count": 182,
   "metadata": {
    "scrolled": false
   },
   "outputs": [
    {
     "name": "stdout",
     "output_type": "stream",
     "text": [
      "pred : 0.10975282182832147 , max : 0.11146191953961015 , min : 0.10599308955015674\n",
      "scaling : 0.6874838467122465\n"
     ]
    }
   ],
   "source": [
    "       \n",
    "if lamb < lamb_0: # 일자별, 이런 경우가 있을수도 있어 - 마지막 구매부터 너무 너무 멀어지면!\n",
    "    lamb_0 = lamb\n",
    "pred = (1-stats.poisson.pmf(mu = lamb, k=0))\n",
    "max =  (1-stats.poisson.pmf(mu = lamb_1, k=0))  # max\n",
    "min =  (1-stats.poisson.pmf(mu = lamb_0, k=0))  # min\n",
    "scal = (pred - min)/(max - min)\n",
    "\n",
    "print('pred : {}'.format(pred), ', max : {}'.format(max), ', min : {}'.format(min))\n",
    "print('scaling : {}'.format(scal))"
   ]
  },
  {
   "cell_type": "code",
   "execution_count": null,
   "metadata": {},
   "outputs": [],
   "source": []
  },
  {
   "cell_type": "code",
   "execution_count": null,
   "metadata": {},
   "outputs": [],
   "source": []
  },
  {
   "cell_type": "markdown",
   "metadata": {},
   "source": [
    "## # Step3. k>3"
   ]
  },
  {
   "cell_type": "markdown",
   "metadata": {},
   "source": [
    "### # ver(2) 로 먼저"
   ]
  },
  {
   "cell_type": "code",
   "execution_count": 178,
   "metadata": {},
   "outputs": [
    {
     "data": {
      "text/plain": [
       "array([ 0,  5, 10])"
      ]
     },
     "execution_count": 178,
     "metadata": {},
     "output_type": "execute_result"
    }
   ],
   "source": [
    "time = np.arange(0,11,5);time"
   ]
  },
  {
   "cell_type": "markdown",
   "metadata": {},
   "source": [
    "* ####  (1)실장님 원래 주기 : 주기가 넘어갔을때"
   ]
  },
  {
   "cell_type": "code",
   "execution_count": 199,
   "metadata": {},
   "outputs": [],
   "source": [
    "\n",
    "k, t_purch, tmean_u, t_ ,alpha, beta = 6, 1.6566*5 , 1.6566 , 1.6566+0.9 , 6.149540825318489, 60.4981854166467"
   ]
  },
  {
   "cell_type": "code",
   "execution_count": 200,
   "metadata": {},
   "outputs": [],
   "source": [
    "# 함수로 출력되는게 많게했어! & unit time을 1주일로 변경.\n",
    "\n",
    "def func_lamb(t_purch, tmean_u, t_ , alpha, beta, k):\n",
    "\n",
    "    if t_purch == 0:  # t_purch가 0이라는 소리는, k=1이라는 소리겠지! 그러니깐 앞의 값이 0이 되게끔 한거야.\n",
    "        lamb = (alpha/(2*abs(tmean_u-t_)+beta))\n",
    "        lamb_0 = (alpha/(2*abs(tmean_u)+beta))   # 최저값 : t=0\n",
    "        lamb_1 = (alpha/+beta)     # 최고값 : |tmean-t|=0\n",
    "    else:\n",
    "        lamb = (k/t_purch+(alpha/(2*abs(tmean_u-t_)+beta)))\n",
    "        lamb_0 = (k/t_purch+(alpha/(2*abs(tmean_u)+beta)))   # 최저값 : t=0  \n",
    "        lamb_1 = (k/t_purch+(alpha/+beta))     #최고값 : |tmean-t|=0\n",
    "    return lamb,lamb_0, lamb_1, t_, t_purch, tmean_u, k"
   ]
  },
  {
   "cell_type": "code",
   "execution_count": 201,
   "metadata": {},
   "outputs": [
    {
     "name": "stdout",
     "output_type": "stream",
     "text": [
      "0.8230866219591315 0.8207458158030775 0.8260235780156099\n"
     ]
    }
   ],
   "source": [
    "lamb, lamb_0, lamb_1, t_, t_purch, tmean_u, k = func_lamb(t_purch, tmean_u, t_ , alpha, beta, k)\n",
    "\n",
    "print(lamb, lamb_0, lamb_1)"
   ]
  },
  {
   "cell_type": "code",
   "execution_count": 202,
   "metadata": {
    "scrolled": false
   },
   "outputs": [
    {
     "name": "stdout",
     "output_type": "stream",
     "text": [
      "pred : 0.5609256956192947 , max : 0.5622133457452969 , min : 0.5598967039194349\n",
      "scaling : 0.4441738417966009\n"
     ]
    }
   ],
   "source": [
    "       \n",
    "if lamb < lamb_0: # 일자별, 이런 경우가 있을수도 있어 - 마지막 구매부터 너무 너무 멀어지면!\n",
    "    lamb_0 = lamb\n",
    "pred = (1-stats.poisson.pmf(mu = lamb, k=0))\n",
    "max =  (1-stats.poisson.pmf(mu = lamb_1, k=0))  # max\n",
    "min =  (1-stats.poisson.pmf(mu = lamb_0, k=0))  # min\n",
    "scal = (pred - min)/(max - min)\n",
    "\n",
    "print('pred : {}'.format(pred), ', max : {}'.format(max), ', min : {}'.format(min))\n",
    "print('scaling : {}'.format(scal))"
   ]
  },
  {
   "cell_type": "markdown",
   "metadata": {},
   "source": [
    "---"
   ]
  },
  {
   "cell_type": "markdown",
   "metadata": {},
   "source": [
    "- #### (2)주기가 평균일때"
   ]
  },
  {
   "cell_type": "code",
   "execution_count": 203,
   "metadata": {},
   "outputs": [],
   "source": [
    "# 주기가 평균일때\n",
    "\n",
    "k, t_purch, tmean_u, t_ ,alpha, beta =  6, 1.6566*5 , 1.6566 , 1.6566 , 6.149540825318489, 60.4981854166467"
   ]
  },
  {
   "cell_type": "code",
   "execution_count": 204,
   "metadata": {},
   "outputs": [],
   "source": [
    "# 함수로 출력되는게 많게했어! & unit time을 1주일로 변경.\n",
    "\n",
    "def func_lamb(t_purch, tmean_u, t_ , alpha, beta, k):\n",
    "\n",
    "    if t_purch == 0:  # t_purch가 0이라는 소리는, k=1이라는 소리겠지! 그러니깐 앞의 값이 0이 되게끔 한거야.\n",
    "        lamb = (alpha/(2*abs(tmean_u-t_)+beta))\n",
    "        lamb_0 = (alpha/(2*abs(tmean_u)+beta))   # 최저값 : t=0\n",
    "        lamb_1 = (alpha/+beta)     # 최고값 : |tmean-t|=0\n",
    "    else:\n",
    "        lamb = (k/t_purch+(alpha/(2*abs(tmean_u-t_)+beta)))\n",
    "        lamb_0 = (k/t_purch+(alpha/(2*abs(tmean_u)+beta)))   # 최저값 : t=0  \n",
    "        lamb_1 = (k/t_purch+(alpha/+beta))     #최고값 : |tmean-t|=0\n",
    "    return lamb,lamb_0, lamb_1, t_, t_purch, tmean_u, k"
   ]
  },
  {
   "cell_type": "code",
   "execution_count": 205,
   "metadata": {},
   "outputs": [
    {
     "name": "stdout",
     "output_type": "stream",
     "text": [
      "0.8260235780156099 0.8207458158030775 0.8260235780156099\n"
     ]
    }
   ],
   "source": [
    "lamb, lamb_0, lamb_1, t_, t_purch, tmean_u, k = func_lamb(t_purch, tmean_u, t_ , alpha, beta, k)\n",
    "\n",
    "print(lamb, lamb_0, lamb_1)"
   ]
  },
  {
   "cell_type": "code",
   "execution_count": 206,
   "metadata": {
    "scrolled": false
   },
   "outputs": [
    {
     "name": "stdout",
     "output_type": "stream",
     "text": [
      "pred : 0.5622133457452969 , max : 0.5622133457452969 , min : 0.5598967039194349\n",
      "scaling : 1.0\n"
     ]
    }
   ],
   "source": [
    "       \n",
    "if lamb < lamb_0: # 일자별, 이런 경우가 있을수도 있어 - 마지막 구매부터 너무 너무 멀어지면!\n",
    "    lamb_0 = lamb\n",
    "pred = (1-stats.poisson.pmf(mu = lamb, k=0))\n",
    "max =  (1-stats.poisson.pmf(mu = lamb_1, k=0))  # max\n",
    "min =  (1-stats.poisson.pmf(mu = lamb_0, k=0))  # min\n",
    "scal = (pred - min)/(max - min)\n",
    "\n",
    "print('pred : {}'.format(pred), ', max : {}'.format(max), ', min : {}'.format(min))\n",
    "print('scaling : {}'.format(scal))"
   ]
  },
  {
   "cell_type": "markdown",
   "metadata": {},
   "source": [
    "---"
   ]
  },
  {
   "cell_type": "markdown",
   "metadata": {},
   "source": [
    "- #### (3)주기가 평균 - 1 주"
   ]
  },
  {
   "cell_type": "code",
   "execution_count": 207,
   "metadata": {},
   "outputs": [],
   "source": [
    "# 주기가 평균 - 1.5 주\n",
    "\n",
    "k, t_purch, tmean_u, t_ ,alpha, beta =  6, 1.6566*5 , 1.6566 , 1.6566-1 , 6.149540825318489, 60.4981854166467"
   ]
  },
  {
   "cell_type": "code",
   "execution_count": 208,
   "metadata": {},
   "outputs": [],
   "source": [
    "# 함수로 출력되는게 많게했어! & unit time을 1주일로 변경.\n",
    "\n",
    "def func_lamb(t_purch, tmean_u, t_ , alpha, beta, k):\n",
    "\n",
    "    if t_purch == 0:  # t_purch가 0이라는 소리는, k=1이라는 소리겠지! 그러니깐 앞의 값이 0이 되게끔 한거야.\n",
    "        lamb = (alpha/(2*abs(tmean_u-t_)+beta))\n",
    "        lamb_0 = (alpha/(2*abs(tmean_u)+beta))   # 최저값 : t=0\n",
    "        lamb_1 = (alpha/+beta)     # 최고값 : |tmean-t|=0\n",
    "    else:\n",
    "        lamb = (k/t_purch+(alpha/(2*abs(tmean_u-t_)+beta)))\n",
    "        lamb_0 = (k/t_purch+(alpha/(2*abs(tmean_u)+beta)))   # 최저값 : t=0  \n",
    "        lamb_1 = (k/t_purch+(alpha/+beta))     #최고값 : |tmean-t|=0\n",
    "    return lamb,lamb_0, lamb_1, t_, t_purch, tmean_u, k"
   ]
  },
  {
   "cell_type": "code",
   "execution_count": 209,
   "metadata": {},
   "outputs": [
    {
     "name": "stdout",
     "output_type": "stream",
     "text": [
      "0.8227707363220245 0.8207458158030775 0.8260235780156099\n"
     ]
    }
   ],
   "source": [
    "lamb, lamb_0, lamb_1, t_, t_purch, tmean_u, k = func_lamb(t_purch, tmean_u, t_ , alpha, beta, k)\n",
    "\n",
    "print(lamb, lamb_0, lamb_1)"
   ]
  },
  {
   "cell_type": "code",
   "execution_count": 210,
   "metadata": {
    "scrolled": true
   },
   "outputs": [
    {
     "name": "stdout",
     "output_type": "stream",
     "text": [
      "pred : 0.5607869764443743 , max : 0.5622133457452969 , min : 0.5598967039194349\n",
      "scaling : 0.3842944191893274\n"
     ]
    }
   ],
   "source": [
    "       \n",
    "if lamb < lamb_0: # 일자별, 이런 경우가 있을수도 있어 - 마지막 구매부터 너무 너무 멀어지면!\n",
    "    lamb_0 = lamb\n",
    "pred = (1-stats.poisson.pmf(mu = lamb, k=0))\n",
    "max =  (1-stats.poisson.pmf(mu = lamb_1, k=0))  # max\n",
    "min =  (1-stats.poisson.pmf(mu = lamb_0, k=0))  # min\n",
    "scal = (pred - min)/(max - min)\n",
    "\n",
    "print('pred : {}'.format(pred), ', max : {}'.format(max), ', min : {}'.format(min))\n",
    "print('scaling : {}'.format(scal))"
   ]
  },
  {
   "cell_type": "markdown",
   "metadata": {},
   "source": [
    "- #### (4)주기가 평균-0.5 주"
   ]
  },
  {
   "cell_type": "code",
   "execution_count": 211,
   "metadata": {},
   "outputs": [],
   "source": [
    "# 주기가 평균 - .5 주\n",
    "\n",
    "k, t_purch, tmean_u, t_ ,alpha, beta = 6, 1.6566*5 , 1.6566 , 1.6566-0.5 , 6.149540825318489, 60.4981854166467"
   ]
  },
  {
   "cell_type": "code",
   "execution_count": 212,
   "metadata": {},
   "outputs": [],
   "source": [
    "# 함수로 출력되는게 많게했어! & unit time을 1주일로 변경.\n",
    "\n",
    "def func_lamb(t_purch, tmean_u, t_ , alpha, beta, k):\n",
    "\n",
    "    if t_purch == 0:  # t_purch가 0이라는 소리는, k=1이라는 소리겠지! 그러니깐 앞의 값이 0이 되게끔 한거야.\n",
    "        lamb = (alpha/(2*abs(tmean_u-t_)+beta))\n",
    "        lamb_0 = (alpha/(2*abs(tmean_u)+beta))   # 최저값 : t=0\n",
    "        lamb_1 = (alpha/+beta)     # 최고값 : |tmean-t|=0\n",
    "    else:\n",
    "        lamb = (k/t_purch+(alpha/(2*abs(tmean_u-t_)+beta)))\n",
    "        lamb_0 = (k/t_purch+(alpha/(2*abs(tmean_u)+beta)))   # 최저값 : t=0  \n",
    "        lamb_1 = (k/t_purch+(alpha/+beta))     #최고값 : |tmean-t|=0\n",
    "    return lamb,lamb_0, lamb_1, t_, t_purch, tmean_u, k"
   ]
  },
  {
   "cell_type": "code",
   "execution_count": 213,
   "metadata": {},
   "outputs": [
    {
     "name": "stdout",
     "output_type": "stream",
     "text": [
      "0.8243707105210701 0.8207458158030775 0.8260235780156099\n"
     ]
    }
   ],
   "source": [
    "lamb, lamb_0, lamb_1, t_, t_purch, tmean_u, k = func_lamb(t_purch, tmean_u, t_ , alpha, beta, k)\n",
    "\n",
    "print(lamb, lamb_0, lamb_1)"
   ]
  },
  {
   "cell_type": "code",
   "execution_count": 214,
   "metadata": {
    "scrolled": false
   },
   "outputs": [
    {
     "name": "stdout",
     "output_type": "stream",
     "text": [
      "pred : 0.5614891440751109 , max : 0.5622133457452969 , min : 0.5598967039194349\n",
      "scaling : 0.687391610519427\n"
     ]
    }
   ],
   "source": [
    "       \n",
    "if lamb < lamb_0: # 일자별, 이런 경우가 있을수도 있어 - 마지막 구매부터 너무 너무 멀어지면!\n",
    "    lamb_0 = lamb\n",
    "pred = (1-stats.poisson.pmf(mu = lamb, k=0))\n",
    "max =  (1-stats.poisson.pmf(mu = lamb_1, k=0))  # max\n",
    "min =  (1-stats.poisson.pmf(mu = lamb_0, k=0))  # min\n",
    "scal = (pred - min)/(max - min)\n",
    "\n",
    "print('pred : {}'.format(pred), ', max : {}'.format(max), ', min : {}'.format(min))\n",
    "print('scaling : {}'.format(scal))"
   ]
  },
  {
   "cell_type": "markdown",
   "metadata": {},
   "source": [
    "---"
   ]
  },
  {
   "cell_type": "markdown",
   "metadata": {},
   "source": [
    "### #ver(1)으로"
   ]
  },
  {
   "cell_type": "markdown",
   "metadata": {},
   "source": [
    "* ####  (1)실장님 원래 주기 : 주기가 넘어갔을때"
   ]
  },
  {
   "cell_type": "code",
   "execution_count": 219,
   "metadata": {},
   "outputs": [],
   "source": [
    "# 실장님 원래 주기 : 주기가 넘어갔을때\n",
    "\n",
    "k, t_purch, tmean_u, t_ ,alpha, beta = 6, 1.6656*5 , 1.6566 , 1.6566+0.9 , 0.787390881, 0.230086438"
   ]
  },
  {
   "cell_type": "code",
   "execution_count": 220,
   "metadata": {},
   "outputs": [],
   "source": [
    "# 함수로 출력되는게 많게했어! & unit time을 1주일로 변경.\n",
    "\n",
    "def func_lamb(t_purch, tmean_u, t_ , alpha, beta, k):\n",
    "\n",
    "    if t_purch == 0:  # t_purch가 0이라는 소리는, k=1이라는 소리겠지! 그러니깐 앞의 값이 0이 되게끔 한거야.\n",
    "        lamb = (alpha/(2*abs(tmean_u-t_)+beta))\n",
    "        lamb_0 = (alpha/(2*abs(tmean_u)+beta))   # 최저값 : t=0\n",
    "        lamb_1 = (alpha/+beta)     # 최고값 : |tmean-t|=0\n",
    "    else:\n",
    "        lamb = (k/t_purch+(alpha/(2*abs(tmean_u-t_)+beta)))\n",
    "        lamb_0 = (k/t_purch+(alpha/(2*abs(tmean_u)+beta)))   # 최저값 : t=0  \n",
    "        lamb_1 = (k/t_purch+(alpha/+beta))     #최고값 : |tmean-t|=0\n",
    "    return lamb,lamb_0, lamb_1, t_, t_purch, tmean_u, k"
   ]
  },
  {
   "cell_type": "code",
   "execution_count": 221,
   "metadata": {},
   "outputs": [
    {
     "name": "stdout",
     "output_type": "stream",
     "text": [
      "1.1083218611555956 0.9426815942836632 4.142613603715909\n"
     ]
    }
   ],
   "source": [
    "lamb, lamb_0, lamb_1, t_, t_purch, tmean_u, k = func_lamb(t_purch, tmean_u, t_ , alpha, beta, k)\n",
    "\n",
    "print(lamb, lamb_0, lamb_1)"
   ]
  },
  {
   "cell_type": "code",
   "execution_count": 222,
   "metadata": {
    "scrolled": false
   },
   "outputs": [
    {
     "name": "stdout",
     "output_type": "stream",
     "text": [
      "pred : 0.6698875289272925 , max : 0.9841187101827994 , min : 0.6104182667741943\n",
      "scaling : 0.1591361830097546\n"
     ]
    }
   ],
   "source": [
    "       \n",
    "if lamb < lamb_0: # 일자별, 이런 경우가 있을수도 있어 - 마지막 구매부터 너무 너무 멀어지면!\n",
    "    lamb_0 = lamb\n",
    "pred = (1-stats.poisson.pmf(mu = lamb, k=0))\n",
    "max =  (1-stats.poisson.pmf(mu = lamb_1, k=0))  # max\n",
    "min =  (1-stats.poisson.pmf(mu = lamb_0, k=0))  # min\n",
    "scal = (pred - min)/(max - min)\n",
    "\n",
    "print('pred : {}'.format(pred), ', max : {}'.format(max), ', min : {}'.format(min))\n",
    "print('scaling : {}'.format(scal))"
   ]
  },
  {
   "cell_type": "markdown",
   "metadata": {},
   "source": [
    ": 일단, lambda의 값이 작기때문에, lambda 범위가 너무 좁아!!"
   ]
  },
  {
   "cell_type": "markdown",
   "metadata": {},
   "source": [
    "---"
   ]
  },
  {
   "cell_type": "markdown",
   "metadata": {},
   "source": [
    "- #### (2)주기가 평균일때"
   ]
  },
  {
   "cell_type": "code",
   "execution_count": 227,
   "metadata": {},
   "outputs": [],
   "source": [
    "# 주기가 평균일때\n",
    "\n",
    "k, t_purch, tmean_u, t_ ,alpha, beta = 6, 1.6656*5 , 1.6566 , 1.6566 , 0.787390881, 0.230086438"
   ]
  },
  {
   "cell_type": "code",
   "execution_count": 228,
   "metadata": {},
   "outputs": [],
   "source": [
    "# 함수로 출력되는게 많게했어! & unit time을 1주일로 변경.\n",
    "\n",
    "def func_lamb(t_purch, tmean_u, t_ , alpha, beta, k):\n",
    "\n",
    "    if t_purch == 0:  # t_purch가 0이라는 소리는, k=1이라는 소리겠지! 그러니깐 앞의 값이 0이 되게끔 한거야.\n",
    "        lamb = (alpha/(2*abs(tmean_u-t_)+beta))\n",
    "        lamb_0 = (alpha/(2*abs(tmean_u)+beta))   # 최저값 : t=0\n",
    "        lamb_1 = (alpha/+beta)     # 최고값 : |tmean-t|=0\n",
    "    else:\n",
    "        lamb = (k/t_purch+(alpha/(2*abs(tmean_u-t_)+beta)))\n",
    "        lamb_0 = (k/t_purch+(alpha/(2*abs(tmean_u)+beta)))   # 최저값 : t=0  \n",
    "        lamb_1 = (k/t_purch+(alpha/+beta))     #최고값 : |tmean-t|=0\n",
    "    return lamb,lamb_0, lamb_1, t_, t_purch, tmean_u, k"
   ]
  },
  {
   "cell_type": "code",
   "execution_count": 229,
   "metadata": {},
   "outputs": [
    {
     "name": "stdout",
     "output_type": "stream",
     "text": [
      "4.142613603715909 0.9426815942836632 4.142613603715909\n"
     ]
    }
   ],
   "source": [
    "lamb, lamb_0, lamb_1, t_, t_purch, tmean_u, k = func_lamb(t_purch, tmean_u, t_ , alpha, beta, k)\n",
    "\n",
    "print(lamb, lamb_0, lamb_1)"
   ]
  },
  {
   "cell_type": "code",
   "execution_count": 230,
   "metadata": {
    "scrolled": false
   },
   "outputs": [
    {
     "name": "stdout",
     "output_type": "stream",
     "text": [
      "pred : 0.9841187101827994 , max : 0.9841187101827994 , min : 0.6104182667741943\n",
      "scaling : 1.0\n"
     ]
    }
   ],
   "source": [
    "       \n",
    "if lamb < lamb_0: # 일자별, 이런 경우가 있을수도 있어 - 마지막 구매부터 너무 너무 멀어지면!\n",
    "    lamb_0 = lamb\n",
    "pred = (1-stats.poisson.pmf(mu = lamb, k=0))\n",
    "max =  (1-stats.poisson.pmf(mu = lamb_1, k=0))  # max\n",
    "min =  (1-stats.poisson.pmf(mu = lamb_0, k=0))  # min\n",
    "scal = (pred - min)/(max - min)\n",
    "\n",
    "print('pred : {}'.format(pred), ', max : {}'.format(max), ', min : {}'.format(min))\n",
    "print('scaling : {}'.format(scal))"
   ]
  },
  {
   "cell_type": "markdown",
   "metadata": {},
   "source": [
    "---"
   ]
  },
  {
   "cell_type": "markdown",
   "metadata": {},
   "source": [
    "- #### (3)주기가 '평균 - 1 주'"
   ]
  },
  {
   "cell_type": "code",
   "execution_count": 231,
   "metadata": {},
   "outputs": [],
   "source": [
    "# 주기가 평균 - 1 주\n",
    "\n",
    "k, t_purch, tmean_u, t_ ,alpha, beta = 6, 1.6656*5 , 1.6566 , 1.6566-1 , 0.787390881, 0.230086438"
   ]
  },
  {
   "cell_type": "code",
   "execution_count": 232,
   "metadata": {},
   "outputs": [],
   "source": [
    "# 함수로 출력되는게 많게했어! & unit time을 1주일로 변경.\n",
    "\n",
    "def func_lamb(t_purch, tmean_u, t_ , alpha, beta, k):\n",
    "\n",
    "    if t_purch == 0:  # t_purch가 0이라는 소리는, k=1이라는 소리겠지! 그러니깐 앞의 값이 0이 되게끔 한거야.\n",
    "        lamb = (alpha/(2*abs(tmean_u-t_)+beta))\n",
    "        lamb_0 = (alpha/(2*abs(tmean_u)+beta))   # 최저값 : t=0\n",
    "        lamb_1 = (alpha/+beta)     # 최고값 : |tmean-t|=0\n",
    "    else:\n",
    "        lamb = (k/t_purch+(alpha/(2*abs(tmean_u-t_)+beta)))\n",
    "        lamb_0 = (k/t_purch+(alpha/(2*abs(tmean_u)+beta)))   # 최저값 : t=0  \n",
    "        lamb_1 = (k/t_purch+(alpha/+beta))     #최고값 : |tmean-t|=0\n",
    "    return lamb,lamb_0, lamb_1, t_, t_purch, tmean_u, k"
   ]
  },
  {
   "cell_type": "code",
   "execution_count": 233,
   "metadata": {},
   "outputs": [
    {
     "name": "stdout",
     "output_type": "stream",
     "text": [
      "1.073537490519041 0.9426815942836632 4.142613603715909\n"
     ]
    }
   ],
   "source": [
    "lamb, lamb_0, lamb_1, t_, t_purch, tmean_u, k = func_lamb(t_purch, tmean_u, t_ , alpha, beta, k)\n",
    "\n",
    "print(lamb, lamb_0, lamb_1)"
   ]
  },
  {
   "cell_type": "code",
   "execution_count": 234,
   "metadata": {
    "scrolled": false
   },
   "outputs": [
    {
     "name": "stdout",
     "output_type": "stream",
     "text": [
      "pred : 0.6582027283113582 , max : 0.9841187101827994 , min : 0.6104182667741943\n",
      "scaling : 0.12786835654063222\n"
     ]
    }
   ],
   "source": [
    "       \n",
    "if lamb < lamb_0: # 일자별, 이런 경우가 있을수도 있어 - 마지막 구매부터 너무 너무 멀어지면!\n",
    "    lamb_0 = lamb\n",
    "pred = (1-stats.poisson.pmf(mu = lamb, k=0))\n",
    "max =  (1-stats.poisson.pmf(mu = lamb_1, k=0))  # max\n",
    "min =  (1-stats.poisson.pmf(mu = lamb_0, k=0))  # min\n",
    "scal = (pred - min)/(max - min)\n",
    "\n",
    "print('pred : {}'.format(pred), ', max : {}'.format(max), ', min : {}'.format(min))\n",
    "print('scaling : {}'.format(scal))"
   ]
  },
  {
   "cell_type": "markdown",
   "metadata": {},
   "source": [
    "---"
   ]
  },
  {
   "cell_type": "markdown",
   "metadata": {},
   "source": [
    "- #### (4)주기가 '평균 - 0.5 주'"
   ]
  },
  {
   "cell_type": "code",
   "execution_count": 235,
   "metadata": {},
   "outputs": [],
   "source": [
    "# 주기가 '평균 - 0.5 주'\n",
    "# mean :  5.12256603893284\n",
    "\n",
    "k, t_purch, tmean_u, t_ ,alpha, beta = 6, 1.6656*5 , 1.6566 , 1.6566-0.5 , 0.787390881, 0.230086438"
   ]
  },
  {
   "cell_type": "code",
   "execution_count": 236,
   "metadata": {},
   "outputs": [],
   "source": [
    "# 함수로 출력되는게 많게했어! & unit time을 1주일로 변경.\n",
    "\n",
    "def func_lamb(t_purch, tmean_u, t_ , alpha, beta, k):\n",
    "\n",
    "    if t_purch == 0:  # t_purch가 0이라는 소리는, k=1이라는 소리겠지! 그러니깐 앞의 값이 0이 되게끔 한거야.\n",
    "        lamb = (alpha/(2*abs(tmean_u-t_)+beta))\n",
    "        lamb_0 = (alpha/(2*abs(tmean_u)+beta))   # 최저값 : t=0\n",
    "        lamb_1 = (alpha/+beta)     # 최고값 : |tmean-t|=0\n",
    "    else:\n",
    "        lamb = (k/t_purch+(alpha/(2*abs(tmean_u-t_)+beta)))\n",
    "        lamb_0 = (k/t_purch+(alpha/(2*abs(tmean_u)+beta)))   # 최저값 : t=0  \n",
    "        lamb_1 = (k/t_purch+(alpha/+beta))     #최고값 : |tmean-t|=0\n",
    "    return lamb,lamb_0, lamb_1, t_, t_purch, tmean_u, k"
   ]
  },
  {
   "cell_type": "code",
   "execution_count": 237,
   "metadata": {},
   "outputs": [
    {
     "name": "stdout",
     "output_type": "stream",
     "text": [
      "1.3605712992912469 0.9426815942836632 4.142613603715909\n"
     ]
    }
   ],
   "source": [
    "lamb, lamb_0, lamb_1, t_, t_purch, tmean_u, k = func_lamb(t_purch, tmean_u, t_ , alpha, beta, k)\n",
    "\n",
    "print(lamb, lamb_0, lamb_1)"
   ]
  },
  {
   "cell_type": "code",
   "execution_count": 238,
   "metadata": {
    "scrolled": false
   },
   "outputs": [
    {
     "name": "stdout",
     "output_type": "stream",
     "text": [
      "pred : 0.7434858112895419 , max : 0.9841187101827994 , min : 0.6104182667741943\n",
      "scaling : 0.35608077769886726\n"
     ]
    }
   ],
   "source": [
    "       \n",
    "if lamb < lamb_0: # 일자별, 이런 경우가 있을수도 있어 - 마지막 구매부터 너무 너무 멀어지면!\n",
    "    lamb_0 = lamb\n",
    "pred = (1-stats.poisson.pmf(mu = lamb, k=0))\n",
    "max =  (1-stats.poisson.pmf(mu = lamb_1, k=0))  # max\n",
    "min =  (1-stats.poisson.pmf(mu = lamb_0, k=0))  # min\n",
    "scal = (pred - min)/(max - min)\n",
    "\n",
    "print('pred : {}'.format(pred), ', max : {}'.format(max), ', min : {}'.format(min))\n",
    "print('scaling : {}'.format(scal))"
   ]
  },
  {
   "cell_type": "markdown",
   "metadata": {},
   "source": [
    ": 딱 주기에서 1주일 정도만 노출되도록 보인다!"
   ]
  },
  {
   "cell_type": "code",
   "execution_count": null,
   "metadata": {},
   "outputs": [],
   "source": []
  },
  {
   "cell_type": "markdown",
   "metadata": {},
   "source": [
    "## # Step2-1. 논문 수식"
   ]
  },
  {
   "cell_type": "markdown",
   "metadata": {},
   "source": [
    "#### ver1.\n",
    "- #### (1)실장님 원래 주기"
   ]
  },
  {
   "cell_type": "code",
   "execution_count": 239,
   "metadata": {},
   "outputs": [],
   "source": [
    "# 주기가 '평균 - 0.5 주'\n",
    "# mean :  5.12256603893284\n",
    "\n",
    "k, t_purch, tmean_u, t_ ,alpha, beta = 6, 1.6656*5 , 1.6566 , 1.6566+0.9 , 0.787390881, 0.230086438"
   ]
  },
  {
   "cell_type": "code",
   "execution_count": 240,
   "metadata": {},
   "outputs": [],
   "source": [
    "# 함수로 출력되는게 많게했어! & unit time을 1주일로 변경.\n",
    "\n",
    "def func_lamb(t_purch, tmean_u, t_ , alpha, beta, k):\n",
    "    \n",
    "    lamb = ((k+alpha)/(t_purch+2*abs(tmean_u-t_)+beta))\n",
    "    lamb_0 = ((k+alpha)/(t_purch+2*abs(tmean_u)+beta))   # 최저값 : t=0  \n",
    "    lamb_1 = ((k+alpha)/(t_purch+beta))     #최고값 : |tmean-t|=0\n",
    "    \n",
    "    return lamb,lamb_0, lamb_1, t_, t_purch, tmean_u, k"
   ]
  },
  {
   "cell_type": "code",
   "execution_count": 241,
   "metadata": {},
   "outputs": [
    {
     "name": "stdout",
     "output_type": "stream",
     "text": [
      "0.6552745935870515 0.5717485561862575 0.7930967898223512\n"
     ]
    }
   ],
   "source": [
    "lamb, lamb_0, lamb_1, t_, t_purch, tmean_u, k = func_lamb(t_purch, tmean_u, t_ , alpha, beta, k)\n",
    "\n",
    "print(lamb, lamb_0, lamb_1)"
   ]
  },
  {
   "cell_type": "code",
   "execution_count": 242,
   "metadata": {
    "scrolled": false
   },
   "outputs": [
    {
     "name": "stdout",
     "output_type": "stream",
     "text": [
      "pred : 0.48070055329058425 , max : 0.547558492695165 , min : 0.4354625502759424\n",
      "scaling : 0.40356503579280584\n"
     ]
    }
   ],
   "source": [
    "       \n",
    "if lamb < lamb_0: # 일자별, 이런 경우가 있을수도 있어 - 마지막 구매부터 너무 너무 멀어지면!\n",
    "    lamb_0 = lamb\n",
    "pred = (1-stats.poisson.pmf(mu = lamb, k=0))\n",
    "max =  (1-stats.poisson.pmf(mu = lamb_1, k=0))  # max\n",
    "min =  (1-stats.poisson.pmf(mu = lamb_0, k=0))  # min\n",
    "scal = (pred - min)/(max - min)\n",
    "\n",
    "print('pred : {}'.format(pred), ', max : {}'.format(max), ', min : {}'.format(min))\n",
    "print('scaling : {}'.format(scal))"
   ]
  },
  {
   "cell_type": "markdown",
   "metadata": {},
   "source": [
    "---"
   ]
  },
  {
   "cell_type": "markdown",
   "metadata": {},
   "source": [
    "- #### (2)주기가 평균일때"
   ]
  },
  {
   "cell_type": "code",
   "execution_count": 243,
   "metadata": {},
   "outputs": [],
   "source": [
    "# 주기가 평균일때\n",
    "\n",
    "k, t_purch, tmean_u, t_ ,alpha, beta = 6, 1.6656*5 , 1.6566 , 1.6566 , 0.787390881, 0.230086438"
   ]
  },
  {
   "cell_type": "code",
   "execution_count": 244,
   "metadata": {},
   "outputs": [],
   "source": [
    "# 함수로 출력되는게 많게했어! & unit time을 1주일로 변경.\n",
    "\n",
    "def func_lamb(t_purch, tmean_u, t_ , alpha, beta, k):\n",
    "    \n",
    "    lamb = ((k+alpha)/(t_purch+2*abs(tmean_u-t_)+beta))\n",
    "    lamb_0 = ((k+alpha)/(t_purch+2*abs(tmean_u)+beta))   # 최저값 : t=0  \n",
    "    lamb_1 = ((k+alpha)/(t_purch+beta))     #최고값 : |tmean-t|=0\n",
    "    \n",
    "    return lamb,lamb_0, lamb_1, t_, t_purch, tmean_u, k"
   ]
  },
  {
   "cell_type": "code",
   "execution_count": 245,
   "metadata": {},
   "outputs": [
    {
     "name": "stdout",
     "output_type": "stream",
     "text": [
      "0.7930967898223512 0.5717485561862575 0.7930967898223512\n"
     ]
    }
   ],
   "source": [
    "lamb, lamb_0, lamb_1, t_, t_purch, tmean_u, k = func_lamb(t_purch, tmean_u, t_ , alpha, beta, k)\n",
    "\n",
    "print(lamb, lamb_0, lamb_1)"
   ]
  },
  {
   "cell_type": "code",
   "execution_count": 246,
   "metadata": {
    "scrolled": true
   },
   "outputs": [
    {
     "name": "stdout",
     "output_type": "stream",
     "text": [
      "pred : 0.547558492695165 , max : 0.547558492695165 , min : 0.4354625502759424\n",
      "scaling : 1.0\n"
     ]
    }
   ],
   "source": [
    "       \n",
    "if lamb < lamb_0: # 일자별, 이런 경우가 있을수도 있어 - 마지막 구매부터 너무 너무 멀어지면!\n",
    "    lamb_0 = lamb\n",
    "pred = (1-stats.poisson.pmf(mu = lamb, k=0))\n",
    "max =  (1-stats.poisson.pmf(mu = lamb_1, k=0))  # max\n",
    "min =  (1-stats.poisson.pmf(mu = lamb_0, k=0))  # min\n",
    "scal = (pred - min)/(max - min)\n",
    "\n",
    "print('pred : {}'.format(pred), ', max : {}'.format(max), ', min : {}'.format(min))\n",
    "print('scaling : {}'.format(scal))"
   ]
  },
  {
   "cell_type": "markdown",
   "metadata": {},
   "source": [
    "- #### (3)주기가 '평균 - 1 주'"
   ]
  },
  {
   "cell_type": "code",
   "execution_count": 247,
   "metadata": {},
   "outputs": [],
   "source": [
    "# 주기가 평균 - 1 주\n",
    "\n",
    "k, t_purch, tmean_u, t_ ,alpha, beta = 6, 1.6656*5 , 1.6566 , 1.6566-1 , 0.787390881, 0.230086438"
   ]
  },
  {
   "cell_type": "code",
   "execution_count": 248,
   "metadata": {},
   "outputs": [],
   "source": [
    "# 함수로 출력되는게 많게했어! & unit time을 1주일로 변경.\n",
    "\n",
    "def func_lamb(t_purch, tmean_u, t_ , alpha, beta, k):\n",
    "    \n",
    "    lamb = ((k+alpha)/(t_purch+2*abs(tmean_u-t_)+beta))\n",
    "    lamb_0 = ((k+alpha)/(t_purch+2*abs(tmean_u)+beta))   # 최저값 : t=0  \n",
    "    lamb_1 = ((k+alpha)/(t_purch+beta))     #최고값 : |tmean-t|=0\n",
    "    \n",
    "    return lamb,lamb_0, lamb_1, t_, t_purch, tmean_u, k"
   ]
  },
  {
   "cell_type": "code",
   "execution_count": 249,
   "metadata": {},
   "outputs": [
    {
     "name": "stdout",
     "output_type": "stream",
     "text": [
      "0.6428618406240026 0.5717485561862575 0.7930967898223512\n"
     ]
    }
   ],
   "source": [
    "lamb, lamb_0, lamb_1, t_, t_purch, tmean_u, k = func_lamb(t_purch, tmean_u, t_ , alpha, beta, k)\n",
    "\n",
    "print(lamb, lamb_0, lamb_1)"
   ]
  },
  {
   "cell_type": "code",
   "execution_count": 250,
   "metadata": {
    "scrolled": false
   },
   "outputs": [
    {
     "name": "stdout",
     "output_type": "stream",
     "text": [
      "pred : 0.4742144455979749 , max : 0.547558492695165 , min : 0.4354625502759424\n",
      "scaling : 0.34570292631205163\n"
     ]
    }
   ],
   "source": [
    "       \n",
    "if lamb < lamb_0: # 일자별, 이런 경우가 있을수도 있어 - 마지막 구매부터 너무 너무 멀어지면!\n",
    "    lamb_0 = lamb\n",
    "pred = (1-stats.poisson.pmf(mu = lamb, k=0))\n",
    "max =  (1-stats.poisson.pmf(mu = lamb_1, k=0))  # max\n",
    "min =  (1-stats.poisson.pmf(mu = lamb_0, k=0))  # min\n",
    "scal = (pred - min)/(max - min)\n",
    "\n",
    "print('pred : {}'.format(pred), ', max : {}'.format(max), ', min : {}'.format(min))\n",
    "print('scaling : {}'.format(scal))"
   ]
  },
  {
   "cell_type": "markdown",
   "metadata": {},
   "source": [
    "- #### (4)주기가 '평균 - 0.5 주'"
   ]
  },
  {
   "cell_type": "code",
   "execution_count": 251,
   "metadata": {},
   "outputs": [],
   "source": [
    "# 주기가 '평균 - 0.5 주'\n",
    "# mean :  5.12256603893284\n",
    "\n",
    "k, t_purch, tmean_u, t_ ,alpha, beta = 6, 1.6656*5 , 1.6566 , 1.6566-0.5 , 0.787390881, 0.230086438"
   ]
  },
  {
   "cell_type": "code",
   "execution_count": 252,
   "metadata": {},
   "outputs": [],
   "source": [
    "# 함수로 출력되는게 많게했어! & unit time을 1주일로 변경.\n",
    "\n",
    "def func_lamb(t_purch, tmean_u, t_ , alpha, beta, k):\n",
    "    \n",
    "    lamb = ((k+alpha)/(t_purch+2*abs(tmean_u-t_)+beta))\n",
    "    lamb_0 = ((k+alpha)/(t_purch+2*abs(tmean_u)+beta))   # 최저값 : t=0  \n",
    "    lamb_1 = ((k+alpha)/(t_purch+beta))     #최고값 : |tmean-t|=0\n",
    "    \n",
    "    return lamb,lamb_0, lamb_1, t_, t_purch, tmean_u, k"
   ]
  },
  {
   "cell_type": "code",
   "execution_count": 253,
   "metadata": {},
   "outputs": [
    {
     "name": "stdout",
     "output_type": "stream",
     "text": [
      "0.7101202657066826 0.5717485561862575 0.7930967898223512\n"
     ]
    }
   ],
   "source": [
    "lamb, lamb_0, lamb_1, t_, t_purch, tmean_u, k = func_lamb(t_purch, tmean_u, t_ , alpha, beta, k)\n",
    "\n",
    "print(lamb, lamb_0, lamb_1)"
   ]
  },
  {
   "cell_type": "code",
   "execution_count": 254,
   "metadata": {
    "scrolled": false
   },
   "outputs": [
    {
     "name": "stdout",
     "output_type": "stream",
     "text": [
      "pred : 0.50841492692049 , max : 0.547558492695165 , min : 0.4354625502759424\n",
      "scaling : 0.6508030091911465\n"
     ]
    }
   ],
   "source": [
    "       \n",
    "if lamb < lamb_0: # 일자별, 이런 경우가 있을수도 있어 - 마지막 구매부터 너무 너무 멀어지면!\n",
    "    lamb_0 = lamb\n",
    "pred = (1-stats.poisson.pmf(mu = lamb, k=0))\n",
    "max =  (1-stats.poisson.pmf(mu = lamb_1, k=0))  # max\n",
    "min =  (1-stats.poisson.pmf(mu = lamb_0, k=0))  # min\n",
    "scal = (pred - min)/(max - min)\n",
    "\n",
    "print('pred : {}'.format(pred), ', max : {}'.format(max), ', min : {}'.format(min))\n",
    "print('scaling : {}'.format(scal))"
   ]
  },
  {
   "cell_type": "markdown",
   "metadata": {},
   "source": [
    "---"
   ]
  },
  {
   "cell_type": "markdown",
   "metadata": {},
   "source": [
    "#### ver2.\n",
    "- #### (1)실장님 원래 주기"
   ]
  },
  {
   "cell_type": "code",
   "execution_count": 255,
   "metadata": {},
   "outputs": [],
   "source": [
    "# 주기가 '평균 - 0.5 주'\n",
    "# mean :  5.12256603893284\n",
    "\n",
    "k, t_purch, tmean_u, t_ ,alpha, beta = 6, 1.6566*5 , 1.6566 , 1.6566+0.9 , 6.149540825318489, 60.4981854166467"
   ]
  },
  {
   "cell_type": "code",
   "execution_count": 256,
   "metadata": {},
   "outputs": [],
   "source": [
    "# 함수로 출력되는게 많게했어! & unit time을 1주일로 변경.\n",
    "\n",
    "def func_lamb(t_purch, tmean_u, t_ , alpha, beta, k):\n",
    "    \n",
    "    lamb = ((k+alpha)/(t_purch+2*abs(tmean_u-t_)+beta))\n",
    "    lamb_0 = ((k+alpha)/(t_purch+2*abs(tmean_u)+beta))   # 최저값 : t=0  \n",
    "    lamb_1 = ((k+alpha)/(t_purch+beta))     #최고값 : |tmean-t|=0\n",
    "    \n",
    "    return lamb,lamb_0, lamb_1, t_, t_purch, tmean_u, k"
   ]
  },
  {
   "cell_type": "code",
   "execution_count": 257,
   "metadata": {},
   "outputs": [
    {
     "name": "stdout",
     "output_type": "stream",
     "text": [
      "0.17213568677826424 0.16852270471693545 0.1766404686357442\n"
     ]
    }
   ],
   "source": [
    "lamb, lamb_0, lamb_1, t_, t_purch, tmean_u, k = func_lamb(t_purch, tmean_u, t_ , alpha, beta, k)\n",
    "\n",
    "print(lamb, lamb_0, lamb_1)"
   ]
  },
  {
   "cell_type": "code",
   "execution_count": 258,
   "metadata": {
    "scrolled": false
   },
   "outputs": [
    {
     "name": "stdout",
     "output_type": "stream",
     "text": [
      "pred : 0.15813506452242554 , max : 0.1619189532147598 , min : 0.1550879202884483\n",
      "scaling : 0.44607371489022773\n"
     ]
    }
   ],
   "source": [
    "       \n",
    "if lamb < lamb_0: # 일자별, 이런 경우가 있을수도 있어 - 마지막 구매부터 너무 너무 멀어지면!\n",
    "    lamb_0 = lamb\n",
    "pred = (1-stats.poisson.pmf(mu = lamb, k=0))\n",
    "max =  (1-stats.poisson.pmf(mu = lamb_1, k=0))  # max\n",
    "min =  (1-stats.poisson.pmf(mu = lamb_0, k=0))  # min\n",
    "scal = (pred - min)/(max - min)\n",
    "\n",
    "print('pred : {}'.format(pred), ', max : {}'.format(max), ', min : {}'.format(min))\n",
    "print('scaling : {}'.format(scal))"
   ]
  },
  {
   "cell_type": "markdown",
   "metadata": {},
   "source": [
    "---"
   ]
  },
  {
   "cell_type": "markdown",
   "metadata": {},
   "source": [
    "- #### (2)주기가 평균일때"
   ]
  },
  {
   "cell_type": "code",
   "execution_count": 259,
   "metadata": {},
   "outputs": [],
   "source": [
    "# 주기가 평균일때\n",
    "\n",
    "k, t_purch, tmean_u, t_ ,alpha, beta = 6, 1.6566*5 , 1.6566 , 1.6566 , 6.149540825318489, 60.4981854166467"
   ]
  },
  {
   "cell_type": "code",
   "execution_count": 260,
   "metadata": {},
   "outputs": [],
   "source": [
    "# 함수로 출력되는게 많게했어! & unit time을 1주일로 변경.\n",
    "\n",
    "def func_lamb(t_purch, tmean_u, t_ , alpha, beta, k):\n",
    "    \n",
    "    lamb = ((k+alpha)/(t_purch+2*abs(tmean_u-t_)+beta))\n",
    "    lamb_0 = ((k+alpha)/(t_purch+2*abs(tmean_u)+beta))   # 최저값 : t=0  \n",
    "    lamb_1 = ((k+alpha)/(t_purch+beta))     #최고값 : |tmean-t|=0\n",
    "    \n",
    "    return lamb,lamb_0, lamb_1, t_, t_purch, tmean_u, k"
   ]
  },
  {
   "cell_type": "code",
   "execution_count": 261,
   "metadata": {},
   "outputs": [
    {
     "name": "stdout",
     "output_type": "stream",
     "text": [
      "0.1766404686357442 0.16852270471693545 0.1766404686357442\n"
     ]
    }
   ],
   "source": [
    "lamb, lamb_0, lamb_1, t_, t_purch, tmean_u, k = func_lamb(t_purch, tmean_u, t_ , alpha, beta, k)\n",
    "\n",
    "print(lamb, lamb_0, lamb_1)"
   ]
  },
  {
   "cell_type": "code",
   "execution_count": 262,
   "metadata": {
    "scrolled": true
   },
   "outputs": [
    {
     "name": "stdout",
     "output_type": "stream",
     "text": [
      "pred : 0.1619189532147598 , max : 0.1619189532147598 , min : 0.1550879202884483\n",
      "scaling : 1.0\n"
     ]
    }
   ],
   "source": [
    "       \n",
    "if lamb < lamb_0: # 일자별, 이런 경우가 있을수도 있어 - 마지막 구매부터 너무 너무 멀어지면!\n",
    "    lamb_0 = lamb\n",
    "pred = (1-stats.poisson.pmf(mu = lamb, k=0))\n",
    "max =  (1-stats.poisson.pmf(mu = lamb_1, k=0))  # max\n",
    "min =  (1-stats.poisson.pmf(mu = lamb_0, k=0))  # min\n",
    "scal = (pred - min)/(max - min)\n",
    "\n",
    "print('pred : {}'.format(pred), ', max : {}'.format(max), ', min : {}'.format(min))\n",
    "print('scaling : {}'.format(scal))"
   ]
  },
  {
   "cell_type": "markdown",
   "metadata": {},
   "source": [
    "- #### (3)주기가 '평균 - 1 주'"
   ]
  },
  {
   "cell_type": "code",
   "execution_count": 263,
   "metadata": {},
   "outputs": [],
   "source": [
    "# 주기가 평균 - 1 주\n",
    "\n",
    "k, t_purch, tmean_u, t_ ,alpha, beta = 6, 1.6566*5 , 1.6566 , 1.6566-1 , 6.149540825318489, 60.4981854166467"
   ]
  },
  {
   "cell_type": "code",
   "execution_count": 264,
   "metadata": {},
   "outputs": [],
   "source": [
    "# 함수로 출력되는게 많게했어! & unit time을 1주일로 변경.\n",
    "\n",
    "def func_lamb(t_purch, tmean_u, t_ , alpha, beta, k):\n",
    "    \n",
    "    lamb = ((k+alpha)/(t_purch+2*abs(tmean_u-t_)+beta))\n",
    "    lamb_0 = ((k+alpha)/(t_purch+2*abs(tmean_u)+beta))   # 최저값 : t=0  \n",
    "    lamb_1 = ((k+alpha)/(t_purch+beta))     #최고값 : |tmean-t|=0\n",
    "    \n",
    "    return lamb,lamb_0, lamb_1, t_, t_purch, tmean_u, k"
   ]
  },
  {
   "cell_type": "code",
   "execution_count": 265,
   "metadata": {},
   "outputs": [
    {
     "name": "stdout",
     "output_type": "stream",
     "text": [
      "0.17164929852193594 0.16852270471693545 0.1766404686357442\n"
     ]
    }
   ],
   "source": [
    "lamb, lamb_0, lamb_1, t_, t_purch, tmean_u, k = func_lamb(t_purch, tmean_u, t_ , alpha, beta, k)\n",
    "\n",
    "print(lamb, lamb_0, lamb_1)"
   ]
  },
  {
   "cell_type": "code",
   "execution_count": 266,
   "metadata": {
    "scrolled": false
   },
   "outputs": [
    {
     "name": "stdout",
     "output_type": "stream",
     "text": [
      "pred : 0.1577254917067653 , max : 0.1619189532147598 , min : 0.1550879202884483\n",
      "scaling : 0.3861160452261488\n"
     ]
    }
   ],
   "source": [
    "       \n",
    "if lamb < lamb_0: # 일자별, 이런 경우가 있을수도 있어 - 마지막 구매부터 너무 너무 멀어지면!\n",
    "    lamb_0 = lamb\n",
    "pred = (1-stats.poisson.pmf(mu = lamb, k=0))\n",
    "max =  (1-stats.poisson.pmf(mu = lamb_1, k=0))  # max\n",
    "min =  (1-stats.poisson.pmf(mu = lamb_0, k=0))  # min\n",
    "scal = (pred - min)/(max - min)\n",
    "\n",
    "print('pred : {}'.format(pred), ', max : {}'.format(max), ', min : {}'.format(min))\n",
    "print('scaling : {}'.format(scal))"
   ]
  },
  {
   "cell_type": "markdown",
   "metadata": {},
   "source": [
    "- #### (4)주기가 '평균 - 0.5 주'"
   ]
  },
  {
   "cell_type": "code",
   "execution_count": 267,
   "metadata": {},
   "outputs": [],
   "source": [
    "# 주기가 '평균 - 0.5 주'\n",
    "# mean :  5.12256603893284\n",
    "\n",
    "k, t_purch, tmean_u, t_ ,alpha, beta = 6, 1.6566*5 , 1.6566 , 1.6566-0.5 , 6.149540825318489, 60.4981854166467"
   ]
  },
  {
   "cell_type": "code",
   "execution_count": 268,
   "metadata": {},
   "outputs": [],
   "source": [
    "# 함수로 출력되는게 많게했어! & unit time을 1주일로 변경.\n",
    "\n",
    "def func_lamb(t_purch, tmean_u, t_ , alpha, beta, k):\n",
    "    \n",
    "    lamb = ((k+alpha)/(t_purch+2*abs(tmean_u-t_)+beta))\n",
    "    lamb_0 = ((k+alpha)/(t_purch+2*abs(tmean_u)+beta))   # 최저값 : t=0  \n",
    "    lamb_1 = ((k+alpha)/(t_purch+beta))     #최고값 : |tmean-t|=0\n",
    "    \n",
    "    return lamb,lamb_0, lamb_1, t_, t_purch, tmean_u, k"
   ]
  },
  {
   "cell_type": "code",
   "execution_count": 269,
   "metadata": {},
   "outputs": [
    {
     "name": "stdout",
     "output_type": "stream",
     "text": [
      "0.1741091205713474 0.16852270471693545 0.1766404686357442\n"
     ]
    }
   ],
   "source": [
    "lamb, lamb_0, lamb_1, t_, t_purch, tmean_u, k = func_lamb(t_purch, tmean_u, t_ , alpha, beta, k)\n",
    "\n",
    "print(lamb, lamb_0, lamb_1)"
   ]
  },
  {
   "cell_type": "code",
   "execution_count": 270,
   "metadata": {
    "scrolled": false
   },
   "outputs": [
    {
     "name": "stdout",
     "output_type": "stream",
     "text": [
      "pred : 0.1597947910164912 , max : 0.1619189532147598 , min : 0.1550879202884483\n",
      "scaling : 0.6890423130465599\n"
     ]
    }
   ],
   "source": [
    "       \n",
    "if lamb < lamb_0: # 일자별, 이런 경우가 있을수도 있어 - 마지막 구매부터 너무 너무 멀어지면!\n",
    "    lamb_0 = lamb\n",
    "pred = (1-stats.poisson.pmf(mu = lamb, k=0))\n",
    "max =  (1-stats.poisson.pmf(mu = lamb_1, k=0))  # max\n",
    "min =  (1-stats.poisson.pmf(mu = lamb_0, k=0))  # min\n",
    "scal = (pred - min)/(max - min)\n",
    "\n",
    "print('pred : {}'.format(pred), ', max : {}'.format(max), ', min : {}'.format(min))\n",
    "print('scaling : {}'.format(scal))"
   ]
  },
  {
   "cell_type": "code",
   "execution_count": null,
   "metadata": {},
   "outputs": [],
   "source": []
  }
 ],
 "metadata": {
  "kernelspec": {
   "display_name": "Python [default]",
   "language": "python",
   "name": "python3"
  },
  "language_info": {
   "codemirror_mode": {
    "name": "ipython",
    "version": 3
   },
   "file_extension": ".py",
   "mimetype": "text/x-python",
   "name": "python",
   "nbconvert_exporter": "python",
   "pygments_lexer": "ipython3",
   "version": "3.6.6"
  }
 },
 "nbformat": 4,
 "nbformat_minor": 2
}
