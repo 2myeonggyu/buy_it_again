{
 "cells": [
  {
   "cell_type": "markdown",
   "metadata": {},
   "source": [
    "### # 241,010,102       : 기저귀"
   ]
  },
  {
   "cell_type": "code",
   "execution_count": 5,
   "metadata": {},
   "outputs": [],
   "source": [
    "import pandas as pd\n",
    "import numpy as np\n",
    "import matplotlib.pyplot as plt\n",
    "import random\n",
    "import scipy.stats as stats\n",
    "import seaborn as sns"
   ]
  },
  {
   "cell_type": "code",
   "execution_count": 6,
   "metadata": {},
   "outputs": [
    {
     "data": {
      "text/plain": [
       "'/Users/we/Downloads/업무/buy it again_분석 '"
      ]
     },
     "execution_count": 6,
     "metadata": {},
     "output_type": "execute_result"
    }
   ],
   "source": [
    "import os\n",
    "os.getcwd()"
   ]
  },
  {
   "cell_type": "markdown",
   "metadata": {},
   "source": [
    "./chunk/"
   ]
  },
  {
   "cell_type": "markdown",
   "metadata": {},
   "source": [
    "---"
   ]
  },
  {
   "cell_type": "code",
   "execution_count": 7,
   "metadata": {},
   "outputs": [],
   "source": [
    "diaper_train = pd.read_excel('diaper_train.xlsx')\n",
    "diaper_test = pd.read_excel('diaper_test.xlsx')"
   ]
  },
  {
   "cell_type": "code",
   "execution_count": 8,
   "metadata": {},
   "outputs": [
    {
     "data": {
      "text/html": [
       "<div>\n",
       "<style scoped>\n",
       "    .dataframe tbody tr th:only-of-type {\n",
       "        vertical-align: middle;\n",
       "    }\n",
       "\n",
       "    .dataframe tbody tr th {\n",
       "        vertical-align: top;\n",
       "    }\n",
       "\n",
       "    .dataframe thead th {\n",
       "        text-align: right;\n",
       "    }\n",
       "</style>\n",
       "<table border=\"1\" class=\"dataframe\">\n",
       "  <thead>\n",
       "    <tr style=\"text-align: right;\">\n",
       "      <th></th>\n",
       "      <th>Unnamed: 0</th>\n",
       "      <th>biz_dt</th>\n",
       "      <th>m_id</th>\n",
       "      <th>order_price</th>\n",
       "      <th>prod_no</th>\n",
       "      <th>old_admin_category_id</th>\n",
       "      <th>serv_cd</th>\n",
       "    </tr>\n",
       "  </thead>\n",
       "  <tbody>\n",
       "    <tr>\n",
       "      <th>105</th>\n",
       "      <td>105</td>\n",
       "      <td>2018-01-01 00:00:26</td>\n",
       "      <td>6,200,018</td>\n",
       "      <td>34,900</td>\n",
       "      <td>1,472,659</td>\n",
       "      <td>241,010,102</td>\n",
       "      <td>1</td>\n",
       "    </tr>\n",
       "    <tr>\n",
       "      <th>212</th>\n",
       "      <td>212</td>\n",
       "      <td>2018-01-01 00:00:52</td>\n",
       "      <td>2,683,481</td>\n",
       "      <td>32,000</td>\n",
       "      <td>1,597,856</td>\n",
       "      <td>241,010,102</td>\n",
       "      <td>1</td>\n",
       "    </tr>\n",
       "    <tr>\n",
       "      <th>2357</th>\n",
       "      <td>2357</td>\n",
       "      <td>2018-01-01 00:03:47</td>\n",
       "      <td>3,579,286</td>\n",
       "      <td>104,700</td>\n",
       "      <td>1,766,436</td>\n",
       "      <td>241,010,102</td>\n",
       "      <td>1</td>\n",
       "    </tr>\n",
       "  </tbody>\n",
       "</table>\n",
       "</div>"
      ],
      "text/plain": [
       "      Unnamed: 0              biz_dt       m_id order_price    prod_no  \\\n",
       "105          105 2018-01-01 00:00:26  6,200,018      34,900  1,472,659   \n",
       "212          212 2018-01-01 00:00:52  2,683,481      32,000  1,597,856   \n",
       "2357        2357 2018-01-01 00:03:47  3,579,286     104,700  1,766,436   \n",
       "\n",
       "     old_admin_category_id  serv_cd  \n",
       "105            241,010,102        1  \n",
       "212            241,010,102        1  \n",
       "2357           241,010,102        1  "
      ]
     },
     "execution_count": 8,
     "metadata": {},
     "output_type": "execute_result"
    }
   ],
   "source": [
    "diaper_train.head(3)"
   ]
  },
  {
   "cell_type": "code",
   "execution_count": 9,
   "metadata": {},
   "outputs": [
    {
     "data": {
      "text/plain": [
       "212550"
      ]
     },
     "execution_count": 9,
     "metadata": {},
     "output_type": "execute_result"
    }
   ],
   "source": [
    "diaper_train.m_id.nunique()   # 약 20만명(31~32주 동안)"
   ]
  },
  {
   "cell_type": "code",
   "execution_count": 10,
   "metadata": {},
   "outputs": [],
   "source": [
    "train_mid = diaper_train.m_id.unique()"
   ]
  },
  {
   "cell_type": "code",
   "execution_count": 11,
   "metadata": {},
   "outputs": [
    {
     "data": {
      "text/html": [
       "<div>\n",
       "<style scoped>\n",
       "    .dataframe tbody tr th:only-of-type {\n",
       "        vertical-align: middle;\n",
       "    }\n",
       "\n",
       "    .dataframe tbody tr th {\n",
       "        vertical-align: top;\n",
       "    }\n",
       "\n",
       "    .dataframe thead th {\n",
       "        text-align: right;\n",
       "    }\n",
       "</style>\n",
       "<table border=\"1\" class=\"dataframe\">\n",
       "  <thead>\n",
       "    <tr style=\"text-align: right;\">\n",
       "      <th></th>\n",
       "      <th>Unnamed: 0</th>\n",
       "      <th>biz_dt</th>\n",
       "      <th>m_id</th>\n",
       "      <th>order_price</th>\n",
       "      <th>prod_no</th>\n",
       "      <th>old_admin_category_id</th>\n",
       "      <th>serv_cd</th>\n",
       "    </tr>\n",
       "  </thead>\n",
       "  <tbody>\n",
       "    <tr>\n",
       "      <th>105</th>\n",
       "      <td>105</td>\n",
       "      <td>2018-01-01 00:00:26</td>\n",
       "      <td>6,200,018</td>\n",
       "      <td>34,900</td>\n",
       "      <td>1,472,659</td>\n",
       "      <td>241,010,102</td>\n",
       "      <td>1</td>\n",
       "    </tr>\n",
       "    <tr>\n",
       "      <th>3125</th>\n",
       "      <td>3125</td>\n",
       "      <td>2018-01-01 00:04:27</td>\n",
       "      <td>6,200,018</td>\n",
       "      <td>34,900</td>\n",
       "      <td>1,472,659</td>\n",
       "      <td>241,010,102</td>\n",
       "      <td>1</td>\n",
       "    </tr>\n",
       "    <tr>\n",
       "      <th>732522</th>\n",
       "      <td>10732522</td>\n",
       "      <td>2018-01-24 09:44:17</td>\n",
       "      <td>6,200,018</td>\n",
       "      <td>15,800</td>\n",
       "      <td>3,201,607</td>\n",
       "      <td>241,010,102</td>\n",
       "      <td>1</td>\n",
       "    </tr>\n",
       "  </tbody>\n",
       "</table>\n",
       "</div>"
      ],
      "text/plain": [
       "        Unnamed: 0              biz_dt       m_id order_price    prod_no  \\\n",
       "105            105 2018-01-01 00:00:26  6,200,018      34,900  1,472,659   \n",
       "3125          3125 2018-01-01 00:04:27  6,200,018      34,900  1,472,659   \n",
       "732522    10732522 2018-01-24 09:44:17  6,200,018      15,800  3,201,607   \n",
       "\n",
       "       old_admin_category_id  serv_cd  \n",
       "105              241,010,102        1  \n",
       "3125             241,010,102        1  \n",
       "732522           241,010,102        1  "
      ]
     },
     "execution_count": 11,
     "metadata": {},
     "output_type": "execute_result"
    }
   ],
   "source": [
    "diaper_train[diaper_train.m_id == train_mid[0]]"
   ]
  },
  {
   "cell_type": "markdown",
   "metadata": {},
   "source": [
    "---"
   ]
  },
  {
   "cell_type": "markdown",
   "metadata": {},
   "source": [
    "## # 날짜 주기별로 빼오기!"
   ]
  },
  {
   "cell_type": "code",
   "execution_count": 12,
   "metadata": {},
   "outputs": [],
   "source": [
    "d = pd.date_range(start='2018-01-01', end='2018-07-31', freq='W-MON').tolist()"
   ]
  },
  {
   "cell_type": "code",
   "execution_count": 13,
   "metadata": {},
   "outputs": [
    {
     "data": {
      "text/plain": [
       "31"
      ]
     },
     "execution_count": 13,
     "metadata": {},
     "output_type": "execute_result"
    }
   ],
   "source": [
    "len(d)"
   ]
  },
  {
   "cell_type": "code",
   "execution_count": 14,
   "metadata": {},
   "outputs": [
    {
     "data": {
      "text/plain": [
       "(Timestamp('2018-01-01 00:00:00', freq='W-MON'),\n",
       " Timestamp('2018-07-30 00:00:00', freq='W-MON'))"
      ]
     },
     "execution_count": 14,
     "metadata": {},
     "output_type": "execute_result"
    }
   ],
   "source": [
    "d[0], d[-1]"
   ]
  },
  {
   "cell_type": "code",
   "execution_count": 15,
   "metadata": {},
   "outputs": [],
   "source": [
    "# 일주일마다\n",
    "\n",
    "g = []\n",
    "\n",
    "for i in range(1, len(d)):\n",
    "    g.append( diaper_train[ (d[i-1] <= diaper_train.biz_dt) & (diaper_train.biz_dt < d[i]) ].shape[0] )\n",
    "    "
   ]
  },
  {
   "cell_type": "code",
   "execution_count": 16,
   "metadata": {},
   "outputs": [
    {
     "data": {
      "text/plain": [
       "13938"
      ]
     },
     "execution_count": 16,
     "metadata": {},
     "output_type": "execute_result"
    }
   ],
   "source": [
    "g[0]"
   ]
  },
  {
   "cell_type": "code",
   "execution_count": 17,
   "metadata": {
    "scrolled": true
   },
   "outputs": [
    {
     "data": {
      "text/plain": [
       "[13938,\n",
       " 14122,\n",
       " 12429,\n",
       " 13259,\n",
       " 17647,\n",
       " 14545,\n",
       " 6482,\n",
       " 13757,\n",
       " 19685,\n",
       " 20764,\n",
       " 13700,\n",
       " 14967,\n",
       " 13872,\n",
       " 20382,\n",
       " 14816,\n",
       " 17209,\n",
       " 19829,\n",
       " 14044,\n",
       " 17084,\n",
       " 22660,\n",
       " 25746,\n",
       " 16539,\n",
       " 25188,\n",
       " 16471,\n",
       " 28856,\n",
       " 17786,\n",
       " 19566,\n",
       " 18726,\n",
       " 28739,\n",
       " 23397]"
      ]
     },
     "execution_count": 17,
     "metadata": {},
     "output_type": "execute_result"
    }
   ],
   "source": [
    "g"
   ]
  },
  {
   "cell_type": "code",
   "execution_count": 18,
   "metadata": {},
   "outputs": [],
   "source": [
    "g =pd.DataFrame(g)"
   ]
  },
  {
   "cell_type": "code",
   "execution_count": 19,
   "metadata": {
    "scrolled": true
   },
   "outputs": [
    {
     "data": {
      "text/plain": [
       "array([[<matplotlib.axes._subplots.AxesSubplot object at 0x1a0ce9b5c0>]],\n",
       "      dtype=object)"
      ]
     },
     "execution_count": 19,
     "metadata": {},
     "output_type": "execute_result"
    },
    {
     "data": {
      "image/png": "[encoded data removed]",
      "text/plain": [
       "<Figure size 432x288 with 1 Axes>"
      ]
     },
     "metadata": {
      "needs_background": "light"
     },
     "output_type": "display_data"
    }
   ],
   "source": [
    "g.hist(bins=13)"
   ]
  },
  {
   "cell_type": "code",
   "execution_count": 20,
   "metadata": {},
   "outputs": [
    {
     "data": {
      "text/plain": [
       "0    536205\n",
       "dtype: int64"
      ]
     },
     "execution_count": 20,
     "metadata": {},
     "output_type": "execute_result"
    }
   ],
   "source": [
    "g.sum()"
   ]
  },
  {
   "cell_type": "code",
   "execution_count": 21,
   "metadata": {},
   "outputs": [],
   "source": [
    "# user당 1주일 구매 수\n",
    "\n",
    "gg = g/diaper_train.m_id.nunique()"
   ]
  },
  {
   "cell_type": "code",
   "execution_count": 22,
   "metadata": {},
   "outputs": [
    {
     "data": {
      "text/html": [
       "<div>\n",
       "<style scoped>\n",
       "    .dataframe tbody tr th:only-of-type {\n",
       "        vertical-align: middle;\n",
       "    }\n",
       "\n",
       "    .dataframe tbody tr th {\n",
       "        vertical-align: top;\n",
       "    }\n",
       "\n",
       "    .dataframe thead th {\n",
       "        text-align: right;\n",
       "    }\n",
       "</style>\n",
       "<table border=\"1\" class=\"dataframe\">\n",
       "  <thead>\n",
       "    <tr style=\"text-align: right;\">\n",
       "      <th></th>\n",
       "      <th>0</th>\n",
       "    </tr>\n",
       "  </thead>\n",
       "  <tbody>\n",
       "    <tr>\n",
       "      <th>0</th>\n",
       "      <td>0.065575</td>\n",
       "    </tr>\n",
       "    <tr>\n",
       "      <th>1</th>\n",
       "      <td>0.066441</td>\n",
       "    </tr>\n",
       "    <tr>\n",
       "      <th>2</th>\n",
       "      <td>0.058476</td>\n",
       "    </tr>\n",
       "    <tr>\n",
       "      <th>3</th>\n",
       "      <td>0.062381</td>\n",
       "    </tr>\n",
       "    <tr>\n",
       "      <th>4</th>\n",
       "      <td>0.083025</td>\n",
       "    </tr>\n",
       "    <tr>\n",
       "      <th>5</th>\n",
       "      <td>0.068431</td>\n",
       "    </tr>\n",
       "    <tr>\n",
       "      <th>6</th>\n",
       "      <td>0.030496</td>\n",
       "    </tr>\n",
       "    <tr>\n",
       "      <th>7</th>\n",
       "      <td>0.064724</td>\n",
       "    </tr>\n",
       "    <tr>\n",
       "      <th>8</th>\n",
       "      <td>0.092614</td>\n",
       "    </tr>\n",
       "    <tr>\n",
       "      <th>9</th>\n",
       "      <td>0.097690</td>\n",
       "    </tr>\n",
       "  </tbody>\n",
       "</table>\n",
       "</div>"
      ],
      "text/plain": [
       "          0\n",
       "0  0.065575\n",
       "1  0.066441\n",
       "2  0.058476\n",
       "3  0.062381\n",
       "4  0.083025\n",
       "5  0.068431\n",
       "6  0.030496\n",
       "7  0.064724\n",
       "8  0.092614\n",
       "9  0.097690"
      ]
     },
     "execution_count": 22,
     "metadata": {},
     "output_type": "execute_result"
    }
   ],
   "source": [
    "gg.head(10)"
   ]
  },
  {
   "cell_type": "code",
   "execution_count": 23,
   "metadata": {},
   "outputs": [
    {
     "data": {
      "text/plain": [
       "0    0.084091\n",
       "dtype: float64"
      ]
     },
     "execution_count": 23,
     "metadata": {},
     "output_type": "execute_result"
    }
   ],
   "source": [
    "gg.mean()"
   ]
  },
  {
   "cell_type": "code",
   "execution_count": 24,
   "metadata": {},
   "outputs": [
    {
     "data": {
      "text/plain": [
       "0    11.891907\n",
       "dtype: float64"
      ]
     },
     "execution_count": 24,
     "metadata": {},
     "output_type": "execute_result"
    }
   ],
   "source": [
    "# 그럼 평균 몇주일에 한번 살까?   - 11주라고? 말도안돼\n",
    "\n",
    "1/gg.mean()"
   ]
  },
  {
   "cell_type": "code",
   "execution_count": 25,
   "metadata": {},
   "outputs": [
    {
     "data": {
      "text/plain": [
       "array([[<matplotlib.axes._subplots.AxesSubplot object at 0x1a0d83a4e0>]],\n",
       "      dtype=object)"
      ]
     },
     "execution_count": 25,
     "metadata": {},
     "output_type": "execute_result"
    },
    {
     "data": {
      "image/png": "[encoded data removed]",
      "text/plain": [
       "<Figure size 432x288 with 1 Axes>"
      ]
     },
     "metadata": {
      "needs_background": "light"
     },
     "output_type": "display_data"
    }
   ],
   "source": [
    "gg.hist()"
   ]
  },
  {
   "cell_type": "markdown",
   "metadata": {},
   "source": [
    "---"
   ]
  },
  {
   "cell_type": "code",
   "execution_count": 1,
   "metadata": {},
   "outputs": [],
   "source": [
    "xxxx = [1,2,3,4]"
   ]
  },
  {
   "cell_type": "code",
   "execution_count": 3,
   "metadata": {},
   "outputs": [
    {
     "name": "stdout",
     "output_type": "stream",
     "text": [
      "0\n",
      "1\n",
      "2\n",
      "3\n"
     ]
    }
   ],
   "source": [
    "for i in range(len(xxxx)):\n",
    "    print(i)"
   ]
  },
  {
   "cell_type": "code",
   "execution_count": 26,
   "metadata": {},
   "outputs": [],
   "source": [
    "# 7월 31일까지 하루씩!\n",
    "\n",
    "dd = pd.date_range(start='2018-01-01', end='2018-08-01')"
   ]
  },
  {
   "cell_type": "code",
   "execution_count": 27,
   "metadata": {
    "scrolled": true
   },
   "outputs": [],
   "source": [
    "dd = dd.tolist()"
   ]
  },
  {
   "cell_type": "code",
   "execution_count": 28,
   "metadata": {},
   "outputs": [
    {
     "data": {
      "text/plain": [
       "[Timestamp('2018-01-01 00:00:00', freq='D'),\n",
       " Timestamp('2018-01-02 00:00:00', freq='D'),\n",
       " Timestamp('2018-01-03 00:00:00', freq='D'),\n",
       " Timestamp('2018-01-04 00:00:00', freq='D'),\n",
       " Timestamp('2018-01-05 00:00:00', freq='D'),\n",
       " Timestamp('2018-01-06 00:00:00', freq='D'),\n",
       " Timestamp('2018-01-07 00:00:00', freq='D'),\n",
       " Timestamp('2018-01-08 00:00:00', freq='D'),\n",
       " Timestamp('2018-01-09 00:00:00', freq='D'),\n",
       " Timestamp('2018-01-10 00:00:00', freq='D'),\n",
       " Timestamp('2018-01-11 00:00:00', freq='D'),\n",
       " Timestamp('2018-01-12 00:00:00', freq='D'),\n",
       " Timestamp('2018-01-13 00:00:00', freq='D'),\n",
       " Timestamp('2018-01-14 00:00:00', freq='D'),\n",
       " Timestamp('2018-01-15 00:00:00', freq='D'),\n",
       " Timestamp('2018-01-16 00:00:00', freq='D'),\n",
       " Timestamp('2018-01-17 00:00:00', freq='D'),\n",
       " Timestamp('2018-01-18 00:00:00', freq='D'),\n",
       " Timestamp('2018-01-19 00:00:00', freq='D'),\n",
       " Timestamp('2018-01-20 00:00:00', freq='D'),\n",
       " Timestamp('2018-01-21 00:00:00', freq='D'),\n",
       " Timestamp('2018-01-22 00:00:00', freq='D'),\n",
       " Timestamp('2018-01-23 00:00:00', freq='D'),\n",
       " Timestamp('2018-01-24 00:00:00', freq='D'),\n",
       " Timestamp('2018-01-25 00:00:00', freq='D'),\n",
       " Timestamp('2018-01-26 00:00:00', freq='D'),\n",
       " Timestamp('2018-01-27 00:00:00', freq='D'),\n",
       " Timestamp('2018-01-28 00:00:00', freq='D'),\n",
       " Timestamp('2018-01-29 00:00:00', freq='D'),\n",
       " Timestamp('2018-01-30 00:00:00', freq='D'),\n",
       " Timestamp('2018-01-31 00:00:00', freq='D'),\n",
       " Timestamp('2018-02-01 00:00:00', freq='D'),\n",
       " Timestamp('2018-02-02 00:00:00', freq='D'),\n",
       " Timestamp('2018-02-03 00:00:00', freq='D'),\n",
       " Timestamp('2018-02-04 00:00:00', freq='D'),\n",
       " Timestamp('2018-02-05 00:00:00', freq='D'),\n",
       " Timestamp('2018-02-06 00:00:00', freq='D'),\n",
       " Timestamp('2018-02-07 00:00:00', freq='D'),\n",
       " Timestamp('2018-02-08 00:00:00', freq='D'),\n",
       " Timestamp('2018-02-09 00:00:00', freq='D'),\n",
       " Timestamp('2018-02-10 00:00:00', freq='D'),\n",
       " Timestamp('2018-02-11 00:00:00', freq='D'),\n",
       " Timestamp('2018-02-12 00:00:00', freq='D'),\n",
       " Timestamp('2018-02-13 00:00:00', freq='D'),\n",
       " Timestamp('2018-02-14 00:00:00', freq='D'),\n",
       " Timestamp('2018-02-15 00:00:00', freq='D'),\n",
       " Timestamp('2018-02-16 00:00:00', freq='D'),\n",
       " Timestamp('2018-02-17 00:00:00', freq='D'),\n",
       " Timestamp('2018-02-18 00:00:00', freq='D'),\n",
       " Timestamp('2018-02-19 00:00:00', freq='D'),\n",
       " Timestamp('2018-02-20 00:00:00', freq='D'),\n",
       " Timestamp('2018-02-21 00:00:00', freq='D'),\n",
       " Timestamp('2018-02-22 00:00:00', freq='D'),\n",
       " Timestamp('2018-02-23 00:00:00', freq='D'),\n",
       " Timestamp('2018-02-24 00:00:00', freq='D'),\n",
       " Timestamp('2018-02-25 00:00:00', freq='D'),\n",
       " Timestamp('2018-02-26 00:00:00', freq='D'),\n",
       " Timestamp('2018-02-27 00:00:00', freq='D'),\n",
       " Timestamp('2018-02-28 00:00:00', freq='D'),\n",
       " Timestamp('2018-03-01 00:00:00', freq='D'),\n",
       " Timestamp('2018-03-02 00:00:00', freq='D'),\n",
       " Timestamp('2018-03-03 00:00:00', freq='D'),\n",
       " Timestamp('2018-03-04 00:00:00', freq='D'),\n",
       " Timestamp('2018-03-05 00:00:00', freq='D'),\n",
       " Timestamp('2018-03-06 00:00:00', freq='D'),\n",
       " Timestamp('2018-03-07 00:00:00', freq='D'),\n",
       " Timestamp('2018-03-08 00:00:00', freq='D'),\n",
       " Timestamp('2018-03-09 00:00:00', freq='D'),\n",
       " Timestamp('2018-03-10 00:00:00', freq='D'),\n",
       " Timestamp('2018-03-11 00:00:00', freq='D'),\n",
       " Timestamp('2018-03-12 00:00:00', freq='D'),\n",
       " Timestamp('2018-03-13 00:00:00', freq='D'),\n",
       " Timestamp('2018-03-14 00:00:00', freq='D'),\n",
       " Timestamp('2018-03-15 00:00:00', freq='D'),\n",
       " Timestamp('2018-03-16 00:00:00', freq='D'),\n",
       " Timestamp('2018-03-17 00:00:00', freq='D'),\n",
       " Timestamp('2018-03-18 00:00:00', freq='D'),\n",
       " Timestamp('2018-03-19 00:00:00', freq='D'),\n",
       " Timestamp('2018-03-20 00:00:00', freq='D'),\n",
       " Timestamp('2018-03-21 00:00:00', freq='D'),\n",
       " Timestamp('2018-03-22 00:00:00', freq='D'),\n",
       " Timestamp('2018-03-23 00:00:00', freq='D'),\n",
       " Timestamp('2018-03-24 00:00:00', freq='D'),\n",
       " Timestamp('2018-03-25 00:00:00', freq='D'),\n",
       " Timestamp('2018-03-26 00:00:00', freq='D'),\n",
       " Timestamp('2018-03-27 00:00:00', freq='D'),\n",
       " Timestamp('2018-03-28 00:00:00', freq='D'),\n",
       " Timestamp('2018-03-29 00:00:00', freq='D'),\n",
       " Timestamp('2018-03-30 00:00:00', freq='D'),\n",
       " Timestamp('2018-03-31 00:00:00', freq='D'),\n",
       " Timestamp('2018-04-01 00:00:00', freq='D'),\n",
       " Timestamp('2018-04-02 00:00:00', freq='D'),\n",
       " Timestamp('2018-04-03 00:00:00', freq='D'),\n",
       " Timestamp('2018-04-04 00:00:00', freq='D'),\n",
       " Timestamp('2018-04-05 00:00:00', freq='D'),\n",
       " Timestamp('2018-04-06 00:00:00', freq='D'),\n",
       " Timestamp('2018-04-07 00:00:00', freq='D'),\n",
       " Timestamp('2018-04-08 00:00:00', freq='D'),\n",
       " Timestamp('2018-04-09 00:00:00', freq='D'),\n",
       " Timestamp('2018-04-10 00:00:00', freq='D'),\n",
       " Timestamp('2018-04-11 00:00:00', freq='D'),\n",
       " Timestamp('2018-04-12 00:00:00', freq='D'),\n",
       " Timestamp('2018-04-13 00:00:00', freq='D'),\n",
       " Timestamp('2018-04-14 00:00:00', freq='D'),\n",
       " Timestamp('2018-04-15 00:00:00', freq='D'),\n",
       " Timestamp('2018-04-16 00:00:00', freq='D'),\n",
       " Timestamp('2018-04-17 00:00:00', freq='D'),\n",
       " Timestamp('2018-04-18 00:00:00', freq='D'),\n",
       " Timestamp('2018-04-19 00:00:00', freq='D'),\n",
       " Timestamp('2018-04-20 00:00:00', freq='D'),\n",
       " Timestamp('2018-04-21 00:00:00', freq='D'),\n",
       " Timestamp('2018-04-22 00:00:00', freq='D'),\n",
       " Timestamp('2018-04-23 00:00:00', freq='D'),\n",
       " Timestamp('2018-04-24 00:00:00', freq='D'),\n",
       " Timestamp('2018-04-25 00:00:00', freq='D'),\n",
       " Timestamp('2018-04-26 00:00:00', freq='D'),\n",
       " Timestamp('2018-04-27 00:00:00', freq='D'),\n",
       " Timestamp('2018-04-28 00:00:00', freq='D'),\n",
       " Timestamp('2018-04-29 00:00:00', freq='D'),\n",
       " Timestamp('2018-04-30 00:00:00', freq='D'),\n",
       " Timestamp('2018-05-01 00:00:00', freq='D'),\n",
       " Timestamp('2018-05-02 00:00:00', freq='D'),\n",
       " Timestamp('2018-05-03 00:00:00', freq='D'),\n",
       " Timestamp('2018-05-04 00:00:00', freq='D'),\n",
       " Timestamp('2018-05-05 00:00:00', freq='D'),\n",
       " Timestamp('2018-05-06 00:00:00', freq='D'),\n",
       " Timestamp('2018-05-07 00:00:00', freq='D'),\n",
       " Timestamp('2018-05-08 00:00:00', freq='D'),\n",
       " Timestamp('2018-05-09 00:00:00', freq='D'),\n",
       " Timestamp('2018-05-10 00:00:00', freq='D'),\n",
       " Timestamp('2018-05-11 00:00:00', freq='D'),\n",
       " Timestamp('2018-05-12 00:00:00', freq='D'),\n",
       " Timestamp('2018-05-13 00:00:00', freq='D'),\n",
       " Timestamp('2018-05-14 00:00:00', freq='D'),\n",
       " Timestamp('2018-05-15 00:00:00', freq='D'),\n",
       " Timestamp('2018-05-16 00:00:00', freq='D'),\n",
       " Timestamp('2018-05-17 00:00:00', freq='D'),\n",
       " Timestamp('2018-05-18 00:00:00', freq='D'),\n",
       " Timestamp('2018-05-19 00:00:00', freq='D'),\n",
       " Timestamp('2018-05-20 00:00:00', freq='D'),\n",
       " Timestamp('2018-05-21 00:00:00', freq='D'),\n",
       " Timestamp('2018-05-22 00:00:00', freq='D'),\n",
       " Timestamp('2018-05-23 00:00:00', freq='D'),\n",
       " Timestamp('2018-05-24 00:00:00', freq='D'),\n",
       " Timestamp('2018-05-25 00:00:00', freq='D'),\n",
       " Timestamp('2018-05-26 00:00:00', freq='D'),\n",
       " Timestamp('2018-05-27 00:00:00', freq='D'),\n",
       " Timestamp('2018-05-28 00:00:00', freq='D'),\n",
       " Timestamp('2018-05-29 00:00:00', freq='D'),\n",
       " Timestamp('2018-05-30 00:00:00', freq='D'),\n",
       " Timestamp('2018-05-31 00:00:00', freq='D'),\n",
       " Timestamp('2018-06-01 00:00:00', freq='D'),\n",
       " Timestamp('2018-06-02 00:00:00', freq='D'),\n",
       " Timestamp('2018-06-03 00:00:00', freq='D'),\n",
       " Timestamp('2018-06-04 00:00:00', freq='D'),\n",
       " Timestamp('2018-06-05 00:00:00', freq='D'),\n",
       " Timestamp('2018-06-06 00:00:00', freq='D'),\n",
       " Timestamp('2018-06-07 00:00:00', freq='D'),\n",
       " Timestamp('2018-06-08 00:00:00', freq='D'),\n",
       " Timestamp('2018-06-09 00:00:00', freq='D'),\n",
       " Timestamp('2018-06-10 00:00:00', freq='D'),\n",
       " Timestamp('2018-06-11 00:00:00', freq='D'),\n",
       " Timestamp('2018-06-12 00:00:00', freq='D'),\n",
       " Timestamp('2018-06-13 00:00:00', freq='D'),\n",
       " Timestamp('2018-06-14 00:00:00', freq='D'),\n",
       " Timestamp('2018-06-15 00:00:00', freq='D'),\n",
       " Timestamp('2018-06-16 00:00:00', freq='D'),\n",
       " Timestamp('2018-06-17 00:00:00', freq='D'),\n",
       " Timestamp('2018-06-18 00:00:00', freq='D'),\n",
       " Timestamp('2018-06-19 00:00:00', freq='D'),\n",
       " Timestamp('2018-06-20 00:00:00', freq='D'),\n",
       " Timestamp('2018-06-21 00:00:00', freq='D'),\n",
       " Timestamp('2018-06-22 00:00:00', freq='D'),\n",
       " Timestamp('2018-06-23 00:00:00', freq='D'),\n",
       " Timestamp('2018-06-24 00:00:00', freq='D'),\n",
       " Timestamp('2018-06-25 00:00:00', freq='D'),\n",
       " Timestamp('2018-06-26 00:00:00', freq='D'),\n",
       " Timestamp('2018-06-27 00:00:00', freq='D'),\n",
       " Timestamp('2018-06-28 00:00:00', freq='D'),\n",
       " Timestamp('2018-06-29 00:00:00', freq='D'),\n",
       " Timestamp('2018-06-30 00:00:00', freq='D'),\n",
       " Timestamp('2018-07-01 00:00:00', freq='D'),\n",
       " Timestamp('2018-07-02 00:00:00', freq='D'),\n",
       " Timestamp('2018-07-03 00:00:00', freq='D'),\n",
       " Timestamp('2018-07-04 00:00:00', freq='D'),\n",
       " Timestamp('2018-07-05 00:00:00', freq='D'),\n",
       " Timestamp('2018-07-06 00:00:00', freq='D'),\n",
       " Timestamp('2018-07-07 00:00:00', freq='D'),\n",
       " Timestamp('2018-07-08 00:00:00', freq='D'),\n",
       " Timestamp('2018-07-09 00:00:00', freq='D'),\n",
       " Timestamp('2018-07-10 00:00:00', freq='D'),\n",
       " Timestamp('2018-07-11 00:00:00', freq='D'),\n",
       " Timestamp('2018-07-12 00:00:00', freq='D'),\n",
       " Timestamp('2018-07-13 00:00:00', freq='D'),\n",
       " Timestamp('2018-07-14 00:00:00', freq='D'),\n",
       " Timestamp('2018-07-15 00:00:00', freq='D'),\n",
       " Timestamp('2018-07-16 00:00:00', freq='D'),\n",
       " Timestamp('2018-07-17 00:00:00', freq='D'),\n",
       " Timestamp('2018-07-18 00:00:00', freq='D'),\n",
       " Timestamp('2018-07-19 00:00:00', freq='D'),\n",
       " Timestamp('2018-07-20 00:00:00', freq='D'),\n",
       " Timestamp('2018-07-21 00:00:00', freq='D'),\n",
       " Timestamp('2018-07-22 00:00:00', freq='D'),\n",
       " Timestamp('2018-07-23 00:00:00', freq='D'),\n",
       " Timestamp('2018-07-24 00:00:00', freq='D'),\n",
       " Timestamp('2018-07-25 00:00:00', freq='D'),\n",
       " Timestamp('2018-07-26 00:00:00', freq='D'),\n",
       " Timestamp('2018-07-27 00:00:00', freq='D'),\n",
       " Timestamp('2018-07-28 00:00:00', freq='D'),\n",
       " Timestamp('2018-07-29 00:00:00', freq='D'),\n",
       " Timestamp('2018-07-30 00:00:00', freq='D'),\n",
       " Timestamp('2018-07-31 00:00:00', freq='D'),\n",
       " Timestamp('2018-08-01 00:00:00', freq='D')]"
      ]
     },
     "execution_count": 28,
     "metadata": {},
     "output_type": "execute_result"
    }
   ],
   "source": [
    "dd"
   ]
  },
  {
   "cell_type": "code",
   "execution_count": 29,
   "metadata": {},
   "outputs": [
    {
     "data": {
      "text/plain": [
       "Timestamp('2018-01-01 00:00:00', freq='D')"
      ]
     },
     "execution_count": 29,
     "metadata": {},
     "output_type": "execute_result"
    }
   ],
   "source": [
    "dd[0]"
   ]
  },
  {
   "cell_type": "code",
   "execution_count": 30,
   "metadata": {},
   "outputs": [
    {
     "data": {
      "text/plain": [
       "213"
      ]
     },
     "execution_count": 30,
     "metadata": {},
     "output_type": "execute_result"
    }
   ],
   "source": [
    "len(dd)"
   ]
  },
  {
   "cell_type": "code",
   "execution_count": 31,
   "metadata": {},
   "outputs": [
    {
     "data": {
      "text/plain": [
       "Timestamp('2018-08-01 00:00:00', freq='D')"
      ]
     },
     "execution_count": 31,
     "metadata": {},
     "output_type": "execute_result"
    }
   ],
   "source": [
    "dd[212]"
   ]
  },
  {
   "cell_type": "code",
   "execution_count": 32,
   "metadata": {},
   "outputs": [],
   "source": [
    "# 하루마다\n",
    "\n",
    "ggg = []\n",
    "uuu = []\n",
    "for i in range(1, len(dd)):\n",
    "       \n",
    "    ggg.append(diaper_train[ (dd[i-1] <= diaper_train.biz_dt) & (diaper_train.biz_dt < dd[i]) ].shape[0])\n",
    "    uuu.append(diaper_train[ (dd[i-1] <= diaper_train.biz_dt) & (diaper_train.biz_dt < dd[i]) ].m_id.nunique())"
   ]
  },
  {
   "cell_type": "code",
   "execution_count": 33,
   "metadata": {},
   "outputs": [
    {
     "data": {
      "text/plain": [
       "212550"
      ]
     },
     "execution_count": 33,
     "metadata": {},
     "output_type": "execute_result"
    }
   ],
   "source": [
    "diaper_train.m_id.nunique()"
   ]
  },
  {
   "cell_type": "code",
   "execution_count": 34,
   "metadata": {},
   "outputs": [
    {
     "data": {
      "text/plain": [
       "212"
      ]
     },
     "execution_count": 34,
     "metadata": {},
     "output_type": "execute_result"
    }
   ],
   "source": [
    "len(ggg)"
   ]
  },
  {
   "cell_type": "code",
   "execution_count": 35,
   "metadata": {},
   "outputs": [
    {
     "data": {
      "text/plain": [
       "545775"
      ]
     },
     "execution_count": 35,
     "metadata": {},
     "output_type": "execute_result"
    }
   ],
   "source": [
    "sum(ggg)"
   ]
  },
  {
   "cell_type": "code",
   "execution_count": 36,
   "metadata": {},
   "outputs": [
    {
     "data": {
      "text/plain": [
       "545775"
      ]
     },
     "execution_count": 36,
     "metadata": {},
     "output_type": "execute_result"
    }
   ],
   "source": [
    "diaper_train.shape[0]"
   ]
  },
  {
   "cell_type": "code",
   "execution_count": 37,
   "metadata": {},
   "outputs": [
    {
     "data": {
      "text/plain": [
       "[2638, 1960, 1878, 1928, 1981, 939, 2614, 2741, 2632, 1468]"
      ]
     },
     "execution_count": 37,
     "metadata": {},
     "output_type": "execute_result"
    }
   ],
   "source": [
    "ggg[:10]"
   ]
  },
  {
   "cell_type": "code",
   "execution_count": 38,
   "metadata": {},
   "outputs": [
    {
     "data": {
      "text/plain": [
       "[2479, 1864, 1757, 1826, 1815, 882, 2457, 2597, 2402, 1386]"
      ]
     },
     "execution_count": 38,
     "metadata": {},
     "output_type": "execute_result"
    }
   ],
   "source": [
    "uuu[:10]"
   ]
  },
  {
   "cell_type": "code",
   "execution_count": 39,
   "metadata": {},
   "outputs": [],
   "source": [
    "ggg =pd.DataFrame(ggg)"
   ]
  },
  {
   "cell_type": "code",
   "execution_count": 40,
   "metadata": {
    "scrolled": true
   },
   "outputs": [
    {
     "data": {
      "text/plain": [
       "array([[<matplotlib.axes._subplots.AxesSubplot object at 0x1a0cb1d1d0>]],\n",
       "      dtype=object)"
      ]
     },
     "execution_count": 40,
     "metadata": {},
     "output_type": "execute_result"
    },
    {
     "data": {
      "image/png": "[encoded data removed]",
      "text/plain": [
       "<Figure size 432x288 with 1 Axes>"
      ]
     },
     "metadata": {
      "needs_background": "light"
     },
     "output_type": "display_data"
    }
   ],
   "source": [
    "# 하루당 기저귀 거래분포\n",
    "\n",
    "\n",
    "ggg.hist(bins = 20)"
   ]
  },
  {
   "cell_type": "markdown",
   "metadata": {},
   "source": [
    "### # 그렇다면, 하루당 '구매건수/구매자수'로 scaling해볼까?"
   ]
  },
  {
   "cell_type": "code",
   "execution_count": 41,
   "metadata": {},
   "outputs": [],
   "source": [
    "uuu = pd.DataFrame(uuu)"
   ]
  },
  {
   "cell_type": "code",
   "execution_count": 42,
   "metadata": {},
   "outputs": [],
   "source": [
    "scal = ggg/uuu"
   ]
  },
  {
   "cell_type": "code",
   "execution_count": 43,
   "metadata": {},
   "outputs": [
    {
     "data": {
      "text/html": [
       "<div>\n",
       "<style scoped>\n",
       "    .dataframe tbody tr th:only-of-type {\n",
       "        vertical-align: middle;\n",
       "    }\n",
       "\n",
       "    .dataframe tbody tr th {\n",
       "        vertical-align: top;\n",
       "    }\n",
       "\n",
       "    .dataframe thead th {\n",
       "        text-align: right;\n",
       "    }\n",
       "</style>\n",
       "<table border=\"1\" class=\"dataframe\">\n",
       "  <thead>\n",
       "    <tr style=\"text-align: right;\">\n",
       "      <th></th>\n",
       "      <th>0</th>\n",
       "    </tr>\n",
       "  </thead>\n",
       "  <tbody>\n",
       "    <tr>\n",
       "      <th>0</th>\n",
       "      <td>1.064139</td>\n",
       "    </tr>\n",
       "    <tr>\n",
       "      <th>1</th>\n",
       "      <td>1.051502</td>\n",
       "    </tr>\n",
       "    <tr>\n",
       "      <th>2</th>\n",
       "      <td>1.068867</td>\n",
       "    </tr>\n",
       "    <tr>\n",
       "      <th>3</th>\n",
       "      <td>1.055860</td>\n",
       "    </tr>\n",
       "    <tr>\n",
       "      <th>4</th>\n",
       "      <td>1.091460</td>\n",
       "    </tr>\n",
       "  </tbody>\n",
       "</table>\n",
       "</div>"
      ],
      "text/plain": [
       "          0\n",
       "0  1.064139\n",
       "1  1.051502\n",
       "2  1.068867\n",
       "3  1.055860\n",
       "4  1.091460"
      ]
     },
     "execution_count": 43,
     "metadata": {},
     "output_type": "execute_result"
    }
   ],
   "source": [
    "scal.head()"
   ]
  },
  {
   "cell_type": "code",
   "execution_count": 44,
   "metadata": {},
   "outputs": [],
   "source": [
    "#1주일 단위로 변환\n",
    "\n",
    "scal7 = scal*7"
   ]
  },
  {
   "cell_type": "code",
   "execution_count": 45,
   "metadata": {},
   "outputs": [
    {
     "data": {
      "text/plain": [
       "array([[<matplotlib.axes._subplots.AxesSubplot object at 0x1a0daf5ba8>]],\n",
       "      dtype=object)"
      ]
     },
     "execution_count": 45,
     "metadata": {},
     "output_type": "execute_result"
    },
    {
     "data": {
      "image/png": "[encoded data removed]",
      "text/plain": [
       "<Figure size 432x288 with 1 Axes>"
      ]
     },
     "metadata": {
      "needs_background": "light"
     },
     "output_type": "display_data"
    }
   ],
   "source": [
    "scal.hist(bins = 20)"
   ]
  },
  {
   "cell_type": "code",
   "execution_count": 46,
   "metadata": {},
   "outputs": [
    {
     "data": {
      "text/plain": [
       "array([[<matplotlib.axes._subplots.AxesSubplot object at 0x1a0e066da0>]],\n",
       "      dtype=object)"
      ]
     },
     "execution_count": 46,
     "metadata": {},
     "output_type": "execute_result"
    },
    {
     "data": {
      "image/png": "[encoded data removed]",
      "text/plain": [
       "<Figure size 432x288 with 1 Axes>"
      ]
     },
     "metadata": {
      "needs_background": "light"
     },
     "output_type": "display_data"
    }
   ],
   "source": [
    "scal7.hist(bins = 20)"
   ]
  },
  {
   "cell_type": "markdown",
   "metadata": {},
   "source": [
    "---"
   ]
  },
  {
   "cell_type": "markdown",
   "metadata": {},
   "source": [
    "### # 그렇다면, 하루당 '구매건수/(전체)구매자수'로 scaling해볼까?"
   ]
  },
  {
   "cell_type": "code",
   "execution_count": 47,
   "metadata": {},
   "outputs": [],
   "source": [
    "scal = ggg/diaper_train.m_id.nunique()"
   ]
  },
  {
   "cell_type": "code",
   "execution_count": 48,
   "metadata": {},
   "outputs": [
    {
     "data": {
      "text/html": [
       "<div>\n",
       "<style scoped>\n",
       "    .dataframe tbody tr th:only-of-type {\n",
       "        vertical-align: middle;\n",
       "    }\n",
       "\n",
       "    .dataframe tbody tr th {\n",
       "        vertical-align: top;\n",
       "    }\n",
       "\n",
       "    .dataframe thead th {\n",
       "        text-align: right;\n",
       "    }\n",
       "</style>\n",
       "<table border=\"1\" class=\"dataframe\">\n",
       "  <thead>\n",
       "    <tr style=\"text-align: right;\">\n",
       "      <th></th>\n",
       "      <th>0</th>\n",
       "    </tr>\n",
       "  </thead>\n",
       "  <tbody>\n",
       "    <tr>\n",
       "      <th>0</th>\n",
       "      <td>0.012411</td>\n",
       "    </tr>\n",
       "    <tr>\n",
       "      <th>1</th>\n",
       "      <td>0.009221</td>\n",
       "    </tr>\n",
       "    <tr>\n",
       "      <th>2</th>\n",
       "      <td>0.008836</td>\n",
       "    </tr>\n",
       "    <tr>\n",
       "      <th>3</th>\n",
       "      <td>0.009071</td>\n",
       "    </tr>\n",
       "    <tr>\n",
       "      <th>4</th>\n",
       "      <td>0.009320</td>\n",
       "    </tr>\n",
       "  </tbody>\n",
       "</table>\n",
       "</div>"
      ],
      "text/plain": [
       "          0\n",
       "0  0.012411\n",
       "1  0.009221\n",
       "2  0.008836\n",
       "3  0.009071\n",
       "4  0.009320"
      ]
     },
     "execution_count": 48,
     "metadata": {},
     "output_type": "execute_result"
    }
   ],
   "source": [
    "scal.head()"
   ]
  },
  {
   "cell_type": "code",
   "execution_count": 49,
   "metadata": {
    "scrolled": true
   },
   "outputs": [
    {
     "data": {
      "text/plain": [
       "(4.29526943405729, 0, 0.002819851621032652)"
      ]
     },
     "execution_count": 49,
     "metadata": {},
     "output_type": "execute_result"
    }
   ],
   "source": [
    "import scipy.stats as stats\n",
    "stats.gamma.fit(scal, floc=0) "
   ]
  },
  {
   "cell_type": "code",
   "execution_count": 50,
   "metadata": {},
   "outputs": [
    {
     "data": {
      "text/plain": [
       "354.6285884481369"
      ]
     },
     "execution_count": 50,
     "metadata": {},
     "output_type": "execute_result"
    }
   ],
   "source": [
    "1/0.002819851621032652"
   ]
  },
  {
   "cell_type": "code",
   "execution_count": null,
   "metadata": {},
   "outputs": [],
   "source": []
  },
  {
   "cell_type": "code",
   "execution_count": 420,
   "metadata": {},
   "outputs": [],
   "source": [
    "#1주일 단위로 변환\n",
    "\n",
    "scal7 = scal*7"
   ]
  },
  {
   "cell_type": "code",
   "execution_count": 421,
   "metadata": {},
   "outputs": [
    {
     "data": {
      "text/plain": [
       "array([[<matplotlib.axes._subplots.AxesSubplot object at 0x1a20e45d68>]],\n",
       "      dtype=object)"
      ]
     },
     "execution_count": 421,
     "metadata": {},
     "output_type": "execute_result"
    },
    {
     "data": {
      "image/png": "[encoded data removed]",
      "text/plain": [
       "<Figure size 432x288 with 1 Axes>"
      ]
     },
     "metadata": {
      "needs_background": "light"
     },
     "output_type": "display_data"
    }
   ],
   "source": [
    "scal.hist(bins = 20)"
   ]
  },
  {
   "cell_type": "code",
   "execution_count": 423,
   "metadata": {},
   "outputs": [
    {
     "data": {
      "text/plain": [
       "0    0.012112\n",
       "dtype: float64"
      ]
     },
     "execution_count": 423,
     "metadata": {},
     "output_type": "execute_result"
    }
   ],
   "source": [
    "scal.mean()"
   ]
  },
  {
   "cell_type": "code",
   "execution_count": 426,
   "metadata": {},
   "outputs": [
    {
     "data": {
      "text/plain": [
       "0    82.562594\n",
       "dtype: float64"
      ]
     },
     "execution_count": 426,
     "metadata": {},
     "output_type": "execute_result"
    }
   ],
   "source": [
    "1/scal.mean()      # 82일이라는 소리야?   - 이상한데"
   ]
  },
  {
   "cell_type": "code",
   "execution_count": 422,
   "metadata": {},
   "outputs": [
    {
     "data": {
      "text/plain": [
       "array([[<matplotlib.axes._subplots.AxesSubplot object at 0x1a22cb8c50>]],\n",
       "      dtype=object)"
      ]
     },
     "execution_count": 422,
     "metadata": {},
     "output_type": "execute_result"
    },
    {
     "data": {
      "image/png": "[encoded data removed]",
      "text/plain": [
       "<Figure size 432x288 with 1 Axes>"
      ]
     },
     "metadata": {
      "needs_background": "light"
     },
     "output_type": "display_data"
    }
   ],
   "source": [
    "scal7.hist(bins = 20)"
   ]
  },
  {
   "cell_type": "code",
   "execution_count": 424,
   "metadata": {},
   "outputs": [
    {
     "data": {
      "text/plain": [
       "0    0.084784\n",
       "dtype: float64"
      ]
     },
     "execution_count": 424,
     "metadata": {},
     "output_type": "execute_result"
    }
   ],
   "source": [
    "scal7.mean()"
   ]
  },
  {
   "cell_type": "code",
   "execution_count": 425,
   "metadata": {},
   "outputs": [
    {
     "data": {
      "text/plain": [
       "0    11.794656\n",
       "dtype: float64"
      ]
     },
     "execution_count": 425,
     "metadata": {},
     "output_type": "execute_result"
    }
   ],
   "source": [
    "1/scal7.mean()  ### 11주라는 소리야?   - 이상한데"
   ]
  },
  {
   "cell_type": "code",
   "execution_count": 2,
   "metadata": {},
   "outputs": [
    {
     "data": {
      "text/plain": [
       "82.562592"
      ]
     },
     "execution_count": 2,
     "metadata": {},
     "output_type": "execute_result"
    }
   ],
   "source": [
    "11.794656*7"
   ]
  },
  {
   "cell_type": "markdown",
   "metadata": {},
   "source": [
    "---"
   ]
  },
  {
   "cell_type": "markdown",
   "metadata": {},
   "source": [
    "---"
   ]
  },
  {
   "cell_type": "code",
   "execution_count": 196,
   "metadata": {},
   "outputs": [],
   "source": [
    "tt = pd.read_csv('diaper_t.csv')"
   ]
  },
  {
   "cell_type": "code",
   "execution_count": 198,
   "metadata": {},
   "outputs": [],
   "source": [
    "tt = tt.iloc[:,1:]"
   ]
  },
  {
   "cell_type": "code",
   "execution_count": 199,
   "metadata": {
    "scrolled": false
   },
   "outputs": [
    {
     "data": {
      "text/html": [
       "<div>\n",
       "<style scoped>\n",
       "    .dataframe tbody tr th:only-of-type {\n",
       "        vertical-align: middle;\n",
       "    }\n",
       "\n",
       "    .dataframe tbody tr th {\n",
       "        vertical-align: top;\n",
       "    }\n",
       "\n",
       "    .dataframe thead th {\n",
       "        text-align: right;\n",
       "    }\n",
       "</style>\n",
       "<table border=\"1\" class=\"dataframe\">\n",
       "  <thead>\n",
       "    <tr style=\"text-align: right;\">\n",
       "      <th></th>\n",
       "      <th>0</th>\n",
       "    </tr>\n",
       "  </thead>\n",
       "  <tbody>\n",
       "    <tr>\n",
       "      <th>545765</th>\n",
       "      <td>NaN</td>\n",
       "    </tr>\n",
       "    <tr>\n",
       "      <th>545766</th>\n",
       "      <td>NaN</td>\n",
       "    </tr>\n",
       "    <tr>\n",
       "      <th>545767</th>\n",
       "      <td>NaN</td>\n",
       "    </tr>\n",
       "    <tr>\n",
       "      <th>545768</th>\n",
       "      <td>NaN</td>\n",
       "    </tr>\n",
       "    <tr>\n",
       "      <th>545769</th>\n",
       "      <td>NaN</td>\n",
       "    </tr>\n",
       "    <tr>\n",
       "      <th>545770</th>\n",
       "      <td>NaN</td>\n",
       "    </tr>\n",
       "    <tr>\n",
       "      <th>545771</th>\n",
       "      <td>NaN</td>\n",
       "    </tr>\n",
       "    <tr>\n",
       "      <th>545772</th>\n",
       "      <td>NaN</td>\n",
       "    </tr>\n",
       "    <tr>\n",
       "      <th>545773</th>\n",
       "      <td>NaN</td>\n",
       "    </tr>\n",
       "    <tr>\n",
       "      <th>545774</th>\n",
       "      <td>NaN</td>\n",
       "    </tr>\n",
       "  </tbody>\n",
       "</table>\n",
       "</div>"
      ],
      "text/plain": [
       "         0\n",
       "545765 NaN\n",
       "545766 NaN\n",
       "545767 NaN\n",
       "545768 NaN\n",
       "545769 NaN\n",
       "545770 NaN\n",
       "545771 NaN\n",
       "545772 NaN\n",
       "545773 NaN\n",
       "545774 NaN"
      ]
     },
     "execution_count": 199,
     "metadata": {},
     "output_type": "execute_result"
    }
   ],
   "source": [
    "# 데이터 확인\n",
    "\n",
    "tt.tail(10)   # 음 ... 꼬리에는 구매 데이터가 없으니깐 그런가봐"
   ]
  },
  {
   "cell_type": "code",
   "execution_count": 201,
   "metadata": {
    "scrolled": true
   },
   "outputs": [
    {
     "data": {
      "text/plain": [
       "(545775, 1)"
      ]
     },
     "execution_count": 201,
     "metadata": {},
     "output_type": "execute_result"
    }
   ],
   "source": [
    "tt.shape   # 54만개의 time interval"
   ]
  },
  {
   "cell_type": "markdown",
   "metadata": {},
   "source": [
    "---"
   ]
  },
  {
   "cell_type": "markdown",
   "metadata": {},
   "source": [
    "# # t (interval) 분석해보자"
   ]
  },
  {
   "cell_type": "code",
   "execution_count": 10,
   "metadata": {},
   "outputs": [
    {
     "data": {
      "text/plain": [
       "(545775, 1)"
      ]
     },
     "execution_count": 10,
     "metadata": {},
     "output_type": "execute_result"
    }
   ],
   "source": [
    "tt.shape"
   ]
  },
  {
   "cell_type": "code",
   "execution_count": 203,
   "metadata": {
    "scrolled": true
   },
   "outputs": [],
   "source": [
    "tt = tt.dropna()  # t값 순수하게 얻은거야"
   ]
  },
  {
   "cell_type": "code",
   "execution_count": 204,
   "metadata": {},
   "outputs": [
    {
     "data": {
      "text/plain": [
       "(333225, 1)"
      ]
     },
     "execution_count": 204,
     "metadata": {},
     "output_type": "execute_result"
    }
   ],
   "source": [
    "# nan값 제거하고 얻은 shape\n",
    "\n",
    "tt.shape"
   ]
  },
  {
   "cell_type": "code",
   "execution_count": 205,
   "metadata": {
    "scrolled": true
   },
   "outputs": [
    {
     "data": {
      "text/html": [
       "<div>\n",
       "<style scoped>\n",
       "    .dataframe tbody tr th:only-of-type {\n",
       "        vertical-align: middle;\n",
       "    }\n",
       "\n",
       "    .dataframe tbody tr th {\n",
       "        vertical-align: top;\n",
       "    }\n",
       "\n",
       "    .dataframe thead th {\n",
       "        text-align: right;\n",
       "    }\n",
       "</style>\n",
       "<table border=\"1\" class=\"dataframe\">\n",
       "  <thead>\n",
       "    <tr style=\"text-align: right;\">\n",
       "      <th></th>\n",
       "      <th>0</th>\n",
       "    </tr>\n",
       "  </thead>\n",
       "  <tbody>\n",
       "    <tr>\n",
       "      <th>1</th>\n",
       "      <td>0.0</td>\n",
       "    </tr>\n",
       "    <tr>\n",
       "      <th>2</th>\n",
       "      <td>23.0</td>\n",
       "    </tr>\n",
       "    <tr>\n",
       "      <th>4</th>\n",
       "      <td>59.0</td>\n",
       "    </tr>\n",
       "    <tr>\n",
       "      <th>5</th>\n",
       "      <td>0.0</td>\n",
       "    </tr>\n",
       "    <tr>\n",
       "      <th>6</th>\n",
       "      <td>31.0</td>\n",
       "    </tr>\n",
       "  </tbody>\n",
       "</table>\n",
       "</div>"
      ],
      "text/plain": [
       "      0\n",
       "1   0.0\n",
       "2  23.0\n",
       "4  59.0\n",
       "5   0.0\n",
       "6  31.0"
      ]
     },
     "execution_count": 205,
     "metadata": {},
     "output_type": "execute_result"
    }
   ],
   "source": [
    "tt.head()"
   ]
  },
  {
   "cell_type": "code",
   "execution_count": 206,
   "metadata": {},
   "outputs": [],
   "source": [
    "# time 으로 column명 변경\n",
    "tt.columns = ['time']"
   ]
  },
  {
   "cell_type": "code",
   "execution_count": 207,
   "metadata": {},
   "outputs": [
    {
     "data": {
      "text/html": [
       "<div>\n",
       "<style scoped>\n",
       "    .dataframe tbody tr th:only-of-type {\n",
       "        vertical-align: middle;\n",
       "    }\n",
       "\n",
       "    .dataframe tbody tr th {\n",
       "        vertical-align: top;\n",
       "    }\n",
       "\n",
       "    .dataframe thead th {\n",
       "        text-align: right;\n",
       "    }\n",
       "</style>\n",
       "<table border=\"1\" class=\"dataframe\">\n",
       "  <thead>\n",
       "    <tr style=\"text-align: right;\">\n",
       "      <th></th>\n",
       "      <th>time</th>\n",
       "    </tr>\n",
       "  </thead>\n",
       "  <tbody>\n",
       "    <tr>\n",
       "      <th>1</th>\n",
       "      <td>0.0</td>\n",
       "    </tr>\n",
       "    <tr>\n",
       "      <th>2</th>\n",
       "      <td>23.0</td>\n",
       "    </tr>\n",
       "    <tr>\n",
       "      <th>4</th>\n",
       "      <td>59.0</td>\n",
       "    </tr>\n",
       "    <tr>\n",
       "      <th>5</th>\n",
       "      <td>0.0</td>\n",
       "    </tr>\n",
       "    <tr>\n",
       "      <th>6</th>\n",
       "      <td>31.0</td>\n",
       "    </tr>\n",
       "  </tbody>\n",
       "</table>\n",
       "</div>"
      ],
      "text/plain": [
       "   time\n",
       "1   0.0\n",
       "2  23.0\n",
       "4  59.0\n",
       "5   0.0\n",
       "6  31.0"
      ]
     },
     "execution_count": 207,
     "metadata": {},
     "output_type": "execute_result"
    }
   ],
   "source": [
    "tt.head(5)"
   ]
  },
  {
   "cell_type": "code",
   "execution_count": 208,
   "metadata": {
    "scrolled": true
   },
   "outputs": [
    {
     "data": {
      "text/plain": [
       "0.0      57461\n",
       "14.0      6597\n",
       "20.0      6597\n",
       "21.0      6572\n",
       "15.0      6335\n",
       "17.0      6236\n",
       "18.0      6232\n",
       "13.0      6209\n",
       "19.0      6181\n",
       "27.0      6042\n",
       "16.0      5940\n",
       "28.0      5882\n",
       "22.0      5860\n",
       "23.0      5682\n",
       "26.0      5579\n",
       "24.0      5531\n",
       "12.0      5476\n",
       "25.0      5429\n",
       "29.0      5348\n",
       "1.0       4994\n",
       "11.0      4833\n",
       "30.0      4809\n",
       "10.0      4765\n",
       "31.0      4498\n",
       "9.0       4374\n",
       "8.0       4236\n",
       "32.0      4166\n",
       "7.0       4122\n",
       "33.0      4075\n",
       "2.0       4018\n",
       "         ...  \n",
       "176.0       45\n",
       "185.0       38\n",
       "193.0       37\n",
       "180.0       35\n",
       "184.0       34\n",
       "175.0       34\n",
       "186.0       30\n",
       "191.0       27\n",
       "190.0       26\n",
       "192.0       26\n",
       "187.0       25\n",
       "194.0       24\n",
       "189.0       24\n",
       "188.0       24\n",
       "197.0       21\n",
       "199.0       21\n",
       "204.0       18\n",
       "196.0       16\n",
       "200.0       15\n",
       "198.0       13\n",
       "195.0       13\n",
       "202.0       13\n",
       "201.0       12\n",
       "203.0       11\n",
       "206.0        9\n",
       "205.0        7\n",
       "210.0        6\n",
       "209.0        5\n",
       "207.0        5\n",
       "208.0        3\n",
       "Name: time, Length: 211, dtype: int64"
      ]
     },
     "execution_count": 208,
     "metadata": {},
     "output_type": "execute_result"
    }
   ],
   "source": [
    "#음.. 여기도 0인값이 많구나? - 무려 5만개야\n",
    "\n",
    "tt.time.value_counts()"
   ]
  },
  {
   "cell_type": "markdown",
   "metadata": {},
   "source": [
    "histogram : 와... 0이 너무많아!"
   ]
  },
  {
   "cell_type": "code",
   "execution_count": 209,
   "metadata": {},
   "outputs": [],
   "source": [
    "tmean = tt.mean()"
   ]
  },
  {
   "cell_type": "code",
   "execution_count": 210,
   "metadata": {},
   "outputs": [
    {
     "data": {
      "text/plain": [
       "time    29.54763\n",
       "dtype: float64"
      ]
     },
     "execution_count": 210,
     "metadata": {},
     "output_type": "execute_result"
    }
   ],
   "source": [
    "# 0을 포함했을때의 평균.. 어느정도 될까?\n",
    "\n",
    "tmean"
   ]
  },
  {
   "cell_type": "markdown",
   "metadata": {},
   "source": [
    "# # drop 0 value : t"
   ]
  },
  {
   "cell_type": "code",
   "execution_count": 211,
   "metadata": {},
   "outputs": [],
   "source": [
    "# 0인것을 드랍하는 작업!\n",
    "\n",
    "tt_drop0 = tt[(tt[['time']] != 0).all(axis=1)]"
   ]
  },
  {
   "cell_type": "code",
   "execution_count": 212,
   "metadata": {},
   "outputs": [
    {
     "data": {
      "text/html": [
       "<div>\n",
       "<style scoped>\n",
       "    .dataframe tbody tr th:only-of-type {\n",
       "        vertical-align: middle;\n",
       "    }\n",
       "\n",
       "    .dataframe tbody tr th {\n",
       "        vertical-align: top;\n",
       "    }\n",
       "\n",
       "    .dataframe thead th {\n",
       "        text-align: right;\n",
       "    }\n",
       "</style>\n",
       "<table border=\"1\" class=\"dataframe\">\n",
       "  <thead>\n",
       "    <tr style=\"text-align: right;\">\n",
       "      <th></th>\n",
       "      <th>time</th>\n",
       "    </tr>\n",
       "  </thead>\n",
       "  <tbody>\n",
       "    <tr>\n",
       "      <th>2</th>\n",
       "      <td>23.0</td>\n",
       "    </tr>\n",
       "    <tr>\n",
       "      <th>4</th>\n",
       "      <td>59.0</td>\n",
       "    </tr>\n",
       "    <tr>\n",
       "      <th>6</th>\n",
       "      <td>31.0</td>\n",
       "    </tr>\n",
       "    <tr>\n",
       "      <th>7</th>\n",
       "      <td>23.0</td>\n",
       "    </tr>\n",
       "    <tr>\n",
       "      <th>8</th>\n",
       "      <td>60.0</td>\n",
       "    </tr>\n",
       "  </tbody>\n",
       "</table>\n",
       "</div>"
      ],
      "text/plain": [
       "   time\n",
       "2  23.0\n",
       "4  59.0\n",
       "6  31.0\n",
       "7  23.0\n",
       "8  60.0"
      ]
     },
     "execution_count": 212,
     "metadata": {},
     "output_type": "execute_result"
    }
   ],
   "source": [
    "tt_drop0.head()"
   ]
  },
  {
   "cell_type": "markdown",
   "metadata": {},
   "source": [
    "---"
   ]
  },
  {
   "cell_type": "markdown",
   "metadata": {},
   "source": [
    "## # <U>test id 데이터에서 뽑아오자</U>"
   ]
  },
  {
   "cell_type": "code",
   "execution_count": 216,
   "metadata": {},
   "outputs": [],
   "source": [
    "# diaper_test에서 unique한거 순차적으로 1000개를, test_id로\n",
    "\n",
    "test_id = diaper_test.m_id.unique()[:1000]"
   ]
  },
  {
   "cell_type": "code",
   "execution_count": 217,
   "metadata": {},
   "outputs": [
    {
     "data": {
      "text/plain": [
       "1000"
      ]
     },
     "execution_count": 217,
     "metadata": {},
     "output_type": "execute_result"
    }
   ],
   "source": [
    "len(test_id)"
   ]
  },
  {
   "cell_type": "code",
   "execution_count": 218,
   "metadata": {},
   "outputs": [
    {
     "data": {
      "text/html": [
       "<div>\n",
       "<style scoped>\n",
       "    .dataframe tbody tr th:only-of-type {\n",
       "        vertical-align: middle;\n",
       "    }\n",
       "\n",
       "    .dataframe tbody tr th {\n",
       "        vertical-align: top;\n",
       "    }\n",
       "\n",
       "    .dataframe thead th {\n",
       "        text-align: right;\n",
       "    }\n",
       "</style>\n",
       "<table border=\"1\" class=\"dataframe\">\n",
       "  <thead>\n",
       "    <tr style=\"text-align: right;\">\n",
       "      <th></th>\n",
       "      <th>Unnamed: 0</th>\n",
       "      <th>biz_dt</th>\n",
       "      <th>m_id</th>\n",
       "      <th>order_price</th>\n",
       "      <th>prod_no</th>\n",
       "      <th>old_admin_category_id</th>\n",
       "      <th>serv_cd</th>\n",
       "    </tr>\n",
       "  </thead>\n",
       "  <tbody>\n",
       "    <tr>\n",
       "      <th>9313038</th>\n",
       "      <td>99313038</td>\n",
       "      <td>2018-08-01 10:47:51</td>\n",
       "      <td>22,776,930</td>\n",
       "      <td>29,900</td>\n",
       "      <td>3,368,595</td>\n",
       "      <td>241,010,102</td>\n",
       "      <td>1</td>\n",
       "    </tr>\n",
       "  </tbody>\n",
       "</table>\n",
       "</div>"
      ],
      "text/plain": [
       "         Unnamed: 0              biz_dt        m_id order_price    prod_no  \\\n",
       "9313038    99313038 2018-08-01 10:47:51  22,776,930      29,900  3,368,595   \n",
       "\n",
       "        old_admin_category_id  serv_cd  \n",
       "9313038           241,010,102        1  "
      ]
     },
     "execution_count": 218,
     "metadata": {},
     "output_type": "execute_result"
    }
   ],
   "source": [
    "# 마지막 테스트 아이디 확인 \n",
    "\n",
    "diaper_test[diaper_test.m_id == test_id[1000-1]]"
   ]
  },
  {
   "cell_type": "markdown",
   "metadata": {},
   "source": [
    "---"
   ]
  },
  {
   "cell_type": "code",
   "execution_count": 219,
   "metadata": {},
   "outputs": [],
   "source": [
    "# test_id 1000개중에서, train기록 가지고있는 애들만 활용해본다!\n",
    "\n",
    "tf = []\n",
    "for i in range(len(test_id)):\n",
    "    tf.append( (diaper_train[diaper_train.m_id == test_id[i]].shape[0]) \n",
    "              & (diaper_test[diaper_test.m_id == test_id[i]].shape[0]) == True) #train, test 둘다 있는 아이디를 밝혀주는 index만들어주는거야."
   ]
  },
  {
   "cell_type": "code",
   "execution_count": 220,
   "metadata": {
    "scrolled": true
   },
   "outputs": [
    {
     "data": {
      "text/plain": [
       "[False,\n",
       " False,\n",
       " False,\n",
       " False,\n",
       " False,\n",
       " False,\n",
       " False,\n",
       " False,\n",
       " False,\n",
       " False,\n",
       " False,\n",
       " False,\n",
       " False,\n",
       " True,\n",
       " False,\n",
       " False,\n",
       " False,\n",
       " False,\n",
       " True,\n",
       " False,\n",
       " True,\n",
       " False,\n",
       " True,\n",
       " False,\n",
       " False,\n",
       " False,\n",
       " False,\n",
       " True,\n",
       " True,\n",
       " False,\n",
       " False,\n",
       " True,\n",
       " False,\n",
       " False,\n",
       " False,\n",
       " False,\n",
       " False,\n",
       " False,\n",
       " True,\n",
       " False,\n",
       " True,\n",
       " False,\n",
       " False,\n",
       " False,\n",
       " False,\n",
       " True,\n",
       " False,\n",
       " False,\n",
       " True,\n",
       " False,\n",
       " True,\n",
       " False,\n",
       " False,\n",
       " False,\n",
       " False,\n",
       " False,\n",
       " False,\n",
       " True,\n",
       " False,\n",
       " False,\n",
       " False,\n",
       " False,\n",
       " False,\n",
       " True,\n",
       " False,\n",
       " True,\n",
       " False,\n",
       " False,\n",
       " False,\n",
       " False,\n",
       " False,\n",
       " False,\n",
       " False,\n",
       " False,\n",
       " False,\n",
       " False,\n",
       " True,\n",
       " False,\n",
       " False,\n",
       " False,\n",
       " False,\n",
       " False,\n",
       " True,\n",
       " False,\n",
       " False,\n",
       " False,\n",
       " False,\n",
       " True,\n",
       " True,\n",
       " False,\n",
       " True,\n",
       " False,\n",
       " False,\n",
       " False,\n",
       " False,\n",
       " True,\n",
       " False,\n",
       " False,\n",
       " False,\n",
       " False,\n",
       " False,\n",
       " False,\n",
       " False,\n",
       " False,\n",
       " False,\n",
       " False,\n",
       " False,\n",
       " False,\n",
       " True,\n",
       " False,\n",
       " False,\n",
       " True,\n",
       " False,\n",
       " True,\n",
       " False,\n",
       " True,\n",
       " False,\n",
       " False,\n",
       " True,\n",
       " False,\n",
       " False,\n",
       " False,\n",
       " False,\n",
       " False,\n",
       " False,\n",
       " False,\n",
       " False,\n",
       " True,\n",
       " False,\n",
       " False,\n",
       " True,\n",
       " False,\n",
       " False,\n",
       " False,\n",
       " False,\n",
       " False,\n",
       " False,\n",
       " False,\n",
       " True,\n",
       " False,\n",
       " False,\n",
       " False,\n",
       " False,\n",
       " False,\n",
       " False,\n",
       " False,\n",
       " False,\n",
       " False,\n",
       " False,\n",
       " True,\n",
       " False,\n",
       " False,\n",
       " False,\n",
       " False,\n",
       " False,\n",
       " False,\n",
       " False,\n",
       " False,\n",
       " False,\n",
       " True,\n",
       " False,\n",
       " False,\n",
       " False,\n",
       " False,\n",
       " False,\n",
       " False,\n",
       " False,\n",
       " False,\n",
       " False,\n",
       " False,\n",
       " True,\n",
       " False,\n",
       " True,\n",
       " False,\n",
       " False,\n",
       " False,\n",
       " False,\n",
       " False,\n",
       " False,\n",
       " False,\n",
       " False,\n",
       " False,\n",
       " False,\n",
       " True,\n",
       " False,\n",
       " False,\n",
       " False,\n",
       " False,\n",
       " True,\n",
       " False,\n",
       " False,\n",
       " False,\n",
       " False,\n",
       " False,\n",
       " True,\n",
       " False,\n",
       " False,\n",
       " False,\n",
       " False,\n",
       " False,\n",
       " False,\n",
       " False,\n",
       " True,\n",
       " False,\n",
       " False,\n",
       " False,\n",
       " False,\n",
       " False,\n",
       " False,\n",
       " False,\n",
       " False,\n",
       " False,\n",
       " False,\n",
       " False,\n",
       " False,\n",
       " True,\n",
       " False,\n",
       " False,\n",
       " True,\n",
       " False,\n",
       " False,\n",
       " False,\n",
       " False,\n",
       " False,\n",
       " True,\n",
       " False,\n",
       " False,\n",
       " True,\n",
       " False,\n",
       " False,\n",
       " True,\n",
       " False,\n",
       " False,\n",
       " False,\n",
       " False,\n",
       " False,\n",
       " False,\n",
       " False,\n",
       " False,\n",
       " False,\n",
       " True,\n",
       " False,\n",
       " False,\n",
       " False,\n",
       " False,\n",
       " False,\n",
       " False,\n",
       " False,\n",
       " False,\n",
       " False,\n",
       " False,\n",
       " True,\n",
       " False,\n",
       " True,\n",
       " True,\n",
       " False,\n",
       " False,\n",
       " True,\n",
       " False,\n",
       " False,\n",
       " True,\n",
       " False,\n",
       " False,\n",
       " False,\n",
       " True,\n",
       " False,\n",
       " False,\n",
       " False,\n",
       " False,\n",
       " False,\n",
       " False,\n",
       " True,\n",
       " False,\n",
       " False,\n",
       " False,\n",
       " False,\n",
       " False,\n",
       " False,\n",
       " False,\n",
       " False,\n",
       " False,\n",
       " False,\n",
       " False,\n",
       " False,\n",
       " False,\n",
       " False,\n",
       " False,\n",
       " True,\n",
       " False,\n",
       " False,\n",
       " True,\n",
       " False,\n",
       " False,\n",
       " False,\n",
       " False,\n",
       " False,\n",
       " False,\n",
       " False,\n",
       " True,\n",
       " False,\n",
       " False,\n",
       " False,\n",
       " False,\n",
       " True,\n",
       " True,\n",
       " False,\n",
       " True,\n",
       " True,\n",
       " False,\n",
       " False,\n",
       " False,\n",
       " False,\n",
       " False,\n",
       " False,\n",
       " True,\n",
       " True,\n",
       " True,\n",
       " True,\n",
       " False,\n",
       " False,\n",
       " True,\n",
       " False,\n",
       " False,\n",
       " True,\n",
       " False,\n",
       " True,\n",
       " False,\n",
       " True,\n",
       " False,\n",
       " True,\n",
       " False,\n",
       " False,\n",
       " True,\n",
       " False,\n",
       " False,\n",
       " False,\n",
       " False,\n",
       " False,\n",
       " False,\n",
       " False,\n",
       " False,\n",
       " True,\n",
       " False,\n",
       " False,\n",
       " False,\n",
       " False,\n",
       " False,\n",
       " False,\n",
       " False,\n",
       " False,\n",
       " False,\n",
       " False,\n",
       " False,\n",
       " False,\n",
       " False,\n",
       " True,\n",
       " False,\n",
       " True,\n",
       " False,\n",
       " False,\n",
       " True,\n",
       " False,\n",
       " True,\n",
       " False,\n",
       " False,\n",
       " False,\n",
       " False,\n",
       " False,\n",
       " False,\n",
       " False,\n",
       " False,\n",
       " False,\n",
       " False,\n",
       " False,\n",
       " False,\n",
       " False,\n",
       " False,\n",
       " False,\n",
       " True,\n",
       " False,\n",
       " False,\n",
       " False,\n",
       " True,\n",
       " True,\n",
       " False,\n",
       " False,\n",
       " True,\n",
       " False,\n",
       " False,\n",
       " False,\n",
       " False,\n",
       " False,\n",
       " False,\n",
       " False,\n",
       " False,\n",
       " False,\n",
       " False,\n",
       " False,\n",
       " False,\n",
       " False,\n",
       " False,\n",
       " True,\n",
       " False,\n",
       " False,\n",
       " False,\n",
       " True,\n",
       " True,\n",
       " True,\n",
       " False,\n",
       " True,\n",
       " False,\n",
       " False,\n",
       " True,\n",
       " False,\n",
       " False,\n",
       " False,\n",
       " False,\n",
       " False,\n",
       " True,\n",
       " False,\n",
       " False,\n",
       " True,\n",
       " False,\n",
       " False,\n",
       " False,\n",
       " True,\n",
       " False,\n",
       " False,\n",
       " False,\n",
       " False,\n",
       " False,\n",
       " True,\n",
       " False,\n",
       " True,\n",
       " False,\n",
       " False,\n",
       " False,\n",
       " False,\n",
       " False,\n",
       " False,\n",
       " False,\n",
       " False,\n",
       " False,\n",
       " True,\n",
       " False,\n",
       " False,\n",
       " False,\n",
       " False,\n",
       " False,\n",
       " False,\n",
       " False,\n",
       " True,\n",
       " True,\n",
       " False,\n",
       " False,\n",
       " False,\n",
       " False,\n",
       " False,\n",
       " False,\n",
       " True,\n",
       " False,\n",
       " False,\n",
       " False,\n",
       " False,\n",
       " False,\n",
       " False,\n",
       " False,\n",
       " False,\n",
       " False,\n",
       " False,\n",
       " False,\n",
       " False,\n",
       " False,\n",
       " False,\n",
       " False,\n",
       " False,\n",
       " False,\n",
       " True,\n",
       " False,\n",
       " False,\n",
       " False,\n",
       " True,\n",
       " False,\n",
       " False,\n",
       " True,\n",
       " False,\n",
       " False,\n",
       " False,\n",
       " False,\n",
       " False,\n",
       " True,\n",
       " True,\n",
       " False,\n",
       " False,\n",
       " False,\n",
       " True,\n",
       " False,\n",
       " True,\n",
       " False,\n",
       " True,\n",
       " False,\n",
       " False,\n",
       " False,\n",
       " False,\n",
       " True,\n",
       " False,\n",
       " False,\n",
       " True,\n",
       " True,\n",
       " False,\n",
       " False,\n",
       " True,\n",
       " False,\n",
       " True,\n",
       " False,\n",
       " False,\n",
       " False,\n",
       " False,\n",
       " False,\n",
       " False,\n",
       " True,\n",
       " False,\n",
       " False,\n",
       " False,\n",
       " False,\n",
       " True,\n",
       " False,\n",
       " False,\n",
       " False,\n",
       " False,\n",
       " False,\n",
       " False,\n",
       " False,\n",
       " True,\n",
       " False,\n",
       " False,\n",
       " True,\n",
       " True,\n",
       " False,\n",
       " False,\n",
       " True,\n",
       " False,\n",
       " True,\n",
       " True,\n",
       " False,\n",
       " False,\n",
       " False,\n",
       " True,\n",
       " False,\n",
       " False,\n",
       " True,\n",
       " True,\n",
       " False,\n",
       " False,\n",
       " True,\n",
       " False,\n",
       " False,\n",
       " False,\n",
       " False,\n",
       " False,\n",
       " False,\n",
       " False,\n",
       " False,\n",
       " False,\n",
       " False,\n",
       " False,\n",
       " False,\n",
       " False,\n",
       " False,\n",
       " False,\n",
       " False,\n",
       " False,\n",
       " False,\n",
       " False,\n",
       " False,\n",
       " True,\n",
       " False,\n",
       " False,\n",
       " False,\n",
       " False,\n",
       " False,\n",
       " False,\n",
       " False,\n",
       " False,\n",
       " False,\n",
       " False,\n",
       " False,\n",
       " False,\n",
       " False,\n",
       " False,\n",
       " False,\n",
       " False,\n",
       " False,\n",
       " False,\n",
       " False,\n",
       " True,\n",
       " False,\n",
       " False,\n",
       " False,\n",
       " False,\n",
       " False,\n",
       " False,\n",
       " False,\n",
       " False,\n",
       " False,\n",
       " False,\n",
       " False,\n",
       " True,\n",
       " False,\n",
       " False,\n",
       " False,\n",
       " False,\n",
       " False,\n",
       " False,\n",
       " True,\n",
       " False,\n",
       " True,\n",
       " True,\n",
       " False,\n",
       " False,\n",
       " False,\n",
       " True,\n",
       " False,\n",
       " False,\n",
       " True,\n",
       " False,\n",
       " False,\n",
       " False,\n",
       " False,\n",
       " False,\n",
       " True,\n",
       " False,\n",
       " True,\n",
       " True,\n",
       " True,\n",
       " True,\n",
       " False,\n",
       " False,\n",
       " False,\n",
       " False,\n",
       " False,\n",
       " False,\n",
       " False,\n",
       " False,\n",
       " False,\n",
       " False,\n",
       " False,\n",
       " True,\n",
       " False,\n",
       " False,\n",
       " False,\n",
       " False,\n",
       " False,\n",
       " False,\n",
       " True,\n",
       " True,\n",
       " False,\n",
       " False,\n",
       " True,\n",
       " False,\n",
       " False,\n",
       " False,\n",
       " False,\n",
       " False,\n",
       " True,\n",
       " False,\n",
       " False,\n",
       " False,\n",
       " False,\n",
       " True,\n",
       " False,\n",
       " False,\n",
       " False,\n",
       " False,\n",
       " True,\n",
       " False,\n",
       " False,\n",
       " False,\n",
       " False,\n",
       " False,\n",
       " False,\n",
       " False,\n",
       " False,\n",
       " True,\n",
       " False,\n",
       " False,\n",
       " False,\n",
       " True,\n",
       " False,\n",
       " False,\n",
       " False,\n",
       " True,\n",
       " False,\n",
       " False,\n",
       " False,\n",
       " False,\n",
       " False,\n",
       " False,\n",
       " False,\n",
       " True,\n",
       " True,\n",
       " False,\n",
       " False,\n",
       " False,\n",
       " True,\n",
       " False,\n",
       " False,\n",
       " False,\n",
       " True,\n",
       " False,\n",
       " False,\n",
       " False,\n",
       " False,\n",
       " True,\n",
       " True,\n",
       " False,\n",
       " False,\n",
       " False,\n",
       " True,\n",
       " False,\n",
       " False,\n",
       " False,\n",
       " False,\n",
       " False,\n",
       " False,\n",
       " True,\n",
       " False,\n",
       " False,\n",
       " False,\n",
       " True,\n",
       " False,\n",
       " False,\n",
       " False,\n",
       " False,\n",
       " False,\n",
       " False,\n",
       " True,\n",
       " False,\n",
       " False,\n",
       " False,\n",
       " False,\n",
       " False,\n",
       " False,\n",
       " True,\n",
       " True,\n",
       " True,\n",
       " False,\n",
       " False,\n",
       " False,\n",
       " False,\n",
       " False,\n",
       " False,\n",
       " False,\n",
       " True,\n",
       " False,\n",
       " False,\n",
       " True,\n",
       " False,\n",
       " True,\n",
       " True,\n",
       " False,\n",
       " False,\n",
       " False,\n",
       " False,\n",
       " False,\n",
       " False,\n",
       " False,\n",
       " True,\n",
       " True,\n",
       " True,\n",
       " False,\n",
       " False,\n",
       " True,\n",
       " False,\n",
       " False,\n",
       " True,\n",
       " True,\n",
       " False,\n",
       " False,\n",
       " False,\n",
       " False,\n",
       " False,\n",
       " False,\n",
       " False,\n",
       " True,\n",
       " True,\n",
       " False,\n",
       " True,\n",
       " False,\n",
       " True,\n",
       " False,\n",
       " False,\n",
       " False,\n",
       " True,\n",
       " False,\n",
       " False,\n",
       " False,\n",
       " False,\n",
       " False,\n",
       " False,\n",
       " False,\n",
       " True,\n",
       " False,\n",
       " False,\n",
       " False,\n",
       " False,\n",
       " False,\n",
       " True,\n",
       " False,\n",
       " True,\n",
       " False,\n",
       " False,\n",
       " False,\n",
       " True,\n",
       " False,\n",
       " False,\n",
       " False,\n",
       " False,\n",
       " False,\n",
       " False,\n",
       " False,\n",
       " False,\n",
       " False,\n",
       " False,\n",
       " True,\n",
       " False,\n",
       " False,\n",
       " False,\n",
       " True,\n",
       " False,\n",
       " False,\n",
       " False,\n",
       " True,\n",
       " False,\n",
       " False,\n",
       " False,\n",
       " False,\n",
       " False,\n",
       " False,\n",
       " False,\n",
       " True,\n",
       " False,\n",
       " False,\n",
       " False,\n",
       " True,\n",
       " True,\n",
       " True,\n",
       " False,\n",
       " False,\n",
       " False,\n",
       " False,\n",
       " True,\n",
       " False,\n",
       " False,\n",
       " False,\n",
       " False,\n",
       " False,\n",
       " False,\n",
       " True,\n",
       " True,\n",
       " False,\n",
       " False,\n",
       " False,\n",
       " False,\n",
       " True,\n",
       " False,\n",
       " False,\n",
       " False,\n",
       " True,\n",
       " False,\n",
       " False,\n",
       " False,\n",
       " False,\n",
       " False,\n",
       " False,\n",
       " False,\n",
       " False,\n",
       " False,\n",
       " False,\n",
       " False,\n",
       " True,\n",
       " False,\n",
       " True,\n",
       " False,\n",
       " False,\n",
       " False,\n",
       " False,\n",
       " True,\n",
       " False,\n",
       " False,\n",
       " False,\n",
       " False,\n",
       " False,\n",
       " False,\n",
       " False,\n",
       " False,\n",
       " False,\n",
       " False,\n",
       " False,\n",
       " False,\n",
       " False,\n",
       " False,\n",
       " False,\n",
       " False,\n",
       " False,\n",
       " False,\n",
       " False,\n",
       " False,\n",
       " False,\n",
       " False,\n",
       " False,\n",
       " False,\n",
       " False,\n",
       " False,\n",
       " False,\n",
       " False,\n",
       " False,\n",
       " False,\n",
       " False,\n",
       " False,\n",
       " False,\n",
       " False,\n",
       " False,\n",
       " False,\n",
       " False,\n",
       " False,\n",
       " False,\n",
       " False,\n",
       " False,\n",
       " False,\n",
       " False,\n",
       " False,\n",
       " False,\n",
       " False,\n",
       " False,\n",
       " False,\n",
       " False,\n",
       " False,\n",
       " False,\n",
       " False,\n",
       " False,\n",
       " True,\n",
       " False,\n",
       " False,\n",
       " True,\n",
       " False,\n",
       " False,\n",
       " False,\n",
       " True,\n",
       " True,\n",
       " False,\n",
       " False,\n",
       " True,\n",
       " False,\n",
       " False,\n",
       " False,\n",
       " True,\n",
       " False,\n",
       " False,\n",
       " False,\n",
       " True,\n",
       " False,\n",
       " True,\n",
       " False,\n",
       " True,\n",
       " False,\n",
       " True,\n",
       " False,\n",
       " False,\n",
       " False,\n",
       " False,\n",
       " False,\n",
       " False,\n",
       " False,\n",
       " False,\n",
       " True,\n",
       " False,\n",
       " False,\n",
       " False,\n",
       " True,\n",
       " True,\n",
       " False,\n",
       " False,\n",
       " False,\n",
       " False,\n",
       " False,\n",
       " False,\n",
       " False,\n",
       " False,\n",
       " True,\n",
       " False,\n",
       " False,\n",
       " True,\n",
       " False,\n",
       " True,\n",
       " True,\n",
       " False,\n",
       " False,\n",
       " False,\n",
       " True]"
      ]
     },
     "execution_count": 220,
     "metadata": {},
     "output_type": "execute_result"
    }
   ],
   "source": [
    "tf"
   ]
  },
  {
   "cell_type": "code",
   "execution_count": 221,
   "metadata": {},
   "outputs": [
    {
     "data": {
      "text/plain": [
       "1000"
      ]
     },
     "execution_count": 221,
     "metadata": {},
     "output_type": "execute_result"
    }
   ],
   "source": [
    "len(test_id)"
   ]
  },
  {
   "cell_type": "code",
   "execution_count": 222,
   "metadata": {},
   "outputs": [
    {
     "data": {
      "text/plain": [
       "204"
      ]
     },
     "execution_count": 222,
     "metadata": {},
     "output_type": "execute_result"
    }
   ],
   "source": [
    "len(test_id[tf])   # train data를 가지고있는 애들은 204개 정도야!"
   ]
  },
  {
   "cell_type": "code",
   "execution_count": 223,
   "metadata": {},
   "outputs": [],
   "source": [
    "test_id_ = test_id[tf]"
   ]
  },
  {
   "cell_type": "markdown",
   "metadata": {},
   "source": [
    "---"
   ]
  },
  {
   "cell_type": "markdown",
   "metadata": {},
   "source": [
    "---"
   ]
  },
  {
   "cell_type": "code",
   "execution_count": 228,
   "metadata": {},
   "outputs": [],
   "source": [
    "current_l = pd.date_range('2018-08-01', periods=30).tolist()"
   ]
  },
  {
   "cell_type": "code",
   "execution_count": 225,
   "metadata": {},
   "outputs": [],
   "source": [
    "# 함수로 출력되는게 많게했어!\n",
    "\n",
    "def func_lamb(train, test, test_id, current, alpha, beta, tmean):\n",
    "    t_ = (current - train[train.m_id == test_id].iloc[-1].biz_dt).days  # 구매이력이 없는사람은?(고려해야해) - 지금은 있는 사람만.\n",
    "    t_purch = (train[train.m_id == test_id].iloc[-1].biz_dt - train[train.m_id == test_id].iloc[0].biz_dt).days\n",
    "    k = train.biz_dt[train.m_id == test_id].shape[0] # train 구매이력\n",
    "    if k <= 1 :\n",
    "        tmean_u = tmean # tmean : 모든 user들의 상품에대한 평균 t(구매이력이 한번밖에 없으니, user의 고유 평균 t값 대입할 수 없다.)\n",
    "    else:\n",
    "        tmean_u = train.biz_dt[train.m_id == test_id].diff().mean().days\n",
    "    lamb = (k+alpha)/(t_purch+2*abs(tmean_u-t_)+beta)\n",
    "    return lamb, t_, t_purch, tmean_u, k"
   ]
  },
  {
   "cell_type": "code",
   "execution_count": 229,
   "metadata": {},
   "outputs": [
    {
     "name": "stdout",
     "output_type": "stream",
     "text": [
      "last order: 5853334   2018-03-01 00:41:34\n",
      "Name: biz_dt, dtype: datetime64[ns]\n",
      "current: 2018-08-01 00:00:00 current-last_order: 152 t_purch: 59\n",
      "pred: 0.9250246440894359 , tmean_u: 29 , k: 3 \n",
      "\n",
      "current: 2018-08-02 00:00:00 current-last_order: 153 t_purch: 59\n",
      "pred: 0.92417796226782 , tmean_u: 29 , k: 3 \n",
      "\n",
      "current: 2018-08-03 00:00:00 current-last_order: 154 t_purch: 59\n",
      "pred: 0.9233291513682943 , tmean_u: 29 , k: 3 \n",
      "\n",
      "current: 2018-08-04 00:00:00 current-last_order: 155 t_purch: 59\n",
      "pred: 0.922478256146507 , tmean_u: 29 , k: 3 \n",
      "\n",
      "current: 2018-08-05 00:00:00 current-last_order: 156 t_purch: 59\n",
      "pred: 0.9216253209313489 , tmean_u: 29 , k: 3 \n",
      "\n",
      "current: 2018-08-06 00:00:00 current-last_order: 157 t_purch: 59\n",
      "pred: 0.9207703896250781 , tmean_u: 29 , k: 3 \n",
      "\n",
      "current: 2018-08-07 00:00:00 current-last_order: 158 t_purch: 59\n",
      "pred: 0.9199135057035974 , tmean_u: 29 , k: 3 \n",
      "\n",
      "current: 2018-08-08 00:00:00 current-last_order: 159 t_purch: 59\n",
      "pred: 0.9190547122168746 , tmean_u: 29 , k: 3 \n",
      "\n",
      "current: 2018-08-09 00:00:00 current-last_order: 160 t_purch: 59\n",
      "pred: 0.9181940517895032 , tmean_u: 29 , k: 3 \n",
      "\n",
      "current: 2018-08-10 00:00:00 current-last_order: 161 t_purch: 59\n",
      "pred: 0.9173315666213959 , tmean_u: 29 , k: 3 \n",
      "\n",
      "current: 2018-08-11 00:00:00 current-last_order: 162 t_purch: 59\n",
      "pred: 0.9164672984886062 , tmean_u: 29 , k: 3 \n",
      "\n",
      "current: 2018-08-12 00:00:00 current-last_order: 163 t_purch: 59\n",
      "pred: 0.9156012887442713 , tmean_u: 29 , k: 3 \n",
      "\n",
      "current: 2018-08-13 00:00:00 current-last_order: 164 t_purch: 59\n",
      "pred: 0.9147335783196728 , tmean_u: 29 , k: 3 \n",
      "\n",
      "current: 2018-08-14 00:00:00 current-last_order: 165 t_purch: 59\n",
      "pred: 0.913864207725409 , tmean_u: 29 , k: 3 \n",
      "\n",
      "current: 2018-08-15 00:00:00 current-last_order: 166 t_purch: 59\n",
      "pred: 0.9129932170526737 , tmean_u: 29 , k: 3 \n",
      "\n",
      "current: 2018-08-16 00:00:00 current-last_order: 167 t_purch: 59\n",
      "pred: 0.9121206459746375 , tmean_u: 29 , k: 3 \n",
      "\n",
      "current: 2018-08-17 00:00:00 current-last_order: 168 t_purch: 59\n",
      "pred: 0.9112465337479269 , tmean_u: 29 , k: 3 \n",
      "\n",
      "current: 2018-08-18 00:00:00 current-last_order: 169 t_purch: 59\n",
      "pred: 0.910370919214195 , tmean_u: 29 , k: 3 \n",
      "\n",
      "current: 2018-08-19 00:00:00 current-last_order: 170 t_purch: 59\n",
      "pred: 0.9094938408017829 , tmean_u: 29 , k: 3 \n",
      "\n",
      "current: 2018-08-20 00:00:00 current-last_order: 171 t_purch: 59\n",
      "pred: 0.9086153365274635 , tmean_u: 29 , k: 3 \n",
      "\n",
      "current: 2018-08-21 00:00:00 current-last_order: 172 t_purch: 59\n",
      "pred: 0.907735443998267 , tmean_u: 29 , k: 3 \n",
      "\n",
      "current: 2018-08-22 00:00:00 current-last_order: 173 t_purch: 59\n",
      "pred: 0.906854200413382 , tmean_u: 29 , k: 3 \n",
      "\n",
      "current: 2018-08-23 00:00:00 current-last_order: 174 t_purch: 59\n",
      "pred: 0.9059716425661302 , tmean_u: 29 , k: 3 \n",
      "\n",
      "current: 2018-08-24 00:00:00 current-last_order: 175 t_purch: 59\n",
      "pred: 0.9050878068460084 , tmean_u: 29 , k: 3 \n",
      "\n",
      "current: 2018-08-25 00:00:00 current-last_order: 176 t_purch: 59\n",
      "pred: 0.904202729240798 , tmean_u: 29 , k: 3 \n",
      "\n",
      "current: 2018-08-26 00:00:00 current-last_order: 177 t_purch: 59\n",
      "pred: 0.9033164453387342 , tmean_u: 29 , k: 3 \n",
      "\n",
      "current: 2018-08-27 00:00:00 current-last_order: 178 t_purch: 59\n",
      "pred: 0.9024289903307355 , tmean_u: 29 , k: 3 \n",
      "\n",
      "current: 2018-08-28 00:00:00 current-last_order: 179 t_purch: 59\n",
      "pred: 0.9015403990126879 , tmean_u: 29 , k: 3 \n",
      "\n",
      "current: 2018-08-29 00:00:00 current-last_order: 180 t_purch: 59\n",
      "pred: 0.900650705787781 , tmean_u: 29 , k: 3 \n",
      "\n",
      "current: 2018-08-30 00:00:00 current-last_order: 181 t_purch: 59\n",
      "pred: 0.8997599446688941 , tmean_u: 29 , k: 3 \n",
      "\n",
      "------------------------------------------------------------------------\n",
      "\n",
      "\n",
      "last order: 7982559   2018-07-29 15:59:49\n",
      "Name: biz_dt, dtype: datetime64[ns]\n",
      "current: 2018-08-01 00:00:00 current-last_order: 2 t_purch: 181\n",
      "pred: 0.9616535879390457 , tmean_u: 18 , k: 11 \n",
      "\n",
      "current: 2018-08-02 00:00:00 current-last_order: 3 t_purch: 181\n",
      "pred: 0.9623319951980881 , tmean_u: 18 , k: 11 \n",
      "\n",
      "current: 2018-08-03 00:00:00 current-last_order: 4 t_purch: 181\n",
      "pred: 0.9630056698129057 , tmean_u: 18 , k: 11 \n",
      "\n",
      "current: 2018-08-04 00:00:00 current-last_order: 5 t_purch: 181\n",
      "pred: 0.9636745525853536 , tmean_u: 18 , k: 11 \n",
      "\n",
      "current: 2018-08-05 00:00:00 current-last_order: 6 t_purch: 181\n",
      "pred: 0.9643385843074952 , tmean_u: 18 , k: 11 \n",
      "\n",
      "current: 2018-08-06 00:00:00 current-last_order: 7 t_purch: 181\n",
      "pred: 0.9649977057832689 , tmean_u: 18 , k: 11 \n",
      "\n",
      "current: 2018-08-07 00:00:00 current-last_order: 8 t_purch: 181\n",
      "pred: 0.9656518578509632 , tmean_u: 18 , k: 11 \n",
      "\n",
      "current: 2018-08-08 00:00:00 current-last_order: 9 t_purch: 181\n",
      "pred: 0.9663009814065202 , tmean_u: 18 , k: 11 \n",
      "\n",
      "current: 2018-08-09 00:00:00 current-last_order: 10 t_purch: 181\n",
      "pred: 0.9669450174276845 , tmean_u: 18 , k: 11 \n",
      "\n",
      "current: 2018-08-10 00:00:00 current-last_order: 11 t_purch: 181\n",
      "pred: 0.9675839069990184 , tmean_u: 18 , k: 11 \n",
      "\n",
      "current: 2018-08-11 00:00:00 current-last_order: 12 t_purch: 181\n",
      "pred: 0.9682175913377999 , tmean_u: 18 , k: 11 \n",
      "\n",
      "current: 2018-08-12 00:00:00 current-last_order: 13 t_purch: 181\n",
      "pred: 0.9688460118208234 , tmean_u: 18 , k: 11 \n",
      "\n",
      "current: 2018-08-13 00:00:00 current-last_order: 14 t_purch: 181\n",
      "pred: 0.9694691100121202 , tmean_u: 18 , k: 11 \n",
      "\n",
      "current: 2018-08-14 00:00:00 current-last_order: 15 t_purch: 181\n",
      "pred: 0.9700868276916196 , tmean_u: 18 , k: 11 \n",
      "\n",
      "current: 2018-08-15 00:00:00 current-last_order: 16 t_purch: 181\n",
      "pred: 0.970699106884765 , tmean_u: 18 , k: 11 \n",
      "\n",
      "current: 2018-08-16 00:00:00 current-last_order: 17 t_purch: 181\n",
      "pred: 0.971305889893107 , tmean_u: 18 , k: 11 \n",
      "\n",
      "current: 2018-08-17 00:00:00 current-last_order: 18 t_purch: 181\n",
      "pred: 0.9719071193258867 , tmean_u: 18 , k: 11 \n",
      "\n",
      "current: 2018-08-18 00:00:00 current-last_order: 19 t_purch: 181\n",
      "pred: 0.971305889893107 , tmean_u: 18 , k: 11 \n",
      "\n",
      "current: 2018-08-19 00:00:00 current-last_order: 20 t_purch: 181\n",
      "pred: 0.970699106884765 , tmean_u: 18 , k: 11 \n",
      "\n",
      "current: 2018-08-20 00:00:00 current-last_order: 21 t_purch: 181\n",
      "pred: 0.9700868276916196 , tmean_u: 18 , k: 11 \n",
      "\n",
      "current: 2018-08-21 00:00:00 current-last_order: 22 t_purch: 181\n",
      "pred: 0.9694691100121202 , tmean_u: 18 , k: 11 \n",
      "\n",
      "current: 2018-08-22 00:00:00 current-last_order: 23 t_purch: 181\n",
      "pred: 0.9688460118208234 , tmean_u: 18 , k: 11 \n",
      "\n",
      "current: 2018-08-23 00:00:00 current-last_order: 24 t_purch: 181\n",
      "pred: 0.9682175913377999 , tmean_u: 18 , k: 11 \n",
      "\n",
      "current: 2018-08-24 00:00:00 current-last_order: 25 t_purch: 181\n",
      "pred: 0.9675839069990184 , tmean_u: 18 , k: 11 \n",
      "\n",
      "current: 2018-08-25 00:00:00 current-last_order: 26 t_purch: 181\n",
      "pred: 0.9669450174276845 , tmean_u: 18 , k: 11 \n",
      "\n",
      "current: 2018-08-26 00:00:00 current-last_order: 27 t_purch: 181\n",
      "pred: 0.9663009814065202 , tmean_u: 18 , k: 11 \n",
      "\n",
      "current: 2018-08-27 00:00:00 current-last_order: 28 t_purch: 181\n",
      "pred: 0.9656518578509632 , tmean_u: 18 , k: 11 \n",
      "\n",
      "current: 2018-08-28 00:00:00 current-last_order: 29 t_purch: 181\n",
      "pred: 0.9649977057832689 , tmean_u: 18 , k: 11 \n",
      "\n",
      "current: 2018-08-29 00:00:00 current-last_order: 30 t_purch: 181\n",
      "pred: 0.9643385843074952 , tmean_u: 18 , k: 11 \n",
      "\n",
      "current: 2018-08-30 00:00:00 current-last_order: 31 t_purch: 181\n",
      "pred: 0.9636745525853536 , tmean_u: 18 , k: 11 \n",
      "\n",
      "------------------------------------------------------------------------\n",
      "\n",
      "\n",
      "last order: 689017   2018-03-10 15:26:57\n",
      "Name: biz_dt, dtype: datetime64[ns]\n",
      "current: 2018-08-01 00:00:00 current-last_order: 143 t_purch: 0\n",
      "pred: 0.9600421787561462 , tmean_u: 35.704475566063735 , k: 1 \n",
      "\n",
      "current: 2018-08-02 00:00:00 current-last_order: 144 t_purch: 0\n",
      "pred: 0.9593424964683686 , tmean_u: 35.704475566063735 , k: 1 \n",
      "\n",
      "current: 2018-08-03 00:00:00 current-last_order: 145 t_purch: 0\n",
      "pred: 0.9586382631807585 , tmean_u: 35.704475566063735 , k: 1 \n",
      "\n",
      "current: 2018-08-04 00:00:00 current-last_order: 146 t_purch: 0\n",
      "pred: 0.9579295391992199 , tmean_u: 35.704475566063735 , k: 1 \n",
      "\n",
      "current: 2018-08-05 00:00:00 current-last_order: 147 t_purch: 0\n",
      "pred: 0.9572163846952877 , tmean_u: 35.704475566063735 , k: 1 \n",
      "\n",
      "current: 2018-08-06 00:00:00 current-last_order: 148 t_purch: 0\n",
      "pred: 0.9564988596891627 , tmean_u: 35.704475566063735 , k: 1 \n",
      "\n",
      "current: 2018-08-07 00:00:00 current-last_order: 149 t_purch: 0\n",
      "pred: 0.9557770240334377 , tmean_u: 35.704475566063735 , k: 1 \n",
      "\n",
      "current: 2018-08-08 00:00:00 current-last_order: 150 t_purch: 0\n",
      "pred: 0.9550509373974971 , tmean_u: 35.704475566063735 , k: 1 \n",
      "\n"
     ]
    },
    {
     "name": "stdout",
     "output_type": "stream",
     "text": [
      "current: 2018-08-09 00:00:00 current-last_order: 151 t_purch: 0\n",
      "pred: 0.9543206592525721 , tmean_u: 35.704475566063735 , k: 1 \n",
      "\n",
      "current: 2018-08-10 00:00:00 current-last_order: 152 t_purch: 0\n",
      "pred: 0.9535862488574328 , tmean_u: 35.704475566063735 , k: 1 \n",
      "\n",
      "current: 2018-08-11 00:00:00 current-last_order: 153 t_purch: 0\n",
      "pred: 0.9528477652447004 , tmean_u: 35.704475566063735 , k: 1 \n",
      "\n",
      "current: 2018-08-12 00:00:00 current-last_order: 154 t_purch: 0\n",
      "pred: 0.952105267207763 , tmean_u: 35.704475566063735 , k: 1 \n",
      "\n",
      "current: 2018-08-13 00:00:00 current-last_order: 155 t_purch: 0\n",
      "pred: 0.9513588132882759 , tmean_u: 35.704475566063735 , k: 1 \n",
      "\n",
      "current: 2018-08-14 00:00:00 current-last_order: 156 t_purch: 0\n",
      "pred: 0.9506084617642325 , tmean_u: 35.704475566063735 , k: 1 \n",
      "\n",
      "current: 2018-08-15 00:00:00 current-last_order: 157 t_purch: 0\n",
      "pred: 0.9498542706385875 , tmean_u: 35.704475566063735 , k: 1 \n",
      "\n",
      "current: 2018-08-16 00:00:00 current-last_order: 158 t_purch: 0\n",
      "pred: 0.949096297628416 , tmean_u: 35.704475566063735 , k: 1 \n",
      "\n",
      "current: 2018-08-17 00:00:00 current-last_order: 159 t_purch: 0\n",
      "pred: 0.9483346001545956 , tmean_u: 35.704475566063735 , k: 1 \n",
      "\n",
      "current: 2018-08-18 00:00:00 current-last_order: 160 t_purch: 0\n",
      "pred: 0.9475692353319927 , tmean_u: 35.704475566063735 , k: 1 \n",
      "\n",
      "current: 2018-08-19 00:00:00 current-last_order: 161 t_purch: 0\n",
      "pred: 0.9468002599601395 , tmean_u: 35.704475566063735 , k: 1 \n",
      "\n",
      "current: 2018-08-20 00:00:00 current-last_order: 162 t_purch: 0\n",
      "pred: 0.9460277305143877 , tmean_u: 35.704475566063735 , k: 1 \n",
      "\n",
      "current: 2018-08-21 00:00:00 current-last_order: 163 t_purch: 0\n",
      "pred: 0.945251703137522 , tmean_u: 35.704475566063735 , k: 1 \n",
      "\n",
      "current: 2018-08-22 00:00:00 current-last_order: 164 t_purch: 0\n",
      "pred: 0.9444722336318215 , tmean_u: 35.704475566063735 , k: 1 \n",
      "\n",
      "current: 2018-08-23 00:00:00 current-last_order: 165 t_purch: 0\n",
      "pred: 0.943689377451554 , tmean_u: 35.704475566063735 , k: 1 \n",
      "\n",
      "current: 2018-08-24 00:00:00 current-last_order: 166 t_purch: 0\n",
      "pred: 0.94290318969589 , tmean_u: 35.704475566063735 , k: 1 \n",
      "\n",
      "current: 2018-08-25 00:00:00 current-last_order: 167 t_purch: 0\n",
      "pred: 0.9421137251022227 , tmean_u: 35.704475566063735 , k: 1 \n",
      "\n",
      "current: 2018-08-26 00:00:00 current-last_order: 168 t_purch: 0\n",
      "pred: 0.9413210380398811 , tmean_u: 35.704475566063735 , k: 1 \n",
      "\n",
      "current: 2018-08-27 00:00:00 current-last_order: 169 t_purch: 0\n",
      "pred: 0.9405251825042249 , tmean_u: 35.704475566063735 , k: 1 \n",
      "\n",
      "current: 2018-08-28 00:00:00 current-last_order: 170 t_purch: 0\n",
      "pred: 0.9397262121111059 , tmean_u: 35.704475566063735 , k: 1 \n",
      "\n",
      "current: 2018-08-29 00:00:00 current-last_order: 171 t_purch: 0\n",
      "pred: 0.9389241800916868 , tmean_u: 35.704475566063735 , k: 1 \n",
      "\n",
      "current: 2018-08-30 00:00:00 current-last_order: 172 t_purch: 0\n",
      "pred: 0.9381191392876046 , tmean_u: 35.704475566063735 , k: 1 \n",
      "\n",
      "------------------------------------------------------------------------\n",
      "\n",
      "\n",
      "last order: 2571478   2018-05-16 01:36:13\n",
      "Name: biz_dt, dtype: datetime64[ns]\n",
      "current: 2018-08-01 00:00:00 current-last_order: 76 t_purch: 132\n",
      "pred: 0.979436602913177 , tmean_u: 66 , k: 3 \n",
      "\n",
      "current: 2018-08-02 00:00:00 current-last_order: 77 t_purch: 132\n",
      "pred: 0.9789120229981599 , tmean_u: 66 , k: 3 \n",
      "\n",
      "current: 2018-08-03 00:00:00 current-last_order: 78 t_purch: 132\n",
      "pred: 0.9783810801133183 , tmean_u: 66 , k: 3 \n",
      "\n",
      "current: 2018-08-04 00:00:00 current-last_order: 79 t_purch: 132\n",
      "pred: 0.9778438249118039 , tmean_u: 66 , k: 3 \n",
      "\n",
      "current: 2018-08-05 00:00:00 current-last_order: 80 t_purch: 132\n",
      "pred: 0.9773003089064083 , tmean_u: 66 , k: 3 \n",
      "\n",
      "current: 2018-08-06 00:00:00 current-last_order: 81 t_purch: 132\n",
      "pred: 0.9767505844216423 , tmean_u: 66 , k: 3 \n",
      "\n",
      "current: 2018-08-07 00:00:00 current-last_order: 82 t_purch: 132\n",
      "pred: 0.9761947045470246 , tmean_u: 66 , k: 3 \n",
      "\n",
      "current: 2018-08-08 00:00:00 current-last_order: 83 t_purch: 132\n",
      "pred: 0.975632723091575 , tmean_u: 66 , k: 3 \n",
      "\n",
      "current: 2018-08-09 00:00:00 current-last_order: 84 t_purch: 132\n",
      "pred: 0.9750646945395017 , tmean_u: 66 , k: 3 \n",
      "\n",
      "current: 2018-08-10 00:00:00 current-last_order: 85 t_purch: 132\n",
      "pred: 0.9744906740070771 , tmean_u: 66 , k: 3 \n",
      "\n",
      "current: 2018-08-11 00:00:00 current-last_order: 86 t_purch: 132\n",
      "pred: 0.9739107172006874 , tmean_u: 66 , k: 3 \n",
      "\n",
      "current: 2018-08-12 00:00:00 current-last_order: 87 t_purch: 132\n",
      "pred: 0.9733248803760491 , tmean_u: 66 , k: 3 \n",
      "\n",
      "current: 2018-08-13 00:00:00 current-last_order: 88 t_purch: 132\n",
      "pred: 0.9727332202985752 , tmean_u: 66 , k: 3 \n",
      "\n",
      "current: 2018-08-14 00:00:00 current-last_order: 89 t_purch: 132\n",
      "pred: 0.9721357942048803 , tmean_u: 66 , k: 3 \n",
      "\n",
      "current: 2018-08-15 00:00:00 current-last_order: 90 t_purch: 132\n",
      "pred: 0.9715326597654086 , tmean_u: 66 , k: 3 \n",
      "\n",
      "current: 2018-08-16 00:00:00 current-last_order: 91 t_purch: 132\n",
      "pred: 0.9709238750481696 , tmean_u: 66 , k: 3 \n",
      "\n",
      "current: 2018-08-17 00:00:00 current-last_order: 92 t_purch: 132\n",
      "pred: 0.9703094984835656 , tmean_u: 66 , k: 3 \n",
      "\n",
      "current: 2018-08-18 00:00:00 current-last_order: 93 t_purch: 132\n",
      "pred: 0.9696895888302939 , tmean_u: 66 , k: 3 \n",
      "\n",
      "current: 2018-08-19 00:00:00 current-last_order: 94 t_purch: 132\n",
      "pred: 0.9690642051423063 , tmean_u: 66 , k: 3 \n",
      "\n",
      "current: 2018-08-20 00:00:00 current-last_order: 95 t_purch: 132\n",
      "pred: 0.9684334067368081 , tmean_u: 66 , k: 3 \n",
      "\n",
      "current: 2018-08-21 00:00:00 current-last_order: 96 t_purch: 132\n",
      "pred: 0.9677972531632789 , tmean_u: 66 , k: 3 \n",
      "\n",
      "current: 2018-08-22 00:00:00 current-last_order: 97 t_purch: 132\n",
      "pred: 0.9671558041734961 , tmean_u: 66 , k: 3 \n",
      "\n",
      "current: 2018-08-23 00:00:00 current-last_order: 98 t_purch: 132\n",
      "pred: 0.9665091196925418 , tmean_u: 66 , k: 3 \n",
      "\n",
      "current: 2018-08-24 00:00:00 current-last_order: 99 t_purch: 132\n",
      "pred: 0.965857259790775 , tmean_u: 66 , k: 3 \n",
      "\n",
      "current: 2018-08-25 00:00:00 current-last_order: 100 t_purch: 132\n",
      "pred: 0.9652002846567498 , tmean_u: 66 , k: 3 \n",
      "\n",
      "current: 2018-08-26 00:00:00 current-last_order: 101 t_purch: 132\n",
      "pred: 0.9645382545710586 , tmean_u: 66 , k: 3 \n",
      "\n",
      "current: 2018-08-27 00:00:00 current-last_order: 102 t_purch: 132\n",
      "pred: 0.9638712298810832 , tmean_u: 66 , k: 3 \n",
      "\n",
      "current: 2018-08-28 00:00:00 current-last_order: 103 t_purch: 132\n",
      "pred: 0.9631992709766318 , tmean_u: 66 , k: 3 \n",
      "\n",
      "current: 2018-08-29 00:00:00 current-last_order: 104 t_purch: 132\n",
      "pred: 0.962522438266445 , tmean_u: 66 , k: 3 \n",
      "\n",
      "current: 2018-08-30 00:00:00 current-last_order: 105 t_purch: 132\n",
      "pred: 0.9618407921555483 , tmean_u: 66 , k: 3 \n",
      "\n",
      "------------------------------------------------------------------------\n",
      "\n",
      "\n",
      "last order: 8112544   2018-07-29 22:10:29\n",
      "Name: biz_dt, dtype: datetime64[ns]\n",
      "current: 2018-08-01 00:00:00 current-last_order: 2 t_purch: 11\n",
      "pred: 0.9990353664626938 , tmean_u: 5 , k: 3 \n",
      "\n",
      "current: 2018-08-02 00:00:00 current-last_order: 3 t_purch: 11\n",
      "pred: 0.999111297053166 , tmean_u: 5 , k: 3 \n",
      "\n",
      "current: 2018-08-03 00:00:00 current-last_order: 4 t_purch: 11\n",
      "pred: 0.9991828532808665 , tmean_u: 5 , k: 3 \n",
      "\n",
      "current: 2018-08-04 00:00:00 current-last_order: 5 t_purch: 11\n",
      "pred: 0.9992501718276964 , tmean_u: 5 , k: 3 \n",
      "\n",
      "current: 2018-08-05 00:00:00 current-last_order: 6 t_purch: 11\n",
      "pred: 0.9991828532808665 , tmean_u: 5 , k: 3 \n",
      "\n",
      "current: 2018-08-06 00:00:00 current-last_order: 7 t_purch: 11\n",
      "pred: 0.999111297053166 , tmean_u: 5 , k: 3 \n",
      "\n",
      "current: 2018-08-07 00:00:00 current-last_order: 8 t_purch: 11\n",
      "pred: 0.9990353664626938 , tmean_u: 5 , k: 3 \n",
      "\n",
      "current: 2018-08-08 00:00:00 current-last_order: 9 t_purch: 11\n",
      "pred: 0.9989549268406501 , tmean_u: 5 , k: 3 \n",
      "\n",
      "current: 2018-08-09 00:00:00 current-last_order: 10 t_purch: 11\n",
      "pred: 0.9988698457287953 , tmean_u: 5 , k: 3 \n",
      "\n",
      "current: 2018-08-10 00:00:00 current-last_order: 11 t_purch: 11\n",
      "pred: 0.9987799930640872 , tmean_u: 5 , k: 3 \n",
      "\n",
      "current: 2018-08-11 00:00:00 current-last_order: 12 t_purch: 11\n",
      "pred: 0.9986852413505085 , tmean_u: 5 , k: 3 \n",
      "\n",
      "current: 2018-08-12 00:00:00 current-last_order: 13 t_purch: 11\n",
      "pred: 0.998585465818165 , tmean_u: 5 , k: 3 \n",
      "\n",
      "current: 2018-08-13 00:00:00 current-last_order: 14 t_purch: 11\n",
      "pred: 0.9984805445697924 , tmean_u: 5 , k: 3 \n",
      "\n",
      "current: 2018-08-14 00:00:00 current-last_order: 15 t_purch: 11\n",
      "pred: 0.9983703587148667 , tmean_u: 5 , k: 3 \n",
      "\n",
      "current: 2018-08-15 00:00:00 current-last_order: 16 t_purch: 11\n",
      "pred: 0.9982547924915572 , tmean_u: 5 , k: 3 \n",
      "\n",
      "current: 2018-08-16 00:00:00 current-last_order: 17 t_purch: 11\n",
      "pred: 0.9981337333768038 , tmean_u: 5 , k: 3 \n",
      "\n"
     ]
    },
    {
     "name": "stdout",
     "output_type": "stream",
     "text": [
      "current: 2018-08-17 00:00:00 current-last_order: 18 t_purch: 11\n",
      "pred: 0.9980070721848336 , tmean_u: 5 , k: 3 \n",
      "\n",
      "current: 2018-08-18 00:00:00 current-last_order: 19 t_purch: 11\n",
      "pred: 0.9978747031544632 , tmean_u: 5 , k: 3 \n",
      "\n",
      "current: 2018-08-19 00:00:00 current-last_order: 20 t_purch: 11\n",
      "pred: 0.9977365240255545 , tmean_u: 5 , k: 3 \n",
      "\n",
      "current: 2018-08-20 00:00:00 current-last_order: 21 t_purch: 11\n",
      "pred: 0.9975924361050157 , tmean_u: 5 , k: 3 \n",
      "\n",
      "current: 2018-08-21 00:00:00 current-last_order: 22 t_purch: 11\n",
      "pred: 0.9974423443227513 , tmean_u: 5 , k: 3 \n",
      "\n",
      "current: 2018-08-22 00:00:00 current-last_order: 23 t_purch: 11\n",
      "pred: 0.9972861572779781 , tmean_u: 5 , k: 3 \n",
      "\n",
      "current: 2018-08-23 00:00:00 current-last_order: 24 t_purch: 11\n",
      "pred: 0.9971237872763339 , tmean_u: 5 , k: 3 \n",
      "\n",
      "current: 2018-08-24 00:00:00 current-last_order: 25 t_purch: 11\n",
      "pred: 0.996955150358207 , tmean_u: 5 , k: 3 \n",
      "\n",
      "current: 2018-08-25 00:00:00 current-last_order: 26 t_purch: 11\n",
      "pred: 0.9967801663187222 , tmean_u: 5 , k: 3 \n",
      "\n",
      "current: 2018-08-26 00:00:00 current-last_order: 27 t_purch: 11\n",
      "pred: 0.9965987587198131 , tmean_u: 5 , k: 3 \n",
      "\n",
      "current: 2018-08-27 00:00:00 current-last_order: 28 t_purch: 11\n",
      "pred: 0.9964108548948128 , tmean_u: 5 , k: 3 \n",
      "\n",
      "current: 2018-08-28 00:00:00 current-last_order: 29 t_purch: 11\n",
      "pred: 0.9962163859459885 , tmean_u: 5 , k: 3 \n",
      "\n",
      "current: 2018-08-29 00:00:00 current-last_order: 30 t_purch: 11\n",
      "pred: 0.9960152867354386 , tmean_u: 5 , k: 3 \n",
      "\n",
      "current: 2018-08-30 00:00:00 current-last_order: 31 t_purch: 11\n",
      "pred: 0.9958074958697662 , tmean_u: 5 , k: 3 \n",
      "\n",
      "------------------------------------------------------------------------\n",
      "\n",
      "\n",
      "last order: 6118967   2018-05-24 01:48:24\n",
      "Name: biz_dt, dtype: datetime64[ns]\n",
      "current: 2018-08-01 00:00:00 current-last_order: 68 t_purch: 0\n",
      "pred: 0.9955973483506412 , tmean_u: 35.704475566063735 , k: 1 \n",
      "\n",
      "current: 2018-08-02 00:00:00 current-last_order: 69 t_purch: 0\n",
      "pred: 0.9953757644070425 , tmean_u: 35.704475566063735 , k: 1 \n",
      "\n",
      "current: 2018-08-03 00:00:00 current-last_order: 70 t_purch: 0\n",
      "pred: 0.9951473046638907 , tmean_u: 35.704475566063735 , k: 1 \n",
      "\n",
      "current: 2018-08-04 00:00:00 current-last_order: 71 t_purch: 0\n",
      "pred: 0.9949119221418105 , tmean_u: 35.704475566063735 , k: 1 \n",
      "\n",
      "current: 2018-08-05 00:00:00 current-last_order: 72 t_purch: 0\n",
      "pred: 0.994669573474617 , tmean_u: 35.704475566063735 , k: 1 \n",
      "\n",
      "current: 2018-08-06 00:00:00 current-last_order: 73 t_purch: 0\n",
      "pred: 0.994420218864419 , tmean_u: 35.704475566063735 , k: 1 \n",
      "\n",
      "current: 2018-08-07 00:00:00 current-last_order: 74 t_purch: 0\n",
      "pred: 0.9941638220330418 , tmean_u: 35.704475566063735 , k: 1 \n",
      "\n",
      "current: 2018-08-08 00:00:00 current-last_order: 75 t_purch: 0\n",
      "pred: 0.9939003501700974 , tmean_u: 35.704475566063735 , k: 1 \n",
      "\n",
      "current: 2018-08-09 00:00:00 current-last_order: 76 t_purch: 0\n",
      "pred: 0.9936297738780082 , tmean_u: 35.704475566063735 , k: 1 \n",
      "\n",
      "current: 2018-08-10 00:00:00 current-last_order: 77 t_purch: 0\n",
      "pred: 0.993352067114284 , tmean_u: 35.704475566063735 , k: 1 \n",
      "\n",
      "current: 2018-08-11 00:00:00 current-last_order: 78 t_purch: 0\n",
      "pred: 0.9930672071313333 , tmean_u: 35.704475566063735 , k: 1 \n",
      "\n",
      "current: 2018-08-12 00:00:00 current-last_order: 79 t_purch: 0\n",
      "pred: 0.9927751744140799 , tmean_u: 35.704475566063735 , k: 1 \n",
      "\n",
      "current: 2018-08-13 00:00:00 current-last_order: 80 t_purch: 0\n",
      "pred: 0.9924759526156408 , tmean_u: 35.704475566063735 , k: 1 \n",
      "\n",
      "current: 2018-08-14 00:00:00 current-last_order: 81 t_purch: 0\n",
      "pred: 0.9921695284913082 , tmean_u: 35.704475566063735 , k: 1 \n",
      "\n",
      "current: 2018-08-15 00:00:00 current-last_order: 82 t_purch: 0\n",
      "pred: 0.9918558918310666 , tmean_u: 35.704475566063735 , k: 1 \n",
      "\n",
      "current: 2018-08-16 00:00:00 current-last_order: 83 t_purch: 0\n",
      "pred: 0.9915350353908615 , tmean_u: 35.704475566063735 , k: 1 \n",
      "\n",
      "current: 2018-08-17 00:00:00 current-last_order: 84 t_purch: 0\n",
      "pred: 0.991206954822827 , tmean_u: 35.704475566063735 , k: 1 \n",
      "\n",
      "current: 2018-08-18 00:00:00 current-last_order: 85 t_purch: 0\n",
      "pred: 0.9908716486046635 , tmean_u: 35.704475566063735 , k: 1 \n",
      "\n",
      "current: 2018-08-19 00:00:00 current-last_order: 86 t_purch: 0\n",
      "pred: 0.9905291179683492 , tmean_u: 35.704475566063735 , k: 1 \n",
      "\n",
      "current: 2018-08-20 00:00:00 current-last_order: 87 t_purch: 0\n",
      "pred: 0.990179366828355 , tmean_u: 35.704475566063735 , k: 1 \n",
      "\n",
      "current: 2018-08-21 00:00:00 current-last_order: 88 t_purch: 0\n",
      "pred: 0.9898224017095222 , tmean_u: 35.704475566063735 , k: 1 \n",
      "\n",
      "current: 2018-08-22 00:00:00 current-last_order: 89 t_purch: 0\n",
      "pred: 0.9894582316747532 , tmean_u: 35.704475566063735 , k: 1 \n",
      "\n",
      "current: 2018-08-23 00:00:00 current-last_order: 90 t_purch: 0\n",
      "pred: 0.9890868682526543 , tmean_u: 35.704475566063735 , k: 1 \n",
      "\n",
      "current: 2018-08-24 00:00:00 current-last_order: 91 t_purch: 0\n",
      "pred: 0.9887083253652583 , tmean_u: 35.704475566063735 , k: 1 \n",
      "\n",
      "current: 2018-08-25 00:00:00 current-last_order: 92 t_purch: 0\n",
      "pred: 0.9883226192559494 , tmean_u: 35.704475566063735 , k: 1 \n",
      "\n",
      "current: 2018-08-26 00:00:00 current-last_order: 93 t_purch: 0\n",
      "pred: 0.9879297684177014 , tmean_u: 35.704475566063735 , k: 1 \n",
      "\n",
      "current: 2018-08-27 00:00:00 current-last_order: 94 t_purch: 0\n",
      "pred: 0.9875297935217296 , tmean_u: 35.704475566063735 , k: 1 \n",
      "\n",
      "current: 2018-08-28 00:00:00 current-last_order: 95 t_purch: 0\n",
      "pred: 0.9871227173466554 , tmean_u: 35.704475566063735 , k: 1 \n",
      "\n",
      "current: 2018-08-29 00:00:00 current-last_order: 96 t_purch: 0\n",
      "pred: 0.9867085647082658 , tmean_u: 35.704475566063735 , k: 1 \n",
      "\n",
      "current: 2018-08-30 00:00:00 current-last_order: 97 t_purch: 0\n",
      "pred: 0.9862873623899523 , tmean_u: 35.704475566063735 , k: 1 \n",
      "\n",
      "------------------------------------------------------------------------\n",
      "\n",
      "\n",
      "last order: 8147302   2018-06-18 16:31:51\n",
      "Name: biz_dt, dtype: datetime64[ns]\n",
      "current: 2018-08-01 00:00:00 current-last_order: 43 t_purch: 0\n",
      "pred: 0.9991158774496881 , tmean_u: 35.704475566063735 , k: 1 \n",
      "\n",
      "current: 2018-08-02 00:00:00 current-last_order: 44 t_purch: 0\n",
      "pred: 0.9990400919894848 , tmean_u: 35.704475566063735 , k: 1 \n",
      "\n",
      "current: 2018-08-03 00:00:00 current-last_order: 45 t_purch: 0\n",
      "pred: 0.9989597904271331 , tmean_u: 35.704475566063735 , k: 1 \n",
      "\n",
      "current: 2018-08-04 00:00:00 current-last_order: 46 t_purch: 0\n",
      "pred: 0.9988748394963936 , tmean_u: 35.704475566063735 , k: 1 \n",
      "\n",
      "current: 2018-08-05 00:00:00 current-last_order: 47 t_purch: 0\n",
      "pred: 0.9987851083317988 , tmean_u: 35.704475566063735 , k: 1 \n",
      "\n",
      "current: 2018-08-06 00:00:00 current-last_order: 48 t_purch: 0\n",
      "pred: 0.9986904686426801 , tmean_u: 35.704475566063735 , k: 1 \n",
      "\n",
      "current: 2018-08-07 00:00:00 current-last_order: 49 t_purch: 0\n",
      "pred: 0.9985907948743296 , tmean_u: 35.704475566063735 , k: 1 \n",
      "\n",
      "current: 2018-08-08 00:00:00 current-last_order: 50 t_purch: 0\n",
      "pred: 0.9984859643564341 , tmean_u: 35.704475566063735 , k: 1 \n",
      "\n",
      "current: 2018-08-09 00:00:00 current-last_order: 51 t_purch: 0\n",
      "pred: 0.998375857438975 , tmean_u: 35.704475566063735 , k: 1 \n",
      "\n",
      "current: 2018-08-10 00:00:00 current-last_order: 52 t_purch: 0\n",
      "pred: 0.9982603576158338 , tmean_u: 35.704475566063735 , k: 1 \n",
      "\n",
      "current: 2018-08-11 00:00:00 current-last_order: 53 t_purch: 0\n",
      "pred: 0.9981393516363859 , tmean_u: 35.704475566063735 , k: 1 \n",
      "\n",
      "current: 2018-08-12 00:00:00 current-last_order: 54 t_purch: 0\n",
      "pred: 0.9980127296054018 , tmean_u: 35.704475566063735 , k: 1 \n",
      "\n",
      "current: 2018-08-13 00:00:00 current-last_order: 55 t_purch: 0\n",
      "pred: 0.9978803850716003 , tmean_u: 35.704475566063735 , k: 1 \n",
      "\n",
      "current: 2018-08-14 00:00:00 current-last_order: 56 t_purch: 0\n",
      "pred: 0.9977422151052306 , tmean_u: 35.704475566063735 , k: 1 \n",
      "\n",
      "current: 2018-08-15 00:00:00 current-last_order: 57 t_purch: 0\n",
      "pred: 0.9975981203650753 , tmean_u: 35.704475566063735 , k: 1 \n",
      "\n",
      "current: 2018-08-16 00:00:00 current-last_order: 58 t_purch: 0\n",
      "pred: 0.9974480051552812 , tmean_u: 35.704475566063735 , k: 1 \n",
      "\n",
      "current: 2018-08-17 00:00:00 current-last_order: 59 t_purch: 0\n",
      "pred: 0.9972917774724437 , tmean_u: 35.704475566063735 , k: 1 \n",
      "\n",
      "current: 2018-08-18 00:00:00 current-last_order: 60 t_purch: 0\n",
      "pred: 0.9971293490433722 , tmean_u: 35.704475566063735 , k: 1 \n",
      "\n",
      "current: 2018-08-19 00:00:00 current-last_order: 61 t_purch: 0\n",
      "pred: 0.9969606353539723 , tmean_u: 35.704475566063735 , k: 1 \n",
      "\n",
      "current: 2018-08-20 00:00:00 current-last_order: 62 t_purch: 0\n",
      "pred: 0.9967855556696823 , tmean_u: 35.704475566063735 , k: 1 \n",
      "\n"
     ]
    },
    {
     "name": "stdout",
     "output_type": "stream",
     "text": [
      "current: 2018-08-21 00:00:00 current-last_order: 63 t_purch: 0\n",
      "pred: 0.9966040330479039 , tmean_u: 35.704475566063735 , k: 1 \n",
      "\n",
      "current: 2018-08-22 00:00:00 current-last_order: 64 t_purch: 0\n",
      "pred: 0.9964159943428598 , tmean_u: 35.704475566063735 , k: 1 \n",
      "\n",
      "current: 2018-08-23 00:00:00 current-last_order: 65 t_purch: 0\n",
      "pred: 0.9962213702033103 , tmean_u: 35.704475566063735 , k: 1 \n",
      "\n",
      "current: 2018-08-24 00:00:00 current-last_order: 66 t_purch: 0\n",
      "pred: 0.9960200950635547 , tmean_u: 35.704475566063735 , k: 1 \n",
      "\n",
      "current: 2018-08-25 00:00:00 current-last_order: 67 t_purch: 0\n",
      "pred: 0.9958121071281338 , tmean_u: 35.704475566063735 , k: 1 \n",
      "\n",
      "current: 2018-08-26 00:00:00 current-last_order: 68 t_purch: 0\n",
      "pred: 0.9955973483506412 , tmean_u: 35.704475566063735 , k: 1 \n",
      "\n",
      "current: 2018-08-27 00:00:00 current-last_order: 69 t_purch: 0\n",
      "pred: 0.9953757644070425 , tmean_u: 35.704475566063735 , k: 1 \n",
      "\n",
      "current: 2018-08-28 00:00:00 current-last_order: 70 t_purch: 0\n",
      "pred: 0.9951473046638907 , tmean_u: 35.704475566063735 , k: 1 \n",
      "\n",
      "current: 2018-08-29 00:00:00 current-last_order: 71 t_purch: 0\n",
      "pred: 0.9949119221418105 , tmean_u: 35.704475566063735 , k: 1 \n",
      "\n",
      "current: 2018-08-30 00:00:00 current-last_order: 72 t_purch: 0\n",
      "pred: 0.994669573474617 , tmean_u: 35.704475566063735 , k: 1 \n",
      "\n",
      "------------------------------------------------------------------------\n",
      "\n",
      "\n",
      "last order: 7918612   2018-06-18 07:32:48\n",
      "Name: biz_dt, dtype: datetime64[ns]\n",
      "current: 2018-08-01 00:00:00 current-last_order: 43 t_purch: 0\n",
      "pred: 0.9991158774496881 , tmean_u: 35.704475566063735 , k: 1 \n",
      "\n",
      "current: 2018-08-02 00:00:00 current-last_order: 44 t_purch: 0\n",
      "pred: 0.9990400919894848 , tmean_u: 35.704475566063735 , k: 1 \n",
      "\n",
      "current: 2018-08-03 00:00:00 current-last_order: 45 t_purch: 0\n",
      "pred: 0.9989597904271331 , tmean_u: 35.704475566063735 , k: 1 \n",
      "\n",
      "current: 2018-08-04 00:00:00 current-last_order: 46 t_purch: 0\n",
      "pred: 0.9988748394963936 , tmean_u: 35.704475566063735 , k: 1 \n",
      "\n",
      "current: 2018-08-05 00:00:00 current-last_order: 47 t_purch: 0\n",
      "pred: 0.9987851083317988 , tmean_u: 35.704475566063735 , k: 1 \n",
      "\n",
      "current: 2018-08-06 00:00:00 current-last_order: 48 t_purch: 0\n",
      "pred: 0.9986904686426801 , tmean_u: 35.704475566063735 , k: 1 \n",
      "\n",
      "current: 2018-08-07 00:00:00 current-last_order: 49 t_purch: 0\n",
      "pred: 0.9985907948743296 , tmean_u: 35.704475566063735 , k: 1 \n",
      "\n",
      "current: 2018-08-08 00:00:00 current-last_order: 50 t_purch: 0\n",
      "pred: 0.9984859643564341 , tmean_u: 35.704475566063735 , k: 1 \n",
      "\n",
      "current: 2018-08-09 00:00:00 current-last_order: 51 t_purch: 0\n",
      "pred: 0.998375857438975 , tmean_u: 35.704475566063735 , k: 1 \n",
      "\n",
      "current: 2018-08-10 00:00:00 current-last_order: 52 t_purch: 0\n",
      "pred: 0.9982603576158338 , tmean_u: 35.704475566063735 , k: 1 \n",
      "\n",
      "current: 2018-08-11 00:00:00 current-last_order: 53 t_purch: 0\n",
      "pred: 0.9981393516363859 , tmean_u: 35.704475566063735 , k: 1 \n",
      "\n",
      "current: 2018-08-12 00:00:00 current-last_order: 54 t_purch: 0\n",
      "pred: 0.9980127296054018 , tmean_u: 35.704475566063735 , k: 1 \n",
      "\n",
      "current: 2018-08-13 00:00:00 current-last_order: 55 t_purch: 0\n",
      "pred: 0.9978803850716003 , tmean_u: 35.704475566063735 , k: 1 \n",
      "\n",
      "current: 2018-08-14 00:00:00 current-last_order: 56 t_purch: 0\n",
      "pred: 0.9977422151052306 , tmean_u: 35.704475566063735 , k: 1 \n",
      "\n",
      "current: 2018-08-15 00:00:00 current-last_order: 57 t_purch: 0\n",
      "pred: 0.9975981203650753 , tmean_u: 35.704475566063735 , k: 1 \n",
      "\n",
      "current: 2018-08-16 00:00:00 current-last_order: 58 t_purch: 0\n",
      "pred: 0.9974480051552812 , tmean_u: 35.704475566063735 , k: 1 \n",
      "\n",
      "current: 2018-08-17 00:00:00 current-last_order: 59 t_purch: 0\n",
      "pred: 0.9972917774724437 , tmean_u: 35.704475566063735 , k: 1 \n",
      "\n",
      "current: 2018-08-18 00:00:00 current-last_order: 60 t_purch: 0\n",
      "pred: 0.9971293490433722 , tmean_u: 35.704475566063735 , k: 1 \n",
      "\n",
      "current: 2018-08-19 00:00:00 current-last_order: 61 t_purch: 0\n",
      "pred: 0.9969606353539723 , tmean_u: 35.704475566063735 , k: 1 \n",
      "\n",
      "current: 2018-08-20 00:00:00 current-last_order: 62 t_purch: 0\n",
      "pred: 0.9967855556696823 , tmean_u: 35.704475566063735 , k: 1 \n",
      "\n",
      "current: 2018-08-21 00:00:00 current-last_order: 63 t_purch: 0\n",
      "pred: 0.9966040330479039 , tmean_u: 35.704475566063735 , k: 1 \n",
      "\n",
      "current: 2018-08-22 00:00:00 current-last_order: 64 t_purch: 0\n",
      "pred: 0.9964159943428598 , tmean_u: 35.704475566063735 , k: 1 \n",
      "\n",
      "current: 2018-08-23 00:00:00 current-last_order: 65 t_purch: 0\n",
      "pred: 0.9962213702033103 , tmean_u: 35.704475566063735 , k: 1 \n",
      "\n",
      "current: 2018-08-24 00:00:00 current-last_order: 66 t_purch: 0\n",
      "pred: 0.9960200950635547 , tmean_u: 35.704475566063735 , k: 1 \n",
      "\n",
      "current: 2018-08-25 00:00:00 current-last_order: 67 t_purch: 0\n",
      "pred: 0.9958121071281338 , tmean_u: 35.704475566063735 , k: 1 \n",
      "\n",
      "current: 2018-08-26 00:00:00 current-last_order: 68 t_purch: 0\n",
      "pred: 0.9955973483506412 , tmean_u: 35.704475566063735 , k: 1 \n",
      "\n",
      "current: 2018-08-27 00:00:00 current-last_order: 69 t_purch: 0\n",
      "pred: 0.9953757644070425 , tmean_u: 35.704475566063735 , k: 1 \n",
      "\n",
      "current: 2018-08-28 00:00:00 current-last_order: 70 t_purch: 0\n",
      "pred: 0.9951473046638907 , tmean_u: 35.704475566063735 , k: 1 \n",
      "\n",
      "current: 2018-08-29 00:00:00 current-last_order: 71 t_purch: 0\n",
      "pred: 0.9949119221418105 , tmean_u: 35.704475566063735 , k: 1 \n",
      "\n",
      "current: 2018-08-30 00:00:00 current-last_order: 72 t_purch: 0\n",
      "pred: 0.994669573474617 , tmean_u: 35.704475566063735 , k: 1 \n",
      "\n",
      "------------------------------------------------------------------------\n",
      "\n",
      "\n",
      "last order: 2998918   2018-06-29 23:42:54\n",
      "Name: biz_dt, dtype: datetime64[ns]\n",
      "current: 2018-08-01 00:00:00 current-last_order: 32 t_purch: 0\n",
      "pred: 0.9993528997130378 , tmean_u: 35.704475566063735 , k: 1 \n",
      "\n",
      "current: 2018-08-02 00:00:00 current-last_order: 33 t_purch: 0\n",
      "pred: 0.9994097191125292 , tmean_u: 35.704475566063735 , k: 1 \n",
      "\n",
      "current: 2018-08-03 00:00:00 current-last_order: 34 t_purch: 0\n",
      "pred: 0.9994628023373361 , tmean_u: 35.704475566063735 , k: 1 \n",
      "\n",
      "current: 2018-08-04 00:00:00 current-last_order: 35 t_purch: 0\n",
      "pred: 0.9995122932033722 , tmean_u: 35.704475566063735 , k: 1 \n",
      "\n",
      "current: 2018-08-05 00:00:00 current-last_order: 36 t_purch: 0\n",
      "pred: 0.9995315310121253 , tmean_u: 35.704475566063735 , k: 1 \n",
      "\n",
      "current: 2018-08-06 00:00:00 current-last_order: 37 t_purch: 0\n",
      "pred: 0.9994834676490595 , tmean_u: 35.704475566063735 , k: 1 \n",
      "\n",
      "current: 2018-08-07 00:00:00 current-last_order: 38 t_purch: 0\n",
      "pred: 0.9994318709482798 , tmean_u: 35.704475566063735 , k: 1 \n",
      "\n",
      "current: 2018-08-08 00:00:00 current-last_order: 39 t_purch: 0\n",
      "pred: 0.999376596788596 , tmean_u: 35.704475566063735 , k: 1 \n",
      "\n",
      "current: 2018-08-09 00:00:00 current-last_order: 40 t_purch: 0\n",
      "pred: 0.999317501874447 , tmean_u: 35.704475566063735 , k: 1 \n",
      "\n",
      "current: 2018-08-10 00:00:00 current-last_order: 41 t_purch: 0\n",
      "pred: 0.9992544439977008 , tmean_u: 35.704475566063735 , k: 1 \n",
      "\n",
      "current: 2018-08-11 00:00:00 current-last_order: 42 t_purch: 0\n",
      "pred: 0.9991872822877849 , tmean_u: 35.704475566063735 , k: 1 \n",
      "\n",
      "current: 2018-08-12 00:00:00 current-last_order: 43 t_purch: 0\n",
      "pred: 0.9991158774496881 , tmean_u: 35.704475566063735 , k: 1 \n",
      "\n",
      "current: 2018-08-13 00:00:00 current-last_order: 44 t_purch: 0\n",
      "pred: 0.9990400919894848 , tmean_u: 35.704475566063735 , k: 1 \n",
      "\n",
      "current: 2018-08-14 00:00:00 current-last_order: 45 t_purch: 0\n",
      "pred: 0.9989597904271331 , tmean_u: 35.704475566063735 , k: 1 \n",
      "\n",
      "current: 2018-08-15 00:00:00 current-last_order: 46 t_purch: 0\n",
      "pred: 0.9988748394963936 , tmean_u: 35.704475566063735 , k: 1 \n",
      "\n",
      "current: 2018-08-16 00:00:00 current-last_order: 47 t_purch: 0\n",
      "pred: 0.9987851083317988 , tmean_u: 35.704475566063735 , k: 1 \n",
      "\n",
      "current: 2018-08-17 00:00:00 current-last_order: 48 t_purch: 0\n",
      "pred: 0.9986904686426801 , tmean_u: 35.704475566063735 , k: 1 \n",
      "\n",
      "current: 2018-08-18 00:00:00 current-last_order: 49 t_purch: 0\n",
      "pred: 0.9985907948743296 , tmean_u: 35.704475566063735 , k: 1 \n",
      "\n",
      "current: 2018-08-19 00:00:00 current-last_order: 50 t_purch: 0\n",
      "pred: 0.9984859643564341 , tmean_u: 35.704475566063735 , k: 1 \n",
      "\n",
      "current: 2018-08-20 00:00:00 current-last_order: 51 t_purch: 0\n",
      "pred: 0.998375857438975 , tmean_u: 35.704475566063735 , k: 1 \n",
      "\n",
      "current: 2018-08-21 00:00:00 current-last_order: 52 t_purch: 0\n",
      "pred: 0.9982603576158338 , tmean_u: 35.704475566063735 , k: 1 \n",
      "\n",
      "current: 2018-08-22 00:00:00 current-last_order: 53 t_purch: 0\n",
      "pred: 0.9981393516363859 , tmean_u: 35.704475566063735 , k: 1 \n",
      "\n",
      "current: 2018-08-23 00:00:00 current-last_order: 54 t_purch: 0\n",
      "pred: 0.9980127296054018 , tmean_u: 35.704475566063735 , k: 1 \n",
      "\n"
     ]
    },
    {
     "name": "stdout",
     "output_type": "stream",
     "text": [
      "current: 2018-08-24 00:00:00 current-last_order: 55 t_purch: 0\n",
      "pred: 0.9978803850716003 , tmean_u: 35.704475566063735 , k: 1 \n",
      "\n",
      "current: 2018-08-25 00:00:00 current-last_order: 56 t_purch: 0\n",
      "pred: 0.9977422151052306 , tmean_u: 35.704475566063735 , k: 1 \n",
      "\n",
      "current: 2018-08-26 00:00:00 current-last_order: 57 t_purch: 0\n",
      "pred: 0.9975981203650753 , tmean_u: 35.704475566063735 , k: 1 \n",
      "\n",
      "current: 2018-08-27 00:00:00 current-last_order: 58 t_purch: 0\n",
      "pred: 0.9974480051552812 , tmean_u: 35.704475566063735 , k: 1 \n",
      "\n",
      "current: 2018-08-28 00:00:00 current-last_order: 59 t_purch: 0\n",
      "pred: 0.9972917774724437 , tmean_u: 35.704475566063735 , k: 1 \n",
      "\n",
      "current: 2018-08-29 00:00:00 current-last_order: 60 t_purch: 0\n",
      "pred: 0.9971293490433722 , tmean_u: 35.704475566063735 , k: 1 \n",
      "\n",
      "current: 2018-08-30 00:00:00 current-last_order: 61 t_purch: 0\n",
      "pred: 0.9969606353539723 , tmean_u: 35.704475566063735 , k: 1 \n",
      "\n",
      "------------------------------------------------------------------------\n",
      "\n",
      "\n",
      "last order: 9742468   2018-06-01 07:35:15\n",
      "Name: biz_dt, dtype: datetime64[ns]\n",
      "current: 2018-08-01 00:00:00 current-last_order: 60 t_purch: 151\n",
      "pred: 0.958453463198033 , tmean_u: 25 , k: 7 \n",
      "\n",
      "current: 2018-08-02 00:00:00 current-last_order: 61 t_purch: 151\n",
      "pred: 0.9577471535365676 , tmean_u: 25 , k: 7 \n",
      "\n",
      "current: 2018-08-03 00:00:00 current-last_order: 62 t_purch: 151\n",
      "pred: 0.9570364730112 , tmean_u: 25 , k: 7 \n",
      "\n",
      "current: 2018-08-04 00:00:00 current-last_order: 63 t_purch: 151\n",
      "pred: 0.9563214807015215 , tmean_u: 25 , k: 7 \n",
      "\n",
      "current: 2018-08-05 00:00:00 current-last_order: 64 t_purch: 151\n",
      "pred: 0.9556022355189538 , tmean_u: 25 , k: 7 \n",
      "\n",
      "current: 2018-08-06 00:00:00 current-last_order: 65 t_purch: 151\n",
      "pred: 0.954878796191698 , tmean_u: 25 , k: 7 \n",
      "\n",
      "current: 2018-08-07 00:00:00 current-last_order: 66 t_purch: 151\n",
      "pred: 0.9541512212503136 , tmean_u: 25 , k: 7 \n",
      "\n",
      "current: 2018-08-08 00:00:00 current-last_order: 67 t_purch: 151\n",
      "pred: 0.9534195690139133 , tmean_u: 25 , k: 7 \n",
      "\n",
      "current: 2018-08-09 00:00:00 current-last_order: 68 t_purch: 151\n",
      "pred: 0.9526838975769543 , tmean_u: 25 , k: 7 \n",
      "\n",
      "current: 2018-08-10 00:00:00 current-last_order: 69 t_purch: 151\n",
      "pred: 0.9519442647966112 , tmean_u: 25 , k: 7 \n",
      "\n",
      "current: 2018-08-11 00:00:00 current-last_order: 70 t_purch: 151\n",
      "pred: 0.9512007282807138 , tmean_u: 25 , k: 7 \n",
      "\n",
      "current: 2018-08-12 00:00:00 current-last_order: 71 t_purch: 151\n",
      "pred: 0.9504533453762328 , tmean_u: 25 , k: 7 \n",
      "\n",
      "current: 2018-08-13 00:00:00 current-last_order: 72 t_purch: 151\n",
      "pred: 0.9497021731583 , tmean_u: 25 , k: 7 \n",
      "\n",
      "current: 2018-08-14 00:00:00 current-last_order: 73 t_purch: 151\n",
      "pred: 0.9489472684197439 , tmean_u: 25 , k: 7 \n",
      "\n",
      "current: 2018-08-15 00:00:00 current-last_order: 74 t_purch: 151\n",
      "pred: 0.9481886876611302 , tmean_u: 25 , k: 7 \n",
      "\n",
      "current: 2018-08-16 00:00:00 current-last_order: 75 t_purch: 151\n",
      "pred: 0.9474264870812882 , tmean_u: 25 , k: 7 \n",
      "\n",
      "current: 2018-08-17 00:00:00 current-last_order: 76 t_purch: 151\n",
      "pred: 0.946660722568311 , tmean_u: 25 , k: 7 \n",
      "\n",
      "current: 2018-08-18 00:00:00 current-last_order: 77 t_purch: 151\n",
      "pred: 0.9458914496910147 , tmean_u: 25 , k: 7 \n",
      "\n",
      "current: 2018-08-19 00:00:00 current-last_order: 78 t_purch: 151\n",
      "pred: 0.9451187236908414 , tmean_u: 25 , k: 7 \n",
      "\n",
      "current: 2018-08-20 00:00:00 current-last_order: 79 t_purch: 151\n",
      "pred: 0.9443425994741949 , tmean_u: 25 , k: 7 \n",
      "\n",
      "current: 2018-08-21 00:00:00 current-last_order: 80 t_purch: 151\n",
      "pred: 0.9435631316051936 , tmean_u: 25 , k: 7 \n",
      "\n",
      "current: 2018-08-22 00:00:00 current-last_order: 81 t_purch: 151\n",
      "pred: 0.9427803742988279 , tmean_u: 25 , k: 7 \n",
      "\n",
      "current: 2018-08-23 00:00:00 current-last_order: 82 t_purch: 151\n",
      "pred: 0.94199438141451 , tmean_u: 25 , k: 7 \n",
      "\n",
      "current: 2018-08-24 00:00:00 current-last_order: 83 t_purch: 151\n",
      "pred: 0.9412052064500038 , tmean_u: 25 , k: 7 \n",
      "\n",
      "current: 2018-08-25 00:00:00 current-last_order: 84 t_purch: 151\n",
      "pred: 0.9404129025357212 , tmean_u: 25 , k: 7 \n",
      "\n",
      "current: 2018-08-26 00:00:00 current-last_order: 85 t_purch: 151\n",
      "pred: 0.9396175224293745 , tmean_u: 25 , k: 7 \n",
      "\n",
      "current: 2018-08-27 00:00:00 current-last_order: 86 t_purch: 151\n",
      "pred: 0.9388191185109728 , tmean_u: 25 , k: 7 \n",
      "\n",
      "current: 2018-08-28 00:00:00 current-last_order: 87 t_purch: 151\n",
      "pred: 0.9380177427781508 , tmean_u: 25 , k: 7 \n",
      "\n",
      "current: 2018-08-29 00:00:00 current-last_order: 88 t_purch: 151\n",
      "pred: 0.9372134468418192 , tmean_u: 25 , k: 7 \n",
      "\n",
      "current: 2018-08-30 00:00:00 current-last_order: 89 t_purch: 151\n",
      "pred: 0.9364062819221256 , tmean_u: 25 , k: 7 \n",
      "\n",
      "------------------------------------------------------------------------\n",
      "\n",
      "\n"
     ]
    }
   ],
   "source": [
    "for j in range(len(test_id_[:10])):\n",
    "    for i in range(30):\n",
    "        lamb, t_, t_purch, tmean_u, k = func_lamb(train = diaper_train, test = diaper_test, test_id=test_id_[j], \n",
    "                  alpha = alpha , beta=1/scale , tmean = tt_drop0.mean().item() , current=current_l[i])\n",
    "        \n",
    "        if i == 0:\n",
    "            print('last order:', diaper_train.biz_dt[diaper_train.m_id == test_id_[j]][-1:])\n",
    "        print('current:',current_l[i], 'current-last_order:', t_ , 't_purch:', t_purch)  \n",
    "        print('pred:',(1-stats.poisson.pmf(mu = lamb, k=0)),', tmean_u:',tmean_u,', k:',k ,'\\n')\n",
    "    \n",
    "    print('------------------------------------------------------------------------')\n",
    "    print('\\n')"
   ]
  },
  {
   "cell_type": "markdown",
   "metadata": {},
   "source": [
    "---"
   ]
  },
  {
   "cell_type": "markdown",
   "metadata": {},
   "source": [
    "# # product로 추천할 수 있는지 조사\n",
    ": 1월달에 있었던 기저귀 제품 중, 8월달에는 얼마나 남아있나?"
   ]
  },
  {
   "cell_type": "code",
   "execution_count": 231,
   "metadata": {},
   "outputs": [
    {
     "data": {
      "text/html": [
       "<div>\n",
       "<style scoped>\n",
       "    .dataframe tbody tr th:only-of-type {\n",
       "        vertical-align: middle;\n",
       "    }\n",
       "\n",
       "    .dataframe tbody tr th {\n",
       "        vertical-align: top;\n",
       "    }\n",
       "\n",
       "    .dataframe thead th {\n",
       "        text-align: right;\n",
       "    }\n",
       "</style>\n",
       "<table border=\"1\" class=\"dataframe\">\n",
       "  <thead>\n",
       "    <tr style=\"text-align: right;\">\n",
       "      <th></th>\n",
       "      <th>Unnamed: 0</th>\n",
       "      <th>biz_dt</th>\n",
       "      <th>m_id</th>\n",
       "      <th>order_price</th>\n",
       "      <th>prod_no</th>\n",
       "      <th>old_admin_category_id</th>\n",
       "      <th>serv_cd</th>\n",
       "    </tr>\n",
       "  </thead>\n",
       "  <tbody>\n",
       "    <tr>\n",
       "      <th>105</th>\n",
       "      <td>105</td>\n",
       "      <td>2018-01-01 00:00:26</td>\n",
       "      <td>6,200,018</td>\n",
       "      <td>34,900</td>\n",
       "      <td>1,472,659</td>\n",
       "      <td>241,010,102</td>\n",
       "      <td>1</td>\n",
       "    </tr>\n",
       "    <tr>\n",
       "      <th>212</th>\n",
       "      <td>212</td>\n",
       "      <td>2018-01-01 00:00:52</td>\n",
       "      <td>2,683,481</td>\n",
       "      <td>32,000</td>\n",
       "      <td>1,597,856</td>\n",
       "      <td>241,010,102</td>\n",
       "      <td>1</td>\n",
       "    </tr>\n",
       "    <tr>\n",
       "      <th>2357</th>\n",
       "      <td>2357</td>\n",
       "      <td>2018-01-01 00:03:47</td>\n",
       "      <td>3,579,286</td>\n",
       "      <td>104,700</td>\n",
       "      <td>1,766,436</td>\n",
       "      <td>241,010,102</td>\n",
       "      <td>1</td>\n",
       "    </tr>\n",
       "    <tr>\n",
       "      <th>3125</th>\n",
       "      <td>3125</td>\n",
       "      <td>2018-01-01 00:04:27</td>\n",
       "      <td>6,200,018</td>\n",
       "      <td>34,900</td>\n",
       "      <td>1,472,659</td>\n",
       "      <td>241,010,102</td>\n",
       "      <td>1</td>\n",
       "    </tr>\n",
       "    <tr>\n",
       "      <th>3831</th>\n",
       "      <td>3831</td>\n",
       "      <td>2018-01-01 00:05:09</td>\n",
       "      <td>1,385,545</td>\n",
       "      <td>69,800</td>\n",
       "      <td>1,811,080</td>\n",
       "      <td>241,010,102</td>\n",
       "      <td>1</td>\n",
       "    </tr>\n",
       "  </tbody>\n",
       "</table>\n",
       "</div>"
      ],
      "text/plain": [
       "      Unnamed: 0              biz_dt       m_id order_price    prod_no  \\\n",
       "105          105 2018-01-01 00:00:26  6,200,018      34,900  1,472,659   \n",
       "212          212 2018-01-01 00:00:52  2,683,481      32,000  1,597,856   \n",
       "2357        2357 2018-01-01 00:03:47  3,579,286     104,700  1,766,436   \n",
       "3125        3125 2018-01-01 00:04:27  6,200,018      34,900  1,472,659   \n",
       "3831        3831 2018-01-01 00:05:09  1,385,545      69,800  1,811,080   \n",
       "\n",
       "     old_admin_category_id  serv_cd  \n",
       "105            241,010,102        1  \n",
       "212            241,010,102        1  \n",
       "2357           241,010,102        1  \n",
       "3125           241,010,102        1  \n",
       "3831           241,010,102        1  "
      ]
     },
     "execution_count": 231,
     "metadata": {},
     "output_type": "execute_result"
    }
   ],
   "source": [
    "diaper_train.head()"
   ]
  },
  {
   "cell_type": "code",
   "execution_count": 234,
   "metadata": {},
   "outputs": [
    {
     "data": {
      "text/plain": [
       "Timestamp('2018-02-01 00:00:00')"
      ]
     },
     "execution_count": 234,
     "metadata": {},
     "output_type": "execute_result"
    }
   ],
   "source": [
    "pd.to_datetime('2018-02-01')"
   ]
  },
  {
   "cell_type": "markdown",
   "metadata": {},
   "source": [
    "---"
   ]
  },
  {
   "cell_type": "code",
   "execution_count": 235,
   "metadata": {},
   "outputs": [],
   "source": [
    "# 1월 기저귀 품목데이터\n",
    "\n",
    "xx = diaper_train[diaper_train.biz_dt < pd.to_datetime('2018-02-01')]"
   ]
  },
  {
   "cell_type": "code",
   "execution_count": 238,
   "metadata": {},
   "outputs": [],
   "source": [
    "# 1월 기저귀 prod_no\n",
    "\n",
    "prod_01 = xx.prod_no.unique()"
   ]
  },
  {
   "cell_type": "code",
   "execution_count": 239,
   "metadata": {},
   "outputs": [
    {
     "data": {
      "text/plain": [
       "327"
      ]
     },
     "execution_count": 239,
     "metadata": {},
     "output_type": "execute_result"
    }
   ],
   "source": [
    "len(prod_01)"
   ]
  },
  {
   "cell_type": "code",
   "execution_count": 272,
   "metadata": {
    "scrolled": true
   },
   "outputs": [
    {
     "data": {
      "text/plain": [
       "array(['1,472,659', '1,597,856', '1,766,436', '1,811,080', '1,600,881',\n",
       "       '3,104,762', '1,811,230', '1,981,543', '2,309,750', '3,091,892',\n",
       "       '1,675,988', '2,113,825', '2,491,515', '1,739,642', '1,658,688',\n",
       "       '2,350,730', '3,042,597', '1,656,962', '2,485,221', '1,904,746',\n",
       "       '1,672,583', '1,657,006', '1,668,329', '1,463,631', '1,756,982',\n",
       "       '1,657,016', '1,656,921', '2,025,023', '1,846,247', '2,491,179',\n",
       "       '1,673,954', '2,436,515', '3,104,287', '2,122,547', '1,868,040',\n",
       "       '3,010,318', '1,484,976', '2,749,563', '1,672,614', '1,499,606',\n",
       "       '1,536,509', '1,489,263', '1,776,785', '1,432,189', '1,811,711',\n",
       "       '1,588,372', '3,034,509', '1,588,367', '2,288,100', '2,352,933',\n",
       "       '2,334,032', '2,536,288', '1,656,878', '3,044,920', '1,463,148',\n",
       "       '1,829,016', '1,588,824', '1,856,478', '2,938,151', '1,814,676',\n",
       "       '1,564,947', '1,811,234', '1,669,754', '1,909,501', '2,101,862',\n",
       "       '2,965,281', '2,798,250', '1,657,253', '2,981,459', '1,539,236',\n",
       "       '1,419,811', '1,631,190', '2,020,993', '2,485,150', '1,853,658',\n",
       "       '2,355,816', '1,811,704', '1,711,161', '2,357,763', '1,683,347',\n",
       "       '3,028,295', '2,312,736', '1,847,178', '2,355,925', '1,825,436',\n",
       "       '2,048,212', '1,422,791', '1,479,989', '2,348,768', '1,941,672',\n",
       "       '1,833,245', '1,617,574', '2,150,722', '2,193,927', '2,751,435',\n",
       "       '1,817,333', '2,099,738', '1,573,290', '3,010,317', '1,847,170',\n",
       "       '1,867,270', '2,949,237', '1,601,339', '2,535,918', '1,904,522',\n",
       "       '2,588,930', '2,110,909', '1,404,035', '2,140,417', '1,536,487',\n",
       "       '1,439,711', '2,431,159', '1,619,003', '2,535,709', '2,485,008',\n",
       "       '1,817,155', '1,888,542', '2,076,918', '1,935,138', '1,536,485',\n",
       "       '1,725,601', '1,815,774', '2,064,501', '2,357,795', '2,444,671',\n",
       "       '2,453,474', '3,105,766', '1,684,496', '2,595,424', '1,702,633',\n",
       "       '2,181,568', '2,557,692', '2,512,605', '2,123,632', '1,539,387',\n",
       "       '3,114,749', '2,118,523', '2,751,413', '1,832,473', '2,140,528',\n",
       "       '1,518,563', '1,465,242', '2,540,293', '2,611,070', '2,694,273',\n",
       "       '2,132,062', '3,042,986', '2,102,364', '1,726,527', '1,631,812',\n",
       "       '1,688,753', '2,226,329', '1,673,652', '1,811,182', '1,343,108',\n",
       "       '1,835,154', '2,966,406', '2,464,227', '2,748,671', '2,020,954',\n",
       "       '1,511,433', '2,989,495', '2,142,655', '2,878,445', '1,533,505',\n",
       "       '2,020,588', '2,020,794', '2,332,396', '2,309,807', '2,020,903',\n",
       "       '1,915,334', '2,923,821', '2,020,665', '3,010,314', '2,996,860',\n",
       "       '1,919,053', '1,825,520', '2,321,061', '2,339,618', '3,102,174',\n",
       "       '3,090,585', '3,118,004', '2,048,230', '2,177,371', '1,591,001',\n",
       "       '2,458,102', '1,436,296', '1,904,268', '3,054,403', '1,825,444',\n",
       "       '2,488,584', '2,019,380', '2,936,690', '1,919,809', '2,100,031',\n",
       "       '2,022,701', '2,196,630', '3,119,348', '3,084,782', '2,124,613',\n",
       "       '2,020,735', '2,862,074', '3,112,916', '1,932,933', '1,895,421',\n",
       "       '2,020,708', '1,723,878', '2,588,698', '1,863,988', '3,130,133',\n",
       "       '3,128,721', '3,129,732', '3,010,316', '2,611,404', '2,303,165',\n",
       "       '1,518,583', '1,707,917', '1,518,414', '1,343,004', '3,127,206',\n",
       "       '2,595,447', '3,115,702', '2,535,853', '2,410,565', '2,535,814',\n",
       "       '3,135,081', '2,748,672', '2,536,257', '2,536,269', '3,126,654',\n",
       "       '1,605,372', '2,597,427', '2,121,541', '1,639,287', '2,536,261',\n",
       "       '3,127,098', '3,110,662', '2,818,028', '1,702,598', '3,075,490',\n",
       "       '2,464,613', '1,723,366', '2,542,088', '3,144,577', '2,120,796',\n",
       "       '1,518,484', '2,536,128', '3,139,681', '2,391,394', '2,411,453',\n",
       "       '3,051,667', '3,000,834', '2,825,610', '3,134,903', '1,995,232',\n",
       "       '1,750,176', '1,953,609', '1,812,598', '3,157,578', '2,536,278',\n",
       "       '2,355,890', '2,357,384', '2,357,825', '3,155,227', '3,154,163',\n",
       "       '3,154,071', '2,400,477', '2,512,077', '3,163,269', '3,134,221',\n",
       "       '3,144,264', '1,817,617', '3,171,433', '3,176,393', '1,702,562',\n",
       "       '1,707,946', '3,169,836', '3,075,989', '2,490,876', '1,969,767',\n",
       "       '2,490,859', '1,489,621', '3,175,085', '3,170,550', '3,164,039',\n",
       "       '3,169,721', '2,536,235', '3,188,755', '3,193,071', '2,589,154',\n",
       "       '1,836,474', '3,192,865', '3,185,427', '3,195,067', '3,198,846',\n",
       "       '1,915,644', '3,151,193', '3,189,098', '3,201,607', '3,203,049',\n",
       "       '3,202,896', '3,170,668', '1,726,669', '3,205,978', '3,209,557',\n",
       "       '3,213,412', '2,542,555', '3,212,843', '3,189,170', '3,213,482',\n",
       "       '3,211,231', '3,219,579', '3,222,540', '3,221,474', '3,218,349',\n",
       "       '2,464,972', '3,203,018', '3,219,576', '3,229,327', '3,208,153',\n",
       "       '3,219,265', '3,210,217', '3,226,741', '3,220,461', '3,236,928',\n",
       "       '2,227,083', '3,227,310'], dtype=object)"
      ]
     },
     "execution_count": 272,
     "metadata": {},
     "output_type": "execute_result"
    }
   ],
   "source": [
    "# 1월달에 이정도의 품목이 있었어.\n",
    "\n",
    "prod_01"
   ]
  },
  {
   "cell_type": "code",
   "execution_count": 245,
   "metadata": {},
   "outputs": [
    {
     "data": {
      "text/plain": [
       "895"
      ]
     },
     "execution_count": 245,
     "metadata": {},
     "output_type": "execute_result"
    }
   ],
   "source": [
    "diaper_test.prod_no.nunique()"
   ]
  },
  {
   "cell_type": "code",
   "execution_count": 331,
   "metadata": {},
   "outputs": [],
   "source": [
    "tf = []\n",
    "\n",
    "for i in range(len(prod_01)):\n",
    "    tf.append( bool(diaper_test[diaper_test.prod_no == prod_01[i]].shape[0]) == True) #train, test 둘다 있는 아이디를 밝혀주는 index만들어주는거야.\n",
    "    \n",
    "    "
   ]
  },
  {
   "cell_type": "code",
   "execution_count": 332,
   "metadata": {},
   "outputs": [
    {
     "data": {
      "text/plain": [
       "0.42507645259938837"
      ]
     },
     "execution_count": 332,
     "metadata": {},
     "output_type": "execute_result"
    }
   ],
   "source": [
    "prod_01[tf].shape[0]/ prod_01.shape[0]   ### 42퍼센트 살아남았다!!"
   ]
  },
  {
   "cell_type": "markdown",
   "metadata": {},
   "source": [
    ": 추가적으로 월별로 얼마나 빠져나가는지 궁금한데? - 살펴보자"
   ]
  },
  {
   "cell_type": "markdown",
   "metadata": {},
   "source": [
    "---"
   ]
  },
  {
   "cell_type": "markdown",
   "metadata": {},
   "source": [
    "### # 2월 얼마나 살아남나?"
   ]
  },
  {
   "cell_type": "code",
   "execution_count": 275,
   "metadata": {},
   "outputs": [],
   "source": [
    "xx_02 = diaper_train[(pd.to_datetime('2018-02-01') <= diaper_train.biz_dt) & (diaper_train.biz_dt < pd.to_datetime('2018-03-01'))]"
   ]
  },
  {
   "cell_type": "code",
   "execution_count": 277,
   "metadata": {},
   "outputs": [
    {
     "data": {
      "text/html": [
       "<div>\n",
       "<style scoped>\n",
       "    .dataframe tbody tr th:only-of-type {\n",
       "        vertical-align: middle;\n",
       "    }\n",
       "\n",
       "    .dataframe tbody tr th {\n",
       "        vertical-align: top;\n",
       "    }\n",
       "\n",
       "    .dataframe thead th {\n",
       "        text-align: right;\n",
       "    }\n",
       "</style>\n",
       "<table border=\"1\" class=\"dataframe\">\n",
       "  <thead>\n",
       "    <tr style=\"text-align: right;\">\n",
       "      <th></th>\n",
       "      <th>Unnamed: 0</th>\n",
       "      <th>biz_dt</th>\n",
       "      <th>m_id</th>\n",
       "      <th>order_price</th>\n",
       "      <th>prod_no</th>\n",
       "      <th>old_admin_category_id</th>\n",
       "      <th>serv_cd</th>\n",
       "    </tr>\n",
       "  </thead>\n",
       "  <tbody>\n",
       "    <tr>\n",
       "      <th>5827701</th>\n",
       "      <td>25827701</td>\n",
       "      <td>2018-02-28 23:58:58</td>\n",
       "      <td>5,079,622</td>\n",
       "      <td>33,900</td>\n",
       "      <td>3,353,505</td>\n",
       "      <td>241,010,102</td>\n",
       "      <td>1</td>\n",
       "    </tr>\n",
       "    <tr>\n",
       "      <th>5827729</th>\n",
       "      <td>25827729</td>\n",
       "      <td>2018-02-28 23:59:00</td>\n",
       "      <td>4,730,040</td>\n",
       "      <td>26,900</td>\n",
       "      <td>3,335,124</td>\n",
       "      <td>241,010,102</td>\n",
       "      <td>1</td>\n",
       "    </tr>\n",
       "    <tr>\n",
       "      <th>5827759</th>\n",
       "      <td>25827759</td>\n",
       "      <td>2018-02-28 23:59:03</td>\n",
       "      <td>8,766,613</td>\n",
       "      <td>68,000</td>\n",
       "      <td>1,658,688</td>\n",
       "      <td>241,010,102</td>\n",
       "      <td>1</td>\n",
       "    </tr>\n",
       "    <tr>\n",
       "      <th>5827764</th>\n",
       "      <td>25827764</td>\n",
       "      <td>2018-02-28 23:59:03</td>\n",
       "      <td>2,312,236</td>\n",
       "      <td>13,900</td>\n",
       "      <td>3,342,768</td>\n",
       "      <td>241,010,102</td>\n",
       "      <td>1</td>\n",
       "    </tr>\n",
       "    <tr>\n",
       "      <th>5828228</th>\n",
       "      <td>25828228</td>\n",
       "      <td>2018-02-28 23:59:45</td>\n",
       "      <td>8,352,887</td>\n",
       "      <td>24,700</td>\n",
       "      <td>3,353,505</td>\n",
       "      <td>241,010,102</td>\n",
       "      <td>1</td>\n",
       "    </tr>\n",
       "  </tbody>\n",
       "</table>\n",
       "</div>"
      ],
      "text/plain": [
       "         Unnamed: 0              biz_dt       m_id order_price    prod_no  \\\n",
       "5827701    25827701 2018-02-28 23:58:58  5,079,622      33,900  3,353,505   \n",
       "5827729    25827729 2018-02-28 23:59:00  4,730,040      26,900  3,335,124   \n",
       "5827759    25827759 2018-02-28 23:59:03  8,766,613      68,000  1,658,688   \n",
       "5827764    25827764 2018-02-28 23:59:03  2,312,236      13,900  3,342,768   \n",
       "5828228    25828228 2018-02-28 23:59:45  8,352,887      24,700  3,353,505   \n",
       "\n",
       "        old_admin_category_id  serv_cd  \n",
       "5827701           241,010,102        1  \n",
       "5827729           241,010,102        1  \n",
       "5827759           241,010,102        1  \n",
       "5827764           241,010,102        1  \n",
       "5828228           241,010,102        1  "
      ]
     },
     "execution_count": 277,
     "metadata": {},
     "output_type": "execute_result"
    }
   ],
   "source": [
    "xx_02.tail()"
   ]
  },
  {
   "cell_type": "code",
   "execution_count": 333,
   "metadata": {},
   "outputs": [
    {
     "data": {
      "text/plain": [
       "310"
      ]
     },
     "execution_count": 333,
     "metadata": {},
     "output_type": "execute_result"
    }
   ],
   "source": [
    "xx_02.prod_no.nunique()"
   ]
  },
  {
   "cell_type": "code",
   "execution_count": 278,
   "metadata": {},
   "outputs": [],
   "source": [
    "tf = []\n",
    "\n",
    "for i in range(len(prod_01)):\n",
    "    tf.append( bool(xx_02[xx_02.prod_no == prod_01[i]].shape[0]) == True) #train, test 둘다 있는 아이디를 밝혀주는 index만들어주는거야.\n",
    "    \n",
    "    "
   ]
  },
  {
   "cell_type": "code",
   "execution_count": 281,
   "metadata": {},
   "outputs": [
    {
     "data": {
      "text/plain": [
       "0.7247706422018348"
      ]
     },
     "execution_count": 281,
     "metadata": {},
     "output_type": "execute_result"
    }
   ],
   "source": [
    "prod_01[tf].shape[0] / prod_01.shape[0] ####약 72퍼센트 살아남네"
   ]
  },
  {
   "cell_type": "markdown",
   "metadata": {},
   "source": [
    "---"
   ]
  },
  {
   "cell_type": "markdown",
   "metadata": {},
   "source": [
    "### # 3월 얼마나 살아남나?"
   ]
  },
  {
   "cell_type": "code",
   "execution_count": 282,
   "metadata": {},
   "outputs": [],
   "source": [
    "xx_03 = diaper_train[(pd.to_datetime('2018-03-01') <= diaper_train.biz_dt) & (diaper_train.biz_dt < pd.to_datetime('2018-04-01'))]"
   ]
  },
  {
   "cell_type": "code",
   "execution_count": 283,
   "metadata": {},
   "outputs": [
    {
     "data": {
      "text/html": [
       "<div>\n",
       "<style scoped>\n",
       "    .dataframe tbody tr th:only-of-type {\n",
       "        vertical-align: middle;\n",
       "    }\n",
       "\n",
       "    .dataframe tbody tr th {\n",
       "        vertical-align: top;\n",
       "    }\n",
       "\n",
       "    .dataframe thead th {\n",
       "        text-align: right;\n",
       "    }\n",
       "</style>\n",
       "<table border=\"1\" class=\"dataframe\">\n",
       "  <thead>\n",
       "    <tr style=\"text-align: right;\">\n",
       "      <th></th>\n",
       "      <th>Unnamed: 0</th>\n",
       "      <th>biz_dt</th>\n",
       "      <th>m_id</th>\n",
       "      <th>order_price</th>\n",
       "      <th>prod_no</th>\n",
       "      <th>old_admin_category_id</th>\n",
       "      <th>serv_cd</th>\n",
       "    </tr>\n",
       "  </thead>\n",
       "  <tbody>\n",
       "    <tr>\n",
       "      <th>124713</th>\n",
       "      <td>40124713</td>\n",
       "      <td>2018-03-31 23:58:32</td>\n",
       "      <td>16,332,306</td>\n",
       "      <td>19,800</td>\n",
       "      <td>3,477,088</td>\n",
       "      <td>241,010,102</td>\n",
       "      <td>1</td>\n",
       "    </tr>\n",
       "    <tr>\n",
       "      <th>124716</th>\n",
       "      <td>40124716</td>\n",
       "      <td>2018-03-31 23:58:33</td>\n",
       "      <td>6,640,993</td>\n",
       "      <td>9,900</td>\n",
       "      <td>3,477,088</td>\n",
       "      <td>241,010,102</td>\n",
       "      <td>1</td>\n",
       "    </tr>\n",
       "    <tr>\n",
       "      <th>124916</th>\n",
       "      <td>40124916</td>\n",
       "      <td>2018-03-31 23:58:55</td>\n",
       "      <td>10,715,968</td>\n",
       "      <td>9,900</td>\n",
       "      <td>3,477,088</td>\n",
       "      <td>241,010,102</td>\n",
       "      <td>1</td>\n",
       "    </tr>\n",
       "    <tr>\n",
       "      <th>124999</th>\n",
       "      <td>40124999</td>\n",
       "      <td>2018-03-31 23:59:05</td>\n",
       "      <td>3,124,196</td>\n",
       "      <td>38,000</td>\n",
       "      <td>1,658,688</td>\n",
       "      <td>241,010,102</td>\n",
       "      <td>1</td>\n",
       "    </tr>\n",
       "    <tr>\n",
       "      <th>125138</th>\n",
       "      <td>40125138</td>\n",
       "      <td>2018-03-31 23:59:23</td>\n",
       "      <td>2,877,648</td>\n",
       "      <td>9,900</td>\n",
       "      <td>3,477,088</td>\n",
       "      <td>241,010,102</td>\n",
       "      <td>1</td>\n",
       "    </tr>\n",
       "  </tbody>\n",
       "</table>\n",
       "</div>"
      ],
      "text/plain": [
       "        Unnamed: 0              biz_dt        m_id order_price    prod_no  \\\n",
       "124713    40124713 2018-03-31 23:58:32  16,332,306      19,800  3,477,088   \n",
       "124716    40124716 2018-03-31 23:58:33   6,640,993       9,900  3,477,088   \n",
       "124916    40124916 2018-03-31 23:58:55  10,715,968       9,900  3,477,088   \n",
       "124999    40124999 2018-03-31 23:59:05   3,124,196      38,000  1,658,688   \n",
       "125138    40125138 2018-03-31 23:59:23   2,877,648       9,900  3,477,088   \n",
       "\n",
       "       old_admin_category_id  serv_cd  \n",
       "124713           241,010,102        1  \n",
       "124716           241,010,102        1  \n",
       "124916           241,010,102        1  \n",
       "124999           241,010,102        1  \n",
       "125138           241,010,102        1  "
      ]
     },
     "execution_count": 283,
     "metadata": {},
     "output_type": "execute_result"
    }
   ],
   "source": [
    "xx_03.tail()"
   ]
  },
  {
   "cell_type": "code",
   "execution_count": 334,
   "metadata": {},
   "outputs": [
    {
     "data": {
      "text/plain": [
       "421"
      ]
     },
     "execution_count": 334,
     "metadata": {},
     "output_type": "execute_result"
    }
   ],
   "source": [
    "xx_03.prod_no.nunique()"
   ]
  },
  {
   "cell_type": "code",
   "execution_count": 284,
   "metadata": {},
   "outputs": [],
   "source": [
    "tf = []\n",
    "\n",
    "for i in range(len(prod_01)):\n",
    "    tf.append( bool(xx_03[xx_03.prod_no == prod_01[i]].shape[0]) == True) #train, test 둘다 있는 아이디를 밝혀주는 index만들어주는거야.\n",
    "    \n",
    "    "
   ]
  },
  {
   "cell_type": "code",
   "execution_count": 309,
   "metadata": {},
   "outputs": [
    {
     "data": {
      "text/plain": [
       "0.7064220183486238"
      ]
     },
     "execution_count": 309,
     "metadata": {},
     "output_type": "execute_result"
    }
   ],
   "source": [
    "prod_01[tf].shape[0] / prod_01.shape[0] ####약 70퍼센트 살아남네"
   ]
  },
  {
   "cell_type": "markdown",
   "metadata": {},
   "source": [
    "---"
   ]
  },
  {
   "cell_type": "markdown",
   "metadata": {},
   "source": [
    "### # 4월 얼마나 살아남나?"
   ]
  },
  {
   "cell_type": "code",
   "execution_count": 310,
   "metadata": {},
   "outputs": [],
   "source": [
    "xx_04 = diaper_train[(pd.to_datetime('2018-04-01') <= diaper_train.biz_dt) & (diaper_train.biz_dt < pd.to_datetime('2018-05-01'))]"
   ]
  },
  {
   "cell_type": "code",
   "execution_count": 312,
   "metadata": {},
   "outputs": [
    {
     "data": {
      "text/plain": [
       "(        Unnamed: 0              biz_dt        m_id order_price    prod_no  \\\n",
       " 125564    40125564 2018-04-01 00:00:37  13,297,262       9,900  3,477,088   \n",
       " 125576    40125576 2018-04-01 00:00:41   6,165,297      29,000  3,310,326   \n",
       " 125619    40125619 2018-04-01 00:00:56   3,191,851      50,700  3,205,978   \n",
       " 125707    40125707 2018-04-01 00:01:07  20,916,219      73,800  3,360,887   \n",
       " 126047    40126047 2018-04-01 00:01:59   5,219,133      15,000  2,113,825   \n",
       " \n",
       "        old_admin_category_id  serv_cd  \n",
       " 125564           241,010,102        1  \n",
       " 125576           241,010,102        1  \n",
       " 125619           241,010,102        1  \n",
       " 125707           241,010,102        1  \n",
       " 126047           241,010,102        1  ,\n",
       "          Unnamed: 0              biz_dt        m_id order_price    prod_no  \\\n",
       " 5061923    55061923 2018-04-30 23:58:49   4,773,256      35,900  3,272,368   \n",
       " 5062093    55062093 2018-04-30 23:58:58   4,807,452      19,600  3,621,372   \n",
       " 5062180    55062180 2018-04-30 23:59:02   3,218,808      24,900  1,672,583   \n",
       " 5062785    55062785 2018-04-30 23:59:35   3,218,624      39,800  1,656,962   \n",
       " 5062798    55062798 2018-04-30 23:59:36  15,103,072      50,700  3,205,978   \n",
       " \n",
       "         old_admin_category_id  serv_cd  \n",
       " 5061923           241,010,102        1  \n",
       " 5062093           241,010,102        1  \n",
       " 5062180           241,010,102        1  \n",
       " 5062785           241,010,102        1  \n",
       " 5062798           241,010,102        1  )"
      ]
     },
     "execution_count": 312,
     "metadata": {},
     "output_type": "execute_result"
    }
   ],
   "source": [
    "xx_04.head(), xx_04.tail()"
   ]
  },
  {
   "cell_type": "code",
   "execution_count": 335,
   "metadata": {},
   "outputs": [
    {
     "data": {
      "text/plain": [
       "478"
      ]
     },
     "execution_count": 335,
     "metadata": {},
     "output_type": "execute_result"
    }
   ],
   "source": [
    "xx_04.prod_no.nunique()"
   ]
  },
  {
   "cell_type": "code",
   "execution_count": 313,
   "metadata": {},
   "outputs": [],
   "source": [
    "tf = []\n",
    "\n",
    "for i in range(len(prod_01)):\n",
    "    tf.append( bool(xx_04[xx_04.prod_no == prod_01[i]].shape[0]) == True) #train, test 둘다 있는 아이디를 밝혀주는 index만들어주는거야.\n",
    "    \n",
    "    "
   ]
  },
  {
   "cell_type": "code",
   "execution_count": 314,
   "metadata": {},
   "outputs": [
    {
     "data": {
      "text/plain": [
       "0.654434250764526"
      ]
     },
     "execution_count": 314,
     "metadata": {},
     "output_type": "execute_result"
    }
   ],
   "source": [
    "prod_01[tf].shape[0] / prod_01.shape[0] ####약 65퍼센트 살아남네"
   ]
  },
  {
   "cell_type": "markdown",
   "metadata": {},
   "source": [
    "### # 5월 얼마나 살아남나? "
   ]
  },
  {
   "cell_type": "code",
   "execution_count": 315,
   "metadata": {},
   "outputs": [],
   "source": [
    "xx_05 = diaper_train[(pd.to_datetime('2018-05-01') <= diaper_train.biz_dt) & (diaper_train.biz_dt < pd.to_datetime('2018-06-01'))]"
   ]
  },
  {
   "cell_type": "code",
   "execution_count": 317,
   "metadata": {},
   "outputs": [
    {
     "data": {
      "text/plain": [
       "(         Unnamed: 0              biz_dt        m_id order_price    prod_no  \\\n",
       " 5063232    55063232 2018-05-01 00:00:18   1,682,162      34,900  3,483,096   \n",
       " 5063279    55063279 2018-05-01 00:00:23   4,854,272      23,700  3,386,182   \n",
       " 5063848    55063848 2018-05-01 00:01:34   6,764,649      19,900  3,202,896   \n",
       " 5064042    55064042 2018-05-01 00:01:49  12,535,121      44,100  3,621,372   \n",
       " 5064187    55064187 2018-05-01 00:02:01   5,509,854      34,900  3,272,368   \n",
       " \n",
       "         old_admin_category_id  serv_cd  \n",
       " 5063232           241,010,102        1  \n",
       " 5063279           241,010,102        1  \n",
       " 5063848           241,010,102        1  \n",
       " 5064042           241,010,102        1  \n",
       " 5064187           241,010,102        1  ,\n",
       "          Unnamed: 0              biz_dt       m_id order_price    prod_no  \\\n",
       " 9623840    69623840 2018-05-31 23:59:03  3,462,240      36,900  3,483,096   \n",
       " 9624013    69624013 2018-05-31 23:59:16  2,122,151      23,900  1,668,329   \n",
       " 9624122    69624122 2018-05-31 23:59:24  5,495,396      35,900  3,272,368   \n",
       " 9624162    69624162 2018-05-31 23:59:28  3,044,401      68,000  1,658,688   \n",
       " 9624524    69624524 2018-05-31 23:59:58  1,204,826      73,800  2,355,816   \n",
       " \n",
       "         old_admin_category_id  serv_cd  \n",
       " 9623840           241,010,102        1  \n",
       " 9624013           241,010,102        1  \n",
       " 9624122           241,010,102        1  \n",
       " 9624162           241,010,102        1  \n",
       " 9624524           241,010,102        1  )"
      ]
     },
     "execution_count": 317,
     "metadata": {},
     "output_type": "execute_result"
    }
   ],
   "source": [
    "xx_05.head(), xx_05.tail()"
   ]
  },
  {
   "cell_type": "code",
   "execution_count": 318,
   "metadata": {},
   "outputs": [],
   "source": [
    "tf = []\n",
    "\n",
    "for i in range(len(prod_01)):\n",
    "    tf.append( bool(xx_05[xx_05.prod_no == prod_01[i]].shape[0]) == True) #train, test 둘다 있는 아이디를 밝혀주는 index만들어주는거야.\n",
    "    \n",
    "    "
   ]
  },
  {
   "cell_type": "code",
   "execution_count": 320,
   "metadata": {},
   "outputs": [
    {
     "data": {
      "text/plain": [
       "0.5902140672782875"
      ]
     },
     "execution_count": 320,
     "metadata": {},
     "output_type": "execute_result"
    }
   ],
   "source": [
    "prod_01[tf].shape[0] / prod_01.shape[0] ####약 59퍼센트 살아남네"
   ]
  },
  {
   "cell_type": "markdown",
   "metadata": {},
   "source": [
    "### # 6월 얼마나 살아남나? "
   ]
  },
  {
   "cell_type": "code",
   "execution_count": 321,
   "metadata": {},
   "outputs": [],
   "source": [
    "xx_06 = diaper_train[(pd.to_datetime('2018-06-01') <= diaper_train.biz_dt) & (diaper_train.biz_dt < pd.to_datetime('2018-07-01'))]"
   ]
  },
  {
   "cell_type": "code",
   "execution_count": 322,
   "metadata": {},
   "outputs": [
    {
     "data": {
      "text/plain": [
       "(         Unnamed: 0              biz_dt        m_id order_price    prod_no  \\\n",
       " 9624724    69624724 2018-06-01 00:00:21   1,310,610      35,900  3,272,368   \n",
       " 9625047    69625047 2018-06-01 00:01:05   7,046,817      17,900  3,704,729   \n",
       " 9625361    69625361 2018-06-01 00:01:36  11,845,104      36,900  3,272,368   \n",
       " 9625621    69625621 2018-06-01 00:01:59  17,685,353      36,900  3,360,887   \n",
       " 9625902    69625902 2018-06-01 00:02:27   4,236,687      21,500  2,113,825   \n",
       " \n",
       "         old_admin_category_id  serv_cd  \n",
       " 9624724           241,010,102        1  \n",
       " 9625047           241,010,102        1  \n",
       " 9625361           241,010,102        1  \n",
       " 9625621           241,010,102        1  \n",
       " 9625902           241,010,102        1  ,\n",
       "          Unnamed: 0              biz_dt        m_id order_price    prod_no  \\\n",
       " 3352364    83352364 2018-06-30 23:57:20   1,495,866      67,900  3,704,356   \n",
       " 3353162    83353162 2018-06-30 23:58:33   2,005,811      36,900  3,778,692   \n",
       " 3353272    83353272 2018-06-30 23:58:46  15,803,405      36,900  1,499,606   \n",
       " 3353720    83353720 2018-06-30 23:59:22   1,435,889     107,700  3,272,368   \n",
       " 3354040    83354040 2018-06-30 23:59:59  10,868,739      63,700  2,020,954   \n",
       " \n",
       "         old_admin_category_id  serv_cd  \n",
       " 3352364           241,010,102        1  \n",
       " 3353162           241,010,102        1  \n",
       " 3353272           241,010,102        1  \n",
       " 3353720           241,010,102        1  \n",
       " 3354040           241,010,102        1  )"
      ]
     },
     "execution_count": 322,
     "metadata": {},
     "output_type": "execute_result"
    }
   ],
   "source": [
    "xx_06.head(), xx_06.tail()"
   ]
  },
  {
   "cell_type": "code",
   "execution_count": 323,
   "metadata": {},
   "outputs": [],
   "source": [
    "tf = []\n",
    "\n",
    "for i in range(len(prod_01)):\n",
    "    tf.append( bool(xx_06[xx_06.prod_no == prod_01[i]].shape[0]) == True) #train, test 둘다 있는 아이디를 밝혀주는 index만들어주는거야.\n",
    "    \n",
    "    "
   ]
  },
  {
   "cell_type": "code",
   "execution_count": 325,
   "metadata": {},
   "outputs": [
    {
     "data": {
      "text/plain": [
       "0.5198776758409785"
      ]
     },
     "execution_count": 325,
     "metadata": {},
     "output_type": "execute_result"
    }
   ],
   "source": [
    "prod_01[tf].shape[0] / prod_01.shape[0] ####약 52퍼센트 살아남네"
   ]
  },
  {
   "cell_type": "markdown",
   "metadata": {},
   "source": [
    "### # 7월 얼마나 살아남나? "
   ]
  },
  {
   "cell_type": "code",
   "execution_count": 326,
   "metadata": {},
   "outputs": [],
   "source": [
    "xx_07 = diaper_train[(pd.to_datetime('2018-07-01') <= diaper_train.biz_dt) & (diaper_train.biz_dt < pd.to_datetime('2018-08-01'))]"
   ]
  },
  {
   "cell_type": "code",
   "execution_count": 327,
   "metadata": {},
   "outputs": [
    {
     "data": {
      "text/plain": [
       "(         Unnamed: 0              biz_dt        m_id order_price      prod_no  \\\n",
       " 3354293    83354293 2018-07-01 00:00:36   1,477,575     110,700    1,499,606   \n",
       " 3355449    83355449 2018-07-01 00:02:20   8,789,465      19,800    3,169,721   \n",
       " 3355681    83355681 2018-07-01 00:02:41  16,148,846     104,700    3,778,692   \n",
       " 3356186    83356186 2018-07-01 00:03:28   3,617,058      32,900  100,002,011   \n",
       " 3356637    83356637 2018-07-01 00:04:10  18,060,650      65,000    1,668,329   \n",
       " \n",
       "         old_admin_category_id  serv_cd  \n",
       " 3354293           241,010,102        1  \n",
       " 3355449           241,010,102        1  \n",
       " 3355681           241,010,102        1  \n",
       " 3356186           241,010,102        2  \n",
       " 3356637           241,010,102        1  ,\n",
       "          Unnamed: 0              biz_dt        m_id order_price    prod_no  \\\n",
       " 9110014    99110014 2018-07-31 23:59:32   7,174,062      22,900  3,872,548   \n",
       " 9110047    99110047 2018-07-31 23:59:35   4,901,809       3,900  3,892,082   \n",
       " 9110085    99110085 2018-07-31 23:59:38  11,057,206       7,500  2,076,918   \n",
       " 9110144    99110144 2018-07-31 23:59:43  11,245,139      45,800  3,872,548   \n",
       " 9110190    99110190 2018-07-31 23:59:45   7,862,301      45,800  3,872,548   \n",
       " \n",
       "         old_admin_category_id  serv_cd  \n",
       " 9110014           241,010,102        1  \n",
       " 9110047           241,010,102        1  \n",
       " 9110085           241,010,102        1  \n",
       " 9110144           241,010,102        1  \n",
       " 9110190           241,010,102        1  )"
      ]
     },
     "execution_count": 327,
     "metadata": {},
     "output_type": "execute_result"
    }
   ],
   "source": [
    "xx_07.head(), xx_07.tail()"
   ]
  },
  {
   "cell_type": "code",
   "execution_count": 336,
   "metadata": {},
   "outputs": [
    {
     "data": {
      "text/plain": [
       "640"
      ]
     },
     "execution_count": 336,
     "metadata": {},
     "output_type": "execute_result"
    }
   ],
   "source": [
    "xx_07.prod_no.nunique()"
   ]
  },
  {
   "cell_type": "code",
   "execution_count": 328,
   "metadata": {},
   "outputs": [],
   "source": [
    "tf = []\n",
    "\n",
    "for i in range(len(prod_01)):\n",
    "    tf.append( bool(xx_07[xx_07.prod_no == prod_01[i]].shape[0]) == True) #train, test 둘다 있는 아이디를 밝혀주는 index만들어주는거야.\n",
    "    \n",
    "    "
   ]
  },
  {
   "cell_type": "code",
   "execution_count": 330,
   "metadata": {
    "scrolled": true
   },
   "outputs": [
    {
     "data": {
      "text/plain": [
       "0.45871559633027525"
      ]
     },
     "execution_count": 330,
     "metadata": {},
     "output_type": "execute_result"
    }
   ],
   "source": [
    "prod_01[tf].shape[0] / prod_01.shape[0] ####약 45퍼센트 살아남네"
   ]
  },
  {
   "cell_type": "markdown",
   "metadata": {},
   "source": [
    "### -----------------------------------------------------------------------------------------------------------------------"
   ]
  },
  {
   "cell_type": "markdown",
   "metadata": {},
   "source": [
    "### # lambda 추정위해 - 월 별로, user에 따른 구매량 살펴보려고 했어."
   ]
  },
  {
   "cell_type": "code",
   "execution_count": 287,
   "metadata": {},
   "outputs": [],
   "source": [
    "xx_02 = diaper_train[(pd.to_datetime('2018-02-01') <= diaper_train.biz_dt) & (diaper_train.biz_dt < pd.to_datetime('2018-03-01'))]"
   ]
  },
  {
   "cell_type": "code",
   "execution_count": 289,
   "metadata": {
    "scrolled": true
   },
   "outputs": [
    {
     "data": {
      "text/plain": [
       "44146"
      ]
     },
     "execution_count": 289,
     "metadata": {},
     "output_type": "execute_result"
    }
   ],
   "source": [
    "xx_02.m_id.nunique()"
   ]
  },
  {
   "cell_type": "code",
   "execution_count": 290,
   "metadata": {},
   "outputs": [
    {
     "data": {
      "text/plain": [
       "array(['2,745,603', '13,022,956', '11,190,356', ..., '5,079,622',\n",
       "       '2,312,236', '8,352,887'], dtype=object)"
      ]
     },
     "execution_count": 290,
     "metadata": {},
     "output_type": "execute_result"
    }
   ],
   "source": [
    "xx_02.m_id.unique()"
   ]
  },
  {
   "cell_type": "code",
   "execution_count": 293,
   "metadata": {},
   "outputs": [],
   "source": [
    "# 2월 한달동안 user 각각의 구매 횟수 count\n",
    "\n",
    "ll = []\n",
    "for i in range(len(xx_02.m_id.unique())):\n",
    "    ll.append( xx_02[xx_02.m_id == xx_02.m_id.unique()[i] ].shape[0] )"
   ]
  },
  {
   "cell_type": "code",
   "execution_count": 294,
   "metadata": {},
   "outputs": [
    {
     "data": {
      "text/plain": [
       "[1,\n",
       " 1,\n",
       " 1,\n",
       " 2,\n",
       " 1,\n",
       " 1,\n",
       " 1,\n",
       " 1,\n",
       " 1,\n",
       " 1,\n",
       " 1,\n",
       " 1,\n",
       " 1,\n",
       " 2,\n",
       " 1,\n",
       " 3,\n",
       " 1,\n",
       " 1,\n",
       " 2,\n",
       " 2,\n",
       " 1,\n",
       " 2,\n",
       " 1,\n",
       " 1,\n",
       " 1,\n",
       " 2,\n",
       " 1,\n",
       " 2,\n",
       " 1,\n",
       " 1,\n",
       " 1,\n",
       " 1,\n",
       " 1,\n",
       " 1,\n",
       " 1,\n",
       " 1,\n",
       " 1,\n",
       " 1,\n",
       " 1,\n",
       " 1,\n",
       " 2,\n",
       " 1,\n",
       " 4,\n",
       " 1,\n",
       " 1,\n",
       " 1,\n",
       " 1,\n",
       " 1,\n",
       " 1,\n",
       " 2,\n",
       " 1,\n",
       " 1,\n",
       " 1,\n",
       " 2,\n",
       " 1,\n",
       " 1,\n",
       " 1,\n",
       " 1,\n",
       " 2,\n",
       " 2,\n",
       " 1,\n",
       " 1,\n",
       " 1,\n",
       " 2,\n",
       " 1,\n",
       " 1,\n",
       " 4,\n",
       " 1,\n",
       " 2,\n",
       " 2,\n",
       " 4,\n",
       " 1,\n",
       " 1,\n",
       " 1,\n",
       " 2,\n",
       " 2,\n",
       " 1,\n",
       " 3,\n",
       " 2,\n",
       " 1,\n",
       " 1,\n",
       " 1,\n",
       " 1,\n",
       " 1,\n",
       " 1,\n",
       " 1,\n",
       " 3,\n",
       " 1,\n",
       " 4,\n",
       " 1,\n",
       " 1,\n",
       " 1,\n",
       " 1,\n",
       " 1,\n",
       " 1,\n",
       " 1,\n",
       " 1,\n",
       " 1,\n",
       " 1,\n",
       " 2,\n",
       " 1,\n",
       " 1,\n",
       " 1,\n",
       " 1,\n",
       " 1,\n",
       " 1,\n",
       " 1,\n",
       " 2,\n",
       " 1,\n",
       " 1,\n",
       " 1,\n",
       " 1,\n",
       " 1,\n",
       " 3,\n",
       " 1,\n",
       " 1,\n",
       " 1,\n",
       " 2,\n",
       " 1,\n",
       " 1,\n",
       " 2,\n",
       " 2,\n",
       " 1,\n",
       " 1,\n",
       " 2,\n",
       " 1,\n",
       " 1,\n",
       " 2,\n",
       " 1,\n",
       " 1,\n",
       " 2,\n",
       " 1,\n",
       " 2,\n",
       " 4,\n",
       " 3,\n",
       " 1,\n",
       " 1,\n",
       " 2,\n",
       " 2,\n",
       " 1,\n",
       " 1,\n",
       " 1,\n",
       " 1,\n",
       " 1,\n",
       " 1,\n",
       " 1,\n",
       " 1,\n",
       " 1,\n",
       " 1,\n",
       " 1,\n",
       " 1,\n",
       " 1,\n",
       " 1,\n",
       " 2,\n",
       " 2,\n",
       " 1,\n",
       " 2,\n",
       " 1,\n",
       " 2,\n",
       " 1,\n",
       " 1,\n",
       " 2,\n",
       " 2,\n",
       " 1,\n",
       " 1,\n",
       " 1,\n",
       " 1,\n",
       " 1,\n",
       " 1,\n",
       " 1,\n",
       " 1,\n",
       " 2,\n",
       " 2,\n",
       " 3,\n",
       " 2,\n",
       " 1,\n",
       " 2,\n",
       " 1,\n",
       " 1,\n",
       " 1,\n",
       " 1,\n",
       " 1,\n",
       " 1,\n",
       " 1,\n",
       " 1,\n",
       " 1,\n",
       " 2,\n",
       " 1,\n",
       " 2,\n",
       " 1,\n",
       " 2,\n",
       " 1,\n",
       " 2,\n",
       " 1,\n",
       " 2,\n",
       " 2,\n",
       " 2,\n",
       " 2,\n",
       " 1,\n",
       " 1,\n",
       " 2,\n",
       " 1,\n",
       " 1,\n",
       " 1,\n",
       " 1,\n",
       " 2,\n",
       " 2,\n",
       " 1,\n",
       " 2,\n",
       " 1,\n",
       " 1,\n",
       " 1,\n",
       " 1,\n",
       " 1,\n",
       " 2,\n",
       " 1,\n",
       " 1,\n",
       " 1,\n",
       " 1,\n",
       " 1,\n",
       " 2,\n",
       " 2,\n",
       " 1,\n",
       " 2,\n",
       " 1,\n",
       " 1,\n",
       " 2,\n",
       " 1,\n",
       " 2,\n",
       " 4,\n",
       " 1,\n",
       " 1,\n",
       " 1,\n",
       " 1,\n",
       " 1,\n",
       " 1,\n",
       " 1,\n",
       " 1,\n",
       " 2,\n",
       " 1,\n",
       " 1,\n",
       " 2,\n",
       " 1,\n",
       " 2,\n",
       " 1,\n",
       " 1,\n",
       " 1,\n",
       " 3,\n",
       " 1,\n",
       " 2,\n",
       " 2,\n",
       " 1,\n",
       " 6,\n",
       " 2,\n",
       " 1,\n",
       " 3,\n",
       " 2,\n",
       " 2,\n",
       " 1,\n",
       " 2,\n",
       " 2,\n",
       " 1,\n",
       " 1,\n",
       " 1,\n",
       " 1,\n",
       " 2,\n",
       " 4,\n",
       " 1,\n",
       " 4,\n",
       " 1,\n",
       " 1,\n",
       " 1,\n",
       " 2,\n",
       " 1,\n",
       " 5,\n",
       " 2,\n",
       " 1,\n",
       " 1,\n",
       " 1,\n",
       " 3,\n",
       " 1,\n",
       " 2,\n",
       " 1,\n",
       " 1,\n",
       " 1,\n",
       " 1,\n",
       " 1,\n",
       " 1,\n",
       " 2,\n",
       " 1,\n",
       " 1,\n",
       " 2,\n",
       " 2,\n",
       " 1,\n",
       " 1,\n",
       " 2,\n",
       " 1,\n",
       " 2,\n",
       " 1,\n",
       " 1,\n",
       " 1,\n",
       " 1,\n",
       " 6,\n",
       " 2,\n",
       " 3,\n",
       " 1,\n",
       " 1,\n",
       " 1,\n",
       " 1,\n",
       " 1,\n",
       " 1,\n",
       " 1,\n",
       " 1,\n",
       " 2,\n",
       " 1,\n",
       " 1,\n",
       " 1,\n",
       " 2,\n",
       " 1,\n",
       " 1,\n",
       " 1,\n",
       " 1,\n",
       " 2,\n",
       " 1,\n",
       " 1,\n",
       " 1,\n",
       " 2,\n",
       " 1,\n",
       " 1,\n",
       " 1,\n",
       " 2,\n",
       " 1,\n",
       " 1,\n",
       " 1,\n",
       " 3,\n",
       " 2,\n",
       " 1,\n",
       " 1,\n",
       " 2,\n",
       " 3,\n",
       " 1,\n",
       " 1,\n",
       " 1,\n",
       " 1,\n",
       " 1,\n",
       " 1,\n",
       " 2,\n",
       " 1,\n",
       " 1,\n",
       " 1,\n",
       " 2,\n",
       " 2,\n",
       " 1,\n",
       " 1,\n",
       " 1,\n",
       " 1,\n",
       " 2,\n",
       " 1,\n",
       " 1,\n",
       " 1,\n",
       " 1,\n",
       " 1,\n",
       " 1,\n",
       " 1,\n",
       " 1,\n",
       " 1,\n",
       " 2,\n",
       " 2,\n",
       " 1,\n",
       " 2,\n",
       " 2,\n",
       " 2,\n",
       " 2,\n",
       " 1,\n",
       " 1,\n",
       " 2,\n",
       " 2,\n",
       " 5,\n",
       " 1,\n",
       " 1,\n",
       " 2,\n",
       " 2,\n",
       " 1,\n",
       " 1,\n",
       " 3,\n",
       " 2,\n",
       " 1,\n",
       " 1,\n",
       " 3,\n",
       " 1,\n",
       " 1,\n",
       " 1,\n",
       " 1,\n",
       " 1,\n",
       " 1,\n",
       " 1,\n",
       " 3,\n",
       " 2,\n",
       " 1,\n",
       " 1,\n",
       " 5,\n",
       " 1,\n",
       " 2,\n",
       " 2,\n",
       " 1,\n",
       " 2,\n",
       " 1,\n",
       " 1,\n",
       " 1,\n",
       " 1,\n",
       " 2,\n",
       " 1,\n",
       " 1,\n",
       " 1,\n",
       " 2,\n",
       " 2,\n",
       " 2,\n",
       " 3,\n",
       " 4,\n",
       " 1,\n",
       " 1,\n",
       " 1,\n",
       " 4,\n",
       " 1,\n",
       " 1,\n",
       " 1,\n",
       " 2,\n",
       " 1,\n",
       " 1,\n",
       " 1,\n",
       " 2,\n",
       " 2,\n",
       " 1,\n",
       " 1,\n",
       " 1,\n",
       " 2,\n",
       " 1,\n",
       " 1,\n",
       " 1,\n",
       " 1,\n",
       " 4,\n",
       " 1,\n",
       " 1,\n",
       " 1,\n",
       " 3,\n",
       " 1,\n",
       " 2,\n",
       " 1,\n",
       " 1,\n",
       " 1,\n",
       " 2,\n",
       " 1,\n",
       " 1,\n",
       " 1,\n",
       " 1,\n",
       " 1,\n",
       " 1,\n",
       " 1,\n",
       " 1,\n",
       " 1,\n",
       " 1,\n",
       " 2,\n",
       " 1,\n",
       " 2,\n",
       " 5,\n",
       " 1,\n",
       " 1,\n",
       " 1,\n",
       " 2,\n",
       " 1,\n",
       " 1,\n",
       " 1,\n",
       " 1,\n",
       " 2,\n",
       " 1,\n",
       " 2,\n",
       " 1,\n",
       " 1,\n",
       " 2,\n",
       " 1,\n",
       " 1,\n",
       " 1,\n",
       " 1,\n",
       " 2,\n",
       " 1,\n",
       " 1,\n",
       " 1,\n",
       " 1,\n",
       " 1,\n",
       " 1,\n",
       " 3,\n",
       " 1,\n",
       " 1,\n",
       " 1,\n",
       " 1,\n",
       " 1,\n",
       " 3,\n",
       " 1,\n",
       " 1,\n",
       " 1,\n",
       " 1,\n",
       " 1,\n",
       " 1,\n",
       " 1,\n",
       " 2,\n",
       " 1,\n",
       " 1,\n",
       " 1,\n",
       " 1,\n",
       " 1,\n",
       " 2,\n",
       " 7,\n",
       " 1,\n",
       " 1,\n",
       " 2,\n",
       " 1,\n",
       " 2,\n",
       " 1,\n",
       " 1,\n",
       " 2,\n",
       " 1,\n",
       " 1,\n",
       " 1,\n",
       " 1,\n",
       " 2,\n",
       " 3,\n",
       " 1,\n",
       " 1,\n",
       " 1,\n",
       " 2,\n",
       " 1,\n",
       " 4,\n",
       " 1,\n",
       " 2,\n",
       " 1,\n",
       " 1,\n",
       " 1,\n",
       " 1,\n",
       " 1,\n",
       " 1,\n",
       " 1,\n",
       " 1,\n",
       " 2,\n",
       " 1,\n",
       " 1,\n",
       " 2,\n",
       " 3,\n",
       " 1,\n",
       " 2,\n",
       " 1,\n",
       " 1,\n",
       " 1,\n",
       " 1,\n",
       " 1,\n",
       " 1,\n",
       " 2,\n",
       " 2,\n",
       " 1,\n",
       " 1,\n",
       " 1,\n",
       " 1,\n",
       " 2,\n",
       " 1,\n",
       " 1,\n",
       " 4,\n",
       " 1,\n",
       " 2,\n",
       " 1,\n",
       " 2,\n",
       " 1,\n",
       " 1,\n",
       " 1,\n",
       " 1,\n",
       " 2,\n",
       " 3,\n",
       " 2,\n",
       " 1,\n",
       " 1,\n",
       " 2,\n",
       " 1,\n",
       " 1,\n",
       " 1,\n",
       " 2,\n",
       " 1,\n",
       " 1,\n",
       " 1,\n",
       " 1,\n",
       " 2,\n",
       " 1,\n",
       " 2,\n",
       " 2,\n",
       " 1,\n",
       " 1,\n",
       " 2,\n",
       " 2,\n",
       " 1,\n",
       " 1,\n",
       " 1,\n",
       " 1,\n",
       " 2,\n",
       " 1,\n",
       " 1,\n",
       " 1,\n",
       " 2,\n",
       " 1,\n",
       " 1,\n",
       " 1,\n",
       " 1,\n",
       " 5,\n",
       " 1,\n",
       " 1,\n",
       " 1,\n",
       " 1,\n",
       " 1,\n",
       " 2,\n",
       " 2,\n",
       " 1,\n",
       " 1,\n",
       " 1,\n",
       " 2,\n",
       " 2,\n",
       " 1,\n",
       " 2,\n",
       " 2,\n",
       " 1,\n",
       " 1,\n",
       " 2,\n",
       " 1,\n",
       " 1,\n",
       " 1,\n",
       " 2,\n",
       " 3,\n",
       " 1,\n",
       " 1,\n",
       " 2,\n",
       " 1,\n",
       " 1,\n",
       " 2,\n",
       " 2,\n",
       " 3,\n",
       " 1,\n",
       " 1,\n",
       " 1,\n",
       " 1,\n",
       " 1,\n",
       " 1,\n",
       " 1,\n",
       " 2,\n",
       " 1,\n",
       " 1,\n",
       " 1,\n",
       " 1,\n",
       " 2,\n",
       " 2,\n",
       " 1,\n",
       " 3,\n",
       " 1,\n",
       " 1,\n",
       " 1,\n",
       " 2,\n",
       " 1,\n",
       " 1,\n",
       " 1,\n",
       " 1,\n",
       " 1,\n",
       " 1,\n",
       " 1,\n",
       " 1,\n",
       " 1,\n",
       " 1,\n",
       " 1,\n",
       " 1,\n",
       " 4,\n",
       " 1,\n",
       " 2,\n",
       " 1,\n",
       " 1,\n",
       " 1,\n",
       " 1,\n",
       " 2,\n",
       " 1,\n",
       " 1,\n",
       " 1,\n",
       " 2,\n",
       " 1,\n",
       " 1,\n",
       " 1,\n",
       " 1,\n",
       " 1,\n",
       " 1,\n",
       " 2,\n",
       " 1,\n",
       " 1,\n",
       " 1,\n",
       " 2,\n",
       " 2,\n",
       " 1,\n",
       " 1,\n",
       " 5,\n",
       " 2,\n",
       " 1,\n",
       " 2,\n",
       " 1,\n",
       " 1,\n",
       " 2,\n",
       " 1,\n",
       " 2,\n",
       " 1,\n",
       " 1,\n",
       " 5,\n",
       " 2,\n",
       " 2,\n",
       " 3,\n",
       " 1,\n",
       " 1,\n",
       " 1,\n",
       " 2,\n",
       " 1,\n",
       " 1,\n",
       " 1,\n",
       " 2,\n",
       " 2,\n",
       " 1,\n",
       " 2,\n",
       " 1,\n",
       " 1,\n",
       " 1,\n",
       " 2,\n",
       " 1,\n",
       " 1,\n",
       " 1,\n",
       " 2,\n",
       " 3,\n",
       " 1,\n",
       " 2,\n",
       " 2,\n",
       " 1,\n",
       " 1,\n",
       " 2,\n",
       " 2,\n",
       " 1,\n",
       " 2,\n",
       " 1,\n",
       " 1,\n",
       " 3,\n",
       " 1,\n",
       " 1,\n",
       " 1,\n",
       " 2,\n",
       " 1,\n",
       " 1,\n",
       " 1,\n",
       " 1,\n",
       " 1,\n",
       " 3,\n",
       " 3,\n",
       " 3,\n",
       " 1,\n",
       " 4,\n",
       " 2,\n",
       " 1,\n",
       " 3,\n",
       " 2,\n",
       " 1,\n",
       " 1,\n",
       " 1,\n",
       " 1,\n",
       " 1,\n",
       " 1,\n",
       " 1,\n",
       " 7,\n",
       " 2,\n",
       " 2,\n",
       " 2,\n",
       " 1,\n",
       " 1,\n",
       " 1,\n",
       " 1,\n",
       " 1,\n",
       " 1,\n",
       " 2,\n",
       " 2,\n",
       " 2,\n",
       " 1,\n",
       " 2,\n",
       " 1,\n",
       " 3,\n",
       " 1,\n",
       " 1,\n",
       " 1,\n",
       " 2,\n",
       " 1,\n",
       " 1,\n",
       " 1,\n",
       " 1,\n",
       " 1,\n",
       " 2,\n",
       " 4,\n",
       " 1,\n",
       " 1,\n",
       " 1,\n",
       " 1,\n",
       " 2,\n",
       " 2,\n",
       " 1,\n",
       " 2,\n",
       " 1,\n",
       " 2,\n",
       " 1,\n",
       " 1,\n",
       " 1,\n",
       " 1,\n",
       " 1,\n",
       " 1,\n",
       " 1,\n",
       " 1,\n",
       " 1,\n",
       " 1,\n",
       " 1,\n",
       " 1,\n",
       " 1,\n",
       " 2,\n",
       " 1,\n",
       " 1,\n",
       " 1,\n",
       " 1,\n",
       " 1,\n",
       " 2,\n",
       " 1,\n",
       " 1,\n",
       " 2,\n",
       " 1,\n",
       " 1,\n",
       " 1,\n",
       " 2,\n",
       " 1,\n",
       " 1,\n",
       " 1,\n",
       " 1,\n",
       " 2,\n",
       " 1,\n",
       " 2,\n",
       " 1,\n",
       " 1,\n",
       " 1,\n",
       " 2,\n",
       " 1,\n",
       " 1,\n",
       " 1,\n",
       " 1,\n",
       " 2,\n",
       " 1,\n",
       " 3,\n",
       " 2,\n",
       " 1,\n",
       " 1,\n",
       " 1,\n",
       " 1,\n",
       " 2,\n",
       " 3,\n",
       " 1,\n",
       " 1,\n",
       " 2,\n",
       " 1,\n",
       " 1,\n",
       " 1,\n",
       " 2,\n",
       " 2,\n",
       " 1,\n",
       " 3,\n",
       " 1,\n",
       " 1,\n",
       " 1,\n",
       " 1,\n",
       " 1,\n",
       " 4,\n",
       " 1,\n",
       " 1,\n",
       " 1,\n",
       " 2,\n",
       " 1,\n",
       " 2,\n",
       " 1,\n",
       " 1,\n",
       " 2,\n",
       " 1,\n",
       " 1,\n",
       " 1,\n",
       " 1,\n",
       " 1,\n",
       " 1,\n",
       " 1,\n",
       " 1,\n",
       " 1,\n",
       " 1,\n",
       " 1,\n",
       " 2,\n",
       " 1,\n",
       " 1,\n",
       " 1,\n",
       " 2,\n",
       " 1,\n",
       " 1,\n",
       " 2,\n",
       " 2,\n",
       " 1,\n",
       " 1,\n",
       " 1,\n",
       " 1,\n",
       " 1,\n",
       " 1,\n",
       " 1,\n",
       " 1,\n",
       " 1,\n",
       " 2,\n",
       " 1,\n",
       " 1,\n",
       " 2,\n",
       " 1,\n",
       " 2,\n",
       " 1,\n",
       " 1,\n",
       " 2,\n",
       " 1,\n",
       " 2,\n",
       " 1,\n",
       " 1,\n",
       " 1,\n",
       " 1,\n",
       " 1,\n",
       " 1,\n",
       " 2,\n",
       " 1,\n",
       " 1,\n",
       " 3,\n",
       " 1,\n",
       " 1,\n",
       " 2,\n",
       " 2,\n",
       " 2,\n",
       " 1,\n",
       " 1,\n",
       " 1,\n",
       " 1,\n",
       " 1,\n",
       " 1,\n",
       " 2,\n",
       " 2,\n",
       " 2,\n",
       " 1,\n",
       " 4,\n",
       " 1,\n",
       " 5,\n",
       " 1,\n",
       " 3,\n",
       " 1,\n",
       " 2,\n",
       " 1,\n",
       " 1,\n",
       " 3,\n",
       " 1,\n",
       " 3,\n",
       " 3,\n",
       " 1,\n",
       " 1,\n",
       " 1,\n",
       " 1,\n",
       " 1,\n",
       " 2,\n",
       " 1,\n",
       " 2,\n",
       " 2,\n",
       " 2,\n",
       " 1,\n",
       " 3,\n",
       " 1,\n",
       " 2,\n",
       " 1,\n",
       " 1,\n",
       " 2,\n",
       " 1,\n",
       " 2,\n",
       " 1,\n",
       " 1,\n",
       " 1,\n",
       " 1,\n",
       " 3,\n",
       " 1,\n",
       " 1,\n",
       " 2,\n",
       " 2,\n",
       " 1,\n",
       " 1,\n",
       " 2,\n",
       " 1,\n",
       " 1,\n",
       " 1,\n",
       " 4,\n",
       " 2,\n",
       " 1,\n",
       " ...]"
      ]
     },
     "execution_count": 294,
     "metadata": {},
     "output_type": "execute_result"
    }
   ],
   "source": [
    "ll"
   ]
  },
  {
   "cell_type": "code",
   "execution_count": 297,
   "metadata": {},
   "outputs": [
    {
     "data": {
      "text/plain": [
       "array([[<matplotlib.axes._subplots.AxesSubplot object at 0x1a190254e0>]],\n",
       "      dtype=object)"
      ]
     },
     "execution_count": 297,
     "metadata": {},
     "output_type": "execute_result"
    },
    {
     "data": {
      "image/png": "[encoded data removed]",
      "text/plain": [
       "<Figure size 432x288 with 1 Axes>"
      ]
     },
     "metadata": {
      "needs_background": "light"
     },
     "output_type": "display_data"
    }
   ],
   "source": [
    "pd.DataFrame(ll).hist(bins = 100)\n"
   ]
  },
  {
   "cell_type": "code",
   "execution_count": 300,
   "metadata": {},
   "outputs": [],
   "source": [
    "ll = pd.DataFrame({'x':ll})"
   ]
  },
  {
   "cell_type": "code",
   "execution_count": 301,
   "metadata": {
    "scrolled": true
   },
   "outputs": [
    {
     "data": {
      "text/html": [
       "<div>\n",
       "<style scoped>\n",
       "    .dataframe tbody tr th:only-of-type {\n",
       "        vertical-align: middle;\n",
       "    }\n",
       "\n",
       "    .dataframe tbody tr th {\n",
       "        vertical-align: top;\n",
       "    }\n",
       "\n",
       "    .dataframe thead th {\n",
       "        text-align: right;\n",
       "    }\n",
       "</style>\n",
       "<table border=\"1\" class=\"dataframe\">\n",
       "  <thead>\n",
       "    <tr style=\"text-align: right;\">\n",
       "      <th></th>\n",
       "      <th>x</th>\n",
       "    </tr>\n",
       "  </thead>\n",
       "  <tbody>\n",
       "    <tr>\n",
       "      <th>0</th>\n",
       "      <td>1</td>\n",
       "    </tr>\n",
       "    <tr>\n",
       "      <th>1</th>\n",
       "      <td>1</td>\n",
       "    </tr>\n",
       "    <tr>\n",
       "      <th>2</th>\n",
       "      <td>1</td>\n",
       "    </tr>\n",
       "    <tr>\n",
       "      <th>3</th>\n",
       "      <td>2</td>\n",
       "    </tr>\n",
       "    <tr>\n",
       "      <th>4</th>\n",
       "      <td>1</td>\n",
       "    </tr>\n",
       "    <tr>\n",
       "      <th>5</th>\n",
       "      <td>1</td>\n",
       "    </tr>\n",
       "    <tr>\n",
       "      <th>6</th>\n",
       "      <td>1</td>\n",
       "    </tr>\n",
       "    <tr>\n",
       "      <th>7</th>\n",
       "      <td>1</td>\n",
       "    </tr>\n",
       "    <tr>\n",
       "      <th>8</th>\n",
       "      <td>1</td>\n",
       "    </tr>\n",
       "    <tr>\n",
       "      <th>9</th>\n",
       "      <td>1</td>\n",
       "    </tr>\n",
       "    <tr>\n",
       "      <th>10</th>\n",
       "      <td>1</td>\n",
       "    </tr>\n",
       "    <tr>\n",
       "      <th>11</th>\n",
       "      <td>1</td>\n",
       "    </tr>\n",
       "    <tr>\n",
       "      <th>12</th>\n",
       "      <td>1</td>\n",
       "    </tr>\n",
       "    <tr>\n",
       "      <th>13</th>\n",
       "      <td>2</td>\n",
       "    </tr>\n",
       "    <tr>\n",
       "      <th>14</th>\n",
       "      <td>1</td>\n",
       "    </tr>\n",
       "    <tr>\n",
       "      <th>15</th>\n",
       "      <td>3</td>\n",
       "    </tr>\n",
       "    <tr>\n",
       "      <th>16</th>\n",
       "      <td>1</td>\n",
       "    </tr>\n",
       "    <tr>\n",
       "      <th>17</th>\n",
       "      <td>1</td>\n",
       "    </tr>\n",
       "    <tr>\n",
       "      <th>18</th>\n",
       "      <td>2</td>\n",
       "    </tr>\n",
       "    <tr>\n",
       "      <th>19</th>\n",
       "      <td>2</td>\n",
       "    </tr>\n",
       "    <tr>\n",
       "      <th>20</th>\n",
       "      <td>1</td>\n",
       "    </tr>\n",
       "    <tr>\n",
       "      <th>21</th>\n",
       "      <td>2</td>\n",
       "    </tr>\n",
       "    <tr>\n",
       "      <th>22</th>\n",
       "      <td>1</td>\n",
       "    </tr>\n",
       "    <tr>\n",
       "      <th>23</th>\n",
       "      <td>1</td>\n",
       "    </tr>\n",
       "    <tr>\n",
       "      <th>24</th>\n",
       "      <td>1</td>\n",
       "    </tr>\n",
       "    <tr>\n",
       "      <th>25</th>\n",
       "      <td>2</td>\n",
       "    </tr>\n",
       "    <tr>\n",
       "      <th>26</th>\n",
       "      <td>1</td>\n",
       "    </tr>\n",
       "    <tr>\n",
       "      <th>27</th>\n",
       "      <td>2</td>\n",
       "    </tr>\n",
       "    <tr>\n",
       "      <th>28</th>\n",
       "      <td>1</td>\n",
       "    </tr>\n",
       "    <tr>\n",
       "      <th>29</th>\n",
       "      <td>1</td>\n",
       "    </tr>\n",
       "    <tr>\n",
       "      <th>...</th>\n",
       "      <td>...</td>\n",
       "    </tr>\n",
       "    <tr>\n",
       "      <th>44116</th>\n",
       "      <td>1</td>\n",
       "    </tr>\n",
       "    <tr>\n",
       "      <th>44117</th>\n",
       "      <td>1</td>\n",
       "    </tr>\n",
       "    <tr>\n",
       "      <th>44118</th>\n",
       "      <td>1</td>\n",
       "    </tr>\n",
       "    <tr>\n",
       "      <th>44119</th>\n",
       "      <td>1</td>\n",
       "    </tr>\n",
       "    <tr>\n",
       "      <th>44120</th>\n",
       "      <td>1</td>\n",
       "    </tr>\n",
       "    <tr>\n",
       "      <th>44121</th>\n",
       "      <td>1</td>\n",
       "    </tr>\n",
       "    <tr>\n",
       "      <th>44122</th>\n",
       "      <td>2</td>\n",
       "    </tr>\n",
       "    <tr>\n",
       "      <th>44123</th>\n",
       "      <td>1</td>\n",
       "    </tr>\n",
       "    <tr>\n",
       "      <th>44124</th>\n",
       "      <td>1</td>\n",
       "    </tr>\n",
       "    <tr>\n",
       "      <th>44125</th>\n",
       "      <td>1</td>\n",
       "    </tr>\n",
       "    <tr>\n",
       "      <th>44126</th>\n",
       "      <td>1</td>\n",
       "    </tr>\n",
       "    <tr>\n",
       "      <th>44127</th>\n",
       "      <td>1</td>\n",
       "    </tr>\n",
       "    <tr>\n",
       "      <th>44128</th>\n",
       "      <td>1</td>\n",
       "    </tr>\n",
       "    <tr>\n",
       "      <th>44129</th>\n",
       "      <td>1</td>\n",
       "    </tr>\n",
       "    <tr>\n",
       "      <th>44130</th>\n",
       "      <td>1</td>\n",
       "    </tr>\n",
       "    <tr>\n",
       "      <th>44131</th>\n",
       "      <td>1</td>\n",
       "    </tr>\n",
       "    <tr>\n",
       "      <th>44132</th>\n",
       "      <td>1</td>\n",
       "    </tr>\n",
       "    <tr>\n",
       "      <th>44133</th>\n",
       "      <td>1</td>\n",
       "    </tr>\n",
       "    <tr>\n",
       "      <th>44134</th>\n",
       "      <td>1</td>\n",
       "    </tr>\n",
       "    <tr>\n",
       "      <th>44135</th>\n",
       "      <td>1</td>\n",
       "    </tr>\n",
       "    <tr>\n",
       "      <th>44136</th>\n",
       "      <td>3</td>\n",
       "    </tr>\n",
       "    <tr>\n",
       "      <th>44137</th>\n",
       "      <td>1</td>\n",
       "    </tr>\n",
       "    <tr>\n",
       "      <th>44138</th>\n",
       "      <td>1</td>\n",
       "    </tr>\n",
       "    <tr>\n",
       "      <th>44139</th>\n",
       "      <td>1</td>\n",
       "    </tr>\n",
       "    <tr>\n",
       "      <th>44140</th>\n",
       "      <td>1</td>\n",
       "    </tr>\n",
       "    <tr>\n",
       "      <th>44141</th>\n",
       "      <td>1</td>\n",
       "    </tr>\n",
       "    <tr>\n",
       "      <th>44142</th>\n",
       "      <td>1</td>\n",
       "    </tr>\n",
       "    <tr>\n",
       "      <th>44143</th>\n",
       "      <td>1</td>\n",
       "    </tr>\n",
       "    <tr>\n",
       "      <th>44144</th>\n",
       "      <td>1</td>\n",
       "    </tr>\n",
       "    <tr>\n",
       "      <th>44145</th>\n",
       "      <td>1</td>\n",
       "    </tr>\n",
       "  </tbody>\n",
       "</table>\n",
       "<p>44146 rows × 1 columns</p>\n",
       "</div>"
      ],
      "text/plain": [
       "       x\n",
       "0      1\n",
       "1      1\n",
       "2      1\n",
       "3      2\n",
       "4      1\n",
       "5      1\n",
       "6      1\n",
       "7      1\n",
       "8      1\n",
       "9      1\n",
       "10     1\n",
       "11     1\n",
       "12     1\n",
       "13     2\n",
       "14     1\n",
       "15     3\n",
       "16     1\n",
       "17     1\n",
       "18     2\n",
       "19     2\n",
       "20     1\n",
       "21     2\n",
       "22     1\n",
       "23     1\n",
       "24     1\n",
       "25     2\n",
       "26     1\n",
       "27     2\n",
       "28     1\n",
       "29     1\n",
       "...   ..\n",
       "44116  1\n",
       "44117  1\n",
       "44118  1\n",
       "44119  1\n",
       "44120  1\n",
       "44121  1\n",
       "44122  2\n",
       "44123  1\n",
       "44124  1\n",
       "44125  1\n",
       "44126  1\n",
       "44127  1\n",
       "44128  1\n",
       "44129  1\n",
       "44130  1\n",
       "44131  1\n",
       "44132  1\n",
       "44133  1\n",
       "44134  1\n",
       "44135  1\n",
       "44136  3\n",
       "44137  1\n",
       "44138  1\n",
       "44139  1\n",
       "44140  1\n",
       "44141  1\n",
       "44142  1\n",
       "44143  1\n",
       "44144  1\n",
       "44145  1\n",
       "\n",
       "[44146 rows x 1 columns]"
      ]
     },
     "execution_count": 301,
     "metadata": {},
     "output_type": "execute_result"
    }
   ],
   "source": [
    "ll"
   ]
  },
  {
   "cell_type": "code",
   "execution_count": 302,
   "metadata": {},
   "outputs": [
    {
     "data": {
      "text/plain": [
       "1      35662\n",
       "2       6867\n",
       "3       1184\n",
       "4        271\n",
       "5         82\n",
       "6         37\n",
       "7         22\n",
       "8          6\n",
       "9          4\n",
       "13         2\n",
       "15         2\n",
       "28         1\n",
       "10         1\n",
       "12         1\n",
       "14         1\n",
       "17         1\n",
       "23         1\n",
       "286        1\n",
       "Name: x, dtype: int64"
      ]
     },
     "execution_count": 302,
     "metadata": {},
     "output_type": "execute_result"
    }
   ],
   "source": [
    "ll.x.value_counts()"
   ]
  },
  {
   "cell_type": "code",
   "execution_count": 304,
   "metadata": {},
   "outputs": [
    {
     "data": {
      "text/plain": [
       "array([[<matplotlib.axes._subplots.AxesSubplot object at 0x1a1c8f92b0>]],\n",
       "      dtype=object)"
      ]
     },
     "execution_count": 304,
     "metadata": {},
     "output_type": "execute_result"
    },
    {
     "data": {
      "image/png": "[encoded data removed]",
      "text/plain": [
       "<Figure size 432x288 with 1 Axes>"
      ]
     },
     "metadata": {
      "needs_background": "light"
     },
     "output_type": "display_data"
    }
   ],
   "source": [
    "ll.hist(bins = 200)"
   ]
  },
  {
   "cell_type": "code",
   "execution_count": 308,
   "metadata": {},
   "outputs": [
    {
     "data": {
      "text/plain": [
       "array([[<matplotlib.axes._subplots.AxesSubplot object at 0x1a1ad40f60>]],\n",
       "      dtype=object)"
      ]
     },
     "execution_count": 308,
     "metadata": {},
     "output_type": "execute_result"
    },
    {
     "data": {
      "image/png": "[encoded data removed]",
      "text/plain": [
       "<Figure size 432x288 with 1 Axes>"
      ]
     },
     "metadata": {
      "needs_background": "light"
     },
     "output_type": "display_data"
    }
   ],
   "source": [
    "ll[ll.x != 1].hist(bins=150)"
   ]
  },
  {
   "cell_type": "code",
   "execution_count": null,
   "metadata": {},
   "outputs": [],
   "source": []
  },
  {
   "cell_type": "code",
   "execution_count": null,
   "metadata": {},
   "outputs": [],
   "source": []
  },
  {
   "cell_type": "code",
   "execution_count": null,
   "metadata": {},
   "outputs": [],
   "source": []
  }
 ],
 "metadata": {
  "kernelspec": {
   "display_name": "Python [default]",
   "language": "python",
   "name": "python3"
  },
  "language_info": {
   "codemirror_mode": {
    "name": "ipython",
    "version": 3
   },
   "file_extension": ".py",
   "mimetype": "text/x-python",
   "name": "python",
   "nbconvert_exporter": "python",
   "pygments_lexer": "ipython3",
   "version": "3.6.6"
  }
 },
 "nbformat": 4,
 "nbformat_minor": 2
}
