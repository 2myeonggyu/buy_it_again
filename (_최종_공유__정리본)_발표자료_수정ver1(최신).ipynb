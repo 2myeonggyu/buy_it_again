{
 "cells": [
  {
   "cell_type": "markdown",
   "metadata": {},
   "source": [
    "# Buy It Again: Modeling Repeat Purchase Recommendations"
   ]
  },
  {
   "cell_type": "markdown",
   "metadata": {},
   "source": [
    " <li/>Buy It Again은 고객의 반복 구매주기를 기반으로 상품을 제안하는 추천 모델 입니다.<br/>\n",
    " \n",
    " KDD 2018에서 발표된 [Buy It Again: Modeling Repeat Purchase Recommendations(amazon)](https://www.kdd.org/kdd2018/accepted-papers/view/buy-it-again-modeling-repeat-purchase-recommendations)을<br/>\n",
    " 기반으로 위메프에 특화되도록 알고리즘을 변형하여 하나의 추천 시스템으로 내재화하였습니다."
   ]
  },
  {
   "cell_type": "markdown",
   "metadata": {},
   "source": [
    "<img src=\"다시찾고싶은.jpg\" alt=\"Drawing\" style=\"width: 300px;\"/>"
   ]
  },
  {
   "cell_type": "markdown",
   "metadata": {},
   "source": [
    "---"
   ]
  },
  {
   "cell_type": "markdown",
   "metadata": {},
   "source": [
    "# Modeling Approach"
   ]
  },
  {
   "cell_type": "markdown",
   "metadata": {},
   "source": [
    "**접근법** : 고객의 과거 구매 패턴을 살펴, 반복 구매 시기를 적절하게 제안"
   ]
  },
  {
   "cell_type": "markdown",
   "metadata": {},
   "source": [
    "- 임의의 상품 $A_i$가 존재할때 고객의 해당 상품의 k번째 과거 구매주기를 $t_k$ 라 정의한다면, <br/>마지막 구매 시점으로부터 $t$시점이 경과하였을때 상품 $A_i$를 구매할 확률을 식(1)과 같이 정의한다."
   ]
  },
  {
   "cell_type": "markdown",
   "metadata": {},
   "source": [
    "<img src=\"equation_1.png\" alt=\"Drawing\" style=\"width: 470px;\"/>"
   ]
  },
  {
   "cell_type": "markdown",
   "metadata": {},
   "source": [
    "- 해당 논문에서는 식(1)을 식(2)와 같이 두 가지 요소로 분해 가능하다 가정한다.\n",
    "> - '제품의 구매매력도' : $Q(A_i)$\n",
    "> - '마지막 구매시점으로부터 t시점이 경화였을때 상품 구매확률' : $R_{A_i}(t_{k+1})$"
   ]
  },
  {
   "cell_type": "markdown",
   "metadata": {},
   "source": [
    "<img src=\"equation_2.png\" alt=\"Drawing\" style=\"width: 600px;\"/>"
   ]
  },
  {
   "cell_type": "markdown",
   "metadata": {},
   "source": [
    "---"
   ]
  },
  {
   "cell_type": "markdown",
   "metadata": {},
   "source": [
    "# Poisson-Gamma Model "
   ]
  },
  {
   "cell_type": "markdown",
   "metadata": {},
   "source": [
    "모델 가정\n",
    "- (1) 고객의 반복 구매 행위는, 반복구매율이 $\\lambda$ 인 Poisson's process 를 따른다. ( **연속적인 구매가 서로 not-correlated** )\n",
    "\n",
    "\n",
    "- (2) 모든 고객들의 $\\lambda$ 는 shape α, rate β 인 Gamma 분포를 따른다."
   ]
  },
  {
   "cell_type": "markdown",
   "metadata": {},
   "source": [
    "> 따라서, Poisson-Gamma 모델은 likelihood 가 Poission 이고, prior가 gamma-prior인 Bayesian 모델이다."
   ]
  },
  {
   "cell_type": "markdown",
   "metadata": {},
   "source": [
    "---"
   ]
  },
  {
   "cell_type": "markdown",
   "metadata": {},
   "source": [
    "- 식 (7) : 고객들의 반복 구매율(repeat purchase rate : $\\lambda$) Bayesian 추정량 : **고객 $C_j$ 의 측면에서 업데이트**\n",
    "> - $\\alpha_{A_i}$, $\\beta_{A_i}$ : 상품 $A_i$의 gamma prior<br/>\n",
    "> - $k$     : 상품 $A_i$에 대한 고객 $C_j$ 의 구매횟수\n",
    "> - $t$     : 상품 $A_i$에 대한 고객 $C_j$ 의 첫 구매후 경과시간"
   ]
  },
  {
   "cell_type": "markdown",
   "metadata": {},
   "source": [
    "<img src=\"equation_7.png\" alt=\"Drawing\" style=\"width: 500px;\"/>\n",
    "---"
   ]
  },
  {
   "cell_type": "markdown",
   "metadata": {},
   "source": [
    "---"
   ]
  },
  {
   "cell_type": "markdown",
   "metadata": {},
   "source": [
    "- 식 (8) : 고객 $C_j$ 추정된 반복 구매율($\\lambda$)를 통해, 해당 고객의 상품 $A_i$ 구매 확률 계산"
   ]
  },
  {
   "cell_type": "markdown",
   "metadata": {},
   "source": [
    "<font size=\"4\"> $\\quad \\quad \\quad \\quad \\quad \\quad \\quad \\quad \\quad \\quad \\quad \\quad \\quad \\quad \\quad \\quad\n",
    "R_{A_{i},C_{j}}(t) =  \\displaystyle \\sum_{m=1}^\\infty\\frac{\\lambda_{A_{i},C_{j}}^{m}exp(-\\lambda_{A_{i},C_{j}})}{m!},   t>0 \\quad \\quad \\quad (8)\n",
    "$</font>       "
   ]
  },
  {
   "cell_type": "markdown",
   "metadata": {},
   "source": [
    "---"
   ]
  },
  {
   "cell_type": "markdown",
   "metadata": {},
   "source": [
    "- **Poisson-Gamma 모델의 한계**\n",
    "\n",
    "> : 직관에 반하는 가정들이 존재"
   ]
  },
  {
   "cell_type": "markdown",
   "metadata": {},
   "source": [
    "- 연속적인 반복 구매 행위는 서로 연관되지 않는다.(time-independent : uncorrelated)\n",
    "\n",
    "\n",
    "- 나아가, 반복 구매율 $\\lambda$를 추정하는 과정에서 **'구매 직후'**에 $\\lambda$가 가장 크게 추정된다.\n",
    "\n",
    "> 실제로는 구매 직후에 해당 고객에게 해당 상품의 필요도는 줄어들것이란 직관과 반대된다.\n",
    "> - Before the purchase :<font size=\"5\"> $\\frac{(k−1+α)}{(t^{−}+β)} < $</font>  right after the purchase : <font size=\"5\"> $\\frac{(k+α)}{(t^{+}+β)}$</font>"
   ]
  },
  {
   "cell_type": "markdown",
   "metadata": {},
   "source": [
    "---"
   ]
  },
  {
   "cell_type": "markdown",
   "metadata": {},
   "source": [
    "# Modified Poisson-Gamma Model"
   ]
  },
  {
   "cell_type": "markdown",
   "metadata": {},
   "source": [
    "모델 가정<br/>\n",
    "- (1) 고객들의 연속적인 구매는 서로 연관되어있으며(correlated) <br/>반복 구매율($\\lambda$)은 고객의 해당 상품의 **'마지막 구매 시간'**에 의존적인 Modified-Poisson-process를 따른다.\n",
    "\n",
    "\n",
    "\n",
    "- (2) 모든 고객들의 $\\lambda$ 는 shape α, rate β 인 Gamma 분포를 따른다."
   ]
  },
  {
   "cell_type": "markdown",
   "metadata": {},
   "source": [
    "---"
   ]
  },
  {
   "cell_type": "markdown",
   "metadata": {},
   "source": [
    "- 식 (9) : 고객들의 반복 구매율(repeat purchase rate : $\\lambda$) Bayesian 추정량 : **고객 $C_j$ 의 측면에서 업데이트**\n",
    "> - $\\alpha_{A_i}$, $\\beta_{A_i}$ : 상품 $A_i$의 gamma prior<br/>\n",
    "> - $k$     : 상품 $A_i$에 대한 고객 $C_j$ 의 구매횟수\n",
    "> - $t_{purch}$     : 상품 $A_i$에 대한 고객 $C_j$ 의 **'첫 구매'**로부터 **'마지막 구매'**까지의 경과시간\n",
    "> - $t_{mean}$ : 상품 $A_i$에 대한 고객 $C_j$의 **'평균 반복 구매 interval'**\n",
    "> - $t$ : 상품 $A_i$에 대한 고객 $C_j$의 **'마지막 구매 시점으로부터 경과시간'**"
   ]
  },
  {
   "cell_type": "markdown",
   "metadata": {},
   "source": [
    "<img src=\"equation_9.png\" alt=\"Drawing\" style=\"width: 500px;\"/>"
   ]
  },
  {
   "cell_type": "markdown",
   "metadata": {},
   "source": [
    "<img src=\"equation_7.png\" alt=\"Drawing\" style=\"width: 470px;\"/>\n",
    "---"
   ]
  },
  {
   "cell_type": "markdown",
   "metadata": {},
   "source": [
    "<img src=\"lambda_time.png\" alt=\"Drawing\" style=\"width: 500px;\"/>"
   ]
  },
  {
   "cell_type": "markdown",
   "metadata": {},
   "source": [
    "---\n",
    "---"
   ]
  },
  {
   "cell_type": "markdown",
   "metadata": {},
   "source": [
    "# Buy it again 모델 적용 step\n",
    "<br/>\n",
    "<br/>\n",
    "<br/>\n",
    "![title](./그림1.png)"
   ]
  },
  {
   "cell_type": "markdown",
   "metadata": {},
   "source": [
    "\n",
    "![title](./그림2.png)\n"
   ]
  },
  {
   "cell_type": "markdown",
   "metadata": {},
   "source": [
    "---"
   ]
  },
  {
   "cell_type": "markdown",
   "metadata": {},
   "source": [
    "---"
   ]
  },
  {
   "cell_type": "markdown",
   "metadata": {},
   "source": [
    "# 위메프 데이터 적용"
   ]
  },
  {
   "cell_type": "markdown",
   "metadata": {},
   "source": [
    "### # \"241,010,102       : 기저귀\" 를 통한, 추천 score 계산 흐름 파악"
   ]
  },
  {
   "cell_type": "code",
   "execution_count": 1,
   "metadata": {},
   "outputs": [],
   "source": [
    "import pandas as pd\n",
    "import numpy as np\n",
    "import matplotlib.pyplot as plt\n",
    "import random\n",
    "import scipy.stats as stats\n",
    "import seaborn as sns"
   ]
  },
  {
   "cell_type": "code",
   "execution_count": 2,
   "metadata": {},
   "outputs": [
    {
     "data": {
      "text/plain": [
       "'/Users/we/OneDrive/OneDrive - Wemakeprice Inc/위메프_공유/위메프/18년도/buyitagain_업무/buy_it_again_분석'"
      ]
     },
     "execution_count": 2,
     "metadata": {},
     "output_type": "execute_result"
    }
   ],
   "source": [
    "import os\n",
    "os.getcwd()"
   ]
  },
  {
   "cell_type": "markdown",
   "metadata": {},
   "source": [
    "---"
   ]
  },
  {
   "cell_type": "markdown",
   "metadata": {},
   "source": [
    "### # 훈련데이터와 test 데이터 정의\n",
    "- train : 2018.01.01 ~ 2018.07.31\n",
    "- test : 2018.08.01 ~ 2018.09.30"
   ]
  },
  {
   "cell_type": "code",
   "execution_count": 3,
   "metadata": {},
   "outputs": [],
   "source": [
    "diaper_train = pd.read_excel('diaper_train.xlsx')\n",
    "diaper_test = pd.read_excel('diaper_test.xlsx')"
   ]
  },
  {
   "cell_type": "code",
   "execution_count": 4,
   "metadata": {},
   "outputs": [
    {
     "data": {
      "text/html": [
       "<div>\n",
       "<style scoped>\n",
       "    .dataframe tbody tr th:only-of-type {\n",
       "        vertical-align: middle;\n",
       "    }\n",
       "\n",
       "    .dataframe tbody tr th {\n",
       "        vertical-align: top;\n",
       "    }\n",
       "\n",
       "    .dataframe thead th {\n",
       "        text-align: right;\n",
       "    }\n",
       "</style>\n",
       "<table border=\"1\" class=\"dataframe\">\n",
       "  <thead>\n",
       "    <tr style=\"text-align: right;\">\n",
       "      <th></th>\n",
       "      <th>Unnamed: 0</th>\n",
       "      <th>Unnamed: 0.1</th>\n",
       "      <th>biz_dt</th>\n",
       "      <th>m_id</th>\n",
       "      <th>order_price</th>\n",
       "      <th>prod_no</th>\n",
       "      <th>old_admin_category_id</th>\n",
       "      <th>serv_cd</th>\n",
       "    </tr>\n",
       "  </thead>\n",
       "  <tbody>\n",
       "    <tr>\n",
       "      <th>0</th>\n",
       "      <td>105</td>\n",
       "      <td>105</td>\n",
       "      <td>2018-01-01 00:00:26</td>\n",
       "      <td>6,200,018</td>\n",
       "      <td>34,900</td>\n",
       "      <td>1,472,659</td>\n",
       "      <td>241,010,102</td>\n",
       "      <td>1</td>\n",
       "    </tr>\n",
       "    <tr>\n",
       "      <th>1</th>\n",
       "      <td>212</td>\n",
       "      <td>212</td>\n",
       "      <td>2018-01-01 00:00:52</td>\n",
       "      <td>2,683,481</td>\n",
       "      <td>32,000</td>\n",
       "      <td>1,597,856</td>\n",
       "      <td>241,010,102</td>\n",
       "      <td>1</td>\n",
       "    </tr>\n",
       "    <tr>\n",
       "      <th>2</th>\n",
       "      <td>2357</td>\n",
       "      <td>2357</td>\n",
       "      <td>2018-01-01 00:03:47</td>\n",
       "      <td>3,579,286</td>\n",
       "      <td>104,700</td>\n",
       "      <td>1,766,436</td>\n",
       "      <td>241,010,102</td>\n",
       "      <td>1</td>\n",
       "    </tr>\n",
       "  </tbody>\n",
       "</table>\n",
       "</div>"
      ],
      "text/plain": [
       "   Unnamed: 0  Unnamed: 0.1              biz_dt       m_id order_price  \\\n",
       "0         105           105 2018-01-01 00:00:26  6,200,018      34,900   \n",
       "1         212           212 2018-01-01 00:00:52  2,683,481      32,000   \n",
       "2        2357          2357 2018-01-01 00:03:47  3,579,286     104,700   \n",
       "\n",
       "     prod_no old_admin_category_id  serv_cd  \n",
       "0  1,472,659           241,010,102        1  \n",
       "1  1,597,856           241,010,102        1  \n",
       "2  1,766,436           241,010,102        1  "
      ]
     },
     "execution_count": 4,
     "metadata": {},
     "output_type": "execute_result"
    }
   ],
   "source": [
    "diaper_train.head(3)"
   ]
  },
  {
   "cell_type": "code",
   "execution_count": 5,
   "metadata": {},
   "outputs": [
    {
     "data": {
      "text/html": [
       "<div>\n",
       "<style scoped>\n",
       "    .dataframe tbody tr th:only-of-type {\n",
       "        vertical-align: middle;\n",
       "    }\n",
       "\n",
       "    .dataframe tbody tr th {\n",
       "        vertical-align: top;\n",
       "    }\n",
       "\n",
       "    .dataframe thead th {\n",
       "        text-align: right;\n",
       "    }\n",
       "</style>\n",
       "<table border=\"1\" class=\"dataframe\">\n",
       "  <thead>\n",
       "    <tr style=\"text-align: right;\">\n",
       "      <th></th>\n",
       "      <th>Unnamed: 0</th>\n",
       "      <th>Unnamed: 0.1</th>\n",
       "      <th>biz_dt</th>\n",
       "      <th>m_id</th>\n",
       "      <th>order_price</th>\n",
       "      <th>prod_no</th>\n",
       "      <th>old_admin_category_id</th>\n",
       "      <th>serv_cd</th>\n",
       "    </tr>\n",
       "  </thead>\n",
       "  <tbody>\n",
       "    <tr>\n",
       "      <th>0</th>\n",
       "      <td>9110834</td>\n",
       "      <td>99110834</td>\n",
       "      <td>2018-08-01 00:01:02</td>\n",
       "      <td>4,379,895</td>\n",
       "      <td>6,900</td>\n",
       "      <td>3,873,059</td>\n",
       "      <td>241,010,102</td>\n",
       "      <td>1</td>\n",
       "    </tr>\n",
       "    <tr>\n",
       "      <th>1</th>\n",
       "      <td>9111155</td>\n",
       "      <td>99111155</td>\n",
       "      <td>2018-08-01 00:01:29</td>\n",
       "      <td>25,374,757</td>\n",
       "      <td>81,800</td>\n",
       "      <td>1,573,290</td>\n",
       "      <td>241,010,102</td>\n",
       "      <td>1</td>\n",
       "    </tr>\n",
       "    <tr>\n",
       "      <th>2</th>\n",
       "      <td>9111262</td>\n",
       "      <td>99111262</td>\n",
       "      <td>2018-08-01 00:01:37</td>\n",
       "      <td>10,180,229</td>\n",
       "      <td>36,700</td>\n",
       "      <td>3,875,375</td>\n",
       "      <td>241,010,102</td>\n",
       "      <td>1</td>\n",
       "    </tr>\n",
       "  </tbody>\n",
       "</table>\n",
       "</div>"
      ],
      "text/plain": [
       "   Unnamed: 0  Unnamed: 0.1              biz_dt        m_id order_price  \\\n",
       "0     9110834      99110834 2018-08-01 00:01:02   4,379,895       6,900   \n",
       "1     9111155      99111155 2018-08-01 00:01:29  25,374,757      81,800   \n",
       "2     9111262      99111262 2018-08-01 00:01:37  10,180,229      36,700   \n",
       "\n",
       "     prod_no old_admin_category_id  serv_cd  \n",
       "0  3,873,059           241,010,102        1  \n",
       "1  1,573,290           241,010,102        1  \n",
       "2  3,875,375           241,010,102        1  "
      ]
     },
     "execution_count": 5,
     "metadata": {},
     "output_type": "execute_result"
    }
   ],
   "source": [
    "diaper_test.head(3)"
   ]
  },
  {
   "cell_type": "markdown",
   "metadata": {},
   "source": [
    "---"
   ]
  },
  {
   "cell_type": "code",
   "execution_count": 6,
   "metadata": {},
   "outputs": [
    {
     "data": {
      "text/plain": [
       "212550"
      ]
     },
     "execution_count": 6,
     "metadata": {},
     "output_type": "execute_result"
    }
   ],
   "source": [
    "diaper_train.m_id.nunique()   # 약 20만명(28주 동안)"
   ]
  },
  {
   "cell_type": "code",
   "execution_count": 6,
   "metadata": {},
   "outputs": [],
   "source": [
    "train_mid = diaper_train.m_id.unique()"
   ]
  },
  {
   "cell_type": "code",
   "execution_count": 7,
   "metadata": {},
   "outputs": [
    {
     "data": {
      "text/html": [
       "<div>\n",
       "<style scoped>\n",
       "    .dataframe tbody tr th:only-of-type {\n",
       "        vertical-align: middle;\n",
       "    }\n",
       "\n",
       "    .dataframe tbody tr th {\n",
       "        vertical-align: top;\n",
       "    }\n",
       "\n",
       "    .dataframe thead th {\n",
       "        text-align: right;\n",
       "    }\n",
       "</style>\n",
       "<table border=\"1\" class=\"dataframe\">\n",
       "  <thead>\n",
       "    <tr style=\"text-align: right;\">\n",
       "      <th></th>\n",
       "      <th>Unnamed: 0</th>\n",
       "      <th>biz_dt</th>\n",
       "      <th>m_id</th>\n",
       "      <th>order_price</th>\n",
       "      <th>prod_no</th>\n",
       "      <th>old_admin_category_id</th>\n",
       "      <th>serv_cd</th>\n",
       "    </tr>\n",
       "  </thead>\n",
       "  <tbody>\n",
       "    <tr>\n",
       "      <th>105</th>\n",
       "      <td>105</td>\n",
       "      <td>2018-01-01 00:00:26</td>\n",
       "      <td>6,200,018</td>\n",
       "      <td>34,900</td>\n",
       "      <td>1,472,659</td>\n",
       "      <td>241,010,102</td>\n",
       "      <td>1</td>\n",
       "    </tr>\n",
       "    <tr>\n",
       "      <th>3125</th>\n",
       "      <td>3125</td>\n",
       "      <td>2018-01-01 00:04:27</td>\n",
       "      <td>6,200,018</td>\n",
       "      <td>34,900</td>\n",
       "      <td>1,472,659</td>\n",
       "      <td>241,010,102</td>\n",
       "      <td>1</td>\n",
       "    </tr>\n",
       "    <tr>\n",
       "      <th>732522</th>\n",
       "      <td>10732522</td>\n",
       "      <td>2018-01-24 09:44:17</td>\n",
       "      <td>6,200,018</td>\n",
       "      <td>15,800</td>\n",
       "      <td>3,201,607</td>\n",
       "      <td>241,010,102</td>\n",
       "      <td>1</td>\n",
       "    </tr>\n",
       "  </tbody>\n",
       "</table>\n",
       "</div>"
      ],
      "text/plain": [
       "        Unnamed: 0              biz_dt       m_id order_price    prod_no  \\\n",
       "105            105 2018-01-01 00:00:26  6,200,018      34,900  1,472,659   \n",
       "3125          3125 2018-01-01 00:04:27  6,200,018      34,900  1,472,659   \n",
       "732522    10732522 2018-01-24 09:44:17  6,200,018      15,800  3,201,607   \n",
       "\n",
       "       old_admin_category_id  serv_cd  \n",
       "105              241,010,102        1  \n",
       "3125             241,010,102        1  \n",
       "732522           241,010,102        1  "
      ]
     },
     "execution_count": 7,
     "metadata": {},
     "output_type": "execute_result"
    }
   ],
   "source": [
    "diaper_train[diaper_train.m_id == train_mid[0]]"
   ]
  },
  {
   "cell_type": "markdown",
   "metadata": {},
   "source": [
    "---"
   ]
  },
  {
   "cell_type": "markdown",
   "metadata": {},
   "source": [
    "## # RCP"
   ]
  },
  {
   "cell_type": "markdown",
   "metadata": {},
   "source": [
    "재구매 매력도 (:Repeat Customer Probability)\n",
    "> - #repeat_customers/#customers"
   ]
  },
  {
   "cell_type": "code",
   "execution_count": 7,
   "metadata": {},
   "outputs": [
    {
     "data": {
      "text/plain": [
       "212550"
      ]
     },
     "execution_count": 7,
     "metadata": {},
     "output_type": "execute_result"
    }
   ],
   "source": [
    "diaper_train.m_id.drop_duplicates().shape[0] # distinct user"
   ]
  },
  {
   "cell_type": "code",
   "execution_count": 8,
   "metadata": {
    "scrolled": true
   },
   "outputs": [
    {
     "data": {
      "text/plain": [
       "111408"
      ]
     },
     "execution_count": 8,
     "metadata": {},
     "output_type": "execute_result"
    }
   ],
   "source": [
    "diaper_train.m_id[diaper_train.m_id.duplicated()].nunique()  # 2번이상 구매한 user"
   ]
  },
  {
   "cell_type": "code",
   "execution_count": 9,
   "metadata": {
    "scrolled": true
   },
   "outputs": [
    {
     "data": {
      "text/plain": [
       "0.5241496118560339"
      ]
     },
     "execution_count": 9,
     "metadata": {},
     "output_type": "execute_result"
    }
   ],
   "source": [
    "diaper_train.m_id[diaper_train.m_id.duplicated()].nunique() / diaper_train.m_id.nunique()"
   ]
  },
  {
   "cell_type": "markdown",
   "metadata": {},
   "source": [
    "---"
   ]
  },
  {
   "cell_type": "markdown",
   "metadata": {},
   "source": [
    "## Step1. 카테고리 𝐴_𝑖의 모든 개별 구매고객 𝐶_𝑗의 구매 time-interval 추출."
   ]
  },
  {
   "cell_type": "markdown",
   "metadata": {},
   "source": [
    "### #  기저귀 time interval 불러오기"
   ]
  },
  {
   "cell_type": "code",
   "execution_count": 10,
   "metadata": {},
   "outputs": [],
   "source": [
    "groups = diaper_train.groupby('m_id')"
   ]
  },
  {
   "cell_type": "code",
   "execution_count": 11,
   "metadata": {},
   "outputs": [],
   "source": [
    "def day_diff(data):\n",
    "    c = data.dt.date.diff()\n",
    "    return pd.Series(c.values)"
   ]
  },
  {
   "cell_type": "code",
   "execution_count": 12,
   "metadata": {
    "scrolled": true
   },
   "outputs": [
    {
     "data": {
      "text/plain": [
       "m_id        \n",
       "1,000,006  0                 NaT\n",
       "           1    14 days 00:00:00\n",
       "           2    27 days 00:00:00\n",
       "           3    22 days 00:00:00\n",
       "           4    14 days 00:00:00\n",
       "                      ...       \n",
       "9,999,834  0                 NaT\n",
       "           1    43 days 00:00:00\n",
       "           2    55 days 00:00:00\n",
       "           3    19 days 00:00:00\n",
       "           4    11 days 00:00:00\n",
       "Name: biz_dt, Length: 545775, dtype: object"
      ]
     },
     "execution_count": 12,
     "metadata": {},
     "output_type": "execute_result"
    }
   ],
   "source": [
    "groups['biz_dt'].apply(day_diff)"
   ]
  },
  {
   "cell_type": "code",
   "execution_count": 13,
   "metadata": {},
   "outputs": [],
   "source": [
    "# day_diff 저장\n",
    "diaper_diff = groups['biz_dt'].apply(day_diff)  "
   ]
  },
  {
   "cell_type": "code",
   "execution_count": 23,
   "metadata": {},
   "outputs": [],
   "source": [
    "# day_diff(=time delta)를 int로 바꾼다\n",
    "diaper_diff = pd.DataFrame(diaper_diff)\n",
    "diaper_diff.biz_dt = pd.to_timedelta(diaper_diff.biz_dt)  # timedelta 로 저장\n",
    "diaper_diff['biz_dt'] = diaper_diff['biz_dt'].dt.days # timedelta -> int"
   ]
  },
  {
   "cell_type": "code",
   "execution_count": 26,
   "metadata": {},
   "outputs": [
    {
     "data": {
      "text/html": [
       "<div>\n",
       "<style scoped>\n",
       "    .dataframe tbody tr th:only-of-type {\n",
       "        vertical-align: middle;\n",
       "    }\n",
       "\n",
       "    .dataframe tbody tr th {\n",
       "        vertical-align: top;\n",
       "    }\n",
       "\n",
       "    .dataframe thead th {\n",
       "        text-align: right;\n",
       "    }\n",
       "</style>\n",
       "<table border=\"1\" class=\"dataframe\">\n",
       "  <thead>\n",
       "    <tr style=\"text-align: right;\">\n",
       "      <th></th>\n",
       "      <th></th>\n",
       "      <th>biz_dt</th>\n",
       "    </tr>\n",
       "    <tr>\n",
       "      <th>m_id</th>\n",
       "      <th></th>\n",
       "      <th></th>\n",
       "    </tr>\n",
       "  </thead>\n",
       "  <tbody>\n",
       "    <tr>\n",
       "      <th rowspan=\"5\" valign=\"top\">1,000,006</th>\n",
       "      <th>0</th>\n",
       "      <td>NaN</td>\n",
       "    </tr>\n",
       "    <tr>\n",
       "      <th>1</th>\n",
       "      <td>14.0</td>\n",
       "    </tr>\n",
       "    <tr>\n",
       "      <th>2</th>\n",
       "      <td>27.0</td>\n",
       "    </tr>\n",
       "    <tr>\n",
       "      <th>3</th>\n",
       "      <td>22.0</td>\n",
       "    </tr>\n",
       "    <tr>\n",
       "      <th>4</th>\n",
       "      <td>14.0</td>\n",
       "    </tr>\n",
       "    <tr>\n",
       "      <th rowspan=\"5\" valign=\"top\">1,000,087</th>\n",
       "      <th>0</th>\n",
       "      <td>NaN</td>\n",
       "    </tr>\n",
       "    <tr>\n",
       "      <th>1</th>\n",
       "      <td>14.0</td>\n",
       "    </tr>\n",
       "    <tr>\n",
       "      <th>2</th>\n",
       "      <td>27.0</td>\n",
       "    </tr>\n",
       "    <tr>\n",
       "      <th>3</th>\n",
       "      <td>34.0</td>\n",
       "    </tr>\n",
       "    <tr>\n",
       "      <th>4</th>\n",
       "      <td>33.0</td>\n",
       "    </tr>\n",
       "  </tbody>\n",
       "</table>\n",
       "</div>"
      ],
      "text/plain": [
       "             biz_dt\n",
       "m_id               \n",
       "1,000,006 0     NaN\n",
       "          1    14.0\n",
       "          2    27.0\n",
       "          3    22.0\n",
       "          4    14.0\n",
       "1,000,087 0     NaN\n",
       "          1    14.0\n",
       "          2    27.0\n",
       "          3    34.0\n",
       "          4    33.0"
      ]
     },
     "execution_count": 26,
     "metadata": {},
     "output_type": "execute_result"
    }
   ],
   "source": [
    "diaper_diff.head(10)"
   ]
  },
  {
   "cell_type": "code",
   "execution_count": 27,
   "metadata": {},
   "outputs": [
    {
     "data": {
      "text/plain": [
       "(545775, 1)"
      ]
     },
     "execution_count": 27,
     "metadata": {},
     "output_type": "execute_result"
    }
   ],
   "source": [
    "diaper_diff.shape"
   ]
  },
  {
   "cell_type": "code",
   "execution_count": 29,
   "metadata": {},
   "outputs": [
    {
     "data": {
      "text/html": [
       "<div>\n",
       "<style scoped>\n",
       "    .dataframe tbody tr th:only-of-type {\n",
       "        vertical-align: middle;\n",
       "    }\n",
       "\n",
       "    .dataframe tbody tr th {\n",
       "        vertical-align: top;\n",
       "    }\n",
       "\n",
       "    .dataframe thead th {\n",
       "        text-align: right;\n",
       "    }\n",
       "</style>\n",
       "<table border=\"1\" class=\"dataframe\">\n",
       "  <thead>\n",
       "    <tr style=\"text-align: right;\">\n",
       "      <th></th>\n",
       "      <th>biz_dt</th>\n",
       "    </tr>\n",
       "  </thead>\n",
       "  <tbody>\n",
       "    <tr>\n",
       "      <th>0</th>\n",
       "      <td>NaN</td>\n",
       "    </tr>\n",
       "    <tr>\n",
       "      <th>1</th>\n",
       "      <td>14.0</td>\n",
       "    </tr>\n",
       "    <tr>\n",
       "      <th>2</th>\n",
       "      <td>27.0</td>\n",
       "    </tr>\n",
       "    <tr>\n",
       "      <th>3</th>\n",
       "      <td>22.0</td>\n",
       "    </tr>\n",
       "    <tr>\n",
       "      <th>4</th>\n",
       "      <td>14.0</td>\n",
       "    </tr>\n",
       "    <tr>\n",
       "      <th>...</th>\n",
       "      <td>...</td>\n",
       "    </tr>\n",
       "    <tr>\n",
       "      <th>545770</th>\n",
       "      <td>NaN</td>\n",
       "    </tr>\n",
       "    <tr>\n",
       "      <th>545771</th>\n",
       "      <td>43.0</td>\n",
       "    </tr>\n",
       "    <tr>\n",
       "      <th>545772</th>\n",
       "      <td>55.0</td>\n",
       "    </tr>\n",
       "    <tr>\n",
       "      <th>545773</th>\n",
       "      <td>19.0</td>\n",
       "    </tr>\n",
       "    <tr>\n",
       "      <th>545774</th>\n",
       "      <td>11.0</td>\n",
       "    </tr>\n",
       "  </tbody>\n",
       "</table>\n",
       "<p>545775 rows × 1 columns</p>\n",
       "</div>"
      ],
      "text/plain": [
       "        biz_dt\n",
       "0          NaN\n",
       "1         14.0\n",
       "2         27.0\n",
       "3         22.0\n",
       "4         14.0\n",
       "...        ...\n",
       "545770     NaN\n",
       "545771    43.0\n",
       "545772    55.0\n",
       "545773    19.0\n",
       "545774    11.0\n",
       "\n",
       "[545775 rows x 1 columns]"
      ]
     },
     "execution_count": 29,
     "metadata": {},
     "output_type": "execute_result"
    }
   ],
   "source": [
    "diaper_diff.reset_index().drop(columns = ['m_id', 'level_1'])"
   ]
  },
  {
   "cell_type": "markdown",
   "metadata": {},
   "source": [
    "---"
   ]
  },
  {
   "cell_type": "markdown",
   "metadata": {},
   "source": [
    "## Step1. 카테고리 𝐴_𝑖의 모든 개별 구매고객 𝐶_𝑗의 구매 time-interval 추출."
   ]
  },
  {
   "cell_type": "markdown",
   "metadata": {},
   "source": [
    "### 고객들의 Time-interval 추출 간 구매 이력이 1회이거나, 동일 일자의 중복 구매 이력 제거 (time-interval 제공 x)\n",
    "- 구매이력 1회 : time_diff 구할 수 없다\n",
    "- 동일 일자 중복 구매 : time_diff '0'"
   ]
  },
  {
   "cell_type": "code",
   "execution_count": 30,
   "metadata": {},
   "outputs": [],
   "source": [
    "tt = diaper_diff.reset_index().drop(columns = ['m_id', 'level_1']).copy()"
   ]
  },
  {
   "cell_type": "code",
   "execution_count": 31,
   "metadata": {},
   "outputs": [
    {
     "data": {
      "text/plain": [
       "(545775, 1)"
      ]
     },
     "execution_count": 31,
     "metadata": {},
     "output_type": "execute_result"
    }
   ],
   "source": [
    "tt.shape"
   ]
  },
  {
   "cell_type": "code",
   "execution_count": 32,
   "metadata": {
    "scrolled": true
   },
   "outputs": [],
   "source": [
    "tt = tt.dropna()  # t값 순수하게 얻은거야"
   ]
  },
  {
   "cell_type": "code",
   "execution_count": 33,
   "metadata": {},
   "outputs": [
    {
     "data": {
      "text/plain": [
       "(333225, 1)"
      ]
     },
     "execution_count": 33,
     "metadata": {},
     "output_type": "execute_result"
    }
   ],
   "source": [
    "# nan값 제거하고 얻은 shape\n",
    "\n",
    "tt.shape"
   ]
  },
  {
   "cell_type": "code",
   "execution_count": 34,
   "metadata": {},
   "outputs": [],
   "source": [
    "# time 으로 column명 변경\n",
    "tt.columns = ['time']"
   ]
  },
  {
   "cell_type": "code",
   "execution_count": 35,
   "metadata": {
    "scrolled": true
   },
   "outputs": [
    {
     "data": {
      "text/plain": [
       "0.0      52834\n",
       "1.0       7268\n",
       "21.0      6751\n",
       "14.0      6645\n",
       "15.0      6476\n",
       "         ...  \n",
       "207.0        9\n",
       "209.0        6\n",
       "210.0        5\n",
       "208.0        2\n",
       "211.0        2\n",
       "Name: time, Length: 212, dtype: int64"
      ]
     },
     "execution_count": 35,
     "metadata": {},
     "output_type": "execute_result"
    }
   ],
   "source": [
    "#음.. 여기도 0인값이 많구나? - 여러가지 이유로 많이 집계되었겠지만(한번에 여러번 구매했는데, 따로따로 들어가 있을 수 있고!), 그래도 무려 5만개야!\n",
    "\n",
    "tt.time.value_counts()"
   ]
  },
  {
   "cell_type": "code",
   "execution_count": 36,
   "metadata": {},
   "outputs": [
    {
     "data": {
      "text/plain": [
       "array([[<matplotlib.axes._subplots.AxesSubplot object at 0x14c2cd278>]],\n",
       "      dtype=object)"
      ]
     },
     "execution_count": 36,
     "metadata": {},
     "output_type": "execute_result"
    },
    {
     "data": {
      "image/png": "[encoded data removed]",
      "text/plain": [
       "<Figure size 432x288 with 1 Axes>"
      ]
     },
     "metadata": {},
     "output_type": "display_data"
    }
   ],
   "source": [
    "# time=0 인 값이 너무 많아보여서, histogram으로 다시 한번.\n",
    "\n",
    "pd.DataFrame(tt).hist(bins=150, density = True)"
   ]
  },
  {
   "cell_type": "markdown",
   "metadata": {},
   "source": [
    "histogram : 와... 0이 너무많아!"
   ]
  },
  {
   "cell_type": "code",
   "execution_count": 37,
   "metadata": {},
   "outputs": [],
   "source": [
    "tmean = tt.mean()"
   ]
  },
  {
   "cell_type": "code",
   "execution_count": 38,
   "metadata": {},
   "outputs": [
    {
     "data": {
      "text/plain": [
       "time    29.974993\n",
       "dtype: float64"
      ]
     },
     "execution_count": 38,
     "metadata": {},
     "output_type": "execute_result"
    }
   ],
   "source": [
    "# 0을 포함했을때의 평균.. 어느정도 될까?\n",
    "\n",
    "tmean"
   ]
  },
  {
   "cell_type": "markdown",
   "metadata": {},
   "source": [
    "---"
   ]
  },
  {
   "cell_type": "markdown",
   "metadata": {},
   "source": [
    "### # drop 0 value \n",
    "\n",
    "    : lambda(반복 구매율) 추정에 기여할 수 없다! 어떤 이유로든 같은날 구매한거니깐!"
   ]
  },
  {
   "cell_type": "code",
   "execution_count": 39,
   "metadata": {
    "scrolled": true
   },
   "outputs": [],
   "source": [
    "# tt[['time']] 은 데이터프레임 - 0인값을 제거하는 과정\n",
    "\n",
    "tt_drop0 = tt[tt.time != 0] "
   ]
  },
  {
   "cell_type": "markdown",
   "metadata": {},
   "source": [
    "---"
   ]
  },
  {
   "cell_type": "code",
   "execution_count": 40,
   "metadata": {
    "scrolled": true
   },
   "outputs": [
    {
     "data": {
      "text/html": [
       "<div>\n",
       "<style scoped>\n",
       "    .dataframe tbody tr th:only-of-type {\n",
       "        vertical-align: middle;\n",
       "    }\n",
       "\n",
       "    .dataframe tbody tr th {\n",
       "        vertical-align: top;\n",
       "    }\n",
       "\n",
       "    .dataframe thead th {\n",
       "        text-align: right;\n",
       "    }\n",
       "</style>\n",
       "<table border=\"1\" class=\"dataframe\">\n",
       "  <thead>\n",
       "    <tr style=\"text-align: right;\">\n",
       "      <th></th>\n",
       "      <th>time</th>\n",
       "    </tr>\n",
       "  </thead>\n",
       "  <tbody>\n",
       "    <tr>\n",
       "      <th>1</th>\n",
       "      <td>14.0</td>\n",
       "    </tr>\n",
       "    <tr>\n",
       "      <th>2</th>\n",
       "      <td>27.0</td>\n",
       "    </tr>\n",
       "    <tr>\n",
       "      <th>3</th>\n",
       "      <td>22.0</td>\n",
       "    </tr>\n",
       "    <tr>\n",
       "      <th>4</th>\n",
       "      <td>14.0</td>\n",
       "    </tr>\n",
       "    <tr>\n",
       "      <th>6</th>\n",
       "      <td>14.0</td>\n",
       "    </tr>\n",
       "  </tbody>\n",
       "</table>\n",
       "</div>"
      ],
      "text/plain": [
       "   time\n",
       "1  14.0\n",
       "2  27.0\n",
       "3  22.0\n",
       "4  14.0\n",
       "6  14.0"
      ]
     },
     "execution_count": 40,
     "metadata": {},
     "output_type": "execute_result"
    }
   ],
   "source": [
    "tt_drop0.head()"
   ]
  },
  {
   "cell_type": "code",
   "execution_count": 41,
   "metadata": {
    "scrolled": false
   },
   "outputs": [
    {
     "data": {
      "text/plain": [
       "1.0      7268\n",
       "21.0     6751\n",
       "14.0     6645\n",
       "15.0     6476\n",
       "20.0     6309\n",
       "         ... \n",
       "207.0       9\n",
       "209.0       6\n",
       "210.0       5\n",
       "208.0       2\n",
       "211.0       2\n",
       "Name: time, Length: 211, dtype: int64"
      ]
     },
     "execution_count": 41,
     "metadata": {},
     "output_type": "execute_result"
    }
   ],
   "source": [
    "tt_drop0.time.value_counts()"
   ]
  },
  {
   "cell_type": "code",
   "execution_count": null,
   "metadata": {},
   "outputs": [],
   "source": []
  },
  {
   "cell_type": "code",
   "execution_count": null,
   "metadata": {},
   "outputs": [],
   "source": []
  },
  {
   "cell_type": "markdown",
   "metadata": {},
   "source": [
    "# # Step1. 카테고리 𝐴_𝑖의 모든 개별 구매고객 𝐶_𝑗의 구매 time-interval 추출"
   ]
  },
  {
   "cell_type": "markdown",
   "metadata": {},
   "source": [
    "- 1회 구매고객 제거\n",
    "- 동일 일자 중복 구매 제거(time-interval : 0)"
   ]
  },
  {
   "cell_type": "code",
   "execution_count": 42,
   "metadata": {
    "scrolled": false
   },
   "outputs": [
    {
     "data": {
      "text/plain": [
       "array([[<matplotlib.axes._subplots.AxesSubplot object at 0x14a02a4a8>]],\n",
       "      dtype=object)"
      ]
     },
     "execution_count": 42,
     "metadata": {},
     "output_type": "execute_result"
    },
    {
     "data": {
      "image/png": "[encoded data removed]",
      "text/plain": [
       "<Figure size 432x288 with 1 Axes>"
      ]
     },
     "metadata": {},
     "output_type": "display_data"
    }
   ],
   "source": [
    "tt = tt.dropna()\n",
    "tt_drop0 = tt[tt.time != 0]\n",
    "tt_drop0.hist(bins=100, density = True)"
   ]
  },
  {
   "cell_type": "code",
   "execution_count": null,
   "metadata": {},
   "outputs": [],
   "source": []
  },
  {
   "cell_type": "code",
   "execution_count": 44,
   "metadata": {},
   "outputs": [
    {
     "data": {
      "text/plain": [
       "time    35.623173\n",
       "dtype: float64"
      ]
     },
     "execution_count": 44,
     "metadata": {},
     "output_type": "execute_result"
    }
   ],
   "source": [
    "#0인 관측치들 제외하고, 평균 약 35일\n",
    "\n",
    "tt_drop0.mean()"
   ]
  },
  {
   "cell_type": "markdown",
   "metadata": {},
   "source": [
    "---"
   ]
  },
  {
   "cell_type": "markdown",
   "metadata": {},
   "source": [
    "# lambda 추정"
   ]
  },
  {
   "cell_type": "code",
   "execution_count": 46,
   "metadata": {},
   "outputs": [
    {
     "data": {
      "text/html": [
       "<div>\n",
       "<style scoped>\n",
       "    .dataframe tbody tr th:only-of-type {\n",
       "        vertical-align: middle;\n",
       "    }\n",
       "\n",
       "    .dataframe tbody tr th {\n",
       "        vertical-align: top;\n",
       "    }\n",
       "\n",
       "    .dataframe thead th {\n",
       "        text-align: right;\n",
       "    }\n",
       "</style>\n",
       "<table border=\"1\" class=\"dataframe\">\n",
       "  <thead>\n",
       "    <tr style=\"text-align: right;\">\n",
       "      <th></th>\n",
       "      <th></th>\n",
       "      <th>biz_dt</th>\n",
       "    </tr>\n",
       "    <tr>\n",
       "      <th>m_id</th>\n",
       "      <th></th>\n",
       "      <th></th>\n",
       "    </tr>\n",
       "  </thead>\n",
       "  <tbody>\n",
       "    <tr>\n",
       "      <th rowspan=\"5\" valign=\"top\">1,000,006</th>\n",
       "      <th>0</th>\n",
       "      <td>NaN</td>\n",
       "    </tr>\n",
       "    <tr>\n",
       "      <th>1</th>\n",
       "      <td>14.0</td>\n",
       "    </tr>\n",
       "    <tr>\n",
       "      <th>2</th>\n",
       "      <td>27.0</td>\n",
       "    </tr>\n",
       "    <tr>\n",
       "      <th>3</th>\n",
       "      <td>22.0</td>\n",
       "    </tr>\n",
       "    <tr>\n",
       "      <th>4</th>\n",
       "      <td>14.0</td>\n",
       "    </tr>\n",
       "  </tbody>\n",
       "</table>\n",
       "</div>"
      ],
      "text/plain": [
       "             biz_dt\n",
       "m_id               \n",
       "1,000,006 0     NaN\n",
       "          1    14.0\n",
       "          2    27.0\n",
       "          3    22.0\n",
       "          4    14.0"
      ]
     },
     "execution_count": 46,
     "metadata": {},
     "output_type": "execute_result"
    }
   ],
   "source": [
    "diaper_diff.head()"
   ]
  },
  {
   "cell_type": "code",
   "execution_count": 48,
   "metadata": {},
   "outputs": [
    {
     "data": {
      "text/html": [
       "<div>\n",
       "<style scoped>\n",
       "    .dataframe tbody tr th:only-of-type {\n",
       "        vertical-align: middle;\n",
       "    }\n",
       "\n",
       "    .dataframe tbody tr th {\n",
       "        vertical-align: top;\n",
       "    }\n",
       "\n",
       "    .dataframe thead th {\n",
       "        text-align: right;\n",
       "    }\n",
       "</style>\n",
       "<table border=\"1\" class=\"dataframe\">\n",
       "  <thead>\n",
       "    <tr style=\"text-align: right;\">\n",
       "      <th></th>\n",
       "      <th></th>\n",
       "      <th>biz_dt</th>\n",
       "    </tr>\n",
       "    <tr>\n",
       "      <th>m_id</th>\n",
       "      <th></th>\n",
       "      <th></th>\n",
       "    </tr>\n",
       "  </thead>\n",
       "  <tbody>\n",
       "    <tr>\n",
       "      <th rowspan=\"5\" valign=\"top\">1,000,468</th>\n",
       "      <th>5</th>\n",
       "      <td>0.0</td>\n",
       "    </tr>\n",
       "    <tr>\n",
       "      <th>8</th>\n",
       "      <td>0.0</td>\n",
       "    </tr>\n",
       "    <tr>\n",
       "      <th>9</th>\n",
       "      <td>0.0</td>\n",
       "    </tr>\n",
       "    <tr>\n",
       "      <th>10</th>\n",
       "      <td>0.0</td>\n",
       "    </tr>\n",
       "    <tr>\n",
       "      <th>14</th>\n",
       "      <td>0.0</td>\n",
       "    </tr>\n",
       "    <tr>\n",
       "      <th>...</th>\n",
       "      <th>...</th>\n",
       "      <td>...</td>\n",
       "    </tr>\n",
       "    <tr>\n",
       "      <th>9,994,050</th>\n",
       "      <th>4</th>\n",
       "      <td>0.0</td>\n",
       "    </tr>\n",
       "    <tr>\n",
       "      <th>9,994,123</th>\n",
       "      <th>2</th>\n",
       "      <td>0.0</td>\n",
       "    </tr>\n",
       "    <tr>\n",
       "      <th>9,995,066</th>\n",
       "      <th>4</th>\n",
       "      <td>0.0</td>\n",
       "    </tr>\n",
       "    <tr>\n",
       "      <th>9,995,407</th>\n",
       "      <th>1</th>\n",
       "      <td>0.0</td>\n",
       "    </tr>\n",
       "    <tr>\n",
       "      <th>9,997,139</th>\n",
       "      <th>1</th>\n",
       "      <td>0.0</td>\n",
       "    </tr>\n",
       "  </tbody>\n",
       "</table>\n",
       "<p>52834 rows × 1 columns</p>\n",
       "</div>"
      ],
      "text/plain": [
       "              biz_dt\n",
       "m_id                \n",
       "1,000,468 5      0.0\n",
       "          8      0.0\n",
       "          9      0.0\n",
       "          10     0.0\n",
       "          14     0.0\n",
       "...              ...\n",
       "9,994,050 4      0.0\n",
       "9,994,123 2      0.0\n",
       "9,995,066 4      0.0\n",
       "9,995,407 1      0.0\n",
       "9,997,139 1      0.0\n",
       "\n",
       "[52834 rows x 1 columns]"
      ]
     },
     "execution_count": 48,
     "metadata": {},
     "output_type": "execute_result"
    }
   ],
   "source": [
    "diaper_diff[diaper_diff.biz_dt == 0]"
   ]
  },
  {
   "cell_type": "code",
   "execution_count": 49,
   "metadata": {},
   "outputs": [
    {
     "data": {
      "text/html": [
       "<div>\n",
       "<style scoped>\n",
       "    .dataframe tbody tr th:only-of-type {\n",
       "        vertical-align: middle;\n",
       "    }\n",
       "\n",
       "    .dataframe tbody tr th {\n",
       "        vertical-align: top;\n",
       "    }\n",
       "\n",
       "    .dataframe thead th {\n",
       "        text-align: right;\n",
       "    }\n",
       "</style>\n",
       "<table border=\"1\" class=\"dataframe\">\n",
       "  <thead>\n",
       "    <tr style=\"text-align: right;\">\n",
       "      <th></th>\n",
       "      <th></th>\n",
       "      <th>biz_dt</th>\n",
       "    </tr>\n",
       "    <tr>\n",
       "      <th>m_id</th>\n",
       "      <th></th>\n",
       "      <th></th>\n",
       "    </tr>\n",
       "  </thead>\n",
       "  <tbody>\n",
       "    <tr>\n",
       "      <th rowspan=\"5\" valign=\"top\">1,000,468</th>\n",
       "      <th>5</th>\n",
       "      <td>NaN</td>\n",
       "    </tr>\n",
       "    <tr>\n",
       "      <th>8</th>\n",
       "      <td>NaN</td>\n",
       "    </tr>\n",
       "    <tr>\n",
       "      <th>9</th>\n",
       "      <td>NaN</td>\n",
       "    </tr>\n",
       "    <tr>\n",
       "      <th>10</th>\n",
       "      <td>NaN</td>\n",
       "    </tr>\n",
       "    <tr>\n",
       "      <th>14</th>\n",
       "      <td>NaN</td>\n",
       "    </tr>\n",
       "    <tr>\n",
       "      <th>...</th>\n",
       "      <th>...</th>\n",
       "      <td>...</td>\n",
       "    </tr>\n",
       "    <tr>\n",
       "      <th>9,994,050</th>\n",
       "      <th>4</th>\n",
       "      <td>NaN</td>\n",
       "    </tr>\n",
       "    <tr>\n",
       "      <th>9,994,123</th>\n",
       "      <th>2</th>\n",
       "      <td>NaN</td>\n",
       "    </tr>\n",
       "    <tr>\n",
       "      <th>9,995,066</th>\n",
       "      <th>4</th>\n",
       "      <td>NaN</td>\n",
       "    </tr>\n",
       "    <tr>\n",
       "      <th>9,995,407</th>\n",
       "      <th>1</th>\n",
       "      <td>NaN</td>\n",
       "    </tr>\n",
       "    <tr>\n",
       "      <th>9,997,139</th>\n",
       "      <th>1</th>\n",
       "      <td>NaN</td>\n",
       "    </tr>\n",
       "  </tbody>\n",
       "</table>\n",
       "<p>52834 rows × 1 columns</p>\n",
       "</div>"
      ],
      "text/plain": [
       "              biz_dt\n",
       "m_id                \n",
       "1,000,468 5      NaN\n",
       "          8      NaN\n",
       "          9      NaN\n",
       "          10     NaN\n",
       "          14     NaN\n",
       "...              ...\n",
       "9,994,050 4      NaN\n",
       "9,994,123 2      NaN\n",
       "9,995,066 4      NaN\n",
       "9,995,407 1      NaN\n",
       "9,997,139 1      NaN\n",
       "\n",
       "[52834 rows x 1 columns]"
      ]
     },
     "execution_count": 49,
     "metadata": {},
     "output_type": "execute_result"
    }
   ],
   "source": [
    "diaper_diff[diaper_diff.biz_dt == 0].replace(0, np.NaN) # 이렇게 대체되고"
   ]
  },
  {
   "cell_type": "code",
   "execution_count": 51,
   "metadata": {},
   "outputs": [],
   "source": [
    "kkk = diaper_diff.replace(0, np.NaN)"
   ]
  },
  {
   "cell_type": "code",
   "execution_count": 56,
   "metadata": {},
   "outputs": [
    {
     "data": {
      "text/html": [
       "<div>\n",
       "<style scoped>\n",
       "    .dataframe tbody tr th:only-of-type {\n",
       "        vertical-align: middle;\n",
       "    }\n",
       "\n",
       "    .dataframe tbody tr th {\n",
       "        vertical-align: top;\n",
       "    }\n",
       "\n",
       "    .dataframe thead th {\n",
       "        text-align: right;\n",
       "    }\n",
       "</style>\n",
       "<table border=\"1\" class=\"dataframe\">\n",
       "  <thead>\n",
       "    <tr style=\"text-align: right;\">\n",
       "      <th></th>\n",
       "      <th>biz_dt</th>\n",
       "    </tr>\n",
       "  </thead>\n",
       "  <tbody>\n",
       "    <tr>\n",
       "      <th>0</th>\n",
       "      <td>NaN</td>\n",
       "    </tr>\n",
       "    <tr>\n",
       "      <th>1</th>\n",
       "      <td>11.0</td>\n",
       "    </tr>\n",
       "    <tr>\n",
       "      <th>2</th>\n",
       "      <td>3.0</td>\n",
       "    </tr>\n",
       "    <tr>\n",
       "      <th>3</th>\n",
       "      <td>46.0</td>\n",
       "    </tr>\n",
       "    <tr>\n",
       "      <th>4</th>\n",
       "      <td>21.0</td>\n",
       "    </tr>\n",
       "    <tr>\n",
       "      <th>5</th>\n",
       "      <td>NaN</td>\n",
       "    </tr>\n",
       "    <tr>\n",
       "      <th>6</th>\n",
       "      <td>26.0</td>\n",
       "    </tr>\n",
       "    <tr>\n",
       "      <th>7</th>\n",
       "      <td>24.0</td>\n",
       "    </tr>\n",
       "    <tr>\n",
       "      <th>8</th>\n",
       "      <td>NaN</td>\n",
       "    </tr>\n",
       "    <tr>\n",
       "      <th>9</th>\n",
       "      <td>NaN</td>\n",
       "    </tr>\n",
       "    <tr>\n",
       "      <th>10</th>\n",
       "      <td>NaN</td>\n",
       "    </tr>\n",
       "    <tr>\n",
       "      <th>11</th>\n",
       "      <td>13.0</td>\n",
       "    </tr>\n",
       "    <tr>\n",
       "      <th>12</th>\n",
       "      <td>13.0</td>\n",
       "    </tr>\n",
       "    <tr>\n",
       "      <th>13</th>\n",
       "      <td>24.0</td>\n",
       "    </tr>\n",
       "    <tr>\n",
       "      <th>14</th>\n",
       "      <td>NaN</td>\n",
       "    </tr>\n",
       "    <tr>\n",
       "      <th>15</th>\n",
       "      <td>24.0</td>\n",
       "    </tr>\n",
       "  </tbody>\n",
       "</table>\n",
       "</div>"
      ],
      "text/plain": [
       "    biz_dt\n",
       "0      NaN\n",
       "1     11.0\n",
       "2      3.0\n",
       "3     46.0\n",
       "4     21.0\n",
       "5      NaN\n",
       "6     26.0\n",
       "7     24.0\n",
       "8      NaN\n",
       "9      NaN\n",
       "10     NaN\n",
       "11    13.0\n",
       "12    13.0\n",
       "13    24.0\n",
       "14     NaN\n",
       "15    24.0"
      ]
     },
     "execution_count": 56,
     "metadata": {},
     "output_type": "execute_result"
    }
   ],
   "source": [
    "kkk.loc['1,000,468',:] # 확인했다"
   ]
  },
  {
   "cell_type": "code",
   "execution_count": 64,
   "metadata": {},
   "outputs": [],
   "source": [
    "# 중복 구매 -> nan값으로(mean에 포함 안되게)\n",
    "diaper_diff_without0 = diaper_diff.replace(0, np.NaN).copy()"
   ]
  },
  {
   "cell_type": "code",
   "execution_count": null,
   "metadata": {},
   "outputs": [],
   "source": []
  },
  {
   "cell_type": "code",
   "execution_count": 73,
   "metadata": {},
   "outputs": [
    {
     "data": {
      "text/html": [
       "<div>\n",
       "<style scoped>\n",
       "    .dataframe tbody tr th:only-of-type {\n",
       "        vertical-align: middle;\n",
       "    }\n",
       "\n",
       "    .dataframe tbody tr th {\n",
       "        vertical-align: top;\n",
       "    }\n",
       "\n",
       "    .dataframe thead th {\n",
       "        text-align: right;\n",
       "    }\n",
       "</style>\n",
       "<table border=\"1\" class=\"dataframe\">\n",
       "  <thead>\n",
       "    <tr style=\"text-align: right;\">\n",
       "      <th></th>\n",
       "      <th>biz_dt</th>\n",
       "    </tr>\n",
       "  </thead>\n",
       "  <tbody>\n",
       "    <tr>\n",
       "      <th>0</th>\n",
       "      <td>NaN</td>\n",
       "    </tr>\n",
       "  </tbody>\n",
       "</table>\n",
       "</div>"
      ],
      "text/plain": [
       "   biz_dt\n",
       "0     NaN"
      ]
     },
     "execution_count": 73,
     "metadata": {},
     "output_type": "execute_result"
    }
   ],
   "source": [
    "\n",
    "diaper_diff_without0.loc['1,000,352', :]"
   ]
  },
  {
   "cell_type": "code",
   "execution_count": 68,
   "metadata": {},
   "outputs": [
    {
     "data": {
      "text/html": [
       "<div>\n",
       "<style scoped>\n",
       "    .dataframe tbody tr th:only-of-type {\n",
       "        vertical-align: middle;\n",
       "    }\n",
       "\n",
       "    .dataframe tbody tr th {\n",
       "        vertical-align: top;\n",
       "    }\n",
       "\n",
       "    .dataframe thead th {\n",
       "        text-align: right;\n",
       "    }\n",
       "</style>\n",
       "<table border=\"1\" class=\"dataframe\">\n",
       "  <thead>\n",
       "    <tr style=\"text-align: right;\">\n",
       "      <th></th>\n",
       "      <th>biz_dt</th>\n",
       "    </tr>\n",
       "  </thead>\n",
       "  <tbody>\n",
       "    <tr>\n",
       "      <th>0</th>\n",
       "      <td>NaN</td>\n",
       "    </tr>\n",
       "    <tr>\n",
       "      <th>1</th>\n",
       "      <td>14.0</td>\n",
       "    </tr>\n",
       "    <tr>\n",
       "      <th>2</th>\n",
       "      <td>27.0</td>\n",
       "    </tr>\n",
       "    <tr>\n",
       "      <th>3</th>\n",
       "      <td>22.0</td>\n",
       "    </tr>\n",
       "    <tr>\n",
       "      <th>4</th>\n",
       "      <td>14.0</td>\n",
       "    </tr>\n",
       "  </tbody>\n",
       "</table>\n",
       "</div>"
      ],
      "text/plain": [
       "   biz_dt\n",
       "0     NaN\n",
       "1    14.0\n",
       "2    27.0\n",
       "3    22.0\n",
       "4    14.0"
      ]
     },
     "execution_count": 68,
     "metadata": {},
     "output_type": "execute_result"
    }
   ],
   "source": [
    "diaper_diff_without0.loc['1,000,006', :]"
   ]
  },
  {
   "cell_type": "code",
   "execution_count": 72,
   "metadata": {},
   "outputs": [
    {
     "data": {
      "text/plain": [
       "19.25"
      ]
     },
     "execution_count": 72,
     "metadata": {},
     "output_type": "execute_result"
    }
   ],
   "source": [
    "np.mean([14,27,22,14])"
   ]
  },
  {
   "cell_type": "code",
   "execution_count": 65,
   "metadata": {},
   "outputs": [],
   "source": [
    "# m_id별로 groupby\n",
    "diaper_diff_without0_groupby = diaper_diff_without0.reset_index()\n",
    "diaper_diff_without0_groupby.drop(columns = ['level_1'], inplace=True)"
   ]
  },
  {
   "cell_type": "code",
   "execution_count": 66,
   "metadata": {},
   "outputs": [
    {
     "data": {
      "text/html": [
       "<div>\n",
       "<style scoped>\n",
       "    .dataframe tbody tr th:only-of-type {\n",
       "        vertical-align: middle;\n",
       "    }\n",
       "\n",
       "    .dataframe tbody tr th {\n",
       "        vertical-align: top;\n",
       "    }\n",
       "\n",
       "    .dataframe thead th {\n",
       "        text-align: right;\n",
       "    }\n",
       "</style>\n",
       "<table border=\"1\" class=\"dataframe\">\n",
       "  <thead>\n",
       "    <tr style=\"text-align: right;\">\n",
       "      <th></th>\n",
       "      <th>m_id</th>\n",
       "      <th>biz_dt</th>\n",
       "    </tr>\n",
       "  </thead>\n",
       "  <tbody>\n",
       "    <tr>\n",
       "      <th>0</th>\n",
       "      <td>1,000,006</td>\n",
       "      <td>NaN</td>\n",
       "    </tr>\n",
       "    <tr>\n",
       "      <th>1</th>\n",
       "      <td>1,000,006</td>\n",
       "      <td>14.0</td>\n",
       "    </tr>\n",
       "    <tr>\n",
       "      <th>2</th>\n",
       "      <td>1,000,006</td>\n",
       "      <td>27.0</td>\n",
       "    </tr>\n",
       "    <tr>\n",
       "      <th>3</th>\n",
       "      <td>1,000,006</td>\n",
       "      <td>22.0</td>\n",
       "    </tr>\n",
       "    <tr>\n",
       "      <th>4</th>\n",
       "      <td>1,000,006</td>\n",
       "      <td>14.0</td>\n",
       "    </tr>\n",
       "    <tr>\n",
       "      <th>...</th>\n",
       "      <td>...</td>\n",
       "      <td>...</td>\n",
       "    </tr>\n",
       "    <tr>\n",
       "      <th>545770</th>\n",
       "      <td>9,999,834</td>\n",
       "      <td>NaN</td>\n",
       "    </tr>\n",
       "    <tr>\n",
       "      <th>545771</th>\n",
       "      <td>9,999,834</td>\n",
       "      <td>43.0</td>\n",
       "    </tr>\n",
       "    <tr>\n",
       "      <th>545772</th>\n",
       "      <td>9,999,834</td>\n",
       "      <td>55.0</td>\n",
       "    </tr>\n",
       "    <tr>\n",
       "      <th>545773</th>\n",
       "      <td>9,999,834</td>\n",
       "      <td>19.0</td>\n",
       "    </tr>\n",
       "    <tr>\n",
       "      <th>545774</th>\n",
       "      <td>9,999,834</td>\n",
       "      <td>11.0</td>\n",
       "    </tr>\n",
       "  </tbody>\n",
       "</table>\n",
       "<p>545775 rows × 2 columns</p>\n",
       "</div>"
      ],
      "text/plain": [
       "             m_id  biz_dt\n",
       "0       1,000,006     NaN\n",
       "1       1,000,006    14.0\n",
       "2       1,000,006    27.0\n",
       "3       1,000,006    22.0\n",
       "4       1,000,006    14.0\n",
       "...           ...     ...\n",
       "545770  9,999,834     NaN\n",
       "545771  9,999,834    43.0\n",
       "545772  9,999,834    55.0\n",
       "545773  9,999,834    19.0\n",
       "545774  9,999,834    11.0\n",
       "\n",
       "[545775 rows x 2 columns]"
      ]
     },
     "execution_count": 66,
     "metadata": {},
     "output_type": "execute_result"
    }
   ],
   "source": [
    "diaper_diff_without0_groupby"
   ]
  },
  {
   "cell_type": "code",
   "execution_count": 67,
   "metadata": {},
   "outputs": [
    {
     "data": {
      "text/html": [
       "<div>\n",
       "<style scoped>\n",
       "    .dataframe tbody tr th:only-of-type {\n",
       "        vertical-align: middle;\n",
       "    }\n",
       "\n",
       "    .dataframe tbody tr th {\n",
       "        vertical-align: top;\n",
       "    }\n",
       "\n",
       "    .dataframe thead th {\n",
       "        text-align: right;\n",
       "    }\n",
       "</style>\n",
       "<table border=\"1\" class=\"dataframe\">\n",
       "  <thead>\n",
       "    <tr style=\"text-align: right;\">\n",
       "      <th></th>\n",
       "      <th>biz_dt</th>\n",
       "    </tr>\n",
       "    <tr>\n",
       "      <th>m_id</th>\n",
       "      <th></th>\n",
       "    </tr>\n",
       "  </thead>\n",
       "  <tbody>\n",
       "    <tr>\n",
       "      <th>1,000,006</th>\n",
       "      <td>19.250000</td>\n",
       "    </tr>\n",
       "    <tr>\n",
       "      <th>1,000,087</th>\n",
       "      <td>30.166667</td>\n",
       "    </tr>\n",
       "    <tr>\n",
       "      <th>1,000,192</th>\n",
       "      <td>48.666667</td>\n",
       "    </tr>\n",
       "    <tr>\n",
       "      <th>1,000,333</th>\n",
       "      <td>41.000000</td>\n",
       "    </tr>\n",
       "    <tr>\n",
       "      <th>1,000,352</th>\n",
       "      <td>NaN</td>\n",
       "    </tr>\n",
       "    <tr>\n",
       "      <th>...</th>\n",
       "      <td>...</td>\n",
       "    </tr>\n",
       "    <tr>\n",
       "      <th>9,999,537</th>\n",
       "      <td>77.000000</td>\n",
       "    </tr>\n",
       "    <tr>\n",
       "      <th>9,999,726</th>\n",
       "      <td>NaN</td>\n",
       "    </tr>\n",
       "    <tr>\n",
       "      <th>9,999,762</th>\n",
       "      <td>120.000000</td>\n",
       "    </tr>\n",
       "    <tr>\n",
       "      <th>9,999,820</th>\n",
       "      <td>NaN</td>\n",
       "    </tr>\n",
       "    <tr>\n",
       "      <th>9,999,834</th>\n",
       "      <td>32.000000</td>\n",
       "    </tr>\n",
       "  </tbody>\n",
       "</table>\n",
       "<p>212550 rows × 1 columns</p>\n",
       "</div>"
      ],
      "text/plain": [
       "               biz_dt\n",
       "m_id                 \n",
       "1,000,006   19.250000\n",
       "1,000,087   30.166667\n",
       "1,000,192   48.666667\n",
       "1,000,333   41.000000\n",
       "1,000,352         NaN\n",
       "...               ...\n",
       "9,999,537   77.000000\n",
       "9,999,726         NaN\n",
       "9,999,762  120.000000\n",
       "9,999,820         NaN\n",
       "9,999,834   32.000000\n",
       "\n",
       "[212550 rows x 1 columns]"
      ]
     },
     "execution_count": 67,
     "metadata": {},
     "output_type": "execute_result"
    }
   ],
   "source": [
    "diaper_diff_without0_groupby.groupby('m_id').mean()"
   ]
  },
  {
   "cell_type": "code",
   "execution_count": 74,
   "metadata": {},
   "outputs": [],
   "source": [
    "diaper_diff_without0_groupby_mean = diaper_diff_without0_groupby.groupby('m_id').mean()"
   ]
  },
  {
   "cell_type": "code",
   "execution_count": 75,
   "metadata": {},
   "outputs": [
    {
     "data": {
      "text/html": [
       "<div>\n",
       "<style scoped>\n",
       "    .dataframe tbody tr th:only-of-type {\n",
       "        vertical-align: middle;\n",
       "    }\n",
       "\n",
       "    .dataframe tbody tr th {\n",
       "        vertical-align: top;\n",
       "    }\n",
       "\n",
       "    .dataframe thead th {\n",
       "        text-align: right;\n",
       "    }\n",
       "</style>\n",
       "<table border=\"1\" class=\"dataframe\">\n",
       "  <thead>\n",
       "    <tr style=\"text-align: right;\">\n",
       "      <th></th>\n",
       "      <th>biz_dt</th>\n",
       "    </tr>\n",
       "    <tr>\n",
       "      <th>m_id</th>\n",
       "      <th></th>\n",
       "    </tr>\n",
       "  </thead>\n",
       "  <tbody>\n",
       "    <tr>\n",
       "      <th>1,000,006</th>\n",
       "      <td>19.250000</td>\n",
       "    </tr>\n",
       "    <tr>\n",
       "      <th>1,000,087</th>\n",
       "      <td>30.166667</td>\n",
       "    </tr>\n",
       "    <tr>\n",
       "      <th>1,000,192</th>\n",
       "      <td>48.666667</td>\n",
       "    </tr>\n",
       "    <tr>\n",
       "      <th>1,000,333</th>\n",
       "      <td>41.000000</td>\n",
       "    </tr>\n",
       "    <tr>\n",
       "      <th>1,000,468</th>\n",
       "      <td>20.500000</td>\n",
       "    </tr>\n",
       "    <tr>\n",
       "      <th>...</th>\n",
       "      <td>...</td>\n",
       "    </tr>\n",
       "    <tr>\n",
       "      <th>9,999,212</th>\n",
       "      <td>33.000000</td>\n",
       "    </tr>\n",
       "    <tr>\n",
       "      <th>9,999,268</th>\n",
       "      <td>39.800000</td>\n",
       "    </tr>\n",
       "    <tr>\n",
       "      <th>9,999,537</th>\n",
       "      <td>77.000000</td>\n",
       "    </tr>\n",
       "    <tr>\n",
       "      <th>9,999,762</th>\n",
       "      <td>120.000000</td>\n",
       "    </tr>\n",
       "    <tr>\n",
       "      <th>9,999,834</th>\n",
       "      <td>32.000000</td>\n",
       "    </tr>\n",
       "  </tbody>\n",
       "</table>\n",
       "<p>103648 rows × 1 columns</p>\n",
       "</div>"
      ],
      "text/plain": [
       "               biz_dt\n",
       "m_id                 \n",
       "1,000,006   19.250000\n",
       "1,000,087   30.166667\n",
       "1,000,192   48.666667\n",
       "1,000,333   41.000000\n",
       "1,000,468   20.500000\n",
       "...               ...\n",
       "9,999,212   33.000000\n",
       "9,999,268   39.800000\n",
       "9,999,537   77.000000\n",
       "9,999,762  120.000000\n",
       "9,999,834   32.000000\n",
       "\n",
       "[103648 rows x 1 columns]"
      ]
     },
     "execution_count": 75,
     "metadata": {},
     "output_type": "execute_result"
    }
   ],
   "source": [
    "diaper_diff_without0_groupby_mean.dropna()"
   ]
  },
  {
   "cell_type": "code",
   "execution_count": 81,
   "metadata": {},
   "outputs": [
    {
     "data": {
      "text/plain": [
       "array([ 19.25      ,  30.16666667,  48.66666667, ...,  77.        ,\n",
       "       120.        ,  32.        ])"
      ]
     },
     "execution_count": 81,
     "metadata": {},
     "output_type": "execute_result"
    }
   ],
   "source": [
    "diaper_diff_without0_groupby_mean.dropna()['biz_dt'].values"
   ]
  },
  {
   "cell_type": "code",
   "execution_count": 93,
   "metadata": {},
   "outputs": [],
   "source": [
    "tt_drop0_m = diaper_diff_without0_groupby_mean.dropna()"
   ]
  },
  {
   "cell_type": "code",
   "execution_count": 94,
   "metadata": {},
   "outputs": [
    {
     "data": {
      "text/html": [
       "<div>\n",
       "<style scoped>\n",
       "    .dataframe tbody tr th:only-of-type {\n",
       "        vertical-align: middle;\n",
       "    }\n",
       "\n",
       "    .dataframe tbody tr th {\n",
       "        vertical-align: top;\n",
       "    }\n",
       "\n",
       "    .dataframe thead th {\n",
       "        text-align: right;\n",
       "    }\n",
       "</style>\n",
       "<table border=\"1\" class=\"dataframe\">\n",
       "  <thead>\n",
       "    <tr style=\"text-align: right;\">\n",
       "      <th></th>\n",
       "      <th>biz_dt</th>\n",
       "    </tr>\n",
       "    <tr>\n",
       "      <th>m_id</th>\n",
       "      <th></th>\n",
       "    </tr>\n",
       "  </thead>\n",
       "  <tbody>\n",
       "    <tr>\n",
       "      <th>1,000,006</th>\n",
       "      <td>19.250000</td>\n",
       "    </tr>\n",
       "    <tr>\n",
       "      <th>1,000,087</th>\n",
       "      <td>30.166667</td>\n",
       "    </tr>\n",
       "    <tr>\n",
       "      <th>1,000,192</th>\n",
       "      <td>48.666667</td>\n",
       "    </tr>\n",
       "    <tr>\n",
       "      <th>1,000,333</th>\n",
       "      <td>41.000000</td>\n",
       "    </tr>\n",
       "    <tr>\n",
       "      <th>1,000,468</th>\n",
       "      <td>20.500000</td>\n",
       "    </tr>\n",
       "    <tr>\n",
       "      <th>...</th>\n",
       "      <td>...</td>\n",
       "    </tr>\n",
       "    <tr>\n",
       "      <th>9,999,212</th>\n",
       "      <td>33.000000</td>\n",
       "    </tr>\n",
       "    <tr>\n",
       "      <th>9,999,268</th>\n",
       "      <td>39.800000</td>\n",
       "    </tr>\n",
       "    <tr>\n",
       "      <th>9,999,537</th>\n",
       "      <td>77.000000</td>\n",
       "    </tr>\n",
       "    <tr>\n",
       "      <th>9,999,762</th>\n",
       "      <td>120.000000</td>\n",
       "    </tr>\n",
       "    <tr>\n",
       "      <th>9,999,834</th>\n",
       "      <td>32.000000</td>\n",
       "    </tr>\n",
       "  </tbody>\n",
       "</table>\n",
       "<p>103648 rows × 1 columns</p>\n",
       "</div>"
      ],
      "text/plain": [
       "               biz_dt\n",
       "m_id                 \n",
       "1,000,006   19.250000\n",
       "1,000,087   30.166667\n",
       "1,000,192   48.666667\n",
       "1,000,333   41.000000\n",
       "1,000,468   20.500000\n",
       "...               ...\n",
       "9,999,212   33.000000\n",
       "9,999,268   39.800000\n",
       "9,999,537   77.000000\n",
       "9,999,762  120.000000\n",
       "9,999,834   32.000000\n",
       "\n",
       "[103648 rows x 1 columns]"
      ]
     },
     "execution_count": 94,
     "metadata": {},
     "output_type": "execute_result"
    }
   ],
   "source": [
    "tt_drop0_m"
   ]
  },
  {
   "cell_type": "code",
   "execution_count": 95,
   "metadata": {},
   "outputs": [
    {
     "data": {
      "text/plain": [
       "(103648, 1)"
      ]
     },
     "execution_count": 95,
     "metadata": {},
     "output_type": "execute_result"
    }
   ],
   "source": [
    "tt_drop0_m.shape"
   ]
  },
  {
   "cell_type": "code",
   "execution_count": 96,
   "metadata": {},
   "outputs": [
    {
     "data": {
      "text/plain": [
       "biz_dt    44.974998\n",
       "dtype: float64"
      ]
     },
     "execution_count": 96,
     "metadata": {},
     "output_type": "execute_result"
    }
   ],
   "source": [
    "tt_drop0_m.mean()"
   ]
  },
  {
   "cell_type": "code",
   "execution_count": 85,
   "metadata": {},
   "outputs": [
    {
     "data": {
      "text/plain": [
       "0.022727272727272728"
      ]
     },
     "execution_count": 85,
     "metadata": {},
     "output_type": "execute_result"
    }
   ],
   "source": [
    "1/44"
   ]
  },
  {
   "cell_type": "code",
   "execution_count": 120,
   "metadata": {},
   "outputs": [
    {
     "data": {
      "text/plain": [
       "0.1590909090909091"
      ]
     },
     "execution_count": 120,
     "metadata": {},
     "output_type": "execute_result"
    }
   ],
   "source": [
    "1/44*7"
   ]
  },
  {
   "cell_type": "markdown",
   "metadata": {},
   "source": [
    "---"
   ]
  },
  {
   "cell_type": "markdown",
   "metadata": {},
   "source": [
    "## # Step2. # Gamma 분포 alpha, beta 추정(MLE)"
   ]
  },
  {
   "cell_type": "markdown",
   "metadata": {},
   "source": [
    "#### * lambda\n",
    "poisson(lambda) : 이때의 lambda는 단위시간 당 사건의 평균적인 발생 횟수. - 이를 추정하기 위해, 단위 시간 당 사건의 발생횟수의 분포를 본다.\n",
    "\n",
    "'반복구매율'(지수분포)을 통한(lambda) : 고객들이 반복 구매를 나타내는 정도를 나타내는 수치 -> 1/time-interval 인 <U>'단위 시간 당 사건의 발생횟수'</U>로 본다."
   ]
  },
  {
   "cell_type": "code",
   "execution_count": 1,
   "metadata": {},
   "outputs": [
    {
     "data": {
      "text/plain": [
       "0.02857142857142857"
      ]
     },
     "execution_count": 1,
     "metadata": {},
     "output_type": "execute_result"
    }
   ],
   "source": [
    "# 예로, 평균적인 repeat purchase daya : 35일 -> 하루마다 약 0.028씩 구매사건이 일어난다!\n",
    "\n",
    "1/35"
   ]
  },
  {
   "cell_type": "code",
   "execution_count": 97,
   "metadata": {},
   "outputs": [
    {
     "data": {
      "text/plain": [
       "biz_dt    44.974998\n",
       "dtype: float64"
      ]
     },
     "execution_count": 97,
     "metadata": {},
     "output_type": "execute_result"
    }
   ],
   "source": [
    "tt_drop0_m.mean()"
   ]
  },
  {
   "cell_type": "code",
   "execution_count": null,
   "metadata": {},
   "outputs": [],
   "source": []
  },
  {
   "cell_type": "code",
   "execution_count": 98,
   "metadata": {
    "scrolled": true
   },
   "outputs": [],
   "source": [
    "# tt_drop0의 inverse를 사용할 것이다.\n",
    "\n",
    "tt_inver = 1/tt_drop0_m"
   ]
  },
  {
   "cell_type": "code",
   "execution_count": 100,
   "metadata": {
    "scrolled": true
   },
   "outputs": [
    {
     "data": {
      "text/html": [
       "<div>\n",
       "<style scoped>\n",
       "    .dataframe tbody tr th:only-of-type {\n",
       "        vertical-align: middle;\n",
       "    }\n",
       "\n",
       "    .dataframe tbody tr th {\n",
       "        vertical-align: top;\n",
       "    }\n",
       "\n",
       "    .dataframe thead th {\n",
       "        text-align: right;\n",
       "    }\n",
       "</style>\n",
       "<table border=\"1\" class=\"dataframe\">\n",
       "  <thead>\n",
       "    <tr style=\"text-align: right;\">\n",
       "      <th></th>\n",
       "      <th>biz_dt</th>\n",
       "    </tr>\n",
       "    <tr>\n",
       "      <th>m_id</th>\n",
       "      <th></th>\n",
       "    </tr>\n",
       "  </thead>\n",
       "  <tbody>\n",
       "    <tr>\n",
       "      <th>1,000,006</th>\n",
       "      <td>0.051948</td>\n",
       "    </tr>\n",
       "    <tr>\n",
       "      <th>1,000,087</th>\n",
       "      <td>0.033149</td>\n",
       "    </tr>\n",
       "    <tr>\n",
       "      <th>1,000,192</th>\n",
       "      <td>0.020548</td>\n",
       "    </tr>\n",
       "    <tr>\n",
       "      <th>1,000,333</th>\n",
       "      <td>0.024390</td>\n",
       "    </tr>\n",
       "    <tr>\n",
       "      <th>1,000,468</th>\n",
       "      <td>0.048780</td>\n",
       "    </tr>\n",
       "  </tbody>\n",
       "</table>\n",
       "</div>"
      ],
      "text/plain": [
       "             biz_dt\n",
       "m_id               \n",
       "1,000,006  0.051948\n",
       "1,000,087  0.033149\n",
       "1,000,192  0.020548\n",
       "1,000,333  0.024390\n",
       "1,000,468  0.048780"
      ]
     },
     "execution_count": 100,
     "metadata": {},
     "output_type": "execute_result"
    }
   ],
   "source": [
    "tt_inver.head()"
   ]
  },
  {
   "cell_type": "code",
   "execution_count": 101,
   "metadata": {
    "scrolled": true
   },
   "outputs": [
    {
     "data": {
      "text/plain": [
       "array([[<matplotlib.axes._subplots.AxesSubplot object at 0x13be9aba8>]],\n",
       "      dtype=object)"
      ]
     },
     "execution_count": 101,
     "metadata": {},
     "output_type": "execute_result"
    },
    {
     "data": {
      "image/png": "[encoded data removed]",
      "text/plain": [
       "<Figure size 432x288 with 1 Axes>"
      ]
     },
     "metadata": {},
     "output_type": "display_data"
    }
   ],
   "source": [
    "tt_inver.hist(bins=210)"
   ]
  },
  {
   "cell_type": "code",
   "execution_count": 102,
   "metadata": {},
   "outputs": [
    {
     "data": {
      "image/png": "[encoded data removed]",
      "text/plain": [
       "<Figure size 432x288 with 1 Axes>"
      ]
     },
     "metadata": {},
     "output_type": "display_data"
    }
   ],
   "source": [
    "# tt_inver 의 분포를 살펴보는거야\n",
    "\n",
    "plt.figure()\n",
    "sns.distplot( tt_inver, color = 'blue', label='tt_inver')\n",
    "plt.legend()\n",
    "#plt.xlim(-3,55)\n",
    "\n",
    "plt.show()\n",
    "plt.close()"
   ]
  },
  {
   "cell_type": "markdown",
   "metadata": {},
   "source": [
    "---"
   ]
  },
  {
   "cell_type": "markdown",
   "metadata": {},
   "source": [
    "### # step2-(2). time-interval 단위를 변환한다면? - 1주일 단위로"
   ]
  },
  {
   "cell_type": "code",
   "execution_count": null,
   "metadata": {},
   "outputs": [],
   "source": []
  },
  {
   "cell_type": "markdown",
   "metadata": {},
   "source": [
    "# #  Step2.  Gamma 분포 $\\alpha$, $\\beta$ 추정(MLE)"
   ]
  },
  {
   "cell_type": "markdown",
   "metadata": {},
   "source": [
    "### * 고객들의 반복구매율 $\\lambda$\n",
    "> - X ~ Poisson($\\lambda$) :  단위시간 당 사건의 평균적인 발생 횟수 \n",
    "\n",
    "> - X ~ Exp($\\lambda$) :  사건 발생까지의 평균적인 시간들의 역수"
   ]
  },
  {
   "cell_type": "code",
   "execution_count": 103,
   "metadata": {
    "scrolled": true
   },
   "outputs": [],
   "source": [
    "# 1/time 활용 : 단위시간'일주일'\n",
    "tt_inver7 = tt_inver*7"
   ]
  },
  {
   "cell_type": "code",
   "execution_count": 142,
   "metadata": {},
   "outputs": [
    {
     "name": "stdout",
     "output_type": "stream",
     "text": [
      "* alpha : 1.1671751660963352, scale : 0.28244676995986034, alpha*scale : 0.3296648556412734\n",
      "* mean of tt_inevr7 : [0.32966486]\n"
     ]
    }
   ],
   "source": [
    "# Gamma-fitting 후, 파라미터 추정량 확인\n",
    "alpha_, _ , scale_ = stats.gamma.fit(tt_inver7, floc=0) \n",
    "print('* alpha : {}, scale : {}, alpha*scale : {}'.format(alpha_, scale_, alpha_*scale_))\n",
    "print('* mean of tt_inevr7 : {}'.format(tt_inver7.mean().values))"
   ]
  },
  {
   "cell_type": "code",
   "execution_count": 125,
   "metadata": {
    "scrolled": true
   },
   "outputs": [
    {
     "data": {
      "image/png": "[encoded data removed]",
      "text/plain": [
       "<Figure size 432x288 with 1 Axes>"
      ]
     },
     "metadata": {},
     "output_type": "display_data"
    }
   ],
   "source": [
    "plt.figure()\n",
    "sns.distplot( tt_inver7, color = 'blue', label='tt_inver7')\n",
    "plt.legend()\n",
    "plt.xlim(-0.5, 7.5)\n",
    "plt.ylim( 0, 3.2)\n",
    "\n",
    "plt.show()\n",
    "plt.close()"
   ]
  },
  {
   "cell_type": "code",
   "execution_count": 1,
   "metadata": {},
   "outputs": [
    {
     "data": {
      "text/plain": [
       "0.04709497937732477"
      ]
     },
     "execution_count": 1,
     "metadata": {},
     "output_type": "execute_result"
    }
   ],
   "source": [
    "0.3296648556412734/7"
   ]
  },
  {
   "cell_type": "code",
   "execution_count": 128,
   "metadata": {},
   "outputs": [
    {
     "data": {
      "text/plain": [
       "0.3296648556412734"
      ]
     },
     "execution_count": 128,
     "metadata": {},
     "output_type": "execute_result"
    }
   ],
   "source": [
    "alpha_*scale_"
   ]
  },
  {
   "cell_type": "code",
   "execution_count": 133,
   "metadata": {},
   "outputs": [],
   "source": [
    "y_ = stats.gamma.rvs(a = alpha_ , scale=scale_ , size = tt_drop0.shape[0])"
   ]
  },
  {
   "cell_type": "code",
   "execution_count": 134,
   "metadata": {
    "scrolled": false
   },
   "outputs": [
    {
     "data": {
      "image/png": "[encoded data removed]",
      "text/plain": [
       "<Figure size 432x288 with 1 Axes>"
      ]
     },
     "metadata": {},
     "output_type": "display_data"
    }
   ],
   "source": [
    "plt.figure()\n",
    "sns.distplot( y_, color = 'red', label='gamma')\n",
    "plt.legend()\n",
    "plt.xlim(-0.5, 7.5)\n",
    "plt.ylim( 0, 3.2)\n",
    "\n",
    "plt.show()\n",
    "plt.close()"
   ]
  },
  {
   "cell_type": "markdown",
   "metadata": {},
   "source": [
    "---"
   ]
  },
  {
   "cell_type": "markdown",
   "metadata": {},
   "source": [
    "---"
   ]
  },
  {
   "cell_type": "markdown",
   "metadata": {},
   "source": [
    "## # Step3. # step2의 계산된 𝛼, 𝛽를 통해 ‘고객들의 재구매율’을 나타내는 parameter 𝜆(lambda)를 추정."
   ]
  },
  {
   "cell_type": "code",
   "execution_count": 120,
   "metadata": {},
   "outputs": [],
   "source": [
    "# 함수로 정의 : time-interval 단위 '하루'\n",
    "# 고객의 k, t, t_purch, t_mean, 고객당 lambda 계산 값 계산\n",
    "\n",
    "\n",
    "def func_lamb(train, test, test_id, current, alpha, beta, tmean):\n",
    "    t_ = (current - train[train.m_id == test_id].iloc[-1].biz_dt).days  # 구매이력이 없는사람은?(고려해야해) - 지금은 있는 사람만.\n",
    "    t_purch = (train[train.m_id == test_id].iloc[-1].biz_dt - train[train.m_id == test_id].iloc[0].biz_dt).days\n",
    "    k = train.biz_dt[train.m_id == test_id].shape[0] # train 구매이력\n",
    "    if k <= 1 :\n",
    "        tmean_u = tmean # tmean : 모든 user들의 상품에대한 평균 t(구매이력이 한번밖에 없으니, user의 고유 평균 t값 대입할 수 없다.)\n",
    "    else:\n",
    "        tmean_u = train.biz_dt[train.m_id == test_id].diff().mean().days\n",
    "    lamb = (k+alpha)/(t_purch+2*abs(tmean_u-t_)+beta)\n",
    "    return lamb, t_, t_purch, tmean_u, k"
   ]
  },
  {
   "cell_type": "code",
   "execution_count": 139,
   "metadata": {},
   "outputs": [],
   "source": [
    "# time-interval 단위 '일주일'.\n",
    "# 고객의 k, t, t_purch, t_mean, 고객당 lambda 계산 값 계산\n",
    "\n",
    "\n",
    "def func_lamb(train, test, test_id, current, alpha, beta, tmean):\n",
    "    t_ = (current - train[train.m_id == test_id].iloc[-1].biz_dt).days/7  # 구매이력이 없는사람은?(고려해야해) - 지금은 있는 사람만.\n",
    "    t_purch = (train[train.m_id == test_id].iloc[-1].biz_dt - train[train.m_id == test_id].iloc[0].biz_dt).days/7\n",
    "    k = train.biz_dt[train.m_id == test_id].shape[0] # train 구매이력\n",
    "    if k <= 1 :\n",
    "        tmean_u = tmean # tmean : 모든 user들의 상품에대한 평균 t(구매이력이 한번밖에 없으니, user의 고유 평균 t값 대입할 수 없다.)\n",
    "    else:\n",
    "        tmean_u = train.biz_dt[train.m_id == test_id].diff().mean().days/7\n",
    "    lamb = (k+alpha)/(t_purch+2*abs(tmean_u-t_)+beta)\n",
    "    return lamb, t_, t_purch, tmean_u, k"
   ]
  },
  {
   "cell_type": "markdown",
   "metadata": {},
   "source": [
    "---"
   ]
  },
  {
   "cell_type": "markdown",
   "metadata": {},
   "source": [
    "## # Step4. # 계산된 ’𝜆(lambda)’를 이용하여, ‘고객 시점별 제품 구매확률’ 계산.\n",
    "- P(고객이 제품을 구매할 확률) = 1 - P(고객이 제품을 구매 X)"
   ]
  },
  {
   "cell_type": "code",
   "execution_count": null,
   "metadata": {},
   "outputs": [],
   "source": [
    "# simple하게, '현재 시점'에 의해 lambda값이 계산되기에, 아래 값을 이용하면 현재시점에서 score 계산 가능 \n",
    "\n",
    "1-stats.poisson.pmf(mu = lamb, k=0)"
   ]
  },
  {
   "cell_type": "markdown",
   "metadata": {},
   "source": [
    "---"
   ]
  },
  {
   "cell_type": "markdown",
   "metadata": {},
   "source": [
    "## (Test)# RCP 부분을 제외한, test 진행!"
   ]
  },
  {
   "cell_type": "markdown",
   "metadata": {},
   "source": [
    "### # (1) test id 정의"
   ]
  },
  {
   "cell_type": "code",
   "execution_count": 37,
   "metadata": {},
   "outputs": [],
   "source": [
    "# Test_id : 테스트 데이터에서, unique한 id 1000개\n",
    "\n",
    "test_id = diaper_test.m_id.unique()[:1000]"
   ]
  },
  {
   "cell_type": "code",
   "execution_count": 96,
   "metadata": {},
   "outputs": [],
   "source": [
    "# test_id 1000개중에서, train기록 가지고있는 애들만 활용해본다!\n",
    "\n",
    "tf = []\n",
    "for i in range(len(test_id)):\n",
    "    tf.append( bool(diaper_train[diaper_train.m_id == test_id[i]].shape[0]) \n",
    "              & bool(diaper_test[diaper_test.m_id == test_id[i]].shape[0]) == True) #train, test 둘다 있는 아이디를 밝혀주는 index만들어주는거야."
   ]
  },
  {
   "cell_type": "markdown",
   "metadata": {},
   "source": [
    "### # (2) test 기간 정의"
   ]
  },
  {
   "cell_type": "code",
   "execution_count": 141,
   "metadata": {},
   "outputs": [],
   "source": [
    "# 설정한 current에서 한달 정도의 기간을 만들어준다.\n",
    "\n",
    "current_l = pd.date_range('2018-08-01', periods=30).tolist()"
   ]
  },
  {
   "cell_type": "markdown",
   "metadata": {},
   "source": [
    "---"
   ]
  },
  {
   "cell_type": "code",
   "execution_count": 181,
   "metadata": {
    "scrolled": true
   },
   "outputs": [
    {
     "name": "stdout",
     "output_type": "stream",
     "text": [
      "user:[10] last order: 9109044   2018-07-31 23:58:04\n",
      "Name: biz_dt, dtype: datetime64[ns] \n",
      "\n",
      "current: 2018-08-01 00:00:00 current-last_order: 0.0 t_purch: 0.0\n",
      "pred: 0.1492609718844462 , tmean_u: 5.100639366580533 , k: 1 \n",
      "\n",
      "current: 2018-08-02 00:00:00 current-last_order: 0.14285714285714285 t_purch: 0.0\n",
      "pred: 0.15262529603615016 , tmean_u: 5.100639366580533 , k: 1 \n",
      "\n",
      "current: 2018-08-03 00:00:00 current-last_order: 0.2857142857142857 t_purch: 0.0\n",
      "pred: 0.1561443769006401 , tmean_u: 5.100639366580533 , k: 1 \n",
      "\n",
      "current: 2018-08-04 00:00:00 current-last_order: 0.42857142857142855 t_purch: 0.0\n",
      "pred: 0.1598291112140694 , tmean_u: 5.100639366580533 , k: 1 \n",
      "\n",
      "current: 2018-08-05 00:00:00 current-last_order: 0.5714285714285714 t_purch: 0.0\n",
      "pred: 0.16369143967784472 , tmean_u: 5.100639366580533 , k: 1 \n",
      "\n",
      "current: 2018-08-06 00:00:00 current-last_order: 0.7142857142857143 t_purch: 0.0\n",
      "pred: 0.1677444745267762 , tmean_u: 5.100639366580533 , k: 1 \n",
      "\n",
      "current: 2018-08-07 00:00:00 current-last_order: 0.8571428571428571 t_purch: 0.0\n",
      "pred: 0.17200264617917482 , tmean_u: 5.100639366580533 , k: 1 \n",
      "\n",
      "current: 2018-08-08 00:00:00 current-last_order: 1.0 t_purch: 0.0\n",
      "pred: 0.17648187236424762 , tmean_u: 5.100639366580533 , k: 1 \n",
      "\n",
      "current: 2018-08-09 00:00:00 current-last_order: 1.1428571428571428 t_purch: 0.0\n",
      "pred: 0.18119975382558728 , tmean_u: 5.100639366580533 , k: 1 \n",
      "\n",
      "current: 2018-08-10 00:00:00 current-last_order: 1.2857142857142858 t_purch: 0.0\n",
      "pred: 0.1861758015698215 , tmean_u: 5.100639366580533 , k: 1 \n",
      "\n",
      "current: 2018-08-11 00:00:00 current-last_order: 1.4285714285714286 t_purch: 0.0\n",
      "pred: 0.19143170171122925 , tmean_u: 5.100639366580533 , k: 1 \n",
      "\n",
      "current: 2018-08-12 00:00:00 current-last_order: 1.5714285714285714 t_purch: 0.0\n",
      "pred: 0.19699162531428416 , tmean_u: 5.100639366580533 , k: 1 \n",
      "\n",
      "current: 2018-08-13 00:00:00 current-last_order: 1.7142857142857142 t_purch: 0.0\n",
      "pred: 0.20288259233225814 , tmean_u: 5.100639366580533 , k: 1 \n",
      "\n",
      "current: 2018-08-14 00:00:00 current-last_order: 1.8571428571428572 t_purch: 0.0\n",
      "pred: 0.20913490088036135 , tmean_u: 5.100639366580533 , k: 1 \n",
      "\n",
      "current: 2018-08-15 00:00:00 current-last_order: 2.0 t_purch: 0.0\n",
      "pred: 0.21578263579715118 , tmean_u: 5.100639366580533 , k: 1 \n",
      "\n",
      "current: 2018-08-16 00:00:00 current-last_order: 2.142857142857143 t_purch: 0.0\n",
      "pred: 0.2228642739113429 , tmean_u: 5.100639366580533 , k: 1 \n",
      "\n",
      "current: 2018-08-17 00:00:00 current-last_order: 2.2857142857142856 t_purch: 0.0\n",
      "pred: 0.23042340787342663 , tmean_u: 5.100639366580533 , k: 1 \n",
      "\n",
      "current: 2018-08-18 00:00:00 current-last_order: 2.4285714285714284 t_purch: 0.0\n",
      "pred: 0.23850961614127175 , tmean_u: 5.100639366580533 , k: 1 \n",
      "\n",
      "current: 2018-08-19 00:00:00 current-last_order: 2.5714285714285716 t_purch: 0.0\n",
      "pred: 0.2471795141407469 , tmean_u: 5.100639366580533 , k: 1 \n",
      "\n",
      "current: 2018-08-20 00:00:00 current-last_order: 2.7142857142857144 t_purch: 0.0\n",
      "pred: 0.25649803131475946 , tmean_u: 5.100639366580533 , k: 1 \n",
      "\n",
      "current: 2018-08-21 00:00:00 current-last_order: 2.857142857142857 t_purch: 0.0\n",
      "pred: 0.2665399714805564 , tmean_u: 5.100639366580533 , k: 1 \n",
      "\n",
      "current: 2018-08-22 00:00:00 current-last_order: 3.0 t_purch: 0.0\n",
      "pred: 0.2773919306514404 , tmean_u: 5.100639366580533 , k: 1 \n",
      "\n",
      "current: 2018-08-23 00:00:00 current-last_order: 3.142857142857143 t_purch: 0.0\n",
      "pred: 0.28915466860830186 , tmean_u: 5.100639366580533 , k: 1 \n",
      "\n",
      "current: 2018-08-24 00:00:00 current-last_order: 3.2857142857142856 t_purch: 0.0\n",
      "pred: 0.3019460598372986 , tmean_u: 5.100639366580533 , k: 1 \n",
      "\n",
      "current: 2018-08-25 00:00:00 current-last_order: 3.4285714285714284 t_purch: 0.0\n",
      "pred: 0.31590478832886815 , tmean_u: 5.100639366580533 , k: 1 \n",
      "\n",
      "current: 2018-08-26 00:00:00 current-last_order: 3.5714285714285716 t_purch: 0.0\n",
      "pred: 0.33119500206795227 , tmean_u: 5.100639366580533 , k: 1 \n",
      "\n",
      "current: 2018-08-27 00:00:00 current-last_order: 3.7142857142857144 t_purch: 0.0\n",
      "pred: 0.34801221009911987 , tmean_u: 5.100639366580533 , k: 1 \n",
      "\n",
      "current: 2018-08-28 00:00:00 current-last_order: 3.857142857142857 t_purch: 0.0\n",
      "pred: 0.3665907905949457 , tmean_u: 5.100639366580533 , k: 1 \n",
      "\n",
      "current: 2018-08-29 00:00:00 current-last_order: 4.0 t_purch: 0.0\n",
      "pred: 0.38721358216748103 , tmean_u: 5.100639366580533 , k: 1 \n",
      "\n",
      "current: 2018-08-30 00:00:00 current-last_order: 4.142857142857143 t_purch: 0.0\n",
      "pred: 0.41022414283976094 , tmean_u: 5.100639366580533 , k: 1 \n",
      "\n",
      "current: 2018-08-31 00:00:00 current-last_order: 4.285714285714286 t_purch: 0.0\n",
      "pred: 0.43604234487844873 , tmean_u: 5.100639366580533 , k: 1 \n",
      "\n",
      "current: 2018-09-01 00:00:00 current-last_order: 4.428571428571429 t_purch: 0.0\n",
      "pred: 0.46518392158465083 , tmean_u: 5.100639366580533 , k: 1 \n",
      "\n",
      "current: 2018-09-02 00:00:00 current-last_order: 4.571428571428571 t_purch: 0.0\n",
      "pred: 0.4982841026378889 , tmean_u: 5.100639366580533 , k: 1 \n",
      "\n",
      "current: 2018-09-03 00:00:00 current-last_order: 4.714285714285714 t_purch: 0.0\n",
      "pred: 0.536123793055775 , tmean_u: 5.100639366580533 , k: 1 \n",
      "\n",
      "current: 2018-09-04 00:00:00 current-last_order: 4.857142857142857 t_purch: 0.0\n",
      "pred: 0.5796517947398971 , tmean_u: 5.100639366580533 , k: 1 \n",
      "\n",
      "current: 2018-09-05 00:00:00 current-last_order: 5.0 t_purch: 0.0\n",
      "pred: 0.6299826662205766 , tmean_u: 5.100639366580533 , k: 1 \n",
      "\n",
      "current: 2018-09-06 00:00:00 current-last_order: 5.142857142857143 t_purch: 0.0\n",
      "pred: 0.6528041377417765 , tmean_u: 5.100639366580533 , k: 1 \n",
      "\n",
      "current: 2018-09-07 00:00:00 current-last_order: 5.285714285714286 t_purch: 0.0\n",
      "pred: 0.5993446293530069 , tmean_u: 5.100639366580533 , k: 1 \n",
      "\n",
      "current: 2018-09-08 00:00:00 current-last_order: 5.428571428571429 t_purch: 0.0\n",
      "pred: 0.5531773153814906 , tmean_u: 5.100639366580533 , k: 1 \n",
      "\n",
      "current: 2018-09-09 00:00:00 current-last_order: 5.571428571428571 t_purch: 0.0\n",
      "pred: 0.5131359972593814 , tmean_u: 5.100639366580533 , k: 1 \n",
      "\n",
      "current: 2018-09-10 00:00:00 current-last_order: 5.714285714285714 t_purch: 0.0\n",
      "pred: 0.47820111146735467 , tmean_u: 5.100639366580533 , k: 1 \n",
      "\n",
      "current: 2018-09-11 00:00:00 current-last_order: 5.857142857142857 t_purch: 0.0\n",
      "pred: 0.4475251015359182 , tmean_u: 5.100639366580533 , k: 1 \n",
      "\n",
      "current: 2018-09-12 00:00:00 current-last_order: 6.0 t_purch: 0.0\n",
      "pred: 0.42041633831105507 , tmean_u: 5.100639366580533 , k: 1 \n",
      "\n",
      "current: 2018-09-13 00:00:00 current-last_order: 6.142857142857143 t_purch: 0.0\n",
      "pred: 0.39631328709607805 , tmean_u: 5.100639366580533 , k: 1 \n",
      "\n",
      "current: 2018-09-14 00:00:00 current-last_order: 6.285714285714286 t_purch: 0.0\n",
      "pred: 0.37475947433076273 , tmean_u: 5.100639366580533 , k: 1 \n",
      "\n",
      "current: 2018-09-15 00:00:00 current-last_order: 6.428571428571429 t_purch: 0.0\n",
      "pred: 0.35538223047649276 , tmean_u: 5.100639366580533 , k: 1 \n",
      "\n",
      "current: 2018-09-16 00:00:00 current-last_order: 6.571428571428571 t_purch: 0.0\n",
      "pred: 0.3378755410020098 , tmean_u: 5.100639366580533 , k: 1 \n",
      "\n",
      "current: 2018-09-17 00:00:00 current-last_order: 6.714285714285714 t_purch: 0.0\n",
      "pred: 0.3219865059782546 , tmean_u: 5.100639366580533 , k: 1 \n",
      "\n",
      "current: 2018-09-18 00:00:00 current-last_order: 6.857142857142857 t_purch: 0.0\n",
      "pred: 0.30750473453288507 , tmean_u: 5.100639366580533 , k: 1 \n",
      "\n",
      "current: 2018-09-19 00:00:00 current-last_order: 7.0 t_purch: 0.0\n",
      "pred: 0.2942540483012639 , tmean_u: 5.100639366580533 , k: 1 \n",
      "\n",
      "current: 2018-09-20 00:00:00 current-last_order: 7.142857142857143 t_purch: 0.0\n",
      "pred: 0.28208597558458737 , tmean_u: 5.100639366580533 , k: 1 \n",
      "\n",
      "current: 2018-09-21 00:00:00 current-last_order: 7.285714285714286 t_purch: 0.0\n",
      "pred: 0.2708746273124668 , tmean_u: 5.100639366580533 , k: 1 \n",
      "\n",
      "current: 2018-09-22 00:00:00 current-last_order: 7.428571428571429 t_purch: 0.0\n",
      "pred: 0.26051263927658364 , tmean_u: 5.100639366580533 , k: 1 \n",
      "\n",
      "current: 2018-09-23 00:00:00 current-last_order: 7.571428571428571 t_purch: 0.0\n",
      "pred: 0.2509079394678799 , tmean_u: 5.100639366580533 , k: 1 \n",
      "\n",
      "current: 2018-09-24 00:00:00 current-last_order: 7.714285714285714 t_purch: 0.0\n",
      "pred: 0.24198115671603582 , tmean_u: 5.100639366580533 , k: 1 \n",
      "\n",
      "current: 2018-09-25 00:00:00 current-last_order: 7.857142857142857 t_purch: 0.0\n",
      "pred: 0.23366353042222876 , tmean_u: 5.100639366580533 , k: 1 \n",
      "\n",
      "current: 2018-09-26 00:00:00 current-last_order: 8.0 t_purch: 0.0\n",
      "pred: 0.22589521409544644 , tmean_u: 5.100639366580533 , k: 1 \n",
      "\n",
      "current: 2018-09-27 00:00:00 current-last_order: 8.142857142857142 t_purch: 0.0\n",
      "pred: 0.21862389022967643 , tmean_u: 5.100639366580533 , k: 1 \n",
      "\n"
     ]
    },
    {
     "name": "stdout",
     "output_type": "stream",
     "text": [
      "current: 2018-09-28 00:00:00 current-last_order: 8.285714285714286 t_purch: 0.0\n",
      "pred: 0.21180363281332593 , tmean_u: 5.100639366580533 , k: 1 \n",
      "\n",
      "current: 2018-09-29 00:00:00 current-last_order: 8.428571428571429 t_purch: 0.0\n",
      "pred: 0.20539396797631326 , tmean_u: 5.100639366580533 , k: 1 \n",
      "\n"
     ]
    }
   ],
   "source": [
    "# user[10] 에 대해서만 해볼게.\n",
    "d={}\n",
    "\n",
    "j=10\n",
    "\n",
    "d[j] = []\n",
    "for i in range(len(current_l)):     ## 8월 한달간에 대해서!\n",
    "        lamb, t_, t_purch, tmean_u, k = func_lamb(train = diaper_train, test = diaper_test, test_id=test_id_[j], \n",
    "                  alpha = alpha_ , beta=1/scale_ , tmean = tt_drop0.mean().item()/7 , current=current_l[i])\n",
    "        \n",
    "        if i == 0:\n",
    "            print('user:[{}]'.format(j),'last order:', diaper_train.biz_dt[diaper_train.m_id == test_id_[j]][-1:], '\\n')\n",
    "        print('current:',current_l[i], 'current-last_order:', t_ , 't_purch:', t_purch)  \n",
    "        print('pred:',(1-stats.poisson.pmf(mu = lamb, k=0)),', tmean_u:',tmean_u,', k:',k ,'\\n')\n",
    "        d[j].append( (1-stats.poisson.pmf(mu = lamb, k=0)) )"
   ]
  },
  {
   "cell_type": "markdown",
   "metadata": {},
   "source": [
    "---"
   ]
  },
  {
   "cell_type": "code",
   "execution_count": 104,
   "metadata": {
    "scrolled": true
   },
   "outputs": [
    {
     "data": {
      "image/png": "[encoded data removed]",
      "text/plain": [
       "<Figure size 432x288 with 1 Axes>"
      ]
     },
     "metadata": {
      "needs_background": "light"
     },
     "output_type": "display_data"
    }
   ],
   "source": [
    "# user[10] : last-order가 7월 31일이다. \n",
    "\n",
    "sns.lineplot(data = pd.DataFrame(d[10]), color = 'red')\n",
    "#plt.legend()\n",
    "#plt.xlim(0,30)\n",
    "#plt.ylim(0.15,0.4)\n",
    "\n",
    "plt.show()\n",
    "plt.close()"
   ]
  },
  {
   "cell_type": "code",
   "execution_count": 93,
   "metadata": {},
   "outputs": [
    {
     "data": {
      "image/png": "[encoded data removed]",
      "text/plain": [
       "<Figure size 432x288 with 1 Axes>"
      ]
     },
     "metadata": {
      "needs_background": "light"
     },
     "output_type": "display_data"
    }
   ],
   "source": [
    "sns.lineplot(data = pd.DataFrame(d[9]), color = 'coral')\n",
    "#plt.legend()\n",
    "#plt.xlim(0,30)\n",
    "#plt.ylim(0.15,0.4)\n",
    "\n",
    "plt.show()\n",
    "plt.close()"
   ]
  },
  {
   "cell_type": "code",
   "execution_count": 88,
   "metadata": {},
   "outputs": [
    {
     "data": {
      "image/png": "[encoded data removed]",
      "text/plain": [
       "<Figure size 432x288 with 1 Axes>"
      ]
     },
     "metadata": {
      "needs_background": "light"
     },
     "output_type": "display_data"
    }
   ],
   "source": [
    "sns.lineplot(data = pd.DataFrame(d[4]), color = 'coral')\n",
    "#plt.legend()\n",
    "#plt.xlim(0,30)\n",
    "#plt.ylim(0.15,0.4)\n",
    "\n",
    "plt.show()\n",
    "plt.close()"
   ]
  },
  {
   "cell_type": "code",
   "execution_count": 85,
   "metadata": {},
   "outputs": [
    {
     "data": {
      "image/png": "[encoded data removed]",
      "text/plain": [
       "<Figure size 432x288 with 1 Axes>"
      ]
     },
     "metadata": {
      "needs_background": "light"
     },
     "output_type": "display_data"
    }
   ],
   "source": [
    "sns.lineplot(data = pd.DataFrame(d[2]), color = 'coral')\n",
    "#plt.legend()\n",
    "#plt.xlim(0,30)\n",
    "#plt.ylim(0.15,0.4)\n",
    "\n",
    "plt.show()\n",
    "plt.close()"
   ]
  },
  {
   "cell_type": "code",
   "execution_count": 84,
   "metadata": {},
   "outputs": [
    {
     "data": {
      "image/png": "[encoded data removed]",
      "text/plain": [
       "<Figure size 432x288 with 1 Axes>"
      ]
     },
     "metadata": {
      "needs_background": "light"
     },
     "output_type": "display_data"
    }
   ],
   "source": [
    "sns.lineplot(data = pd.DataFrame(d[1]), color = 'coral')\n",
    "#plt.legend()\n",
    "#plt.xlim(0,30)\n",
    "#plt.ylim(0.15,0.4)\n",
    "\n",
    "plt.show()\n",
    "plt.close()"
   ]
  },
  {
   "cell_type": "markdown",
   "metadata": {},
   "source": [
    "---\n",
    "---"
   ]
  },
  {
   "cell_type": "markdown",
   "metadata": {},
   "source": [
    "# 알고리즘 수정사항"
   ]
  },
  {
   "cell_type": "markdown",
   "metadata": {},
   "source": [
    "## # 1. time 단위 설정 : '일주일' & 고객의 구매 history 기간 설정('8개월')"
   ]
  },
  {
   "cell_type": "markdown",
   "metadata": {},
   "source": [
    "아래 식 (7)을 통해 살펴보면 $\\alpha$=1, $\\beta$=1, $k$=5 이라 가정할때, 단위 시간으로 추정된 $\\lambda$는 상이한 것을 알 수 있다.\n",
    "- (1) $t=70$ 인 경우 : $\\lambda = 0.084$\n",
    "- (2) time 단위를 '주'로 설정하여 $t=10$으로 계산 : $\\lambda = 0.54$\n",
    "\n"
   ]
  },
  {
   "cell_type": "markdown",
   "metadata": {},
   "source": [
    "<img src=\"equation_7.png\" alt=\"Drawing\" style=\"width: 500px;\"/>\n",
    "---"
   ]
  },
  {
   "cell_type": "markdown",
   "metadata": {},
   "source": [
    "\n",
    "- 때문에, $\\lambda$를 추정하는데 있어서 적절한 unit-time 이 사용되어야 한다.\n",
    "\n",
    "\n",
    "- 또한 고객의 구매 history를 살피는 기간을 설정하지 않은경우 $t$ 값이 폭발적으로 커질 수 있기 때문에, <br/>구매 history를 살피는 기간을 설정하여 $t$ 값이 커지는 상한선을 설정할 수 있다."
   ]
  },
  {
   "cell_type": "markdown",
   "metadata": {},
   "source": [
    "---"
   ]
  },
  {
   "cell_type": "markdown",
   "metadata": {},
   "source": [
    "## # 2. Scaling 을 통한 노출 기간 설정"
   ]
  },
  {
   "cell_type": "markdown",
   "metadata": {},
   "source": [
    "### 2.1 Scaling 의 필요성"
   ]
  },
  {
   "cell_type": "markdown",
   "metadata": {},
   "source": [
    "- 반복 구매 추천은 상시 적용되어선 안되고, 구매 시점이 도래했을때 노출되는 것이 효과적이라 판단\n",
    "> -  **Scaling의 필요성** : 고객의 카테고리별 구매성향에 의해서 $\\lambda$는 다르게 추정되고, 이는 추정되는 구매확률 범위의 다름을 야기\n",
    "<br>eg.  $A_1$ 카테고리의 확률값은 아무리 높아도 0.5인 반면, $A_2$ 카테고리는 0.9 밑으로 값이 떨어지지 않는 경우가 존재\n",
    "\n",
    "\n",
    "- **제한사항** : $t$가 증가할수록 $\\lambda$ 값이 지속적으로 감소하는 문제로 **'평균적인 구매주기의 2배'** 이상의 시간이 경과하였을 경우 $t = 2*t_{mean}$으로 대체하고,<br/> 이를 통해 $\\lambda_{min}$ 값과 $\\lambda_{max}$ 값을 통해 확률값의 Scaling을 진행"
   ]
  },
  {
   "cell_type": "markdown",
   "metadata": {},
   "source": [
    "<img src=\"equation_9.png\" alt=\"Drawing\" style=\"width: 500px;\"/>"
   ]
  },
  {
   "cell_type": "markdown",
   "metadata": {},
   "source": [
    "<img src=\"lambda_time.png\" alt=\"Drawing\" style=\"width: 500px;\"/>"
   ]
  },
  {
   "cell_type": "markdown",
   "metadata": {},
   "source": [
    "---"
   ]
  },
  {
   "cell_type": "markdown",
   "metadata": {},
   "source": [
    "### 2.2 Scaling 을 통한 노출 기간 설정"
   ]
  },
  {
   "cell_type": "markdown",
   "metadata": {},
   "source": [
    "- scaling 점수(0~1)를 통해 반복 구매 추천의 **'노출 기간'**을 설정\n",
    "- **scaling 기준 점수 0.5** : 추천 시점으로부터 +/- 3days를 통해, 80%의 고객 노출 형성\n",
    "- 일주일의 노출기간으로 약 22%의 반복 구매 고객을 잡을 수 있을것이라 예측됨"
   ]
  },
  {
   "cell_type": "markdown",
   "metadata": {},
   "source": [
    "### peak - 3days"
   ]
  },
  {
   "cell_type": "code",
   "execution_count": 166,
   "metadata": {},
   "outputs": [
    {
     "data": {
      "text/plain": [
       "array([[<matplotlib.axes._subplots.AxesSubplot object at 0x1a1e3032b0>]],\n",
       "      dtype=object)"
      ]
     },
     "execution_count": 166,
     "metadata": {},
     "output_type": "execute_result"
    },
    {
     "data": {
      "image/png": "[encoded data removed]",
      "text/plain": [
       "<Figure size 432x288 with 1 Axes>"
      ]
     },
     "metadata": {
      "needs_background": "light"
     },
     "output_type": "display_data"
    }
   ],
   "source": [
    "peak_s['peak-3'].hist(bins=10)"
   ]
  },
  {
   "cell_type": "code",
   "execution_count": 178,
   "metadata": {
    "scrolled": true
   },
   "outputs": [
    {
     "data": {
      "text/html": [
       "<div>\n",
       "<style scoped>\n",
       "    .dataframe tbody tr th:only-of-type {\n",
       "        vertical-align: middle;\n",
       "    }\n",
       "\n",
       "    .dataframe tbody tr th {\n",
       "        vertical-align: top;\n",
       "    }\n",
       "\n",
       "    .dataframe thead tr th {\n",
       "        text-align: left;\n",
       "    }\n",
       "</style>\n",
       "<table border=\"1\" class=\"dataframe\">\n",
       "  <thead>\n",
       "    <tr>\n",
       "      <th></th>\n",
       "      <th>peak-3</th>\n",
       "    </tr>\n",
       "  </thead>\n",
       "  <tbody>\n",
       "    <tr>\n",
       "      <th>count</th>\n",
       "      <td>192.000000</td>\n",
       "    </tr>\n",
       "    <tr>\n",
       "      <th>mean</th>\n",
       "      <td>0.554771</td>\n",
       "    </tr>\n",
       "    <tr>\n",
       "      <th>std</th>\n",
       "      <td>0.048032</td>\n",
       "    </tr>\n",
       "    <tr>\n",
       "      <th>min</th>\n",
       "      <td>0.378207</td>\n",
       "    </tr>\n",
       "    <tr>\n",
       "      <th>25%</th>\n",
       "      <td>0.529565</td>\n",
       "    </tr>\n",
       "    <tr>\n",
       "      <th>50%</th>\n",
       "      <td>0.569674</td>\n",
       "    </tr>\n",
       "    <tr>\n",
       "      <th>75%</th>\n",
       "      <td>0.594193</td>\n",
       "    </tr>\n",
       "    <tr>\n",
       "      <th>max</th>\n",
       "      <td>0.620396</td>\n",
       "    </tr>\n",
       "  </tbody>\n",
       "</table>\n",
       "</div>"
      ],
      "text/plain": [
       "           peak-3\n",
       "count  192.000000\n",
       "mean     0.554771\n",
       "std      0.048032\n",
       "min      0.378207\n",
       "25%      0.529565\n",
       "50%      0.569674\n",
       "75%      0.594193\n",
       "max      0.620396"
      ]
     },
     "execution_count": 178,
     "metadata": {},
     "output_type": "execute_result"
    }
   ],
   "source": [
    "peak_s['peak-3'].describe()"
   ]
  },
  {
   "cell_type": "code",
   "execution_count": 197,
   "metadata": {},
   "outputs": [
    {
     "data": {
      "text/plain": [
       "169"
      ]
     },
     "execution_count": 197,
     "metadata": {},
     "output_type": "execute_result"
    }
   ],
   "source": [
    "(peak_s['peak-3'].values>0.5).sum()  # 192-169 = 23개는 0.5 미만"
   ]
  },
  {
   "cell_type": "code",
   "execution_count": 16,
   "metadata": {},
   "outputs": [
    {
     "data": {
      "text/plain": [
       "11.979166666666668"
      ]
     },
     "execution_count": 16,
     "metadata": {},
     "output_type": "execute_result"
    }
   ],
   "source": [
    "23/192*100"
   ]
  },
  {
   "cell_type": "markdown",
   "metadata": {},
   "source": [
    "---"
   ]
  },
  {
   "cell_type": "markdown",
   "metadata": {},
   "source": [
    "### peak + 3days"
   ]
  },
  {
   "cell_type": "code",
   "execution_count": 167,
   "metadata": {},
   "outputs": [
    {
     "data": {
      "text/plain": [
       "array([[<matplotlib.axes._subplots.AxesSubplot object at 0x1a1e3dff60>]],\n",
       "      dtype=object)"
      ]
     },
     "execution_count": 167,
     "metadata": {},
     "output_type": "execute_result"
    },
    {
     "data": {
      "image/png": "[encoded data removed]",
      "text/plain": [
       "<Figure size 432x288 with 1 Axes>"
      ]
     },
     "metadata": {
      "needs_background": "light"
     },
     "output_type": "display_data"
    }
   ],
   "source": [
    "peak_s['peak+3'].hist(bins=10)"
   ]
  },
  {
   "cell_type": "code",
   "execution_count": 168,
   "metadata": {},
   "outputs": [
    {
     "data": {
      "text/html": [
       "<div>\n",
       "<style scoped>\n",
       "    .dataframe tbody tr th:only-of-type {\n",
       "        vertical-align: middle;\n",
       "    }\n",
       "\n",
       "    .dataframe tbody tr th {\n",
       "        vertical-align: top;\n",
       "    }\n",
       "\n",
       "    .dataframe thead tr th {\n",
       "        text-align: left;\n",
       "    }\n",
       "</style>\n",
       "<table border=\"1\" class=\"dataframe\">\n",
       "  <thead>\n",
       "    <tr>\n",
       "      <th></th>\n",
       "      <th>peak+3</th>\n",
       "    </tr>\n",
       "  </thead>\n",
       "  <tbody>\n",
       "    <tr>\n",
       "      <th>count</th>\n",
       "      <td>192.000000</td>\n",
       "    </tr>\n",
       "    <tr>\n",
       "      <th>mean</th>\n",
       "      <td>0.542701</td>\n",
       "    </tr>\n",
       "    <tr>\n",
       "      <th>std</th>\n",
       "      <td>0.039826</td>\n",
       "    </tr>\n",
       "    <tr>\n",
       "      <th>min</th>\n",
       "      <td>0.391595</td>\n",
       "    </tr>\n",
       "    <tr>\n",
       "      <th>25%</th>\n",
       "      <td>0.534017</td>\n",
       "    </tr>\n",
       "    <tr>\n",
       "      <th>50%</th>\n",
       "      <td>0.538517</td>\n",
       "    </tr>\n",
       "    <tr>\n",
       "      <th>75%</th>\n",
       "      <td>0.570587</td>\n",
       "    </tr>\n",
       "    <tr>\n",
       "      <th>max</th>\n",
       "      <td>0.630358</td>\n",
       "    </tr>\n",
       "  </tbody>\n",
       "</table>\n",
       "</div>"
      ],
      "text/plain": [
       "           peak+3\n",
       "count  192.000000\n",
       "mean     0.542701\n",
       "std      0.039826\n",
       "min      0.391595\n",
       "25%      0.534017\n",
       "50%      0.538517\n",
       "75%      0.570587\n",
       "max      0.630358"
      ]
     },
     "execution_count": 168,
     "metadata": {},
     "output_type": "execute_result"
    }
   ],
   "source": [
    "peak_s['peak+3'].describe()"
   ]
  },
  {
   "cell_type": "code",
   "execution_count": 198,
   "metadata": {},
   "outputs": [
    {
     "data": {
      "text/plain": [
       "171"
      ]
     },
     "execution_count": 198,
     "metadata": {},
     "output_type": "execute_result"
    }
   ],
   "source": [
    "(peak_s['peak+3'].values>0.5).sum() ## 192-171 = 21개는 0.5를 못넘는다"
   ]
  },
  {
   "cell_type": "code",
   "execution_count": 15,
   "metadata": {},
   "outputs": [
    {
     "data": {
      "text/plain": [
       "10.9375"
      ]
     },
     "execution_count": 15,
     "metadata": {},
     "output_type": "execute_result"
    }
   ],
   "source": [
    "21/192*100"
   ]
  },
  {
   "cell_type": "code",
   "execution_count": 1,
   "metadata": {},
   "outputs": [
    {
     "data": {
      "text/html": [
       "<style>.container { width:80% !important; }</style>"
      ],
      "text/plain": [
       "<IPython.core.display.HTML object>"
      ]
     },
     "metadata": {},
     "output_type": "display_data"
    }
   ],
   "source": [
    "from IPython.core.display import display, HTML\n",
    "display(HTML(\"<style>.container { width:80% !important; }</style>\"))"
   ]
  },
  {
   "cell_type": "code",
   "execution_count": 2,
   "metadata": {},
   "outputs": [
    {
     "data": {
      "text/html": [
       "<style>.rendered_html { font-size: 18px; }</style>"
      ],
      "text/plain": [
       "<IPython.core.display.HTML object>"
      ]
     },
     "metadata": {},
     "output_type": "display_data"
    }
   ],
   "source": [
    "from IPython.core.display import display, HTML\n",
    "display(HTML(\"<style>.rendered_html { font-size: 18px; }</style>\"))"
   ]
  },
  {
   "cell_type": "code",
   "execution_count": null,
   "metadata": {},
   "outputs": [],
   "source": []
  }
 ],
 "metadata": {
  "kernelspec": {
   "display_name": "Python 3",
   "language": "python",
   "name": "python3"
  },
  "language_info": {
   "codemirror_mode": {
    "name": "ipython",
    "version": 3
   },
   "file_extension": ".py",
   "mimetype": "text/x-python",
   "name": "python",
   "nbconvert_exporter": "python",
   "pygments_lexer": "ipython3",
   "version": "3.6.5"
  }
 },
 "nbformat": 4,
 "nbformat_minor": 2
}
