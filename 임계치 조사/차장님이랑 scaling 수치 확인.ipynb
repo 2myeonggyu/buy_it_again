{
 "cells": [
  {
   "cell_type": "code",
   "execution_count": 1,
   "metadata": {},
   "outputs": [],
   "source": [
    "import pandas as pd\n",
    "import numpy as np\n",
    "import matplotlib.pyplot as plt\n",
    "import random\n",
    "import scipy.stats as stats\n",
    "import seaborn as sns"
   ]
  },
  {
   "cell_type": "code",
   "execution_count": 2,
   "metadata": {},
   "outputs": [
    {
     "name": "stdout",
     "output_type": "stream",
     "text": [
      "/Users/we/Downloads/업무/buy it again_분석 /임계치 조사\n"
     ]
    }
   ],
   "source": [
    "import os\n",
    "\n",
    "print(os.getcwd())"
   ]
  },
  {
   "cell_type": "markdown",
   "metadata": {},
   "source": [
    "---"
   ]
  },
  {
   "cell_type": "markdown",
   "metadata": {},
   "source": [
    "case (1)"
   ]
  },
  {
   "cell_type": "code",
   "execution_count": 18,
   "metadata": {},
   "outputs": [],
   "source": [
    "k, t_purch, tmean_u, t_ ,alpha, beta = 1, 0, 0.782081129, 0.857142857, 1.499265145, 0.577626221"
   ]
  },
  {
   "cell_type": "code",
   "execution_count": 15,
   "metadata": {},
   "outputs": [],
   "source": [
    "# 함수로 출력되는게 많게했어! & unit time을 1주일로 변경.\n",
    "\n",
    "def func_lamb(t_purch, tmean_u, t_ , alpha, beta, k):\n",
    "\n",
    "    if t_purch == 0:  # t_purch가 0이라는 소리는, k=1이라는 소리겠지! 그러니깐 앞의 값이 0이 되게끔 한거야.\n",
    "        lamb = (alpha/(2*abs(tmean_u-t_)+beta))\n",
    "        lamb_0 = (alpha/(2*abs(tmean_u)+beta))   # 최저값 : t=0\n",
    "        lamb_1 = (alpha/+beta)     # 최고값 : |tmean-t|=0\n",
    "    else:\n",
    "        lamb = (k/t_purch+(alpha/(2*abs(tmean_u-t_)+beta)))\n",
    "        lamb_0 = (k/t_purch+(alpha/(2*abs(tmean_u)+beta)))   # 최저값 : t=0  \n",
    "        lamb_1 = (k/t_purch+(alpha/+beta))     #최고값 : |tmean-t|=0\n",
    "    return lamb,lamb_0, lamb_1, t_, t_purch, tmean_u, k"
   ]
  },
  {
   "cell_type": "code",
   "execution_count": 21,
   "metadata": {},
   "outputs": [
    {
     "name": "stdout",
     "output_type": "stream",
     "text": [
      "pred : 0.8725636842432201 , max : 0.9253961245444754 , min : 0.5034177589399119\n",
      "scaling : 0.8747982251991452\n"
     ]
    }
   ],
   "source": [
    "lamb, lamb_0, lamb_1, t_, t_purch, tmean_u, k = func_lamb(t_purch, tmean_u, t_ , alpha, beta, k)\n",
    "        \n",
    "if lamb < lamb_0: # 일자별, 이런 경우가 있을수도 있어 - 마지막 구매부터 너무 너무 멀어지면!\n",
    "    lamb_0 = lamb\n",
    "pred = (1-stats.poisson.pmf(mu = lamb, k=0))\n",
    "max =  (1-stats.poisson.pmf(mu = lamb_1, k=0))  # max\n",
    "min =  (1-stats.poisson.pmf(mu = lamb_0, k=0))  # min\n",
    "scal = (pred - min)/(max - min)\n",
    "\n",
    "print('pred : {}'.format(pred), ', max : {}'.format(max), ', min : {}'.format(min))\n",
    "print('scaling : {}'.format(scal))"
   ]
  },
  {
   "cell_type": "markdown",
   "metadata": {},
   "source": [
    "---"
   ]
  },
  {
   "cell_type": "markdown",
   "metadata": {},
   "source": [
    "case (2)"
   ]
  },
  {
   "cell_type": "code",
   "execution_count": 3,
   "metadata": {},
   "outputs": [],
   "source": [
    "k, t_purch, tmean_u, t_ ,alpha, beta = 3, 1.714285714, 0.857142857, 0.571428571, 1.328590683, 0.51017659"
   ]
  },
  {
   "cell_type": "code",
   "execution_count": 23,
   "metadata": {},
   "outputs": [],
   "source": [
    "# 함수로 출력되는게 많게했어! & unit time을 1주일로 변경.\n",
    "\n",
    "def func_lamb(t_purch, tmean_u, t_ , alpha, beta, k):\n",
    "\n",
    "    if t_purch == 0:  # t_purch가 0이라는 소리는, k=1이라는 소리겠지! 그러니깐 앞의 값이 0이 되게끔 한거야.\n",
    "        lamb = (alpha/(2*abs(tmean_u-t_)+beta))\n",
    "        lamb_0 = (alpha/(2*abs(tmean_u)+beta))   # 최저값 : t=0\n",
    "        lamb_1 = (alpha/+beta)     # 최고값 : |tmean-t|=0\n",
    "    else:\n",
    "        lamb = (k/t_purch+(alpha/(2*abs(tmean_u-t_)+beta)))\n",
    "        lamb_0 = (k/t_purch+(alpha/(2*abs(tmean_u)+beta)))   # 최저값 : t=0  \n",
    "        lamb_1 = (k/t_purch+(alpha/+beta))     #최고값 : |tmean-t|=0\n",
    "    return lamb,lamb_0, lamb_1, t_, t_purch, tmean_u, k"
   ]
  },
  {
   "cell_type": "code",
   "execution_count": 25,
   "metadata": {},
   "outputs": [
    {
     "data": {
      "text/plain": [
       "(2.9783509084394217, 2.3472637438088957, 4.354178061460644)"
      ]
     },
     "execution_count": 25,
     "metadata": {},
     "output_type": "execute_result"
    }
   ],
   "source": [
    "lamb, lamb_0, lamb_1"
   ]
  },
  {
   "cell_type": "code",
   "execution_count": 24,
   "metadata": {
    "scrolled": false
   },
   "outputs": [
    {
     "name": "stdout",
     "output_type": "stream",
     "text": [
      "pred : 0.9491233349978248 , max : 0.9871470003805324 , min : 0.9043695259789137\n",
      "scaling : 0.5406520233001443\n"
     ]
    }
   ],
   "source": [
    "lamb, lamb_0, lamb_1, t_, t_purch, tmean_u, k = func_lamb(t_purch, tmean_u, t_ , alpha, beta, k)\n",
    "        \n",
    "if lamb < lamb_0: # 일자별, 이런 경우가 있을수도 있어 - 마지막 구매부터 너무 너무 멀어지면!\n",
    "    lamb_0 = lamb\n",
    "pred = (1-stats.poisson.pmf(mu = lamb, k=0))\n",
    "max =  (1-stats.poisson.pmf(mu = lamb_1, k=0))  # max\n",
    "min =  (1-stats.poisson.pmf(mu = lamb_0, k=0))  # min\n",
    "scal = (pred - min)/(max - min)\n",
    "\n",
    "print('pred : {}'.format(pred), ', max : {}'.format(max), ', min : {}'.format(min))\n",
    "print('scaling : {}'.format(scal))"
   ]
  },
  {
   "cell_type": "markdown",
   "metadata": {},
   "source": [
    "---"
   ]
  },
  {
   "cell_type": "markdown",
   "metadata": {},
   "source": [
    "case (3)  : 구매주기 완전히 지난경우!"
   ]
  },
  {
   "cell_type": "code",
   "execution_count": 26,
   "metadata": {},
   "outputs": [],
   "source": [
    "k, t_purch, tmean_u, t_ ,alpha, beta = 1, 0, 0.725274725, 3, 1.707192798, 0.670611239"
   ]
  },
  {
   "cell_type": "code",
   "execution_count": 27,
   "metadata": {},
   "outputs": [],
   "source": [
    "# 함수로 출력되는게 많게했어! & unit time을 1주일로 변경.\n",
    "\n",
    "def func_lamb(t_purch, tmean_u, t_ , alpha, beta, k):\n",
    "\n",
    "    if t_purch == 0:  # t_purch가 0이라는 소리는, k=1이라는 소리겠지! 그러니깐 앞의 값이 0이 되게끔 한거야.\n",
    "        lamb = (alpha/(2*abs(tmean_u-t_)+beta))\n",
    "        lamb_0 = (alpha/(2*abs(tmean_u)+beta))   # 최저값 : t=0\n",
    "        lamb_1 = (alpha/+beta)     # 최고값 : |tmean-t|=0\n",
    "    else:\n",
    "        lamb = (k/t_purch+(alpha/(2*abs(tmean_u-t_)+beta)))\n",
    "        lamb_0 = (k/t_purch+(alpha/(2*abs(tmean_u)+beta)))   # 최저값 : t=0  \n",
    "        lamb_1 = (k/t_purch+(alpha/+beta))     #최고값 : |tmean-t|=0\n",
    "    return lamb,lamb_0, lamb_1, t_, t_purch, tmean_u, k"
   ]
  },
  {
   "cell_type": "code",
   "execution_count": 35,
   "metadata": {},
   "outputs": [
    {
     "name": "stdout",
     "output_type": "stream",
     "text": [
      "0.3270445575179761 0.8048389765345119 2.5457264935579165\n"
     ]
    }
   ],
   "source": [
    "lamb, lamb_0, lamb_1, t_, t_purch, tmean_u, k = func_lamb(t_purch, tmean_u, t_ , alpha, beta, k)\n",
    "\n",
    "print(lamb, lamb_0, lamb_1)"
   ]
  },
  {
   "cell_type": "code",
   "execution_count": 36,
   "metadata": {
    "scrolled": false
   },
   "outputs": [
    {
     "name": "stdout",
     "output_type": "stream",
     "text": [
      "pred : 0.5528400759968477 , max : 0.9215839374822679 , min : 0.5528400759968477\n",
      "scaling : 0.0\n"
     ]
    }
   ],
   "source": [
    "\n",
    "if lamb < lamb_0: # 일자별, 이런 경우가 있을수도 있어 - 마지막 구매부터 너무 너무 멀어지면!\n",
    "    lamb = lamb_0\n",
    "pred = (1-stats.poisson.pmf(mu = lamb, k=0))\n",
    "max =  (1-stats.poisson.pmf(mu = lamb_1, k=0))  # max\n",
    "min =  (1-stats.poisson.pmf(mu = lamb_0, k=0))  # min\n",
    "scal = (pred - min)/(max - min)\n",
    "\n",
    "print('pred : {}'.format(pred), ', max : {}'.format(max), ', min : {}'.format(min))\n",
    "print('scaling : {}'.format(scal))"
   ]
  },
  {
   "cell_type": "markdown",
   "metadata": {},
   "source": [
    "---"
   ]
  },
  {
   "cell_type": "code",
   "execution_count": null,
   "metadata": {},
   "outputs": [],
   "source": []
  },
  {
   "cell_type": "code",
   "execution_count": 65,
   "metadata": {},
   "outputs": [],
   "source": [
    "k, t_purch, tmean_u, t_ ,alpha, beta =1, 0, 0.548324087, 0.14*6, 1.745286196, 0.47003985"
   ]
  },
  {
   "cell_type": "code",
   "execution_count": 66,
   "metadata": {},
   "outputs": [],
   "source": [
    "# 함수로 출력되는게 많게했어! & unit time을 1주일로 변경.\n",
    "\n",
    "def func_lamb(t_purch, tmean_u, t_ , alpha, beta, k):\n",
    "\n",
    "    if t_purch == 0:  # t_purch가 0이라는 소리는, k=1이라는 소리겠지! 그러니깐 앞의 값이 0이 되게끔 한거야.\n",
    "        lamb = (alpha/(2*abs(tmean_u-t_)+beta))\n",
    "        lamb_0 = (alpha/(2*abs(tmean_u)+beta))   # 최저값 : t=0\n",
    "        lamb_1 = (alpha/+beta)     # 최고값 : |tmean-t|=0\n",
    "    else:\n",
    "        lamb = (k/t_purch+(alpha/(2*abs(tmean_u-t_)+beta)))\n",
    "        lamb_0 = (k/t_purch+(alpha/(2*abs(tmean_u)+beta)))   # 최저값 : t=0  \n",
    "        lamb_1 = (k/t_purch+(alpha/+beta))     #최고값 : |tmean-t|=0\n",
    "    return lamb,lamb_0, lamb_1, t_, t_purch, tmean_u, k"
   ]
  },
  {
   "cell_type": "code",
   "execution_count": 67,
   "metadata": {},
   "outputs": [
    {
     "name": "stdout",
     "output_type": "stream",
     "text": [
      "1.6568255054257706 1.1139972791417725 3.7130600650136367\n"
     ]
    }
   ],
   "source": [
    "lamb, lamb_0, lamb_1, t_, t_purch, tmean_u, k = func_lamb(t_purch, tmean_u, t_ , alpha, beta, k)\n",
    "\n",
    "print(lamb, lamb_0, lamb_1)"
   ]
  },
  {
   "cell_type": "code",
   "execution_count": 68,
   "metadata": {
    "scrolled": false
   },
   "outputs": [
    {
     "name": "stdout",
     "output_type": "stream",
     "text": [
      "pred : 0.8092564656684313 , max : 0.9755972650540022 , min : 0.6717557487043494\n",
      "scaling : 0.4525409121703097\n"
     ]
    }
   ],
   "source": [
    "       \n",
    "if lamb < lamb_0: # 일자별, 이런 경우가 있을수도 있어 - 마지막 구매부터 너무 너무 멀어지면!\n",
    "    lamb_0 = lamb\n",
    "pred = (1-stats.poisson.pmf(mu = lamb, k=0))\n",
    "max =  (1-stats.poisson.pmf(mu = lamb_1, k=0))  # max\n",
    "min =  (1-stats.poisson.pmf(mu = lamb_0, k=0))  # min\n",
    "scal = (pred - min)/(max - min)\n",
    "\n",
    "print('pred : {}'.format(pred), ', max : {}'.format(max), ', min : {}'.format(min))\n",
    "print('scaling : {}'.format(scal))"
   ]
  },
  {
   "cell_type": "markdown",
   "metadata": {},
   "source": [
    "---"
   ]
  },
  {
   "cell_type": "code",
   "execution_count": 69,
   "metadata": {},
   "outputs": [
    {
     "data": {
      "text/plain": [
       "0.43000000000000005"
      ]
     },
     "execution_count": 69,
     "metadata": {},
     "output_type": "execute_result"
    }
   ],
   "source": [
    "0.68-0.25"
   ]
  },
  {
   "cell_type": "code",
   "execution_count": 70,
   "metadata": {},
   "outputs": [
    {
     "data": {
      "text/plain": [
       "0.129"
      ]
     },
     "execution_count": 70,
     "metadata": {},
     "output_type": "execute_result"
    }
   ],
   "source": [
    "0.43*0.3"
   ]
  },
  {
   "cell_type": "code",
   "execution_count": 71,
   "metadata": {},
   "outputs": [
    {
     "data": {
      "text/plain": [
       "55.199999999999996"
      ]
     },
     "execution_count": 71,
     "metadata": {},
     "output_type": "execute_result"
    }
   ],
   "source": [
    "184*0.3"
   ]
  },
  {
   "cell_type": "code",
   "execution_count": null,
   "metadata": {},
   "outputs": [],
   "source": []
  },
  {
   "cell_type": "code",
   "execution_count": null,
   "metadata": {},
   "outputs": [],
   "source": []
  },
  {
   "cell_type": "code",
   "execution_count": null,
   "metadata": {},
   "outputs": [],
   "source": []
  }
 ],
 "metadata": {
  "kernelspec": {
   "display_name": "Python [default]",
   "language": "python",
   "name": "python3"
  },
  "language_info": {
   "codemirror_mode": {
    "name": "ipython",
    "version": 3
   },
   "file_extension": ".py",
   "mimetype": "text/x-python",
   "name": "python",
   "nbconvert_exporter": "python",
   "pygments_lexer": "ipython3",
   "version": "3.6.6"
  }
 },
 "nbformat": 4,
 "nbformat_minor": 2
}
