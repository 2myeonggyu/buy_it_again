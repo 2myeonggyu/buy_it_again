{
 "cells": [
  {
   "cell_type": "code",
   "execution_count": 3,
   "metadata": {},
   "outputs": [],
   "source": [
    "import pandas as pd\n",
    "import numpy as np\n",
    "import matplotlib.pyplot as plt\n",
    "import random\n"
   ]
  },
  {
   "cell_type": "code",
   "execution_count": 35,
   "metadata": {},
   "outputs": [
    {
     "data": {
      "text/plain": [
       "'/Users/we/Downloads/업무/buy it again_분석 '"
      ]
     },
     "execution_count": 35,
     "metadata": {},
     "output_type": "execute_result"
    }
   ],
   "source": [
    "import os\n",
    "os.getcwd()"
   ]
  },
  {
   "cell_type": "code",
   "execution_count": null,
   "metadata": {},
   "outputs": [],
   "source": [
    "./chunk/"
   ]
  },
  {
   "cell_type": "code",
   "execution_count": 39,
   "metadata": {
    "scrolled": false
   },
   "outputs": [],
   "source": [
    "chunk = {}\n",
    "for i in range(13):\n",
    "    chunk[i] = pd.read_csv('./chunk/chunk{}.csv'.format(i))\n"
   ]
  },
  {
   "cell_type": "code",
   "execution_count": 41,
   "metadata": {},
   "outputs": [
    {
     "data": {
      "text/html": [
       "<div>\n",
       "<style scoped>\n",
       "    .dataframe tbody tr th:only-of-type {\n",
       "        vertical-align: middle;\n",
       "    }\n",
       "\n",
       "    .dataframe tbody tr th {\n",
       "        vertical-align: top;\n",
       "    }\n",
       "\n",
       "    .dataframe thead th {\n",
       "        text-align: right;\n",
       "    }\n",
       "</style>\n",
       "<table border=\"1\" class=\"dataframe\">\n",
       "  <thead>\n",
       "    <tr style=\"text-align: right;\">\n",
       "      <th></th>\n",
       "      <th>Unnamed: 0</th>\n",
       "      <th>biz_dt</th>\n",
       "      <th>m_id</th>\n",
       "      <th>order_price</th>\n",
       "      <th>prod_no</th>\n",
       "      <th>old_admin_category_id</th>\n",
       "      <th>serv_cd</th>\n",
       "    </tr>\n",
       "  </thead>\n",
       "  <tbody>\n",
       "    <tr>\n",
       "      <th>3321035</th>\n",
       "      <td>123321035</td>\n",
       "      <td>2018-09-28 17:00:21</td>\n",
       "      <td>18,342,102</td>\n",
       "      <td>3,170</td>\n",
       "      <td>100,913,544</td>\n",
       "      <td>237,040,103</td>\n",
       "      <td>2</td>\n",
       "    </tr>\n",
       "    <tr>\n",
       "      <th>3321036</th>\n",
       "      <td>123321036</td>\n",
       "      <td>2018-09-28 17:00:21</td>\n",
       "      <td>18,342,102</td>\n",
       "      <td>3,800</td>\n",
       "      <td>100,913,555</td>\n",
       "      <td>237,040,103</td>\n",
       "      <td>2</td>\n",
       "    </tr>\n",
       "    <tr>\n",
       "      <th>3321037</th>\n",
       "      <td>123321037</td>\n",
       "      <td>2018-09-28 17:00:22</td>\n",
       "      <td>24,137,068</td>\n",
       "      <td>1,699,000</td>\n",
       "      <td>101,984,766</td>\n",
       "      <td>233,040,120</td>\n",
       "      <td>2</td>\n",
       "    </tr>\n",
       "    <tr>\n",
       "      <th>3321038</th>\n",
       "      <td>123321038</td>\n",
       "      <td>2018-09-28 17:00:25</td>\n",
       "      <td>5,357,454</td>\n",
       "      <td>25,000</td>\n",
       "      <td>110,485,856</td>\n",
       "      <td>240,010,305</td>\n",
       "      <td>2</td>\n",
       "    </tr>\n",
       "    <tr>\n",
       "      <th>3321039</th>\n",
       "      <td>123321039</td>\n",
       "      <td>2018-09-28 17:00:27</td>\n",
       "      <td>21,865,461</td>\n",
       "      <td>55,900</td>\n",
       "      <td>100,371,485</td>\n",
       "      <td>233,080,119</td>\n",
       "      <td>2</td>\n",
       "    </tr>\n",
       "  </tbody>\n",
       "</table>\n",
       "</div>"
      ],
      "text/plain": [
       "         Unnamed: 0               biz_dt        m_id order_price      prod_no  \\\n",
       "3321035   123321035  2018-09-28 17:00:21  18,342,102       3,170  100,913,544   \n",
       "3321036   123321036  2018-09-28 17:00:21  18,342,102       3,800  100,913,555   \n",
       "3321037   123321037  2018-09-28 17:00:22  24,137,068   1,699,000  101,984,766   \n",
       "3321038   123321038  2018-09-28 17:00:25   5,357,454      25,000  110,485,856   \n",
       "3321039   123321039  2018-09-28 17:00:27  21,865,461      55,900  100,371,485   \n",
       "\n",
       "        old_admin_category_id  serv_cd  \n",
       "3321035           237,040,103        2  \n",
       "3321036           237,040,103        2  \n",
       "3321037           233,040,120        2  \n",
       "3321038           240,010,305        2  \n",
       "3321039           233,080,119        2  "
      ]
     },
     "execution_count": 41,
     "metadata": {},
     "output_type": "execute_result"
    }
   ],
   "source": [
    "chunk[12].tail()"
   ]
  },
  {
   "cell_type": "code",
   "execution_count": 42,
   "metadata": {},
   "outputs": [
    {
     "data": {
      "text/plain": [
       "45373"
      ]
     },
     "execution_count": 42,
     "metadata": {},
     "output_type": "execute_result"
    }
   ],
   "source": [
    "sum(chunk[12].old_admin_category_id == '240,040,102')"
   ]
  },
  {
   "cell_type": "code",
   "execution_count": 43,
   "metadata": {},
   "outputs": [
    {
     "data": {
      "text/html": [
       "<div>\n",
       "<style scoped>\n",
       "    .dataframe tbody tr th:only-of-type {\n",
       "        vertical-align: middle;\n",
       "    }\n",
       "\n",
       "    .dataframe tbody tr th {\n",
       "        vertical-align: top;\n",
       "    }\n",
       "\n",
       "    .dataframe thead th {\n",
       "        text-align: right;\n",
       "    }\n",
       "</style>\n",
       "<table border=\"1\" class=\"dataframe\">\n",
       "  <thead>\n",
       "    <tr style=\"text-align: right;\">\n",
       "      <th></th>\n",
       "      <th>Unnamed: 0</th>\n",
       "      <th>biz_dt</th>\n",
       "      <th>m_id</th>\n",
       "      <th>order_price</th>\n",
       "      <th>prod_no</th>\n",
       "      <th>old_admin_category_id</th>\n",
       "      <th>serv_cd</th>\n",
       "    </tr>\n",
       "  </thead>\n",
       "  <tbody>\n",
       "    <tr>\n",
       "      <th>3320947</th>\n",
       "      <td>123320947</td>\n",
       "      <td>2018-09-28 16:59:09</td>\n",
       "      <td>10,836,600</td>\n",
       "      <td>16,900</td>\n",
       "      <td>4,016,336</td>\n",
       "      <td>240,040,102</td>\n",
       "      <td>1</td>\n",
       "    </tr>\n",
       "    <tr>\n",
       "      <th>3320951</th>\n",
       "      <td>123320951</td>\n",
       "      <td>2018-09-28 16:59:09</td>\n",
       "      <td>5,992,663</td>\n",
       "      <td>12,500</td>\n",
       "      <td>3,216,354</td>\n",
       "      <td>240,040,102</td>\n",
       "      <td>1</td>\n",
       "    </tr>\n",
       "    <tr>\n",
       "      <th>3321009</th>\n",
       "      <td>123321009</td>\n",
       "      <td>2018-09-28 16:59:52</td>\n",
       "      <td>1,715,170</td>\n",
       "      <td>15,800</td>\n",
       "      <td>100,000,111</td>\n",
       "      <td>240,040,102</td>\n",
       "      <td>2</td>\n",
       "    </tr>\n",
       "    <tr>\n",
       "      <th>3321019</th>\n",
       "      <td>123321019</td>\n",
       "      <td>2018-09-28 17:00:07</td>\n",
       "      <td>14,752,165</td>\n",
       "      <td>18,900</td>\n",
       "      <td>100,000,109</td>\n",
       "      <td>240,040,102</td>\n",
       "      <td>2</td>\n",
       "    </tr>\n",
       "    <tr>\n",
       "      <th>3321020</th>\n",
       "      <td>123321020</td>\n",
       "      <td>2018-09-28 17:00:07</td>\n",
       "      <td>14,752,165</td>\n",
       "      <td>11,500</td>\n",
       "      <td>100,000,112</td>\n",
       "      <td>240,040,102</td>\n",
       "      <td>2</td>\n",
       "    </tr>\n",
       "  </tbody>\n",
       "</table>\n",
       "</div>"
      ],
      "text/plain": [
       "         Unnamed: 0               biz_dt        m_id order_price      prod_no  \\\n",
       "3320947   123320947  2018-09-28 16:59:09  10,836,600      16,900    4,016,336   \n",
       "3320951   123320951  2018-09-28 16:59:09   5,992,663      12,500    3,216,354   \n",
       "3321009   123321009  2018-09-28 16:59:52   1,715,170      15,800  100,000,111   \n",
       "3321019   123321019  2018-09-28 17:00:07  14,752,165      18,900  100,000,109   \n",
       "3321020   123321020  2018-09-28 17:00:07  14,752,165      11,500  100,000,112   \n",
       "\n",
       "        old_admin_category_id  serv_cd  \n",
       "3320947           240,040,102        1  \n",
       "3320951           240,040,102        1  \n",
       "3321009           240,040,102        2  \n",
       "3321019           240,040,102        2  \n",
       "3321020           240,040,102        2  "
      ]
     },
     "execution_count": 43,
     "metadata": {},
     "output_type": "execute_result"
    }
   ],
   "source": [
    "chunk[12][chunk[12].old_admin_category_id == '240,040,102'].tail()"
   ]
  },
  {
   "cell_type": "code",
   "execution_count": 46,
   "metadata": {},
   "outputs": [],
   "source": [
    "water = chunk[12][chunk[12].old_admin_category_id == '240,040,102']"
   ]
  },
  {
   "cell_type": "code",
   "execution_count": 51,
   "metadata": {},
   "outputs": [
    {
     "data": {
      "text/plain": [
       "(45373, 7)"
      ]
     },
     "execution_count": 51,
     "metadata": {},
     "output_type": "execute_result"
    }
   ],
   "source": [
    "water.shape"
   ]
  },
  {
   "cell_type": "markdown",
   "metadata": {},
   "source": [
    "---"
   ]
  },
  {
   "cell_type": "markdown",
   "metadata": {},
   "source": [
    "- 연습"
   ]
  },
  {
   "cell_type": "code",
   "execution_count": 52,
   "metadata": {},
   "outputs": [],
   "source": [
    "y = pd.DataFrame()"
   ]
  },
  {
   "cell_type": "code",
   "execution_count": 57,
   "metadata": {},
   "outputs": [],
   "source": [
    "x = pd.DataFrame({'a':[1,2,3], 'b':[4,5,6]})"
   ]
  },
  {
   "cell_type": "code",
   "execution_count": 58,
   "metadata": {},
   "outputs": [
    {
     "data": {
      "text/html": [
       "<div>\n",
       "<style scoped>\n",
       "    .dataframe tbody tr th:only-of-type {\n",
       "        vertical-align: middle;\n",
       "    }\n",
       "\n",
       "    .dataframe tbody tr th {\n",
       "        vertical-align: top;\n",
       "    }\n",
       "\n",
       "    .dataframe thead th {\n",
       "        text-align: right;\n",
       "    }\n",
       "</style>\n",
       "<table border=\"1\" class=\"dataframe\">\n",
       "  <thead>\n",
       "    <tr style=\"text-align: right;\">\n",
       "      <th></th>\n",
       "      <th>a</th>\n",
       "      <th>b</th>\n",
       "    </tr>\n",
       "  </thead>\n",
       "  <tbody>\n",
       "    <tr>\n",
       "      <th>0</th>\n",
       "      <td>1</td>\n",
       "      <td>4</td>\n",
       "    </tr>\n",
       "    <tr>\n",
       "      <th>1</th>\n",
       "      <td>2</td>\n",
       "      <td>5</td>\n",
       "    </tr>\n",
       "    <tr>\n",
       "      <th>2</th>\n",
       "      <td>3</td>\n",
       "      <td>6</td>\n",
       "    </tr>\n",
       "  </tbody>\n",
       "</table>\n",
       "</div>"
      ],
      "text/plain": [
       "   a  b\n",
       "0  1  4\n",
       "1  2  5\n",
       "2  3  6"
      ]
     },
     "execution_count": 58,
     "metadata": {},
     "output_type": "execute_result"
    }
   ],
   "source": [
    "x"
   ]
  },
  {
   "cell_type": "code",
   "execution_count": 59,
   "metadata": {},
   "outputs": [
    {
     "data": {
      "text/html": [
       "<div>\n",
       "<style scoped>\n",
       "    .dataframe tbody tr th:only-of-type {\n",
       "        vertical-align: middle;\n",
       "    }\n",
       "\n",
       "    .dataframe tbody tr th {\n",
       "        vertical-align: top;\n",
       "    }\n",
       "\n",
       "    .dataframe thead th {\n",
       "        text-align: right;\n",
       "    }\n",
       "</style>\n",
       "<table border=\"1\" class=\"dataframe\">\n",
       "  <thead>\n",
       "    <tr style=\"text-align: right;\">\n",
       "      <th></th>\n",
       "      <th>a</th>\n",
       "      <th>b</th>\n",
       "    </tr>\n",
       "  </thead>\n",
       "  <tbody>\n",
       "    <tr>\n",
       "      <th>0</th>\n",
       "      <td>1</td>\n",
       "      <td>4</td>\n",
       "    </tr>\n",
       "    <tr>\n",
       "      <th>1</th>\n",
       "      <td>2</td>\n",
       "      <td>5</td>\n",
       "    </tr>\n",
       "    <tr>\n",
       "      <th>2</th>\n",
       "      <td>3</td>\n",
       "      <td>6</td>\n",
       "    </tr>\n",
       "  </tbody>\n",
       "</table>\n",
       "</div>"
      ],
      "text/plain": [
       "   a  b\n",
       "0  1  4\n",
       "1  2  5\n",
       "2  3  6"
      ]
     },
     "execution_count": 59,
     "metadata": {},
     "output_type": "execute_result"
    }
   ],
   "source": [
    "pd.concat([y,x])"
   ]
  },
  {
   "cell_type": "markdown",
   "metadata": {},
   "source": [
    "---"
   ]
  },
  {
   "cell_type": "markdown",
   "metadata": {},
   "source": [
    "- WATER데이터 빼올거야"
   ]
  },
  {
   "cell_type": "code",
   "execution_count": 68,
   "metadata": {},
   "outputs": [],
   "source": [
    "water = pd.DataFrame()"
   ]
  },
  {
   "cell_type": "code",
   "execution_count": 69,
   "metadata": {},
   "outputs": [
    {
     "data": {
      "text/html": [
       "<div>\n",
       "<style scoped>\n",
       "    .dataframe tbody tr th:only-of-type {\n",
       "        vertical-align: middle;\n",
       "    }\n",
       "\n",
       "    .dataframe tbody tr th {\n",
       "        vertical-align: top;\n",
       "    }\n",
       "\n",
       "    .dataframe thead th {\n",
       "        text-align: right;\n",
       "    }\n",
       "</style>\n",
       "<table border=\"1\" class=\"dataframe\">\n",
       "  <thead>\n",
       "    <tr style=\"text-align: right;\">\n",
       "      <th></th>\n",
       "    </tr>\n",
       "  </thead>\n",
       "  <tbody>\n",
       "  </tbody>\n",
       "</table>\n",
       "</div>"
      ],
      "text/plain": [
       "Empty DataFrame\n",
       "Columns: []\n",
       "Index: []"
      ]
     },
     "execution_count": 69,
     "metadata": {},
     "output_type": "execute_result"
    }
   ],
   "source": [
    "water"
   ]
  },
  {
   "cell_type": "code",
   "execution_count": 70,
   "metadata": {},
   "outputs": [],
   "source": [
    "water = pd.DataFrame()\n",
    "for i in range(13):\n",
    "  water = pd.concat([water, chunk[i][chunk[i].old_admin_category_id == '240,040,102']])"
   ]
  },
  {
   "cell_type": "code",
   "execution_count": 71,
   "metadata": {},
   "outputs": [
    {
     "data": {
      "text/plain": [
       "(1833273, 7)"
      ]
     },
     "execution_count": 71,
     "metadata": {},
     "output_type": "execute_result"
    }
   ],
   "source": [
    "water.shape"
   ]
  },
  {
   "cell_type": "code",
   "execution_count": 72,
   "metadata": {},
   "outputs": [
    {
     "data": {
      "text/html": [
       "<div>\n",
       "<style scoped>\n",
       "    .dataframe tbody tr th:only-of-type {\n",
       "        vertical-align: middle;\n",
       "    }\n",
       "\n",
       "    .dataframe tbody tr th {\n",
       "        vertical-align: top;\n",
       "    }\n",
       "\n",
       "    .dataframe thead th {\n",
       "        text-align: right;\n",
       "    }\n",
       "</style>\n",
       "<table border=\"1\" class=\"dataframe\">\n",
       "  <thead>\n",
       "    <tr style=\"text-align: right;\">\n",
       "      <th></th>\n",
       "      <th>Unnamed: 0</th>\n",
       "      <th>biz_dt</th>\n",
       "      <th>m_id</th>\n",
       "      <th>order_price</th>\n",
       "      <th>prod_no</th>\n",
       "      <th>old_admin_category_id</th>\n",
       "      <th>serv_cd</th>\n",
       "    </tr>\n",
       "  </thead>\n",
       "  <tbody>\n",
       "    <tr>\n",
       "      <th>76</th>\n",
       "      <td>76</td>\n",
       "      <td>2018-01-01 00:00:18</td>\n",
       "      <td>2,363,189</td>\n",
       "      <td>8,900</td>\n",
       "      <td>1,286,468</td>\n",
       "      <td>240,040,102</td>\n",
       "      <td>1</td>\n",
       "    </tr>\n",
       "    <tr>\n",
       "      <th>114</th>\n",
       "      <td>114</td>\n",
       "      <td>2018-01-01 00:00:29</td>\n",
       "      <td>5,093,799</td>\n",
       "      <td>8,900</td>\n",
       "      <td>1,700,020</td>\n",
       "      <td>240,040,102</td>\n",
       "      <td>1</td>\n",
       "    </tr>\n",
       "    <tr>\n",
       "      <th>225</th>\n",
       "      <td>225</td>\n",
       "      <td>2018-01-01 00:00:54</td>\n",
       "      <td>23,526,491</td>\n",
       "      <td>35,000</td>\n",
       "      <td>1,524,740</td>\n",
       "      <td>240,040,102</td>\n",
       "      <td>1</td>\n",
       "    </tr>\n",
       "    <tr>\n",
       "      <th>256</th>\n",
       "      <td>256</td>\n",
       "      <td>2018-01-01 00:01:01</td>\n",
       "      <td>1,721,092</td>\n",
       "      <td>10,900</td>\n",
       "      <td>1,272,131</td>\n",
       "      <td>240,040,102</td>\n",
       "      <td>1</td>\n",
       "    </tr>\n",
       "    <tr>\n",
       "      <th>278</th>\n",
       "      <td>278</td>\n",
       "      <td>2018-01-01 00:01:08</td>\n",
       "      <td>7,469,033</td>\n",
       "      <td>11,900</td>\n",
       "      <td>2,178,079</td>\n",
       "      <td>240,040,102</td>\n",
       "      <td>1</td>\n",
       "    </tr>\n",
       "  </tbody>\n",
       "</table>\n",
       "</div>"
      ],
      "text/plain": [
       "     Unnamed: 0               biz_dt        m_id order_price    prod_no  \\\n",
       "76           76  2018-01-01 00:00:18   2,363,189       8,900  1,286,468   \n",
       "114         114  2018-01-01 00:00:29   5,093,799       8,900  1,700,020   \n",
       "225         225  2018-01-01 00:00:54  23,526,491      35,000  1,524,740   \n",
       "256         256  2018-01-01 00:01:01   1,721,092      10,900  1,272,131   \n",
       "278         278  2018-01-01 00:01:08   7,469,033      11,900  2,178,079   \n",
       "\n",
       "    old_admin_category_id  serv_cd  \n",
       "76            240,040,102        1  \n",
       "114           240,040,102        1  \n",
       "225           240,040,102        1  \n",
       "256           240,040,102        1  \n",
       "278           240,040,102        1  "
      ]
     },
     "execution_count": 72,
     "metadata": {},
     "output_type": "execute_result"
    }
   ],
   "source": [
    "water.head()"
   ]
  },
  {
   "cell_type": "code",
   "execution_count": 73,
   "metadata": {},
   "outputs": [
    {
     "data": {
      "text/html": [
       "<div>\n",
       "<style scoped>\n",
       "    .dataframe tbody tr th:only-of-type {\n",
       "        vertical-align: middle;\n",
       "    }\n",
       "\n",
       "    .dataframe tbody tr th {\n",
       "        vertical-align: top;\n",
       "    }\n",
       "\n",
       "    .dataframe thead th {\n",
       "        text-align: right;\n",
       "    }\n",
       "</style>\n",
       "<table border=\"1\" class=\"dataframe\">\n",
       "  <thead>\n",
       "    <tr style=\"text-align: right;\">\n",
       "      <th></th>\n",
       "      <th>Unnamed: 0</th>\n",
       "      <th>biz_dt</th>\n",
       "      <th>m_id</th>\n",
       "      <th>order_price</th>\n",
       "      <th>prod_no</th>\n",
       "      <th>old_admin_category_id</th>\n",
       "      <th>serv_cd</th>\n",
       "    </tr>\n",
       "  </thead>\n",
       "  <tbody>\n",
       "    <tr>\n",
       "      <th>3320947</th>\n",
       "      <td>123320947</td>\n",
       "      <td>2018-09-28 16:59:09</td>\n",
       "      <td>10,836,600</td>\n",
       "      <td>16,900</td>\n",
       "      <td>4,016,336</td>\n",
       "      <td>240,040,102</td>\n",
       "      <td>1</td>\n",
       "    </tr>\n",
       "    <tr>\n",
       "      <th>3320951</th>\n",
       "      <td>123320951</td>\n",
       "      <td>2018-09-28 16:59:09</td>\n",
       "      <td>5,992,663</td>\n",
       "      <td>12,500</td>\n",
       "      <td>3,216,354</td>\n",
       "      <td>240,040,102</td>\n",
       "      <td>1</td>\n",
       "    </tr>\n",
       "    <tr>\n",
       "      <th>3321009</th>\n",
       "      <td>123321009</td>\n",
       "      <td>2018-09-28 16:59:52</td>\n",
       "      <td>1,715,170</td>\n",
       "      <td>15,800</td>\n",
       "      <td>100,000,111</td>\n",
       "      <td>240,040,102</td>\n",
       "      <td>2</td>\n",
       "    </tr>\n",
       "    <tr>\n",
       "      <th>3321019</th>\n",
       "      <td>123321019</td>\n",
       "      <td>2018-09-28 17:00:07</td>\n",
       "      <td>14,752,165</td>\n",
       "      <td>18,900</td>\n",
       "      <td>100,000,109</td>\n",
       "      <td>240,040,102</td>\n",
       "      <td>2</td>\n",
       "    </tr>\n",
       "    <tr>\n",
       "      <th>3321020</th>\n",
       "      <td>123321020</td>\n",
       "      <td>2018-09-28 17:00:07</td>\n",
       "      <td>14,752,165</td>\n",
       "      <td>11,500</td>\n",
       "      <td>100,000,112</td>\n",
       "      <td>240,040,102</td>\n",
       "      <td>2</td>\n",
       "    </tr>\n",
       "  </tbody>\n",
       "</table>\n",
       "</div>"
      ],
      "text/plain": [
       "         Unnamed: 0               biz_dt        m_id order_price      prod_no  \\\n",
       "3320947   123320947  2018-09-28 16:59:09  10,836,600      16,900    4,016,336   \n",
       "3320951   123320951  2018-09-28 16:59:09   5,992,663      12,500    3,216,354   \n",
       "3321009   123321009  2018-09-28 16:59:52   1,715,170      15,800  100,000,111   \n",
       "3321019   123321019  2018-09-28 17:00:07  14,752,165      18,900  100,000,109   \n",
       "3321020   123321020  2018-09-28 17:00:07  14,752,165      11,500  100,000,112   \n",
       "\n",
       "        old_admin_category_id  serv_cd  \n",
       "3320947           240,040,102        1  \n",
       "3320951           240,040,102        1  \n",
       "3321009           240,040,102        2  \n",
       "3321019           240,040,102        2  \n",
       "3321020           240,040,102        2  "
      ]
     },
     "execution_count": 73,
     "metadata": {},
     "output_type": "execute_result"
    }
   ],
   "source": [
    "water.tail()"
   ]
  },
  {
   "cell_type": "code",
   "execution_count": 75,
   "metadata": {},
   "outputs": [],
   "source": [
    "filter = pd.to_datetime('2018-08-01')"
   ]
  },
  {
   "cell_type": "code",
   "execution_count": 79,
   "metadata": {},
   "outputs": [],
   "source": [
    "x['c'] = x['b']"
   ]
  },
  {
   "cell_type": "code",
   "execution_count": 81,
   "metadata": {},
   "outputs": [
    {
     "data": {
      "text/plain": [
       "0    4\n",
       "1    5\n",
       "2    6\n",
       "Name: b, dtype: int64"
      ]
     },
     "execution_count": 81,
     "metadata": {},
     "output_type": "execute_result"
    }
   ],
   "source": [
    "x['b']"
   ]
  },
  {
   "cell_type": "code",
   "execution_count": 80,
   "metadata": {
    "scrolled": true
   },
   "outputs": [
    {
     "data": {
      "text/html": [
       "<div>\n",
       "<style scoped>\n",
       "    .dataframe tbody tr th:only-of-type {\n",
       "        vertical-align: middle;\n",
       "    }\n",
       "\n",
       "    .dataframe tbody tr th {\n",
       "        vertical-align: top;\n",
       "    }\n",
       "\n",
       "    .dataframe thead th {\n",
       "        text-align: right;\n",
       "    }\n",
       "</style>\n",
       "<table border=\"1\" class=\"dataframe\">\n",
       "  <thead>\n",
       "    <tr style=\"text-align: right;\">\n",
       "      <th></th>\n",
       "      <th>a</th>\n",
       "      <th>b</th>\n",
       "      <th>c</th>\n",
       "    </tr>\n",
       "  </thead>\n",
       "  <tbody>\n",
       "    <tr>\n",
       "      <th>0</th>\n",
       "      <td>1</td>\n",
       "      <td>4</td>\n",
       "      <td>4</td>\n",
       "    </tr>\n",
       "    <tr>\n",
       "      <th>1</th>\n",
       "      <td>2</td>\n",
       "      <td>5</td>\n",
       "      <td>5</td>\n",
       "    </tr>\n",
       "    <tr>\n",
       "      <th>2</th>\n",
       "      <td>3</td>\n",
       "      <td>6</td>\n",
       "      <td>6</td>\n",
       "    </tr>\n",
       "  </tbody>\n",
       "</table>\n",
       "</div>"
      ],
      "text/plain": [
       "   a  b  c\n",
       "0  1  4  4\n",
       "1  2  5  5\n",
       "2  3  6  6"
      ]
     },
     "execution_count": 80,
     "metadata": {},
     "output_type": "execute_result"
    }
   ],
   "source": [
    "x"
   ]
  },
  {
   "cell_type": "code",
   "execution_count": 82,
   "metadata": {},
   "outputs": [],
   "source": [
    "water['biz_dt'] = pd.to_datetime(water['biz_dt'])"
   ]
  },
  {
   "cell_type": "code",
   "execution_count": 83,
   "metadata": {
    "scrolled": true
   },
   "outputs": [],
   "source": [
    "water_train = water[water.biz_dt < filter]"
   ]
  },
  {
   "cell_type": "code",
   "execution_count": 86,
   "metadata": {},
   "outputs": [],
   "source": [
    "water_test = water[water.biz_dt >= filter]"
   ]
  },
  {
   "cell_type": "code",
   "execution_count": 84,
   "metadata": {},
   "outputs": [
    {
     "data": {
      "text/plain": [
       "(1449881, 7)"
      ]
     },
     "execution_count": 84,
     "metadata": {},
     "output_type": "execute_result"
    }
   ],
   "source": [
    "water_train.shape"
   ]
  },
  {
   "cell_type": "code",
   "execution_count": 87,
   "metadata": {},
   "outputs": [
    {
     "data": {
      "text/plain": [
       "(383392, 7)"
      ]
     },
     "execution_count": 87,
     "metadata": {},
     "output_type": "execute_result"
    }
   ],
   "source": [
    "water_test.shape"
   ]
  },
  {
   "cell_type": "code",
   "execution_count": 88,
   "metadata": {},
   "outputs": [
    {
     "data": {
      "text/plain": [
       "True"
      ]
     },
     "execution_count": 88,
     "metadata": {},
     "output_type": "execute_result"
    }
   ],
   "source": [
    "water_train.shape[0] + water_test.shape[0] == water.shape[0]"
   ]
  },
  {
   "cell_type": "code",
   "execution_count": null,
   "metadata": {},
   "outputs": [],
   "source": []
  },
  {
   "cell_type": "code",
   "execution_count": null,
   "metadata": {},
   "outputs": [],
   "source": []
  },
  {
   "cell_type": "markdown",
   "metadata": {},
   "source": [
    "---"
   ]
  },
  {
   "cell_type": "markdown",
   "metadata": {},
   "source": [
    "---"
   ]
  },
  {
   "cell_type": "code",
   "execution_count": 89,
   "metadata": {},
   "outputs": [
    {
     "name": "stdout",
     "output_type": "stream",
     "text": [
      "<class 'pandas.core.frame.DataFrame'>\n",
      "Int64Index: 1449881 entries, 76 to 9110323\n",
      "Data columns (total 7 columns):\n",
      "Unnamed: 0               1449881 non-null int64\n",
      "biz_dt                   1449881 non-null datetime64[ns]\n",
      "m_id                     1449881 non-null object\n",
      "order_price              1449881 non-null object\n",
      "prod_no                  1449881 non-null object\n",
      "old_admin_category_id    1449881 non-null object\n",
      "serv_cd                  1449881 non-null int64\n",
      "dtypes: datetime64[ns](1), int64(2), object(4)\n",
      "memory usage: 88.5+ MB\n"
     ]
    }
   ],
   "source": [
    "water_train.info()"
   ]
  },
  {
   "cell_type": "code",
   "execution_count": 90,
   "metadata": {},
   "outputs": [
    {
     "data": {
      "text/plain": [
       "Timedelta('-1 days +00:00:00')"
      ]
     },
     "execution_count": 90,
     "metadata": {},
     "output_type": "execute_result"
    }
   ],
   "source": [
    "pd.to_datetime('2018-01-01') - pd.to_datetime('2018-01-02')"
   ]
  },
  {
   "cell_type": "code",
   "execution_count": 92,
   "metadata": {},
   "outputs": [
    {
     "data": {
      "text/plain": [
       "1449881"
      ]
     },
     "execution_count": 92,
     "metadata": {},
     "output_type": "execute_result"
    }
   ],
   "source": [
    "water_train.shape[0]  # 전체 약 145만건의 구매이력 "
   ]
  },
  {
   "cell_type": "code",
   "execution_count": 94,
   "metadata": {},
   "outputs": [
    {
     "data": {
      "text/plain": [
       "595333"
      ]
     },
     "execution_count": 94,
     "metadata": {},
     "output_type": "execute_result"
    }
   ],
   "source": [
    "water_train.m_id.nunique() # 이 생수 카테고리에 약 60만명의 구매이력이 있다..!"
   ]
  },
  {
   "cell_type": "markdown",
   "metadata": {},
   "source": [
    "---"
   ]
  },
  {
   "cell_type": "markdown",
   "metadata": {},
   "source": [
    "- 연습"
   ]
  },
  {
   "cell_type": "code",
   "execution_count": 12,
   "metadata": {},
   "outputs": [],
   "source": [
    "a = water.iloc[1000000]['biz_dt'] - water.iloc[0]['biz_dt']"
   ]
  },
  {
   "cell_type": "code",
   "execution_count": 13,
   "metadata": {},
   "outputs": [
    {
     "data": {
      "text/plain": [
       "Timedelta('156 days 14:42:39')"
      ]
     },
     "execution_count": 13,
     "metadata": {},
     "output_type": "execute_result"
    }
   ],
   "source": [
    "a"
   ]
  },
  {
   "cell_type": "code",
   "execution_count": 14,
   "metadata": {},
   "outputs": [
    {
     "data": {
      "text/plain": [
       "156"
      ]
     },
     "execution_count": 14,
     "metadata": {},
     "output_type": "execute_result"
    }
   ],
   "source": [
    "a.days"
   ]
  },
  {
   "cell_type": "code",
   "execution_count": 15,
   "metadata": {},
   "outputs": [],
   "source": [
    "ww = water.iloc[:10]"
   ]
  },
  {
   "cell_type": "code",
   "execution_count": 16,
   "metadata": {},
   "outputs": [
    {
     "data": {
      "text/html": [
       "<div>\n",
       "<style scoped>\n",
       "    .dataframe tbody tr th:only-of-type {\n",
       "        vertical-align: middle;\n",
       "    }\n",
       "\n",
       "    .dataframe tbody tr th {\n",
       "        vertical-align: top;\n",
       "    }\n",
       "\n",
       "    .dataframe thead th {\n",
       "        text-align: right;\n",
       "    }\n",
       "</style>\n",
       "<table border=\"1\" class=\"dataframe\">\n",
       "  <thead>\n",
       "    <tr style=\"text-align: right;\">\n",
       "      <th></th>\n",
       "      <th>Unnamed: 0</th>\n",
       "      <th>biz_dt</th>\n",
       "      <th>m_id</th>\n",
       "      <th>order_price</th>\n",
       "      <th>prod_no</th>\n",
       "      <th>old_admin_category_id</th>\n",
       "      <th>serv_cd</th>\n",
       "    </tr>\n",
       "  </thead>\n",
       "  <tbody>\n",
       "    <tr>\n",
       "      <th>76</th>\n",
       "      <td>76</td>\n",
       "      <td>2018-01-01 00:00:18</td>\n",
       "      <td>2,363,189</td>\n",
       "      <td>8,900</td>\n",
       "      <td>1,286,468</td>\n",
       "      <td>240,040,102</td>\n",
       "      <td>1</td>\n",
       "    </tr>\n",
       "    <tr>\n",
       "      <th>114</th>\n",
       "      <td>114</td>\n",
       "      <td>2018-01-01 00:00:29</td>\n",
       "      <td>5,093,799</td>\n",
       "      <td>8,900</td>\n",
       "      <td>1,700,020</td>\n",
       "      <td>240,040,102</td>\n",
       "      <td>1</td>\n",
       "    </tr>\n",
       "    <tr>\n",
       "      <th>225</th>\n",
       "      <td>225</td>\n",
       "      <td>2018-01-01 00:00:54</td>\n",
       "      <td>23,526,491</td>\n",
       "      <td>35,000</td>\n",
       "      <td>1,524,740</td>\n",
       "      <td>240,040,102</td>\n",
       "      <td>1</td>\n",
       "    </tr>\n",
       "    <tr>\n",
       "      <th>256</th>\n",
       "      <td>256</td>\n",
       "      <td>2018-01-01 00:01:01</td>\n",
       "      <td>1,721,092</td>\n",
       "      <td>10,900</td>\n",
       "      <td>1,272,131</td>\n",
       "      <td>240,040,102</td>\n",
       "      <td>1</td>\n",
       "    </tr>\n",
       "    <tr>\n",
       "      <th>278</th>\n",
       "      <td>278</td>\n",
       "      <td>2018-01-01 00:01:08</td>\n",
       "      <td>7,469,033</td>\n",
       "      <td>11,900</td>\n",
       "      <td>2,178,079</td>\n",
       "      <td>240,040,102</td>\n",
       "      <td>1</td>\n",
       "    </tr>\n",
       "    <tr>\n",
       "      <th>293</th>\n",
       "      <td>293</td>\n",
       "      <td>2018-01-01 00:01:10</td>\n",
       "      <td>22,667,175</td>\n",
       "      <td>10,900</td>\n",
       "      <td>2,729,517</td>\n",
       "      <td>240,040,102</td>\n",
       "      <td>1</td>\n",
       "    </tr>\n",
       "    <tr>\n",
       "      <th>342</th>\n",
       "      <td>342</td>\n",
       "      <td>2018-01-01 00:01:18</td>\n",
       "      <td>23,644,729</td>\n",
       "      <td>11,900</td>\n",
       "      <td>2,178,079</td>\n",
       "      <td>240,040,102</td>\n",
       "      <td>1</td>\n",
       "    </tr>\n",
       "    <tr>\n",
       "      <th>386</th>\n",
       "      <td>386</td>\n",
       "      <td>2018-01-01 00:01:22</td>\n",
       "      <td>17,102,366</td>\n",
       "      <td>8,900</td>\n",
       "      <td>2,279,023</td>\n",
       "      <td>240,040,102</td>\n",
       "      <td>1</td>\n",
       "    </tr>\n",
       "    <tr>\n",
       "      <th>478</th>\n",
       "      <td>478</td>\n",
       "      <td>2018-01-01 00:01:35</td>\n",
       "      <td>7,536,506</td>\n",
       "      <td>19,350</td>\n",
       "      <td>1,513,471</td>\n",
       "      <td>240,040,102</td>\n",
       "      <td>1</td>\n",
       "    </tr>\n",
       "    <tr>\n",
       "      <th>507</th>\n",
       "      <td>507</td>\n",
       "      <td>2018-01-01 00:01:37</td>\n",
       "      <td>18,659,361</td>\n",
       "      <td>21,900</td>\n",
       "      <td>2,178,079</td>\n",
       "      <td>240,040,102</td>\n",
       "      <td>1</td>\n",
       "    </tr>\n",
       "  </tbody>\n",
       "</table>\n",
       "</div>"
      ],
      "text/plain": [
       "     Unnamed: 0              biz_dt        m_id order_price    prod_no  \\\n",
       "76           76 2018-01-01 00:00:18   2,363,189       8,900  1,286,468   \n",
       "114         114 2018-01-01 00:00:29   5,093,799       8,900  1,700,020   \n",
       "225         225 2018-01-01 00:00:54  23,526,491      35,000  1,524,740   \n",
       "256         256 2018-01-01 00:01:01   1,721,092      10,900  1,272,131   \n",
       "278         278 2018-01-01 00:01:08   7,469,033      11,900  2,178,079   \n",
       "293         293 2018-01-01 00:01:10  22,667,175      10,900  2,729,517   \n",
       "342         342 2018-01-01 00:01:18  23,644,729      11,900  2,178,079   \n",
       "386         386 2018-01-01 00:01:22  17,102,366       8,900  2,279,023   \n",
       "478         478 2018-01-01 00:01:35   7,536,506      19,350  1,513,471   \n",
       "507         507 2018-01-01 00:01:37  18,659,361      21,900  2,178,079   \n",
       "\n",
       "    old_admin_category_id  serv_cd  \n",
       "76            240,040,102        1  \n",
       "114           240,040,102        1  \n",
       "225           240,040,102        1  \n",
       "256           240,040,102        1  \n",
       "278           240,040,102        1  \n",
       "293           240,040,102        1  \n",
       "342           240,040,102        1  \n",
       "386           240,040,102        1  \n",
       "478           240,040,102        1  \n",
       "507           240,040,102        1  "
      ]
     },
     "execution_count": 16,
     "metadata": {},
     "output_type": "execute_result"
    }
   ],
   "source": [
    "ww"
   ]
  },
  {
   "cell_type": "code",
   "execution_count": 17,
   "metadata": {},
   "outputs": [
    {
     "data": {
      "text/html": [
       "<div>\n",
       "<style scoped>\n",
       "    .dataframe tbody tr th:only-of-type {\n",
       "        vertical-align: middle;\n",
       "    }\n",
       "\n",
       "    .dataframe tbody tr th {\n",
       "        vertical-align: top;\n",
       "    }\n",
       "\n",
       "    .dataframe thead th {\n",
       "        text-align: right;\n",
       "    }\n",
       "</style>\n",
       "<table border=\"1\" class=\"dataframe\">\n",
       "  <thead>\n",
       "    <tr style=\"text-align: right;\">\n",
       "      <th></th>\n",
       "      <th>Unnamed: 0</th>\n",
       "      <th>biz_dt</th>\n",
       "      <th>m_id</th>\n",
       "      <th>order_price</th>\n",
       "      <th>prod_no</th>\n",
       "      <th>old_admin_category_id</th>\n",
       "      <th>serv_cd</th>\n",
       "    </tr>\n",
       "  </thead>\n",
       "  <tbody>\n",
       "    <tr>\n",
       "      <th>507</th>\n",
       "      <td>507</td>\n",
       "      <td>2018-01-01 00:01:37</td>\n",
       "      <td>18,659,361</td>\n",
       "      <td>21,900</td>\n",
       "      <td>2,178,079</td>\n",
       "      <td>240,040,102</td>\n",
       "      <td>1</td>\n",
       "    </tr>\n",
       "    <tr>\n",
       "      <th>478</th>\n",
       "      <td>478</td>\n",
       "      <td>2018-01-01 00:01:35</td>\n",
       "      <td>7,536,506</td>\n",
       "      <td>19,350</td>\n",
       "      <td>1,513,471</td>\n",
       "      <td>240,040,102</td>\n",
       "      <td>1</td>\n",
       "    </tr>\n",
       "    <tr>\n",
       "      <th>386</th>\n",
       "      <td>386</td>\n",
       "      <td>2018-01-01 00:01:22</td>\n",
       "      <td>17,102,366</td>\n",
       "      <td>8,900</td>\n",
       "      <td>2,279,023</td>\n",
       "      <td>240,040,102</td>\n",
       "      <td>1</td>\n",
       "    </tr>\n",
       "    <tr>\n",
       "      <th>342</th>\n",
       "      <td>342</td>\n",
       "      <td>2018-01-01 00:01:18</td>\n",
       "      <td>23,644,729</td>\n",
       "      <td>11,900</td>\n",
       "      <td>2,178,079</td>\n",
       "      <td>240,040,102</td>\n",
       "      <td>1</td>\n",
       "    </tr>\n",
       "    <tr>\n",
       "      <th>293</th>\n",
       "      <td>293</td>\n",
       "      <td>2018-01-01 00:01:10</td>\n",
       "      <td>22,667,175</td>\n",
       "      <td>10,900</td>\n",
       "      <td>2,729,517</td>\n",
       "      <td>240,040,102</td>\n",
       "      <td>1</td>\n",
       "    </tr>\n",
       "    <tr>\n",
       "      <th>278</th>\n",
       "      <td>278</td>\n",
       "      <td>2018-01-01 00:01:08</td>\n",
       "      <td>7,469,033</td>\n",
       "      <td>11,900</td>\n",
       "      <td>2,178,079</td>\n",
       "      <td>240,040,102</td>\n",
       "      <td>1</td>\n",
       "    </tr>\n",
       "    <tr>\n",
       "      <th>256</th>\n",
       "      <td>256</td>\n",
       "      <td>2018-01-01 00:01:01</td>\n",
       "      <td>1,721,092</td>\n",
       "      <td>10,900</td>\n",
       "      <td>1,272,131</td>\n",
       "      <td>240,040,102</td>\n",
       "      <td>1</td>\n",
       "    </tr>\n",
       "    <tr>\n",
       "      <th>225</th>\n",
       "      <td>225</td>\n",
       "      <td>2018-01-01 00:00:54</td>\n",
       "      <td>23,526,491</td>\n",
       "      <td>35,000</td>\n",
       "      <td>1,524,740</td>\n",
       "      <td>240,040,102</td>\n",
       "      <td>1</td>\n",
       "    </tr>\n",
       "    <tr>\n",
       "      <th>114</th>\n",
       "      <td>114</td>\n",
       "      <td>2018-01-01 00:00:29</td>\n",
       "      <td>5,093,799</td>\n",
       "      <td>8,900</td>\n",
       "      <td>1,700,020</td>\n",
       "      <td>240,040,102</td>\n",
       "      <td>1</td>\n",
       "    </tr>\n",
       "    <tr>\n",
       "      <th>76</th>\n",
       "      <td>76</td>\n",
       "      <td>2018-01-01 00:00:18</td>\n",
       "      <td>2,363,189</td>\n",
       "      <td>8,900</td>\n",
       "      <td>1,286,468</td>\n",
       "      <td>240,040,102</td>\n",
       "      <td>1</td>\n",
       "    </tr>\n",
       "  </tbody>\n",
       "</table>\n",
       "</div>"
      ],
      "text/plain": [
       "     Unnamed: 0              biz_dt        m_id order_price    prod_no  \\\n",
       "507         507 2018-01-01 00:01:37  18,659,361      21,900  2,178,079   \n",
       "478         478 2018-01-01 00:01:35   7,536,506      19,350  1,513,471   \n",
       "386         386 2018-01-01 00:01:22  17,102,366       8,900  2,279,023   \n",
       "342         342 2018-01-01 00:01:18  23,644,729      11,900  2,178,079   \n",
       "293         293 2018-01-01 00:01:10  22,667,175      10,900  2,729,517   \n",
       "278         278 2018-01-01 00:01:08   7,469,033      11,900  2,178,079   \n",
       "256         256 2018-01-01 00:01:01   1,721,092      10,900  1,272,131   \n",
       "225         225 2018-01-01 00:00:54  23,526,491      35,000  1,524,740   \n",
       "114         114 2018-01-01 00:00:29   5,093,799       8,900  1,700,020   \n",
       "76           76 2018-01-01 00:00:18   2,363,189       8,900  1,286,468   \n",
       "\n",
       "    old_admin_category_id  serv_cd  \n",
       "507           240,040,102        1  \n",
       "478           240,040,102        1  \n",
       "386           240,040,102        1  \n",
       "342           240,040,102        1  \n",
       "293           240,040,102        1  \n",
       "278           240,040,102        1  \n",
       "256           240,040,102        1  \n",
       "225           240,040,102        1  \n",
       "114           240,040,102        1  \n",
       "76            240,040,102        1  "
      ]
     },
     "execution_count": 17,
     "metadata": {},
     "output_type": "execute_result"
    }
   ],
   "source": [
    "ww.sort_values(by = 'biz_dt', ascending = False)"
   ]
  },
  {
   "cell_type": "markdown",
   "metadata": {},
   "source": [
    "---"
   ]
  },
  {
   "cell_type": "markdown",
   "metadata": {},
   "source": [
    "- unique한 MEMBER ID불러와"
   ]
  },
  {
   "cell_type": "code",
   "execution_count": 95,
   "metadata": {},
   "outputs": [],
   "source": [
    "mid = water_train.m_id.unique()"
   ]
  },
  {
   "cell_type": "code",
   "execution_count": 96,
   "metadata": {},
   "outputs": [
    {
     "data": {
      "text/plain": [
       "595333"
      ]
     },
     "execution_count": 96,
     "metadata": {},
     "output_type": "execute_result"
    }
   ],
   "source": [
    "len(mid)"
   ]
  },
  {
   "cell_type": "code",
   "execution_count": 97,
   "metadata": {
    "scrolled": true
   },
   "outputs": [
    {
     "data": {
      "text/plain": [
       "(595333,)"
      ]
     },
     "execution_count": 97,
     "metadata": {},
     "output_type": "execute_result"
    }
   ],
   "source": [
    "mid.shape"
   ]
  },
  {
   "cell_type": "code",
   "execution_count": 98,
   "metadata": {},
   "outputs": [
    {
     "data": {
      "text/plain": [
       "'1,820,602'"
      ]
     },
     "execution_count": 98,
     "metadata": {},
     "output_type": "execute_result"
    }
   ],
   "source": [
    "mid[1000]"
   ]
  },
  {
   "cell_type": "code",
   "execution_count": 99,
   "metadata": {},
   "outputs": [
    {
     "data": {
      "text/html": [
       "<div>\n",
       "<style scoped>\n",
       "    .dataframe tbody tr th:only-of-type {\n",
       "        vertical-align: middle;\n",
       "    }\n",
       "\n",
       "    .dataframe tbody tr th {\n",
       "        vertical-align: top;\n",
       "    }\n",
       "\n",
       "    .dataframe thead th {\n",
       "        text-align: right;\n",
       "    }\n",
       "</style>\n",
       "<table border=\"1\" class=\"dataframe\">\n",
       "  <thead>\n",
       "    <tr style=\"text-align: right;\">\n",
       "      <th></th>\n",
       "      <th>Unnamed: 0</th>\n",
       "      <th>biz_dt</th>\n",
       "      <th>m_id</th>\n",
       "      <th>order_price</th>\n",
       "      <th>prod_no</th>\n",
       "      <th>old_admin_category_id</th>\n",
       "      <th>serv_cd</th>\n",
       "    </tr>\n",
       "  </thead>\n",
       "  <tbody>\n",
       "    <tr>\n",
       "      <th>114</th>\n",
       "      <td>114</td>\n",
       "      <td>2018-01-01 00:00:29</td>\n",
       "      <td>5,093,799</td>\n",
       "      <td>8,900</td>\n",
       "      <td>1,700,020</td>\n",
       "      <td>240,040,102</td>\n",
       "      <td>1</td>\n",
       "    </tr>\n",
       "    <tr>\n",
       "      <th>7844323</th>\n",
       "      <td>17844323</td>\n",
       "      <td>2018-02-07 16:36:46</td>\n",
       "      <td>5,093,799</td>\n",
       "      <td>5,900</td>\n",
       "      <td>1,603,302</td>\n",
       "      <td>240,040,102</td>\n",
       "      <td>1</td>\n",
       "    </tr>\n",
       "    <tr>\n",
       "      <th>4022351</th>\n",
       "      <td>54022351</td>\n",
       "      <td>2018-04-28 17:29:04</td>\n",
       "      <td>5,093,799</td>\n",
       "      <td>7,900</td>\n",
       "      <td>3,407,791</td>\n",
       "      <td>240,040,102</td>\n",
       "      <td>1</td>\n",
       "    </tr>\n",
       "  </tbody>\n",
       "</table>\n",
       "</div>"
      ],
      "text/plain": [
       "         Unnamed: 0              biz_dt       m_id order_price    prod_no  \\\n",
       "114             114 2018-01-01 00:00:29  5,093,799       8,900  1,700,020   \n",
       "7844323    17844323 2018-02-07 16:36:46  5,093,799       5,900  1,603,302   \n",
       "4022351    54022351 2018-04-28 17:29:04  5,093,799       7,900  3,407,791   \n",
       "\n",
       "        old_admin_category_id  serv_cd  \n",
       "114               240,040,102        1  \n",
       "7844323           240,040,102        1  \n",
       "4022351           240,040,102        1  "
      ]
     },
     "execution_count": 99,
     "metadata": {},
     "output_type": "execute_result"
    }
   ],
   "source": [
    "water_train[water_train.m_id == water_train.m_id.unique()[1]]"
   ]
  },
  {
   "cell_type": "markdown",
   "metadata": {},
   "source": [
    "-> 이런식으로"
   ]
  },
  {
   "cell_type": "markdown",
   "metadata": {},
   "source": [
    "---"
   ]
  },
  {
   "cell_type": "code",
   "execution_count": 100,
   "metadata": {},
   "outputs": [
    {
     "data": {
      "text/plain": [
       "'2,363,189'"
      ]
     },
     "execution_count": 100,
     "metadata": {},
     "output_type": "execute_result"
    }
   ],
   "source": [
    "water_train.m_id.unique()[0]"
   ]
  },
  {
   "cell_type": "code",
   "execution_count": 101,
   "metadata": {},
   "outputs": [
    {
     "data": {
      "text/plain": [
       "1"
      ]
     },
     "execution_count": 101,
     "metadata": {},
     "output_type": "execute_result"
    }
   ],
   "source": [
    "sum(water_train.m_id== '2,363,189')"
   ]
  },
  {
   "cell_type": "code",
   "execution_count": 253,
   "metadata": {},
   "outputs": [
    {
     "name": "stdout",
     "output_type": "stream",
     "text": [
      "8.884664058685303\n"
     ]
    }
   ],
   "source": [
    "import time\n",
    "\n",
    "start_time = time.time()\n",
    "\n",
    "c = {}\n",
    "t = []\n",
    "for i in range(len(water_train.m_id.unique()[:10])):\n",
    "    c[i] = water_train[water_train.m_id == water_train.m_id.unique()[i]].sort_values(by = 'biz_dt', ascending = False)\n",
    "    for j in range(c[i].shape[0]-1):\n",
    "        \n",
    "        t.append((c[i].iloc[j]['biz_dt'] - c[i].iloc[j+1]['biz_dt']).days) #밑의 if문이랑 같은 결과야(해본결과, len가 1이면 iiappend안해줘)\n",
    "\n",
    "        \n",
    "elapsed_time = time.time() - start_time\n",
    "print(elapsed_time)"
   ]
  },
  {
   "cell_type": "markdown",
   "metadata": {},
   "source": [
    "비교"
   ]
  },
  {
   "cell_type": "code",
   "execution_count": 240,
   "metadata": {},
   "outputs": [],
   "source": [
    "c[10] = water_train.biz_dt[water_train.m_id == water_train.m_id.unique()[10]].sort_values(ascending = False)"
   ]
  },
  {
   "cell_type": "code",
   "execution_count": 241,
   "metadata": {},
   "outputs": [
    {
     "data": {
      "text/plain": [
       "693727   2018-04-02 01:32:01\n",
       "563      2018-01-01 00:01:43\n",
       "Name: biz_dt, dtype: datetime64[ns]"
      ]
     },
     "execution_count": 241,
     "metadata": {},
     "output_type": "execute_result"
    }
   ],
   "source": [
    "c[10]"
   ]
  },
  {
   "cell_type": "code",
   "execution_count": 243,
   "metadata": {},
   "outputs": [
    {
     "data": {
      "text/plain": [
       "0   2018-04-02 01:32:01\n",
       "1   2018-01-01 00:01:43\n",
       "Name: biz_dt, dtype: datetime64[ns]"
      ]
     },
     "execution_count": 243,
     "metadata": {},
     "output_type": "execute_result"
    }
   ],
   "source": [
    "c[10].reset_index(drop=True)"
   ]
  },
  {
   "cell_type": "code",
   "execution_count": 246,
   "metadata": {},
   "outputs": [
    {
     "name": "stdout",
     "output_type": "stream",
     "text": [
      "0\n"
     ]
    }
   ],
   "source": [
    "for i in range(c[10].shape[0]-1):\n",
    "    print(i)"
   ]
  },
  {
   "cell_type": "code",
   "execution_count": 250,
   "metadata": {},
   "outputs": [
    {
     "data": {
      "text/plain": [
       "563      NaT\n",
       "693727   NaT\n",
       "Name: biz_dt, dtype: timedelta64[ns]"
      ]
     },
     "execution_count": 250,
     "metadata": {},
     "output_type": "execute_result"
    }
   ],
   "source": [
    "# 오류야\n",
    "c[10][0:1]-c[10][1:2]"
   ]
  },
  {
   "cell_type": "code",
   "execution_count": 251,
   "metadata": {},
   "outputs": [
    {
     "data": {
      "text/plain": [
       "Timestamp('2018-01-01 00:01:43')"
      ]
     },
     "execution_count": 251,
     "metadata": {},
     "output_type": "execute_result"
    }
   ],
   "source": [
    "c[10].iloc[1]"
   ]
  },
  {
   "cell_type": "code",
   "execution_count": 244,
   "metadata": {},
   "outputs": [
    {
     "ename": "KeyError",
     "evalue": "0",
     "output_type": "error",
     "traceback": [
      "\u001b[0;31m---------------------------------------------------------------------------\u001b[0m",
      "\u001b[0;31mKeyError\u001b[0m                                  Traceback (most recent call last)",
      "\u001b[0;32m<ipython-input-244-5c317833e9a2>\u001b[0m in \u001b[0;36m<module>\u001b[0;34m()\u001b[0m\n\u001b[1;32m      1\u001b[0m \u001b[0;32mfor\u001b[0m \u001b[0mj\u001b[0m \u001b[0;32min\u001b[0m \u001b[0mrange\u001b[0m\u001b[0;34m(\u001b[0m\u001b[0mc\u001b[0m\u001b[0;34m[\u001b[0m\u001b[0;36m10\u001b[0m\u001b[0;34m]\u001b[0m\u001b[0;34m.\u001b[0m\u001b[0mshape\u001b[0m\u001b[0;34m[\u001b[0m\u001b[0;36m0\u001b[0m\u001b[0;34m]\u001b[0m\u001b[0;34m-\u001b[0m\u001b[0;36m1\u001b[0m\u001b[0;34m)\u001b[0m\u001b[0;34m:\u001b[0m\u001b[0;34m\u001b[0m\u001b[0m\n\u001b[1;32m      2\u001b[0m \u001b[0;34m\u001b[0m\u001b[0m\n\u001b[0;32m----> 3\u001b[0;31m     \u001b[0mt\u001b[0m\u001b[0;34m.\u001b[0m\u001b[0mappend\u001b[0m\u001b[0;34m(\u001b[0m\u001b[0;34m(\u001b[0m\u001b[0mc\u001b[0m\u001b[0;34m[\u001b[0m\u001b[0;36m10\u001b[0m\u001b[0;34m]\u001b[0m\u001b[0;34m[\u001b[0m\u001b[0mj\u001b[0m\u001b[0;34m]\u001b[0m \u001b[0;34m-\u001b[0m \u001b[0mc\u001b[0m\u001b[0;34m[\u001b[0m\u001b[0;36m10\u001b[0m\u001b[0;34m]\u001b[0m\u001b[0;34m[\u001b[0m\u001b[0mj\u001b[0m\u001b[0;34m+\u001b[0m\u001b[0;36m1\u001b[0m\u001b[0;34m]\u001b[0m\u001b[0;34m)\u001b[0m\u001b[0;34m.\u001b[0m\u001b[0mdays\u001b[0m\u001b[0;34m)\u001b[0m \u001b[0;31m#밑의 if문이랑 같은 결과야(해본결과, len가 1이면 iiappend안해줘)\u001b[0m\u001b[0;34m\u001b[0m\u001b[0m\n\u001b[0m",
      "\u001b[0;32m/anaconda3/lib/python3.6/site-packages/pandas/core/series.py\u001b[0m in \u001b[0;36m__getitem__\u001b[0;34m(self, key)\u001b[0m\n\u001b[1;32m    765\u001b[0m         \u001b[0mkey\u001b[0m \u001b[0;34m=\u001b[0m \u001b[0mcom\u001b[0m\u001b[0;34m.\u001b[0m\u001b[0m_apply_if_callable\u001b[0m\u001b[0;34m(\u001b[0m\u001b[0mkey\u001b[0m\u001b[0;34m,\u001b[0m \u001b[0mself\u001b[0m\u001b[0;34m)\u001b[0m\u001b[0;34m\u001b[0m\u001b[0m\n\u001b[1;32m    766\u001b[0m         \u001b[0;32mtry\u001b[0m\u001b[0;34m:\u001b[0m\u001b[0;34m\u001b[0m\u001b[0m\n\u001b[0;32m--> 767\u001b[0;31m             \u001b[0mresult\u001b[0m \u001b[0;34m=\u001b[0m \u001b[0mself\u001b[0m\u001b[0;34m.\u001b[0m\u001b[0mindex\u001b[0m\u001b[0;34m.\u001b[0m\u001b[0mget_value\u001b[0m\u001b[0;34m(\u001b[0m\u001b[0mself\u001b[0m\u001b[0;34m,\u001b[0m \u001b[0mkey\u001b[0m\u001b[0;34m)\u001b[0m\u001b[0;34m\u001b[0m\u001b[0m\n\u001b[0m\u001b[1;32m    768\u001b[0m \u001b[0;34m\u001b[0m\u001b[0m\n\u001b[1;32m    769\u001b[0m             \u001b[0;32mif\u001b[0m \u001b[0;32mnot\u001b[0m \u001b[0mis_scalar\u001b[0m\u001b[0;34m(\u001b[0m\u001b[0mresult\u001b[0m\u001b[0;34m)\u001b[0m\u001b[0;34m:\u001b[0m\u001b[0;34m\u001b[0m\u001b[0m\n",
      "\u001b[0;32m/anaconda3/lib/python3.6/site-packages/pandas/core/indexes/base.py\u001b[0m in \u001b[0;36mget_value\u001b[0;34m(self, series, key)\u001b[0m\n\u001b[1;32m   3116\u001b[0m         \u001b[0;32mtry\u001b[0m\u001b[0;34m:\u001b[0m\u001b[0;34m\u001b[0m\u001b[0m\n\u001b[1;32m   3117\u001b[0m             return self._engine.get_value(s, k,\n\u001b[0;32m-> 3118\u001b[0;31m                                           tz=getattr(series.dtype, 'tz', None))\n\u001b[0m\u001b[1;32m   3119\u001b[0m         \u001b[0;32mexcept\u001b[0m \u001b[0mKeyError\u001b[0m \u001b[0;32mas\u001b[0m \u001b[0me1\u001b[0m\u001b[0;34m:\u001b[0m\u001b[0;34m\u001b[0m\u001b[0m\n\u001b[1;32m   3120\u001b[0m             \u001b[0;32mif\u001b[0m \u001b[0mlen\u001b[0m\u001b[0;34m(\u001b[0m\u001b[0mself\u001b[0m\u001b[0;34m)\u001b[0m \u001b[0;34m>\u001b[0m \u001b[0;36m0\u001b[0m \u001b[0;32mand\u001b[0m \u001b[0mself\u001b[0m\u001b[0;34m.\u001b[0m\u001b[0minferred_type\u001b[0m \u001b[0;32min\u001b[0m \u001b[0;34m[\u001b[0m\u001b[0;34m'integer'\u001b[0m\u001b[0;34m,\u001b[0m \u001b[0;34m'boolean'\u001b[0m\u001b[0;34m]\u001b[0m\u001b[0;34m:\u001b[0m\u001b[0;34m\u001b[0m\u001b[0m\n",
      "\u001b[0;32mpandas/_libs/index.pyx\u001b[0m in \u001b[0;36mpandas._libs.index.IndexEngine.get_value\u001b[0;34m()\u001b[0m\n",
      "\u001b[0;32mpandas/_libs/index.pyx\u001b[0m in \u001b[0;36mpandas._libs.index.IndexEngine.get_value\u001b[0;34m()\u001b[0m\n",
      "\u001b[0;32mpandas/_libs/index.pyx\u001b[0m in \u001b[0;36mpandas._libs.index.IndexEngine.get_loc\u001b[0;34m()\u001b[0m\n",
      "\u001b[0;32mpandas/_libs/hashtable_class_helper.pxi\u001b[0m in \u001b[0;36mpandas._libs.hashtable.Int64HashTable.get_item\u001b[0;34m()\u001b[0m\n",
      "\u001b[0;32mpandas/_libs/hashtable_class_helper.pxi\u001b[0m in \u001b[0;36mpandas._libs.hashtable.Int64HashTable.get_item\u001b[0;34m()\u001b[0m\n",
      "\u001b[0;31mKeyError\u001b[0m: 0"
     ]
    }
   ],
   "source": [
    "for j in range(c[10].shape[0]-1):\n",
    "        \n",
    "    t.append((c[10][j] - c[10][j+1]).days) #밑의 if문이랑 같은 결과야(해본결과, len가 1이면 iiappend안해줘)"
   ]
  },
  {
   "cell_type": "code",
   "execution_count": 252,
   "metadata": {},
   "outputs": [
    {
     "name": "stdout",
     "output_type": "stream",
     "text": [
      "8.868502140045166\n"
     ]
    }
   ],
   "source": [
    "import time\n",
    "\n",
    "start_time = time.time()\n",
    "\n",
    "c = {}\n",
    "t = []\n",
    "for i in range(len(water_train.m_id.unique()[:10])):\n",
    "    c[i] = water_train.biz_dt[water_train.m_id == water_train.m_id.unique()[i]].sort_values(ascending = False)\n",
    "    c[i].reset_index(drop=True)\n",
    "    for j in range(c[i].shape[0]-1):\n",
    "        \n",
    "        t.append((c[i].iloc[j] - c[i].iloc[j+1]).days) #밑의 if문이랑 같은 결과야(해본결과, len가 1이면 iiappend안해줘)\n",
    "\n",
    "        \n",
    "elapsed_time = time.time() - start_time\n",
    "print(elapsed_time)"
   ]
  },
  {
   "cell_type": "code",
   "execution_count": null,
   "metadata": {},
   "outputs": [],
   "source": []
  },
  {
   "cell_type": "code",
   "execution_count": 215,
   "metadata": {},
   "outputs": [
    {
     "data": {
      "text/html": [
       "<div>\n",
       "<style scoped>\n",
       "    .dataframe tbody tr th:only-of-type {\n",
       "        vertical-align: middle;\n",
       "    }\n",
       "\n",
       "    .dataframe tbody tr th {\n",
       "        vertical-align: top;\n",
       "    }\n",
       "\n",
       "    .dataframe thead th {\n",
       "        text-align: right;\n",
       "    }\n",
       "</style>\n",
       "<table border=\"1\" class=\"dataframe\">\n",
       "  <thead>\n",
       "    <tr style=\"text-align: right;\">\n",
       "      <th></th>\n",
       "      <th>Unnamed: 0</th>\n",
       "      <th>biz_dt</th>\n",
       "      <th>m_id</th>\n",
       "      <th>order_price</th>\n",
       "      <th>prod_no</th>\n",
       "      <th>old_admin_category_id</th>\n",
       "      <th>serv_cd</th>\n",
       "    </tr>\n",
       "  </thead>\n",
       "  <tbody>\n",
       "    <tr>\n",
       "      <th>9660568</th>\n",
       "      <td>89660568</td>\n",
       "      <td>2018-07-11 18:01:01</td>\n",
       "      <td>23,526,491</td>\n",
       "      <td>35,000</td>\n",
       "      <td>1,524,740</td>\n",
       "      <td>240,040,102</td>\n",
       "      <td>1</td>\n",
       "    </tr>\n",
       "    <tr>\n",
       "      <th>3862268</th>\n",
       "      <td>83862268</td>\n",
       "      <td>2018-07-01 23:09:22</td>\n",
       "      <td>23,526,491</td>\n",
       "      <td>17,500</td>\n",
       "      <td>1,524,740</td>\n",
       "      <td>240,040,102</td>\n",
       "      <td>1</td>\n",
       "    </tr>\n",
       "    <tr>\n",
       "      <th>225</th>\n",
       "      <td>225</td>\n",
       "      <td>2018-01-01 00:00:54</td>\n",
       "      <td>23,526,491</td>\n",
       "      <td>35,000</td>\n",
       "      <td>1,524,740</td>\n",
       "      <td>240,040,102</td>\n",
       "      <td>1</td>\n",
       "    </tr>\n",
       "  </tbody>\n",
       "</table>\n",
       "</div>"
      ],
      "text/plain": [
       "         Unnamed: 0              biz_dt        m_id order_price    prod_no  \\\n",
       "9660568    89660568 2018-07-11 18:01:01  23,526,491      35,000  1,524,740   \n",
       "3862268    83862268 2018-07-01 23:09:22  23,526,491      17,500  1,524,740   \n",
       "225             225 2018-01-01 00:00:54  23,526,491      35,000  1,524,740   \n",
       "\n",
       "        old_admin_category_id  serv_cd  \n",
       "9660568           240,040,102        1  \n",
       "3862268           240,040,102        1  \n",
       "225               240,040,102        1  "
      ]
     },
     "execution_count": 215,
     "metadata": {},
     "output_type": "execute_result"
    }
   ],
   "source": [
    "c[2]"
   ]
  },
  {
   "cell_type": "code",
   "execution_count": 234,
   "metadata": {},
   "outputs": [
    {
     "data": {
      "text/plain": [
       "pandas.core.series.Series"
      ]
     },
     "execution_count": 234,
     "metadata": {},
     "output_type": "execute_result"
    }
   ],
   "source": [
    "c[2].order_price == '17,500'"
   ]
  },
  {
   "cell_type": "code",
   "execution_count": 232,
   "metadata": {},
   "outputs": [
    {
     "data": {
      "text/html": [
       "<div>\n",
       "<style scoped>\n",
       "    .dataframe tbody tr th:only-of-type {\n",
       "        vertical-align: middle;\n",
       "    }\n",
       "\n",
       "    .dataframe tbody tr th {\n",
       "        vertical-align: top;\n",
       "    }\n",
       "\n",
       "    .dataframe thead th {\n",
       "        text-align: right;\n",
       "    }\n",
       "</style>\n",
       "<table border=\"1\" class=\"dataframe\">\n",
       "  <thead>\n",
       "    <tr style=\"text-align: right;\">\n",
       "      <th></th>\n",
       "      <th>Unnamed: 0</th>\n",
       "      <th>biz_dt</th>\n",
       "      <th>m_id</th>\n",
       "      <th>order_price</th>\n",
       "      <th>prod_no</th>\n",
       "      <th>old_admin_category_id</th>\n",
       "      <th>serv_cd</th>\n",
       "    </tr>\n",
       "  </thead>\n",
       "  <tbody>\n",
       "    <tr>\n",
       "      <th>3862268</th>\n",
       "      <td>83862268</td>\n",
       "      <td>2018-07-01 23:09:22</td>\n",
       "      <td>23,526,491</td>\n",
       "      <td>17,500</td>\n",
       "      <td>1,524,740</td>\n",
       "      <td>240,040,102</td>\n",
       "      <td>1</td>\n",
       "    </tr>\n",
       "  </tbody>\n",
       "</table>\n",
       "</div>"
      ],
      "text/plain": [
       "         Unnamed: 0              biz_dt        m_id order_price    prod_no  \\\n",
       "3862268    83862268 2018-07-01 23:09:22  23,526,491      17,500  1,524,740   \n",
       "\n",
       "        old_admin_category_id  serv_cd  \n",
       "3862268           240,040,102        1  "
      ]
     },
     "execution_count": 232,
     "metadata": {},
     "output_type": "execute_result"
    }
   ],
   "source": [
    "c[2][c[2].order_price == '17,500']"
   ]
  },
  {
   "cell_type": "code",
   "execution_count": null,
   "metadata": {},
   "outputs": [],
   "source": []
  },
  {
   "cell_type": "code",
   "execution_count": null,
   "metadata": {},
   "outputs": [],
   "source": []
  },
  {
   "cell_type": "code",
   "execution_count": 230,
   "metadata": {},
   "outputs": [
    {
     "data": {
      "text/html": [
       "<div>\n",
       "<style scoped>\n",
       "    .dataframe tbody tr th:only-of-type {\n",
       "        vertical-align: middle;\n",
       "    }\n",
       "\n",
       "    .dataframe tbody tr th {\n",
       "        vertical-align: top;\n",
       "    }\n",
       "\n",
       "    .dataframe thead th {\n",
       "        text-align: right;\n",
       "    }\n",
       "</style>\n",
       "<table border=\"1\" class=\"dataframe\">\n",
       "  <thead>\n",
       "    <tr style=\"text-align: right;\">\n",
       "      <th></th>\n",
       "      <th>Unnamed: 0</th>\n",
       "      <th>biz_dt</th>\n",
       "      <th>m_id</th>\n",
       "      <th>order_price</th>\n",
       "      <th>prod_no</th>\n",
       "      <th>old_admin_category_id</th>\n",
       "      <th>serv_cd</th>\n",
       "    </tr>\n",
       "  </thead>\n",
       "  <tbody>\n",
       "    <tr>\n",
       "      <th>3862268</th>\n",
       "      <td>83862268</td>\n",
       "      <td>2018-07-01 23:09:22</td>\n",
       "      <td>23,526,491</td>\n",
       "      <td>17,500</td>\n",
       "      <td>1,524,740</td>\n",
       "      <td>240,040,102</td>\n",
       "      <td>1</td>\n",
       "    </tr>\n",
       "  </tbody>\n",
       "</table>\n",
       "</div>"
      ],
      "text/plain": [
       "         Unnamed: 0              biz_dt        m_id order_price    prod_no  \\\n",
       "3862268    83862268 2018-07-01 23:09:22  23,526,491      17,500  1,524,740   \n",
       "\n",
       "        old_admin_category_id  serv_cd  \n",
       "3862268           240,040,102        1  "
      ]
     },
     "execution_count": 230,
     "metadata": {},
     "output_type": "execute_result"
    }
   ],
   "source": [
    "c[2][[False,True,False]]"
   ]
  },
  {
   "cell_type": "code",
   "execution_count": 228,
   "metadata": {},
   "outputs": [
    {
     "ename": "KeyError",
     "evalue": "(False, True, False)",
     "output_type": "error",
     "traceback": [
      "\u001b[0;31m---------------------------------------------------------------------------\u001b[0m",
      "\u001b[0;31mTypeError\u001b[0m                                 Traceback (most recent call last)",
      "\u001b[0;32mpandas/_libs/index.pyx\u001b[0m in \u001b[0;36mpandas._libs.index.IndexEngine.get_loc\u001b[0;34m()\u001b[0m\n",
      "\u001b[0;32mpandas/_libs/hashtable_class_helper.pxi\u001b[0m in \u001b[0;36mpandas._libs.hashtable.Int64HashTable.get_item\u001b[0;34m()\u001b[0m\n",
      "\u001b[0;31mTypeError\u001b[0m: an integer is required",
      "\nDuring handling of the above exception, another exception occurred:\n",
      "\u001b[0;31mKeyError\u001b[0m                                  Traceback (most recent call last)",
      "\u001b[0;32m<ipython-input-228-54faafead953>\u001b[0m in \u001b[0;36m<module>\u001b[0;34m()\u001b[0m\n\u001b[0;32m----> 1\u001b[0;31m \u001b[0mc\u001b[0m\u001b[0;34m[\u001b[0m\u001b[0;36m2\u001b[0m\u001b[0;34m]\u001b[0m\u001b[0;34m[\u001b[0m\u001b[0;34m'biz_dt'\u001b[0m\u001b[0;34m]\u001b[0m\u001b[0;34m[\u001b[0m\u001b[0;32mFalse\u001b[0m\u001b[0;34m,\u001b[0m\u001b[0;32mTrue\u001b[0m\u001b[0;34m,\u001b[0m\u001b[0;32mFalse\u001b[0m\u001b[0;34m]\u001b[0m\u001b[0;34m\u001b[0m\u001b[0m\n\u001b[0m",
      "\u001b[0;32m/anaconda3/lib/python3.6/site-packages/pandas/core/series.py\u001b[0m in \u001b[0;36m__getitem__\u001b[0;34m(self, key)\u001b[0m\n\u001b[1;32m    765\u001b[0m         \u001b[0mkey\u001b[0m \u001b[0;34m=\u001b[0m \u001b[0mcom\u001b[0m\u001b[0;34m.\u001b[0m\u001b[0m_apply_if_callable\u001b[0m\u001b[0;34m(\u001b[0m\u001b[0mkey\u001b[0m\u001b[0;34m,\u001b[0m \u001b[0mself\u001b[0m\u001b[0;34m)\u001b[0m\u001b[0;34m\u001b[0m\u001b[0m\n\u001b[1;32m    766\u001b[0m         \u001b[0;32mtry\u001b[0m\u001b[0;34m:\u001b[0m\u001b[0;34m\u001b[0m\u001b[0m\n\u001b[0;32m--> 767\u001b[0;31m             \u001b[0mresult\u001b[0m \u001b[0;34m=\u001b[0m \u001b[0mself\u001b[0m\u001b[0;34m.\u001b[0m\u001b[0mindex\u001b[0m\u001b[0;34m.\u001b[0m\u001b[0mget_value\u001b[0m\u001b[0;34m(\u001b[0m\u001b[0mself\u001b[0m\u001b[0;34m,\u001b[0m \u001b[0mkey\u001b[0m\u001b[0;34m)\u001b[0m\u001b[0;34m\u001b[0m\u001b[0m\n\u001b[0m\u001b[1;32m    768\u001b[0m \u001b[0;34m\u001b[0m\u001b[0m\n\u001b[1;32m    769\u001b[0m             \u001b[0;32mif\u001b[0m \u001b[0;32mnot\u001b[0m \u001b[0mis_scalar\u001b[0m\u001b[0;34m(\u001b[0m\u001b[0mresult\u001b[0m\u001b[0;34m)\u001b[0m\u001b[0;34m:\u001b[0m\u001b[0;34m\u001b[0m\u001b[0m\n",
      "\u001b[0;32m/anaconda3/lib/python3.6/site-packages/pandas/core/indexes/base.py\u001b[0m in \u001b[0;36mget_value\u001b[0;34m(self, series, key)\u001b[0m\n\u001b[1;32m   3116\u001b[0m         \u001b[0;32mtry\u001b[0m\u001b[0;34m:\u001b[0m\u001b[0;34m\u001b[0m\u001b[0m\n\u001b[1;32m   3117\u001b[0m             return self._engine.get_value(s, k,\n\u001b[0;32m-> 3118\u001b[0;31m                                           tz=getattr(series.dtype, 'tz', None))\n\u001b[0m\u001b[1;32m   3119\u001b[0m         \u001b[0;32mexcept\u001b[0m \u001b[0mKeyError\u001b[0m \u001b[0;32mas\u001b[0m \u001b[0me1\u001b[0m\u001b[0;34m:\u001b[0m\u001b[0;34m\u001b[0m\u001b[0m\n\u001b[1;32m   3120\u001b[0m             \u001b[0;32mif\u001b[0m \u001b[0mlen\u001b[0m\u001b[0;34m(\u001b[0m\u001b[0mself\u001b[0m\u001b[0;34m)\u001b[0m \u001b[0;34m>\u001b[0m \u001b[0;36m0\u001b[0m \u001b[0;32mand\u001b[0m \u001b[0mself\u001b[0m\u001b[0;34m.\u001b[0m\u001b[0minferred_type\u001b[0m \u001b[0;32min\u001b[0m \u001b[0;34m[\u001b[0m\u001b[0;34m'integer'\u001b[0m\u001b[0;34m,\u001b[0m \u001b[0;34m'boolean'\u001b[0m\u001b[0;34m]\u001b[0m\u001b[0;34m:\u001b[0m\u001b[0;34m\u001b[0m\u001b[0m\n",
      "\u001b[0;32mpandas/_libs/index.pyx\u001b[0m in \u001b[0;36mpandas._libs.index.IndexEngine.get_value\u001b[0;34m()\u001b[0m\n",
      "\u001b[0;32mpandas/_libs/index.pyx\u001b[0m in \u001b[0;36mpandas._libs.index.IndexEngine.get_value\u001b[0;34m()\u001b[0m\n",
      "\u001b[0;32mpandas/_libs/index.pyx\u001b[0m in \u001b[0;36mpandas._libs.index.IndexEngine.get_loc\u001b[0;34m()\u001b[0m\n",
      "\u001b[0;31mKeyError\u001b[0m: (False, True, False)"
     ]
    }
   ],
   "source": [
    "c[2]['biz_dt'][False,True,False]"
   ]
  },
  {
   "cell_type": "markdown",
   "metadata": {},
   "source": [
    "# ***"
   ]
  },
  {
   "cell_type": "code",
   "execution_count": 237,
   "metadata": {},
   "outputs": [
    {
     "data": {
      "text/plain": [
       "0   2018-07-11 18:01:01\n",
       "1   2018-07-01 23:09:22\n",
       "2   2018-01-01 00:00:54\n",
       "Name: biz_dt, dtype: datetime64[ns]"
      ]
     },
     "execution_count": 237,
     "metadata": {},
     "output_type": "execute_result"
    }
   ],
   "source": [
    "c[2]['biz_dt'].reset_index(drop=True)"
   ]
  },
  {
   "cell_type": "code",
   "execution_count": null,
   "metadata": {},
   "outputs": [],
   "source": [
    "c[2]['biz_dt'].reset_index(drop=True).sort_values(ascending=False)"
   ]
  },
  {
   "cell_type": "markdown",
   "metadata": {},
   "source": [
    "# ***"
   ]
  },
  {
   "cell_type": "code",
   "execution_count": 222,
   "metadata": {
    "scrolled": true
   },
   "outputs": [
    {
     "data": {
      "text/plain": [
       "Timestamp('2018-07-11 18:01:01')"
      ]
     },
     "execution_count": 222,
     "metadata": {},
     "output_type": "execute_result"
    }
   ],
   "source": [
    "c[2]['biz_dt'].reset_index(drop=True)[0]"
   ]
  },
  {
   "cell_type": "markdown",
   "metadata": {},
   "source": [
    "---"
   ]
  },
  {
   "cell_type": "code",
   "execution_count": null,
   "metadata": {},
   "outputs": [],
   "source": []
  },
  {
   "cell_type": "code",
   "execution_count": null,
   "metadata": {},
   "outputs": [],
   "source": []
  },
  {
   "cell_type": "code",
   "execution_count": 218,
   "metadata": {},
   "outputs": [
    {
     "data": {
      "text/plain": [
       "Timestamp('2018-07-11 18:01:01')"
      ]
     },
     "execution_count": 218,
     "metadata": {},
     "output_type": "execute_result"
    }
   ],
   "source": [
    "c[2]['biz_dt'][9660568]"
   ]
  },
  {
   "cell_type": "code",
   "execution_count": 189,
   "metadata": {},
   "outputs": [
    {
     "data": {
      "text/plain": [
       "9660568   2018-07-11 18:01:01\n",
       "Name: biz_dt, dtype: datetime64[ns]"
      ]
     },
     "execution_count": 189,
     "metadata": {},
     "output_type": "execute_result"
    }
   ],
   "source": [
    "c[2]['biz_dt'][0:1]"
   ]
  },
  {
   "cell_type": "code",
   "execution_count": 211,
   "metadata": {},
   "outputs": [],
   "source": [
    "xxx = c[2].biz_dt"
   ]
  },
  {
   "cell_type": "code",
   "execution_count": 212,
   "metadata": {},
   "outputs": [
    {
     "data": {
      "text/plain": [
       "9660568   2018-07-11 18:01:01\n",
       "3862268   2018-07-01 23:09:22\n",
       "225       2018-01-01 00:00:54\n",
       "Name: biz_dt, dtype: datetime64[ns]"
      ]
     },
     "execution_count": 212,
     "metadata": {},
     "output_type": "execute_result"
    }
   ],
   "source": [
    "xxx"
   ]
  },
  {
   "cell_type": "code",
   "execution_count": null,
   "metadata": {},
   "outputs": [],
   "source": [
    "xxx."
   ]
  },
  {
   "cell_type": "code",
   "execution_count": 213,
   "metadata": {},
   "outputs": [],
   "source": [
    "xxx = (xxx.values[0]-xxx.values[1])"
   ]
  },
  {
   "cell_type": "code",
   "execution_count": 214,
   "metadata": {},
   "outputs": [
    {
     "data": {
      "text/plain": [
       "numpy.timedelta64(845499000000000,'ns')"
      ]
     },
     "execution_count": 214,
     "metadata": {},
     "output_type": "execute_result"
    }
   ],
   "source": [
    "xxx"
   ]
  },
  {
   "cell_type": "code",
   "execution_count": 192,
   "metadata": {},
   "outputs": [
    {
     "data": {
      "text/plain": [
       "9660568   2018-07-11 18:01:01\n",
       "Name: biz_dt, dtype: datetime64[ns]"
      ]
     },
     "execution_count": 192,
     "metadata": {},
     "output_type": "execute_result"
    }
   ],
   "source": [
    "c[2].biz_dt[0:1]"
   ]
  },
  {
   "cell_type": "code",
   "execution_count": 187,
   "metadata": {},
   "outputs": [
    {
     "data": {
      "text/html": [
       "<div>\n",
       "<style scoped>\n",
       "    .dataframe tbody tr th:only-of-type {\n",
       "        vertical-align: middle;\n",
       "    }\n",
       "\n",
       "    .dataframe tbody tr th {\n",
       "        vertical-align: top;\n",
       "    }\n",
       "\n",
       "    .dataframe thead th {\n",
       "        text-align: right;\n",
       "    }\n",
       "</style>\n",
       "<table border=\"1\" class=\"dataframe\">\n",
       "  <thead>\n",
       "    <tr style=\"text-align: right;\">\n",
       "      <th></th>\n",
       "      <th>biz_dt</th>\n",
       "    </tr>\n",
       "  </thead>\n",
       "  <tbody>\n",
       "    <tr>\n",
       "      <th>9660568</th>\n",
       "      <td>2018-07-11 18:01:01</td>\n",
       "    </tr>\n",
       "    <tr>\n",
       "      <th>3862268</th>\n",
       "      <td>2018-07-01 23:09:22</td>\n",
       "    </tr>\n",
       "    <tr>\n",
       "      <th>225</th>\n",
       "      <td>2018-01-01 00:00:54</td>\n",
       "    </tr>\n",
       "  </tbody>\n",
       "</table>\n",
       "</div>"
      ],
      "text/plain": [
       "                     biz_dt\n",
       "9660568 2018-07-11 18:01:01\n",
       "3862268 2018-07-01 23:09:22\n",
       "225     2018-01-01 00:00:54"
      ]
     },
     "execution_count": 187,
     "metadata": {},
     "output_type": "execute_result"
    }
   ],
   "source": [
    "c[2][['biz_dt']]"
   ]
  },
  {
   "cell_type": "code",
   "execution_count": null,
   "metadata": {},
   "outputs": [],
   "source": []
  },
  {
   "cell_type": "code",
   "execution_count": 105,
   "metadata": {},
   "outputs": [],
   "source": [
    "x = [1,2,3]"
   ]
  },
  {
   "cell_type": "code",
   "execution_count": null,
   "metadata": {},
   "outputs": [],
   "source": []
  },
  {
   "cell_type": "code",
   "execution_count": 110,
   "metadata": {},
   "outputs": [
    {
     "data": {
      "text/plain": [
       "[3, 5, 7]"
      ]
     },
     "execution_count": 110,
     "metadata": {},
     "output_type": "execute_result"
    }
   ],
   "source": [
    "[i+(i+1) for i in x]"
   ]
  },
  {
   "cell_type": "code",
   "execution_count": null,
   "metadata": {},
   "outputs": [],
   "source": []
  },
  {
   "cell_type": "code",
   "execution_count": 122,
   "metadata": {},
   "outputs": [],
   "source": [
    "a = {'x':[1,2,3]}"
   ]
  },
  {
   "cell_type": "code",
   "execution_count": 123,
   "metadata": {},
   "outputs": [],
   "source": [
    "a = pd.DataFrame(a)"
   ]
  },
  {
   "cell_type": "code",
   "execution_count": 124,
   "metadata": {},
   "outputs": [
    {
     "data": {
      "text/plain": [
       "Index(['x'], dtype='object')"
      ]
     },
     "execution_count": 124,
     "metadata": {},
     "output_type": "execute_result"
    }
   ],
   "source": [
    "a.columns"
   ]
  },
  {
   "cell_type": "code",
   "execution_count": 125,
   "metadata": {},
   "outputs": [
    {
     "data": {
      "text/plain": [
       "0    1\n",
       "1    2\n",
       "2    3\n",
       "Name: x, dtype: int64"
      ]
     },
     "execution_count": 125,
     "metadata": {},
     "output_type": "execute_result"
    }
   ],
   "source": [
    "a.x"
   ]
  },
  {
   "cell_type": "code",
   "execution_count": 131,
   "metadata": {},
   "outputs": [],
   "source": [
    "gen = (i**2 for i in a.x)"
   ]
  },
  {
   "cell_type": "code",
   "execution_count": 132,
   "metadata": {},
   "outputs": [],
   "source": [
    "aa = []"
   ]
  },
  {
   "cell_type": "code",
   "execution_count": 133,
   "metadata": {},
   "outputs": [],
   "source": [
    "aa.append(next(gen))"
   ]
  },
  {
   "cell_type": "code",
   "execution_count": 134,
   "metadata": {},
   "outputs": [
    {
     "data": {
      "text/plain": [
       "[1]"
      ]
     },
     "execution_count": 134,
     "metadata": {},
     "output_type": "execute_result"
    }
   ],
   "source": [
    "aa"
   ]
  },
  {
   "cell_type": "code",
   "execution_count": 135,
   "metadata": {},
   "outputs": [],
   "source": [
    "aa.append(next(gen))"
   ]
  },
  {
   "cell_type": "code",
   "execution_count": 136,
   "metadata": {},
   "outputs": [
    {
     "data": {
      "text/plain": [
       "[1, 4]"
      ]
     },
     "execution_count": 136,
     "metadata": {},
     "output_type": "execute_result"
    }
   ],
   "source": [
    "aa"
   ]
  },
  {
   "cell_type": "code",
   "execution_count": 137,
   "metadata": {},
   "outputs": [],
   "source": [
    "aa.append(next(gen))"
   ]
  },
  {
   "cell_type": "code",
   "execution_count": 138,
   "metadata": {},
   "outputs": [
    {
     "data": {
      "text/plain": [
       "[1, 4, 9]"
      ]
     },
     "execution_count": 138,
     "metadata": {},
     "output_type": "execute_result"
    }
   ],
   "source": [
    "aa"
   ]
  },
  {
   "cell_type": "code",
   "execution_count": null,
   "metadata": {},
   "outputs": [],
   "source": []
  },
  {
   "cell_type": "code",
   "execution_count": 139,
   "metadata": {},
   "outputs": [
    {
     "data": {
      "text/html": [
       "<div>\n",
       "<style scoped>\n",
       "    .dataframe tbody tr th:only-of-type {\n",
       "        vertical-align: middle;\n",
       "    }\n",
       "\n",
       "    .dataframe tbody tr th {\n",
       "        vertical-align: top;\n",
       "    }\n",
       "\n",
       "    .dataframe thead th {\n",
       "        text-align: right;\n",
       "    }\n",
       "</style>\n",
       "<table border=\"1\" class=\"dataframe\">\n",
       "  <thead>\n",
       "    <tr style=\"text-align: right;\">\n",
       "      <th></th>\n",
       "      <th>x</th>\n",
       "    </tr>\n",
       "  </thead>\n",
       "  <tbody>\n",
       "    <tr>\n",
       "      <th>0</th>\n",
       "      <td>1</td>\n",
       "    </tr>\n",
       "    <tr>\n",
       "      <th>1</th>\n",
       "      <td>2</td>\n",
       "    </tr>\n",
       "    <tr>\n",
       "      <th>2</th>\n",
       "      <td>3</td>\n",
       "    </tr>\n",
       "  </tbody>\n",
       "</table>\n",
       "</div>"
      ],
      "text/plain": [
       "   x\n",
       "0  1\n",
       "1  2\n",
       "2  3"
      ]
     },
     "execution_count": 139,
     "metadata": {},
     "output_type": "execute_result"
    }
   ],
   "source": [
    "a"
   ]
  },
  {
   "cell_type": "code",
   "execution_count": 141,
   "metadata": {},
   "outputs": [
    {
     "data": {
      "text/plain": [
       "1"
      ]
     },
     "execution_count": 141,
     "metadata": {},
     "output_type": "execute_result"
    }
   ],
   "source": [
    "a['x'][0]"
   ]
  },
  {
   "cell_type": "code",
   "execution_count": 142,
   "metadata": {},
   "outputs": [
    {
     "data": {
      "text/html": [
       "<div>\n",
       "<style scoped>\n",
       "    .dataframe tbody tr th:only-of-type {\n",
       "        vertical-align: middle;\n",
       "    }\n",
       "\n",
       "    .dataframe tbody tr th {\n",
       "        vertical-align: top;\n",
       "    }\n",
       "\n",
       "    .dataframe thead th {\n",
       "        text-align: right;\n",
       "    }\n",
       "</style>\n",
       "<table border=\"1\" class=\"dataframe\">\n",
       "  <thead>\n",
       "    <tr style=\"text-align: right;\">\n",
       "      <th></th>\n",
       "      <th>Unnamed: 0</th>\n",
       "      <th>biz_dt</th>\n",
       "      <th>m_id</th>\n",
       "      <th>order_price</th>\n",
       "      <th>prod_no</th>\n",
       "      <th>old_admin_category_id</th>\n",
       "      <th>serv_cd</th>\n",
       "    </tr>\n",
       "  </thead>\n",
       "  <tbody>\n",
       "    <tr>\n",
       "      <th>9109833</th>\n",
       "      <td>99109833</td>\n",
       "      <td>2018-07-31 23:59:15</td>\n",
       "      <td>14,664,716</td>\n",
       "      <td>9,900</td>\n",
       "      <td>3,130,860</td>\n",
       "      <td>240,040,102</td>\n",
       "      <td>1</td>\n",
       "    </tr>\n",
       "    <tr>\n",
       "      <th>9109899</th>\n",
       "      <td>99109899</td>\n",
       "      <td>2018-07-31 23:59:22</td>\n",
       "      <td>2,787,900</td>\n",
       "      <td>15,500</td>\n",
       "      <td>100,000,108</td>\n",
       "      <td>240,040,102</td>\n",
       "      <td>2</td>\n",
       "    </tr>\n",
       "    <tr>\n",
       "      <th>9109925</th>\n",
       "      <td>99109925</td>\n",
       "      <td>2018-07-31 23:59:24</td>\n",
       "      <td>1,572,198</td>\n",
       "      <td>5,500</td>\n",
       "      <td>101,649,212</td>\n",
       "      <td>240,040,102</td>\n",
       "      <td>2</td>\n",
       "    </tr>\n",
       "    <tr>\n",
       "      <th>9110174</th>\n",
       "      <td>99110174</td>\n",
       "      <td>2018-07-31 23:59:44</td>\n",
       "      <td>2,620,503</td>\n",
       "      <td>5,500</td>\n",
       "      <td>101,649,212</td>\n",
       "      <td>240,040,102</td>\n",
       "      <td>2</td>\n",
       "    </tr>\n",
       "    <tr>\n",
       "      <th>9110323</th>\n",
       "      <td>99110323</td>\n",
       "      <td>2018-07-31 23:59:57</td>\n",
       "      <td>1,277,772</td>\n",
       "      <td>5,900</td>\n",
       "      <td>1,603,302</td>\n",
       "      <td>240,040,102</td>\n",
       "      <td>1</td>\n",
       "    </tr>\n",
       "  </tbody>\n",
       "</table>\n",
       "</div>"
      ],
      "text/plain": [
       "         Unnamed: 0              biz_dt        m_id order_price      prod_no  \\\n",
       "9109833    99109833 2018-07-31 23:59:15  14,664,716       9,900    3,130,860   \n",
       "9109899    99109899 2018-07-31 23:59:22   2,787,900      15,500  100,000,108   \n",
       "9109925    99109925 2018-07-31 23:59:24   1,572,198       5,500  101,649,212   \n",
       "9110174    99110174 2018-07-31 23:59:44   2,620,503       5,500  101,649,212   \n",
       "9110323    99110323 2018-07-31 23:59:57   1,277,772       5,900    1,603,302   \n",
       "\n",
       "        old_admin_category_id  serv_cd  \n",
       "9109833           240,040,102        1  \n",
       "9109899           240,040,102        2  \n",
       "9109925           240,040,102        2  \n",
       "9110174           240,040,102        2  \n",
       "9110323           240,040,102        1  "
      ]
     },
     "execution_count": 142,
     "metadata": {},
     "output_type": "execute_result"
    }
   ],
   "source": [
    "water_train.tail()"
   ]
  },
  {
   "cell_type": "code",
   "execution_count": 144,
   "metadata": {},
   "outputs": [],
   "source": [
    "tail = water_train.tail()"
   ]
  },
  {
   "cell_type": "code",
   "execution_count": 145,
   "metadata": {},
   "outputs": [
    {
     "data": {
      "text/html": [
       "<div>\n",
       "<style scoped>\n",
       "    .dataframe tbody tr th:only-of-type {\n",
       "        vertical-align: middle;\n",
       "    }\n",
       "\n",
       "    .dataframe tbody tr th {\n",
       "        vertical-align: top;\n",
       "    }\n",
       "\n",
       "    .dataframe thead th {\n",
       "        text-align: right;\n",
       "    }\n",
       "</style>\n",
       "<table border=\"1\" class=\"dataframe\">\n",
       "  <thead>\n",
       "    <tr style=\"text-align: right;\">\n",
       "      <th></th>\n",
       "      <th>Unnamed: 0</th>\n",
       "      <th>biz_dt</th>\n",
       "      <th>m_id</th>\n",
       "      <th>order_price</th>\n",
       "      <th>prod_no</th>\n",
       "      <th>old_admin_category_id</th>\n",
       "      <th>serv_cd</th>\n",
       "    </tr>\n",
       "  </thead>\n",
       "  <tbody>\n",
       "    <tr>\n",
       "      <th>9109833</th>\n",
       "      <td>99109833</td>\n",
       "      <td>2018-07-31 23:59:15</td>\n",
       "      <td>14,664,716</td>\n",
       "      <td>9,900</td>\n",
       "      <td>3,130,860</td>\n",
       "      <td>240,040,102</td>\n",
       "      <td>1</td>\n",
       "    </tr>\n",
       "    <tr>\n",
       "      <th>9109899</th>\n",
       "      <td>99109899</td>\n",
       "      <td>2018-07-31 23:59:22</td>\n",
       "      <td>2,787,900</td>\n",
       "      <td>15,500</td>\n",
       "      <td>100,000,108</td>\n",
       "      <td>240,040,102</td>\n",
       "      <td>2</td>\n",
       "    </tr>\n",
       "    <tr>\n",
       "      <th>9109925</th>\n",
       "      <td>99109925</td>\n",
       "      <td>2018-07-31 23:59:24</td>\n",
       "      <td>1,572,198</td>\n",
       "      <td>5,500</td>\n",
       "      <td>101,649,212</td>\n",
       "      <td>240,040,102</td>\n",
       "      <td>2</td>\n",
       "    </tr>\n",
       "    <tr>\n",
       "      <th>9110174</th>\n",
       "      <td>99110174</td>\n",
       "      <td>2018-07-31 23:59:44</td>\n",
       "      <td>2,620,503</td>\n",
       "      <td>5,500</td>\n",
       "      <td>101,649,212</td>\n",
       "      <td>240,040,102</td>\n",
       "      <td>2</td>\n",
       "    </tr>\n",
       "    <tr>\n",
       "      <th>9110323</th>\n",
       "      <td>99110323</td>\n",
       "      <td>2018-07-31 23:59:57</td>\n",
       "      <td>1,277,772</td>\n",
       "      <td>5,900</td>\n",
       "      <td>1,603,302</td>\n",
       "      <td>240,040,102</td>\n",
       "      <td>1</td>\n",
       "    </tr>\n",
       "  </tbody>\n",
       "</table>\n",
       "</div>"
      ],
      "text/plain": [
       "         Unnamed: 0              biz_dt        m_id order_price      prod_no  \\\n",
       "9109833    99109833 2018-07-31 23:59:15  14,664,716       9,900    3,130,860   \n",
       "9109899    99109899 2018-07-31 23:59:22   2,787,900      15,500  100,000,108   \n",
       "9109925    99109925 2018-07-31 23:59:24   1,572,198       5,500  101,649,212   \n",
       "9110174    99110174 2018-07-31 23:59:44   2,620,503       5,500  101,649,212   \n",
       "9110323    99110323 2018-07-31 23:59:57   1,277,772       5,900    1,603,302   \n",
       "\n",
       "        old_admin_category_id  serv_cd  \n",
       "9109833           240,040,102        1  \n",
       "9109899           240,040,102        2  \n",
       "9109925           240,040,102        2  \n",
       "9110174           240,040,102        2  \n",
       "9110323           240,040,102        1  "
      ]
     },
     "execution_count": 145,
     "metadata": {},
     "output_type": "execute_result"
    }
   ],
   "source": [
    "tail"
   ]
  },
  {
   "cell_type": "code",
   "execution_count": 146,
   "metadata": {},
   "outputs": [
    {
     "data": {
      "text/plain": [
       "9109833   2018-07-31 23:59:15\n",
       "9109899   2018-07-31 23:59:22\n",
       "9109925   2018-07-31 23:59:24\n",
       "9110174   2018-07-31 23:59:44\n",
       "9110323   2018-07-31 23:59:57\n",
       "Name: biz_dt, dtype: datetime64[ns]"
      ]
     },
     "execution_count": 146,
     "metadata": {},
     "output_type": "execute_result"
    }
   ],
   "source": [
    "tail['biz_dt']"
   ]
  },
  {
   "cell_type": "code",
   "execution_count": 148,
   "metadata": {},
   "outputs": [
    {
     "data": {
      "text/plain": [
       "9109833   2018-07-31 23:59:15\n",
       "Name: biz_dt, dtype: datetime64[ns]"
      ]
     },
     "execution_count": 148,
     "metadata": {},
     "output_type": "execute_result"
    }
   ],
   "source": [
    "tail['biz_dt'][0:1]"
   ]
  },
  {
   "cell_type": "code",
   "execution_count": 155,
   "metadata": {},
   "outputs": [
    {
     "data": {
      "text/plain": [
       "Unnamed: 0                          99109899\n",
       "biz_dt                   2018-07-31 23:59:22\n",
       "m_id                               2,787,900\n",
       "order_price                           15,500\n",
       "prod_no                          100,000,108\n",
       "old_admin_category_id            240,040,102\n",
       "serv_cd                                    2\n",
       "Name: 9109899, dtype: object"
      ]
     },
     "execution_count": 155,
     "metadata": {},
     "output_type": "execute_result"
    }
   ],
   "source": [
    "tail.iloc[1]"
   ]
  },
  {
   "cell_type": "code",
   "execution_count": 156,
   "metadata": {},
   "outputs": [
    {
     "data": {
      "text/plain": [
       "pandas._libs.tslibs.timestamps.Timestamp"
      ]
     },
     "execution_count": 156,
     "metadata": {},
     "output_type": "execute_result"
    }
   ],
   "source": [
    "tail.iloc[1]['biz_dt']"
   ]
  },
  {
   "cell_type": "code",
   "execution_count": 158,
   "metadata": {},
   "outputs": [
    {
     "data": {
      "text/plain": [
       "9109833   2018-07-31 23:59:15\n",
       "Name: biz_dt, dtype: datetime64[ns]"
      ]
     },
     "execution_count": 158,
     "metadata": {},
     "output_type": "execute_result"
    }
   ],
   "source": [
    "tail[0:1]['biz_dt']"
   ]
  },
  {
   "cell_type": "code",
   "execution_count": 181,
   "metadata": {},
   "outputs": [
    {
     "name": "stdout",
     "output_type": "stream",
     "text": [
      "8.84247899055481\n"
     ]
    }
   ],
   "source": [
    "import time\n",
    "start_time = time.time()\n",
    "\n",
    "c = {}\n",
    "\n",
    "for i in range(len(water_train.m_id.unique()[:10])):\n",
    "    c[i] = water_train[water_train.m_id == water_train.m_id.unique()[i]].sort_values(by = 'biz_dt', ascending = False)\n",
    "    \n",
    "    #gen = (i**2 for i in a.x)\n",
    "    t.append([(c[i].iloc[j]['biz_dt'] - c[i].iloc[j+1]['biz_dt']).days for j in range(c[i].shape[0]-1)])\n",
    "    #t.append((c[i].iloc[j]['biz_dt'] - c[i].iloc[j+1]['biz_dt']).days) #밑의 if문이랑 같은 결과야(해본결과, len가 1이면 iiappend안해줘)\n",
    "\n",
    "            \n",
    "elapsed_time = time.time() - start_time\n",
    "print(elapsed_time)"
   ]
  },
  {
   "cell_type": "code",
   "execution_count": 174,
   "metadata": {},
   "outputs": [
    {
     "data": {
      "text/plain": [
       "[136, [], [80, 37], [9, 181]]"
      ]
     },
     "execution_count": 174,
     "metadata": {},
     "output_type": "execute_result"
    }
   ],
   "source": [
    "t"
   ]
  },
  {
   "cell_type": "code",
   "execution_count": null,
   "metadata": {},
   "outputs": [],
   "source": []
  },
  {
   "cell_type": "code",
   "execution_count": 162,
   "metadata": {},
   "outputs": [],
   "source": [
    "c[2] = water_train[water_train.m_id == water_train.m_id.unique()[2]].sort_values(by = 'biz_dt', ascending = False)"
   ]
  },
  {
   "cell_type": "code",
   "execution_count": 163,
   "metadata": {},
   "outputs": [
    {
     "data": {
      "text/html": [
       "<div>\n",
       "<style scoped>\n",
       "    .dataframe tbody tr th:only-of-type {\n",
       "        vertical-align: middle;\n",
       "    }\n",
       "\n",
       "    .dataframe tbody tr th {\n",
       "        vertical-align: top;\n",
       "    }\n",
       "\n",
       "    .dataframe thead th {\n",
       "        text-align: right;\n",
       "    }\n",
       "</style>\n",
       "<table border=\"1\" class=\"dataframe\">\n",
       "  <thead>\n",
       "    <tr style=\"text-align: right;\">\n",
       "      <th></th>\n",
       "      <th>Unnamed: 0</th>\n",
       "      <th>biz_dt</th>\n",
       "      <th>m_id</th>\n",
       "      <th>order_price</th>\n",
       "      <th>prod_no</th>\n",
       "      <th>old_admin_category_id</th>\n",
       "      <th>serv_cd</th>\n",
       "    </tr>\n",
       "  </thead>\n",
       "  <tbody>\n",
       "    <tr>\n",
       "      <th>9660568</th>\n",
       "      <td>89660568</td>\n",
       "      <td>2018-07-11 18:01:01</td>\n",
       "      <td>23,526,491</td>\n",
       "      <td>35,000</td>\n",
       "      <td>1,524,740</td>\n",
       "      <td>240,040,102</td>\n",
       "      <td>1</td>\n",
       "    </tr>\n",
       "    <tr>\n",
       "      <th>3862268</th>\n",
       "      <td>83862268</td>\n",
       "      <td>2018-07-01 23:09:22</td>\n",
       "      <td>23,526,491</td>\n",
       "      <td>17,500</td>\n",
       "      <td>1,524,740</td>\n",
       "      <td>240,040,102</td>\n",
       "      <td>1</td>\n",
       "    </tr>\n",
       "    <tr>\n",
       "      <th>225</th>\n",
       "      <td>225</td>\n",
       "      <td>2018-01-01 00:00:54</td>\n",
       "      <td>23,526,491</td>\n",
       "      <td>35,000</td>\n",
       "      <td>1,524,740</td>\n",
       "      <td>240,040,102</td>\n",
       "      <td>1</td>\n",
       "    </tr>\n",
       "  </tbody>\n",
       "</table>\n",
       "</div>"
      ],
      "text/plain": [
       "         Unnamed: 0              biz_dt        m_id order_price    prod_no  \\\n",
       "9660568    89660568 2018-07-11 18:01:01  23,526,491      35,000  1,524,740   \n",
       "3862268    83862268 2018-07-01 23:09:22  23,526,491      17,500  1,524,740   \n",
       "225             225 2018-01-01 00:00:54  23,526,491      35,000  1,524,740   \n",
       "\n",
       "        old_admin_category_id  serv_cd  \n",
       "9660568           240,040,102        1  \n",
       "3862268           240,040,102        1  \n",
       "225               240,040,102        1  "
      ]
     },
     "execution_count": 163,
     "metadata": {},
     "output_type": "execute_result"
    }
   ],
   "source": [
    "c[2]"
   ]
  },
  {
   "cell_type": "code",
   "execution_count": 168,
   "metadata": {},
   "outputs": [
    {
     "data": {
      "text/plain": [
       "[9, 181]"
      ]
     },
     "execution_count": 168,
     "metadata": {},
     "output_type": "execute_result"
    }
   ],
   "source": [
    "[(c[2].iloc[j]['biz_dt'] - c[2].iloc[j+1]['biz_dt']).days for j in range(c[2].shape[0]-1)]"
   ]
  },
  {
   "cell_type": "code",
   "execution_count": 164,
   "metadata": {},
   "outputs": [],
   "source": [
    "gen = ((c[2].iloc[j]['biz_dt'] - c[2].iloc[j+1]['biz_dt']).days for j in range(c[2].shape[0]-1))"
   ]
  },
  {
   "cell_type": "code",
   "execution_count": 165,
   "metadata": {},
   "outputs": [
    {
     "data": {
      "text/plain": [
       "9"
      ]
     },
     "execution_count": 165,
     "metadata": {},
     "output_type": "execute_result"
    }
   ],
   "source": [
    "next(gen)"
   ]
  },
  {
   "cell_type": "code",
   "execution_count": 166,
   "metadata": {},
   "outputs": [
    {
     "data": {
      "text/plain": [
       "181"
      ]
     },
     "execution_count": 166,
     "metadata": {},
     "output_type": "execute_result"
    }
   ],
   "source": [
    "next(gen)"
   ]
  },
  {
   "cell_type": "code",
   "execution_count": 167,
   "metadata": {},
   "outputs": [
    {
     "ename": "StopIteration",
     "evalue": "",
     "output_type": "error",
     "traceback": [
      "\u001b[0;31m---------------------------------------------------------------------------\u001b[0m",
      "\u001b[0;31mStopIteration\u001b[0m                             Traceback (most recent call last)",
      "\u001b[0;32m<ipython-input-167-6e72e47198db>\u001b[0m in \u001b[0;36m<module>\u001b[0;34m()\u001b[0m\n\u001b[0;32m----> 1\u001b[0;31m \u001b[0mnext\u001b[0m\u001b[0;34m(\u001b[0m\u001b[0mgen\u001b[0m\u001b[0;34m)\u001b[0m\u001b[0;34m\u001b[0m\u001b[0m\n\u001b[0m",
      "\u001b[0;31mStopIteration\u001b[0m: "
     ]
    }
   ],
   "source": [
    "next(gen)"
   ]
  },
  {
   "cell_type": "code",
   "execution_count": 175,
   "metadata": {},
   "outputs": [
    {
     "data": {
      "text/html": [
       "<div>\n",
       "<style scoped>\n",
       "    .dataframe tbody tr th:only-of-type {\n",
       "        vertical-align: middle;\n",
       "    }\n",
       "\n",
       "    .dataframe tbody tr th {\n",
       "        vertical-align: top;\n",
       "    }\n",
       "\n",
       "    .dataframe thead th {\n",
       "        text-align: right;\n",
       "    }\n",
       "</style>\n",
       "<table border=\"1\" class=\"dataframe\">\n",
       "  <thead>\n",
       "    <tr style=\"text-align: right;\">\n",
       "      <th></th>\n",
       "      <th>Unnamed: 0</th>\n",
       "      <th>biz_dt</th>\n",
       "      <th>m_id</th>\n",
       "      <th>order_price</th>\n",
       "      <th>prod_no</th>\n",
       "      <th>old_admin_category_id</th>\n",
       "      <th>serv_cd</th>\n",
       "    </tr>\n",
       "  </thead>\n",
       "  <tbody>\n",
       "    <tr>\n",
       "      <th>9660568</th>\n",
       "      <td>89660568</td>\n",
       "      <td>2018-07-11 18:01:01</td>\n",
       "      <td>23,526,491</td>\n",
       "      <td>35,000</td>\n",
       "      <td>1,524,740</td>\n",
       "      <td>240,040,102</td>\n",
       "      <td>1</td>\n",
       "    </tr>\n",
       "    <tr>\n",
       "      <th>3862268</th>\n",
       "      <td>83862268</td>\n",
       "      <td>2018-07-01 23:09:22</td>\n",
       "      <td>23,526,491</td>\n",
       "      <td>17,500</td>\n",
       "      <td>1,524,740</td>\n",
       "      <td>240,040,102</td>\n",
       "      <td>1</td>\n",
       "    </tr>\n",
       "    <tr>\n",
       "      <th>225</th>\n",
       "      <td>225</td>\n",
       "      <td>2018-01-01 00:00:54</td>\n",
       "      <td>23,526,491</td>\n",
       "      <td>35,000</td>\n",
       "      <td>1,524,740</td>\n",
       "      <td>240,040,102</td>\n",
       "      <td>1</td>\n",
       "    </tr>\n",
       "  </tbody>\n",
       "</table>\n",
       "</div>"
      ],
      "text/plain": [
       "         Unnamed: 0              biz_dt        m_id order_price    prod_no  \\\n",
       "9660568    89660568 2018-07-11 18:01:01  23,526,491      35,000  1,524,740   \n",
       "3862268    83862268 2018-07-01 23:09:22  23,526,491      17,500  1,524,740   \n",
       "225             225 2018-01-01 00:00:54  23,526,491      35,000  1,524,740   \n",
       "\n",
       "        old_admin_category_id  serv_cd  \n",
       "9660568           240,040,102        1  \n",
       "3862268           240,040,102        1  \n",
       "225               240,040,102        1  "
      ]
     },
     "execution_count": 175,
     "metadata": {},
     "output_type": "execute_result"
    }
   ],
   "source": [
    "c[2]"
   ]
  },
  {
   "cell_type": "code",
   "execution_count": null,
   "metadata": {},
   "outputs": [],
   "source": [
    "c[2]"
   ]
  },
  {
   "cell_type": "code",
   "execution_count": 178,
   "metadata": {
    "scrolled": true
   },
   "outputs": [
    {
     "ename": "SyntaxError",
     "evalue": "invalid syntax (<ipython-input-178-7ba79c551a77>, line 1)",
     "output_type": "error",
     "traceback": [
      "\u001b[0;36m  File \u001b[0;32m\"<ipython-input-178-7ba79c551a77>\"\u001b[0;36m, line \u001b[0;32m1\u001b[0m\n\u001b[0;31m    c[2].'biz_dt'.shift()\u001b[0m\n\u001b[0m                ^\u001b[0m\n\u001b[0;31mSyntaxError\u001b[0m\u001b[0;31m:\u001b[0m invalid syntax\n"
     ]
    }
   ],
   "source": [
    "c[2].'biz_dt'.shift()"
   ]
  },
  {
   "cell_type": "code",
   "execution_count": null,
   "metadata": {},
   "outputs": [],
   "source": [
    "t = pd.DataFrame(users)\n",
    "users.to_csv('users.csv')"
   ]
  },
  {
   "cell_type": "code",
   "execution_count": 30,
   "metadata": {
    "scrolled": true
   },
   "outputs": [
    {
     "data": {
      "text/plain": [
       "[80,\n",
       " 37,\n",
       " 34,\n",
       " 24,\n",
       " 12,\n",
       " 25,\n",
       " 22,\n",
       " 31,\n",
       " 19,\n",
       " 7,\n",
       " 13,\n",
       " 12,\n",
       " 16,\n",
       " 11,\n",
       " 19,\n",
       " 7,\n",
       " 53,\n",
       " 85,\n",
       " 24,\n",
       " 6,\n",
       " 9,\n",
       " 6,\n",
       " 12,\n",
       " 9,\n",
       " 9,\n",
       " 9,\n",
       " 4,\n",
       " 6,\n",
       " 29,\n",
       " 32,\n",
       " 34,\n",
       " 34,\n",
       " 31]"
      ]
     },
     "execution_count": 30,
     "metadata": {},
     "output_type": "execute_result"
    }
   ],
   "source": [
    "t"
   ]
  },
  {
   "cell_type": "code",
   "execution_count": 124,
   "metadata": {},
   "outputs": [
    {
     "data": {
      "text/plain": [
       "[80,\n",
       " 37,\n",
       " 34,\n",
       " 24,\n",
       " 12,\n",
       " 25,\n",
       " 22,\n",
       " 31,\n",
       " 19,\n",
       " 7,\n",
       " 13,\n",
       " 12,\n",
       " 16,\n",
       " 11,\n",
       " 19,\n",
       " 7,\n",
       " 53,\n",
       " 85,\n",
       " 24,\n",
       " 6,\n",
       " 9,\n",
       " 6,\n",
       " 12,\n",
       " 9,\n",
       " 9,\n",
       " 9,\n",
       " 4,\n",
       " 6,\n",
       " 29,\n",
       " 32,\n",
       " 34,\n",
       " 34,\n",
       " 31,\n",
       " 91,\n",
       " 6,\n",
       " 9,\n",
       " 18,\n",
       " 11,\n",
       " 12,\n",
       " 10,\n",
       " 11,\n",
       " 18,\n",
       " 18,\n",
       " 19,\n",
       " 11,\n",
       " 7,\n",
       " 6,\n",
       " 6,\n",
       " 7,\n",
       " 7,\n",
       " 6,\n",
       " 7,\n",
       " 6,\n",
       " 5,\n",
       " 0,\n",
       " 0,\n",
       " 7,\n",
       " 7,\n",
       " 6,\n",
       " 7,\n",
       " 7,\n",
       " 6,\n",
       " 12,\n",
       " 10,\n",
       " 6,\n",
       " 7,\n",
       " 6,\n",
       " 7,\n",
       " 6,\n",
       " 30,\n",
       " 29,\n",
       " 30,\n",
       " 59,\n",
       " 17,\n",
       " 29,\n",
       " 31,\n",
       " 27,\n",
       " 31,\n",
       " 0,\n",
       " 0,\n",
       " 1,\n",
       " 0,\n",
       " 0,\n",
       " 0,\n",
       " 0,\n",
       " 0,\n",
       " 0,\n",
       " 0,\n",
       " 30,\n",
       " 30,\n",
       " 32,\n",
       " 21,\n",
       " 35,\n",
       " 30,\n",
       " 88,\n",
       " 32,\n",
       " 91,\n",
       " 59,\n",
       " 31,\n",
       " 0,\n",
       " 15,\n",
       " 14,\n",
       " 31,\n",
       " 0,\n",
       " 26,\n",
       " 32,\n",
       " 10,\n",
       " 11,\n",
       " 0,\n",
       " 18,\n",
       " 15,\n",
       " 14,\n",
       " 12,\n",
       " 10,\n",
       " 7,\n",
       " 9,\n",
       " 18,\n",
       " 15,\n",
       " 15,\n",
       " 0,\n",
       " 2,\n",
       " 46,\n",
       " 89,\n",
       " 17,\n",
       " 65,\n",
       " 15,\n",
       " 106,\n",
       " 43,\n",
       " 61,\n",
       " 59,\n",
       " 61,\n",
       " 9,\n",
       " 3,\n",
       " 0,\n",
       " 37,\n",
       " 0,\n",
       " 29,\n",
       " 41,\n",
       " 19,\n",
       " 0,\n",
       " 30,\n",
       " 13,\n",
       " 31,\n",
       " 5,\n",
       " 24,\n",
       " 59,\n",
       " 30,\n",
       " 12,\n",
       " 4,\n",
       " 18,\n",
       " 2,\n",
       " 80,\n",
       " 14,\n",
       " 0,\n",
       " 0,\n",
       " 52,\n",
       " 10,\n",
       " 40,\n",
       " 22,\n",
       " 41,\n",
       " 48,\n",
       " 102,\n",
       " 27,\n",
       " 15,\n",
       " 24,\n",
       " 11,\n",
       " 16,\n",
       " 14,\n",
       " 16,\n",
       " 12,\n",
       " 58,\n",
       " 93,\n",
       " 53,\n",
       " 43,\n",
       " 57,\n",
       " 14,\n",
       " 46,\n",
       " 59,\n",
       " 33,\n",
       " 61,\n",
       " 62,\n",
       " 0,\n",
       " 38,\n",
       " 22,\n",
       " 23,\n",
       " 35,\n",
       " 93,\n",
       " 2,\n",
       " 31,\n",
       " 29,\n",
       " 5,\n",
       " 25,\n",
       " 6,\n",
       " 21,\n",
       " 31,\n",
       " 136]"
      ]
     },
     "execution_count": 124,
     "metadata": {},
     "output_type": "execute_result"
    }
   ],
   "source": [
    "t"
   ]
  },
  {
   "cell_type": "code",
   "execution_count": 130,
   "metadata": {},
   "outputs": [
    {
     "data": {
      "text/plain": [
       "196"
      ]
     },
     "execution_count": 130,
     "metadata": {},
     "output_type": "execute_result"
    }
   ],
   "source": [
    "len(t)"
   ]
  },
  {
   "cell_type": "code",
   "execution_count": 131,
   "metadata": {},
   "outputs": [
    {
     "data": {
      "text/plain": [
       "array([[<matplotlib.axes._subplots.AxesSubplot object at 0x1196c7550>]],\n",
       "      dtype=object)"
      ]
     },
     "execution_count": 131,
     "metadata": {},
     "output_type": "execute_result"
    },
    {
     "data": {
      "image/png": "[encoded data removed]",
      "text/plain": [
       "<Figure size 432x288 with 1 Axes>"
      ]
     },
     "metadata": {
      "needs_background": "light"
     },
     "output_type": "display_data"
    }
   ],
   "source": [
    "pd.DataFrame(t).hist(bins=30)"
   ]
  },
  {
   "cell_type": "code",
   "execution_count": null,
   "metadata": {},
   "outputs": [],
   "source": []
  },
  {
   "cell_type": "code",
   "execution_count": null,
   "metadata": {},
   "outputs": [],
   "source": []
  },
  {
   "cell_type": "code",
   "execution_count": null,
   "metadata": {},
   "outputs": [],
   "source": []
  },
  {
   "cell_type": "code",
   "execution_count": null,
   "metadata": {},
   "outputs": [],
   "source": []
  },
  {
   "cell_type": "code",
   "execution_count": null,
   "metadata": {},
   "outputs": [],
   "source": []
  },
  {
   "cell_type": "code",
   "execution_count": null,
   "metadata": {},
   "outputs": [],
   "source": []
  }
 ],
 "metadata": {
  "kernelspec": {
   "display_name": "Python 3",
   "language": "python",
   "name": "python3"
  },
  "language_info": {
   "codemirror_mode": {
    "name": "ipython",
    "version": 3
   },
   "file_extension": ".py",
   "mimetype": "text/x-python",
   "name": "python",
   "nbconvert_exporter": "python",
   "pygments_lexer": "ipython3",
   "version": "3.6.6"
  }
 },
 "nbformat": 4,
 "nbformat_minor": 2
}
