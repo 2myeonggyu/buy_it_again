{
 "cells": [
  {
   "cell_type": "code",
   "execution_count": 1,
   "metadata": {},
   "outputs": [],
   "source": [
    "import pandas as pd\n",
    "import numpy as np\n",
    "import matplotlib.pyplot as plt\n",
    "import random\n",
    "import scipy.stats as stats\n",
    "import seaborn as sns"
   ]
  },
  {
   "cell_type": "code",
   "execution_count": 2,
   "metadata": {},
   "outputs": [
    {
     "name": "stdout",
     "output_type": "stream",
     "text": [
      "/Users/we/Downloads/GCS data/테스트/애니메이션\n"
     ]
    }
   ],
   "source": [
    "import os\n",
    "print(os.getcwd())"
   ]
  },
  {
   "cell_type": "code",
   "execution_count": 3,
   "metadata": {},
   "outputs": [],
   "source": [
    "data = pd.read_csv('part-00000-fcc822fb-1fd7-48d9-b743-237e3aa3096c-c000.csv')"
   ]
  },
  {
   "cell_type": "code",
   "execution_count": 4,
   "metadata": {},
   "outputs": [
    {
     "data": {
      "text/plain": [
       "(13825, 8)"
      ]
     },
     "execution_count": 4,
     "metadata": {},
     "output_type": "execute_result"
    }
   ],
   "source": [
    "data.shape"
   ]
  },
  {
   "cell_type": "code",
   "execution_count": 5,
   "metadata": {},
   "outputs": [
    {
     "data": {
      "text/html": [
       "<div>\n",
       "<style scoped>\n",
       "    .dataframe tbody tr th:only-of-type {\n",
       "        vertical-align: middle;\n",
       "    }\n",
       "\n",
       "    .dataframe tbody tr th {\n",
       "        vertical-align: top;\n",
       "    }\n",
       "\n",
       "    .dataframe thead th {\n",
       "        text-align: right;\n",
       "    }\n",
       "</style>\n",
       "<table border=\"1\" class=\"dataframe\">\n",
       "  <thead>\n",
       "    <tr style=\"text-align: right;\">\n",
       "      <th></th>\n",
       "      <th>did</th>\n",
       "      <th>orderId</th>\n",
       "      <th>mid</th>\n",
       "      <th>orderDate</th>\n",
       "      <th>dcateCd</th>\n",
       "      <th>scateCd</th>\n",
       "      <th>mcateCd</th>\n",
       "      <th>lcateCd</th>\n",
       "    </tr>\n",
       "  </thead>\n",
       "  <tbody>\n",
       "    <tr>\n",
       "      <th>0</th>\n",
       "      <td>100426248</td>\n",
       "      <td>2277751</td>\n",
       "      <td>13555714</td>\n",
       "      <td>20180726</td>\n",
       "      <td>4101093</td>\n",
       "      <td>3100206</td>\n",
       "      <td>2100026</td>\n",
       "      <td>1100005</td>\n",
       "    </tr>\n",
       "    <tr>\n",
       "      <th>1</th>\n",
       "      <td>101986513</td>\n",
       "      <td>2762686</td>\n",
       "      <td>8459169</td>\n",
       "      <td>20180808</td>\n",
       "      <td>4101093</td>\n",
       "      <td>3100206</td>\n",
       "      <td>2100026</td>\n",
       "      <td>1100005</td>\n",
       "    </tr>\n",
       "    <tr>\n",
       "      <th>2</th>\n",
       "      <td>101986513</td>\n",
       "      <td>2667354</td>\n",
       "      <td>1288545</td>\n",
       "      <td>20180807</td>\n",
       "      <td>4101093</td>\n",
       "      <td>3100206</td>\n",
       "      <td>2100026</td>\n",
       "      <td>1100005</td>\n",
       "    </tr>\n",
       "    <tr>\n",
       "      <th>3</th>\n",
       "      <td>101986513</td>\n",
       "      <td>2687749</td>\n",
       "      <td>1745967</td>\n",
       "      <td>20180807</td>\n",
       "      <td>4101093</td>\n",
       "      <td>3100206</td>\n",
       "      <td>2100026</td>\n",
       "      <td>1100005</td>\n",
       "    </tr>\n",
       "    <tr>\n",
       "      <th>4</th>\n",
       "      <td>101986513</td>\n",
       "      <td>2729878</td>\n",
       "      <td>17015669</td>\n",
       "      <td>20180808</td>\n",
       "      <td>4101093</td>\n",
       "      <td>3100206</td>\n",
       "      <td>2100026</td>\n",
       "      <td>1100005</td>\n",
       "    </tr>\n",
       "  </tbody>\n",
       "</table>\n",
       "</div>"
      ],
      "text/plain": [
       "         did  orderId       mid  orderDate  dcateCd  scateCd  mcateCd  lcateCd\n",
       "0  100426248  2277751  13555714   20180726  4101093  3100206  2100026  1100005\n",
       "1  101986513  2762686   8459169   20180808  4101093  3100206  2100026  1100005\n",
       "2  101986513  2667354   1288545   20180807  4101093  3100206  2100026  1100005\n",
       "3  101986513  2687749   1745967   20180807  4101093  3100206  2100026  1100005\n",
       "4  101986513  2729878  17015669   20180808  4101093  3100206  2100026  1100005"
      ]
     },
     "execution_count": 5,
     "metadata": {},
     "output_type": "execute_result"
    }
   ],
   "source": [
    "data.head()"
   ]
  },
  {
   "cell_type": "code",
   "execution_count": 6,
   "metadata": {},
   "outputs": [
    {
     "data": {
      "text/plain": [
       "1585"
      ]
     },
     "execution_count": 6,
     "metadata": {},
     "output_type": "execute_result"
    }
   ],
   "source": [
    "data.mid.nunique()"
   ]
  },
  {
   "cell_type": "code",
   "execution_count": 7,
   "metadata": {},
   "outputs": [],
   "source": [
    "data.sort_values(by=['mid', 'orderDate'], inplace = True)"
   ]
  },
  {
   "cell_type": "code",
   "execution_count": 8,
   "metadata": {},
   "outputs": [
    {
     "data": {
      "text/html": [
       "<div>\n",
       "<style scoped>\n",
       "    .dataframe tbody tr th:only-of-type {\n",
       "        vertical-align: middle;\n",
       "    }\n",
       "\n",
       "    .dataframe tbody tr th {\n",
       "        vertical-align: top;\n",
       "    }\n",
       "\n",
       "    .dataframe thead th {\n",
       "        text-align: right;\n",
       "    }\n",
       "</style>\n",
       "<table border=\"1\" class=\"dataframe\">\n",
       "  <thead>\n",
       "    <tr style=\"text-align: right;\">\n",
       "      <th></th>\n",
       "      <th>did</th>\n",
       "      <th>orderId</th>\n",
       "      <th>mid</th>\n",
       "      <th>orderDate</th>\n",
       "      <th>dcateCd</th>\n",
       "      <th>scateCd</th>\n",
       "      <th>mcateCd</th>\n",
       "      <th>lcateCd</th>\n",
       "    </tr>\n",
       "  </thead>\n",
       "  <tbody>\n",
       "    <tr>\n",
       "      <th>728</th>\n",
       "      <td>101986884</td>\n",
       "      <td>2653173</td>\n",
       "      <td>0</td>\n",
       "      <td>20180807</td>\n",
       "      <td>4101093</td>\n",
       "      <td>3100206</td>\n",
       "      <td>2100026</td>\n",
       "      <td>1100005</td>\n",
       "    </tr>\n",
       "    <tr>\n",
       "      <th>4385</th>\n",
       "      <td>101986501</td>\n",
       "      <td>2653176</td>\n",
       "      <td>0</td>\n",
       "      <td>20180807</td>\n",
       "      <td>4101093</td>\n",
       "      <td>3100206</td>\n",
       "      <td>2100026</td>\n",
       "      <td>1100005</td>\n",
       "    </tr>\n",
       "    <tr>\n",
       "      <th>9667</th>\n",
       "      <td>101985420</td>\n",
       "      <td>2653177</td>\n",
       "      <td>0</td>\n",
       "      <td>20180807</td>\n",
       "      <td>4101093</td>\n",
       "      <td>3100206</td>\n",
       "      <td>2100026</td>\n",
       "      <td>1100005</td>\n",
       "    </tr>\n",
       "    <tr>\n",
       "      <th>12015</th>\n",
       "      <td>101986658</td>\n",
       "      <td>2653174</td>\n",
       "      <td>0</td>\n",
       "      <td>20180807</td>\n",
       "      <td>4101093</td>\n",
       "      <td>3100206</td>\n",
       "      <td>2100026</td>\n",
       "      <td>1100005</td>\n",
       "    </tr>\n",
       "    <tr>\n",
       "      <th>13734</th>\n",
       "      <td>101986637</td>\n",
       "      <td>2653175</td>\n",
       "      <td>0</td>\n",
       "      <td>20180807</td>\n",
       "      <td>4101093</td>\n",
       "      <td>3100206</td>\n",
       "      <td>2100026</td>\n",
       "      <td>1100005</td>\n",
       "    </tr>\n",
       "  </tbody>\n",
       "</table>\n",
       "</div>"
      ],
      "text/plain": [
       "             did  orderId  mid  orderDate  dcateCd  scateCd  mcateCd  lcateCd\n",
       "728    101986884  2653173    0   20180807  4101093  3100206  2100026  1100005\n",
       "4385   101986501  2653176    0   20180807  4101093  3100206  2100026  1100005\n",
       "9667   101985420  2653177    0   20180807  4101093  3100206  2100026  1100005\n",
       "12015  101986658  2653174    0   20180807  4101093  3100206  2100026  1100005\n",
       "13734  101986637  2653175    0   20180807  4101093  3100206  2100026  1100005"
      ]
     },
     "execution_count": 8,
     "metadata": {},
     "output_type": "execute_result"
    }
   ],
   "source": [
    "data.head()"
   ]
  },
  {
   "cell_type": "code",
   "execution_count": 9,
   "metadata": {},
   "outputs": [
    {
     "data": {
      "text/plain": [
       "(37, 8)"
      ]
     },
     "execution_count": 9,
     "metadata": {},
     "output_type": "execute_result"
    }
   ],
   "source": [
    "data[data.mid == 0].shape   # 비회원 데이터 규모"
   ]
  },
  {
   "cell_type": "markdown",
   "metadata": {},
   "source": [
    "## # orderDate를 datetime 형식으로!"
   ]
  },
  {
   "cell_type": "code",
   "execution_count": 10,
   "metadata": {},
   "outputs": [
    {
     "data": {
      "text/plain": [
       "728     2018-08-07\n",
       "4385    2018-08-07\n",
       "9667    2018-08-07\n",
       "12015   2018-08-07\n",
       "13734   2018-08-07\n",
       "61      2018-08-08\n",
       "610     2018-08-08\n",
       "4391    2018-08-08\n",
       "6284    2018-08-08\n",
       "7329    2018-08-08\n",
       "Name: orderDate, dtype: datetime64[ns]"
      ]
     },
     "execution_count": 10,
     "metadata": {},
     "output_type": "execute_result"
    }
   ],
   "source": [
    "pd.to_datetime(data.orderDate, format='%Y%m%d').head(10) # 이렇게 format을 맞춰야해"
   ]
  },
  {
   "cell_type": "code",
   "execution_count": 11,
   "metadata": {},
   "outputs": [],
   "source": [
    "data.orderDate = pd.to_datetime(data.orderDate, format='%Y%m%d')"
   ]
  },
  {
   "cell_type": "markdown",
   "metadata": {},
   "source": [
    "## mid != 0 "
   ]
  },
  {
   "cell_type": "code",
   "execution_count": 12,
   "metadata": {},
   "outputs": [],
   "source": [
    "data = data[data.mid != 0]   # 비회원 빼고!"
   ]
  },
  {
   "cell_type": "code",
   "execution_count": 13,
   "metadata": {},
   "outputs": [
    {
     "data": {
      "text/html": [
       "<div>\n",
       "<style scoped>\n",
       "    .dataframe tbody tr th:only-of-type {\n",
       "        vertical-align: middle;\n",
       "    }\n",
       "\n",
       "    .dataframe tbody tr th {\n",
       "        vertical-align: top;\n",
       "    }\n",
       "\n",
       "    .dataframe thead th {\n",
       "        text-align: right;\n",
       "    }\n",
       "</style>\n",
       "<table border=\"1\" class=\"dataframe\">\n",
       "  <thead>\n",
       "    <tr style=\"text-align: right;\">\n",
       "      <th></th>\n",
       "      <th>did</th>\n",
       "      <th>orderId</th>\n",
       "      <th>mid</th>\n",
       "      <th>orderDate</th>\n",
       "      <th>dcateCd</th>\n",
       "      <th>scateCd</th>\n",
       "      <th>mcateCd</th>\n",
       "      <th>lcateCd</th>\n",
       "    </tr>\n",
       "  </thead>\n",
       "  <tbody>\n",
       "    <tr>\n",
       "      <th>882</th>\n",
       "      <td>101986884</td>\n",
       "      <td>2651538</td>\n",
       "      <td>1005080</td>\n",
       "      <td>2018-08-07</td>\n",
       "      <td>4101093</td>\n",
       "      <td>3100206</td>\n",
       "      <td>2100026</td>\n",
       "      <td>1100005</td>\n",
       "    </tr>\n",
       "    <tr>\n",
       "      <th>9542</th>\n",
       "      <td>101985420</td>\n",
       "      <td>2651539</td>\n",
       "      <td>1005080</td>\n",
       "      <td>2018-08-07</td>\n",
       "      <td>4101093</td>\n",
       "      <td>3100206</td>\n",
       "      <td>2100026</td>\n",
       "      <td>1100005</td>\n",
       "    </tr>\n",
       "    <tr>\n",
       "      <th>12525</th>\n",
       "      <td>101987247</td>\n",
       "      <td>2651537</td>\n",
       "      <td>1005080</td>\n",
       "      <td>2018-08-07</td>\n",
       "      <td>4101093</td>\n",
       "      <td>3100206</td>\n",
       "      <td>2100026</td>\n",
       "      <td>1100005</td>\n",
       "    </tr>\n",
       "    <tr>\n",
       "      <th>13031</th>\n",
       "      <td>101987322</td>\n",
       "      <td>2651536</td>\n",
       "      <td>1005080</td>\n",
       "      <td>2018-08-07</td>\n",
       "      <td>4101093</td>\n",
       "      <td>3100206</td>\n",
       "      <td>2100026</td>\n",
       "      <td>1100005</td>\n",
       "    </tr>\n",
       "    <tr>\n",
       "      <th>13682</th>\n",
       "      <td>101986637</td>\n",
       "      <td>2651535</td>\n",
       "      <td>1005080</td>\n",
       "      <td>2018-08-07</td>\n",
       "      <td>4101093</td>\n",
       "      <td>3100206</td>\n",
       "      <td>2100026</td>\n",
       "      <td>1100005</td>\n",
       "    </tr>\n",
       "  </tbody>\n",
       "</table>\n",
       "</div>"
      ],
      "text/plain": [
       "             did  orderId      mid  orderDate  dcateCd  scateCd  mcateCd  \\\n",
       "882    101986884  2651538  1005080 2018-08-07  4101093  3100206  2100026   \n",
       "9542   101985420  2651539  1005080 2018-08-07  4101093  3100206  2100026   \n",
       "12525  101987247  2651537  1005080 2018-08-07  4101093  3100206  2100026   \n",
       "13031  101987322  2651536  1005080 2018-08-07  4101093  3100206  2100026   \n",
       "13682  101986637  2651535  1005080 2018-08-07  4101093  3100206  2100026   \n",
       "\n",
       "       lcateCd  \n",
       "882    1100005  \n",
       "9542   1100005  \n",
       "12525  1100005  \n",
       "13031  1100005  \n",
       "13682  1100005  "
      ]
     },
     "execution_count": 13,
     "metadata": {},
     "output_type": "execute_result"
    }
   ],
   "source": [
    "data.head()"
   ]
  },
  {
   "cell_type": "code",
   "execution_count": 14,
   "metadata": {},
   "outputs": [],
   "source": [
    "mid = data.mid.unique()"
   ]
  },
  {
   "cell_type": "code",
   "execution_count": 15,
   "metadata": {},
   "outputs": [
    {
     "data": {
      "text/html": [
       "<div>\n",
       "<style scoped>\n",
       "    .dataframe tbody tr th:only-of-type {\n",
       "        vertical-align: middle;\n",
       "    }\n",
       "\n",
       "    .dataframe tbody tr th {\n",
       "        vertical-align: top;\n",
       "    }\n",
       "\n",
       "    .dataframe thead th {\n",
       "        text-align: right;\n",
       "    }\n",
       "</style>\n",
       "<table border=\"1\" class=\"dataframe\">\n",
       "  <thead>\n",
       "    <tr style=\"text-align: right;\">\n",
       "      <th></th>\n",
       "      <th>did</th>\n",
       "      <th>orderId</th>\n",
       "      <th>mid</th>\n",
       "      <th>orderDate</th>\n",
       "      <th>dcateCd</th>\n",
       "      <th>scateCd</th>\n",
       "      <th>mcateCd</th>\n",
       "      <th>lcateCd</th>\n",
       "    </tr>\n",
       "  </thead>\n",
       "  <tbody>\n",
       "    <tr>\n",
       "      <th>882</th>\n",
       "      <td>101986884</td>\n",
       "      <td>2651538</td>\n",
       "      <td>1005080</td>\n",
       "      <td>2018-08-07</td>\n",
       "      <td>4101093</td>\n",
       "      <td>3100206</td>\n",
       "      <td>2100026</td>\n",
       "      <td>1100005</td>\n",
       "    </tr>\n",
       "    <tr>\n",
       "      <th>9542</th>\n",
       "      <td>101985420</td>\n",
       "      <td>2651539</td>\n",
       "      <td>1005080</td>\n",
       "      <td>2018-08-07</td>\n",
       "      <td>4101093</td>\n",
       "      <td>3100206</td>\n",
       "      <td>2100026</td>\n",
       "      <td>1100005</td>\n",
       "    </tr>\n",
       "    <tr>\n",
       "      <th>12525</th>\n",
       "      <td>101987247</td>\n",
       "      <td>2651537</td>\n",
       "      <td>1005080</td>\n",
       "      <td>2018-08-07</td>\n",
       "      <td>4101093</td>\n",
       "      <td>3100206</td>\n",
       "      <td>2100026</td>\n",
       "      <td>1100005</td>\n",
       "    </tr>\n",
       "    <tr>\n",
       "      <th>13031</th>\n",
       "      <td>101987322</td>\n",
       "      <td>2651536</td>\n",
       "      <td>1005080</td>\n",
       "      <td>2018-08-07</td>\n",
       "      <td>4101093</td>\n",
       "      <td>3100206</td>\n",
       "      <td>2100026</td>\n",
       "      <td>1100005</td>\n",
       "    </tr>\n",
       "    <tr>\n",
       "      <th>13682</th>\n",
       "      <td>101986637</td>\n",
       "      <td>2651535</td>\n",
       "      <td>1005080</td>\n",
       "      <td>2018-08-07</td>\n",
       "      <td>4101093</td>\n",
       "      <td>3100206</td>\n",
       "      <td>2100026</td>\n",
       "      <td>1100005</td>\n",
       "    </tr>\n",
       "  </tbody>\n",
       "</table>\n",
       "</div>"
      ],
      "text/plain": [
       "             did  orderId      mid  orderDate  dcateCd  scateCd  mcateCd  \\\n",
       "882    101986884  2651538  1005080 2018-08-07  4101093  3100206  2100026   \n",
       "9542   101985420  2651539  1005080 2018-08-07  4101093  3100206  2100026   \n",
       "12525  101987247  2651537  1005080 2018-08-07  4101093  3100206  2100026   \n",
       "13031  101987322  2651536  1005080 2018-08-07  4101093  3100206  2100026   \n",
       "13682  101986637  2651535  1005080 2018-08-07  4101093  3100206  2100026   \n",
       "\n",
       "       lcateCd  \n",
       "882    1100005  \n",
       "9542   1100005  \n",
       "12525  1100005  \n",
       "13031  1100005  \n",
       "13682  1100005  "
      ]
     },
     "execution_count": 15,
     "metadata": {},
     "output_type": "execute_result"
    }
   ],
   "source": [
    "data[data.mid == mid[0]]"
   ]
  },
  {
   "cell_type": "code",
   "execution_count": 16,
   "metadata": {
    "scrolled": true
   },
   "outputs": [
    {
     "data": {
      "text/plain": [
       "882     2018-08-07\n",
       "9542    2018-08-07\n",
       "12525   2018-08-07\n",
       "13031   2018-08-07\n",
       "13682   2018-08-07\n",
       "Name: orderDate, dtype: datetime64[ns]"
      ]
     },
     "execution_count": 16,
     "metadata": {},
     "output_type": "execute_result"
    }
   ],
   "source": [
    "data[data.mid == mid[0]].orderDate  # 오 이사람 8월 7일에만 구매했네!"
   ]
  },
  {
   "cell_type": "code",
   "execution_count": 31,
   "metadata": {},
   "outputs": [
    {
     "data": {
      "text/plain": [
       "882      NaN\n",
       "9542     0.0\n",
       "12525    0.0\n",
       "13031    0.0\n",
       "13682    0.0\n",
       "Name: orderDate, dtype: float64"
      ]
     },
     "execution_count": 31,
     "metadata": {},
     "output_type": "execute_result"
    }
   ],
   "source": [
    "data[data.mid == mid[0]].orderDate.diff().dt.days # 첫 날은 na가 될거야"
   ]
  },
  {
   "cell_type": "code",
   "execution_count": 32,
   "metadata": {},
   "outputs": [
    {
     "data": {
      "text/plain": [
       "<bound method Series.dropna of 882      NaN\n",
       "9542     0.0\n",
       "12525    0.0\n",
       "13031    0.0\n",
       "13682    0.0\n",
       "Name: orderDate, dtype: float64>"
      ]
     },
     "execution_count": 32,
     "metadata": {},
     "output_type": "execute_result"
    }
   ],
   "source": [
    "data[data.mid == mid[0]].orderDate.diff().dt.days.dropna()  # dropna"
   ]
  },
  {
   "cell_type": "code",
   "execution_count": 36,
   "metadata": {},
   "outputs": [
    {
     "data": {
      "text/plain": [
       "9542     0.0\n",
       "12525    0.0\n",
       "13031    0.0\n",
       "13682    0.0\n",
       "Name: orderDate, dtype: float64"
      ]
     },
     "execution_count": 36,
     "metadata": {},
     "output_type": "execute_result"
    }
   ],
   "source": [
    "data[data.mid == mid[0]].orderDate.diff().dt.days.dropna()"
   ]
  },
  {
   "cell_type": "code",
   "execution_count": null,
   "metadata": {},
   "outputs": [],
   "source": []
  },
  {
   "cell_type": "code",
   "execution_count": null,
   "metadata": {},
   "outputs": [],
   "source": []
  },
  {
   "cell_type": "markdown",
   "metadata": {},
   "source": [
    "---"
   ]
  },
  {
   "cell_type": "code",
   "execution_count": 22,
   "metadata": {
    "scrolled": true
   },
   "outputs": [
    {
     "data": {
      "text/plain": [
       "2641    20180907\n",
       "3385    20180907\n",
       "5006    20180907\n",
       "6638    20180907\n",
       "8947    20180907\n",
       "Name: orderDate, dtype: int64"
      ]
     },
     "execution_count": 22,
     "metadata": {},
     "output_type": "execute_result"
    }
   ],
   "source": [
    "data[data.mid == mid[1]].orderDate"
   ]
  },
  {
   "cell_type": "code",
   "execution_count": 31,
   "metadata": {},
   "outputs": [
    {
     "data": {
      "text/plain": [
       "1346    20180907\n",
       "2214    20180907\n",
       "3354    20180907\n",
       "5654    20180907\n",
       "8833    20180907\n",
       "Name: orderDate, dtype: int64"
      ]
     },
     "execution_count": 31,
     "metadata": {},
     "output_type": "execute_result"
    }
   ],
   "source": [
    "data[data.mid == mid[2]].orderDate"
   ]
  },
  {
   "cell_type": "code",
   "execution_count": 32,
   "metadata": {},
   "outputs": [
    {
     "data": {
      "text/plain": [
       "21       20180808\n",
       "1160     20180808\n",
       "4530     20180808\n",
       "7731     20180808\n",
       "9471     20180808\n",
       "10202    20180808\n",
       "11052    20180808\n",
       "12102    20180808\n",
       "12293    20180808\n",
       "12754    20180808\n",
       "13757    20180808\n",
       "Name: orderDate, dtype: int64"
      ]
     },
     "execution_count": 32,
     "metadata": {},
     "output_type": "execute_result"
    }
   ],
   "source": [
    "data[data.mid == mid[3]].orderDate"
   ]
  },
  {
   "cell_type": "code",
   "execution_count": 33,
   "metadata": {},
   "outputs": [
    {
     "data": {
      "text/plain": [
       "30       20180808\n",
       "798      20180808\n",
       "1013     20180808\n",
       "4005     20180808\n",
       "4557     20180808\n",
       "6041     20180808\n",
       "7768     20180808\n",
       "9526     20180808\n",
       "9977     20180808\n",
       "10410    20180808\n",
       "10448    20180808\n",
       "10763    20180808\n",
       "11957    20180808\n",
       "12049    20180808\n",
       "12251    20180808\n",
       "12302    20180808\n",
       "12672    20180808\n",
       "13642    20180808\n",
       "Name: orderDate, dtype: int64"
      ]
     },
     "execution_count": 33,
     "metadata": {},
     "output_type": "execute_result"
    }
   ],
   "source": [
    "data[data.mid == mid[4]].orderDate"
   ]
  },
  {
   "cell_type": "code",
   "execution_count": 41,
   "metadata": {},
   "outputs": [
    {
     "data": {
      "text/plain": [
       "(13788, 8)"
      ]
     },
     "execution_count": 41,
     "metadata": {},
     "output_type": "execute_result"
    }
   ],
   "source": [
    "data.shape"
   ]
  },
  {
   "cell_type": "code",
   "execution_count": 42,
   "metadata": {},
   "outputs": [
    {
     "data": {
      "text/html": [
       "<div>\n",
       "<style scoped>\n",
       "    .dataframe tbody tr th:only-of-type {\n",
       "        vertical-align: middle;\n",
       "    }\n",
       "\n",
       "    .dataframe tbody tr th {\n",
       "        vertical-align: top;\n",
       "    }\n",
       "\n",
       "    .dataframe thead th {\n",
       "        text-align: right;\n",
       "    }\n",
       "</style>\n",
       "<table border=\"1\" class=\"dataframe\">\n",
       "  <thead>\n",
       "    <tr style=\"text-align: right;\">\n",
       "      <th></th>\n",
       "      <th>did</th>\n",
       "      <th>orderId</th>\n",
       "      <th>mid</th>\n",
       "      <th>orderDate</th>\n",
       "      <th>dcateCd</th>\n",
       "      <th>scateCd</th>\n",
       "      <th>mcateCd</th>\n",
       "      <th>lcateCd</th>\n",
       "    </tr>\n",
       "  </thead>\n",
       "  <tbody>\n",
       "    <tr>\n",
       "      <th>882</th>\n",
       "      <td>101986884</td>\n",
       "      <td>2651538</td>\n",
       "      <td>1005080</td>\n",
       "      <td>2018-08-07</td>\n",
       "      <td>4101093</td>\n",
       "      <td>3100206</td>\n",
       "      <td>2100026</td>\n",
       "      <td>1100005</td>\n",
       "    </tr>\n",
       "    <tr>\n",
       "      <th>9542</th>\n",
       "      <td>101985420</td>\n",
       "      <td>2651539</td>\n",
       "      <td>1005080</td>\n",
       "      <td>2018-08-07</td>\n",
       "      <td>4101093</td>\n",
       "      <td>3100206</td>\n",
       "      <td>2100026</td>\n",
       "      <td>1100005</td>\n",
       "    </tr>\n",
       "    <tr>\n",
       "      <th>12525</th>\n",
       "      <td>101987247</td>\n",
       "      <td>2651537</td>\n",
       "      <td>1005080</td>\n",
       "      <td>2018-08-07</td>\n",
       "      <td>4101093</td>\n",
       "      <td>3100206</td>\n",
       "      <td>2100026</td>\n",
       "      <td>1100005</td>\n",
       "    </tr>\n",
       "    <tr>\n",
       "      <th>13031</th>\n",
       "      <td>101987322</td>\n",
       "      <td>2651536</td>\n",
       "      <td>1005080</td>\n",
       "      <td>2018-08-07</td>\n",
       "      <td>4101093</td>\n",
       "      <td>3100206</td>\n",
       "      <td>2100026</td>\n",
       "      <td>1100005</td>\n",
       "    </tr>\n",
       "    <tr>\n",
       "      <th>13682</th>\n",
       "      <td>101986637</td>\n",
       "      <td>2651535</td>\n",
       "      <td>1005080</td>\n",
       "      <td>2018-08-07</td>\n",
       "      <td>4101093</td>\n",
       "      <td>3100206</td>\n",
       "      <td>2100026</td>\n",
       "      <td>1100005</td>\n",
       "    </tr>\n",
       "  </tbody>\n",
       "</table>\n",
       "</div>"
      ],
      "text/plain": [
       "             did  orderId      mid  orderDate  dcateCd  scateCd  mcateCd  \\\n",
       "882    101986884  2651538  1005080 2018-08-07  4101093  3100206  2100026   \n",
       "9542   101985420  2651539  1005080 2018-08-07  4101093  3100206  2100026   \n",
       "12525  101987247  2651537  1005080 2018-08-07  4101093  3100206  2100026   \n",
       "13031  101987322  2651536  1005080 2018-08-07  4101093  3100206  2100026   \n",
       "13682  101986637  2651535  1005080 2018-08-07  4101093  3100206  2100026   \n",
       "\n",
       "       lcateCd  \n",
       "882    1100005  \n",
       "9542   1100005  \n",
       "12525  1100005  \n",
       "13031  1100005  \n",
       "13682  1100005  "
      ]
     },
     "execution_count": 42,
     "metadata": {},
     "output_type": "execute_result"
    }
   ],
   "source": [
    "data.head()"
   ]
  },
  {
   "cell_type": "markdown",
   "metadata": {},
   "source": [
    "## # time - difference 구하기"
   ]
  },
  {
   "cell_type": "code",
   "execution_count": 52,
   "metadata": {},
   "outputs": [],
   "source": [
    "time = np.array( [] )\n",
    "for i in range(data.mid.nunique()):\n",
    "    time = np.append(time, data[data.mid == mid[i]].orderDate.diff().dt.days.dropna() ) "
   ]
  },
  {
   "cell_type": "code",
   "execution_count": 60,
   "metadata": {},
   "outputs": [
    {
     "data": {
      "text/html": [
       "<div>\n",
       "<style scoped>\n",
       "    .dataframe tbody tr th:only-of-type {\n",
       "        vertical-align: middle;\n",
       "    }\n",
       "\n",
       "    .dataframe tbody tr th {\n",
       "        vertical-align: top;\n",
       "    }\n",
       "\n",
       "    .dataframe thead th {\n",
       "        text-align: right;\n",
       "    }\n",
       "</style>\n",
       "<table border=\"1\" class=\"dataframe\">\n",
       "  <thead>\n",
       "    <tr style=\"text-align: right;\">\n",
       "      <th></th>\n",
       "      <th>did</th>\n",
       "      <th>orderId</th>\n",
       "      <th>mid</th>\n",
       "      <th>orderDate</th>\n",
       "      <th>dcateCd</th>\n",
       "      <th>scateCd</th>\n",
       "      <th>mcateCd</th>\n",
       "      <th>lcateCd</th>\n",
       "    </tr>\n",
       "  </thead>\n",
       "  <tbody>\n",
       "    <tr>\n",
       "      <th>882</th>\n",
       "      <td>101986884</td>\n",
       "      <td>2651538</td>\n",
       "      <td>1005080</td>\n",
       "      <td>2018-08-07</td>\n",
       "      <td>4101093</td>\n",
       "      <td>3100206</td>\n",
       "      <td>2100026</td>\n",
       "      <td>1100005</td>\n",
       "    </tr>\n",
       "    <tr>\n",
       "      <th>9542</th>\n",
       "      <td>101985420</td>\n",
       "      <td>2651539</td>\n",
       "      <td>1005080</td>\n",
       "      <td>2018-08-07</td>\n",
       "      <td>4101093</td>\n",
       "      <td>3100206</td>\n",
       "      <td>2100026</td>\n",
       "      <td>1100005</td>\n",
       "    </tr>\n",
       "    <tr>\n",
       "      <th>12525</th>\n",
       "      <td>101987247</td>\n",
       "      <td>2651537</td>\n",
       "      <td>1005080</td>\n",
       "      <td>2018-08-07</td>\n",
       "      <td>4101093</td>\n",
       "      <td>3100206</td>\n",
       "      <td>2100026</td>\n",
       "      <td>1100005</td>\n",
       "    </tr>\n",
       "    <tr>\n",
       "      <th>13031</th>\n",
       "      <td>101987322</td>\n",
       "      <td>2651536</td>\n",
       "      <td>1005080</td>\n",
       "      <td>2018-08-07</td>\n",
       "      <td>4101093</td>\n",
       "      <td>3100206</td>\n",
       "      <td>2100026</td>\n",
       "      <td>1100005</td>\n",
       "    </tr>\n",
       "    <tr>\n",
       "      <th>13682</th>\n",
       "      <td>101986637</td>\n",
       "      <td>2651535</td>\n",
       "      <td>1005080</td>\n",
       "      <td>2018-08-07</td>\n",
       "      <td>4101093</td>\n",
       "      <td>3100206</td>\n",
       "      <td>2100026</td>\n",
       "      <td>1100005</td>\n",
       "    </tr>\n",
       "    <tr>\n",
       "      <th>2641</th>\n",
       "      <td>109945505</td>\n",
       "      <td>3804394</td>\n",
       "      <td>1005500</td>\n",
       "      <td>2018-09-07</td>\n",
       "      <td>4101093</td>\n",
       "      <td>3100206</td>\n",
       "      <td>2100026</td>\n",
       "      <td>1100005</td>\n",
       "    </tr>\n",
       "    <tr>\n",
       "      <th>3385</th>\n",
       "      <td>109946062</td>\n",
       "      <td>3804396</td>\n",
       "      <td>1005500</td>\n",
       "      <td>2018-09-07</td>\n",
       "      <td>4101093</td>\n",
       "      <td>3100206</td>\n",
       "      <td>2100026</td>\n",
       "      <td>1100005</td>\n",
       "    </tr>\n",
       "    <tr>\n",
       "      <th>5006</th>\n",
       "      <td>109947353</td>\n",
       "      <td>3804398</td>\n",
       "      <td>1005500</td>\n",
       "      <td>2018-09-07</td>\n",
       "      <td>4101093</td>\n",
       "      <td>3100206</td>\n",
       "      <td>2100026</td>\n",
       "      <td>1100005</td>\n",
       "    </tr>\n",
       "    <tr>\n",
       "      <th>6638</th>\n",
       "      <td>109946541</td>\n",
       "      <td>3804397</td>\n",
       "      <td>1005500</td>\n",
       "      <td>2018-09-07</td>\n",
       "      <td>4101093</td>\n",
       "      <td>3100206</td>\n",
       "      <td>2100026</td>\n",
       "      <td>1100005</td>\n",
       "    </tr>\n",
       "    <tr>\n",
       "      <th>8947</th>\n",
       "      <td>109945182</td>\n",
       "      <td>3804395</td>\n",
       "      <td>1005500</td>\n",
       "      <td>2018-09-07</td>\n",
       "      <td>4101093</td>\n",
       "      <td>3100206</td>\n",
       "      <td>2100026</td>\n",
       "      <td>1100005</td>\n",
       "    </tr>\n",
       "    <tr>\n",
       "      <th>1346</th>\n",
       "      <td>109942281</td>\n",
       "      <td>3795120</td>\n",
       "      <td>1011967</td>\n",
       "      <td>2018-09-07</td>\n",
       "      <td>4101093</td>\n",
       "      <td>3100206</td>\n",
       "      <td>2100026</td>\n",
       "      <td>1100005</td>\n",
       "    </tr>\n",
       "    <tr>\n",
       "      <th>2214</th>\n",
       "      <td>109946429</td>\n",
       "      <td>3795117</td>\n",
       "      <td>1011967</td>\n",
       "      <td>2018-09-07</td>\n",
       "      <td>4101093</td>\n",
       "      <td>3100206</td>\n",
       "      <td>2100026</td>\n",
       "      <td>1100005</td>\n",
       "    </tr>\n",
       "    <tr>\n",
       "      <th>3354</th>\n",
       "      <td>109946062</td>\n",
       "      <td>3795121</td>\n",
       "      <td>1011967</td>\n",
       "      <td>2018-09-07</td>\n",
       "      <td>4101093</td>\n",
       "      <td>3100206</td>\n",
       "      <td>2100026</td>\n",
       "      <td>1100005</td>\n",
       "    </tr>\n",
       "    <tr>\n",
       "      <th>5654</th>\n",
       "      <td>109946232</td>\n",
       "      <td>3795118</td>\n",
       "      <td>1011967</td>\n",
       "      <td>2018-09-07</td>\n",
       "      <td>4101093</td>\n",
       "      <td>3100206</td>\n",
       "      <td>2100026</td>\n",
       "      <td>1100005</td>\n",
       "    </tr>\n",
       "    <tr>\n",
       "      <th>8833</th>\n",
       "      <td>109945182</td>\n",
       "      <td>3795119</td>\n",
       "      <td>1011967</td>\n",
       "      <td>2018-09-07</td>\n",
       "      <td>4101093</td>\n",
       "      <td>3100206</td>\n",
       "      <td>2100026</td>\n",
       "      <td>1100005</td>\n",
       "    </tr>\n",
       "    <tr>\n",
       "      <th>21</th>\n",
       "      <td>101986513</td>\n",
       "      <td>2721498</td>\n",
       "      <td>1012750</td>\n",
       "      <td>2018-08-08</td>\n",
       "      <td>4101093</td>\n",
       "      <td>3100206</td>\n",
       "      <td>2100026</td>\n",
       "      <td>1100005</td>\n",
       "    </tr>\n",
       "    <tr>\n",
       "      <th>1160</th>\n",
       "      <td>101986884</td>\n",
       "      <td>2721506</td>\n",
       "      <td>1012750</td>\n",
       "      <td>2018-08-08</td>\n",
       "      <td>4101093</td>\n",
       "      <td>3100206</td>\n",
       "      <td>2100026</td>\n",
       "      <td>1100005</td>\n",
       "    </tr>\n",
       "    <tr>\n",
       "      <th>4530</th>\n",
       "      <td>101986501</td>\n",
       "      <td>2721499</td>\n",
       "      <td>1012750</td>\n",
       "      <td>2018-08-08</td>\n",
       "      <td>4101093</td>\n",
       "      <td>3100206</td>\n",
       "      <td>2100026</td>\n",
       "      <td>1100005</td>\n",
       "    </tr>\n",
       "    <tr>\n",
       "      <th>7731</th>\n",
       "      <td>101987061</td>\n",
       "      <td>2721505</td>\n",
       "      <td>1012750</td>\n",
       "      <td>2018-08-08</td>\n",
       "      <td>4101093</td>\n",
       "      <td>3100206</td>\n",
       "      <td>2100026</td>\n",
       "      <td>1100005</td>\n",
       "    </tr>\n",
       "    <tr>\n",
       "      <th>9471</th>\n",
       "      <td>101985420</td>\n",
       "      <td>2721500</td>\n",
       "      <td>1012750</td>\n",
       "      <td>2018-08-08</td>\n",
       "      <td>4101093</td>\n",
       "      <td>3100206</td>\n",
       "      <td>2100026</td>\n",
       "      <td>1100005</td>\n",
       "    </tr>\n",
       "  </tbody>\n",
       "</table>\n",
       "</div>"
      ],
      "text/plain": [
       "             did  orderId      mid  orderDate  dcateCd  scateCd  mcateCd  \\\n",
       "882    101986884  2651538  1005080 2018-08-07  4101093  3100206  2100026   \n",
       "9542   101985420  2651539  1005080 2018-08-07  4101093  3100206  2100026   \n",
       "12525  101987247  2651537  1005080 2018-08-07  4101093  3100206  2100026   \n",
       "13031  101987322  2651536  1005080 2018-08-07  4101093  3100206  2100026   \n",
       "13682  101986637  2651535  1005080 2018-08-07  4101093  3100206  2100026   \n",
       "2641   109945505  3804394  1005500 2018-09-07  4101093  3100206  2100026   \n",
       "3385   109946062  3804396  1005500 2018-09-07  4101093  3100206  2100026   \n",
       "5006   109947353  3804398  1005500 2018-09-07  4101093  3100206  2100026   \n",
       "6638   109946541  3804397  1005500 2018-09-07  4101093  3100206  2100026   \n",
       "8947   109945182  3804395  1005500 2018-09-07  4101093  3100206  2100026   \n",
       "1346   109942281  3795120  1011967 2018-09-07  4101093  3100206  2100026   \n",
       "2214   109946429  3795117  1011967 2018-09-07  4101093  3100206  2100026   \n",
       "3354   109946062  3795121  1011967 2018-09-07  4101093  3100206  2100026   \n",
       "5654   109946232  3795118  1011967 2018-09-07  4101093  3100206  2100026   \n",
       "8833   109945182  3795119  1011967 2018-09-07  4101093  3100206  2100026   \n",
       "21     101986513  2721498  1012750 2018-08-08  4101093  3100206  2100026   \n",
       "1160   101986884  2721506  1012750 2018-08-08  4101093  3100206  2100026   \n",
       "4530   101986501  2721499  1012750 2018-08-08  4101093  3100206  2100026   \n",
       "7731   101987061  2721505  1012750 2018-08-08  4101093  3100206  2100026   \n",
       "9471   101985420  2721500  1012750 2018-08-08  4101093  3100206  2100026   \n",
       "\n",
       "       lcateCd  \n",
       "882    1100005  \n",
       "9542   1100005  \n",
       "12525  1100005  \n",
       "13031  1100005  \n",
       "13682  1100005  \n",
       "2641   1100005  \n",
       "3385   1100005  \n",
       "5006   1100005  \n",
       "6638   1100005  \n",
       "8947   1100005  \n",
       "1346   1100005  \n",
       "2214   1100005  \n",
       "3354   1100005  \n",
       "5654   1100005  \n",
       "8833   1100005  \n",
       "21     1100005  \n",
       "1160   1100005  \n",
       "4530   1100005  \n",
       "7731   1100005  \n",
       "9471   1100005  "
      ]
     },
     "execution_count": 60,
     "metadata": {},
     "output_type": "execute_result"
    }
   ],
   "source": [
    "data[:20]"
   ]
  },
  {
   "cell_type": "code",
   "execution_count": 59,
   "metadata": {},
   "outputs": [
    {
     "data": {
      "text/plain": [
       "9542      0.0\n",
       "12525     0.0\n",
       "13031     0.0\n",
       "13682     0.0\n",
       "2641     31.0\n",
       "3385      0.0\n",
       "5006      0.0\n",
       "6638      0.0\n",
       "8947      0.0\n",
       "1346      0.0\n",
       "2214      0.0\n",
       "3354      0.0\n",
       "5654      0.0\n",
       "8833      0.0\n",
       "21      -30.0\n",
       "1160      0.0\n",
       "4530      0.0\n",
       "7731      0.0\n",
       "9471      0.0\n",
       "Name: orderDate, dtype: float64"
      ]
     },
     "execution_count": 59,
     "metadata": {},
     "output_type": "execute_result"
    }
   ],
   "source": [
    "data[:20].orderDate.diff().dt.days.dropna()"
   ]
  },
  {
   "cell_type": "markdown",
   "metadata": {},
   "source": [
    "---"
   ]
  },
  {
   "cell_type": "code",
   "execution_count": 53,
   "metadata": {},
   "outputs": [
    {
     "data": {
      "text/plain": [
       "(12204,)"
      ]
     },
     "execution_count": 53,
     "metadata": {},
     "output_type": "execute_result"
    }
   ],
   "source": [
    "time.shape"
   ]
  },
  {
   "cell_type": "code",
   "execution_count": 54,
   "metadata": {},
   "outputs": [
    {
     "data": {
      "text/plain": [
       "array([0., 0., 0., ..., 0., 0., 0.])"
      ]
     },
     "execution_count": 54,
     "metadata": {},
     "output_type": "execute_result"
    }
   ],
   "source": [
    "time"
   ]
  },
  {
   "cell_type": "code",
   "execution_count": 55,
   "metadata": {},
   "outputs": [],
   "source": [
    "t = pd.DataFrame(time)"
   ]
  },
  {
   "cell_type": "code",
   "execution_count": 56,
   "metadata": {},
   "outputs": [],
   "source": [
    "t.columns = ['time']"
   ]
  },
  {
   "cell_type": "code",
   "execution_count": 57,
   "metadata": {},
   "outputs": [
    {
     "data": {
      "text/plain": [
       "0.0    12201\n",
       "1.0        3\n",
       "Name: time, dtype: int64"
      ]
     },
     "execution_count": 57,
     "metadata": {},
     "output_type": "execute_result"
    }
   ],
   "source": [
    "t.time.value_counts()"
   ]
  },
  {
   "cell_type": "code",
   "execution_count": 62,
   "metadata": {},
   "outputs": [],
   "source": [
    "t.to_excel('animation_interval.xlsx')"
   ]
  },
  {
   "cell_type": "code",
   "execution_count": null,
   "metadata": {},
   "outputs": [],
   "source": []
  },
  {
   "cell_type": "code",
   "execution_count": null,
   "metadata": {},
   "outputs": [],
   "source": []
  },
  {
   "cell_type": "code",
   "execution_count": null,
   "metadata": {},
   "outputs": [],
   "source": []
  },
  {
   "cell_type": "code",
   "execution_count": null,
   "metadata": {},
   "outputs": [],
   "source": []
  },
  {
   "cell_type": "code",
   "execution_count": null,
   "metadata": {},
   "outputs": [],
   "source": []
  },
  {
   "cell_type": "code",
   "execution_count": null,
   "metadata": {},
   "outputs": [],
   "source": []
  }
 ],
 "metadata": {
  "kernelspec": {
   "display_name": "Python [default]",
   "language": "python",
   "name": "python3"
  },
  "language_info": {
   "codemirror_mode": {
    "name": "ipython",
    "version": 3
   },
   "file_extension": ".py",
   "mimetype": "text/x-python",
   "name": "python",
   "nbconvert_exporter": "python",
   "pygments_lexer": "ipython3",
   "version": "3.6.6"
  }
 },
 "nbformat": 4,
 "nbformat_minor": 2
}
