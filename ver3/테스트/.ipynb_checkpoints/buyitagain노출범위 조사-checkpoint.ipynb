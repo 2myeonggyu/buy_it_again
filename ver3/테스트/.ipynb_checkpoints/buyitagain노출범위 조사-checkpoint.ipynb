{
 "cells": [
  {
   "cell_type": "code",
   "execution_count": 1,
   "metadata": {},
   "outputs": [],
   "source": [
    "import pandas as pd"
   ]
  },
  {
   "cell_type": "markdown",
   "metadata": {},
   "source": [
    "## #(1) 12월 6일자 buy it again 점수"
   ]
  },
  {
   "cell_type": "code",
   "execution_count": 3,
   "metadata": {},
   "outputs": [],
   "source": [
    "buyit = pd.read_csv('praha.userByItAgainScore.csv')"
   ]
  },
  {
   "cell_type": "code",
   "execution_count": 7,
   "metadata": {},
   "outputs": [
    {
     "data": {
      "text/html": [
       "<div>\n",
       "<style scoped>\n",
       "    .dataframe tbody tr th:only-of-type {\n",
       "        vertical-align: middle;\n",
       "    }\n",
       "\n",
       "    .dataframe tbody tr th {\n",
       "        vertical-align: top;\n",
       "    }\n",
       "\n",
       "    .dataframe thead th {\n",
       "        text-align: right;\n",
       "    }\n",
       "</style>\n",
       "<table border=\"1\" class=\"dataframe\">\n",
       "  <thead>\n",
       "    <tr style=\"text-align: right;\">\n",
       "      <th></th>\n",
       "      <th>_id</th>\n",
       "      <th>date</th>\n",
       "      <th>mid</th>\n",
       "    </tr>\n",
       "  </thead>\n",
       "  <tbody>\n",
       "    <tr>\n",
       "      <th>0</th>\n",
       "      <td>5c0996e66fec50519ddffdf3</td>\n",
       "      <td>2018-12-06T21:35:52.409Z</td>\n",
       "      <td>12364604</td>\n",
       "    </tr>\n",
       "    <tr>\n",
       "      <th>1</th>\n",
       "      <td>5c0996e66fec50519ddffdf4</td>\n",
       "      <td>2018-12-06T21:35:52.409Z</td>\n",
       "      <td>4374202</td>\n",
       "    </tr>\n",
       "    <tr>\n",
       "      <th>2</th>\n",
       "      <td>5c0996e66fec50519ddffdf5</td>\n",
       "      <td>2018-12-06T21:35:52.409Z</td>\n",
       "      <td>23801000</td>\n",
       "    </tr>\n",
       "    <tr>\n",
       "      <th>3</th>\n",
       "      <td>5c0996e66fec50519ddffdf8</td>\n",
       "      <td>2018-12-06T21:35:52.409Z</td>\n",
       "      <td>2188602</td>\n",
       "    </tr>\n",
       "    <tr>\n",
       "      <th>4</th>\n",
       "      <td>5c0996e66fec50519ddffdff</td>\n",
       "      <td>2018-12-06T21:35:52.409Z</td>\n",
       "      <td>14952202</td>\n",
       "    </tr>\n",
       "  </tbody>\n",
       "</table>\n",
       "</div>"
      ],
      "text/plain": [
       "                        _id                      date       mid\n",
       "0  5c0996e66fec50519ddffdf3  2018-12-06T21:35:52.409Z  12364604\n",
       "1  5c0996e66fec50519ddffdf4  2018-12-06T21:35:52.409Z   4374202\n",
       "2  5c0996e66fec50519ddffdf5  2018-12-06T21:35:52.409Z  23801000\n",
       "3  5c0996e66fec50519ddffdf8  2018-12-06T21:35:52.409Z   2188602\n",
       "4  5c0996e66fec50519ddffdff  2018-12-06T21:35:52.409Z  14952202"
      ]
     },
     "execution_count": 7,
     "metadata": {},
     "output_type": "execute_result"
    }
   ],
   "source": [
    "buyit.head()"
   ]
  },
  {
   "cell_type": "code",
   "execution_count": 10,
   "metadata": {},
   "outputs": [
    {
     "data": {
      "text/plain": [
       "(733294, 3)"
      ]
     },
     "execution_count": 10,
     "metadata": {},
     "output_type": "execute_result"
    }
   ],
   "source": [
    "buyit.shape "
   ]
  },
  {
   "cell_type": "markdown",
   "metadata": {},
   "source": [
    "- 12월 6일 약 73만명에 대해서 점수가 계산되는군!"
   ]
  },
  {
   "cell_type": "markdown",
   "metadata": {},
   "source": [
    "---"
   ]
  },
  {
   "cell_type": "markdown",
   "metadata": {},
   "source": [
    "## #(2) 12월 6일자 memberActionInfos2"
   ]
  },
  {
   "cell_type": "code",
   "execution_count": 4,
   "metadata": {},
   "outputs": [],
   "source": [
    "memberaction = pd.read_csv('1206memberActionInfos2.csv')"
   ]
  },
  {
   "cell_type": "code",
   "execution_count": 6,
   "metadata": {},
   "outputs": [
    {
     "data": {
      "text/html": [
       "<div>\n",
       "<style scoped>\n",
       "    .dataframe tbody tr th:only-of-type {\n",
       "        vertical-align: middle;\n",
       "    }\n",
       "\n",
       "    .dataframe tbody tr th {\n",
       "        vertical-align: top;\n",
       "    }\n",
       "\n",
       "    .dataframe thead th {\n",
       "        text-align: right;\n",
       "    }\n",
       "</style>\n",
       "<table border=\"1\" class=\"dataframe\">\n",
       "  <thead>\n",
       "    <tr style=\"text-align: right;\">\n",
       "      <th></th>\n",
       "      <th>_id</th>\n",
       "      <th>day</th>\n",
       "      <th>mid</th>\n",
       "    </tr>\n",
       "  </thead>\n",
       "  <tbody>\n",
       "    <tr>\n",
       "      <th>0</th>\n",
       "      <td>5c098e95e24f204cc755cc33</td>\n",
       "      <td>20181206</td>\n",
       "      <td>3022810</td>\n",
       "    </tr>\n",
       "    <tr>\n",
       "      <th>1</th>\n",
       "      <td>5c098e95e24f204cc755d255</td>\n",
       "      <td>20181206</td>\n",
       "      <td>3318434</td>\n",
       "    </tr>\n",
       "    <tr>\n",
       "      <th>2</th>\n",
       "      <td>5c098e95e24f204cc755cc35</td>\n",
       "      <td>20181206</td>\n",
       "      <td>1748628</td>\n",
       "    </tr>\n",
       "    <tr>\n",
       "      <th>3</th>\n",
       "      <td>5c098e95e24f204cc755cc38</td>\n",
       "      <td>20181206</td>\n",
       "      <td>8738835</td>\n",
       "    </tr>\n",
       "    <tr>\n",
       "      <th>4</th>\n",
       "      <td>5c098e95e24f204cc755d21d</td>\n",
       "      <td>20181206</td>\n",
       "      <td>1163135</td>\n",
       "    </tr>\n",
       "  </tbody>\n",
       "</table>\n",
       "</div>"
      ],
      "text/plain": [
       "                        _id       day      mid\n",
       "0  5c098e95e24f204cc755cc33  20181206  3022810\n",
       "1  5c098e95e24f204cc755d255  20181206  3318434\n",
       "2  5c098e95e24f204cc755cc35  20181206  1748628\n",
       "3  5c098e95e24f204cc755cc38  20181206  8738835\n",
       "4  5c098e95e24f204cc755d21d  20181206  1163135"
      ]
     },
     "execution_count": 6,
     "metadata": {},
     "output_type": "execute_result"
    }
   ],
   "source": [
    "memberaction.head()"
   ]
  },
  {
   "cell_type": "code",
   "execution_count": 11,
   "metadata": {},
   "outputs": [
    {
     "data": {
      "text/plain": [
       "(1315052, 3)"
      ]
     },
     "execution_count": 11,
     "metadata": {},
     "output_type": "execute_result"
    }
   ],
   "source": [
    "memberaction.shape"
   ]
  },
  {
   "cell_type": "markdown",
   "metadata": {},
   "source": [
    "- 약 130만명의 활동기록!"
   ]
  },
  {
   "cell_type": "markdown",
   "metadata": {},
   "source": [
    "---"
   ]
  },
  {
   "cell_type": "code",
   "execution_count": 21,
   "metadata": {},
   "outputs": [
    {
     "name": "stdout",
     "output_type": "stream",
     "text": [
      "<class 'pandas.core.frame.DataFrame'>\n",
      "RangeIndex: 1315052 entries, 0 to 1315051\n",
      "Data columns (total 3 columns):\n",
      "_id    1315052 non-null object\n",
      "day    1315052 non-null int64\n",
      "mid    1315052 non-null int64\n",
      "dtypes: int64(2), object(1)\n",
      "memory usage: 30.1+ MB\n"
     ]
    }
   ],
   "source": [
    "memberaction.info()"
   ]
  },
  {
   "cell_type": "code",
   "execution_count": 23,
   "metadata": {},
   "outputs": [
    {
     "data": {
      "text/html": [
       "<div>\n",
       "<style scoped>\n",
       "    .dataframe tbody tr th:only-of-type {\n",
       "        vertical-align: middle;\n",
       "    }\n",
       "\n",
       "    .dataframe tbody tr th {\n",
       "        vertical-align: top;\n",
       "    }\n",
       "\n",
       "    .dataframe thead th {\n",
       "        text-align: right;\n",
       "    }\n",
       "</style>\n",
       "<table border=\"1\" class=\"dataframe\">\n",
       "  <thead>\n",
       "    <tr style=\"text-align: right;\">\n",
       "      <th></th>\n",
       "      <th>_id</th>\n",
       "      <th>day</th>\n",
       "      <th>mid</th>\n",
       "    </tr>\n",
       "  </thead>\n",
       "  <tbody>\n",
       "    <tr>\n",
       "      <th>1010971</th>\n",
       "      <td>5c098ec15f489f6e70c40757</td>\n",
       "      <td>20181206</td>\n",
       "      <td>14952202</td>\n",
       "    </tr>\n",
       "  </tbody>\n",
       "</table>\n",
       "</div>"
      ],
      "text/plain": [
       "                              _id       day       mid\n",
       "1010971  5c098ec15f489f6e70c40757  20181206  14952202"
      ]
     },
     "execution_count": 23,
     "metadata": {},
     "output_type": "execute_result"
    }
   ],
   "source": [
    "memberaction[memberaction._id == \"5c098ec15f489f6e70c40757\"]"
   ]
  },
  {
   "cell_type": "markdown",
   "metadata": {},
   "source": [
    "---"
   ]
  },
  {
   "cell_type": "markdown",
   "metadata": {},
   "source": [
    "## #(3) 그렇다면 12월 6일 멤버 130만명 중 buy it again 노출 비율은?"
   ]
  },
  {
   "cell_type": "markdown",
   "metadata": {},
   "source": [
    "* merge로 결과보기"
   ]
  },
  {
   "cell_type": "code",
   "execution_count": 13,
   "metadata": {},
   "outputs": [],
   "source": [
    "result = pd.merge(buyit, memberaction, on='mid')"
   ]
  },
  {
   "cell_type": "code",
   "execution_count": 24,
   "metadata": {},
   "outputs": [
    {
     "data": {
      "text/html": [
       "<div>\n",
       "<style scoped>\n",
       "    .dataframe tbody tr th:only-of-type {\n",
       "        vertical-align: middle;\n",
       "    }\n",
       "\n",
       "    .dataframe tbody tr th {\n",
       "        vertical-align: top;\n",
       "    }\n",
       "\n",
       "    .dataframe thead th {\n",
       "        text-align: right;\n",
       "    }\n",
       "</style>\n",
       "<table border=\"1\" class=\"dataframe\">\n",
       "  <thead>\n",
       "    <tr style=\"text-align: right;\">\n",
       "      <th></th>\n",
       "      <th>_id_x</th>\n",
       "      <th>date</th>\n",
       "      <th>mid</th>\n",
       "      <th>_id_y</th>\n",
       "      <th>day</th>\n",
       "    </tr>\n",
       "  </thead>\n",
       "  <tbody>\n",
       "    <tr>\n",
       "      <th>0</th>\n",
       "      <td>5c0996e66fec50519ddffdff</td>\n",
       "      <td>2018-12-06T21:35:52.409Z</td>\n",
       "      <td>14952202</td>\n",
       "      <td>5c098ec15f489f6e70c40757</td>\n",
       "      <td>20181206</td>\n",
       "    </tr>\n",
       "    <tr>\n",
       "      <th>1</th>\n",
       "      <td>5c0996e66fec50519ddffe1f</td>\n",
       "      <td>2018-12-06T21:35:52.409Z</td>\n",
       "      <td>7885200</td>\n",
       "      <td>5c098ec15f489f6a9399fc7e</td>\n",
       "      <td>20181206</td>\n",
       "    </tr>\n",
       "    <tr>\n",
       "      <th>2</th>\n",
       "      <td>5c0996e66fec50519ddffe39</td>\n",
       "      <td>2018-12-06T21:35:52.409Z</td>\n",
       "      <td>20233407</td>\n",
       "      <td>5c098ea9e24f204cc36f723d</td>\n",
       "      <td>20181206</td>\n",
       "    </tr>\n",
       "    <tr>\n",
       "      <th>3</th>\n",
       "      <td>5c0996e66fec50519ddffe3c</td>\n",
       "      <td>2018-12-06T21:35:52.409Z</td>\n",
       "      <td>7273401</td>\n",
       "      <td>5c098ec8dc421e7c38603eed</td>\n",
       "      <td>20181206</td>\n",
       "    </tr>\n",
       "    <tr>\n",
       "      <th>4</th>\n",
       "      <td>5c0996e66fec50519ddffe57</td>\n",
       "      <td>2018-12-06T21:35:52.409Z</td>\n",
       "      <td>9199400</td>\n",
       "      <td>5c098ec95f489f6a0f7136f2</td>\n",
       "      <td>20181206</td>\n",
       "    </tr>\n",
       "  </tbody>\n",
       "</table>\n",
       "</div>"
      ],
      "text/plain": [
       "                      _id_x                      date       mid  \\\n",
       "0  5c0996e66fec50519ddffdff  2018-12-06T21:35:52.409Z  14952202   \n",
       "1  5c0996e66fec50519ddffe1f  2018-12-06T21:35:52.409Z   7885200   \n",
       "2  5c0996e66fec50519ddffe39  2018-12-06T21:35:52.409Z  20233407   \n",
       "3  5c0996e66fec50519ddffe3c  2018-12-06T21:35:52.409Z   7273401   \n",
       "4  5c0996e66fec50519ddffe57  2018-12-06T21:35:52.409Z   9199400   \n",
       "\n",
       "                      _id_y       day  \n",
       "0  5c098ec15f489f6e70c40757  20181206  \n",
       "1  5c098ec15f489f6a9399fc7e  20181206  \n",
       "2  5c098ea9e24f204cc36f723d  20181206  \n",
       "3  5c098ec8dc421e7c38603eed  20181206  \n",
       "4  5c098ec95f489f6a0f7136f2  20181206  "
      ]
     },
     "execution_count": 24,
     "metadata": {},
     "output_type": "execute_result"
    }
   ],
   "source": [
    "result.head()"
   ]
  },
  {
   "cell_type": "code",
   "execution_count": 42,
   "metadata": {},
   "outputs": [
    {
     "data": {
      "text/plain": [
       "(358198, 5)"
      ]
     },
     "execution_count": 42,
     "metadata": {},
     "output_type": "execute_result"
    }
   ],
   "source": [
    "result.shape"
   ]
  },
  {
   "cell_type": "markdown",
   "metadata": {},
   "source": [
    "---"
   ]
  },
  {
   "cell_type": "markdown",
   "metadata": {},
   "source": [
    "* <U>concat로 결과주기 - concat은 여기에 적합하지 않나본데?</U>"
   ]
  },
  {
   "cell_type": "code",
   "execution_count": 18,
   "metadata": {},
   "outputs": [],
   "source": [
    "result1 = pd.concat([buyit.mid, memberaction.mid], axis=1, join='inner')"
   ]
  },
  {
   "cell_type": "code",
   "execution_count": 25,
   "metadata": {},
   "outputs": [
    {
     "data": {
      "text/html": [
       "<div>\n",
       "<style scoped>\n",
       "    .dataframe tbody tr th:only-of-type {\n",
       "        vertical-align: middle;\n",
       "    }\n",
       "\n",
       "    .dataframe tbody tr th {\n",
       "        vertical-align: top;\n",
       "    }\n",
       "\n",
       "    .dataframe thead th {\n",
       "        text-align: right;\n",
       "    }\n",
       "</style>\n",
       "<table border=\"1\" class=\"dataframe\">\n",
       "  <thead>\n",
       "    <tr style=\"text-align: right;\">\n",
       "      <th></th>\n",
       "      <th>mid</th>\n",
       "      <th>mid</th>\n",
       "    </tr>\n",
       "  </thead>\n",
       "  <tbody>\n",
       "    <tr>\n",
       "      <th>0</th>\n",
       "      <td>12364604</td>\n",
       "      <td>3022810</td>\n",
       "    </tr>\n",
       "    <tr>\n",
       "      <th>1</th>\n",
       "      <td>4374202</td>\n",
       "      <td>3318434</td>\n",
       "    </tr>\n",
       "    <tr>\n",
       "      <th>2</th>\n",
       "      <td>23801000</td>\n",
       "      <td>1748628</td>\n",
       "    </tr>\n",
       "    <tr>\n",
       "      <th>3</th>\n",
       "      <td>2188602</td>\n",
       "      <td>8738835</td>\n",
       "    </tr>\n",
       "    <tr>\n",
       "      <th>4</th>\n",
       "      <td>14952202</td>\n",
       "      <td>1163135</td>\n",
       "    </tr>\n",
       "  </tbody>\n",
       "</table>\n",
       "</div>"
      ],
      "text/plain": [
       "        mid      mid\n",
       "0  12364604  3022810\n",
       "1   4374202  3318434\n",
       "2  23801000  1748628\n",
       "3   2188602  8738835\n",
       "4  14952202  1163135"
      ]
     },
     "execution_count": 25,
     "metadata": {},
     "output_type": "execute_result"
    }
   ],
   "source": [
    "result1.head()"
   ]
  },
  {
   "cell_type": "code",
   "execution_count": 20,
   "metadata": {},
   "outputs": [
    {
     "data": {
      "text/plain": [
       "Index(['mid', 'mid'], dtype='object')"
      ]
     },
     "execution_count": 20,
     "metadata": {},
     "output_type": "execute_result"
    }
   ],
   "source": [
    "result1.columns"
   ]
  },
  {
   "cell_type": "markdown",
   "metadata": {},
   "source": [
    "---"
   ]
  },
  {
   "cell_type": "markdown",
   "metadata": {},
   "source": [
    "## #(4) member의 등급을 활용 할 수 있지 않을까? "
   ]
  },
  {
   "cell_type": "code",
   "execution_count": 27,
   "metadata": {},
   "outputs": [],
   "source": [
    "info = pd.read_csv('memberinfo.csv')"
   ]
  },
  {
   "cell_type": "code",
   "execution_count": 28,
   "metadata": {},
   "outputs": [
    {
     "data": {
      "text/html": [
       "<div>\n",
       "<style scoped>\n",
       "    .dataframe tbody tr th:only-of-type {\n",
       "        vertical-align: middle;\n",
       "    }\n",
       "\n",
       "    .dataframe tbody tr th {\n",
       "        vertical-align: top;\n",
       "    }\n",
       "\n",
       "    .dataframe thead th {\n",
       "        text-align: right;\n",
       "    }\n",
       "</style>\n",
       "<table border=\"1\" class=\"dataframe\">\n",
       "  <thead>\n",
       "    <tr style=\"text-align: right;\">\n",
       "      <th></th>\n",
       "      <th>_id</th>\n",
       "      <th>g</th>\n",
       "      <th>mid</th>\n",
       "    </tr>\n",
       "  </thead>\n",
       "  <tbody>\n",
       "    <tr>\n",
       "      <th>0</th>\n",
       "      <td>1026018</td>\n",
       "      <td>9</td>\n",
       "      <td>1026018</td>\n",
       "    </tr>\n",
       "    <tr>\n",
       "      <th>1</th>\n",
       "      <td>1026034</td>\n",
       "      <td>9</td>\n",
       "      <td>1026034</td>\n",
       "    </tr>\n",
       "    <tr>\n",
       "      <th>2</th>\n",
       "      <td>1026050</td>\n",
       "      <td>9</td>\n",
       "      <td>1026050</td>\n",
       "    </tr>\n",
       "    <tr>\n",
       "      <th>3</th>\n",
       "      <td>1026054</td>\n",
       "      <td>9</td>\n",
       "      <td>1026054</td>\n",
       "    </tr>\n",
       "    <tr>\n",
       "      <th>4</th>\n",
       "      <td>1026086</td>\n",
       "      <td>9</td>\n",
       "      <td>1026086</td>\n",
       "    </tr>\n",
       "  </tbody>\n",
       "</table>\n",
       "</div>"
      ],
      "text/plain": [
       "       _id  g      mid\n",
       "0  1026018  9  1026018\n",
       "1  1026034  9  1026034\n",
       "2  1026050  9  1026050\n",
       "3  1026054  9  1026054\n",
       "4  1026086  9  1026086"
      ]
     },
     "execution_count": 28,
     "metadata": {},
     "output_type": "execute_result"
    }
   ],
   "source": [
    "info.head()"
   ]
  },
  {
   "cell_type": "code",
   "execution_count": 29,
   "metadata": {},
   "outputs": [
    {
     "data": {
      "text/html": [
       "<div>\n",
       "<style scoped>\n",
       "    .dataframe tbody tr th:only-of-type {\n",
       "        vertical-align: middle;\n",
       "    }\n",
       "\n",
       "    .dataframe tbody tr th {\n",
       "        vertical-align: top;\n",
       "    }\n",
       "\n",
       "    .dataframe thead th {\n",
       "        text-align: right;\n",
       "    }\n",
       "</style>\n",
       "<table border=\"1\" class=\"dataframe\">\n",
       "  <thead>\n",
       "    <tr style=\"text-align: right;\">\n",
       "      <th></th>\n",
       "      <th>_id_x</th>\n",
       "      <th>date</th>\n",
       "      <th>mid</th>\n",
       "      <th>_id_y</th>\n",
       "      <th>day</th>\n",
       "    </tr>\n",
       "  </thead>\n",
       "  <tbody>\n",
       "    <tr>\n",
       "      <th>0</th>\n",
       "      <td>5c0996e66fec50519ddffdff</td>\n",
       "      <td>2018-12-06T21:35:52.409Z</td>\n",
       "      <td>14952202</td>\n",
       "      <td>5c098ec15f489f6e70c40757</td>\n",
       "      <td>20181206</td>\n",
       "    </tr>\n",
       "    <tr>\n",
       "      <th>1</th>\n",
       "      <td>5c0996e66fec50519ddffe1f</td>\n",
       "      <td>2018-12-06T21:35:52.409Z</td>\n",
       "      <td>7885200</td>\n",
       "      <td>5c098ec15f489f6a9399fc7e</td>\n",
       "      <td>20181206</td>\n",
       "    </tr>\n",
       "    <tr>\n",
       "      <th>2</th>\n",
       "      <td>5c0996e66fec50519ddffe39</td>\n",
       "      <td>2018-12-06T21:35:52.409Z</td>\n",
       "      <td>20233407</td>\n",
       "      <td>5c098ea9e24f204cc36f723d</td>\n",
       "      <td>20181206</td>\n",
       "    </tr>\n",
       "    <tr>\n",
       "      <th>3</th>\n",
       "      <td>5c0996e66fec50519ddffe3c</td>\n",
       "      <td>2018-12-06T21:35:52.409Z</td>\n",
       "      <td>7273401</td>\n",
       "      <td>5c098ec8dc421e7c38603eed</td>\n",
       "      <td>20181206</td>\n",
       "    </tr>\n",
       "    <tr>\n",
       "      <th>4</th>\n",
       "      <td>5c0996e66fec50519ddffe57</td>\n",
       "      <td>2018-12-06T21:35:52.409Z</td>\n",
       "      <td>9199400</td>\n",
       "      <td>5c098ec95f489f6a0f7136f2</td>\n",
       "      <td>20181206</td>\n",
       "    </tr>\n",
       "  </tbody>\n",
       "</table>\n",
       "</div>"
      ],
      "text/plain": [
       "                      _id_x                      date       mid  \\\n",
       "0  5c0996e66fec50519ddffdff  2018-12-06T21:35:52.409Z  14952202   \n",
       "1  5c0996e66fec50519ddffe1f  2018-12-06T21:35:52.409Z   7885200   \n",
       "2  5c0996e66fec50519ddffe39  2018-12-06T21:35:52.409Z  20233407   \n",
       "3  5c0996e66fec50519ddffe3c  2018-12-06T21:35:52.409Z   7273401   \n",
       "4  5c0996e66fec50519ddffe57  2018-12-06T21:35:52.409Z   9199400   \n",
       "\n",
       "                      _id_y       day  \n",
       "0  5c098ec15f489f6e70c40757  20181206  \n",
       "1  5c098ec15f489f6a9399fc7e  20181206  \n",
       "2  5c098ea9e24f204cc36f723d  20181206  \n",
       "3  5c098ec8dc421e7c38603eed  20181206  \n",
       "4  5c098ec95f489f6a0f7136f2  20181206  "
      ]
     },
     "execution_count": 29,
     "metadata": {},
     "output_type": "execute_result"
    }
   ],
   "source": [
    "result.head()"
   ]
  },
  {
   "cell_type": "markdown",
   "metadata": {},
   "source": [
    "### # 이렇게"
   ]
  },
  {
   "cell_type": "code",
   "execution_count": 30,
   "metadata": {},
   "outputs": [],
   "source": [
    "result_ = pd.merge(result, info, on='mid')"
   ]
  },
  {
   "cell_type": "code",
   "execution_count": 44,
   "metadata": {},
   "outputs": [
    {
     "data": {
      "text/plain": [
       "0.2722614771126921"
      ]
     },
     "execution_count": 44,
     "metadata": {},
     "output_type": "execute_result"
    }
   ],
   "source": [
    "358038/1315052"
   ]
  },
  {
   "cell_type": "code",
   "execution_count": 32,
   "metadata": {},
   "outputs": [
    {
     "data": {
      "text/plain": [
       "((358038, 7), (358198, 5))"
      ]
     },
     "execution_count": 32,
     "metadata": {},
     "output_type": "execute_result"
    }
   ],
   "source": [
    "result_.shape, result.shape  # user등급이 없는애도 있나보다!"
   ]
  },
  {
   "cell_type": "code",
   "execution_count": 33,
   "metadata": {},
   "outputs": [
    {
     "data": {
      "text/html": [
       "<div>\n",
       "<style scoped>\n",
       "    .dataframe tbody tr th:only-of-type {\n",
       "        vertical-align: middle;\n",
       "    }\n",
       "\n",
       "    .dataframe tbody tr th {\n",
       "        vertical-align: top;\n",
       "    }\n",
       "\n",
       "    .dataframe thead th {\n",
       "        text-align: right;\n",
       "    }\n",
       "</style>\n",
       "<table border=\"1\" class=\"dataframe\">\n",
       "  <thead>\n",
       "    <tr style=\"text-align: right;\">\n",
       "      <th></th>\n",
       "      <th>_id_x</th>\n",
       "      <th>date</th>\n",
       "      <th>mid</th>\n",
       "      <th>_id_y</th>\n",
       "      <th>day</th>\n",
       "      <th>_id</th>\n",
       "      <th>g</th>\n",
       "    </tr>\n",
       "  </thead>\n",
       "  <tbody>\n",
       "    <tr>\n",
       "      <th>0</th>\n",
       "      <td>5c0996e66fec50519ddffdff</td>\n",
       "      <td>2018-12-06T21:35:52.409Z</td>\n",
       "      <td>14952202</td>\n",
       "      <td>5c098ec15f489f6e70c40757</td>\n",
       "      <td>20181206</td>\n",
       "      <td>14952202</td>\n",
       "      <td>1</td>\n",
       "    </tr>\n",
       "    <tr>\n",
       "      <th>1</th>\n",
       "      <td>5c0996e66fec50519ddffe1f</td>\n",
       "      <td>2018-12-06T21:35:52.409Z</td>\n",
       "      <td>7885200</td>\n",
       "      <td>5c098ec15f489f6a9399fc7e</td>\n",
       "      <td>20181206</td>\n",
       "      <td>7885200</td>\n",
       "      <td>9</td>\n",
       "    </tr>\n",
       "    <tr>\n",
       "      <th>2</th>\n",
       "      <td>5c0996e66fec50519ddffe39</td>\n",
       "      <td>2018-12-06T21:35:52.409Z</td>\n",
       "      <td>20233407</td>\n",
       "      <td>5c098ea9e24f204cc36f723d</td>\n",
       "      <td>20181206</td>\n",
       "      <td>20233407</td>\n",
       "      <td>3</td>\n",
       "    </tr>\n",
       "    <tr>\n",
       "      <th>3</th>\n",
       "      <td>5c0996e66fec50519ddffe3c</td>\n",
       "      <td>2018-12-06T21:35:52.409Z</td>\n",
       "      <td>7273401</td>\n",
       "      <td>5c098ec8dc421e7c38603eed</td>\n",
       "      <td>20181206</td>\n",
       "      <td>7273401</td>\n",
       "      <td>2</td>\n",
       "    </tr>\n",
       "    <tr>\n",
       "      <th>4</th>\n",
       "      <td>5c0996e66fec50519ddffe57</td>\n",
       "      <td>2018-12-06T21:35:52.409Z</td>\n",
       "      <td>9199400</td>\n",
       "      <td>5c098ec95f489f6a0f7136f2</td>\n",
       "      <td>20181206</td>\n",
       "      <td>9199400</td>\n",
       "      <td>2</td>\n",
       "    </tr>\n",
       "  </tbody>\n",
       "</table>\n",
       "</div>"
      ],
      "text/plain": [
       "                      _id_x                      date       mid  \\\n",
       "0  5c0996e66fec50519ddffdff  2018-12-06T21:35:52.409Z  14952202   \n",
       "1  5c0996e66fec50519ddffe1f  2018-12-06T21:35:52.409Z   7885200   \n",
       "2  5c0996e66fec50519ddffe39  2018-12-06T21:35:52.409Z  20233407   \n",
       "3  5c0996e66fec50519ddffe3c  2018-12-06T21:35:52.409Z   7273401   \n",
       "4  5c0996e66fec50519ddffe57  2018-12-06T21:35:52.409Z   9199400   \n",
       "\n",
       "                      _id_y       day       _id  g  \n",
       "0  5c098ec15f489f6e70c40757  20181206  14952202  1  \n",
       "1  5c098ec15f489f6a9399fc7e  20181206   7885200  9  \n",
       "2  5c098ea9e24f204cc36f723d  20181206  20233407  3  \n",
       "3  5c098ec8dc421e7c38603eed  20181206   7273401  2  \n",
       "4  5c098ec95f489f6a0f7136f2  20181206   9199400  2  "
      ]
     },
     "execution_count": 33,
     "metadata": {},
     "output_type": "execute_result"
    }
   ],
   "source": [
    "result_.head()"
   ]
  },
  {
   "cell_type": "code",
   "execution_count": 34,
   "metadata": {},
   "outputs": [
    {
     "data": {
      "text/html": [
       "<div>\n",
       "<style scoped>\n",
       "    .dataframe tbody tr th:only-of-type {\n",
       "        vertical-align: middle;\n",
       "    }\n",
       "\n",
       "    .dataframe tbody tr th {\n",
       "        vertical-align: top;\n",
       "    }\n",
       "\n",
       "    .dataframe thead th {\n",
       "        text-align: right;\n",
       "    }\n",
       "</style>\n",
       "<table border=\"1\" class=\"dataframe\">\n",
       "  <thead>\n",
       "    <tr style=\"text-align: right;\">\n",
       "      <th></th>\n",
       "      <th>_id_x</th>\n",
       "      <th>date</th>\n",
       "      <th>mid</th>\n",
       "      <th>_id_y</th>\n",
       "      <th>day</th>\n",
       "      <th>_id</th>\n",
       "    </tr>\n",
       "    <tr>\n",
       "      <th>g</th>\n",
       "      <th></th>\n",
       "      <th></th>\n",
       "      <th></th>\n",
       "      <th></th>\n",
       "      <th></th>\n",
       "      <th></th>\n",
       "    </tr>\n",
       "  </thead>\n",
       "  <tbody>\n",
       "    <tr>\n",
       "      <th>0</th>\n",
       "      <td>5069</td>\n",
       "      <td>5069</td>\n",
       "      <td>5069</td>\n",
       "      <td>5069</td>\n",
       "      <td>5069</td>\n",
       "      <td>5069</td>\n",
       "    </tr>\n",
       "    <tr>\n",
       "      <th>1</th>\n",
       "      <td>72855</td>\n",
       "      <td>72855</td>\n",
       "      <td>72855</td>\n",
       "      <td>72855</td>\n",
       "      <td>72855</td>\n",
       "      <td>72855</td>\n",
       "    </tr>\n",
       "    <tr>\n",
       "      <th>2</th>\n",
       "      <td>82346</td>\n",
       "      <td>82346</td>\n",
       "      <td>82346</td>\n",
       "      <td>82346</td>\n",
       "      <td>82346</td>\n",
       "      <td>82346</td>\n",
       "    </tr>\n",
       "    <tr>\n",
       "      <th>3</th>\n",
       "      <td>46776</td>\n",
       "      <td>46776</td>\n",
       "      <td>46776</td>\n",
       "      <td>46776</td>\n",
       "      <td>46776</td>\n",
       "      <td>46776</td>\n",
       "    </tr>\n",
       "    <tr>\n",
       "      <th>8</th>\n",
       "      <td>2467</td>\n",
       "      <td>2467</td>\n",
       "      <td>2467</td>\n",
       "      <td>2467</td>\n",
       "      <td>2467</td>\n",
       "      <td>2467</td>\n",
       "    </tr>\n",
       "    <tr>\n",
       "      <th>9</th>\n",
       "      <td>148525</td>\n",
       "      <td>148525</td>\n",
       "      <td>148525</td>\n",
       "      <td>148525</td>\n",
       "      <td>148525</td>\n",
       "      <td>148525</td>\n",
       "    </tr>\n",
       "  </tbody>\n",
       "</table>\n",
       "</div>"
      ],
      "text/plain": [
       "    _id_x    date     mid   _id_y     day     _id\n",
       "g                                                \n",
       "0    5069    5069    5069    5069    5069    5069\n",
       "1   72855   72855   72855   72855   72855   72855\n",
       "2   82346   82346   82346   82346   82346   82346\n",
       "3   46776   46776   46776   46776   46776   46776\n",
       "8    2467    2467    2467    2467    2467    2467\n",
       "9  148525  148525  148525  148525  148525  148525"
      ]
     },
     "execution_count": 34,
     "metadata": {},
     "output_type": "execute_result"
    }
   ],
   "source": [
    "result_.groupby('g').count()"
   ]
  },
  {
   "cell_type": "markdown",
   "metadata": {},
   "source": [
    "---"
   ]
  },
  {
   "cell_type": "code",
   "execution_count": 35,
   "metadata": {},
   "outputs": [],
   "source": [
    "memberaction_ = pd.merge(memberaction, info, on='mid')"
   ]
  },
  {
   "cell_type": "code",
   "execution_count": 36,
   "metadata": {},
   "outputs": [
    {
     "data": {
      "text/plain": [
       "((1312204, 5), (1315052, 3))"
      ]
     },
     "execution_count": 36,
     "metadata": {},
     "output_type": "execute_result"
    }
   ],
   "source": [
    "memberaction_.shape, memberaction.shape"
   ]
  },
  {
   "cell_type": "code",
   "execution_count": 38,
   "metadata": {},
   "outputs": [
    {
     "data": {
      "text/plain": [
       "2848"
      ]
     },
     "execution_count": 38,
     "metadata": {},
     "output_type": "execute_result"
    }
   ],
   "source": [
    "memberaction.shape[0] - memberaction_.shape[0]  # 2848명이 그때 당시에는 "
   ]
  },
  {
   "cell_type": "code",
   "execution_count": 39,
   "metadata": {},
   "outputs": [
    {
     "data": {
      "text/html": [
       "<div>\n",
       "<style scoped>\n",
       "    .dataframe tbody tr th:only-of-type {\n",
       "        vertical-align: middle;\n",
       "    }\n",
       "\n",
       "    .dataframe tbody tr th {\n",
       "        vertical-align: top;\n",
       "    }\n",
       "\n",
       "    .dataframe thead th {\n",
       "        text-align: right;\n",
       "    }\n",
       "</style>\n",
       "<table border=\"1\" class=\"dataframe\">\n",
       "  <thead>\n",
       "    <tr style=\"text-align: right;\">\n",
       "      <th></th>\n",
       "      <th>_id_x</th>\n",
       "      <th>day</th>\n",
       "      <th>mid</th>\n",
       "      <th>_id_y</th>\n",
       "    </tr>\n",
       "    <tr>\n",
       "      <th>g</th>\n",
       "      <th></th>\n",
       "      <th></th>\n",
       "      <th></th>\n",
       "      <th></th>\n",
       "    </tr>\n",
       "  </thead>\n",
       "  <tbody>\n",
       "    <tr>\n",
       "      <th>0</th>\n",
       "      <td>70447</td>\n",
       "      <td>70447</td>\n",
       "      <td>70447</td>\n",
       "      <td>70447</td>\n",
       "    </tr>\n",
       "    <tr>\n",
       "      <th>1</th>\n",
       "      <td>197824</td>\n",
       "      <td>197824</td>\n",
       "      <td>197824</td>\n",
       "      <td>197824</td>\n",
       "    </tr>\n",
       "    <tr>\n",
       "      <th>2</th>\n",
       "      <td>174500</td>\n",
       "      <td>174500</td>\n",
       "      <td>174500</td>\n",
       "      <td>174500</td>\n",
       "    </tr>\n",
       "    <tr>\n",
       "      <th>3</th>\n",
       "      <td>82517</td>\n",
       "      <td>82517</td>\n",
       "      <td>82517</td>\n",
       "      <td>82517</td>\n",
       "    </tr>\n",
       "    <tr>\n",
       "      <th>8</th>\n",
       "      <td>24347</td>\n",
       "      <td>24347</td>\n",
       "      <td>24347</td>\n",
       "      <td>24347</td>\n",
       "    </tr>\n",
       "    <tr>\n",
       "      <th>9</th>\n",
       "      <td>762569</td>\n",
       "      <td>762569</td>\n",
       "      <td>762569</td>\n",
       "      <td>762569</td>\n",
       "    </tr>\n",
       "  </tbody>\n",
       "</table>\n",
       "</div>"
      ],
      "text/plain": [
       "    _id_x     day     mid   _id_y\n",
       "g                                \n",
       "0   70447   70447   70447   70447\n",
       "1  197824  197824  197824  197824\n",
       "2  174500  174500  174500  174500\n",
       "3   82517   82517   82517   82517\n",
       "8   24347   24347   24347   24347\n",
       "9  762569  762569  762569  762569"
      ]
     },
     "execution_count": 39,
     "metadata": {},
     "output_type": "execute_result"
    }
   ],
   "source": [
    "memberaction_.groupby('g').count()"
   ]
  },
  {
   "cell_type": "code",
   "execution_count": 41,
   "metadata": {},
   "outputs": [
    {
     "data": {
      "text/html": [
       "<div>\n",
       "<style scoped>\n",
       "    .dataframe tbody tr th:only-of-type {\n",
       "        vertical-align: middle;\n",
       "    }\n",
       "\n",
       "    .dataframe tbody tr th {\n",
       "        vertical-align: top;\n",
       "    }\n",
       "\n",
       "    .dataframe thead th {\n",
       "        text-align: right;\n",
       "    }\n",
       "</style>\n",
       "<table border=\"1\" class=\"dataframe\">\n",
       "  <thead>\n",
       "    <tr style=\"text-align: right;\">\n",
       "      <th></th>\n",
       "      <th>_id</th>\n",
       "      <th>mid</th>\n",
       "    </tr>\n",
       "    <tr>\n",
       "      <th>g</th>\n",
       "      <th></th>\n",
       "      <th></th>\n",
       "    </tr>\n",
       "  </thead>\n",
       "  <tbody>\n",
       "    <tr>\n",
       "      <th>0</th>\n",
       "      <td>4430363</td>\n",
       "      <td>4430363</td>\n",
       "    </tr>\n",
       "    <tr>\n",
       "      <th>1</th>\n",
       "      <td>514790</td>\n",
       "      <td>514790</td>\n",
       "    </tr>\n",
       "    <tr>\n",
       "      <th>2</th>\n",
       "      <td>357962</td>\n",
       "      <td>357962</td>\n",
       "    </tr>\n",
       "    <tr>\n",
       "      <th>3</th>\n",
       "      <td>158560</td>\n",
       "      <td>158560</td>\n",
       "    </tr>\n",
       "    <tr>\n",
       "      <th>8</th>\n",
       "      <td>4500095</td>\n",
       "      <td>4500095</td>\n",
       "    </tr>\n",
       "    <tr>\n",
       "      <th>9</th>\n",
       "      <td>10748121</td>\n",
       "      <td>10748121</td>\n",
       "    </tr>\n",
       "  </tbody>\n",
       "</table>\n",
       "</div>"
      ],
      "text/plain": [
       "        _id       mid\n",
       "g                    \n",
       "0   4430363   4430363\n",
       "1    514790    514790\n",
       "2    357962    357962\n",
       "3    158560    158560\n",
       "8   4500095   4500095\n",
       "9  10748121  10748121"
      ]
     },
     "execution_count": 41,
     "metadata": {},
     "output_type": "execute_result"
    }
   ],
   "source": [
    "info.groupby('g').count()"
   ]
  },
  {
   "cell_type": "code",
   "execution_count": 43,
   "metadata": {},
   "outputs": [
    {
     "data": {
      "text/plain": [
       "(20709891, 3)"
      ]
     },
     "execution_count": 43,
     "metadata": {},
     "output_type": "execute_result"
    }
   ],
   "source": [
    "info.shape"
   ]
  },
  {
   "cell_type": "code",
   "execution_count": null,
   "metadata": {},
   "outputs": [],
   "source": []
  }
 ],
 "metadata": {
  "kernelspec": {
   "display_name": "Python [default]",
   "language": "python",
   "name": "python3"
  },
  "language_info": {
   "codemirror_mode": {
    "name": "ipython",
    "version": 3
   },
   "file_extension": ".py",
   "mimetype": "text/x-python",
   "name": "python",
   "nbconvert_exporter": "python",
   "pygments_lexer": "ipython3",
   "version": "3.6.6"
  }
 },
 "nbformat": 4,
 "nbformat_minor": 2
}
