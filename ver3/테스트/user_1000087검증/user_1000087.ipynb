{
 "cells": [
  {
   "cell_type": "markdown",
   "metadata": {},
   "source": [
    "# # user_1000087 의 거래내역이 맞게 계산되었나?"
   ]
  },
  {
   "cell_type": "markdown",
   "metadata": {},
   "source": [
    "![title](user.png)"
   ]
  },
  {
   "cell_type": "code",
   "execution_count": null,
   "metadata": {},
   "outputs": [],
   "source": [
    "did = "
   ]
  },
  {
   "cell_type": "code",
   "execution_count": 38,
   "metadata": {},
   "outputs": [],
   "source": [
    "did = [3055111, 3865190, 3360887,3313229,3617908,3884499,3884499,\n",
    "3941577,3360887,3715208,3715208,3715208,3963441,3959632,\n",
    "3976866,3976866,3981411,3981411,3981411,3988159,3980235,\n",
    "3978092,3993395,3993395,3461219,3857074,3611892,3360887,1942015,\n",
    "4004741,4004741,4004741,4004741,4004741,4015551,\n",
    "1886485,4034175,4034566,4034566,4039165,4039165,4039165,4039165,4039165,4032233,4032233,4032233,4032233,\n",
    "4038249,4038249,4038249,4038249,\n",
    "4030382,\n",
    "3939509,3939509,4044626,4044261,\n",
    "4014312,4053445,4080934,4080934,4081343,3337785,4098929,2143641,2143641,\n",
    "4108536,4108536,4108536,4108536,4108536,4108536,4108536,\n",
    "4111523,4111523,\n",
    "3391722,1942015,4014312]"
   ]
  },
  {
   "cell_type": "code",
   "execution_count": 39,
   "metadata": {},
   "outputs": [
    {
     "data": {
      "text/plain": [
       "[3055111,\n",
       " 3865190,\n",
       " 3360887,\n",
       " 3313229,\n",
       " 3617908,\n",
       " 3884499,\n",
       " 3884499,\n",
       " 3941577,\n",
       " 3360887,\n",
       " 3715208,\n",
       " 3715208,\n",
       " 3715208,\n",
       " 3963441,\n",
       " 3959632,\n",
       " 3976866,\n",
       " 3976866,\n",
       " 3981411,\n",
       " 3981411,\n",
       " 3981411,\n",
       " 3988159,\n",
       " 3980235,\n",
       " 3978092,\n",
       " 3993395,\n",
       " 3993395,\n",
       " 3461219,\n",
       " 3857074,\n",
       " 3611892,\n",
       " 3360887,\n",
       " 1942015,\n",
       " 4004741,\n",
       " 4004741,\n",
       " 4004741,\n",
       " 4004741,\n",
       " 4004741,\n",
       " 4015551,\n",
       " 1886485,\n",
       " 4034175,\n",
       " 4034566,\n",
       " 4034566,\n",
       " 4039165,\n",
       " 4039165,\n",
       " 4039165,\n",
       " 4039165,\n",
       " 4039165,\n",
       " 4032233,\n",
       " 4032233,\n",
       " 4032233,\n",
       " 4032233,\n",
       " 4038249,\n",
       " 4038249,\n",
       " 4038249,\n",
       " 4038249,\n",
       " 4030382,\n",
       " 3939509,\n",
       " 3939509,\n",
       " 4044626,\n",
       " 4044261,\n",
       " 4014312,\n",
       " 4053445,\n",
       " 4080934,\n",
       " 4080934,\n",
       " 4081343,\n",
       " 3337785,\n",
       " 4098929,\n",
       " 2143641,\n",
       " 2143641,\n",
       " 4108536,\n",
       " 4108536,\n",
       " 4108536,\n",
       " 4108536,\n",
       " 4108536,\n",
       " 4108536,\n",
       " 4108536,\n",
       " 4111523,\n",
       " 4111523,\n",
       " 3391722,\n",
       " 1942015,\n",
       " 4014312]"
      ]
     },
     "execution_count": 39,
     "metadata": {},
     "output_type": "execute_result"
    }
   ],
   "source": [
    "did"
   ]
  },
  {
   "cell_type": "code",
   "execution_count": 42,
   "metadata": {},
   "outputs": [],
   "source": [
    "import pandas as pd\n",
    "\n",
    "de = pd.DataFrame({'did' : did})"
   ]
  },
  {
   "cell_type": "code",
   "execution_count": 43,
   "metadata": {},
   "outputs": [
    {
     "data": {
      "text/html": [
       "<div>\n",
       "<style scoped>\n",
       "    .dataframe tbody tr th:only-of-type {\n",
       "        vertical-align: middle;\n",
       "    }\n",
       "\n",
       "    .dataframe tbody tr th {\n",
       "        vertical-align: top;\n",
       "    }\n",
       "\n",
       "    .dataframe thead th {\n",
       "        text-align: right;\n",
       "    }\n",
       "</style>\n",
       "<table border=\"1\" class=\"dataframe\">\n",
       "  <thead>\n",
       "    <tr style=\"text-align: right;\">\n",
       "      <th></th>\n",
       "      <th>did</th>\n",
       "    </tr>\n",
       "  </thead>\n",
       "  <tbody>\n",
       "    <tr>\n",
       "      <th>0</th>\n",
       "      <td>3055111</td>\n",
       "    </tr>\n",
       "    <tr>\n",
       "      <th>1</th>\n",
       "      <td>3865190</td>\n",
       "    </tr>\n",
       "    <tr>\n",
       "      <th>2</th>\n",
       "      <td>3360887</td>\n",
       "    </tr>\n",
       "    <tr>\n",
       "      <th>3</th>\n",
       "      <td>3313229</td>\n",
       "    </tr>\n",
       "    <tr>\n",
       "      <th>4</th>\n",
       "      <td>3617908</td>\n",
       "    </tr>\n",
       "    <tr>\n",
       "      <th>5</th>\n",
       "      <td>3884499</td>\n",
       "    </tr>\n",
       "    <tr>\n",
       "      <th>6</th>\n",
       "      <td>3884499</td>\n",
       "    </tr>\n",
       "    <tr>\n",
       "      <th>7</th>\n",
       "      <td>3941577</td>\n",
       "    </tr>\n",
       "    <tr>\n",
       "      <th>8</th>\n",
       "      <td>3360887</td>\n",
       "    </tr>\n",
       "    <tr>\n",
       "      <th>9</th>\n",
       "      <td>3715208</td>\n",
       "    </tr>\n",
       "    <tr>\n",
       "      <th>10</th>\n",
       "      <td>3715208</td>\n",
       "    </tr>\n",
       "    <tr>\n",
       "      <th>11</th>\n",
       "      <td>3715208</td>\n",
       "    </tr>\n",
       "    <tr>\n",
       "      <th>12</th>\n",
       "      <td>3963441</td>\n",
       "    </tr>\n",
       "    <tr>\n",
       "      <th>13</th>\n",
       "      <td>3959632</td>\n",
       "    </tr>\n",
       "    <tr>\n",
       "      <th>14</th>\n",
       "      <td>3976866</td>\n",
       "    </tr>\n",
       "    <tr>\n",
       "      <th>15</th>\n",
       "      <td>3976866</td>\n",
       "    </tr>\n",
       "    <tr>\n",
       "      <th>16</th>\n",
       "      <td>3981411</td>\n",
       "    </tr>\n",
       "    <tr>\n",
       "      <th>17</th>\n",
       "      <td>3981411</td>\n",
       "    </tr>\n",
       "    <tr>\n",
       "      <th>18</th>\n",
       "      <td>3981411</td>\n",
       "    </tr>\n",
       "    <tr>\n",
       "      <th>19</th>\n",
       "      <td>3988159</td>\n",
       "    </tr>\n",
       "    <tr>\n",
       "      <th>20</th>\n",
       "      <td>3980235</td>\n",
       "    </tr>\n",
       "    <tr>\n",
       "      <th>21</th>\n",
       "      <td>3978092</td>\n",
       "    </tr>\n",
       "    <tr>\n",
       "      <th>22</th>\n",
       "      <td>3993395</td>\n",
       "    </tr>\n",
       "    <tr>\n",
       "      <th>23</th>\n",
       "      <td>3993395</td>\n",
       "    </tr>\n",
       "    <tr>\n",
       "      <th>24</th>\n",
       "      <td>3461219</td>\n",
       "    </tr>\n",
       "    <tr>\n",
       "      <th>25</th>\n",
       "      <td>3857074</td>\n",
       "    </tr>\n",
       "    <tr>\n",
       "      <th>26</th>\n",
       "      <td>3611892</td>\n",
       "    </tr>\n",
       "    <tr>\n",
       "      <th>27</th>\n",
       "      <td>3360887</td>\n",
       "    </tr>\n",
       "    <tr>\n",
       "      <th>28</th>\n",
       "      <td>1942015</td>\n",
       "    </tr>\n",
       "    <tr>\n",
       "      <th>29</th>\n",
       "      <td>4004741</td>\n",
       "    </tr>\n",
       "    <tr>\n",
       "      <th>...</th>\n",
       "      <td>...</td>\n",
       "    </tr>\n",
       "    <tr>\n",
       "      <th>48</th>\n",
       "      <td>4038249</td>\n",
       "    </tr>\n",
       "    <tr>\n",
       "      <th>49</th>\n",
       "      <td>4038249</td>\n",
       "    </tr>\n",
       "    <tr>\n",
       "      <th>50</th>\n",
       "      <td>4038249</td>\n",
       "    </tr>\n",
       "    <tr>\n",
       "      <th>51</th>\n",
       "      <td>4038249</td>\n",
       "    </tr>\n",
       "    <tr>\n",
       "      <th>52</th>\n",
       "      <td>4030382</td>\n",
       "    </tr>\n",
       "    <tr>\n",
       "      <th>53</th>\n",
       "      <td>3939509</td>\n",
       "    </tr>\n",
       "    <tr>\n",
       "      <th>54</th>\n",
       "      <td>3939509</td>\n",
       "    </tr>\n",
       "    <tr>\n",
       "      <th>55</th>\n",
       "      <td>4044626</td>\n",
       "    </tr>\n",
       "    <tr>\n",
       "      <th>56</th>\n",
       "      <td>4044261</td>\n",
       "    </tr>\n",
       "    <tr>\n",
       "      <th>57</th>\n",
       "      <td>4014312</td>\n",
       "    </tr>\n",
       "    <tr>\n",
       "      <th>58</th>\n",
       "      <td>4053445</td>\n",
       "    </tr>\n",
       "    <tr>\n",
       "      <th>59</th>\n",
       "      <td>4080934</td>\n",
       "    </tr>\n",
       "    <tr>\n",
       "      <th>60</th>\n",
       "      <td>4080934</td>\n",
       "    </tr>\n",
       "    <tr>\n",
       "      <th>61</th>\n",
       "      <td>4081343</td>\n",
       "    </tr>\n",
       "    <tr>\n",
       "      <th>62</th>\n",
       "      <td>3337785</td>\n",
       "    </tr>\n",
       "    <tr>\n",
       "      <th>63</th>\n",
       "      <td>4098929</td>\n",
       "    </tr>\n",
       "    <tr>\n",
       "      <th>64</th>\n",
       "      <td>2143641</td>\n",
       "    </tr>\n",
       "    <tr>\n",
       "      <th>65</th>\n",
       "      <td>2143641</td>\n",
       "    </tr>\n",
       "    <tr>\n",
       "      <th>66</th>\n",
       "      <td>4108536</td>\n",
       "    </tr>\n",
       "    <tr>\n",
       "      <th>67</th>\n",
       "      <td>4108536</td>\n",
       "    </tr>\n",
       "    <tr>\n",
       "      <th>68</th>\n",
       "      <td>4108536</td>\n",
       "    </tr>\n",
       "    <tr>\n",
       "      <th>69</th>\n",
       "      <td>4108536</td>\n",
       "    </tr>\n",
       "    <tr>\n",
       "      <th>70</th>\n",
       "      <td>4108536</td>\n",
       "    </tr>\n",
       "    <tr>\n",
       "      <th>71</th>\n",
       "      <td>4108536</td>\n",
       "    </tr>\n",
       "    <tr>\n",
       "      <th>72</th>\n",
       "      <td>4108536</td>\n",
       "    </tr>\n",
       "    <tr>\n",
       "      <th>73</th>\n",
       "      <td>4111523</td>\n",
       "    </tr>\n",
       "    <tr>\n",
       "      <th>74</th>\n",
       "      <td>4111523</td>\n",
       "    </tr>\n",
       "    <tr>\n",
       "      <th>75</th>\n",
       "      <td>3391722</td>\n",
       "    </tr>\n",
       "    <tr>\n",
       "      <th>76</th>\n",
       "      <td>1942015</td>\n",
       "    </tr>\n",
       "    <tr>\n",
       "      <th>77</th>\n",
       "      <td>4014312</td>\n",
       "    </tr>\n",
       "  </tbody>\n",
       "</table>\n",
       "<p>78 rows × 1 columns</p>\n",
       "</div>"
      ],
      "text/plain": [
       "        did\n",
       "0   3055111\n",
       "1   3865190\n",
       "2   3360887\n",
       "3   3313229\n",
       "4   3617908\n",
       "5   3884499\n",
       "6   3884499\n",
       "7   3941577\n",
       "8   3360887\n",
       "9   3715208\n",
       "10  3715208\n",
       "11  3715208\n",
       "12  3963441\n",
       "13  3959632\n",
       "14  3976866\n",
       "15  3976866\n",
       "16  3981411\n",
       "17  3981411\n",
       "18  3981411\n",
       "19  3988159\n",
       "20  3980235\n",
       "21  3978092\n",
       "22  3993395\n",
       "23  3993395\n",
       "24  3461219\n",
       "25  3857074\n",
       "26  3611892\n",
       "27  3360887\n",
       "28  1942015\n",
       "29  4004741\n",
       "..      ...\n",
       "48  4038249\n",
       "49  4038249\n",
       "50  4038249\n",
       "51  4038249\n",
       "52  4030382\n",
       "53  3939509\n",
       "54  3939509\n",
       "55  4044626\n",
       "56  4044261\n",
       "57  4014312\n",
       "58  4053445\n",
       "59  4080934\n",
       "60  4080934\n",
       "61  4081343\n",
       "62  3337785\n",
       "63  4098929\n",
       "64  2143641\n",
       "65  2143641\n",
       "66  4108536\n",
       "67  4108536\n",
       "68  4108536\n",
       "69  4108536\n",
       "70  4108536\n",
       "71  4108536\n",
       "72  4108536\n",
       "73  4111523\n",
       "74  4111523\n",
       "75  3391722\n",
       "76  1942015\n",
       "77  4014312\n",
       "\n",
       "[78 rows x 1 columns]"
      ]
     },
     "execution_count": 43,
     "metadata": {},
     "output_type": "execute_result"
    }
   ],
   "source": [
    "de"
   ]
  },
  {
   "cell_type": "code",
   "execution_count": 44,
   "metadata": {},
   "outputs": [
    {
     "data": {
      "text/plain": [
       "42"
      ]
     },
     "execution_count": 44,
     "metadata": {},
     "output_type": "execute_result"
    }
   ],
   "source": [
    "de.did.nunique()"
   ]
  },
  {
   "cell_type": "code",
   "execution_count": 45,
   "metadata": {},
   "outputs": [
    {
     "data": {
      "text/plain": [
       "array([3055111, 3865190, 3360887, 3313229, 3617908, 3884499, 3941577,\n",
       "       3715208, 3963441, 3959632, 3976866, 3981411, 3988159, 3980235,\n",
       "       3978092, 3993395, 3461219, 3857074, 3611892, 1942015, 4004741,\n",
       "       4015551, 1886485, 4034175, 4034566, 4039165, 4032233, 4038249,\n",
       "       4030382, 3939509, 4044626, 4044261, 4014312, 4053445, 4080934,\n",
       "       4081343, 3337785, 4098929, 2143641, 4108536, 4111523, 3391722])"
      ]
     },
     "execution_count": 45,
     "metadata": {},
     "output_type": "execute_result"
    }
   ],
   "source": [
    "de.did.unique()"
   ]
  },
  {
   "cell_type": "code",
   "execution_count": 46,
   "metadata": {},
   "outputs": [],
   "source": [
    "user_1000087 = pd.read_excel('user_1000087.xlsx')"
   ]
  },
  {
   "cell_type": "code",
   "execution_count": 47,
   "metadata": {},
   "outputs": [
    {
     "data": {
      "text/html": [
       "<div>\n",
       "<style scoped>\n",
       "    .dataframe tbody tr th:only-of-type {\n",
       "        vertical-align: middle;\n",
       "    }\n",
       "\n",
       "    .dataframe tbody tr th {\n",
       "        vertical-align: top;\n",
       "    }\n",
       "\n",
       "    .dataframe thead th {\n",
       "        text-align: right;\n",
       "    }\n",
       "</style>\n",
       "<table border=\"1\" class=\"dataframe\">\n",
       "  <thead>\n",
       "    <tr style=\"text-align: right;\">\n",
       "      <th></th>\n",
       "      <th>orderday</th>\n",
       "      <th>did</th>\n",
       "      <th>dcateCd</th>\n",
       "      <th>dcateNm</th>\n",
       "    </tr>\n",
       "  </thead>\n",
       "  <tbody>\n",
       "    <tr>\n",
       "      <th>0</th>\n",
       "      <td>20180801</td>\n",
       "      <td>3055111</td>\n",
       "      <td>231010401</td>\n",
       "      <td>유아 어린이가구</td>\n",
       "    </tr>\n",
       "    <tr>\n",
       "      <th>1</th>\n",
       "      <td>20180802</td>\n",
       "      <td>3865190</td>\n",
       "      <td>303000000</td>\n",
       "      <td>국내성인</td>\n",
       "    </tr>\n",
       "    <tr>\n",
       "      <th>2</th>\n",
       "      <td>20180802</td>\n",
       "      <td>3360887</td>\n",
       "      <td>241010102</td>\n",
       "      <td>기저귀 기타</td>\n",
       "    </tr>\n",
       "    <tr>\n",
       "      <th>3</th>\n",
       "      <td>20180813</td>\n",
       "      <td>3313229</td>\n",
       "      <td>234010303</td>\n",
       "      <td>베이스메이크업</td>\n",
       "    </tr>\n",
       "    <tr>\n",
       "      <th>4</th>\n",
       "      <td>20180813</td>\n",
       "      <td>3617908</td>\n",
       "      <td>241030303</td>\n",
       "      <td>이유식용품</td>\n",
       "    </tr>\n",
       "  </tbody>\n",
       "</table>\n",
       "</div>"
      ],
      "text/plain": [
       "   orderday      did    dcateCd   dcateNm\n",
       "0  20180801  3055111  231010401  유아 어린이가구\n",
       "1  20180802  3865190  303000000      국내성인\n",
       "2  20180802  3360887  241010102    기저귀 기타\n",
       "3  20180813  3313229  234010303   베이스메이크업\n",
       "4  20180813  3617908  241030303     이유식용품"
      ]
     },
     "execution_count": 47,
     "metadata": {},
     "output_type": "execute_result"
    }
   ],
   "source": [
    "user_1000087.head()"
   ]
  },
  {
   "cell_type": "code",
   "execution_count": 49,
   "metadata": {},
   "outputs": [
    {
     "data": {
      "text/plain": [
       "array([20180911, 20180917, 20181002, 20181102])"
      ]
     },
     "execution_count": 49,
     "metadata": {},
     "output_type": "execute_result"
    }
   ],
   "source": [
    "user_1000087[user_1000087.dcateCd == 242020104].orderday.unique()"
   ]
  },
  {
   "cell_type": "code",
   "execution_count": 50,
   "metadata": {},
   "outputs": [
    {
     "data": {
      "text/plain": [
       "191"
      ]
     },
     "execution_count": 50,
     "metadata": {},
     "output_type": "execute_result"
    }
   ],
   "source": [
    "user_1000087[user_1000087.dcateCd == 242020104].orderday.unique()[3]-user_1000087[user_1000087.dcateCd == 242020104].orderday.unique()[0]"
   ]
  },
  {
   "cell_type": "code",
   "execution_count": 52,
   "metadata": {},
   "outputs": [
    {
     "data": {
      "text/plain": [
       "20181102"
      ]
     },
     "execution_count": 52,
     "metadata": {},
     "output_type": "execute_result"
    }
   ],
   "source": [
    "user_1000087[user_1000087.dcateCd == 242020104].orderday.unique()[3]"
   ]
  },
  {
   "cell_type": "code",
   "execution_count": 55,
   "metadata": {},
   "outputs": [
    {
     "data": {
      "text/plain": [
       "Timedelta('52 days 00:00:00')"
      ]
     },
     "execution_count": 55,
     "metadata": {},
     "output_type": "execute_result"
    }
   ],
   "source": [
    "pd.to_datetime('2018-11-02')-pd.to_datetime('2018-09-11')"
   ]
  },
  {
   "cell_type": "code",
   "execution_count": 61,
   "metadata": {},
   "outputs": [
    {
     "data": {
      "text/plain": [
       "datetime.date(2018, 9, 11)"
      ]
     },
     "execution_count": 61,
     "metadata": {},
     "output_type": "execute_result"
    }
   ],
   "source": [
    "pd.to_datetime('2018-09-11').date()"
   ]
  },
  {
   "cell_type": "code",
   "execution_count": 62,
   "metadata": {},
   "outputs": [],
   "source": [
    "order_mean = [pd.to_datetime('2018-09-11'), pd.to_datetime('2018-09-17'), pd.to_datetime('2018-10-02'), pd.to_datetime('2018-11-02')]"
   ]
  },
  {
   "cell_type": "code",
   "execution_count": 63,
   "metadata": {},
   "outputs": [
    {
     "data": {
      "text/plain": [
       "[Timestamp('2018-09-11 00:00:00'),\n",
       " Timestamp('2018-09-17 00:00:00'),\n",
       " Timestamp('2018-10-02 00:00:00'),\n",
       " Timestamp('2018-11-02 00:00:00')]"
      ]
     },
     "execution_count": 63,
     "metadata": {},
     "output_type": "execute_result"
    }
   ],
   "source": [
    "order_mean"
   ]
  },
  {
   "cell_type": "code",
   "execution_count": 64,
   "metadata": {},
   "outputs": [
    {
     "data": {
      "text/plain": [
       "Timedelta('6 days 00:00:00')"
      ]
     },
     "execution_count": 64,
     "metadata": {},
     "output_type": "execute_result"
    }
   ],
   "source": [
    "order_mean[1]-order_mean[0]"
   ]
  },
  {
   "cell_type": "code",
   "execution_count": 65,
   "metadata": {},
   "outputs": [
    {
     "data": {
      "text/plain": [
       "Timedelta('15 days 00:00:00')"
      ]
     },
     "execution_count": 65,
     "metadata": {},
     "output_type": "execute_result"
    }
   ],
   "source": [
    "order_mean[2]-order_mean[1]"
   ]
  },
  {
   "cell_type": "code",
   "execution_count": 66,
   "metadata": {},
   "outputs": [
    {
     "data": {
      "text/plain": [
       "Timedelta('31 days 00:00:00')"
      ]
     },
     "execution_count": 66,
     "metadata": {},
     "output_type": "execute_result"
    }
   ],
   "source": [
    "order_mean[3]-order_mean[2]"
   ]
  },
  {
   "cell_type": "code",
   "execution_count": 67,
   "metadata": {},
   "outputs": [
    {
     "data": {
      "text/plain": [
       "17.333333333333332"
      ]
     },
     "execution_count": 67,
     "metadata": {},
     "output_type": "execute_result"
    }
   ],
   "source": [
    "(6+15+31)/3"
   ]
  },
  {
   "cell_type": "code",
   "execution_count": null,
   "metadata": {},
   "outputs": [],
   "source": []
  }
 ],
 "metadata": {
  "kernelspec": {
   "display_name": "Python [default]",
   "language": "python",
   "name": "python3"
  },
  "language_info": {
   "codemirror_mode": {
    "name": "ipython",
    "version": 3
   },
   "file_extension": ".py",
   "mimetype": "text/x-python",
   "name": "python",
   "nbconvert_exporter": "python",
   "pygments_lexer": "ipython3",
   "version": "3.6.6"
  }
 },
 "nbformat": 4,
 "nbformat_minor": 2
}
