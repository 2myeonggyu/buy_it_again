{
 "cells": [
  {
   "cell_type": "markdown",
   "metadata": {},
   "source": [
    "# # 감마피팅 안되고, RCP 0.25초과인 카테고리 데이터!"
   ]
  },
  {
   "cell_type": "markdown",
   "metadata": {},
   "source": [
    "# # RCP데이터 - 3월~10월"
   ]
  },
  {
   "cell_type": "code",
   "execution_count": 1,
   "metadata": {},
   "outputs": [],
   "source": [
    "import pandas as pd\n",
    "import numpy as np\n",
    "import matplotlib.pyplot as plt\n",
    "import random\n",
    "import scipy.stats as stats\n",
    "import seaborn as sns"
   ]
  },
  {
   "cell_type": "code",
   "execution_count": 2,
   "metadata": {},
   "outputs": [
    {
     "name": "stdout",
     "output_type": "stream",
     "text": [
      "/Users/we/Downloads/GCS data/ddddd_1541738861669\n"
     ]
    }
   ],
   "source": [
    "import os\n",
    "print(os.getcwd())"
   ]
  },
  {
   "cell_type": "code",
   "execution_count": 3,
   "metadata": {},
   "outputs": [
    {
     "data": {
      "text/plain": [
       "'00005'"
      ]
     },
     "execution_count": 3,
     "metadata": {},
     "output_type": "execute_result"
    }
   ],
   "source": [
    "'{:05d}'.format(5)"
   ]
  },
  {
   "cell_type": "code",
   "execution_count": 4,
   "metadata": {},
   "outputs": [],
   "source": [
    "chunk = {}\n",
    "data = pd.DataFrame()\n",
    "for i in range(200):\n",
    "    if (i == 178) or (i == 197):\n",
    "        pass\n",
    "    else :\n",
    "        chunk[i] = pd.read_csv('./part-{:05d}-2e330e0d-b816-4340-aade-2930a03a4ab4-c000.csv'.format(i))\n",
    "        data = data.append(chunk[i])"
   ]
  },
  {
   "cell_type": "code",
   "execution_count": 7,
   "metadata": {},
   "outputs": [
    {
     "data": {
      "text/html": [
       "<div>\n",
       "<style scoped>\n",
       "    .dataframe tbody tr th:only-of-type {\n",
       "        vertical-align: middle;\n",
       "    }\n",
       "\n",
       "    .dataframe tbody tr th {\n",
       "        vertical-align: top;\n",
       "    }\n",
       "\n",
       "    .dataframe thead th {\n",
       "        text-align: right;\n",
       "    }\n",
       "</style>\n",
       "<table border=\"1\" class=\"dataframe\">\n",
       "  <thead>\n",
       "    <tr style=\"text-align: right;\">\n",
       "      <th></th>\n",
       "      <th>did</th>\n",
       "      <th>orderId</th>\n",
       "      <th>mid</th>\n",
       "      <th>dcateCd</th>\n",
       "      <th>scateCd</th>\n",
       "      <th>mcateCd</th>\n",
       "      <th>lcateCd</th>\n",
       "    </tr>\n",
       "  </thead>\n",
       "  <tbody>\n",
       "    <tr>\n",
       "      <th>0</th>\n",
       "      <td>2547754</td>\n",
       "      <td>709023720</td>\n",
       "      <td>4935012</td>\n",
       "      <td>233090602</td>\n",
       "      <td>233090600</td>\n",
       "      <td>233090000</td>\n",
       "      <td>233000000</td>\n",
       "    </tr>\n",
       "    <tr>\n",
       "      <th>1</th>\n",
       "      <td>2547754</td>\n",
       "      <td>694407000</td>\n",
       "      <td>13205367</td>\n",
       "      <td>233090602</td>\n",
       "      <td>233090600</td>\n",
       "      <td>233090000</td>\n",
       "      <td>233000000</td>\n",
       "    </tr>\n",
       "    <tr>\n",
       "      <th>2</th>\n",
       "      <td>2547754</td>\n",
       "      <td>784760249</td>\n",
       "      <td>7593289</td>\n",
       "      <td>233090602</td>\n",
       "      <td>233090600</td>\n",
       "      <td>233090000</td>\n",
       "      <td>233000000</td>\n",
       "    </tr>\n",
       "    <tr>\n",
       "      <th>3</th>\n",
       "      <td>2547754</td>\n",
       "      <td>756990364</td>\n",
       "      <td>10341092</td>\n",
       "      <td>233090602</td>\n",
       "      <td>233090600</td>\n",
       "      <td>233090000</td>\n",
       "      <td>233000000</td>\n",
       "    </tr>\n",
       "    <tr>\n",
       "      <th>4</th>\n",
       "      <td>2547754</td>\n",
       "      <td>681458073</td>\n",
       "      <td>5198545</td>\n",
       "      <td>233090602</td>\n",
       "      <td>233090600</td>\n",
       "      <td>233090000</td>\n",
       "      <td>233000000</td>\n",
       "    </tr>\n",
       "  </tbody>\n",
       "</table>\n",
       "</div>"
      ],
      "text/plain": [
       "       did    orderId       mid    dcateCd    scateCd    mcateCd    lcateCd\n",
       "0  2547754  709023720   4935012  233090602  233090600  233090000  233000000\n",
       "1  2547754  694407000  13205367  233090602  233090600  233090000  233000000\n",
       "2  2547754  784760249   7593289  233090602  233090600  233090000  233000000\n",
       "3  2547754  756990364  10341092  233090602  233090600  233090000  233000000\n",
       "4  2547754  681458073   5198545  233090602  233090600  233090000  233000000"
      ]
     },
     "execution_count": 7,
     "metadata": {},
     "output_type": "execute_result"
    }
   ],
   "source": [
    "data.head()"
   ]
  },
  {
   "cell_type": "code",
   "execution_count": 11,
   "metadata": {},
   "outputs": [],
   "source": [
    "data.to_csv('result.csv')"
   ]
  },
  {
   "cell_type": "code",
   "execution_count": 6,
   "metadata": {},
   "outputs": [
    {
     "data": {
      "text/plain": [
       "34"
      ]
     },
     "execution_count": 6,
     "metadata": {},
     "output_type": "execute_result"
    }
   ],
   "source": [
    "data.dcateCd.nunique()"
   ]
  },
  {
   "cell_type": "code",
   "execution_count": 13,
   "metadata": {},
   "outputs": [],
   "source": [
    "uniq_dcateCd = data.dcateCd.unique()"
   ]
  },
  {
   "cell_type": "code",
   "execution_count": 17,
   "metadata": {},
   "outputs": [
    {
     "name": "stdout",
     "output_type": "stream",
     "text": [
      "362\n",
      "246\n",
      "7\n",
      "287\n",
      "96\n",
      "27\n",
      "1218\n",
      "53\n",
      "30\n",
      "75\n",
      "37\n",
      "14\n",
      "149\n",
      "187\n",
      "82\n",
      "13825\n",
      "9\n",
      "4\n",
      "55\n",
      "64\n",
      "10\n",
      "49\n",
      "530\n",
      "4\n",
      "5\n",
      "4\n",
      "123\n",
      "6\n",
      "2\n",
      "3\n",
      "2\n",
      "19\n",
      "18\n",
      "2\n"
     ]
    }
   ],
   "source": [
    "for i in range(len(uniq_dcateCd)):\n",
    "    print(data[data.dcateCd == uniq_dcateCd[i]].shape[0])"
   ]
  },
  {
   "cell_type": "code",
   "execution_count": 16,
   "metadata": {},
   "outputs": [
    {
     "name": "stdout",
     "output_type": "stream",
     "text": [
      "6\n",
      "15\n",
      "22\n"
     ]
    }
   ],
   "source": [
    "for i in range(len(uniq_dcateCd)):\n",
    "    #print(data[data.dcateCd == uniq_dcateCd[i]].shape[0])\n",
    "    if data[data.dcateCd == uniq_dcateCd[i]].shape[0] > 500:\n",
    "        print(i)"
   ]
  },
  {
   "cell_type": "code",
   "execution_count": 25,
   "metadata": {},
   "outputs": [
    {
     "name": "stdout",
     "output_type": "stream",
     "text": [
      "106\n",
      "category: 4104705\n"
     ]
    }
   ],
   "source": [
    "# 위의 6번 category\n",
    "\n",
    "print(data[data.dcateCd == uniq_dcateCd[6]].mid.nunique())  # unique 거래규모 : 106명\n",
    "print('category:', uniq_dcateCd[6])"
   ]
  },
  {
   "cell_type": "code",
   "execution_count": 22,
   "metadata": {},
   "outputs": [
    {
     "data": {
      "text/plain": [
       "4104705"
      ]
     },
     "execution_count": 22,
     "metadata": {},
     "output_type": "execute_result"
    }
   ],
   "source": [
    "uniq_dcateCd[6]"
   ]
  },
  {
   "cell_type": "code",
   "execution_count": 26,
   "metadata": {},
   "outputs": [
    {
     "name": "stdout",
     "output_type": "stream",
     "text": [
      "1585\n",
      "category: 4101093\n"
     ]
    }
   ],
   "source": [
    "# 위의 15번 category\n",
    "\n",
    "print(data[data.dcateCd == uniq_dcateCd[15]].mid.nunique())  # unique 거래규모 : 1585명\n",
    "print('category:', uniq_dcateCd[15])"
   ]
  },
  {
   "cell_type": "code",
   "execution_count": 27,
   "metadata": {},
   "outputs": [
    {
     "name": "stdout",
     "output_type": "stream",
     "text": [
      "392\n",
      "category: 4105200\n"
     ]
    }
   ],
   "source": [
    "# 위의 22번 category\n",
    "\n",
    "print(data[data.dcateCd == uniq_dcateCd[22]].mid.nunique())  # unique 거래규모 : 392명\n",
    "print('category:', uniq_dcateCd[22])"
   ]
  },
  {
   "cell_type": "markdown",
   "metadata": {},
   "source": [
    "---"
   ]
  },
  {
   "cell_type": "markdown",
   "metadata": {},
   "source": [
    "---"
   ]
  },
  {
   "cell_type": "markdown",
   "metadata": {},
   "source": [
    "# '4101093' 얘의  RCP구해볼거야"
   ]
  },
  {
   "cell_type": "code",
   "execution_count": 8,
   "metadata": {},
   "outputs": [
    {
     "data": {
      "text/plain": [
       "Index(['did', 'orderId', 'mid', 'dcateCd', 'scateCd', 'mcateCd', 'lcateCd'], dtype='object')"
      ]
     },
     "execution_count": 8,
     "metadata": {},
     "output_type": "execute_result"
    }
   ],
   "source": [
    "data.columns"
   ]
  },
  {
   "cell_type": "code",
   "execution_count": 24,
   "metadata": {},
   "outputs": [],
   "source": [
    "dd = data[data.dcateCd == 4101093].loc[:, ['mid', 'dcateCd']]"
   ]
  },
  {
   "cell_type": "code",
   "execution_count": 25,
   "metadata": {},
   "outputs": [
    {
     "data": {
      "text/plain": [
       "(13825, 2)"
      ]
     },
     "execution_count": 25,
     "metadata": {},
     "output_type": "execute_result"
    }
   ],
   "source": [
    "dd.shape"
   ]
  },
  {
   "cell_type": "code",
   "execution_count": 26,
   "metadata": {},
   "outputs": [
    {
     "data": {
      "text/plain": [
       "1585"
      ]
     },
     "execution_count": 26,
     "metadata": {},
     "output_type": "execute_result"
    }
   ],
   "source": [
    "dd.mid.nunique()  ## 1585명"
   ]
  },
  {
   "cell_type": "code",
   "execution_count": 27,
   "metadata": {},
   "outputs": [
    {
     "data": {
      "text/html": [
       "<div>\n",
       "<style scoped>\n",
       "    .dataframe tbody tr th:only-of-type {\n",
       "        vertical-align: middle;\n",
       "    }\n",
       "\n",
       "    .dataframe tbody tr th {\n",
       "        vertical-align: top;\n",
       "    }\n",
       "\n",
       "    .dataframe thead th {\n",
       "        text-align: right;\n",
       "    }\n",
       "</style>\n",
       "<table border=\"1\" class=\"dataframe\">\n",
       "  <thead>\n",
       "    <tr style=\"text-align: right;\">\n",
       "      <th></th>\n",
       "      <th>mid</th>\n",
       "      <th>dcateCd</th>\n",
       "    </tr>\n",
       "  </thead>\n",
       "  <tbody>\n",
       "    <tr>\n",
       "      <th>2</th>\n",
       "      <td>3247390</td>\n",
       "      <td>4101093</td>\n",
       "    </tr>\n",
       "    <tr>\n",
       "      <th>3</th>\n",
       "      <td>2812200</td>\n",
       "      <td>4101093</td>\n",
       "    </tr>\n",
       "    <tr>\n",
       "      <th>4</th>\n",
       "      <td>5338810</td>\n",
       "      <td>4101093</td>\n",
       "    </tr>\n",
       "    <tr>\n",
       "      <th>5</th>\n",
       "      <td>23241936</td>\n",
       "      <td>4101093</td>\n",
       "    </tr>\n",
       "    <tr>\n",
       "      <th>6</th>\n",
       "      <td>4021699</td>\n",
       "      <td>4101093</td>\n",
       "    </tr>\n",
       "    <tr>\n",
       "      <th>7</th>\n",
       "      <td>4277319</td>\n",
       "      <td>4101093</td>\n",
       "    </tr>\n",
       "    <tr>\n",
       "      <th>8</th>\n",
       "      <td>4770371</td>\n",
       "      <td>4101093</td>\n",
       "    </tr>\n",
       "    <tr>\n",
       "      <th>9</th>\n",
       "      <td>15431762</td>\n",
       "      <td>4101093</td>\n",
       "    </tr>\n",
       "    <tr>\n",
       "      <th>10</th>\n",
       "      <td>1164090</td>\n",
       "      <td>4101093</td>\n",
       "    </tr>\n",
       "    <tr>\n",
       "      <th>11</th>\n",
       "      <td>1777666</td>\n",
       "      <td>4101093</td>\n",
       "    </tr>\n",
       "    <tr>\n",
       "      <th>12</th>\n",
       "      <td>4927007</td>\n",
       "      <td>4101093</td>\n",
       "    </tr>\n",
       "    <tr>\n",
       "      <th>13</th>\n",
       "      <td>2259978</td>\n",
       "      <td>4101093</td>\n",
       "    </tr>\n",
       "    <tr>\n",
       "      <th>14</th>\n",
       "      <td>14464895</td>\n",
       "      <td>4101093</td>\n",
       "    </tr>\n",
       "    <tr>\n",
       "      <th>15</th>\n",
       "      <td>2312171</td>\n",
       "      <td>4101093</td>\n",
       "    </tr>\n",
       "    <tr>\n",
       "      <th>16</th>\n",
       "      <td>4037379</td>\n",
       "      <td>4101093</td>\n",
       "    </tr>\n",
       "    <tr>\n",
       "      <th>17</th>\n",
       "      <td>11194953</td>\n",
       "      <td>4101093</td>\n",
       "    </tr>\n",
       "    <tr>\n",
       "      <th>18</th>\n",
       "      <td>2252042</td>\n",
       "      <td>4101093</td>\n",
       "    </tr>\n",
       "    <tr>\n",
       "      <th>19</th>\n",
       "      <td>1491881</td>\n",
       "      <td>4101093</td>\n",
       "    </tr>\n",
       "    <tr>\n",
       "      <th>20</th>\n",
       "      <td>2069215</td>\n",
       "      <td>4101093</td>\n",
       "    </tr>\n",
       "    <tr>\n",
       "      <th>21</th>\n",
       "      <td>2770193</td>\n",
       "      <td>4101093</td>\n",
       "    </tr>\n",
       "    <tr>\n",
       "      <th>22</th>\n",
       "      <td>1192403</td>\n",
       "      <td>4101093</td>\n",
       "    </tr>\n",
       "    <tr>\n",
       "      <th>23</th>\n",
       "      <td>14404845</td>\n",
       "      <td>4101093</td>\n",
       "    </tr>\n",
       "    <tr>\n",
       "      <th>24</th>\n",
       "      <td>1404482</td>\n",
       "      <td>4101093</td>\n",
       "    </tr>\n",
       "    <tr>\n",
       "      <th>25</th>\n",
       "      <td>19806804</td>\n",
       "      <td>4101093</td>\n",
       "    </tr>\n",
       "    <tr>\n",
       "      <th>26</th>\n",
       "      <td>6440455</td>\n",
       "      <td>4101093</td>\n",
       "    </tr>\n",
       "    <tr>\n",
       "      <th>27</th>\n",
       "      <td>1459961</td>\n",
       "      <td>4101093</td>\n",
       "    </tr>\n",
       "    <tr>\n",
       "      <th>28</th>\n",
       "      <td>18199691</td>\n",
       "      <td>4101093</td>\n",
       "    </tr>\n",
       "    <tr>\n",
       "      <th>29</th>\n",
       "      <td>6453021</td>\n",
       "      <td>4101093</td>\n",
       "    </tr>\n",
       "    <tr>\n",
       "      <th>30</th>\n",
       "      <td>6167874</td>\n",
       "      <td>4101093</td>\n",
       "    </tr>\n",
       "    <tr>\n",
       "      <th>31</th>\n",
       "      <td>3199734</td>\n",
       "      <td>4101093</td>\n",
       "    </tr>\n",
       "    <tr>\n",
       "      <th>...</th>\n",
       "      <td>...</td>\n",
       "      <td>...</td>\n",
       "    </tr>\n",
       "    <tr>\n",
       "      <th>597</th>\n",
       "      <td>5267378</td>\n",
       "      <td>4101093</td>\n",
       "    </tr>\n",
       "    <tr>\n",
       "      <th>598</th>\n",
       "      <td>1557234</td>\n",
       "      <td>4101093</td>\n",
       "    </tr>\n",
       "    <tr>\n",
       "      <th>599</th>\n",
       "      <td>2323710</td>\n",
       "      <td>4101093</td>\n",
       "    </tr>\n",
       "    <tr>\n",
       "      <th>600</th>\n",
       "      <td>21551383</td>\n",
       "      <td>4101093</td>\n",
       "    </tr>\n",
       "    <tr>\n",
       "      <th>601</th>\n",
       "      <td>23462160</td>\n",
       "      <td>4101093</td>\n",
       "    </tr>\n",
       "    <tr>\n",
       "      <th>602</th>\n",
       "      <td>1403841</td>\n",
       "      <td>4101093</td>\n",
       "    </tr>\n",
       "    <tr>\n",
       "      <th>603</th>\n",
       "      <td>19942447</td>\n",
       "      <td>4101093</td>\n",
       "    </tr>\n",
       "    <tr>\n",
       "      <th>604</th>\n",
       "      <td>3073335</td>\n",
       "      <td>4101093</td>\n",
       "    </tr>\n",
       "    <tr>\n",
       "      <th>605</th>\n",
       "      <td>19321937</td>\n",
       "      <td>4101093</td>\n",
       "    </tr>\n",
       "    <tr>\n",
       "      <th>606</th>\n",
       "      <td>16091912</td>\n",
       "      <td>4101093</td>\n",
       "    </tr>\n",
       "    <tr>\n",
       "      <th>607</th>\n",
       "      <td>20136454</td>\n",
       "      <td>4101093</td>\n",
       "    </tr>\n",
       "    <tr>\n",
       "      <th>608</th>\n",
       "      <td>1771623</td>\n",
       "      <td>4101093</td>\n",
       "    </tr>\n",
       "    <tr>\n",
       "      <th>609</th>\n",
       "      <td>5290534</td>\n",
       "      <td>4101093</td>\n",
       "    </tr>\n",
       "    <tr>\n",
       "      <th>610</th>\n",
       "      <td>4119257</td>\n",
       "      <td>4101093</td>\n",
       "    </tr>\n",
       "    <tr>\n",
       "      <th>611</th>\n",
       "      <td>1685381</td>\n",
       "      <td>4101093</td>\n",
       "    </tr>\n",
       "    <tr>\n",
       "      <th>612</th>\n",
       "      <td>1188969</td>\n",
       "      <td>4101093</td>\n",
       "    </tr>\n",
       "    <tr>\n",
       "      <th>613</th>\n",
       "      <td>1279758</td>\n",
       "      <td>4101093</td>\n",
       "    </tr>\n",
       "    <tr>\n",
       "      <th>614</th>\n",
       "      <td>7863034</td>\n",
       "      <td>4101093</td>\n",
       "    </tr>\n",
       "    <tr>\n",
       "      <th>615</th>\n",
       "      <td>4713981</td>\n",
       "      <td>4101093</td>\n",
       "    </tr>\n",
       "    <tr>\n",
       "      <th>616</th>\n",
       "      <td>15254112</td>\n",
       "      <td>4101093</td>\n",
       "    </tr>\n",
       "    <tr>\n",
       "      <th>617</th>\n",
       "      <td>3664980</td>\n",
       "      <td>4101093</td>\n",
       "    </tr>\n",
       "    <tr>\n",
       "      <th>618</th>\n",
       "      <td>5475501</td>\n",
       "      <td>4101093</td>\n",
       "    </tr>\n",
       "    <tr>\n",
       "      <th>619</th>\n",
       "      <td>2967119</td>\n",
       "      <td>4101093</td>\n",
       "    </tr>\n",
       "    <tr>\n",
       "      <th>620</th>\n",
       "      <td>10045320</td>\n",
       "      <td>4101093</td>\n",
       "    </tr>\n",
       "    <tr>\n",
       "      <th>621</th>\n",
       "      <td>1753341</td>\n",
       "      <td>4101093</td>\n",
       "    </tr>\n",
       "    <tr>\n",
       "      <th>622</th>\n",
       "      <td>17256662</td>\n",
       "      <td>4101093</td>\n",
       "    </tr>\n",
       "    <tr>\n",
       "      <th>623</th>\n",
       "      <td>23477093</td>\n",
       "      <td>4101093</td>\n",
       "    </tr>\n",
       "    <tr>\n",
       "      <th>624</th>\n",
       "      <td>1411387</td>\n",
       "      <td>4101093</td>\n",
       "    </tr>\n",
       "    <tr>\n",
       "      <th>625</th>\n",
       "      <td>1336334</td>\n",
       "      <td>4101093</td>\n",
       "    </tr>\n",
       "    <tr>\n",
       "      <th>626</th>\n",
       "      <td>12698112</td>\n",
       "      <td>4101093</td>\n",
       "    </tr>\n",
       "  </tbody>\n",
       "</table>\n",
       "<p>13825 rows × 2 columns</p>\n",
       "</div>"
      ],
      "text/plain": [
       "          mid  dcateCd\n",
       "2     3247390  4101093\n",
       "3     2812200  4101093\n",
       "4     5338810  4101093\n",
       "5    23241936  4101093\n",
       "6     4021699  4101093\n",
       "7     4277319  4101093\n",
       "8     4770371  4101093\n",
       "9    15431762  4101093\n",
       "10    1164090  4101093\n",
       "11    1777666  4101093\n",
       "12    4927007  4101093\n",
       "13    2259978  4101093\n",
       "14   14464895  4101093\n",
       "15    2312171  4101093\n",
       "16    4037379  4101093\n",
       "17   11194953  4101093\n",
       "18    2252042  4101093\n",
       "19    1491881  4101093\n",
       "20    2069215  4101093\n",
       "21    2770193  4101093\n",
       "22    1192403  4101093\n",
       "23   14404845  4101093\n",
       "24    1404482  4101093\n",
       "25   19806804  4101093\n",
       "26    6440455  4101093\n",
       "27    1459961  4101093\n",
       "28   18199691  4101093\n",
       "29    6453021  4101093\n",
       "30    6167874  4101093\n",
       "31    3199734  4101093\n",
       "..        ...      ...\n",
       "597   5267378  4101093\n",
       "598   1557234  4101093\n",
       "599   2323710  4101093\n",
       "600  21551383  4101093\n",
       "601  23462160  4101093\n",
       "602   1403841  4101093\n",
       "603  19942447  4101093\n",
       "604   3073335  4101093\n",
       "605  19321937  4101093\n",
       "606  16091912  4101093\n",
       "607  20136454  4101093\n",
       "608   1771623  4101093\n",
       "609   5290534  4101093\n",
       "610   4119257  4101093\n",
       "611   1685381  4101093\n",
       "612   1188969  4101093\n",
       "613   1279758  4101093\n",
       "614   7863034  4101093\n",
       "615   4713981  4101093\n",
       "616  15254112  4101093\n",
       "617   3664980  4101093\n",
       "618   5475501  4101093\n",
       "619   2967119  4101093\n",
       "620  10045320  4101093\n",
       "621   1753341  4101093\n",
       "622  17256662  4101093\n",
       "623  23477093  4101093\n",
       "624   1411387  4101093\n",
       "625   1336334  4101093\n",
       "626  12698112  4101093\n",
       "\n",
       "[13825 rows x 2 columns]"
      ]
     },
     "execution_count": 27,
     "metadata": {},
     "output_type": "execute_result"
    }
   ],
   "source": [
    "dd"
   ]
  },
  {
   "cell_type": "code",
   "execution_count": 29,
   "metadata": {
    "scrolled": true
   },
   "outputs": [
    {
     "data": {
      "text/plain": [
       "(33, 2)"
      ]
     },
     "execution_count": 29,
     "metadata": {},
     "output_type": "execute_result"
    }
   ],
   "source": [
    "dd.drop_duplicates(keep = False).shape"
   ]
  },
  {
   "cell_type": "code",
   "execution_count": 30,
   "metadata": {},
   "outputs": [
    {
     "data": {
      "text/plain": [
       "1585"
      ]
     },
     "execution_count": 30,
     "metadata": {},
     "output_type": "execute_result"
    }
   ],
   "source": [
    "dd.mid.nunique()"
   ]
  },
  {
   "cell_type": "code",
   "execution_count": 31,
   "metadata": {},
   "outputs": [
    {
     "data": {
      "text/plain": [
       "0.979179810725552"
      ]
     },
     "execution_count": 31,
     "metadata": {},
     "output_type": "execute_result"
    }
   ],
   "source": [
    "(dd.mid.nunique()-dd.drop_duplicates(keep = False).shape[0])/dd.mid.nunique()"
   ]
  },
  {
   "cell_type": "code",
   "execution_count": null,
   "metadata": {},
   "outputs": [],
   "source": []
  },
  {
   "cell_type": "code",
   "execution_count": null,
   "metadata": {},
   "outputs": [],
   "source": []
  }
 ],
 "metadata": {
  "kernelspec": {
   "display_name": "Python [default]",
   "language": "python",
   "name": "python3"
  },
  "language_info": {
   "codemirror_mode": {
    "name": "ipython",
    "version": 3
   },
   "file_extension": ".py",
   "mimetype": "text/x-python",
   "name": "python",
   "nbconvert_exporter": "python",
   "pygments_lexer": "ipython3",
   "version": "3.6.6"
  }
 },
 "nbformat": 4,
 "nbformat_minor": 2
}
