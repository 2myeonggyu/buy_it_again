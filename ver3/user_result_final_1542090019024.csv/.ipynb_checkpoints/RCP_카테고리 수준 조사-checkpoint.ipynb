{
 "cells": [
  {
   "cell_type": "code",
   "execution_count": 1,
   "metadata": {},
   "outputs": [],
   "source": [
    "import pandas as pd\n",
    "import numpy as np\n",
    "import matplotlib.pyplot as plt\n",
    "import random\n",
    "import scipy.stats as stats\n",
    "import seaborn as sns"
   ]
  },
  {
   "cell_type": "code",
   "execution_count": 2,
   "metadata": {},
   "outputs": [
    {
     "name": "stdout",
     "output_type": "stream",
     "text": [
      "/Users/we/Downloads/GCS data/user_result_final_1542090019024.csv\n"
     ]
    }
   ],
   "source": [
    "# 여기있는 데이터들이 가장 최신 rcp이다!\n",
    "\n",
    "import os\n",
    "print(os.getcwd())"
   ]
  },
  {
   "cell_type": "code",
   "execution_count": 3,
   "metadata": {},
   "outputs": [],
   "source": [
    "### 3개월치의 훈련데이터!  (단위 - 1주일)\n",
    "\n",
    "chunk = {}\n",
    "data1 = pd.DataFrame()\n",
    "for i in range(200):\n",
    "    \n",
    "    chunk[i] = pd.read_csv('part-{:05d}-99e353d7-95de-430a-a54e-6c1238933495-c000.csv'.format(i))\n",
    "    data1 = data1.append( chunk[i] )\n",
    "    #data = data.append( chunk[i][chunk[i].rcp > 0.25] )"
   ]
  },
  {
   "cell_type": "code",
   "execution_count": 4,
   "metadata": {},
   "outputs": [
    {
     "data": {
      "text/plain": [
       "(28479655, 15)"
      ]
     },
     "execution_count": 4,
     "metadata": {},
     "output_type": "execute_result"
    }
   ],
   "source": [
    "data1.shape"
   ]
  },
  {
   "cell_type": "code",
   "execution_count": 5,
   "metadata": {
    "scrolled": true
   },
   "outputs": [
    {
     "data": {
      "text/html": [
       "<div>\n",
       "<style scoped>\n",
       "    .dataframe tbody tr th:only-of-type {\n",
       "        vertical-align: middle;\n",
       "    }\n",
       "\n",
       "    .dataframe tbody tr th {\n",
       "        vertical-align: top;\n",
       "    }\n",
       "\n",
       "    .dataframe thead th {\n",
       "        text-align: right;\n",
       "    }\n",
       "</style>\n",
       "<table border=\"1\" class=\"dataframe\">\n",
       "  <thead>\n",
       "    <tr style=\"text-align: right;\">\n",
       "      <th></th>\n",
       "      <th>mid</th>\n",
       "      <th>dcateCd</th>\n",
       "      <th>scateCd</th>\n",
       "      <th>mcateCd</th>\n",
       "      <th>lcateCd</th>\n",
       "      <th>userOrderCnt</th>\n",
       "      <th>userFirstLastOrderPeriod</th>\n",
       "      <th>orderMeanPeriod</th>\n",
       "      <th>userRecentlyOrderPeriod</th>\n",
       "      <th>alpha</th>\n",
       "      <th>beta</th>\n",
       "      <th>lambda</th>\n",
       "      <th>prob</th>\n",
       "      <th>rcp</th>\n",
       "      <th>score</th>\n",
       "    </tr>\n",
       "  </thead>\n",
       "  <tbody>\n",
       "    <tr>\n",
       "      <th>0</th>\n",
       "      <td>10000002</td>\n",
       "      <td>231060205</td>\n",
       "      <td>231060200</td>\n",
       "      <td>231060000</td>\n",
       "      <td>231000000</td>\n",
       "      <td>1</td>\n",
       "      <td>0</td>\n",
       "      <td>16.254347</td>\n",
       "      <td>83</td>\n",
       "      <td>0.8018117730368017</td>\n",
       "      <td>0.3499043068127323</td>\n",
       "      <td>0.048644</td>\n",
       "      <td>0.047480</td>\n",
       "      <td>0.162413</td>\n",
       "      <td>0.007711</td>\n",
       "    </tr>\n",
       "    <tr>\n",
       "      <th>1</th>\n",
       "      <td>10000005</td>\n",
       "      <td>4102563</td>\n",
       "      <td>3100472</td>\n",
       "      <td>2100078</td>\n",
       "      <td>1100013</td>\n",
       "      <td>1</td>\n",
       "      <td>0</td>\n",
       "      <td>12.314815</td>\n",
       "      <td>51</td>\n",
       "      <td>0.9261682528945693</td>\n",
       "      <td>0.38539197418277665</td>\n",
       "      <td>0.093460</td>\n",
       "      <td>0.089226</td>\n",
       "      <td>0.057541</td>\n",
       "      <td>0.005134</td>\n",
       "    </tr>\n",
       "    <tr>\n",
       "      <th>2</th>\n",
       "      <td>10000010</td>\n",
       "      <td>233120101</td>\n",
       "      <td>233120100</td>\n",
       "      <td>233120000</td>\n",
       "      <td>233000000</td>\n",
       "      <td>1</td>\n",
       "      <td>0</td>\n",
       "      <td>24.430560</td>\n",
       "      <td>24</td>\n",
       "      <td>0.6497197460211686</td>\n",
       "      <td>0.27510496948708457</td>\n",
       "      <td>1.990788</td>\n",
       "      <td>0.863412</td>\n",
       "      <td>0.093419</td>\n",
       "      <td>0.080659</td>\n",
       "    </tr>\n",
       "    <tr>\n",
       "      <th>3</th>\n",
       "      <td>10000010</td>\n",
       "      <td>242030107</td>\n",
       "      <td>242030100</td>\n",
       "      <td>242030000</td>\n",
       "      <td>242000000</td>\n",
       "      <td>1</td>\n",
       "      <td>0</td>\n",
       "      <td>21.112414</td>\n",
       "      <td>36</td>\n",
       "      <td>0.733843713351586</td>\n",
       "      <td>0.4629269310630489</td>\n",
       "      <td>0.185879</td>\n",
       "      <td>0.169626</td>\n",
       "      <td>0.132224</td>\n",
       "      <td>0.022429</td>\n",
       "    </tr>\n",
       "    <tr>\n",
       "      <th>4</th>\n",
       "      <td>10000020</td>\n",
       "      <td>234010303</td>\n",
       "      <td>234010300</td>\n",
       "      <td>234010000</td>\n",
       "      <td>234000000</td>\n",
       "      <td>2</td>\n",
       "      <td>47</td>\n",
       "      <td>47.000000</td>\n",
       "      <td>30</td>\n",
       "      <td>0.6075237709299413</td>\n",
       "      <td>0.4950685220356469</td>\n",
       "      <td>0.074026</td>\n",
       "      <td>0.071353</td>\n",
       "      <td>0.168622</td>\n",
       "      <td>0.012032</td>\n",
       "    </tr>\n",
       "  </tbody>\n",
       "</table>\n",
       "</div>"
      ],
      "text/plain": [
       "        mid    dcateCd    scateCd    mcateCd    lcateCd  userOrderCnt  \\\n",
       "0  10000002  231060205  231060200  231060000  231000000             1   \n",
       "1  10000005    4102563    3100472    2100078    1100013             1   \n",
       "2  10000010  233120101  233120100  233120000  233000000             1   \n",
       "3  10000010  242030107  242030100  242030000  242000000             1   \n",
       "4  10000020  234010303  234010300  234010000  234000000             2   \n",
       "\n",
       "   userFirstLastOrderPeriod  orderMeanPeriod  userRecentlyOrderPeriod  \\\n",
       "0                         0        16.254347                       83   \n",
       "1                         0        12.314815                       51   \n",
       "2                         0        24.430560                       24   \n",
       "3                         0        21.112414                       36   \n",
       "4                        47        47.000000                       30   \n",
       "\n",
       "                alpha                 beta    lambda      prob       rcp  \\\n",
       "0  0.8018117730368017   0.3499043068127323  0.048644  0.047480  0.162413   \n",
       "1  0.9261682528945693  0.38539197418277665  0.093460  0.089226  0.057541   \n",
       "2  0.6497197460211686  0.27510496948708457  1.990788  0.863412  0.093419   \n",
       "3   0.733843713351586   0.4629269310630489  0.185879  0.169626  0.132224   \n",
       "4  0.6075237709299413   0.4950685220356469  0.074026  0.071353  0.168622   \n",
       "\n",
       "      score  \n",
       "0  0.007711  \n",
       "1  0.005134  \n",
       "2  0.080659  \n",
       "3  0.022429  \n",
       "4  0.012032  "
      ]
     },
     "execution_count": 5,
     "metadata": {},
     "output_type": "execute_result"
    }
   ],
   "source": [
    "data1.head()"
   ]
  },
  {
   "cell_type": "markdown",
   "metadata": {},
   "source": [
    "# # 김태준차장님_RCP_수정_3.csv 의 결과"
   ]
  },
  {
   "cell_type": "code",
   "execution_count": 36,
   "metadata": {},
   "outputs": [
    {
     "data": {
      "text/plain": [
       "22.271555428244056"
      ]
     },
     "execution_count": 36,
     "metadata": {},
     "output_type": "execute_result"
    }
   ],
   "source": [
    "1555/6982*100   # 전체 6982개 중, 라이브딜 카테고리 1555개"
   ]
  },
  {
   "cell_type": "code",
   "execution_count": 37,
   "metadata": {},
   "outputs": [
    {
     "data": {
      "text/plain": [
       "29.3398533007335"
      ]
     },
     "execution_count": 37,
     "metadata": {},
     "output_type": "execute_result"
    }
   ],
   "source": [
    "# -rcp > 0.25 수준에서 '라이브딜'의 비율\n",
    "\n",
    "120/409*100"
   ]
  },
  {
   "cell_type": "code",
   "execution_count": 41,
   "metadata": {},
   "outputs": [
    {
     "data": {
      "text/plain": [
       "48.706896551724135"
      ]
     },
     "execution_count": 41,
     "metadata": {},
     "output_type": "execute_result"
    }
   ],
   "source": [
    "# -rcp > 0.25 & Total user > 100 수준에서 '라이브딜'의 비율\n",
    "\n",
    "113/232*100"
   ]
  },
  {
   "cell_type": "code",
   "execution_count": 39,
   "metadata": {},
   "outputs": [
    {
     "data": {
      "text/plain": [
       "66.27218934911244"
      ]
     },
     "execution_count": 39,
     "metadata": {},
     "output_type": "execute_result"
    }
   ],
   "source": [
    "# -rcp > 0.25 & Total user > 500 수준에서 '라이브딜'의 비율\n",
    "\n",
    "112/169*100"
   ]
  },
  {
   "cell_type": "code",
   "execution_count": 40,
   "metadata": {},
   "outputs": [
    {
     "data": {
      "text/plain": [
       "70.70063694267516"
      ]
     },
     "execution_count": 40,
     "metadata": {},
     "output_type": "execute_result"
    }
   ],
   "source": [
    "# -rcp > 0.25 & Total user > 1000 수준에서 '라이브딜'의 비율\n",
    "\n",
    "111/157*100"
   ]
  },
  {
   "cell_type": "markdown",
   "metadata": {},
   "source": [
    "# # 11월 13일 훈련데이터에서, 1번의 구매경우도 추천해주는 경우의 category항목 조회"
   ]
  },
  {
   "cell_type": "markdown",
   "metadata": {},
   "source": [
    "/Users/we/Downloads/GCS data/user_result_final_1542090019024.csv"
   ]
  },
  {
   "cell_type": "code",
   "execution_count": 6,
   "metadata": {},
   "outputs": [
    {
     "data": {
      "text/plain": [
       "5093"
      ]
     },
     "execution_count": 6,
     "metadata": {},
     "output_type": "execute_result"
    }
   ],
   "source": [
    "data1.dcateCd.nunique()"
   ]
  },
  {
   "cell_type": "markdown",
   "metadata": {},
   "source": [
    "김태준차장님RCP수정_3.csv 과 왜이렇게 차이가 날까? (6982개 vs. 5093개)\n",
    "\n",
    "- RCP구하는 기간 8개월(3월~10월), 모델 훈련기간 3개월(8월~10월) - 그만큼 딜들이 빠져나갔을 수 있다.\n",
    "- 혹은, season 성 때문에, 훈련기간동안에 구매가 안이루어져서 category로서 고려되지 않았을 수도 있다!(전에 '애니메이션/교육' 에서의 case)"
   ]
  },
  {
   "cell_type": "code",
   "execution_count": 19,
   "metadata": {},
   "outputs": [
    {
     "data": {
      "text/plain": [
       "1258"
      ]
     },
     "execution_count": 19,
     "metadata": {},
     "output_type": "execute_result"
    }
   ],
   "source": [
    "data1[(data1.dcateCd > 200000000)].dcateCd.nunique()"
   ]
  },
  {
   "cell_type": "code",
   "execution_count": 20,
   "metadata": {},
   "outputs": [
    {
     "data": {
      "text/plain": [
       "24.700569408992735"
      ]
     },
     "execution_count": 20,
     "metadata": {},
     "output_type": "execute_result"
    }
   ],
   "source": [
    "data1[(data1.dcateCd > 200000000)].dcateCd.nunique() / data1.dcateCd.nunique() * 100"
   ]
  },
  {
   "cell_type": "markdown",
   "metadata": {},
   "source": [
    "# # rcp 0.15 기준"
   ]
  },
  {
   "cell_type": "code",
   "execution_count": 18,
   "metadata": {},
   "outputs": [
    {
     "data": {
      "text/plain": [
       "1050"
      ]
     },
     "execution_count": 18,
     "metadata": {},
     "output_type": "execute_result"
    }
   ],
   "source": [
    "data1[ data1.rcp > 0.15 ].dcateCd.nunique()"
   ]
  },
  {
   "cell_type": "code",
   "execution_count": 17,
   "metadata": {},
   "outputs": [
    {
     "data": {
      "text/plain": [
       "349"
      ]
     },
     "execution_count": 17,
     "metadata": {},
     "output_type": "execute_result"
    }
   ],
   "source": [
    "data1[(data1.rcp > 0.15) & (data1.dcateCd > 200000000)].dcateCd.nunique()"
   ]
  },
  {
   "cell_type": "code",
   "execution_count": 21,
   "metadata": {},
   "outputs": [
    {
     "data": {
      "text/plain": [
       "33.23809523809524"
      ]
     },
     "execution_count": 21,
     "metadata": {},
     "output_type": "execute_result"
    }
   ],
   "source": [
    "349/1050*100"
   ]
  },
  {
   "cell_type": "code",
   "execution_count": null,
   "metadata": {},
   "outputs": [],
   "source": []
  },
  {
   "cell_type": "markdown",
   "metadata": {},
   "source": [
    "# # rcp 0.2 기준"
   ]
  },
  {
   "cell_type": "code",
   "execution_count": 8,
   "metadata": {},
   "outputs": [
    {
     "data": {
      "text/plain": [
       "548"
      ]
     },
     "execution_count": 8,
     "metadata": {},
     "output_type": "execute_result"
    }
   ],
   "source": [
    "data1[data1.rcp > 0.2].dcateCd.nunique()"
   ]
  },
  {
   "cell_type": "code",
   "execution_count": 22,
   "metadata": {},
   "outputs": [
    {
     "data": {
      "text/plain": [
       "198"
      ]
     },
     "execution_count": 22,
     "metadata": {},
     "output_type": "execute_result"
    }
   ],
   "source": [
    "data1[(data1.rcp > 0.2) & (data1.dcateCd > 200000000)].dcateCd.nunique()"
   ]
  },
  {
   "cell_type": "code",
   "execution_count": 23,
   "metadata": {},
   "outputs": [
    {
     "data": {
      "text/plain": [
       "36.13138686131387"
      ]
     },
     "execution_count": 23,
     "metadata": {},
     "output_type": "execute_result"
    }
   ],
   "source": [
    "198/548*100"
   ]
  },
  {
   "cell_type": "markdown",
   "metadata": {},
   "source": [
    "# # rcp 0.25 기준"
   ]
  },
  {
   "cell_type": "code",
   "execution_count": 9,
   "metadata": {},
   "outputs": [
    {
     "data": {
      "text/plain": [
       "292"
      ]
     },
     "execution_count": 9,
     "metadata": {},
     "output_type": "execute_result"
    }
   ],
   "source": [
    "data1[data1.rcp > 0.25].dcateCd.nunique()"
   ]
  },
  {
   "cell_type": "code",
   "execution_count": 24,
   "metadata": {},
   "outputs": [
    {
     "data": {
      "text/plain": [
       "114"
      ]
     },
     "execution_count": 24,
     "metadata": {},
     "output_type": "execute_result"
    }
   ],
   "source": [
    "data1[(data1.rcp > 0.25) & (data1.dcateCd > 200000000)].dcateCd.nunique()"
   ]
  },
  {
   "cell_type": "code",
   "execution_count": 25,
   "metadata": {},
   "outputs": [
    {
     "data": {
      "text/plain": [
       "39.04109589041096"
      ]
     },
     "execution_count": 25,
     "metadata": {},
     "output_type": "execute_result"
    }
   ],
   "source": [
    "114/292*100"
   ]
  },
  {
   "cell_type": "markdown",
   "metadata": {},
   "source": [
    "# # rcp 0.3 기준"
   ]
  },
  {
   "cell_type": "code",
   "execution_count": 10,
   "metadata": {},
   "outputs": [
    {
     "data": {
      "text/plain": [
       "167"
      ]
     },
     "execution_count": 10,
     "metadata": {},
     "output_type": "execute_result"
    }
   ],
   "source": [
    "data1[data1.rcp > 0.3].dcateCd.nunique()"
   ]
  },
  {
   "cell_type": "code",
   "execution_count": 26,
   "metadata": {},
   "outputs": [
    {
     "data": {
      "text/plain": [
       "63"
      ]
     },
     "execution_count": 26,
     "metadata": {},
     "output_type": "execute_result"
    }
   ],
   "source": [
    "data1[(data1.rcp > 0.3) & (data1.dcateCd > 200000000)].dcateCd.nunique()"
   ]
  },
  {
   "cell_type": "code",
   "execution_count": 27,
   "metadata": {},
   "outputs": [
    {
     "data": {
      "text/plain": [
       "37.72455089820359"
      ]
     },
     "execution_count": 27,
     "metadata": {},
     "output_type": "execute_result"
    }
   ],
   "source": [
    "63/167*100"
   ]
  },
  {
   "cell_type": "markdown",
   "metadata": {},
   "source": [
    "# # rcp 0.35 기준"
   ]
  },
  {
   "cell_type": "code",
   "execution_count": 11,
   "metadata": {},
   "outputs": [
    {
     "data": {
      "text/plain": [
       "101"
      ]
     },
     "execution_count": 11,
     "metadata": {},
     "output_type": "execute_result"
    }
   ],
   "source": [
    "data1[data1.rcp > 0.35].dcateCd.nunique()"
   ]
  },
  {
   "cell_type": "code",
   "execution_count": 28,
   "metadata": {},
   "outputs": [
    {
     "data": {
      "text/plain": [
       "39"
      ]
     },
     "execution_count": 28,
     "metadata": {},
     "output_type": "execute_result"
    }
   ],
   "source": [
    "data1[(data1.rcp > 0.35) & (data1.dcateCd > 200000000)].dcateCd.nunique()"
   ]
  },
  {
   "cell_type": "code",
   "execution_count": 29,
   "metadata": {},
   "outputs": [
    {
     "data": {
      "text/plain": [
       "38.613861386138616"
      ]
     },
     "execution_count": 29,
     "metadata": {},
     "output_type": "execute_result"
    }
   ],
   "source": [
    "39/101*100"
   ]
  },
  {
   "cell_type": "markdown",
   "metadata": {},
   "source": [
    "# # rcp 0.4 기준"
   ]
  },
  {
   "cell_type": "code",
   "execution_count": 12,
   "metadata": {},
   "outputs": [
    {
     "data": {
      "text/plain": [
       "59"
      ]
     },
     "execution_count": 12,
     "metadata": {},
     "output_type": "execute_result"
    }
   ],
   "source": [
    "data1[data1.rcp > 0.4].dcateCd.nunique()"
   ]
  },
  {
   "cell_type": "code",
   "execution_count": 30,
   "metadata": {},
   "outputs": [
    {
     "data": {
      "text/plain": [
       "19"
      ]
     },
     "execution_count": 30,
     "metadata": {},
     "output_type": "execute_result"
    }
   ],
   "source": [
    "data1[(data1.rcp > 0.4) & (data1.dcateCd > 200000000)].dcateCd.nunique()"
   ]
  },
  {
   "cell_type": "code",
   "execution_count": 31,
   "metadata": {},
   "outputs": [
    {
     "data": {
      "text/plain": [
       "32.20338983050847"
      ]
     },
     "execution_count": 31,
     "metadata": {},
     "output_type": "execute_result"
    }
   ],
   "source": [
    "19/59*100"
   ]
  },
  {
   "cell_type": "markdown",
   "metadata": {},
   "source": [
    "# # rcp 0.15 기준"
   ]
  },
  {
   "cell_type": "code",
   "execution_count": 13,
   "metadata": {},
   "outputs": [
    {
     "data": {
      "text/plain": [
       "35"
      ]
     },
     "execution_count": 13,
     "metadata": {},
     "output_type": "execute_result"
    }
   ],
   "source": [
    "data1[data1.rcp > 0.45].dcateCd.nunique()"
   ]
  },
  {
   "cell_type": "code",
   "execution_count": 32,
   "metadata": {},
   "outputs": [
    {
     "data": {
      "text/plain": [
       "9"
      ]
     },
     "execution_count": 32,
     "metadata": {},
     "output_type": "execute_result"
    }
   ],
   "source": [
    "data1[(data1.rcp > 0.45) & (data1.dcateCd > 200000000)].dcateCd.nunique()"
   ]
  },
  {
   "cell_type": "code",
   "execution_count": 33,
   "metadata": {},
   "outputs": [
    {
     "data": {
      "text/plain": [
       "25.71428571428571"
      ]
     },
     "execution_count": 33,
     "metadata": {},
     "output_type": "execute_result"
    }
   ],
   "source": [
    "9/35*100"
   ]
  },
  {
   "cell_type": "markdown",
   "metadata": {},
   "source": [
    "# # rcp 0.15 기준"
   ]
  },
  {
   "cell_type": "code",
   "execution_count": 14,
   "metadata": {},
   "outputs": [
    {
     "data": {
      "text/plain": [
       "20"
      ]
     },
     "execution_count": 14,
     "metadata": {},
     "output_type": "execute_result"
    }
   ],
   "source": [
    "data1[data1.rcp > 0.5].dcateCd.nunique()"
   ]
  },
  {
   "cell_type": "code",
   "execution_count": 34,
   "metadata": {},
   "outputs": [
    {
     "data": {
      "text/plain": [
       "4"
      ]
     },
     "execution_count": 34,
     "metadata": {},
     "output_type": "execute_result"
    }
   ],
   "source": [
    "data1[(data1.rcp > 0.5) & (data1.dcateCd > 200000000)].dcateCd.nunique()"
   ]
  },
  {
   "cell_type": "code",
   "execution_count": 35,
   "metadata": {},
   "outputs": [
    {
     "data": {
      "text/plain": [
       "20.0"
      ]
     },
     "execution_count": 35,
     "metadata": {},
     "output_type": "execute_result"
    }
   ],
   "source": [
    "4/20*100"
   ]
  },
  {
   "cell_type": "code",
   "execution_count": null,
   "metadata": {},
   "outputs": [],
   "source": []
  }
 ],
 "metadata": {
  "kernelspec": {
   "display_name": "Python [default]",
   "language": "python",
   "name": "python3"
  },
  "language_info": {
   "codemirror_mode": {
    "name": "ipython",
    "version": 3
   },
   "file_extension": ".py",
   "mimetype": "text/x-python",
   "name": "python",
   "nbconvert_exporter": "python",
   "pygments_lexer": "ipython3",
   "version": "3.6.6"
  }
 },
 "nbformat": 4,
 "nbformat_minor": 2
}
