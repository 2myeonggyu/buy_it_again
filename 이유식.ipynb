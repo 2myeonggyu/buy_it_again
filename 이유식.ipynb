{
 "cells": [
  {
   "cell_type": "markdown",
   "metadata": {},
   "source": [
    "### # 241,010,303       : 이유식"
   ]
  },
  {
   "cell_type": "code",
   "execution_count": 2,
   "metadata": {},
   "outputs": [],
   "source": [
    "import pandas as pd\n",
    "import numpy as np\n",
    "import matplotlib.pyplot as plt\n",
    "import random\n"
   ]
  },
  {
   "cell_type": "code",
   "execution_count": 2,
   "metadata": {},
   "outputs": [
    {
     "data": {
      "text/plain": [
       "'/Users/we/Downloads/업무/buy it again_분석 '"
      ]
     },
     "execution_count": 2,
     "metadata": {},
     "output_type": "execute_result"
    }
   ],
   "source": [
    "import os\n",
    "os.getcwd()"
   ]
  },
  {
   "cell_type": "markdown",
   "metadata": {},
   "source": [
    "./chunk/"
   ]
  },
  {
   "cell_type": "code",
   "execution_count": 3,
   "metadata": {
    "scrolled": false
   },
   "outputs": [],
   "source": [
    "chunk = {}\n",
    "for i in range(13):\n",
    "    chunk[i] = pd.read_csv('./chunk/chunk{}.csv'.format(i))\n"
   ]
  },
  {
   "cell_type": "code",
   "execution_count": 5,
   "metadata": {},
   "outputs": [
    {
     "data": {
      "text/plain": [
       "13"
      ]
     },
     "execution_count": 5,
     "metadata": {},
     "output_type": "execute_result"
    }
   ],
   "source": [
    "len(chunk)"
   ]
  },
  {
   "cell_type": "code",
   "execution_count": 41,
   "metadata": {
    "scrolled": true
   },
   "outputs": [
    {
     "data": {
      "text/html": [
       "<div>\n",
       "<style scoped>\n",
       "    .dataframe tbody tr th:only-of-type {\n",
       "        vertical-align: middle;\n",
       "    }\n",
       "\n",
       "    .dataframe tbody tr th {\n",
       "        vertical-align: top;\n",
       "    }\n",
       "\n",
       "    .dataframe thead th {\n",
       "        text-align: right;\n",
       "    }\n",
       "</style>\n",
       "<table border=\"1\" class=\"dataframe\">\n",
       "  <thead>\n",
       "    <tr style=\"text-align: right;\">\n",
       "      <th></th>\n",
       "      <th>Unnamed: 0</th>\n",
       "      <th>biz_dt</th>\n",
       "      <th>m_id</th>\n",
       "      <th>order_price</th>\n",
       "      <th>prod_no</th>\n",
       "      <th>old_admin_category_id</th>\n",
       "      <th>serv_cd</th>\n",
       "    </tr>\n",
       "  </thead>\n",
       "  <tbody>\n",
       "    <tr>\n",
       "      <th>3321035</th>\n",
       "      <td>123321035</td>\n",
       "      <td>2018-09-28 17:00:21</td>\n",
       "      <td>18,342,102</td>\n",
       "      <td>3,170</td>\n",
       "      <td>100,913,544</td>\n",
       "      <td>237,040,103</td>\n",
       "      <td>2</td>\n",
       "    </tr>\n",
       "    <tr>\n",
       "      <th>3321036</th>\n",
       "      <td>123321036</td>\n",
       "      <td>2018-09-28 17:00:21</td>\n",
       "      <td>18,342,102</td>\n",
       "      <td>3,800</td>\n",
       "      <td>100,913,555</td>\n",
       "      <td>237,040,103</td>\n",
       "      <td>2</td>\n",
       "    </tr>\n",
       "    <tr>\n",
       "      <th>3321037</th>\n",
       "      <td>123321037</td>\n",
       "      <td>2018-09-28 17:00:22</td>\n",
       "      <td>24,137,068</td>\n",
       "      <td>1,699,000</td>\n",
       "      <td>101,984,766</td>\n",
       "      <td>233,040,120</td>\n",
       "      <td>2</td>\n",
       "    </tr>\n",
       "    <tr>\n",
       "      <th>3321038</th>\n",
       "      <td>123321038</td>\n",
       "      <td>2018-09-28 17:00:25</td>\n",
       "      <td>5,357,454</td>\n",
       "      <td>25,000</td>\n",
       "      <td>110,485,856</td>\n",
       "      <td>240,010,305</td>\n",
       "      <td>2</td>\n",
       "    </tr>\n",
       "    <tr>\n",
       "      <th>3321039</th>\n",
       "      <td>123321039</td>\n",
       "      <td>2018-09-28 17:00:27</td>\n",
       "      <td>21,865,461</td>\n",
       "      <td>55,900</td>\n",
       "      <td>100,371,485</td>\n",
       "      <td>233,080,119</td>\n",
       "      <td>2</td>\n",
       "    </tr>\n",
       "  </tbody>\n",
       "</table>\n",
       "</div>"
      ],
      "text/plain": [
       "         Unnamed: 0               biz_dt        m_id order_price      prod_no  \\\n",
       "3321035   123321035  2018-09-28 17:00:21  18,342,102       3,170  100,913,544   \n",
       "3321036   123321036  2018-09-28 17:00:21  18,342,102       3,800  100,913,555   \n",
       "3321037   123321037  2018-09-28 17:00:22  24,137,068   1,699,000  101,984,766   \n",
       "3321038   123321038  2018-09-28 17:00:25   5,357,454      25,000  110,485,856   \n",
       "3321039   123321039  2018-09-28 17:00:27  21,865,461      55,900  100,371,485   \n",
       "\n",
       "        old_admin_category_id  serv_cd  \n",
       "3321035           237,040,103        2  \n",
       "3321036           237,040,103        2  \n",
       "3321037           233,040,120        2  \n",
       "3321038           240,010,305        2  \n",
       "3321039           233,080,119        2  "
      ]
     },
     "execution_count": 41,
     "metadata": {},
     "output_type": "execute_result"
    }
   ],
   "source": [
    "chunk[12].tail()"
   ]
  },
  {
   "cell_type": "markdown",
   "metadata": {},
   "source": [
    "### #Chunk[12]내의 기저귀 거래 개수 확인"
   ]
  },
  {
   "cell_type": "code",
   "execution_count": 6,
   "metadata": {
    "scrolled": true
   },
   "outputs": [
    {
     "data": {
      "text/plain": [
       "10965"
      ]
     },
     "execution_count": 6,
     "metadata": {},
     "output_type": "execute_result"
    }
   ],
   "source": [
    "sum(chunk[12].old_admin_category_id == '241,010,303')"
   ]
  },
  {
   "cell_type": "markdown",
   "metadata": {},
   "source": [
    "### # 거래가 언제부터 이루어지는지?"
   ]
  },
  {
   "cell_type": "code",
   "execution_count": 9,
   "metadata": {
    "scrolled": true
   },
   "outputs": [
    {
     "data": {
      "text/html": [
       "<div>\n",
       "<style scoped>\n",
       "    .dataframe tbody tr th:only-of-type {\n",
       "        vertical-align: middle;\n",
       "    }\n",
       "\n",
       "    .dataframe tbody tr th {\n",
       "        vertical-align: top;\n",
       "    }\n",
       "\n",
       "    .dataframe thead th {\n",
       "        text-align: right;\n",
       "    }\n",
       "</style>\n",
       "<table border=\"1\" class=\"dataframe\">\n",
       "  <thead>\n",
       "    <tr style=\"text-align: right;\">\n",
       "      <th></th>\n",
       "      <th>Unnamed: 0</th>\n",
       "      <th>biz_dt</th>\n",
       "      <th>m_id</th>\n",
       "      <th>order_price</th>\n",
       "      <th>prod_no</th>\n",
       "      <th>old_admin_category_id</th>\n",
       "      <th>serv_cd</th>\n",
       "    </tr>\n",
       "  </thead>\n",
       "  <tbody>\n",
       "    <tr>\n",
       "      <th>3410</th>\n",
       "      <td>3410</td>\n",
       "      <td>2018-01-01 00:04:44</td>\n",
       "      <td>3,452,631</td>\n",
       "      <td>28,800</td>\n",
       "      <td>2,016,742</td>\n",
       "      <td>241,010,303</td>\n",
       "      <td>1</td>\n",
       "    </tr>\n",
       "    <tr>\n",
       "      <th>8880</th>\n",
       "      <td>8880</td>\n",
       "      <td>2018-01-01 00:10:09</td>\n",
       "      <td>3,588,037</td>\n",
       "      <td>31,500</td>\n",
       "      <td>2,599,479</td>\n",
       "      <td>241,010,303</td>\n",
       "      <td>1</td>\n",
       "    </tr>\n",
       "    <tr>\n",
       "      <th>9733</th>\n",
       "      <td>9733</td>\n",
       "      <td>2018-01-01 00:10:58</td>\n",
       "      <td>6,691,511</td>\n",
       "      <td>11,500</td>\n",
       "      <td>2,205,237</td>\n",
       "      <td>241,010,303</td>\n",
       "      <td>1</td>\n",
       "    </tr>\n",
       "    <tr>\n",
       "      <th>12399</th>\n",
       "      <td>12399</td>\n",
       "      <td>2018-01-01 00:13:31</td>\n",
       "      <td>22,009,363</td>\n",
       "      <td>4,900</td>\n",
       "      <td>2,404,075</td>\n",
       "      <td>241,010,303</td>\n",
       "      <td>1</td>\n",
       "    </tr>\n",
       "    <tr>\n",
       "      <th>12415</th>\n",
       "      <td>12415</td>\n",
       "      <td>2018-01-01 00:13:32</td>\n",
       "      <td>1,141,791</td>\n",
       "      <td>20,280</td>\n",
       "      <td>1,469,081</td>\n",
       "      <td>241,010,303</td>\n",
       "      <td>1</td>\n",
       "    </tr>\n",
       "  </tbody>\n",
       "</table>\n",
       "</div>"
      ],
      "text/plain": [
       "       Unnamed: 0               biz_dt        m_id order_price    prod_no  \\\n",
       "3410         3410  2018-01-01 00:04:44   3,452,631      28,800  2,016,742   \n",
       "8880         8880  2018-01-01 00:10:09   3,588,037      31,500  2,599,479   \n",
       "9733         9733  2018-01-01 00:10:58   6,691,511      11,500  2,205,237   \n",
       "12399       12399  2018-01-01 00:13:31  22,009,363       4,900  2,404,075   \n",
       "12415       12415  2018-01-01 00:13:32   1,141,791      20,280  1,469,081   \n",
       "\n",
       "      old_admin_category_id  serv_cd  \n",
       "3410            241,010,303        1  \n",
       "8880            241,010,303        1  \n",
       "9733            241,010,303        1  \n",
       "12399           241,010,303        1  \n",
       "12415           241,010,303        1  "
      ]
     },
     "execution_count": 9,
     "metadata": {},
     "output_type": "execute_result"
    }
   ],
   "source": [
    "chunk[0][chunk[0].old_admin_category_id == '241,010,303'].head()"
   ]
  },
  {
   "cell_type": "code",
   "execution_count": 7,
   "metadata": {
    "scrolled": true
   },
   "outputs": [
    {
     "data": {
      "text/html": [
       "<div>\n",
       "<style scoped>\n",
       "    .dataframe tbody tr th:only-of-type {\n",
       "        vertical-align: middle;\n",
       "    }\n",
       "\n",
       "    .dataframe tbody tr th {\n",
       "        vertical-align: top;\n",
       "    }\n",
       "\n",
       "    .dataframe thead th {\n",
       "        text-align: right;\n",
       "    }\n",
       "</style>\n",
       "<table border=\"1\" class=\"dataframe\">\n",
       "  <thead>\n",
       "    <tr style=\"text-align: right;\">\n",
       "      <th></th>\n",
       "      <th>Unnamed: 0</th>\n",
       "      <th>biz_dt</th>\n",
       "      <th>m_id</th>\n",
       "      <th>order_price</th>\n",
       "      <th>prod_no</th>\n",
       "      <th>old_admin_category_id</th>\n",
       "      <th>serv_cd</th>\n",
       "    </tr>\n",
       "  </thead>\n",
       "  <tbody>\n",
       "    <tr>\n",
       "      <th>3317433</th>\n",
       "      <td>123317433</td>\n",
       "      <td>2018-09-28 16:45:10</td>\n",
       "      <td>13,650,173</td>\n",
       "      <td>24,900</td>\n",
       "      <td>3,694,320</td>\n",
       "      <td>241,010,303</td>\n",
       "      <td>1</td>\n",
       "    </tr>\n",
       "    <tr>\n",
       "      <th>3319790</th>\n",
       "      <td>123319790</td>\n",
       "      <td>2018-09-28 16:54:31</td>\n",
       "      <td>18,009,189</td>\n",
       "      <td>31,900</td>\n",
       "      <td>4,031,967</td>\n",
       "      <td>241,010,303</td>\n",
       "      <td>1</td>\n",
       "    </tr>\n",
       "    <tr>\n",
       "      <th>3319844</th>\n",
       "      <td>123319844</td>\n",
       "      <td>2018-09-28 16:54:46</td>\n",
       "      <td>4,884,328</td>\n",
       "      <td>40,500</td>\n",
       "      <td>4,031,967</td>\n",
       "      <td>241,010,303</td>\n",
       "      <td>1</td>\n",
       "    </tr>\n",
       "    <tr>\n",
       "      <th>3320626</th>\n",
       "      <td>123320626</td>\n",
       "      <td>2018-09-28 16:57:56</td>\n",
       "      <td>1,740,118</td>\n",
       "      <td>32,100</td>\n",
       "      <td>3,694,320</td>\n",
       "      <td>241,010,303</td>\n",
       "      <td>1</td>\n",
       "    </tr>\n",
       "    <tr>\n",
       "      <th>3320798</th>\n",
       "      <td>123320798</td>\n",
       "      <td>2018-09-28 16:58:35</td>\n",
       "      <td>1,711,192</td>\n",
       "      <td>22,750</td>\n",
       "      <td>3,778,585</td>\n",
       "      <td>241,010,303</td>\n",
       "      <td>1</td>\n",
       "    </tr>\n",
       "  </tbody>\n",
       "</table>\n",
       "</div>"
      ],
      "text/plain": [
       "         Unnamed: 0               biz_dt        m_id order_price    prod_no  \\\n",
       "3317433   123317433  2018-09-28 16:45:10  13,650,173      24,900  3,694,320   \n",
       "3319790   123319790  2018-09-28 16:54:31  18,009,189      31,900  4,031,967   \n",
       "3319844   123319844  2018-09-28 16:54:46   4,884,328      40,500  4,031,967   \n",
       "3320626   123320626  2018-09-28 16:57:56   1,740,118      32,100  3,694,320   \n",
       "3320798   123320798  2018-09-28 16:58:35   1,711,192      22,750  3,778,585   \n",
       "\n",
       "        old_admin_category_id  serv_cd  \n",
       "3317433           241,010,303        1  \n",
       "3319790           241,010,303        1  \n",
       "3319844           241,010,303        1  \n",
       "3320626           241,010,303        1  \n",
       "3320798           241,010,303        1  "
      ]
     },
     "execution_count": 7,
     "metadata": {},
     "output_type": "execute_result"
    }
   ],
   "source": [
    "chunk[12][chunk[12].old_admin_category_id == '241,010,303'].tail() # 9월까지 거래 잘 이루어지네"
   ]
  },
  {
   "cell_type": "markdown",
   "metadata": {},
   "source": [
    "---"
   ]
  },
  {
   "cell_type": "markdown",
   "metadata": {},
   "source": [
    "- 연습"
   ]
  },
  {
   "cell_type": "code",
   "execution_count": 52,
   "metadata": {},
   "outputs": [],
   "source": [
    "y = pd.DataFrame()"
   ]
  },
  {
   "cell_type": "code",
   "execution_count": 57,
   "metadata": {},
   "outputs": [],
   "source": [
    "x = pd.DataFrame({'a':[1,2,3], 'b':[4,5,6]})"
   ]
  },
  {
   "cell_type": "code",
   "execution_count": 58,
   "metadata": {},
   "outputs": [
    {
     "data": {
      "text/html": [
       "<div>\n",
       "<style scoped>\n",
       "    .dataframe tbody tr th:only-of-type {\n",
       "        vertical-align: middle;\n",
       "    }\n",
       "\n",
       "    .dataframe tbody tr th {\n",
       "        vertical-align: top;\n",
       "    }\n",
       "\n",
       "    .dataframe thead th {\n",
       "        text-align: right;\n",
       "    }\n",
       "</style>\n",
       "<table border=\"1\" class=\"dataframe\">\n",
       "  <thead>\n",
       "    <tr style=\"text-align: right;\">\n",
       "      <th></th>\n",
       "      <th>a</th>\n",
       "      <th>b</th>\n",
       "    </tr>\n",
       "  </thead>\n",
       "  <tbody>\n",
       "    <tr>\n",
       "      <th>0</th>\n",
       "      <td>1</td>\n",
       "      <td>4</td>\n",
       "    </tr>\n",
       "    <tr>\n",
       "      <th>1</th>\n",
       "      <td>2</td>\n",
       "      <td>5</td>\n",
       "    </tr>\n",
       "    <tr>\n",
       "      <th>2</th>\n",
       "      <td>3</td>\n",
       "      <td>6</td>\n",
       "    </tr>\n",
       "  </tbody>\n",
       "</table>\n",
       "</div>"
      ],
      "text/plain": [
       "   a  b\n",
       "0  1  4\n",
       "1  2  5\n",
       "2  3  6"
      ]
     },
     "execution_count": 58,
     "metadata": {},
     "output_type": "execute_result"
    }
   ],
   "source": [
    "x"
   ]
  },
  {
   "cell_type": "code",
   "execution_count": 59,
   "metadata": {},
   "outputs": [
    {
     "data": {
      "text/html": [
       "<div>\n",
       "<style scoped>\n",
       "    .dataframe tbody tr th:only-of-type {\n",
       "        vertical-align: middle;\n",
       "    }\n",
       "\n",
       "    .dataframe tbody tr th {\n",
       "        vertical-align: top;\n",
       "    }\n",
       "\n",
       "    .dataframe thead th {\n",
       "        text-align: right;\n",
       "    }\n",
       "</style>\n",
       "<table border=\"1\" class=\"dataframe\">\n",
       "  <thead>\n",
       "    <tr style=\"text-align: right;\">\n",
       "      <th></th>\n",
       "      <th>a</th>\n",
       "      <th>b</th>\n",
       "    </tr>\n",
       "  </thead>\n",
       "  <tbody>\n",
       "    <tr>\n",
       "      <th>0</th>\n",
       "      <td>1</td>\n",
       "      <td>4</td>\n",
       "    </tr>\n",
       "    <tr>\n",
       "      <th>1</th>\n",
       "      <td>2</td>\n",
       "      <td>5</td>\n",
       "    </tr>\n",
       "    <tr>\n",
       "      <th>2</th>\n",
       "      <td>3</td>\n",
       "      <td>6</td>\n",
       "    </tr>\n",
       "  </tbody>\n",
       "</table>\n",
       "</div>"
      ],
      "text/plain": [
       "   a  b\n",
       "0  1  4\n",
       "1  2  5\n",
       "2  3  6"
      ]
     },
     "execution_count": 59,
     "metadata": {},
     "output_type": "execute_result"
    }
   ],
   "source": [
    "pd.concat([y,x])"
   ]
  },
  {
   "cell_type": "markdown",
   "metadata": {},
   "source": [
    "---"
   ]
  },
  {
   "cell_type": "markdown",
   "metadata": {},
   "source": [
    "### #기저귀 데이터 빼올거야"
   ]
  },
  {
   "cell_type": "code",
   "execution_count": 13,
   "metadata": {},
   "outputs": [],
   "source": [
    "bbfood = pd.DataFrame()"
   ]
  },
  {
   "cell_type": "code",
   "execution_count": 14,
   "metadata": {},
   "outputs": [],
   "source": [
    "for i in range(13):\n",
    "  bbfood = pd.concat([bbfood, chunk[i][chunk[i].old_admin_category_id == '241,010,303']])"
   ]
  },
  {
   "cell_type": "code",
   "execution_count": 15,
   "metadata": {},
   "outputs": [
    {
     "data": {
      "text/plain": [
       "(252629, 7)"
      ]
     },
     "execution_count": 15,
     "metadata": {},
     "output_type": "execute_result"
    }
   ],
   "source": [
    "bbfood.shape  # 거래 총 25만건"
   ]
  },
  {
   "cell_type": "code",
   "execution_count": 16,
   "metadata": {},
   "outputs": [
    {
     "data": {
      "text/html": [
       "<div>\n",
       "<style scoped>\n",
       "    .dataframe tbody tr th:only-of-type {\n",
       "        vertical-align: middle;\n",
       "    }\n",
       "\n",
       "    .dataframe tbody tr th {\n",
       "        vertical-align: top;\n",
       "    }\n",
       "\n",
       "    .dataframe thead th {\n",
       "        text-align: right;\n",
       "    }\n",
       "</style>\n",
       "<table border=\"1\" class=\"dataframe\">\n",
       "  <thead>\n",
       "    <tr style=\"text-align: right;\">\n",
       "      <th></th>\n",
       "      <th>Unnamed: 0</th>\n",
       "      <th>biz_dt</th>\n",
       "      <th>m_id</th>\n",
       "      <th>order_price</th>\n",
       "      <th>prod_no</th>\n",
       "      <th>old_admin_category_id</th>\n",
       "      <th>serv_cd</th>\n",
       "    </tr>\n",
       "  </thead>\n",
       "  <tbody>\n",
       "    <tr>\n",
       "      <th>3410</th>\n",
       "      <td>3410</td>\n",
       "      <td>2018-01-01 00:04:44</td>\n",
       "      <td>3,452,631</td>\n",
       "      <td>28,800</td>\n",
       "      <td>2,016,742</td>\n",
       "      <td>241,010,303</td>\n",
       "      <td>1</td>\n",
       "    </tr>\n",
       "    <tr>\n",
       "      <th>8880</th>\n",
       "      <td>8880</td>\n",
       "      <td>2018-01-01 00:10:09</td>\n",
       "      <td>3,588,037</td>\n",
       "      <td>31,500</td>\n",
       "      <td>2,599,479</td>\n",
       "      <td>241,010,303</td>\n",
       "      <td>1</td>\n",
       "    </tr>\n",
       "    <tr>\n",
       "      <th>9733</th>\n",
       "      <td>9733</td>\n",
       "      <td>2018-01-01 00:10:58</td>\n",
       "      <td>6,691,511</td>\n",
       "      <td>11,500</td>\n",
       "      <td>2,205,237</td>\n",
       "      <td>241,010,303</td>\n",
       "      <td>1</td>\n",
       "    </tr>\n",
       "    <tr>\n",
       "      <th>12399</th>\n",
       "      <td>12399</td>\n",
       "      <td>2018-01-01 00:13:31</td>\n",
       "      <td>22,009,363</td>\n",
       "      <td>4,900</td>\n",
       "      <td>2,404,075</td>\n",
       "      <td>241,010,303</td>\n",
       "      <td>1</td>\n",
       "    </tr>\n",
       "    <tr>\n",
       "      <th>12415</th>\n",
       "      <td>12415</td>\n",
       "      <td>2018-01-01 00:13:32</td>\n",
       "      <td>1,141,791</td>\n",
       "      <td>20,280</td>\n",
       "      <td>1,469,081</td>\n",
       "      <td>241,010,303</td>\n",
       "      <td>1</td>\n",
       "    </tr>\n",
       "  </tbody>\n",
       "</table>\n",
       "</div>"
      ],
      "text/plain": [
       "       Unnamed: 0               biz_dt        m_id order_price    prod_no  \\\n",
       "3410         3410  2018-01-01 00:04:44   3,452,631      28,800  2,016,742   \n",
       "8880         8880  2018-01-01 00:10:09   3,588,037      31,500  2,599,479   \n",
       "9733         9733  2018-01-01 00:10:58   6,691,511      11,500  2,205,237   \n",
       "12399       12399  2018-01-01 00:13:31  22,009,363       4,900  2,404,075   \n",
       "12415       12415  2018-01-01 00:13:32   1,141,791      20,280  1,469,081   \n",
       "\n",
       "      old_admin_category_id  serv_cd  \n",
       "3410            241,010,303        1  \n",
       "8880            241,010,303        1  \n",
       "9733            241,010,303        1  \n",
       "12399           241,010,303        1  \n",
       "12415           241,010,303        1  "
      ]
     },
     "execution_count": 16,
     "metadata": {},
     "output_type": "execute_result"
    }
   ],
   "source": [
    "bbfood.head()"
   ]
  },
  {
   "cell_type": "code",
   "execution_count": 17,
   "metadata": {},
   "outputs": [
    {
     "data": {
      "text/html": [
       "<div>\n",
       "<style scoped>\n",
       "    .dataframe tbody tr th:only-of-type {\n",
       "        vertical-align: middle;\n",
       "    }\n",
       "\n",
       "    .dataframe tbody tr th {\n",
       "        vertical-align: top;\n",
       "    }\n",
       "\n",
       "    .dataframe thead th {\n",
       "        text-align: right;\n",
       "    }\n",
       "</style>\n",
       "<table border=\"1\" class=\"dataframe\">\n",
       "  <thead>\n",
       "    <tr style=\"text-align: right;\">\n",
       "      <th></th>\n",
       "      <th>Unnamed: 0</th>\n",
       "      <th>biz_dt</th>\n",
       "      <th>m_id</th>\n",
       "      <th>order_price</th>\n",
       "      <th>prod_no</th>\n",
       "      <th>old_admin_category_id</th>\n",
       "      <th>serv_cd</th>\n",
       "    </tr>\n",
       "  </thead>\n",
       "  <tbody>\n",
       "    <tr>\n",
       "      <th>3317433</th>\n",
       "      <td>123317433</td>\n",
       "      <td>2018-09-28 16:45:10</td>\n",
       "      <td>13,650,173</td>\n",
       "      <td>24,900</td>\n",
       "      <td>3,694,320</td>\n",
       "      <td>241,010,303</td>\n",
       "      <td>1</td>\n",
       "    </tr>\n",
       "    <tr>\n",
       "      <th>3319790</th>\n",
       "      <td>123319790</td>\n",
       "      <td>2018-09-28 16:54:31</td>\n",
       "      <td>18,009,189</td>\n",
       "      <td>31,900</td>\n",
       "      <td>4,031,967</td>\n",
       "      <td>241,010,303</td>\n",
       "      <td>1</td>\n",
       "    </tr>\n",
       "    <tr>\n",
       "      <th>3319844</th>\n",
       "      <td>123319844</td>\n",
       "      <td>2018-09-28 16:54:46</td>\n",
       "      <td>4,884,328</td>\n",
       "      <td>40,500</td>\n",
       "      <td>4,031,967</td>\n",
       "      <td>241,010,303</td>\n",
       "      <td>1</td>\n",
       "    </tr>\n",
       "    <tr>\n",
       "      <th>3320626</th>\n",
       "      <td>123320626</td>\n",
       "      <td>2018-09-28 16:57:56</td>\n",
       "      <td>1,740,118</td>\n",
       "      <td>32,100</td>\n",
       "      <td>3,694,320</td>\n",
       "      <td>241,010,303</td>\n",
       "      <td>1</td>\n",
       "    </tr>\n",
       "    <tr>\n",
       "      <th>3320798</th>\n",
       "      <td>123320798</td>\n",
       "      <td>2018-09-28 16:58:35</td>\n",
       "      <td>1,711,192</td>\n",
       "      <td>22,750</td>\n",
       "      <td>3,778,585</td>\n",
       "      <td>241,010,303</td>\n",
       "      <td>1</td>\n",
       "    </tr>\n",
       "  </tbody>\n",
       "</table>\n",
       "</div>"
      ],
      "text/plain": [
       "         Unnamed: 0               biz_dt        m_id order_price    prod_no  \\\n",
       "3317433   123317433  2018-09-28 16:45:10  13,650,173      24,900  3,694,320   \n",
       "3319790   123319790  2018-09-28 16:54:31  18,009,189      31,900  4,031,967   \n",
       "3319844   123319844  2018-09-28 16:54:46   4,884,328      40,500  4,031,967   \n",
       "3320626   123320626  2018-09-28 16:57:56   1,740,118      32,100  3,694,320   \n",
       "3320798   123320798  2018-09-28 16:58:35   1,711,192      22,750  3,778,585   \n",
       "\n",
       "        old_admin_category_id  serv_cd  \n",
       "3317433           241,010,303        1  \n",
       "3319790           241,010,303        1  \n",
       "3319844           241,010,303        1  \n",
       "3320626           241,010,303        1  \n",
       "3320798           241,010,303        1  "
      ]
     },
     "execution_count": 17,
     "metadata": {},
     "output_type": "execute_result"
    }
   ],
   "source": [
    "bbfood.tail()"
   ]
  },
  {
   "cell_type": "markdown",
   "metadata": {},
   "source": [
    "### #filter 만들어주기"
   ]
  },
  {
   "cell_type": "code",
   "execution_count": 18,
   "metadata": {},
   "outputs": [],
   "source": [
    "filter = pd.to_datetime('2018-08-01')"
   ]
  },
  {
   "cell_type": "code",
   "execution_count": 19,
   "metadata": {
    "scrolled": true
   },
   "outputs": [],
   "source": [
    "bbfood['biz_dt'] = pd.to_datetime(bbfood['biz_dt'])"
   ]
  },
  {
   "cell_type": "markdown",
   "metadata": {},
   "source": [
    "### # filter이용하기"
   ]
  },
  {
   "cell_type": "code",
   "execution_count": 20,
   "metadata": {
    "scrolled": true
   },
   "outputs": [],
   "source": [
    "bbfood_train = bbfood[bbfood.biz_dt < filter]"
   ]
  },
  {
   "cell_type": "code",
   "execution_count": 21,
   "metadata": {},
   "outputs": [],
   "source": [
    "bbfood_test = bbfood[bbfood.biz_dt >= filter]"
   ]
  },
  {
   "cell_type": "code",
   "execution_count": 22,
   "metadata": {},
   "outputs": [
    {
     "data": {
      "text/plain": [
       "(193645, 7)"
      ]
     },
     "execution_count": 22,
     "metadata": {},
     "output_type": "execute_result"
    }
   ],
   "source": [
    "bbfood_train.shape"
   ]
  },
  {
   "cell_type": "code",
   "execution_count": 23,
   "metadata": {},
   "outputs": [
    {
     "data": {
      "text/plain": [
       "(58984, 7)"
      ]
     },
     "execution_count": 23,
     "metadata": {},
     "output_type": "execute_result"
    }
   ],
   "source": [
    "bbfood_test.shape"
   ]
  },
  {
   "cell_type": "code",
   "execution_count": 24,
   "metadata": {},
   "outputs": [
    {
     "data": {
      "text/plain": [
       "True"
      ]
     },
     "execution_count": 24,
     "metadata": {},
     "output_type": "execute_result"
    }
   ],
   "source": [
    "bbfood_train.shape[0] + bbfood_test.shape[0] == bbfood.shape[0]"
   ]
  },
  {
   "cell_type": "markdown",
   "metadata": {},
   "source": [
    "### # 저장"
   ]
  },
  {
   "cell_type": "code",
   "execution_count": 25,
   "metadata": {},
   "outputs": [],
   "source": [
    "bbfood_train.to_excel('bbfood_train.xlsx')\n",
    "bbfood_test.to_excel('bbfood_test.xlsx')"
   ]
  },
  {
   "cell_type": "code",
   "execution_count": 26,
   "metadata": {
    "scrolled": true
   },
   "outputs": [
    {
     "data": {
      "text/plain": [
       "(193645, 7)"
      ]
     },
     "execution_count": 26,
     "metadata": {},
     "output_type": "execute_result"
    }
   ],
   "source": [
    "pd.read_excel('bbfood_train.xlsx').shape"
   ]
  },
  {
   "cell_type": "code",
   "execution_count": 27,
   "metadata": {},
   "outputs": [
    {
     "data": {
      "text/plain": [
       "(58984, 7)"
      ]
     },
     "execution_count": 27,
     "metadata": {},
     "output_type": "execute_result"
    }
   ],
   "source": [
    "pd.read_excel('bbfood_test.xlsx').shape"
   ]
  },
  {
   "cell_type": "code",
   "execution_count": null,
   "metadata": {},
   "outputs": [],
   "source": []
  },
  {
   "cell_type": "markdown",
   "metadata": {},
   "source": [
    "---"
   ]
  },
  {
   "cell_type": "markdown",
   "metadata": {},
   "source": [
    "---"
   ]
  },
  {
   "cell_type": "markdown",
   "metadata": {},
   "source": [
    "### # 데이터 로딩"
   ]
  },
  {
   "cell_type": "code",
   "execution_count": 3,
   "metadata": {},
   "outputs": [],
   "source": [
    "bbfood_train = pd.read_excel('bbfood_train.xlsx')\n",
    "#bbfood_test = pd.read_excel('bbfood_test.xlsx')"
   ]
  },
  {
   "cell_type": "code",
   "execution_count": 91,
   "metadata": {},
   "outputs": [],
   "source": [
    "bbfood_test = pd.read_excel('bbfood_test.xlsx')"
   ]
  },
  {
   "cell_type": "code",
   "execution_count": 4,
   "metadata": {},
   "outputs": [
    {
     "name": "stdout",
     "output_type": "stream",
     "text": [
      "<class 'pandas.core.frame.DataFrame'>\n",
      "Int64Index: 193645 entries, 3410 to 9110015\n",
      "Data columns (total 7 columns):\n",
      "Unnamed: 0               193645 non-null int64\n",
      "biz_dt                   193645 non-null datetime64[ns]\n",
      "m_id                     193645 non-null object\n",
      "order_price              193645 non-null object\n",
      "prod_no                  193645 non-null object\n",
      "old_admin_category_id    193645 non-null object\n",
      "serv_cd                  193645 non-null int64\n",
      "dtypes: datetime64[ns](1), int64(2), object(4)\n",
      "memory usage: 11.8+ MB\n"
     ]
    }
   ],
   "source": [
    "bbfood_train.info()"
   ]
  },
  {
   "cell_type": "markdown",
   "metadata": {},
   "source": [
    "### # 이런식의 계산을 원해"
   ]
  },
  {
   "cell_type": "code",
   "execution_count": 38,
   "metadata": {
    "scrolled": true
   },
   "outputs": [
    {
     "data": {
      "text/plain": [
       "Timedelta('-1 days +00:00:00')"
      ]
     },
     "execution_count": 38,
     "metadata": {},
     "output_type": "execute_result"
    }
   ],
   "source": [
    "pd.to_datetime('2018-01-01') - pd.to_datetime('2018-01-02')"
   ]
  },
  {
   "cell_type": "code",
   "execution_count": 39,
   "metadata": {},
   "outputs": [
    {
     "data": {
      "text/plain": [
       "545775"
      ]
     },
     "execution_count": 39,
     "metadata": {},
     "output_type": "execute_result"
    }
   ],
   "source": [
    "bbfood_train.shape[0]  # 전체 약 55만건의 구매이력 "
   ]
  },
  {
   "cell_type": "code",
   "execution_count": 41,
   "metadata": {},
   "outputs": [
    {
     "data": {
      "text/plain": [
       "212550"
      ]
     },
     "execution_count": 41,
     "metadata": {},
     "output_type": "execute_result"
    }
   ],
   "source": [
    "bbfood_train.m_id.nunique() # 이 기저귀 카테고리에 약 20만명의 구매이력이 있다..!"
   ]
  },
  {
   "cell_type": "markdown",
   "metadata": {},
   "source": [
    "---"
   ]
  },
  {
   "cell_type": "markdown",
   "metadata": {},
   "source": [
    "- 연습"
   ]
  },
  {
   "cell_type": "markdown",
   "metadata": {},
   "source": [
    "-이런식으로 timedelta 만들거야"
   ]
  },
  {
   "cell_type": "code",
   "execution_count": 44,
   "metadata": {},
   "outputs": [],
   "source": [
    "a = bbfood.iloc[100000]['biz_dt'] - bbfood.iloc[0]['biz_dt']"
   ]
  },
  {
   "cell_type": "code",
   "execution_count": 45,
   "metadata": {},
   "outputs": [
    {
     "data": {
      "text/plain": [
       "Timedelta('51 days 12:21:43')"
      ]
     },
     "execution_count": 45,
     "metadata": {},
     "output_type": "execute_result"
    }
   ],
   "source": [
    "a"
   ]
  },
  {
   "cell_type": "markdown",
   "metadata": {},
   "source": [
    "-t로써 쓸 것! "
   ]
  },
  {
   "cell_type": "code",
   "execution_count": 46,
   "metadata": {
    "scrolled": true
   },
   "outputs": [
    {
     "data": {
      "text/plain": [
       "51"
      ]
     },
     "execution_count": 46,
     "metadata": {},
     "output_type": "execute_result"
    }
   ],
   "source": [
    "a.days"
   ]
  },
  {
   "cell_type": "markdown",
   "metadata": {},
   "source": [
    "---"
   ]
  },
  {
   "cell_type": "markdown",
   "metadata": {},
   "source": [
    "- unique한 MEMBER ID불러와"
   ]
  },
  {
   "cell_type": "code",
   "execution_count": 5,
   "metadata": {},
   "outputs": [],
   "source": [
    "mid = bbfood_train.m_id.unique()"
   ]
  },
  {
   "cell_type": "code",
   "execution_count": 6,
   "metadata": {},
   "outputs": [
    {
     "data": {
      "text/plain": [
       "65850"
      ]
     },
     "execution_count": 6,
     "metadata": {},
     "output_type": "execute_result"
    }
   ],
   "source": [
    "len(mid)"
   ]
  },
  {
   "cell_type": "code",
   "execution_count": 7,
   "metadata": {
    "scrolled": true
   },
   "outputs": [
    {
     "data": {
      "text/plain": [
       "(65850,)"
      ]
     },
     "execution_count": 7,
     "metadata": {},
     "output_type": "execute_result"
    }
   ],
   "source": [
    "mid.shape"
   ]
  },
  {
   "cell_type": "code",
   "execution_count": 8,
   "metadata": {},
   "outputs": [
    {
     "data": {
      "text/plain": [
       "'5,005,039'"
      ]
     },
     "execution_count": 8,
     "metadata": {},
     "output_type": "execute_result"
    }
   ],
   "source": [
    "mid[1000]"
   ]
  },
  {
   "cell_type": "markdown",
   "metadata": {},
   "source": [
    "### # 이런식으로 : 2번째 고객의 구매이력"
   ]
  },
  {
   "cell_type": "code",
   "execution_count": 9,
   "metadata": {
    "scrolled": false
   },
   "outputs": [
    {
     "data": {
      "text/html": [
       "<div>\n",
       "<style scoped>\n",
       "    .dataframe tbody tr th:only-of-type {\n",
       "        vertical-align: middle;\n",
       "    }\n",
       "\n",
       "    .dataframe tbody tr th {\n",
       "        vertical-align: top;\n",
       "    }\n",
       "\n",
       "    .dataframe thead th {\n",
       "        text-align: right;\n",
       "    }\n",
       "</style>\n",
       "<table border=\"1\" class=\"dataframe\">\n",
       "  <thead>\n",
       "    <tr style=\"text-align: right;\">\n",
       "      <th></th>\n",
       "      <th>Unnamed: 0</th>\n",
       "      <th>biz_dt</th>\n",
       "      <th>m_id</th>\n",
       "      <th>order_price</th>\n",
       "      <th>prod_no</th>\n",
       "      <th>old_admin_category_id</th>\n",
       "      <th>serv_cd</th>\n",
       "    </tr>\n",
       "  </thead>\n",
       "  <tbody>\n",
       "    <tr>\n",
       "      <th>8880</th>\n",
       "      <td>8880</td>\n",
       "      <td>2018-01-01 00:10:09</td>\n",
       "      <td>3,588,037</td>\n",
       "      <td>31,500</td>\n",
       "      <td>2,599,479</td>\n",
       "      <td>241,010,303</td>\n",
       "      <td>1</td>\n",
       "    </tr>\n",
       "    <tr>\n",
       "      <th>6804304</th>\n",
       "      <td>6804304</td>\n",
       "      <td>2018-01-15 03:07:09</td>\n",
       "      <td>3,588,037</td>\n",
       "      <td>31,500</td>\n",
       "      <td>2,599,479</td>\n",
       "      <td>241,010,303</td>\n",
       "      <td>1</td>\n",
       "    </tr>\n",
       "    <tr>\n",
       "      <th>709178</th>\n",
       "      <td>10709178</td>\n",
       "      <td>2018-01-24 08:24:30</td>\n",
       "      <td>3,588,037</td>\n",
       "      <td>31,500</td>\n",
       "      <td>2,599,479</td>\n",
       "      <td>241,010,303</td>\n",
       "      <td>1</td>\n",
       "    </tr>\n",
       "    <tr>\n",
       "      <th>4146283</th>\n",
       "      <td>14146283</td>\n",
       "      <td>2018-02-01 07:03:00</td>\n",
       "      <td>3,588,037</td>\n",
       "      <td>25,200</td>\n",
       "      <td>2,599,479</td>\n",
       "      <td>241,010,303</td>\n",
       "      <td>1</td>\n",
       "    </tr>\n",
       "    <tr>\n",
       "      <th>7860062</th>\n",
       "      <td>17860062</td>\n",
       "      <td>2018-02-07 17:13:16</td>\n",
       "      <td>3,588,037</td>\n",
       "      <td>25,200</td>\n",
       "      <td>2,599,479</td>\n",
       "      <td>241,010,303</td>\n",
       "      <td>1</td>\n",
       "    </tr>\n",
       "    <tr>\n",
       "      <th>2592932</th>\n",
       "      <td>22592932</td>\n",
       "      <td>2018-02-21 10:58:40</td>\n",
       "      <td>3,588,037</td>\n",
       "      <td>31,500</td>\n",
       "      <td>2,599,479</td>\n",
       "      <td>241,010,303</td>\n",
       "      <td>1</td>\n",
       "    </tr>\n",
       "    <tr>\n",
       "      <th>2594426</th>\n",
       "      <td>22594426</td>\n",
       "      <td>2018-02-21 11:02:32</td>\n",
       "      <td>3,588,037</td>\n",
       "      <td>31,500</td>\n",
       "      <td>2,599,479</td>\n",
       "      <td>241,010,303</td>\n",
       "      <td>1</td>\n",
       "    </tr>\n",
       "    <tr>\n",
       "      <th>6598494</th>\n",
       "      <td>26598494</td>\n",
       "      <td>2018-03-02 15:04:40</td>\n",
       "      <td>3,588,037</td>\n",
       "      <td>31,500</td>\n",
       "      <td>2,599,479</td>\n",
       "      <td>241,010,303</td>\n",
       "      <td>1</td>\n",
       "    </tr>\n",
       "    <tr>\n",
       "      <th>6599887</th>\n",
       "      <td>26599887</td>\n",
       "      <td>2018-03-02 15:08:25</td>\n",
       "      <td>3,588,037</td>\n",
       "      <td>31,500</td>\n",
       "      <td>2,599,479</td>\n",
       "      <td>241,010,303</td>\n",
       "      <td>1</td>\n",
       "    </tr>\n",
       "    <tr>\n",
       "      <th>9583210</th>\n",
       "      <td>29583210</td>\n",
       "      <td>2018-03-08 00:05:12</td>\n",
       "      <td>3,588,037</td>\n",
       "      <td>19,500</td>\n",
       "      <td>2,016,811</td>\n",
       "      <td>241,010,303</td>\n",
       "      <td>1</td>\n",
       "    </tr>\n",
       "    <tr>\n",
       "      <th>877387</th>\n",
       "      <td>30877387</td>\n",
       "      <td>2018-03-11 01:09:42</td>\n",
       "      <td>3,588,037</td>\n",
       "      <td>25,000</td>\n",
       "      <td>3,402,706</td>\n",
       "      <td>241,010,303</td>\n",
       "      <td>1</td>\n",
       "    </tr>\n",
       "    <tr>\n",
       "      <th>4336264</th>\n",
       "      <td>34336264</td>\n",
       "      <td>2018-03-18 20:58:30</td>\n",
       "      <td>3,588,037</td>\n",
       "      <td>40,680</td>\n",
       "      <td>1,659,313</td>\n",
       "      <td>241,010,303</td>\n",
       "      <td>1</td>\n",
       "    </tr>\n",
       "    <tr>\n",
       "      <th>8757679</th>\n",
       "      <td>38757679</td>\n",
       "      <td>2018-03-28 10:23:06</td>\n",
       "      <td>3,588,037</td>\n",
       "      <td>40,680</td>\n",
       "      <td>1,659,313</td>\n",
       "      <td>241,010,303</td>\n",
       "      <td>1</td>\n",
       "    </tr>\n",
       "    <tr>\n",
       "      <th>717677</th>\n",
       "      <td>40717677</td>\n",
       "      <td>2018-04-02 03:35:58</td>\n",
       "      <td>3,588,037</td>\n",
       "      <td>40,000</td>\n",
       "      <td>3,490,454</td>\n",
       "      <td>241,010,303</td>\n",
       "      <td>1</td>\n",
       "    </tr>\n",
       "    <tr>\n",
       "      <th>6763084</th>\n",
       "      <td>46763084</td>\n",
       "      <td>2018-04-12 18:37:57</td>\n",
       "      <td>3,588,037</td>\n",
       "      <td>30,510</td>\n",
       "      <td>1,659,313</td>\n",
       "      <td>241,010,303</td>\n",
       "      <td>1</td>\n",
       "    </tr>\n",
       "    <tr>\n",
       "      <th>248471</th>\n",
       "      <td>50248471</td>\n",
       "      <td>2018-04-20 08:37:23</td>\n",
       "      <td>3,588,037</td>\n",
       "      <td>40,680</td>\n",
       "      <td>1,659,313</td>\n",
       "      <td>241,010,303</td>\n",
       "      <td>1</td>\n",
       "    </tr>\n",
       "    <tr>\n",
       "      <th>2214953</th>\n",
       "      <td>62214953</td>\n",
       "      <td>2018-05-15 12:52:41</td>\n",
       "      <td>3,588,037</td>\n",
       "      <td>31,900</td>\n",
       "      <td>3,666,700</td>\n",
       "      <td>241,010,303</td>\n",
       "      <td>1</td>\n",
       "    </tr>\n",
       "    <tr>\n",
       "      <th>6684462</th>\n",
       "      <td>66684462</td>\n",
       "      <td>2018-05-25 11:38:21</td>\n",
       "      <td>3,588,037</td>\n",
       "      <td>40,680</td>\n",
       "      <td>1,659,313</td>\n",
       "      <td>241,010,303</td>\n",
       "      <td>1</td>\n",
       "    </tr>\n",
       "    <tr>\n",
       "      <th>3562219</th>\n",
       "      <td>83562219</td>\n",
       "      <td>2018-07-01 13:20:33</td>\n",
       "      <td>3,588,037</td>\n",
       "      <td>40,680</td>\n",
       "      <td>2,892,088</td>\n",
       "      <td>241,010,303</td>\n",
       "      <td>1</td>\n",
       "    </tr>\n",
       "  </tbody>\n",
       "</table>\n",
       "</div>"
      ],
      "text/plain": [
       "         Unnamed: 0              biz_dt       m_id order_price    prod_no  \\\n",
       "8880           8880 2018-01-01 00:10:09  3,588,037      31,500  2,599,479   \n",
       "6804304     6804304 2018-01-15 03:07:09  3,588,037      31,500  2,599,479   \n",
       "709178     10709178 2018-01-24 08:24:30  3,588,037      31,500  2,599,479   \n",
       "4146283    14146283 2018-02-01 07:03:00  3,588,037      25,200  2,599,479   \n",
       "7860062    17860062 2018-02-07 17:13:16  3,588,037      25,200  2,599,479   \n",
       "2592932    22592932 2018-02-21 10:58:40  3,588,037      31,500  2,599,479   \n",
       "2594426    22594426 2018-02-21 11:02:32  3,588,037      31,500  2,599,479   \n",
       "6598494    26598494 2018-03-02 15:04:40  3,588,037      31,500  2,599,479   \n",
       "6599887    26599887 2018-03-02 15:08:25  3,588,037      31,500  2,599,479   \n",
       "9583210    29583210 2018-03-08 00:05:12  3,588,037      19,500  2,016,811   \n",
       "877387     30877387 2018-03-11 01:09:42  3,588,037      25,000  3,402,706   \n",
       "4336264    34336264 2018-03-18 20:58:30  3,588,037      40,680  1,659,313   \n",
       "8757679    38757679 2018-03-28 10:23:06  3,588,037      40,680  1,659,313   \n",
       "717677     40717677 2018-04-02 03:35:58  3,588,037      40,000  3,490,454   \n",
       "6763084    46763084 2018-04-12 18:37:57  3,588,037      30,510  1,659,313   \n",
       "248471     50248471 2018-04-20 08:37:23  3,588,037      40,680  1,659,313   \n",
       "2214953    62214953 2018-05-15 12:52:41  3,588,037      31,900  3,666,700   \n",
       "6684462    66684462 2018-05-25 11:38:21  3,588,037      40,680  1,659,313   \n",
       "3562219    83562219 2018-07-01 13:20:33  3,588,037      40,680  2,892,088   \n",
       "\n",
       "        old_admin_category_id  serv_cd  \n",
       "8880              241,010,303        1  \n",
       "6804304           241,010,303        1  \n",
       "709178            241,010,303        1  \n",
       "4146283           241,010,303        1  \n",
       "7860062           241,010,303        1  \n",
       "2592932           241,010,303        1  \n",
       "2594426           241,010,303        1  \n",
       "6598494           241,010,303        1  \n",
       "6599887           241,010,303        1  \n",
       "9583210           241,010,303        1  \n",
       "877387            241,010,303        1  \n",
       "4336264           241,010,303        1  \n",
       "8757679           241,010,303        1  \n",
       "717677            241,010,303        1  \n",
       "6763084           241,010,303        1  \n",
       "248471            241,010,303        1  \n",
       "2214953           241,010,303        1  \n",
       "6684462           241,010,303        1  \n",
       "3562219           241,010,303        1  "
      ]
     },
     "execution_count": 9,
     "metadata": {},
     "output_type": "execute_result"
    }
   ],
   "source": [
    "bbfood_train[bbfood_train.m_id == bbfood_train.m_id.unique()[1]]"
   ]
  },
  {
   "cell_type": "markdown",
   "metadata": {},
   "source": [
    "-> 이런식으로"
   ]
  },
  {
   "cell_type": "markdown",
   "metadata": {},
   "source": [
    "---"
   ]
  },
  {
   "cell_type": "code",
   "execution_count": 11,
   "metadata": {},
   "outputs": [
    {
     "data": {
      "text/plain": [
       "'3,588,037'"
      ]
     },
     "execution_count": 11,
     "metadata": {},
     "output_type": "execute_result"
    }
   ],
   "source": [
    "bbfood_train.m_id.unique()[1] # 두번째 고객 정보"
   ]
  },
  {
   "cell_type": "code",
   "execution_count": 12,
   "metadata": {},
   "outputs": [
    {
     "data": {
      "text/plain": [
       "19"
      ]
     },
     "execution_count": 12,
     "metadata": {},
     "output_type": "execute_result"
    }
   ],
   "source": [
    "sum(bbfood_train.m_id == '3,588,037') #이 사람의 구매이력"
   ]
  },
  {
   "cell_type": "markdown",
   "metadata": {},
   "source": [
    "---"
   ]
  },
  {
   "cell_type": "markdown",
   "metadata": {},
   "source": [
    "(1) 테스트"
   ]
  },
  {
   "cell_type": "code",
   "execution_count": 20,
   "metadata": {},
   "outputs": [
    {
     "name": "stdout",
     "output_type": "stream",
     "text": [
      "3.9238269329071045\n"
     ]
    }
   ],
   "source": [
    "import time\n",
    "\n",
    "start_time = time.time()\n",
    "\n",
    "c = {}\n",
    "t = []\n",
    "for i in range(len(bbfood_train.m_id.unique()[:100])):\n",
    "    c[i] = bbfood_train[bbfood_train.m_id == bbfood_train.m_id.unique()[i]].sort_values(by = 'biz_dt', ascending = False)\n",
    "    for j in range(c[i].shape[0]-1):\n",
    "        \n",
    "        t.append((c[i].iloc[j]['biz_dt'] - c[i].iloc[j+1]['biz_dt']).days) #밑의 if문이랑 같은 결과야(해본결과, len가 1이면 iiappend안해줘)\n",
    "\n",
    "        \n",
    "elapsed_time = time.time() - start_time\n",
    "print(elapsed_time)"
   ]
  },
  {
   "cell_type": "markdown",
   "metadata": {},
   "source": [
    "(2) 테스트"
   ]
  },
  {
   "cell_type": "code",
   "execution_count": 26,
   "metadata": {},
   "outputs": [
    {
     "name": "stdout",
     "output_type": "stream",
     "text": [
      "3.3005638122558594\n"
     ]
    }
   ],
   "source": [
    "import time\n",
    "\n",
    "start_time = time.time()\n",
    "\n",
    "c = {}\n",
    "t = np.array([])\n",
    "for i in range(len(bbfood_train.m_id.unique()[:100])):\n",
    "    c[i] = bbfood_train[bbfood_train.m_id == bbfood_train.m_id.unique()[i]].sort_values(by = 'biz_dt', ascending = False)\n",
    "\n",
    "    t = np.append(t, [j.days for j in c[i].biz_dt.diff()])\n",
    "        \n",
    "elapsed_time = time.time() - start_time\n",
    "print(elapsed_time)"
   ]
  },
  {
   "cell_type": "code",
   "execution_count": 27,
   "metadata": {
    "scrolled": true
   },
   "outputs": [
    {
     "data": {
      "text/plain": [
       "array([  nan,  -31.,  -21.,  -10.,   -6.,  -14.,  -34.,  -17.,   -7.,\n",
       "        -15.,   nan,  -38.,  -10.,  -26.,   -8.,  -11.,   -5.,  -10.,\n",
       "         -8.,   -4.,   -6.,   -1.,  -10.,   -1.,  -14.,   -7.,   -8.,\n",
       "        -10.,  -15.,   nan,   nan,  -15.,  -22.,   -1.,   -5., -108.,\n",
       "         nan,   -5.,   -9.,  -22.,  -22.,  -14.,   nan,  -63.,   nan,\n",
       "        -16.,  -16.,  -15.,   -1.,   -7.,  -10.,  -15.,  -14.,  -18.,\n",
       "        -30.,  -12.,  -20.,    0.,  -30.,   nan,   nan,   -1.,   nan,\n",
       "         nan,  -14.,  -12.,  -14.,  -19.,  -18.,  -12.,   -8.,  -14.,\n",
       "         -8.,  -19.,  -13.,  -37.,   -7.,  -10.,   -5.,   -4.,   -2.,\n",
       "         -4.,   nan,   nan,  -30.,  -92.,   nan,   -9.,    0.,   nan,\n",
       "         nan,   nan,  -15.,  -27.,  -14.,  -27.,  -22.,  -16.,  -15.,\n",
       "         -9.,  -12.,  -12.,  -25.,   nan,   nan,  -51.,  -13.,  -33.,\n",
       "        -10.,   -7.,   -3.,   -1.,   -7.,  -11.,   -4.,   nan,   nan,\n",
       "        -72.,  -80.,   nan,  -42.,  -29.,   nan,   nan,  -15.,   -6.,\n",
       "        -11.,   -1.,  -77.,  -34.,  -18.,   nan,   -8.,  -12.,  -16.,\n",
       "        -11.,  -12.,   -7.,   -7.,   -7.,   -8.,   -1.,  -16.,   -7.,\n",
       "         -7.,   -8.,  -27.,   -6.,   -3.,  -16.,   -4.,   -2.,   -7.,\n",
       "         -6.,   -2.,   -7.,   -5.,   -3.,   -3.,   nan,  -52.,   nan,\n",
       "         -8.,   -8.,   -7.,   nan,  -63.,  -11.,  -18.,  -33.,  -36.,\n",
       "         -7.,  -14.,  -29.,   nan, -109.,   nan,   -9.,   -8.,   -1.,\n",
       "         -9.,  -14.,   -7.,  -25.,   -9.,  -16.,   -8.,  -20.,   -7.,\n",
       "        -22.,  -14.,  -16.,  -12.,   -6.,  -15.,   nan,  -10.,   -6.,\n",
       "         -9.,   -8.,  -10.,   -9.,   -7.,   -8.,  -24.,   -7.,  -20.,\n",
       "         -7.,   -8.,   -7.,   -7.,   -7.,   -5.,   -6.,  -15.,   -9.,\n",
       "        -12.,  -10.,   -8.,   nan,  -27.,  -35.,   -9.,  -17.,   nan,\n",
       "        -55.,   nan,  -60.,   -1.,  -29.,  -69.,   -1.,   nan,   nan,\n",
       "         -7.,   -8.,   -7.,   -7.,   -8.,   -7.,   -6.,   -9.,   -7.,\n",
       "         -7.,   -7.,   -8.,   -8.,   -7.,   -7.,   -7.,   -8.,   -8.,\n",
       "         -7.,   -8.,   -8.,   -7.,  -10.,   -6.,   -8.,   -7.,   -8.,\n",
       "         -8.,   -7.,   -7.,   nan,   nan,  -31.,   nan, -207.,   nan,\n",
       "         nan,   -1.,   -5.,   -6.,  -14.,   -7.,   -7.,   -8.,   -5.,\n",
       "         -7.,   -6.,  -11.,   -5.,   -6.,   -8.,  -12., -109.,   -1.,\n",
       "         nan,  -11.,  -14.,  -18.,   -1.,   -6.,   -8.,   -1.,  -13.,\n",
       "         -1.,   -1.,   -9.,   -8.,   -5.,   -1.,   -8.,  -12.,   -5.,\n",
       "        -10.,  -11.,   -7.,   -8.,   -7.,   -8.,   -4.,   -2.,  -10.,\n",
       "         -7.,   nan,   -7.,   -7.,   nan,   nan,   nan,   nan,   -1.,\n",
       "        -66.,   nan,  -10.,   nan,  -19.,  -42.,  -18.,  -22.,   nan,\n",
       "        -51.,  -32.,  -19.,  -10.,   -6.,   -6.,   -8.,  -13.,  -18.,\n",
       "        -11.,  -17.,  -13.,   -3.,   nan,   -3.,  -14.,   -4.,   -5.,\n",
       "        -14.,   -6.,   -8.,   -6.,   -2.,   -4.,   -3.,   -5.,   -4.,\n",
       "         nan,   -1.,   -2.,   nan,  -15.,  -17.,  -18.,  -17.,  -15.,\n",
       "        -12.,  -10.,  -15.,   nan,  -21.,  -70.,  -13.,   -9.,   -1.,\n",
       "         -7.,   nan,  -48.,   nan,   -8.,  -11.,   -5.,   -9.,   -7.,\n",
       "         -7.,   -9.,  -12.,   -9.,   -9.,   -8.,   -5.,   -8.,  -14.,\n",
       "         -8.,   nan,   -8.,   nan,  -60.,  -56.,   nan,   nan,  -15.,\n",
       "        -26.,  -10.,  -14.,   -7.,   -9.,  -11.,  -10.,   -8.,   -7.,\n",
       "         -6.,   -8.,   -9.,   -7.,   -7.,   nan,  -26.,  -22.,  -22.,\n",
       "        -14.,  -56.,   -9.,   -7.,   -8.,   -8.,   -8.,   -6.,  -10.,\n",
       "         nan,  -23.,  -12.,  -49.,   nan,  -11.,   -8.,   -9.,   nan,\n",
       "         -2.,  -23.,  -42.,    0.,  -17.,  -36.,  -12.,  -12.,  -12.,\n",
       "        -50.,   nan,  -51.,  -15.,  -45.,   -9.,  -11.,  -21.,   nan,\n",
       "        -26.,   nan,   -8.,  -13.,  -11.,  -11.,  -11.,  -12.,  -11.,\n",
       "        -11.,  -10.,  -11.,   -9.,   -9.,   -8.,  -18.,  -10.,   -8.,\n",
       "         -9.,   -7.,   nan,   nan,   nan,   nan,   -6.,  -10.,   -9.,\n",
       "        -16.,   -2.,   -5.,  -14.,   -9.,  -14.,   -5.,   -8.,   -9.,\n",
       "         -9.,  -10.,   -5.,   -9.,   -1.,   nan,  -13.,   -9.,  -11.,\n",
       "        -12.,  -15.,  -12.,  -11.,   -9.,  -11.,  -11.,   -1.,  -14.,\n",
       "         -5.,  -13.,   -6.,  -14.,   nan,   nan,   -9.,   -6.,   -8.,\n",
       "         -9.,   -7.,   -8.,  -13.,   nan,  -44.,   -2.,  -34.,  -14.,\n",
       "         -1.,   -2.,  -14.,   -1.,   -1.,   -8.,  -11.,  -18.,  -18.,\n",
       "        -10.,  -13.,  -18.,   nan,   nan,  -11.,  -12.,  -13.,   -9.,\n",
       "        -15.,  -14.,   -7.,  -26.,  -12.,  -21.,   -7.,   -5.,  -31.,\n",
       "        -27.,   nan,  -72.,  -27.,   nan,   -7.,  -10.,   -8.,   -4.,\n",
       "        -10.,   -7.,   -8.,  -13.,  -10.,   -1.,   -8.,  -10.,   -8.,\n",
       "         -8.,   -8.,   -9.,   -9.,  -11.,   -9.,   -7.,  -12.,   -5.,\n",
       "         -9.,  -12.,   -2.,   -7.,  -10.,   nan, -143.,   -1.,  -27.,\n",
       "         -2.,   nan,  -21.,   -7.,   -4.,   -5.,   nan,   -8.,   nan,\n",
       "         -1.,  -12.,   -1.,  -11.,   -1.,  -12.,   -1.,  -14.,   -6.,\n",
       "         -6.,   -9.,  -12.,   -2.,   -9.,   -8.,   -2.,   -7.,  -12.,\n",
       "         -9.,   -9.,   -1.,   -9.,  -10.,    0.,   -7.,  -13.,   -1.,\n",
       "         -6.,   -1.,   -6.,   -6.,   -5.,   -9.,   -9.,   nan,  -70.,\n",
       "         -4.,  -13.,  -14.,   -9.,   -1.,   -7.,   -8.,   nan,  -14.,\n",
       "         -3.,  -13.,   -6.,  -10.,   -7.,   -6.,   -7.,   -8.,   -7.,\n",
       "        -12.,   -2.,  -14.,   -4.,  -13.,  -15.,  -14.,   -1.,   -4.,\n",
       "         -3.,  -10.,   -1.,   -2.,   -5.,   -6.,  -13.,   -3.,   -6.,\n",
       "         -8.,   nan,  -72.,  -22.,   -3.,  -12.,   -9.,   -8.,  -21.,\n",
       "        -21.,   nan,  -30.,  -72.,  -17.,  -14.,  -15.,   -7.,  -14.,\n",
       "         -1.,   -8.,   -7.,   -2.,   -5.,   -6.,   -3.,   -7.,   nan,\n",
       "        -17.,  -10.,   -7.,  -11.,   -1.,   -5.,   -9.,   -3.,   -8.,\n",
       "         -7.,   -3.,   -5.,   -4.,   nan,   nan,  -13.,  -56.,  -28.,\n",
       "        -27.,    0.,   -8.,  -19.,    0.,   -1.,  -16.,  -17.,   nan,\n",
       "         -4.,   -1.,   nan,  -17.,   nan,   -7.,   -8.,   -7.,   -8.,\n",
       "         -7.,   nan,   nan,   -8.,   -6.,  -10.,   nan,   nan,  -31.,\n",
       "         -9.,   -1.,   nan,   nan,  -52.,  -10.,   -6.,  -11.,  -13.,\n",
       "        -12.,  -16.,  -34.,   -1.,   -8.,  -15.,   nan])"
      ]
     },
     "execution_count": 27,
     "metadata": {},
     "output_type": "execute_result"
    }
   ],
   "source": [
    "t"
   ]
  },
  {
   "cell_type": "markdown",
   "metadata": {},
   "source": [
    "-> 시간 이정도 단축되었어! : (2)으로 한다!"
   ]
  },
  {
   "cell_type": "markdown",
   "metadata": {},
   "source": [
    "---"
   ]
  },
  {
   "cell_type": "markdown",
   "metadata": {},
   "source": [
    "# <U>**(2) 리스트 컴프리헨션, diff()메소드*</U>"
   ]
  },
  {
   "cell_type": "code",
   "execution_count": 28,
   "metadata": {},
   "outputs": [
    {
     "name": "stdout",
     "output_type": "stream",
     "text": [
      "2081.5051209926605\n"
     ]
    }
   ],
   "source": [
    "import time\n",
    "\n",
    "start_time = time.time()\n",
    "\n",
    "c = {}\n",
    "t = np.array([])\n",
    "for i in range(len(bbfood_train.m_id.unique())):\n",
    "    c[i] = bbfood_train[bbfood_train.m_id == bbfood_train.m_id.unique()[i]].sort_values(by = 'biz_dt', ascending = False)\n",
    "    \n",
    "\n",
    "    t = np.append(t, [j.days for j in c[i].biz_dt.diff()])\n",
    "        \n",
    "elapsed_time = time.time() - start_time\n",
    "print(elapsed_time)"
   ]
  },
  {
   "cell_type": "code",
   "execution_count": 30,
   "metadata": {},
   "outputs": [
    {
     "data": {
      "text/plain": [
       "193645"
      ]
     },
     "execution_count": 30,
     "metadata": {},
     "output_type": "execute_result"
    }
   ],
   "source": [
    "len(t)"
   ]
  },
  {
   "cell_type": "code",
   "execution_count": 34,
   "metadata": {},
   "outputs": [
    {
     "data": {
      "text/plain": [
       "array([ nan, -31., -21., ...,  nan,  nan,  nan])"
      ]
     },
     "execution_count": 34,
     "metadata": {},
     "output_type": "execute_result"
    }
   ],
   "source": [
    "t"
   ]
  },
  {
   "cell_type": "code",
   "execution_count": 31,
   "metadata": {},
   "outputs": [],
   "source": [
    "tt = pd.DataFrame(t)"
   ]
  },
  {
   "cell_type": "code",
   "execution_count": 35,
   "metadata": {},
   "outputs": [
    {
     "data": {
      "text/html": [
       "<div>\n",
       "<style scoped>\n",
       "    .dataframe tbody tr th:only-of-type {\n",
       "        vertical-align: middle;\n",
       "    }\n",
       "\n",
       "    .dataframe tbody tr th {\n",
       "        vertical-align: top;\n",
       "    }\n",
       "\n",
       "    .dataframe thead th {\n",
       "        text-align: right;\n",
       "    }\n",
       "</style>\n",
       "<table border=\"1\" class=\"dataframe\">\n",
       "  <thead>\n",
       "    <tr style=\"text-align: right;\">\n",
       "      <th></th>\n",
       "      <th>0</th>\n",
       "    </tr>\n",
       "  </thead>\n",
       "  <tbody>\n",
       "    <tr>\n",
       "      <th>0</th>\n",
       "      <td>NaN</td>\n",
       "    </tr>\n",
       "    <tr>\n",
       "      <th>1</th>\n",
       "      <td>-31.0</td>\n",
       "    </tr>\n",
       "    <tr>\n",
       "      <th>2</th>\n",
       "      <td>-21.0</td>\n",
       "    </tr>\n",
       "    <tr>\n",
       "      <th>3</th>\n",
       "      <td>-10.0</td>\n",
       "    </tr>\n",
       "    <tr>\n",
       "      <th>4</th>\n",
       "      <td>-6.0</td>\n",
       "    </tr>\n",
       "    <tr>\n",
       "      <th>5</th>\n",
       "      <td>-14.0</td>\n",
       "    </tr>\n",
       "    <tr>\n",
       "      <th>6</th>\n",
       "      <td>-34.0</td>\n",
       "    </tr>\n",
       "    <tr>\n",
       "      <th>7</th>\n",
       "      <td>-17.0</td>\n",
       "    </tr>\n",
       "    <tr>\n",
       "      <th>8</th>\n",
       "      <td>-7.0</td>\n",
       "    </tr>\n",
       "    <tr>\n",
       "      <th>9</th>\n",
       "      <td>-15.0</td>\n",
       "    </tr>\n",
       "    <tr>\n",
       "      <th>10</th>\n",
       "      <td>NaN</td>\n",
       "    </tr>\n",
       "    <tr>\n",
       "      <th>11</th>\n",
       "      <td>-38.0</td>\n",
       "    </tr>\n",
       "    <tr>\n",
       "      <th>12</th>\n",
       "      <td>-10.0</td>\n",
       "    </tr>\n",
       "    <tr>\n",
       "      <th>13</th>\n",
       "      <td>-26.0</td>\n",
       "    </tr>\n",
       "    <tr>\n",
       "      <th>14</th>\n",
       "      <td>-8.0</td>\n",
       "    </tr>\n",
       "    <tr>\n",
       "      <th>15</th>\n",
       "      <td>-11.0</td>\n",
       "    </tr>\n",
       "    <tr>\n",
       "      <th>16</th>\n",
       "      <td>-5.0</td>\n",
       "    </tr>\n",
       "    <tr>\n",
       "      <th>17</th>\n",
       "      <td>-10.0</td>\n",
       "    </tr>\n",
       "    <tr>\n",
       "      <th>18</th>\n",
       "      <td>-8.0</td>\n",
       "    </tr>\n",
       "    <tr>\n",
       "      <th>19</th>\n",
       "      <td>-4.0</td>\n",
       "    </tr>\n",
       "  </tbody>\n",
       "</table>\n",
       "</div>"
      ],
      "text/plain": [
       "       0\n",
       "0    NaN\n",
       "1  -31.0\n",
       "2  -21.0\n",
       "3  -10.0\n",
       "4   -6.0\n",
       "5  -14.0\n",
       "6  -34.0\n",
       "7  -17.0\n",
       "8   -7.0\n",
       "9  -15.0\n",
       "10   NaN\n",
       "11 -38.0\n",
       "12 -10.0\n",
       "13 -26.0\n",
       "14  -8.0\n",
       "15 -11.0\n",
       "16  -5.0\n",
       "17 -10.0\n",
       "18  -8.0\n",
       "19  -4.0"
      ]
     },
     "execution_count": 35,
     "metadata": {},
     "output_type": "execute_result"
    }
   ],
   "source": [
    "tt.head(20)"
   ]
  },
  {
   "cell_type": "code",
   "execution_count": 37,
   "metadata": {},
   "outputs": [],
   "source": [
    "tt.to_excel('bbfood_t.xlsx')"
   ]
  },
  {
   "cell_type": "code",
   "execution_count": 36,
   "metadata": {
    "scrolled": true
   },
   "outputs": [
    {
     "data": {
      "text/plain": [
       "0    127795\n",
       "dtype: int64"
      ]
     },
     "execution_count": 36,
     "metadata": {},
     "output_type": "execute_result"
    }
   ],
   "source": [
    "tt.count()"
   ]
  },
  {
   "cell_type": "code",
   "execution_count": 38,
   "metadata": {},
   "outputs": [
    {
     "data": {
      "text/plain": [
       "0    65850\n",
       "dtype: int64"
      ]
     },
     "execution_count": 38,
     "metadata": {},
     "output_type": "execute_result"
    }
   ],
   "source": [
    "len(tt)-tt.count()  # 19만개 중, 6만5천개가 distinct user : datetime.diff() 메소드 이용하면, 첫번째 obs는 nan이 되니깐 맞아!"
   ]
  },
  {
   "cell_type": "code",
   "execution_count": 41,
   "metadata": {},
   "outputs": [
    {
     "data": {
      "text/plain": [
       "(193645, 7)"
      ]
     },
     "execution_count": 41,
     "metadata": {},
     "output_type": "execute_result"
    }
   ],
   "source": [
    "bbfood_train.shape"
   ]
  },
  {
   "cell_type": "code",
   "execution_count": 40,
   "metadata": {},
   "outputs": [
    {
     "data": {
      "text/plain": [
       "(65850,)"
      ]
     },
     "execution_count": 40,
     "metadata": {},
     "output_type": "execute_result"
    }
   ],
   "source": [
    "bbfood_train.m_id.unique().shape"
   ]
  },
  {
   "cell_type": "markdown",
   "metadata": {},
   "source": [
    "- 확인!"
   ]
  },
  {
   "cell_type": "code",
   "execution_count": 42,
   "metadata": {},
   "outputs": [
    {
     "data": {
      "text/plain": [
       "65850"
      ]
     },
     "execution_count": 42,
     "metadata": {},
     "output_type": "execute_result"
    }
   ],
   "source": [
    "bbfood_train.m_id.nunique()"
   ]
  },
  {
   "cell_type": "markdown",
   "metadata": {},
   "source": [
    "---"
   ]
  },
  {
   "cell_type": "markdown",
   "metadata": {},
   "source": [
    "### # "
   ]
  },
  {
   "cell_type": "code",
   "execution_count": 49,
   "metadata": {
    "scrolled": true
   },
   "outputs": [],
   "source": [
    "tt = tt.dropna()*(-1)   # t값 순수하게 얻은거야"
   ]
  },
  {
   "cell_type": "code",
   "execution_count": 89,
   "metadata": {},
   "outputs": [
    {
     "data": {
      "text/plain": [
       "array([[<matplotlib.axes._subplots.AxesSubplot object at 0x11c5fe828>]],\n",
       "      dtype=object)"
      ]
     },
     "execution_count": 89,
     "metadata": {},
     "output_type": "execute_result"
    },
    {
     "data": {
      "image/png": "[encoded data removed]",
      "text/plain": [
       "<Figure size 432x288 with 1 Axes>"
      ]
     },
     "metadata": {
      "needs_background": "light"
     },
     "output_type": "display_data"
    }
   ],
   "source": [
    "pd.DataFrame(tt).hist(bins=150, density = True)"
   ]
  },
  {
   "cell_type": "code",
   "execution_count": 52,
   "metadata": {},
   "outputs": [],
   "source": [
    "tmean = tt.mean()"
   ]
  },
  {
   "cell_type": "code",
   "execution_count": 55,
   "metadata": {},
   "outputs": [
    {
     "data": {
      "text/plain": [
       "0    19.484025\n",
       "dtype: float64"
      ]
     },
     "execution_count": 55,
     "metadata": {},
     "output_type": "execute_result"
    }
   ],
   "source": [
    "tmean"
   ]
  },
  {
   "cell_type": "markdown",
   "metadata": {},
   "source": [
    "### # fit.gamma()를 통해 parameter추정"
   ]
  },
  {
   "cell_type": "code",
   "execution_count": 82,
   "metadata": {},
   "outputs": [
    {
     "data": {
      "text/plain": [
       "4.4"
      ]
     },
     "execution_count": 82,
     "metadata": {},
     "output_type": "execute_result"
    }
   ],
   "source": [
    "22/5"
   ]
  },
  {
   "cell_type": "code",
   "execution_count": 56,
   "metadata": {},
   "outputs": [],
   "source": [
    "import scipy.stats as stats"
   ]
  },
  {
   "cell_type": "code",
   "execution_count": 57,
   "metadata": {},
   "outputs": [
    {
     "data": {
      "text/plain": [
       "(0.92498631615498, -5.457201630437631e-23, 20.574170101037616)"
      ]
     },
     "execution_count": 57,
     "metadata": {},
     "output_type": "execute_result"
    }
   ],
   "source": [
    "stats.gamma.fit(tt)"
   ]
  },
  {
   "cell_type": "code",
   "execution_count": 58,
   "metadata": {},
   "outputs": [
    {
     "data": {
      "text/plain": [
       "(0.8661504712076704, -4.335382574184874e-25, 23.587740370047747)"
      ]
     },
     "execution_count": 58,
     "metadata": {},
     "output_type": "execute_result"
    }
   ],
   "source": [
    "stats.gamma.fit(tt, loc=0)"
   ]
  },
  {
   "cell_type": "markdown",
   "metadata": {},
   "source": [
    "### # gamma mle를 통해 parameter추정"
   ]
  },
  {
   "cell_type": "code",
   "execution_count": 68,
   "metadata": {},
   "outputs": [
    {
     "data": {
      "text/plain": [
       "(127795, 1)"
      ]
     },
     "execution_count": 68,
     "metadata": {},
     "output_type": "execute_result"
    }
   ],
   "source": [
    "tt.shape"
   ]
  },
  {
   "cell_type": "code",
   "execution_count": 59,
   "metadata": {},
   "outputs": [],
   "source": [
    "x = np.linspace (0, 100, 200)   # 0부터 100까지 200개로 !"
   ]
  },
  {
   "cell_type": "code",
   "execution_count": 63,
   "metadata": {},
   "outputs": [
    {
     "data": {
      "text/plain": [
       "array([ 95.47738693,  95.9798995 ,  96.48241206,  96.98492462,\n",
       "        97.48743719,  97.98994975,  98.49246231,  98.99497487,\n",
       "        99.49748744, 100.        ])"
      ]
     },
     "execution_count": 63,
     "metadata": {},
     "output_type": "execute_result"
    }
   ],
   "source": [
    "x[-10:]"
   ]
  },
  {
   "cell_type": "code",
   "execution_count": 61,
   "metadata": {},
   "outputs": [
    {
     "data": {
      "text/plain": [
       "(200,)"
      ]
     },
     "execution_count": 61,
     "metadata": {},
     "output_type": "execute_result"
    }
   ],
   "source": [
    "x.shape"
   ]
  },
  {
   "cell_type": "code",
   "execution_count": 64,
   "metadata": {},
   "outputs": [
    {
     "data": {
      "text/plain": [
       "0    19.484025\n",
       "dtype: float64"
      ]
     },
     "execution_count": 64,
     "metadata": {},
     "output_type": "execute_result"
    }
   ],
   "source": [
    "tt.mean()"
   ]
  },
  {
   "cell_type": "code",
   "execution_count": 65,
   "metadata": {},
   "outputs": [
    {
     "data": {
      "text/plain": [
       "0    536.669234\n",
       "dtype: float64"
      ]
     },
     "execution_count": 65,
     "metadata": {},
     "output_type": "execute_result"
    }
   ],
   "source": [
    "tt.var()"
   ]
  },
  {
   "cell_type": "markdown",
   "metadata": {},
   "source": [
    "---"
   ]
  },
  {
   "cell_type": "markdown",
   "metadata": {},
   "source": [
    "### # a와 b를 간단히 이렇게 정할 수 있어."
   ]
  },
  {
   "cell_type": "code",
   "execution_count": 66,
   "metadata": {},
   "outputs": [],
   "source": [
    "b = tt.mean()/tt.var()"
   ]
  },
  {
   "cell_type": "code",
   "execution_count": 67,
   "metadata": {},
   "outputs": [],
   "source": [
    "a = b*tt.mean()"
   ]
  },
  {
   "cell_type": "markdown",
   "metadata": {},
   "source": [
    "---"
   ]
  },
  {
   "cell_type": "code",
   "execution_count": null,
   "metadata": {},
   "outputs": [],
   "source": [
    "y = stats.gamma.pdf(x, a=29, scale=0.33333)"
   ]
  },
  {
   "cell_type": "code",
   "execution_count": 87,
   "metadata": {},
   "outputs": [],
   "source": [
    "r = stats.gamma.rvs(a,scale=1/b , size = tt.shape[0])  # scale = 1/rate"
   ]
  },
  {
   "cell_type": "code",
   "execution_count": 88,
   "metadata": {
    "scrolled": true
   },
   "outputs": [
    {
     "data": {
      "image/png": "[encoded data removed]",
      "text/plain": [
       "<Figure size 432x288 with 1 Axes>"
      ]
     },
     "metadata": {
      "needs_background": "light"
     },
     "output_type": "display_data"
    }
   ],
   "source": [
    "fig, ax = plt.subplots(1, 1)\n",
    "\n",
    "ax.hist(r, density=True, bins = 150)\n",
    "plt.show()"
   ]
  },
  {
   "cell_type": "markdown",
   "metadata": {},
   "source": [
    "---"
   ]
  },
  {
   "cell_type": "code",
   "execution_count": 79,
   "metadata": {},
   "outputs": [],
   "source": [
    "r = stats.gamma.rvs(a,scale=b , size = tt.shape[0])"
   ]
  },
  {
   "cell_type": "code",
   "execution_count": 80,
   "metadata": {
    "scrolled": true
   },
   "outputs": [
    {
     "data": {
      "image/png": "[encoded data removed]",
      "text/plain": [
       "<Figure size 432x288 with 1 Axes>"
      ]
     },
     "metadata": {
      "needs_background": "light"
     },
     "output_type": "display_data"
    }
   ],
   "source": [
    "fig, ax = plt.subplots(1, 1)\n",
    "\n",
    "ax.hist(r, density=True, bins = 150)\n",
    "plt.show()"
   ]
  },
  {
   "cell_type": "code",
   "execution_count": null,
   "metadata": {},
   "outputs": [],
   "source": []
  },
  {
   "cell_type": "code",
   "execution_count": null,
   "metadata": {},
   "outputs": [],
   "source": []
  },
  {
   "cell_type": "code",
   "execution_count": 83,
   "metadata": {},
   "outputs": [
    {
     "name": "stdout",
     "output_type": "stream",
     "text": [
      "[173.50850997 169.84899623 245.99547401 ... 302.50485336 247.80510857\n",
      " 159.88249037]\n"
     ]
    }
   ],
   "source": [
    "alpha = 5\n",
    "loc = 100.5\n",
    "beta = 22\n",
    "data = stats.gamma.rvs(alpha, loc=loc, scale=beta, size=10000)    \n",
    "print(data)"
   ]
  },
  {
   "cell_type": "code",
   "execution_count": 84,
   "metadata": {},
   "outputs": [
    {
     "data": {
      "text/plain": [
       "211.04507743367165"
      ]
     },
     "execution_count": 84,
     "metadata": {},
     "output_type": "execute_result"
    }
   ],
   "source": [
    "data.mean()"
   ]
  },
  {
   "cell_type": "code",
   "execution_count": 85,
   "metadata": {},
   "outputs": [
    {
     "data": {
      "text/plain": [
       "2373.0496830577486"
      ]
     },
     "execution_count": 85,
     "metadata": {},
     "output_type": "execute_result"
    }
   ],
   "source": [
    "data.var()"
   ]
  },
  {
   "cell_type": "code",
   "execution_count": 86,
   "metadata": {},
   "outputs": [
    {
     "data": {
      "text/plain": [
       "2420"
      ]
     },
     "execution_count": 86,
     "metadata": {},
     "output_type": "execute_result"
    }
   ],
   "source": [
    "alpha*beta**2"
   ]
  },
  {
   "cell_type": "code",
   "execution_count": null,
   "metadata": {},
   "outputs": [],
   "source": []
  },
  {
   "cell_type": "markdown",
   "metadata": {},
   "source": [
    "### # test_id[0]를 예측해보자!"
   ]
  },
  {
   "cell_type": "code",
   "execution_count": 92,
   "metadata": {},
   "outputs": [
    {
     "data": {
      "text/html": [
       "<div>\n",
       "<style scoped>\n",
       "    .dataframe tbody tr th:only-of-type {\n",
       "        vertical-align: middle;\n",
       "    }\n",
       "\n",
       "    .dataframe tbody tr th {\n",
       "        vertical-align: top;\n",
       "    }\n",
       "\n",
       "    .dataframe thead th {\n",
       "        text-align: right;\n",
       "    }\n",
       "</style>\n",
       "<table border=\"1\" class=\"dataframe\">\n",
       "  <thead>\n",
       "    <tr style=\"text-align: right;\">\n",
       "      <th></th>\n",
       "      <th>Unnamed: 0</th>\n",
       "      <th>biz_dt</th>\n",
       "      <th>m_id</th>\n",
       "      <th>order_price</th>\n",
       "      <th>prod_no</th>\n",
       "      <th>old_admin_category_id</th>\n",
       "      <th>serv_cd</th>\n",
       "    </tr>\n",
       "  </thead>\n",
       "  <tbody>\n",
       "    <tr>\n",
       "      <th>9110557</th>\n",
       "      <td>99110557</td>\n",
       "      <td>2018-08-01 00:00:31</td>\n",
       "      <td>20,907,774</td>\n",
       "      <td>51,400</td>\n",
       "      <td>3,885,380</td>\n",
       "      <td>241,010,303</td>\n",
       "      <td>1</td>\n",
       "    </tr>\n",
       "    <tr>\n",
       "      <th>9112529</th>\n",
       "      <td>99112529</td>\n",
       "      <td>2018-08-01 00:03:15</td>\n",
       "      <td>5,527,091</td>\n",
       "      <td>30,900</td>\n",
       "      <td>1,490,322</td>\n",
       "      <td>241,010,303</td>\n",
       "      <td>1</td>\n",
       "    </tr>\n",
       "    <tr>\n",
       "      <th>9113255</th>\n",
       "      <td>99113255</td>\n",
       "      <td>2018-08-01 00:04:03</td>\n",
       "      <td>4,767,229</td>\n",
       "      <td>32,800</td>\n",
       "      <td>1,657,529</td>\n",
       "      <td>241,010,303</td>\n",
       "      <td>1</td>\n",
       "    </tr>\n",
       "    <tr>\n",
       "      <th>9113517</th>\n",
       "      <td>99113517</td>\n",
       "      <td>2018-08-01 00:04:22</td>\n",
       "      <td>13,768,175</td>\n",
       "      <td>32,800</td>\n",
       "      <td>1,657,529</td>\n",
       "      <td>241,010,303</td>\n",
       "      <td>1</td>\n",
       "    </tr>\n",
       "    <tr>\n",
       "      <th>9113528</th>\n",
       "      <td>99113528</td>\n",
       "      <td>2018-08-01 00:04:22</td>\n",
       "      <td>13,768,175</td>\n",
       "      <td>25,900</td>\n",
       "      <td>3,559,471</td>\n",
       "      <td>241,010,303</td>\n",
       "      <td>1</td>\n",
       "    </tr>\n",
       "  </tbody>\n",
       "</table>\n",
       "</div>"
      ],
      "text/plain": [
       "         Unnamed: 0              biz_dt        m_id order_price    prod_no  \\\n",
       "9110557    99110557 2018-08-01 00:00:31  20,907,774      51,400  3,885,380   \n",
       "9112529    99112529 2018-08-01 00:03:15   5,527,091      30,900  1,490,322   \n",
       "9113255    99113255 2018-08-01 00:04:03   4,767,229      32,800  1,657,529   \n",
       "9113517    99113517 2018-08-01 00:04:22  13,768,175      32,800  1,657,529   \n",
       "9113528    99113528 2018-08-01 00:04:22  13,768,175      25,900  3,559,471   \n",
       "\n",
       "        old_admin_category_id  serv_cd  \n",
       "9110557           241,010,303        1  \n",
       "9112529           241,010,303        1  \n",
       "9113255           241,010,303        1  \n",
       "9113517           241,010,303        1  \n",
       "9113528           241,010,303        1  "
      ]
     },
     "execution_count": 92,
     "metadata": {},
     "output_type": "execute_result"
    }
   ],
   "source": [
    "bbfood_test.head()"
   ]
  },
  {
   "cell_type": "code",
   "execution_count": 95,
   "metadata": {},
   "outputs": [],
   "source": [
    "test_id = bbfood_test.m_id.unique()[:10]"
   ]
  },
  {
   "cell_type": "markdown",
   "metadata": {},
   "source": [
    "### # 이 사람의 구매이력"
   ]
  },
  {
   "cell_type": "code",
   "execution_count": 99,
   "metadata": {
    "scrolled": false
   },
   "outputs": [
    {
     "data": {
      "text/html": [
       "<div>\n",
       "<style scoped>\n",
       "    .dataframe tbody tr th:only-of-type {\n",
       "        vertical-align: middle;\n",
       "    }\n",
       "\n",
       "    .dataframe tbody tr th {\n",
       "        vertical-align: top;\n",
       "    }\n",
       "\n",
       "    .dataframe thead th {\n",
       "        text-align: right;\n",
       "    }\n",
       "</style>\n",
       "<table border=\"1\" class=\"dataframe\">\n",
       "  <thead>\n",
       "    <tr style=\"text-align: right;\">\n",
       "      <th></th>\n",
       "      <th>Unnamed: 0</th>\n",
       "      <th>biz_dt</th>\n",
       "      <th>m_id</th>\n",
       "      <th>order_price</th>\n",
       "      <th>prod_no</th>\n",
       "      <th>old_admin_category_id</th>\n",
       "      <th>serv_cd</th>\n",
       "    </tr>\n",
       "  </thead>\n",
       "  <tbody>\n",
       "    <tr>\n",
       "      <th>9278539</th>\n",
       "      <td>79278539</td>\n",
       "      <td>2018-06-20 22:28:35</td>\n",
       "      <td>20,907,774</td>\n",
       "      <td>32,000</td>\n",
       "      <td>3,757,451</td>\n",
       "      <td>241,010,303</td>\n",
       "      <td>1</td>\n",
       "    </tr>\n",
       "    <tr>\n",
       "      <th>510020</th>\n",
       "      <td>80510020</td>\n",
       "      <td>2018-06-24 14:03:54</td>\n",
       "      <td>20,907,774</td>\n",
       "      <td>3,390</td>\n",
       "      <td>1,659,313</td>\n",
       "      <td>241,010,303</td>\n",
       "      <td>1</td>\n",
       "    </tr>\n",
       "    <tr>\n",
       "      <th>1827621</th>\n",
       "      <td>81827621</td>\n",
       "      <td>2018-06-27 08:59:40</td>\n",
       "      <td>20,907,774</td>\n",
       "      <td>26,300</td>\n",
       "      <td>1,659,313</td>\n",
       "      <td>241,010,303</td>\n",
       "      <td>1</td>\n",
       "    </tr>\n",
       "    <tr>\n",
       "      <th>5015587</th>\n",
       "      <td>85015587</td>\n",
       "      <td>2018-07-03 22:37:33</td>\n",
       "      <td>20,907,774</td>\n",
       "      <td>29,690</td>\n",
       "      <td>1,659,313</td>\n",
       "      <td>241,010,303</td>\n",
       "      <td>1</td>\n",
       "    </tr>\n",
       "    <tr>\n",
       "      <th>747689</th>\n",
       "      <td>90747689</td>\n",
       "      <td>2018-07-13 23:11:59</td>\n",
       "      <td>20,907,774</td>\n",
       "      <td>5,300</td>\n",
       "      <td>3,653,074</td>\n",
       "      <td>241,010,303</td>\n",
       "      <td>1</td>\n",
       "    </tr>\n",
       "    <tr>\n",
       "      <th>747697</th>\n",
       "      <td>90747697</td>\n",
       "      <td>2018-07-13 23:12:00</td>\n",
       "      <td>20,907,774</td>\n",
       "      <td>30,900</td>\n",
       "      <td>1,490,322</td>\n",
       "      <td>241,010,303</td>\n",
       "      <td>1</td>\n",
       "    </tr>\n",
       "  </tbody>\n",
       "</table>\n",
       "</div>"
      ],
      "text/plain": [
       "         Unnamed: 0              biz_dt        m_id order_price    prod_no  \\\n",
       "9278539    79278539 2018-06-20 22:28:35  20,907,774      32,000  3,757,451   \n",
       "510020     80510020 2018-06-24 14:03:54  20,907,774       3,390  1,659,313   \n",
       "1827621    81827621 2018-06-27 08:59:40  20,907,774      26,300  1,659,313   \n",
       "5015587    85015587 2018-07-03 22:37:33  20,907,774      29,690  1,659,313   \n",
       "747689     90747689 2018-07-13 23:11:59  20,907,774       5,300  3,653,074   \n",
       "747697     90747697 2018-07-13 23:12:00  20,907,774      30,900  1,490,322   \n",
       "\n",
       "        old_admin_category_id  serv_cd  \n",
       "9278539           241,010,303        1  \n",
       "510020            241,010,303        1  \n",
       "1827621           241,010,303        1  \n",
       "5015587           241,010,303        1  \n",
       "747689            241,010,303        1  \n",
       "747697            241,010,303        1  "
      ]
     },
     "execution_count": 99,
     "metadata": {},
     "output_type": "execute_result"
    }
   ],
   "source": [
    "bbfood_train[bbfood_train.m_id == test_id[0]]"
   ]
  },
  {
   "cell_type": "code",
   "execution_count": 100,
   "metadata": {},
   "outputs": [
    {
     "data": {
      "text/html": [
       "<div>\n",
       "<style scoped>\n",
       "    .dataframe tbody tr th:only-of-type {\n",
       "        vertical-align: middle;\n",
       "    }\n",
       "\n",
       "    .dataframe tbody tr th {\n",
       "        vertical-align: top;\n",
       "    }\n",
       "\n",
       "    .dataframe thead th {\n",
       "        text-align: right;\n",
       "    }\n",
       "</style>\n",
       "<table border=\"1\" class=\"dataframe\">\n",
       "  <thead>\n",
       "    <tr style=\"text-align: right;\">\n",
       "      <th></th>\n",
       "      <th>Unnamed: 0</th>\n",
       "      <th>biz_dt</th>\n",
       "      <th>m_id</th>\n",
       "      <th>order_price</th>\n",
       "      <th>prod_no</th>\n",
       "      <th>old_admin_category_id</th>\n",
       "      <th>serv_cd</th>\n",
       "    </tr>\n",
       "  </thead>\n",
       "  <tbody>\n",
       "    <tr>\n",
       "      <th>747697</th>\n",
       "      <td>90747697</td>\n",
       "      <td>2018-07-13 23:12:00</td>\n",
       "      <td>20,907,774</td>\n",
       "      <td>30,900</td>\n",
       "      <td>1,490,322</td>\n",
       "      <td>241,010,303</td>\n",
       "      <td>1</td>\n",
       "    </tr>\n",
       "  </tbody>\n",
       "</table>\n",
       "</div>"
      ],
      "text/plain": [
       "        Unnamed: 0              biz_dt        m_id order_price    prod_no  \\\n",
       "747697    90747697 2018-07-13 23:12:00  20,907,774      30,900  1,490,322   \n",
       "\n",
       "       old_admin_category_id  serv_cd  \n",
       "747697           241,010,303        1  "
      ]
     },
     "execution_count": 100,
     "metadata": {},
     "output_type": "execute_result"
    }
   ],
   "source": [
    "bbfood_train[bbfood_train.m_id == test_id[0]].iloc[-1:]"
   ]
  },
  {
   "cell_type": "markdown",
   "metadata": {},
   "source": [
    "### # t_ : elapsed time interval between the last purchase of product A_i by the customer and the current time:"
   ]
  },
  {
   "cell_type": "code",
   "execution_count": 133,
   "metadata": {},
   "outputs": [
    {
     "data": {
      "text/plain": [
       "Timestamp('2018-08-01 00:00:31')"
      ]
     },
     "execution_count": 133,
     "metadata": {},
     "output_type": "execute_result"
    }
   ],
   "source": [
    "bbfood_test[bbfood_test.m_id == test_id[0]].iloc[0].biz_dt    # test_data에서 첫 구매"
   ]
  },
  {
   "cell_type": "code",
   "execution_count": 128,
   "metadata": {},
   "outputs": [
    {
     "data": {
      "text/plain": [
       "Timestamp('2018-07-13 23:12:00')"
      ]
     },
     "execution_count": 128,
     "metadata": {},
     "output_type": "execute_result"
    }
   ],
   "source": [
    "bbfood_train[bbfood_train.m_id == test_id[0]].iloc[-1].biz_dt  "
   ]
  },
  {
   "cell_type": "code",
   "execution_count": 134,
   "metadata": {},
   "outputs": [],
   "source": [
    "current = pd.to_datetime('2018-08-01')"
   ]
  },
  {
   "cell_type": "code",
   "execution_count": 146,
   "metadata": {},
   "outputs": [],
   "source": [
    "t_ = (current - bbfood_train[bbfood_train.m_id == test_id[0]].iloc[-1].biz_dt).days"
   ]
  },
  {
   "cell_type": "code",
   "execution_count": 147,
   "metadata": {},
   "outputs": [
    {
     "data": {
      "text/plain": [
       "18"
      ]
     },
     "execution_count": 147,
     "metadata": {},
     "output_type": "execute_result"
    }
   ],
   "source": [
    "t_"
   ]
  },
  {
   "cell_type": "markdown",
   "metadata": {},
   "source": [
    "### #  t_purch : elapsed time between first and last purcahse time "
   ]
  },
  {
   "cell_type": "code",
   "execution_count": 148,
   "metadata": {},
   "outputs": [],
   "source": [
    "t_purch = (bbfood_train[bbfood_train.m_id == test_id[0]].iloc[-1].biz_dt - bbfood_train[bbfood_train.m_id == test_id[0]].iloc[0].biz_dt).days"
   ]
  },
  {
   "cell_type": "markdown",
   "metadata": {},
   "source": [
    "### # aggregation t_mean"
   ]
  },
  {
   "cell_type": "code",
   "execution_count": 117,
   "metadata": {
    "scrolled": true
   },
   "outputs": [
    {
     "data": {
      "text/plain": [
       "0    19.484025\n",
       "dtype: float64"
      ]
     },
     "execution_count": 117,
     "metadata": {},
     "output_type": "execute_result"
    }
   ],
   "source": [
    "tmean"
   ]
  },
  {
   "cell_type": "markdown",
   "metadata": {},
   "source": [
    "### # user's  t_mean"
   ]
  },
  {
   "cell_type": "code",
   "execution_count": 149,
   "metadata": {},
   "outputs": [],
   "source": [
    "tmean_user = bbfood_train.biz_dt[bbfood_train.m_id == test_id[0]].diff().mean().days"
   ]
  },
  {
   "cell_type": "markdown",
   "metadata": {},
   "source": [
    "### modified lambda : k = 6"
   ]
  },
  {
   "cell_type": "code",
   "execution_count": 140,
   "metadata": {},
   "outputs": [],
   "source": [
    "k = 6"
   ]
  },
  {
   "cell_type": "code",
   "execution_count": 141,
   "metadata": {},
   "outputs": [
    {
     "data": {
      "text/plain": [
       "(0    0.707377\n",
       " dtype: float64, 0    0.036305\n",
       " dtype: float64)"
      ]
     },
     "execution_count": 141,
     "metadata": {},
     "output_type": "execute_result"
    }
   ],
   "source": [
    "a, b"
   ]
  },
  {
   "cell_type": "code",
   "execution_count": 142,
   "metadata": {},
   "outputs": [
    {
     "data": {
      "text/plain": [
       "Timestamp('2018-08-01 00:00:00')"
      ]
     },
     "execution_count": 142,
     "metadata": {},
     "output_type": "execute_result"
    }
   ],
   "source": [
    "current"
   ]
  },
  {
   "cell_type": "code",
   "execution_count": 151,
   "metadata": {},
   "outputs": [
    {
     "data": {
      "text/plain": [
       "0    0.124201\n",
       "dtype: float64"
      ]
     },
     "execution_count": 151,
     "metadata": {},
     "output_type": "execute_result"
    }
   ],
   "source": [
    "(k+a)/(t_purch+2*abs(tmean_user-tmean)+b)"
   ]
  },
  {
   "cell_type": "markdown",
   "metadata": {},
   "source": [
    "- current가 7월17일이라면?"
   ]
  },
  {
   "cell_type": "code",
   "execution_count": null,
   "metadata": {},
   "outputs": [],
   "source": [
    "current = pd.to_datetime('')"
   ]
  },
  {
   "cell_type": "code",
   "execution_count": null,
   "metadata": {},
   "outputs": [],
   "source": []
  },
  {
   "cell_type": "code",
   "execution_count": null,
   "metadata": {},
   "outputs": [],
   "source": []
  }
 ],
 "metadata": {
  "kernelspec": {
   "display_name": "Python [default]",
   "language": "python",
   "name": "python3"
  },
  "language_info": {
   "codemirror_mode": {
    "name": "ipython",
    "version": 3
   },
   "file_extension": ".py",
   "mimetype": "text/x-python",
   "name": "python",
   "nbconvert_exporter": "python",
   "pygments_lexer": "ipython3",
   "version": "3.6.6"
  }
 },
 "nbformat": 4,
 "nbformat_minor": 2
}
