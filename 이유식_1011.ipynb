{
 "cells": [
  {
   "cell_type": "markdown",
   "metadata": {},
   "source": [
    "### # 241,010,303       : 이유식"
   ]
  },
  {
   "cell_type": "code",
   "execution_count": 30,
   "metadata": {},
   "outputs": [],
   "source": [
    "import pandas as pd\n",
    "import numpy as np\n",
    "import matplotlib.pyplot as plt\n",
    "import random\n",
    "import scipy.stats as stats"
   ]
  },
  {
   "cell_type": "code",
   "execution_count": 2,
   "metadata": {},
   "outputs": [
    {
     "data": {
      "text/plain": [
       "'/Users/we/Downloads/업무/buy it again_분석 '"
      ]
     },
     "execution_count": 2,
     "metadata": {},
     "output_type": "execute_result"
    }
   ],
   "source": [
    "import os\n",
    "os.getcwd()"
   ]
  },
  {
   "cell_type": "markdown",
   "metadata": {},
   "source": [
    "./chunk/"
   ]
  },
  {
   "cell_type": "code",
   "execution_count": 3,
   "metadata": {
    "scrolled": false
   },
   "outputs": [],
   "source": [
    "chunk = {}\n",
    "for i in range(13):\n",
    "    chunk[i] = pd.read_csv('./chunk/chunk{}.csv'.format(i))\n"
   ]
  },
  {
   "cell_type": "code",
   "execution_count": 5,
   "metadata": {},
   "outputs": [
    {
     "data": {
      "text/plain": [
       "13"
      ]
     },
     "execution_count": 5,
     "metadata": {},
     "output_type": "execute_result"
    }
   ],
   "source": [
    "len(chunk)"
   ]
  },
  {
   "cell_type": "code",
   "execution_count": 41,
   "metadata": {
    "scrolled": true
   },
   "outputs": [
    {
     "data": {
      "text/html": [
       "<div>\n",
       "<style scoped>\n",
       "    .dataframe tbody tr th:only-of-type {\n",
       "        vertical-align: middle;\n",
       "    }\n",
       "\n",
       "    .dataframe tbody tr th {\n",
       "        vertical-align: top;\n",
       "    }\n",
       "\n",
       "    .dataframe thead th {\n",
       "        text-align: right;\n",
       "    }\n",
       "</style>\n",
       "<table border=\"1\" class=\"dataframe\">\n",
       "  <thead>\n",
       "    <tr style=\"text-align: right;\">\n",
       "      <th></th>\n",
       "      <th>Unnamed: 0</th>\n",
       "      <th>biz_dt</th>\n",
       "      <th>m_id</th>\n",
       "      <th>order_price</th>\n",
       "      <th>prod_no</th>\n",
       "      <th>old_admin_category_id</th>\n",
       "      <th>serv_cd</th>\n",
       "    </tr>\n",
       "  </thead>\n",
       "  <tbody>\n",
       "    <tr>\n",
       "      <th>3321035</th>\n",
       "      <td>123321035</td>\n",
       "      <td>2018-09-28 17:00:21</td>\n",
       "      <td>18,342,102</td>\n",
       "      <td>3,170</td>\n",
       "      <td>100,913,544</td>\n",
       "      <td>237,040,103</td>\n",
       "      <td>2</td>\n",
       "    </tr>\n",
       "    <tr>\n",
       "      <th>3321036</th>\n",
       "      <td>123321036</td>\n",
       "      <td>2018-09-28 17:00:21</td>\n",
       "      <td>18,342,102</td>\n",
       "      <td>3,800</td>\n",
       "      <td>100,913,555</td>\n",
       "      <td>237,040,103</td>\n",
       "      <td>2</td>\n",
       "    </tr>\n",
       "    <tr>\n",
       "      <th>3321037</th>\n",
       "      <td>123321037</td>\n",
       "      <td>2018-09-28 17:00:22</td>\n",
       "      <td>24,137,068</td>\n",
       "      <td>1,699,000</td>\n",
       "      <td>101,984,766</td>\n",
       "      <td>233,040,120</td>\n",
       "      <td>2</td>\n",
       "    </tr>\n",
       "    <tr>\n",
       "      <th>3321038</th>\n",
       "      <td>123321038</td>\n",
       "      <td>2018-09-28 17:00:25</td>\n",
       "      <td>5,357,454</td>\n",
       "      <td>25,000</td>\n",
       "      <td>110,485,856</td>\n",
       "      <td>240,010,305</td>\n",
       "      <td>2</td>\n",
       "    </tr>\n",
       "    <tr>\n",
       "      <th>3321039</th>\n",
       "      <td>123321039</td>\n",
       "      <td>2018-09-28 17:00:27</td>\n",
       "      <td>21,865,461</td>\n",
       "      <td>55,900</td>\n",
       "      <td>100,371,485</td>\n",
       "      <td>233,080,119</td>\n",
       "      <td>2</td>\n",
       "    </tr>\n",
       "  </tbody>\n",
       "</table>\n",
       "</div>"
      ],
      "text/plain": [
       "         Unnamed: 0               biz_dt        m_id order_price      prod_no  \\\n",
       "3321035   123321035  2018-09-28 17:00:21  18,342,102       3,170  100,913,544   \n",
       "3321036   123321036  2018-09-28 17:00:21  18,342,102       3,800  100,913,555   \n",
       "3321037   123321037  2018-09-28 17:00:22  24,137,068   1,699,000  101,984,766   \n",
       "3321038   123321038  2018-09-28 17:00:25   5,357,454      25,000  110,485,856   \n",
       "3321039   123321039  2018-09-28 17:00:27  21,865,461      55,900  100,371,485   \n",
       "\n",
       "        old_admin_category_id  serv_cd  \n",
       "3321035           237,040,103        2  \n",
       "3321036           237,040,103        2  \n",
       "3321037           233,040,120        2  \n",
       "3321038           240,010,305        2  \n",
       "3321039           233,080,119        2  "
      ]
     },
     "execution_count": 41,
     "metadata": {},
     "output_type": "execute_result"
    }
   ],
   "source": [
    "chunk[12].tail()"
   ]
  },
  {
   "cell_type": "markdown",
   "metadata": {},
   "source": [
    "### #Chunk[12]내의 기저귀 거래 개수 확인"
   ]
  },
  {
   "cell_type": "code",
   "execution_count": 6,
   "metadata": {
    "scrolled": true
   },
   "outputs": [
    {
     "data": {
      "text/plain": [
       "10965"
      ]
     },
     "execution_count": 6,
     "metadata": {},
     "output_type": "execute_result"
    }
   ],
   "source": [
    "sum(chunk[12].old_admin_category_id == '241,010,303')"
   ]
  },
  {
   "cell_type": "markdown",
   "metadata": {},
   "source": [
    "### # 거래가 언제부터 이루어지는지?"
   ]
  },
  {
   "cell_type": "code",
   "execution_count": 9,
   "metadata": {
    "scrolled": true
   },
   "outputs": [
    {
     "data": {
      "text/html": [
       "<div>\n",
       "<style scoped>\n",
       "    .dataframe tbody tr th:only-of-type {\n",
       "        vertical-align: middle;\n",
       "    }\n",
       "\n",
       "    .dataframe tbody tr th {\n",
       "        vertical-align: top;\n",
       "    }\n",
       "\n",
       "    .dataframe thead th {\n",
       "        text-align: right;\n",
       "    }\n",
       "</style>\n",
       "<table border=\"1\" class=\"dataframe\">\n",
       "  <thead>\n",
       "    <tr style=\"text-align: right;\">\n",
       "      <th></th>\n",
       "      <th>Unnamed: 0</th>\n",
       "      <th>biz_dt</th>\n",
       "      <th>m_id</th>\n",
       "      <th>order_price</th>\n",
       "      <th>prod_no</th>\n",
       "      <th>old_admin_category_id</th>\n",
       "      <th>serv_cd</th>\n",
       "    </tr>\n",
       "  </thead>\n",
       "  <tbody>\n",
       "    <tr>\n",
       "      <th>3410</th>\n",
       "      <td>3410</td>\n",
       "      <td>2018-01-01 00:04:44</td>\n",
       "      <td>3,452,631</td>\n",
       "      <td>28,800</td>\n",
       "      <td>2,016,742</td>\n",
       "      <td>241,010,303</td>\n",
       "      <td>1</td>\n",
       "    </tr>\n",
       "    <tr>\n",
       "      <th>8880</th>\n",
       "      <td>8880</td>\n",
       "      <td>2018-01-01 00:10:09</td>\n",
       "      <td>3,588,037</td>\n",
       "      <td>31,500</td>\n",
       "      <td>2,599,479</td>\n",
       "      <td>241,010,303</td>\n",
       "      <td>1</td>\n",
       "    </tr>\n",
       "    <tr>\n",
       "      <th>9733</th>\n",
       "      <td>9733</td>\n",
       "      <td>2018-01-01 00:10:58</td>\n",
       "      <td>6,691,511</td>\n",
       "      <td>11,500</td>\n",
       "      <td>2,205,237</td>\n",
       "      <td>241,010,303</td>\n",
       "      <td>1</td>\n",
       "    </tr>\n",
       "    <tr>\n",
       "      <th>12399</th>\n",
       "      <td>12399</td>\n",
       "      <td>2018-01-01 00:13:31</td>\n",
       "      <td>22,009,363</td>\n",
       "      <td>4,900</td>\n",
       "      <td>2,404,075</td>\n",
       "      <td>241,010,303</td>\n",
       "      <td>1</td>\n",
       "    </tr>\n",
       "    <tr>\n",
       "      <th>12415</th>\n",
       "      <td>12415</td>\n",
       "      <td>2018-01-01 00:13:32</td>\n",
       "      <td>1,141,791</td>\n",
       "      <td>20,280</td>\n",
       "      <td>1,469,081</td>\n",
       "      <td>241,010,303</td>\n",
       "      <td>1</td>\n",
       "    </tr>\n",
       "  </tbody>\n",
       "</table>\n",
       "</div>"
      ],
      "text/plain": [
       "       Unnamed: 0               biz_dt        m_id order_price    prod_no  \\\n",
       "3410         3410  2018-01-01 00:04:44   3,452,631      28,800  2,016,742   \n",
       "8880         8880  2018-01-01 00:10:09   3,588,037      31,500  2,599,479   \n",
       "9733         9733  2018-01-01 00:10:58   6,691,511      11,500  2,205,237   \n",
       "12399       12399  2018-01-01 00:13:31  22,009,363       4,900  2,404,075   \n",
       "12415       12415  2018-01-01 00:13:32   1,141,791      20,280  1,469,081   \n",
       "\n",
       "      old_admin_category_id  serv_cd  \n",
       "3410            241,010,303        1  \n",
       "8880            241,010,303        1  \n",
       "9733            241,010,303        1  \n",
       "12399           241,010,303        1  \n",
       "12415           241,010,303        1  "
      ]
     },
     "execution_count": 9,
     "metadata": {},
     "output_type": "execute_result"
    }
   ],
   "source": [
    "chunk[0][chunk[0].old_admin_category_id == '241,010,303'].head()"
   ]
  },
  {
   "cell_type": "code",
   "execution_count": 7,
   "metadata": {
    "scrolled": true
   },
   "outputs": [
    {
     "data": {
      "text/html": [
       "<div>\n",
       "<style scoped>\n",
       "    .dataframe tbody tr th:only-of-type {\n",
       "        vertical-align: middle;\n",
       "    }\n",
       "\n",
       "    .dataframe tbody tr th {\n",
       "        vertical-align: top;\n",
       "    }\n",
       "\n",
       "    .dataframe thead th {\n",
       "        text-align: right;\n",
       "    }\n",
       "</style>\n",
       "<table border=\"1\" class=\"dataframe\">\n",
       "  <thead>\n",
       "    <tr style=\"text-align: right;\">\n",
       "      <th></th>\n",
       "      <th>Unnamed: 0</th>\n",
       "      <th>biz_dt</th>\n",
       "      <th>m_id</th>\n",
       "      <th>order_price</th>\n",
       "      <th>prod_no</th>\n",
       "      <th>old_admin_category_id</th>\n",
       "      <th>serv_cd</th>\n",
       "    </tr>\n",
       "  </thead>\n",
       "  <tbody>\n",
       "    <tr>\n",
       "      <th>3317433</th>\n",
       "      <td>123317433</td>\n",
       "      <td>2018-09-28 16:45:10</td>\n",
       "      <td>13,650,173</td>\n",
       "      <td>24,900</td>\n",
       "      <td>3,694,320</td>\n",
       "      <td>241,010,303</td>\n",
       "      <td>1</td>\n",
       "    </tr>\n",
       "    <tr>\n",
       "      <th>3319790</th>\n",
       "      <td>123319790</td>\n",
       "      <td>2018-09-28 16:54:31</td>\n",
       "      <td>18,009,189</td>\n",
       "      <td>31,900</td>\n",
       "      <td>4,031,967</td>\n",
       "      <td>241,010,303</td>\n",
       "      <td>1</td>\n",
       "    </tr>\n",
       "    <tr>\n",
       "      <th>3319844</th>\n",
       "      <td>123319844</td>\n",
       "      <td>2018-09-28 16:54:46</td>\n",
       "      <td>4,884,328</td>\n",
       "      <td>40,500</td>\n",
       "      <td>4,031,967</td>\n",
       "      <td>241,010,303</td>\n",
       "      <td>1</td>\n",
       "    </tr>\n",
       "    <tr>\n",
       "      <th>3320626</th>\n",
       "      <td>123320626</td>\n",
       "      <td>2018-09-28 16:57:56</td>\n",
       "      <td>1,740,118</td>\n",
       "      <td>32,100</td>\n",
       "      <td>3,694,320</td>\n",
       "      <td>241,010,303</td>\n",
       "      <td>1</td>\n",
       "    </tr>\n",
       "    <tr>\n",
       "      <th>3320798</th>\n",
       "      <td>123320798</td>\n",
       "      <td>2018-09-28 16:58:35</td>\n",
       "      <td>1,711,192</td>\n",
       "      <td>22,750</td>\n",
       "      <td>3,778,585</td>\n",
       "      <td>241,010,303</td>\n",
       "      <td>1</td>\n",
       "    </tr>\n",
       "  </tbody>\n",
       "</table>\n",
       "</div>"
      ],
      "text/plain": [
       "         Unnamed: 0               biz_dt        m_id order_price    prod_no  \\\n",
       "3317433   123317433  2018-09-28 16:45:10  13,650,173      24,900  3,694,320   \n",
       "3319790   123319790  2018-09-28 16:54:31  18,009,189      31,900  4,031,967   \n",
       "3319844   123319844  2018-09-28 16:54:46   4,884,328      40,500  4,031,967   \n",
       "3320626   123320626  2018-09-28 16:57:56   1,740,118      32,100  3,694,320   \n",
       "3320798   123320798  2018-09-28 16:58:35   1,711,192      22,750  3,778,585   \n",
       "\n",
       "        old_admin_category_id  serv_cd  \n",
       "3317433           241,010,303        1  \n",
       "3319790           241,010,303        1  \n",
       "3319844           241,010,303        1  \n",
       "3320626           241,010,303        1  \n",
       "3320798           241,010,303        1  "
      ]
     },
     "execution_count": 7,
     "metadata": {},
     "output_type": "execute_result"
    }
   ],
   "source": [
    "chunk[12][chunk[12].old_admin_category_id == '241,010,303'].tail() # 9월까지 거래 잘 이루어지네"
   ]
  },
  {
   "cell_type": "markdown",
   "metadata": {},
   "source": [
    "---"
   ]
  },
  {
   "cell_type": "markdown",
   "metadata": {},
   "source": [
    "- 연습"
   ]
  },
  {
   "cell_type": "code",
   "execution_count": 52,
   "metadata": {},
   "outputs": [],
   "source": [
    "y = pd.DataFrame()"
   ]
  },
  {
   "cell_type": "code",
   "execution_count": 57,
   "metadata": {},
   "outputs": [],
   "source": [
    "x = pd.DataFrame({'a':[1,2,3], 'b':[4,5,6]})"
   ]
  },
  {
   "cell_type": "code",
   "execution_count": 58,
   "metadata": {},
   "outputs": [
    {
     "data": {
      "text/html": [
       "<div>\n",
       "<style scoped>\n",
       "    .dataframe tbody tr th:only-of-type {\n",
       "        vertical-align: middle;\n",
       "    }\n",
       "\n",
       "    .dataframe tbody tr th {\n",
       "        vertical-align: top;\n",
       "    }\n",
       "\n",
       "    .dataframe thead th {\n",
       "        text-align: right;\n",
       "    }\n",
       "</style>\n",
       "<table border=\"1\" class=\"dataframe\">\n",
       "  <thead>\n",
       "    <tr style=\"text-align: right;\">\n",
       "      <th></th>\n",
       "      <th>a</th>\n",
       "      <th>b</th>\n",
       "    </tr>\n",
       "  </thead>\n",
       "  <tbody>\n",
       "    <tr>\n",
       "      <th>0</th>\n",
       "      <td>1</td>\n",
       "      <td>4</td>\n",
       "    </tr>\n",
       "    <tr>\n",
       "      <th>1</th>\n",
       "      <td>2</td>\n",
       "      <td>5</td>\n",
       "    </tr>\n",
       "    <tr>\n",
       "      <th>2</th>\n",
       "      <td>3</td>\n",
       "      <td>6</td>\n",
       "    </tr>\n",
       "  </tbody>\n",
       "</table>\n",
       "</div>"
      ],
      "text/plain": [
       "   a  b\n",
       "0  1  4\n",
       "1  2  5\n",
       "2  3  6"
      ]
     },
     "execution_count": 58,
     "metadata": {},
     "output_type": "execute_result"
    }
   ],
   "source": [
    "x"
   ]
  },
  {
   "cell_type": "code",
   "execution_count": 59,
   "metadata": {},
   "outputs": [
    {
     "data": {
      "text/html": [
       "<div>\n",
       "<style scoped>\n",
       "    .dataframe tbody tr th:only-of-type {\n",
       "        vertical-align: middle;\n",
       "    }\n",
       "\n",
       "    .dataframe tbody tr th {\n",
       "        vertical-align: top;\n",
       "    }\n",
       "\n",
       "    .dataframe thead th {\n",
       "        text-align: right;\n",
       "    }\n",
       "</style>\n",
       "<table border=\"1\" class=\"dataframe\">\n",
       "  <thead>\n",
       "    <tr style=\"text-align: right;\">\n",
       "      <th></th>\n",
       "      <th>a</th>\n",
       "      <th>b</th>\n",
       "    </tr>\n",
       "  </thead>\n",
       "  <tbody>\n",
       "    <tr>\n",
       "      <th>0</th>\n",
       "      <td>1</td>\n",
       "      <td>4</td>\n",
       "    </tr>\n",
       "    <tr>\n",
       "      <th>1</th>\n",
       "      <td>2</td>\n",
       "      <td>5</td>\n",
       "    </tr>\n",
       "    <tr>\n",
       "      <th>2</th>\n",
       "      <td>3</td>\n",
       "      <td>6</td>\n",
       "    </tr>\n",
       "  </tbody>\n",
       "</table>\n",
       "</div>"
      ],
      "text/plain": [
       "   a  b\n",
       "0  1  4\n",
       "1  2  5\n",
       "2  3  6"
      ]
     },
     "execution_count": 59,
     "metadata": {},
     "output_type": "execute_result"
    }
   ],
   "source": [
    "pd.concat([y,x])"
   ]
  },
  {
   "cell_type": "markdown",
   "metadata": {},
   "source": [
    "---"
   ]
  },
  {
   "cell_type": "markdown",
   "metadata": {},
   "source": [
    "### #기저귀 데이터 빼올거야"
   ]
  },
  {
   "cell_type": "code",
   "execution_count": 13,
   "metadata": {},
   "outputs": [],
   "source": [
    "bbfood = pd.DataFrame()"
   ]
  },
  {
   "cell_type": "code",
   "execution_count": 14,
   "metadata": {},
   "outputs": [],
   "source": [
    "for i in range(13):\n",
    "  bbfood = pd.concat([bbfood, chunk[i][chunk[i].old_admin_category_id == '241,010,303']])"
   ]
  },
  {
   "cell_type": "code",
   "execution_count": 15,
   "metadata": {},
   "outputs": [
    {
     "data": {
      "text/plain": [
       "(252629, 7)"
      ]
     },
     "execution_count": 15,
     "metadata": {},
     "output_type": "execute_result"
    }
   ],
   "source": [
    "bbfood.shape  # 거래 총 25만건"
   ]
  },
  {
   "cell_type": "code",
   "execution_count": 16,
   "metadata": {},
   "outputs": [
    {
     "data": {
      "text/html": [
       "<div>\n",
       "<style scoped>\n",
       "    .dataframe tbody tr th:only-of-type {\n",
       "        vertical-align: middle;\n",
       "    }\n",
       "\n",
       "    .dataframe tbody tr th {\n",
       "        vertical-align: top;\n",
       "    }\n",
       "\n",
       "    .dataframe thead th {\n",
       "        text-align: right;\n",
       "    }\n",
       "</style>\n",
       "<table border=\"1\" class=\"dataframe\">\n",
       "  <thead>\n",
       "    <tr style=\"text-align: right;\">\n",
       "      <th></th>\n",
       "      <th>Unnamed: 0</th>\n",
       "      <th>biz_dt</th>\n",
       "      <th>m_id</th>\n",
       "      <th>order_price</th>\n",
       "      <th>prod_no</th>\n",
       "      <th>old_admin_category_id</th>\n",
       "      <th>serv_cd</th>\n",
       "    </tr>\n",
       "  </thead>\n",
       "  <tbody>\n",
       "    <tr>\n",
       "      <th>3410</th>\n",
       "      <td>3410</td>\n",
       "      <td>2018-01-01 00:04:44</td>\n",
       "      <td>3,452,631</td>\n",
       "      <td>28,800</td>\n",
       "      <td>2,016,742</td>\n",
       "      <td>241,010,303</td>\n",
       "      <td>1</td>\n",
       "    </tr>\n",
       "    <tr>\n",
       "      <th>8880</th>\n",
       "      <td>8880</td>\n",
       "      <td>2018-01-01 00:10:09</td>\n",
       "      <td>3,588,037</td>\n",
       "      <td>31,500</td>\n",
       "      <td>2,599,479</td>\n",
       "      <td>241,010,303</td>\n",
       "      <td>1</td>\n",
       "    </tr>\n",
       "    <tr>\n",
       "      <th>9733</th>\n",
       "      <td>9733</td>\n",
       "      <td>2018-01-01 00:10:58</td>\n",
       "      <td>6,691,511</td>\n",
       "      <td>11,500</td>\n",
       "      <td>2,205,237</td>\n",
       "      <td>241,010,303</td>\n",
       "      <td>1</td>\n",
       "    </tr>\n",
       "    <tr>\n",
       "      <th>12399</th>\n",
       "      <td>12399</td>\n",
       "      <td>2018-01-01 00:13:31</td>\n",
       "      <td>22,009,363</td>\n",
       "      <td>4,900</td>\n",
       "      <td>2,404,075</td>\n",
       "      <td>241,010,303</td>\n",
       "      <td>1</td>\n",
       "    </tr>\n",
       "    <tr>\n",
       "      <th>12415</th>\n",
       "      <td>12415</td>\n",
       "      <td>2018-01-01 00:13:32</td>\n",
       "      <td>1,141,791</td>\n",
       "      <td>20,280</td>\n",
       "      <td>1,469,081</td>\n",
       "      <td>241,010,303</td>\n",
       "      <td>1</td>\n",
       "    </tr>\n",
       "  </tbody>\n",
       "</table>\n",
       "</div>"
      ],
      "text/plain": [
       "       Unnamed: 0               biz_dt        m_id order_price    prod_no  \\\n",
       "3410         3410  2018-01-01 00:04:44   3,452,631      28,800  2,016,742   \n",
       "8880         8880  2018-01-01 00:10:09   3,588,037      31,500  2,599,479   \n",
       "9733         9733  2018-01-01 00:10:58   6,691,511      11,500  2,205,237   \n",
       "12399       12399  2018-01-01 00:13:31  22,009,363       4,900  2,404,075   \n",
       "12415       12415  2018-01-01 00:13:32   1,141,791      20,280  1,469,081   \n",
       "\n",
       "      old_admin_category_id  serv_cd  \n",
       "3410            241,010,303        1  \n",
       "8880            241,010,303        1  \n",
       "9733            241,010,303        1  \n",
       "12399           241,010,303        1  \n",
       "12415           241,010,303        1  "
      ]
     },
     "execution_count": 16,
     "metadata": {},
     "output_type": "execute_result"
    }
   ],
   "source": [
    "bbfood.head()"
   ]
  },
  {
   "cell_type": "code",
   "execution_count": 17,
   "metadata": {},
   "outputs": [
    {
     "data": {
      "text/html": [
       "<div>\n",
       "<style scoped>\n",
       "    .dataframe tbody tr th:only-of-type {\n",
       "        vertical-align: middle;\n",
       "    }\n",
       "\n",
       "    .dataframe tbody tr th {\n",
       "        vertical-align: top;\n",
       "    }\n",
       "\n",
       "    .dataframe thead th {\n",
       "        text-align: right;\n",
       "    }\n",
       "</style>\n",
       "<table border=\"1\" class=\"dataframe\">\n",
       "  <thead>\n",
       "    <tr style=\"text-align: right;\">\n",
       "      <th></th>\n",
       "      <th>Unnamed: 0</th>\n",
       "      <th>biz_dt</th>\n",
       "      <th>m_id</th>\n",
       "      <th>order_price</th>\n",
       "      <th>prod_no</th>\n",
       "      <th>old_admin_category_id</th>\n",
       "      <th>serv_cd</th>\n",
       "    </tr>\n",
       "  </thead>\n",
       "  <tbody>\n",
       "    <tr>\n",
       "      <th>3317433</th>\n",
       "      <td>123317433</td>\n",
       "      <td>2018-09-28 16:45:10</td>\n",
       "      <td>13,650,173</td>\n",
       "      <td>24,900</td>\n",
       "      <td>3,694,320</td>\n",
       "      <td>241,010,303</td>\n",
       "      <td>1</td>\n",
       "    </tr>\n",
       "    <tr>\n",
       "      <th>3319790</th>\n",
       "      <td>123319790</td>\n",
       "      <td>2018-09-28 16:54:31</td>\n",
       "      <td>18,009,189</td>\n",
       "      <td>31,900</td>\n",
       "      <td>4,031,967</td>\n",
       "      <td>241,010,303</td>\n",
       "      <td>1</td>\n",
       "    </tr>\n",
       "    <tr>\n",
       "      <th>3319844</th>\n",
       "      <td>123319844</td>\n",
       "      <td>2018-09-28 16:54:46</td>\n",
       "      <td>4,884,328</td>\n",
       "      <td>40,500</td>\n",
       "      <td>4,031,967</td>\n",
       "      <td>241,010,303</td>\n",
       "      <td>1</td>\n",
       "    </tr>\n",
       "    <tr>\n",
       "      <th>3320626</th>\n",
       "      <td>123320626</td>\n",
       "      <td>2018-09-28 16:57:56</td>\n",
       "      <td>1,740,118</td>\n",
       "      <td>32,100</td>\n",
       "      <td>3,694,320</td>\n",
       "      <td>241,010,303</td>\n",
       "      <td>1</td>\n",
       "    </tr>\n",
       "    <tr>\n",
       "      <th>3320798</th>\n",
       "      <td>123320798</td>\n",
       "      <td>2018-09-28 16:58:35</td>\n",
       "      <td>1,711,192</td>\n",
       "      <td>22,750</td>\n",
       "      <td>3,778,585</td>\n",
       "      <td>241,010,303</td>\n",
       "      <td>1</td>\n",
       "    </tr>\n",
       "  </tbody>\n",
       "</table>\n",
       "</div>"
      ],
      "text/plain": [
       "         Unnamed: 0               biz_dt        m_id order_price    prod_no  \\\n",
       "3317433   123317433  2018-09-28 16:45:10  13,650,173      24,900  3,694,320   \n",
       "3319790   123319790  2018-09-28 16:54:31  18,009,189      31,900  4,031,967   \n",
       "3319844   123319844  2018-09-28 16:54:46   4,884,328      40,500  4,031,967   \n",
       "3320626   123320626  2018-09-28 16:57:56   1,740,118      32,100  3,694,320   \n",
       "3320798   123320798  2018-09-28 16:58:35   1,711,192      22,750  3,778,585   \n",
       "\n",
       "        old_admin_category_id  serv_cd  \n",
       "3317433           241,010,303        1  \n",
       "3319790           241,010,303        1  \n",
       "3319844           241,010,303        1  \n",
       "3320626           241,010,303        1  \n",
       "3320798           241,010,303        1  "
      ]
     },
     "execution_count": 17,
     "metadata": {},
     "output_type": "execute_result"
    }
   ],
   "source": [
    "bbfood.tail()"
   ]
  },
  {
   "cell_type": "markdown",
   "metadata": {},
   "source": [
    "### #filter 만들어주기"
   ]
  },
  {
   "cell_type": "code",
   "execution_count": 18,
   "metadata": {},
   "outputs": [],
   "source": [
    "filter = pd.to_datetime('2018-08-01')"
   ]
  },
  {
   "cell_type": "code",
   "execution_count": 19,
   "metadata": {
    "scrolled": true
   },
   "outputs": [],
   "source": [
    "bbfood['biz_dt'] = pd.to_datetime(bbfood['biz_dt'])"
   ]
  },
  {
   "cell_type": "markdown",
   "metadata": {},
   "source": [
    "### # filter이용하기"
   ]
  },
  {
   "cell_type": "code",
   "execution_count": 20,
   "metadata": {
    "scrolled": true
   },
   "outputs": [],
   "source": [
    "bbfood_train = bbfood[bbfood.biz_dt < filter]"
   ]
  },
  {
   "cell_type": "code",
   "execution_count": 21,
   "metadata": {},
   "outputs": [],
   "source": [
    "bbfood_test = bbfood[bbfood.biz_dt >= filter]"
   ]
  },
  {
   "cell_type": "code",
   "execution_count": 22,
   "metadata": {},
   "outputs": [
    {
     "data": {
      "text/plain": [
       "(193645, 7)"
      ]
     },
     "execution_count": 22,
     "metadata": {},
     "output_type": "execute_result"
    }
   ],
   "source": [
    "bbfood_train.shape"
   ]
  },
  {
   "cell_type": "code",
   "execution_count": 23,
   "metadata": {},
   "outputs": [
    {
     "data": {
      "text/plain": [
       "(58984, 7)"
      ]
     },
     "execution_count": 23,
     "metadata": {},
     "output_type": "execute_result"
    }
   ],
   "source": [
    "bbfood_test.shape"
   ]
  },
  {
   "cell_type": "code",
   "execution_count": 24,
   "metadata": {},
   "outputs": [
    {
     "data": {
      "text/plain": [
       "True"
      ]
     },
     "execution_count": 24,
     "metadata": {},
     "output_type": "execute_result"
    }
   ],
   "source": [
    "bbfood_train.shape[0] + bbfood_test.shape[0] == bbfood.shape[0]"
   ]
  },
  {
   "cell_type": "markdown",
   "metadata": {},
   "source": [
    "### # 저장"
   ]
  },
  {
   "cell_type": "code",
   "execution_count": 25,
   "metadata": {},
   "outputs": [],
   "source": [
    "bbfood_train.to_excel('bbfood_train.xlsx')\n",
    "bbfood_test.to_excel('bbfood_test.xlsx')"
   ]
  },
  {
   "cell_type": "code",
   "execution_count": 26,
   "metadata": {
    "scrolled": true
   },
   "outputs": [
    {
     "data": {
      "text/plain": [
       "(193645, 7)"
      ]
     },
     "execution_count": 26,
     "metadata": {},
     "output_type": "execute_result"
    }
   ],
   "source": [
    "pd.read_excel('bbfood_train.xlsx').shape"
   ]
  },
  {
   "cell_type": "code",
   "execution_count": 27,
   "metadata": {},
   "outputs": [
    {
     "data": {
      "text/plain": [
       "(58984, 7)"
      ]
     },
     "execution_count": 27,
     "metadata": {},
     "output_type": "execute_result"
    }
   ],
   "source": [
    "pd.read_excel('bbfood_test.xlsx').shape"
   ]
  },
  {
   "cell_type": "code",
   "execution_count": null,
   "metadata": {},
   "outputs": [],
   "source": []
  },
  {
   "cell_type": "markdown",
   "metadata": {},
   "source": [
    "---"
   ]
  },
  {
   "cell_type": "markdown",
   "metadata": {},
   "source": [
    "---"
   ]
  },
  {
   "cell_type": "markdown",
   "metadata": {},
   "source": [
    "### # 데이터 로딩"
   ]
  },
  {
   "cell_type": "code",
   "execution_count": 3,
   "metadata": {},
   "outputs": [],
   "source": [
    "bbfood_train = pd.read_excel('bbfood_train.xlsx')\n",
    "#bbfood_test = pd.read_excel('bbfood_test.xlsx')"
   ]
  },
  {
   "cell_type": "code",
   "execution_count": 4,
   "metadata": {},
   "outputs": [],
   "source": [
    "bbfood_test = pd.read_excel('bbfood_test.xlsx')"
   ]
  },
  {
   "cell_type": "code",
   "execution_count": 4,
   "metadata": {},
   "outputs": [
    {
     "name": "stdout",
     "output_type": "stream",
     "text": [
      "<class 'pandas.core.frame.DataFrame'>\n",
      "Int64Index: 193645 entries, 3410 to 9110015\n",
      "Data columns (total 7 columns):\n",
      "Unnamed: 0               193645 non-null int64\n",
      "biz_dt                   193645 non-null datetime64[ns]\n",
      "m_id                     193645 non-null object\n",
      "order_price              193645 non-null object\n",
      "prod_no                  193645 non-null object\n",
      "old_admin_category_id    193645 non-null object\n",
      "serv_cd                  193645 non-null int64\n",
      "dtypes: datetime64[ns](1), int64(2), object(4)\n",
      "memory usage: 11.8+ MB\n"
     ]
    }
   ],
   "source": [
    "bbfood_train.info()"
   ]
  },
  {
   "cell_type": "markdown",
   "metadata": {},
   "source": [
    "### # 이런식의 계산을 원해"
   ]
  },
  {
   "cell_type": "code",
   "execution_count": 38,
   "metadata": {
    "scrolled": true
   },
   "outputs": [
    {
     "data": {
      "text/plain": [
       "Timedelta('-1 days +00:00:00')"
      ]
     },
     "execution_count": 38,
     "metadata": {},
     "output_type": "execute_result"
    }
   ],
   "source": [
    "pd.to_datetime('2018-01-01') - pd.to_datetime('2018-01-02')"
   ]
  },
  {
   "cell_type": "code",
   "execution_count": 39,
   "metadata": {},
   "outputs": [
    {
     "data": {
      "text/plain": [
       "545775"
      ]
     },
     "execution_count": 39,
     "metadata": {},
     "output_type": "execute_result"
    }
   ],
   "source": [
    "bbfood_train.shape[0]  # 전체 약 55만건의 구매이력 "
   ]
  },
  {
   "cell_type": "code",
   "execution_count": 41,
   "metadata": {},
   "outputs": [
    {
     "data": {
      "text/plain": [
       "212550"
      ]
     },
     "execution_count": 41,
     "metadata": {},
     "output_type": "execute_result"
    }
   ],
   "source": [
    "bbfood_train.m_id.nunique() # 이 기저귀 카테고리에 약 20만명의 구매이력이 있다..!"
   ]
  },
  {
   "cell_type": "markdown",
   "metadata": {},
   "source": [
    "---"
   ]
  },
  {
   "cell_type": "markdown",
   "metadata": {},
   "source": [
    "- 연습"
   ]
  },
  {
   "cell_type": "markdown",
   "metadata": {},
   "source": [
    "-이런식으로 timedelta 만들거야"
   ]
  },
  {
   "cell_type": "code",
   "execution_count": 44,
   "metadata": {},
   "outputs": [],
   "source": [
    "a = bbfood.iloc[100000]['biz_dt'] - bbfood.iloc[0]['biz_dt']"
   ]
  },
  {
   "cell_type": "code",
   "execution_count": 45,
   "metadata": {},
   "outputs": [
    {
     "data": {
      "text/plain": [
       "Timedelta('51 days 12:21:43')"
      ]
     },
     "execution_count": 45,
     "metadata": {},
     "output_type": "execute_result"
    }
   ],
   "source": [
    "a"
   ]
  },
  {
   "cell_type": "markdown",
   "metadata": {},
   "source": [
    "-t로써 쓸 것! "
   ]
  },
  {
   "cell_type": "code",
   "execution_count": 46,
   "metadata": {
    "scrolled": true
   },
   "outputs": [
    {
     "data": {
      "text/plain": [
       "51"
      ]
     },
     "execution_count": 46,
     "metadata": {},
     "output_type": "execute_result"
    }
   ],
   "source": [
    "a.days"
   ]
  },
  {
   "cell_type": "markdown",
   "metadata": {},
   "source": [
    "---"
   ]
  },
  {
   "cell_type": "markdown",
   "metadata": {},
   "source": [
    "- unique한 MEMBER ID불러와"
   ]
  },
  {
   "cell_type": "code",
   "execution_count": 5,
   "metadata": {},
   "outputs": [],
   "source": [
    "mid = bbfood_train.m_id.unique()"
   ]
  },
  {
   "cell_type": "code",
   "execution_count": 6,
   "metadata": {},
   "outputs": [
    {
     "data": {
      "text/plain": [
       "65850"
      ]
     },
     "execution_count": 6,
     "metadata": {},
     "output_type": "execute_result"
    }
   ],
   "source": [
    "len(mid)"
   ]
  },
  {
   "cell_type": "code",
   "execution_count": 7,
   "metadata": {
    "scrolled": true
   },
   "outputs": [
    {
     "data": {
      "text/plain": [
       "(65850,)"
      ]
     },
     "execution_count": 7,
     "metadata": {},
     "output_type": "execute_result"
    }
   ],
   "source": [
    "mid.shape"
   ]
  },
  {
   "cell_type": "code",
   "execution_count": 8,
   "metadata": {},
   "outputs": [
    {
     "data": {
      "text/plain": [
       "'5,005,039'"
      ]
     },
     "execution_count": 8,
     "metadata": {},
     "output_type": "execute_result"
    }
   ],
   "source": [
    "mid[1000]"
   ]
  },
  {
   "cell_type": "markdown",
   "metadata": {},
   "source": [
    "### # 이런식으로 : 2번째 고객의 구매이력"
   ]
  },
  {
   "cell_type": "code",
   "execution_count": 9,
   "metadata": {
    "scrolled": false
   },
   "outputs": [
    {
     "data": {
      "text/html": [
       "<div>\n",
       "<style scoped>\n",
       "    .dataframe tbody tr th:only-of-type {\n",
       "        vertical-align: middle;\n",
       "    }\n",
       "\n",
       "    .dataframe tbody tr th {\n",
       "        vertical-align: top;\n",
       "    }\n",
       "\n",
       "    .dataframe thead th {\n",
       "        text-align: right;\n",
       "    }\n",
       "</style>\n",
       "<table border=\"1\" class=\"dataframe\">\n",
       "  <thead>\n",
       "    <tr style=\"text-align: right;\">\n",
       "      <th></th>\n",
       "      <th>Unnamed: 0</th>\n",
       "      <th>biz_dt</th>\n",
       "      <th>m_id</th>\n",
       "      <th>order_price</th>\n",
       "      <th>prod_no</th>\n",
       "      <th>old_admin_category_id</th>\n",
       "      <th>serv_cd</th>\n",
       "    </tr>\n",
       "  </thead>\n",
       "  <tbody>\n",
       "    <tr>\n",
       "      <th>8880</th>\n",
       "      <td>8880</td>\n",
       "      <td>2018-01-01 00:10:09</td>\n",
       "      <td>3,588,037</td>\n",
       "      <td>31,500</td>\n",
       "      <td>2,599,479</td>\n",
       "      <td>241,010,303</td>\n",
       "      <td>1</td>\n",
       "    </tr>\n",
       "    <tr>\n",
       "      <th>6804304</th>\n",
       "      <td>6804304</td>\n",
       "      <td>2018-01-15 03:07:09</td>\n",
       "      <td>3,588,037</td>\n",
       "      <td>31,500</td>\n",
       "      <td>2,599,479</td>\n",
       "      <td>241,010,303</td>\n",
       "      <td>1</td>\n",
       "    </tr>\n",
       "    <tr>\n",
       "      <th>709178</th>\n",
       "      <td>10709178</td>\n",
       "      <td>2018-01-24 08:24:30</td>\n",
       "      <td>3,588,037</td>\n",
       "      <td>31,500</td>\n",
       "      <td>2,599,479</td>\n",
       "      <td>241,010,303</td>\n",
       "      <td>1</td>\n",
       "    </tr>\n",
       "    <tr>\n",
       "      <th>4146283</th>\n",
       "      <td>14146283</td>\n",
       "      <td>2018-02-01 07:03:00</td>\n",
       "      <td>3,588,037</td>\n",
       "      <td>25,200</td>\n",
       "      <td>2,599,479</td>\n",
       "      <td>241,010,303</td>\n",
       "      <td>1</td>\n",
       "    </tr>\n",
       "    <tr>\n",
       "      <th>7860062</th>\n",
       "      <td>17860062</td>\n",
       "      <td>2018-02-07 17:13:16</td>\n",
       "      <td>3,588,037</td>\n",
       "      <td>25,200</td>\n",
       "      <td>2,599,479</td>\n",
       "      <td>241,010,303</td>\n",
       "      <td>1</td>\n",
       "    </tr>\n",
       "    <tr>\n",
       "      <th>2592932</th>\n",
       "      <td>22592932</td>\n",
       "      <td>2018-02-21 10:58:40</td>\n",
       "      <td>3,588,037</td>\n",
       "      <td>31,500</td>\n",
       "      <td>2,599,479</td>\n",
       "      <td>241,010,303</td>\n",
       "      <td>1</td>\n",
       "    </tr>\n",
       "    <tr>\n",
       "      <th>2594426</th>\n",
       "      <td>22594426</td>\n",
       "      <td>2018-02-21 11:02:32</td>\n",
       "      <td>3,588,037</td>\n",
       "      <td>31,500</td>\n",
       "      <td>2,599,479</td>\n",
       "      <td>241,010,303</td>\n",
       "      <td>1</td>\n",
       "    </tr>\n",
       "    <tr>\n",
       "      <th>6598494</th>\n",
       "      <td>26598494</td>\n",
       "      <td>2018-03-02 15:04:40</td>\n",
       "      <td>3,588,037</td>\n",
       "      <td>31,500</td>\n",
       "      <td>2,599,479</td>\n",
       "      <td>241,010,303</td>\n",
       "      <td>1</td>\n",
       "    </tr>\n",
       "    <tr>\n",
       "      <th>6599887</th>\n",
       "      <td>26599887</td>\n",
       "      <td>2018-03-02 15:08:25</td>\n",
       "      <td>3,588,037</td>\n",
       "      <td>31,500</td>\n",
       "      <td>2,599,479</td>\n",
       "      <td>241,010,303</td>\n",
       "      <td>1</td>\n",
       "    </tr>\n",
       "    <tr>\n",
       "      <th>9583210</th>\n",
       "      <td>29583210</td>\n",
       "      <td>2018-03-08 00:05:12</td>\n",
       "      <td>3,588,037</td>\n",
       "      <td>19,500</td>\n",
       "      <td>2,016,811</td>\n",
       "      <td>241,010,303</td>\n",
       "      <td>1</td>\n",
       "    </tr>\n",
       "    <tr>\n",
       "      <th>877387</th>\n",
       "      <td>30877387</td>\n",
       "      <td>2018-03-11 01:09:42</td>\n",
       "      <td>3,588,037</td>\n",
       "      <td>25,000</td>\n",
       "      <td>3,402,706</td>\n",
       "      <td>241,010,303</td>\n",
       "      <td>1</td>\n",
       "    </tr>\n",
       "    <tr>\n",
       "      <th>4336264</th>\n",
       "      <td>34336264</td>\n",
       "      <td>2018-03-18 20:58:30</td>\n",
       "      <td>3,588,037</td>\n",
       "      <td>40,680</td>\n",
       "      <td>1,659,313</td>\n",
       "      <td>241,010,303</td>\n",
       "      <td>1</td>\n",
       "    </tr>\n",
       "    <tr>\n",
       "      <th>8757679</th>\n",
       "      <td>38757679</td>\n",
       "      <td>2018-03-28 10:23:06</td>\n",
       "      <td>3,588,037</td>\n",
       "      <td>40,680</td>\n",
       "      <td>1,659,313</td>\n",
       "      <td>241,010,303</td>\n",
       "      <td>1</td>\n",
       "    </tr>\n",
       "    <tr>\n",
       "      <th>717677</th>\n",
       "      <td>40717677</td>\n",
       "      <td>2018-04-02 03:35:58</td>\n",
       "      <td>3,588,037</td>\n",
       "      <td>40,000</td>\n",
       "      <td>3,490,454</td>\n",
       "      <td>241,010,303</td>\n",
       "      <td>1</td>\n",
       "    </tr>\n",
       "    <tr>\n",
       "      <th>6763084</th>\n",
       "      <td>46763084</td>\n",
       "      <td>2018-04-12 18:37:57</td>\n",
       "      <td>3,588,037</td>\n",
       "      <td>30,510</td>\n",
       "      <td>1,659,313</td>\n",
       "      <td>241,010,303</td>\n",
       "      <td>1</td>\n",
       "    </tr>\n",
       "    <tr>\n",
       "      <th>248471</th>\n",
       "      <td>50248471</td>\n",
       "      <td>2018-04-20 08:37:23</td>\n",
       "      <td>3,588,037</td>\n",
       "      <td>40,680</td>\n",
       "      <td>1,659,313</td>\n",
       "      <td>241,010,303</td>\n",
       "      <td>1</td>\n",
       "    </tr>\n",
       "    <tr>\n",
       "      <th>2214953</th>\n",
       "      <td>62214953</td>\n",
       "      <td>2018-05-15 12:52:41</td>\n",
       "      <td>3,588,037</td>\n",
       "      <td>31,900</td>\n",
       "      <td>3,666,700</td>\n",
       "      <td>241,010,303</td>\n",
       "      <td>1</td>\n",
       "    </tr>\n",
       "    <tr>\n",
       "      <th>6684462</th>\n",
       "      <td>66684462</td>\n",
       "      <td>2018-05-25 11:38:21</td>\n",
       "      <td>3,588,037</td>\n",
       "      <td>40,680</td>\n",
       "      <td>1,659,313</td>\n",
       "      <td>241,010,303</td>\n",
       "      <td>1</td>\n",
       "    </tr>\n",
       "    <tr>\n",
       "      <th>3562219</th>\n",
       "      <td>83562219</td>\n",
       "      <td>2018-07-01 13:20:33</td>\n",
       "      <td>3,588,037</td>\n",
       "      <td>40,680</td>\n",
       "      <td>2,892,088</td>\n",
       "      <td>241,010,303</td>\n",
       "      <td>1</td>\n",
       "    </tr>\n",
       "  </tbody>\n",
       "</table>\n",
       "</div>"
      ],
      "text/plain": [
       "         Unnamed: 0              biz_dt       m_id order_price    prod_no  \\\n",
       "8880           8880 2018-01-01 00:10:09  3,588,037      31,500  2,599,479   \n",
       "6804304     6804304 2018-01-15 03:07:09  3,588,037      31,500  2,599,479   \n",
       "709178     10709178 2018-01-24 08:24:30  3,588,037      31,500  2,599,479   \n",
       "4146283    14146283 2018-02-01 07:03:00  3,588,037      25,200  2,599,479   \n",
       "7860062    17860062 2018-02-07 17:13:16  3,588,037      25,200  2,599,479   \n",
       "2592932    22592932 2018-02-21 10:58:40  3,588,037      31,500  2,599,479   \n",
       "2594426    22594426 2018-02-21 11:02:32  3,588,037      31,500  2,599,479   \n",
       "6598494    26598494 2018-03-02 15:04:40  3,588,037      31,500  2,599,479   \n",
       "6599887    26599887 2018-03-02 15:08:25  3,588,037      31,500  2,599,479   \n",
       "9583210    29583210 2018-03-08 00:05:12  3,588,037      19,500  2,016,811   \n",
       "877387     30877387 2018-03-11 01:09:42  3,588,037      25,000  3,402,706   \n",
       "4336264    34336264 2018-03-18 20:58:30  3,588,037      40,680  1,659,313   \n",
       "8757679    38757679 2018-03-28 10:23:06  3,588,037      40,680  1,659,313   \n",
       "717677     40717677 2018-04-02 03:35:58  3,588,037      40,000  3,490,454   \n",
       "6763084    46763084 2018-04-12 18:37:57  3,588,037      30,510  1,659,313   \n",
       "248471     50248471 2018-04-20 08:37:23  3,588,037      40,680  1,659,313   \n",
       "2214953    62214953 2018-05-15 12:52:41  3,588,037      31,900  3,666,700   \n",
       "6684462    66684462 2018-05-25 11:38:21  3,588,037      40,680  1,659,313   \n",
       "3562219    83562219 2018-07-01 13:20:33  3,588,037      40,680  2,892,088   \n",
       "\n",
       "        old_admin_category_id  serv_cd  \n",
       "8880              241,010,303        1  \n",
       "6804304           241,010,303        1  \n",
       "709178            241,010,303        1  \n",
       "4146283           241,010,303        1  \n",
       "7860062           241,010,303        1  \n",
       "2592932           241,010,303        1  \n",
       "2594426           241,010,303        1  \n",
       "6598494           241,010,303        1  \n",
       "6599887           241,010,303        1  \n",
       "9583210           241,010,303        1  \n",
       "877387            241,010,303        1  \n",
       "4336264           241,010,303        1  \n",
       "8757679           241,010,303        1  \n",
       "717677            241,010,303        1  \n",
       "6763084           241,010,303        1  \n",
       "248471            241,010,303        1  \n",
       "2214953           241,010,303        1  \n",
       "6684462           241,010,303        1  \n",
       "3562219           241,010,303        1  "
      ]
     },
     "execution_count": 9,
     "metadata": {},
     "output_type": "execute_result"
    }
   ],
   "source": [
    "bbfood_train[bbfood_train.m_id == bbfood_train.m_id.unique()[1]]"
   ]
  },
  {
   "cell_type": "markdown",
   "metadata": {},
   "source": [
    "-> 이런식으로"
   ]
  },
  {
   "cell_type": "markdown",
   "metadata": {},
   "source": [
    "---"
   ]
  },
  {
   "cell_type": "code",
   "execution_count": 11,
   "metadata": {},
   "outputs": [
    {
     "data": {
      "text/plain": [
       "'3,588,037'"
      ]
     },
     "execution_count": 11,
     "metadata": {},
     "output_type": "execute_result"
    }
   ],
   "source": [
    "bbfood_train.m_id.unique()[1] # 두번째 고객 정보"
   ]
  },
  {
   "cell_type": "code",
   "execution_count": 12,
   "metadata": {},
   "outputs": [
    {
     "data": {
      "text/plain": [
       "19"
      ]
     },
     "execution_count": 12,
     "metadata": {},
     "output_type": "execute_result"
    }
   ],
   "source": [
    "sum(bbfood_train.m_id == '3,588,037') #이 사람의 구매이력"
   ]
  },
  {
   "cell_type": "markdown",
   "metadata": {},
   "source": [
    "---"
   ]
  },
  {
   "cell_type": "markdown",
   "metadata": {},
   "source": [
    "(1) 테스트"
   ]
  },
  {
   "cell_type": "code",
   "execution_count": 20,
   "metadata": {},
   "outputs": [
    {
     "name": "stdout",
     "output_type": "stream",
     "text": [
      "3.9238269329071045\n"
     ]
    }
   ],
   "source": [
    "import time\n",
    "\n",
    "start_time = time.time()\n",
    "\n",
    "c = {}\n",
    "t = []\n",
    "for i in range(len(bbfood_train.m_id.unique()[:100])):\n",
    "    c[i] = bbfood_train[bbfood_train.m_id == bbfood_train.m_id.unique()[i]].sort_values(by = 'biz_dt', ascending = False)\n",
    "    for j in range(c[i].shape[0]-1):\n",
    "        \n",
    "        t.append((c[i].iloc[j]['biz_dt'] - c[i].iloc[j+1]['biz_dt']).days) #밑의 if문이랑 같은 결과야(해본결과, len가 1이면 iiappend안해줘)\n",
    "\n",
    "        \n",
    "elapsed_time = time.time() - start_time\n",
    "print(elapsed_time)"
   ]
  },
  {
   "cell_type": "markdown",
   "metadata": {},
   "source": [
    "(2) 테스트"
   ]
  },
  {
   "cell_type": "code",
   "execution_count": 26,
   "metadata": {},
   "outputs": [
    {
     "name": "stdout",
     "output_type": "stream",
     "text": [
      "3.3005638122558594\n"
     ]
    }
   ],
   "source": [
    "import time\n",
    "\n",
    "start_time = time.time()\n",
    "\n",
    "c = {}\n",
    "t = np.array([])\n",
    "for i in range(len(bbfood_train.m_id.unique()[:100])):\n",
    "    c[i] = bbfood_train[bbfood_train.m_id == bbfood_train.m_id.unique()[i]].sort_values(by = 'biz_dt', ascending = False)\n",
    "\n",
    "    t = np.append(t, [j.days for j in c[i].biz_dt.diff()])\n",
    "        \n",
    "elapsed_time = time.time() - start_time\n",
    "print(elapsed_time)"
   ]
  },
  {
   "cell_type": "code",
   "execution_count": 27,
   "metadata": {
    "scrolled": true
   },
   "outputs": [
    {
     "data": {
      "text/plain": [
       "array([  nan,  -31.,  -21.,  -10.,   -6.,  -14.,  -34.,  -17.,   -7.,\n",
       "        -15.,   nan,  -38.,  -10.,  -26.,   -8.,  -11.,   -5.,  -10.,\n",
       "         -8.,   -4.,   -6.,   -1.,  -10.,   -1.,  -14.,   -7.,   -8.,\n",
       "        -10.,  -15.,   nan,   nan,  -15.,  -22.,   -1.,   -5., -108.,\n",
       "         nan,   -5.,   -9.,  -22.,  -22.,  -14.,   nan,  -63.,   nan,\n",
       "        -16.,  -16.,  -15.,   -1.,   -7.,  -10.,  -15.,  -14.,  -18.,\n",
       "        -30.,  -12.,  -20.,    0.,  -30.,   nan,   nan,   -1.,   nan,\n",
       "         nan,  -14.,  -12.,  -14.,  -19.,  -18.,  -12.,   -8.,  -14.,\n",
       "         -8.,  -19.,  -13.,  -37.,   -7.,  -10.,   -5.,   -4.,   -2.,\n",
       "         -4.,   nan,   nan,  -30.,  -92.,   nan,   -9.,    0.,   nan,\n",
       "         nan,   nan,  -15.,  -27.,  -14.,  -27.,  -22.,  -16.,  -15.,\n",
       "         -9.,  -12.,  -12.,  -25.,   nan,   nan,  -51.,  -13.,  -33.,\n",
       "        -10.,   -7.,   -3.,   -1.,   -7.,  -11.,   -4.,   nan,   nan,\n",
       "        -72.,  -80.,   nan,  -42.,  -29.,   nan,   nan,  -15.,   -6.,\n",
       "        -11.,   -1.,  -77.,  -34.,  -18.,   nan,   -8.,  -12.,  -16.,\n",
       "        -11.,  -12.,   -7.,   -7.,   -7.,   -8.,   -1.,  -16.,   -7.,\n",
       "         -7.,   -8.,  -27.,   -6.,   -3.,  -16.,   -4.,   -2.,   -7.,\n",
       "         -6.,   -2.,   -7.,   -5.,   -3.,   -3.,   nan,  -52.,   nan,\n",
       "         -8.,   -8.,   -7.,   nan,  -63.,  -11.,  -18.,  -33.,  -36.,\n",
       "         -7.,  -14.,  -29.,   nan, -109.,   nan,   -9.,   -8.,   -1.,\n",
       "         -9.,  -14.,   -7.,  -25.,   -9.,  -16.,   -8.,  -20.,   -7.,\n",
       "        -22.,  -14.,  -16.,  -12.,   -6.,  -15.,   nan,  -10.,   -6.,\n",
       "         -9.,   -8.,  -10.,   -9.,   -7.,   -8.,  -24.,   -7.,  -20.,\n",
       "         -7.,   -8.,   -7.,   -7.,   -7.,   -5.,   -6.,  -15.,   -9.,\n",
       "        -12.,  -10.,   -8.,   nan,  -27.,  -35.,   -9.,  -17.,   nan,\n",
       "        -55.,   nan,  -60.,   -1.,  -29.,  -69.,   -1.,   nan,   nan,\n",
       "         -7.,   -8.,   -7.,   -7.,   -8.,   -7.,   -6.,   -9.,   -7.,\n",
       "         -7.,   -7.,   -8.,   -8.,   -7.,   -7.,   -7.,   -8.,   -8.,\n",
       "         -7.,   -8.,   -8.,   -7.,  -10.,   -6.,   -8.,   -7.,   -8.,\n",
       "         -8.,   -7.,   -7.,   nan,   nan,  -31.,   nan, -207.,   nan,\n",
       "         nan,   -1.,   -5.,   -6.,  -14.,   -7.,   -7.,   -8.,   -5.,\n",
       "         -7.,   -6.,  -11.,   -5.,   -6.,   -8.,  -12., -109.,   -1.,\n",
       "         nan,  -11.,  -14.,  -18.,   -1.,   -6.,   -8.,   -1.,  -13.,\n",
       "         -1.,   -1.,   -9.,   -8.,   -5.,   -1.,   -8.,  -12.,   -5.,\n",
       "        -10.,  -11.,   -7.,   -8.,   -7.,   -8.,   -4.,   -2.,  -10.,\n",
       "         -7.,   nan,   -7.,   -7.,   nan,   nan,   nan,   nan,   -1.,\n",
       "        -66.,   nan,  -10.,   nan,  -19.,  -42.,  -18.,  -22.,   nan,\n",
       "        -51.,  -32.,  -19.,  -10.,   -6.,   -6.,   -8.,  -13.,  -18.,\n",
       "        -11.,  -17.,  -13.,   -3.,   nan,   -3.,  -14.,   -4.,   -5.,\n",
       "        -14.,   -6.,   -8.,   -6.,   -2.,   -4.,   -3.,   -5.,   -4.,\n",
       "         nan,   -1.,   -2.,   nan,  -15.,  -17.,  -18.,  -17.,  -15.,\n",
       "        -12.,  -10.,  -15.,   nan,  -21.,  -70.,  -13.,   -9.,   -1.,\n",
       "         -7.,   nan,  -48.,   nan,   -8.,  -11.,   -5.,   -9.,   -7.,\n",
       "         -7.,   -9.,  -12.,   -9.,   -9.,   -8.,   -5.,   -8.,  -14.,\n",
       "         -8.,   nan,   -8.,   nan,  -60.,  -56.,   nan,   nan,  -15.,\n",
       "        -26.,  -10.,  -14.,   -7.,   -9.,  -11.,  -10.,   -8.,   -7.,\n",
       "         -6.,   -8.,   -9.,   -7.,   -7.,   nan,  -26.,  -22.,  -22.,\n",
       "        -14.,  -56.,   -9.,   -7.,   -8.,   -8.,   -8.,   -6.,  -10.,\n",
       "         nan,  -23.,  -12.,  -49.,   nan,  -11.,   -8.,   -9.,   nan,\n",
       "         -2.,  -23.,  -42.,    0.,  -17.,  -36.,  -12.,  -12.,  -12.,\n",
       "        -50.,   nan,  -51.,  -15.,  -45.,   -9.,  -11.,  -21.,   nan,\n",
       "        -26.,   nan,   -8.,  -13.,  -11.,  -11.,  -11.,  -12.,  -11.,\n",
       "        -11.,  -10.,  -11.,   -9.,   -9.,   -8.,  -18.,  -10.,   -8.,\n",
       "         -9.,   -7.,   nan,   nan,   nan,   nan,   -6.,  -10.,   -9.,\n",
       "        -16.,   -2.,   -5.,  -14.,   -9.,  -14.,   -5.,   -8.,   -9.,\n",
       "         -9.,  -10.,   -5.,   -9.,   -1.,   nan,  -13.,   -9.,  -11.,\n",
       "        -12.,  -15.,  -12.,  -11.,   -9.,  -11.,  -11.,   -1.,  -14.,\n",
       "         -5.,  -13.,   -6.,  -14.,   nan,   nan,   -9.,   -6.,   -8.,\n",
       "         -9.,   -7.,   -8.,  -13.,   nan,  -44.,   -2.,  -34.,  -14.,\n",
       "         -1.,   -2.,  -14.,   -1.,   -1.,   -8.,  -11.,  -18.,  -18.,\n",
       "        -10.,  -13.,  -18.,   nan,   nan,  -11.,  -12.,  -13.,   -9.,\n",
       "        -15.,  -14.,   -7.,  -26.,  -12.,  -21.,   -7.,   -5.,  -31.,\n",
       "        -27.,   nan,  -72.,  -27.,   nan,   -7.,  -10.,   -8.,   -4.,\n",
       "        -10.,   -7.,   -8.,  -13.,  -10.,   -1.,   -8.,  -10.,   -8.,\n",
       "         -8.,   -8.,   -9.,   -9.,  -11.,   -9.,   -7.,  -12.,   -5.,\n",
       "         -9.,  -12.,   -2.,   -7.,  -10.,   nan, -143.,   -1.,  -27.,\n",
       "         -2.,   nan,  -21.,   -7.,   -4.,   -5.,   nan,   -8.,   nan,\n",
       "         -1.,  -12.,   -1.,  -11.,   -1.,  -12.,   -1.,  -14.,   -6.,\n",
       "         -6.,   -9.,  -12.,   -2.,   -9.,   -8.,   -2.,   -7.,  -12.,\n",
       "         -9.,   -9.,   -1.,   -9.,  -10.,    0.,   -7.,  -13.,   -1.,\n",
       "         -6.,   -1.,   -6.,   -6.,   -5.,   -9.,   -9.,   nan,  -70.,\n",
       "         -4.,  -13.,  -14.,   -9.,   -1.,   -7.,   -8.,   nan,  -14.,\n",
       "         -3.,  -13.,   -6.,  -10.,   -7.,   -6.,   -7.,   -8.,   -7.,\n",
       "        -12.,   -2.,  -14.,   -4.,  -13.,  -15.,  -14.,   -1.,   -4.,\n",
       "         -3.,  -10.,   -1.,   -2.,   -5.,   -6.,  -13.,   -3.,   -6.,\n",
       "         -8.,   nan,  -72.,  -22.,   -3.,  -12.,   -9.,   -8.,  -21.,\n",
       "        -21.,   nan,  -30.,  -72.,  -17.,  -14.,  -15.,   -7.,  -14.,\n",
       "         -1.,   -8.,   -7.,   -2.,   -5.,   -6.,   -3.,   -7.,   nan,\n",
       "        -17.,  -10.,   -7.,  -11.,   -1.,   -5.,   -9.,   -3.,   -8.,\n",
       "         -7.,   -3.,   -5.,   -4.,   nan,   nan,  -13.,  -56.,  -28.,\n",
       "        -27.,    0.,   -8.,  -19.,    0.,   -1.,  -16.,  -17.,   nan,\n",
       "         -4.,   -1.,   nan,  -17.,   nan,   -7.,   -8.,   -7.,   -8.,\n",
       "         -7.,   nan,   nan,   -8.,   -6.,  -10.,   nan,   nan,  -31.,\n",
       "         -9.,   -1.,   nan,   nan,  -52.,  -10.,   -6.,  -11.,  -13.,\n",
       "        -12.,  -16.,  -34.,   -1.,   -8.,  -15.,   nan])"
      ]
     },
     "execution_count": 27,
     "metadata": {},
     "output_type": "execute_result"
    }
   ],
   "source": [
    "t"
   ]
  },
  {
   "cell_type": "markdown",
   "metadata": {},
   "source": [
    "-> 시간 이정도 단축되었어! : (2)으로 한다!"
   ]
  },
  {
   "cell_type": "markdown",
   "metadata": {},
   "source": [
    "---"
   ]
  },
  {
   "cell_type": "markdown",
   "metadata": {},
   "source": [
    "# <U>**(2) 리스트 컴프리헨션, diff()메소드*</U>"
   ]
  },
  {
   "cell_type": "code",
   "execution_count": 15,
   "metadata": {},
   "outputs": [],
   "source": [
    "cccc = bbfood_train[bbfood_train.m_id == bbfood_train.m_id.unique()[13]]\n",
    "    "
   ]
  },
  {
   "cell_type": "code",
   "execution_count": 17,
   "metadata": {},
   "outputs": [
    {
     "data": {
      "text/html": [
       "<div>\n",
       "<style scoped>\n",
       "    .dataframe tbody tr th:only-of-type {\n",
       "        vertical-align: middle;\n",
       "    }\n",
       "\n",
       "    .dataframe tbody tr th {\n",
       "        vertical-align: top;\n",
       "    }\n",
       "\n",
       "    .dataframe thead th {\n",
       "        text-align: right;\n",
       "    }\n",
       "</style>\n",
       "<table border=\"1\" class=\"dataframe\">\n",
       "  <thead>\n",
       "    <tr style=\"text-align: right;\">\n",
       "      <th></th>\n",
       "      <th>Unnamed: 0</th>\n",
       "      <th>biz_dt</th>\n",
       "      <th>m_id</th>\n",
       "      <th>order_price</th>\n",
       "      <th>prod_no</th>\n",
       "      <th>old_admin_category_id</th>\n",
       "      <th>serv_cd</th>\n",
       "    </tr>\n",
       "  </thead>\n",
       "  <tbody>\n",
       "    <tr>\n",
       "      <th>53190</th>\n",
       "      <td>53190</td>\n",
       "      <td>2018-01-01 00:48:26</td>\n",
       "      <td>10,913,678</td>\n",
       "      <td>25,000</td>\n",
       "      <td>2,599,479</td>\n",
       "      <td>241,010,303</td>\n",
       "      <td>1</td>\n",
       "    </tr>\n",
       "    <tr>\n",
       "      <th>53207</th>\n",
       "      <td>53207</td>\n",
       "      <td>2018-01-01 00:48:26</td>\n",
       "      <td>10,913,678</td>\n",
       "      <td>18,900</td>\n",
       "      <td>2,016,742</td>\n",
       "      <td>241,010,303</td>\n",
       "      <td>1</td>\n",
       "    </tr>\n",
       "    <tr>\n",
       "      <th>4241800</th>\n",
       "      <td>4241800</td>\n",
       "      <td>2018-01-09 12:58:29</td>\n",
       "      <td>10,913,678</td>\n",
       "      <td>25,800</td>\n",
       "      <td>2,210,482</td>\n",
       "      <td>241,010,303</td>\n",
       "      <td>1</td>\n",
       "    </tr>\n",
       "  </tbody>\n",
       "</table>\n",
       "</div>"
      ],
      "text/plain": [
       "         Unnamed: 0              biz_dt        m_id order_price    prod_no  \\\n",
       "53190         53190 2018-01-01 00:48:26  10,913,678      25,000  2,599,479   \n",
       "53207         53207 2018-01-01 00:48:26  10,913,678      18,900  2,016,742   \n",
       "4241800     4241800 2018-01-09 12:58:29  10,913,678      25,800  2,210,482   \n",
       "\n",
       "        old_admin_category_id  serv_cd  \n",
       "53190             241,010,303        1  \n",
       "53207             241,010,303        1  \n",
       "4241800           241,010,303        1  "
      ]
     },
     "execution_count": 17,
     "metadata": {},
     "output_type": "execute_result"
    }
   ],
   "source": [
    "cccc"
   ]
  },
  {
   "cell_type": "code",
   "execution_count": 16,
   "metadata": {
    "scrolled": true
   },
   "outputs": [
    {
     "data": {
      "text/plain": [
       "array([nan,  0.,  8.])"
      ]
     },
     "execution_count": 16,
     "metadata": {},
     "output_type": "execute_result"
    }
   ],
   "source": [
    "np.array([j.days for j in cccc.biz_dt.diff()])"
   ]
  },
  {
   "cell_type": "code",
   "execution_count": null,
   "metadata": {},
   "outputs": [],
   "source": []
  },
  {
   "cell_type": "code",
   "execution_count": 20,
   "metadata": {},
   "outputs": [
    {
     "name": "stdout",
     "output_type": "stream",
     "text": [
      "00:36:11.03\n"
     ]
    }
   ],
   "source": [
    "import time\n",
    "\n",
    "start_time = time.time()\n",
    "\n",
    "#c = {}\n",
    "t = np.array([])\n",
    "for i in range(len(bbfood_train.m_id.unique())):\n",
    "    inter = bbfood_train[bbfood_train.m_id == bbfood_train.m_id.unique()[i]]\n",
    "    \n",
    "\n",
    "    t = np.append(t, [j.days for j in inter.biz_dt.diff()])  # list comprehension에서 요소별로 빼와서 j.days로 처리할 수 있어.\n",
    "        \n",
    "#경과시간\n",
    "elapsed_time = time.time() - start_time\n",
    "hours, rem = divmod(elapsed_time, 3600)\n",
    "minutes, seconds = divmod(rem, 60)\n",
    "print(\"{:0>2}:{:0>2}:{:05.2f}\".format(int(hours),int(minutes),seconds))"
   ]
  },
  {
   "cell_type": "code",
   "execution_count": 21,
   "metadata": {},
   "outputs": [
    {
     "data": {
      "text/plain": [
       "193645"
      ]
     },
     "execution_count": 21,
     "metadata": {},
     "output_type": "execute_result"
    }
   ],
   "source": [
    "len(t)"
   ]
  },
  {
   "cell_type": "code",
   "execution_count": 24,
   "metadata": {},
   "outputs": [],
   "source": [
    "c = {}\n",
    "for i in range(len(bbfood_train.m_id.unique()[:100])):\n",
    "    c[i] = bbfood_train[bbfood_train.m_id == bbfood_train.m_id.unique()[i]]"
   ]
  },
  {
   "cell_type": "code",
   "execution_count": 25,
   "metadata": {},
   "outputs": [
    {
     "data": {
      "text/html": [
       "<div>\n",
       "<style scoped>\n",
       "    .dataframe tbody tr th:only-of-type {\n",
       "        vertical-align: middle;\n",
       "    }\n",
       "\n",
       "    .dataframe tbody tr th {\n",
       "        vertical-align: top;\n",
       "    }\n",
       "\n",
       "    .dataframe thead th {\n",
       "        text-align: right;\n",
       "    }\n",
       "</style>\n",
       "<table border=\"1\" class=\"dataframe\">\n",
       "  <thead>\n",
       "    <tr style=\"text-align: right;\">\n",
       "      <th></th>\n",
       "      <th>Unnamed: 0</th>\n",
       "      <th>biz_dt</th>\n",
       "      <th>m_id</th>\n",
       "      <th>order_price</th>\n",
       "      <th>prod_no</th>\n",
       "      <th>old_admin_category_id</th>\n",
       "      <th>serv_cd</th>\n",
       "    </tr>\n",
       "  </thead>\n",
       "  <tbody>\n",
       "    <tr>\n",
       "      <th>3410</th>\n",
       "      <td>3410</td>\n",
       "      <td>2018-01-01 00:04:44</td>\n",
       "      <td>3,452,631</td>\n",
       "      <td>28,800</td>\n",
       "      <td>2,016,742</td>\n",
       "      <td>241,010,303</td>\n",
       "      <td>1</td>\n",
       "    </tr>\n",
       "    <tr>\n",
       "      <th>7099294</th>\n",
       "      <td>7099294</td>\n",
       "      <td>2018-01-15 19:18:31</td>\n",
       "      <td>3,452,631</td>\n",
       "      <td>19,500</td>\n",
       "      <td>3,095,180</td>\n",
       "      <td>241,010,303</td>\n",
       "      <td>1</td>\n",
       "    </tr>\n",
       "    <tr>\n",
       "      <th>9628504</th>\n",
       "      <td>9628504</td>\n",
       "      <td>2018-01-21 21:52:32</td>\n",
       "      <td>3,452,631</td>\n",
       "      <td>28,800</td>\n",
       "      <td>2,016,742</td>\n",
       "      <td>241,010,303</td>\n",
       "      <td>1</td>\n",
       "    </tr>\n",
       "    <tr>\n",
       "      <th>7876292</th>\n",
       "      <td>17876292</td>\n",
       "      <td>2018-02-07 17:51:32</td>\n",
       "      <td>3,452,631</td>\n",
       "      <td>20,100</td>\n",
       "      <td>3,095,180</td>\n",
       "      <td>241,010,303</td>\n",
       "      <td>1</td>\n",
       "    </tr>\n",
       "    <tr>\n",
       "      <th>1933838</th>\n",
       "      <td>31933838</td>\n",
       "      <td>2018-03-13 09:56:11</td>\n",
       "      <td>3,452,631</td>\n",
       "      <td>36,000</td>\n",
       "      <td>2,016,811</td>\n",
       "      <td>241,010,303</td>\n",
       "      <td>1</td>\n",
       "    </tr>\n",
       "    <tr>\n",
       "      <th>7766596</th>\n",
       "      <td>37766596</td>\n",
       "      <td>2018-03-26 12:59:30</td>\n",
       "      <td>3,452,631</td>\n",
       "      <td>36,000</td>\n",
       "      <td>2,016,811</td>\n",
       "      <td>241,010,303</td>\n",
       "      <td>1</td>\n",
       "    </tr>\n",
       "    <tr>\n",
       "      <th>195949</th>\n",
       "      <td>40195949</td>\n",
       "      <td>2018-04-01 03:52:40</td>\n",
       "      <td>3,452,631</td>\n",
       "      <td>18,900</td>\n",
       "      <td>2,016,742</td>\n",
       "      <td>241,010,303</td>\n",
       "      <td>1</td>\n",
       "    </tr>\n",
       "    <tr>\n",
       "      <th>5548873</th>\n",
       "      <td>45548873</td>\n",
       "      <td>2018-04-10 13:09:51</td>\n",
       "      <td>3,452,631</td>\n",
       "      <td>36,000</td>\n",
       "      <td>2,016,811</td>\n",
       "      <td>241,010,303</td>\n",
       "      <td>1</td>\n",
       "    </tr>\n",
       "    <tr>\n",
       "      <th>5097777</th>\n",
       "      <td>55097777</td>\n",
       "      <td>2018-05-01 00:47:32</td>\n",
       "      <td>3,452,631</td>\n",
       "      <td>15,900</td>\n",
       "      <td>2,016,811</td>\n",
       "      <td>241,010,303</td>\n",
       "      <td>1</td>\n",
       "    </tr>\n",
       "    <tr>\n",
       "      <th>9603413</th>\n",
       "      <td>69603413</td>\n",
       "      <td>2018-05-31 23:24:58</td>\n",
       "      <td>3,452,631</td>\n",
       "      <td>15,900</td>\n",
       "      <td>2,016,811</td>\n",
       "      <td>241,010,303</td>\n",
       "      <td>1</td>\n",
       "    </tr>\n",
       "  </tbody>\n",
       "</table>\n",
       "</div>"
      ],
      "text/plain": [
       "         Unnamed: 0              biz_dt       m_id order_price    prod_no  \\\n",
       "3410           3410 2018-01-01 00:04:44  3,452,631      28,800  2,016,742   \n",
       "7099294     7099294 2018-01-15 19:18:31  3,452,631      19,500  3,095,180   \n",
       "9628504     9628504 2018-01-21 21:52:32  3,452,631      28,800  2,016,742   \n",
       "7876292    17876292 2018-02-07 17:51:32  3,452,631      20,100  3,095,180   \n",
       "1933838    31933838 2018-03-13 09:56:11  3,452,631      36,000  2,016,811   \n",
       "7766596    37766596 2018-03-26 12:59:30  3,452,631      36,000  2,016,811   \n",
       "195949     40195949 2018-04-01 03:52:40  3,452,631      18,900  2,016,742   \n",
       "5548873    45548873 2018-04-10 13:09:51  3,452,631      36,000  2,016,811   \n",
       "5097777    55097777 2018-05-01 00:47:32  3,452,631      15,900  2,016,811   \n",
       "9603413    69603413 2018-05-31 23:24:58  3,452,631      15,900  2,016,811   \n",
       "\n",
       "        old_admin_category_id  serv_cd  \n",
       "3410              241,010,303        1  \n",
       "7099294           241,010,303        1  \n",
       "9628504           241,010,303        1  \n",
       "7876292           241,010,303        1  \n",
       "1933838           241,010,303        1  \n",
       "7766596           241,010,303        1  \n",
       "195949            241,010,303        1  \n",
       "5548873           241,010,303        1  \n",
       "5097777           241,010,303        1  \n",
       "9603413           241,010,303        1  "
      ]
     },
     "execution_count": 25,
     "metadata": {},
     "output_type": "execute_result"
    }
   ],
   "source": [
    "c[0]"
   ]
  },
  {
   "cell_type": "code",
   "execution_count": 26,
   "metadata": {},
   "outputs": [
    {
     "data": {
      "text/html": [
       "<div>\n",
       "<style scoped>\n",
       "    .dataframe tbody tr th:only-of-type {\n",
       "        vertical-align: middle;\n",
       "    }\n",
       "\n",
       "    .dataframe tbody tr th {\n",
       "        vertical-align: top;\n",
       "    }\n",
       "\n",
       "    .dataframe thead th {\n",
       "        text-align: right;\n",
       "    }\n",
       "</style>\n",
       "<table border=\"1\" class=\"dataframe\">\n",
       "  <thead>\n",
       "    <tr style=\"text-align: right;\">\n",
       "      <th></th>\n",
       "      <th>Unnamed: 0</th>\n",
       "      <th>biz_dt</th>\n",
       "      <th>m_id</th>\n",
       "      <th>order_price</th>\n",
       "      <th>prod_no</th>\n",
       "      <th>old_admin_category_id</th>\n",
       "      <th>serv_cd</th>\n",
       "    </tr>\n",
       "  </thead>\n",
       "  <tbody>\n",
       "    <tr>\n",
       "      <th>202492</th>\n",
       "      <td>202492</td>\n",
       "      <td>2018-01-01 06:24:46</td>\n",
       "      <td>1,447,263</td>\n",
       "      <td>18,500</td>\n",
       "      <td>2,016,742</td>\n",
       "      <td>241,010,303</td>\n",
       "      <td>1</td>\n",
       "    </tr>\n",
       "    <tr>\n",
       "      <th>2433314</th>\n",
       "      <td>2433314</td>\n",
       "      <td>2018-01-04 23:34:43</td>\n",
       "      <td>1,447,263</td>\n",
       "      <td>18,500</td>\n",
       "      <td>2,016,742</td>\n",
       "      <td>241,010,303</td>\n",
       "      <td>1</td>\n",
       "    </tr>\n",
       "    <tr>\n",
       "      <th>4465819</th>\n",
       "      <td>4465819</td>\n",
       "      <td>2018-01-09 22:02:44</td>\n",
       "      <td>1,447,263</td>\n",
       "      <td>19,500</td>\n",
       "      <td>2,016,811</td>\n",
       "      <td>241,010,303</td>\n",
       "      <td>1</td>\n",
       "    </tr>\n",
       "    <tr>\n",
       "      <th>5457874</th>\n",
       "      <td>5457874</td>\n",
       "      <td>2018-01-11 22:34:10</td>\n",
       "      <td>1,447,263</td>\n",
       "      <td>11,200</td>\n",
       "      <td>2,279,152</td>\n",
       "      <td>241,010,303</td>\n",
       "      <td>1</td>\n",
       "    </tr>\n",
       "    <tr>\n",
       "      <th>7181623</th>\n",
       "      <td>7181623</td>\n",
       "      <td>2018-01-15 22:15:54</td>\n",
       "      <td>1,447,263</td>\n",
       "      <td>6,900</td>\n",
       "      <td>2,279,152</td>\n",
       "      <td>241,010,303</td>\n",
       "      <td>1</td>\n",
       "    </tr>\n",
       "    <tr>\n",
       "      <th>8045794</th>\n",
       "      <td>8045794</td>\n",
       "      <td>2018-01-17 17:25:55</td>\n",
       "      <td>1,447,263</td>\n",
       "      <td>9,500</td>\n",
       "      <td>3,176,317</td>\n",
       "      <td>241,010,303</td>\n",
       "      <td>1</td>\n",
       "    </tr>\n",
       "    <tr>\n",
       "      <th>67912</th>\n",
       "      <td>10067912</td>\n",
       "      <td>2018-01-22 21:44:50</td>\n",
       "      <td>1,447,263</td>\n",
       "      <td>15,150</td>\n",
       "      <td>2,279,152</td>\n",
       "      <td>241,010,303</td>\n",
       "      <td>1</td>\n",
       "    </tr>\n",
       "    <tr>\n",
       "      <th>3477031</th>\n",
       "      <td>13477031</td>\n",
       "      <td>2018-01-30 19:48:43</td>\n",
       "      <td>1,447,263</td>\n",
       "      <td>13,800</td>\n",
       "      <td>2,279,152</td>\n",
       "      <td>241,010,303</td>\n",
       "      <td>1</td>\n",
       "    </tr>\n",
       "    <tr>\n",
       "      <th>6369957</th>\n",
       "      <td>16369957</td>\n",
       "      <td>2018-02-04 23:00:42</td>\n",
       "      <td>1,447,263</td>\n",
       "      <td>14,650</td>\n",
       "      <td>2,279,152</td>\n",
       "      <td>241,010,303</td>\n",
       "      <td>1</td>\n",
       "    </tr>\n",
       "    <tr>\n",
       "      <th>1339460</th>\n",
       "      <td>21339460</td>\n",
       "      <td>2018-02-18 20:41:21</td>\n",
       "      <td>1,447,263</td>\n",
       "      <td>22,550</td>\n",
       "      <td>2,279,152</td>\n",
       "      <td>241,010,303</td>\n",
       "      <td>1</td>\n",
       "    </tr>\n",
       "    <tr>\n",
       "      <th>3259414</th>\n",
       "      <td>23259414</td>\n",
       "      <td>2018-02-22 20:57:46</td>\n",
       "      <td>1,447,263</td>\n",
       "      <td>17,250</td>\n",
       "      <td>2,279,152</td>\n",
       "      <td>241,010,303</td>\n",
       "      <td>1</td>\n",
       "    </tr>\n",
       "    <tr>\n",
       "      <th>4582398</th>\n",
       "      <td>24582398</td>\n",
       "      <td>2018-02-26 11:42:59</td>\n",
       "      <td>1,447,263</td>\n",
       "      <td>7,600</td>\n",
       "      <td>3,335,544</td>\n",
       "      <td>241,010,303</td>\n",
       "      <td>1</td>\n",
       "    </tr>\n",
       "    <tr>\n",
       "      <th>1208605</th>\n",
       "      <td>31208605</td>\n",
       "      <td>2018-03-11 22:08:45</td>\n",
       "      <td>1,447,263</td>\n",
       "      <td>17,250</td>\n",
       "      <td>2,279,152</td>\n",
       "      <td>241,010,303</td>\n",
       "      <td>1</td>\n",
       "    </tr>\n",
       "    <tr>\n",
       "      <th>2714608</th>\n",
       "      <td>32714608</td>\n",
       "      <td>2018-03-14 21:40:21</td>\n",
       "      <td>1,447,263</td>\n",
       "      <td>17,250</td>\n",
       "      <td>2,279,152</td>\n",
       "      <td>241,010,303</td>\n",
       "      <td>1</td>\n",
       "    </tr>\n",
       "  </tbody>\n",
       "</table>\n",
       "</div>"
      ],
      "text/plain": [
       "         Unnamed: 0              biz_dt       m_id order_price    prod_no  \\\n",
       "202492       202492 2018-01-01 06:24:46  1,447,263      18,500  2,016,742   \n",
       "2433314     2433314 2018-01-04 23:34:43  1,447,263      18,500  2,016,742   \n",
       "4465819     4465819 2018-01-09 22:02:44  1,447,263      19,500  2,016,811   \n",
       "5457874     5457874 2018-01-11 22:34:10  1,447,263      11,200  2,279,152   \n",
       "7181623     7181623 2018-01-15 22:15:54  1,447,263       6,900  2,279,152   \n",
       "8045794     8045794 2018-01-17 17:25:55  1,447,263       9,500  3,176,317   \n",
       "67912      10067912 2018-01-22 21:44:50  1,447,263      15,150  2,279,152   \n",
       "3477031    13477031 2018-01-30 19:48:43  1,447,263      13,800  2,279,152   \n",
       "6369957    16369957 2018-02-04 23:00:42  1,447,263      14,650  2,279,152   \n",
       "1339460    21339460 2018-02-18 20:41:21  1,447,263      22,550  2,279,152   \n",
       "3259414    23259414 2018-02-22 20:57:46  1,447,263      17,250  2,279,152   \n",
       "4582398    24582398 2018-02-26 11:42:59  1,447,263       7,600  3,335,544   \n",
       "1208605    31208605 2018-03-11 22:08:45  1,447,263      17,250  2,279,152   \n",
       "2714608    32714608 2018-03-14 21:40:21  1,447,263      17,250  2,279,152   \n",
       "\n",
       "        old_admin_category_id  serv_cd  \n",
       "202492            241,010,303        1  \n",
       "2433314           241,010,303        1  \n",
       "4465819           241,010,303        1  \n",
       "5457874           241,010,303        1  \n",
       "7181623           241,010,303        1  \n",
       "8045794           241,010,303        1  \n",
       "67912             241,010,303        1  \n",
       "3477031           241,010,303        1  \n",
       "6369957           241,010,303        1  \n",
       "1339460           241,010,303        1  \n",
       "3259414           241,010,303        1  \n",
       "4582398           241,010,303        1  \n",
       "1208605           241,010,303        1  \n",
       "2714608           241,010,303        1  "
      ]
     },
     "execution_count": 26,
     "metadata": {},
     "output_type": "execute_result"
    }
   ],
   "source": [
    "c[50]"
   ]
  },
  {
   "cell_type": "code",
   "execution_count": 28,
   "metadata": {},
   "outputs": [
    {
     "data": {
      "text/html": [
       "<div>\n",
       "<style scoped>\n",
       "    .dataframe tbody tr th:only-of-type {\n",
       "        vertical-align: middle;\n",
       "    }\n",
       "\n",
       "    .dataframe tbody tr th {\n",
       "        vertical-align: top;\n",
       "    }\n",
       "\n",
       "    .dataframe thead th {\n",
       "        text-align: right;\n",
       "    }\n",
       "</style>\n",
       "<table border=\"1\" class=\"dataframe\">\n",
       "  <thead>\n",
       "    <tr style=\"text-align: right;\">\n",
       "      <th></th>\n",
       "      <th>Unnamed: 0</th>\n",
       "      <th>biz_dt</th>\n",
       "      <th>m_id</th>\n",
       "      <th>order_price</th>\n",
       "      <th>prod_no</th>\n",
       "      <th>old_admin_category_id</th>\n",
       "      <th>serv_cd</th>\n",
       "    </tr>\n",
       "  </thead>\n",
       "  <tbody>\n",
       "    <tr>\n",
       "      <th>277914</th>\n",
       "      <td>277914</td>\n",
       "      <td>2018-01-01 10:39:53</td>\n",
       "      <td>10,536,551</td>\n",
       "      <td>20,400</td>\n",
       "      <td>2,182,222</td>\n",
       "      <td>241,010,303</td>\n",
       "      <td>1</td>\n",
       "    </tr>\n",
       "  </tbody>\n",
       "</table>\n",
       "</div>"
      ],
      "text/plain": [
       "        Unnamed: 0              biz_dt        m_id order_price    prod_no  \\\n",
       "277914      277914 2018-01-01 10:39:53  10,536,551      20,400  2,182,222   \n",
       "\n",
       "       old_admin_category_id  serv_cd  \n",
       "277914           241,010,303        1  "
      ]
     },
     "execution_count": 28,
     "metadata": {},
     "output_type": "execute_result"
    }
   ],
   "source": [
    "c[99]"
   ]
  },
  {
   "cell_type": "markdown",
   "metadata": {},
   "source": [
    "---"
   ]
  },
  {
   "cell_type": "code",
   "execution_count": 22,
   "metadata": {},
   "outputs": [
    {
     "data": {
      "text/plain": [
       "array([nan, 14.,  6., ..., nan, nan, nan])"
      ]
     },
     "execution_count": 22,
     "metadata": {},
     "output_type": "execute_result"
    }
   ],
   "source": [
    "t"
   ]
  },
  {
   "cell_type": "code",
   "execution_count": 29,
   "metadata": {},
   "outputs": [],
   "source": [
    "tt = pd.DataFrame(t)"
   ]
  },
  {
   "cell_type": "code",
   "execution_count": 30,
   "metadata": {},
   "outputs": [
    {
     "data": {
      "text/html": [
       "<div>\n",
       "<style scoped>\n",
       "    .dataframe tbody tr th:only-of-type {\n",
       "        vertical-align: middle;\n",
       "    }\n",
       "\n",
       "    .dataframe tbody tr th {\n",
       "        vertical-align: top;\n",
       "    }\n",
       "\n",
       "    .dataframe thead th {\n",
       "        text-align: right;\n",
       "    }\n",
       "</style>\n",
       "<table border=\"1\" class=\"dataframe\">\n",
       "  <thead>\n",
       "    <tr style=\"text-align: right;\">\n",
       "      <th></th>\n",
       "      <th>0</th>\n",
       "    </tr>\n",
       "  </thead>\n",
       "  <tbody>\n",
       "    <tr>\n",
       "      <th>0</th>\n",
       "      <td>NaN</td>\n",
       "    </tr>\n",
       "    <tr>\n",
       "      <th>1</th>\n",
       "      <td>14.0</td>\n",
       "    </tr>\n",
       "    <tr>\n",
       "      <th>2</th>\n",
       "      <td>6.0</td>\n",
       "    </tr>\n",
       "    <tr>\n",
       "      <th>3</th>\n",
       "      <td>16.0</td>\n",
       "    </tr>\n",
       "    <tr>\n",
       "      <th>4</th>\n",
       "      <td>33.0</td>\n",
       "    </tr>\n",
       "    <tr>\n",
       "      <th>5</th>\n",
       "      <td>13.0</td>\n",
       "    </tr>\n",
       "    <tr>\n",
       "      <th>6</th>\n",
       "      <td>5.0</td>\n",
       "    </tr>\n",
       "    <tr>\n",
       "      <th>7</th>\n",
       "      <td>9.0</td>\n",
       "    </tr>\n",
       "    <tr>\n",
       "      <th>8</th>\n",
       "      <td>20.0</td>\n",
       "    </tr>\n",
       "    <tr>\n",
       "      <th>9</th>\n",
       "      <td>30.0</td>\n",
       "    </tr>\n",
       "    <tr>\n",
       "      <th>10</th>\n",
       "      <td>NaN</td>\n",
       "    </tr>\n",
       "    <tr>\n",
       "      <th>11</th>\n",
       "      <td>14.0</td>\n",
       "    </tr>\n",
       "    <tr>\n",
       "      <th>12</th>\n",
       "      <td>9.0</td>\n",
       "    </tr>\n",
       "    <tr>\n",
       "      <th>13</th>\n",
       "      <td>7.0</td>\n",
       "    </tr>\n",
       "    <tr>\n",
       "      <th>14</th>\n",
       "      <td>6.0</td>\n",
       "    </tr>\n",
       "    <tr>\n",
       "      <th>15</th>\n",
       "      <td>13.0</td>\n",
       "    </tr>\n",
       "    <tr>\n",
       "      <th>16</th>\n",
       "      <td>0.0</td>\n",
       "    </tr>\n",
       "    <tr>\n",
       "      <th>17</th>\n",
       "      <td>9.0</td>\n",
       "    </tr>\n",
       "    <tr>\n",
       "      <th>18</th>\n",
       "      <td>0.0</td>\n",
       "    </tr>\n",
       "    <tr>\n",
       "      <th>19</th>\n",
       "      <td>5.0</td>\n",
       "    </tr>\n",
       "  </tbody>\n",
       "</table>\n",
       "</div>"
      ],
      "text/plain": [
       "       0\n",
       "0    NaN\n",
       "1   14.0\n",
       "2    6.0\n",
       "3   16.0\n",
       "4   33.0\n",
       "5   13.0\n",
       "6    5.0\n",
       "7    9.0\n",
       "8   20.0\n",
       "9   30.0\n",
       "10   NaN\n",
       "11  14.0\n",
       "12   9.0\n",
       "13   7.0\n",
       "14   6.0\n",
       "15  13.0\n",
       "16   0.0\n",
       "17   9.0\n",
       "18   0.0\n",
       "19   5.0"
      ]
     },
     "execution_count": 30,
     "metadata": {},
     "output_type": "execute_result"
    }
   ],
   "source": [
    "tt.head(20)"
   ]
  },
  {
   "cell_type": "code",
   "execution_count": 31,
   "metadata": {},
   "outputs": [],
   "source": [
    "tt.to_excel('bbfood_t_1012.xlsx')"
   ]
  },
  {
   "cell_type": "code",
   "execution_count": 32,
   "metadata": {},
   "outputs": [],
   "source": [
    "tt.to_csv('bbfood_t_1012.csv')"
   ]
  },
  {
   "cell_type": "code",
   "execution_count": 36,
   "metadata": {
    "scrolled": true
   },
   "outputs": [
    {
     "data": {
      "text/plain": [
       "0    127795\n",
       "dtype: int64"
      ]
     },
     "execution_count": 36,
     "metadata": {},
     "output_type": "execute_result"
    }
   ],
   "source": [
    "tt.count()"
   ]
  },
  {
   "cell_type": "code",
   "execution_count": 38,
   "metadata": {},
   "outputs": [
    {
     "data": {
      "text/plain": [
       "0    65850\n",
       "dtype: int64"
      ]
     },
     "execution_count": 38,
     "metadata": {},
     "output_type": "execute_result"
    }
   ],
   "source": [
    "len(tt)-tt.count()  # 19만개 중, 6만5천개가 distinct user : datetime.diff() 메소드 이용하면, 첫번째 obs는 nan이 되니깐 맞아!"
   ]
  },
  {
   "cell_type": "code",
   "execution_count": 41,
   "metadata": {},
   "outputs": [
    {
     "data": {
      "text/plain": [
       "(193645, 7)"
      ]
     },
     "execution_count": 41,
     "metadata": {},
     "output_type": "execute_result"
    }
   ],
   "source": [
    "bbfood_train.shape"
   ]
  },
  {
   "cell_type": "code",
   "execution_count": 40,
   "metadata": {},
   "outputs": [
    {
     "data": {
      "text/plain": [
       "(65850,)"
      ]
     },
     "execution_count": 40,
     "metadata": {},
     "output_type": "execute_result"
    }
   ],
   "source": [
    "bbfood_train.m_id.unique().shape"
   ]
  },
  {
   "cell_type": "markdown",
   "metadata": {},
   "source": [
    "- 확인!"
   ]
  },
  {
   "cell_type": "code",
   "execution_count": 42,
   "metadata": {},
   "outputs": [
    {
     "data": {
      "text/plain": [
       "65850"
      ]
     },
     "execution_count": 42,
     "metadata": {},
     "output_type": "execute_result"
    }
   ],
   "source": [
    "bbfood_train.m_id.nunique()"
   ]
  },
  {
   "cell_type": "markdown",
   "metadata": {},
   "source": [
    "---"
   ]
  },
  {
   "cell_type": "markdown",
   "metadata": {},
   "source": [
    "### # t (interval) 불러올거야"
   ]
  },
  {
   "cell_type": "code",
   "execution_count": 3,
   "metadata": {},
   "outputs": [],
   "source": [
    "tt = pd.read_csv('bbfood_t_1012.csv')"
   ]
  },
  {
   "cell_type": "code",
   "execution_count": 4,
   "metadata": {},
   "outputs": [
    {
     "data": {
      "text/plain": [
       "(193645, 2)"
      ]
     },
     "execution_count": 4,
     "metadata": {},
     "output_type": "execute_result"
    }
   ],
   "source": [
    "tt.shape"
   ]
  },
  {
   "cell_type": "code",
   "execution_count": 5,
   "metadata": {
    "scrolled": true
   },
   "outputs": [],
   "source": [
    "tt = tt.dropna()  # t값 순수하게 얻은거야"
   ]
  },
  {
   "cell_type": "code",
   "execution_count": 9,
   "metadata": {},
   "outputs": [
    {
     "data": {
      "text/plain": [
       "(127795, 2)"
      ]
     },
     "execution_count": 9,
     "metadata": {},
     "output_type": "execute_result"
    }
   ],
   "source": [
    "# nan값 제거하고 얻은 shape\n",
    "\n",
    "tt.shape"
   ]
  },
  {
   "cell_type": "code",
   "execution_count": 10,
   "metadata": {},
   "outputs": [],
   "source": [
    "tt = tt.iloc[:,1:]"
   ]
  },
  {
   "cell_type": "code",
   "execution_count": 12,
   "metadata": {
    "scrolled": true
   },
   "outputs": [
    {
     "data": {
      "text/html": [
       "<div>\n",
       "<style scoped>\n",
       "    .dataframe tbody tr th:only-of-type {\n",
       "        vertical-align: middle;\n",
       "    }\n",
       "\n",
       "    .dataframe tbody tr th {\n",
       "        vertical-align: top;\n",
       "    }\n",
       "\n",
       "    .dataframe thead th {\n",
       "        text-align: right;\n",
       "    }\n",
       "</style>\n",
       "<table border=\"1\" class=\"dataframe\">\n",
       "  <thead>\n",
       "    <tr style=\"text-align: right;\">\n",
       "      <th></th>\n",
       "      <th>0</th>\n",
       "    </tr>\n",
       "  </thead>\n",
       "  <tbody>\n",
       "    <tr>\n",
       "      <th>1</th>\n",
       "      <td>14.0</td>\n",
       "    </tr>\n",
       "    <tr>\n",
       "      <th>2</th>\n",
       "      <td>6.0</td>\n",
       "    </tr>\n",
       "    <tr>\n",
       "      <th>3</th>\n",
       "      <td>16.0</td>\n",
       "    </tr>\n",
       "    <tr>\n",
       "      <th>4</th>\n",
       "      <td>33.0</td>\n",
       "    </tr>\n",
       "    <tr>\n",
       "      <th>5</th>\n",
       "      <td>13.0</td>\n",
       "    </tr>\n",
       "  </tbody>\n",
       "</table>\n",
       "</div>"
      ],
      "text/plain": [
       "      0\n",
       "1  14.0\n",
       "2   6.0\n",
       "3  16.0\n",
       "4  33.0\n",
       "5  13.0"
      ]
     },
     "execution_count": 12,
     "metadata": {},
     "output_type": "execute_result"
    }
   ],
   "source": [
    "tt.head()"
   ]
  },
  {
   "cell_type": "code",
   "execution_count": 16,
   "metadata": {},
   "outputs": [],
   "source": [
    "# time 으로 column명 변경\n",
    "tt.columns = ['time']"
   ]
  },
  {
   "cell_type": "code",
   "execution_count": 18,
   "metadata": {},
   "outputs": [
    {
     "data": {
      "text/html": [
       "<div>\n",
       "<style scoped>\n",
       "    .dataframe tbody tr th:only-of-type {\n",
       "        vertical-align: middle;\n",
       "    }\n",
       "\n",
       "    .dataframe tbody tr th {\n",
       "        vertical-align: top;\n",
       "    }\n",
       "\n",
       "    .dataframe thead th {\n",
       "        text-align: right;\n",
       "    }\n",
       "</style>\n",
       "<table border=\"1\" class=\"dataframe\">\n",
       "  <thead>\n",
       "    <tr style=\"text-align: right;\">\n",
       "      <th></th>\n",
       "      <th>time</th>\n",
       "    </tr>\n",
       "  </thead>\n",
       "  <tbody>\n",
       "    <tr>\n",
       "      <th>1</th>\n",
       "      <td>14.0</td>\n",
       "    </tr>\n",
       "    <tr>\n",
       "      <th>2</th>\n",
       "      <td>6.0</td>\n",
       "    </tr>\n",
       "    <tr>\n",
       "      <th>3</th>\n",
       "      <td>16.0</td>\n",
       "    </tr>\n",
       "    <tr>\n",
       "      <th>4</th>\n",
       "      <td>33.0</td>\n",
       "    </tr>\n",
       "    <tr>\n",
       "      <th>5</th>\n",
       "      <td>13.0</td>\n",
       "    </tr>\n",
       "  </tbody>\n",
       "</table>\n",
       "</div>"
      ],
      "text/plain": [
       "   time\n",
       "1  14.0\n",
       "2   6.0\n",
       "3  16.0\n",
       "4  33.0\n",
       "5  13.0"
      ]
     },
     "execution_count": 18,
     "metadata": {},
     "output_type": "execute_result"
    }
   ],
   "source": [
    "tt.head(5)"
   ]
  },
  {
   "cell_type": "code",
   "execution_count": 19,
   "metadata": {
    "scrolled": true
   },
   "outputs": [
    {
     "data": {
      "text/plain": [
       "0.0      18423\n",
       "7.0       6008\n",
       "6.0       5743\n",
       "13.0      5272\n",
       "8.0       5054\n",
       "10.0      4637\n",
       "11.0      4628\n",
       "14.0      4627\n",
       "9.0       4616\n",
       "12.0      4562\n",
       "5.0       4030\n",
       "4.0       3113\n",
       "15.0      2907\n",
       "3.0       2686\n",
       "16.0      2641\n",
       "17.0      2544\n",
       "1.0       2279\n",
       "2.0       2264\n",
       "20.0      2259\n",
       "18.0      2183\n",
       "19.0      2109\n",
       "21.0      2093\n",
       "27.0      1770\n",
       "22.0      1537\n",
       "28.0      1520\n",
       "23.0      1381\n",
       "26.0      1241\n",
       "24.0      1234\n",
       "25.0      1105\n",
       "35.0      1015\n",
       "         ...  \n",
       "186.0        5\n",
       "176.0        5\n",
       "179.0        4\n",
       "184.0        4\n",
       "191.0        4\n",
       "180.0        4\n",
       "166.0        4\n",
       "175.0        4\n",
       "185.0        3\n",
       "187.0        3\n",
       "194.0        3\n",
       "195.0        3\n",
       "181.0        3\n",
       "198.0        2\n",
       "183.0        2\n",
       "172.0        2\n",
       "190.0        2\n",
       "188.0        2\n",
       "192.0        2\n",
       "182.0        2\n",
       "197.0        1\n",
       "203.0        1\n",
       "196.0        1\n",
       "207.0        1\n",
       "204.0        1\n",
       "199.0        1\n",
       "206.0        1\n",
       "193.0        1\n",
       "205.0        1\n",
       "201.0        1\n",
       "Name: time, Length: 205, dtype: int64"
      ]
     },
     "execution_count": 19,
     "metadata": {},
     "output_type": "execute_result"
    }
   ],
   "source": [
    "tt.time.value_counts()"
   ]
  },
  {
   "cell_type": "code",
   "execution_count": 20,
   "metadata": {},
   "outputs": [
    {
     "data": {
      "text/plain": [
       "array([[<matplotlib.axes._subplots.AxesSubplot object at 0x1099a5780>]],\n",
       "      dtype=object)"
      ]
     },
     "execution_count": 20,
     "metadata": {},
     "output_type": "execute_result"
    },
    {
     "data": {
      "image/png": "[encoded data removed]",
      "text/plain": [
       "<Figure size 432x288 with 1 Axes>"
      ]
     },
     "metadata": {
      "needs_background": "light"
     },
     "output_type": "display_data"
    }
   ],
   "source": [
    "# time=0 인 값이 너무 많아보여서, histogram으로 다시 한번.\n",
    "\n",
    "pd.DataFrame(tt).hist(bins=150, density = True)"
   ]
  },
  {
   "cell_type": "code",
   "execution_count": 21,
   "metadata": {},
   "outputs": [],
   "source": [
    "tmean = tt.mean()"
   ]
  },
  {
   "cell_type": "code",
   "execution_count": 22,
   "metadata": {},
   "outputs": [
    {
     "data": {
      "text/plain": [
       "time    18.494432\n",
       "dtype: float64"
      ]
     },
     "execution_count": 22,
     "metadata": {},
     "output_type": "execute_result"
    }
   ],
   "source": [
    "tmean"
   ]
  },
  {
   "cell_type": "markdown",
   "metadata": {},
   "source": [
    "# # drop 0 value"
   ]
  },
  {
   "cell_type": "code",
   "execution_count": 23,
   "metadata": {},
   "outputs": [],
   "source": [
    "tt_drop0 = tt[(tt[['time']] != 0).all(axis=1)]"
   ]
  },
  {
   "cell_type": "code",
   "execution_count": 25,
   "metadata": {
    "scrolled": true
   },
   "outputs": [
    {
     "data": {
      "text/html": [
       "<div>\n",
       "<style scoped>\n",
       "    .dataframe tbody tr th:only-of-type {\n",
       "        vertical-align: middle;\n",
       "    }\n",
       "\n",
       "    .dataframe tbody tr th {\n",
       "        vertical-align: top;\n",
       "    }\n",
       "\n",
       "    .dataframe thead th {\n",
       "        text-align: right;\n",
       "    }\n",
       "</style>\n",
       "<table border=\"1\" class=\"dataframe\">\n",
       "  <thead>\n",
       "    <tr style=\"text-align: right;\">\n",
       "      <th></th>\n",
       "      <th>time</th>\n",
       "    </tr>\n",
       "  </thead>\n",
       "  <tbody>\n",
       "    <tr>\n",
       "      <th>1</th>\n",
       "      <td>14.0</td>\n",
       "    </tr>\n",
       "    <tr>\n",
       "      <th>2</th>\n",
       "      <td>6.0</td>\n",
       "    </tr>\n",
       "    <tr>\n",
       "      <th>3</th>\n",
       "      <td>16.0</td>\n",
       "    </tr>\n",
       "    <tr>\n",
       "      <th>4</th>\n",
       "      <td>33.0</td>\n",
       "    </tr>\n",
       "    <tr>\n",
       "      <th>5</th>\n",
       "      <td>13.0</td>\n",
       "    </tr>\n",
       "  </tbody>\n",
       "</table>\n",
       "</div>"
      ],
      "text/plain": [
       "   time\n",
       "1  14.0\n",
       "2   6.0\n",
       "3  16.0\n",
       "4  33.0\n",
       "5  13.0"
      ]
     },
     "execution_count": 25,
     "metadata": {},
     "output_type": "execute_result"
    }
   ],
   "source": [
    "tt_drop0.head()"
   ]
  },
  {
   "cell_type": "code",
   "execution_count": 26,
   "metadata": {
    "scrolled": true
   },
   "outputs": [
    {
     "data": {
      "text/plain": [
       "7.0      6008\n",
       "6.0      5743\n",
       "13.0     5272\n",
       "8.0      5054\n",
       "10.0     4637\n",
       "11.0     4628\n",
       "14.0     4627\n",
       "9.0      4616\n",
       "12.0     4562\n",
       "5.0      4030\n",
       "4.0      3113\n",
       "15.0     2907\n",
       "3.0      2686\n",
       "16.0     2641\n",
       "17.0     2544\n",
       "1.0      2279\n",
       "2.0      2264\n",
       "20.0     2259\n",
       "18.0     2183\n",
       "19.0     2109\n",
       "21.0     2093\n",
       "27.0     1770\n",
       "22.0     1537\n",
       "28.0     1520\n",
       "23.0     1381\n",
       "26.0     1241\n",
       "24.0     1234\n",
       "25.0     1105\n",
       "35.0     1015\n",
       "29.0      989\n",
       "         ... \n",
       "186.0       5\n",
       "171.0       5\n",
       "184.0       4\n",
       "179.0       4\n",
       "191.0       4\n",
       "175.0       4\n",
       "180.0       4\n",
       "166.0       4\n",
       "195.0       3\n",
       "187.0       3\n",
       "194.0       3\n",
       "181.0       3\n",
       "185.0       3\n",
       "182.0       2\n",
       "172.0       2\n",
       "183.0       2\n",
       "198.0       2\n",
       "190.0       2\n",
       "188.0       2\n",
       "192.0       2\n",
       "205.0       1\n",
       "206.0       1\n",
       "203.0       1\n",
       "196.0       1\n",
       "207.0       1\n",
       "204.0       1\n",
       "193.0       1\n",
       "197.0       1\n",
       "201.0       1\n",
       "199.0       1\n",
       "Name: time, Length: 204, dtype: int64"
      ]
     },
     "execution_count": 26,
     "metadata": {},
     "output_type": "execute_result"
    }
   ],
   "source": [
    "tt_drop0.time.value_counts()"
   ]
  },
  {
   "cell_type": "code",
   "execution_count": 27,
   "metadata": {},
   "outputs": [
    {
     "data": {
      "text/plain": [
       "array([[<matplotlib.axes._subplots.AxesSubplot object at 0x10b335c88>]],\n",
       "      dtype=object)"
      ]
     },
     "execution_count": 27,
     "metadata": {},
     "output_type": "execute_result"
    },
    {
     "data": {
      "image/png": "[encoded data removed]",
      "text/plain": [
       "<Figure size 432x288 with 1 Axes>"
      ]
     },
     "metadata": {
      "needs_background": "light"
     },
     "output_type": "display_data"
    }
   ],
   "source": [
    "tt_drop0.hist(bins=200, density = True)"
   ]
  },
  {
   "cell_type": "markdown",
   "metadata": {},
   "source": [
    "# 2. 파라미터 추정"
   ]
  },
  {
   "cell_type": "markdown",
   "metadata": {},
   "source": [
    "### # (1) gamma.fit으로 parameters 추정해볼게."
   ]
  },
  {
   "cell_type": "code",
   "execution_count": 32,
   "metadata": {},
   "outputs": [
    {
     "data": {
      "text/plain": [
       "(0.9752616465168948, 0.9999999999999956, 20.573177920777216)"
      ]
     },
     "execution_count": 32,
     "metadata": {},
     "output_type": "execute_result"
    }
   ],
   "source": [
    "stats.gamma.fit(tt_drop0)"
   ]
  },
  {
   "cell_type": "code",
   "execution_count": 33,
   "metadata": {},
   "outputs": [],
   "source": [
    "alpha, loc0, scale = stats.gamma.fit(tt_drop0, loc=0)"
   ]
  },
  {
   "cell_type": "code",
   "execution_count": 34,
   "metadata": {
    "scrolled": true
   },
   "outputs": [
    {
     "data": {
      "text/plain": [
       "(0.8829582410358849, 0.9999999999999998, 22.828111994341413)"
      ]
     },
     "execution_count": 34,
     "metadata": {},
     "output_type": "execute_result"
    }
   ],
   "source": [
    "alpha, loc0, scale"
   ]
  },
  {
   "cell_type": "markdown",
   "metadata": {},
   "source": [
    "---"
   ]
  },
  {
   "cell_type": "markdown",
   "metadata": {},
   "source": [
    ": 추정된 parameters로 분포 확인해볼게"
   ]
  },
  {
   "cell_type": "code",
   "execution_count": 35,
   "metadata": {},
   "outputs": [],
   "source": [
    "y = stats.gamma.rvs(a = alpha , scale=scale , size = tt_drop0.shape[0])"
   ]
  },
  {
   "cell_type": "code",
   "execution_count": 48,
   "metadata": {},
   "outputs": [
    {
     "data": {
      "text/plain": [
       "array([22.82822501,  6.36287198, 98.93806278, ..., 93.11046289,\n",
       "       25.23990425,  0.5640729 ])"
      ]
     },
     "execution_count": 48,
     "metadata": {},
     "output_type": "execute_result"
    }
   ],
   "source": [
    "y"
   ]
  },
  {
   "cell_type": "code",
   "execution_count": 36,
   "metadata": {},
   "outputs": [
    {
     "data": {
      "image/png": "[encoded data removed]",
      "text/plain": [
       "<Figure size 432x288 with 1 Axes>"
      ]
     },
     "metadata": {
      "needs_background": "light"
     },
     "output_type": "display_data"
    }
   ],
   "source": [
    "plt.figure(figsize = (6,4))\n",
    "plt.hist(y, density=True, bins = 200)\n",
    "plt.xlim(-10,200)\n",
    "plt.show()"
   ]
  },
  {
   "cell_type": "code",
   "execution_count": 47,
   "metadata": {},
   "outputs": [
    {
     "data": {
      "image/png": "[encoded data removed]",
      "text/plain": [
       "<Figure size 864x576 with 4 Axes>"
      ]
     },
     "metadata": {
      "needs_background": "light"
     },
     "output_type": "display_data"
    }
   ],
   "source": [
    "plt.figure(figsize = (12,8))\n",
    "plt.subplot(2,2,1)\n",
    "plt.hist(tt_drop0.time, density=True, bins = 200)\n",
    "plt.xlim(-10,200)\n",
    "\n",
    "plt.subplot(2,2,2)\n",
    "plt.hist(y, density=True, bins = 200)\n",
    "plt.xlim(-10,200)\n",
    "\n",
    "plt.subplot(2,2,3)\n",
    "\n",
    "plt.hist(y, density=True, bins = 200, color='red')\n",
    "plt.hist(tt_drop0.time, density=True, bins = 200, color = 'blue')\n",
    "plt.xlim(-10,200)\n",
    "\n",
    "plt.subplot(2,2,4)\n",
    "plt.hist(tt_drop0.time, density=True, bins = 200, color = 'blue')\n",
    "plt.hist(y, density=True, bins = 200, color='red')\n",
    "plt.xlim(-10,200)\n",
    "\n",
    "\n",
    "plt.show()\n",
    "plt.close()"
   ]
  },
  {
   "cell_type": "markdown",
   "metadata": {},
   "source": [
    "# - 별로 안맞아보인다!"
   ]
  },
  {
   "cell_type": "markdown",
   "metadata": {},
   "source": [
    "---"
   ]
  },
  {
   "cell_type": "markdown",
   "metadata": {},
   "source": [
    "---"
   ]
  },
  {
   "cell_type": "code",
   "execution_count": 39,
   "metadata": {},
   "outputs": [],
   "source": [
    "import scipy.special as special"
   ]
  },
  {
   "cell_type": "code",
   "execution_count": 41,
   "metadata": {},
   "outputs": [
    {
     "data": {
      "text/plain": [
       "0.9227843350984671"
      ]
     },
     "execution_count": 41,
     "metadata": {},
     "output_type": "execute_result"
    }
   ],
   "source": [
    "special.digamma(3, out=None) "
   ]
  },
  {
   "cell_type": "markdown",
   "metadata": {},
   "source": [
    "### # (2) MLE\n",
    "\n",
    "- https://en.wikipedia.org/wiki/Gamma_distribution#Maximum_likelihood_estimation"
   ]
  },
  {
   "cell_type": "code",
   "execution_count": 37,
   "metadata": {
    "scrolled": true
   },
   "outputs": [],
   "source": [
    "# s값 계산\n",
    "s = np.log(tt_drop0.time.mean()) - np.log(tt_drop0.time).mean()"
   ]
  },
  {
   "cell_type": "code",
   "execution_count": 38,
   "metadata": {},
   "outputs": [
    {
     "data": {
      "text/plain": [
       "0.43790588832320054"
      ]
     },
     "execution_count": 38,
     "metadata": {},
     "output_type": "execute_result"
    }
   ],
   "source": [
    "s"
   ]
  },
  {
   "cell_type": "code",
   "execution_count": 45,
   "metadata": {},
   "outputs": [],
   "source": [
    "# k값 계산\n",
    "\n",
    "k_ = (3-s+np.sqrt((s-3)**2+24*s))/(12*s)"
   ]
  },
  {
   "cell_type": "code",
   "execution_count": 46,
   "metadata": {},
   "outputs": [
    {
     "data": {
      "text/plain": [
       "1.2738985255704063"
      ]
     },
     "execution_count": 46,
     "metadata": {},
     "output_type": "execute_result"
    }
   ],
   "source": [
    "k_"
   ]
  },
  {
   "cell_type": "code",
   "execution_count": null,
   "metadata": {},
   "outputs": [],
   "source": [
    "# update k : 음... 아직 못했어\n",
    "\n",
    "def updat(k, s):\n",
    "    u = (np.log(k)-special.digamma(k)-s)/(1/k - special.digamma(special.digamma))"
   ]
  },
  {
   "cell_type": "code",
   "execution_count": 49,
   "metadata": {},
   "outputs": [],
   "source": [
    "theta_ = tt_drop0.time.mean()/k_"
   ]
  },
  {
   "cell_type": "code",
   "execution_count": 50,
   "metadata": {},
   "outputs": [
    {
     "data": {
      "text/plain": [
       "16.96343827638159"
      ]
     },
     "execution_count": 50,
     "metadata": {},
     "output_type": "execute_result"
    }
   ],
   "source": [
    "theta_"
   ]
  },
  {
   "cell_type": "code",
   "execution_count": 51,
   "metadata": {},
   "outputs": [
    {
     "data": {
      "text/plain": [
       "(16.96343827638159, 1.2738985255704063)"
      ]
     },
     "execution_count": 51,
     "metadata": {},
     "output_type": "execute_result"
    }
   ],
   "source": [
    "theta_, k_"
   ]
  },
  {
   "cell_type": "code",
   "execution_count": 52,
   "metadata": {},
   "outputs": [
    {
     "data": {
      "text/plain": [
       "21.6096990088871"
      ]
     },
     "execution_count": 52,
     "metadata": {},
     "output_type": "execute_result"
    }
   ],
   "source": [
    "theta_*k_"
   ]
  },
  {
   "cell_type": "code",
   "execution_count": 54,
   "metadata": {},
   "outputs": [],
   "source": [
    "y = stats.gamma.rvs(a = k_ , scale=theta_ , size = tt_drop0.shape[0])"
   ]
  },
  {
   "cell_type": "code",
   "execution_count": 55,
   "metadata": {},
   "outputs": [
    {
     "data": {
      "image/png": "[encoded data removed]",
      "text/plain": [
       "<Figure size 864x576 with 4 Axes>"
      ]
     },
     "metadata": {
      "needs_background": "light"
     },
     "output_type": "display_data"
    }
   ],
   "source": [
    "plt.figure(figsize = (12,8))\n",
    "plt.subplot(2,2,1)\n",
    "plt.hist(tt_drop0.time, density=True, bins = 200)\n",
    "plt.xlim(-10,200)\n",
    "\n",
    "plt.subplot(2,2,2)\n",
    "plt.hist(y, density=True, bins = 200)\n",
    "plt.xlim(-10,200)\n",
    "\n",
    "plt.subplot(2,2,3)\n",
    "\n",
    "plt.hist(y, density=True, bins = 200, color='red')\n",
    "plt.hist(tt_drop0.time, density=True, bins = 200, color = 'blue')\n",
    "plt.xlim(-10,200)\n",
    "\n",
    "plt.subplot(2,2,4)\n",
    "plt.hist(tt_drop0.time, density=True, bins = 200, color = 'blue')\n",
    "plt.hist(y, density=True, bins = 200, color='red')\n",
    "plt.xlim(-10,200)\n",
    "\n",
    "\n",
    "plt.show()\n",
    "plt.close()"
   ]
  },
  {
   "cell_type": "code",
   "execution_count": 56,
   "metadata": {},
   "outputs": [
    {
     "data": {
      "text/plain": [
       "21.67705678720969"
      ]
     },
     "execution_count": 56,
     "metadata": {},
     "output_type": "execute_result"
    }
   ],
   "source": [
    "y.mean()"
   ]
  },
  {
   "cell_type": "markdown",
   "metadata": {},
   "source": [
    "### # (3) 1/t로 감마분포 추정해야하지않울까? -> poisson 분포와의 관계"
   ]
  },
  {
   "cell_type": "code",
   "execution_count": 57,
   "metadata": {
    "scrolled": true
   },
   "outputs": [
    {
     "data": {
      "text/html": [
       "<div>\n",
       "<style scoped>\n",
       "    .dataframe tbody tr th:only-of-type {\n",
       "        vertical-align: middle;\n",
       "    }\n",
       "\n",
       "    .dataframe tbody tr th {\n",
       "        vertical-align: top;\n",
       "    }\n",
       "\n",
       "    .dataframe thead th {\n",
       "        text-align: right;\n",
       "    }\n",
       "</style>\n",
       "<table border=\"1\" class=\"dataframe\">\n",
       "  <thead>\n",
       "    <tr style=\"text-align: right;\">\n",
       "      <th></th>\n",
       "      <th>time</th>\n",
       "    </tr>\n",
       "  </thead>\n",
       "  <tbody>\n",
       "    <tr>\n",
       "      <th>1</th>\n",
       "      <td>0.071429</td>\n",
       "    </tr>\n",
       "    <tr>\n",
       "      <th>2</th>\n",
       "      <td>0.166667</td>\n",
       "    </tr>\n",
       "    <tr>\n",
       "      <th>3</th>\n",
       "      <td>0.062500</td>\n",
       "    </tr>\n",
       "    <tr>\n",
       "      <th>4</th>\n",
       "      <td>0.030303</td>\n",
       "    </tr>\n",
       "    <tr>\n",
       "      <th>5</th>\n",
       "      <td>0.076923</td>\n",
       "    </tr>\n",
       "    <tr>\n",
       "      <th>6</th>\n",
       "      <td>0.200000</td>\n",
       "    </tr>\n",
       "    <tr>\n",
       "      <th>7</th>\n",
       "      <td>0.111111</td>\n",
       "    </tr>\n",
       "    <tr>\n",
       "      <th>8</th>\n",
       "      <td>0.050000</td>\n",
       "    </tr>\n",
       "    <tr>\n",
       "      <th>9</th>\n",
       "      <td>0.033333</td>\n",
       "    </tr>\n",
       "    <tr>\n",
       "      <th>11</th>\n",
       "      <td>0.071429</td>\n",
       "    </tr>\n",
       "  </tbody>\n",
       "</table>\n",
       "</div>"
      ],
      "text/plain": [
       "        time\n",
       "1   0.071429\n",
       "2   0.166667\n",
       "3   0.062500\n",
       "4   0.030303\n",
       "5   0.076923\n",
       "6   0.200000\n",
       "7   0.111111\n",
       "8   0.050000\n",
       "9   0.033333\n",
       "11  0.071429"
      ]
     },
     "execution_count": 57,
     "metadata": {},
     "output_type": "execute_result"
    }
   ],
   "source": [
    "1/tt_drop0[:10]"
   ]
  },
  {
   "cell_type": "code",
   "execution_count": 58,
   "metadata": {},
   "outputs": [],
   "source": [
    "tt_inver = 1/tt_drop0"
   ]
  },
  {
   "cell_type": "code",
   "execution_count": 62,
   "metadata": {},
   "outputs": [
    {
     "data": {
      "text/plain": [
       "array([[<matplotlib.axes._subplots.AxesSubplot object at 0x1a0e0c2b38>]],\n",
       "      dtype=object)"
      ]
     },
     "execution_count": 62,
     "metadata": {},
     "output_type": "execute_result"
    },
    {
     "data": {
      "image/png": "[encoded data removed]",
      "text/plain": [
       "<Figure size 432x288 with 1 Axes>"
      ]
     },
     "metadata": {
      "needs_background": "light"
     },
     "output_type": "display_data"
    }
   ],
   "source": [
    "tt_inver.hist(bins=150, density = True)"
   ]
  },
  {
   "cell_type": "code",
   "execution_count": 61,
   "metadata": {
    "scrolled": true
   },
   "outputs": [
    {
     "data": {
      "text/plain": [
       "0.142857    6008\n",
       "0.166667    5743\n",
       "0.076923    5272\n",
       "0.125000    5054\n",
       "0.100000    4637\n",
       "0.090909    4628\n",
       "0.071429    4627\n",
       "0.111111    4616\n",
       "0.083333    4562\n",
       "0.200000    4030\n",
       "0.250000    3113\n",
       "0.066667    2907\n",
       "0.333333    2686\n",
       "0.062500    2641\n",
       "0.058824    2544\n",
       "1.000000    2279\n",
       "0.500000    2264\n",
       "0.050000    2259\n",
       "0.055556    2183\n",
       "0.052632    2109\n",
       "0.047619    2093\n",
       "0.037037    1770\n",
       "0.045455    1537\n",
       "0.035714    1520\n",
       "0.043478    1381\n",
       "0.038462    1241\n",
       "0.041667    1234\n",
       "0.040000    1105\n",
       "0.028571    1015\n",
       "0.034483     989\n",
       "            ... \n",
       "0.005682       5\n",
       "0.005376       5\n",
       "0.005435       4\n",
       "0.005236       4\n",
       "0.005556       4\n",
       "0.006024       4\n",
       "0.005587       4\n",
       "0.005714       4\n",
       "0.005525       3\n",
       "0.005348       3\n",
       "0.005405       3\n",
       "0.005128       3\n",
       "0.005155       3\n",
       "0.005464       2\n",
       "0.005208       2\n",
       "0.005263       2\n",
       "0.005319       2\n",
       "0.005814       2\n",
       "0.005051       2\n",
       "0.005495       2\n",
       "0.005102       1\n",
       "0.005181       1\n",
       "0.004975       1\n",
       "0.004878       1\n",
       "0.004926       1\n",
       "0.005025       1\n",
       "0.004854       1\n",
       "0.004902       1\n",
       "0.004831       1\n",
       "0.005076       1\n",
       "Name: time, Length: 204, dtype: int64"
      ]
     },
     "execution_count": 61,
     "metadata": {},
     "output_type": "execute_result"
    }
   ],
   "source": [
    "tt_inver.time.value_counts()"
   ]
  },
  {
   "cell_type": "code",
   "execution_count": 292,
   "metadata": {},
   "outputs": [
    {
     "data": {
      "text/plain": [
       "(109372, 1)"
      ]
     },
     "execution_count": 292,
     "metadata": {},
     "output_type": "execute_result"
    }
   ],
   "source": [
    "tt_inver.shape"
   ]
  },
  {
   "cell_type": "code",
   "execution_count": 63,
   "metadata": {
    "scrolled": true
   },
   "outputs": [
    {
     "data": {
      "text/plain": [
       "(1.0251383646862091, 0.004830890237049062, 0.1084977910814053)"
      ]
     },
     "execution_count": 63,
     "metadata": {},
     "output_type": "execute_result"
    }
   ],
   "source": [
    "stats.gamma.fit(tt_inver, loc=0)"
   ]
  },
  {
   "cell_type": "code",
   "execution_count": 64,
   "metadata": {},
   "outputs": [],
   "source": [
    "aaa = 1.0251383646862091"
   ]
  },
  {
   "cell_type": "code",
   "execution_count": 65,
   "metadata": {},
   "outputs": [],
   "source": [
    "bbb = 1/0.1084977910814053"
   ]
  },
  {
   "cell_type": "code",
   "execution_count": 66,
   "metadata": {},
   "outputs": [
    {
     "data": {
      "text/plain": [
       "0.11122524812125778"
      ]
     },
     "execution_count": 66,
     "metadata": {},
     "output_type": "execute_result"
    }
   ],
   "source": [
    "aaa/bbb"
   ]
  },
  {
   "cell_type": "markdown",
   "metadata": {},
   "source": [
    ": 음..이게 맞는걸까? - 뒤에서 테스트 해보자!"
   ]
  },
  {
   "cell_type": "markdown",
   "metadata": {},
   "source": [
    "### # (4) sample mean, variance로 alpha, beta 그냥 써볼까?"
   ]
  },
  {
   "cell_type": "code",
   "execution_count": 69,
   "metadata": {},
   "outputs": [
    {
     "data": {
      "text/plain": [
       "time    21.609699\n",
       "dtype: float64"
      ]
     },
     "execution_count": 69,
     "metadata": {},
     "output_type": "execute_result"
    }
   ],
   "source": [
    "tt_drop0.mean()"
   ]
  },
  {
   "cell_type": "code",
   "execution_count": 70,
   "metadata": {},
   "outputs": [
    {
     "data": {
      "text/plain": [
       "time    559.288064\n",
       "dtype: float64"
      ]
     },
     "execution_count": 70,
     "metadata": {},
     "output_type": "execute_result"
    }
   ],
   "source": [
    "tt_drop0.var()"
   ]
  },
  {
   "cell_type": "markdown",
   "metadata": {},
   "source": [
    "####  a 와 b를 간단히 이렇게 정할 수 있어."
   ]
  },
  {
   "cell_type": "code",
   "execution_count": 71,
   "metadata": {},
   "outputs": [],
   "source": [
    "b = tt_drop0.mean()/tt_drop0.var()"
   ]
  },
  {
   "cell_type": "code",
   "execution_count": 72,
   "metadata": {},
   "outputs": [],
   "source": [
    "a = b*tt_drop0.mean()"
   ]
  },
  {
   "cell_type": "code",
   "execution_count": 75,
   "metadata": {},
   "outputs": [
    {
     "name": "stdout",
     "output_type": "stream",
     "text": [
      "time    0.834953\n",
      "dtype: float64\n",
      "time    0.038638\n",
      "dtype: float64\n"
     ]
    }
   ],
   "source": [
    "print(a)\n",
    "print(b)"
   ]
  },
  {
   "cell_type": "code",
   "execution_count": 76,
   "metadata": {},
   "outputs": [
    {
     "data": {
      "text/plain": [
       "time    21.609699\n",
       "dtype: float64"
      ]
     },
     "execution_count": 76,
     "metadata": {},
     "output_type": "execute_result"
    }
   ],
   "source": [
    "a/b"
   ]
  },
  {
   "cell_type": "code",
   "execution_count": null,
   "metadata": {},
   "outputs": [],
   "source": [
    "y = stats.gamma.pdf(x, a=a, scale=1/b)"
   ]
  },
  {
   "cell_type": "code",
   "execution_count": 77,
   "metadata": {},
   "outputs": [],
   "source": [
    "r = stats.gamma.rvs(a,scale=1/b , size = tt_drop0.shape[0])  # scale = 1/rate"
   ]
  },
  {
   "cell_type": "code",
   "execution_count": 86,
   "metadata": {
    "scrolled": true
   },
   "outputs": [
    {
     "data": {
      "text/plain": [
       "array([[<matplotlib.axes._subplots.AxesSubplot object at 0x1a0e4e9828>]],\n",
       "      dtype=object)"
      ]
     },
     "execution_count": 86,
     "metadata": {},
     "output_type": "execute_result"
    },
    {
     "data": {
      "image/png": "[encoded data removed]",
      "text/plain": [
       "<Figure size 432x288 with 1 Axes>"
      ]
     },
     "metadata": {
      "needs_background": "light"
     },
     "output_type": "display_data"
    }
   ],
   "source": [
    "tt_drop0.hist(bins = 150)"
   ]
  },
  {
   "cell_type": "code",
   "execution_count": 88,
   "metadata": {
    "scrolled": true
   },
   "outputs": [
    {
     "data": {
      "image/png": "[encoded data removed]",
      "text/plain": [
       "<Figure size 432x288 with 1 Axes>"
      ]
     },
     "metadata": {
      "needs_background": "light"
     },
     "output_type": "display_data"
    }
   ],
   "source": [
    "plt.figure()\n",
    "plt.hist(r,  bins = 150)\n",
    "plt.show()"
   ]
  },
  {
   "cell_type": "markdown",
   "metadata": {},
   "source": [
    "# 각각의 방법들 estimate 비교"
   ]
  },
  {
   "cell_type": "code",
   "execution_count": 90,
   "metadata": {},
   "outputs": [
    {
     "name": "stdout",
     "output_type": "stream",
     "text": [
      "0.8829582410358849 0.043805637551098314\n"
     ]
    }
   ],
   "source": [
    "# 1. stats.fit()\n",
    "print(alpha, 1/scale)"
   ]
  },
  {
   "cell_type": "code",
   "execution_count": 92,
   "metadata": {},
   "outputs": [
    {
     "name": "stdout",
     "output_type": "stream",
     "text": [
      "1.2738985255704063 0.05895031323881507\n"
     ]
    }
   ],
   "source": [
    "# 2. mle 계산..?\n",
    "print(k_, 1/theta_)"
   ]
  },
  {
   "cell_type": "code",
   "execution_count": 101,
   "metadata": {
    "scrolled": true
   },
   "outputs": [
    {
     "name": "stdout",
     "output_type": "stream",
     "text": [
      "[0.83495272] [0.03863787]\n"
     ]
    }
   ],
   "source": [
    "# 3. 데이터 mean, var\n",
    "print(a.values, b.values)"
   ]
  },
  {
   "cell_type": "markdown",
   "metadata": {},
   "source": [
    ": 결국에는, mle 손계산을 한번 찾아봐야 할 것 같다."
   ]
  },
  {
   "cell_type": "markdown",
   "metadata": {},
   "source": [
    "---"
   ]
  },
  {
   "cell_type": "markdown",
   "metadata": {},
   "source": [
    "---"
   ]
  },
  {
   "cell_type": "markdown",
   "metadata": {},
   "source": [
    "# 3. MPG"
   ]
  },
  {
   "cell_type": "code",
   "execution_count": 210,
   "metadata": {},
   "outputs": [],
   "source": [
    "test_id = bbfood_test.m_id.unique()[:30]"
   ]
  },
  {
   "cell_type": "markdown",
   "metadata": {},
   "source": [
    "### # t_ : elapsed time interval(the last purchase  by the customer and the current time:"
   ]
  },
  {
   "cell_type": "code",
   "execution_count": 121,
   "metadata": {},
   "outputs": [
    {
     "data": {
      "text/plain": [
       "Timestamp('2018-08-01 00:00:31')"
      ]
     },
     "execution_count": 121,
     "metadata": {},
     "output_type": "execute_result"
    }
   ],
   "source": [
    "bbfood_test[bbfood_test.m_id == test_id[0]].iloc[0].biz_dt    # test_data에서 첫 구매"
   ]
  },
  {
   "cell_type": "code",
   "execution_count": 122,
   "metadata": {},
   "outputs": [
    {
     "data": {
      "text/plain": [
       "Timestamp('2018-07-13 23:12:00')"
      ]
     },
     "execution_count": 122,
     "metadata": {},
     "output_type": "execute_result"
    }
   ],
   "source": [
    "bbfood_train[bbfood_train.m_id == test_id[0]].iloc[-1].biz_dt  "
   ]
  },
  {
   "cell_type": "markdown",
   "metadata": {},
   "source": [
    "---"
   ]
  },
  {
   "cell_type": "code",
   "execution_count": 123,
   "metadata": {},
   "outputs": [],
   "source": [
    "current = pd.to_datetime('2018-08-01')"
   ]
  },
  {
   "cell_type": "code",
   "execution_count": 124,
   "metadata": {},
   "outputs": [],
   "source": [
    "t_ = (current - bbfood_train[bbfood_train.m_id == test_id[0]].iloc[-1].biz_dt).days"
   ]
  },
  {
   "cell_type": "code",
   "execution_count": 125,
   "metadata": {},
   "outputs": [
    {
     "data": {
      "text/plain": [
       "18"
      ]
     },
     "execution_count": 125,
     "metadata": {},
     "output_type": "execute_result"
    }
   ],
   "source": [
    "t_"
   ]
  },
  {
   "cell_type": "markdown",
   "metadata": {},
   "source": [
    "### #  t_purch : elapsed time between first and last purcahse time "
   ]
  },
  {
   "cell_type": "code",
   "execution_count": 126,
   "metadata": {},
   "outputs": [],
   "source": [
    "t_purch = (bbfood_train[bbfood_train.m_id == test_id[0]].iloc[-1].biz_dt - bbfood_train[bbfood_train.m_id == test_id[0]].iloc[0].biz_dt).days"
   ]
  },
  {
   "cell_type": "markdown",
   "metadata": {},
   "source": [
    "### # aggregation t_mean"
   ]
  },
  {
   "cell_type": "code",
   "execution_count": 144,
   "metadata": {
    "scrolled": true
   },
   "outputs": [],
   "source": [
    "tmean = tt_drop0.time.mean()"
   ]
  },
  {
   "cell_type": "code",
   "execution_count": 145,
   "metadata": {},
   "outputs": [
    {
     "data": {
      "text/plain": [
       "21.6096990088871"
      ]
     },
     "execution_count": 145,
     "metadata": {},
     "output_type": "execute_result"
    }
   ],
   "source": [
    "tmean"
   ]
  },
  {
   "cell_type": "markdown",
   "metadata": {},
   "source": [
    "### # user's  t_mean"
   ]
  },
  {
   "cell_type": "code",
   "execution_count": 129,
   "metadata": {},
   "outputs": [],
   "source": [
    "tmean_user = bbfood_train.biz_dt[bbfood_train.m_id == test_id[0]].diff().mean().days"
   ]
  },
  {
   "cell_type": "code",
   "execution_count": 130,
   "metadata": {
    "scrolled": true
   },
   "outputs": [
    {
     "data": {
      "text/plain": [
       "4"
      ]
     },
     "execution_count": 130,
     "metadata": {},
     "output_type": "execute_result"
    }
   ],
   "source": [
    "tmean_user"
   ]
  },
  {
   "cell_type": "code",
   "execution_count": 132,
   "metadata": {},
   "outputs": [
    {
     "data": {
      "text/plain": [
       "(16.963438276425805, 1.2738985255670858)"
      ]
     },
     "execution_count": 132,
     "metadata": {},
     "output_type": "execute_result"
    }
   ],
   "source": [
    "theta_, k_"
   ]
  },
  {
   "cell_type": "code",
   "execution_count": 133,
   "metadata": {},
   "outputs": [
    {
     "data": {
      "text/plain": [
       "Timestamp('2018-08-01 00:00:00')"
      ]
     },
     "execution_count": 133,
     "metadata": {},
     "output_type": "execute_result"
    }
   ],
   "source": [
    "current"
   ]
  },
  {
   "cell_type": "code",
   "execution_count": 134,
   "metadata": {},
   "outputs": [
    {
     "data": {
      "text/plain": [
       "time    0.124813\n",
       "dtype: float64"
      ]
     },
     "execution_count": 134,
     "metadata": {},
     "output_type": "execute_result"
    }
   ],
   "source": [
    "(k+k_)/(t_purch+2*abs(tmean_user-tmean)+(1/theta_))"
   ]
  },
  {
   "cell_type": "markdown",
   "metadata": {},
   "source": [
    "- current가 7월17일이라면?"
   ]
  },
  {
   "cell_type": "code",
   "execution_count": 156,
   "metadata": {},
   "outputs": [],
   "source": [
    "current = pd.to_datetime('2018-07-17')"
   ]
  },
  {
   "cell_type": "markdown",
   "metadata": {},
   "source": [
    "---"
   ]
  },
  {
   "cell_type": "code",
   "execution_count": 136,
   "metadata": {},
   "outputs": [],
   "source": [
    "def func_lamb(train, test, test_id, current, alpha, beta, tmean):\n",
    "    t_ = (current - train[train.m_id == test_id].iloc[-1].biz_dt).days  # 구매이력이 없는사람은?\n",
    "    t_purch = (train[train.m_id == test_id].iloc[-1].biz_dt - train[train.m_id == test_id].iloc[0].biz_dt).days\n",
    "    k = train.biz_dt[train.m_id == test_id].shape[0]\n",
    "    if k <= 1 :\n",
    "        tmean_u = tmean\n",
    "    else:\n",
    "        tmean_u = train.biz_dt[train.m_id == test_id].diff().mean().days\n",
    "    lamb = (k+alpha)/(t_purch+2*abs(tmean_u-t_)+beta)\n",
    "    return lamb, tmean_u, k"
   ]
  },
  {
   "cell_type": "code",
   "execution_count": 138,
   "metadata": {},
   "outputs": [],
   "source": [
    "b=1/theta_"
   ]
  },
  {
   "cell_type": "code",
   "execution_count": 140,
   "metadata": {},
   "outputs": [
    {
     "data": {
      "text/plain": [
       "16.963438276425805"
      ]
     },
     "execution_count": 140,
     "metadata": {},
     "output_type": "execute_result"
    }
   ],
   "source": [
    "theta_"
   ]
  },
  {
   "cell_type": "code",
   "execution_count": 139,
   "metadata": {},
   "outputs": [
    {
     "data": {
      "text/plain": [
       "0.05895031323866142"
      ]
     },
     "execution_count": 139,
     "metadata": {},
     "output_type": "execute_result"
    }
   ],
   "source": [
    "b"
   ]
  },
  {
   "cell_type": "code",
   "execution_count": 141,
   "metadata": {},
   "outputs": [
    {
     "data": {
      "text/plain": [
       "1.2738985255670858"
      ]
     },
     "execution_count": 141,
     "metadata": {},
     "output_type": "execute_result"
    }
   ],
   "source": [
    "k_"
   ]
  },
  {
   "cell_type": "code",
   "execution_count": 143,
   "metadata": {},
   "outputs": [
    {
     "data": {
      "text/plain": [
       "time    21.609699\n",
       "dtype: float64"
      ]
     },
     "execution_count": 143,
     "metadata": {},
     "output_type": "execute_result"
    }
   ],
   "source": [
    "tmean"
   ]
  },
  {
   "cell_type": "code",
   "execution_count": 176,
   "metadata": {},
   "outputs": [],
   "source": [
    "current = pd.to_datetime('2018-07-18')"
   ]
  },
  {
   "cell_type": "code",
   "execution_count": 177,
   "metadata": {},
   "outputs": [],
   "source": [
    "f_lamb,_,__ = func_lamb(train = bbfood_train, test = bbfood_test, test_id=test_id[0], alpha = k_, beta=1/theta_, tmean=tmean, current=current)"
   ]
  },
  {
   "cell_type": "code",
   "execution_count": 178,
   "metadata": {},
   "outputs": [
    {
     "data": {
      "text/plain": [
       "0.27053795892119714"
      ]
     },
     "execution_count": 178,
     "metadata": {},
     "output_type": "execute_result"
    }
   ],
   "source": [
    "(1-stats.poisson.pmf(mu = f_lamb, k=0))"
   ]
  },
  {
   "cell_type": "code",
   "execution_count": 179,
   "metadata": {},
   "outputs": [
    {
     "data": {
      "text/plain": [
       "0.7294620410788029"
      ]
     },
     "execution_count": 179,
     "metadata": {},
     "output_type": "execute_result"
    }
   ],
   "source": [
    "stats.poisson.pmf(mu = f_lamb, k=0)"
   ]
  },
  {
   "cell_type": "code",
   "execution_count": 180,
   "metadata": {},
   "outputs": [],
   "source": [
    "current = pd.to_datetime('2018-08-01')"
   ]
  },
  {
   "cell_type": "code",
   "execution_count": 181,
   "metadata": {},
   "outputs": [],
   "source": [
    "f_lamb,_,__ = func_lamb(train = bbfood_train, test = bbfood_test, test_id=test_id[0], alpha = k_, beta=1/theta_, tmean=tmean, current=current)"
   ]
  },
  {
   "cell_type": "code",
   "execution_count": 182,
   "metadata": {},
   "outputs": [
    {
     "data": {
      "text/plain": [
       "0.13277844478049783"
      ]
     },
     "execution_count": 182,
     "metadata": {},
     "output_type": "execute_result"
    }
   ],
   "source": [
    "(1-stats.poisson.pmf(mu = f_lamb, k=0))"
   ]
  },
  {
   "cell_type": "code",
   "execution_count": null,
   "metadata": {},
   "outputs": [],
   "source": []
  },
  {
   "cell_type": "code",
   "execution_count": null,
   "metadata": {},
   "outputs": [],
   "source": []
  },
  {
   "cell_type": "code",
   "execution_count": null,
   "metadata": {},
   "outputs": [],
   "source": []
  },
  {
   "cell_type": "code",
   "execution_count": null,
   "metadata": {},
   "outputs": [],
   "source": []
  },
  {
   "cell_type": "code",
   "execution_count": null,
   "metadata": {},
   "outputs": [],
   "source": []
  },
  {
   "cell_type": "code",
   "execution_count": 183,
   "metadata": {},
   "outputs": [],
   "source": [
    "current_l = pd.date_range(current, periods=30).tolist()"
   ]
  },
  {
   "cell_type": "code",
   "execution_count": 186,
   "metadata": {},
   "outputs": [
    {
     "data": {
      "text/html": [
       "<div>\n",
       "<style scoped>\n",
       "    .dataframe tbody tr th:only-of-type {\n",
       "        vertical-align: middle;\n",
       "    }\n",
       "\n",
       "    .dataframe tbody tr th {\n",
       "        vertical-align: top;\n",
       "    }\n",
       "\n",
       "    .dataframe thead th {\n",
       "        text-align: right;\n",
       "    }\n",
       "</style>\n",
       "<table border=\"1\" class=\"dataframe\">\n",
       "  <thead>\n",
       "    <tr style=\"text-align: right;\">\n",
       "      <th></th>\n",
       "      <th>Unnamed: 0</th>\n",
       "      <th>biz_dt</th>\n",
       "      <th>m_id</th>\n",
       "      <th>order_price</th>\n",
       "      <th>prod_no</th>\n",
       "      <th>old_admin_category_id</th>\n",
       "      <th>serv_cd</th>\n",
       "    </tr>\n",
       "  </thead>\n",
       "  <tbody>\n",
       "    <tr>\n",
       "      <th>1377128</th>\n",
       "      <td>51377128</td>\n",
       "      <td>2018-04-23 00:34:21</td>\n",
       "      <td>16,577,539</td>\n",
       "      <td>20,340</td>\n",
       "      <td>1,659,313</td>\n",
       "      <td>241,010,303</td>\n",
       "      <td>1</td>\n",
       "    </tr>\n",
       "    <tr>\n",
       "      <th>2539464</th>\n",
       "      <td>62539464</td>\n",
       "      <td>2018-05-16 00:22:10</td>\n",
       "      <td>16,577,539</td>\n",
       "      <td>26,500</td>\n",
       "      <td>3,653,074</td>\n",
       "      <td>241,010,303</td>\n",
       "      <td>1</td>\n",
       "    </tr>\n",
       "    <tr>\n",
       "      <th>2083169</th>\n",
       "      <td>82083169</td>\n",
       "      <td>2018-06-27 19:52:33</td>\n",
       "      <td>16,577,539</td>\n",
       "      <td>25,000</td>\n",
       "      <td>2,886,735</td>\n",
       "      <td>241,010,303</td>\n",
       "      <td>1</td>\n",
       "    </tr>\n",
       "    <tr>\n",
       "      <th>4539894</th>\n",
       "      <td>94539894</td>\n",
       "      <td>2018-07-22 01:05:41</td>\n",
       "      <td>16,577,539</td>\n",
       "      <td>27,590</td>\n",
       "      <td>2,886,735</td>\n",
       "      <td>241,010,303</td>\n",
       "      <td>1</td>\n",
       "    </tr>\n",
       "  </tbody>\n",
       "</table>\n",
       "</div>"
      ],
      "text/plain": [
       "         Unnamed: 0              biz_dt        m_id order_price    prod_no  \\\n",
       "1377128    51377128 2018-04-23 00:34:21  16,577,539      20,340  1,659,313   \n",
       "2539464    62539464 2018-05-16 00:22:10  16,577,539      26,500  3,653,074   \n",
       "2083169    82083169 2018-06-27 19:52:33  16,577,539      25,000  2,886,735   \n",
       "4539894    94539894 2018-07-22 01:05:41  16,577,539      27,590  2,886,735   \n",
       "\n",
       "        old_admin_category_id  serv_cd  \n",
       "1377128           241,010,303        1  \n",
       "2539464           241,010,303        1  \n",
       "2083169           241,010,303        1  \n",
       "4539894           241,010,303        1  "
      ]
     },
     "execution_count": 186,
     "metadata": {},
     "output_type": "execute_result"
    }
   ],
   "source": [
    "bbfood_train[bbfood_train.m_id == test_id[7]]"
   ]
  },
  {
   "cell_type": "code",
   "execution_count": 189,
   "metadata": {},
   "outputs": [
    {
     "data": {
      "text/plain": [
       "0.048510003067078644"
      ]
     },
     "execution_count": 189,
     "metadata": {},
     "output_type": "execute_result"
    }
   ],
   "source": [
    "1-stats.poisson.pmf(mu = lamb, k=0)"
   ]
  },
  {
   "cell_type": "code",
   "execution_count": 200,
   "metadata": {},
   "outputs": [
    {
     "ename": "SyntaxError",
     "evalue": "EOL while scanning string literal (<ipython-input-200-5c36d90c7a2d>, line 4)",
     "output_type": "error",
     "traceback": [
      "\u001b[0;36m  File \u001b[0;32m\"<ipython-input-200-5c36d90c7a2d>\"\u001b[0;36m, line \u001b[0;32m4\u001b[0m\n\u001b[0;31m    print('current:',current_l[i], ', pred:',(1-stats.poisson.pmf(mu = lamb, k=0)),', tmean_u:',tmean_u,')\u001b[0m\n\u001b[0m                                                                                                          ^\u001b[0m\n\u001b[0;31mSyntaxError\u001b[0m\u001b[0;31m:\u001b[0m EOL while scanning string literal\n"
     ]
    }
   ],
   "source": [
    "for i in range(30):\n",
    "    lamb, tmean_u, k = func_lamb(train = bbfood_train, test = bbfood_test, test_id=test_id[7], \n",
    "              alpha = k_ , beta=1/theta_, tmean=tmean, current=current_l[i])\n",
    "    print('current:',current_l[i], ', pred:',(1-stats.poisson.pmf(mu = lamb, k=0)),', tmean_u:',tmean_u,')\n"
   ]
  },
  {
   "cell_type": "markdown",
   "metadata": {},
   "source": [
    "---"
   ]
  },
  {
   "cell_type": "markdown",
   "metadata": {},
   "source": [
    "---"
   ]
  },
  {
   "cell_type": "code",
   "execution_count": 191,
   "metadata": {},
   "outputs": [
    {
     "data": {
      "text/html": [
       "<div>\n",
       "<style scoped>\n",
       "    .dataframe tbody tr th:only-of-type {\n",
       "        vertical-align: middle;\n",
       "    }\n",
       "\n",
       "    .dataframe tbody tr th {\n",
       "        vertical-align: top;\n",
       "    }\n",
       "\n",
       "    .dataframe thead th {\n",
       "        text-align: right;\n",
       "    }\n",
       "</style>\n",
       "<table border=\"1\" class=\"dataframe\">\n",
       "  <thead>\n",
       "    <tr style=\"text-align: right;\">\n",
       "      <th></th>\n",
       "      <th>Unnamed: 0</th>\n",
       "      <th>biz_dt</th>\n",
       "      <th>m_id</th>\n",
       "      <th>order_price</th>\n",
       "      <th>prod_no</th>\n",
       "      <th>old_admin_category_id</th>\n",
       "      <th>serv_cd</th>\n",
       "    </tr>\n",
       "  </thead>\n",
       "  <tbody>\n",
       "    <tr>\n",
       "      <th>4882791</th>\n",
       "      <td>94882791</td>\n",
       "      <td>2018-07-22 21:59:46</td>\n",
       "      <td>20,348,231</td>\n",
       "      <td>20,300</td>\n",
       "      <td>3,849,094</td>\n",
       "      <td>241,010,303</td>\n",
       "      <td>1</td>\n",
       "    </tr>\n",
       "    <tr>\n",
       "      <th>4889322</th>\n",
       "      <td>94889322</td>\n",
       "      <td>2018-07-22 22:10:47</td>\n",
       "      <td>20,348,231</td>\n",
       "      <td>25,000</td>\n",
       "      <td>3,838,653</td>\n",
       "      <td>241,010,303</td>\n",
       "      <td>1</td>\n",
       "    </tr>\n",
       "  </tbody>\n",
       "</table>\n",
       "</div>"
      ],
      "text/plain": [
       "         Unnamed: 0              biz_dt        m_id order_price    prod_no  \\\n",
       "4882791    94882791 2018-07-22 21:59:46  20,348,231      20,300  3,849,094   \n",
       "4889322    94889322 2018-07-22 22:10:47  20,348,231      25,000  3,838,653   \n",
       "\n",
       "        old_admin_category_id  serv_cd  \n",
       "4882791           241,010,303        1  \n",
       "4889322           241,010,303        1  "
      ]
     },
     "execution_count": 191,
     "metadata": {},
     "output_type": "execute_result"
    }
   ],
   "source": [
    "bbfood_train[bbfood_train.m_id == test_id[8]]"
   ]
  },
  {
   "cell_type": "code",
   "execution_count": 194,
   "metadata": {},
   "outputs": [
    {
     "data": {
      "text/html": [
       "<div>\n",
       "<style scoped>\n",
       "    .dataframe tbody tr th:only-of-type {\n",
       "        vertical-align: middle;\n",
       "    }\n",
       "\n",
       "    .dataframe tbody tr th {\n",
       "        vertical-align: top;\n",
       "    }\n",
       "\n",
       "    .dataframe thead th {\n",
       "        text-align: right;\n",
       "    }\n",
       "</style>\n",
       "<table border=\"1\" class=\"dataframe\">\n",
       "  <thead>\n",
       "    <tr style=\"text-align: right;\">\n",
       "      <th></th>\n",
       "      <th>Unnamed: 0</th>\n",
       "      <th>biz_dt</th>\n",
       "      <th>m_id</th>\n",
       "      <th>order_price</th>\n",
       "      <th>prod_no</th>\n",
       "      <th>old_admin_category_id</th>\n",
       "      <th>serv_cd</th>\n",
       "    </tr>\n",
       "  </thead>\n",
       "  <tbody>\n",
       "    <tr>\n",
       "      <th>9117865</th>\n",
       "      <td>99117865</td>\n",
       "      <td>2018-08-01 00:09:07</td>\n",
       "      <td>20,348,231</td>\n",
       "      <td>31,080</td>\n",
       "      <td>3,848,355</td>\n",
       "      <td>241,010,303</td>\n",
       "      <td>1</td>\n",
       "    </tr>\n",
       "  </tbody>\n",
       "</table>\n",
       "</div>"
      ],
      "text/plain": [
       "         Unnamed: 0              biz_dt        m_id order_price    prod_no  \\\n",
       "9117865    99117865 2018-08-01 00:09:07  20,348,231      31,080  3,848,355   \n",
       "\n",
       "        old_admin_category_id  serv_cd  \n",
       "9117865           241,010,303        1  "
      ]
     },
     "execution_count": 194,
     "metadata": {},
     "output_type": "execute_result"
    }
   ],
   "source": [
    "bbfood_test[bbfood_test.m_id == test_id[8]][:1]"
   ]
  },
  {
   "cell_type": "code",
   "execution_count": 190,
   "metadata": {
    "scrolled": true
   },
   "outputs": [
    {
     "name": "stdout",
     "output_type": "stream",
     "text": [
      "current: 2018-08-01 00:00:00 , pred: 0.16580619629084803 , tmean_u: 0 , k: 2\n",
      "current: 2018-08-02 00:00:00 , pred: 0.15059047799733416 , tmean_u: 0 , k: 2\n",
      "current: 2018-08-03 00:00:00 , pred: 0.13792747845432696 , tmean_u: 0 , k: 2\n",
      "current: 2018-08-04 00:00:00 , pred: 0.12722561653116615 , tmean_u: 0 , k: 2\n",
      "current: 2018-08-05 00:00:00 , pred: 0.11806270612672454 , tmean_u: 0 , k: 2\n",
      "current: 2018-08-06 00:00:00 , pred: 0.1101294661755644 , tmean_u: 0 , k: 2\n",
      "current: 2018-08-07 00:00:00 , pred: 0.10319419112827699 , tmean_u: 0 , k: 2\n",
      "current: 2018-08-08 00:00:00 , pred: 0.09707989025606756 , tmean_u: 0 , k: 2\n",
      "current: 2018-08-09 00:00:00 , pred: 0.09164905282229452 , tmean_u: 0 , k: 2\n",
      "current: 2018-08-10 00:00:00 , pred: 0.08679323054721677 , tmean_u: 0 , k: 2\n",
      "current: 2018-08-11 00:00:00 , pred: 0.08242575074345049 , tmean_u: 0 , k: 2\n",
      "current: 2018-08-12 00:00:00 , pred: 0.07847651567425706 , tmean_u: 0 , k: 2\n",
      "current: 2018-08-13 00:00:00 , pred: 0.07488822350701496 , tmean_u: 0 , k: 2\n",
      "current: 2018-08-14 00:00:00 , pred: 0.07161357752958253 , tmean_u: 0 , k: 2\n",
      "current: 2018-08-15 00:00:00 , pred: 0.06861319486964212 , tmean_u: 0 , k: 2\n",
      "current: 2018-08-16 00:00:00 , pred: 0.06585401846918637 , tmean_u: 0 , k: 2\n",
      "current: 2018-08-17 00:00:00 , pred: 0.06330809653537606 , tmean_u: 0 , k: 2\n",
      "current: 2018-08-18 00:00:00 , pred: 0.06095163398386494 , tmean_u: 0 , k: 2\n",
      "current: 2018-08-19 00:00:00 , pred: 0.05876424771929423 , tmean_u: 0 , k: 2\n",
      "current: 2018-08-20 00:00:00 , pred: 0.05672837643405171 , tmean_u: 0 , k: 2\n",
      "current: 2018-08-21 00:00:00 , pred: 0.05482880878375973 , tmean_u: 0 , k: 2\n",
      "current: 2018-08-22 00:00:00 , pred: 0.053052303143683144 , tmean_u: 0 , k: 2\n",
      "current: 2018-08-23 00:00:00 , pred: 0.05138727886314731 , tmean_u: 0 , k: 2\n",
      "current: 2018-08-24 00:00:00 , pred: 0.049823563813988225 , tmean_u: 0 , k: 2\n",
      "current: 2018-08-25 00:00:00 , pred: 0.04835218661419016 , tmean_u: 0 , k: 2\n",
      "current: 2018-08-26 00:00:00 , pred: 0.04696520456939712 , tmean_u: 0 , k: 2\n",
      "current: 2018-08-27 00:00:00 , pred: 0.04565556036988028 , tmean_u: 0 , k: 2\n",
      "current: 2018-08-28 00:00:00 , pred: 0.04441696208925594 , tmean_u: 0 , k: 2\n",
      "current: 2018-08-29 00:00:00 , pred: 0.043243782181944024 , tmean_u: 0 , k: 2\n",
      "current: 2018-08-30 00:00:00 , pred: 0.042130972060978045 , tmean_u: 0 , k: 2\n"
     ]
    }
   ],
   "source": [
    "for i in range(30):\n",
    "    lamb, tmean_u, k = func_lamb(train = bbfood_train, test = bbfood_test, test_id=test_id[8], \n",
    "              alpha = k_ , beta=1/theta_, tmean=tmean, current=current_l[i])\n",
    "    print('current:',current_l[i], ', pred:',(1-stats.poisson.pmf(mu = lamb, k=0)),', tmean_u:',tmean_u,', k:',k)\n"
   ]
  },
  {
   "cell_type": "code",
   "execution_count": null,
   "metadata": {},
   "outputs": [],
   "source": []
  },
  {
   "cell_type": "code",
   "execution_count": 207,
   "metadata": {},
   "outputs": [
    {
     "data": {
      "text/html": [
       "<div>\n",
       "<style scoped>\n",
       "    .dataframe tbody tr th:only-of-type {\n",
       "        vertical-align: middle;\n",
       "    }\n",
       "\n",
       "    .dataframe tbody tr th {\n",
       "        vertical-align: top;\n",
       "    }\n",
       "\n",
       "    .dataframe thead th {\n",
       "        text-align: right;\n",
       "    }\n",
       "</style>\n",
       "<table border=\"1\" class=\"dataframe\">\n",
       "  <thead>\n",
       "    <tr style=\"text-align: right;\">\n",
       "      <th></th>\n",
       "      <th>Unnamed: 0</th>\n",
       "      <th>biz_dt</th>\n",
       "      <th>m_id</th>\n",
       "      <th>order_price</th>\n",
       "      <th>prod_no</th>\n",
       "      <th>old_admin_category_id</th>\n",
       "      <th>serv_cd</th>\n",
       "    </tr>\n",
       "  </thead>\n",
       "  <tbody>\n",
       "    <tr>\n",
       "      <th>7818602</th>\n",
       "      <td>77818602</td>\n",
       "      <td>2018-06-17 23:28:38</td>\n",
       "      <td>6,009,922</td>\n",
       "      <td>35,800</td>\n",
       "      <td>1,657,530</td>\n",
       "      <td>241,010,303</td>\n",
       "      <td>1</td>\n",
       "    </tr>\n",
       "    <tr>\n",
       "      <th>9527974</th>\n",
       "      <td>89527974</td>\n",
       "      <td>2018-07-11 12:57:57</td>\n",
       "      <td>6,009,922</td>\n",
       "      <td>32,720</td>\n",
       "      <td>1,657,530</td>\n",
       "      <td>241,010,303</td>\n",
       "      <td>1</td>\n",
       "    </tr>\n",
       "    <tr>\n",
       "      <th>4823402</th>\n",
       "      <td>94823402</td>\n",
       "      <td>2018-07-22 19:52:14</td>\n",
       "      <td>6,009,922</td>\n",
       "      <td>42,760</td>\n",
       "      <td>1,657,530</td>\n",
       "      <td>241,010,303</td>\n",
       "      <td>1</td>\n",
       "    </tr>\n",
       "  </tbody>\n",
       "</table>\n",
       "</div>"
      ],
      "text/plain": [
       "         Unnamed: 0              biz_dt       m_id order_price    prod_no  \\\n",
       "7818602    77818602 2018-06-17 23:28:38  6,009,922      35,800  1,657,530   \n",
       "9527974    89527974 2018-07-11 12:57:57  6,009,922      32,720  1,657,530   \n",
       "4823402    94823402 2018-07-22 19:52:14  6,009,922      42,760  1,657,530   \n",
       "\n",
       "        old_admin_category_id  serv_cd  \n",
       "7818602           241,010,303        1  \n",
       "9527974           241,010,303        1  \n",
       "4823402           241,010,303        1  "
      ]
     },
     "execution_count": 207,
     "metadata": {},
     "output_type": "execute_result"
    }
   ],
   "source": [
    "bbfood_train[bbfood_train.m_id == test_id[6]]"
   ]
  },
  {
   "cell_type": "code",
   "execution_count": 208,
   "metadata": {},
   "outputs": [
    {
     "data": {
      "text/html": [
       "<div>\n",
       "<style scoped>\n",
       "    .dataframe tbody tr th:only-of-type {\n",
       "        vertical-align: middle;\n",
       "    }\n",
       "\n",
       "    .dataframe tbody tr th {\n",
       "        vertical-align: top;\n",
       "    }\n",
       "\n",
       "    .dataframe thead th {\n",
       "        text-align: right;\n",
       "    }\n",
       "</style>\n",
       "<table border=\"1\" class=\"dataframe\">\n",
       "  <thead>\n",
       "    <tr style=\"text-align: right;\">\n",
       "      <th></th>\n",
       "      <th>Unnamed: 0</th>\n",
       "      <th>biz_dt</th>\n",
       "      <th>m_id</th>\n",
       "      <th>order_price</th>\n",
       "      <th>prod_no</th>\n",
       "      <th>old_admin_category_id</th>\n",
       "      <th>serv_cd</th>\n",
       "    </tr>\n",
       "  </thead>\n",
       "  <tbody>\n",
       "    <tr>\n",
       "      <th>9116842</th>\n",
       "      <td>99116842</td>\n",
       "      <td>2018-08-01 00:07:54</td>\n",
       "      <td>6,009,922</td>\n",
       "      <td>32,320</td>\n",
       "      <td>1,657,530</td>\n",
       "      <td>241,010,303</td>\n",
       "      <td>1</td>\n",
       "    </tr>\n",
       "  </tbody>\n",
       "</table>\n",
       "</div>"
      ],
      "text/plain": [
       "         Unnamed: 0              biz_dt       m_id order_price    prod_no  \\\n",
       "9116842    99116842 2018-08-01 00:07:54  6,009,922      32,320  1,657,530   \n",
       "\n",
       "        old_admin_category_id  serv_cd  \n",
       "9116842           241,010,303        1  "
      ]
     },
     "execution_count": 208,
     "metadata": {},
     "output_type": "execute_result"
    }
   ],
   "source": [
    "bbfood_test[bbfood_test.m_id == test_id[6]][:1]"
   ]
  },
  {
   "cell_type": "code",
   "execution_count": 209,
   "metadata": {
    "scrolled": true
   },
   "outputs": [
    {
     "name": "stdout",
     "output_type": "stream",
     "text": [
      "current: 2018-08-01 00:00:00 , pred: 0.08183421421315595 , tmean_u: 17 , k: 3\n",
      "current: 2018-08-02 00:00:00 , pred: 0.08509069100247868 , tmean_u: 17 , k: 3\n",
      "current: 2018-08-03 00:00:00 , pred: 0.0886168806694475 , tmean_u: 17 , k: 3\n",
      "current: 2018-08-04 00:00:00 , pred: 0.09244770873096742 , tmean_u: 17 , k: 3\n",
      "current: 2018-08-05 00:00:00 , pred: 0.09662439658483668 , tmean_u: 17 , k: 3\n",
      "current: 2018-08-06 00:00:00 , pred: 0.10119594542300936 , tmean_u: 17 , k: 3\n",
      "current: 2018-08-07 00:00:00 , pred: 0.10622106001752385 , tmean_u: 17 , k: 3\n",
      "current: 2018-08-08 00:00:00 , pred: 0.11177067215152592 , tmean_u: 17 , k: 3\n",
      "current: 2018-08-09 00:00:00 , pred: 0.1179312932870189 , tmean_u: 17 , k: 3\n",
      "current: 2018-08-10 00:00:00 , pred: 0.11177067215152592 , tmean_u: 17 , k: 3\n",
      "current: 2018-08-11 00:00:00 , pred: 0.10622106001752385 , tmean_u: 17 , k: 3\n",
      "current: 2018-08-12 00:00:00 , pred: 0.10119594542300936 , tmean_u: 17 , k: 3\n",
      "current: 2018-08-13 00:00:00 , pred: 0.09662439658483668 , tmean_u: 17 , k: 3\n",
      "current: 2018-08-14 00:00:00 , pred: 0.09244770873096742 , tmean_u: 17 , k: 3\n",
      "current: 2018-08-15 00:00:00 , pred: 0.0886168806694475 , tmean_u: 17 , k: 3\n",
      "current: 2018-08-16 00:00:00 , pred: 0.08509069100247868 , tmean_u: 17 , k: 3\n",
      "current: 2018-08-17 00:00:00 , pred: 0.08183421421315595 , tmean_u: 17 , k: 3\n",
      "current: 2018-08-18 00:00:00 , pred: 0.0788176636811746 , tmean_u: 17 , k: 3\n",
      "current: 2018-08-19 00:00:00 , pred: 0.07601548062950825 , tmean_u: 17 , k: 3\n",
      "current: 2018-08-20 00:00:00 , pred: 0.07340561013903968 , tmean_u: 17 , k: 3\n",
      "current: 2018-08-21 00:00:00 , pred: 0.07096892092724283 , tmean_u: 17 , k: 3\n",
      "current: 2018-08-22 00:00:00 , pred: 0.06868873667012687 , tmean_u: 17 , k: 3\n",
      "current: 2018-08-23 00:00:00 , pred: 0.0665504546393133 , tmean_u: 17 , k: 3\n",
      "current: 2018-08-24 00:00:00 , pred: 0.06454123325651928 , tmean_u: 17 , k: 3\n",
      "current: 2018-08-25 00:00:00 , pred: 0.06264973446653099 , tmean_u: 17 , k: 3\n",
      "current: 2018-08-26 00:00:00 , pred: 0.060865910031114745 , tmean_u: 17 , k: 3\n",
      "current: 2018-08-27 00:00:00 , pred: 0.05918082325280449 , tmean_u: 17 , k: 3\n",
      "current: 2018-08-28 00:00:00 , pred: 0.05758649946243988 , tmean_u: 17 , k: 3\n",
      "current: 2018-08-29 00:00:00 , pred: 0.056075799999716236 , tmean_u: 17 , k: 3\n",
      "current: 2018-08-30 00:00:00 , pred: 0.054642315491287397 , tmean_u: 17 , k: 3\n"
     ]
    }
   ],
   "source": [
    "for i in range(30):\n",
    "    lamb, tmean_u, k = func_lamb(train = bbfood_train, test = bbfood_test, test_id=test_id[6], \n",
    "              alpha = k_ , beta=1/theta_, tmean=tmean, current=current_l[i])\n",
    "    print('current:',current_l[i], ', pred:',(1-stats.poisson.pmf(mu = lamb, k=0)),', tmean_u:',tmean_u,', k:',k)\n"
   ]
  },
  {
   "cell_type": "code",
   "execution_count": null,
   "metadata": {},
   "outputs": [],
   "source": []
  },
  {
   "cell_type": "code",
   "execution_count": 215,
   "metadata": {},
   "outputs": [],
   "source": [
    "current = pd.to_datetime('2018-07-20')"
   ]
  },
  {
   "cell_type": "code",
   "execution_count": 216,
   "metadata": {},
   "outputs": [],
   "source": [
    "current_l = pd.date_range(current, periods=30).tolist()"
   ]
  },
  {
   "cell_type": "code",
   "execution_count": 217,
   "metadata": {},
   "outputs": [
    {
     "data": {
      "text/html": [
       "<div>\n",
       "<style scoped>\n",
       "    .dataframe tbody tr th:only-of-type {\n",
       "        vertical-align: middle;\n",
       "    }\n",
       "\n",
       "    .dataframe tbody tr th {\n",
       "        vertical-align: top;\n",
       "    }\n",
       "\n",
       "    .dataframe thead th {\n",
       "        text-align: right;\n",
       "    }\n",
       "</style>\n",
       "<table border=\"1\" class=\"dataframe\">\n",
       "  <thead>\n",
       "    <tr style=\"text-align: right;\">\n",
       "      <th></th>\n",
       "      <th>Unnamed: 0</th>\n",
       "      <th>biz_dt</th>\n",
       "      <th>m_id</th>\n",
       "      <th>order_price</th>\n",
       "      <th>prod_no</th>\n",
       "      <th>old_admin_category_id</th>\n",
       "      <th>serv_cd</th>\n",
       "    </tr>\n",
       "  </thead>\n",
       "  <tbody>\n",
       "    <tr>\n",
       "      <th>1495129</th>\n",
       "      <td>1495129</td>\n",
       "      <td>2018-01-02 23:52:33</td>\n",
       "      <td>1,558,980</td>\n",
       "      <td>18,060</td>\n",
       "      <td>2,210,482</td>\n",
       "      <td>241,010,303</td>\n",
       "      <td>1</td>\n",
       "    </tr>\n",
       "    <tr>\n",
       "      <th>4520637</th>\n",
       "      <td>4520637</td>\n",
       "      <td>2018-01-09 23:31:24</td>\n",
       "      <td>1,558,980</td>\n",
       "      <td>20,280</td>\n",
       "      <td>1,469,081</td>\n",
       "      <td>241,010,303</td>\n",
       "      <td>1</td>\n",
       "    </tr>\n",
       "    <tr>\n",
       "      <th>1074065</th>\n",
       "      <td>11074065</td>\n",
       "      <td>2018-01-24 23:22:00</td>\n",
       "      <td>1,558,980</td>\n",
       "      <td>20,280</td>\n",
       "      <td>1,657,529</td>\n",
       "      <td>241,010,303</td>\n",
       "      <td>1</td>\n",
       "    </tr>\n",
       "    <tr>\n",
       "      <th>7466415</th>\n",
       "      <td>17466415</td>\n",
       "      <td>2018-02-06 22:52:38</td>\n",
       "      <td>1,558,980</td>\n",
       "      <td>29,000</td>\n",
       "      <td>3,255,617</td>\n",
       "      <td>241,010,303</td>\n",
       "      <td>1</td>\n",
       "    </tr>\n",
       "    <tr>\n",
       "      <th>2428054</th>\n",
       "      <td>22428054</td>\n",
       "      <td>2018-02-20 23:20:42</td>\n",
       "      <td>1,558,980</td>\n",
       "      <td>23,660</td>\n",
       "      <td>1,657,529</td>\n",
       "      <td>241,010,303</td>\n",
       "      <td>1</td>\n",
       "    </tr>\n",
       "    <tr>\n",
       "      <th>4916814</th>\n",
       "      <td>24916814</td>\n",
       "      <td>2018-02-26 23:50:06</td>\n",
       "      <td>1,558,980</td>\n",
       "      <td>13,300</td>\n",
       "      <td>3,335,544</td>\n",
       "      <td>241,010,303</td>\n",
       "      <td>1</td>\n",
       "    </tr>\n",
       "    <tr>\n",
       "      <th>2379159</th>\n",
       "      <td>52379159</td>\n",
       "      <td>2018-04-24 22:10:23</td>\n",
       "      <td>1,558,980</td>\n",
       "      <td>30,420</td>\n",
       "      <td>1,657,529</td>\n",
       "      <td>241,010,303</td>\n",
       "      <td>1</td>\n",
       "    </tr>\n",
       "    <tr>\n",
       "      <th>1656291</th>\n",
       "      <td>81656291</td>\n",
       "      <td>2018-06-26 21:55:25</td>\n",
       "      <td>1,558,980</td>\n",
       "      <td>27,120</td>\n",
       "      <td>1,659,313</td>\n",
       "      <td>241,010,303</td>\n",
       "      <td>1</td>\n",
       "    </tr>\n",
       "    <tr>\n",
       "      <th>9415838</th>\n",
       "      <td>89415838</td>\n",
       "      <td>2018-07-11 08:57:15</td>\n",
       "      <td>1,558,980</td>\n",
       "      <td>27,120</td>\n",
       "      <td>1,659,313</td>\n",
       "      <td>241,010,303</td>\n",
       "      <td>1</td>\n",
       "    </tr>\n",
       "  </tbody>\n",
       "</table>\n",
       "</div>"
      ],
      "text/plain": [
       "         Unnamed: 0              biz_dt       m_id order_price    prod_no  \\\n",
       "1495129     1495129 2018-01-02 23:52:33  1,558,980      18,060  2,210,482   \n",
       "4520637     4520637 2018-01-09 23:31:24  1,558,980      20,280  1,469,081   \n",
       "1074065    11074065 2018-01-24 23:22:00  1,558,980      20,280  1,657,529   \n",
       "7466415    17466415 2018-02-06 22:52:38  1,558,980      29,000  3,255,617   \n",
       "2428054    22428054 2018-02-20 23:20:42  1,558,980      23,660  1,657,529   \n",
       "4916814    24916814 2018-02-26 23:50:06  1,558,980      13,300  3,335,544   \n",
       "2379159    52379159 2018-04-24 22:10:23  1,558,980      30,420  1,657,529   \n",
       "1656291    81656291 2018-06-26 21:55:25  1,558,980      27,120  1,659,313   \n",
       "9415838    89415838 2018-07-11 08:57:15  1,558,980      27,120  1,659,313   \n",
       "\n",
       "        old_admin_category_id  serv_cd  \n",
       "1495129           241,010,303        1  \n",
       "4520637           241,010,303        1  \n",
       "1074065           241,010,303        1  \n",
       "7466415           241,010,303        1  \n",
       "2428054           241,010,303        1  \n",
       "4916814           241,010,303        1  \n",
       "2379159           241,010,303        1  \n",
       "1656291           241,010,303        1  \n",
       "9415838           241,010,303        1  "
      ]
     },
     "execution_count": 217,
     "metadata": {},
     "output_type": "execute_result"
    }
   ],
   "source": [
    "bbfood_train[bbfood_train.m_id == test_id[10]]"
   ]
  },
  {
   "cell_type": "code",
   "execution_count": 218,
   "metadata": {
    "scrolled": true
   },
   "outputs": [
    {
     "data": {
      "text/html": [
       "<div>\n",
       "<style scoped>\n",
       "    .dataframe tbody tr th:only-of-type {\n",
       "        vertical-align: middle;\n",
       "    }\n",
       "\n",
       "    .dataframe tbody tr th {\n",
       "        vertical-align: top;\n",
       "    }\n",
       "\n",
       "    .dataframe thead th {\n",
       "        text-align: right;\n",
       "    }\n",
       "</style>\n",
       "<table border=\"1\" class=\"dataframe\">\n",
       "  <thead>\n",
       "    <tr style=\"text-align: right;\">\n",
       "      <th></th>\n",
       "      <th>Unnamed: 0</th>\n",
       "      <th>biz_dt</th>\n",
       "      <th>m_id</th>\n",
       "      <th>order_price</th>\n",
       "      <th>prod_no</th>\n",
       "      <th>old_admin_category_id</th>\n",
       "      <th>serv_cd</th>\n",
       "    </tr>\n",
       "  </thead>\n",
       "  <tbody>\n",
       "    <tr>\n",
       "      <th>9118170</th>\n",
       "      <td>99118170</td>\n",
       "      <td>2018-08-01 00:09:29</td>\n",
       "      <td>1,558,980</td>\n",
       "      <td>24,540</td>\n",
       "      <td>3,694,320</td>\n",
       "      <td>241,010,303</td>\n",
       "      <td>1</td>\n",
       "    </tr>\n",
       "  </tbody>\n",
       "</table>\n",
       "</div>"
      ],
      "text/plain": [
       "         Unnamed: 0              biz_dt       m_id order_price    prod_no  \\\n",
       "9118170    99118170 2018-08-01 00:09:29  1,558,980      24,540  3,694,320   \n",
       "\n",
       "        old_admin_category_id  serv_cd  \n",
       "9118170           241,010,303        1  "
      ]
     },
     "execution_count": 218,
     "metadata": {},
     "output_type": "execute_result"
    }
   ],
   "source": [
    "bbfood_test[bbfood_test.m_id == test_id[10]][:1]"
   ]
  },
  {
   "cell_type": "code",
   "execution_count": 219,
   "metadata": {
    "scrolled": true
   },
   "outputs": [
    {
     "name": "stdout",
     "output_type": "stream",
     "text": [
      "current: 2018-07-20 00:00:00 , pred: 0.045817335934007164 , tmean_u: 23 , k: 9\n",
      "current: 2018-07-21 00:00:00 , pred: 0.04622958934115218 , tmean_u: 23 , k: 9\n",
      "current: 2018-07-22 00:00:00 , pred: 0.0466493273636055 , tmean_u: 23 , k: 9\n",
      "current: 2018-07-23 00:00:00 , pred: 0.04707675565581715 , tmean_u: 23 , k: 9\n",
      "current: 2018-07-24 00:00:00 , pred: 0.047512087474612996 , tmean_u: 23 , k: 9\n",
      "current: 2018-07-25 00:00:00 , pred: 0.04795554403368618 , tmean_u: 23 , k: 9\n",
      "current: 2018-07-26 00:00:00 , pred: 0.04840735487810688 , tmean_u: 23 , k: 9\n",
      "current: 2018-07-27 00:00:00 , pred: 0.04886775828018053 , tmean_u: 23 , k: 9\n",
      "current: 2018-07-28 00:00:00 , pred: 0.04933700165808785 , tmean_u: 23 , k: 9\n",
      "current: 2018-07-29 00:00:00 , pred: 0.049815342018850406 , tmean_u: 23 , k: 9\n",
      "current: 2018-07-30 00:00:00 , pred: 0.05030304642728689 , tmean_u: 23 , k: 9\n",
      "current: 2018-07-31 00:00:00 , pred: 0.050800392502755365 , tmean_u: 23 , k: 9\n",
      "current: 2018-08-01 00:00:00 , pred: 0.05130766894562244 , tmean_u: 23 , k: 9\n",
      "current: 2018-08-02 00:00:00 , pred: 0.051825176095553926 , tmean_u: 23 , k: 9\n",
      "current: 2018-08-03 00:00:00 , pred: 0.05235322652389318 , tmean_u: 23 , k: 9\n",
      "current: 2018-08-04 00:00:00 , pred: 0.05289214566258049 , tmean_u: 23 , k: 9\n",
      "current: 2018-08-05 00:00:00 , pred: 0.05235322652389318 , tmean_u: 23 , k: 9\n",
      "current: 2018-08-06 00:00:00 , pred: 0.051825176095553926 , tmean_u: 23 , k: 9\n",
      "current: 2018-08-07 00:00:00 , pred: 0.05130766894562244 , tmean_u: 23 , k: 9\n",
      "current: 2018-08-08 00:00:00 , pred: 0.050800392502755365 , tmean_u: 23 , k: 9\n",
      "current: 2018-08-09 00:00:00 , pred: 0.05030304642728689 , tmean_u: 23 , k: 9\n",
      "current: 2018-08-10 00:00:00 , pred: 0.049815342018850406 , tmean_u: 23 , k: 9\n",
      "current: 2018-08-11 00:00:00 , pred: 0.04933700165808785 , tmean_u: 23 , k: 9\n",
      "current: 2018-08-12 00:00:00 , pred: 0.04886775828018053 , tmean_u: 23 , k: 9\n",
      "current: 2018-08-13 00:00:00 , pred: 0.04840735487810688 , tmean_u: 23 , k: 9\n",
      "current: 2018-08-14 00:00:00 , pred: 0.04795554403368618 , tmean_u: 23 , k: 9\n",
      "current: 2018-08-15 00:00:00 , pred: 0.047512087474612996 , tmean_u: 23 , k: 9\n",
      "current: 2018-08-16 00:00:00 , pred: 0.04707675565581715 , tmean_u: 23 , k: 9\n",
      "current: 2018-08-17 00:00:00 , pred: 0.0466493273636055 , tmean_u: 23 , k: 9\n",
      "current: 2018-08-18 00:00:00 , pred: 0.04622958934115218 , tmean_u: 23 , k: 9\n"
     ]
    }
   ],
   "source": [
    "for i in range(30):\n",
    "    lamb, tmean_u, k = func_lamb(train = bbfood_train, test = bbfood_test, test_id=test_id[10], \n",
    "              alpha = k_ , beta=1/theta_, tmean=tmean, current=current_l[i])\n",
    "    print('current:',current_l[i], ', pred:',(1-stats.poisson.pmf(mu = lamb, k=0)),', tmean_u:',tmean_u,', k:',k)\n"
   ]
  },
  {
   "cell_type": "code",
   "execution_count": 258,
   "metadata": {
    "scrolled": true
   },
   "outputs": [
    {
     "name": "stdout",
     "output_type": "stream",
     "text": [
      "current: 2018-07-20 00:00:00 , pred: 0.9999999994504336 , tmean_u: 23 , k: 9\n",
      "current: 2018-07-21 00:00:00 , pred: 0.9999999993323276 , tmean_u: 23 , k: 9\n",
      "current: 2018-07-22 00:00:00 , pred: 0.9999999991888397 , tmean_u: 23 , k: 9\n",
      "current: 2018-07-23 00:00:00 , pred: 0.9999999990145152 , tmean_u: 23 , k: 9\n",
      "current: 2018-07-24 00:00:00 , pred: 0.9999999988027269 , tmean_u: 23 , k: 9\n",
      "current: 2018-07-25 00:00:00 , pred: 0.9999999985454238 , tmean_u: 23 , k: 9\n",
      "current: 2018-07-26 00:00:00 , pred: 0.9999999982328241 , tmean_u: 23 , k: 9\n",
      "current: 2018-07-27 00:00:00 , pred: 0.9999999978530446 , tmean_u: 23 , k: 9\n",
      "current: 2018-07-28 00:00:00 , pred: 0.9999999973916474 , tmean_u: 23 , k: 9\n",
      "current: 2018-07-29 00:00:00 , pred: 0.9999999968310924 , tmean_u: 23 , k: 9\n",
      "current: 2018-07-30 00:00:00 , pred: 0.99999999615007 , tmean_u: 23 , k: 9\n",
      "current: 2018-07-31 00:00:00 , pred: 0.9999999953226906 , tmean_u: 23 , k: 9\n",
      "current: 2018-08-01 00:00:00 , pred: 0.999999994317501 , tmean_u: 23 , k: 9\n",
      "current: 2018-08-02 00:00:00 , pred: 0.9999999930962884 , tmean_u: 23 , k: 9\n",
      "current: 2018-08-03 00:00:00 , pred: 0.9999999916126279 , tmean_u: 23 , k: 9\n",
      "current: 2018-08-04 00:00:00 , pred: 0.9999999898101174 , tmean_u: 23 , k: 9\n",
      "current: 2018-08-05 00:00:00 , pred: 0.9999999916126279 , tmean_u: 23 , k: 9\n",
      "current: 2018-08-06 00:00:00 , pred: 0.9999999930962884 , tmean_u: 23 , k: 9\n",
      "current: 2018-08-07 00:00:00 , pred: 0.999999994317501 , tmean_u: 23 , k: 9\n",
      "current: 2018-08-08 00:00:00 , pred: 0.9999999953226906 , tmean_u: 23 , k: 9\n",
      "current: 2018-08-09 00:00:00 , pred: 0.99999999615007 , tmean_u: 23 , k: 9\n",
      "current: 2018-08-10 00:00:00 , pred: 0.9999999968310924 , tmean_u: 23 , k: 9\n",
      "current: 2018-08-11 00:00:00 , pred: 0.9999999973916474 , tmean_u: 23 , k: 9\n",
      "current: 2018-08-12 00:00:00 , pred: 0.9999999978530446 , tmean_u: 23 , k: 9\n",
      "current: 2018-08-13 00:00:00 , pred: 0.9999999982328241 , tmean_u: 23 , k: 9\n",
      "current: 2018-08-14 00:00:00 , pred: 0.9999999985454238 , tmean_u: 23 , k: 9\n",
      "current: 2018-08-15 00:00:00 , pred: 0.9999999988027269 , tmean_u: 23 , k: 9\n",
      "current: 2018-08-16 00:00:00 , pred: 0.9999999990145152 , tmean_u: 23 , k: 9\n",
      "current: 2018-08-17 00:00:00 , pred: 0.9999999991888397 , tmean_u: 23 , k: 9\n",
      "current: 2018-08-18 00:00:00 , pred: 0.9999999993323276 , tmean_u: 23 , k: 9\n"
     ]
    }
   ],
   "source": [
    "for i in range(30):\n",
    "    lamb, tmean_u, k = func_lamb(train = bbfood_train, test = bbfood_test, test_id=test_id[10], \n",
    "              alpha = k_ , beta=1/theta_, tmean=tmean, current=current_l[i])\n",
    "    print('current:',current_l[i], ', pred:',(1-stats.poisson.pmf(mu = 1/lamb, k=0)),', tmean_u:',tmean_u,', k:',k)\n"
   ]
  },
  {
   "cell_type": "code",
   "execution_count": null,
   "metadata": {},
   "outputs": [],
   "source": []
  },
  {
   "cell_type": "code",
   "execution_count": 220,
   "metadata": {},
   "outputs": [
    {
     "data": {
      "text/html": [
       "<div>\n",
       "<style scoped>\n",
       "    .dataframe tbody tr th:only-of-type {\n",
       "        vertical-align: middle;\n",
       "    }\n",
       "\n",
       "    .dataframe tbody tr th {\n",
       "        vertical-align: top;\n",
       "    }\n",
       "\n",
       "    .dataframe thead th {\n",
       "        text-align: right;\n",
       "    }\n",
       "</style>\n",
       "<table border=\"1\" class=\"dataframe\">\n",
       "  <thead>\n",
       "    <tr style=\"text-align: right;\">\n",
       "      <th></th>\n",
       "      <th>Unnamed: 0</th>\n",
       "      <th>biz_dt</th>\n",
       "      <th>m_id</th>\n",
       "      <th>order_price</th>\n",
       "      <th>prod_no</th>\n",
       "      <th>old_admin_category_id</th>\n",
       "      <th>serv_cd</th>\n",
       "    </tr>\n",
       "  </thead>\n",
       "  <tbody>\n",
       "    <tr>\n",
       "      <th>7497108</th>\n",
       "      <td>37497108</td>\n",
       "      <td>2018-03-25 23:24:38</td>\n",
       "      <td>3,663,364</td>\n",
       "      <td>21,500</td>\n",
       "      <td>1,454,013</td>\n",
       "      <td>241,010,303</td>\n",
       "      <td>1</td>\n",
       "    </tr>\n",
       "    <tr>\n",
       "      <th>3716727</th>\n",
       "      <td>43716727</td>\n",
       "      <td>2018-04-06 10:06:21</td>\n",
       "      <td>3,663,364</td>\n",
       "      <td>21,200</td>\n",
       "      <td>1,454,013</td>\n",
       "      <td>241,010,303</td>\n",
       "      <td>1</td>\n",
       "    </tr>\n",
       "    <tr>\n",
       "      <th>8228742</th>\n",
       "      <td>48228742</td>\n",
       "      <td>2018-04-16 08:04:31</td>\n",
       "      <td>3,663,364</td>\n",
       "      <td>23,850</td>\n",
       "      <td>1,454,013</td>\n",
       "      <td>241,010,303</td>\n",
       "      <td>1</td>\n",
       "    </tr>\n",
       "    <tr>\n",
       "      <th>6068384</th>\n",
       "      <td>66068384</td>\n",
       "      <td>2018-05-23 23:40:02</td>\n",
       "      <td>3,663,364</td>\n",
       "      <td>25,800</td>\n",
       "      <td>3,653,074</td>\n",
       "      <td>241,010,303</td>\n",
       "      <td>1</td>\n",
       "    </tr>\n",
       "    <tr>\n",
       "      <th>8001558</th>\n",
       "      <td>78001558</td>\n",
       "      <td>2018-06-18 11:21:03</td>\n",
       "      <td>3,663,364</td>\n",
       "      <td>31,800</td>\n",
       "      <td>3,653,074</td>\n",
       "      <td>241,010,303</td>\n",
       "      <td>1</td>\n",
       "    </tr>\n",
       "    <tr>\n",
       "      <th>6529245</th>\n",
       "      <td>96529245</td>\n",
       "      <td>2018-07-25 22:12:44</td>\n",
       "      <td>3,663,364</td>\n",
       "      <td>30,550</td>\n",
       "      <td>3,653,074</td>\n",
       "      <td>241,010,303</td>\n",
       "      <td>1</td>\n",
       "    </tr>\n",
       "  </tbody>\n",
       "</table>\n",
       "</div>"
      ],
      "text/plain": [
       "         Unnamed: 0              biz_dt       m_id order_price    prod_no  \\\n",
       "7497108    37497108 2018-03-25 23:24:38  3,663,364      21,500  1,454,013   \n",
       "3716727    43716727 2018-04-06 10:06:21  3,663,364      21,200  1,454,013   \n",
       "8228742    48228742 2018-04-16 08:04:31  3,663,364      23,850  1,454,013   \n",
       "6068384    66068384 2018-05-23 23:40:02  3,663,364      25,800  3,653,074   \n",
       "8001558    78001558 2018-06-18 11:21:03  3,663,364      31,800  3,653,074   \n",
       "6529245    96529245 2018-07-25 22:12:44  3,663,364      30,550  3,653,074   \n",
       "\n",
       "        old_admin_category_id  serv_cd  \n",
       "7497108           241,010,303        1  \n",
       "3716727           241,010,303        1  \n",
       "8228742           241,010,303        1  \n",
       "6068384           241,010,303        1  \n",
       "8001558           241,010,303        1  \n",
       "6529245           241,010,303        1  "
      ]
     },
     "execution_count": 220,
     "metadata": {},
     "output_type": "execute_result"
    }
   ],
   "source": [
    "bbfood_train[bbfood_train.m_id == test_id[11]]"
   ]
  },
  {
   "cell_type": "code",
   "execution_count": 221,
   "metadata": {
    "scrolled": true
   },
   "outputs": [
    {
     "data": {
      "text/html": [
       "<div>\n",
       "<style scoped>\n",
       "    .dataframe tbody tr th:only-of-type {\n",
       "        vertical-align: middle;\n",
       "    }\n",
       "\n",
       "    .dataframe tbody tr th {\n",
       "        vertical-align: top;\n",
       "    }\n",
       "\n",
       "    .dataframe thead th {\n",
       "        text-align: right;\n",
       "    }\n",
       "</style>\n",
       "<table border=\"1\" class=\"dataframe\">\n",
       "  <thead>\n",
       "    <tr style=\"text-align: right;\">\n",
       "      <th></th>\n",
       "      <th>Unnamed: 0</th>\n",
       "      <th>biz_dt</th>\n",
       "      <th>m_id</th>\n",
       "      <th>order_price</th>\n",
       "      <th>prod_no</th>\n",
       "      <th>old_admin_category_id</th>\n",
       "      <th>serv_cd</th>\n",
       "    </tr>\n",
       "  </thead>\n",
       "  <tbody>\n",
       "    <tr>\n",
       "      <th>9118767</th>\n",
       "      <td>99118767</td>\n",
       "      <td>2018-08-01 00:10:16</td>\n",
       "      <td>3,663,364</td>\n",
       "      <td>31,800</td>\n",
       "      <td>3,653,074</td>\n",
       "      <td>241,010,303</td>\n",
       "      <td>1</td>\n",
       "    </tr>\n",
       "  </tbody>\n",
       "</table>\n",
       "</div>"
      ],
      "text/plain": [
       "         Unnamed: 0              biz_dt       m_id order_price    prod_no  \\\n",
       "9118767    99118767 2018-08-01 00:10:16  3,663,364      31,800  3,653,074   \n",
       "\n",
       "        old_admin_category_id  serv_cd  \n",
       "9118767           241,010,303        1  "
      ]
     },
     "execution_count": 221,
     "metadata": {},
     "output_type": "execute_result"
    }
   ],
   "source": [
    "bbfood_test[bbfood_test.m_id == test_id[11]][:1]"
   ]
  },
  {
   "cell_type": "code",
   "execution_count": 223,
   "metadata": {
    "scrolled": true
   },
   "outputs": [
    {
     "name": "stdout",
     "output_type": "stream",
     "text": [
      "current: 2018-07-20 00:00:00 , lamb: 0.04017420024242366 , pred: 0.039377916023815906 , tmean_u: 24 , k: 6\n",
      "current: 2018-07-21 00:00:00 , lamb: 0.04062292620861686 , pred: 0.03980887539803246 , tmean_u: 24 , k: 6\n",
      "current: 2018-07-22 00:00:00 , lamb: 0.04108178949834889 , pred: 0.04024937078492863 , tmean_u: 24 , k: 6\n",
      "current: 2018-07-23 00:00:00 , lamb: 0.041551137559957166 , pred: 0.04069972218833173 , tmean_u: 24 , k: 6\n",
      "current: 2018-07-24 00:00:00 , lamb: 0.04203133390328121 , pred: 0.04116026408976847 , tmean_u: 24 , k: 6\n",
      "current: 2018-07-25 00:00:00 , lamb: 0.04252275903860812 , pred: 0.04163134627645082 , tmean_u: 24 , k: 6\n",
      "current: 2018-07-26 00:00:00 , lamb: 0.04302581148226544 , pred: 0.04211333472673273 , tmean_u: 24 , k: 6\n",
      "current: 2018-07-27 00:00:00 , lamb: 0.0435409088344467 , pred: 0.04260661255774578 , tmean_u: 24 , k: 6\n",
      "current: 2018-07-28 00:00:00 , lamb: 0.044068488935396305 , pred: 0.04311158104036683 , tmean_u: 24 , k: 6\n",
      "current: 2018-07-29 00:00:00 , lamb: 0.04460901110668147 , pred: 0.04362866068716442 , tmean_u: 24 , k: 6\n",
      "current: 2018-07-30 00:00:00 , lamb: 0.045162957484947606 , pred: 0.04415829241952096 , tmean_u: 24 , k: 6\n",
      "current: 2018-07-31 00:00:00 , lamb: 0.04573083445629699 , pred: 0.044700938820730785 , tmean_u: 24 , k: 6\n",
      "current: 2018-08-01 00:00:00 , lamb: 0.046313174200260536 , pred: 0.04525708548255758 , tmean_u: 24 , k: 6\n",
      "current: 2018-08-02 00:00:00 , lamb: 0.04691053635325721 , pred: 0.04582724245347958 , tmean_u: 24 , k: 6\n",
      "current: 2018-08-03 00:00:00 , lamb: 0.04752350980247078 , pred: 0.04641194579769781 , tmean_u: 24 , k: 6\n",
      "current: 2018-08-04 00:00:00 , lamb: 0.04815271462223056 , pred: 0.04701175927491297 , tmean_u: 24 , k: 6\n",
      "current: 2018-08-05 00:00:00 , lamb: 0.048798804166280615 , pred: 0.04762727615192752 , tmean_u: 24 , k: 6\n",
      "current: 2018-08-06 00:00:00 , lamb: 0.049462467330778095 , pred: 0.048259121158298224 , tmean_u: 24 , k: 6\n",
      "current: 2018-08-07 00:00:00 , lamb: 0.050144431004497905 , pred: 0.048907952599579474 , tmean_u: 24 , k: 6\n",
      "current: 2018-08-08 00:00:00 , lamb: 0.050845462724564396 , pred: 0.049574464643171834 , tmean_u: 24 , k: 6\n",
      "current: 2018-08-09 00:00:00 , lamb: 0.05156637355810818 , pred: 0.05025938979344302 , tmean_u: 24 , k: 6\n",
      "current: 2018-08-10 00:00:00 , lamb: 0.052308021232593746 , pred: 0.05096350157466045 , tmean_u: 24 , k: 6\n",
      "current: 2018-08-11 00:00:00 , lamb: 0.05307131354021827 , pred: 0.051687617442370826 , tmean_u: 24 , k: 6\n",
      "current: 2018-08-12 00:00:00 , lamb: 0.05385721204479174 , pred: 0.05243260194624344 , tmean_u: 24 , k: 6\n",
      "current: 2018-08-13 00:00:00 , lamb: 0.054666736122924095 , pred: 0.0531993701700777 , tmean_u: 24 , k: 6\n",
      "current: 2018-08-14 00:00:00 , lamb: 0.05550096737523105 , pred: 0.05398889147772268 , tmean_u: 24 , k: 6\n",
      "current: 2018-08-15 00:00:00 , lamb: 0.05636105444769716 , pred: 0.05480219359711591 , tmean_u: 24 , k: 6\n",
      "current: 2018-08-16 00:00:00 , lamb: 0.05724821830838937 , pred: 0.05564036707857689 , tmean_u: 24 , k: 6\n",
      "current: 2018-08-17 00:00:00 , lamb: 0.0581637580304964 , pred: 0.056504570167977164 , tmean_u: 24 , k: 6\n",
      "current: 2018-08-18 00:00:00 , lamb: 0.0591090571392966 , pred: 0.05739603414052141 , tmean_u: 24 , k: 6\n"
     ]
    }
   ],
   "source": [
    "for i in range(30):\n",
    "    lamb, tmean_u, k = func_lamb(train = bbfood_train, test = bbfood_test, test_id=test_id[11], \n",
    "              alpha = k_ , beta=1/theta_, tmean=tmean, current=current_l[i])\n",
    "    print('current:',current_l[i], ', lamb:',lamb,', pred:',(1-stats.poisson.pmf(mu = lamb, k=0)),', tmean_u:',tmean_u,', k:',k)\n"
   ]
  },
  {
   "cell_type": "code",
   "execution_count": 280,
   "metadata": {
    "scrolled": true
   },
   "outputs": [
    {
     "name": "stdout",
     "output_type": "stream",
     "text": [
      "current: 2018-07-20 00:00:00 , lamb: 0.036932275148879846 , pred: 0.036258597618076926 , tmean_u: 24 , k: 6\n",
      "current: 2018-07-21 00:00:00 , lamb: 0.03732471917686483 , pred: 0.03663673797164857 , tmean_u: 24 , k: 6\n",
      "current: 2018-07-22 00:00:00 , lamb: 0.03772559303664578 , pred: 0.03702284772504483 , tmean_u: 24 , k: 6\n",
      "current: 2018-07-23 00:00:00 , lamb: 0.038135171290569626 , pred: 0.03741718146486728 , tmean_u: 24 , k: 6\n",
      "current: 2018-07-24 00:00:00 , lamb: 0.03855374055530018 , pred: 0.0378200047368622 , tmean_u: 24 , k: 6\n",
      "current: 2018-07-25 00:00:00 , lamb: 0.038981600170696844 , pred: 0.038231594641949695 , tmean_u: 24 , k: 6\n",
      "current: 2018-07-26 00:00:00 , lamb: 0.03941906291373144 , pred: 0.038652240471574006 , tmean_u: 24 , k: 6\n",
      "current: 2018-07-27 00:00:00 , lamb: 0.03986645576102133 , pred: 0.03908224438543495 , tmean_u: 24 , k: 6\n",
      "current: 2018-07-28 00:00:00 , lamb: 0.04032412070388551 , pred: 0.039521922134934995 , tmean_u: 24 , k: 6\n",
      "current: 2018-07-29 00:00:00 , lamb: 0.0407924156201936 , pred: 0.03997160383597931 , tmean_u: 24 , k: 6\n",
      "current: 2018-07-30 00:00:00 , lamb: 0.041271715207678694 , pred: 0.04043163479510348 , tmean_u: 24 , k: 6\n",
      "current: 2018-07-31 00:00:00 , lamb: 0.041762411983829476 , pred: 0.04090237639326788 , tmean_u: 24 , k: 6\n",
      "current: 2018-08-01 00:00:00 , lamb: 0.0422649173579695 , pred: 0.04138420703207346 , tmean_u: 24 , k: 6\n",
      "current: 2018-08-02 00:00:00 , lamb: 0.042779662781677656 , pred: 0.04187752314759907 , tmean_u: 24 , k: 6\n",
      "current: 2018-08-03 00:00:00 , lamb: 0.04330710098431116 , pred: 0.042382740297567945 , tmean_u: 24 , k: 6\n",
      "current: 2018-08-04 00:00:00 , lamb: 0.04384770730106736 , pred: 0.04290029432810394 , tmean_u: 24 , k: 6\n",
      "current: 2018-08-05 00:00:00 , lamb: 0.044401981101772785 , pred: 0.04343064262695928 , tmean_u: 24 , k: 6\n",
      "current: 2018-08-06 00:00:00 , lamb: 0.04497044732942655 , pred: 0.043974265470781204 , tmean_u: 24 , k: 6\n",
      "current: 2018-08-07 00:00:00 , lamb: 0.04555365815846175 , pred: 0.044531667474753234 , tmean_u: 24 , k: 6\n",
      "current: 2018-08-08 00:00:00 , lamb: 0.04615219478373574 , pred: 0.04510337915380169 , tmean_u: 24 , k: 6\n",
      "current: 2018-08-09 00:00:00 , lamb: 0.046766669352433135 , pred: 0.04568995860551228 , tmean_u: 24 , k: 6\n",
      "current: 2018-08-10 00:00:00 , lamb: 0.04739772705238053 , pred: 0.04629199332596923 , tmean_u: 24 , k: 6\n",
      "current: 2018-08-11 00:00:00 , lamb: 0.04804604837174898 , pred: 0.04691010217092717 , tmean_u: 24 , k: 6\n",
      "current: 2018-08-12 00:00:00 , lamb: 0.048712351546781996 , pred: 0.04754493747606603 , tmean_u: 24 , k: 6\n",
      "current: 2018-08-13 00:00:00 , lamb: 0.04939739521605852 , pred: 0.048197187351586845 , tmean_u: 24 , k: 6\n",
      "current: 2018-08-14 00:00:00 , lamb: 0.050101981301912416 , pred: 0.04886757816810072 , tmean_u: 24 , k: 6\n",
      "current: 2018-08-15 00:00:00 , lamb: 0.05082695814201717 , pred: 0.04955687725267466 , tmean_u: 24 , k: 6\n",
      "current: 2018-08-16 00:00:00 , lamb: 0.05157322389684718 , pred: 0.0502658958160529 , tmean_u: 24 , k: 6\n",
      "current: 2018-08-17 00:00:00 , lamb: 0.05234173026179203 , pred: 0.050995492134507714 , tmean_u: 24 , k: 6\n",
      "current: 2018-08-18 00:00:00 , lamb: 0.05313348651618227 , pred: 0.05174657501253521 , tmean_u: 24 , k: 6\n"
     ]
    }
   ],
   "source": [
    "for i in range(30):\n",
    "    lamb, tmean_u, k = func_lamb(train = bbfood_train, test = bbfood_test, test_id=test_id[11], \n",
    "              alpha = aaa , beta=bbb, tmean=tmean, current=current_l[i])\n",
    "    print('current:',current_l[i], ', lamb:',lamb,', pred:',(1-stats.poisson.pmf(mu = lamb, k=0)),', tmean_u:',tmean_u,', k:',k)\n"
   ]
  },
  {
   "cell_type": "code",
   "execution_count": 283,
   "metadata": {},
   "outputs": [
    {
     "name": "stdout",
     "output_type": "stream",
     "text": [
      "current: 2018-07-20 00:00:00 , pred: 0.04721815270643248 , tmean_u: 17 , k: 3\n",
      "current: 2018-07-21 00:00:00 , pred: 0.048352351064031796 , tmean_u: 17 , k: 3\n",
      "current: 2018-07-22 00:00:00 , pred: 0.0495423659219294 , tmean_u: 17 , k: 3\n",
      "current: 2018-07-23 00:00:00 , pred: 0.050792420504436 , tmean_u: 17 , k: 3\n",
      "current: 2018-07-24 00:00:00 , pred: 0.05210717500066331 , tmean_u: 17 , k: 3\n",
      "current: 2018-07-25 00:00:00 , pred: 0.05349178456334647 , tmean_u: 17 , k: 3\n",
      "current: 2018-07-26 00:00:00 , pred: 0.0549519667946019 , tmean_u: 17 , k: 3\n",
      "current: 2018-07-27 00:00:00 , pred: 0.056494080579163386 , tmean_u: 17 , k: 3\n",
      "current: 2018-07-28 00:00:00 , pred: 0.05812521855451214 , tmean_u: 17 , k: 3\n",
      "current: 2018-07-29 00:00:00 , pred: 0.059853316050661576 , tmean_u: 17 , k: 3\n",
      "current: 2018-07-30 00:00:00 , pred: 0.061687280025143676 , tmean_u: 17 , k: 3\n",
      "current: 2018-07-31 00:00:00 , pred: 0.06363714240805851 , tmean_u: 17 , k: 3\n",
      "current: 2018-08-01 00:00:00 , pred: 0.06571424342181986 , tmean_u: 17 , k: 3\n",
      "current: 2018-08-02 00:00:00 , pred: 0.06793145193802297 , tmean_u: 17 , k: 3\n",
      "current: 2018-08-03 00:00:00 , pred: 0.07030343190070898 , tmean_u: 17 , k: 3\n",
      "current: 2018-08-04 00:00:00 , pred: 0.07284696645021416 , tmean_u: 17 , k: 3\n",
      "current: 2018-08-05 00:00:00 , pred: 0.07558135486317297 , tmean_u: 17 , k: 3\n",
      "current: 2018-08-06 00:00:00 , pred: 0.07852890212223884 , tmean_u: 17 , k: 3\n",
      "current: 2018-08-07 00:00:00 , pred: 0.08171552733476184 , tmean_u: 17 , k: 3\n",
      "current: 2018-08-08 00:00:00 , pred: 0.08517152605105927 , tmean_u: 17 , k: 3\n",
      "current: 2018-08-09 00:00:00 , pred: 0.08893253385440647 , tmean_u: 17 , k: 3\n",
      "current: 2018-08-10 00:00:00 , pred: 0.08517152605105927 , tmean_u: 17 , k: 3\n",
      "current: 2018-08-11 00:00:00 , pred: 0.08171552733476184 , tmean_u: 17 , k: 3\n",
      "current: 2018-08-12 00:00:00 , pred: 0.07852890212223884 , tmean_u: 17 , k: 3\n",
      "current: 2018-08-13 00:00:00 , pred: 0.07558135486317297 , tmean_u: 17 , k: 3\n",
      "current: 2018-08-14 00:00:00 , pred: 0.07284696645021416 , tmean_u: 17 , k: 3\n",
      "current: 2018-08-15 00:00:00 , pred: 0.07030343190070898 , tmean_u: 17 , k: 3\n",
      "current: 2018-08-16 00:00:00 , pred: 0.06793145193802297 , tmean_u: 17 , k: 3\n",
      "current: 2018-08-17 00:00:00 , pred: 0.06571424342181986 , tmean_u: 17 , k: 3\n",
      "current: 2018-08-18 00:00:00 , pred: 0.06363714240805851 , tmean_u: 17 , k: 3\n"
     ]
    }
   ],
   "source": [
    "for i in range(30):\n",
    "    lamb, tmean_u, k = func_lamb(train = bbfood_train, test = bbfood_test, test_id=test_id[6], \n",
    "              alpha = aaa , beta=bbb , tmean=tmean, current=current_l[i])\n",
    "    print('current:',current_l[i], ', pred:',(1-stats.poisson.pmf(mu = lamb, k=0)),', tmean_u:',tmean_u,', k:',k)\n"
   ]
  },
  {
   "cell_type": "code",
   "execution_count": 225,
   "metadata": {
    "scrolled": true
   },
   "outputs": [
    {
     "data": {
      "text/plain": [
       "16.963438276425805"
      ]
     },
     "execution_count": 225,
     "metadata": {},
     "output_type": "execute_result"
    }
   ],
   "source": [
    "theta_"
   ]
  },
  {
   "cell_type": "code",
   "execution_count": 226,
   "metadata": {},
   "outputs": [
    {
     "data": {
      "text/plain": [
       "1.2738985255670858"
      ]
     },
     "execution_count": 226,
     "metadata": {},
     "output_type": "execute_result"
    }
   ],
   "source": [
    "k_"
   ]
  },
  {
   "cell_type": "code",
   "execution_count": 227,
   "metadata": {},
   "outputs": [
    {
     "data": {
      "text/plain": [
       "21.6096990088871"
      ]
     },
     "execution_count": 227,
     "metadata": {},
     "output_type": "execute_result"
    }
   ],
   "source": [
    "theta_*k_"
   ]
  },
  {
   "cell_type": "code",
   "execution_count": 228,
   "metadata": {},
   "outputs": [],
   "source": [
    "beta_ = 1/theta_"
   ]
  },
  {
   "cell_type": "code",
   "execution_count": 229,
   "metadata": {
    "scrolled": true
   },
   "outputs": [
    {
     "data": {
      "text/plain": [
       "21.6096990088871"
      ]
     },
     "execution_count": 229,
     "metadata": {},
     "output_type": "execute_result"
    }
   ],
   "source": [
    "k_*(1/beta_)"
   ]
  },
  {
   "cell_type": "code",
   "execution_count": 236,
   "metadata": {},
   "outputs": [
    {
     "data": {
      "text/plain": [
       "0.6321205588285577"
      ]
     },
     "execution_count": 236,
     "metadata": {},
     "output_type": "execute_result"
    }
   ],
   "source": [
    "1- stats.poisson.pmf(mu = 1, k=0)"
   ]
  },
  {
   "cell_type": "markdown",
   "metadata": {},
   "source": [
    "0.0591090571392966"
   ]
  },
  {
   "cell_type": "code",
   "execution_count": 251,
   "metadata": {},
   "outputs": [
    {
     "data": {
      "text/plain": [
       "2.061153622438558e-09"
      ]
     },
     "execution_count": 251,
     "metadata": {},
     "output_type": "execute_result"
    }
   ],
   "source": [
    "stats.poisson.pmf(mu = 20, k=0)"
   ]
  },
  {
   "cell_type": "code",
   "execution_count": 240,
   "metadata": {},
   "outputs": [
    {
     "data": {
      "text/plain": [
       "0.9999999979388464"
      ]
     },
     "execution_count": 240,
     "metadata": {},
     "output_type": "execute_result"
    }
   ],
   "source": [
    "1- stats.poisson.pmf(mu = 20, k=0) # 아무튼 단위시간당 사건이 일어날 확률이 거의 1에 가깝네...? 말이 되나?"
   ]
  },
  {
   "cell_type": "code",
   "execution_count": 241,
   "metadata": {},
   "outputs": [
    {
     "data": {
      "text/plain": [
       "0.048770575499285984"
      ]
     },
     "execution_count": 241,
     "metadata": {},
     "output_type": "execute_result"
    }
   ],
   "source": [
    "1- stats.poisson.pmf(mu = 1/20, k=0)  #이게 말이 되는거지..?"
   ]
  },
  {
   "cell_type": "code",
   "execution_count": 243,
   "metadata": {},
   "outputs": [
    {
     "data": {
      "text/plain": [
       "1.2738985255670858"
      ]
     },
     "execution_count": 243,
     "metadata": {},
     "output_type": "execute_result"
    }
   ],
   "source": [
    "k_"
   ]
  },
  {
   "cell_type": "code",
   "execution_count": 244,
   "metadata": {},
   "outputs": [
    {
     "data": {
      "text/plain": [
       "16.963438276425805"
      ]
     },
     "execution_count": 244,
     "metadata": {},
     "output_type": "execute_result"
    }
   ],
   "source": [
    "theta_"
   ]
  },
  {
   "cell_type": "code",
   "execution_count": 245,
   "metadata": {},
   "outputs": [
    {
     "data": {
      "text/plain": [
       "0.07509671711644865"
      ]
     },
     "execution_count": 245,
     "metadata": {},
     "output_type": "execute_result"
    }
   ],
   "source": [
    "k_/theta_"
   ]
  },
  {
   "cell_type": "code",
   "execution_count": 246,
   "metadata": {},
   "outputs": [],
   "source": [
    "beta = 1/theta_"
   ]
  },
  {
   "cell_type": "code",
   "execution_count": 247,
   "metadata": {},
   "outputs": [],
   "source": [
    "alpha = k_"
   ]
  },
  {
   "cell_type": "code",
   "execution_count": 248,
   "metadata": {},
   "outputs": [],
   "source": [
    "lamb = (k+alpha)/(t_purch+2*abs(tmean_u-t_)+beta)"
   ]
  },
  {
   "cell_type": "code",
   "execution_count": 250,
   "metadata": {},
   "outputs": [
    {
     "data": {
      "text/plain": [
       "21.6096990088871"
      ]
     },
     "execution_count": 250,
     "metadata": {},
     "output_type": "execute_result"
    }
   ],
   "source": [
    "alpha/beta"
   ]
  },
  {
   "cell_type": "code",
   "execution_count": 249,
   "metadata": {},
   "outputs": [
    {
     "data": {
      "text/plain": [
       "0.20747622106701746"
      ]
     },
     "execution_count": 249,
     "metadata": {},
     "output_type": "execute_result"
    }
   ],
   "source": [
    "lamb"
   ]
  },
  {
   "cell_type": "code",
   "execution_count": 252,
   "metadata": {},
   "outputs": [],
   "source": [
    "x = stats.gamma.rvs(20, loc=0, size=100, random_state=None)"
   ]
  },
  {
   "cell_type": "code",
   "execution_count": 253,
   "metadata": {},
   "outputs": [
    {
     "data": {
      "text/plain": [
       "array([23.5760263 , 16.79882503, 19.12220772, 19.6395567 , 17.61916019,\n",
       "       27.08435867, 24.07462043, 19.71430796, 22.31903569, 17.18404996,\n",
       "       20.62257784, 18.73149908, 15.43085059, 17.63149464, 15.61024759,\n",
       "       27.50204993, 18.0613278 , 17.3420513 , 13.7758441 , 18.11009584,\n",
       "       18.58872054, 20.77143485, 23.43289182, 16.76418682, 20.64271669,\n",
       "       20.86453934, 24.83158898, 19.12729593, 14.15622028, 19.47954688,\n",
       "       20.54984017, 25.44677277, 23.71662871, 20.78748684, 17.2684207 ,\n",
       "       10.24324051, 26.29502449, 15.38169909, 15.26890634, 16.57085832,\n",
       "       21.45590068, 22.45434661, 23.26607   , 18.80753039, 23.63279692,\n",
       "       22.88442576, 18.24663889, 13.84441865, 14.69325164, 25.07329484,\n",
       "       11.27295747, 21.49711261, 12.53884877, 19.25815085, 18.70516594,\n",
       "       13.73849767, 24.6867474 , 22.0666507 , 22.44825184, 19.24877916,\n",
       "       23.32874855, 20.01723892, 26.14793179, 26.61979644, 11.93340922,\n",
       "       28.20949427, 22.34678392, 24.71970967, 22.14044551, 15.36279326,\n",
       "       26.92228749, 18.61955022, 15.16795383, 19.73775842, 19.21223017,\n",
       "       17.16456085, 15.5404141 , 20.78029283, 14.21988007, 19.27895506,\n",
       "       17.50771364, 18.59345062, 16.52600523, 20.52807313, 13.82971401,\n",
       "       17.19380273, 23.93011988, 13.3081822 , 14.78473268, 16.72670909,\n",
       "       16.73732901, 16.46081073, 18.43249292, 28.87287126, 20.79422524,\n",
       "       16.92910729, 15.75728125, 18.13881692, 18.74206632, 15.36498689])"
      ]
     },
     "execution_count": 253,
     "metadata": {},
     "output_type": "execute_result"
    }
   ],
   "source": [
    "x"
   ]
  },
  {
   "cell_type": "code",
   "execution_count": 261,
   "metadata": {},
   "outputs": [
    {
     "data": {
      "text/plain": [
       "array([5.26384771e-02, 2.43942226e-02, 1.60938492e-02, 2.39678247e-03,\n",
       "       6.73799286e-02, 9.51200078e-02, 4.06699755e-02, 3.54215096e-04,\n",
       "       5.66261943e-03, 6.27072490e-03, 1.74688499e-03, 1.97374858e-02,\n",
       "       9.14836003e-02, 2.05559917e-02, 2.54021668e-02, 9.62384461e-02,\n",
       "       1.96400422e-03, 6.50010529e-02, 9.17846120e-04, 7.57281860e-02,\n",
       "       6.50674199e-03, 2.53492546e-02, 1.69957805e-02, 2.01299981e-01,\n",
       "       2.43322944e-02, 4.39161980e-02, 3.68655612e-02, 7.23330032e-02,\n",
       "       2.68554131e-02, 2.29238581e-02, 5.84658838e-02, 6.68724234e-04,\n",
       "       1.41937265e-02, 5.03866730e-02, 9.12737533e-02, 1.96826738e-02,\n",
       "       5.41070451e-03, 2.54969367e-02, 1.84505643e-02, 1.46153556e-02,\n",
       "       2.84307862e-01, 6.73919760e-02, 9.32791065e-02, 6.67424793e-02,\n",
       "       7.49627660e-02, 1.47158847e-01, 1.61475096e-02, 1.73896841e-01,\n",
       "       1.54019843e-01, 9.31356537e-04, 5.65401264e-02, 6.25147003e-02,\n",
       "       5.63604183e-02, 4.85486440e-02, 7.98399671e-02, 4.62967466e-02,\n",
       "       4.50634982e-02, 7.07127680e-02, 4.27721988e-02, 2.51124007e-02,\n",
       "       3.08383183e-02, 4.06647169e-02, 3.99030734e-03, 9.17770781e-02,\n",
       "       1.67839608e-03, 3.46683209e-02, 9.76274954e-02, 3.96016937e-02,\n",
       "       2.52506716e-02, 2.24721850e-02, 1.69260169e-02, 3.38352586e-02,\n",
       "       1.79539411e-03, 1.17096382e-01, 1.69752746e-02, 8.44890268e-03,\n",
       "       9.34008019e-02, 1.18113193e-02, 9.24966342e-02, 2.59622126e-04,\n",
       "       7.70633153e-02, 4.14369420e-03, 3.32878219e-02, 1.70605918e-04,\n",
       "       1.02787846e-01, 6.04730481e-02, 2.44520682e-02, 5.11536513e-04,\n",
       "       9.96457573e-03, 1.28097122e-03, 9.77811025e-03, 1.61523709e-01,\n",
       "       6.40959203e-03, 1.38633070e-01, 7.77880690e-02, 4.75681313e-03,\n",
       "       1.21920578e-02, 8.64691731e-03, 5.67064313e-02, 3.33548682e-02])"
      ]
     },
     "execution_count": 261,
     "metadata": {},
     "output_type": "execute_result"
    }
   ],
   "source": [
    "stats.expon.rvs(loc=0, scale=1/20, size=100, random_state=None)"
   ]
  },
  {
   "cell_type": "code",
   "execution_count": null,
   "metadata": {},
   "outputs": [],
   "source": []
  }
 ],
 "metadata": {
  "kernelspec": {
   "display_name": "Python [default]",
   "language": "python",
   "name": "python3"
  },
  "language_info": {
   "codemirror_mode": {
    "name": "ipython",
    "version": 3
   },
   "file_extension": ".py",
   "mimetype": "text/x-python",
   "name": "python",
   "nbconvert_exporter": "python",
   "pygments_lexer": "ipython3",
   "version": "3.6.6"
  }
 },
 "nbformat": 4,
 "nbformat_minor": 2
}
